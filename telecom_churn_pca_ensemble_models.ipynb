{
 "cells": [
  {
   "cell_type": "markdown",
   "id": "85815f8b",
   "metadata": {},
   "source": [
    "# Telecom Churn case study using PCA and Ensemble\n",
    "\n",
    "### Problem Statement\n",
    "In the telecom industry, customers are able to choose from multiple service providers and actively switch from one operator to another. In this highly competitive market, the telecommunications industry experiences an average of 15-25% annual churn rate. Given the fact that it costs 5-10 times more to acquire a new customer than to retain an existing one, customer retention has now become even more important than customer acquisition.\n",
    "\n",
    "For many incumbent operators, retaining high profitable customers is the number one business\n",
    "goal. To reduce customer churn, telecom companies need to predict which customers are at high risk of churn. In this project, you will analyze customer-level data of a leading telecom firm, build predictive models to identify customers at high risk of churn.\n",
    "\n",
    "In this competition, your goal is to build a machine learning model that is able to predict churning customers based on the features provided for their usage.\n",
    "\n",
    "### Goal\n",
    "It is your job to predict if a customer will churn, given the ~170 columns containing customer behavior, usage patterns, payment patterns, and other features that might be relevant. Your target variable is \"churn_probability\"\n",
    "Note: Make sure your accuracy is greater than the sample submission that is present in the leaderboard"
   ]
  },
  {
   "cell_type": "code",
   "execution_count": 1,
   "id": "a5dfb968",
   "metadata": {},
   "outputs": [],
   "source": [
    "import matplotlib.pyplot as plt\n",
    "import numpy as np\n",
    "import pandas as pd\n",
    "import seaborn as sns\n",
    "import statsmodels.api as sm\n",
    "import warnings\n",
    "\n",
    "from sklearn import metrics\n",
    "from sklearn.decomposition import IncrementalPCA\n",
    "from sklearn.decomposition import PCA\n",
    "from sklearn.ensemble import RandomForestClassifier\n",
    "from sklearn.feature_selection import RFE\n",
    "from sklearn.linear_model import LinearRegression\n",
    "from sklearn.linear_model import LogisticRegression\n",
    "from sklearn.linear_model import Lasso\n",
    "from sklearn.linear_model import Ridge\n",
    "from sklearn.model_selection import GridSearchCV\n",
    "from sklearn.model_selection import RandomizedSearchCV\n",
    "from sklearn.model_selection import train_test_split\n",
    "from sklearn.metrics import accuracy_score\n",
    "from sklearn.metrics import classification_report\n",
    "from sklearn.metrics import confusion_matrix\n",
    "from sklearn.metrics import mean_squared_error\n",
    "from sklearn.metrics import r2_score\n",
    "from sklearn.preprocessing import MinMaxScaler\n",
    "\n",
    "# to ignore the warnings\n",
    "warnings.filterwarnings('ignore')"
   ]
  },
  {
   "cell_type": "markdown",
   "id": "0db327e7",
   "metadata": {},
   "source": [
    "## Step 1. Reading, Understanding and Visualizing the data"
   ]
  },
  {
   "cell_type": "code",
   "execution_count": 2,
   "id": "75b4d852",
   "metadata": {},
   "outputs": [],
   "source": [
    "telecom_train_df = pd.read_csv('train (1).csv')\n",
    "telecom_test_df = pd.read_csv('test (1).csv')\n",
    "telecom_test_sol_df = pd.read_csv('solution (1).csv')"
   ]
  },
  {
   "cell_type": "code",
   "execution_count": 3,
   "id": "aafd7bff",
   "metadata": {},
   "outputs": [
    {
     "data": {
      "text/html": [
       "<div>\n",
       "<style scoped>\n",
       "    .dataframe tbody tr th:only-of-type {\n",
       "        vertical-align: middle;\n",
       "    }\n",
       "\n",
       "    .dataframe tbody tr th {\n",
       "        vertical-align: top;\n",
       "    }\n",
       "\n",
       "    .dataframe thead th {\n",
       "        text-align: right;\n",
       "    }\n",
       "</style>\n",
       "<table border=\"1\" class=\"dataframe\">\n",
       "  <thead>\n",
       "    <tr style=\"text-align: right;\">\n",
       "      <th></th>\n",
       "      <th>id</th>\n",
       "      <th>circle_id</th>\n",
       "      <th>loc_og_t2o_mou</th>\n",
       "      <th>std_og_t2o_mou</th>\n",
       "      <th>loc_ic_t2o_mou</th>\n",
       "      <th>last_date_of_month_6</th>\n",
       "      <th>last_date_of_month_7</th>\n",
       "      <th>last_date_of_month_8</th>\n",
       "      <th>arpu_6</th>\n",
       "      <th>arpu_7</th>\n",
       "      <th>...</th>\n",
       "      <th>sachet_3g_7</th>\n",
       "      <th>sachet_3g_8</th>\n",
       "      <th>fb_user_6</th>\n",
       "      <th>fb_user_7</th>\n",
       "      <th>fb_user_8</th>\n",
       "      <th>aon</th>\n",
       "      <th>aug_vbc_3g</th>\n",
       "      <th>jul_vbc_3g</th>\n",
       "      <th>jun_vbc_3g</th>\n",
       "      <th>churn_probability</th>\n",
       "    </tr>\n",
       "  </thead>\n",
       "  <tbody>\n",
       "    <tr>\n",
       "      <th>0</th>\n",
       "      <td>0</td>\n",
       "      <td>109</td>\n",
       "      <td>0.0</td>\n",
       "      <td>0.0</td>\n",
       "      <td>0.0</td>\n",
       "      <td>6/30/2014</td>\n",
       "      <td>7/31/2014</td>\n",
       "      <td>8/31/2014</td>\n",
       "      <td>31.277</td>\n",
       "      <td>87.009</td>\n",
       "      <td>...</td>\n",
       "      <td>0</td>\n",
       "      <td>0</td>\n",
       "      <td>NaN</td>\n",
       "      <td>NaN</td>\n",
       "      <td>NaN</td>\n",
       "      <td>1958</td>\n",
       "      <td>0.0</td>\n",
       "      <td>0.0</td>\n",
       "      <td>0.0</td>\n",
       "      <td>0</td>\n",
       "    </tr>\n",
       "    <tr>\n",
       "      <th>1</th>\n",
       "      <td>1</td>\n",
       "      <td>109</td>\n",
       "      <td>0.0</td>\n",
       "      <td>0.0</td>\n",
       "      <td>0.0</td>\n",
       "      <td>6/30/2014</td>\n",
       "      <td>7/31/2014</td>\n",
       "      <td>8/31/2014</td>\n",
       "      <td>0.000</td>\n",
       "      <td>122.787</td>\n",
       "      <td>...</td>\n",
       "      <td>0</td>\n",
       "      <td>0</td>\n",
       "      <td>NaN</td>\n",
       "      <td>1.0</td>\n",
       "      <td>NaN</td>\n",
       "      <td>710</td>\n",
       "      <td>0.0</td>\n",
       "      <td>0.0</td>\n",
       "      <td>0.0</td>\n",
       "      <td>0</td>\n",
       "    </tr>\n",
       "    <tr>\n",
       "      <th>2</th>\n",
       "      <td>2</td>\n",
       "      <td>109</td>\n",
       "      <td>0.0</td>\n",
       "      <td>0.0</td>\n",
       "      <td>0.0</td>\n",
       "      <td>6/30/2014</td>\n",
       "      <td>7/31/2014</td>\n",
       "      <td>8/31/2014</td>\n",
       "      <td>60.806</td>\n",
       "      <td>103.176</td>\n",
       "      <td>...</td>\n",
       "      <td>0</td>\n",
       "      <td>0</td>\n",
       "      <td>NaN</td>\n",
       "      <td>NaN</td>\n",
       "      <td>NaN</td>\n",
       "      <td>882</td>\n",
       "      <td>0.0</td>\n",
       "      <td>0.0</td>\n",
       "      <td>0.0</td>\n",
       "      <td>0</td>\n",
       "    </tr>\n",
       "    <tr>\n",
       "      <th>3</th>\n",
       "      <td>3</td>\n",
       "      <td>109</td>\n",
       "      <td>0.0</td>\n",
       "      <td>0.0</td>\n",
       "      <td>0.0</td>\n",
       "      <td>6/30/2014</td>\n",
       "      <td>7/31/2014</td>\n",
       "      <td>8/31/2014</td>\n",
       "      <td>156.362</td>\n",
       "      <td>205.260</td>\n",
       "      <td>...</td>\n",
       "      <td>0</td>\n",
       "      <td>0</td>\n",
       "      <td>NaN</td>\n",
       "      <td>NaN</td>\n",
       "      <td>NaN</td>\n",
       "      <td>982</td>\n",
       "      <td>0.0</td>\n",
       "      <td>0.0</td>\n",
       "      <td>0.0</td>\n",
       "      <td>0</td>\n",
       "    </tr>\n",
       "    <tr>\n",
       "      <th>4</th>\n",
       "      <td>4</td>\n",
       "      <td>109</td>\n",
       "      <td>0.0</td>\n",
       "      <td>0.0</td>\n",
       "      <td>0.0</td>\n",
       "      <td>6/30/2014</td>\n",
       "      <td>7/31/2014</td>\n",
       "      <td>8/31/2014</td>\n",
       "      <td>240.708</td>\n",
       "      <td>128.191</td>\n",
       "      <td>...</td>\n",
       "      <td>1</td>\n",
       "      <td>0</td>\n",
       "      <td>1.0</td>\n",
       "      <td>1.0</td>\n",
       "      <td>1.0</td>\n",
       "      <td>647</td>\n",
       "      <td>0.0</td>\n",
       "      <td>0.0</td>\n",
       "      <td>0.0</td>\n",
       "      <td>0</td>\n",
       "    </tr>\n",
       "  </tbody>\n",
       "</table>\n",
       "<p>5 rows × 172 columns</p>\n",
       "</div>"
      ],
      "text/plain": [
       "   id  circle_id  loc_og_t2o_mou  std_og_t2o_mou  loc_ic_t2o_mou  \\\n",
       "0   0        109             0.0             0.0             0.0   \n",
       "1   1        109             0.0             0.0             0.0   \n",
       "2   2        109             0.0             0.0             0.0   \n",
       "3   3        109             0.0             0.0             0.0   \n",
       "4   4        109             0.0             0.0             0.0   \n",
       "\n",
       "  last_date_of_month_6 last_date_of_month_7 last_date_of_month_8   arpu_6  \\\n",
       "0            6/30/2014            7/31/2014            8/31/2014   31.277   \n",
       "1            6/30/2014            7/31/2014            8/31/2014    0.000   \n",
       "2            6/30/2014            7/31/2014            8/31/2014   60.806   \n",
       "3            6/30/2014            7/31/2014            8/31/2014  156.362   \n",
       "4            6/30/2014            7/31/2014            8/31/2014  240.708   \n",
       "\n",
       "    arpu_7  ...  sachet_3g_7  sachet_3g_8  fb_user_6  fb_user_7  fb_user_8  \\\n",
       "0   87.009  ...            0            0        NaN        NaN        NaN   \n",
       "1  122.787  ...            0            0        NaN        1.0        NaN   \n",
       "2  103.176  ...            0            0        NaN        NaN        NaN   \n",
       "3  205.260  ...            0            0        NaN        NaN        NaN   \n",
       "4  128.191  ...            1            0        1.0        1.0        1.0   \n",
       "\n",
       "    aon  aug_vbc_3g  jul_vbc_3g  jun_vbc_3g  churn_probability  \n",
       "0  1958         0.0         0.0         0.0                  0  \n",
       "1   710         0.0         0.0         0.0                  0  \n",
       "2   882         0.0         0.0         0.0                  0  \n",
       "3   982         0.0         0.0         0.0                  0  \n",
       "4   647         0.0         0.0         0.0                  0  \n",
       "\n",
       "[5 rows x 172 columns]"
      ]
     },
     "execution_count": 3,
     "metadata": {},
     "output_type": "execute_result"
    }
   ],
   "source": [
    "telecom_train_df.head()"
   ]
  },
  {
   "cell_type": "code",
   "execution_count": 4,
   "id": "08ff9072",
   "metadata": {},
   "outputs": [
    {
     "data": {
      "text/html": [
       "<div>\n",
       "<style scoped>\n",
       "    .dataframe tbody tr th:only-of-type {\n",
       "        vertical-align: middle;\n",
       "    }\n",
       "\n",
       "    .dataframe tbody tr th {\n",
       "        vertical-align: top;\n",
       "    }\n",
       "\n",
       "    .dataframe thead th {\n",
       "        text-align: right;\n",
       "    }\n",
       "</style>\n",
       "<table border=\"1\" class=\"dataframe\">\n",
       "  <thead>\n",
       "    <tr style=\"text-align: right;\">\n",
       "      <th></th>\n",
       "      <th>id</th>\n",
       "      <th>circle_id</th>\n",
       "      <th>loc_og_t2o_mou</th>\n",
       "      <th>std_og_t2o_mou</th>\n",
       "      <th>loc_ic_t2o_mou</th>\n",
       "      <th>last_date_of_month_6</th>\n",
       "      <th>last_date_of_month_7</th>\n",
       "      <th>last_date_of_month_8</th>\n",
       "      <th>arpu_6</th>\n",
       "      <th>arpu_7</th>\n",
       "      <th>...</th>\n",
       "      <th>sachet_3g_6</th>\n",
       "      <th>sachet_3g_7</th>\n",
       "      <th>sachet_3g_8</th>\n",
       "      <th>fb_user_6</th>\n",
       "      <th>fb_user_7</th>\n",
       "      <th>fb_user_8</th>\n",
       "      <th>aon</th>\n",
       "      <th>aug_vbc_3g</th>\n",
       "      <th>jul_vbc_3g</th>\n",
       "      <th>jun_vbc_3g</th>\n",
       "    </tr>\n",
       "  </thead>\n",
       "  <tbody>\n",
       "    <tr>\n",
       "      <th>0</th>\n",
       "      <td>69999</td>\n",
       "      <td>109</td>\n",
       "      <td>0.0</td>\n",
       "      <td>0.0</td>\n",
       "      <td>0.0</td>\n",
       "      <td>6/30/2014</td>\n",
       "      <td>7/31/2014</td>\n",
       "      <td>8/31/2014</td>\n",
       "      <td>91.882</td>\n",
       "      <td>65.330</td>\n",
       "      <td>...</td>\n",
       "      <td>0</td>\n",
       "      <td>0</td>\n",
       "      <td>0</td>\n",
       "      <td>NaN</td>\n",
       "      <td>NaN</td>\n",
       "      <td>NaN</td>\n",
       "      <td>1692</td>\n",
       "      <td>0.00</td>\n",
       "      <td>0.00</td>\n",
       "      <td>0.00</td>\n",
       "    </tr>\n",
       "    <tr>\n",
       "      <th>1</th>\n",
       "      <td>70000</td>\n",
       "      <td>109</td>\n",
       "      <td>0.0</td>\n",
       "      <td>0.0</td>\n",
       "      <td>0.0</td>\n",
       "      <td>6/30/2014</td>\n",
       "      <td>7/31/2014</td>\n",
       "      <td>8/31/2014</td>\n",
       "      <td>414.168</td>\n",
       "      <td>515.568</td>\n",
       "      <td>...</td>\n",
       "      <td>0</td>\n",
       "      <td>0</td>\n",
       "      <td>0</td>\n",
       "      <td>NaN</td>\n",
       "      <td>NaN</td>\n",
       "      <td>NaN</td>\n",
       "      <td>2533</td>\n",
       "      <td>0.00</td>\n",
       "      <td>0.00</td>\n",
       "      <td>0.00</td>\n",
       "    </tr>\n",
       "    <tr>\n",
       "      <th>2</th>\n",
       "      <td>70001</td>\n",
       "      <td>109</td>\n",
       "      <td>0.0</td>\n",
       "      <td>0.0</td>\n",
       "      <td>0.0</td>\n",
       "      <td>6/30/2014</td>\n",
       "      <td>7/31/2014</td>\n",
       "      <td>8/31/2014</td>\n",
       "      <td>329.844</td>\n",
       "      <td>434.884</td>\n",
       "      <td>...</td>\n",
       "      <td>0</td>\n",
       "      <td>0</td>\n",
       "      <td>0</td>\n",
       "      <td>NaN</td>\n",
       "      <td>NaN</td>\n",
       "      <td>NaN</td>\n",
       "      <td>277</td>\n",
       "      <td>525.61</td>\n",
       "      <td>758.41</td>\n",
       "      <td>241.84</td>\n",
       "    </tr>\n",
       "    <tr>\n",
       "      <th>3</th>\n",
       "      <td>70002</td>\n",
       "      <td>109</td>\n",
       "      <td>0.0</td>\n",
       "      <td>0.0</td>\n",
       "      <td>0.0</td>\n",
       "      <td>6/30/2014</td>\n",
       "      <td>7/31/2014</td>\n",
       "      <td>8/31/2014</td>\n",
       "      <td>43.550</td>\n",
       "      <td>171.390</td>\n",
       "      <td>...</td>\n",
       "      <td>0</td>\n",
       "      <td>0</td>\n",
       "      <td>0</td>\n",
       "      <td>NaN</td>\n",
       "      <td>NaN</td>\n",
       "      <td>NaN</td>\n",
       "      <td>1244</td>\n",
       "      <td>0.00</td>\n",
       "      <td>0.00</td>\n",
       "      <td>0.00</td>\n",
       "    </tr>\n",
       "    <tr>\n",
       "      <th>4</th>\n",
       "      <td>70003</td>\n",
       "      <td>109</td>\n",
       "      <td>0.0</td>\n",
       "      <td>0.0</td>\n",
       "      <td>0.0</td>\n",
       "      <td>6/30/2014</td>\n",
       "      <td>7/31/2014</td>\n",
       "      <td>8/31/2014</td>\n",
       "      <td>306.854</td>\n",
       "      <td>406.289</td>\n",
       "      <td>...</td>\n",
       "      <td>0</td>\n",
       "      <td>0</td>\n",
       "      <td>0</td>\n",
       "      <td>NaN</td>\n",
       "      <td>NaN</td>\n",
       "      <td>NaN</td>\n",
       "      <td>462</td>\n",
       "      <td>0.00</td>\n",
       "      <td>0.00</td>\n",
       "      <td>0.00</td>\n",
       "    </tr>\n",
       "  </tbody>\n",
       "</table>\n",
       "<p>5 rows × 171 columns</p>\n",
       "</div>"
      ],
      "text/plain": [
       "      id  circle_id  loc_og_t2o_mou  std_og_t2o_mou  loc_ic_t2o_mou  \\\n",
       "0  69999        109             0.0             0.0             0.0   \n",
       "1  70000        109             0.0             0.0             0.0   \n",
       "2  70001        109             0.0             0.0             0.0   \n",
       "3  70002        109             0.0             0.0             0.0   \n",
       "4  70003        109             0.0             0.0             0.0   \n",
       "\n",
       "  last_date_of_month_6 last_date_of_month_7 last_date_of_month_8   arpu_6  \\\n",
       "0            6/30/2014            7/31/2014            8/31/2014   91.882   \n",
       "1            6/30/2014            7/31/2014            8/31/2014  414.168   \n",
       "2            6/30/2014            7/31/2014            8/31/2014  329.844   \n",
       "3            6/30/2014            7/31/2014            8/31/2014   43.550   \n",
       "4            6/30/2014            7/31/2014            8/31/2014  306.854   \n",
       "\n",
       "    arpu_7  ...  sachet_3g_6  sachet_3g_7  sachet_3g_8  fb_user_6  fb_user_7  \\\n",
       "0   65.330  ...            0            0            0        NaN        NaN   \n",
       "1  515.568  ...            0            0            0        NaN        NaN   \n",
       "2  434.884  ...            0            0            0        NaN        NaN   \n",
       "3  171.390  ...            0            0            0        NaN        NaN   \n",
       "4  406.289  ...            0            0            0        NaN        NaN   \n",
       "\n",
       "   fb_user_8   aon  aug_vbc_3g  jul_vbc_3g  jun_vbc_3g  \n",
       "0        NaN  1692        0.00        0.00        0.00  \n",
       "1        NaN  2533        0.00        0.00        0.00  \n",
       "2        NaN   277      525.61      758.41      241.84  \n",
       "3        NaN  1244        0.00        0.00        0.00  \n",
       "4        NaN   462        0.00        0.00        0.00  \n",
       "\n",
       "[5 rows x 171 columns]"
      ]
     },
     "execution_count": 4,
     "metadata": {},
     "output_type": "execute_result"
    }
   ],
   "source": [
    "telecom_test_df.head()"
   ]
  },
  {
   "cell_type": "code",
   "execution_count": 5,
   "id": "c21a3f03",
   "metadata": {},
   "outputs": [
    {
     "data": {
      "text/html": [
       "<div>\n",
       "<style scoped>\n",
       "    .dataframe tbody tr th:only-of-type {\n",
       "        vertical-align: middle;\n",
       "    }\n",
       "\n",
       "    .dataframe tbody tr th {\n",
       "        vertical-align: top;\n",
       "    }\n",
       "\n",
       "    .dataframe thead th {\n",
       "        text-align: right;\n",
       "    }\n",
       "</style>\n",
       "<table border=\"1\" class=\"dataframe\">\n",
       "  <thead>\n",
       "    <tr style=\"text-align: right;\">\n",
       "      <th></th>\n",
       "      <th>id</th>\n",
       "      <th>churn_probability</th>\n",
       "    </tr>\n",
       "  </thead>\n",
       "  <tbody>\n",
       "    <tr>\n",
       "      <th>0</th>\n",
       "      <td>69999</td>\n",
       "      <td>0</td>\n",
       "    </tr>\n",
       "    <tr>\n",
       "      <th>1</th>\n",
       "      <td>70000</td>\n",
       "      <td>0</td>\n",
       "    </tr>\n",
       "    <tr>\n",
       "      <th>2</th>\n",
       "      <td>70001</td>\n",
       "      <td>1</td>\n",
       "    </tr>\n",
       "    <tr>\n",
       "      <th>3</th>\n",
       "      <td>70002</td>\n",
       "      <td>0</td>\n",
       "    </tr>\n",
       "    <tr>\n",
       "      <th>4</th>\n",
       "      <td>70003</td>\n",
       "      <td>0</td>\n",
       "    </tr>\n",
       "  </tbody>\n",
       "</table>\n",
       "</div>"
      ],
      "text/plain": [
       "      id  churn_probability\n",
       "0  69999                  0\n",
       "1  70000                  0\n",
       "2  70001                  1\n",
       "3  70002                  0\n",
       "4  70003                  0"
      ]
     },
     "execution_count": 5,
     "metadata": {},
     "output_type": "execute_result"
    }
   ],
   "source": [
    "telecom_test_sol_df.head()"
   ]
  },
  {
   "cell_type": "code",
   "execution_count": 6,
   "id": "9b3eee97",
   "metadata": {},
   "outputs": [
    {
     "data": {
      "text/plain": [
       "(69999, 172)"
      ]
     },
     "execution_count": 6,
     "metadata": {},
     "output_type": "execute_result"
    }
   ],
   "source": [
    "telecom_train_df.shape"
   ]
  },
  {
   "cell_type": "code",
   "execution_count": 7,
   "id": "ade9e8ac",
   "metadata": {},
   "outputs": [
    {
     "data": {
      "text/plain": [
       "(30000, 171)"
      ]
     },
     "execution_count": 7,
     "metadata": {},
     "output_type": "execute_result"
    }
   ],
   "source": [
    "telecom_test_df.shape"
   ]
  },
  {
   "cell_type": "code",
   "execution_count": 8,
   "id": "6d5176fa",
   "metadata": {},
   "outputs": [
    {
     "data": {
      "text/plain": [
       "Index(['id', 'circle_id', 'loc_og_t2o_mou', 'std_og_t2o_mou', 'loc_ic_t2o_mou',\n",
       "       'last_date_of_month_6', 'last_date_of_month_7', 'last_date_of_month_8',\n",
       "       'arpu_6', 'arpu_7',\n",
       "       ...\n",
       "       'sachet_3g_7', 'sachet_3g_8', 'fb_user_6', 'fb_user_7', 'fb_user_8',\n",
       "       'aon', 'aug_vbc_3g', 'jul_vbc_3g', 'jun_vbc_3g', 'churn_probability'],\n",
       "      dtype='object', length=172)"
      ]
     },
     "execution_count": 8,
     "metadata": {},
     "output_type": "execute_result"
    }
   ],
   "source": [
    "telecom_train_df.columns"
   ]
  },
  {
   "cell_type": "code",
   "execution_count": 9,
   "id": "8cd748c3",
   "metadata": {},
   "outputs": [
    {
     "name": "stdout",
     "output_type": "stream",
     "text": [
      "<class 'pandas.core.frame.DataFrame'>\n",
      "RangeIndex: 69999 entries, 0 to 69998\n",
      "Columns: 172 entries, id to churn_probability\n",
      "dtypes: float64(135), int64(28), object(9)\n",
      "memory usage: 91.9+ MB\n"
     ]
    }
   ],
   "source": [
    "telecom_train_df.info()"
   ]
  },
  {
   "cell_type": "code",
   "execution_count": 10,
   "id": "6803651e",
   "metadata": {},
   "outputs": [
    {
     "data": {
      "text/html": [
       "<div>\n",
       "<style scoped>\n",
       "    .dataframe tbody tr th:only-of-type {\n",
       "        vertical-align: middle;\n",
       "    }\n",
       "\n",
       "    .dataframe tbody tr th {\n",
       "        vertical-align: top;\n",
       "    }\n",
       "\n",
       "    .dataframe thead th {\n",
       "        text-align: right;\n",
       "    }\n",
       "</style>\n",
       "<table border=\"1\" class=\"dataframe\">\n",
       "  <thead>\n",
       "    <tr style=\"text-align: right;\">\n",
       "      <th></th>\n",
       "      <th>id</th>\n",
       "      <th>circle_id</th>\n",
       "      <th>loc_og_t2o_mou</th>\n",
       "      <th>std_og_t2o_mou</th>\n",
       "      <th>loc_ic_t2o_mou</th>\n",
       "      <th>arpu_6</th>\n",
       "      <th>arpu_7</th>\n",
       "      <th>arpu_8</th>\n",
       "      <th>onnet_mou_6</th>\n",
       "      <th>onnet_mou_7</th>\n",
       "      <th>...</th>\n",
       "      <th>sachet_3g_7</th>\n",
       "      <th>sachet_3g_8</th>\n",
       "      <th>fb_user_6</th>\n",
       "      <th>fb_user_7</th>\n",
       "      <th>fb_user_8</th>\n",
       "      <th>aon</th>\n",
       "      <th>aug_vbc_3g</th>\n",
       "      <th>jul_vbc_3g</th>\n",
       "      <th>jun_vbc_3g</th>\n",
       "      <th>churn_probability</th>\n",
       "    </tr>\n",
       "  </thead>\n",
       "  <tbody>\n",
       "    <tr>\n",
       "      <th>count</th>\n",
       "      <td>69999.000000</td>\n",
       "      <td>69999.0</td>\n",
       "      <td>69297.0</td>\n",
       "      <td>69297.0</td>\n",
       "      <td>69297.0</td>\n",
       "      <td>69999.000000</td>\n",
       "      <td>69999.000000</td>\n",
       "      <td>69999.000000</td>\n",
       "      <td>67231.000000</td>\n",
       "      <td>67312.000000</td>\n",
       "      <td>...</td>\n",
       "      <td>69999.000000</td>\n",
       "      <td>69999.000000</td>\n",
       "      <td>17568.000000</td>\n",
       "      <td>17865.000000</td>\n",
       "      <td>18417.000000</td>\n",
       "      <td>69999.000000</td>\n",
       "      <td>69999.000000</td>\n",
       "      <td>69999.000000</td>\n",
       "      <td>69999.00000</td>\n",
       "      <td>69999.000000</td>\n",
       "    </tr>\n",
       "    <tr>\n",
       "      <th>mean</th>\n",
       "      <td>34999.000000</td>\n",
       "      <td>109.0</td>\n",
       "      <td>0.0</td>\n",
       "      <td>0.0</td>\n",
       "      <td>0.0</td>\n",
       "      <td>283.134365</td>\n",
       "      <td>278.185912</td>\n",
       "      <td>278.858826</td>\n",
       "      <td>133.153275</td>\n",
       "      <td>133.894438</td>\n",
       "      <td>...</td>\n",
       "      <td>0.081444</td>\n",
       "      <td>0.085487</td>\n",
       "      <td>0.916325</td>\n",
       "      <td>0.909544</td>\n",
       "      <td>0.890319</td>\n",
       "      <td>1220.639709</td>\n",
       "      <td>68.108597</td>\n",
       "      <td>65.935830</td>\n",
       "      <td>60.07674</td>\n",
       "      <td>0.101887</td>\n",
       "    </tr>\n",
       "    <tr>\n",
       "      <th>std</th>\n",
       "      <td>20207.115084</td>\n",
       "      <td>0.0</td>\n",
       "      <td>0.0</td>\n",
       "      <td>0.0</td>\n",
       "      <td>0.0</td>\n",
       "      <td>334.213918</td>\n",
       "      <td>344.366927</td>\n",
       "      <td>351.924315</td>\n",
       "      <td>299.963093</td>\n",
       "      <td>311.277193</td>\n",
       "      <td>...</td>\n",
       "      <td>0.634547</td>\n",
       "      <td>0.680035</td>\n",
       "      <td>0.276907</td>\n",
       "      <td>0.286842</td>\n",
       "      <td>0.312501</td>\n",
       "      <td>952.426321</td>\n",
       "      <td>269.328659</td>\n",
       "      <td>267.899034</td>\n",
       "      <td>257.22681</td>\n",
       "      <td>0.302502</td>\n",
       "    </tr>\n",
       "    <tr>\n",
       "      <th>min</th>\n",
       "      <td>0.000000</td>\n",
       "      <td>109.0</td>\n",
       "      <td>0.0</td>\n",
       "      <td>0.0</td>\n",
       "      <td>0.0</td>\n",
       "      <td>-2258.709000</td>\n",
       "      <td>-1289.715000</td>\n",
       "      <td>-945.808000</td>\n",
       "      <td>0.000000</td>\n",
       "      <td>0.000000</td>\n",
       "      <td>...</td>\n",
       "      <td>0.000000</td>\n",
       "      <td>0.000000</td>\n",
       "      <td>0.000000</td>\n",
       "      <td>0.000000</td>\n",
       "      <td>0.000000</td>\n",
       "      <td>180.000000</td>\n",
       "      <td>0.000000</td>\n",
       "      <td>0.000000</td>\n",
       "      <td>0.00000</td>\n",
       "      <td>0.000000</td>\n",
       "    </tr>\n",
       "    <tr>\n",
       "      <th>25%</th>\n",
       "      <td>17499.500000</td>\n",
       "      <td>109.0</td>\n",
       "      <td>0.0</td>\n",
       "      <td>0.0</td>\n",
       "      <td>0.0</td>\n",
       "      <td>93.581000</td>\n",
       "      <td>86.714000</td>\n",
       "      <td>84.095000</td>\n",
       "      <td>7.410000</td>\n",
       "      <td>6.675000</td>\n",
       "      <td>...</td>\n",
       "      <td>0.000000</td>\n",
       "      <td>0.000000</td>\n",
       "      <td>1.000000</td>\n",
       "      <td>1.000000</td>\n",
       "      <td>1.000000</td>\n",
       "      <td>468.000000</td>\n",
       "      <td>0.000000</td>\n",
       "      <td>0.000000</td>\n",
       "      <td>0.00000</td>\n",
       "      <td>0.000000</td>\n",
       "    </tr>\n",
       "    <tr>\n",
       "      <th>50%</th>\n",
       "      <td>34999.000000</td>\n",
       "      <td>109.0</td>\n",
       "      <td>0.0</td>\n",
       "      <td>0.0</td>\n",
       "      <td>0.0</td>\n",
       "      <td>197.484000</td>\n",
       "      <td>191.588000</td>\n",
       "      <td>192.234000</td>\n",
       "      <td>34.110000</td>\n",
       "      <td>32.280000</td>\n",
       "      <td>...</td>\n",
       "      <td>0.000000</td>\n",
       "      <td>0.000000</td>\n",
       "      <td>1.000000</td>\n",
       "      <td>1.000000</td>\n",
       "      <td>1.000000</td>\n",
       "      <td>868.000000</td>\n",
       "      <td>0.000000</td>\n",
       "      <td>0.000000</td>\n",
       "      <td>0.00000</td>\n",
       "      <td>0.000000</td>\n",
       "    </tr>\n",
       "    <tr>\n",
       "      <th>75%</th>\n",
       "      <td>52498.500000</td>\n",
       "      <td>109.0</td>\n",
       "      <td>0.0</td>\n",
       "      <td>0.0</td>\n",
       "      <td>0.0</td>\n",
       "      <td>370.791000</td>\n",
       "      <td>365.369500</td>\n",
       "      <td>369.909000</td>\n",
       "      <td>119.390000</td>\n",
       "      <td>115.837500</td>\n",
       "      <td>...</td>\n",
       "      <td>0.000000</td>\n",
       "      <td>0.000000</td>\n",
       "      <td>1.000000</td>\n",
       "      <td>1.000000</td>\n",
       "      <td>1.000000</td>\n",
       "      <td>1813.000000</td>\n",
       "      <td>0.000000</td>\n",
       "      <td>0.000000</td>\n",
       "      <td>0.00000</td>\n",
       "      <td>0.000000</td>\n",
       "    </tr>\n",
       "    <tr>\n",
       "      <th>max</th>\n",
       "      <td>69998.000000</td>\n",
       "      <td>109.0</td>\n",
       "      <td>0.0</td>\n",
       "      <td>0.0</td>\n",
       "      <td>0.0</td>\n",
       "      <td>27731.088000</td>\n",
       "      <td>35145.834000</td>\n",
       "      <td>33543.624000</td>\n",
       "      <td>7376.710000</td>\n",
       "      <td>8157.780000</td>\n",
       "      <td>...</td>\n",
       "      <td>33.000000</td>\n",
       "      <td>41.000000</td>\n",
       "      <td>1.000000</td>\n",
       "      <td>1.000000</td>\n",
       "      <td>1.000000</td>\n",
       "      <td>4337.000000</td>\n",
       "      <td>12916.220000</td>\n",
       "      <td>9165.600000</td>\n",
       "      <td>11166.21000</td>\n",
       "      <td>1.000000</td>\n",
       "    </tr>\n",
       "  </tbody>\n",
       "</table>\n",
       "<p>8 rows × 163 columns</p>\n",
       "</div>"
      ],
      "text/plain": [
       "                 id  circle_id  loc_og_t2o_mou  std_og_t2o_mou  \\\n",
       "count  69999.000000    69999.0         69297.0         69297.0   \n",
       "mean   34999.000000      109.0             0.0             0.0   \n",
       "std    20207.115084        0.0             0.0             0.0   \n",
       "min        0.000000      109.0             0.0             0.0   \n",
       "25%    17499.500000      109.0             0.0             0.0   \n",
       "50%    34999.000000      109.0             0.0             0.0   \n",
       "75%    52498.500000      109.0             0.0             0.0   \n",
       "max    69998.000000      109.0             0.0             0.0   \n",
       "\n",
       "       loc_ic_t2o_mou        arpu_6        arpu_7        arpu_8   onnet_mou_6  \\\n",
       "count         69297.0  69999.000000  69999.000000  69999.000000  67231.000000   \n",
       "mean              0.0    283.134365    278.185912    278.858826    133.153275   \n",
       "std               0.0    334.213918    344.366927    351.924315    299.963093   \n",
       "min               0.0  -2258.709000  -1289.715000   -945.808000      0.000000   \n",
       "25%               0.0     93.581000     86.714000     84.095000      7.410000   \n",
       "50%               0.0    197.484000    191.588000    192.234000     34.110000   \n",
       "75%               0.0    370.791000    365.369500    369.909000    119.390000   \n",
       "max               0.0  27731.088000  35145.834000  33543.624000   7376.710000   \n",
       "\n",
       "        onnet_mou_7  ...   sachet_3g_7   sachet_3g_8     fb_user_6  \\\n",
       "count  67312.000000  ...  69999.000000  69999.000000  17568.000000   \n",
       "mean     133.894438  ...      0.081444      0.085487      0.916325   \n",
       "std      311.277193  ...      0.634547      0.680035      0.276907   \n",
       "min        0.000000  ...      0.000000      0.000000      0.000000   \n",
       "25%        6.675000  ...      0.000000      0.000000      1.000000   \n",
       "50%       32.280000  ...      0.000000      0.000000      1.000000   \n",
       "75%      115.837500  ...      0.000000      0.000000      1.000000   \n",
       "max     8157.780000  ...     33.000000     41.000000      1.000000   \n",
       "\n",
       "          fb_user_7     fb_user_8           aon    aug_vbc_3g    jul_vbc_3g  \\\n",
       "count  17865.000000  18417.000000  69999.000000  69999.000000  69999.000000   \n",
       "mean       0.909544      0.890319   1220.639709     68.108597     65.935830   \n",
       "std        0.286842      0.312501    952.426321    269.328659    267.899034   \n",
       "min        0.000000      0.000000    180.000000      0.000000      0.000000   \n",
       "25%        1.000000      1.000000    468.000000      0.000000      0.000000   \n",
       "50%        1.000000      1.000000    868.000000      0.000000      0.000000   \n",
       "75%        1.000000      1.000000   1813.000000      0.000000      0.000000   \n",
       "max        1.000000      1.000000   4337.000000  12916.220000   9165.600000   \n",
       "\n",
       "        jun_vbc_3g  churn_probability  \n",
       "count  69999.00000       69999.000000  \n",
       "mean      60.07674           0.101887  \n",
       "std      257.22681           0.302502  \n",
       "min        0.00000           0.000000  \n",
       "25%        0.00000           0.000000  \n",
       "50%        0.00000           0.000000  \n",
       "75%        0.00000           0.000000  \n",
       "max    11166.21000           1.000000  \n",
       "\n",
       "[8 rows x 163 columns]"
      ]
     },
     "execution_count": 10,
     "metadata": {},
     "output_type": "execute_result"
    }
   ],
   "source": [
    "telecom_train_df.describe()"
   ]
  },
  {
   "cell_type": "code",
   "execution_count": 11,
   "id": "4be15a7d",
   "metadata": {},
   "outputs": [
    {
     "data": {
      "text/plain": [
       "id                     0\n",
       "circle_id              0\n",
       "loc_og_t2o_mou       702\n",
       "std_og_t2o_mou       702\n",
       "loc_ic_t2o_mou       702\n",
       "                    ... \n",
       "aon                    0\n",
       "aug_vbc_3g             0\n",
       "jul_vbc_3g             0\n",
       "jun_vbc_3g             0\n",
       "churn_probability      0\n",
       "Length: 172, dtype: int64"
      ]
     },
     "execution_count": 11,
     "metadata": {},
     "output_type": "execute_result"
    }
   ],
   "source": [
    "telecom_train_df.isna().sum()"
   ]
  },
  {
   "cell_type": "code",
   "execution_count": 12,
   "id": "be40b9f2",
   "metadata": {},
   "outputs": [
    {
     "data": {
      "text/plain": [
       "id                     int64\n",
       "circle_id              int64\n",
       "loc_og_t2o_mou       float64\n",
       "std_og_t2o_mou       float64\n",
       "loc_ic_t2o_mou       float64\n",
       "                      ...   \n",
       "aon                    int64\n",
       "aug_vbc_3g           float64\n",
       "jul_vbc_3g           float64\n",
       "jun_vbc_3g           float64\n",
       "churn_probability      int64\n",
       "Length: 172, dtype: object"
      ]
     },
     "execution_count": 12,
     "metadata": {},
     "output_type": "execute_result"
    }
   ],
   "source": [
    "telecom_train_df.dtypes"
   ]
  },
  {
   "cell_type": "code",
   "execution_count": 13,
   "id": "a6b6c597",
   "metadata": {},
   "outputs": [],
   "source": [
    "# Columns which we have to impute as Zero as thy should not be dropped based on missing values becuase they are important.\n",
    "rech_cols_to_impute = [x for x in telecom_train_df.columns if 'rech' in x and \n",
    "                       'count' not in x and 'date' not in x and 'num' not in x]\n",
    "telecom_train_df[rech_cols_to_impute] = telecom_train_df[rech_cols_to_impute].apply(lambda x: x.fillna(0))\n",
    "telecom_test_df[rech_cols_to_impute] = telecom_test_df[rech_cols_to_impute].apply(lambda x: x.fillna(0))\n"
   ]
  },
  {
   "cell_type": "markdown",
   "id": "1c81836f",
   "metadata": {},
   "source": [
    "### Dropping rows for both train and test datasets\n",
    " - Rows which are empty"
   ]
  },
  {
   "cell_type": "code",
   "execution_count": 14,
   "id": "060c74b4",
   "metadata": {},
   "outputs": [],
   "source": [
    "telecom_train_df.dropna(axis=0, how='all', inplace=True)\n",
    "telecom_test_df.dropna(axis=0, how='all', inplace=True)"
   ]
  },
  {
   "cell_type": "code",
   "execution_count": 15,
   "id": "af10b97f",
   "metadata": {},
   "outputs": [
    {
     "name": "stdout",
     "output_type": "stream",
     "text": [
      "(69999, 172)\n",
      "(30000, 171)\n"
     ]
    }
   ],
   "source": [
    "print(telecom_train_df.shape)\n",
    "print(telecom_test_df.shape)"
   ]
  },
  {
   "cell_type": "markdown",
   "id": "8e06618c",
   "metadata": {},
   "source": [
    "### Dropping columns for both train and test datasets\n",
    "\n",
    "    - Not needed columns like Id, last_date_of_month_6 etc.\n",
    "    - Columns having more than 70% values as null"
   ]
  },
  {
   "cell_type": "code",
   "execution_count": 16,
   "id": "abd04209",
   "metadata": {},
   "outputs": [],
   "source": [
    "# For us dates doesn't matter as long as customer is doing a recharge.\n",
    "cols_to_delete = ['id', 'last_date_of_month_6', 'last_date_of_month_7', 'last_date_of_month_8',\n",
    "                  'date_of_last_rech_data_6', 'date_of_last_rech_data_7', 'date_of_last_rech_data_8',\n",
    "                  'date_of_last_rech_6', 'date_of_last_rech_7', 'date_of_last_rech_8'\n",
    "                 ]\n",
    "telecom_train_df.drop(cols_to_delete, axis=1, inplace=True)\n",
    "telecom_test_df.drop(cols_to_delete, axis=1, inplace=True)"
   ]
  },
  {
   "cell_type": "code",
   "execution_count": 17,
   "id": "4d5907c5",
   "metadata": {},
   "outputs": [
    {
     "data": {
      "text/plain": [
       "arpu_3g_8           0.74\n",
       "night_pck_user_8    0.74\n",
       "night_pck_user_7    0.74\n",
       "arpu_2g_8           0.74\n",
       "arpu_2g_7           0.74\n",
       "fb_user_7           0.74\n",
       "arpu_3g_7           0.74\n",
       "fb_user_8           0.74\n",
       "count_rech_3g_8     0.74\n",
       "count_rech_3g_7     0.74\n",
       "count_rech_2g_8     0.74\n",
       "count_rech_2g_7     0.74\n",
       "arpu_2g_6           0.75\n",
       "count_rech_3g_6     0.75\n",
       "night_pck_user_6    0.75\n",
       "fb_user_6           0.75\n",
       "arpu_3g_6           0.75\n",
       "count_rech_2g_6     0.75\n",
       "dtype: float64"
      ]
     },
     "execution_count": 17,
     "metadata": {},
     "output_type": "execute_result"
    }
   ],
   "source": [
    "# to check the % of null values\n",
    "round((pd.isnull(telecom_train_df).sum()/len(telecom_train_df.index)),2)[pd.isnull(telecom_train_df).sum()/ len(telecom_train_df.index) > 0.70].sort_values()"
   ]
  },
  {
   "cell_type": "code",
   "execution_count": 18,
   "id": "af4da69b",
   "metadata": {},
   "outputs": [
    {
     "data": {
      "text/plain": [
       "18"
      ]
     },
     "execution_count": 18,
     "metadata": {},
     "output_type": "execute_result"
    }
   ],
   "source": [
    "# count of missing data > 70% columns in train dataset\n",
    "len(round((pd.isnull(telecom_train_df).sum()/len(telecom_train_df.index)),2)[pd.isnull(telecom_train_df).sum()/ len(telecom_train_df.index) > 0.70].sort_values())"
   ]
  },
  {
   "cell_type": "code",
   "execution_count": 19,
   "id": "08b6ed61",
   "metadata": {},
   "outputs": [
    {
     "data": {
      "text/plain": [
       "18"
      ]
     },
     "execution_count": 19,
     "metadata": {},
     "output_type": "execute_result"
    }
   ],
   "source": [
    "# count of missing data > 70% columns in test dataset\n",
    "len(round((pd.isnull(telecom_test_df).sum()/len(telecom_test_df.index)),2)[pd.isnull(telecom_test_df).sum()/ len(telecom_test_df.index) > 0.70].sort_values())"
   ]
  },
  {
   "cell_type": "markdown",
   "id": "91b77121",
   "metadata": {},
   "source": [
    "### As we have more than 70% data as null for 18 columns in train and test, we are dropping these columns from dataset."
   ]
  },
  {
   "cell_type": "code",
   "execution_count": 20,
   "id": "176525b2",
   "metadata": {},
   "outputs": [],
   "source": [
    "cols_to_delete = ((pd.isnull(telecom_train_df).sum()/len(telecom_train_df.index))[pd.isnull(telecom_train_df).sum()/ len(telecom_train_df.index) > 0.70].sort_values()).keys()"
   ]
  },
  {
   "cell_type": "code",
   "execution_count": 21,
   "id": "decb3b20",
   "metadata": {},
   "outputs": [
    {
     "name": "stdout",
     "output_type": "stream",
     "text": [
      "['arpu_3g_8', 'night_pck_user_8', 'arpu_2g_8', 'count_rech_3g_8', 'fb_user_8', 'count_rech_2g_8', 'arpu_3g_7', 'fb_user_7', 'arpu_2g_7', 'night_pck_user_7', 'count_rech_2g_7', 'count_rech_3g_7', 'count_rech_3g_6', 'arpu_3g_6', 'arpu_2g_6', 'night_pck_user_6', 'fb_user_6', 'count_rech_2g_6']\n"
     ]
    }
   ],
   "source": [
    "cols_to_delete = cols_to_delete.to_list()\n",
    "print(cols_to_delete)"
   ]
  },
  {
   "cell_type": "code",
   "execution_count": 22,
   "id": "03312c5b",
   "metadata": {},
   "outputs": [],
   "source": [
    "telecom_train_df = telecom_train_df.drop(cols_to_delete, axis=1)"
   ]
  },
  {
   "cell_type": "code",
   "execution_count": 23,
   "id": "be9a60c3",
   "metadata": {},
   "outputs": [
    {
     "data": {
      "text/plain": [
       "(69999, 144)"
      ]
     },
     "execution_count": 23,
     "metadata": {},
     "output_type": "execute_result"
    }
   ],
   "source": [
    "telecom_train_df.shape"
   ]
  },
  {
   "cell_type": "code",
   "execution_count": 24,
   "id": "8ada9939",
   "metadata": {},
   "outputs": [],
   "source": [
    "telecom_test_df = telecom_test_df.drop(cols_to_delete, axis=1)"
   ]
  },
  {
   "cell_type": "code",
   "execution_count": 25,
   "id": "aa95c6a9",
   "metadata": {},
   "outputs": [
    {
     "data": {
      "text/plain": [
       "(30000, 143)"
      ]
     },
     "execution_count": 25,
     "metadata": {},
     "output_type": "execute_result"
    }
   ],
   "source": [
    "telecom_test_df.shape"
   ]
  },
  {
   "cell_type": "markdown",
   "id": "4e359e28",
   "metadata": {},
   "source": [
    "## Lets check the data types of columns now"
   ]
  },
  {
   "cell_type": "code",
   "execution_count": 26,
   "id": "51cfe2ea",
   "metadata": {},
   "outputs": [
    {
     "name": "stdout",
     "output_type": "stream",
     "text": [
      "<class 'pandas.core.frame.DataFrame'>\n",
      "Int64Index: 69999 entries, 0 to 69998\n",
      "Columns: 144 entries, circle_id to churn_probability\n",
      "dtypes: float64(117), int64(27)\n",
      "memory usage: 77.4 MB\n"
     ]
    }
   ],
   "source": [
    "telecom_train_df.info()"
   ]
  },
  {
   "cell_type": "code",
   "execution_count": 27,
   "id": "d47ca287",
   "metadata": {},
   "outputs": [
    {
     "name": "stdout",
     "output_type": "stream",
     "text": [
      "<class 'pandas.core.frame.DataFrame'>\n",
      "Int64Index: 30000 entries, 0 to 29999\n",
      "Columns: 143 entries, circle_id to jun_vbc_3g\n",
      "dtypes: float64(117), int64(26)\n",
      "memory usage: 33.0 MB\n"
     ]
    }
   ],
   "source": [
    "telecom_test_df.info()"
   ]
  },
  {
   "cell_type": "markdown",
   "id": "b0444c3e",
   "metadata": {},
   "source": [
    "### We can see now we don't have any categorical data, all are numerical data only."
   ]
  },
  {
   "cell_type": "markdown",
   "id": "da80afd3",
   "metadata": {},
   "source": [
    "### Imputing the na values with\n",
    " - Median for numerical variables\n",
    " - Mode for categorical variables - Not needed in out this case."
   ]
  },
  {
   "cell_type": "code",
   "execution_count": 28,
   "id": "3ce3ad7a",
   "metadata": {},
   "outputs": [],
   "source": [
    "# A generic method to impute na\n",
    "def replace_na(df, columns, data_type):\n",
    "    for col in columns:\n",
    "        if data_type == 'categorical':\n",
    "            value = pd.to_datetime(df[col]).mode()\n",
    "        else:\n",
    "            value = df[col].median()\n",
    "        df[col].fillna(value, inplace=True)\n",
    "    return df"
   ]
  },
  {
   "cell_type": "code",
   "execution_count": 29,
   "id": "b802153c",
   "metadata": {},
   "outputs": [],
   "source": [
    "telecom_train_df = replace_na(telecom_train_df, telecom_train_df.columns, 'numerical')\n",
    "telecom_test_df = replace_na(telecom_test_df, telecom_test_df.columns, 'numerical')"
   ]
  },
  {
   "cell_type": "markdown",
   "id": "8a21f588",
   "metadata": {},
   "source": [
    "### Lets check for unique entries in train and test dataset"
   ]
  },
  {
   "cell_type": "code",
   "execution_count": 30,
   "id": "4bafbc9c",
   "metadata": {},
   "outputs": [],
   "source": [
    "def cols_to_delete_unique(df, df_columns, threshold=4):\n",
    "    # threshold=4 means column has only 1 unique value\n",
    "    # eg. telecom_train_df['circle_id'].describe().unique() --> array([30000.,   109.,     0.])\n",
    "    # Here because there are all 109 in column, we have only 3 entries in array.\n",
    "    cols_to_delete = []\n",
    "    for column in df_columns:\n",
    "        if len(df[column].describe().unique()) < threshold:\n",
    "            cols_to_delete.append(column)\n",
    "    \n",
    "    return cols_to_delete"
   ]
  },
  {
   "cell_type": "code",
   "execution_count": 31,
   "id": "bf0895de",
   "metadata": {},
   "outputs": [
    {
     "name": "stdout",
     "output_type": "stream",
     "text": [
      "(69999, 144)\n",
      "(30000, 143)\n"
     ]
    }
   ],
   "source": [
    "print(telecom_train_df.shape)\n",
    "print(telecom_test_df.shape)"
   ]
  },
  {
   "cell_type": "code",
   "execution_count": 32,
   "id": "8c597e15",
   "metadata": {},
   "outputs": [
    {
     "name": "stdout",
     "output_type": "stream",
     "text": [
      "(69999, 134)\n",
      "(30000, 133)\n"
     ]
    }
   ],
   "source": [
    "# on train data\n",
    "telecom_train_df = telecom_train_df.drop(cols_to_delete_unique(telecom_train_df, telecom_train_df.columns), axis=1)\n",
    "print(telecom_train_df.shape)\n",
    "\n",
    "# on test data\n",
    "telecom_test_df = telecom_test_df.drop(cols_to_delete_unique(telecom_test_df, telecom_test_df.columns), axis=1)\n",
    "print(telecom_test_df.shape)"
   ]
  },
  {
   "cell_type": "markdown",
   "id": "20f6d3fb",
   "metadata": {},
   "source": [
    "### Lets find the high value customers based on recharge done in 6th and 7th month and update dataframe"
   ]
  },
  {
   "cell_type": "markdown",
   "id": "1e6656b1",
   "metadata": {},
   "source": [
    "### For train data"
   ]
  },
  {
   "cell_type": "code",
   "execution_count": 33,
   "id": "ea5fecfd",
   "metadata": {},
   "outputs": [
    {
     "data": {
      "text/plain": [
       "477.5"
      ]
     },
     "execution_count": 33,
     "metadata": {},
     "output_type": "execute_result"
    }
   ],
   "source": [
    "# total data recharge in 6th, 7th and 8th months\n",
    "telecom_train_df[\"total_data_recharge_amnt_6\"] = telecom_train_df.total_rech_data_6 * telecom_train_df.av_rech_amt_data_6\n",
    "telecom_train_df[\"total_data_recharge_amnt_7\"] = telecom_train_df.total_rech_data_7 * telecom_train_df.av_rech_amt_data_7\n",
    "telecom_train_df[\"total_data_recharge_amnt_8\"] = telecom_train_df.total_rech_data_8 * telecom_train_df.av_rech_amt_data_8\n",
    "\n",
    "# total amount spent on recharge in 6th, 7th and 8th months\n",
    "telecom_train_df[\"total_recharge_amnt_6\"] = telecom_train_df.total_rech_amt_6 + telecom_train_df.total_data_recharge_amnt_6\n",
    "telecom_train_df[\"total_recharge_amnt_7\"] = telecom_train_df.total_rech_amt_7 + telecom_train_df.total_data_recharge_amnt_7\n",
    "telecom_train_df[\"total_recharge_amnt_8\"] = telecom_train_df.total_rech_amt_8 + telecom_train_df.total_data_recharge_amnt_8\n",
    "\n",
    "# average recharge for 6th and 7th month\n",
    "telecom_train_df['average_amnt_6_7'] = (telecom_train_df[\"total_recharge_amnt_6\"] + telecom_train_df[\"total_recharge_amnt_7\"])/2\n",
    "\n",
    "# 70th percentile of average_amnt_6_7\n",
    "telecom_train_df['average_amnt_6_7'].quantile(.70)"
   ]
  },
  {
   "cell_type": "markdown",
   "id": "0768613e",
   "metadata": {},
   "source": [
    "## Filter dataset based on average_amnt_6_7 (70th percentile for train dataset is 477.5)"
   ]
  },
  {
   "cell_type": "code",
   "execution_count": 34,
   "id": "5af14b93",
   "metadata": {},
   "outputs": [],
   "source": [
    "telecom_train_df = telecom_train_df[telecom_train_df[\"average_amnt_6_7\"]>= telecom_train_df[\"average_amnt_6_7\"].quantile(.70)]"
   ]
  },
  {
   "cell_type": "code",
   "execution_count": 35,
   "id": "982270cb",
   "metadata": {},
   "outputs": [
    {
     "data": {
      "text/plain": [
       "(21013, 141)"
      ]
     },
     "execution_count": 35,
     "metadata": {},
     "output_type": "execute_result"
    }
   ],
   "source": [
    "telecom_train_df.shape"
   ]
  },
  {
   "cell_type": "code",
   "execution_count": 36,
   "id": "71b72540",
   "metadata": {},
   "outputs": [],
   "source": [
    "# Lets remove not needed newly added features\n",
    "telecom_train_df.drop(['total_data_recharge_amnt_6', 'total_data_recharge_amnt_7', 'total_data_recharge_amnt_8',\n",
    "                        'total_recharge_amnt_6', 'total_recharge_amnt_7', 'total_recharge_amnt_8',\n",
    "                        'average_amnt_6_7'], \n",
    "                      axis=1, inplace=True)"
   ]
  },
  {
   "cell_type": "markdown",
   "id": "e4db1002",
   "metadata": {},
   "source": [
    "## Lets visualize the 8th month and average_amnt_6_7 months data to check behavior pattern of customers"
   ]
  },
  {
   "cell_type": "code",
   "execution_count": 37,
   "id": "34e0ab59",
   "metadata": {},
   "outputs": [],
   "source": [
    "# Look it later\n",
    "#plt.scatter(telecom_train_df[['average_amnt_6_7', 'total_recharge_amnt_8']])\n",
    "#plt.show()\n",
    "#sns.\n",
    "#telecom_train_df.plot.scatter(x='average_amnt_6_7', y='total_recharge_amnt_8')\n",
    "#telecom_train_df.DataFrame(np.random.rand(10, 3), columns =['average_amnt_6_7', 'total_recharge_amnt_8'])\n",
    "\n",
    "#telecom_train_df.plot.bar(x=\"average_amnt_6_7\", y=\"total_recharge_amnt_8\", rot=70);\n",
    "\n",
    "#ig, ax = plt.subplots()\n",
    "\n",
    "#ax.plot(telecom_train_df['average_amnt_6_7'], telecom_train_df['total_recharge_amnt_8'])\n",
    "#plt.show()"
   ]
  },
  {
   "cell_type": "markdown",
   "id": "40627e53",
   "metadata": {},
   "source": [
    "## Lets focus on Outliers now and treat them"
   ]
  },
  {
   "cell_type": "code",
   "execution_count": 38,
   "id": "d0b9f1cf",
   "metadata": {},
   "outputs": [],
   "source": [
    "# Generic method to remove outliers\n",
    "def remove_outliers(df, features):\n",
    "    for feature in features:\n",
    "        q1 = df[feature].quantile(0.25)\n",
    "        q3 = df[feature].quantile(0.99)\n",
    "        iqr = q3-q1\n",
    "        lower_value  = q1 - (1.5 * iqr)\n",
    "        higer_value = q3 + (1.5 * iqr)\n",
    "        df = df[(df[feature] <= higer_value) & (df[feature] >= lower_value)]\n",
    "    return df"
   ]
  },
  {
   "cell_type": "code",
   "execution_count": 39,
   "id": "537a1234",
   "metadata": {},
   "outputs": [],
   "source": [
    "#telecom_train_df = remove_outliers(telecom_train_df, telecom_train_df.columns)\n",
    "#telecom_test_df = remove_outliers(telecom_test_df, telecom_test_df.columns)"
   ]
  },
  {
   "cell_type": "code",
   "execution_count": 40,
   "id": "09c79cc2",
   "metadata": {},
   "outputs": [
    {
     "data": {
      "text/plain": [
       "(21013, 134)"
      ]
     },
     "execution_count": 40,
     "metadata": {},
     "output_type": "execute_result"
    }
   ],
   "source": [
    "telecom_train_df.shape"
   ]
  },
  {
   "cell_type": "code",
   "execution_count": 41,
   "id": "c7911de6",
   "metadata": {},
   "outputs": [
    {
     "data": {
      "text/plain": [
       "(30000, 133)"
      ]
     },
     "execution_count": 41,
     "metadata": {},
     "output_type": "execute_result"
    }
   ],
   "source": [
    "telecom_test_df.shape"
   ]
  },
  {
   "cell_type": "markdown",
   "id": "ad731d80",
   "metadata": {},
   "source": [
    "## Let's check for Data imbalance here"
   ]
  },
  {
   "cell_type": "code",
   "execution_count": 42,
   "id": "d7df398d",
   "metadata": {},
   "outputs": [],
   "source": [
    "churn_data_rows = telecom_train_df['churn_probability'].sum()"
   ]
  },
  {
   "cell_type": "code",
   "execution_count": 43,
   "id": "addc0c33",
   "metadata": {},
   "outputs": [
    {
     "data": {
      "text/plain": [
       "8.275829248560415"
      ]
     },
     "execution_count": 43,
     "metadata": {},
     "output_type": "execute_result"
    }
   ],
   "source": [
    "churn_data_rows/len(telecom_train_df) * 100"
   ]
  },
  {
   "cell_type": "markdown",
   "id": "8fa850d6",
   "metadata": {},
   "source": [
    "### We can see that there is a data imbalance. We have only about 8.28% of data as Churn and 91.72% as not churn.\n",
    "### So we need to apply data imbalance technique. We will use SMOTE."
   ]
  },
  {
   "cell_type": "markdown",
   "id": "0624b7f7",
   "metadata": {},
   "source": [
    "## Dividing the data from telecom_train_df to train the model"
   ]
  },
  {
   "cell_type": "code",
   "execution_count": 44,
   "id": "2c3467e0",
   "metadata": {},
   "outputs": [],
   "source": [
    "y = telecom_train_df['churn_probability']\n",
    "X = telecom_train_df.drop(['churn_probability'], axis=1)\n",
    "\n",
    "telecom_train_df.drop('churn_probability', axis=1, inplace=True)"
   ]
  },
  {
   "cell_type": "code",
   "execution_count": 45,
   "id": "b3edc2c2",
   "metadata": {},
   "outputs": [],
   "source": [
    "# Splitting the data into test and train\n",
    "X_train, X_test, y_train, y_test = train_test_split(X, y, train_size=0.7, test_size=0.3, random_state=100)"
   ]
  },
  {
   "cell_type": "markdown",
   "id": "93ad1282",
   "metadata": {},
   "source": [
    "## Taking a backup of variables"
   ]
  },
  {
   "cell_type": "code",
   "execution_count": 46,
   "id": "20dae04f",
   "metadata": {},
   "outputs": [],
   "source": [
    "X_train_ori, X_test_ori, y_train_ori, y_test_ori = X_train.copy(), X_test.copy(), y_train.copy(), y_test.copy()"
   ]
  },
  {
   "cell_type": "markdown",
   "id": "5496cd44",
   "metadata": {},
   "source": [
    "## Rescaling of the variables\n",
    "\n",
    "- We will use Min-Max scaling (Normalization) --> compresses all the data between 0 and 1"
   ]
  },
  {
   "cell_type": "code",
   "execution_count": 47,
   "id": "7ad21932",
   "metadata": {},
   "outputs": [
    {
     "data": {
      "text/html": [
       "<div>\n",
       "<style scoped>\n",
       "    .dataframe tbody tr th:only-of-type {\n",
       "        vertical-align: middle;\n",
       "    }\n",
       "\n",
       "    .dataframe tbody tr th {\n",
       "        vertical-align: top;\n",
       "    }\n",
       "\n",
       "    .dataframe thead th {\n",
       "        text-align: right;\n",
       "    }\n",
       "</style>\n",
       "<table border=\"1\" class=\"dataframe\">\n",
       "  <thead>\n",
       "    <tr style=\"text-align: right;\">\n",
       "      <th></th>\n",
       "      <th>arpu_6</th>\n",
       "      <th>arpu_7</th>\n",
       "      <th>arpu_8</th>\n",
       "      <th>onnet_mou_6</th>\n",
       "      <th>onnet_mou_7</th>\n",
       "      <th>onnet_mou_8</th>\n",
       "      <th>offnet_mou_6</th>\n",
       "      <th>offnet_mou_7</th>\n",
       "      <th>offnet_mou_8</th>\n",
       "      <th>roam_ic_mou_6</th>\n",
       "      <th>...</th>\n",
       "      <th>monthly_3g_6</th>\n",
       "      <th>monthly_3g_7</th>\n",
       "      <th>monthly_3g_8</th>\n",
       "      <th>sachet_3g_6</th>\n",
       "      <th>sachet_3g_7</th>\n",
       "      <th>sachet_3g_8</th>\n",
       "      <th>aon</th>\n",
       "      <th>aug_vbc_3g</th>\n",
       "      <th>jul_vbc_3g</th>\n",
       "      <th>jun_vbc_3g</th>\n",
       "    </tr>\n",
       "  </thead>\n",
       "  <tbody>\n",
       "    <tr>\n",
       "      <th>6968</th>\n",
       "      <td>0.127277</td>\n",
       "      <td>0.274576</td>\n",
       "      <td>0.081830</td>\n",
       "      <td>0.004624</td>\n",
       "      <td>0.004018</td>\n",
       "      <td>0.002985</td>\n",
       "      <td>0.011537</td>\n",
       "      <td>0.040985</td>\n",
       "      <td>0.006554</td>\n",
       "      <td>0.000000</td>\n",
       "      <td>...</td>\n",
       "      <td>0.0</td>\n",
       "      <td>0.0</td>\n",
       "      <td>0.0</td>\n",
       "      <td>0.000000</td>\n",
       "      <td>0.000000</td>\n",
       "      <td>0.00000</td>\n",
       "      <td>0.337600</td>\n",
       "      <td>0.000000</td>\n",
       "      <td>0.002051</td>\n",
       "      <td>0.000000</td>\n",
       "    </tr>\n",
       "    <tr>\n",
       "      <th>42203</th>\n",
       "      <td>0.156166</td>\n",
       "      <td>0.094305</td>\n",
       "      <td>0.083632</td>\n",
       "      <td>0.066057</td>\n",
       "      <td>0.041462</td>\n",
       "      <td>0.074009</td>\n",
       "      <td>0.065428</td>\n",
       "      <td>0.053213</td>\n",
       "      <td>0.049054</td>\n",
       "      <td>0.000000</td>\n",
       "      <td>...</td>\n",
       "      <td>0.0</td>\n",
       "      <td>0.0</td>\n",
       "      <td>0.0</td>\n",
       "      <td>0.000000</td>\n",
       "      <td>0.000000</td>\n",
       "      <td>0.00000</td>\n",
       "      <td>0.009660</td>\n",
       "      <td>0.000000</td>\n",
       "      <td>0.000000</td>\n",
       "      <td>0.000000</td>\n",
       "    </tr>\n",
       "    <tr>\n",
       "      <th>18406</th>\n",
       "      <td>0.151447</td>\n",
       "      <td>0.122733</td>\n",
       "      <td>0.087708</td>\n",
       "      <td>0.015153</td>\n",
       "      <td>0.016084</td>\n",
       "      <td>0.008306</td>\n",
       "      <td>0.056327</td>\n",
       "      <td>0.259820</td>\n",
       "      <td>0.136117</td>\n",
       "      <td>0.005055</td>\n",
       "      <td>...</td>\n",
       "      <td>0.0</td>\n",
       "      <td>0.0</td>\n",
       "      <td>0.0</td>\n",
       "      <td>0.000000</td>\n",
       "      <td>0.000000</td>\n",
       "      <td>0.00000</td>\n",
       "      <td>0.702487</td>\n",
       "      <td>0.000000</td>\n",
       "      <td>0.000000</td>\n",
       "      <td>0.000000</td>\n",
       "    </tr>\n",
       "    <tr>\n",
       "      <th>21455</th>\n",
       "      <td>0.171177</td>\n",
       "      <td>0.128305</td>\n",
       "      <td>0.077781</td>\n",
       "      <td>0.009636</td>\n",
       "      <td>0.010909</td>\n",
       "      <td>0.006579</td>\n",
       "      <td>0.081607</td>\n",
       "      <td>0.121132</td>\n",
       "      <td>0.038009</td>\n",
       "      <td>0.005166</td>\n",
       "      <td>...</td>\n",
       "      <td>0.0</td>\n",
       "      <td>0.0</td>\n",
       "      <td>0.0</td>\n",
       "      <td>0.000000</td>\n",
       "      <td>0.030303</td>\n",
       "      <td>0.02439</td>\n",
       "      <td>0.542381</td>\n",
       "      <td>0.029661</td>\n",
       "      <td>0.043865</td>\n",
       "      <td>0.039021</td>\n",
       "    </tr>\n",
       "    <tr>\n",
       "      <th>66143</th>\n",
       "      <td>0.138174</td>\n",
       "      <td>0.087866</td>\n",
       "      <td>0.074838</td>\n",
       "      <td>0.000000</td>\n",
       "      <td>0.006171</td>\n",
       "      <td>0.001633</td>\n",
       "      <td>0.000000</td>\n",
       "      <td>0.033354</td>\n",
       "      <td>0.020053</td>\n",
       "      <td>0.000000</td>\n",
       "      <td>...</td>\n",
       "      <td>0.0</td>\n",
       "      <td>0.0</td>\n",
       "      <td>0.0</td>\n",
       "      <td>0.034483</td>\n",
       "      <td>0.000000</td>\n",
       "      <td>0.00000</td>\n",
       "      <td>0.055301</td>\n",
       "      <td>0.098218</td>\n",
       "      <td>0.000000</td>\n",
       "      <td>0.000000</td>\n",
       "    </tr>\n",
       "  </tbody>\n",
       "</table>\n",
       "<p>5 rows × 133 columns</p>\n",
       "</div>"
      ],
      "text/plain": [
       "         arpu_6    arpu_7    arpu_8  onnet_mou_6  onnet_mou_7  onnet_mou_8  \\\n",
       "6968   0.127277  0.274576  0.081830     0.004624     0.004018     0.002985   \n",
       "42203  0.156166  0.094305  0.083632     0.066057     0.041462     0.074009   \n",
       "18406  0.151447  0.122733  0.087708     0.015153     0.016084     0.008306   \n",
       "21455  0.171177  0.128305  0.077781     0.009636     0.010909     0.006579   \n",
       "66143  0.138174  0.087866  0.074838     0.000000     0.006171     0.001633   \n",
       "\n",
       "       offnet_mou_6  offnet_mou_7  offnet_mou_8  roam_ic_mou_6  ...  \\\n",
       "6968       0.011537      0.040985      0.006554       0.000000  ...   \n",
       "42203      0.065428      0.053213      0.049054       0.000000  ...   \n",
       "18406      0.056327      0.259820      0.136117       0.005055  ...   \n",
       "21455      0.081607      0.121132      0.038009       0.005166  ...   \n",
       "66143      0.000000      0.033354      0.020053       0.000000  ...   \n",
       "\n",
       "       monthly_3g_6  monthly_3g_7  monthly_3g_8  sachet_3g_6  sachet_3g_7  \\\n",
       "6968            0.0           0.0           0.0     0.000000     0.000000   \n",
       "42203           0.0           0.0           0.0     0.000000     0.000000   \n",
       "18406           0.0           0.0           0.0     0.000000     0.000000   \n",
       "21455           0.0           0.0           0.0     0.000000     0.030303   \n",
       "66143           0.0           0.0           0.0     0.034483     0.000000   \n",
       "\n",
       "       sachet_3g_8       aon  aug_vbc_3g  jul_vbc_3g  jun_vbc_3g  \n",
       "6968       0.00000  0.337600    0.000000    0.002051    0.000000  \n",
       "42203      0.00000  0.009660    0.000000    0.000000    0.000000  \n",
       "18406      0.00000  0.702487    0.000000    0.000000    0.000000  \n",
       "21455      0.02439  0.542381    0.029661    0.043865    0.039021  \n",
       "66143      0.00000  0.055301    0.098218    0.000000    0.000000  \n",
       "\n",
       "[5 rows x 133 columns]"
      ]
     },
     "execution_count": 47,
     "metadata": {},
     "output_type": "execute_result"
    }
   ],
   "source": [
    "# Creating MinMaxScaler object\n",
    "scaler = MinMaxScaler()\n",
    "# fit on data\n",
    "# removed churn_probability becuase test data is not having it.\n",
    "# Also churn_probability is having 0 and 1 only. So it need not be scaled.\n",
    "train_numerical_columns = telecom_train_df.columns.to_list()\n",
    "X_train[train_numerical_columns] = scaler.fit_transform(X_train[train_numerical_columns])\n",
    "X_train.head()\n",
    "# So all numberic values are now between 0 and 1"
   ]
  },
  {
   "cell_type": "code",
   "execution_count": 48,
   "id": "e87381ac",
   "metadata": {},
   "outputs": [],
   "source": [
    "from imblearn.over_sampling import SMOTE ## Comments to be fixed "
   ]
  },
  {
   "cell_type": "code",
   "execution_count": 49,
   "id": "37e1ef44",
   "metadata": {},
   "outputs": [],
   "source": [
    "X_resampled, y_resampled = SMOTE().fit_resample(X_train, y_train)"
   ]
  },
  {
   "cell_type": "code",
   "execution_count": 50,
   "id": "90982153",
   "metadata": {},
   "outputs": [
    {
     "data": {
      "text/plain": [
       "(27020, 133)"
      ]
     },
     "execution_count": 50,
     "metadata": {},
     "output_type": "execute_result"
    }
   ],
   "source": [
    "X_resampled.shape"
   ]
  },
  {
   "cell_type": "code",
   "execution_count": 51,
   "id": "5a229479",
   "metadata": {},
   "outputs": [
    {
     "data": {
      "text/plain": [
       "50.0"
      ]
     },
     "execution_count": 51,
     "metadata": {},
     "output_type": "execute_result"
    }
   ],
   "source": [
    "sum(y_resampled)/len(y_resampled) * 100"
   ]
  },
  {
   "cell_type": "code",
   "execution_count": 52,
   "id": "389402b8",
   "metadata": {},
   "outputs": [
    {
     "data": {
      "text/plain": [
       "(30000, 133)"
      ]
     },
     "execution_count": 52,
     "metadata": {},
     "output_type": "execute_result"
    }
   ],
   "source": [
    "telecom_test_df.shape"
   ]
  },
  {
   "cell_type": "markdown",
   "id": "c0f8f8db",
   "metadata": {},
   "source": [
    "## Now there is no data imbalance."
   ]
  },
  {
   "cell_type": "code",
   "execution_count": 53,
   "id": "b84d8439",
   "metadata": {},
   "outputs": [
    {
     "data": {
      "text/html": [
       "<div>\n",
       "<style scoped>\n",
       "    .dataframe tbody tr th:only-of-type {\n",
       "        vertical-align: middle;\n",
       "    }\n",
       "\n",
       "    .dataframe tbody tr th {\n",
       "        vertical-align: top;\n",
       "    }\n",
       "\n",
       "    .dataframe thead th {\n",
       "        text-align: right;\n",
       "    }\n",
       "</style>\n",
       "<table border=\"1\" class=\"dataframe\">\n",
       "  <thead>\n",
       "    <tr style=\"text-align: right;\">\n",
       "      <th></th>\n",
       "      <th>arpu_6</th>\n",
       "      <th>arpu_7</th>\n",
       "      <th>arpu_8</th>\n",
       "      <th>onnet_mou_6</th>\n",
       "      <th>onnet_mou_7</th>\n",
       "      <th>onnet_mou_8</th>\n",
       "      <th>offnet_mou_6</th>\n",
       "      <th>offnet_mou_7</th>\n",
       "      <th>offnet_mou_8</th>\n",
       "      <th>roam_ic_mou_6</th>\n",
       "      <th>...</th>\n",
       "      <th>monthly_3g_6</th>\n",
       "      <th>monthly_3g_7</th>\n",
       "      <th>monthly_3g_8</th>\n",
       "      <th>sachet_3g_6</th>\n",
       "      <th>sachet_3g_7</th>\n",
       "      <th>sachet_3g_8</th>\n",
       "      <th>aon</th>\n",
       "      <th>aug_vbc_3g</th>\n",
       "      <th>jul_vbc_3g</th>\n",
       "      <th>jun_vbc_3g</th>\n",
       "    </tr>\n",
       "  </thead>\n",
       "  <tbody>\n",
       "    <tr>\n",
       "      <th>0</th>\n",
       "      <td>0.132455</td>\n",
       "      <td>0.074824</td>\n",
       "      <td>0.049909</td>\n",
       "      <td>0.004308</td>\n",
       "      <td>0.002480</td>\n",
       "      <td>0.002149</td>\n",
       "      <td>0.007194</td>\n",
       "      <td>0.004771</td>\n",
       "      <td>0.002487</td>\n",
       "      <td>0.000000</td>\n",
       "      <td>...</td>\n",
       "      <td>0.0</td>\n",
       "      <td>0.0</td>\n",
       "      <td>0.0</td>\n",
       "      <td>0.0</td>\n",
       "      <td>0.0</td>\n",
       "      <td>0.0</td>\n",
       "      <td>0.365129</td>\n",
       "      <td>0.000000</td>\n",
       "      <td>0.000000</td>\n",
       "      <td>0.0000</td>\n",
       "    </tr>\n",
       "    <tr>\n",
       "      <th>1</th>\n",
       "      <td>0.150615</td>\n",
       "      <td>0.099685</td>\n",
       "      <td>0.064554</td>\n",
       "      <td>0.010236</td>\n",
       "      <td>0.005052</td>\n",
       "      <td>0.001845</td>\n",
       "      <td>0.056723</td>\n",
       "      <td>0.092260</td>\n",
       "      <td>0.028195</td>\n",
       "      <td>0.000000</td>\n",
       "      <td>...</td>\n",
       "      <td>0.0</td>\n",
       "      <td>0.0</td>\n",
       "      <td>0.0</td>\n",
       "      <td>0.0</td>\n",
       "      <td>0.0</td>\n",
       "      <td>0.0</td>\n",
       "      <td>0.568220</td>\n",
       "      <td>0.000000</td>\n",
       "      <td>0.000000</td>\n",
       "      <td>0.0000</td>\n",
       "    </tr>\n",
       "    <tr>\n",
       "      <th>2</th>\n",
       "      <td>0.145864</td>\n",
       "      <td>0.095230</td>\n",
       "      <td>0.083592</td>\n",
       "      <td>0.001022</td>\n",
       "      <td>0.000963</td>\n",
       "      <td>0.000781</td>\n",
       "      <td>0.002031</td>\n",
       "      <td>0.006797</td>\n",
       "      <td>0.003215</td>\n",
       "      <td>0.008728</td>\n",
       "      <td>...</td>\n",
       "      <td>0.0</td>\n",
       "      <td>0.0</td>\n",
       "      <td>0.0</td>\n",
       "      <td>0.0</td>\n",
       "      <td>0.0</td>\n",
       "      <td>0.0</td>\n",
       "      <td>0.023424</td>\n",
       "      <td>0.040694</td>\n",
       "      <td>0.082745</td>\n",
       "      <td>0.0319</td>\n",
       "    </tr>\n",
       "    <tr>\n",
       "      <th>3</th>\n",
       "      <td>0.129731</td>\n",
       "      <td>0.080680</td>\n",
       "      <td>0.047931</td>\n",
       "      <td>0.000720</td>\n",
       "      <td>0.000265</td>\n",
       "      <td>0.000000</td>\n",
       "      <td>0.004788</td>\n",
       "      <td>0.030417</td>\n",
       "      <td>0.001714</td>\n",
       "      <td>0.000000</td>\n",
       "      <td>...</td>\n",
       "      <td>0.0</td>\n",
       "      <td>0.0</td>\n",
       "      <td>0.0</td>\n",
       "      <td>0.0</td>\n",
       "      <td>0.0</td>\n",
       "      <td>0.0</td>\n",
       "      <td>0.256943</td>\n",
       "      <td>0.000000</td>\n",
       "      <td>0.000000</td>\n",
       "      <td>0.0000</td>\n",
       "    </tr>\n",
       "    <tr>\n",
       "      <th>4</th>\n",
       "      <td>0.144568</td>\n",
       "      <td>0.093651</td>\n",
       "      <td>0.067145</td>\n",
       "      <td>0.061129</td>\n",
       "      <td>0.074656</td>\n",
       "      <td>0.065164</td>\n",
       "      <td>0.007287</td>\n",
       "      <td>0.003537</td>\n",
       "      <td>0.005294</td>\n",
       "      <td>0.000000</td>\n",
       "      <td>...</td>\n",
       "      <td>0.0</td>\n",
       "      <td>0.0</td>\n",
       "      <td>0.0</td>\n",
       "      <td>0.0</td>\n",
       "      <td>0.0</td>\n",
       "      <td>0.0</td>\n",
       "      <td>0.068099</td>\n",
       "      <td>0.000000</td>\n",
       "      <td>0.000000</td>\n",
       "      <td>0.0000</td>\n",
       "    </tr>\n",
       "  </tbody>\n",
       "</table>\n",
       "<p>5 rows × 133 columns</p>\n",
       "</div>"
      ],
      "text/plain": [
       "     arpu_6    arpu_7    arpu_8  onnet_mou_6  onnet_mou_7  onnet_mou_8  \\\n",
       "0  0.132455  0.074824  0.049909     0.004308     0.002480     0.002149   \n",
       "1  0.150615  0.099685  0.064554     0.010236     0.005052     0.001845   \n",
       "2  0.145864  0.095230  0.083592     0.001022     0.000963     0.000781   \n",
       "3  0.129731  0.080680  0.047931     0.000720     0.000265     0.000000   \n",
       "4  0.144568  0.093651  0.067145     0.061129     0.074656     0.065164   \n",
       "\n",
       "   offnet_mou_6  offnet_mou_7  offnet_mou_8  roam_ic_mou_6  ...  monthly_3g_6  \\\n",
       "0      0.007194      0.004771      0.002487       0.000000  ...           0.0   \n",
       "1      0.056723      0.092260      0.028195       0.000000  ...           0.0   \n",
       "2      0.002031      0.006797      0.003215       0.008728  ...           0.0   \n",
       "3      0.004788      0.030417      0.001714       0.000000  ...           0.0   \n",
       "4      0.007287      0.003537      0.005294       0.000000  ...           0.0   \n",
       "\n",
       "   monthly_3g_7  monthly_3g_8  sachet_3g_6  sachet_3g_7  sachet_3g_8  \\\n",
       "0           0.0           0.0          0.0          0.0          0.0   \n",
       "1           0.0           0.0          0.0          0.0          0.0   \n",
       "2           0.0           0.0          0.0          0.0          0.0   \n",
       "3           0.0           0.0          0.0          0.0          0.0   \n",
       "4           0.0           0.0          0.0          0.0          0.0   \n",
       "\n",
       "        aon  aug_vbc_3g  jul_vbc_3g  jun_vbc_3g  \n",
       "0  0.365129    0.000000    0.000000      0.0000  \n",
       "1  0.568220    0.000000    0.000000      0.0000  \n",
       "2  0.023424    0.040694    0.082745      0.0319  \n",
       "3  0.256943    0.000000    0.000000      0.0000  \n",
       "4  0.068099    0.000000    0.000000      0.0000  \n",
       "\n",
       "[5 rows x 133 columns]"
      ]
     },
     "execution_count": 53,
     "metadata": {},
     "output_type": "execute_result"
    }
   ],
   "source": [
    "# Lets fit the scaler for train data as well\n",
    "test_numerical_columns = telecom_test_df.columns.to_list()\n",
    "telecom_test_df[test_numerical_columns] = scaler.transform(telecom_test_df[test_numerical_columns])\n",
    "telecom_test_df.head()"
   ]
  },
  {
   "cell_type": "markdown",
   "id": "5c9c47b1",
   "metadata": {},
   "source": [
    "## Modelling \n",
    "\n",
    "1. Logistic Regression using RFE - To get important predictors for Churn probability\n",
    "2. Logistic Regression - To know Churn probability + PCA\n",
    "    - Lasso\n",
    "    - Ridge\n",
    "3. Tree models\n",
    "    - XGBoost\n",
    "    - Random Forest"
   ]
  },
  {
   "cell_type": "markdown",
   "id": "e6bca16f",
   "metadata": {},
   "source": [
    "## 1. Logistic Regression using RFE - To get importnat predictors for Churn probability"
   ]
  },
  {
   "cell_type": "code",
   "execution_count": 54,
   "id": "cd4d9e79",
   "metadata": {},
   "outputs": [
    {
     "data": {
      "text/html": [
       "<table class=\"simpletable\">\n",
       "<caption>Generalized Linear Model Regression Results</caption>\n",
       "<tr>\n",
       "  <th>Dep. Variable:</th>   <td>churn_probability</td> <th>  No. Observations:  </th>  <td> 27020</td> \n",
       "</tr>\n",
       "<tr>\n",
       "  <th>Model:</th>                  <td>GLM</td>        <th>  Df Residuals:      </th>  <td> 26889</td> \n",
       "</tr>\n",
       "<tr>\n",
       "  <th>Model Family:</th>        <td>Binomial</td>      <th>  Df Model:          </th>  <td>   130</td> \n",
       "</tr>\n",
       "<tr>\n",
       "  <th>Link Function:</th>         <td>logit</td>       <th>  Scale:             </th> <td>  1.0000</td>\n",
       "</tr>\n",
       "<tr>\n",
       "  <th>Method:</th>                <td>IRLS</td>        <th>  Log-Likelihood:    </th> <td> -8691.3</td>\n",
       "</tr>\n",
       "<tr>\n",
       "  <th>Date:</th>            <td>Sat, 17 Sep 2022</td>  <th>  Deviance:          </th> <td>  17383.</td>\n",
       "</tr>\n",
       "<tr>\n",
       "  <th>Time:</th>                <td>10:31:07</td>      <th>  Pearson chi2:      </th> <td>7.90e+04</td>\n",
       "</tr>\n",
       "<tr>\n",
       "  <th>No. Iterations:</th>         <td>10</td>         <th>                     </th>     <td> </td>   \n",
       "</tr>\n",
       "<tr>\n",
       "  <th>Covariance Type:</th>     <td>nonrobust</td>     <th>                     </th>     <td> </td>   \n",
       "</tr>\n",
       "</table>\n",
       "<table class=\"simpletable\">\n",
       "<tr>\n",
       "           <td></td>             <th>coef</th>     <th>std err</th>      <th>z</th>      <th>P>|z|</th>  <th>[0.025</th>    <th>0.975]</th>  \n",
       "</tr>\n",
       "<tr>\n",
       "  <th>const</th>              <td>   -3.2327</td> <td>    0.672</td> <td>   -4.808</td> <td> 0.000</td> <td>   -4.550</td> <td>   -1.915</td>\n",
       "</tr>\n",
       "<tr>\n",
       "  <th>arpu_6</th>             <td>    7.6452</td> <td>    3.682</td> <td>    2.077</td> <td> 0.038</td> <td>    0.430</td> <td>   14.861</td>\n",
       "</tr>\n",
       "<tr>\n",
       "  <th>arpu_7</th>             <td>   19.4164</td> <td>    4.344</td> <td>    4.469</td> <td> 0.000</td> <td>   10.902</td> <td>   27.931</td>\n",
       "</tr>\n",
       "<tr>\n",
       "  <th>arpu_8</th>             <td>   34.2890</td> <td>    4.909</td> <td>    6.984</td> <td> 0.000</td> <td>   24.667</td> <td>   43.911</td>\n",
       "</tr>\n",
       "<tr>\n",
       "  <th>onnet_mou_6</th>        <td>  -98.5392</td> <td>   35.462</td> <td>   -2.779</td> <td> 0.005</td> <td> -168.043</td> <td>  -29.035</td>\n",
       "</tr>\n",
       "<tr>\n",
       "  <th>onnet_mou_7</th>        <td>  -23.8530</td> <td>   31.525</td> <td>   -0.757</td> <td> 0.449</td> <td>  -85.641</td> <td>   37.935</td>\n",
       "</tr>\n",
       "<tr>\n",
       "  <th>onnet_mou_8</th>        <td>  -24.5716</td> <td>   49.594</td> <td>   -0.495</td> <td> 0.620</td> <td> -121.774</td> <td>   72.631</td>\n",
       "</tr>\n",
       "<tr>\n",
       "  <th>offnet_mou_6</th>       <td> -101.0084</td> <td>   39.825</td> <td>   -2.536</td> <td> 0.011</td> <td> -179.063</td> <td>  -22.954</td>\n",
       "</tr>\n",
       "<tr>\n",
       "  <th>offnet_mou_7</th>       <td>  -21.5894</td> <td>   25.172</td> <td>   -0.858</td> <td> 0.391</td> <td>  -70.925</td> <td>   27.746</td>\n",
       "</tr>\n",
       "<tr>\n",
       "  <th>offnet_mou_8</th>       <td>  -76.6540</td> <td>   63.190</td> <td>   -1.213</td> <td> 0.225</td> <td> -200.504</td> <td>   47.196</td>\n",
       "</tr>\n",
       "<tr>\n",
       "  <th>roam_ic_mou_6</th>      <td>    1.5033</td> <td>    1.091</td> <td>    1.378</td> <td> 0.168</td> <td>   -0.636</td> <td>    3.642</td>\n",
       "</tr>\n",
       "<tr>\n",
       "  <th>roam_ic_mou_7</th>      <td>    1.3534</td> <td>    1.293</td> <td>    1.047</td> <td> 0.295</td> <td>   -1.181</td> <td>    3.888</td>\n",
       "</tr>\n",
       "<tr>\n",
       "  <th>roam_ic_mou_8</th>      <td>   -1.9156</td> <td>    1.369</td> <td>   -1.399</td> <td> 0.162</td> <td>   -4.599</td> <td>    0.767</td>\n",
       "</tr>\n",
       "<tr>\n",
       "  <th>roam_og_mou_6</th>      <td>   48.4592</td> <td>   18.109</td> <td>    2.676</td> <td> 0.007</td> <td>   12.966</td> <td>   83.952</td>\n",
       "</tr>\n",
       "<tr>\n",
       "  <th>roam_og_mou_7</th>      <td>   12.5137</td> <td>   10.644</td> <td>    1.176</td> <td> 0.240</td> <td>   -8.349</td> <td>   33.376</td>\n",
       "</tr>\n",
       "<tr>\n",
       "  <th>roam_og_mou_8</th>      <td>   26.5598</td> <td>   24.378</td> <td>    1.090</td> <td> 0.276</td> <td>  -21.220</td> <td>   74.339</td>\n",
       "</tr>\n",
       "<tr>\n",
       "  <th>loc_og_t2t_mou_6</th>   <td>-2.714e+04</td> <td> 2.53e+04</td> <td>   -1.074</td> <td> 0.283</td> <td>-7.67e+04</td> <td> 2.24e+04</td>\n",
       "</tr>\n",
       "<tr>\n",
       "  <th>loc_og_t2t_mou_7</th>   <td>-1308.6279</td> <td> 2.85e+04</td> <td>   -0.046</td> <td> 0.963</td> <td>-5.72e+04</td> <td> 5.45e+04</td>\n",
       "</tr>\n",
       "<tr>\n",
       "  <th>loc_og_t2t_mou_8</th>   <td> 1.983e+05</td> <td> 4.39e+04</td> <td>    4.513</td> <td> 0.000</td> <td> 1.12e+05</td> <td> 2.84e+05</td>\n",
       "</tr>\n",
       "<tr>\n",
       "  <th>loc_og_t2m_mou_6</th>   <td>-1.983e+04</td> <td> 1.85e+04</td> <td>   -1.075</td> <td> 0.282</td> <td> -5.6e+04</td> <td> 1.63e+04</td>\n",
       "</tr>\n",
       "<tr>\n",
       "  <th>loc_og_t2m_mou_7</th>   <td> -808.4088</td> <td> 1.75e+04</td> <td>   -0.046</td> <td> 0.963</td> <td>-3.52e+04</td> <td> 3.36e+04</td>\n",
       "</tr>\n",
       "<tr>\n",
       "  <th>loc_og_t2m_mou_8</th>   <td> 9.151e+04</td> <td> 2.03e+04</td> <td>    4.514</td> <td> 0.000</td> <td> 5.18e+04</td> <td> 1.31e+05</td>\n",
       "</tr>\n",
       "<tr>\n",
       "  <th>loc_og_t2f_mou_6</th>   <td>-2612.7955</td> <td> 2426.610</td> <td>   -1.077</td> <td> 0.282</td> <td>-7368.865</td> <td> 2143.274</td>\n",
       "</tr>\n",
       "<tr>\n",
       "  <th>loc_og_t2f_mou_7</th>   <td> -144.6729</td> <td> 3139.418</td> <td>   -0.046</td> <td> 0.963</td> <td>-6297.820</td> <td> 6008.474</td>\n",
       "</tr>\n",
       "<tr>\n",
       "  <th>loc_og_t2f_mou_8</th>   <td> 1.085e+04</td> <td> 2403.786</td> <td>    4.515</td> <td> 0.000</td> <td> 6142.041</td> <td> 1.56e+04</td>\n",
       "</tr>\n",
       "<tr>\n",
       "  <th>loc_og_t2c_mou_6</th>   <td>   -8.3567</td> <td>    1.470</td> <td>   -5.684</td> <td> 0.000</td> <td>  -11.238</td> <td>   -5.475</td>\n",
       "</tr>\n",
       "<tr>\n",
       "  <th>loc_og_t2c_mou_7</th>   <td>   -2.6240</td> <td>    2.542</td> <td>   -1.032</td> <td> 0.302</td> <td>   -7.606</td> <td>    2.358</td>\n",
       "</tr>\n",
       "<tr>\n",
       "  <th>loc_og_t2c_mou_8</th>   <td>    7.1532</td> <td>    1.592</td> <td>    4.493</td> <td> 0.000</td> <td>    4.032</td> <td>   10.274</td>\n",
       "</tr>\n",
       "<tr>\n",
       "  <th>loc_og_mou_6</th>       <td>-7681.4616</td> <td> 4.75e+04</td> <td>   -0.162</td> <td> 0.871</td> <td>-1.01e+05</td> <td> 8.54e+04</td>\n",
       "</tr>\n",
       "<tr>\n",
       "  <th>loc_og_mou_7</th>       <td>-3.991e+04</td> <td> 3.48e+04</td> <td>   -1.146</td> <td> 0.252</td> <td>-1.08e+05</td> <td> 2.83e+04</td>\n",
       "</tr>\n",
       "<tr>\n",
       "  <th>loc_og_mou_8</th>       <td>-2.498e+05</td> <td> 5.36e+04</td> <td>   -4.658</td> <td> 0.000</td> <td>-3.55e+05</td> <td>-1.45e+05</td>\n",
       "</tr>\n",
       "<tr>\n",
       "  <th>std_og_t2t_mou_6</th>   <td>-5.961e+04</td> <td>  3.5e+04</td> <td>   -1.705</td> <td> 0.088</td> <td>-1.28e+05</td> <td> 8918.286</td>\n",
       "</tr>\n",
       "<tr>\n",
       "  <th>std_og_t2t_mou_7</th>   <td>-4.655e+04</td> <td>    4e+04</td> <td>   -1.164</td> <td> 0.244</td> <td>-1.25e+05</td> <td> 3.18e+04</td>\n",
       "</tr>\n",
       "<tr>\n",
       "  <th>std_og_t2t_mou_8</th>   <td>  1.82e+05</td> <td> 4.19e+04</td> <td>    4.340</td> <td> 0.000</td> <td> 9.98e+04</td> <td> 2.64e+05</td>\n",
       "</tr>\n",
       "<tr>\n",
       "  <th>std_og_t2m_mou_6</th>   <td>-6.729e+04</td> <td> 3.95e+04</td> <td>   -1.705</td> <td> 0.088</td> <td>-1.45e+05</td> <td> 1.01e+04</td>\n",
       "</tr>\n",
       "<tr>\n",
       "  <th>std_og_t2m_mou_7</th>   <td> -3.79e+04</td> <td> 3.26e+04</td> <td>   -1.164</td> <td> 0.244</td> <td>-1.02e+05</td> <td> 2.59e+04</td>\n",
       "</tr>\n",
       "<tr>\n",
       "  <th>std_og_t2m_mou_8</th>   <td> 3.169e+05</td> <td>  7.3e+04</td> <td>    4.341</td> <td> 0.000</td> <td> 1.74e+05</td> <td>  4.6e+05</td>\n",
       "</tr>\n",
       "<tr>\n",
       "  <th>std_og_t2f_mou_6</th>   <td>-2737.1050</td> <td> 1604.392</td> <td>   -1.706</td> <td> 0.088</td> <td>-5881.655</td> <td>  407.445</td>\n",
       "</tr>\n",
       "<tr>\n",
       "  <th>std_og_t2f_mou_7</th>   <td>-2665.0103</td> <td> 2289.598</td> <td>   -1.164</td> <td> 0.244</td> <td>-7152.540</td> <td> 1822.519</td>\n",
       "</tr>\n",
       "<tr>\n",
       "  <th>std_og_t2f_mou_8</th>   <td> 8041.6495</td> <td> 1853.653</td> <td>    4.338</td> <td> 0.000</td> <td> 4408.557</td> <td> 1.17e+04</td>\n",
       "</tr>\n",
       "<tr>\n",
       "  <th>std_og_mou_6</th>       <td> 2.656e+04</td> <td> 4.33e+04</td> <td>    0.613</td> <td> 0.540</td> <td>-5.84e+04</td> <td> 1.11e+05</td>\n",
       "</tr>\n",
       "<tr>\n",
       "  <th>std_og_mou_7</th>       <td> 2825.5762</td> <td> 4.46e+04</td> <td>    0.063</td> <td> 0.950</td> <td>-8.46e+04</td> <td> 9.03e+04</td>\n",
       "</tr>\n",
       "<tr>\n",
       "  <th>std_og_mou_8</th>       <td>-3.761e+05</td> <td> 8.07e+04</td> <td>   -4.662</td> <td> 0.000</td> <td>-5.34e+05</td> <td>-2.18e+05</td>\n",
       "</tr>\n",
       "<tr>\n",
       "  <th>isd_og_mou_6</th>       <td>-2.919e+04</td> <td> 1.69e+04</td> <td>   -1.732</td> <td> 0.083</td> <td>-6.22e+04</td> <td> 3843.054</td>\n",
       "</tr>\n",
       "<tr>\n",
       "  <th>isd_og_mou_7</th>       <td>-2.953e+04</td> <td> 1.75e+04</td> <td>   -1.683</td> <td> 0.092</td> <td>-6.39e+04</td> <td> 4863.352</td>\n",
       "</tr>\n",
       "<tr>\n",
       "  <th>isd_og_mou_8</th>       <td>-2.383e+04</td> <td> 1.88e+04</td> <td>   -1.270</td> <td> 0.204</td> <td>-6.06e+04</td> <td> 1.29e+04</td>\n",
       "</tr>\n",
       "<tr>\n",
       "  <th>spl_og_mou_6</th>       <td>-5055.1077</td> <td> 2922.474</td> <td>   -1.730</td> <td> 0.084</td> <td>-1.08e+04</td> <td>  672.837</td>\n",
       "</tr>\n",
       "<tr>\n",
       "  <th>spl_og_mou_7</th>       <td>-6812.8371</td> <td> 4046.161</td> <td>   -1.684</td> <td> 0.092</td> <td>-1.47e+04</td> <td> 1117.492</td>\n",
       "</tr>\n",
       "<tr>\n",
       "  <th>spl_og_mou_8</th>       <td>-3289.5222</td> <td> 2589.199</td> <td>   -1.270</td> <td> 0.204</td> <td>-8364.259</td> <td> 1785.215</td>\n",
       "</tr>\n",
       "<tr>\n",
       "  <th>og_others_6</th>        <td>-3053.3516</td> <td> 1743.349</td> <td>   -1.751</td> <td> 0.080</td> <td>-6470.253</td> <td>  363.549</td>\n",
       "</tr>\n",
       "<tr>\n",
       "  <th>og_others_7</th>        <td> -377.0073</td> <td>  214.713</td> <td>   -1.756</td> <td> 0.079</td> <td> -797.838</td> <td>   43.823</td>\n",
       "</tr>\n",
       "<tr>\n",
       "  <th>og_others_8</th>        <td>-1902.4967</td> <td> 1316.980</td> <td>   -1.445</td> <td> 0.149</td> <td>-4483.730</td> <td>  678.736</td>\n",
       "</tr>\n",
       "<tr>\n",
       "  <th>total_og_mou_6</th>     <td>  5.29e+04</td> <td> 3.05e+04</td> <td>    1.735</td> <td> 0.083</td> <td>-6851.253</td> <td> 1.13e+05</td>\n",
       "</tr>\n",
       "<tr>\n",
       "  <th>total_og_mou_7</th>     <td> 4.458e+04</td> <td> 2.65e+04</td> <td>    1.683</td> <td> 0.092</td> <td>-7330.800</td> <td> 9.65e+04</td>\n",
       "</tr>\n",
       "<tr>\n",
       "  <th>total_og_mou_8</th>     <td> 5.888e+04</td> <td> 4.64e+04</td> <td>    1.269</td> <td> 0.204</td> <td> -3.2e+04</td> <td>  1.5e+05</td>\n",
       "</tr>\n",
       "<tr>\n",
       "  <th>loc_ic_t2t_mou_6</th>   <td>-1.098e+05</td> <td> 1.61e+04</td> <td>   -6.798</td> <td> 0.000</td> <td>-1.41e+05</td> <td>-7.81e+04</td>\n",
       "</tr>\n",
       "<tr>\n",
       "  <th>loc_ic_t2t_mou_7</th>   <td> 8.669e+04</td> <td> 2.13e+04</td> <td>    4.069</td> <td> 0.000</td> <td> 4.49e+04</td> <td> 1.28e+05</td>\n",
       "</tr>\n",
       "<tr>\n",
       "  <th>loc_ic_t2t_mou_8</th>   <td> 1.436e+05</td> <td> 1.52e+04</td> <td>    9.435</td> <td> 0.000</td> <td> 1.14e+05</td> <td> 1.73e+05</td>\n",
       "</tr>\n",
       "<tr>\n",
       "  <th>loc_ic_t2m_mou_6</th>   <td>-1.119e+05</td> <td> 1.65e+04</td> <td>   -6.798</td> <td> 0.000</td> <td>-1.44e+05</td> <td>-7.97e+04</td>\n",
       "</tr>\n",
       "<tr>\n",
       "  <th>loc_ic_t2m_mou_7</th>   <td> 6.114e+04</td> <td>  1.5e+04</td> <td>    4.069</td> <td> 0.000</td> <td> 3.17e+04</td> <td> 9.06e+04</td>\n",
       "</tr>\n",
       "<tr>\n",
       "  <th>loc_ic_t2m_mou_8</th>   <td> 1.678e+05</td> <td> 1.78e+04</td> <td>    9.435</td> <td> 0.000</td> <td> 1.33e+05</td> <td> 2.03e+05</td>\n",
       "</tr>\n",
       "<tr>\n",
       "  <th>loc_ic_t2f_mou_6</th>   <td>-3.454e+04</td> <td> 5080.197</td> <td>   -6.799</td> <td> 0.000</td> <td>-4.45e+04</td> <td>-2.46e+04</td>\n",
       "</tr>\n",
       "<tr>\n",
       "  <th>loc_ic_t2f_mou_7</th>   <td> 3.012e+04</td> <td> 7398.259</td> <td>    4.071</td> <td> 0.000</td> <td> 1.56e+04</td> <td> 4.46e+04</td>\n",
       "</tr>\n",
       "<tr>\n",
       "  <th>loc_ic_t2f_mou_8</th>   <td> 5.275e+04</td> <td> 5592.304</td> <td>    9.433</td> <td> 0.000</td> <td> 4.18e+04</td> <td> 6.37e+04</td>\n",
       "</tr>\n",
       "<tr>\n",
       "  <th>loc_ic_mou_6</th>       <td> 1.676e+05</td> <td> 2.79e+04</td> <td>    6.013</td> <td> 0.000</td> <td> 1.13e+05</td> <td> 2.22e+05</td>\n",
       "</tr>\n",
       "<tr>\n",
       "  <th>loc_ic_mou_7</th>       <td>-5.846e+04</td> <td>  2.5e+04</td> <td>   -2.343</td> <td> 0.019</td> <td>-1.07e+05</td> <td>-9561.548</td>\n",
       "</tr>\n",
       "<tr>\n",
       "  <th>loc_ic_mou_8</th>       <td>-1.175e+05</td> <td> 2.08e+04</td> <td>   -5.657</td> <td> 0.000</td> <td>-1.58e+05</td> <td>-7.68e+04</td>\n",
       "</tr>\n",
       "<tr>\n",
       "  <th>std_ic_t2t_mou_6</th>   <td>-3.403e+04</td> <td> 1.43e+04</td> <td>   -2.388</td> <td> 0.017</td> <td> -6.2e+04</td> <td>-6099.404</td>\n",
       "</tr>\n",
       "<tr>\n",
       "  <th>std_ic_t2t_mou_7</th>   <td>-4.057e+04</td> <td> 2.04e+04</td> <td>   -1.988</td> <td> 0.047</td> <td>-8.06e+04</td> <td> -567.800</td>\n",
       "</tr>\n",
       "<tr>\n",
       "  <th>std_ic_t2t_mou_8</th>   <td> 2.835e+04</td> <td> 1.78e+04</td> <td>    1.594</td> <td> 0.111</td> <td>-6511.386</td> <td> 6.32e+04</td>\n",
       "</tr>\n",
       "<tr>\n",
       "  <th>std_ic_t2m_mou_6</th>   <td>-4.048e+04</td> <td>  1.7e+04</td> <td>   -2.388</td> <td> 0.017</td> <td>-7.37e+04</td> <td>-7256.477</td>\n",
       "</tr>\n",
       "<tr>\n",
       "  <th>std_ic_t2m_mou_7</th>   <td>-2.519e+04</td> <td> 1.27e+04</td> <td>   -1.988</td> <td> 0.047</td> <td>   -5e+04</td> <td> -359.744</td>\n",
       "</tr>\n",
       "<tr>\n",
       "  <th>std_ic_t2m_mou_8</th>   <td> 2.386e+04</td> <td>  1.5e+04</td> <td>    1.595</td> <td> 0.111</td> <td>-5458.103</td> <td> 5.32e+04</td>\n",
       "</tr>\n",
       "<tr>\n",
       "  <th>std_ic_t2f_mou_6</th>   <td>-1.514e+04</td> <td> 6337.487</td> <td>   -2.389</td> <td> 0.017</td> <td>-2.76e+04</td> <td>-2719.691</td>\n",
       "</tr>\n",
       "<tr>\n",
       "  <th>std_ic_t2f_mou_7</th>   <td>-1.088e+04</td> <td> 5474.796</td> <td>   -1.987</td> <td> 0.047</td> <td>-2.16e+04</td> <td> -146.163</td>\n",
       "</tr>\n",
       "<tr>\n",
       "  <th>std_ic_t2f_mou_8</th>   <td> 1.154e+04</td> <td> 7246.715</td> <td>    1.593</td> <td> 0.111</td> <td>-2660.297</td> <td> 2.57e+04</td>\n",
       "</tr>\n",
       "<tr>\n",
       "  <th>std_ic_mou_6</th>       <td> 3.087e+04</td> <td> 1.77e+04</td> <td>    1.743</td> <td> 0.081</td> <td>-3835.286</td> <td> 6.56e+04</td>\n",
       "</tr>\n",
       "<tr>\n",
       "  <th>std_ic_mou_7</th>       <td> 6.796e+04</td> <td> 2.21e+04</td> <td>    3.080</td> <td> 0.002</td> <td> 2.47e+04</td> <td> 1.11e+05</td>\n",
       "</tr>\n",
       "<tr>\n",
       "  <th>std_ic_mou_8</th>       <td> 2.163e+04</td> <td> 2.07e+04</td> <td>    1.046</td> <td> 0.296</td> <td>-1.89e+04</td> <td> 6.22e+04</td>\n",
       "</tr>\n",
       "<tr>\n",
       "  <th>total_ic_mou_6</th>     <td> 2.056e+04</td> <td> 1.77e+04</td> <td>    1.159</td> <td> 0.246</td> <td>-1.42e+04</td> <td> 5.53e+04</td>\n",
       "</tr>\n",
       "<tr>\n",
       "  <th>total_ic_mou_7</th>     <td>-4.569e+04</td> <td> 1.84e+04</td> <td>   -2.480</td> <td> 0.013</td> <td>-8.18e+04</td> <td>-9578.788</td>\n",
       "</tr>\n",
       "<tr>\n",
       "  <th>total_ic_mou_8</th>     <td>  -8.5e+04</td> <td> 1.53e+04</td> <td>   -5.539</td> <td> 0.000</td> <td>-1.15e+05</td> <td>-5.49e+04</td>\n",
       "</tr>\n",
       "<tr>\n",
       "  <th>spl_ic_mou_6</th>       <td>  -44.7049</td> <td>   45.899</td> <td>   -0.974</td> <td> 0.330</td> <td> -134.665</td> <td>   45.255</td>\n",
       "</tr>\n",
       "<tr>\n",
       "  <th>spl_ic_mou_7</th>       <td>   77.1124</td> <td>   33.584</td> <td>    2.296</td> <td> 0.022</td> <td>   11.289</td> <td>  142.936</td>\n",
       "</tr>\n",
       "<tr>\n",
       "  <th>spl_ic_mou_8</th>       <td>    9.6311</td> <td>    3.292</td> <td>    2.926</td> <td> 0.003</td> <td>    3.180</td> <td>   16.083</td>\n",
       "</tr>\n",
       "<tr>\n",
       "  <th>isd_ic_mou_6</th>       <td>-1.809e+04</td> <td> 1.56e+04</td> <td>   -1.160</td> <td> 0.246</td> <td>-4.87e+04</td> <td> 1.25e+04</td>\n",
       "</tr>\n",
       "<tr>\n",
       "  <th>isd_ic_mou_7</th>       <td>  2.77e+04</td> <td> 1.12e+04</td> <td>    2.480</td> <td> 0.013</td> <td> 5805.357</td> <td> 4.96e+04</td>\n",
       "</tr>\n",
       "<tr>\n",
       "  <th>isd_ic_mou_8</th>       <td> 3.358e+04</td> <td> 6062.180</td> <td>    5.540</td> <td> 0.000</td> <td> 2.17e+04</td> <td> 4.55e+04</td>\n",
       "</tr>\n",
       "<tr>\n",
       "  <th>ic_others_6</th>        <td>-3601.0717</td> <td> 3089.348</td> <td>   -1.166</td> <td> 0.244</td> <td>-9656.082</td> <td> 2453.939</td>\n",
       "</tr>\n",
       "<tr>\n",
       "  <th>ic_others_7</th>        <td> 9188.9578</td> <td> 3703.753</td> <td>    2.481</td> <td> 0.013</td> <td> 1929.735</td> <td> 1.64e+04</td>\n",
       "</tr>\n",
       "<tr>\n",
       "  <th>ic_others_8</th>        <td> 1.696e+04</td> <td> 3060.364</td> <td>    5.541</td> <td> 0.000</td> <td>  1.1e+04</td> <td>  2.3e+04</td>\n",
       "</tr>\n",
       "<tr>\n",
       "  <th>total_rech_num_6</th>   <td>   -0.6263</td> <td>    0.739</td> <td>   -0.848</td> <td> 0.396</td> <td>   -2.074</td> <td>    0.821</td>\n",
       "</tr>\n",
       "<tr>\n",
       "  <th>total_rech_num_7</th>   <td>    3.8072</td> <td>    0.732</td> <td>    5.205</td> <td> 0.000</td> <td>    2.373</td> <td>    5.241</td>\n",
       "</tr>\n",
       "<tr>\n",
       "  <th>total_rech_num_8</th>   <td>   -6.9305</td> <td>    0.812</td> <td>   -8.533</td> <td> 0.000</td> <td>   -8.522</td> <td>   -5.339</td>\n",
       "</tr>\n",
       "<tr>\n",
       "  <th>total_rech_amt_6</th>   <td>    0.6120</td> <td>    3.289</td> <td>    0.186</td> <td> 0.852</td> <td>   -5.834</td> <td>    7.058</td>\n",
       "</tr>\n",
       "<tr>\n",
       "  <th>total_rech_amt_7</th>   <td>  -16.3747</td> <td>    3.949</td> <td>   -4.147</td> <td> 0.000</td> <td>  -24.115</td> <td>   -8.635</td>\n",
       "</tr>\n",
       "<tr>\n",
       "  <th>total_rech_amt_8</th>   <td>  -31.8066</td> <td>    4.478</td> <td>   -7.103</td> <td> 0.000</td> <td>  -40.583</td> <td>  -23.030</td>\n",
       "</tr>\n",
       "<tr>\n",
       "  <th>max_rech_amt_6</th>     <td>   -3.8076</td> <td>    1.030</td> <td>   -3.696</td> <td> 0.000</td> <td>   -5.827</td> <td>   -1.788</td>\n",
       "</tr>\n",
       "<tr>\n",
       "  <th>max_rech_amt_7</th>     <td>   -0.2665</td> <td>    0.832</td> <td>   -0.320</td> <td> 0.749</td> <td>   -1.897</td> <td>    1.364</td>\n",
       "</tr>\n",
       "<tr>\n",
       "  <th>max_rech_amt_8</th>     <td>   10.5136</td> <td>    1.310</td> <td>    8.023</td> <td> 0.000</td> <td>    7.945</td> <td>   13.082</td>\n",
       "</tr>\n",
       "<tr>\n",
       "  <th>last_day_rch_amt_6</th> <td>   -0.3251</td> <td>    0.915</td> <td>   -0.355</td> <td> 0.722</td> <td>   -2.118</td> <td>    1.468</td>\n",
       "</tr>\n",
       "<tr>\n",
       "  <th>last_day_rch_amt_7</th> <td>    2.2214</td> <td>    0.693</td> <td>    3.207</td> <td> 0.001</td> <td>    0.864</td> <td>    3.579</td>\n",
       "</tr>\n",
       "<tr>\n",
       "  <th>last_day_rch_amt_8</th> <td>  -16.7624</td> <td>    1.233</td> <td>  -13.596</td> <td> 0.000</td> <td>  -19.179</td> <td>  -14.346</td>\n",
       "</tr>\n",
       "<tr>\n",
       "  <th>total_rech_data_6</th>  <td>    1.9709</td> <td>    0.435</td> <td>    4.529</td> <td> 0.000</td> <td>    1.118</td> <td>    2.824</td>\n",
       "</tr>\n",
       "<tr>\n",
       "  <th>total_rech_data_7</th>  <td>   -0.0601</td> <td>    0.559</td> <td>   -0.107</td> <td> 0.914</td> <td>   -1.156</td> <td>    1.036</td>\n",
       "</tr>\n",
       "<tr>\n",
       "  <th>total_rech_data_8</th>  <td>   -5.9510</td> <td>    1.087</td> <td>   -5.477</td> <td> 0.000</td> <td>   -8.081</td> <td>   -3.821</td>\n",
       "</tr>\n",
       "<tr>\n",
       "  <th>max_rech_data_6</th>    <td>    4.7759</td> <td>    0.788</td> <td>    6.057</td> <td> 0.000</td> <td>    3.231</td> <td>    6.321</td>\n",
       "</tr>\n",
       "<tr>\n",
       "  <th>max_rech_data_7</th>    <td>   -0.5038</td> <td>    0.830</td> <td>   -0.607</td> <td> 0.544</td> <td>   -2.131</td> <td>    1.123</td>\n",
       "</tr>\n",
       "<tr>\n",
       "  <th>max_rech_data_8</th>    <td>   -6.9525</td> <td>    1.047</td> <td>   -6.638</td> <td> 0.000</td> <td>   -9.005</td> <td>   -4.900</td>\n",
       "</tr>\n",
       "<tr>\n",
       "  <th>av_rech_amt_data_6</th> <td>  -14.1572</td> <td>    2.493</td> <td>   -5.680</td> <td> 0.000</td> <td>  -19.043</td> <td>   -9.272</td>\n",
       "</tr>\n",
       "<tr>\n",
       "  <th>av_rech_amt_data_7</th> <td>    0.4592</td> <td>    1.778</td> <td>    0.258</td> <td> 0.796</td> <td>   -3.026</td> <td>    3.945</td>\n",
       "</tr>\n",
       "<tr>\n",
       "  <th>av_rech_amt_data_8</th> <td>    1.3295</td> <td>    2.524</td> <td>    0.527</td> <td> 0.598</td> <td>   -3.617</td> <td>    6.276</td>\n",
       "</tr>\n",
       "<tr>\n",
       "  <th>vol_2g_mb_6</th>        <td>   -1.5909</td> <td>    0.810</td> <td>   -1.965</td> <td> 0.049</td> <td>   -3.178</td> <td>   -0.004</td>\n",
       "</tr>\n",
       "<tr>\n",
       "  <th>vol_2g_mb_7</th>        <td>    4.0501</td> <td>    0.945</td> <td>    4.284</td> <td> 0.000</td> <td>    2.197</td> <td>    5.903</td>\n",
       "</tr>\n",
       "<tr>\n",
       "  <th>vol_2g_mb_8</th>        <td>   -6.0667</td> <td>    1.213</td> <td>   -5.001</td> <td> 0.000</td> <td>   -8.444</td> <td>   -3.689</td>\n",
       "</tr>\n",
       "<tr>\n",
       "  <th>vol_3g_mb_6</th>        <td>  -13.4480</td> <td>    3.110</td> <td>   -4.324</td> <td> 0.000</td> <td>  -19.543</td> <td>   -7.353</td>\n",
       "</tr>\n",
       "<tr>\n",
       "  <th>vol_3g_mb_7</th>        <td>    7.5343</td> <td>    1.901</td> <td>    3.964</td> <td> 0.000</td> <td>    3.809</td> <td>   11.259</td>\n",
       "</tr>\n",
       "<tr>\n",
       "  <th>vol_3g_mb_8</th>        <td>   -6.1176</td> <td>    2.506</td> <td>   -2.441</td> <td> 0.015</td> <td>  -11.029</td> <td>   -1.206</td>\n",
       "</tr>\n",
       "<tr>\n",
       "  <th>monthly_2g_6</th>       <td>   -0.1030</td> <td>    0.321</td> <td>   -0.321</td> <td> 0.748</td> <td>   -0.732</td> <td>    0.526</td>\n",
       "</tr>\n",
       "<tr>\n",
       "  <th>monthly_2g_7</th>       <td>   -1.0967</td> <td>    0.425</td> <td>   -2.578</td> <td> 0.010</td> <td>   -1.930</td> <td>   -0.263</td>\n",
       "</tr>\n",
       "<tr>\n",
       "  <th>monthly_2g_8</th>       <td>   -3.9726</td> <td>    0.621</td> <td>   -6.393</td> <td> 0.000</td> <td>   -5.190</td> <td>   -2.755</td>\n",
       "</tr>\n",
       "<tr>\n",
       "  <th>sachet_2g_6</th>        <td>    0.2324</td> <td>    0.490</td> <td>    0.475</td> <td> 0.635</td> <td>   -0.727</td> <td>    1.192</td>\n",
       "</tr>\n",
       "<tr>\n",
       "  <th>sachet_2g_7</th>        <td>   -0.7609</td> <td>    0.559</td> <td>   -1.362</td> <td> 0.173</td> <td>   -1.856</td> <td>    0.334</td>\n",
       "</tr>\n",
       "<tr>\n",
       "  <th>sachet_2g_8</th>        <td>   -1.2153</td> <td>    0.704</td> <td>   -1.727</td> <td> 0.084</td> <td>   -2.595</td> <td>    0.164</td>\n",
       "</tr>\n",
       "<tr>\n",
       "  <th>monthly_3g_6</th>       <td>    2.3792</td> <td>    0.782</td> <td>    3.044</td> <td> 0.002</td> <td>    0.847</td> <td>    3.911</td>\n",
       "</tr>\n",
       "<tr>\n",
       "  <th>monthly_3g_7</th>       <td>   -3.1969</td> <td>    1.235</td> <td>   -2.588</td> <td> 0.010</td> <td>   -5.618</td> <td>   -0.776</td>\n",
       "</tr>\n",
       "<tr>\n",
       "  <th>monthly_3g_8</th>       <td>   -3.5319</td> <td>    1.797</td> <td>   -1.965</td> <td> 0.049</td> <td>   -7.054</td> <td>   -0.010</td>\n",
       "</tr>\n",
       "<tr>\n",
       "  <th>sachet_3g_6</th>        <td>    3.0850</td> <td>    0.881</td> <td>    3.502</td> <td> 0.000</td> <td>    1.359</td> <td>    4.811</td>\n",
       "</tr>\n",
       "<tr>\n",
       "  <th>sachet_3g_7</th>        <td>    2.5309</td> <td>    0.980</td> <td>    2.583</td> <td> 0.010</td> <td>    0.611</td> <td>    4.451</td>\n",
       "</tr>\n",
       "<tr>\n",
       "  <th>sachet_3g_8</th>        <td>   -5.8382</td> <td>    1.682</td> <td>   -3.472</td> <td> 0.001</td> <td>   -9.134</td> <td>   -2.542</td>\n",
       "</tr>\n",
       "<tr>\n",
       "  <th>aon</th>                <td>   -0.3907</td> <td>    0.106</td> <td>   -3.671</td> <td> 0.000</td> <td>   -0.599</td> <td>   -0.182</td>\n",
       "</tr>\n",
       "<tr>\n",
       "  <th>aug_vbc_3g</th>         <td>   -5.3802</td> <td>    1.735</td> <td>   -3.101</td> <td> 0.002</td> <td>   -8.781</td> <td>   -1.979</td>\n",
       "</tr>\n",
       "<tr>\n",
       "  <th>jul_vbc_3g</th>         <td>   -1.4300</td> <td>    1.001</td> <td>   -1.428</td> <td> 0.153</td> <td>   -3.392</td> <td>    0.532</td>\n",
       "</tr>\n",
       "<tr>\n",
       "  <th>jun_vbc_3g</th>         <td>    3.9614</td> <td>    0.778</td> <td>    5.092</td> <td> 0.000</td> <td>    2.437</td> <td>    5.486</td>\n",
       "</tr>\n",
       "</table>"
      ],
      "text/plain": [
       "<class 'statsmodels.iolib.summary.Summary'>\n",
       "\"\"\"\n",
       "                 Generalized Linear Model Regression Results                  \n",
       "==============================================================================\n",
       "Dep. Variable:      churn_probability   No. Observations:                27020\n",
       "Model:                            GLM   Df Residuals:                    26889\n",
       "Model Family:                Binomial   Df Model:                          130\n",
       "Link Function:                  logit   Scale:                          1.0000\n",
       "Method:                          IRLS   Log-Likelihood:                -8691.3\n",
       "Date:                Sat, 17 Sep 2022   Deviance:                       17383.\n",
       "Time:                        10:31:07   Pearson chi2:                 7.90e+04\n",
       "No. Iterations:                    10                                         \n",
       "Covariance Type:            nonrobust                                         \n",
       "======================================================================================\n",
       "                         coef    std err          z      P>|z|      [0.025      0.975]\n",
       "--------------------------------------------------------------------------------------\n",
       "const                 -3.2327      0.672     -4.808      0.000      -4.550      -1.915\n",
       "arpu_6                 7.6452      3.682      2.077      0.038       0.430      14.861\n",
       "arpu_7                19.4164      4.344      4.469      0.000      10.902      27.931\n",
       "arpu_8                34.2890      4.909      6.984      0.000      24.667      43.911\n",
       "onnet_mou_6          -98.5392     35.462     -2.779      0.005    -168.043     -29.035\n",
       "onnet_mou_7          -23.8530     31.525     -0.757      0.449     -85.641      37.935\n",
       "onnet_mou_8          -24.5716     49.594     -0.495      0.620    -121.774      72.631\n",
       "offnet_mou_6        -101.0084     39.825     -2.536      0.011    -179.063     -22.954\n",
       "offnet_mou_7         -21.5894     25.172     -0.858      0.391     -70.925      27.746\n",
       "offnet_mou_8         -76.6540     63.190     -1.213      0.225    -200.504      47.196\n",
       "roam_ic_mou_6          1.5033      1.091      1.378      0.168      -0.636       3.642\n",
       "roam_ic_mou_7          1.3534      1.293      1.047      0.295      -1.181       3.888\n",
       "roam_ic_mou_8         -1.9156      1.369     -1.399      0.162      -4.599       0.767\n",
       "roam_og_mou_6         48.4592     18.109      2.676      0.007      12.966      83.952\n",
       "roam_og_mou_7         12.5137     10.644      1.176      0.240      -8.349      33.376\n",
       "roam_og_mou_8         26.5598     24.378      1.090      0.276     -21.220      74.339\n",
       "loc_og_t2t_mou_6   -2.714e+04   2.53e+04     -1.074      0.283   -7.67e+04    2.24e+04\n",
       "loc_og_t2t_mou_7   -1308.6279   2.85e+04     -0.046      0.963   -5.72e+04    5.45e+04\n",
       "loc_og_t2t_mou_8    1.983e+05   4.39e+04      4.513      0.000    1.12e+05    2.84e+05\n",
       "loc_og_t2m_mou_6   -1.983e+04   1.85e+04     -1.075      0.282    -5.6e+04    1.63e+04\n",
       "loc_og_t2m_mou_7    -808.4088   1.75e+04     -0.046      0.963   -3.52e+04    3.36e+04\n",
       "loc_og_t2m_mou_8    9.151e+04   2.03e+04      4.514      0.000    5.18e+04    1.31e+05\n",
       "loc_og_t2f_mou_6   -2612.7955   2426.610     -1.077      0.282   -7368.865    2143.274\n",
       "loc_og_t2f_mou_7    -144.6729   3139.418     -0.046      0.963   -6297.820    6008.474\n",
       "loc_og_t2f_mou_8    1.085e+04   2403.786      4.515      0.000    6142.041    1.56e+04\n",
       "loc_og_t2c_mou_6      -8.3567      1.470     -5.684      0.000     -11.238      -5.475\n",
       "loc_og_t2c_mou_7      -2.6240      2.542     -1.032      0.302      -7.606       2.358\n",
       "loc_og_t2c_mou_8       7.1532      1.592      4.493      0.000       4.032      10.274\n",
       "loc_og_mou_6       -7681.4616   4.75e+04     -0.162      0.871   -1.01e+05    8.54e+04\n",
       "loc_og_mou_7       -3.991e+04   3.48e+04     -1.146      0.252   -1.08e+05    2.83e+04\n",
       "loc_og_mou_8       -2.498e+05   5.36e+04     -4.658      0.000   -3.55e+05   -1.45e+05\n",
       "std_og_t2t_mou_6   -5.961e+04    3.5e+04     -1.705      0.088   -1.28e+05    8918.286\n",
       "std_og_t2t_mou_7   -4.655e+04      4e+04     -1.164      0.244   -1.25e+05    3.18e+04\n",
       "std_og_t2t_mou_8     1.82e+05   4.19e+04      4.340      0.000    9.98e+04    2.64e+05\n",
       "std_og_t2m_mou_6   -6.729e+04   3.95e+04     -1.705      0.088   -1.45e+05    1.01e+04\n",
       "std_og_t2m_mou_7    -3.79e+04   3.26e+04     -1.164      0.244   -1.02e+05    2.59e+04\n",
       "std_og_t2m_mou_8    3.169e+05    7.3e+04      4.341      0.000    1.74e+05     4.6e+05\n",
       "std_og_t2f_mou_6   -2737.1050   1604.392     -1.706      0.088   -5881.655     407.445\n",
       "std_og_t2f_mou_7   -2665.0103   2289.598     -1.164      0.244   -7152.540    1822.519\n",
       "std_og_t2f_mou_8    8041.6495   1853.653      4.338      0.000    4408.557    1.17e+04\n",
       "std_og_mou_6        2.656e+04   4.33e+04      0.613      0.540   -5.84e+04    1.11e+05\n",
       "std_og_mou_7        2825.5762   4.46e+04      0.063      0.950   -8.46e+04    9.03e+04\n",
       "std_og_mou_8       -3.761e+05   8.07e+04     -4.662      0.000   -5.34e+05   -2.18e+05\n",
       "isd_og_mou_6       -2.919e+04   1.69e+04     -1.732      0.083   -6.22e+04    3843.054\n",
       "isd_og_mou_7       -2.953e+04   1.75e+04     -1.683      0.092   -6.39e+04    4863.352\n",
       "isd_og_mou_8       -2.383e+04   1.88e+04     -1.270      0.204   -6.06e+04    1.29e+04\n",
       "spl_og_mou_6       -5055.1077   2922.474     -1.730      0.084   -1.08e+04     672.837\n",
       "spl_og_mou_7       -6812.8371   4046.161     -1.684      0.092   -1.47e+04    1117.492\n",
       "spl_og_mou_8       -3289.5222   2589.199     -1.270      0.204   -8364.259    1785.215\n",
       "og_others_6        -3053.3516   1743.349     -1.751      0.080   -6470.253     363.549\n",
       "og_others_7         -377.0073    214.713     -1.756      0.079    -797.838      43.823\n",
       "og_others_8        -1902.4967   1316.980     -1.445      0.149   -4483.730     678.736\n",
       "total_og_mou_6       5.29e+04   3.05e+04      1.735      0.083   -6851.253    1.13e+05\n",
       "total_og_mou_7      4.458e+04   2.65e+04      1.683      0.092   -7330.800    9.65e+04\n",
       "total_og_mou_8      5.888e+04   4.64e+04      1.269      0.204    -3.2e+04     1.5e+05\n",
       "loc_ic_t2t_mou_6   -1.098e+05   1.61e+04     -6.798      0.000   -1.41e+05   -7.81e+04\n",
       "loc_ic_t2t_mou_7    8.669e+04   2.13e+04      4.069      0.000    4.49e+04    1.28e+05\n",
       "loc_ic_t2t_mou_8    1.436e+05   1.52e+04      9.435      0.000    1.14e+05    1.73e+05\n",
       "loc_ic_t2m_mou_6   -1.119e+05   1.65e+04     -6.798      0.000   -1.44e+05   -7.97e+04\n",
       "loc_ic_t2m_mou_7    6.114e+04    1.5e+04      4.069      0.000    3.17e+04    9.06e+04\n",
       "loc_ic_t2m_mou_8    1.678e+05   1.78e+04      9.435      0.000    1.33e+05    2.03e+05\n",
       "loc_ic_t2f_mou_6   -3.454e+04   5080.197     -6.799      0.000   -4.45e+04   -2.46e+04\n",
       "loc_ic_t2f_mou_7    3.012e+04   7398.259      4.071      0.000    1.56e+04    4.46e+04\n",
       "loc_ic_t2f_mou_8    5.275e+04   5592.304      9.433      0.000    4.18e+04    6.37e+04\n",
       "loc_ic_mou_6        1.676e+05   2.79e+04      6.013      0.000    1.13e+05    2.22e+05\n",
       "loc_ic_mou_7       -5.846e+04    2.5e+04     -2.343      0.019   -1.07e+05   -9561.548\n",
       "loc_ic_mou_8       -1.175e+05   2.08e+04     -5.657      0.000   -1.58e+05   -7.68e+04\n",
       "std_ic_t2t_mou_6   -3.403e+04   1.43e+04     -2.388      0.017    -6.2e+04   -6099.404\n",
       "std_ic_t2t_mou_7   -4.057e+04   2.04e+04     -1.988      0.047   -8.06e+04    -567.800\n",
       "std_ic_t2t_mou_8    2.835e+04   1.78e+04      1.594      0.111   -6511.386    6.32e+04\n",
       "std_ic_t2m_mou_6   -4.048e+04    1.7e+04     -2.388      0.017   -7.37e+04   -7256.477\n",
       "std_ic_t2m_mou_7   -2.519e+04   1.27e+04     -1.988      0.047      -5e+04    -359.744\n",
       "std_ic_t2m_mou_8    2.386e+04    1.5e+04      1.595      0.111   -5458.103    5.32e+04\n",
       "std_ic_t2f_mou_6   -1.514e+04   6337.487     -2.389      0.017   -2.76e+04   -2719.691\n",
       "std_ic_t2f_mou_7   -1.088e+04   5474.796     -1.987      0.047   -2.16e+04    -146.163\n",
       "std_ic_t2f_mou_8    1.154e+04   7246.715      1.593      0.111   -2660.297    2.57e+04\n",
       "std_ic_mou_6        3.087e+04   1.77e+04      1.743      0.081   -3835.286    6.56e+04\n",
       "std_ic_mou_7        6.796e+04   2.21e+04      3.080      0.002    2.47e+04    1.11e+05\n",
       "std_ic_mou_8        2.163e+04   2.07e+04      1.046      0.296   -1.89e+04    6.22e+04\n",
       "total_ic_mou_6      2.056e+04   1.77e+04      1.159      0.246   -1.42e+04    5.53e+04\n",
       "total_ic_mou_7     -4.569e+04   1.84e+04     -2.480      0.013   -8.18e+04   -9578.788\n",
       "total_ic_mou_8       -8.5e+04   1.53e+04     -5.539      0.000   -1.15e+05   -5.49e+04\n",
       "spl_ic_mou_6         -44.7049     45.899     -0.974      0.330    -134.665      45.255\n",
       "spl_ic_mou_7          77.1124     33.584      2.296      0.022      11.289     142.936\n",
       "spl_ic_mou_8           9.6311      3.292      2.926      0.003       3.180      16.083\n",
       "isd_ic_mou_6       -1.809e+04   1.56e+04     -1.160      0.246   -4.87e+04    1.25e+04\n",
       "isd_ic_mou_7         2.77e+04   1.12e+04      2.480      0.013    5805.357    4.96e+04\n",
       "isd_ic_mou_8        3.358e+04   6062.180      5.540      0.000    2.17e+04    4.55e+04\n",
       "ic_others_6        -3601.0717   3089.348     -1.166      0.244   -9656.082    2453.939\n",
       "ic_others_7         9188.9578   3703.753      2.481      0.013    1929.735    1.64e+04\n",
       "ic_others_8         1.696e+04   3060.364      5.541      0.000     1.1e+04     2.3e+04\n",
       "total_rech_num_6      -0.6263      0.739     -0.848      0.396      -2.074       0.821\n",
       "total_rech_num_7       3.8072      0.732      5.205      0.000       2.373       5.241\n",
       "total_rech_num_8      -6.9305      0.812     -8.533      0.000      -8.522      -5.339\n",
       "total_rech_amt_6       0.6120      3.289      0.186      0.852      -5.834       7.058\n",
       "total_rech_amt_7     -16.3747      3.949     -4.147      0.000     -24.115      -8.635\n",
       "total_rech_amt_8     -31.8066      4.478     -7.103      0.000     -40.583     -23.030\n",
       "max_rech_amt_6        -3.8076      1.030     -3.696      0.000      -5.827      -1.788\n",
       "max_rech_amt_7        -0.2665      0.832     -0.320      0.749      -1.897       1.364\n",
       "max_rech_amt_8        10.5136      1.310      8.023      0.000       7.945      13.082\n",
       "last_day_rch_amt_6    -0.3251      0.915     -0.355      0.722      -2.118       1.468\n",
       "last_day_rch_amt_7     2.2214      0.693      3.207      0.001       0.864       3.579\n",
       "last_day_rch_amt_8   -16.7624      1.233    -13.596      0.000     -19.179     -14.346\n",
       "total_rech_data_6      1.9709      0.435      4.529      0.000       1.118       2.824\n",
       "total_rech_data_7     -0.0601      0.559     -0.107      0.914      -1.156       1.036\n",
       "total_rech_data_8     -5.9510      1.087     -5.477      0.000      -8.081      -3.821\n",
       "max_rech_data_6        4.7759      0.788      6.057      0.000       3.231       6.321\n",
       "max_rech_data_7       -0.5038      0.830     -0.607      0.544      -2.131       1.123\n",
       "max_rech_data_8       -6.9525      1.047     -6.638      0.000      -9.005      -4.900\n",
       "av_rech_amt_data_6   -14.1572      2.493     -5.680      0.000     -19.043      -9.272\n",
       "av_rech_amt_data_7     0.4592      1.778      0.258      0.796      -3.026       3.945\n",
       "av_rech_amt_data_8     1.3295      2.524      0.527      0.598      -3.617       6.276\n",
       "vol_2g_mb_6           -1.5909      0.810     -1.965      0.049      -3.178      -0.004\n",
       "vol_2g_mb_7            4.0501      0.945      4.284      0.000       2.197       5.903\n",
       "vol_2g_mb_8           -6.0667      1.213     -5.001      0.000      -8.444      -3.689\n",
       "vol_3g_mb_6          -13.4480      3.110     -4.324      0.000     -19.543      -7.353\n",
       "vol_3g_mb_7            7.5343      1.901      3.964      0.000       3.809      11.259\n",
       "vol_3g_mb_8           -6.1176      2.506     -2.441      0.015     -11.029      -1.206\n",
       "monthly_2g_6          -0.1030      0.321     -0.321      0.748      -0.732       0.526\n",
       "monthly_2g_7          -1.0967      0.425     -2.578      0.010      -1.930      -0.263\n",
       "monthly_2g_8          -3.9726      0.621     -6.393      0.000      -5.190      -2.755\n",
       "sachet_2g_6            0.2324      0.490      0.475      0.635      -0.727       1.192\n",
       "sachet_2g_7           -0.7609      0.559     -1.362      0.173      -1.856       0.334\n",
       "sachet_2g_8           -1.2153      0.704     -1.727      0.084      -2.595       0.164\n",
       "monthly_3g_6           2.3792      0.782      3.044      0.002       0.847       3.911\n",
       "monthly_3g_7          -3.1969      1.235     -2.588      0.010      -5.618      -0.776\n",
       "monthly_3g_8          -3.5319      1.797     -1.965      0.049      -7.054      -0.010\n",
       "sachet_3g_6            3.0850      0.881      3.502      0.000       1.359       4.811\n",
       "sachet_3g_7            2.5309      0.980      2.583      0.010       0.611       4.451\n",
       "sachet_3g_8           -5.8382      1.682     -3.472      0.001      -9.134      -2.542\n",
       "aon                   -0.3907      0.106     -3.671      0.000      -0.599      -0.182\n",
       "aug_vbc_3g            -5.3802      1.735     -3.101      0.002      -8.781      -1.979\n",
       "jul_vbc_3g            -1.4300      1.001     -1.428      0.153      -3.392       0.532\n",
       "jun_vbc_3g             3.9614      0.778      5.092      0.000       2.437       5.486\n",
       "======================================================================================\n",
       "\"\"\""
      ]
     },
     "execution_count": 54,
     "metadata": {},
     "output_type": "execute_result"
    }
   ],
   "source": [
    "# For RFE\n",
    "logml = sm.GLM(y_resampled, (sm.add_constant(X_resampled)), family=sm.families.Binomial())\n",
    "logml.fit().summary()"
   ]
  },
  {
   "cell_type": "markdown",
   "id": "157e7780",
   "metadata": {},
   "source": [
    "## Lower the p-value higher the significance"
   ]
  },
  {
   "cell_type": "code",
   "execution_count": 55,
   "id": "27a6fc4c",
   "metadata": {},
   "outputs": [],
   "source": [
    "logreg = LogisticRegression()"
   ]
  },
  {
   "cell_type": "code",
   "execution_count": 56,
   "id": "f373b0ef",
   "metadata": {},
   "outputs": [],
   "source": [
    "# Running rfe with 70 variables as output\n",
    "rfe = RFE(logreg, n_features_to_select=70)\n",
    "rfe = rfe.fit(X_resampled, y_resampled)"
   ]
  },
  {
   "cell_type": "code",
   "execution_count": 57,
   "id": "ac2cb82c",
   "metadata": {},
   "outputs": [
    {
     "data": {
      "text/plain": [
       "array([ True,  True,  True,  True,  True, False,  True,  True, False,\n",
       "       False, False, False, False,  True,  True, False, False,  True,\n",
       "        True,  True,  True,  True, False,  True,  True, False, False,\n",
       "       False,  True,  True, False, False, False, False, False,  True,\n",
       "       False, False,  True, False,  True,  True, False, False, False,\n",
       "       False, False,  True, False, False, False, False, False,  True,\n",
       "       False, False,  True,  True, False,  True, False, False,  True,\n",
       "        True,  True,  True,  True, False,  True, False, False, False,\n",
       "       False, False,  True,  True, False,  True, False, False,  True,\n",
       "       False, False,  True, False, False,  True, False, False, False,\n",
       "        True,  True,  True,  True, False,  True,  True,  True,  True,\n",
       "        True, False,  True, False, False,  True,  True,  True,  True,\n",
       "        True,  True,  True,  True,  True,  True, False, False,  True,\n",
       "       False,  True,  True,  True, False,  True,  True,  True,  True,\n",
       "       False,  True,  True, False,  True, False, False])"
      ]
     },
     "execution_count": 57,
     "metadata": {},
     "output_type": "execute_result"
    }
   ],
   "source": [
    "rfe.support_ # it givs whether or not the selected feature was in top 70. True means yes"
   ]
  },
  {
   "cell_type": "code",
   "execution_count": 58,
   "id": "b474206d",
   "metadata": {},
   "outputs": [
    {
     "data": {
      "text/plain": [
       "[('arpu_6', True, 1),\n",
       " ('arpu_7', True, 1),\n",
       " ('arpu_8', True, 1),\n",
       " ('onnet_mou_6', True, 1),\n",
       " ('onnet_mou_7', True, 1),\n",
       " ('onnet_mou_8', False, 43),\n",
       " ('offnet_mou_6', True, 1),\n",
       " ('offnet_mou_7', True, 1),\n",
       " ('offnet_mou_8', False, 2),\n",
       " ('roam_ic_mou_6', False, 5),\n",
       " ('roam_ic_mou_7', False, 37),\n",
       " ('roam_ic_mou_8', False, 59),\n",
       " ('roam_og_mou_6', False, 28),\n",
       " ('roam_og_mou_7', True, 1),\n",
       " ('roam_og_mou_8', True, 1),\n",
       " ('loc_og_t2t_mou_6', False, 35),\n",
       " ('loc_og_t2t_mou_7', False, 39),\n",
       " ('loc_og_t2t_mou_8', True, 1),\n",
       " ('loc_og_t2m_mou_6', True, 1),\n",
       " ('loc_og_t2m_mou_7', True, 1),\n",
       " ('loc_og_t2m_mou_8', True, 1),\n",
       " ('loc_og_t2f_mou_6', True, 1),\n",
       " ('loc_og_t2f_mou_7', False, 23),\n",
       " ('loc_og_t2f_mou_8', True, 1),\n",
       " ('loc_og_t2c_mou_6', True, 1),\n",
       " ('loc_og_t2c_mou_7', False, 3),\n",
       " ('loc_og_t2c_mou_8', False, 6),\n",
       " ('loc_og_mou_6', False, 61),\n",
       " ('loc_og_mou_7', True, 1),\n",
       " ('loc_og_mou_8', True, 1),\n",
       " ('std_og_t2t_mou_6', False, 34),\n",
       " ('std_og_t2t_mou_7', False, 11),\n",
       " ('std_og_t2t_mou_8', False, 38),\n",
       " ('std_og_t2m_mou_6', False, 47),\n",
       " ('std_og_t2m_mou_7', False, 16),\n",
       " ('std_og_t2m_mou_8', True, 1),\n",
       " ('std_og_t2f_mou_6', False, 50),\n",
       " ('std_og_t2f_mou_7', False, 49),\n",
       " ('std_og_t2f_mou_8', True, 1),\n",
       " ('std_og_mou_6', False, 18),\n",
       " ('std_og_mou_7', True, 1),\n",
       " ('std_og_mou_8', True, 1),\n",
       " ('isd_og_mou_6', False, 64),\n",
       " ('isd_og_mou_7', False, 62),\n",
       " ('isd_og_mou_8', False, 58),\n",
       " ('spl_og_mou_6', False, 51),\n",
       " ('spl_og_mou_7', False, 15),\n",
       " ('spl_og_mou_8', True, 1),\n",
       " ('og_others_6', False, 25),\n",
       " ('og_others_7', False, 40),\n",
       " ('og_others_8', False, 55),\n",
       " ('total_og_mou_6', False, 19),\n",
       " ('total_og_mou_7', False, 12),\n",
       " ('total_og_mou_8', True, 1),\n",
       " ('loc_ic_t2t_mou_6', False, 13),\n",
       " ('loc_ic_t2t_mou_7', False, 45),\n",
       " ('loc_ic_t2t_mou_8', True, 1),\n",
       " ('loc_ic_t2m_mou_6', True, 1),\n",
       " ('loc_ic_t2m_mou_7', False, 9),\n",
       " ('loc_ic_t2m_mou_8', True, 1),\n",
       " ('loc_ic_t2f_mou_6', False, 31),\n",
       " ('loc_ic_t2f_mou_7', False, 54),\n",
       " ('loc_ic_t2f_mou_8', True, 1),\n",
       " ('loc_ic_mou_6', True, 1),\n",
       " ('loc_ic_mou_7', True, 1),\n",
       " ('loc_ic_mou_8', True, 1),\n",
       " ('std_ic_t2t_mou_6', True, 1),\n",
       " ('std_ic_t2t_mou_7', False, 30),\n",
       " ('std_ic_t2t_mou_8', True, 1),\n",
       " ('std_ic_t2m_mou_6', False, 27),\n",
       " ('std_ic_t2m_mou_7', False, 21),\n",
       " ('std_ic_t2m_mou_8', False, 33),\n",
       " ('std_ic_t2f_mou_6', False, 41),\n",
       " ('std_ic_t2f_mou_7', False, 32),\n",
       " ('std_ic_t2f_mou_8', True, 1),\n",
       " ('std_ic_mou_6', True, 1),\n",
       " ('std_ic_mou_7', False, 60),\n",
       " ('std_ic_mou_8', True, 1),\n",
       " ('total_ic_mou_6', False, 20),\n",
       " ('total_ic_mou_7', False, 8),\n",
       " ('total_ic_mou_8', True, 1),\n",
       " ('spl_ic_mou_6', False, 63),\n",
       " ('spl_ic_mou_7', False, 24),\n",
       " ('spl_ic_mou_8', True, 1),\n",
       " ('isd_ic_mou_6', False, 29),\n",
       " ('isd_ic_mou_7', False, 10),\n",
       " ('isd_ic_mou_8', True, 1),\n",
       " ('ic_others_6', False, 36),\n",
       " ('ic_others_7', False, 53),\n",
       " ('ic_others_8', False, 57),\n",
       " ('total_rech_num_6', True, 1),\n",
       " ('total_rech_num_7', True, 1),\n",
       " ('total_rech_num_8', True, 1),\n",
       " ('total_rech_amt_6', True, 1),\n",
       " ('total_rech_amt_7', False, 4),\n",
       " ('total_rech_amt_8', True, 1),\n",
       " ('max_rech_amt_6', True, 1),\n",
       " ('max_rech_amt_7', True, 1),\n",
       " ('max_rech_amt_8', True, 1),\n",
       " ('last_day_rch_amt_6', True, 1),\n",
       " ('last_day_rch_amt_7', False, 42),\n",
       " ('last_day_rch_amt_8', True, 1),\n",
       " ('total_rech_data_6', False, 17),\n",
       " ('total_rech_data_7', False, 44),\n",
       " ('total_rech_data_8', True, 1),\n",
       " ('max_rech_data_6', True, 1),\n",
       " ('max_rech_data_7', True, 1),\n",
       " ('max_rech_data_8', True, 1),\n",
       " ('av_rech_amt_data_6', True, 1),\n",
       " ('av_rech_amt_data_7', True, 1),\n",
       " ('av_rech_amt_data_8', True, 1),\n",
       " ('vol_2g_mb_6', True, 1),\n",
       " ('vol_2g_mb_7', True, 1),\n",
       " ('vol_2g_mb_8', True, 1),\n",
       " ('vol_3g_mb_6', False, 52),\n",
       " ('vol_3g_mb_7', False, 14),\n",
       " ('vol_3g_mb_8', True, 1),\n",
       " ('monthly_2g_6', False, 22),\n",
       " ('monthly_2g_7', True, 1),\n",
       " ('monthly_2g_8', True, 1),\n",
       " ('sachet_2g_6', True, 1),\n",
       " ('sachet_2g_7', False, 56),\n",
       " ('sachet_2g_8', True, 1),\n",
       " ('monthly_3g_6', True, 1),\n",
       " ('monthly_3g_7', True, 1),\n",
       " ('monthly_3g_8', True, 1),\n",
       " ('sachet_3g_6', False, 48),\n",
       " ('sachet_3g_7', True, 1),\n",
       " ('sachet_3g_8', True, 1),\n",
       " ('aon', False, 7),\n",
       " ('aug_vbc_3g', True, 1),\n",
       " ('jul_vbc_3g', False, 26),\n",
       " ('jun_vbc_3g', False, 46)]"
      ]
     },
     "execution_count": 58,
     "metadata": {},
     "output_type": "execute_result"
    }
   ],
   "source": [
    "# to see the selected columns\n",
    "list(zip(X_resampled.columns, rfe.support_, rfe.ranking_))"
   ]
  },
  {
   "cell_type": "code",
   "execution_count": 59,
   "id": "bc628327",
   "metadata": {},
   "outputs": [],
   "source": [
    "col = X_resampled.columns[rfe.support_]"
   ]
  },
  {
   "cell_type": "code",
   "execution_count": 60,
   "id": "bbbd2363",
   "metadata": {},
   "outputs": [
    {
     "data": {
      "text/html": [
       "<table class=\"simpletable\">\n",
       "<caption>Generalized Linear Model Regression Results</caption>\n",
       "<tr>\n",
       "  <th>Dep. Variable:</th>   <td>churn_probability</td> <th>  No. Observations:  </th>  <td> 27020</td> \n",
       "</tr>\n",
       "<tr>\n",
       "  <th>Model:</th>                  <td>GLM</td>        <th>  Df Residuals:      </th>  <td> 26950</td> \n",
       "</tr>\n",
       "<tr>\n",
       "  <th>Model Family:</th>        <td>Binomial</td>      <th>  Df Model:          </th>  <td>    69</td> \n",
       "</tr>\n",
       "<tr>\n",
       "  <th>Link Function:</th>         <td>logit</td>       <th>  Scale:             </th> <td>  1.0000</td>\n",
       "</tr>\n",
       "<tr>\n",
       "  <th>Method:</th>                <td>IRLS</td>        <th>  Log-Likelihood:    </th> <td> -8946.7</td>\n",
       "</tr>\n",
       "<tr>\n",
       "  <th>Date:</th>            <td>Sat, 17 Sep 2022</td>  <th>  Deviance:          </th> <td>  17893.</td>\n",
       "</tr>\n",
       "<tr>\n",
       "  <th>Time:</th>                <td>10:31:32</td>      <th>  Pearson chi2:      </th> <td>1.26e+05</td>\n",
       "</tr>\n",
       "<tr>\n",
       "  <th>No. Iterations:</th>          <td>7</td>         <th>                     </th>     <td> </td>   \n",
       "</tr>\n",
       "<tr>\n",
       "  <th>Covariance Type:</th>     <td>nonrobust</td>     <th>                     </th>     <td> </td>   \n",
       "</tr>\n",
       "</table>\n",
       "<table class=\"simpletable\">\n",
       "<tr>\n",
       "           <td></td>             <th>coef</th>     <th>std err</th>      <th>z</th>      <th>P>|z|</th>  <th>[0.025</th>    <th>0.975]</th>  \n",
       "</tr>\n",
       "<tr>\n",
       "  <th>const</th>              <td>   -1.8314</td> <td>    0.515</td> <td>   -3.556</td> <td> 0.000</td> <td>   -2.841</td> <td>   -0.822</td>\n",
       "</tr>\n",
       "<tr>\n",
       "  <th>arpu_6</th>             <td>    4.5507</td> <td>    3.316</td> <td>    1.372</td> <td> 0.170</td> <td>   -1.948</td> <td>   11.049</td>\n",
       "</tr>\n",
       "<tr>\n",
       "  <th>arpu_7</th>             <td>    7.6410</td> <td>    2.348</td> <td>    3.255</td> <td> 0.001</td> <td>    3.039</td> <td>   12.243</td>\n",
       "</tr>\n",
       "<tr>\n",
       "  <th>arpu_8</th>             <td>   27.4583</td> <td>    4.769</td> <td>    5.757</td> <td> 0.000</td> <td>   18.111</td> <td>   36.806</td>\n",
       "</tr>\n",
       "<tr>\n",
       "  <th>onnet_mou_6</th>        <td>    1.6075</td> <td>    0.564</td> <td>    2.850</td> <td> 0.004</td> <td>    0.502</td> <td>    2.713</td>\n",
       "</tr>\n",
       "<tr>\n",
       "  <th>onnet_mou_7</th>        <td>  -34.3906</td> <td>   12.267</td> <td>   -2.803</td> <td> 0.005</td> <td>  -58.434</td> <td>  -10.347</td>\n",
       "</tr>\n",
       "<tr>\n",
       "  <th>offnet_mou_6</th>       <td>    1.3661</td> <td>    0.714</td> <td>    1.912</td> <td> 0.056</td> <td>   -0.034</td> <td>    2.766</td>\n",
       "</tr>\n",
       "<tr>\n",
       "  <th>offnet_mou_7</th>       <td>  -28.3452</td> <td>   10.147</td> <td>   -2.793</td> <td> 0.005</td> <td>  -48.233</td> <td>   -8.458</td>\n",
       "</tr>\n",
       "<tr>\n",
       "  <th>roam_og_mou_7</th>      <td>   16.8580</td> <td>    4.194</td> <td>    4.019</td> <td> 0.000</td> <td>    8.637</td> <td>   25.079</td>\n",
       "</tr>\n",
       "<tr>\n",
       "  <th>roam_og_mou_8</th>      <td>    4.2787</td> <td>    1.439</td> <td>    2.974</td> <td> 0.003</td> <td>    1.459</td> <td>    7.099</td>\n",
       "</tr>\n",
       "<tr>\n",
       "  <th>loc_og_t2t_mou_8</th>   <td> 1.079e+04</td> <td>  3.8e+04</td> <td>    0.284</td> <td> 0.776</td> <td>-6.37e+04</td> <td> 8.52e+04</td>\n",
       "</tr>\n",
       "<tr>\n",
       "  <th>loc_og_t2m_mou_6</th>   <td>   -3.1011</td> <td>    0.949</td> <td>   -3.266</td> <td> 0.001</td> <td>   -4.962</td> <td>   -1.240</td>\n",
       "</tr>\n",
       "<tr>\n",
       "  <th>loc_og_t2m_mou_7</th>   <td>   -4.7204</td> <td>    1.715</td> <td>   -2.752</td> <td> 0.006</td> <td>   -8.083</td> <td>   -1.358</td>\n",
       "</tr>\n",
       "<tr>\n",
       "  <th>loc_og_t2m_mou_8</th>   <td> 4987.5278</td> <td> 1.75e+04</td> <td>    0.285</td> <td> 0.776</td> <td>-2.94e+04</td> <td> 3.93e+04</td>\n",
       "</tr>\n",
       "<tr>\n",
       "  <th>loc_og_t2f_mou_6</th>   <td>   -5.3526</td> <td>    1.676</td> <td>   -3.194</td> <td> 0.001</td> <td>   -8.637</td> <td>   -2.068</td>\n",
       "</tr>\n",
       "<tr>\n",
       "  <th>loc_og_t2f_mou_8</th>   <td>  593.2273</td> <td> 2078.473</td> <td>    0.285</td> <td> 0.775</td> <td>-3480.504</td> <td> 4666.959</td>\n",
       "</tr>\n",
       "<tr>\n",
       "  <th>loc_og_t2c_mou_6</th>   <td>   -6.1502</td> <td>    1.212</td> <td>   -5.072</td> <td> 0.000</td> <td>   -8.527</td> <td>   -3.774</td>\n",
       "</tr>\n",
       "<tr>\n",
       "  <th>loc_og_mou_7</th>       <td>   37.9786</td> <td>   11.661</td> <td>    3.257</td> <td> 0.001</td> <td>   15.123</td> <td>   60.834</td>\n",
       "</tr>\n",
       "<tr>\n",
       "  <th>loc_og_mou_8</th>       <td>-1.106e+04</td> <td>  3.9e+04</td> <td>   -0.283</td> <td> 0.777</td> <td>-8.75e+04</td> <td> 6.54e+04</td>\n",
       "</tr>\n",
       "<tr>\n",
       "  <th>std_og_t2m_mou_8</th>   <td>   -4.2461</td> <td>    2.002</td> <td>   -2.121</td> <td> 0.034</td> <td>   -8.170</td> <td>   -0.322</td>\n",
       "</tr>\n",
       "<tr>\n",
       "  <th>std_og_t2f_mou_8</th>   <td>   -5.2111</td> <td>    1.548</td> <td>   -3.366</td> <td> 0.001</td> <td>   -8.245</td> <td>   -2.177</td>\n",
       "</tr>\n",
       "<tr>\n",
       "  <th>std_og_mou_7</th>       <td>   38.5588</td> <td>   12.234</td> <td>    3.152</td> <td> 0.002</td> <td>   14.580</td> <td>   62.537</td>\n",
       "</tr>\n",
       "<tr>\n",
       "  <th>std_og_mou_8</th>       <td>   55.5850</td> <td>   38.223</td> <td>    1.454</td> <td> 0.146</td> <td>  -19.330</td> <td>  130.500</td>\n",
       "</tr>\n",
       "<tr>\n",
       "  <th>spl_og_mou_8</th>       <td>    1.2201</td> <td>    2.364</td> <td>    0.516</td> <td> 0.606</td> <td>   -3.413</td> <td>    5.853</td>\n",
       "</tr>\n",
       "<tr>\n",
       "  <th>total_og_mou_8</th>     <td>  -65.6033</td> <td>   38.798</td> <td>   -1.691</td> <td> 0.091</td> <td> -141.646</td> <td>   10.440</td>\n",
       "</tr>\n",
       "<tr>\n",
       "  <th>loc_ic_t2t_mou_8</th>   <td>-3345.8011</td> <td> 8573.088</td> <td>   -0.390</td> <td> 0.696</td> <td>-2.01e+04</td> <td> 1.35e+04</td>\n",
       "</tr>\n",
       "<tr>\n",
       "  <th>loc_ic_t2m_mou_6</th>   <td>    3.1082</td> <td>    1.892</td> <td>    1.643</td> <td> 0.100</td> <td>   -0.600</td> <td>    6.816</td>\n",
       "</tr>\n",
       "<tr>\n",
       "  <th>loc_ic_t2m_mou_8</th>   <td>-3904.4204</td> <td>    1e+04</td> <td>   -0.390</td> <td> 0.697</td> <td>-2.35e+04</td> <td> 1.57e+04</td>\n",
       "</tr>\n",
       "<tr>\n",
       "  <th>loc_ic_t2f_mou_8</th>   <td>-1239.3909</td> <td> 3150.714</td> <td>   -0.393</td> <td> 0.694</td> <td>-7414.676</td> <td> 4935.894</td>\n",
       "</tr>\n",
       "<tr>\n",
       "  <th>loc_ic_mou_6</th>       <td>    2.5179</td> <td>    2.467</td> <td>    1.021</td> <td> 0.307</td> <td>   -2.317</td> <td>    7.353</td>\n",
       "</tr>\n",
       "<tr>\n",
       "  <th>loc_ic_mou_7</th>       <td>   15.1440</td> <td>    1.658</td> <td>    9.131</td> <td> 0.000</td> <td>   11.893</td> <td>   18.395</td>\n",
       "</tr>\n",
       "<tr>\n",
       "  <th>loc_ic_mou_8</th>       <td> 4421.9050</td> <td> 1.15e+04</td> <td>    0.386</td> <td> 0.699</td> <td> -1.8e+04</td> <td> 2.69e+04</td>\n",
       "</tr>\n",
       "<tr>\n",
       "  <th>std_ic_t2t_mou_6</th>   <td>    6.0695</td> <td>    1.644</td> <td>    3.691</td> <td> 0.000</td> <td>    2.846</td> <td>    9.293</td>\n",
       "</tr>\n",
       "<tr>\n",
       "  <th>std_ic_t2t_mou_8</th>   <td>  -17.8060</td> <td>    4.051</td> <td>   -4.396</td> <td> 0.000</td> <td>  -25.746</td> <td>   -9.866</td>\n",
       "</tr>\n",
       "<tr>\n",
       "  <th>std_ic_t2f_mou_8</th>   <td>   -9.8936</td> <td>    5.413</td> <td>   -1.828</td> <td> 0.068</td> <td>  -20.503</td> <td>    0.716</td>\n",
       "</tr>\n",
       "<tr>\n",
       "  <th>std_ic_mou_6</th>       <td>   -0.3551</td> <td>    1.148</td> <td>   -0.309</td> <td> 0.757</td> <td>   -2.606</td> <td>    1.895</td>\n",
       "</tr>\n",
       "<tr>\n",
       "  <th>std_ic_mou_8</th>       <td>   -3.4492</td> <td>    8.676</td> <td>   -0.398</td> <td> 0.691</td> <td>  -20.454</td> <td>   13.555</td>\n",
       "</tr>\n",
       "<tr>\n",
       "  <th>total_ic_mou_8</th>     <td>   -3.7872</td> <td>   13.590</td> <td>   -0.279</td> <td> 0.780</td> <td>  -30.423</td> <td>   22.849</td>\n",
       "</tr>\n",
       "<tr>\n",
       "  <th>spl_ic_mou_8</th>       <td>   -8.1025</td> <td>    0.651</td> <td>  -12.439</td> <td> 0.000</td> <td>   -9.379</td> <td>   -6.826</td>\n",
       "</tr>\n",
       "<tr>\n",
       "  <th>isd_ic_mou_8</th>       <td>    2.3513</td> <td>    5.568</td> <td>    0.422</td> <td> 0.673</td> <td>   -8.563</td> <td>   13.265</td>\n",
       "</tr>\n",
       "<tr>\n",
       "  <th>total_rech_num_6</th>   <td>    0.4067</td> <td>    0.681</td> <td>    0.597</td> <td> 0.550</td> <td>   -0.928</td> <td>    1.741</td>\n",
       "</tr>\n",
       "<tr>\n",
       "  <th>total_rech_num_7</th>   <td>    2.4600</td> <td>    0.644</td> <td>    3.817</td> <td> 0.000</td> <td>    1.197</td> <td>    3.723</td>\n",
       "</tr>\n",
       "<tr>\n",
       "  <th>total_rech_num_8</th>   <td>   -6.8840</td> <td>    0.781</td> <td>   -8.812</td> <td> 0.000</td> <td>   -8.415</td> <td>   -5.353</td>\n",
       "</tr>\n",
       "<tr>\n",
       "  <th>total_rech_amt_6</th>   <td>    0.5284</td> <td>    3.042</td> <td>    0.174</td> <td> 0.862</td> <td>   -5.434</td> <td>    6.491</td>\n",
       "</tr>\n",
       "<tr>\n",
       "  <th>total_rech_amt_8</th>   <td>  -28.5851</td> <td>    4.310</td> <td>   -6.632</td> <td> 0.000</td> <td>  -37.033</td> <td>  -20.137</td>\n",
       "</tr>\n",
       "<tr>\n",
       "  <th>max_rech_amt_6</th>     <td>   -2.1335</td> <td>    0.951</td> <td>   -2.244</td> <td> 0.025</td> <td>   -3.997</td> <td>   -0.270</td>\n",
       "</tr>\n",
       "<tr>\n",
       "  <th>max_rech_amt_7</th>     <td>   -0.9652</td> <td>    0.646</td> <td>   -1.495</td> <td> 0.135</td> <td>   -2.231</td> <td>    0.300</td>\n",
       "</tr>\n",
       "<tr>\n",
       "  <th>max_rech_amt_8</th>     <td>   10.0747</td> <td>    1.279</td> <td>    7.879</td> <td> 0.000</td> <td>    7.568</td> <td>   12.581</td>\n",
       "</tr>\n",
       "<tr>\n",
       "  <th>last_day_rch_amt_6</th> <td>    0.0755</td> <td>    0.871</td> <td>    0.087</td> <td> 0.931</td> <td>   -1.632</td> <td>    1.783</td>\n",
       "</tr>\n",
       "<tr>\n",
       "  <th>last_day_rch_amt_8</th> <td>  -16.2375</td> <td>    1.185</td> <td>  -13.697</td> <td> 0.000</td> <td>  -18.561</td> <td>  -13.914</td>\n",
       "</tr>\n",
       "<tr>\n",
       "  <th>total_rech_data_8</th>  <td>   -6.1330</td> <td>    1.053</td> <td>   -5.823</td> <td> 0.000</td> <td>   -8.197</td> <td>   -4.069</td>\n",
       "</tr>\n",
       "<tr>\n",
       "  <th>max_rech_data_6</th>    <td>    3.3049</td> <td>    0.742</td> <td>    4.455</td> <td> 0.000</td> <td>    1.851</td> <td>    4.759</td>\n",
       "</tr>\n",
       "<tr>\n",
       "  <th>max_rech_data_7</th>    <td>    0.7378</td> <td>    0.769</td> <td>    0.959</td> <td> 0.337</td> <td>   -0.770</td> <td>    2.245</td>\n",
       "</tr>\n",
       "<tr>\n",
       "  <th>max_rech_data_8</th>    <td>   -5.9974</td> <td>    1.037</td> <td>   -5.786</td> <td> 0.000</td> <td>   -8.029</td> <td>   -3.966</td>\n",
       "</tr>\n",
       "<tr>\n",
       "  <th>av_rech_amt_data_6</th> <td>  -10.7009</td> <td>    2.025</td> <td>   -5.283</td> <td> 0.000</td> <td>  -14.670</td> <td>   -6.731</td>\n",
       "</tr>\n",
       "<tr>\n",
       "  <th>av_rech_amt_data_7</th> <td>   -0.2229</td> <td>    1.448</td> <td>   -0.154</td> <td> 0.878</td> <td>   -3.060</td> <td>    2.614</td>\n",
       "</tr>\n",
       "<tr>\n",
       "  <th>av_rech_amt_data_8</th> <td>    1.0350</td> <td>    2.462</td> <td>    0.420</td> <td> 0.674</td> <td>   -3.790</td> <td>    5.860</td>\n",
       "</tr>\n",
       "<tr>\n",
       "  <th>vol_2g_mb_6</th>        <td>   -0.7069</td> <td>    0.748</td> <td>   -0.945</td> <td> 0.345</td> <td>   -2.173</td> <td>    0.759</td>\n",
       "</tr>\n",
       "<tr>\n",
       "  <th>vol_2g_mb_7</th>        <td>    2.9906</td> <td>    0.858</td> <td>    3.485</td> <td> 0.000</td> <td>    1.309</td> <td>    4.673</td>\n",
       "</tr>\n",
       "<tr>\n",
       "  <th>vol_2g_mb_8</th>        <td>   -6.4440</td> <td>    1.196</td> <td>   -5.388</td> <td> 0.000</td> <td>   -8.788</td> <td>   -4.100</td>\n",
       "</tr>\n",
       "<tr>\n",
       "  <th>vol_3g_mb_8</th>        <td>   -5.6220</td> <td>    2.244</td> <td>   -2.506</td> <td> 0.012</td> <td>  -10.020</td> <td>   -1.224</td>\n",
       "</tr>\n",
       "<tr>\n",
       "  <th>monthly_2g_7</th>       <td>   -1.0121</td> <td>    0.397</td> <td>   -2.548</td> <td> 0.011</td> <td>   -1.791</td> <td>   -0.234</td>\n",
       "</tr>\n",
       "<tr>\n",
       "  <th>monthly_2g_8</th>       <td>   -4.4987</td> <td>    0.600</td> <td>   -7.501</td> <td> 0.000</td> <td>   -5.674</td> <td>   -3.323</td>\n",
       "</tr>\n",
       "<tr>\n",
       "  <th>sachet_2g_6</th>        <td>    1.3793</td> <td>    0.558</td> <td>    2.472</td> <td> 0.013</td> <td>    0.286</td> <td>    2.473</td>\n",
       "</tr>\n",
       "<tr>\n",
       "  <th>sachet_2g_8</th>        <td>   -1.9514</td> <td>    0.663</td> <td>   -2.945</td> <td> 0.003</td> <td>   -3.250</td> <td>   -0.652</td>\n",
       "</tr>\n",
       "<tr>\n",
       "  <th>monthly_3g_6</th>       <td>    1.7024</td> <td>    0.686</td> <td>    2.480</td> <td> 0.013</td> <td>    0.357</td> <td>    3.048</td>\n",
       "</tr>\n",
       "<tr>\n",
       "  <th>monthly_3g_7</th>       <td>   -1.7007</td> <td>    1.195</td> <td>   -1.424</td> <td> 0.155</td> <td>   -4.042</td> <td>    0.640</td>\n",
       "</tr>\n",
       "<tr>\n",
       "  <th>monthly_3g_8</th>       <td>   -4.3199</td> <td>    1.761</td> <td>   -2.453</td> <td> 0.014</td> <td>   -7.772</td> <td>   -0.868</td>\n",
       "</tr>\n",
       "<tr>\n",
       "  <th>sachet_3g_7</th>        <td>    4.9163</td> <td>    1.035</td> <td>    4.750</td> <td> 0.000</td> <td>    2.888</td> <td>    6.945</td>\n",
       "</tr>\n",
       "<tr>\n",
       "  <th>sachet_3g_8</th>        <td>   -5.1224</td> <td>    1.632</td> <td>   -3.138</td> <td> 0.002</td> <td>   -8.321</td> <td>   -1.923</td>\n",
       "</tr>\n",
       "<tr>\n",
       "  <th>aug_vbc_3g</th>         <td>   -3.8764</td> <td>    1.440</td> <td>   -2.692</td> <td> 0.007</td> <td>   -6.698</td> <td>   -1.055</td>\n",
       "</tr>\n",
       "</table>"
      ],
      "text/plain": [
       "<class 'statsmodels.iolib.summary.Summary'>\n",
       "\"\"\"\n",
       "                 Generalized Linear Model Regression Results                  \n",
       "==============================================================================\n",
       "Dep. Variable:      churn_probability   No. Observations:                27020\n",
       "Model:                            GLM   Df Residuals:                    26950\n",
       "Model Family:                Binomial   Df Model:                           69\n",
       "Link Function:                  logit   Scale:                          1.0000\n",
       "Method:                          IRLS   Log-Likelihood:                -8946.7\n",
       "Date:                Sat, 17 Sep 2022   Deviance:                       17893.\n",
       "Time:                        10:31:32   Pearson chi2:                 1.26e+05\n",
       "No. Iterations:                     7                                         \n",
       "Covariance Type:            nonrobust                                         \n",
       "======================================================================================\n",
       "                         coef    std err          z      P>|z|      [0.025      0.975]\n",
       "--------------------------------------------------------------------------------------\n",
       "const                 -1.8314      0.515     -3.556      0.000      -2.841      -0.822\n",
       "arpu_6                 4.5507      3.316      1.372      0.170      -1.948      11.049\n",
       "arpu_7                 7.6410      2.348      3.255      0.001       3.039      12.243\n",
       "arpu_8                27.4583      4.769      5.757      0.000      18.111      36.806\n",
       "onnet_mou_6            1.6075      0.564      2.850      0.004       0.502       2.713\n",
       "onnet_mou_7          -34.3906     12.267     -2.803      0.005     -58.434     -10.347\n",
       "offnet_mou_6           1.3661      0.714      1.912      0.056      -0.034       2.766\n",
       "offnet_mou_7         -28.3452     10.147     -2.793      0.005     -48.233      -8.458\n",
       "roam_og_mou_7         16.8580      4.194      4.019      0.000       8.637      25.079\n",
       "roam_og_mou_8          4.2787      1.439      2.974      0.003       1.459       7.099\n",
       "loc_og_t2t_mou_8    1.079e+04    3.8e+04      0.284      0.776   -6.37e+04    8.52e+04\n",
       "loc_og_t2m_mou_6      -3.1011      0.949     -3.266      0.001      -4.962      -1.240\n",
       "loc_og_t2m_mou_7      -4.7204      1.715     -2.752      0.006      -8.083      -1.358\n",
       "loc_og_t2m_mou_8    4987.5278   1.75e+04      0.285      0.776   -2.94e+04    3.93e+04\n",
       "loc_og_t2f_mou_6      -5.3526      1.676     -3.194      0.001      -8.637      -2.068\n",
       "loc_og_t2f_mou_8     593.2273   2078.473      0.285      0.775   -3480.504    4666.959\n",
       "loc_og_t2c_mou_6      -6.1502      1.212     -5.072      0.000      -8.527      -3.774\n",
       "loc_og_mou_7          37.9786     11.661      3.257      0.001      15.123      60.834\n",
       "loc_og_mou_8       -1.106e+04    3.9e+04     -0.283      0.777   -8.75e+04    6.54e+04\n",
       "std_og_t2m_mou_8      -4.2461      2.002     -2.121      0.034      -8.170      -0.322\n",
       "std_og_t2f_mou_8      -5.2111      1.548     -3.366      0.001      -8.245      -2.177\n",
       "std_og_mou_7          38.5588     12.234      3.152      0.002      14.580      62.537\n",
       "std_og_mou_8          55.5850     38.223      1.454      0.146     -19.330     130.500\n",
       "spl_og_mou_8           1.2201      2.364      0.516      0.606      -3.413       5.853\n",
       "total_og_mou_8       -65.6033     38.798     -1.691      0.091    -141.646      10.440\n",
       "loc_ic_t2t_mou_8   -3345.8011   8573.088     -0.390      0.696   -2.01e+04    1.35e+04\n",
       "loc_ic_t2m_mou_6       3.1082      1.892      1.643      0.100      -0.600       6.816\n",
       "loc_ic_t2m_mou_8   -3904.4204      1e+04     -0.390      0.697   -2.35e+04    1.57e+04\n",
       "loc_ic_t2f_mou_8   -1239.3909   3150.714     -0.393      0.694   -7414.676    4935.894\n",
       "loc_ic_mou_6           2.5179      2.467      1.021      0.307      -2.317       7.353\n",
       "loc_ic_mou_7          15.1440      1.658      9.131      0.000      11.893      18.395\n",
       "loc_ic_mou_8        4421.9050   1.15e+04      0.386      0.699    -1.8e+04    2.69e+04\n",
       "std_ic_t2t_mou_6       6.0695      1.644      3.691      0.000       2.846       9.293\n",
       "std_ic_t2t_mou_8     -17.8060      4.051     -4.396      0.000     -25.746      -9.866\n",
       "std_ic_t2f_mou_8      -9.8936      5.413     -1.828      0.068     -20.503       0.716\n",
       "std_ic_mou_6          -0.3551      1.148     -0.309      0.757      -2.606       1.895\n",
       "std_ic_mou_8          -3.4492      8.676     -0.398      0.691     -20.454      13.555\n",
       "total_ic_mou_8        -3.7872     13.590     -0.279      0.780     -30.423      22.849\n",
       "spl_ic_mou_8          -8.1025      0.651    -12.439      0.000      -9.379      -6.826\n",
       "isd_ic_mou_8           2.3513      5.568      0.422      0.673      -8.563      13.265\n",
       "total_rech_num_6       0.4067      0.681      0.597      0.550      -0.928       1.741\n",
       "total_rech_num_7       2.4600      0.644      3.817      0.000       1.197       3.723\n",
       "total_rech_num_8      -6.8840      0.781     -8.812      0.000      -8.415      -5.353\n",
       "total_rech_amt_6       0.5284      3.042      0.174      0.862      -5.434       6.491\n",
       "total_rech_amt_8     -28.5851      4.310     -6.632      0.000     -37.033     -20.137\n",
       "max_rech_amt_6        -2.1335      0.951     -2.244      0.025      -3.997      -0.270\n",
       "max_rech_amt_7        -0.9652      0.646     -1.495      0.135      -2.231       0.300\n",
       "max_rech_amt_8        10.0747      1.279      7.879      0.000       7.568      12.581\n",
       "last_day_rch_amt_6     0.0755      0.871      0.087      0.931      -1.632       1.783\n",
       "last_day_rch_amt_8   -16.2375      1.185    -13.697      0.000     -18.561     -13.914\n",
       "total_rech_data_8     -6.1330      1.053     -5.823      0.000      -8.197      -4.069\n",
       "max_rech_data_6        3.3049      0.742      4.455      0.000       1.851       4.759\n",
       "max_rech_data_7        0.7378      0.769      0.959      0.337      -0.770       2.245\n",
       "max_rech_data_8       -5.9974      1.037     -5.786      0.000      -8.029      -3.966\n",
       "av_rech_amt_data_6   -10.7009      2.025     -5.283      0.000     -14.670      -6.731\n",
       "av_rech_amt_data_7    -0.2229      1.448     -0.154      0.878      -3.060       2.614\n",
       "av_rech_amt_data_8     1.0350      2.462      0.420      0.674      -3.790       5.860\n",
       "vol_2g_mb_6           -0.7069      0.748     -0.945      0.345      -2.173       0.759\n",
       "vol_2g_mb_7            2.9906      0.858      3.485      0.000       1.309       4.673\n",
       "vol_2g_mb_8           -6.4440      1.196     -5.388      0.000      -8.788      -4.100\n",
       "vol_3g_mb_8           -5.6220      2.244     -2.506      0.012     -10.020      -1.224\n",
       "monthly_2g_7          -1.0121      0.397     -2.548      0.011      -1.791      -0.234\n",
       "monthly_2g_8          -4.4987      0.600     -7.501      0.000      -5.674      -3.323\n",
       "sachet_2g_6            1.3793      0.558      2.472      0.013       0.286       2.473\n",
       "sachet_2g_8           -1.9514      0.663     -2.945      0.003      -3.250      -0.652\n",
       "monthly_3g_6           1.7024      0.686      2.480      0.013       0.357       3.048\n",
       "monthly_3g_7          -1.7007      1.195     -1.424      0.155      -4.042       0.640\n",
       "monthly_3g_8          -4.3199      1.761     -2.453      0.014      -7.772      -0.868\n",
       "sachet_3g_7            4.9163      1.035      4.750      0.000       2.888       6.945\n",
       "sachet_3g_8           -5.1224      1.632     -3.138      0.002      -8.321      -1.923\n",
       "aug_vbc_3g            -3.8764      1.440     -2.692      0.007      -6.698      -1.055\n",
       "======================================================================================\n",
       "\"\"\""
      ]
     },
     "execution_count": 60,
     "metadata": {},
     "output_type": "execute_result"
    }
   ],
   "source": [
    "X_resampled_sm = sm.add_constant(X_resampled[col])\n",
    "logm2 = sm.GLM(y_resampled, X_resampled_sm, family=sm.families.Binomial())\n",
    "res = logm2.fit()\n",
    "res.summary()"
   ]
  },
  {
   "cell_type": "markdown",
   "id": "3270c989",
   "metadata": {},
   "source": [
    "### Making predictions on the test set"
   ]
  },
  {
   "cell_type": "code",
   "execution_count": 61,
   "id": "de453884",
   "metadata": {},
   "outputs": [
    {
     "name": "stdout",
     "output_type": "stream",
     "text": [
      "<class 'pandas.core.frame.DataFrame'>\n",
      "Int64Index: 6304 entries, 5662 to 36425\n",
      "Data columns (total 70 columns):\n",
      " #   Column              Non-Null Count  Dtype  \n",
      "---  ------              --------------  -----  \n",
      " 0   arpu_6              6304 non-null   float64\n",
      " 1   arpu_7              6304 non-null   float64\n",
      " 2   arpu_8              6304 non-null   float64\n",
      " 3   onnet_mou_6         6304 non-null   float64\n",
      " 4   onnet_mou_7         6304 non-null   float64\n",
      " 5   offnet_mou_6        6304 non-null   float64\n",
      " 6   offnet_mou_7        6304 non-null   float64\n",
      " 7   roam_og_mou_7       6304 non-null   float64\n",
      " 8   roam_og_mou_8       6304 non-null   float64\n",
      " 9   loc_og_t2t_mou_8    6304 non-null   float64\n",
      " 10  loc_og_t2m_mou_6    6304 non-null   float64\n",
      " 11  loc_og_t2m_mou_7    6304 non-null   float64\n",
      " 12  loc_og_t2m_mou_8    6304 non-null   float64\n",
      " 13  loc_og_t2f_mou_6    6304 non-null   float64\n",
      " 14  loc_og_t2f_mou_8    6304 non-null   float64\n",
      " 15  loc_og_t2c_mou_6    6304 non-null   float64\n",
      " 16  loc_og_mou_7        6304 non-null   float64\n",
      " 17  loc_og_mou_8        6304 non-null   float64\n",
      " 18  std_og_t2m_mou_8    6304 non-null   float64\n",
      " 19  std_og_t2f_mou_8    6304 non-null   float64\n",
      " 20  std_og_mou_7        6304 non-null   float64\n",
      " 21  std_og_mou_8        6304 non-null   float64\n",
      " 22  spl_og_mou_8        6304 non-null   float64\n",
      " 23  total_og_mou_8      6304 non-null   float64\n",
      " 24  loc_ic_t2t_mou_8    6304 non-null   float64\n",
      " 25  loc_ic_t2m_mou_6    6304 non-null   float64\n",
      " 26  loc_ic_t2m_mou_8    6304 non-null   float64\n",
      " 27  loc_ic_t2f_mou_8    6304 non-null   float64\n",
      " 28  loc_ic_mou_6        6304 non-null   float64\n",
      " 29  loc_ic_mou_7        6304 non-null   float64\n",
      " 30  loc_ic_mou_8        6304 non-null   float64\n",
      " 31  std_ic_t2t_mou_6    6304 non-null   float64\n",
      " 32  std_ic_t2t_mou_8    6304 non-null   float64\n",
      " 33  std_ic_t2f_mou_8    6304 non-null   float64\n",
      " 34  std_ic_mou_6        6304 non-null   float64\n",
      " 35  std_ic_mou_8        6304 non-null   float64\n",
      " 36  total_ic_mou_8      6304 non-null   float64\n",
      " 37  spl_ic_mou_8        6304 non-null   float64\n",
      " 38  isd_ic_mou_8        6304 non-null   float64\n",
      " 39  total_rech_num_6    6304 non-null   int64  \n",
      " 40  total_rech_num_7    6304 non-null   int64  \n",
      " 41  total_rech_num_8    6304 non-null   int64  \n",
      " 42  total_rech_amt_6    6304 non-null   int64  \n",
      " 43  total_rech_amt_8    6304 non-null   int64  \n",
      " 44  max_rech_amt_6      6304 non-null   int64  \n",
      " 45  max_rech_amt_7      6304 non-null   int64  \n",
      " 46  max_rech_amt_8      6304 non-null   int64  \n",
      " 47  last_day_rch_amt_6  6304 non-null   int64  \n",
      " 48  last_day_rch_amt_8  6304 non-null   int64  \n",
      " 49  total_rech_data_8   6304 non-null   float64\n",
      " 50  max_rech_data_6     6304 non-null   float64\n",
      " 51  max_rech_data_7     6304 non-null   float64\n",
      " 52  max_rech_data_8     6304 non-null   float64\n",
      " 53  av_rech_amt_data_6  6304 non-null   float64\n",
      " 54  av_rech_amt_data_7  6304 non-null   float64\n",
      " 55  av_rech_amt_data_8  6304 non-null   float64\n",
      " 56  vol_2g_mb_6         6304 non-null   float64\n",
      " 57  vol_2g_mb_7         6304 non-null   float64\n",
      " 58  vol_2g_mb_8         6304 non-null   float64\n",
      " 59  vol_3g_mb_8         6304 non-null   float64\n",
      " 60  monthly_2g_7        6304 non-null   int64  \n",
      " 61  monthly_2g_8        6304 non-null   int64  \n",
      " 62  sachet_2g_6         6304 non-null   int64  \n",
      " 63  sachet_2g_8         6304 non-null   int64  \n",
      " 64  monthly_3g_6        6304 non-null   int64  \n",
      " 65  monthly_3g_7        6304 non-null   int64  \n",
      " 66  monthly_3g_8        6304 non-null   int64  \n",
      " 67  sachet_3g_7         6304 non-null   int64  \n",
      " 68  sachet_3g_8         6304 non-null   int64  \n",
      " 69  aug_vbc_3g          6304 non-null   float64\n",
      "dtypes: float64(51), int64(19)\n",
      "memory usage: 3.4 MB\n"
     ]
    }
   ],
   "source": [
    "X_test = X_test[col]\n",
    "X_test.info()"
   ]
  },
  {
   "cell_type": "code",
   "execution_count": 62,
   "id": "dd20e6fb",
   "metadata": {},
   "outputs": [],
   "source": [
    "X_test_sm = sm.add_constant(X_test)"
   ]
  },
  {
   "cell_type": "code",
   "execution_count": 63,
   "id": "df6e96f4",
   "metadata": {},
   "outputs": [],
   "source": [
    "y_test_pred = res.predict(X_test_sm)"
   ]
  },
  {
   "cell_type": "code",
   "execution_count": 64,
   "id": "2c63d4ac",
   "metadata": {},
   "outputs": [
    {
     "data": {
      "text/plain": [
       "5662     0.0\n",
       "37574    0.0\n",
       "58341    0.0\n",
       "23282    0.0\n",
       "30561    0.0\n",
       "45844    0.0\n",
       "30159    0.0\n",
       "62778    0.0\n",
       "45559    0.0\n",
       "35274    0.0\n",
       "dtype: float64"
      ]
     },
     "execution_count": 64,
     "metadata": {},
     "output_type": "execute_result"
    }
   ],
   "source": [
    "y_test_pred[:10]"
   ]
  },
  {
   "cell_type": "code",
   "execution_count": 65,
   "id": "6dbfcf16",
   "metadata": {},
   "outputs": [
    {
     "data": {
      "text/html": [
       "<div>\n",
       "<style scoped>\n",
       "    .dataframe tbody tr th:only-of-type {\n",
       "        vertical-align: middle;\n",
       "    }\n",
       "\n",
       "    .dataframe tbody tr th {\n",
       "        vertical-align: top;\n",
       "    }\n",
       "\n",
       "    .dataframe thead th {\n",
       "        text-align: right;\n",
       "    }\n",
       "</style>\n",
       "<table border=\"1\" class=\"dataframe\">\n",
       "  <thead>\n",
       "    <tr style=\"text-align: right;\">\n",
       "      <th></th>\n",
       "      <th>const</th>\n",
       "      <th>arpu_6</th>\n",
       "      <th>arpu_7</th>\n",
       "      <th>arpu_8</th>\n",
       "      <th>onnet_mou_6</th>\n",
       "      <th>onnet_mou_7</th>\n",
       "      <th>offnet_mou_6</th>\n",
       "      <th>offnet_mou_7</th>\n",
       "      <th>roam_og_mou_7</th>\n",
       "      <th>roam_og_mou_8</th>\n",
       "      <th>...</th>\n",
       "      <th>monthly_2g_7</th>\n",
       "      <th>monthly_2g_8</th>\n",
       "      <th>sachet_2g_6</th>\n",
       "      <th>sachet_2g_8</th>\n",
       "      <th>monthly_3g_6</th>\n",
       "      <th>monthly_3g_7</th>\n",
       "      <th>monthly_3g_8</th>\n",
       "      <th>sachet_3g_7</th>\n",
       "      <th>sachet_3g_8</th>\n",
       "      <th>aug_vbc_3g</th>\n",
       "    </tr>\n",
       "  </thead>\n",
       "  <tbody>\n",
       "    <tr>\n",
       "      <th>5662</th>\n",
       "      <td>1.0</td>\n",
       "      <td>554.740</td>\n",
       "      <td>782.352</td>\n",
       "      <td>673.692</td>\n",
       "      <td>36.86</td>\n",
       "      <td>38.63</td>\n",
       "      <td>649.01</td>\n",
       "      <td>845.83</td>\n",
       "      <td>0.00</td>\n",
       "      <td>0.0</td>\n",
       "      <td>...</td>\n",
       "      <td>0</td>\n",
       "      <td>0</td>\n",
       "      <td>0</td>\n",
       "      <td>0</td>\n",
       "      <td>0</td>\n",
       "      <td>0</td>\n",
       "      <td>0</td>\n",
       "      <td>0</td>\n",
       "      <td>0</td>\n",
       "      <td>0.00</td>\n",
       "    </tr>\n",
       "    <tr>\n",
       "      <th>37574</th>\n",
       "      <td>1.0</td>\n",
       "      <td>1563.157</td>\n",
       "      <td>1579.675</td>\n",
       "      <td>1256.565</td>\n",
       "      <td>2761.74</td>\n",
       "      <td>3158.18</td>\n",
       "      <td>1358.03</td>\n",
       "      <td>1144.44</td>\n",
       "      <td>0.00</td>\n",
       "      <td>0.0</td>\n",
       "      <td>...</td>\n",
       "      <td>0</td>\n",
       "      <td>0</td>\n",
       "      <td>0</td>\n",
       "      <td>0</td>\n",
       "      <td>0</td>\n",
       "      <td>0</td>\n",
       "      <td>0</td>\n",
       "      <td>0</td>\n",
       "      <td>0</td>\n",
       "      <td>0.00</td>\n",
       "    </tr>\n",
       "    <tr>\n",
       "      <th>58341</th>\n",
       "      <td>1.0</td>\n",
       "      <td>594.217</td>\n",
       "      <td>796.737</td>\n",
       "      <td>996.393</td>\n",
       "      <td>785.66</td>\n",
       "      <td>1200.53</td>\n",
       "      <td>149.53</td>\n",
       "      <td>186.48</td>\n",
       "      <td>0.00</td>\n",
       "      <td>0.0</td>\n",
       "      <td>...</td>\n",
       "      <td>0</td>\n",
       "      <td>0</td>\n",
       "      <td>0</td>\n",
       "      <td>0</td>\n",
       "      <td>0</td>\n",
       "      <td>0</td>\n",
       "      <td>0</td>\n",
       "      <td>0</td>\n",
       "      <td>0</td>\n",
       "      <td>0.00</td>\n",
       "    </tr>\n",
       "    <tr>\n",
       "      <th>23282</th>\n",
       "      <td>1.0</td>\n",
       "      <td>352.160</td>\n",
       "      <td>197.245</td>\n",
       "      <td>365.564</td>\n",
       "      <td>192.04</td>\n",
       "      <td>179.88</td>\n",
       "      <td>508.53</td>\n",
       "      <td>116.58</td>\n",
       "      <td>34.96</td>\n",
       "      <td>0.0</td>\n",
       "      <td>...</td>\n",
       "      <td>0</td>\n",
       "      <td>0</td>\n",
       "      <td>0</td>\n",
       "      <td>3</td>\n",
       "      <td>0</td>\n",
       "      <td>0</td>\n",
       "      <td>0</td>\n",
       "      <td>0</td>\n",
       "      <td>0</td>\n",
       "      <td>0.00</td>\n",
       "    </tr>\n",
       "    <tr>\n",
       "      <th>30561</th>\n",
       "      <td>1.0</td>\n",
       "      <td>332.040</td>\n",
       "      <td>275.976</td>\n",
       "      <td>267.033</td>\n",
       "      <td>116.49</td>\n",
       "      <td>96.89</td>\n",
       "      <td>152.34</td>\n",
       "      <td>178.24</td>\n",
       "      <td>0.00</td>\n",
       "      <td>0.0</td>\n",
       "      <td>...</td>\n",
       "      <td>0</td>\n",
       "      <td>0</td>\n",
       "      <td>0</td>\n",
       "      <td>0</td>\n",
       "      <td>0</td>\n",
       "      <td>0</td>\n",
       "      <td>0</td>\n",
       "      <td>1</td>\n",
       "      <td>0</td>\n",
       "      <td>31.05</td>\n",
       "    </tr>\n",
       "  </tbody>\n",
       "</table>\n",
       "<p>5 rows × 71 columns</p>\n",
       "</div>"
      ],
      "text/plain": [
       "       const    arpu_6    arpu_7    arpu_8  onnet_mou_6  onnet_mou_7  \\\n",
       "5662     1.0   554.740   782.352   673.692        36.86        38.63   \n",
       "37574    1.0  1563.157  1579.675  1256.565      2761.74      3158.18   \n",
       "58341    1.0   594.217   796.737   996.393       785.66      1200.53   \n",
       "23282    1.0   352.160   197.245   365.564       192.04       179.88   \n",
       "30561    1.0   332.040   275.976   267.033       116.49        96.89   \n",
       "\n",
       "       offnet_mou_6  offnet_mou_7  roam_og_mou_7  roam_og_mou_8  ...  \\\n",
       "5662         649.01        845.83           0.00            0.0  ...   \n",
       "37574       1358.03       1144.44           0.00            0.0  ...   \n",
       "58341        149.53        186.48           0.00            0.0  ...   \n",
       "23282        508.53        116.58          34.96            0.0  ...   \n",
       "30561        152.34        178.24           0.00            0.0  ...   \n",
       "\n",
       "       monthly_2g_7  monthly_2g_8  sachet_2g_6  sachet_2g_8  monthly_3g_6  \\\n",
       "5662              0             0            0            0             0   \n",
       "37574             0             0            0            0             0   \n",
       "58341             0             0            0            0             0   \n",
       "23282             0             0            0            3             0   \n",
       "30561             0             0            0            0             0   \n",
       "\n",
       "       monthly_3g_7  monthly_3g_8  sachet_3g_7  sachet_3g_8  aug_vbc_3g  \n",
       "5662              0             0            0            0        0.00  \n",
       "37574             0             0            0            0        0.00  \n",
       "58341             0             0            0            0        0.00  \n",
       "23282             0             0            0            0        0.00  \n",
       "30561             0             0            1            0       31.05  \n",
       "\n",
       "[5 rows x 71 columns]"
      ]
     },
     "execution_count": 65,
     "metadata": {},
     "output_type": "execute_result"
    }
   ],
   "source": [
    "X_test_sm.head()"
   ]
  },
  {
   "cell_type": "code",
   "execution_count": 66,
   "id": "2fb4790c",
   "metadata": {},
   "outputs": [
    {
     "data": {
      "text/plain": [
       "(27020, 71)"
      ]
     },
     "execution_count": 66,
     "metadata": {},
     "output_type": "execute_result"
    }
   ],
   "source": [
    "X_resampled_sm.shape"
   ]
  },
  {
   "cell_type": "code",
   "execution_count": 67,
   "id": "fc21710b",
   "metadata": {},
   "outputs": [],
   "source": [
    "y_pred_train = res.predict(X_resampled_sm)"
   ]
  },
  {
   "cell_type": "code",
   "execution_count": 68,
   "id": "af642532",
   "metadata": {},
   "outputs": [
    {
     "data": {
      "text/plain": [
       "0    0.998392\n",
       "1    0.079209\n",
       "2    0.151947\n",
       "3    0.044461\n",
       "4    0.004588\n",
       "dtype: float64"
      ]
     },
     "execution_count": 68,
     "metadata": {},
     "output_type": "execute_result"
    }
   ],
   "source": [
    "y_pred_train.head()"
   ]
  },
  {
   "cell_type": "code",
   "execution_count": 69,
   "id": "4dd3c9be",
   "metadata": {},
   "outputs": [
    {
     "data": {
      "text/plain": [
       "(27020,)"
      ]
     },
     "execution_count": 69,
     "metadata": {},
     "output_type": "execute_result"
    }
   ],
   "source": [
    "y_pred_train.shape"
   ]
  },
  {
   "cell_type": "markdown",
   "id": "30f080c7",
   "metadata": {},
   "source": [
    "## Confusion matrix for Precision and Recall and Accuracy of the model"
   ]
  },
  {
   "cell_type": "code",
   "execution_count": 70,
   "id": "8d6dd0d6",
   "metadata": {},
   "outputs": [
    {
     "data": {
      "text/plain": [
       "0        0\n",
       "1        0\n",
       "2        0\n",
       "3        0\n",
       "4        0\n",
       "        ..\n",
       "27015    1\n",
       "27016    1\n",
       "27017    1\n",
       "27018    1\n",
       "27019    1\n",
       "Name: churn_probability, Length: 27020, dtype: int64"
      ]
     },
     "execution_count": 70,
     "metadata": {},
     "output_type": "execute_result"
    }
   ],
   "source": [
    "y_resampled"
   ]
  },
  {
   "cell_type": "code",
   "execution_count": 71,
   "id": "89406e11",
   "metadata": {},
   "outputs": [],
   "source": [
    "y_pred_train_final = pd.DataFrame({'Churn_Prob': y_pred_train})"
   ]
  },
  {
   "cell_type": "code",
   "execution_count": 72,
   "id": "b8368b7d",
   "metadata": {},
   "outputs": [
    {
     "data": {
      "text/html": [
       "<div>\n",
       "<style scoped>\n",
       "    .dataframe tbody tr th:only-of-type {\n",
       "        vertical-align: middle;\n",
       "    }\n",
       "\n",
       "    .dataframe tbody tr th {\n",
       "        vertical-align: top;\n",
       "    }\n",
       "\n",
       "    .dataframe thead th {\n",
       "        text-align: right;\n",
       "    }\n",
       "</style>\n",
       "<table border=\"1\" class=\"dataframe\">\n",
       "  <thead>\n",
       "    <tr style=\"text-align: right;\">\n",
       "      <th></th>\n",
       "      <th>Churn_Prob</th>\n",
       "    </tr>\n",
       "  </thead>\n",
       "  <tbody>\n",
       "    <tr>\n",
       "      <th>0</th>\n",
       "      <td>0.998392</td>\n",
       "    </tr>\n",
       "    <tr>\n",
       "      <th>1</th>\n",
       "      <td>0.079209</td>\n",
       "    </tr>\n",
       "    <tr>\n",
       "      <th>2</th>\n",
       "      <td>0.151947</td>\n",
       "    </tr>\n",
       "    <tr>\n",
       "      <th>3</th>\n",
       "      <td>0.044461</td>\n",
       "    </tr>\n",
       "    <tr>\n",
       "      <th>4</th>\n",
       "      <td>0.004588</td>\n",
       "    </tr>\n",
       "  </tbody>\n",
       "</table>\n",
       "</div>"
      ],
      "text/plain": [
       "   Churn_Prob\n",
       "0    0.998392\n",
       "1    0.079209\n",
       "2    0.151947\n",
       "3    0.044461\n",
       "4    0.004588"
      ]
     },
     "execution_count": 72,
     "metadata": {},
     "output_type": "execute_result"
    }
   ],
   "source": [
    "y_pred_train_final.head()"
   ]
  },
  {
   "cell_type": "code",
   "execution_count": 73,
   "id": "7c21640a",
   "metadata": {},
   "outputs": [],
   "source": [
    "y_pred_train_final['Churn_Prob_2'] =  y_pred_train_final.Churn_Prob.map(lambda x: 1 if x > 0.5 else 0)"
   ]
  },
  {
   "cell_type": "code",
   "execution_count": 74,
   "id": "6dc791d5",
   "metadata": {},
   "outputs": [
    {
     "data": {
      "text/plain": [
       "array([[11728,  1782],\n",
       "       [ 1584, 11926]])"
      ]
     },
     "execution_count": 74,
     "metadata": {},
     "output_type": "execute_result"
    }
   ],
   "source": [
    "confusion = metrics.confusion_matrix(y_resampled, y_pred_train_final.Churn_Prob_2)\n",
    "confusion"
   ]
  },
  {
   "cell_type": "code",
   "execution_count": 75,
   "id": "fc9fca61",
   "metadata": {},
   "outputs": [],
   "source": [
    "def draw_roc( actual, probs ):\n",
    "    fpr, tpr, thresholds = metrics.roc_curve( actual, probs,\n",
    "                                              drop_intermediate = False )\n",
    "    auc_score = metrics.roc_auc_score( actual, probs )\n",
    "    plt.figure(figsize=(5, 5))\n",
    "    plt.plot( fpr, tpr, label='ROC curve (area = %0.2f)' % auc_score )\n",
    "    plt.plot([0, 1], [0, 1], 'k--')\n",
    "    plt.xlim([0.0, 1.0])\n",
    "    plt.ylim([0.0, 1.05])\n",
    "    plt.xlabel('False Positive Rate or [1 - True Negative Rate]')\n",
    "    plt.ylabel('True Positive Rate')\n",
    "    plt.title('Receiver operating characteristic example')\n",
    "    plt.legend(loc=\"lower right\")\n",
    "    plt.show()\n",
    "\n",
    "    return auc_score"
   ]
  },
  {
   "cell_type": "code",
   "execution_count": 76,
   "id": "7c1b5af1",
   "metadata": {},
   "outputs": [],
   "source": [
    "# Metrics dict\n",
    "metrics_dict = {}"
   ]
  },
  {
   "cell_type": "code",
   "execution_count": 77,
   "id": "00b6db5d",
   "metadata": {},
   "outputs": [],
   "source": [
    "def get_accuracy_params(y_actual, y_pred, y_proba, model):\n",
    "    # Print ROC curve\n",
    "    auc_score = draw_roc(y_actual, y_proba)\n",
    "    confusion = metrics.confusion_matrix(y_actual, y_pred)\n",
    "    print('confusion matrix: ')\n",
    "    print(confusion)\n",
    "    TP = confusion[1, 1]\n",
    "    TN = confusion[0, 0]\n",
    "    FP = confusion[0, 1]\n",
    "    FN = confusion[1, 0]\n",
    "    accuracy = (TN+TP)/(TN+TP+FN+FP)\n",
    "    print('Accuracy: ', accuracy)\n",
    "    precision = TP / (TP+FP)\n",
    "    print('Precision: ', precision)\n",
    "    recall = TP / (TP+FN)\n",
    "    print('Recall: ', recall)\n",
    "    f1_score = 2*precision*recall/(precision+recall)\n",
    "    print('F1_score: ', f1_score)\n",
    "    print('AUC score: ', auc_score)\n",
    "    metrics_dict[model] = [accuracy, precision, recall, f1_score, auc_score]\n",
    "    return metrics_dict"
   ]
  },
  {
   "cell_type": "code",
   "execution_count": 78,
   "id": "0c025a89",
   "metadata": {},
   "outputs": [
    {
     "data": {
      "image/png": "[encoded data removed]",
      "text/plain": [
       "<Figure size 360x360 with 1 Axes>"
      ]
     },
     "metadata": {
      "needs_background": "light"
     },
     "output_type": "display_data"
    },
    {
     "name": "stdout",
     "output_type": "stream",
     "text": [
      "confusion matrix: \n",
      "[[11728  1782]\n",
      " [ 1584 11926]]\n",
      "Accuracy:  0.8754256106587713\n",
      "Precision:  0.8700029180040852\n",
      "Recall:  0.8827535159141376\n",
      "F1_score:  0.8763318392240429\n",
      "AUC score:  0.9360727722590553\n"
     ]
    }
   ],
   "source": [
    "metrics_dict = get_accuracy_params(y_resampled, y_pred_train_final.Churn_Prob_2, y_pred_train_final.Churn_Prob, 'Logistic_rfe_train')"
   ]
  },
  {
   "cell_type": "code",
   "execution_count": 79,
   "id": "d185ee00",
   "metadata": {},
   "outputs": [
    {
     "data": {
      "text/plain": [
       "{'Logistic_rfe_train': [0.8754256106587713,\n",
       "  0.8700029180040852,\n",
       "  0.8827535159141376,\n",
       "  0.8763318392240429,\n",
       "  0.9360727722590553]}"
      ]
     },
     "execution_count": 79,
     "metadata": {},
     "output_type": "execute_result"
    }
   ],
   "source": [
    "metrics_dict"
   ]
  },
  {
   "cell_type": "markdown",
   "id": "14850e45",
   "metadata": {},
   "source": [
    "## With Logistic regression with RFE we get (on train dataset)\n",
    "\n",
    "- TBD\n",
    "\n",
    "### Let's check for test data set"
   ]
  },
  {
   "cell_type": "code",
   "execution_count": 80,
   "id": "c5f1118d",
   "metadata": {},
   "outputs": [
    {
     "data": {
      "text/plain": [
       "(30000, 133)"
      ]
     },
     "execution_count": 80,
     "metadata": {},
     "output_type": "execute_result"
    }
   ],
   "source": [
    "telecom_test_df.shape"
   ]
  },
  {
   "cell_type": "code",
   "execution_count": 81,
   "id": "53f42986",
   "metadata": {},
   "outputs": [
    {
     "data": {
      "text/plain": [
       "(30000, 2)"
      ]
     },
     "execution_count": 81,
     "metadata": {},
     "output_type": "execute_result"
    }
   ],
   "source": [
    "telecom_test_sol_df.shape"
   ]
  },
  {
   "cell_type": "code",
   "execution_count": 82,
   "id": "2f2703de",
   "metadata": {},
   "outputs": [],
   "source": [
    "# Lets do prediction on telecom_test_df dataset"
   ]
  },
  {
   "cell_type": "code",
   "execution_count": 83,
   "id": "356526f9",
   "metadata": {},
   "outputs": [],
   "source": [
    "telecom_test_df_ori = telecom_test_df"
   ]
  },
  {
   "cell_type": "code",
   "execution_count": 84,
   "id": "c9c47355",
   "metadata": {},
   "outputs": [],
   "source": [
    "telecom_test_df = telecom_test_df[col]\n",
    "telecom_test_df = sm.add_constant(telecom_test_df)"
   ]
  },
  {
   "cell_type": "code",
   "execution_count": 85,
   "id": "e4ddd788",
   "metadata": {},
   "outputs": [],
   "source": [
    "y_pred_test = res.predict(telecom_test_df)"
   ]
  },
  {
   "cell_type": "code",
   "execution_count": 86,
   "id": "af2a87e2",
   "metadata": {},
   "outputs": [],
   "source": [
    "y_pred_test_final = pd.DataFrame({'Churn_Prob': y_pred_test})"
   ]
  },
  {
   "cell_type": "code",
   "execution_count": 87,
   "id": "0f2afa74",
   "metadata": {},
   "outputs": [
    {
     "data": {
      "text/html": [
       "<div>\n",
       "<style scoped>\n",
       "    .dataframe tbody tr th:only-of-type {\n",
       "        vertical-align: middle;\n",
       "    }\n",
       "\n",
       "    .dataframe tbody tr th {\n",
       "        vertical-align: top;\n",
       "    }\n",
       "\n",
       "    .dataframe thead th {\n",
       "        text-align: right;\n",
       "    }\n",
       "</style>\n",
       "<table border=\"1\" class=\"dataframe\">\n",
       "  <thead>\n",
       "    <tr style=\"text-align: right;\">\n",
       "      <th></th>\n",
       "      <th>Churn_Prob</th>\n",
       "    </tr>\n",
       "  </thead>\n",
       "  <tbody>\n",
       "    <tr>\n",
       "      <th>0</th>\n",
       "      <td>0.102041</td>\n",
       "    </tr>\n",
       "    <tr>\n",
       "      <th>1</th>\n",
       "      <td>0.311446</td>\n",
       "    </tr>\n",
       "    <tr>\n",
       "      <th>2</th>\n",
       "      <td>0.769823</td>\n",
       "    </tr>\n",
       "    <tr>\n",
       "      <th>3</th>\n",
       "      <td>0.118157</td>\n",
       "    </tr>\n",
       "    <tr>\n",
       "      <th>4</th>\n",
       "      <td>0.287507</td>\n",
       "    </tr>\n",
       "  </tbody>\n",
       "</table>\n",
       "</div>"
      ],
      "text/plain": [
       "   Churn_Prob\n",
       "0    0.102041\n",
       "1    0.311446\n",
       "2    0.769823\n",
       "3    0.118157\n",
       "4    0.287507"
      ]
     },
     "execution_count": 87,
     "metadata": {},
     "output_type": "execute_result"
    }
   ],
   "source": [
    "y_pred_test_final.head()"
   ]
  },
  {
   "cell_type": "code",
   "execution_count": 88,
   "id": "068826c3",
   "metadata": {},
   "outputs": [],
   "source": [
    "y_pred_test_final['Churn_Prob_2'] =  y_pred_test_final.Churn_Prob.map(lambda x: 1 if x > 0.5 else 0)"
   ]
  },
  {
   "cell_type": "code",
   "execution_count": 89,
   "id": "094be928",
   "metadata": {},
   "outputs": [
    {
     "data": {
      "image/png": "[encoded data removed]",
      "text/plain": [
       "<Figure size 360x360 with 1 Axes>"
      ]
     },
     "metadata": {
      "needs_background": "light"
     },
     "output_type": "display_data"
    },
    {
     "name": "stdout",
     "output_type": "stream",
     "text": [
      "confusion matrix: \n",
      "[[21372  5569]\n",
      " [  415  2644]]\n",
      "Accuracy:  0.8005333333333333\n",
      "Precision:  0.32192864970169244\n",
      "Recall:  0.864334749918274\n",
      "F1_score:  0.46912704045422293\n",
      "AUC score:  0.9028844513295365\n"
     ]
    }
   ],
   "source": [
    "metrics_dict = get_accuracy_params(telecom_test_sol_df.churn_probability, y_pred_test_final.Churn_Prob_2, y_pred_test_final.Churn_Prob, 'Logistic_rfe_test')"
   ]
  },
  {
   "cell_type": "code",
   "execution_count": 90,
   "id": "deb9c0d0",
   "metadata": {},
   "outputs": [
    {
     "data": {
      "text/plain": [
       "{'Logistic_rfe_train': [0.8754256106587713,\n",
       "  0.8700029180040852,\n",
       "  0.8827535159141376,\n",
       "  0.8763318392240429,\n",
       "  0.9360727722590553],\n",
       " 'Logistic_rfe_test': [0.8005333333333333,\n",
       "  0.32192864970169244,\n",
       "  0.864334749918274,\n",
       "  0.46912704045422293,\n",
       "  0.9028844513295365]}"
      ]
     },
     "execution_count": 90,
     "metadata": {},
     "output_type": "execute_result"
    }
   ],
   "source": [
    "metrics_dict"
   ]
  },
  {
   "cell_type": "markdown",
   "id": "ec524c33",
   "metadata": {},
   "source": [
    "### This seems a good model but lets compare with other models."
   ]
  },
  {
   "cell_type": "markdown",
   "id": "bd93b4a0",
   "metadata": {},
   "source": [
    "## PCA and Logistic Regression to check if model improves or not."
   ]
  },
  {
   "cell_type": "markdown",
   "id": "0ecb5679",
   "metadata": {},
   "source": [
    "## PCA on the data\n",
    "\n",
    "- While computing the principal components, we must not include the entire dataset. Model building is all about doing well on the data we haven't seen yet!\n",
    "- So we'll calculate the PCs using the train data, and apply them later on the test data."
   ]
  },
  {
   "cell_type": "code",
   "execution_count": 91,
   "id": "e2a5cd74",
   "metadata": {},
   "outputs": [],
   "source": [
    "# Looking at the data again"
   ]
  },
  {
   "cell_type": "code",
   "execution_count": 92,
   "id": "228cc28f",
   "metadata": {},
   "outputs": [
    {
     "data": {
      "text/plain": [
       "(27020,)"
      ]
     },
     "execution_count": 92,
     "metadata": {},
     "output_type": "execute_result"
    }
   ],
   "source": [
    "y_resampled.shape"
   ]
  },
  {
   "cell_type": "code",
   "execution_count": 93,
   "id": "f357b520",
   "metadata": {},
   "outputs": [
    {
     "data": {
      "text/plain": [
       "(27020, 133)"
      ]
     },
     "execution_count": 93,
     "metadata": {},
     "output_type": "execute_result"
    }
   ],
   "source": [
    "X_resampled.shape"
   ]
  },
  {
   "cell_type": "code",
   "execution_count": 94,
   "id": "d5bfc9eb",
   "metadata": {},
   "outputs": [],
   "source": [
    "pca = PCA(random_state=42)"
   ]
  },
  {
   "cell_type": "code",
   "execution_count": 95,
   "id": "4879eab0",
   "metadata": {},
   "outputs": [
    {
     "data": {
      "text/html": [
       "<style>#sk-container-id-1 {color: black;background-color: white;}#sk-container-id-1 pre{padding: 0;}#sk-container-id-1 div.sk-toggleable {background-color: white;}#sk-container-id-1 label.sk-toggleable__label {cursor: pointer;display: block;width: 100%;margin-bottom: 0;padding: 0.3em;box-sizing: border-box;text-align: center;}#sk-container-id-1 label.sk-toggleable__label-arrow:before {content: \"▸\";float: left;margin-right: 0.25em;color: #696969;}#sk-container-id-1 label.sk-toggleable__label-arrow:hover:before {color: black;}#sk-container-id-1 div.sk-estimator:hover label.sk-toggleable__label-arrow:before {color: black;}#sk-container-id-1 div.sk-toggleable__content {max-height: 0;max-width: 0;overflow: hidden;text-align: left;background-color: #f0f8ff;}#sk-container-id-1 div.sk-toggleable__content pre {margin: 0.2em;color: black;border-radius: 0.25em;background-color: #f0f8ff;}#sk-container-id-1 input.sk-toggleable__control:checked~div.sk-toggleable__content {max-height: 200px;max-width: 100%;overflow: auto;}#sk-container-id-1 input.sk-toggleable__control:checked~label.sk-toggleable__label-arrow:before {content: \"▾\";}#sk-container-id-1 div.sk-estimator input.sk-toggleable__control:checked~label.sk-toggleable__label {background-color: #d4ebff;}#sk-container-id-1 div.sk-label input.sk-toggleable__control:checked~label.sk-toggleable__label {background-color: #d4ebff;}#sk-container-id-1 input.sk-hidden--visually {border: 0;clip: rect(1px 1px 1px 1px);clip: rect(1px, 1px, 1px, 1px);height: 1px;margin: -1px;overflow: hidden;padding: 0;position: absolute;width: 1px;}#sk-container-id-1 div.sk-estimator {font-family: monospace;background-color: #f0f8ff;border: 1px dotted black;border-radius: 0.25em;box-sizing: border-box;margin-bottom: 0.5em;}#sk-container-id-1 div.sk-estimator:hover {background-color: #d4ebff;}#sk-container-id-1 div.sk-parallel-item::after {content: \"\";width: 100%;border-bottom: 1px solid gray;flex-grow: 1;}#sk-container-id-1 div.sk-label:hover label.sk-toggleable__label {background-color: #d4ebff;}#sk-container-id-1 div.sk-serial::before {content: \"\";position: absolute;border-left: 1px solid gray;box-sizing: border-box;top: 0;bottom: 0;left: 50%;z-index: 0;}#sk-container-id-1 div.sk-serial {display: flex;flex-direction: column;align-items: center;background-color: white;padding-right: 0.2em;padding-left: 0.2em;position: relative;}#sk-container-id-1 div.sk-item {position: relative;z-index: 1;}#sk-container-id-1 div.sk-parallel {display: flex;align-items: stretch;justify-content: center;background-color: white;position: relative;}#sk-container-id-1 div.sk-item::before, #sk-container-id-1 div.sk-parallel-item::before {content: \"\";position: absolute;border-left: 1px solid gray;box-sizing: border-box;top: 0;bottom: 0;left: 50%;z-index: -1;}#sk-container-id-1 div.sk-parallel-item {display: flex;flex-direction: column;z-index: 1;position: relative;background-color: white;}#sk-container-id-1 div.sk-parallel-item:first-child::after {align-self: flex-end;width: 50%;}#sk-container-id-1 div.sk-parallel-item:last-child::after {align-self: flex-start;width: 50%;}#sk-container-id-1 div.sk-parallel-item:only-child::after {width: 0;}#sk-container-id-1 div.sk-dashed-wrapped {border: 1px dashed gray;margin: 0 0.4em 0.5em 0.4em;box-sizing: border-box;padding-bottom: 0.4em;background-color: white;}#sk-container-id-1 div.sk-label label {font-family: monospace;font-weight: bold;display: inline-block;line-height: 1.2em;}#sk-container-id-1 div.sk-label-container {text-align: center;}#sk-container-id-1 div.sk-container {/* jupyter's `normalize.less` sets `[hidden] { display: none; }` but bootstrap.min.css set `[hidden] { display: none !important; }` so we also need the `!important` here to be able to override the default hidden behavior on the sphinx rendered scikit-learn.org. See: https://github.com/scikit-learn/scikit-learn/issues/21755 */display: inline-block !important;position: relative;}#sk-container-id-1 div.sk-text-repr-fallback {display: none;}</style><div id=\"sk-container-id-1\" class=\"sk-top-container\"><div class=\"sk-text-repr-fallback\"><pre>PCA(random_state=42)</pre><b>In a Jupyter environment, please rerun this cell to show the HTML representation or trust the notebook. <br />On GitHub, the HTML representation is unable to render, please try loading this page with nbviewer.org.</b></div><div class=\"sk-container\" hidden><div class=\"sk-item\"><div class=\"sk-estimator sk-toggleable\"><input class=\"sk-toggleable__control sk-hidden--visually\" id=\"sk-estimator-id-1\" type=\"checkbox\" checked><label for=\"sk-estimator-id-1\" class=\"sk-toggleable__label sk-toggleable__label-arrow\">PCA</label><div class=\"sk-toggleable__content\"><pre>PCA(random_state=42)</pre></div></div></div></div></div>"
      ],
      "text/plain": [
       "PCA(random_state=42)"
      ]
     },
     "execution_count": 95,
     "metadata": {},
     "output_type": "execute_result"
    }
   ],
   "source": [
    "pca.fit(X_resampled)"
   ]
  },
  {
   "cell_type": "code",
   "execution_count": 96,
   "id": "6a324422",
   "metadata": {},
   "outputs": [
    {
     "data": {
      "text/plain": [
       "array([[ 1.67003180e-02,  1.20674217e-02, -6.04656906e-03, ...,\n",
       "        -2.26439951e-02, -3.74215907e-02, -4.26596422e-02],\n",
       "       [ 4.99955090e-02,  5.54865335e-02,  3.79838622e-02, ...,\n",
       "        -1.95822932e-02, -3.95735865e-02, -5.52981470e-02],\n",
       "       [ 4.69729148e-02,  7.04203072e-02,  6.61569896e-02, ...,\n",
       "         8.20152366e-02,  1.31682293e-01,  1.45851186e-01],\n",
       "       ...,\n",
       "       [-0.00000000e+00,  6.52374472e-17, -1.32826169e-16, ...,\n",
       "         8.96302732e-17, -2.87585331e-17,  4.76023607e-18],\n",
       "       [ 0.00000000e+00,  2.42701303e-16,  2.58867155e-16, ...,\n",
       "        -2.28686259e-17,  4.19527179e-17, -1.82650171e-17],\n",
       "       [-0.00000000e+00, -1.32657996e-15, -5.04062281e-15, ...,\n",
       "        -1.09270535e-15, -2.14980424e-16,  4.70800243e-16]])"
      ]
     },
     "execution_count": 96,
     "metadata": {},
     "output_type": "execute_result"
    }
   ],
   "source": [
    "pca.components_"
   ]
  },
  {
   "cell_type": "code",
   "execution_count": 97,
   "id": "462adf05",
   "metadata": {},
   "outputs": [
    {
     "data": {
      "text/plain": [
       "array([1.92918548e-01, 1.57246676e-01, 7.42833605e-02, 6.04025961e-02,\n",
       "       5.31979317e-02, 4.94982465e-02, 4.52654189e-02, 3.27217930e-02,\n",
       "       2.09193281e-02, 2.02000883e-02, 1.90580783e-02, 1.77894923e-02,\n",
       "       1.54347323e-02, 1.27528489e-02, 1.22605916e-02, 1.21111917e-02,\n",
       "       1.08408961e-02, 1.03274374e-02, 1.01903689e-02, 9.50274119e-03,\n",
       "       8.86035558e-03, 8.40354494e-03, 7.56412385e-03, 7.04267671e-03,\n",
       "       6.82999841e-03, 6.62325753e-03, 6.42555682e-03, 5.76286299e-03,\n",
       "       5.35320676e-03, 5.21460079e-03, 5.06463600e-03, 4.75613877e-03,\n",
       "       4.19919171e-03, 3.93145934e-03, 3.43387145e-03, 3.24617676e-03,\n",
       "       3.14904458e-03, 2.99745205e-03, 2.91344621e-03, 2.86504696e-03,\n",
       "       2.78911269e-03, 2.67232917e-03, 2.56901717e-03, 2.51118291e-03,\n",
       "       2.33329986e-03, 2.15787622e-03, 2.14830044e-03, 2.11377965e-03,\n",
       "       1.98894152e-03, 1.77577931e-03, 1.73525140e-03, 1.68247071e-03,\n",
       "       1.60918346e-03, 1.55453806e-03, 1.41696435e-03, 1.40131223e-03,\n",
       "       1.38533444e-03, 1.30718352e-03, 1.29459628e-03, 1.23127058e-03,\n",
       "       1.20052675e-03, 1.03176821e-03, 9.85655627e-04, 9.40835338e-04,\n",
       "       9.09313875e-04, 8.86610562e-04, 8.63751797e-04, 8.50782900e-04,\n",
       "       8.40239478e-04, 8.30508400e-04, 7.60508963e-04, 7.13880475e-04,\n",
       "       6.69760003e-04, 6.09848102e-04, 5.93637200e-04, 5.87280971e-04,\n",
       "       5.41276878e-04, 4.82866693e-04, 4.68105742e-04, 4.65116350e-04,\n",
       "       4.32532864e-04, 4.18040353e-04, 3.77940573e-04, 3.44694239e-04,\n",
       "       3.32575768e-04, 3.21046461e-04, 3.16719746e-04, 2.87016891e-04,\n",
       "       2.78040374e-04, 2.63408196e-04, 2.45535762e-04, 1.92637596e-04,\n",
       "       1.86342207e-04, 1.80949096e-04, 1.68606068e-04, 1.55126113e-04,\n",
       "       1.47514331e-04, 1.41834769e-04, 1.15727723e-04, 1.03385392e-04,\n",
       "       9.64705179e-05, 9.55725178e-05, 6.37858309e-05, 5.89101809e-05,\n",
       "       5.38294426e-05, 4.43089243e-05, 3.71644487e-05, 1.95006156e-05,\n",
       "       1.76028304e-05, 1.45457741e-05, 9.59455273e-06, 6.82012795e-06,\n",
       "       2.11625642e-06, 8.87768453e-07, 2.03152214e-07, 3.33310497e-12,\n",
       "       1.97952072e-12, 1.57598203e-12, 1.34895061e-12, 1.18633304e-12,\n",
       "       1.07088458e-12, 1.05425603e-12, 7.16504745e-13, 5.34529034e-13,\n",
       "       3.79689349e-13, 3.74289177e-13, 3.62605037e-13, 2.75196698e-13,\n",
       "       2.22163716e-13, 1.00459791e-13, 7.89271172e-34, 7.89271172e-34,\n",
       "       7.89269714e-34])"
      ]
     },
     "execution_count": 97,
     "metadata": {},
     "output_type": "execute_result"
    }
   ],
   "source": [
    "pca.explained_variance_ratio_"
   ]
  },
  {
   "cell_type": "code",
   "execution_count": 98,
   "id": "35ab804f",
   "metadata": {},
   "outputs": [],
   "source": [
    "var_cumu = np.cumsum(pca.explained_variance_ratio_)"
   ]
  },
  {
   "cell_type": "code",
   "execution_count": 99,
   "id": "5653298c",
   "metadata": {},
   "outputs": [
    {
     "data": {
      "text/plain": [
       "[<matplotlib.lines.Line2D at 0x7fb8064f55e0>]"
      ]
     },
     "execution_count": 99,
     "metadata": {},
     "output_type": "execute_result"
    },
    {
     "data": {
      "image/png": "[encoded data removed]",
      "text/plain": [
       "<Figure size 864x576 with 1 Axes>"
      ]
     },
     "metadata": {
      "needs_background": "light"
     },
     "output_type": "display_data"
    }
   ],
   "source": [
    "fig = plt.figure(figsize=[12,8])\n",
    "plt.plot(range(1,len(var_cumu)+1), var_cumu)"
   ]
  },
  {
   "cell_type": "markdown",
   "id": "e6e46d15",
   "metadata": {},
   "source": [
    "## Looking at the scree plot with 50 PCs we have more than 95% of variance explained."
   ]
  },
  {
   "cell_type": "code",
   "execution_count": 100,
   "id": "6b98d260",
   "metadata": {},
   "outputs": [],
   "source": [
    "pca_final = IncrementalPCA(n_components=50)"
   ]
  },
  {
   "cell_type": "code",
   "execution_count": 101,
   "id": "ef462a28",
   "metadata": {},
   "outputs": [],
   "source": [
    "df_train_pca = pca_final.fit_transform(X_resampled)"
   ]
  },
  {
   "cell_type": "code",
   "execution_count": 102,
   "id": "4acf2f4b",
   "metadata": {},
   "outputs": [
    {
     "data": {
      "text/plain": [
       "(27020, 50)"
      ]
     },
     "execution_count": 102,
     "metadata": {},
     "output_type": "execute_result"
    }
   ],
   "source": [
    "df_train_pca.shape"
   ]
  },
  {
   "cell_type": "code",
   "execution_count": 103,
   "id": "51c3c638",
   "metadata": {},
   "outputs": [],
   "source": [
    "corrmat = np.corrcoef(df_train_pca.transpose())"
   ]
  },
  {
   "cell_type": "code",
   "execution_count": 104,
   "id": "469fc042",
   "metadata": {},
   "outputs": [
    {
     "data": {
      "text/plain": [
       "(50, 50)"
      ]
     },
     "execution_count": 104,
     "metadata": {},
     "output_type": "execute_result"
    }
   ],
   "source": [
    "corrmat.shape"
   ]
  },
  {
   "cell_type": "code",
   "execution_count": 105,
   "id": "e3fdc23f",
   "metadata": {},
   "outputs": [
    {
     "data": {
      "text/plain": [
       "array([[ 1.00000000e+00, -2.41959651e-07, -2.01322551e-07, ...,\n",
       "         4.47584948e-05, -3.76784885e-06, -4.15250925e-05],\n",
       "       [-2.41959651e-07,  1.00000000e+00,  9.77099868e-08, ...,\n",
       "         5.35884680e-05, -3.46700656e-05, -5.07058287e-05],\n",
       "       [-2.01322551e-07,  9.77099868e-08,  1.00000000e+00, ...,\n",
       "         2.43103948e-05, -1.26645120e-04,  1.19131406e-04],\n",
       "       ...,\n",
       "       [ 4.47584948e-05,  5.35884680e-05,  2.43103948e-05, ...,\n",
       "         1.00000000e+00, -6.51387944e-02, -8.71484034e-02],\n",
       "       [-3.76784885e-06, -3.46700656e-05, -1.26645120e-04, ...,\n",
       "        -6.51387944e-02,  1.00000000e+00,  3.58681624e-02],\n",
       "       [-4.15250925e-05, -5.07058287e-05,  1.19131406e-04, ...,\n",
       "        -8.71484034e-02,  3.58681624e-02,  1.00000000e+00]])"
      ]
     },
     "execution_count": 105,
     "metadata": {},
     "output_type": "execute_result"
    }
   ],
   "source": [
    "corrmat"
   ]
  },
  {
   "cell_type": "markdown",
   "id": "e5852693",
   "metadata": {},
   "source": [
    "### Applying the transformation on the test set"
   ]
  },
  {
   "cell_type": "code",
   "execution_count": 110,
   "id": "76137d7b",
   "metadata": {},
   "outputs": [
    {
     "data": {
      "text/plain": [
       "(30000, 133)"
      ]
     },
     "execution_count": 110,
     "metadata": {},
     "output_type": "execute_result"
    }
   ],
   "source": [
    "telecom_test_df_ori.shape"
   ]
  },
  {
   "cell_type": "code",
   "execution_count": 111,
   "id": "2d03012a",
   "metadata": {},
   "outputs": [
    {
     "data": {
      "text/plain": [
       "(30000, 50)"
      ]
     },
     "execution_count": 111,
     "metadata": {},
     "output_type": "execute_result"
    }
   ],
   "source": [
    "df_test_pca = pca_final.transform(telecom_test_df_ori)\n",
    "df_test_pca.shape"
   ]
  },
  {
   "cell_type": "markdown",
   "id": "8128fc2c",
   "metadata": {},
   "source": [
    "## Applying logistic regression on the data on our Principal components"
   ]
  },
  {
   "cell_type": "code",
   "execution_count": 112,
   "id": "af703228",
   "metadata": {},
   "outputs": [],
   "source": [
    "learner_pca = LogisticRegression()"
   ]
  },
  {
   "cell_type": "code",
   "execution_count": 113,
   "id": "c9149f26",
   "metadata": {},
   "outputs": [],
   "source": [
    "model_pca = learner_pca.fit(df_train_pca, y_resampled)"
   ]
  },
  {
   "cell_type": "code",
   "execution_count": 114,
   "id": "2a346bbe",
   "metadata": {},
   "outputs": [],
   "source": [
    "y_pred_proba = model_pca.predict_proba(df_train_pca)[::,1]"
   ]
  },
  {
   "cell_type": "code",
   "execution_count": 115,
   "id": "77842af2",
   "metadata": {},
   "outputs": [
    {
     "data": {
      "text/plain": [
       "array([0.94451877, 0.07729961, 0.09082199, ..., 0.83026488, 0.79989927,\n",
       "       0.9305987 ])"
      ]
     },
     "execution_count": 115,
     "metadata": {},
     "output_type": "execute_result"
    }
   ],
   "source": [
    "y_pred_proba"
   ]
  },
  {
   "cell_type": "code",
   "execution_count": 116,
   "id": "67fcd7b7",
   "metadata": {},
   "outputs": [],
   "source": [
    "y_pred_train_final = pd.DataFrame({'Churn_Prob': y_pred_proba})"
   ]
  },
  {
   "cell_type": "code",
   "execution_count": 117,
   "id": "1f4b5adb",
   "metadata": {},
   "outputs": [],
   "source": [
    "y_pred_train_final['Churn_Prob_2'] = y_pred_train_final.Churn_Prob.map(lambda x: 1 if x > 0.5 else 0)"
   ]
  },
  {
   "cell_type": "code",
   "execution_count": 118,
   "id": "86b8a123",
   "metadata": {},
   "outputs": [
    {
     "data": {
      "image/png": "[encoded data removed]",
      "text/plain": [
       "<Figure size 360x360 with 1 Axes>"
      ]
     },
     "metadata": {
      "needs_background": "light"
     },
     "output_type": "display_data"
    },
    {
     "name": "stdout",
     "output_type": "stream",
     "text": [
      "confusion matrix: \n",
      "[[10987  2523]\n",
      " [ 1745 11765]]\n",
      "Accuracy:  0.8420429311621022\n",
      "Precision:  0.8234182530795073\n",
      "Recall:  0.8708364174685418\n",
      "F1_score:  0.8464637743722571\n",
      "AUC score:  0.9117021139041672\n"
     ]
    }
   ],
   "source": [
    "metrics_dict = get_accuracy_params(y_resampled, y_pred_train_final.Churn_Prob_2, y_pred_train_final.Churn_Prob, 'Logistic_pca_train')"
   ]
  },
  {
   "cell_type": "code",
   "execution_count": 119,
   "id": "e71adda7",
   "metadata": {},
   "outputs": [
    {
     "data": {
      "text/plain": [
       "{'Logistic_rfe_train': [0.8754256106587713,\n",
       "  0.8700029180040852,\n",
       "  0.8827535159141376,\n",
       "  0.8763318392240429,\n",
       "  0.9360727722590553],\n",
       " 'Logistic_rfe_test': [0.8005333333333333,\n",
       "  0.32192864970169244,\n",
       "  0.864334749918274,\n",
       "  0.46912704045422293,\n",
       "  0.9028844513295365],\n",
       " 'Logistic_pca_train': [0.8420429311621022,\n",
       "  0.8234182530795073,\n",
       "  0.8708364174685418,\n",
       "  0.8464637743722571,\n",
       "  0.9117021139041672]}"
      ]
     },
     "execution_count": 119,
     "metadata": {},
     "output_type": "execute_result"
    }
   ],
   "source": [
    "metrics_dict"
   ]
  },
  {
   "cell_type": "markdown",
   "id": "1fadaff5",
   "metadata": {},
   "source": [
    "### Making predictions on the test set"
   ]
  },
  {
   "cell_type": "code",
   "execution_count": 120,
   "id": "648a5954",
   "metadata": {},
   "outputs": [],
   "source": [
    "y_pred_proba = model_pca.predict_proba(df_test_pca)[::,1]"
   ]
  },
  {
   "cell_type": "code",
   "execution_count": 121,
   "id": "98027341",
   "metadata": {},
   "outputs": [
    {
     "data": {
      "text/plain": [
       "array([0.15851643, 0.26745596, 0.69893712, ..., 0.63058769, 0.85844423,\n",
       "       0.0304359 ])"
      ]
     },
     "execution_count": 121,
     "metadata": {},
     "output_type": "execute_result"
    }
   ],
   "source": [
    "y_pred_proba"
   ]
  },
  {
   "cell_type": "code",
   "execution_count": 122,
   "id": "55ec9a8d",
   "metadata": {},
   "outputs": [],
   "source": [
    "y_pred_test_final = pd.DataFrame({'Churn_Prob': y_pred_proba})"
   ]
  },
  {
   "cell_type": "code",
   "execution_count": 123,
   "id": "f2964723",
   "metadata": {},
   "outputs": [],
   "source": [
    "y_pred_test_final['Churn_Prob_2'] = y_pred_test_final.Churn_Prob.map(lambda x: 1 if x > 0.5 else 0)"
   ]
  },
  {
   "cell_type": "code",
   "execution_count": 125,
   "id": "31d88d71",
   "metadata": {},
   "outputs": [
    {
     "data": {
      "image/png": "[encoded data removed]",
      "text/plain": [
       "<Figure size 360x360 with 1 Axes>"
      ]
     },
     "metadata": {
      "needs_background": "light"
     },
     "output_type": "display_data"
    },
    {
     "name": "stdout",
     "output_type": "stream",
     "text": [
      "confusion matrix: \n",
      "[[17751  9190]\n",
      " [  364  2695]]\n",
      "Accuracy:  0.6815333333333333\n",
      "Precision:  0.22675641564997898\n",
      "Recall:  0.8810068649885584\n",
      "F1_score:  0.36067987152034264\n",
      "AUC score:  0.8695473438932257\n"
     ]
    }
   ],
   "source": [
    "metrics_dict = get_accuracy_params(telecom_test_sol_df.churn_probability, y_pred_test_final.Churn_Prob_2, y_pred_test_final.Churn_Prob, 'Logistic_pca_test')"
   ]
  },
  {
   "cell_type": "code",
   "execution_count": 126,
   "id": "6fff4c0f",
   "metadata": {},
   "outputs": [
    {
     "data": {
      "text/plain": [
       "{'Logistic_rfe_train': [0.8754256106587713,\n",
       "  0.8700029180040852,\n",
       "  0.8827535159141376,\n",
       "  0.8763318392240429,\n",
       "  0.9360727722590553],\n",
       " 'Logistic_rfe_test': [0.8005333333333333,\n",
       "  0.32192864970169244,\n",
       "  0.864334749918274,\n",
       "  0.46912704045422293,\n",
       "  0.9028844513295365],\n",
       " 'Logistic_pca_train': [0.8420429311621022,\n",
       "  0.8234182530795073,\n",
       "  0.8708364174685418,\n",
       "  0.8464637743722571,\n",
       "  0.9117021139041672],\n",
       " 'Logistic_pca_test': [0.6815333333333333,\n",
       "  0.22675641564997898,\n",
       "  0.8810068649885584,\n",
       "  0.36067987152034264,\n",
       "  0.8695473438932257]}"
      ]
     },
     "execution_count": 126,
     "metadata": {},
     "output_type": "execute_result"
    }
   ],
   "source": [
    "metrics_dict"
   ]
  },
  {
   "cell_type": "markdown",
   "id": "169fcb86-5c15-4af0-9f41-bf1337d8df35",
   "metadata": {},
   "source": [
    "##### So we could see the Recall coming close to 88%.\n",
    "We got a rough idea with PCA and Logistic Regression.\n",
    "We now move to Lasso and Ridge Regression for further analysis and actual conclusion on right predictors and coefficients.\n",
    "Let's try other models to see how it performs."
   ]
  },
  {
   "cell_type": "markdown",
   "id": "adbe4de2-2ddd-4477-bdf8-bec63bad5f83",
   "metadata": {},
   "source": [
    "### Ridge and Lasso Regression\n"
   ]
  },
  {
   "cell_type": "markdown",
   "id": "d9e41d1e-68ee-4f8f-ac7c-d1295a41a737",
   "metadata": {},
   "source": [
    "#### Ridge Regression"
   ]
  },
  {
   "cell_type": "code",
   "execution_count": 128,
   "id": "7ac62178-e44d-44d4-a66a-7f01e6dcaa06",
   "metadata": {
    "scrolled": true
   },
   "outputs": [
    {
     "name": "stdout",
     "output_type": "stream",
     "text": [
      "Fitting 10 folds for each of 28 candidates, totalling 280 fits\n"
     ]
    },
    {
     "data": {
      "text/html": [
       "<style>#sk-container-id-3 {color: black;background-color: white;}#sk-container-id-3 pre{padding: 0;}#sk-container-id-3 div.sk-toggleable {background-color: white;}#sk-container-id-3 label.sk-toggleable__label {cursor: pointer;display: block;width: 100%;margin-bottom: 0;padding: 0.3em;box-sizing: border-box;text-align: center;}#sk-container-id-3 label.sk-toggleable__label-arrow:before {content: \"▸\";float: left;margin-right: 0.25em;color: #696969;}#sk-container-id-3 label.sk-toggleable__label-arrow:hover:before {color: black;}#sk-container-id-3 div.sk-estimator:hover label.sk-toggleable__label-arrow:before {color: black;}#sk-container-id-3 div.sk-toggleable__content {max-height: 0;max-width: 0;overflow: hidden;text-align: left;background-color: #f0f8ff;}#sk-container-id-3 div.sk-toggleable__content pre {margin: 0.2em;color: black;border-radius: 0.25em;background-color: #f0f8ff;}#sk-container-id-3 input.sk-toggleable__control:checked~div.sk-toggleable__content {max-height: 200px;max-width: 100%;overflow: auto;}#sk-container-id-3 input.sk-toggleable__control:checked~label.sk-toggleable__label-arrow:before {content: \"▾\";}#sk-container-id-3 div.sk-estimator input.sk-toggleable__control:checked~label.sk-toggleable__label {background-color: #d4ebff;}#sk-container-id-3 div.sk-label input.sk-toggleable__control:checked~label.sk-toggleable__label {background-color: #d4ebff;}#sk-container-id-3 input.sk-hidden--visually {border: 0;clip: rect(1px 1px 1px 1px);clip: rect(1px, 1px, 1px, 1px);height: 1px;margin: -1px;overflow: hidden;padding: 0;position: absolute;width: 1px;}#sk-container-id-3 div.sk-estimator {font-family: monospace;background-color: #f0f8ff;border: 1px dotted black;border-radius: 0.25em;box-sizing: border-box;margin-bottom: 0.5em;}#sk-container-id-3 div.sk-estimator:hover {background-color: #d4ebff;}#sk-container-id-3 div.sk-parallel-item::after {content: \"\";width: 100%;border-bottom: 1px solid gray;flex-grow: 1;}#sk-container-id-3 div.sk-label:hover label.sk-toggleable__label {background-color: #d4ebff;}#sk-container-id-3 div.sk-serial::before {content: \"\";position: absolute;border-left: 1px solid gray;box-sizing: border-box;top: 0;bottom: 0;left: 50%;z-index: 0;}#sk-container-id-3 div.sk-serial {display: flex;flex-direction: column;align-items: center;background-color: white;padding-right: 0.2em;padding-left: 0.2em;position: relative;}#sk-container-id-3 div.sk-item {position: relative;z-index: 1;}#sk-container-id-3 div.sk-parallel {display: flex;align-items: stretch;justify-content: center;background-color: white;position: relative;}#sk-container-id-3 div.sk-item::before, #sk-container-id-3 div.sk-parallel-item::before {content: \"\";position: absolute;border-left: 1px solid gray;box-sizing: border-box;top: 0;bottom: 0;left: 50%;z-index: -1;}#sk-container-id-3 div.sk-parallel-item {display: flex;flex-direction: column;z-index: 1;position: relative;background-color: white;}#sk-container-id-3 div.sk-parallel-item:first-child::after {align-self: flex-end;width: 50%;}#sk-container-id-3 div.sk-parallel-item:last-child::after {align-self: flex-start;width: 50%;}#sk-container-id-3 div.sk-parallel-item:only-child::after {width: 0;}#sk-container-id-3 div.sk-dashed-wrapped {border: 1px dashed gray;margin: 0 0.4em 0.5em 0.4em;box-sizing: border-box;padding-bottom: 0.4em;background-color: white;}#sk-container-id-3 div.sk-label label {font-family: monospace;font-weight: bold;display: inline-block;line-height: 1.2em;}#sk-container-id-3 div.sk-label-container {text-align: center;}#sk-container-id-3 div.sk-container {/* jupyter's `normalize.less` sets `[hidden] { display: none; }` but bootstrap.min.css set `[hidden] { display: none !important; }` so we also need the `!important` here to be able to override the default hidden behavior on the sphinx rendered scikit-learn.org. See: https://github.com/scikit-learn/scikit-learn/issues/21755 */display: inline-block !important;position: relative;}#sk-container-id-3 div.sk-text-repr-fallback {display: none;}</style><div id=\"sk-container-id-3\" class=\"sk-top-container\"><div class=\"sk-text-repr-fallback\"><pre>GridSearchCV(cv=10, estimator=Ridge(),\n",
       "             param_grid={&#x27;alpha&#x27;: [0.0001, 0.001, 0.01, 0.05, 0.1, 0.2, 0.3,\n",
       "                                   0.4, 0.5, 0.6, 0.7, 0.8, 0.9, 1.0, 2.0, 3.0,\n",
       "                                   4.0, 5.0, 6.0, 7.0, 8.0, 9.0, 10.0, 20, 50,\n",
       "                                   100, 500, 1000]},\n",
       "             return_train_score=True, scoring=&#x27;neg_mean_absolute_error&#x27;,\n",
       "             verbose=1)</pre><b>In a Jupyter environment, please rerun this cell to show the HTML representation or trust the notebook. <br />On GitHub, the HTML representation is unable to render, please try loading this page with nbviewer.org.</b></div><div class=\"sk-container\" hidden><div class=\"sk-item sk-dashed-wrapped\"><div class=\"sk-label-container\"><div class=\"sk-label sk-toggleable\"><input class=\"sk-toggleable__control sk-hidden--visually\" id=\"sk-estimator-id-5\" type=\"checkbox\" ><label for=\"sk-estimator-id-5\" class=\"sk-toggleable__label sk-toggleable__label-arrow\">GridSearchCV</label><div class=\"sk-toggleable__content\"><pre>GridSearchCV(cv=10, estimator=Ridge(),\n",
       "             param_grid={&#x27;alpha&#x27;: [0.0001, 0.001, 0.01, 0.05, 0.1, 0.2, 0.3,\n",
       "                                   0.4, 0.5, 0.6, 0.7, 0.8, 0.9, 1.0, 2.0, 3.0,\n",
       "                                   4.0, 5.0, 6.0, 7.0, 8.0, 9.0, 10.0, 20, 50,\n",
       "                                   100, 500, 1000]},\n",
       "             return_train_score=True, scoring=&#x27;neg_mean_absolute_error&#x27;,\n",
       "             verbose=1)</pre></div></div></div><div class=\"sk-parallel\"><div class=\"sk-parallel-item\"><div class=\"sk-item\"><div class=\"sk-label-container\"><div class=\"sk-label sk-toggleable\"><input class=\"sk-toggleable__control sk-hidden--visually\" id=\"sk-estimator-id-6\" type=\"checkbox\" ><label for=\"sk-estimator-id-6\" class=\"sk-toggleable__label sk-toggleable__label-arrow\">estimator: Ridge</label><div class=\"sk-toggleable__content\"><pre>Ridge()</pre></div></div></div><div class=\"sk-serial\"><div class=\"sk-item\"><div class=\"sk-estimator sk-toggleable\"><input class=\"sk-toggleable__control sk-hidden--visually\" id=\"sk-estimator-id-7\" type=\"checkbox\" ><label for=\"sk-estimator-id-7\" class=\"sk-toggleable__label sk-toggleable__label-arrow\">Ridge</label><div class=\"sk-toggleable__content\"><pre>Ridge()</pre></div></div></div></div></div></div></div></div></div></div>"
      ],
      "text/plain": [
       "GridSearchCV(cv=10, estimator=Ridge(),\n",
       "             param_grid={'alpha': [0.0001, 0.001, 0.01, 0.05, 0.1, 0.2, 0.3,\n",
       "                                   0.4, 0.5, 0.6, 0.7, 0.8, 0.9, 1.0, 2.0, 3.0,\n",
       "                                   4.0, 5.0, 6.0, 7.0, 8.0, 9.0, 10.0, 20, 50,\n",
       "                                   100, 500, 1000]},\n",
       "             return_train_score=True, scoring='neg_mean_absolute_error',\n",
       "             verbose=1)"
      ]
     },
     "execution_count": 128,
     "metadata": {},
     "output_type": "execute_result"
    }
   ],
   "source": [
    "# list of alphas to tune - if value too high it will lead to underfitting, if it is too low, \n",
    "# it will not handle the overfitting\n",
    "params = {'alpha': [0.0001, 0.001, 0.01, 0.05, 0.1, \n",
    " 0.2, 0.3, 0.4, 0.5, 0.6, 0.7, 0.8, 0.9, 1.0, 2.0, 3.0, \n",
    " 4.0, 5.0, 6.0, 7.0, 8.0, 9.0, 10.0, 20, 50, 100, 500, 1000 ]}\n",
    "\n",
    "ridge = Ridge()\n",
    "\n",
    "# cross validation\n",
    "folds = 10\n",
    "model_cv = GridSearchCV(estimator = ridge, \n",
    "                        param_grid = params, \n",
    "                        scoring= 'neg_mean_absolute_error',  \n",
    "                        cv = folds, \n",
    "                        return_train_score=True,\n",
    "                        verbose = 1)  \n",
    "\n",
    "\n",
    "model_cv.fit(X_resampled, y_resampled)"
   ]
  },
  {
   "cell_type": "code",
   "execution_count": 129,
   "id": "64ef3402-9e82-4f08-abf7-da8a954dcc15",
   "metadata": {},
   "outputs": [
    {
     "name": "stdout",
     "output_type": "stream",
     "text": [
      "{'alpha': 0.001}\n"
     ]
    }
   ],
   "source": [
    "# Printing the best hyperparameter alpha\n",
    "print(model_cv.best_params_)"
   ]
  },
  {
   "cell_type": "code",
   "execution_count": 131,
   "id": "2630e3d7-1bd8-4b0e-a28b-33a97c0c59e7",
   "metadata": {},
   "outputs": [
    {
     "data": {
      "text/html": [
       "<style>#sk-container-id-5 {color: black;background-color: white;}#sk-container-id-5 pre{padding: 0;}#sk-container-id-5 div.sk-toggleable {background-color: white;}#sk-container-id-5 label.sk-toggleable__label {cursor: pointer;display: block;width: 100%;margin-bottom: 0;padding: 0.3em;box-sizing: border-box;text-align: center;}#sk-container-id-5 label.sk-toggleable__label-arrow:before {content: \"▸\";float: left;margin-right: 0.25em;color: #696969;}#sk-container-id-5 label.sk-toggleable__label-arrow:hover:before {color: black;}#sk-container-id-5 div.sk-estimator:hover label.sk-toggleable__label-arrow:before {color: black;}#sk-container-id-5 div.sk-toggleable__content {max-height: 0;max-width: 0;overflow: hidden;text-align: left;background-color: #f0f8ff;}#sk-container-id-5 div.sk-toggleable__content pre {margin: 0.2em;color: black;border-radius: 0.25em;background-color: #f0f8ff;}#sk-container-id-5 input.sk-toggleable__control:checked~div.sk-toggleable__content {max-height: 200px;max-width: 100%;overflow: auto;}#sk-container-id-5 input.sk-toggleable__control:checked~label.sk-toggleable__label-arrow:before {content: \"▾\";}#sk-container-id-5 div.sk-estimator input.sk-toggleable__control:checked~label.sk-toggleable__label {background-color: #d4ebff;}#sk-container-id-5 div.sk-label input.sk-toggleable__control:checked~label.sk-toggleable__label {background-color: #d4ebff;}#sk-container-id-5 input.sk-hidden--visually {border: 0;clip: rect(1px 1px 1px 1px);clip: rect(1px, 1px, 1px, 1px);height: 1px;margin: -1px;overflow: hidden;padding: 0;position: absolute;width: 1px;}#sk-container-id-5 div.sk-estimator {font-family: monospace;background-color: #f0f8ff;border: 1px dotted black;border-radius: 0.25em;box-sizing: border-box;margin-bottom: 0.5em;}#sk-container-id-5 div.sk-estimator:hover {background-color: #d4ebff;}#sk-container-id-5 div.sk-parallel-item::after {content: \"\";width: 100%;border-bottom: 1px solid gray;flex-grow: 1;}#sk-container-id-5 div.sk-label:hover label.sk-toggleable__label {background-color: #d4ebff;}#sk-container-id-5 div.sk-serial::before {content: \"\";position: absolute;border-left: 1px solid gray;box-sizing: border-box;top: 0;bottom: 0;left: 50%;z-index: 0;}#sk-container-id-5 div.sk-serial {display: flex;flex-direction: column;align-items: center;background-color: white;padding-right: 0.2em;padding-left: 0.2em;position: relative;}#sk-container-id-5 div.sk-item {position: relative;z-index: 1;}#sk-container-id-5 div.sk-parallel {display: flex;align-items: stretch;justify-content: center;background-color: white;position: relative;}#sk-container-id-5 div.sk-item::before, #sk-container-id-5 div.sk-parallel-item::before {content: \"\";position: absolute;border-left: 1px solid gray;box-sizing: border-box;top: 0;bottom: 0;left: 50%;z-index: -1;}#sk-container-id-5 div.sk-parallel-item {display: flex;flex-direction: column;z-index: 1;position: relative;background-color: white;}#sk-container-id-5 div.sk-parallel-item:first-child::after {align-self: flex-end;width: 50%;}#sk-container-id-5 div.sk-parallel-item:last-child::after {align-self: flex-start;width: 50%;}#sk-container-id-5 div.sk-parallel-item:only-child::after {width: 0;}#sk-container-id-5 div.sk-dashed-wrapped {border: 1px dashed gray;margin: 0 0.4em 0.5em 0.4em;box-sizing: border-box;padding-bottom: 0.4em;background-color: white;}#sk-container-id-5 div.sk-label label {font-family: monospace;font-weight: bold;display: inline-block;line-height: 1.2em;}#sk-container-id-5 div.sk-label-container {text-align: center;}#sk-container-id-5 div.sk-container {/* jupyter's `normalize.less` sets `[hidden] { display: none; }` but bootstrap.min.css set `[hidden] { display: none !important; }` so we also need the `!important` here to be able to override the default hidden behavior on the sphinx rendered scikit-learn.org. See: https://github.com/scikit-learn/scikit-learn/issues/21755 */display: inline-block !important;position: relative;}#sk-container-id-5 div.sk-text-repr-fallback {display: none;}</style><div id=\"sk-container-id-5\" class=\"sk-top-container\"><div class=\"sk-text-repr-fallback\"><pre>Ridge(alpha=0.001)</pre><b>In a Jupyter environment, please rerun this cell to show the HTML representation or trust the notebook. <br />On GitHub, the HTML representation is unable to render, please try loading this page with nbviewer.org.</b></div><div class=\"sk-container\" hidden><div class=\"sk-item\"><div class=\"sk-estimator sk-toggleable\"><input class=\"sk-toggleable__control sk-hidden--visually\" id=\"sk-estimator-id-9\" type=\"checkbox\" checked><label for=\"sk-estimator-id-9\" class=\"sk-toggleable__label sk-toggleable__label-arrow\">Ridge</label><div class=\"sk-toggleable__content\"><pre>Ridge(alpha=0.001)</pre></div></div></div></div></div>"
      ],
      "text/plain": [
       "Ridge(alpha=0.001)"
      ]
     },
     "execution_count": 131,
     "metadata": {},
     "output_type": "execute_result"
    }
   ],
   "source": [
    "#Fitting Ridge model for alpha = 0.0001 and printing coefficients which have been penalised\n",
    "alpha = 0.001\n",
    "\n",
    "ridge = Ridge(alpha=alpha)\n",
    "        \n",
    "ridge.fit(X_resampled, y_resampled) "
   ]
  },
  {
   "cell_type": "code",
   "execution_count": 132,
   "id": "d1458459-eb5b-4b64-8c53-496ae8ce9f5f",
   "metadata": {},
   "outputs": [
    {
     "data": {
      "text/html": [
       "<div>\n",
       "<style scoped>\n",
       "    .dataframe tbody tr th:only-of-type {\n",
       "        vertical-align: middle;\n",
       "    }\n",
       "\n",
       "    .dataframe tbody tr th {\n",
       "        vertical-align: top;\n",
       "    }\n",
       "\n",
       "    .dataframe thead th {\n",
       "        text-align: right;\n",
       "    }\n",
       "</style>\n",
       "<table border=\"1\" class=\"dataframe\">\n",
       "  <thead>\n",
       "    <tr style=\"text-align: right;\">\n",
       "      <th></th>\n",
       "      <th>mean_fit_time</th>\n",
       "      <th>std_fit_time</th>\n",
       "      <th>mean_score_time</th>\n",
       "      <th>std_score_time</th>\n",
       "      <th>param_alpha</th>\n",
       "      <th>params</th>\n",
       "      <th>split0_test_score</th>\n",
       "      <th>split1_test_score</th>\n",
       "      <th>split2_test_score</th>\n",
       "      <th>split3_test_score</th>\n",
       "      <th>...</th>\n",
       "      <th>split2_train_score</th>\n",
       "      <th>split3_train_score</th>\n",
       "      <th>split4_train_score</th>\n",
       "      <th>split5_train_score</th>\n",
       "      <th>split6_train_score</th>\n",
       "      <th>split7_train_score</th>\n",
       "      <th>split8_train_score</th>\n",
       "      <th>split9_train_score</th>\n",
       "      <th>mean_train_score</th>\n",
       "      <th>std_train_score</th>\n",
       "    </tr>\n",
       "  </thead>\n",
       "  <tbody>\n",
       "    <tr>\n",
       "      <th>0</th>\n",
       "      <td>0.034866</td>\n",
       "      <td>0.004713</td>\n",
       "      <td>0.003740</td>\n",
       "      <td>0.000997</td>\n",
       "      <td>0.0001</td>\n",
       "      <td>{'alpha': 0.0001}</td>\n",
       "      <td>-0.320615</td>\n",
       "      <td>-0.324197</td>\n",
       "      <td>-0.320120</td>\n",
       "      <td>-0.312101</td>\n",
       "      <td>...</td>\n",
       "      <td>-0.283072</td>\n",
       "      <td>-0.284439</td>\n",
       "      <td>-0.284158</td>\n",
       "      <td>-0.287271</td>\n",
       "      <td>-0.286171</td>\n",
       "      <td>-0.284317</td>\n",
       "      <td>-0.285041</td>\n",
       "      <td>-0.284938</td>\n",
       "      <td>-0.284547</td>\n",
       "      <td>0.001333</td>\n",
       "    </tr>\n",
       "    <tr>\n",
       "      <th>1</th>\n",
       "      <td>0.028857</td>\n",
       "      <td>0.002469</td>\n",
       "      <td>0.002976</td>\n",
       "      <td>0.000518</td>\n",
       "      <td>0.0010</td>\n",
       "      <td>{'alpha': 0.001}</td>\n",
       "      <td>-0.320707</td>\n",
       "      <td>-0.324358</td>\n",
       "      <td>-0.320190</td>\n",
       "      <td>-0.312105</td>\n",
       "      <td>...</td>\n",
       "      <td>-0.283079</td>\n",
       "      <td>-0.284445</td>\n",
       "      <td>-0.284155</td>\n",
       "      <td>-0.287274</td>\n",
       "      <td>-0.286191</td>\n",
       "      <td>-0.284335</td>\n",
       "      <td>-0.285062</td>\n",
       "      <td>-0.284961</td>\n",
       "      <td>-0.284556</td>\n",
       "      <td>0.001337</td>\n",
       "    </tr>\n",
       "    <tr>\n",
       "      <th>2</th>\n",
       "      <td>0.027572</td>\n",
       "      <td>0.002937</td>\n",
       "      <td>0.003102</td>\n",
       "      <td>0.000794</td>\n",
       "      <td>0.0100</td>\n",
       "      <td>{'alpha': 0.01}</td>\n",
       "      <td>-0.321579</td>\n",
       "      <td>-0.325348</td>\n",
       "      <td>-0.320855</td>\n",
       "      <td>-0.312693</td>\n",
       "      <td>...</td>\n",
       "      <td>-0.283091</td>\n",
       "      <td>-0.284510</td>\n",
       "      <td>-0.284155</td>\n",
       "      <td>-0.287408</td>\n",
       "      <td>-0.286500</td>\n",
       "      <td>-0.284634</td>\n",
       "      <td>-0.285362</td>\n",
       "      <td>-0.285271</td>\n",
       "      <td>-0.284701</td>\n",
       "      <td>0.001419</td>\n",
       "    </tr>\n",
       "    <tr>\n",
       "      <th>3</th>\n",
       "      <td>0.029450</td>\n",
       "      <td>0.004370</td>\n",
       "      <td>0.003308</td>\n",
       "      <td>0.001019</td>\n",
       "      <td>0.0500</td>\n",
       "      <td>{'alpha': 0.05}</td>\n",
       "      <td>-0.324805</td>\n",
       "      <td>-0.328501</td>\n",
       "      <td>-0.324151</td>\n",
       "      <td>-0.315440</td>\n",
       "      <td>...</td>\n",
       "      <td>-0.283225</td>\n",
       "      <td>-0.284687</td>\n",
       "      <td>-0.284293</td>\n",
       "      <td>-0.288223</td>\n",
       "      <td>-0.288005</td>\n",
       "      <td>-0.286170</td>\n",
       "      <td>-0.286925</td>\n",
       "      <td>-0.286845</td>\n",
       "      <td>-0.285468</td>\n",
       "      <td>0.001917</td>\n",
       "    </tr>\n",
       "    <tr>\n",
       "      <th>4</th>\n",
       "      <td>0.024432</td>\n",
       "      <td>0.001319</td>\n",
       "      <td>0.002463</td>\n",
       "      <td>0.000169</td>\n",
       "      <td>0.1000</td>\n",
       "      <td>{'alpha': 0.1}</td>\n",
       "      <td>-0.328038</td>\n",
       "      <td>-0.331574</td>\n",
       "      <td>-0.327554</td>\n",
       "      <td>-0.318342</td>\n",
       "      <td>...</td>\n",
       "      <td>-0.283849</td>\n",
       "      <td>-0.285336</td>\n",
       "      <td>-0.284943</td>\n",
       "      <td>-0.289676</td>\n",
       "      <td>-0.290164</td>\n",
       "      <td>-0.288354</td>\n",
       "      <td>-0.289145</td>\n",
       "      <td>-0.289091</td>\n",
       "      <td>-0.286808</td>\n",
       "      <td>0.002572</td>\n",
       "    </tr>\n",
       "  </tbody>\n",
       "</table>\n",
       "<p>5 rows × 31 columns</p>\n",
       "</div>"
      ],
      "text/plain": [
       "   mean_fit_time  std_fit_time  mean_score_time  std_score_time  param_alpha  \\\n",
       "0       0.034866      0.004713         0.003740        0.000997       0.0001   \n",
       "1       0.028857      0.002469         0.002976        0.000518       0.0010   \n",
       "2       0.027572      0.002937         0.003102        0.000794       0.0100   \n",
       "3       0.029450      0.004370         0.003308        0.001019       0.0500   \n",
       "4       0.024432      0.001319         0.002463        0.000169       0.1000   \n",
       "\n",
       "              params  split0_test_score  split1_test_score  split2_test_score  \\\n",
       "0  {'alpha': 0.0001}          -0.320615          -0.324197          -0.320120   \n",
       "1   {'alpha': 0.001}          -0.320707          -0.324358          -0.320190   \n",
       "2    {'alpha': 0.01}          -0.321579          -0.325348          -0.320855   \n",
       "3    {'alpha': 0.05}          -0.324805          -0.328501          -0.324151   \n",
       "4     {'alpha': 0.1}          -0.328038          -0.331574          -0.327554   \n",
       "\n",
       "   split3_test_score  ...  split2_train_score  split3_train_score  \\\n",
       "0          -0.312101  ...           -0.283072           -0.284439   \n",
       "1          -0.312105  ...           -0.283079           -0.284445   \n",
       "2          -0.312693  ...           -0.283091           -0.284510   \n",
       "3          -0.315440  ...           -0.283225           -0.284687   \n",
       "4          -0.318342  ...           -0.283849           -0.285336   \n",
       "\n",
       "   split4_train_score  split5_train_score  split6_train_score  \\\n",
       "0           -0.284158           -0.287271           -0.286171   \n",
       "1           -0.284155           -0.287274           -0.286191   \n",
       "2           -0.284155           -0.287408           -0.286500   \n",
       "3           -0.284293           -0.288223           -0.288005   \n",
       "4           -0.284943           -0.289676           -0.290164   \n",
       "\n",
       "   split7_train_score  split8_train_score  split9_train_score  \\\n",
       "0           -0.284317           -0.285041           -0.284938   \n",
       "1           -0.284335           -0.285062           -0.284961   \n",
       "2           -0.284634           -0.285362           -0.285271   \n",
       "3           -0.286170           -0.286925           -0.286845   \n",
       "4           -0.288354           -0.289145           -0.289091   \n",
       "\n",
       "   mean_train_score  std_train_score  \n",
       "0         -0.284547         0.001333  \n",
       "1         -0.284556         0.001337  \n",
       "2         -0.284701         0.001419  \n",
       "3         -0.285468         0.001917  \n",
       "4         -0.286808         0.002572  \n",
       "\n",
       "[5 rows x 31 columns]"
      ]
     },
     "execution_count": 132,
     "metadata": {},
     "output_type": "execute_result"
    }
   ],
   "source": [
    "cv_result_r = pd.DataFrame(model_cv.cv_results_)\n",
    "cv_result_r['param_alpha'] = cv_result_r['param_alpha'].astype('float32')\n",
    "cv_result_r.head()"
   ]
  },
  {
   "cell_type": "code",
   "execution_count": 133,
   "id": "325a426e-73ce-43ec-a3e9-51bf96cf5546",
   "metadata": {},
   "outputs": [
    {
     "data": {
      "image/png": "[encoded data removed]",
      "text/plain": [
       "<Figure size 1152x576 with 1 Axes>"
      ]
     },
     "metadata": {
      "needs_background": "light"
     },
     "output_type": "display_data"
    }
   ],
   "source": [
    "plt.figure(figsize=(16,8))\n",
    "plt.plot(cv_result_r['param_alpha'],cv_result_r['mean_train_score'])\n",
    "plt.plot(cv_result_r['param_alpha'],cv_result_r['mean_test_score'])\n",
    "plt.xscale('log')\n",
    "plt.ylabel('R2 Score')\n",
    "plt.xlabel('Alpha')\n",
    "plt.show()"
   ]
  },
  {
   "cell_type": "markdown",
   "id": "2d01dce2",
   "metadata": {},
   "source": [
    "## Looking at the curve, as they are not converging we will go ahead and check Lasso model."
   ]
  },
  {
   "cell_type": "code",
   "execution_count": 141,
   "id": "d077aadf",
   "metadata": {},
   "outputs": [
    {
     "name": "stdout",
     "output_type": "stream",
     "text": [
      "Fitting 10 folds for each of 28 candidates, totalling 280 fits\n"
     ]
    },
    {
     "data": {
      "text/html": [
       "<style>#sk-container-id-6 {color: black;background-color: white;}#sk-container-id-6 pre{padding: 0;}#sk-container-id-6 div.sk-toggleable {background-color: white;}#sk-container-id-6 label.sk-toggleable__label {cursor: pointer;display: block;width: 100%;margin-bottom: 0;padding: 0.3em;box-sizing: border-box;text-align: center;}#sk-container-id-6 label.sk-toggleable__label-arrow:before {content: \"▸\";float: left;margin-right: 0.25em;color: #696969;}#sk-container-id-6 label.sk-toggleable__label-arrow:hover:before {color: black;}#sk-container-id-6 div.sk-estimator:hover label.sk-toggleable__label-arrow:before {color: black;}#sk-container-id-6 div.sk-toggleable__content {max-height: 0;max-width: 0;overflow: hidden;text-align: left;background-color: #f0f8ff;}#sk-container-id-6 div.sk-toggleable__content pre {margin: 0.2em;color: black;border-radius: 0.25em;background-color: #f0f8ff;}#sk-container-id-6 input.sk-toggleable__control:checked~div.sk-toggleable__content {max-height: 200px;max-width: 100%;overflow: auto;}#sk-container-id-6 input.sk-toggleable__control:checked~label.sk-toggleable__label-arrow:before {content: \"▾\";}#sk-container-id-6 div.sk-estimator input.sk-toggleable__control:checked~label.sk-toggleable__label {background-color: #d4ebff;}#sk-container-id-6 div.sk-label input.sk-toggleable__control:checked~label.sk-toggleable__label {background-color: #d4ebff;}#sk-container-id-6 input.sk-hidden--visually {border: 0;clip: rect(1px 1px 1px 1px);clip: rect(1px, 1px, 1px, 1px);height: 1px;margin: -1px;overflow: hidden;padding: 0;position: absolute;width: 1px;}#sk-container-id-6 div.sk-estimator {font-family: monospace;background-color: #f0f8ff;border: 1px dotted black;border-radius: 0.25em;box-sizing: border-box;margin-bottom: 0.5em;}#sk-container-id-6 div.sk-estimator:hover {background-color: #d4ebff;}#sk-container-id-6 div.sk-parallel-item::after {content: \"\";width: 100%;border-bottom: 1px solid gray;flex-grow: 1;}#sk-container-id-6 div.sk-label:hover label.sk-toggleable__label {background-color: #d4ebff;}#sk-container-id-6 div.sk-serial::before {content: \"\";position: absolute;border-left: 1px solid gray;box-sizing: border-box;top: 0;bottom: 0;left: 50%;z-index: 0;}#sk-container-id-6 div.sk-serial {display: flex;flex-direction: column;align-items: center;background-color: white;padding-right: 0.2em;padding-left: 0.2em;position: relative;}#sk-container-id-6 div.sk-item {position: relative;z-index: 1;}#sk-container-id-6 div.sk-parallel {display: flex;align-items: stretch;justify-content: center;background-color: white;position: relative;}#sk-container-id-6 div.sk-item::before, #sk-container-id-6 div.sk-parallel-item::before {content: \"\";position: absolute;border-left: 1px solid gray;box-sizing: border-box;top: 0;bottom: 0;left: 50%;z-index: -1;}#sk-container-id-6 div.sk-parallel-item {display: flex;flex-direction: column;z-index: 1;position: relative;background-color: white;}#sk-container-id-6 div.sk-parallel-item:first-child::after {align-self: flex-end;width: 50%;}#sk-container-id-6 div.sk-parallel-item:last-child::after {align-self: flex-start;width: 50%;}#sk-container-id-6 div.sk-parallel-item:only-child::after {width: 0;}#sk-container-id-6 div.sk-dashed-wrapped {border: 1px dashed gray;margin: 0 0.4em 0.5em 0.4em;box-sizing: border-box;padding-bottom: 0.4em;background-color: white;}#sk-container-id-6 div.sk-label label {font-family: monospace;font-weight: bold;display: inline-block;line-height: 1.2em;}#sk-container-id-6 div.sk-label-container {text-align: center;}#sk-container-id-6 div.sk-container {/* jupyter's `normalize.less` sets `[hidden] { display: none; }` but bootstrap.min.css set `[hidden] { display: none !important; }` so we also need the `!important` here to be able to override the default hidden behavior on the sphinx rendered scikit-learn.org. See: https://github.com/scikit-learn/scikit-learn/issues/21755 */display: inline-block !important;position: relative;}#sk-container-id-6 div.sk-text-repr-fallback {display: none;}</style><div id=\"sk-container-id-6\" class=\"sk-top-container\"><div class=\"sk-text-repr-fallback\"><pre>GridSearchCV(cv=10, estimator=Lasso(),\n",
       "             param_grid={&#x27;alpha&#x27;: [0.0001, 0.001, 0.01, 0.05, 0.1, 0.2, 0.3,\n",
       "                                   0.4, 0.5, 0.6, 0.7, 0.8, 0.9, 1.0, 2.0, 3.0,\n",
       "                                   4.0, 5.0, 6.0, 7.0, 8.0, 9.0, 10.0, 20, 50,\n",
       "                                   100, 500, 1000]},\n",
       "             return_train_score=True, scoring=&#x27;neg_mean_absolute_error&#x27;,\n",
       "             verbose=1)</pre><b>In a Jupyter environment, please rerun this cell to show the HTML representation or trust the notebook. <br />On GitHub, the HTML representation is unable to render, please try loading this page with nbviewer.org.</b></div><div class=\"sk-container\" hidden><div class=\"sk-item sk-dashed-wrapped\"><div class=\"sk-label-container\"><div class=\"sk-label sk-toggleable\"><input class=\"sk-toggleable__control sk-hidden--visually\" id=\"sk-estimator-id-10\" type=\"checkbox\" ><label for=\"sk-estimator-id-10\" class=\"sk-toggleable__label sk-toggleable__label-arrow\">GridSearchCV</label><div class=\"sk-toggleable__content\"><pre>GridSearchCV(cv=10, estimator=Lasso(),\n",
       "             param_grid={&#x27;alpha&#x27;: [0.0001, 0.001, 0.01, 0.05, 0.1, 0.2, 0.3,\n",
       "                                   0.4, 0.5, 0.6, 0.7, 0.8, 0.9, 1.0, 2.0, 3.0,\n",
       "                                   4.0, 5.0, 6.0, 7.0, 8.0, 9.0, 10.0, 20, 50,\n",
       "                                   100, 500, 1000]},\n",
       "             return_train_score=True, scoring=&#x27;neg_mean_absolute_error&#x27;,\n",
       "             verbose=1)</pre></div></div></div><div class=\"sk-parallel\"><div class=\"sk-parallel-item\"><div class=\"sk-item\"><div class=\"sk-label-container\"><div class=\"sk-label sk-toggleable\"><input class=\"sk-toggleable__control sk-hidden--visually\" id=\"sk-estimator-id-11\" type=\"checkbox\" ><label for=\"sk-estimator-id-11\" class=\"sk-toggleable__label sk-toggleable__label-arrow\">estimator: Lasso</label><div class=\"sk-toggleable__content\"><pre>Lasso()</pre></div></div></div><div class=\"sk-serial\"><div class=\"sk-item\"><div class=\"sk-estimator sk-toggleable\"><input class=\"sk-toggleable__control sk-hidden--visually\" id=\"sk-estimator-id-12\" type=\"checkbox\" ><label for=\"sk-estimator-id-12\" class=\"sk-toggleable__label sk-toggleable__label-arrow\">Lasso</label><div class=\"sk-toggleable__content\"><pre>Lasso()</pre></div></div></div></div></div></div></div></div></div></div>"
      ],
      "text/plain": [
       "GridSearchCV(cv=10, estimator=Lasso(),\n",
       "             param_grid={'alpha': [0.0001, 0.001, 0.01, 0.05, 0.1, 0.2, 0.3,\n",
       "                                   0.4, 0.5, 0.6, 0.7, 0.8, 0.9, 1.0, 2.0, 3.0,\n",
       "                                   4.0, 5.0, 6.0, 7.0, 8.0, 9.0, 10.0, 20, 50,\n",
       "                                   100, 500, 1000]},\n",
       "             return_train_score=True, scoring='neg_mean_absolute_error',\n",
       "             verbose=1)"
      ]
     },
     "execution_count": 141,
     "metadata": {},
     "output_type": "execute_result"
    }
   ],
   "source": [
    "# list of alphas to tune - if value too high it will lead to underfitting, if it is too low, \n",
    "# it will not handle the overfitting\n",
    "params = {'alpha': [0.0001, 0.001, 0.01, 0.05, 0.1, \n",
    " 0.2, 0.3, 0.4, 0.5, 0.6, 0.7, 0.8, 0.9, 1.0, 2.0, 3.0, \n",
    " 4.0, 5.0, 6.0, 7.0, 8.0, 9.0, 10.0, 20, 50, 100, 500, 1000 ]}\n",
    "\n",
    "lasso = Lasso()\n",
    "\n",
    "# cross validation\n",
    "folds = 10\n",
    "model_cv = GridSearchCV(estimator = lasso, \n",
    "                        param_grid = params, \n",
    "                        scoring= 'neg_mean_absolute_error',  \n",
    "                        cv = folds, \n",
    "                        return_train_score=True,\n",
    "                        verbose = 1)  \n",
    "\n",
    "\n",
    "model_cv.fit(X_resampled, y_resampled)"
   ]
  },
  {
   "cell_type": "code",
   "execution_count": 142,
   "id": "7f233469",
   "metadata": {},
   "outputs": [
    {
     "name": "stdout",
     "output_type": "stream",
     "text": [
      "{'alpha': 0.0001}\n"
     ]
    }
   ],
   "source": [
    "# Printing the best hyperparameter alpha\n",
    "print(model_cv.best_params_)"
   ]
  },
  {
   "cell_type": "code",
   "execution_count": 144,
   "id": "7b4c8ac2",
   "metadata": {},
   "outputs": [
    {
     "data": {
      "text/html": [
       "<style>#sk-container-id-8 {color: black;background-color: white;}#sk-container-id-8 pre{padding: 0;}#sk-container-id-8 div.sk-toggleable {background-color: white;}#sk-container-id-8 label.sk-toggleable__label {cursor: pointer;display: block;width: 100%;margin-bottom: 0;padding: 0.3em;box-sizing: border-box;text-align: center;}#sk-container-id-8 label.sk-toggleable__label-arrow:before {content: \"▸\";float: left;margin-right: 0.25em;color: #696969;}#sk-container-id-8 label.sk-toggleable__label-arrow:hover:before {color: black;}#sk-container-id-8 div.sk-estimator:hover label.sk-toggleable__label-arrow:before {color: black;}#sk-container-id-8 div.sk-toggleable__content {max-height: 0;max-width: 0;overflow: hidden;text-align: left;background-color: #f0f8ff;}#sk-container-id-8 div.sk-toggleable__content pre {margin: 0.2em;color: black;border-radius: 0.25em;background-color: #f0f8ff;}#sk-container-id-8 input.sk-toggleable__control:checked~div.sk-toggleable__content {max-height: 200px;max-width: 100%;overflow: auto;}#sk-container-id-8 input.sk-toggleable__control:checked~label.sk-toggleable__label-arrow:before {content: \"▾\";}#sk-container-id-8 div.sk-estimator input.sk-toggleable__control:checked~label.sk-toggleable__label {background-color: #d4ebff;}#sk-container-id-8 div.sk-label input.sk-toggleable__control:checked~label.sk-toggleable__label {background-color: #d4ebff;}#sk-container-id-8 input.sk-hidden--visually {border: 0;clip: rect(1px 1px 1px 1px);clip: rect(1px, 1px, 1px, 1px);height: 1px;margin: -1px;overflow: hidden;padding: 0;position: absolute;width: 1px;}#sk-container-id-8 div.sk-estimator {font-family: monospace;background-color: #f0f8ff;border: 1px dotted black;border-radius: 0.25em;box-sizing: border-box;margin-bottom: 0.5em;}#sk-container-id-8 div.sk-estimator:hover {background-color: #d4ebff;}#sk-container-id-8 div.sk-parallel-item::after {content: \"\";width: 100%;border-bottom: 1px solid gray;flex-grow: 1;}#sk-container-id-8 div.sk-label:hover label.sk-toggleable__label {background-color: #d4ebff;}#sk-container-id-8 div.sk-serial::before {content: \"\";position: absolute;border-left: 1px solid gray;box-sizing: border-box;top: 0;bottom: 0;left: 50%;z-index: 0;}#sk-container-id-8 div.sk-serial {display: flex;flex-direction: column;align-items: center;background-color: white;padding-right: 0.2em;padding-left: 0.2em;position: relative;}#sk-container-id-8 div.sk-item {position: relative;z-index: 1;}#sk-container-id-8 div.sk-parallel {display: flex;align-items: stretch;justify-content: center;background-color: white;position: relative;}#sk-container-id-8 div.sk-item::before, #sk-container-id-8 div.sk-parallel-item::before {content: \"\";position: absolute;border-left: 1px solid gray;box-sizing: border-box;top: 0;bottom: 0;left: 50%;z-index: -1;}#sk-container-id-8 div.sk-parallel-item {display: flex;flex-direction: column;z-index: 1;position: relative;background-color: white;}#sk-container-id-8 div.sk-parallel-item:first-child::after {align-self: flex-end;width: 50%;}#sk-container-id-8 div.sk-parallel-item:last-child::after {align-self: flex-start;width: 50%;}#sk-container-id-8 div.sk-parallel-item:only-child::after {width: 0;}#sk-container-id-8 div.sk-dashed-wrapped {border: 1px dashed gray;margin: 0 0.4em 0.5em 0.4em;box-sizing: border-box;padding-bottom: 0.4em;background-color: white;}#sk-container-id-8 div.sk-label label {font-family: monospace;font-weight: bold;display: inline-block;line-height: 1.2em;}#sk-container-id-8 div.sk-label-container {text-align: center;}#sk-container-id-8 div.sk-container {/* jupyter's `normalize.less` sets `[hidden] { display: none; }` but bootstrap.min.css set `[hidden] { display: none !important; }` so we also need the `!important` here to be able to override the default hidden behavior on the sphinx rendered scikit-learn.org. See: https://github.com/scikit-learn/scikit-learn/issues/21755 */display: inline-block !important;position: relative;}#sk-container-id-8 div.sk-text-repr-fallback {display: none;}</style><div id=\"sk-container-id-8\" class=\"sk-top-container\"><div class=\"sk-text-repr-fallback\"><pre>Lasso(alpha=0.0001)</pre><b>In a Jupyter environment, please rerun this cell to show the HTML representation or trust the notebook. <br />On GitHub, the HTML representation is unable to render, please try loading this page with nbviewer.org.</b></div><div class=\"sk-container\" hidden><div class=\"sk-item\"><div class=\"sk-estimator sk-toggleable\"><input class=\"sk-toggleable__control sk-hidden--visually\" id=\"sk-estimator-id-14\" type=\"checkbox\" checked><label for=\"sk-estimator-id-14\" class=\"sk-toggleable__label sk-toggleable__label-arrow\">Lasso</label><div class=\"sk-toggleable__content\"><pre>Lasso(alpha=0.0001)</pre></div></div></div></div></div>"
      ],
      "text/plain": [
       "Lasso(alpha=0.0001)"
      ]
     },
     "execution_count": 144,
     "metadata": {},
     "output_type": "execute_result"
    }
   ],
   "source": [
    "#Fitting Ridge model for alpha = 0.0001 and printing coefficients which have been penalised\n",
    "alpha = 0.0001\n",
    "\n",
    "lasso = Lasso(alpha=alpha)\n",
    "        \n",
    "lasso.fit(X_resampled, y_resampled) "
   ]
  },
  {
   "cell_type": "code",
   "execution_count": 145,
   "id": "db57837e",
   "metadata": {},
   "outputs": [
    {
     "data": {
      "text/html": [
       "<div>\n",
       "<style scoped>\n",
       "    .dataframe tbody tr th:only-of-type {\n",
       "        vertical-align: middle;\n",
       "    }\n",
       "\n",
       "    .dataframe tbody tr th {\n",
       "        vertical-align: top;\n",
       "    }\n",
       "\n",
       "    .dataframe thead th {\n",
       "        text-align: right;\n",
       "    }\n",
       "</style>\n",
       "<table border=\"1\" class=\"dataframe\">\n",
       "  <thead>\n",
       "    <tr style=\"text-align: right;\">\n",
       "      <th></th>\n",
       "      <th>mean_fit_time</th>\n",
       "      <th>std_fit_time</th>\n",
       "      <th>mean_score_time</th>\n",
       "      <th>std_score_time</th>\n",
       "      <th>param_alpha</th>\n",
       "      <th>params</th>\n",
       "      <th>split0_test_score</th>\n",
       "      <th>split1_test_score</th>\n",
       "      <th>split2_test_score</th>\n",
       "      <th>split3_test_score</th>\n",
       "      <th>...</th>\n",
       "      <th>split2_train_score</th>\n",
       "      <th>split3_train_score</th>\n",
       "      <th>split4_train_score</th>\n",
       "      <th>split5_train_score</th>\n",
       "      <th>split6_train_score</th>\n",
       "      <th>split7_train_score</th>\n",
       "      <th>split8_train_score</th>\n",
       "      <th>split9_train_score</th>\n",
       "      <th>mean_train_score</th>\n",
       "      <th>std_train_score</th>\n",
       "    </tr>\n",
       "  </thead>\n",
       "  <tbody>\n",
       "    <tr>\n",
       "      <th>0</th>\n",
       "      <td>1.157530</td>\n",
       "      <td>0.126196</td>\n",
       "      <td>0.004162</td>\n",
       "      <td>0.000583</td>\n",
       "      <td>0.0001</td>\n",
       "      <td>{'alpha': 0.0001}</td>\n",
       "      <td>-0.342278</td>\n",
       "      <td>-0.345100</td>\n",
       "      <td>-0.342348</td>\n",
       "      <td>-0.333535</td>\n",
       "      <td>...</td>\n",
       "      <td>-0.293442</td>\n",
       "      <td>-0.294932</td>\n",
       "      <td>-0.294280</td>\n",
       "      <td>-0.300558</td>\n",
       "      <td>-0.301876</td>\n",
       "      <td>-0.300102</td>\n",
       "      <td>-0.300861</td>\n",
       "      <td>-0.300816</td>\n",
       "      <td>-0.297352</td>\n",
       "      <td>0.003552</td>\n",
       "    </tr>\n",
       "    <tr>\n",
       "      <th>1</th>\n",
       "      <td>0.062878</td>\n",
       "      <td>0.004534</td>\n",
       "      <td>0.003454</td>\n",
       "      <td>0.000379</td>\n",
       "      <td>0.0010</td>\n",
       "      <td>{'alpha': 0.001}</td>\n",
       "      <td>-0.378926</td>\n",
       "      <td>-0.382281</td>\n",
       "      <td>-0.376871</td>\n",
       "      <td>-0.370193</td>\n",
       "      <td>...</td>\n",
       "      <td>-0.329870</td>\n",
       "      <td>-0.331770</td>\n",
       "      <td>-0.330459</td>\n",
       "      <td>-0.340892</td>\n",
       "      <td>-0.344079</td>\n",
       "      <td>-0.342818</td>\n",
       "      <td>-0.343892</td>\n",
       "      <td>-0.343896</td>\n",
       "      <td>-0.336680</td>\n",
       "      <td>0.006524</td>\n",
       "    </tr>\n",
       "    <tr>\n",
       "      <th>2</th>\n",
       "      <td>0.040476</td>\n",
       "      <td>0.003438</td>\n",
       "      <td>0.002981</td>\n",
       "      <td>0.000296</td>\n",
       "      <td>0.0100</td>\n",
       "      <td>{'alpha': 0.01}</td>\n",
       "      <td>-0.523678</td>\n",
       "      <td>-0.522865</td>\n",
       "      <td>-0.525868</td>\n",
       "      <td>-0.522193</td>\n",
       "      <td>...</td>\n",
       "      <td>-0.481757</td>\n",
       "      <td>-0.481371</td>\n",
       "      <td>-0.482079</td>\n",
       "      <td>-0.485856</td>\n",
       "      <td>-0.481041</td>\n",
       "      <td>-0.480705</td>\n",
       "      <td>-0.480439</td>\n",
       "      <td>-0.480348</td>\n",
       "      <td>-0.481620</td>\n",
       "      <td>0.001506</td>\n",
       "    </tr>\n",
       "    <tr>\n",
       "      <th>3</th>\n",
       "      <td>0.039441</td>\n",
       "      <td>0.007013</td>\n",
       "      <td>0.011713</td>\n",
       "      <td>0.026458</td>\n",
       "      <td>0.0500</td>\n",
       "      <td>{'alpha': 0.05}</td>\n",
       "      <td>-0.538660</td>\n",
       "      <td>-0.538455</td>\n",
       "      <td>-0.539627</td>\n",
       "      <td>-0.538866</td>\n",
       "      <td>...</td>\n",
       "      <td>-0.495597</td>\n",
       "      <td>-0.495682</td>\n",
       "      <td>-0.495643</td>\n",
       "      <td>-0.499784</td>\n",
       "      <td>-0.493827</td>\n",
       "      <td>-0.493827</td>\n",
       "      <td>-0.493827</td>\n",
       "      <td>-0.493827</td>\n",
       "      <td>-0.495345</td>\n",
       "      <td>0.001716</td>\n",
       "    </tr>\n",
       "    <tr>\n",
       "      <th>4</th>\n",
       "      <td>0.033308</td>\n",
       "      <td>0.002227</td>\n",
       "      <td>0.002899</td>\n",
       "      <td>0.000222</td>\n",
       "      <td>0.1000</td>\n",
       "      <td>{'alpha': 0.1}</td>\n",
       "      <td>-0.538660</td>\n",
       "      <td>-0.538455</td>\n",
       "      <td>-0.539627</td>\n",
       "      <td>-0.538866</td>\n",
       "      <td>...</td>\n",
       "      <td>-0.495597</td>\n",
       "      <td>-0.495682</td>\n",
       "      <td>-0.495643</td>\n",
       "      <td>-0.499784</td>\n",
       "      <td>-0.493827</td>\n",
       "      <td>-0.493827</td>\n",
       "      <td>-0.493827</td>\n",
       "      <td>-0.493827</td>\n",
       "      <td>-0.495345</td>\n",
       "      <td>0.001716</td>\n",
       "    </tr>\n",
       "  </tbody>\n",
       "</table>\n",
       "<p>5 rows × 31 columns</p>\n",
       "</div>"
      ],
      "text/plain": [
       "   mean_fit_time  std_fit_time  mean_score_time  std_score_time  param_alpha  \\\n",
       "0       1.157530      0.126196         0.004162        0.000583       0.0001   \n",
       "1       0.062878      0.004534         0.003454        0.000379       0.0010   \n",
       "2       0.040476      0.003438         0.002981        0.000296       0.0100   \n",
       "3       0.039441      0.007013         0.011713        0.026458       0.0500   \n",
       "4       0.033308      0.002227         0.002899        0.000222       0.1000   \n",
       "\n",
       "              params  split0_test_score  split1_test_score  split2_test_score  \\\n",
       "0  {'alpha': 0.0001}          -0.342278          -0.345100          -0.342348   \n",
       "1   {'alpha': 0.001}          -0.378926          -0.382281          -0.376871   \n",
       "2    {'alpha': 0.01}          -0.523678          -0.522865          -0.525868   \n",
       "3    {'alpha': 0.05}          -0.538660          -0.538455          -0.539627   \n",
       "4     {'alpha': 0.1}          -0.538660          -0.538455          -0.539627   \n",
       "\n",
       "   split3_test_score  ...  split2_train_score  split3_train_score  \\\n",
       "0          -0.333535  ...           -0.293442           -0.294932   \n",
       "1          -0.370193  ...           -0.329870           -0.331770   \n",
       "2          -0.522193  ...           -0.481757           -0.481371   \n",
       "3          -0.538866  ...           -0.495597           -0.495682   \n",
       "4          -0.538866  ...           -0.495597           -0.495682   \n",
       "\n",
       "   split4_train_score  split5_train_score  split6_train_score  \\\n",
       "0           -0.294280           -0.300558           -0.301876   \n",
       "1           -0.330459           -0.340892           -0.344079   \n",
       "2           -0.482079           -0.485856           -0.481041   \n",
       "3           -0.495643           -0.499784           -0.493827   \n",
       "4           -0.495643           -0.499784           -0.493827   \n",
       "\n",
       "   split7_train_score  split8_train_score  split9_train_score  \\\n",
       "0           -0.300102           -0.300861           -0.300816   \n",
       "1           -0.342818           -0.343892           -0.343896   \n",
       "2           -0.480705           -0.480439           -0.480348   \n",
       "3           -0.493827           -0.493827           -0.493827   \n",
       "4           -0.493827           -0.493827           -0.493827   \n",
       "\n",
       "   mean_train_score  std_train_score  \n",
       "0         -0.297352         0.003552  \n",
       "1         -0.336680         0.006524  \n",
       "2         -0.481620         0.001506  \n",
       "3         -0.495345         0.001716  \n",
       "4         -0.495345         0.001716  \n",
       "\n",
       "[5 rows x 31 columns]"
      ]
     },
     "execution_count": 145,
     "metadata": {},
     "output_type": "execute_result"
    }
   ],
   "source": [
    "cv_result_r = pd.DataFrame(model_cv.cv_results_)\n",
    "cv_result_r['param_alpha'] = cv_result_r['param_alpha'].astype('float32')\n",
    "cv_result_r.head()"
   ]
  },
  {
   "cell_type": "code",
   "execution_count": 146,
   "id": "16de8663",
   "metadata": {},
   "outputs": [
    {
     "data": {
      "image/png": "[encoded data removed]",
      "text/plain": [
       "<Figure size 1152x576 with 1 Axes>"
      ]
     },
     "metadata": {
      "needs_background": "light"
     },
     "output_type": "display_data"
    }
   ],
   "source": [
    "plt.figure(figsize=(16,8))\n",
    "plt.plot(cv_result_r['param_alpha'],cv_result_r['mean_train_score'])\n",
    "plt.plot(cv_result_r['param_alpha'],cv_result_r['mean_test_score'])\n",
    "plt.xscale('log')\n",
    "plt.ylabel('R2 Score')\n",
    "plt.xlabel('Alpha')\n",
    "plt.show()"
   ]
  },
  {
   "cell_type": "markdown",
   "id": "beee79af",
   "metadata": {},
   "source": [
    "## Looking at the curve, as they are not converging it seems even Lasso model is not working well here."
   ]
  },
  {
   "cell_type": "code",
   "execution_count": null,
   "id": "b1fe604a",
   "metadata": {},
   "outputs": [],
   "source": []
  }
 ],
 "metadata": {
  "kernelspec": {
   "display_name": "Python 3 (ipykernel)",
   "language": "python",
   "name": "python3"
  },
  "language_info": {
   "codemirror_mode": {
    "name": "ipython",
    "version": 3
   },
   "file_extension": ".py",
   "mimetype": "text/x-python",
   "name": "python",
   "nbconvert_exporter": "python",
   "pygments_lexer": "ipython3",
   "version": "3.9.7"
  }
 },
 "nbformat": 4,
 "nbformat_minor": 5
}
