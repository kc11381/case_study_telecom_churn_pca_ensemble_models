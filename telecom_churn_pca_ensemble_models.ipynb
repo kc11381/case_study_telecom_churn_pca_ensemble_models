{
 "cells": [
  {
   "cell_type": "markdown",
   "id": "85815f8b",
   "metadata": {},
   "source": [
    "# Telecom Churn case study using PCA and Ensemble\n",
    "\n",
    "### Problem Statement\n",
    "In the telecom industry, customers are able to choose from multiple service providers and actively switch from one operator to another. In this highly competitive market, the telecommunications industry experiences an average of 15-25% annual churn rate. Given the fact that it costs 5-10 times more to acquire a new customer than to retain an existing one, customer retention has now become even more important than customer acquisition.\n",
    "\n",
    "For many incumbent operators, retaining high profitable customers is the number one business\n",
    "goal. To reduce customer churn, telecom companies need to predict which customers are at high risk of churn. In this project, you will analyze customer-level data of a leading telecom firm, build predictive models to identify customers at high risk of churn.\n",
    "\n",
    "In this competition, your goal is to build a machine learning model that is able to predict churning customers based on the features provided for their usage.\n",
    "\n",
    "### Goal\n",
    "It is your job to predict if a customer will churn, given the ~170 columns containing customer behavior, usage patterns, payment patterns, and other features that might be relevant. Your target variable is \"churn_probability\"\n",
    "Note: Make sure your accuracy is greater than the sample submission that is present in the leaderboard"
   ]
  },
  {
   "cell_type": "code",
   "execution_count": 1,
   "id": "a5dfb968",
   "metadata": {},
   "outputs": [],
   "source": [
    "import matplotlib.pyplot as plt\n",
    "import numpy as np\n",
    "import pandas as pd\n",
    "import seaborn as sns\n",
    "import statsmodels.api as sm\n",
    "import warnings\n",
    "\n",
    "from sklearn import metrics\n",
    "from sklearn.decomposition import IncrementalPCA\n",
    "from sklearn.decomposition import PCA\n",
    "from sklearn.ensemble import RandomForestClassifier\n",
    "from sklearn.feature_selection import RFE\n",
    "from sklearn.linear_model import LinearRegression\n",
    "from sklearn.linear_model import LogisticRegression\n",
    "from sklearn.linear_model import Lasso\n",
    "from sklearn.linear_model import Ridge\n",
    "from sklearn.model_selection import GridSearchCV\n",
    "from sklearn.model_selection import RandomizedSearchCV\n",
    "from sklearn.model_selection import train_test_split\n",
    "from sklearn.metrics import accuracy_score\n",
    "from sklearn.metrics import classification_report\n",
    "from sklearn.metrics import confusion_matrix\n",
    "from sklearn.metrics import mean_squared_error\n",
    "from sklearn.metrics import r2_score\n",
    "from sklearn.preprocessing import MinMaxScaler\n",
    "\n",
    "# to ignore the warnings\n",
    "warnings.filterwarnings('ignore')"
   ]
  },
  {
   "cell_type": "markdown",
   "id": "0db327e7",
   "metadata": {},
   "source": [
    "## Step 1. Reading, Understanding and Visualizing the data"
   ]
  },
  {
   "cell_type": "code",
   "execution_count": 2,
   "id": "75b4d852",
   "metadata": {},
   "outputs": [],
   "source": [
    "telecom_train_df = pd.read_csv('train (1).csv')\n",
    "telecom_test_df = pd.read_csv('test (1).csv')\n",
    "telecom_test_sol_df = pd.read_csv('solution (1).csv')"
   ]
  },
  {
   "cell_type": "code",
   "execution_count": 3,
   "id": "aafd7bff",
   "metadata": {},
   "outputs": [
    {
     "data": {
      "text/html": [
       "<div>\n",
       "<style scoped>\n",
       "    .dataframe tbody tr th:only-of-type {\n",
       "        vertical-align: middle;\n",
       "    }\n",
       "\n",
       "    .dataframe tbody tr th {\n",
       "        vertical-align: top;\n",
       "    }\n",
       "\n",
       "    .dataframe thead th {\n",
       "        text-align: right;\n",
       "    }\n",
       "</style>\n",
       "<table border=\"1\" class=\"dataframe\">\n",
       "  <thead>\n",
       "    <tr style=\"text-align: right;\">\n",
       "      <th></th>\n",
       "      <th>id</th>\n",
       "      <th>circle_id</th>\n",
       "      <th>loc_og_t2o_mou</th>\n",
       "      <th>std_og_t2o_mou</th>\n",
       "      <th>loc_ic_t2o_mou</th>\n",
       "      <th>last_date_of_month_6</th>\n",
       "      <th>last_date_of_month_7</th>\n",
       "      <th>last_date_of_month_8</th>\n",
       "      <th>arpu_6</th>\n",
       "      <th>arpu_7</th>\n",
       "      <th>...</th>\n",
       "      <th>sachet_3g_7</th>\n",
       "      <th>sachet_3g_8</th>\n",
       "      <th>fb_user_6</th>\n",
       "      <th>fb_user_7</th>\n",
       "      <th>fb_user_8</th>\n",
       "      <th>aon</th>\n",
       "      <th>aug_vbc_3g</th>\n",
       "      <th>jul_vbc_3g</th>\n",
       "      <th>jun_vbc_3g</th>\n",
       "      <th>churn_probability</th>\n",
       "    </tr>\n",
       "  </thead>\n",
       "  <tbody>\n",
       "    <tr>\n",
       "      <th>0</th>\n",
       "      <td>0</td>\n",
       "      <td>109</td>\n",
       "      <td>0.0</td>\n",
       "      <td>0.0</td>\n",
       "      <td>0.0</td>\n",
       "      <td>6/30/2014</td>\n",
       "      <td>7/31/2014</td>\n",
       "      <td>8/31/2014</td>\n",
       "      <td>31.277</td>\n",
       "      <td>87.009</td>\n",
       "      <td>...</td>\n",
       "      <td>0</td>\n",
       "      <td>0</td>\n",
       "      <td>NaN</td>\n",
       "      <td>NaN</td>\n",
       "      <td>NaN</td>\n",
       "      <td>1958</td>\n",
       "      <td>0.0</td>\n",
       "      <td>0.0</td>\n",
       "      <td>0.0</td>\n",
       "      <td>0</td>\n",
       "    </tr>\n",
       "    <tr>\n",
       "      <th>1</th>\n",
       "      <td>1</td>\n",
       "      <td>109</td>\n",
       "      <td>0.0</td>\n",
       "      <td>0.0</td>\n",
       "      <td>0.0</td>\n",
       "      <td>6/30/2014</td>\n",
       "      <td>7/31/2014</td>\n",
       "      <td>8/31/2014</td>\n",
       "      <td>0.000</td>\n",
       "      <td>122.787</td>\n",
       "      <td>...</td>\n",
       "      <td>0</td>\n",
       "      <td>0</td>\n",
       "      <td>NaN</td>\n",
       "      <td>1.0</td>\n",
       "      <td>NaN</td>\n",
       "      <td>710</td>\n",
       "      <td>0.0</td>\n",
       "      <td>0.0</td>\n",
       "      <td>0.0</td>\n",
       "      <td>0</td>\n",
       "    </tr>\n",
       "    <tr>\n",
       "      <th>2</th>\n",
       "      <td>2</td>\n",
       "      <td>109</td>\n",
       "      <td>0.0</td>\n",
       "      <td>0.0</td>\n",
       "      <td>0.0</td>\n",
       "      <td>6/30/2014</td>\n",
       "      <td>7/31/2014</td>\n",
       "      <td>8/31/2014</td>\n",
       "      <td>60.806</td>\n",
       "      <td>103.176</td>\n",
       "      <td>...</td>\n",
       "      <td>0</td>\n",
       "      <td>0</td>\n",
       "      <td>NaN</td>\n",
       "      <td>NaN</td>\n",
       "      <td>NaN</td>\n",
       "      <td>882</td>\n",
       "      <td>0.0</td>\n",
       "      <td>0.0</td>\n",
       "      <td>0.0</td>\n",
       "      <td>0</td>\n",
       "    </tr>\n",
       "    <tr>\n",
       "      <th>3</th>\n",
       "      <td>3</td>\n",
       "      <td>109</td>\n",
       "      <td>0.0</td>\n",
       "      <td>0.0</td>\n",
       "      <td>0.0</td>\n",
       "      <td>6/30/2014</td>\n",
       "      <td>7/31/2014</td>\n",
       "      <td>8/31/2014</td>\n",
       "      <td>156.362</td>\n",
       "      <td>205.260</td>\n",
       "      <td>...</td>\n",
       "      <td>0</td>\n",
       "      <td>0</td>\n",
       "      <td>NaN</td>\n",
       "      <td>NaN</td>\n",
       "      <td>NaN</td>\n",
       "      <td>982</td>\n",
       "      <td>0.0</td>\n",
       "      <td>0.0</td>\n",
       "      <td>0.0</td>\n",
       "      <td>0</td>\n",
       "    </tr>\n",
       "    <tr>\n",
       "      <th>4</th>\n",
       "      <td>4</td>\n",
       "      <td>109</td>\n",
       "      <td>0.0</td>\n",
       "      <td>0.0</td>\n",
       "      <td>0.0</td>\n",
       "      <td>6/30/2014</td>\n",
       "      <td>7/31/2014</td>\n",
       "      <td>8/31/2014</td>\n",
       "      <td>240.708</td>\n",
       "      <td>128.191</td>\n",
       "      <td>...</td>\n",
       "      <td>1</td>\n",
       "      <td>0</td>\n",
       "      <td>1.0</td>\n",
       "      <td>1.0</td>\n",
       "      <td>1.0</td>\n",
       "      <td>647</td>\n",
       "      <td>0.0</td>\n",
       "      <td>0.0</td>\n",
       "      <td>0.0</td>\n",
       "      <td>0</td>\n",
       "    </tr>\n",
       "  </tbody>\n",
       "</table>\n",
       "<p>5 rows × 172 columns</p>\n",
       "</div>"
      ],
      "text/plain": [
       "   id  circle_id  loc_og_t2o_mou  std_og_t2o_mou  loc_ic_t2o_mou  \\\n",
       "0   0        109             0.0             0.0             0.0   \n",
       "1   1        109             0.0             0.0             0.0   \n",
       "2   2        109             0.0             0.0             0.0   \n",
       "3   3        109             0.0             0.0             0.0   \n",
       "4   4        109             0.0             0.0             0.0   \n",
       "\n",
       "  last_date_of_month_6 last_date_of_month_7 last_date_of_month_8   arpu_6  \\\n",
       "0            6/30/2014            7/31/2014            8/31/2014   31.277   \n",
       "1            6/30/2014            7/31/2014            8/31/2014    0.000   \n",
       "2            6/30/2014            7/31/2014            8/31/2014   60.806   \n",
       "3            6/30/2014            7/31/2014            8/31/2014  156.362   \n",
       "4            6/30/2014            7/31/2014            8/31/2014  240.708   \n",
       "\n",
       "    arpu_7  ...  sachet_3g_7  sachet_3g_8  fb_user_6  fb_user_7  fb_user_8  \\\n",
       "0   87.009  ...            0            0        NaN        NaN        NaN   \n",
       "1  122.787  ...            0            0        NaN        1.0        NaN   \n",
       "2  103.176  ...            0            0        NaN        NaN        NaN   \n",
       "3  205.260  ...            0            0        NaN        NaN        NaN   \n",
       "4  128.191  ...            1            0        1.0        1.0        1.0   \n",
       "\n",
       "    aon  aug_vbc_3g  jul_vbc_3g  jun_vbc_3g  churn_probability  \n",
       "0  1958         0.0         0.0         0.0                  0  \n",
       "1   710         0.0         0.0         0.0                  0  \n",
       "2   882         0.0         0.0         0.0                  0  \n",
       "3   982         0.0         0.0         0.0                  0  \n",
       "4   647         0.0         0.0         0.0                  0  \n",
       "\n",
       "[5 rows x 172 columns]"
      ]
     },
     "execution_count": 3,
     "metadata": {},
     "output_type": "execute_result"
    }
   ],
   "source": [
    "telecom_train_df.head()"
   ]
  },
  {
   "cell_type": "code",
   "execution_count": 4,
   "id": "08ff9072",
   "metadata": {},
   "outputs": [
    {
     "data": {
      "text/html": [
       "<div>\n",
       "<style scoped>\n",
       "    .dataframe tbody tr th:only-of-type {\n",
       "        vertical-align: middle;\n",
       "    }\n",
       "\n",
       "    .dataframe tbody tr th {\n",
       "        vertical-align: top;\n",
       "    }\n",
       "\n",
       "    .dataframe thead th {\n",
       "        text-align: right;\n",
       "    }\n",
       "</style>\n",
       "<table border=\"1\" class=\"dataframe\">\n",
       "  <thead>\n",
       "    <tr style=\"text-align: right;\">\n",
       "      <th></th>\n",
       "      <th>id</th>\n",
       "      <th>circle_id</th>\n",
       "      <th>loc_og_t2o_mou</th>\n",
       "      <th>std_og_t2o_mou</th>\n",
       "      <th>loc_ic_t2o_mou</th>\n",
       "      <th>last_date_of_month_6</th>\n",
       "      <th>last_date_of_month_7</th>\n",
       "      <th>last_date_of_month_8</th>\n",
       "      <th>arpu_6</th>\n",
       "      <th>arpu_7</th>\n",
       "      <th>...</th>\n",
       "      <th>sachet_3g_6</th>\n",
       "      <th>sachet_3g_7</th>\n",
       "      <th>sachet_3g_8</th>\n",
       "      <th>fb_user_6</th>\n",
       "      <th>fb_user_7</th>\n",
       "      <th>fb_user_8</th>\n",
       "      <th>aon</th>\n",
       "      <th>aug_vbc_3g</th>\n",
       "      <th>jul_vbc_3g</th>\n",
       "      <th>jun_vbc_3g</th>\n",
       "    </tr>\n",
       "  </thead>\n",
       "  <tbody>\n",
       "    <tr>\n",
       "      <th>0</th>\n",
       "      <td>69999</td>\n",
       "      <td>109</td>\n",
       "      <td>0.0</td>\n",
       "      <td>0.0</td>\n",
       "      <td>0.0</td>\n",
       "      <td>6/30/2014</td>\n",
       "      <td>7/31/2014</td>\n",
       "      <td>8/31/2014</td>\n",
       "      <td>91.882</td>\n",
       "      <td>65.330</td>\n",
       "      <td>...</td>\n",
       "      <td>0</td>\n",
       "      <td>0</td>\n",
       "      <td>0</td>\n",
       "      <td>NaN</td>\n",
       "      <td>NaN</td>\n",
       "      <td>NaN</td>\n",
       "      <td>1692</td>\n",
       "      <td>0.00</td>\n",
       "      <td>0.00</td>\n",
       "      <td>0.00</td>\n",
       "    </tr>\n",
       "    <tr>\n",
       "      <th>1</th>\n",
       "      <td>70000</td>\n",
       "      <td>109</td>\n",
       "      <td>0.0</td>\n",
       "      <td>0.0</td>\n",
       "      <td>0.0</td>\n",
       "      <td>6/30/2014</td>\n",
       "      <td>7/31/2014</td>\n",
       "      <td>8/31/2014</td>\n",
       "      <td>414.168</td>\n",
       "      <td>515.568</td>\n",
       "      <td>...</td>\n",
       "      <td>0</td>\n",
       "      <td>0</td>\n",
       "      <td>0</td>\n",
       "      <td>NaN</td>\n",
       "      <td>NaN</td>\n",
       "      <td>NaN</td>\n",
       "      <td>2533</td>\n",
       "      <td>0.00</td>\n",
       "      <td>0.00</td>\n",
       "      <td>0.00</td>\n",
       "    </tr>\n",
       "    <tr>\n",
       "      <th>2</th>\n",
       "      <td>70001</td>\n",
       "      <td>109</td>\n",
       "      <td>0.0</td>\n",
       "      <td>0.0</td>\n",
       "      <td>0.0</td>\n",
       "      <td>6/30/2014</td>\n",
       "      <td>7/31/2014</td>\n",
       "      <td>8/31/2014</td>\n",
       "      <td>329.844</td>\n",
       "      <td>434.884</td>\n",
       "      <td>...</td>\n",
       "      <td>0</td>\n",
       "      <td>0</td>\n",
       "      <td>0</td>\n",
       "      <td>NaN</td>\n",
       "      <td>NaN</td>\n",
       "      <td>NaN</td>\n",
       "      <td>277</td>\n",
       "      <td>525.61</td>\n",
       "      <td>758.41</td>\n",
       "      <td>241.84</td>\n",
       "    </tr>\n",
       "    <tr>\n",
       "      <th>3</th>\n",
       "      <td>70002</td>\n",
       "      <td>109</td>\n",
       "      <td>0.0</td>\n",
       "      <td>0.0</td>\n",
       "      <td>0.0</td>\n",
       "      <td>6/30/2014</td>\n",
       "      <td>7/31/2014</td>\n",
       "      <td>8/31/2014</td>\n",
       "      <td>43.550</td>\n",
       "      <td>171.390</td>\n",
       "      <td>...</td>\n",
       "      <td>0</td>\n",
       "      <td>0</td>\n",
       "      <td>0</td>\n",
       "      <td>NaN</td>\n",
       "      <td>NaN</td>\n",
       "      <td>NaN</td>\n",
       "      <td>1244</td>\n",
       "      <td>0.00</td>\n",
       "      <td>0.00</td>\n",
       "      <td>0.00</td>\n",
       "    </tr>\n",
       "    <tr>\n",
       "      <th>4</th>\n",
       "      <td>70003</td>\n",
       "      <td>109</td>\n",
       "      <td>0.0</td>\n",
       "      <td>0.0</td>\n",
       "      <td>0.0</td>\n",
       "      <td>6/30/2014</td>\n",
       "      <td>7/31/2014</td>\n",
       "      <td>8/31/2014</td>\n",
       "      <td>306.854</td>\n",
       "      <td>406.289</td>\n",
       "      <td>...</td>\n",
       "      <td>0</td>\n",
       "      <td>0</td>\n",
       "      <td>0</td>\n",
       "      <td>NaN</td>\n",
       "      <td>NaN</td>\n",
       "      <td>NaN</td>\n",
       "      <td>462</td>\n",
       "      <td>0.00</td>\n",
       "      <td>0.00</td>\n",
       "      <td>0.00</td>\n",
       "    </tr>\n",
       "  </tbody>\n",
       "</table>\n",
       "<p>5 rows × 171 columns</p>\n",
       "</div>"
      ],
      "text/plain": [
       "      id  circle_id  loc_og_t2o_mou  std_og_t2o_mou  loc_ic_t2o_mou  \\\n",
       "0  69999        109             0.0             0.0             0.0   \n",
       "1  70000        109             0.0             0.0             0.0   \n",
       "2  70001        109             0.0             0.0             0.0   \n",
       "3  70002        109             0.0             0.0             0.0   \n",
       "4  70003        109             0.0             0.0             0.0   \n",
       "\n",
       "  last_date_of_month_6 last_date_of_month_7 last_date_of_month_8   arpu_6  \\\n",
       "0            6/30/2014            7/31/2014            8/31/2014   91.882   \n",
       "1            6/30/2014            7/31/2014            8/31/2014  414.168   \n",
       "2            6/30/2014            7/31/2014            8/31/2014  329.844   \n",
       "3            6/30/2014            7/31/2014            8/31/2014   43.550   \n",
       "4            6/30/2014            7/31/2014            8/31/2014  306.854   \n",
       "\n",
       "    arpu_7  ...  sachet_3g_6  sachet_3g_7  sachet_3g_8  fb_user_6  fb_user_7  \\\n",
       "0   65.330  ...            0            0            0        NaN        NaN   \n",
       "1  515.568  ...            0            0            0        NaN        NaN   \n",
       "2  434.884  ...            0            0            0        NaN        NaN   \n",
       "3  171.390  ...            0            0            0        NaN        NaN   \n",
       "4  406.289  ...            0            0            0        NaN        NaN   \n",
       "\n",
       "   fb_user_8   aon  aug_vbc_3g  jul_vbc_3g  jun_vbc_3g  \n",
       "0        NaN  1692        0.00        0.00        0.00  \n",
       "1        NaN  2533        0.00        0.00        0.00  \n",
       "2        NaN   277      525.61      758.41      241.84  \n",
       "3        NaN  1244        0.00        0.00        0.00  \n",
       "4        NaN   462        0.00        0.00        0.00  \n",
       "\n",
       "[5 rows x 171 columns]"
      ]
     },
     "execution_count": 4,
     "metadata": {},
     "output_type": "execute_result"
    }
   ],
   "source": [
    "telecom_test_df.head()"
   ]
  },
  {
   "cell_type": "code",
   "execution_count": 5,
   "id": "c21a3f03",
   "metadata": {},
   "outputs": [
    {
     "data": {
      "text/html": [
       "<div>\n",
       "<style scoped>\n",
       "    .dataframe tbody tr th:only-of-type {\n",
       "        vertical-align: middle;\n",
       "    }\n",
       "\n",
       "    .dataframe tbody tr th {\n",
       "        vertical-align: top;\n",
       "    }\n",
       "\n",
       "    .dataframe thead th {\n",
       "        text-align: right;\n",
       "    }\n",
       "</style>\n",
       "<table border=\"1\" class=\"dataframe\">\n",
       "  <thead>\n",
       "    <tr style=\"text-align: right;\">\n",
       "      <th></th>\n",
       "      <th>id</th>\n",
       "      <th>churn_probability</th>\n",
       "    </tr>\n",
       "  </thead>\n",
       "  <tbody>\n",
       "    <tr>\n",
       "      <th>0</th>\n",
       "      <td>69999</td>\n",
       "      <td>0</td>\n",
       "    </tr>\n",
       "    <tr>\n",
       "      <th>1</th>\n",
       "      <td>70000</td>\n",
       "      <td>0</td>\n",
       "    </tr>\n",
       "    <tr>\n",
       "      <th>2</th>\n",
       "      <td>70001</td>\n",
       "      <td>1</td>\n",
       "    </tr>\n",
       "    <tr>\n",
       "      <th>3</th>\n",
       "      <td>70002</td>\n",
       "      <td>0</td>\n",
       "    </tr>\n",
       "    <tr>\n",
       "      <th>4</th>\n",
       "      <td>70003</td>\n",
       "      <td>0</td>\n",
       "    </tr>\n",
       "  </tbody>\n",
       "</table>\n",
       "</div>"
      ],
      "text/plain": [
       "      id  churn_probability\n",
       "0  69999                  0\n",
       "1  70000                  0\n",
       "2  70001                  1\n",
       "3  70002                  0\n",
       "4  70003                  0"
      ]
     },
     "execution_count": 5,
     "metadata": {},
     "output_type": "execute_result"
    }
   ],
   "source": [
    "telecom_test_sol_df.head()"
   ]
  },
  {
   "cell_type": "code",
   "execution_count": 6,
   "id": "9b3eee97",
   "metadata": {},
   "outputs": [
    {
     "data": {
      "text/plain": [
       "(69999, 172)"
      ]
     },
     "execution_count": 6,
     "metadata": {},
     "output_type": "execute_result"
    }
   ],
   "source": [
    "telecom_train_df.shape"
   ]
  },
  {
   "cell_type": "code",
   "execution_count": 7,
   "id": "ade9e8ac",
   "metadata": {},
   "outputs": [
    {
     "data": {
      "text/plain": [
       "(30000, 171)"
      ]
     },
     "execution_count": 7,
     "metadata": {},
     "output_type": "execute_result"
    }
   ],
   "source": [
    "telecom_test_df.shape"
   ]
  },
  {
   "cell_type": "code",
   "execution_count": 8,
   "id": "6d5176fa",
   "metadata": {},
   "outputs": [
    {
     "data": {
      "text/plain": [
       "Index(['id', 'circle_id', 'loc_og_t2o_mou', 'std_og_t2o_mou', 'loc_ic_t2o_mou',\n",
       "       'last_date_of_month_6', 'last_date_of_month_7', 'last_date_of_month_8',\n",
       "       'arpu_6', 'arpu_7',\n",
       "       ...\n",
       "       'sachet_3g_7', 'sachet_3g_8', 'fb_user_6', 'fb_user_7', 'fb_user_8',\n",
       "       'aon', 'aug_vbc_3g', 'jul_vbc_3g', 'jun_vbc_3g', 'churn_probability'],\n",
       "      dtype='object', length=172)"
      ]
     },
     "execution_count": 8,
     "metadata": {},
     "output_type": "execute_result"
    }
   ],
   "source": [
    "telecom_train_df.columns"
   ]
  },
  {
   "cell_type": "code",
   "execution_count": 9,
   "id": "8cd748c3",
   "metadata": {},
   "outputs": [
    {
     "name": "stdout",
     "output_type": "stream",
     "text": [
      "<class 'pandas.core.frame.DataFrame'>\n",
      "RangeIndex: 69999 entries, 0 to 69998\n",
      "Columns: 172 entries, id to churn_probability\n",
      "dtypes: float64(135), int64(28), object(9)\n",
      "memory usage: 91.9+ MB\n"
     ]
    }
   ],
   "source": [
    "telecom_train_df.info()"
   ]
  },
  {
   "cell_type": "code",
   "execution_count": 10,
   "id": "6803651e",
   "metadata": {},
   "outputs": [
    {
     "data": {
      "text/html": [
       "<div>\n",
       "<style scoped>\n",
       "    .dataframe tbody tr th:only-of-type {\n",
       "        vertical-align: middle;\n",
       "    }\n",
       "\n",
       "    .dataframe tbody tr th {\n",
       "        vertical-align: top;\n",
       "    }\n",
       "\n",
       "    .dataframe thead th {\n",
       "        text-align: right;\n",
       "    }\n",
       "</style>\n",
       "<table border=\"1\" class=\"dataframe\">\n",
       "  <thead>\n",
       "    <tr style=\"text-align: right;\">\n",
       "      <th></th>\n",
       "      <th>id</th>\n",
       "      <th>circle_id</th>\n",
       "      <th>loc_og_t2o_mou</th>\n",
       "      <th>std_og_t2o_mou</th>\n",
       "      <th>loc_ic_t2o_mou</th>\n",
       "      <th>arpu_6</th>\n",
       "      <th>arpu_7</th>\n",
       "      <th>arpu_8</th>\n",
       "      <th>onnet_mou_6</th>\n",
       "      <th>onnet_mou_7</th>\n",
       "      <th>...</th>\n",
       "      <th>sachet_3g_7</th>\n",
       "      <th>sachet_3g_8</th>\n",
       "      <th>fb_user_6</th>\n",
       "      <th>fb_user_7</th>\n",
       "      <th>fb_user_8</th>\n",
       "      <th>aon</th>\n",
       "      <th>aug_vbc_3g</th>\n",
       "      <th>jul_vbc_3g</th>\n",
       "      <th>jun_vbc_3g</th>\n",
       "      <th>churn_probability</th>\n",
       "    </tr>\n",
       "  </thead>\n",
       "  <tbody>\n",
       "    <tr>\n",
       "      <th>count</th>\n",
       "      <td>69999.000000</td>\n",
       "      <td>69999.0</td>\n",
       "      <td>69297.0</td>\n",
       "      <td>69297.0</td>\n",
       "      <td>69297.0</td>\n",
       "      <td>69999.000000</td>\n",
       "      <td>69999.000000</td>\n",
       "      <td>69999.000000</td>\n",
       "      <td>67231.000000</td>\n",
       "      <td>67312.000000</td>\n",
       "      <td>...</td>\n",
       "      <td>69999.000000</td>\n",
       "      <td>69999.000000</td>\n",
       "      <td>17568.000000</td>\n",
       "      <td>17865.000000</td>\n",
       "      <td>18417.000000</td>\n",
       "      <td>69999.000000</td>\n",
       "      <td>69999.000000</td>\n",
       "      <td>69999.000000</td>\n",
       "      <td>69999.00000</td>\n",
       "      <td>69999.000000</td>\n",
       "    </tr>\n",
       "    <tr>\n",
       "      <th>mean</th>\n",
       "      <td>34999.000000</td>\n",
       "      <td>109.0</td>\n",
       "      <td>0.0</td>\n",
       "      <td>0.0</td>\n",
       "      <td>0.0</td>\n",
       "      <td>283.134365</td>\n",
       "      <td>278.185912</td>\n",
       "      <td>278.858826</td>\n",
       "      <td>133.153275</td>\n",
       "      <td>133.894438</td>\n",
       "      <td>...</td>\n",
       "      <td>0.081444</td>\n",
       "      <td>0.085487</td>\n",
       "      <td>0.916325</td>\n",
       "      <td>0.909544</td>\n",
       "      <td>0.890319</td>\n",
       "      <td>1220.639709</td>\n",
       "      <td>68.108597</td>\n",
       "      <td>65.935830</td>\n",
       "      <td>60.07674</td>\n",
       "      <td>0.101887</td>\n",
       "    </tr>\n",
       "    <tr>\n",
       "      <th>std</th>\n",
       "      <td>20207.115084</td>\n",
       "      <td>0.0</td>\n",
       "      <td>0.0</td>\n",
       "      <td>0.0</td>\n",
       "      <td>0.0</td>\n",
       "      <td>334.213918</td>\n",
       "      <td>344.366927</td>\n",
       "      <td>351.924315</td>\n",
       "      <td>299.963093</td>\n",
       "      <td>311.277193</td>\n",
       "      <td>...</td>\n",
       "      <td>0.634547</td>\n",
       "      <td>0.680035</td>\n",
       "      <td>0.276907</td>\n",
       "      <td>0.286842</td>\n",
       "      <td>0.312501</td>\n",
       "      <td>952.426321</td>\n",
       "      <td>269.328659</td>\n",
       "      <td>267.899034</td>\n",
       "      <td>257.22681</td>\n",
       "      <td>0.302502</td>\n",
       "    </tr>\n",
       "    <tr>\n",
       "      <th>min</th>\n",
       "      <td>0.000000</td>\n",
       "      <td>109.0</td>\n",
       "      <td>0.0</td>\n",
       "      <td>0.0</td>\n",
       "      <td>0.0</td>\n",
       "      <td>-2258.709000</td>\n",
       "      <td>-1289.715000</td>\n",
       "      <td>-945.808000</td>\n",
       "      <td>0.000000</td>\n",
       "      <td>0.000000</td>\n",
       "      <td>...</td>\n",
       "      <td>0.000000</td>\n",
       "      <td>0.000000</td>\n",
       "      <td>0.000000</td>\n",
       "      <td>0.000000</td>\n",
       "      <td>0.000000</td>\n",
       "      <td>180.000000</td>\n",
       "      <td>0.000000</td>\n",
       "      <td>0.000000</td>\n",
       "      <td>0.00000</td>\n",
       "      <td>0.000000</td>\n",
       "    </tr>\n",
       "    <tr>\n",
       "      <th>25%</th>\n",
       "      <td>17499.500000</td>\n",
       "      <td>109.0</td>\n",
       "      <td>0.0</td>\n",
       "      <td>0.0</td>\n",
       "      <td>0.0</td>\n",
       "      <td>93.581000</td>\n",
       "      <td>86.714000</td>\n",
       "      <td>84.095000</td>\n",
       "      <td>7.410000</td>\n",
       "      <td>6.675000</td>\n",
       "      <td>...</td>\n",
       "      <td>0.000000</td>\n",
       "      <td>0.000000</td>\n",
       "      <td>1.000000</td>\n",
       "      <td>1.000000</td>\n",
       "      <td>1.000000</td>\n",
       "      <td>468.000000</td>\n",
       "      <td>0.000000</td>\n",
       "      <td>0.000000</td>\n",
       "      <td>0.00000</td>\n",
       "      <td>0.000000</td>\n",
       "    </tr>\n",
       "    <tr>\n",
       "      <th>50%</th>\n",
       "      <td>34999.000000</td>\n",
       "      <td>109.0</td>\n",
       "      <td>0.0</td>\n",
       "      <td>0.0</td>\n",
       "      <td>0.0</td>\n",
       "      <td>197.484000</td>\n",
       "      <td>191.588000</td>\n",
       "      <td>192.234000</td>\n",
       "      <td>34.110000</td>\n",
       "      <td>32.280000</td>\n",
       "      <td>...</td>\n",
       "      <td>0.000000</td>\n",
       "      <td>0.000000</td>\n",
       "      <td>1.000000</td>\n",
       "      <td>1.000000</td>\n",
       "      <td>1.000000</td>\n",
       "      <td>868.000000</td>\n",
       "      <td>0.000000</td>\n",
       "      <td>0.000000</td>\n",
       "      <td>0.00000</td>\n",
       "      <td>0.000000</td>\n",
       "    </tr>\n",
       "    <tr>\n",
       "      <th>75%</th>\n",
       "      <td>52498.500000</td>\n",
       "      <td>109.0</td>\n",
       "      <td>0.0</td>\n",
       "      <td>0.0</td>\n",
       "      <td>0.0</td>\n",
       "      <td>370.791000</td>\n",
       "      <td>365.369500</td>\n",
       "      <td>369.909000</td>\n",
       "      <td>119.390000</td>\n",
       "      <td>115.837500</td>\n",
       "      <td>...</td>\n",
       "      <td>0.000000</td>\n",
       "      <td>0.000000</td>\n",
       "      <td>1.000000</td>\n",
       "      <td>1.000000</td>\n",
       "      <td>1.000000</td>\n",
       "      <td>1813.000000</td>\n",
       "      <td>0.000000</td>\n",
       "      <td>0.000000</td>\n",
       "      <td>0.00000</td>\n",
       "      <td>0.000000</td>\n",
       "    </tr>\n",
       "    <tr>\n",
       "      <th>max</th>\n",
       "      <td>69998.000000</td>\n",
       "      <td>109.0</td>\n",
       "      <td>0.0</td>\n",
       "      <td>0.0</td>\n",
       "      <td>0.0</td>\n",
       "      <td>27731.088000</td>\n",
       "      <td>35145.834000</td>\n",
       "      <td>33543.624000</td>\n",
       "      <td>7376.710000</td>\n",
       "      <td>8157.780000</td>\n",
       "      <td>...</td>\n",
       "      <td>33.000000</td>\n",
       "      <td>41.000000</td>\n",
       "      <td>1.000000</td>\n",
       "      <td>1.000000</td>\n",
       "      <td>1.000000</td>\n",
       "      <td>4337.000000</td>\n",
       "      <td>12916.220000</td>\n",
       "      <td>9165.600000</td>\n",
       "      <td>11166.21000</td>\n",
       "      <td>1.000000</td>\n",
       "    </tr>\n",
       "  </tbody>\n",
       "</table>\n",
       "<p>8 rows × 163 columns</p>\n",
       "</div>"
      ],
      "text/plain": [
       "                 id  circle_id  loc_og_t2o_mou  std_og_t2o_mou  \\\n",
       "count  69999.000000    69999.0         69297.0         69297.0   \n",
       "mean   34999.000000      109.0             0.0             0.0   \n",
       "std    20207.115084        0.0             0.0             0.0   \n",
       "min        0.000000      109.0             0.0             0.0   \n",
       "25%    17499.500000      109.0             0.0             0.0   \n",
       "50%    34999.000000      109.0             0.0             0.0   \n",
       "75%    52498.500000      109.0             0.0             0.0   \n",
       "max    69998.000000      109.0             0.0             0.0   \n",
       "\n",
       "       loc_ic_t2o_mou        arpu_6        arpu_7        arpu_8   onnet_mou_6  \\\n",
       "count         69297.0  69999.000000  69999.000000  69999.000000  67231.000000   \n",
       "mean              0.0    283.134365    278.185912    278.858826    133.153275   \n",
       "std               0.0    334.213918    344.366927    351.924315    299.963093   \n",
       "min               0.0  -2258.709000  -1289.715000   -945.808000      0.000000   \n",
       "25%               0.0     93.581000     86.714000     84.095000      7.410000   \n",
       "50%               0.0    197.484000    191.588000    192.234000     34.110000   \n",
       "75%               0.0    370.791000    365.369500    369.909000    119.390000   \n",
       "max               0.0  27731.088000  35145.834000  33543.624000   7376.710000   \n",
       "\n",
       "        onnet_mou_7  ...   sachet_3g_7   sachet_3g_8     fb_user_6  \\\n",
       "count  67312.000000  ...  69999.000000  69999.000000  17568.000000   \n",
       "mean     133.894438  ...      0.081444      0.085487      0.916325   \n",
       "std      311.277193  ...      0.634547      0.680035      0.276907   \n",
       "min        0.000000  ...      0.000000      0.000000      0.000000   \n",
       "25%        6.675000  ...      0.000000      0.000000      1.000000   \n",
       "50%       32.280000  ...      0.000000      0.000000      1.000000   \n",
       "75%      115.837500  ...      0.000000      0.000000      1.000000   \n",
       "max     8157.780000  ...     33.000000     41.000000      1.000000   \n",
       "\n",
       "          fb_user_7     fb_user_8           aon    aug_vbc_3g    jul_vbc_3g  \\\n",
       "count  17865.000000  18417.000000  69999.000000  69999.000000  69999.000000   \n",
       "mean       0.909544      0.890319   1220.639709     68.108597     65.935830   \n",
       "std        0.286842      0.312501    952.426321    269.328659    267.899034   \n",
       "min        0.000000      0.000000    180.000000      0.000000      0.000000   \n",
       "25%        1.000000      1.000000    468.000000      0.000000      0.000000   \n",
       "50%        1.000000      1.000000    868.000000      0.000000      0.000000   \n",
       "75%        1.000000      1.000000   1813.000000      0.000000      0.000000   \n",
       "max        1.000000      1.000000   4337.000000  12916.220000   9165.600000   \n",
       "\n",
       "        jun_vbc_3g  churn_probability  \n",
       "count  69999.00000       69999.000000  \n",
       "mean      60.07674           0.101887  \n",
       "std      257.22681           0.302502  \n",
       "min        0.00000           0.000000  \n",
       "25%        0.00000           0.000000  \n",
       "50%        0.00000           0.000000  \n",
       "75%        0.00000           0.000000  \n",
       "max    11166.21000           1.000000  \n",
       "\n",
       "[8 rows x 163 columns]"
      ]
     },
     "execution_count": 10,
     "metadata": {},
     "output_type": "execute_result"
    }
   ],
   "source": [
    "telecom_train_df.describe()"
   ]
  },
  {
   "cell_type": "code",
   "execution_count": 11,
   "id": "4be15a7d",
   "metadata": {},
   "outputs": [
    {
     "data": {
      "text/plain": [
       "id                     0\n",
       "circle_id              0\n",
       "loc_og_t2o_mou       702\n",
       "std_og_t2o_mou       702\n",
       "loc_ic_t2o_mou       702\n",
       "                    ... \n",
       "aon                    0\n",
       "aug_vbc_3g             0\n",
       "jul_vbc_3g             0\n",
       "jun_vbc_3g             0\n",
       "churn_probability      0\n",
       "Length: 172, dtype: int64"
      ]
     },
     "execution_count": 11,
     "metadata": {},
     "output_type": "execute_result"
    }
   ],
   "source": [
    "telecom_train_df.isna().sum()"
   ]
  },
  {
   "cell_type": "code",
   "execution_count": 12,
   "id": "be40b9f2",
   "metadata": {},
   "outputs": [
    {
     "data": {
      "text/plain": [
       "id                     int64\n",
       "circle_id              int64\n",
       "loc_og_t2o_mou       float64\n",
       "std_og_t2o_mou       float64\n",
       "loc_ic_t2o_mou       float64\n",
       "                      ...   \n",
       "aon                    int64\n",
       "aug_vbc_3g           float64\n",
       "jul_vbc_3g           float64\n",
       "jun_vbc_3g           float64\n",
       "churn_probability      int64\n",
       "Length: 172, dtype: object"
      ]
     },
     "execution_count": 12,
     "metadata": {},
     "output_type": "execute_result"
    }
   ],
   "source": [
    "telecom_train_df.dtypes"
   ]
  },
  {
   "cell_type": "code",
   "execution_count": 13,
   "id": "a6b6c597",
   "metadata": {},
   "outputs": [],
   "source": [
    "# Columns which we have to impute as Zero as thy should not be dropped based on missing values becuase they are important.\n",
    "rech_cols_to_impute = [x for x in telecom_train_df.columns if 'rech' in x and \n",
    "                       'count' not in x and 'date' not in x and 'num' not in x]\n",
    "telecom_train_df[rech_cols_to_impute] = telecom_train_df[rech_cols_to_impute].apply(lambda x: x.fillna(0))\n",
    "telecom_test_df[rech_cols_to_impute] = telecom_test_df[rech_cols_to_impute].apply(lambda x: x.fillna(0))\n"
   ]
  },
  {
   "cell_type": "markdown",
   "id": "1c81836f",
   "metadata": {},
   "source": [
    "### Dropping rows for both train and test datasets\n",
    " - Rows which are empty"
   ]
  },
  {
   "cell_type": "code",
   "execution_count": 14,
   "id": "060c74b4",
   "metadata": {},
   "outputs": [],
   "source": [
    "telecom_train_df.dropna(axis=0, how='all', inplace=True)\n",
    "telecom_test_df.dropna(axis=0, how='all', inplace=True)"
   ]
  },
  {
   "cell_type": "code",
   "execution_count": 15,
   "id": "af10b97f",
   "metadata": {},
   "outputs": [
    {
     "name": "stdout",
     "output_type": "stream",
     "text": [
      "(69999, 172)\n",
      "(30000, 171)\n"
     ]
    }
   ],
   "source": [
    "print(telecom_train_df.shape)\n",
    "print(telecom_test_df.shape)"
   ]
  },
  {
   "cell_type": "markdown",
   "id": "8e06618c",
   "metadata": {},
   "source": [
    "### Dropping columns for both train and test datasets\n",
    "\n",
    "    - Not needed columns like Id, last_date_of_month_6 etc.\n",
    "    - Columns having more than 70% values as null"
   ]
  },
  {
   "cell_type": "code",
   "execution_count": 16,
   "id": "abd04209",
   "metadata": {},
   "outputs": [],
   "source": [
    "# For us dates doesn't matter as long as customer is doing a recharge.\n",
    "cols_to_delete = ['id', 'last_date_of_month_6', 'last_date_of_month_7', 'last_date_of_month_8',\n",
    "                  'date_of_last_rech_data_6', 'date_of_last_rech_data_7', 'date_of_last_rech_data_8',\n",
    "                  'date_of_last_rech_6', 'date_of_last_rech_7', 'date_of_last_rech_8'\n",
    "                 ]\n",
    "telecom_train_df.drop(cols_to_delete, axis=1, inplace=True)\n",
    "telecom_test_df.drop(cols_to_delete, axis=1, inplace=True)"
   ]
  },
  {
   "cell_type": "code",
   "execution_count": 17,
   "id": "4d5907c5",
   "metadata": {},
   "outputs": [
    {
     "data": {
      "text/plain": [
       "arpu_3g_8           0.74\n",
       "night_pck_user_8    0.74\n",
       "night_pck_user_7    0.74\n",
       "arpu_2g_8           0.74\n",
       "arpu_2g_7           0.74\n",
       "fb_user_7           0.74\n",
       "arpu_3g_7           0.74\n",
       "fb_user_8           0.74\n",
       "count_rech_3g_8     0.74\n",
       "count_rech_3g_7     0.74\n",
       "count_rech_2g_8     0.74\n",
       "count_rech_2g_7     0.74\n",
       "arpu_2g_6           0.75\n",
       "count_rech_3g_6     0.75\n",
       "night_pck_user_6    0.75\n",
       "fb_user_6           0.75\n",
       "arpu_3g_6           0.75\n",
       "count_rech_2g_6     0.75\n",
       "dtype: float64"
      ]
     },
     "execution_count": 17,
     "metadata": {},
     "output_type": "execute_result"
    }
   ],
   "source": [
    "# to check the % of null values\n",
    "round((pd.isnull(telecom_train_df).sum()/len(telecom_train_df.index)),2)[pd.isnull(telecom_train_df).sum()/ len(telecom_train_df.index) > 0.70].sort_values()"
   ]
  },
  {
   "cell_type": "code",
   "execution_count": 18,
   "id": "af4da69b",
   "metadata": {},
   "outputs": [
    {
     "data": {
      "text/plain": [
       "18"
      ]
     },
     "execution_count": 18,
     "metadata": {},
     "output_type": "execute_result"
    }
   ],
   "source": [
    "# count of missing data > 70% columns in train dataset\n",
    "len(round((pd.isnull(telecom_train_df).sum()/len(telecom_train_df.index)),2)[pd.isnull(telecom_train_df).sum()/ len(telecom_train_df.index) > 0.70].sort_values())"
   ]
  },
  {
   "cell_type": "code",
   "execution_count": 19,
   "id": "08b6ed61",
   "metadata": {},
   "outputs": [
    {
     "data": {
      "text/plain": [
       "18"
      ]
     },
     "execution_count": 19,
     "metadata": {},
     "output_type": "execute_result"
    }
   ],
   "source": [
    "# count of missing data > 70% columns in test dataset\n",
    "len(round((pd.isnull(telecom_test_df).sum()/len(telecom_test_df.index)),2)[pd.isnull(telecom_test_df).sum()/ len(telecom_test_df.index) > 0.70].sort_values())"
   ]
  },
  {
   "cell_type": "markdown",
   "id": "91b77121",
   "metadata": {},
   "source": [
    "### As we have more than 70% data as null for 18 columns in train and test, we are dropping these columns from dataset."
   ]
  },
  {
   "cell_type": "code",
   "execution_count": 20,
   "id": "176525b2",
   "metadata": {},
   "outputs": [],
   "source": [
    "cols_to_delete = ((pd.isnull(telecom_train_df).sum()/len(telecom_train_df.index))[pd.isnull(telecom_train_df).sum()/ len(telecom_train_df.index) > 0.70].sort_values()).keys()"
   ]
  },
  {
   "cell_type": "code",
   "execution_count": 21,
   "id": "decb3b20",
   "metadata": {},
   "outputs": [
    {
     "name": "stdout",
     "output_type": "stream",
     "text": [
      "['arpu_3g_8', 'night_pck_user_8', 'arpu_2g_8', 'count_rech_3g_8', 'fb_user_8', 'count_rech_2g_8', 'arpu_3g_7', 'fb_user_7', 'arpu_2g_7', 'night_pck_user_7', 'count_rech_2g_7', 'count_rech_3g_7', 'count_rech_3g_6', 'arpu_3g_6', 'arpu_2g_6', 'night_pck_user_6', 'fb_user_6', 'count_rech_2g_6']\n"
     ]
    }
   ],
   "source": [
    "cols_to_delete = cols_to_delete.to_list()\n",
    "print(cols_to_delete)"
   ]
  },
  {
   "cell_type": "code",
   "execution_count": 22,
   "id": "03312c5b",
   "metadata": {},
   "outputs": [],
   "source": [
    "telecom_train_df = telecom_train_df.drop(cols_to_delete, axis=1)"
   ]
  },
  {
   "cell_type": "code",
   "execution_count": 23,
   "id": "be9a60c3",
   "metadata": {},
   "outputs": [
    {
     "data": {
      "text/plain": [
       "(69999, 144)"
      ]
     },
     "execution_count": 23,
     "metadata": {},
     "output_type": "execute_result"
    }
   ],
   "source": [
    "telecom_train_df.shape"
   ]
  },
  {
   "cell_type": "code",
   "execution_count": 24,
   "id": "8ada9939",
   "metadata": {},
   "outputs": [],
   "source": [
    "telecom_test_df = telecom_test_df.drop(cols_to_delete, axis=1)"
   ]
  },
  {
   "cell_type": "code",
   "execution_count": 25,
   "id": "aa95c6a9",
   "metadata": {},
   "outputs": [
    {
     "data": {
      "text/plain": [
       "(30000, 143)"
      ]
     },
     "execution_count": 25,
     "metadata": {},
     "output_type": "execute_result"
    }
   ],
   "source": [
    "telecom_test_df.shape"
   ]
  },
  {
   "cell_type": "markdown",
   "id": "4e359e28",
   "metadata": {},
   "source": [
    "## Lets check the data types of columns now"
   ]
  },
  {
   "cell_type": "code",
   "execution_count": 26,
   "id": "51cfe2ea",
   "metadata": {},
   "outputs": [
    {
     "name": "stdout",
     "output_type": "stream",
     "text": [
      "<class 'pandas.core.frame.DataFrame'>\n",
      "Int64Index: 69999 entries, 0 to 69998\n",
      "Columns: 144 entries, circle_id to churn_probability\n",
      "dtypes: float64(117), int64(27)\n",
      "memory usage: 77.4 MB\n"
     ]
    }
   ],
   "source": [
    "telecom_train_df.info()"
   ]
  },
  {
   "cell_type": "code",
   "execution_count": 27,
   "id": "d47ca287",
   "metadata": {},
   "outputs": [
    {
     "name": "stdout",
     "output_type": "stream",
     "text": [
      "<class 'pandas.core.frame.DataFrame'>\n",
      "Int64Index: 30000 entries, 0 to 29999\n",
      "Columns: 143 entries, circle_id to jun_vbc_3g\n",
      "dtypes: float64(117), int64(26)\n",
      "memory usage: 33.0 MB\n"
     ]
    }
   ],
   "source": [
    "telecom_test_df.info()"
   ]
  },
  {
   "cell_type": "markdown",
   "id": "b0444c3e",
   "metadata": {},
   "source": [
    "### We can see now we don't have any categorical data, all are numerical data only."
   ]
  },
  {
   "cell_type": "markdown",
   "id": "da80afd3",
   "metadata": {},
   "source": [
    "### Imputing the na values with\n",
    " - Median for numerical variables\n",
    " - Mode for categorical variables - Not needed in out this case."
   ]
  },
  {
   "cell_type": "code",
   "execution_count": 28,
   "id": "3ce3ad7a",
   "metadata": {},
   "outputs": [],
   "source": [
    "# A generic method to impute na\n",
    "def replace_na(df, columns, data_type):\n",
    "    for col in columns:\n",
    "        if data_type == 'categorical':\n",
    "            value = pd.to_datetime(df[col]).mode()\n",
    "        else:\n",
    "            value = df[col].median()\n",
    "        df[col].fillna(value, inplace=True)\n",
    "    return df"
   ]
  },
  {
   "cell_type": "code",
   "execution_count": 29,
   "id": "b802153c",
   "metadata": {},
   "outputs": [],
   "source": [
    "telecom_train_df = replace_na(telecom_train_df, telecom_train_df.columns, 'numerical')\n",
    "telecom_test_df = replace_na(telecom_test_df, telecom_test_df.columns, 'numerical')"
   ]
  },
  {
   "cell_type": "markdown",
   "id": "8a21f588",
   "metadata": {},
   "source": [
    "### Lets check for unique entries in train and test dataset"
   ]
  },
  {
   "cell_type": "code",
   "execution_count": 30,
   "id": "4bafbc9c",
   "metadata": {},
   "outputs": [],
   "source": [
    "def cols_to_delete_unique(df, df_columns, threshold=4):\n",
    "    # threshold=4 means column has only 1 unique value\n",
    "    # eg. telecom_train_df['circle_id'].describe().unique() --> array([30000.,   109.,     0.])\n",
    "    # Here because there are all 109 in column, we have only 3 entries in array.\n",
    "    cols_to_delete = []\n",
    "    for column in df_columns:\n",
    "        if len(df[column].describe().unique()) < threshold:\n",
    "            cols_to_delete.append(column)\n",
    "    \n",
    "    return cols_to_delete"
   ]
  },
  {
   "cell_type": "code",
   "execution_count": 31,
   "id": "bf0895de",
   "metadata": {},
   "outputs": [
    {
     "name": "stdout",
     "output_type": "stream",
     "text": [
      "(69999, 144)\n",
      "(30000, 143)\n"
     ]
    }
   ],
   "source": [
    "print(telecom_train_df.shape)\n",
    "print(telecom_test_df.shape)"
   ]
  },
  {
   "cell_type": "code",
   "execution_count": 32,
   "id": "8c597e15",
   "metadata": {},
   "outputs": [
    {
     "name": "stdout",
     "output_type": "stream",
     "text": [
      "(69999, 134)\n",
      "(30000, 133)\n"
     ]
    }
   ],
   "source": [
    "# on train data\n",
    "telecom_train_df = telecom_train_df.drop(cols_to_delete_unique(telecom_train_df, telecom_train_df.columns), axis=1)\n",
    "print(telecom_train_df.shape)\n",
    "\n",
    "# on test data\n",
    "telecom_test_df = telecom_test_df.drop(cols_to_delete_unique(telecom_test_df, telecom_test_df.columns), axis=1)\n",
    "print(telecom_test_df.shape)"
   ]
  },
  {
   "cell_type": "markdown",
   "id": "20f6d3fb",
   "metadata": {},
   "source": [
    "### Lets find the high value customers based on recharge done in 6th and 7th month and update dataframe"
   ]
  },
  {
   "cell_type": "markdown",
   "id": "1e6656b1",
   "metadata": {},
   "source": [
    "### For train data"
   ]
  },
  {
   "cell_type": "code",
   "execution_count": 33,
   "id": "ea5fecfd",
   "metadata": {},
   "outputs": [
    {
     "data": {
      "text/plain": [
       "477.5"
      ]
     },
     "execution_count": 33,
     "metadata": {},
     "output_type": "execute_result"
    }
   ],
   "source": [
    "# total data recharge in 6th, 7th and 8th months\n",
    "telecom_train_df[\"total_data_recharge_amnt_6\"] = telecom_train_df.total_rech_data_6 * telecom_train_df.av_rech_amt_data_6\n",
    "telecom_train_df[\"total_data_recharge_amnt_7\"] = telecom_train_df.total_rech_data_7 * telecom_train_df.av_rech_amt_data_7\n",
    "telecom_train_df[\"total_data_recharge_amnt_8\"] = telecom_train_df.total_rech_data_8 * telecom_train_df.av_rech_amt_data_8\n",
    "\n",
    "# total amount spent on recharge in 6th, 7th and 8th months\n",
    "telecom_train_df[\"total_recharge_amnt_6\"] = telecom_train_df.total_rech_amt_6 + telecom_train_df.total_data_recharge_amnt_6\n",
    "telecom_train_df[\"total_recharge_amnt_7\"] = telecom_train_df.total_rech_amt_7 + telecom_train_df.total_data_recharge_amnt_7\n",
    "telecom_train_df[\"total_recharge_amnt_8\"] = telecom_train_df.total_rech_amt_8 + telecom_train_df.total_data_recharge_amnt_8\n",
    "\n",
    "# average recharge for 6th and 7th month\n",
    "telecom_train_df['average_amnt_6_7'] = (telecom_train_df[\"total_recharge_amnt_6\"] + telecom_train_df[\"total_recharge_amnt_7\"])/2\n",
    "\n",
    "# 70th percentile of average_amnt_6_7\n",
    "telecom_train_df['average_amnt_6_7'].quantile(.70)"
   ]
  },
  {
   "cell_type": "markdown",
   "id": "0768613e",
   "metadata": {},
   "source": [
    "## Filter dataset based on average_amnt_6_7 (70th percentile for train dataset is 477.5)"
   ]
  },
  {
   "cell_type": "code",
   "execution_count": 34,
   "id": "5af14b93",
   "metadata": {},
   "outputs": [],
   "source": [
    "telecom_train_df = telecom_train_df[telecom_train_df[\"average_amnt_6_7\"]>= telecom_train_df[\"average_amnt_6_7\"].quantile(.70)]"
   ]
  },
  {
   "cell_type": "code",
   "execution_count": 35,
   "id": "982270cb",
   "metadata": {},
   "outputs": [
    {
     "data": {
      "text/plain": [
       "(21013, 141)"
      ]
     },
     "execution_count": 35,
     "metadata": {},
     "output_type": "execute_result"
    }
   ],
   "source": [
    "telecom_train_df.shape"
   ]
  },
  {
   "cell_type": "code",
   "execution_count": 36,
   "id": "24affba8",
   "metadata": {},
   "outputs": [],
   "source": [
    "# Lets remove not needed newly added features\n",
    "telecom_train_df.drop(['total_data_recharge_amnt_6', 'total_data_recharge_amnt_7', 'total_data_recharge_amnt_8',\n",
    "                        'total_recharge_amnt_6', 'total_recharge_amnt_7', 'total_recharge_amnt_8',\n",
    "                        'average_amnt_6_7'], \n",
    "                      axis=1, inplace=True)"
   ]
  },
  {
   "cell_type": "markdown",
   "id": "e4db1002",
   "metadata": {},
   "source": [
    "## Lets visualize the 8th month and average_amnt_6_7 months data to check behavior pattern of customers"
   ]
  },
  {
   "cell_type": "code",
   "execution_count": 37,
   "id": "34e0ab59",
   "metadata": {},
   "outputs": [],
   "source": [
    "# Look it later\n",
    "#plt.scatter(telecom_train_df[['average_amnt_6_7', 'total_recharge_amnt_8']])\n",
    "#plt.show()\n",
    "#sns.\n",
    "#telecom_train_df.plot.scatter(x='average_amnt_6_7', y='total_recharge_amnt_8')\n",
    "#telecom_train_df.DataFrame(np.random.rand(10, 3), columns =['average_amnt_6_7', 'total_recharge_amnt_8'])\n",
    "\n",
    "#telecom_train_df.plot.bar(x=\"average_amnt_6_7\", y=\"total_recharge_amnt_8\", rot=70);\n",
    "\n",
    "#ig, ax = plt.subplots()\n",
    "\n",
    "#ax.plot(telecom_train_df['average_amnt_6_7'], telecom_train_df['total_recharge_amnt_8'])\n",
    "#plt.show()"
   ]
  },
  {
   "cell_type": "markdown",
   "id": "40627e53",
   "metadata": {},
   "source": [
    "## Lets focus on Outliers now and treat them"
   ]
  },
  {
   "cell_type": "code",
   "execution_count": 38,
   "id": "d0b9f1cf",
   "metadata": {},
   "outputs": [],
   "source": [
    "# Generic method to remove outliers\n",
    "def remove_outliers(df, features):\n",
    "    for feature in features:\n",
    "        q1 = df[feature].quantile(0.25)\n",
    "        q3 = df[feature].quantile(0.99)\n",
    "        iqr = q3-q1\n",
    "        lower_value  = q1 - (1.5 * iqr)\n",
    "        higer_value = q3 + (1.5 * iqr)\n",
    "        df = df[(df[feature] <= higer_value) & (df[feature] >= lower_value)]\n",
    "    return df"
   ]
  },
  {
   "cell_type": "code",
   "execution_count": 39,
   "id": "537a1234",
   "metadata": {},
   "outputs": [],
   "source": [
    "#telecom_train_df = remove_outliers(telecom_train_df, telecom_train_df.columns)\n",
    "#telecom_test_df = remove_outliers(telecom_test_df, telecom_test_df.columns)"
   ]
  },
  {
   "cell_type": "code",
   "execution_count": 40,
   "id": "09c79cc2",
   "metadata": {},
   "outputs": [
    {
     "data": {
      "text/plain": [
       "(21013, 134)"
      ]
     },
     "execution_count": 40,
     "metadata": {},
     "output_type": "execute_result"
    }
   ],
   "source": [
    "telecom_train_df.shape"
   ]
  },
  {
   "cell_type": "code",
   "execution_count": 41,
   "id": "c7911de6",
   "metadata": {},
   "outputs": [
    {
     "data": {
      "text/plain": [
       "(30000, 133)"
      ]
     },
     "execution_count": 41,
     "metadata": {},
     "output_type": "execute_result"
    }
   ],
   "source": [
    "telecom_test_df.shape"
   ]
  },
  {
   "cell_type": "markdown",
   "id": "ad731d80",
   "metadata": {},
   "source": [
    "## Let's check for Data imbalance here"
   ]
  },
  {
   "cell_type": "code",
   "execution_count": 42,
   "id": "d7df398d",
   "metadata": {},
   "outputs": [],
   "source": [
    "churn_data_rows = telecom_train_df['churn_probability'].sum()"
   ]
  },
  {
   "cell_type": "code",
   "execution_count": 43,
   "id": "addc0c33",
   "metadata": {},
   "outputs": [
    {
     "data": {
      "text/plain": [
       "8.275829248560415"
      ]
     },
     "execution_count": 43,
     "metadata": {},
     "output_type": "execute_result"
    }
   ],
   "source": [
    "churn_data_rows/len(telecom_train_df) * 100"
   ]
  },
  {
   "cell_type": "markdown",
   "id": "8fa850d6",
   "metadata": {},
   "source": [
    "### We can see that there is a data imbalance. We have only about 8.28% of data as Churn and 91.72% as not churn.\n",
    "### So we need to apply data imbalance technique. We will use SMOTE."
   ]
  },
  {
   "cell_type": "markdown",
   "id": "0624b7f7",
   "metadata": {},
   "source": [
    "## Dividing the data from telecom_train_df to train the model"
   ]
  },
  {
   "cell_type": "code",
   "execution_count": 44,
   "id": "2c3467e0",
   "metadata": {},
   "outputs": [],
   "source": [
    "y = telecom_train_df['churn_probability']\n",
    "X = telecom_train_df.drop(['churn_probability'], axis=1)\n",
    "\n",
    "telecom_train_df.drop('churn_probability', axis=1, inplace=True)"
   ]
  },
  {
   "cell_type": "code",
   "execution_count": 45,
   "id": "b3edc2c2",
   "metadata": {},
   "outputs": [],
   "source": [
    "# Splitting the data into test and train\n",
    "X_train, X_test, y_train, y_test = train_test_split(X, y, train_size=0.7, test_size=0.3, random_state=100)"
   ]
  },
  {
   "cell_type": "markdown",
   "id": "93ad1282",
   "metadata": {},
   "source": [
    "## Taking a backup of variables"
   ]
  },
  {
   "cell_type": "code",
   "execution_count": 46,
   "id": "20dae04f",
   "metadata": {},
   "outputs": [],
   "source": [
    "X_train_ori, X_test_ori, y_train_ori, y_test_ori = X_train.copy(), X_test.copy(), y_train.copy(), y_test.copy()"
   ]
  },
  {
   "cell_type": "markdown",
   "id": "5496cd44",
   "metadata": {},
   "source": [
    "## Rescaling of the variables\n",
    "\n",
    "- We will use Min-Max scaling (Normalization) --> compresses all the data between 0 and 1"
   ]
  },
  {
   "cell_type": "code",
   "execution_count": 47,
   "id": "7ad21932",
   "metadata": {},
   "outputs": [
    {
     "data": {
      "text/html": [
       "<div>\n",
       "<style scoped>\n",
       "    .dataframe tbody tr th:only-of-type {\n",
       "        vertical-align: middle;\n",
       "    }\n",
       "\n",
       "    .dataframe tbody tr th {\n",
       "        vertical-align: top;\n",
       "    }\n",
       "\n",
       "    .dataframe thead th {\n",
       "        text-align: right;\n",
       "    }\n",
       "</style>\n",
       "<table border=\"1\" class=\"dataframe\">\n",
       "  <thead>\n",
       "    <tr style=\"text-align: right;\">\n",
       "      <th></th>\n",
       "      <th>arpu_6</th>\n",
       "      <th>arpu_7</th>\n",
       "      <th>arpu_8</th>\n",
       "      <th>onnet_mou_6</th>\n",
       "      <th>onnet_mou_7</th>\n",
       "      <th>onnet_mou_8</th>\n",
       "      <th>offnet_mou_6</th>\n",
       "      <th>offnet_mou_7</th>\n",
       "      <th>offnet_mou_8</th>\n",
       "      <th>roam_ic_mou_6</th>\n",
       "      <th>...</th>\n",
       "      <th>monthly_3g_6</th>\n",
       "      <th>monthly_3g_7</th>\n",
       "      <th>monthly_3g_8</th>\n",
       "      <th>sachet_3g_6</th>\n",
       "      <th>sachet_3g_7</th>\n",
       "      <th>sachet_3g_8</th>\n",
       "      <th>aon</th>\n",
       "      <th>aug_vbc_3g</th>\n",
       "      <th>jul_vbc_3g</th>\n",
       "      <th>jun_vbc_3g</th>\n",
       "    </tr>\n",
       "  </thead>\n",
       "  <tbody>\n",
       "    <tr>\n",
       "      <th>6968</th>\n",
       "      <td>0.127277</td>\n",
       "      <td>0.274576</td>\n",
       "      <td>0.081830</td>\n",
       "      <td>0.004624</td>\n",
       "      <td>0.004018</td>\n",
       "      <td>0.002985</td>\n",
       "      <td>0.011537</td>\n",
       "      <td>0.040985</td>\n",
       "      <td>0.006554</td>\n",
       "      <td>0.000000</td>\n",
       "      <td>...</td>\n",
       "      <td>0.0</td>\n",
       "      <td>0.0</td>\n",
       "      <td>0.0</td>\n",
       "      <td>0.000000</td>\n",
       "      <td>0.000000</td>\n",
       "      <td>0.00000</td>\n",
       "      <td>0.337600</td>\n",
       "      <td>0.000000</td>\n",
       "      <td>0.002051</td>\n",
       "      <td>0.000000</td>\n",
       "    </tr>\n",
       "    <tr>\n",
       "      <th>42203</th>\n",
       "      <td>0.156166</td>\n",
       "      <td>0.094305</td>\n",
       "      <td>0.083632</td>\n",
       "      <td>0.066057</td>\n",
       "      <td>0.041462</td>\n",
       "      <td>0.074009</td>\n",
       "      <td>0.065428</td>\n",
       "      <td>0.053213</td>\n",
       "      <td>0.049054</td>\n",
       "      <td>0.000000</td>\n",
       "      <td>...</td>\n",
       "      <td>0.0</td>\n",
       "      <td>0.0</td>\n",
       "      <td>0.0</td>\n",
       "      <td>0.000000</td>\n",
       "      <td>0.000000</td>\n",
       "      <td>0.00000</td>\n",
       "      <td>0.009660</td>\n",
       "      <td>0.000000</td>\n",
       "      <td>0.000000</td>\n",
       "      <td>0.000000</td>\n",
       "    </tr>\n",
       "    <tr>\n",
       "      <th>18406</th>\n",
       "      <td>0.151447</td>\n",
       "      <td>0.122733</td>\n",
       "      <td>0.087708</td>\n",
       "      <td>0.015153</td>\n",
       "      <td>0.016084</td>\n",
       "      <td>0.008306</td>\n",
       "      <td>0.056327</td>\n",
       "      <td>0.259820</td>\n",
       "      <td>0.136117</td>\n",
       "      <td>0.005055</td>\n",
       "      <td>...</td>\n",
       "      <td>0.0</td>\n",
       "      <td>0.0</td>\n",
       "      <td>0.0</td>\n",
       "      <td>0.000000</td>\n",
       "      <td>0.000000</td>\n",
       "      <td>0.00000</td>\n",
       "      <td>0.702487</td>\n",
       "      <td>0.000000</td>\n",
       "      <td>0.000000</td>\n",
       "      <td>0.000000</td>\n",
       "    </tr>\n",
       "    <tr>\n",
       "      <th>21455</th>\n",
       "      <td>0.171177</td>\n",
       "      <td>0.128305</td>\n",
       "      <td>0.077781</td>\n",
       "      <td>0.009636</td>\n",
       "      <td>0.010909</td>\n",
       "      <td>0.006579</td>\n",
       "      <td>0.081607</td>\n",
       "      <td>0.121132</td>\n",
       "      <td>0.038009</td>\n",
       "      <td>0.005166</td>\n",
       "      <td>...</td>\n",
       "      <td>0.0</td>\n",
       "      <td>0.0</td>\n",
       "      <td>0.0</td>\n",
       "      <td>0.000000</td>\n",
       "      <td>0.030303</td>\n",
       "      <td>0.02439</td>\n",
       "      <td>0.542381</td>\n",
       "      <td>0.029661</td>\n",
       "      <td>0.043865</td>\n",
       "      <td>0.039021</td>\n",
       "    </tr>\n",
       "    <tr>\n",
       "      <th>66143</th>\n",
       "      <td>0.138174</td>\n",
       "      <td>0.087866</td>\n",
       "      <td>0.074838</td>\n",
       "      <td>0.000000</td>\n",
       "      <td>0.006171</td>\n",
       "      <td>0.001633</td>\n",
       "      <td>0.000000</td>\n",
       "      <td>0.033354</td>\n",
       "      <td>0.020053</td>\n",
       "      <td>0.000000</td>\n",
       "      <td>...</td>\n",
       "      <td>0.0</td>\n",
       "      <td>0.0</td>\n",
       "      <td>0.0</td>\n",
       "      <td>0.034483</td>\n",
       "      <td>0.000000</td>\n",
       "      <td>0.00000</td>\n",
       "      <td>0.055301</td>\n",
       "      <td>0.098218</td>\n",
       "      <td>0.000000</td>\n",
       "      <td>0.000000</td>\n",
       "    </tr>\n",
       "  </tbody>\n",
       "</table>\n",
       "<p>5 rows × 133 columns</p>\n",
       "</div>"
      ],
      "text/plain": [
       "         arpu_6    arpu_7    arpu_8  onnet_mou_6  onnet_mou_7  onnet_mou_8  \\\n",
       "6968   0.127277  0.274576  0.081830     0.004624     0.004018     0.002985   \n",
       "42203  0.156166  0.094305  0.083632     0.066057     0.041462     0.074009   \n",
       "18406  0.151447  0.122733  0.087708     0.015153     0.016084     0.008306   \n",
       "21455  0.171177  0.128305  0.077781     0.009636     0.010909     0.006579   \n",
       "66143  0.138174  0.087866  0.074838     0.000000     0.006171     0.001633   \n",
       "\n",
       "       offnet_mou_6  offnet_mou_7  offnet_mou_8  roam_ic_mou_6  ...  \\\n",
       "6968       0.011537      0.040985      0.006554       0.000000  ...   \n",
       "42203      0.065428      0.053213      0.049054       0.000000  ...   \n",
       "18406      0.056327      0.259820      0.136117       0.005055  ...   \n",
       "21455      0.081607      0.121132      0.038009       0.005166  ...   \n",
       "66143      0.000000      0.033354      0.020053       0.000000  ...   \n",
       "\n",
       "       monthly_3g_6  monthly_3g_7  monthly_3g_8  sachet_3g_6  sachet_3g_7  \\\n",
       "6968            0.0           0.0           0.0     0.000000     0.000000   \n",
       "42203           0.0           0.0           0.0     0.000000     0.000000   \n",
       "18406           0.0           0.0           0.0     0.000000     0.000000   \n",
       "21455           0.0           0.0           0.0     0.000000     0.030303   \n",
       "66143           0.0           0.0           0.0     0.034483     0.000000   \n",
       "\n",
       "       sachet_3g_8       aon  aug_vbc_3g  jul_vbc_3g  jun_vbc_3g  \n",
       "6968       0.00000  0.337600    0.000000    0.002051    0.000000  \n",
       "42203      0.00000  0.009660    0.000000    0.000000    0.000000  \n",
       "18406      0.00000  0.702487    0.000000    0.000000    0.000000  \n",
       "21455      0.02439  0.542381    0.029661    0.043865    0.039021  \n",
       "66143      0.00000  0.055301    0.098218    0.000000    0.000000  \n",
       "\n",
       "[5 rows x 133 columns]"
      ]
     },
     "execution_count": 47,
     "metadata": {},
     "output_type": "execute_result"
    }
   ],
   "source": [
    "# Creating MinMaxScaler object\n",
    "scaler = MinMaxScaler()\n",
    "# fit on data\n",
    "# removed churn_probability becuase test data is not having it.\n",
    "# Also churn_probability is having 0 and 1 only. So it need not be scaled.\n",
    "train_numerical_columns = telecom_train_df.columns.to_list()\n",
    "X_train[train_numerical_columns] = scaler.fit_transform(X_train[train_numerical_columns])\n",
    "X_train.head()\n",
    "# So all numberic values are now between 0 and 1"
   ]
  },
  {
   "cell_type": "code",
   "execution_count": 48,
   "id": "e87381ac",
   "metadata": {},
   "outputs": [],
   "source": [
    "from imblearn.over_sampling import SMOTE ## Comments to be fixed "
   ]
  },
  {
   "cell_type": "code",
   "execution_count": 49,
   "id": "37e1ef44",
   "metadata": {},
   "outputs": [],
   "source": [
    "X_resampled, y_resampled = SMOTE().fit_resample(X_train, y_train)"
   ]
  },
  {
   "cell_type": "code",
   "execution_count": 50,
   "id": "90982153",
   "metadata": {},
   "outputs": [
    {
     "data": {
      "text/plain": [
       "(27020, 133)"
      ]
     },
     "execution_count": 50,
     "metadata": {},
     "output_type": "execute_result"
    }
   ],
   "source": [
    "X_resampled.shape"
   ]
  },
  {
   "cell_type": "code",
   "execution_count": 51,
   "id": "5a229479",
   "metadata": {},
   "outputs": [
    {
     "data": {
      "text/plain": [
       "50.0"
      ]
     },
     "execution_count": 51,
     "metadata": {},
     "output_type": "execute_result"
    }
   ],
   "source": [
    "sum(y_resampled)/len(y_resampled) * 100"
   ]
  },
  {
   "cell_type": "code",
   "execution_count": 52,
   "id": "92c7be3e",
   "metadata": {},
   "outputs": [
    {
     "data": {
      "text/plain": [
       "(30000, 133)"
      ]
     },
     "execution_count": 52,
     "metadata": {},
     "output_type": "execute_result"
    }
   ],
   "source": [
    "telecom_test_df.shape"
   ]
  },
  {
   "cell_type": "markdown",
   "id": "c0f8f8db",
   "metadata": {},
   "source": [
    "## Now there is no data imbalance."
   ]
  },
  {
   "cell_type": "code",
   "execution_count": 53,
   "id": "b84d8439",
   "metadata": {},
   "outputs": [
    {
     "data": {
      "text/html": [
       "<div>\n",
       "<style scoped>\n",
       "    .dataframe tbody tr th:only-of-type {\n",
       "        vertical-align: middle;\n",
       "    }\n",
       "\n",
       "    .dataframe tbody tr th {\n",
       "        vertical-align: top;\n",
       "    }\n",
       "\n",
       "    .dataframe thead th {\n",
       "        text-align: right;\n",
       "    }\n",
       "</style>\n",
       "<table border=\"1\" class=\"dataframe\">\n",
       "  <thead>\n",
       "    <tr style=\"text-align: right;\">\n",
       "      <th></th>\n",
       "      <th>arpu_6</th>\n",
       "      <th>arpu_7</th>\n",
       "      <th>arpu_8</th>\n",
       "      <th>onnet_mou_6</th>\n",
       "      <th>onnet_mou_7</th>\n",
       "      <th>onnet_mou_8</th>\n",
       "      <th>offnet_mou_6</th>\n",
       "      <th>offnet_mou_7</th>\n",
       "      <th>offnet_mou_8</th>\n",
       "      <th>roam_ic_mou_6</th>\n",
       "      <th>...</th>\n",
       "      <th>monthly_3g_6</th>\n",
       "      <th>monthly_3g_7</th>\n",
       "      <th>monthly_3g_8</th>\n",
       "      <th>sachet_3g_6</th>\n",
       "      <th>sachet_3g_7</th>\n",
       "      <th>sachet_3g_8</th>\n",
       "      <th>aon</th>\n",
       "      <th>aug_vbc_3g</th>\n",
       "      <th>jul_vbc_3g</th>\n",
       "      <th>jun_vbc_3g</th>\n",
       "    </tr>\n",
       "  </thead>\n",
       "  <tbody>\n",
       "    <tr>\n",
       "      <th>0</th>\n",
       "      <td>0.132455</td>\n",
       "      <td>0.074824</td>\n",
       "      <td>0.049909</td>\n",
       "      <td>0.004308</td>\n",
       "      <td>0.002480</td>\n",
       "      <td>0.002149</td>\n",
       "      <td>0.007194</td>\n",
       "      <td>0.004771</td>\n",
       "      <td>0.002487</td>\n",
       "      <td>0.000000</td>\n",
       "      <td>...</td>\n",
       "      <td>0.0</td>\n",
       "      <td>0.0</td>\n",
       "      <td>0.0</td>\n",
       "      <td>0.0</td>\n",
       "      <td>0.0</td>\n",
       "      <td>0.0</td>\n",
       "      <td>0.365129</td>\n",
       "      <td>0.000000</td>\n",
       "      <td>0.000000</td>\n",
       "      <td>0.0000</td>\n",
       "    </tr>\n",
       "    <tr>\n",
       "      <th>1</th>\n",
       "      <td>0.150615</td>\n",
       "      <td>0.099685</td>\n",
       "      <td>0.064554</td>\n",
       "      <td>0.010236</td>\n",
       "      <td>0.005052</td>\n",
       "      <td>0.001845</td>\n",
       "      <td>0.056723</td>\n",
       "      <td>0.092260</td>\n",
       "      <td>0.028195</td>\n",
       "      <td>0.000000</td>\n",
       "      <td>...</td>\n",
       "      <td>0.0</td>\n",
       "      <td>0.0</td>\n",
       "      <td>0.0</td>\n",
       "      <td>0.0</td>\n",
       "      <td>0.0</td>\n",
       "      <td>0.0</td>\n",
       "      <td>0.568220</td>\n",
       "      <td>0.000000</td>\n",
       "      <td>0.000000</td>\n",
       "      <td>0.0000</td>\n",
       "    </tr>\n",
       "    <tr>\n",
       "      <th>2</th>\n",
       "      <td>0.145864</td>\n",
       "      <td>0.095230</td>\n",
       "      <td>0.083592</td>\n",
       "      <td>0.001022</td>\n",
       "      <td>0.000963</td>\n",
       "      <td>0.000781</td>\n",
       "      <td>0.002031</td>\n",
       "      <td>0.006797</td>\n",
       "      <td>0.003215</td>\n",
       "      <td>0.008728</td>\n",
       "      <td>...</td>\n",
       "      <td>0.0</td>\n",
       "      <td>0.0</td>\n",
       "      <td>0.0</td>\n",
       "      <td>0.0</td>\n",
       "      <td>0.0</td>\n",
       "      <td>0.0</td>\n",
       "      <td>0.023424</td>\n",
       "      <td>0.040694</td>\n",
       "      <td>0.082745</td>\n",
       "      <td>0.0319</td>\n",
       "    </tr>\n",
       "    <tr>\n",
       "      <th>3</th>\n",
       "      <td>0.129731</td>\n",
       "      <td>0.080680</td>\n",
       "      <td>0.047931</td>\n",
       "      <td>0.000720</td>\n",
       "      <td>0.000265</td>\n",
       "      <td>0.000000</td>\n",
       "      <td>0.004788</td>\n",
       "      <td>0.030417</td>\n",
       "      <td>0.001714</td>\n",
       "      <td>0.000000</td>\n",
       "      <td>...</td>\n",
       "      <td>0.0</td>\n",
       "      <td>0.0</td>\n",
       "      <td>0.0</td>\n",
       "      <td>0.0</td>\n",
       "      <td>0.0</td>\n",
       "      <td>0.0</td>\n",
       "      <td>0.256943</td>\n",
       "      <td>0.000000</td>\n",
       "      <td>0.000000</td>\n",
       "      <td>0.0000</td>\n",
       "    </tr>\n",
       "    <tr>\n",
       "      <th>4</th>\n",
       "      <td>0.144568</td>\n",
       "      <td>0.093651</td>\n",
       "      <td>0.067145</td>\n",
       "      <td>0.061129</td>\n",
       "      <td>0.074656</td>\n",
       "      <td>0.065164</td>\n",
       "      <td>0.007287</td>\n",
       "      <td>0.003537</td>\n",
       "      <td>0.005294</td>\n",
       "      <td>0.000000</td>\n",
       "      <td>...</td>\n",
       "      <td>0.0</td>\n",
       "      <td>0.0</td>\n",
       "      <td>0.0</td>\n",
       "      <td>0.0</td>\n",
       "      <td>0.0</td>\n",
       "      <td>0.0</td>\n",
       "      <td>0.068099</td>\n",
       "      <td>0.000000</td>\n",
       "      <td>0.000000</td>\n",
       "      <td>0.0000</td>\n",
       "    </tr>\n",
       "  </tbody>\n",
       "</table>\n",
       "<p>5 rows × 133 columns</p>\n",
       "</div>"
      ],
      "text/plain": [
       "     arpu_6    arpu_7    arpu_8  onnet_mou_6  onnet_mou_7  onnet_mou_8  \\\n",
       "0  0.132455  0.074824  0.049909     0.004308     0.002480     0.002149   \n",
       "1  0.150615  0.099685  0.064554     0.010236     0.005052     0.001845   \n",
       "2  0.145864  0.095230  0.083592     0.001022     0.000963     0.000781   \n",
       "3  0.129731  0.080680  0.047931     0.000720     0.000265     0.000000   \n",
       "4  0.144568  0.093651  0.067145     0.061129     0.074656     0.065164   \n",
       "\n",
       "   offnet_mou_6  offnet_mou_7  offnet_mou_8  roam_ic_mou_6  ...  monthly_3g_6  \\\n",
       "0      0.007194      0.004771      0.002487       0.000000  ...           0.0   \n",
       "1      0.056723      0.092260      0.028195       0.000000  ...           0.0   \n",
       "2      0.002031      0.006797      0.003215       0.008728  ...           0.0   \n",
       "3      0.004788      0.030417      0.001714       0.000000  ...           0.0   \n",
       "4      0.007287      0.003537      0.005294       0.000000  ...           0.0   \n",
       "\n",
       "   monthly_3g_7  monthly_3g_8  sachet_3g_6  sachet_3g_7  sachet_3g_8  \\\n",
       "0           0.0           0.0          0.0          0.0          0.0   \n",
       "1           0.0           0.0          0.0          0.0          0.0   \n",
       "2           0.0           0.0          0.0          0.0          0.0   \n",
       "3           0.0           0.0          0.0          0.0          0.0   \n",
       "4           0.0           0.0          0.0          0.0          0.0   \n",
       "\n",
       "        aon  aug_vbc_3g  jul_vbc_3g  jun_vbc_3g  \n",
       "0  0.365129    0.000000    0.000000      0.0000  \n",
       "1  0.568220    0.000000    0.000000      0.0000  \n",
       "2  0.023424    0.040694    0.082745      0.0319  \n",
       "3  0.256943    0.000000    0.000000      0.0000  \n",
       "4  0.068099    0.000000    0.000000      0.0000  \n",
       "\n",
       "[5 rows x 133 columns]"
      ]
     },
     "execution_count": 53,
     "metadata": {},
     "output_type": "execute_result"
    }
   ],
   "source": [
    "# Lets fit the scaler for train data as well\n",
    "test_numerical_columns = telecom_test_df.columns.to_list()\n",
    "telecom_test_df[test_numerical_columns] = scaler.transform(telecom_test_df[test_numerical_columns])\n",
    "telecom_test_df.head()"
   ]
  },
  {
   "cell_type": "markdown",
   "id": "5c9c47b1",
   "metadata": {},
   "source": [
    "## Modelling \n",
    "\n",
    "1. Logistic Regression using RFE - To get important predictors for Churn probability\n",
    "2. Logistic Regression - To know Churn probability + PCA\n",
    "    - Lasso\n",
    "    - Ridge\n",
    "3. Tree models\n",
    "    - XGBoost\n",
    "    - Random Forest"
   ]
  },
  {
   "cell_type": "markdown",
   "id": "e6bca16f",
   "metadata": {},
   "source": [
    "## 1. Logistic Regression using RFE - To get importnat predictors for Churn probability"
   ]
  },
  {
   "cell_type": "code",
   "execution_count": 54,
   "id": "cd4d9e79",
   "metadata": {},
   "outputs": [
    {
     "data": {
      "text/html": [
       "<table class=\"simpletable\">\n",
       "<caption>Generalized Linear Model Regression Results</caption>\n",
       "<tr>\n",
       "  <th>Dep. Variable:</th>   <td>churn_probability</td> <th>  No. Observations:  </th>  <td> 27020</td> \n",
       "</tr>\n",
       "<tr>\n",
       "  <th>Model:</th>                  <td>GLM</td>        <th>  Df Residuals:      </th>  <td> 26889</td> \n",
       "</tr>\n",
       "<tr>\n",
       "  <th>Model Family:</th>        <td>Binomial</td>      <th>  Df Model:          </th>  <td>   130</td> \n",
       "</tr>\n",
       "<tr>\n",
       "  <th>Link Function:</th>         <td>logit</td>       <th>  Scale:             </th> <td>  1.0000</td>\n",
       "</tr>\n",
       "<tr>\n",
       "  <th>Method:</th>                <td>IRLS</td>        <th>  Log-Likelihood:    </th> <td> -8753.5</td>\n",
       "</tr>\n",
       "<tr>\n",
       "  <th>Date:</th>            <td>Sat, 17 Sep 2022</td>  <th>  Deviance:          </th> <td>  17507.</td>\n",
       "</tr>\n",
       "<tr>\n",
       "  <th>Time:</th>                <td>09:58:04</td>      <th>  Pearson chi2:      </th> <td>1.00e+05</td>\n",
       "</tr>\n",
       "<tr>\n",
       "  <th>No. Iterations:</th>         <td>11</td>         <th>                     </th>     <td> </td>   \n",
       "</tr>\n",
       "<tr>\n",
       "  <th>Covariance Type:</th>     <td>nonrobust</td>     <th>                     </th>     <td> </td>   \n",
       "</tr>\n",
       "</table>\n",
       "<table class=\"simpletable\">\n",
       "<tr>\n",
       "           <td></td>             <th>coef</th>     <th>std err</th>      <th>z</th>      <th>P>|z|</th>  <th>[0.025</th>    <th>0.975]</th>  \n",
       "</tr>\n",
       "<tr>\n",
       "  <th>const</th>              <td>   -3.5807</td> <td>    0.676</td> <td>   -5.299</td> <td> 0.000</td> <td>   -4.905</td> <td>   -2.256</td>\n",
       "</tr>\n",
       "<tr>\n",
       "  <th>arpu_6</th>             <td>    6.2838</td> <td>    3.810</td> <td>    1.649</td> <td> 0.099</td> <td>   -1.184</td> <td>   13.752</td>\n",
       "</tr>\n",
       "<tr>\n",
       "  <th>arpu_7</th>             <td>   20.0186</td> <td>    4.370</td> <td>    4.581</td> <td> 0.000</td> <td>   11.453</td> <td>   28.584</td>\n",
       "</tr>\n",
       "<tr>\n",
       "  <th>arpu_8</th>             <td>   43.9185</td> <td>    4.950</td> <td>    8.872</td> <td> 0.000</td> <td>   34.216</td> <td>   53.620</td>\n",
       "</tr>\n",
       "<tr>\n",
       "  <th>onnet_mou_6</th>        <td>  -93.0578</td> <td>   35.120</td> <td>   -2.650</td> <td> 0.008</td> <td> -161.891</td> <td>  -24.225</td>\n",
       "</tr>\n",
       "<tr>\n",
       "  <th>onnet_mou_7</th>        <td>  -11.2748</td> <td>   31.337</td> <td>   -0.360</td> <td> 0.719</td> <td>  -72.694</td> <td>   50.145</td>\n",
       "</tr>\n",
       "<tr>\n",
       "  <th>onnet_mou_8</th>        <td>  -39.6196</td> <td>   46.166</td> <td>   -0.858</td> <td> 0.391</td> <td> -130.103</td> <td>   50.864</td>\n",
       "</tr>\n",
       "<tr>\n",
       "  <th>offnet_mou_6</th>       <td>  -95.3896</td> <td>   39.456</td> <td>   -2.418</td> <td> 0.016</td> <td> -172.721</td> <td>  -18.058</td>\n",
       "</tr>\n",
       "<tr>\n",
       "  <th>offnet_mou_7</th>       <td>  -15.6876</td> <td>   25.032</td> <td>   -0.627</td> <td> 0.531</td> <td>  -64.749</td> <td>   33.373</td>\n",
       "</tr>\n",
       "<tr>\n",
       "  <th>offnet_mou_8</th>       <td> -101.2218</td> <td>   58.681</td> <td>   -1.725</td> <td> 0.085</td> <td> -216.234</td> <td>   13.791</td>\n",
       "</tr>\n",
       "<tr>\n",
       "  <th>roam_ic_mou_6</th>      <td>    2.4087</td> <td>    1.208</td> <td>    1.994</td> <td> 0.046</td> <td>    0.041</td> <td>    4.777</td>\n",
       "</tr>\n",
       "<tr>\n",
       "  <th>roam_ic_mou_7</th>      <td>    1.8879</td> <td>    1.303</td> <td>    1.449</td> <td> 0.147</td> <td>   -0.667</td> <td>    4.442</td>\n",
       "</tr>\n",
       "<tr>\n",
       "  <th>roam_ic_mou_8</th>      <td>   -2.3356</td> <td>    1.345</td> <td>   -1.736</td> <td> 0.083</td> <td>   -4.972</td> <td>    0.301</td>\n",
       "</tr>\n",
       "<tr>\n",
       "  <th>roam_og_mou_6</th>      <td>   46.3432</td> <td>   17.941</td> <td>    2.583</td> <td> 0.010</td> <td>   11.180</td> <td>   81.507</td>\n",
       "</tr>\n",
       "<tr>\n",
       "  <th>roam_og_mou_7</th>      <td>    8.1326</td> <td>   10.578</td> <td>    0.769</td> <td> 0.442</td> <td>  -12.599</td> <td>   28.864</td>\n",
       "</tr>\n",
       "<tr>\n",
       "  <th>roam_og_mou_8</th>      <td>   37.3555</td> <td>   22.618</td> <td>    1.652</td> <td> 0.099</td> <td>   -6.974</td> <td>   81.685</td>\n",
       "</tr>\n",
       "<tr>\n",
       "  <th>loc_og_t2t_mou_6</th>   <td>-9735.6111</td> <td> 2.51e+04</td> <td>   -0.388</td> <td> 0.698</td> <td>-5.89e+04</td> <td> 3.94e+04</td>\n",
       "</tr>\n",
       "<tr>\n",
       "  <th>loc_og_t2t_mou_7</th>   <td>-1.403e+04</td> <td> 2.84e+04</td> <td>   -0.493</td> <td> 0.622</td> <td>-6.98e+04</td> <td> 4.17e+04</td>\n",
       "</tr>\n",
       "<tr>\n",
       "  <th>loc_og_t2t_mou_8</th>   <td> 1.846e+05</td> <td> 4.38e+04</td> <td>    4.213</td> <td> 0.000</td> <td> 9.87e+04</td> <td> 2.71e+05</td>\n",
       "</tr>\n",
       "<tr>\n",
       "  <th>loc_og_t2m_mou_6</th>   <td>-7117.3581</td> <td> 1.83e+04</td> <td>   -0.389</td> <td> 0.697</td> <td> -4.3e+04</td> <td> 2.88e+04</td>\n",
       "</tr>\n",
       "<tr>\n",
       "  <th>loc_og_t2m_mou_7</th>   <td>-8639.1911</td> <td> 1.75e+04</td> <td>   -0.493</td> <td> 0.622</td> <td> -4.3e+04</td> <td> 2.57e+04</td>\n",
       "</tr>\n",
       "<tr>\n",
       "  <th>loc_og_t2m_mou_8</th>   <td> 8.522e+04</td> <td> 2.02e+04</td> <td>    4.214</td> <td> 0.000</td> <td> 4.56e+04</td> <td> 1.25e+05</td>\n",
       "</tr>\n",
       "<tr>\n",
       "  <th>loc_og_t2f_mou_6</th>   <td> -941.1803</td> <td> 2407.256</td> <td>   -0.391</td> <td> 0.696</td> <td>-5659.316</td> <td> 3776.956</td>\n",
       "</tr>\n",
       "<tr>\n",
       "  <th>loc_og_t2f_mou_7</th>   <td>-1543.6780</td> <td> 3133.532</td> <td>   -0.493</td> <td> 0.622</td> <td>-7685.287</td> <td> 4597.931</td>\n",
       "</tr>\n",
       "<tr>\n",
       "  <th>loc_og_t2f_mou_8</th>   <td> 1.011e+04</td> <td> 2397.991</td> <td>    4.215</td> <td> 0.000</td> <td> 5407.597</td> <td> 1.48e+04</td>\n",
       "</tr>\n",
       "<tr>\n",
       "  <th>loc_og_t2c_mou_6</th>   <td>   -8.3885</td> <td>    1.489</td> <td>   -5.634</td> <td> 0.000</td> <td>  -11.306</td> <td>   -5.470</td>\n",
       "</tr>\n",
       "<tr>\n",
       "  <th>loc_og_t2c_mou_7</th>   <td>   -5.0797</td> <td>    2.575</td> <td>   -1.973</td> <td> 0.049</td> <td>  -10.127</td> <td>   -0.033</td>\n",
       "</tr>\n",
       "<tr>\n",
       "  <th>loc_og_t2c_mou_8</th>   <td>    7.9652</td> <td>    1.565</td> <td>    5.090</td> <td> 0.000</td> <td>    4.898</td> <td>   11.033</td>\n",
       "</tr>\n",
       "<tr>\n",
       "  <th>loc_og_mou_6</th>       <td> 1.727e+04</td> <td> 4.72e+04</td> <td>    0.366</td> <td> 0.714</td> <td>-7.52e+04</td> <td>  1.1e+05</td>\n",
       "</tr>\n",
       "<tr>\n",
       "  <th>loc_og_mou_7</th>       <td>-1.185e+04</td> <td> 3.48e+04</td> <td>   -0.340</td> <td> 0.734</td> <td>-8.01e+04</td> <td> 5.64e+04</td>\n",
       "</tr>\n",
       "<tr>\n",
       "  <th>loc_og_mou_8</th>       <td>-2.393e+05</td> <td> 5.33e+04</td> <td>   -4.489</td> <td> 0.000</td> <td>-3.44e+05</td> <td>-1.35e+05</td>\n",
       "</tr>\n",
       "<tr>\n",
       "  <th>std_og_t2t_mou_6</th>   <td>-1.169e+05</td> <td> 3.49e+04</td> <td>   -3.348</td> <td> 0.001</td> <td>-1.85e+05</td> <td>-4.85e+04</td>\n",
       "</tr>\n",
       "<tr>\n",
       "  <th>std_og_t2t_mou_7</th>   <td>-4.735e+04</td> <td>    4e+04</td> <td>   -1.185</td> <td> 0.236</td> <td>-1.26e+05</td> <td>  3.1e+04</td>\n",
       "</tr>\n",
       "<tr>\n",
       "  <th>std_og_t2t_mou_8</th>   <td>  1.75e+05</td> <td> 4.19e+04</td> <td>    4.179</td> <td> 0.000</td> <td> 9.29e+04</td> <td> 2.57e+05</td>\n",
       "</tr>\n",
       "<tr>\n",
       "  <th>std_og_t2m_mou_6</th>   <td>-1.319e+05</td> <td> 3.94e+04</td> <td>   -3.349</td> <td> 0.001</td> <td>-2.09e+05</td> <td>-5.47e+04</td>\n",
       "</tr>\n",
       "<tr>\n",
       "  <th>std_og_t2m_mou_7</th>   <td>-3.855e+04</td> <td> 3.25e+04</td> <td>   -1.185</td> <td> 0.236</td> <td>-1.02e+05</td> <td> 2.52e+04</td>\n",
       "</tr>\n",
       "<tr>\n",
       "  <th>std_og_t2m_mou_8</th>   <td> 3.047e+05</td> <td> 7.29e+04</td> <td>    4.180</td> <td> 0.000</td> <td> 1.62e+05</td> <td> 4.48e+05</td>\n",
       "</tr>\n",
       "<tr>\n",
       "  <th>std_og_t2f_mou_6</th>   <td>-5363.0237</td> <td> 1601.776</td> <td>   -3.348</td> <td> 0.001</td> <td>-8502.447</td> <td>-2223.601</td>\n",
       "</tr>\n",
       "<tr>\n",
       "  <th>std_og_t2f_mou_7</th>   <td>-2715.6058</td> <td> 2288.772</td> <td>   -1.186</td> <td> 0.235</td> <td>-7201.516</td> <td> 1770.304</td>\n",
       "</tr>\n",
       "<tr>\n",
       "  <th>std_og_t2f_mou_8</th>   <td> 7726.0927</td> <td> 1850.896</td> <td>    4.174</td> <td> 0.000</td> <td> 4098.403</td> <td> 1.14e+04</td>\n",
       "</tr>\n",
       "<tr>\n",
       "  <th>std_og_mou_6</th>       <td> 1.347e+05</td> <td> 4.32e+04</td> <td>    3.116</td> <td> 0.002</td> <td>    5e+04</td> <td> 2.19e+05</td>\n",
       "</tr>\n",
       "<tr>\n",
       "  <th>std_og_mou_7</th>       <td> 1.943e+04</td> <td> 4.46e+04</td> <td>    0.436</td> <td> 0.663</td> <td> -6.8e+04</td> <td> 1.07e+05</td>\n",
       "</tr>\n",
       "<tr>\n",
       "  <th>std_og_mou_8</th>       <td>-3.682e+05</td> <td> 8.09e+04</td> <td>   -4.552</td> <td> 0.000</td> <td>-5.27e+05</td> <td> -2.1e+05</td>\n",
       "</tr>\n",
       "<tr>\n",
       "  <th>isd_og_mou_6</th>       <td>  622.7480</td> <td> 1.69e+04</td> <td>    0.037</td> <td> 0.971</td> <td>-3.24e+04</td> <td> 3.37e+04</td>\n",
       "</tr>\n",
       "<tr>\n",
       "  <th>isd_og_mou_7</th>       <td> -1.89e+04</td> <td> 1.76e+04</td> <td>   -1.072</td> <td> 0.284</td> <td>-5.35e+04</td> <td> 1.57e+04</td>\n",
       "</tr>\n",
       "<tr>\n",
       "  <th>isd_og_mou_8</th>       <td>-2.558e+04</td> <td> 1.87e+04</td> <td>   -1.366</td> <td> 0.172</td> <td>-6.23e+04</td> <td> 1.11e+04</td>\n",
       "</tr>\n",
       "<tr>\n",
       "  <th>spl_og_mou_6</th>       <td>  112.9176</td> <td> 2924.977</td> <td>    0.039</td> <td> 0.969</td> <td>-5619.932</td> <td> 5845.767</td>\n",
       "</tr>\n",
       "<tr>\n",
       "  <th>spl_og_mou_7</th>       <td>-4359.4957</td> <td> 4067.290</td> <td>   -1.072</td> <td> 0.284</td> <td>-1.23e+04</td> <td> 3612.246</td>\n",
       "</tr>\n",
       "<tr>\n",
       "  <th>spl_og_mou_8</th>       <td>-3531.6187</td> <td> 2582.900</td> <td>   -1.367</td> <td> 0.172</td> <td>-8594.009</td> <td> 1530.772</td>\n",
       "</tr>\n",
       "<tr>\n",
       "  <th>og_others_6</th>        <td>   28.0416</td> <td> 1744.887</td> <td>    0.016</td> <td> 0.987</td> <td>-3391.875</td> <td> 3447.958</td>\n",
       "</tr>\n",
       "<tr>\n",
       "  <th>og_others_7</th>        <td> -252.7095</td> <td>  216.059</td> <td>   -1.170</td> <td> 0.242</td> <td> -676.177</td> <td>  170.758</td>\n",
       "</tr>\n",
       "<tr>\n",
       "  <th>og_others_8</th>        <td>-2082.3256</td> <td> 1316.583</td> <td>   -1.582</td> <td> 0.114</td> <td>-4662.782</td> <td>  498.131</td>\n",
       "</tr>\n",
       "<tr>\n",
       "  <th>total_og_mou_6</th>     <td>-1026.4597</td> <td> 3.05e+04</td> <td>   -0.034</td> <td> 0.973</td> <td>-6.08e+04</td> <td> 5.88e+04</td>\n",
       "</tr>\n",
       "<tr>\n",
       "  <th>total_og_mou_7</th>     <td> 2.851e+04</td> <td> 2.66e+04</td> <td>    1.071</td> <td> 0.284</td> <td>-2.37e+04</td> <td> 8.07e+04</td>\n",
       "</tr>\n",
       "<tr>\n",
       "  <th>total_og_mou_8</th>     <td> 6.326e+04</td> <td> 4.63e+04</td> <td>    1.367</td> <td> 0.172</td> <td>-2.74e+04</td> <td> 1.54e+05</td>\n",
       "</tr>\n",
       "<tr>\n",
       "  <th>loc_ic_t2t_mou_6</th>   <td>-1.113e+05</td> <td> 1.61e+04</td> <td>   -6.926</td> <td> 0.000</td> <td>-1.43e+05</td> <td>-7.98e+04</td>\n",
       "</tr>\n",
       "<tr>\n",
       "  <th>loc_ic_t2t_mou_7</th>   <td> 7.154e+04</td> <td> 2.12e+04</td> <td>    3.376</td> <td> 0.001</td> <td>    3e+04</td> <td> 1.13e+05</td>\n",
       "</tr>\n",
       "<tr>\n",
       "  <th>loc_ic_t2t_mou_8</th>   <td> 1.433e+05</td> <td>  1.5e+04</td> <td>    9.526</td> <td> 0.000</td> <td> 1.14e+05</td> <td> 1.73e+05</td>\n",
       "</tr>\n",
       "<tr>\n",
       "  <th>loc_ic_t2m_mou_6</th>   <td>-1.135e+05</td> <td> 1.64e+04</td> <td>   -6.926</td> <td> 0.000</td> <td>-1.46e+05</td> <td>-8.14e+04</td>\n",
       "</tr>\n",
       "<tr>\n",
       "  <th>loc_ic_t2m_mou_7</th>   <td> 5.046e+04</td> <td> 1.49e+04</td> <td>    3.376</td> <td> 0.001</td> <td> 2.12e+04</td> <td> 7.98e+04</td>\n",
       "</tr>\n",
       "<tr>\n",
       "  <th>loc_ic_t2m_mou_8</th>   <td> 1.675e+05</td> <td> 1.76e+04</td> <td>    9.526</td> <td> 0.000</td> <td> 1.33e+05</td> <td> 2.02e+05</td>\n",
       "</tr>\n",
       "<tr>\n",
       "  <th>loc_ic_t2f_mou_6</th>   <td>-3.504e+04</td> <td> 5057.929</td> <td>   -6.928</td> <td> 0.000</td> <td> -4.5e+04</td> <td>-2.51e+04</td>\n",
       "</tr>\n",
       "<tr>\n",
       "  <th>loc_ic_t2f_mou_7</th>   <td> 2.486e+04</td> <td> 7360.334</td> <td>    3.377</td> <td> 0.001</td> <td> 1.04e+04</td> <td> 3.93e+04</td>\n",
       "</tr>\n",
       "<tr>\n",
       "  <th>loc_ic_t2f_mou_8</th>   <td> 5.266e+04</td> <td> 5528.784</td> <td>    9.524</td> <td> 0.000</td> <td> 4.18e+04</td> <td> 6.35e+04</td>\n",
       "</tr>\n",
       "<tr>\n",
       "  <th>loc_ic_mou_6</th>       <td>  1.39e+05</td> <td> 2.78e+04</td> <td>    5.000</td> <td> 0.000</td> <td> 8.45e+04</td> <td> 1.93e+05</td>\n",
       "</tr>\n",
       "<tr>\n",
       "  <th>loc_ic_mou_7</th>       <td>-5.607e+04</td> <td> 2.48e+04</td> <td>   -2.263</td> <td> 0.024</td> <td>-1.05e+05</td> <td>-7502.270</td>\n",
       "</tr>\n",
       "<tr>\n",
       "  <th>loc_ic_mou_8</th>       <td> -1.17e+05</td> <td> 2.05e+04</td> <td>   -5.708</td> <td> 0.000</td> <td>-1.57e+05</td> <td>-7.68e+04</td>\n",
       "</tr>\n",
       "<tr>\n",
       "  <th>std_ic_t2t_mou_6</th>   <td>-2.675e+04</td> <td> 1.42e+04</td> <td>   -1.890</td> <td> 0.059</td> <td>-5.45e+04</td> <td>  992.401</td>\n",
       "</tr>\n",
       "<tr>\n",
       "  <th>std_ic_t2t_mou_7</th>   <td> -5.03e+04</td> <td> 2.03e+04</td> <td>   -2.478</td> <td> 0.013</td> <td>-9.01e+04</td> <td>-1.05e+04</td>\n",
       "</tr>\n",
       "<tr>\n",
       "  <th>std_ic_t2t_mou_8</th>   <td> 2.945e+04</td> <td> 1.78e+04</td> <td>    1.654</td> <td> 0.098</td> <td>-5443.149</td> <td> 6.43e+04</td>\n",
       "</tr>\n",
       "<tr>\n",
       "  <th>std_ic_t2m_mou_6</th>   <td>-3.182e+04</td> <td> 1.68e+04</td> <td>   -1.890</td> <td> 0.059</td> <td>-6.48e+04</td> <td> 1181.440</td>\n",
       "</tr>\n",
       "<tr>\n",
       "  <th>std_ic_t2m_mou_7</th>   <td>-3.123e+04</td> <td> 1.26e+04</td> <td>   -2.479</td> <td> 0.013</td> <td>-5.59e+04</td> <td>-6536.142</td>\n",
       "</tr>\n",
       "<tr>\n",
       "  <th>std_ic_t2m_mou_8</th>   <td> 2.478e+04</td> <td>  1.5e+04</td> <td>    1.655</td> <td> 0.098</td> <td>-4562.812</td> <td> 5.41e+04</td>\n",
       "</tr>\n",
       "<tr>\n",
       "  <th>std_ic_t2f_mou_6</th>   <td>-1.191e+04</td> <td> 6294.834</td> <td>   -1.891</td> <td> 0.059</td> <td>-2.42e+04</td> <td>  432.081</td>\n",
       "</tr>\n",
       "<tr>\n",
       "  <th>std_ic_t2f_mou_7</th>   <td>-1.349e+04</td> <td> 5445.494</td> <td>   -2.477</td> <td> 0.013</td> <td>-2.42e+04</td> <td>-2813.004</td>\n",
       "</tr>\n",
       "<tr>\n",
       "  <th>std_ic_t2f_mou_8</th>   <td>   1.2e+04</td> <td> 7253.391</td> <td>    1.654</td> <td> 0.098</td> <td>-2218.489</td> <td> 2.62e+04</td>\n",
       "</tr>\n",
       "<tr>\n",
       "  <th>std_ic_mou_6</th>       <td> 7000.7172</td> <td> 1.76e+04</td> <td>    0.398</td> <td> 0.691</td> <td>-2.75e+04</td> <td> 4.15e+04</td>\n",
       "</tr>\n",
       "<tr>\n",
       "  <th>std_ic_mou_7</th>       <td> 6.804e+04</td> <td> 2.19e+04</td> <td>    3.101</td> <td> 0.002</td> <td>  2.5e+04</td> <td> 1.11e+05</td>\n",
       "</tr>\n",
       "<tr>\n",
       "  <th>std_ic_mou_8</th>       <td>  2.05e+04</td> <td> 2.07e+04</td> <td>    0.990</td> <td> 0.322</td> <td>-2.01e+04</td> <td> 6.11e+04</td>\n",
       "</tr>\n",
       "<tr>\n",
       "  <th>total_ic_mou_6</th>     <td>   5.3e+04</td> <td> 1.77e+04</td> <td>    2.989</td> <td> 0.003</td> <td> 1.83e+04</td> <td> 8.77e+04</td>\n",
       "</tr>\n",
       "<tr>\n",
       "  <th>total_ic_mou_7</th>     <td>-2.871e+04</td> <td> 1.86e+04</td> <td>   -1.547</td> <td> 0.122</td> <td>-6.51e+04</td> <td> 7670.889</td>\n",
       "</tr>\n",
       "<tr>\n",
       "  <th>total_ic_mou_8</th>     <td>-8.515e+04</td> <td> 1.53e+04</td> <td>   -5.551</td> <td> 0.000</td> <td>-1.15e+05</td> <td>-5.51e+04</td>\n",
       "</tr>\n",
       "<tr>\n",
       "  <th>spl_ic_mou_6</th>       <td> -126.0775</td> <td>   45.876</td> <td>   -2.748</td> <td> 0.006</td> <td> -215.994</td> <td>  -36.161</td>\n",
       "</tr>\n",
       "<tr>\n",
       "  <th>spl_ic_mou_7</th>       <td>   44.5610</td> <td>   33.806</td> <td>    1.318</td> <td> 0.187</td> <td>  -21.697</td> <td>  110.819</td>\n",
       "</tr>\n",
       "<tr>\n",
       "  <th>spl_ic_mou_8</th>       <td>   10.8414</td> <td>    3.273</td> <td>    3.313</td> <td> 0.001</td> <td>    4.427</td> <td>   17.256</td>\n",
       "</tr>\n",
       "<tr>\n",
       "  <th>isd_ic_mou_6</th>       <td>-4.664e+04</td> <td> 1.56e+04</td> <td>   -2.989</td> <td> 0.003</td> <td>-7.72e+04</td> <td>-1.61e+04</td>\n",
       "</tr>\n",
       "<tr>\n",
       "  <th>isd_ic_mou_7</th>       <td>  1.74e+04</td> <td> 1.13e+04</td> <td>    1.546</td> <td> 0.122</td> <td>-4655.054</td> <td> 3.95e+04</td>\n",
       "</tr>\n",
       "<tr>\n",
       "  <th>isd_ic_mou_8</th>       <td> 3.364e+04</td> <td> 6059.319</td> <td>    5.552</td> <td> 0.000</td> <td> 2.18e+04</td> <td> 4.55e+04</td>\n",
       "</tr>\n",
       "<tr>\n",
       "  <th>ic_others_6</th>        <td>-9254.7888</td> <td> 3089.099</td> <td>   -2.996</td> <td> 0.003</td> <td>-1.53e+04</td> <td>-3200.266</td>\n",
       "</tr>\n",
       "<tr>\n",
       "  <th>ic_others_7</th>        <td> 5770.9814</td> <td> 3730.811</td> <td>    1.547</td> <td> 0.122</td> <td>-1541.274</td> <td> 1.31e+04</td>\n",
       "</tr>\n",
       "<tr>\n",
       "  <th>ic_others_8</th>        <td> 1.699e+04</td> <td> 3058.848</td> <td>    5.554</td> <td> 0.000</td> <td>  1.1e+04</td> <td>  2.3e+04</td>\n",
       "</tr>\n",
       "<tr>\n",
       "  <th>total_rech_num_6</th>   <td>   -0.8206</td> <td>    0.729</td> <td>   -1.125</td> <td> 0.261</td> <td>   -2.250</td> <td>    0.609</td>\n",
       "</tr>\n",
       "<tr>\n",
       "  <th>total_rech_num_7</th>   <td>    4.6883</td> <td>    0.738</td> <td>    6.349</td> <td> 0.000</td> <td>    3.241</td> <td>    6.136</td>\n",
       "</tr>\n",
       "<tr>\n",
       "  <th>total_rech_num_8</th>   <td>   -7.6085</td> <td>    0.820</td> <td>   -9.275</td> <td> 0.000</td> <td>   -9.216</td> <td>   -6.001</td>\n",
       "</tr>\n",
       "<tr>\n",
       "  <th>total_rech_amt_6</th>   <td>   -1.4507</td> <td>    3.332</td> <td>   -0.435</td> <td> 0.663</td> <td>   -7.980</td> <td>    5.079</td>\n",
       "</tr>\n",
       "<tr>\n",
       "  <th>total_rech_amt_7</th>   <td>  -16.8373</td> <td>    3.893</td> <td>   -4.325</td> <td> 0.000</td> <td>  -24.467</td> <td>   -9.208</td>\n",
       "</tr>\n",
       "<tr>\n",
       "  <th>total_rech_amt_8</th>   <td>  -38.9863</td> <td>    4.540</td> <td>   -8.587</td> <td> 0.000</td> <td>  -47.885</td> <td>  -30.088</td>\n",
       "</tr>\n",
       "<tr>\n",
       "  <th>max_rech_amt_6</th>     <td>   -3.0645</td> <td>    0.991</td> <td>   -3.092</td> <td> 0.002</td> <td>   -5.007</td> <td>   -1.122</td>\n",
       "</tr>\n",
       "<tr>\n",
       "  <th>max_rech_amt_7</th>     <td>   -0.1626</td> <td>    0.815</td> <td>   -0.200</td> <td> 0.842</td> <td>   -1.759</td> <td>    1.434</td>\n",
       "</tr>\n",
       "<tr>\n",
       "  <th>max_rech_amt_8</th>     <td>   11.5942</td> <td>    1.270</td> <td>    9.130</td> <td> 0.000</td> <td>    9.105</td> <td>   14.083</td>\n",
       "</tr>\n",
       "<tr>\n",
       "  <th>last_day_rch_amt_6</th> <td>   -0.0475</td> <td>    0.917</td> <td>   -0.052</td> <td> 0.959</td> <td>   -1.845</td> <td>    1.750</td>\n",
       "</tr>\n",
       "<tr>\n",
       "  <th>last_day_rch_amt_7</th> <td>    1.1940</td> <td>    0.687</td> <td>    1.739</td> <td> 0.082</td> <td>   -0.152</td> <td>    2.540</td>\n",
       "</tr>\n",
       "<tr>\n",
       "  <th>last_day_rch_amt_8</th> <td>  -16.2277</td> <td>    1.201</td> <td>  -13.512</td> <td> 0.000</td> <td>  -18.582</td> <td>  -13.874</td>\n",
       "</tr>\n",
       "<tr>\n",
       "  <th>total_rech_data_6</th>  <td>    1.6234</td> <td>    0.441</td> <td>    3.679</td> <td> 0.000</td> <td>    0.759</td> <td>    2.488</td>\n",
       "</tr>\n",
       "<tr>\n",
       "  <th>total_rech_data_7</th>  <td>    0.0076</td> <td>    0.555</td> <td>    0.014</td> <td> 0.989</td> <td>   -1.081</td> <td>    1.096</td>\n",
       "</tr>\n",
       "<tr>\n",
       "  <th>total_rech_data_8</th>  <td>   -5.0136</td> <td>    1.013</td> <td>   -4.949</td> <td> 0.000</td> <td>   -6.999</td> <td>   -3.028</td>\n",
       "</tr>\n",
       "<tr>\n",
       "  <th>max_rech_data_6</th>    <td>    5.0026</td> <td>    0.797</td> <td>    6.274</td> <td> 0.000</td> <td>    3.440</td> <td>    6.565</td>\n",
       "</tr>\n",
       "<tr>\n",
       "  <th>max_rech_data_7</th>    <td>   -1.1608</td> <td>    0.826</td> <td>   -1.405</td> <td> 0.160</td> <td>   -2.781</td> <td>    0.459</td>\n",
       "</tr>\n",
       "<tr>\n",
       "  <th>max_rech_data_8</th>    <td>   -7.2131</td> <td>    1.004</td> <td>   -7.182</td> <td> 0.000</td> <td>   -9.181</td> <td>   -5.245</td>\n",
       "</tr>\n",
       "<tr>\n",
       "  <th>av_rech_amt_data_6</th> <td>  -13.7458</td> <td>    2.492</td> <td>   -5.516</td> <td> 0.000</td> <td>  -18.630</td> <td>   -8.862</td>\n",
       "</tr>\n",
       "<tr>\n",
       "  <th>av_rech_amt_data_7</th> <td>    1.9358</td> <td>    1.764</td> <td>    1.097</td> <td> 0.272</td> <td>   -1.522</td> <td>    5.393</td>\n",
       "</tr>\n",
       "<tr>\n",
       "  <th>av_rech_amt_data_8</th> <td>    1.1738</td> <td>    2.434</td> <td>    0.482</td> <td> 0.630</td> <td>   -3.596</td> <td>    5.944</td>\n",
       "</tr>\n",
       "<tr>\n",
       "  <th>vol_2g_mb_6</th>        <td>   -0.5578</td> <td>    0.800</td> <td>   -0.697</td> <td> 0.486</td> <td>   -2.126</td> <td>    1.010</td>\n",
       "</tr>\n",
       "<tr>\n",
       "  <th>vol_2g_mb_7</th>        <td>    3.1009</td> <td>    0.951</td> <td>    3.261</td> <td> 0.001</td> <td>    1.237</td> <td>    4.965</td>\n",
       "</tr>\n",
       "<tr>\n",
       "  <th>vol_2g_mb_8</th>        <td>   -5.6402</td> <td>    1.218</td> <td>   -4.630</td> <td> 0.000</td> <td>   -8.028</td> <td>   -3.252</td>\n",
       "</tr>\n",
       "<tr>\n",
       "  <th>vol_3g_mb_6</th>        <td>  -11.1621</td> <td>    3.074</td> <td>   -3.631</td> <td> 0.000</td> <td>  -17.187</td> <td>   -5.137</td>\n",
       "</tr>\n",
       "<tr>\n",
       "  <th>vol_3g_mb_7</th>        <td>    6.4136</td> <td>    1.897</td> <td>    3.381</td> <td> 0.001</td> <td>    2.695</td> <td>   10.132</td>\n",
       "</tr>\n",
       "<tr>\n",
       "  <th>vol_3g_mb_8</th>        <td>   -4.5940</td> <td>    2.459</td> <td>   -1.868</td> <td> 0.062</td> <td>   -9.414</td> <td>    0.226</td>\n",
       "</tr>\n",
       "<tr>\n",
       "  <th>monthly_2g_6</th>       <td>   -0.3169</td> <td>    0.324</td> <td>   -0.979</td> <td> 0.327</td> <td>   -0.951</td> <td>    0.317</td>\n",
       "</tr>\n",
       "<tr>\n",
       "  <th>monthly_2g_7</th>       <td>   -0.9263</td> <td>    0.422</td> <td>   -2.194</td> <td> 0.028</td> <td>   -1.754</td> <td>   -0.099</td>\n",
       "</tr>\n",
       "<tr>\n",
       "  <th>monthly_2g_8</th>       <td>   -4.4885</td> <td>    0.623</td> <td>   -7.200</td> <td> 0.000</td> <td>   -5.710</td> <td>   -3.267</td>\n",
       "</tr>\n",
       "<tr>\n",
       "  <th>sachet_2g_6</th>        <td>    0.1894</td> <td>    0.489</td> <td>    0.387</td> <td> 0.699</td> <td>   -0.769</td> <td>    1.148</td>\n",
       "</tr>\n",
       "<tr>\n",
       "  <th>sachet_2g_7</th>        <td>   -0.6640</td> <td>    0.558</td> <td>   -1.189</td> <td> 0.234</td> <td>   -1.758</td> <td>    0.430</td>\n",
       "</tr>\n",
       "<tr>\n",
       "  <th>sachet_2g_8</th>        <td>   -2.4208</td> <td>    0.685</td> <td>   -3.536</td> <td> 0.000</td> <td>   -3.762</td> <td>   -1.079</td>\n",
       "</tr>\n",
       "<tr>\n",
       "  <th>monthly_3g_6</th>       <td>    2.3194</td> <td>    0.787</td> <td>    2.946</td> <td> 0.003</td> <td>    0.776</td> <td>    3.863</td>\n",
       "</tr>\n",
       "<tr>\n",
       "  <th>monthly_3g_7</th>       <td>   -2.5908</td> <td>    1.214</td> <td>   -2.133</td> <td> 0.033</td> <td>   -4.971</td> <td>   -0.211</td>\n",
       "</tr>\n",
       "<tr>\n",
       "  <th>monthly_3g_8</th>       <td>   -4.4495</td> <td>    1.773</td> <td>   -2.510</td> <td> 0.012</td> <td>   -7.924</td> <td>   -0.975</td>\n",
       "</tr>\n",
       "<tr>\n",
       "  <th>sachet_3g_6</th>        <td>    2.4642</td> <td>    0.885</td> <td>    2.786</td> <td> 0.005</td> <td>    0.731</td> <td>    4.198</td>\n",
       "</tr>\n",
       "<tr>\n",
       "  <th>sachet_3g_7</th>        <td>    2.2179</td> <td>    0.967</td> <td>    2.293</td> <td> 0.022</td> <td>    0.322</td> <td>    4.114</td>\n",
       "</tr>\n",
       "<tr>\n",
       "  <th>sachet_3g_8</th>        <td>   -3.0458</td> <td>    1.532</td> <td>   -1.988</td> <td> 0.047</td> <td>   -6.049</td> <td>   -0.042</td>\n",
       "</tr>\n",
       "<tr>\n",
       "  <th>aon</th>                <td>   -0.4904</td> <td>    0.106</td> <td>   -4.616</td> <td> 0.000</td> <td>   -0.699</td> <td>   -0.282</td>\n",
       "</tr>\n",
       "<tr>\n",
       "  <th>aug_vbc_3g</th>         <td>   -4.8383</td> <td>    1.760</td> <td>   -2.748</td> <td> 0.006</td> <td>   -8.289</td> <td>   -1.388</td>\n",
       "</tr>\n",
       "<tr>\n",
       "  <th>jul_vbc_3g</th>         <td>   -1.8902</td> <td>    1.011</td> <td>   -1.870</td> <td> 0.062</td> <td>   -3.872</td> <td>    0.091</td>\n",
       "</tr>\n",
       "<tr>\n",
       "  <th>jun_vbc_3g</th>         <td>    3.1095</td> <td>    0.783</td> <td>    3.971</td> <td> 0.000</td> <td>    1.575</td> <td>    4.644</td>\n",
       "</tr>\n",
       "</table>"
      ],
      "text/plain": [
       "<class 'statsmodels.iolib.summary.Summary'>\n",
       "\"\"\"\n",
       "                 Generalized Linear Model Regression Results                  \n",
       "==============================================================================\n",
       "Dep. Variable:      churn_probability   No. Observations:                27020\n",
       "Model:                            GLM   Df Residuals:                    26889\n",
       "Model Family:                Binomial   Df Model:                          130\n",
       "Link Function:                  logit   Scale:                          1.0000\n",
       "Method:                          IRLS   Log-Likelihood:                -8753.5\n",
       "Date:                Sat, 17 Sep 2022   Deviance:                       17507.\n",
       "Time:                        09:58:04   Pearson chi2:                 1.00e+05\n",
       "No. Iterations:                    11                                         \n",
       "Covariance Type:            nonrobust                                         \n",
       "======================================================================================\n",
       "                         coef    std err          z      P>|z|      [0.025      0.975]\n",
       "--------------------------------------------------------------------------------------\n",
       "const                 -3.5807      0.676     -5.299      0.000      -4.905      -2.256\n",
       "arpu_6                 6.2838      3.810      1.649      0.099      -1.184      13.752\n",
       "arpu_7                20.0186      4.370      4.581      0.000      11.453      28.584\n",
       "arpu_8                43.9185      4.950      8.872      0.000      34.216      53.620\n",
       "onnet_mou_6          -93.0578     35.120     -2.650      0.008    -161.891     -24.225\n",
       "onnet_mou_7          -11.2748     31.337     -0.360      0.719     -72.694      50.145\n",
       "onnet_mou_8          -39.6196     46.166     -0.858      0.391    -130.103      50.864\n",
       "offnet_mou_6         -95.3896     39.456     -2.418      0.016    -172.721     -18.058\n",
       "offnet_mou_7         -15.6876     25.032     -0.627      0.531     -64.749      33.373\n",
       "offnet_mou_8        -101.2218     58.681     -1.725      0.085    -216.234      13.791\n",
       "roam_ic_mou_6          2.4087      1.208      1.994      0.046       0.041       4.777\n",
       "roam_ic_mou_7          1.8879      1.303      1.449      0.147      -0.667       4.442\n",
       "roam_ic_mou_8         -2.3356      1.345     -1.736      0.083      -4.972       0.301\n",
       "roam_og_mou_6         46.3432     17.941      2.583      0.010      11.180      81.507\n",
       "roam_og_mou_7          8.1326     10.578      0.769      0.442     -12.599      28.864\n",
       "roam_og_mou_8         37.3555     22.618      1.652      0.099      -6.974      81.685\n",
       "loc_og_t2t_mou_6   -9735.6111   2.51e+04     -0.388      0.698   -5.89e+04    3.94e+04\n",
       "loc_og_t2t_mou_7   -1.403e+04   2.84e+04     -0.493      0.622   -6.98e+04    4.17e+04\n",
       "loc_og_t2t_mou_8    1.846e+05   4.38e+04      4.213      0.000    9.87e+04    2.71e+05\n",
       "loc_og_t2m_mou_6   -7117.3581   1.83e+04     -0.389      0.697    -4.3e+04    2.88e+04\n",
       "loc_og_t2m_mou_7   -8639.1911   1.75e+04     -0.493      0.622    -4.3e+04    2.57e+04\n",
       "loc_og_t2m_mou_8    8.522e+04   2.02e+04      4.214      0.000    4.56e+04    1.25e+05\n",
       "loc_og_t2f_mou_6    -941.1803   2407.256     -0.391      0.696   -5659.316    3776.956\n",
       "loc_og_t2f_mou_7   -1543.6780   3133.532     -0.493      0.622   -7685.287    4597.931\n",
       "loc_og_t2f_mou_8    1.011e+04   2397.991      4.215      0.000    5407.597    1.48e+04\n",
       "loc_og_t2c_mou_6      -8.3885      1.489     -5.634      0.000     -11.306      -5.470\n",
       "loc_og_t2c_mou_7      -5.0797      2.575     -1.973      0.049     -10.127      -0.033\n",
       "loc_og_t2c_mou_8       7.9652      1.565      5.090      0.000       4.898      11.033\n",
       "loc_og_mou_6        1.727e+04   4.72e+04      0.366      0.714   -7.52e+04     1.1e+05\n",
       "loc_og_mou_7       -1.185e+04   3.48e+04     -0.340      0.734   -8.01e+04    5.64e+04\n",
       "loc_og_mou_8       -2.393e+05   5.33e+04     -4.489      0.000   -3.44e+05   -1.35e+05\n",
       "std_og_t2t_mou_6   -1.169e+05   3.49e+04     -3.348      0.001   -1.85e+05   -4.85e+04\n",
       "std_og_t2t_mou_7   -4.735e+04      4e+04     -1.185      0.236   -1.26e+05     3.1e+04\n",
       "std_og_t2t_mou_8     1.75e+05   4.19e+04      4.179      0.000    9.29e+04    2.57e+05\n",
       "std_og_t2m_mou_6   -1.319e+05   3.94e+04     -3.349      0.001   -2.09e+05   -5.47e+04\n",
       "std_og_t2m_mou_7   -3.855e+04   3.25e+04     -1.185      0.236   -1.02e+05    2.52e+04\n",
       "std_og_t2m_mou_8    3.047e+05   7.29e+04      4.180      0.000    1.62e+05    4.48e+05\n",
       "std_og_t2f_mou_6   -5363.0237   1601.776     -3.348      0.001   -8502.447   -2223.601\n",
       "std_og_t2f_mou_7   -2715.6058   2288.772     -1.186      0.235   -7201.516    1770.304\n",
       "std_og_t2f_mou_8    7726.0927   1850.896      4.174      0.000    4098.403    1.14e+04\n",
       "std_og_mou_6        1.347e+05   4.32e+04      3.116      0.002       5e+04    2.19e+05\n",
       "std_og_mou_7        1.943e+04   4.46e+04      0.436      0.663    -6.8e+04    1.07e+05\n",
       "std_og_mou_8       -3.682e+05   8.09e+04     -4.552      0.000   -5.27e+05    -2.1e+05\n",
       "isd_og_mou_6         622.7480   1.69e+04      0.037      0.971   -3.24e+04    3.37e+04\n",
       "isd_og_mou_7        -1.89e+04   1.76e+04     -1.072      0.284   -5.35e+04    1.57e+04\n",
       "isd_og_mou_8       -2.558e+04   1.87e+04     -1.366      0.172   -6.23e+04    1.11e+04\n",
       "spl_og_mou_6         112.9176   2924.977      0.039      0.969   -5619.932    5845.767\n",
       "spl_og_mou_7       -4359.4957   4067.290     -1.072      0.284   -1.23e+04    3612.246\n",
       "spl_og_mou_8       -3531.6187   2582.900     -1.367      0.172   -8594.009    1530.772\n",
       "og_others_6           28.0416   1744.887      0.016      0.987   -3391.875    3447.958\n",
       "og_others_7         -252.7095    216.059     -1.170      0.242    -676.177     170.758\n",
       "og_others_8        -2082.3256   1316.583     -1.582      0.114   -4662.782     498.131\n",
       "total_og_mou_6     -1026.4597   3.05e+04     -0.034      0.973   -6.08e+04    5.88e+04\n",
       "total_og_mou_7      2.851e+04   2.66e+04      1.071      0.284   -2.37e+04    8.07e+04\n",
       "total_og_mou_8      6.326e+04   4.63e+04      1.367      0.172   -2.74e+04    1.54e+05\n",
       "loc_ic_t2t_mou_6   -1.113e+05   1.61e+04     -6.926      0.000   -1.43e+05   -7.98e+04\n",
       "loc_ic_t2t_mou_7    7.154e+04   2.12e+04      3.376      0.001       3e+04    1.13e+05\n",
       "loc_ic_t2t_mou_8    1.433e+05    1.5e+04      9.526      0.000    1.14e+05    1.73e+05\n",
       "loc_ic_t2m_mou_6   -1.135e+05   1.64e+04     -6.926      0.000   -1.46e+05   -8.14e+04\n",
       "loc_ic_t2m_mou_7    5.046e+04   1.49e+04      3.376      0.001    2.12e+04    7.98e+04\n",
       "loc_ic_t2m_mou_8    1.675e+05   1.76e+04      9.526      0.000    1.33e+05    2.02e+05\n",
       "loc_ic_t2f_mou_6   -3.504e+04   5057.929     -6.928      0.000    -4.5e+04   -2.51e+04\n",
       "loc_ic_t2f_mou_7    2.486e+04   7360.334      3.377      0.001    1.04e+04    3.93e+04\n",
       "loc_ic_t2f_mou_8    5.266e+04   5528.784      9.524      0.000    4.18e+04    6.35e+04\n",
       "loc_ic_mou_6         1.39e+05   2.78e+04      5.000      0.000    8.45e+04    1.93e+05\n",
       "loc_ic_mou_7       -5.607e+04   2.48e+04     -2.263      0.024   -1.05e+05   -7502.270\n",
       "loc_ic_mou_8        -1.17e+05   2.05e+04     -5.708      0.000   -1.57e+05   -7.68e+04\n",
       "std_ic_t2t_mou_6   -2.675e+04   1.42e+04     -1.890      0.059   -5.45e+04     992.401\n",
       "std_ic_t2t_mou_7    -5.03e+04   2.03e+04     -2.478      0.013   -9.01e+04   -1.05e+04\n",
       "std_ic_t2t_mou_8    2.945e+04   1.78e+04      1.654      0.098   -5443.149    6.43e+04\n",
       "std_ic_t2m_mou_6   -3.182e+04   1.68e+04     -1.890      0.059   -6.48e+04    1181.440\n",
       "std_ic_t2m_mou_7   -3.123e+04   1.26e+04     -2.479      0.013   -5.59e+04   -6536.142\n",
       "std_ic_t2m_mou_8    2.478e+04    1.5e+04      1.655      0.098   -4562.812    5.41e+04\n",
       "std_ic_t2f_mou_6   -1.191e+04   6294.834     -1.891      0.059   -2.42e+04     432.081\n",
       "std_ic_t2f_mou_7   -1.349e+04   5445.494     -2.477      0.013   -2.42e+04   -2813.004\n",
       "std_ic_t2f_mou_8      1.2e+04   7253.391      1.654      0.098   -2218.489    2.62e+04\n",
       "std_ic_mou_6        7000.7172   1.76e+04      0.398      0.691   -2.75e+04    4.15e+04\n",
       "std_ic_mou_7        6.804e+04   2.19e+04      3.101      0.002     2.5e+04    1.11e+05\n",
       "std_ic_mou_8         2.05e+04   2.07e+04      0.990      0.322   -2.01e+04    6.11e+04\n",
       "total_ic_mou_6        5.3e+04   1.77e+04      2.989      0.003    1.83e+04    8.77e+04\n",
       "total_ic_mou_7     -2.871e+04   1.86e+04     -1.547      0.122   -6.51e+04    7670.889\n",
       "total_ic_mou_8     -8.515e+04   1.53e+04     -5.551      0.000   -1.15e+05   -5.51e+04\n",
       "spl_ic_mou_6        -126.0775     45.876     -2.748      0.006    -215.994     -36.161\n",
       "spl_ic_mou_7          44.5610     33.806      1.318      0.187     -21.697     110.819\n",
       "spl_ic_mou_8          10.8414      3.273      3.313      0.001       4.427      17.256\n",
       "isd_ic_mou_6       -4.664e+04   1.56e+04     -2.989      0.003   -7.72e+04   -1.61e+04\n",
       "isd_ic_mou_7         1.74e+04   1.13e+04      1.546      0.122   -4655.054    3.95e+04\n",
       "isd_ic_mou_8        3.364e+04   6059.319      5.552      0.000    2.18e+04    4.55e+04\n",
       "ic_others_6        -9254.7888   3089.099     -2.996      0.003   -1.53e+04   -3200.266\n",
       "ic_others_7         5770.9814   3730.811      1.547      0.122   -1541.274    1.31e+04\n",
       "ic_others_8         1.699e+04   3058.848      5.554      0.000     1.1e+04     2.3e+04\n",
       "total_rech_num_6      -0.8206      0.729     -1.125      0.261      -2.250       0.609\n",
       "total_rech_num_7       4.6883      0.738      6.349      0.000       3.241       6.136\n",
       "total_rech_num_8      -7.6085      0.820     -9.275      0.000      -9.216      -6.001\n",
       "total_rech_amt_6      -1.4507      3.332     -0.435      0.663      -7.980       5.079\n",
       "total_rech_amt_7     -16.8373      3.893     -4.325      0.000     -24.467      -9.208\n",
       "total_rech_amt_8     -38.9863      4.540     -8.587      0.000     -47.885     -30.088\n",
       "max_rech_amt_6        -3.0645      0.991     -3.092      0.002      -5.007      -1.122\n",
       "max_rech_amt_7        -0.1626      0.815     -0.200      0.842      -1.759       1.434\n",
       "max_rech_amt_8        11.5942      1.270      9.130      0.000       9.105      14.083\n",
       "last_day_rch_amt_6    -0.0475      0.917     -0.052      0.959      -1.845       1.750\n",
       "last_day_rch_amt_7     1.1940      0.687      1.739      0.082      -0.152       2.540\n",
       "last_day_rch_amt_8   -16.2277      1.201    -13.512      0.000     -18.582     -13.874\n",
       "total_rech_data_6      1.6234      0.441      3.679      0.000       0.759       2.488\n",
       "total_rech_data_7      0.0076      0.555      0.014      0.989      -1.081       1.096\n",
       "total_rech_data_8     -5.0136      1.013     -4.949      0.000      -6.999      -3.028\n",
       "max_rech_data_6        5.0026      0.797      6.274      0.000       3.440       6.565\n",
       "max_rech_data_7       -1.1608      0.826     -1.405      0.160      -2.781       0.459\n",
       "max_rech_data_8       -7.2131      1.004     -7.182      0.000      -9.181      -5.245\n",
       "av_rech_amt_data_6   -13.7458      2.492     -5.516      0.000     -18.630      -8.862\n",
       "av_rech_amt_data_7     1.9358      1.764      1.097      0.272      -1.522       5.393\n",
       "av_rech_amt_data_8     1.1738      2.434      0.482      0.630      -3.596       5.944\n",
       "vol_2g_mb_6           -0.5578      0.800     -0.697      0.486      -2.126       1.010\n",
       "vol_2g_mb_7            3.1009      0.951      3.261      0.001       1.237       4.965\n",
       "vol_2g_mb_8           -5.6402      1.218     -4.630      0.000      -8.028      -3.252\n",
       "vol_3g_mb_6          -11.1621      3.074     -3.631      0.000     -17.187      -5.137\n",
       "vol_3g_mb_7            6.4136      1.897      3.381      0.001       2.695      10.132\n",
       "vol_3g_mb_8           -4.5940      2.459     -1.868      0.062      -9.414       0.226\n",
       "monthly_2g_6          -0.3169      0.324     -0.979      0.327      -0.951       0.317\n",
       "monthly_2g_7          -0.9263      0.422     -2.194      0.028      -1.754      -0.099\n",
       "monthly_2g_8          -4.4885      0.623     -7.200      0.000      -5.710      -3.267\n",
       "sachet_2g_6            0.1894      0.489      0.387      0.699      -0.769       1.148\n",
       "sachet_2g_7           -0.6640      0.558     -1.189      0.234      -1.758       0.430\n",
       "sachet_2g_8           -2.4208      0.685     -3.536      0.000      -3.762      -1.079\n",
       "monthly_3g_6           2.3194      0.787      2.946      0.003       0.776       3.863\n",
       "monthly_3g_7          -2.5908      1.214     -2.133      0.033      -4.971      -0.211\n",
       "monthly_3g_8          -4.4495      1.773     -2.510      0.012      -7.924      -0.975\n",
       "sachet_3g_6            2.4642      0.885      2.786      0.005       0.731       4.198\n",
       "sachet_3g_7            2.2179      0.967      2.293      0.022       0.322       4.114\n",
       "sachet_3g_8           -3.0458      1.532     -1.988      0.047      -6.049      -0.042\n",
       "aon                   -0.4904      0.106     -4.616      0.000      -0.699      -0.282\n",
       "aug_vbc_3g            -4.8383      1.760     -2.748      0.006      -8.289      -1.388\n",
       "jul_vbc_3g            -1.8902      1.011     -1.870      0.062      -3.872       0.091\n",
       "jun_vbc_3g             3.1095      0.783      3.971      0.000       1.575       4.644\n",
       "======================================================================================\n",
       "\"\"\""
      ]
     },
     "execution_count": 54,
     "metadata": {},
     "output_type": "execute_result"
    }
   ],
   "source": [
    "# For RFE\n",
    "logml = sm.GLM(y_resampled, (sm.add_constant(X_resampled)), family=sm.families.Binomial())\n",
    "logml.fit().summary()"
   ]
  },
  {
   "cell_type": "markdown",
   "id": "157e7780",
   "metadata": {},
   "source": [
    "## Lower the p-value higher the significance"
   ]
  },
  {
   "cell_type": "code",
   "execution_count": 55,
   "id": "27a6fc4c",
   "metadata": {},
   "outputs": [],
   "source": [
    "logreg = LogisticRegression()"
   ]
  },
  {
   "cell_type": "code",
   "execution_count": 56,
   "id": "f373b0ef",
   "metadata": {},
   "outputs": [],
   "source": [
    "# Running rfe with 70 variables as output\n",
    "rfe = RFE(logreg, n_features_to_select=70)\n",
    "rfe = rfe.fit(X_resampled, y_resampled)"
   ]
  },
  {
   "cell_type": "code",
   "execution_count": 57,
   "id": "ac2cb82c",
   "metadata": {},
   "outputs": [
    {
     "data": {
      "text/plain": [
       "array([ True,  True,  True, False,  True, False,  True,  True,  True,\n",
       "        True, False, False, False,  True,  True, False, False,  True,\n",
       "        True, False,  True,  True, False,  True,  True,  True,  True,\n",
       "       False, False,  True, False,  True, False, False, False,  True,\n",
       "       False,  True,  True,  True,  True,  True, False, False, False,\n",
       "       False, False,  True, False, False, False, False,  True,  True,\n",
       "        True, False,  True,  True, False,  True, False, False,  True,\n",
       "        True,  True,  True,  True, False,  True, False, False,  True,\n",
       "       False, False, False,  True, False,  True, False, False,  True,\n",
       "       False, False,  True, False, False,  True, False, False, False,\n",
       "        True,  True,  True,  True, False,  True,  True,  True,  True,\n",
       "       False, False,  True, False, False,  True,  True,  True,  True,\n",
       "        True, False,  True, False, False,  True, False, False, False,\n",
       "       False,  True,  True,  True, False,  True,  True,  True,  True,\n",
       "       False, False, False,  True,  True, False, False])"
      ]
     },
     "execution_count": 57,
     "metadata": {},
     "output_type": "execute_result"
    }
   ],
   "source": [
    "rfe.support_ # it givs whether or not the selected feature was in top 70. True means yes"
   ]
  },
  {
   "cell_type": "code",
   "execution_count": 58,
   "id": "b474206d",
   "metadata": {},
   "outputs": [
    {
     "data": {
      "text/plain": [
       "[('arpu_6', True, 1),\n",
       " ('arpu_7', True, 1),\n",
       " ('arpu_8', True, 1),\n",
       " ('onnet_mou_6', False, 8),\n",
       " ('onnet_mou_7', True, 1),\n",
       " ('onnet_mou_8', False, 46),\n",
       " ('offnet_mou_6', True, 1),\n",
       " ('offnet_mou_7', True, 1),\n",
       " ('offnet_mou_8', True, 1),\n",
       " ('roam_ic_mou_6', True, 1),\n",
       " ('roam_ic_mou_7', False, 48),\n",
       " ('roam_ic_mou_8', False, 57),\n",
       " ('roam_og_mou_6', False, 18),\n",
       " ('roam_og_mou_7', True, 1),\n",
       " ('roam_og_mou_8', True, 1),\n",
       " ('loc_og_t2t_mou_6', False, 51),\n",
       " ('loc_og_t2t_mou_7', False, 44),\n",
       " ('loc_og_t2t_mou_8', True, 1),\n",
       " ('loc_og_t2m_mou_6', True, 1),\n",
       " ('loc_og_t2m_mou_7', False, 11),\n",
       " ('loc_og_t2m_mou_8', True, 1),\n",
       " ('loc_og_t2f_mou_6', True, 1),\n",
       " ('loc_og_t2f_mou_7', False, 47),\n",
       " ('loc_og_t2f_mou_8', True, 1),\n",
       " ('loc_og_t2c_mou_6', True, 1),\n",
       " ('loc_og_t2c_mou_7', True, 1),\n",
       " ('loc_og_t2c_mou_8', True, 1),\n",
       " ('loc_og_mou_6', False, 52),\n",
       " ('loc_og_mou_7', False, 31),\n",
       " ('loc_og_mou_8', True, 1),\n",
       " ('std_og_t2t_mou_6', False, 40),\n",
       " ('std_og_t2t_mou_7', True, 1),\n",
       " ('std_og_t2t_mou_8', False, 45),\n",
       " ('std_og_t2m_mou_6', False, 39),\n",
       " ('std_og_t2m_mou_7', False, 28),\n",
       " ('std_og_t2m_mou_8', True, 1),\n",
       " ('std_og_t2f_mou_6', False, 61),\n",
       " ('std_og_t2f_mou_7', True, 1),\n",
       " ('std_og_t2f_mou_8', True, 1),\n",
       " ('std_og_mou_6', True, 1),\n",
       " ('std_og_mou_7', True, 1),\n",
       " ('std_og_mou_8', True, 1),\n",
       " ('isd_og_mou_6', False, 62),\n",
       " ('isd_og_mou_7', False, 56),\n",
       " ('isd_og_mou_8', False, 63),\n",
       " ('spl_og_mou_6', False, 59),\n",
       " ('spl_og_mou_7', False, 24),\n",
       " ('spl_og_mou_8', True, 1),\n",
       " ('og_others_6', False, 26),\n",
       " ('og_others_7', False, 42),\n",
       " ('og_others_8', False, 53),\n",
       " ('total_og_mou_6', False, 9),\n",
       " ('total_og_mou_7', True, 1),\n",
       " ('total_og_mou_8', True, 1),\n",
       " ('loc_ic_t2t_mou_6', True, 1),\n",
       " ('loc_ic_t2t_mou_7', False, 36),\n",
       " ('loc_ic_t2t_mou_8', True, 1),\n",
       " ('loc_ic_t2m_mou_6', True, 1),\n",
       " ('loc_ic_t2m_mou_7', False, 25),\n",
       " ('loc_ic_t2m_mou_8', True, 1),\n",
       " ('loc_ic_t2f_mou_6', False, 21),\n",
       " ('loc_ic_t2f_mou_7', False, 20),\n",
       " ('loc_ic_t2f_mou_8', True, 1),\n",
       " ('loc_ic_mou_6', True, 1),\n",
       " ('loc_ic_mou_7', True, 1),\n",
       " ('loc_ic_mou_8', True, 1),\n",
       " ('std_ic_t2t_mou_6', True, 1),\n",
       " ('std_ic_t2t_mou_7', False, 10),\n",
       " ('std_ic_t2t_mou_8', True, 1),\n",
       " ('std_ic_t2m_mou_6', False, 30),\n",
       " ('std_ic_t2m_mou_7', False, 13),\n",
       " ('std_ic_t2m_mou_8', True, 1),\n",
       " ('std_ic_t2f_mou_6', False, 43),\n",
       " ('std_ic_t2f_mou_7', False, 37),\n",
       " ('std_ic_t2f_mou_8', False, 2),\n",
       " ('std_ic_mou_6', True, 1),\n",
       " ('std_ic_mou_7', False, 38),\n",
       " ('std_ic_mou_8', True, 1),\n",
       " ('total_ic_mou_6', False, 22),\n",
       " ('total_ic_mou_7', False, 35),\n",
       " ('total_ic_mou_8', True, 1),\n",
       " ('spl_ic_mou_6', False, 34),\n",
       " ('spl_ic_mou_7', False, 29),\n",
       " ('spl_ic_mou_8', True, 1),\n",
       " ('isd_ic_mou_6', False, 33),\n",
       " ('isd_ic_mou_7', False, 12),\n",
       " ('isd_ic_mou_8', True, 1),\n",
       " ('ic_others_6', False, 41),\n",
       " ('ic_others_7', False, 64),\n",
       " ('ic_others_8', False, 50),\n",
       " ('total_rech_num_6', True, 1),\n",
       " ('total_rech_num_7', True, 1),\n",
       " ('total_rech_num_8', True, 1),\n",
       " ('total_rech_amt_6', True, 1),\n",
       " ('total_rech_amt_7', False, 23),\n",
       " ('total_rech_amt_8', True, 1),\n",
       " ('max_rech_amt_6', True, 1),\n",
       " ('max_rech_amt_7', True, 1),\n",
       " ('max_rech_amt_8', True, 1),\n",
       " ('last_day_rch_amt_6', False, 3),\n",
       " ('last_day_rch_amt_7', False, 27),\n",
       " ('last_day_rch_amt_8', True, 1),\n",
       " ('total_rech_data_6', False, 15),\n",
       " ('total_rech_data_7', False, 49),\n",
       " ('total_rech_data_8', True, 1),\n",
       " ('max_rech_data_6', True, 1),\n",
       " ('max_rech_data_7', True, 1),\n",
       " ('max_rech_data_8', True, 1),\n",
       " ('av_rech_amt_data_6', True, 1),\n",
       " ('av_rech_amt_data_7', False, 14),\n",
       " ('av_rech_amt_data_8', True, 1),\n",
       " ('vol_2g_mb_6', False, 32),\n",
       " ('vol_2g_mb_7', False, 17),\n",
       " ('vol_2g_mb_8', True, 1),\n",
       " ('vol_3g_mb_6', False, 55),\n",
       " ('vol_3g_mb_7', False, 6),\n",
       " ('vol_3g_mb_8', False, 7),\n",
       " ('monthly_2g_6', False, 16),\n",
       " ('monthly_2g_7', True, 1),\n",
       " ('monthly_2g_8', True, 1),\n",
       " ('sachet_2g_6', True, 1),\n",
       " ('sachet_2g_7', False, 54),\n",
       " ('sachet_2g_8', True, 1),\n",
       " ('monthly_3g_6', True, 1),\n",
       " ('monthly_3g_7', True, 1),\n",
       " ('monthly_3g_8', True, 1),\n",
       " ('sachet_3g_6', False, 60),\n",
       " ('sachet_3g_7', False, 19),\n",
       " ('sachet_3g_8', False, 4),\n",
       " ('aon', True, 1),\n",
       " ('aug_vbc_3g', True, 1),\n",
       " ('jul_vbc_3g', False, 5),\n",
       " ('jun_vbc_3g', False, 58)]"
      ]
     },
     "execution_count": 58,
     "metadata": {},
     "output_type": "execute_result"
    }
   ],
   "source": [
    "# to see the selected columns\n",
    "list(zip(X_resampled.columns, rfe.support_, rfe.ranking_))"
   ]
  },
  {
   "cell_type": "code",
   "execution_count": 59,
   "id": "bc628327",
   "metadata": {},
   "outputs": [],
   "source": [
    "col = X_resampled.columns[rfe.support_]"
   ]
  },
  {
   "cell_type": "code",
   "execution_count": 60,
   "id": "bbbd2363",
   "metadata": {},
   "outputs": [
    {
     "data": {
      "text/html": [
       "<table class=\"simpletable\">\n",
       "<caption>Generalized Linear Model Regression Results</caption>\n",
       "<tr>\n",
       "  <th>Dep. Variable:</th>   <td>churn_probability</td> <th>  No. Observations:  </th>  <td> 27020</td> \n",
       "</tr>\n",
       "<tr>\n",
       "  <th>Model:</th>                  <td>GLM</td>        <th>  Df Residuals:      </th>  <td> 26949</td> \n",
       "</tr>\n",
       "<tr>\n",
       "  <th>Model Family:</th>        <td>Binomial</td>      <th>  Df Model:          </th>  <td>    70</td> \n",
       "</tr>\n",
       "<tr>\n",
       "  <th>Link Function:</th>         <td>logit</td>       <th>  Scale:             </th> <td>  1.0000</td>\n",
       "</tr>\n",
       "<tr>\n",
       "  <th>Method:</th>                <td>IRLS</td>        <th>  Log-Likelihood:    </th> <td> -8993.6</td>\n",
       "</tr>\n",
       "<tr>\n",
       "  <th>Date:</th>            <td>Sat, 17 Sep 2022</td>  <th>  Deviance:          </th> <td>  17987.</td>\n",
       "</tr>\n",
       "<tr>\n",
       "  <th>Time:</th>                <td>09:58:30</td>      <th>  Pearson chi2:      </th> <td>1.50e+05</td>\n",
       "</tr>\n",
       "<tr>\n",
       "  <th>No. Iterations:</th>          <td>7</td>         <th>                     </th>     <td> </td>   \n",
       "</tr>\n",
       "<tr>\n",
       "  <th>Covariance Type:</th>     <td>nonrobust</td>     <th>                     </th>     <td> </td>   \n",
       "</tr>\n",
       "</table>\n",
       "<table class=\"simpletable\">\n",
       "<tr>\n",
       "           <td></td>             <th>coef</th>     <th>std err</th>      <th>z</th>      <th>P>|z|</th>  <th>[0.025</th>    <th>0.975]</th>  \n",
       "</tr>\n",
       "<tr>\n",
       "  <th>const</th>              <td>   -2.0812</td> <td>    0.515</td> <td>   -4.041</td> <td> 0.000</td> <td>   -3.091</td> <td>   -1.072</td>\n",
       "</tr>\n",
       "<tr>\n",
       "  <th>arpu_6</th>             <td>    4.9928</td> <td>    3.357</td> <td>    1.487</td> <td> 0.137</td> <td>   -1.587</td> <td>   11.573</td>\n",
       "</tr>\n",
       "<tr>\n",
       "  <th>arpu_7</th>             <td>    6.2535</td> <td>    2.471</td> <td>    2.531</td> <td> 0.011</td> <td>    1.410</td> <td>   11.097</td>\n",
       "</tr>\n",
       "<tr>\n",
       "  <th>arpu_8</th>             <td>   36.5173</td> <td>    4.448</td> <td>    8.209</td> <td> 0.000</td> <td>   27.798</td> <td>   45.236</td>\n",
       "</tr>\n",
       "<tr>\n",
       "  <th>onnet_mou_7</th>        <td>  -12.1959</td> <td>    9.998</td> <td>   -1.220</td> <td> 0.223</td> <td>  -31.791</td> <td>    7.399</td>\n",
       "</tr>\n",
       "<tr>\n",
       "  <th>offnet_mou_6</th>       <td>    0.3777</td> <td>    0.801</td> <td>    0.471</td> <td> 0.637</td> <td>   -1.193</td> <td>    1.948</td>\n",
       "</tr>\n",
       "<tr>\n",
       "  <th>offnet_mou_7</th>       <td>  -17.2279</td> <td>    8.170</td> <td>   -2.109</td> <td> 0.035</td> <td>  -33.241</td> <td>   -1.215</td>\n",
       "</tr>\n",
       "<tr>\n",
       "  <th>offnet_mou_8</th>       <td>  -49.8043</td> <td>   10.289</td> <td>   -4.841</td> <td> 0.000</td> <td>  -69.970</td> <td>  -29.639</td>\n",
       "</tr>\n",
       "<tr>\n",
       "  <th>roam_ic_mou_6</th>      <td>    2.8933</td> <td>    0.910</td> <td>    3.181</td> <td> 0.001</td> <td>    1.111</td> <td>    4.676</td>\n",
       "</tr>\n",
       "<tr>\n",
       "  <th>roam_og_mou_7</th>      <td>    9.9739</td> <td>    3.509</td> <td>    2.842</td> <td> 0.004</td> <td>    3.097</td> <td>   16.851</td>\n",
       "</tr>\n",
       "<tr>\n",
       "  <th>roam_og_mou_8</th>      <td>   18.4799</td> <td>    3.043</td> <td>    6.073</td> <td> 0.000</td> <td>   12.516</td> <td>   24.444</td>\n",
       "</tr>\n",
       "<tr>\n",
       "  <th>loc_og_t2t_mou_8</th>   <td>-1958.0223</td> <td> 3.78e+04</td> <td>   -0.052</td> <td> 0.959</td> <td> -7.6e+04</td> <td>  7.2e+04</td>\n",
       "</tr>\n",
       "<tr>\n",
       "  <th>loc_og_t2m_mou_6</th>   <td>   -1.4982</td> <td>    1.012</td> <td>   -1.480</td> <td> 0.139</td> <td>   -3.482</td> <td>    0.486</td>\n",
       "</tr>\n",
       "<tr>\n",
       "  <th>loc_og_t2m_mou_8</th>   <td> -879.1169</td> <td> 1.74e+04</td> <td>   -0.050</td> <td> 0.960</td> <td> -3.5e+04</td> <td> 3.33e+04</td>\n",
       "</tr>\n",
       "<tr>\n",
       "  <th>loc_og_t2f_mou_6</th>   <td>   -3.4771</td> <td>    1.603</td> <td>   -2.169</td> <td> 0.030</td> <td>   -6.619</td> <td>   -0.335</td>\n",
       "</tr>\n",
       "<tr>\n",
       "  <th>loc_og_t2f_mou_8</th>   <td> -102.1082</td> <td> 2065.548</td> <td>   -0.049</td> <td> 0.961</td> <td>-4150.508</td> <td> 3946.292</td>\n",
       "</tr>\n",
       "<tr>\n",
       "  <th>loc_og_t2c_mou_6</th>   <td>   -7.3842</td> <td>    1.257</td> <td>   -5.874</td> <td> 0.000</td> <td>   -9.848</td> <td>   -4.920</td>\n",
       "</tr>\n",
       "<tr>\n",
       "  <th>loc_og_t2c_mou_7</th>   <td>   -7.0570</td> <td>    2.013</td> <td>   -3.506</td> <td> 0.000</td> <td>  -11.002</td> <td>   -3.112</td>\n",
       "</tr>\n",
       "<tr>\n",
       "  <th>loc_og_t2c_mou_8</th>   <td>    8.3545</td> <td>    1.459</td> <td>    5.727</td> <td> 0.000</td> <td>    5.495</td> <td>   11.214</td>\n",
       "</tr>\n",
       "<tr>\n",
       "  <th>loc_og_mou_8</th>       <td> 2010.0664</td> <td> 3.88e+04</td> <td>    0.052</td> <td> 0.959</td> <td> -7.4e+04</td> <td>  7.8e+04</td>\n",
       "</tr>\n",
       "<tr>\n",
       "  <th>std_og_t2t_mou_7</th>   <td>   -8.1517</td> <td>    2.806</td> <td>   -2.905</td> <td> 0.004</td> <td>  -13.651</td> <td>   -2.652</td>\n",
       "</tr>\n",
       "<tr>\n",
       "  <th>std_og_t2m_mou_8</th>   <td>   44.8980</td> <td>   10.403</td> <td>    4.316</td> <td> 0.000</td> <td>   24.509</td> <td>   65.287</td>\n",
       "</tr>\n",
       "<tr>\n",
       "  <th>std_og_t2f_mou_7</th>   <td>   -1.4070</td> <td>    2.002</td> <td>   -0.703</td> <td> 0.482</td> <td>   -5.331</td> <td>    2.517</td>\n",
       "</tr>\n",
       "<tr>\n",
       "  <th>std_og_t2f_mou_8</th>   <td>  -10.1434</td> <td>    2.832</td> <td>   -3.582</td> <td> 0.000</td> <td>  -15.694</td> <td>   -4.593</td>\n",
       "</tr>\n",
       "<tr>\n",
       "  <th>std_og_mou_6</th>       <td>    2.0108</td> <td>    0.615</td> <td>    3.268</td> <td> 0.001</td> <td>    0.805</td> <td>    3.217</td>\n",
       "</tr>\n",
       "<tr>\n",
       "  <th>std_og_mou_7</th>       <td>    4.6749</td> <td>    1.955</td> <td>    2.392</td> <td> 0.017</td> <td>    0.844</td> <td>    8.506</td>\n",
       "</tr>\n",
       "<tr>\n",
       "  <th>std_og_mou_8</th>       <td>   24.7598</td> <td>   32.578</td> <td>    0.760</td> <td> 0.447</td> <td>  -39.092</td> <td>   88.611</td>\n",
       "</tr>\n",
       "<tr>\n",
       "  <th>spl_og_mou_8</th>       <td>   -2.6733</td> <td>    2.441</td> <td>   -1.095</td> <td> 0.273</td> <td>   -7.457</td> <td>    2.111</td>\n",
       "</tr>\n",
       "<tr>\n",
       "  <th>total_og_mou_7</th>     <td>   19.5389</td> <td>   10.054</td> <td>    1.943</td> <td> 0.052</td> <td>   -0.166</td> <td>   39.244</td>\n",
       "</tr>\n",
       "<tr>\n",
       "  <th>total_og_mou_8</th>     <td>  -34.2162</td> <td>   32.898</td> <td>   -1.040</td> <td> 0.298</td> <td>  -98.694</td> <td>   30.262</td>\n",
       "</tr>\n",
       "<tr>\n",
       "  <th>loc_ic_t2t_mou_6</th>   <td>   13.7742</td> <td>    5.723</td> <td>    2.407</td> <td> 0.016</td> <td>    2.557</td> <td>   24.991</td>\n",
       "</tr>\n",
       "<tr>\n",
       "  <th>loc_ic_t2t_mou_8</th>   <td> -544.9472</td> <td> 8519.624</td> <td>   -0.064</td> <td> 0.949</td> <td>-1.72e+04</td> <td> 1.62e+04</td>\n",
       "</tr>\n",
       "<tr>\n",
       "  <th>loc_ic_t2m_mou_6</th>   <td>   14.8906</td> <td>    5.732</td> <td>    2.598</td> <td> 0.009</td> <td>    3.657</td> <td>   26.125</td>\n",
       "</tr>\n",
       "<tr>\n",
       "  <th>loc_ic_t2m_mou_8</th>   <td> -629.8011</td> <td> 9960.057</td> <td>   -0.063</td> <td> 0.950</td> <td>-2.02e+04</td> <td> 1.89e+04</td>\n",
       "</tr>\n",
       "<tr>\n",
       "  <th>loc_ic_t2f_mou_8</th>   <td> -201.3286</td> <td> 3131.051</td> <td>   -0.064</td> <td> 0.949</td> <td>-6338.075</td> <td> 5935.418</td>\n",
       "</tr>\n",
       "<tr>\n",
       "  <th>loc_ic_mou_6</th>       <td>  -18.9850</td> <td>    9.404</td> <td>   -2.019</td> <td> 0.043</td> <td>  -37.416</td> <td>   -0.554</td>\n",
       "</tr>\n",
       "<tr>\n",
       "  <th>loc_ic_mou_7</th>       <td>   16.3979</td> <td>    1.629</td> <td>   10.068</td> <td> 0.000</td> <td>   13.206</td> <td>   19.590</td>\n",
       "</tr>\n",
       "<tr>\n",
       "  <th>loc_ic_mou_8</th>       <td>  679.2970</td> <td> 1.14e+04</td> <td>    0.060</td> <td> 0.952</td> <td>-2.16e+04</td> <td>  2.3e+04</td>\n",
       "</tr>\n",
       "<tr>\n",
       "  <th>std_ic_t2t_mou_6</th>   <td>    5.4415</td> <td>    1.711</td> <td>    3.180</td> <td> 0.001</td> <td>    2.087</td> <td>    8.796</td>\n",
       "</tr>\n",
       "<tr>\n",
       "  <th>std_ic_t2t_mou_8</th>   <td>   -9.1895</td> <td>   11.225</td> <td>   -0.819</td> <td> 0.413</td> <td>  -31.191</td> <td>   12.812</td>\n",
       "</tr>\n",
       "<tr>\n",
       "  <th>std_ic_t2m_mou_8</th>   <td>    3.1424</td> <td>    9.059</td> <td>    0.347</td> <td> 0.729</td> <td>  -14.612</td> <td>   20.897</td>\n",
       "</tr>\n",
       "<tr>\n",
       "  <th>std_ic_mou_6</th>       <td>    0.9248</td> <td>    1.253</td> <td>    0.738</td> <td> 0.460</td> <td>   -1.531</td> <td>    3.381</td>\n",
       "</tr>\n",
       "<tr>\n",
       "  <th>std_ic_mou_8</th>       <td>  -15.8656</td> <td>   14.380</td> <td>   -1.103</td> <td> 0.270</td> <td>  -44.050</td> <td>   12.319</td>\n",
       "</tr>\n",
       "<tr>\n",
       "  <th>total_ic_mou_8</th>     <td>   -0.1624</td> <td>   12.353</td> <td>   -0.013</td> <td> 0.990</td> <td>  -24.373</td> <td>   24.049</td>\n",
       "</tr>\n",
       "<tr>\n",
       "  <th>spl_ic_mou_8</th>       <td>   -6.8619</td> <td>    0.560</td> <td>  -12.255</td> <td> 0.000</td> <td>   -7.959</td> <td>   -5.764</td>\n",
       "</tr>\n",
       "<tr>\n",
       "  <th>isd_ic_mou_8</th>       <td>    1.0951</td> <td>    5.111</td> <td>    0.214</td> <td> 0.830</td> <td>   -8.923</td> <td>   11.113</td>\n",
       "</tr>\n",
       "<tr>\n",
       "  <th>total_rech_num_6</th>   <td>   -0.3692</td> <td>    0.666</td> <td>   -0.554</td> <td> 0.579</td> <td>   -1.674</td> <td>    0.936</td>\n",
       "</tr>\n",
       "<tr>\n",
       "  <th>total_rech_num_7</th>   <td>    4.1773</td> <td>    0.644</td> <td>    6.484</td> <td> 0.000</td> <td>    2.915</td> <td>    5.440</td>\n",
       "</tr>\n",
       "<tr>\n",
       "  <th>total_rech_num_8</th>   <td>   -8.1895</td> <td>    0.773</td> <td>  -10.597</td> <td> 0.000</td> <td>   -9.704</td> <td>   -6.675</td>\n",
       "</tr>\n",
       "<tr>\n",
       "  <th>total_rech_amt_6</th>   <td>   -2.1983</td> <td>    3.042</td> <td>   -0.723</td> <td> 0.470</td> <td>   -8.161</td> <td>    3.764</td>\n",
       "</tr>\n",
       "<tr>\n",
       "  <th>total_rech_amt_8</th>   <td>  -34.8712</td> <td>    4.256</td> <td>   -8.193</td> <td> 0.000</td> <td>  -43.213</td> <td>  -26.529</td>\n",
       "</tr>\n",
       "<tr>\n",
       "  <th>max_rech_amt_6</th>     <td>   -0.8561</td> <td>    0.873</td> <td>   -0.981</td> <td> 0.327</td> <td>   -2.567</td> <td>    0.855</td>\n",
       "</tr>\n",
       "<tr>\n",
       "  <th>max_rech_amt_7</th>     <td>   -1.6234</td> <td>    0.643</td> <td>   -2.525</td> <td> 0.012</td> <td>   -2.883</td> <td>   -0.363</td>\n",
       "</tr>\n",
       "<tr>\n",
       "  <th>max_rech_amt_8</th>     <td>   11.0618</td> <td>    1.233</td> <td>    8.972</td> <td> 0.000</td> <td>    8.645</td> <td>   13.478</td>\n",
       "</tr>\n",
       "<tr>\n",
       "  <th>last_day_rch_amt_8</th> <td>  -15.7313</td> <td>    1.175</td> <td>  -13.391</td> <td> 0.000</td> <td>  -18.034</td> <td>  -13.429</td>\n",
       "</tr>\n",
       "<tr>\n",
       "  <th>total_rech_data_8</th>  <td>   -2.2482</td> <td>    2.190</td> <td>   -1.026</td> <td> 0.305</td> <td>   -6.541</td> <td>    2.045</td>\n",
       "</tr>\n",
       "<tr>\n",
       "  <th>max_rech_data_6</th>    <td>    3.0070</td> <td>    0.721</td> <td>    4.168</td> <td> 0.000</td> <td>    1.593</td> <td>    4.421</td>\n",
       "</tr>\n",
       "<tr>\n",
       "  <th>max_rech_data_7</th>    <td>    1.0958</td> <td>    0.628</td> <td>    1.744</td> <td> 0.081</td> <td>   -0.136</td> <td>    2.327</td>\n",
       "</tr>\n",
       "<tr>\n",
       "  <th>max_rech_data_8</th>    <td>   -6.5259</td> <td>    0.985</td> <td>   -6.626</td> <td> 0.000</td> <td>   -8.456</td> <td>   -4.596</td>\n",
       "</tr>\n",
       "<tr>\n",
       "  <th>av_rech_amt_data_6</th> <td>   -9.8673</td> <td>    1.936</td> <td>   -5.096</td> <td> 0.000</td> <td>  -13.663</td> <td>   -6.072</td>\n",
       "</tr>\n",
       "<tr>\n",
       "  <th>av_rech_amt_data_8</th> <td>   -1.0051</td> <td>    2.108</td> <td>   -0.477</td> <td> 0.634</td> <td>   -5.137</td> <td>    3.127</td>\n",
       "</tr>\n",
       "<tr>\n",
       "  <th>vol_2g_mb_8</th>        <td>   -4.0309</td> <td>    1.011</td> <td>   -3.989</td> <td> 0.000</td> <td>   -6.012</td> <td>   -2.050</td>\n",
       "</tr>\n",
       "<tr>\n",
       "  <th>monthly_2g_7</th>       <td>   -0.7902</td> <td>    0.373</td> <td>   -2.118</td> <td> 0.034</td> <td>   -1.522</td> <td>   -0.059</td>\n",
       "</tr>\n",
       "<tr>\n",
       "  <th>monthly_2g_8</th>       <td>   -5.2913</td> <td>    0.613</td> <td>   -8.627</td> <td> 0.000</td> <td>   -6.493</td> <td>   -4.089</td>\n",
       "</tr>\n",
       "<tr>\n",
       "  <th>sachet_2g_6</th>        <td>    1.1511</td> <td>    0.534</td> <td>    2.155</td> <td> 0.031</td> <td>    0.104</td> <td>    2.198</td>\n",
       "</tr>\n",
       "<tr>\n",
       "  <th>sachet_2g_8</th>        <td>   -4.3682</td> <td>    1.262</td> <td>   -3.461</td> <td> 0.001</td> <td>   -6.842</td> <td>   -1.894</td>\n",
       "</tr>\n",
       "<tr>\n",
       "  <th>monthly_3g_6</th>       <td>    1.4375</td> <td>    0.683</td> <td>    2.106</td> <td> 0.035</td> <td>    0.099</td> <td>    2.776</td>\n",
       "</tr>\n",
       "<tr>\n",
       "  <th>monthly_3g_7</th>       <td>   -1.2357</td> <td>    1.041</td> <td>   -1.187</td> <td> 0.235</td> <td>   -3.275</td> <td>    0.804</td>\n",
       "</tr>\n",
       "<tr>\n",
       "  <th>monthly_3g_8</th>       <td>   -5.2646</td> <td>    1.724</td> <td>   -3.054</td> <td> 0.002</td> <td>   -8.643</td> <td>   -1.886</td>\n",
       "</tr>\n",
       "<tr>\n",
       "  <th>aon</th>                <td>   -0.6196</td> <td>    0.100</td> <td>   -6.167</td> <td> 0.000</td> <td>   -0.817</td> <td>   -0.423</td>\n",
       "</tr>\n",
       "<tr>\n",
       "  <th>aug_vbc_3g</th>         <td>   -5.7426</td> <td>    1.406</td> <td>   -4.084</td> <td> 0.000</td> <td>   -8.499</td> <td>   -2.986</td>\n",
       "</tr>\n",
       "</table>"
      ],
      "text/plain": [
       "<class 'statsmodels.iolib.summary.Summary'>\n",
       "\"\"\"\n",
       "                 Generalized Linear Model Regression Results                  \n",
       "==============================================================================\n",
       "Dep. Variable:      churn_probability   No. Observations:                27020\n",
       "Model:                            GLM   Df Residuals:                    26949\n",
       "Model Family:                Binomial   Df Model:                           70\n",
       "Link Function:                  logit   Scale:                          1.0000\n",
       "Method:                          IRLS   Log-Likelihood:                -8993.6\n",
       "Date:                Sat, 17 Sep 2022   Deviance:                       17987.\n",
       "Time:                        09:58:30   Pearson chi2:                 1.50e+05\n",
       "No. Iterations:                     7                                         \n",
       "Covariance Type:            nonrobust                                         \n",
       "======================================================================================\n",
       "                         coef    std err          z      P>|z|      [0.025      0.975]\n",
       "--------------------------------------------------------------------------------------\n",
       "const                 -2.0812      0.515     -4.041      0.000      -3.091      -1.072\n",
       "arpu_6                 4.9928      3.357      1.487      0.137      -1.587      11.573\n",
       "arpu_7                 6.2535      2.471      2.531      0.011       1.410      11.097\n",
       "arpu_8                36.5173      4.448      8.209      0.000      27.798      45.236\n",
       "onnet_mou_7          -12.1959      9.998     -1.220      0.223     -31.791       7.399\n",
       "offnet_mou_6           0.3777      0.801      0.471      0.637      -1.193       1.948\n",
       "offnet_mou_7         -17.2279      8.170     -2.109      0.035     -33.241      -1.215\n",
       "offnet_mou_8         -49.8043     10.289     -4.841      0.000     -69.970     -29.639\n",
       "roam_ic_mou_6          2.8933      0.910      3.181      0.001       1.111       4.676\n",
       "roam_og_mou_7          9.9739      3.509      2.842      0.004       3.097      16.851\n",
       "roam_og_mou_8         18.4799      3.043      6.073      0.000      12.516      24.444\n",
       "loc_og_t2t_mou_8   -1958.0223   3.78e+04     -0.052      0.959    -7.6e+04     7.2e+04\n",
       "loc_og_t2m_mou_6      -1.4982      1.012     -1.480      0.139      -3.482       0.486\n",
       "loc_og_t2m_mou_8    -879.1169   1.74e+04     -0.050      0.960    -3.5e+04    3.33e+04\n",
       "loc_og_t2f_mou_6      -3.4771      1.603     -2.169      0.030      -6.619      -0.335\n",
       "loc_og_t2f_mou_8    -102.1082   2065.548     -0.049      0.961   -4150.508    3946.292\n",
       "loc_og_t2c_mou_6      -7.3842      1.257     -5.874      0.000      -9.848      -4.920\n",
       "loc_og_t2c_mou_7      -7.0570      2.013     -3.506      0.000     -11.002      -3.112\n",
       "loc_og_t2c_mou_8       8.3545      1.459      5.727      0.000       5.495      11.214\n",
       "loc_og_mou_8        2010.0664   3.88e+04      0.052      0.959    -7.4e+04     7.8e+04\n",
       "std_og_t2t_mou_7      -8.1517      2.806     -2.905      0.004     -13.651      -2.652\n",
       "std_og_t2m_mou_8      44.8980     10.403      4.316      0.000      24.509      65.287\n",
       "std_og_t2f_mou_7      -1.4070      2.002     -0.703      0.482      -5.331       2.517\n",
       "std_og_t2f_mou_8     -10.1434      2.832     -3.582      0.000     -15.694      -4.593\n",
       "std_og_mou_6           2.0108      0.615      3.268      0.001       0.805       3.217\n",
       "std_og_mou_7           4.6749      1.955      2.392      0.017       0.844       8.506\n",
       "std_og_mou_8          24.7598     32.578      0.760      0.447     -39.092      88.611\n",
       "spl_og_mou_8          -2.6733      2.441     -1.095      0.273      -7.457       2.111\n",
       "total_og_mou_7        19.5389     10.054      1.943      0.052      -0.166      39.244\n",
       "total_og_mou_8       -34.2162     32.898     -1.040      0.298     -98.694      30.262\n",
       "loc_ic_t2t_mou_6      13.7742      5.723      2.407      0.016       2.557      24.991\n",
       "loc_ic_t2t_mou_8    -544.9472   8519.624     -0.064      0.949   -1.72e+04    1.62e+04\n",
       "loc_ic_t2m_mou_6      14.8906      5.732      2.598      0.009       3.657      26.125\n",
       "loc_ic_t2m_mou_8    -629.8011   9960.057     -0.063      0.950   -2.02e+04    1.89e+04\n",
       "loc_ic_t2f_mou_8    -201.3286   3131.051     -0.064      0.949   -6338.075    5935.418\n",
       "loc_ic_mou_6         -18.9850      9.404     -2.019      0.043     -37.416      -0.554\n",
       "loc_ic_mou_7          16.3979      1.629     10.068      0.000      13.206      19.590\n",
       "loc_ic_mou_8         679.2970   1.14e+04      0.060      0.952   -2.16e+04     2.3e+04\n",
       "std_ic_t2t_mou_6       5.4415      1.711      3.180      0.001       2.087       8.796\n",
       "std_ic_t2t_mou_8      -9.1895     11.225     -0.819      0.413     -31.191      12.812\n",
       "std_ic_t2m_mou_8       3.1424      9.059      0.347      0.729     -14.612      20.897\n",
       "std_ic_mou_6           0.9248      1.253      0.738      0.460      -1.531       3.381\n",
       "std_ic_mou_8         -15.8656     14.380     -1.103      0.270     -44.050      12.319\n",
       "total_ic_mou_8        -0.1624     12.353     -0.013      0.990     -24.373      24.049\n",
       "spl_ic_mou_8          -6.8619      0.560    -12.255      0.000      -7.959      -5.764\n",
       "isd_ic_mou_8           1.0951      5.111      0.214      0.830      -8.923      11.113\n",
       "total_rech_num_6      -0.3692      0.666     -0.554      0.579      -1.674       0.936\n",
       "total_rech_num_7       4.1773      0.644      6.484      0.000       2.915       5.440\n",
       "total_rech_num_8      -8.1895      0.773    -10.597      0.000      -9.704      -6.675\n",
       "total_rech_amt_6      -2.1983      3.042     -0.723      0.470      -8.161       3.764\n",
       "total_rech_amt_8     -34.8712      4.256     -8.193      0.000     -43.213     -26.529\n",
       "max_rech_amt_6        -0.8561      0.873     -0.981      0.327      -2.567       0.855\n",
       "max_rech_amt_7        -1.6234      0.643     -2.525      0.012      -2.883      -0.363\n",
       "max_rech_amt_8        11.0618      1.233      8.972      0.000       8.645      13.478\n",
       "last_day_rch_amt_8   -15.7313      1.175    -13.391      0.000     -18.034     -13.429\n",
       "total_rech_data_8     -2.2482      2.190     -1.026      0.305      -6.541       2.045\n",
       "max_rech_data_6        3.0070      0.721      4.168      0.000       1.593       4.421\n",
       "max_rech_data_7        1.0958      0.628      1.744      0.081      -0.136       2.327\n",
       "max_rech_data_8       -6.5259      0.985     -6.626      0.000      -8.456      -4.596\n",
       "av_rech_amt_data_6    -9.8673      1.936     -5.096      0.000     -13.663      -6.072\n",
       "av_rech_amt_data_8    -1.0051      2.108     -0.477      0.634      -5.137       3.127\n",
       "vol_2g_mb_8           -4.0309      1.011     -3.989      0.000      -6.012      -2.050\n",
       "monthly_2g_7          -0.7902      0.373     -2.118      0.034      -1.522      -0.059\n",
       "monthly_2g_8          -5.2913      0.613     -8.627      0.000      -6.493      -4.089\n",
       "sachet_2g_6            1.1511      0.534      2.155      0.031       0.104       2.198\n",
       "sachet_2g_8           -4.3682      1.262     -3.461      0.001      -6.842      -1.894\n",
       "monthly_3g_6           1.4375      0.683      2.106      0.035       0.099       2.776\n",
       "monthly_3g_7          -1.2357      1.041     -1.187      0.235      -3.275       0.804\n",
       "monthly_3g_8          -5.2646      1.724     -3.054      0.002      -8.643      -1.886\n",
       "aon                   -0.6196      0.100     -6.167      0.000      -0.817      -0.423\n",
       "aug_vbc_3g            -5.7426      1.406     -4.084      0.000      -8.499      -2.986\n",
       "======================================================================================\n",
       "\"\"\""
      ]
     },
     "execution_count": 60,
     "metadata": {},
     "output_type": "execute_result"
    }
   ],
   "source": [
    "X_resampled_sm = sm.add_constant(X_resampled[col])\n",
    "logm2 = sm.GLM(y_resampled, X_resampled_sm, family=sm.families.Binomial())\n",
    "res = logm2.fit()\n",
    "res.summary()"
   ]
  },
  {
   "cell_type": "markdown",
   "id": "3270c989",
   "metadata": {},
   "source": [
    "### Making predictions on the test set"
   ]
  },
  {
   "cell_type": "code",
   "execution_count": 61,
   "id": "de453884",
   "metadata": {},
   "outputs": [
    {
     "name": "stdout",
     "output_type": "stream",
     "text": [
      "<class 'pandas.core.frame.DataFrame'>\n",
      "Int64Index: 6304 entries, 5662 to 36425\n",
      "Data columns (total 70 columns):\n",
      " #   Column              Non-Null Count  Dtype  \n",
      "---  ------              --------------  -----  \n",
      " 0   arpu_6              6304 non-null   float64\n",
      " 1   arpu_7              6304 non-null   float64\n",
      " 2   arpu_8              6304 non-null   float64\n",
      " 3   onnet_mou_7         6304 non-null   float64\n",
      " 4   offnet_mou_6        6304 non-null   float64\n",
      " 5   offnet_mou_7        6304 non-null   float64\n",
      " 6   offnet_mou_8        6304 non-null   float64\n",
      " 7   roam_ic_mou_6       6304 non-null   float64\n",
      " 8   roam_og_mou_7       6304 non-null   float64\n",
      " 9   roam_og_mou_8       6304 non-null   float64\n",
      " 10  loc_og_t2t_mou_8    6304 non-null   float64\n",
      " 11  loc_og_t2m_mou_6    6304 non-null   float64\n",
      " 12  loc_og_t2m_mou_8    6304 non-null   float64\n",
      " 13  loc_og_t2f_mou_6    6304 non-null   float64\n",
      " 14  loc_og_t2f_mou_8    6304 non-null   float64\n",
      " 15  loc_og_t2c_mou_6    6304 non-null   float64\n",
      " 16  loc_og_t2c_mou_7    6304 non-null   float64\n",
      " 17  loc_og_t2c_mou_8    6304 non-null   float64\n",
      " 18  loc_og_mou_8        6304 non-null   float64\n",
      " 19  std_og_t2t_mou_7    6304 non-null   float64\n",
      " 20  std_og_t2m_mou_8    6304 non-null   float64\n",
      " 21  std_og_t2f_mou_7    6304 non-null   float64\n",
      " 22  std_og_t2f_mou_8    6304 non-null   float64\n",
      " 23  std_og_mou_6        6304 non-null   float64\n",
      " 24  std_og_mou_7        6304 non-null   float64\n",
      " 25  std_og_mou_8        6304 non-null   float64\n",
      " 26  spl_og_mou_8        6304 non-null   float64\n",
      " 27  total_og_mou_7      6304 non-null   float64\n",
      " 28  total_og_mou_8      6304 non-null   float64\n",
      " 29  loc_ic_t2t_mou_6    6304 non-null   float64\n",
      " 30  loc_ic_t2t_mou_8    6304 non-null   float64\n",
      " 31  loc_ic_t2m_mou_6    6304 non-null   float64\n",
      " 32  loc_ic_t2m_mou_8    6304 non-null   float64\n",
      " 33  loc_ic_t2f_mou_8    6304 non-null   float64\n",
      " 34  loc_ic_mou_6        6304 non-null   float64\n",
      " 35  loc_ic_mou_7        6304 non-null   float64\n",
      " 36  loc_ic_mou_8        6304 non-null   float64\n",
      " 37  std_ic_t2t_mou_6    6304 non-null   float64\n",
      " 38  std_ic_t2t_mou_8    6304 non-null   float64\n",
      " 39  std_ic_t2m_mou_8    6304 non-null   float64\n",
      " 40  std_ic_mou_6        6304 non-null   float64\n",
      " 41  std_ic_mou_8        6304 non-null   float64\n",
      " 42  total_ic_mou_8      6304 non-null   float64\n",
      " 43  spl_ic_mou_8        6304 non-null   float64\n",
      " 44  isd_ic_mou_8        6304 non-null   float64\n",
      " 45  total_rech_num_6    6304 non-null   int64  \n",
      " 46  total_rech_num_7    6304 non-null   int64  \n",
      " 47  total_rech_num_8    6304 non-null   int64  \n",
      " 48  total_rech_amt_6    6304 non-null   int64  \n",
      " 49  total_rech_amt_8    6304 non-null   int64  \n",
      " 50  max_rech_amt_6      6304 non-null   int64  \n",
      " 51  max_rech_amt_7      6304 non-null   int64  \n",
      " 52  max_rech_amt_8      6304 non-null   int64  \n",
      " 53  last_day_rch_amt_8  6304 non-null   int64  \n",
      " 54  total_rech_data_8   6304 non-null   float64\n",
      " 55  max_rech_data_6     6304 non-null   float64\n",
      " 56  max_rech_data_7     6304 non-null   float64\n",
      " 57  max_rech_data_8     6304 non-null   float64\n",
      " 58  av_rech_amt_data_6  6304 non-null   float64\n",
      " 59  av_rech_amt_data_8  6304 non-null   float64\n",
      " 60  vol_2g_mb_8         6304 non-null   float64\n",
      " 61  monthly_2g_7        6304 non-null   int64  \n",
      " 62  monthly_2g_8        6304 non-null   int64  \n",
      " 63  sachet_2g_6         6304 non-null   int64  \n",
      " 64  sachet_2g_8         6304 non-null   int64  \n",
      " 65  monthly_3g_6        6304 non-null   int64  \n",
      " 66  monthly_3g_7        6304 non-null   int64  \n",
      " 67  monthly_3g_8        6304 non-null   int64  \n",
      " 68  aon                 6304 non-null   int64  \n",
      " 69  aug_vbc_3g          6304 non-null   float64\n",
      "dtypes: float64(53), int64(17)\n",
      "memory usage: 3.4 MB\n"
     ]
    }
   ],
   "source": [
    "X_test = X_test[col]\n",
    "X_test.info()"
   ]
  },
  {
   "cell_type": "code",
   "execution_count": 62,
   "id": "dd20e6fb",
   "metadata": {},
   "outputs": [],
   "source": [
    "X_test_sm = sm.add_constant(X_test)"
   ]
  },
  {
   "cell_type": "code",
   "execution_count": 63,
   "id": "df6e96f4",
   "metadata": {},
   "outputs": [],
   "source": [
    "y_test_pred = res.predict(X_test_sm)"
   ]
  },
  {
   "cell_type": "code",
   "execution_count": 64,
   "id": "2c63d4ac",
   "metadata": {},
   "outputs": [
    {
     "data": {
      "text/plain": [
       "5662     1.0\n",
       "37574    1.0\n",
       "58341    1.0\n",
       "23282    1.0\n",
       "30561    1.0\n",
       "45844    1.0\n",
       "30159    1.0\n",
       "62778    1.0\n",
       "45559    1.0\n",
       "35274    1.0\n",
       "dtype: float64"
      ]
     },
     "execution_count": 64,
     "metadata": {},
     "output_type": "execute_result"
    }
   ],
   "source": [
    "y_test_pred[:10]"
   ]
  },
  {
   "cell_type": "code",
   "execution_count": 65,
   "id": "6dbfcf16",
   "metadata": {},
   "outputs": [
    {
     "data": {
      "text/html": [
       "<div>\n",
       "<style scoped>\n",
       "    .dataframe tbody tr th:only-of-type {\n",
       "        vertical-align: middle;\n",
       "    }\n",
       "\n",
       "    .dataframe tbody tr th {\n",
       "        vertical-align: top;\n",
       "    }\n",
       "\n",
       "    .dataframe thead th {\n",
       "        text-align: right;\n",
       "    }\n",
       "</style>\n",
       "<table border=\"1\" class=\"dataframe\">\n",
       "  <thead>\n",
       "    <tr style=\"text-align: right;\">\n",
       "      <th></th>\n",
       "      <th>const</th>\n",
       "      <th>arpu_6</th>\n",
       "      <th>arpu_7</th>\n",
       "      <th>arpu_8</th>\n",
       "      <th>onnet_mou_7</th>\n",
       "      <th>offnet_mou_6</th>\n",
       "      <th>offnet_mou_7</th>\n",
       "      <th>offnet_mou_8</th>\n",
       "      <th>roam_ic_mou_6</th>\n",
       "      <th>roam_og_mou_7</th>\n",
       "      <th>...</th>\n",
       "      <th>vol_2g_mb_8</th>\n",
       "      <th>monthly_2g_7</th>\n",
       "      <th>monthly_2g_8</th>\n",
       "      <th>sachet_2g_6</th>\n",
       "      <th>sachet_2g_8</th>\n",
       "      <th>monthly_3g_6</th>\n",
       "      <th>monthly_3g_7</th>\n",
       "      <th>monthly_3g_8</th>\n",
       "      <th>aon</th>\n",
       "      <th>aug_vbc_3g</th>\n",
       "    </tr>\n",
       "  </thead>\n",
       "  <tbody>\n",
       "    <tr>\n",
       "      <th>5662</th>\n",
       "      <td>1.0</td>\n",
       "      <td>554.740</td>\n",
       "      <td>782.352</td>\n",
       "      <td>673.692</td>\n",
       "      <td>38.63</td>\n",
       "      <td>649.01</td>\n",
       "      <td>845.83</td>\n",
       "      <td>661.89</td>\n",
       "      <td>0.0</td>\n",
       "      <td>0.00</td>\n",
       "      <td>...</td>\n",
       "      <td>0.0</td>\n",
       "      <td>0</td>\n",
       "      <td>0</td>\n",
       "      <td>0</td>\n",
       "      <td>0</td>\n",
       "      <td>0</td>\n",
       "      <td>0</td>\n",
       "      <td>0</td>\n",
       "      <td>1360</td>\n",
       "      <td>0.00</td>\n",
       "    </tr>\n",
       "    <tr>\n",
       "      <th>37574</th>\n",
       "      <td>1.0</td>\n",
       "      <td>1563.157</td>\n",
       "      <td>1579.675</td>\n",
       "      <td>1256.565</td>\n",
       "      <td>3158.18</td>\n",
       "      <td>1358.03</td>\n",
       "      <td>1144.44</td>\n",
       "      <td>1327.03</td>\n",
       "      <td>0.0</td>\n",
       "      <td>0.00</td>\n",
       "      <td>...</td>\n",
       "      <td>0.0</td>\n",
       "      <td>0</td>\n",
       "      <td>0</td>\n",
       "      <td>0</td>\n",
       "      <td>0</td>\n",
       "      <td>0</td>\n",
       "      <td>0</td>\n",
       "      <td>0</td>\n",
       "      <td>834</td>\n",
       "      <td>0.00</td>\n",
       "    </tr>\n",
       "    <tr>\n",
       "      <th>58341</th>\n",
       "      <td>1.0</td>\n",
       "      <td>594.217</td>\n",
       "      <td>796.737</td>\n",
       "      <td>996.393</td>\n",
       "      <td>1200.53</td>\n",
       "      <td>149.53</td>\n",
       "      <td>186.48</td>\n",
       "      <td>585.36</td>\n",
       "      <td>0.0</td>\n",
       "      <td>0.00</td>\n",
       "      <td>...</td>\n",
       "      <td>0.0</td>\n",
       "      <td>0</td>\n",
       "      <td>0</td>\n",
       "      <td>0</td>\n",
       "      <td>0</td>\n",
       "      <td>0</td>\n",
       "      <td>0</td>\n",
       "      <td>0</td>\n",
       "      <td>594</td>\n",
       "      <td>0.00</td>\n",
       "    </tr>\n",
       "    <tr>\n",
       "      <th>23282</th>\n",
       "      <td>1.0</td>\n",
       "      <td>352.160</td>\n",
       "      <td>197.245</td>\n",
       "      <td>365.564</td>\n",
       "      <td>179.88</td>\n",
       "      <td>508.53</td>\n",
       "      <td>116.58</td>\n",
       "      <td>507.64</td>\n",
       "      <td>0.0</td>\n",
       "      <td>34.96</td>\n",
       "      <td>...</td>\n",
       "      <td>0.0</td>\n",
       "      <td>0</td>\n",
       "      <td>0</td>\n",
       "      <td>0</td>\n",
       "      <td>3</td>\n",
       "      <td>0</td>\n",
       "      <td>0</td>\n",
       "      <td>0</td>\n",
       "      <td>1164</td>\n",
       "      <td>0.00</td>\n",
       "    </tr>\n",
       "    <tr>\n",
       "      <th>30561</th>\n",
       "      <td>1.0</td>\n",
       "      <td>332.040</td>\n",
       "      <td>275.976</td>\n",
       "      <td>267.033</td>\n",
       "      <td>96.89</td>\n",
       "      <td>152.34</td>\n",
       "      <td>178.24</td>\n",
       "      <td>424.68</td>\n",
       "      <td>0.0</td>\n",
       "      <td>0.00</td>\n",
       "      <td>...</td>\n",
       "      <td>0.0</td>\n",
       "      <td>0</td>\n",
       "      <td>0</td>\n",
       "      <td>0</td>\n",
       "      <td>0</td>\n",
       "      <td>0</td>\n",
       "      <td>0</td>\n",
       "      <td>0</td>\n",
       "      <td>635</td>\n",
       "      <td>31.05</td>\n",
       "    </tr>\n",
       "  </tbody>\n",
       "</table>\n",
       "<p>5 rows × 71 columns</p>\n",
       "</div>"
      ],
      "text/plain": [
       "       const    arpu_6    arpu_7    arpu_8  onnet_mou_7  offnet_mou_6  \\\n",
       "5662     1.0   554.740   782.352   673.692        38.63        649.01   \n",
       "37574    1.0  1563.157  1579.675  1256.565      3158.18       1358.03   \n",
       "58341    1.0   594.217   796.737   996.393      1200.53        149.53   \n",
       "23282    1.0   352.160   197.245   365.564       179.88        508.53   \n",
       "30561    1.0   332.040   275.976   267.033        96.89        152.34   \n",
       "\n",
       "       offnet_mou_7  offnet_mou_8  roam_ic_mou_6  roam_og_mou_7  ...  \\\n",
       "5662         845.83        661.89            0.0           0.00  ...   \n",
       "37574       1144.44       1327.03            0.0           0.00  ...   \n",
       "58341        186.48        585.36            0.0           0.00  ...   \n",
       "23282        116.58        507.64            0.0          34.96  ...   \n",
       "30561        178.24        424.68            0.0           0.00  ...   \n",
       "\n",
       "       vol_2g_mb_8  monthly_2g_7  monthly_2g_8  sachet_2g_6  sachet_2g_8  \\\n",
       "5662           0.0             0             0            0            0   \n",
       "37574          0.0             0             0            0            0   \n",
       "58341          0.0             0             0            0            0   \n",
       "23282          0.0             0             0            0            3   \n",
       "30561          0.0             0             0            0            0   \n",
       "\n",
       "       monthly_3g_6  monthly_3g_7  monthly_3g_8   aon  aug_vbc_3g  \n",
       "5662              0             0             0  1360        0.00  \n",
       "37574             0             0             0   834        0.00  \n",
       "58341             0             0             0   594        0.00  \n",
       "23282             0             0             0  1164        0.00  \n",
       "30561             0             0             0   635       31.05  \n",
       "\n",
       "[5 rows x 71 columns]"
      ]
     },
     "execution_count": 65,
     "metadata": {},
     "output_type": "execute_result"
    }
   ],
   "source": [
    "X_test_sm.head()"
   ]
  },
  {
   "cell_type": "code",
   "execution_count": 66,
   "id": "2fb4790c",
   "metadata": {},
   "outputs": [
    {
     "data": {
      "text/plain": [
       "(27020, 71)"
      ]
     },
     "execution_count": 66,
     "metadata": {},
     "output_type": "execute_result"
    }
   ],
   "source": [
    "X_resampled_sm.shape"
   ]
  },
  {
   "cell_type": "code",
   "execution_count": 67,
   "id": "fc21710b",
   "metadata": {},
   "outputs": [],
   "source": [
    "y_pred_train = res.predict(X_resampled_sm)"
   ]
  },
  {
   "cell_type": "code",
   "execution_count": 68,
   "id": "af642532",
   "metadata": {},
   "outputs": [
    {
     "data": {
      "text/plain": [
       "0    0.998348\n",
       "1    0.099997\n",
       "2    0.100593\n",
       "3    0.042053\n",
       "4    0.004840\n",
       "dtype: float64"
      ]
     },
     "execution_count": 68,
     "metadata": {},
     "output_type": "execute_result"
    }
   ],
   "source": [
    "y_pred_train.head()"
   ]
  },
  {
   "cell_type": "code",
   "execution_count": 69,
   "id": "4dd3c9be",
   "metadata": {},
   "outputs": [
    {
     "data": {
      "text/plain": [
       "(27020,)"
      ]
     },
     "execution_count": 69,
     "metadata": {},
     "output_type": "execute_result"
    }
   ],
   "source": [
    "y_pred_train.shape"
   ]
  },
  {
   "cell_type": "markdown",
   "id": "30f080c7",
   "metadata": {},
   "source": [
    "## Confusion matrix for Precision and Recall and Accuracy of the model"
   ]
  },
  {
   "cell_type": "code",
   "execution_count": 70,
   "id": "8d6dd0d6",
   "metadata": {},
   "outputs": [
    {
     "data": {
      "text/plain": [
       "0        0\n",
       "1        0\n",
       "2        0\n",
       "3        0\n",
       "4        0\n",
       "        ..\n",
       "27015    1\n",
       "27016    1\n",
       "27017    1\n",
       "27018    1\n",
       "27019    1\n",
       "Name: churn_probability, Length: 27020, dtype: int64"
      ]
     },
     "execution_count": 70,
     "metadata": {},
     "output_type": "execute_result"
    }
   ],
   "source": [
    "y_resampled"
   ]
  },
  {
   "cell_type": "code",
   "execution_count": 71,
   "id": "89406e11",
   "metadata": {},
   "outputs": [],
   "source": [
    "y_pred_train_final = pd.DataFrame({'Churn_Prob': y_pred_train})"
   ]
  },
  {
   "cell_type": "code",
   "execution_count": 72,
   "id": "b8368b7d",
   "metadata": {},
   "outputs": [
    {
     "data": {
      "text/html": [
       "<div>\n",
       "<style scoped>\n",
       "    .dataframe tbody tr th:only-of-type {\n",
       "        vertical-align: middle;\n",
       "    }\n",
       "\n",
       "    .dataframe tbody tr th {\n",
       "        vertical-align: top;\n",
       "    }\n",
       "\n",
       "    .dataframe thead th {\n",
       "        text-align: right;\n",
       "    }\n",
       "</style>\n",
       "<table border=\"1\" class=\"dataframe\">\n",
       "  <thead>\n",
       "    <tr style=\"text-align: right;\">\n",
       "      <th></th>\n",
       "      <th>Churn_Prob</th>\n",
       "    </tr>\n",
       "  </thead>\n",
       "  <tbody>\n",
       "    <tr>\n",
       "      <th>0</th>\n",
       "      <td>0.998348</td>\n",
       "    </tr>\n",
       "    <tr>\n",
       "      <th>1</th>\n",
       "      <td>0.099997</td>\n",
       "    </tr>\n",
       "    <tr>\n",
       "      <th>2</th>\n",
       "      <td>0.100593</td>\n",
       "    </tr>\n",
       "    <tr>\n",
       "      <th>3</th>\n",
       "      <td>0.042053</td>\n",
       "    </tr>\n",
       "    <tr>\n",
       "      <th>4</th>\n",
       "      <td>0.004840</td>\n",
       "    </tr>\n",
       "  </tbody>\n",
       "</table>\n",
       "</div>"
      ],
      "text/plain": [
       "   Churn_Prob\n",
       "0    0.998348\n",
       "1    0.099997\n",
       "2    0.100593\n",
       "3    0.042053\n",
       "4    0.004840"
      ]
     },
     "execution_count": 72,
     "metadata": {},
     "output_type": "execute_result"
    }
   ],
   "source": [
    "y_pred_train_final.head()"
   ]
  },
  {
   "cell_type": "code",
   "execution_count": 73,
   "id": "7c21640a",
   "metadata": {},
   "outputs": [],
   "source": [
    "y_pred_train_final['Churn_Prob_2'] =  y_pred_train_final.Churn_Prob.map(lambda x: 1 if x > 0.5 else 0)"
   ]
  },
  {
   "cell_type": "code",
   "execution_count": 74,
   "id": "6dc791d5",
   "metadata": {},
   "outputs": [
    {
     "data": {
      "text/plain": [
       "array([[11719,  1791],\n",
       "       [ 1610, 11900]])"
      ]
     },
     "execution_count": 74,
     "metadata": {},
     "output_type": "execute_result"
    }
   ],
   "source": [
    "confusion = metrics.confusion_matrix(y_resampled, y_pred_train_final.Churn_Prob_2)\n",
    "confusion"
   ]
  },
  {
   "cell_type": "code",
   "execution_count": 75,
   "id": "fc9fca61",
   "metadata": {},
   "outputs": [],
   "source": [
    "def draw_roc( actual, probs ):\n",
    "    fpr, tpr, thresholds = metrics.roc_curve( actual, probs,\n",
    "                                              drop_intermediate = False )\n",
    "    auc_score = metrics.roc_auc_score( actual, probs )\n",
    "    plt.figure(figsize=(5, 5))\n",
    "    plt.plot( fpr, tpr, label='ROC curve (area = %0.2f)' % auc_score )\n",
    "    plt.plot([0, 1], [0, 1], 'k--')\n",
    "    plt.xlim([0.0, 1.0])\n",
    "    plt.ylim([0.0, 1.05])\n",
    "    plt.xlabel('False Positive Rate or [1 - True Negative Rate]')\n",
    "    plt.ylabel('True Positive Rate')\n",
    "    plt.title('Receiver operating characteristic example')\n",
    "    plt.legend(loc=\"lower right\")\n",
    "    plt.show()\n",
    "\n",
    "    return auc_score"
   ]
  },
  {
   "cell_type": "code",
   "execution_count": 76,
   "id": "7c1b5af1",
   "metadata": {},
   "outputs": [],
   "source": [
    "# Metrics dict\n",
    "metrics_dict = {}"
   ]
  },
  {
   "cell_type": "code",
   "execution_count": 77,
   "id": "00b6db5d",
   "metadata": {},
   "outputs": [],
   "source": [
    "def get_accuracy_params(y_actual, y_pred, y_proba, model):\n",
    "    # Print ROC curve\n",
    "    auc_score = draw_roc(y_actual, y_proba)\n",
    "    confusion = metrics.confusion_matrix(y_actual, y_pred)\n",
    "    print('confusion matrix: ')\n",
    "    print(confusion)\n",
    "    TP = confusion[1, 1]\n",
    "    TN = confusion[0, 0]\n",
    "    FP = confusion[0, 1]\n",
    "    FN = confusion[1, 0]\n",
    "    accuracy = (TN+TP)/(TN+TP+FN+FP)\n",
    "    print('Accuracy: ', accuracy)\n",
    "    precision = TP / (TP+FP)\n",
    "    print('Precision: ', precision)\n",
    "    recall = TP / (TP+FN)\n",
    "    print('Recall: ', recall)\n",
    "    f1_score = 2*precision*recall/(precision+recall)\n",
    "    print('F1_score: ', f1_score)\n",
    "    print('AUC score: ', auc_score)\n",
    "    metrics_dict[model] = [accuracy, precision, recall, f1_score, auc_score]\n",
    "    return metrics_dict"
   ]
  },
  {
   "cell_type": "code",
   "execution_count": 78,
   "id": "0c025a89",
   "metadata": {},
   "outputs": [
    {
     "data": {
      "image/png": "[encoded data removed]",
      "text/plain": [
       "<Figure size 360x360 with 1 Axes>"
      ]
     },
     "metadata": {
      "needs_background": "light"
     },
     "output_type": "display_data"
    },
    {
     "name": "stdout",
     "output_type": "stream",
     "text": [
      "confusion matrix: \n",
      "[[11719  1791]\n",
      " [ 1610 11900]]\n",
      "Accuracy:  0.8741302738712066\n",
      "Precision:  0.8691841355635088\n",
      "Recall:  0.8808290155440415\n",
      "F1_score:  0.8749678320649976\n",
      "AUC score:  0.935220345594814\n"
     ]
    }
   ],
   "source": [
    "metrics_dict = get_accuracy_params(y_resampled, y_pred_train_final.Churn_Prob_2, y_pred_train_final.Churn_Prob, 'Logistic_rfe_train')"
   ]
  },
  {
   "cell_type": "code",
   "execution_count": 79,
   "id": "d185ee00",
   "metadata": {},
   "outputs": [
    {
     "data": {
      "text/plain": [
       "{'Logistic_rfe_train': [0.8741302738712066,\n",
       "  0.8691841355635088,\n",
       "  0.8808290155440415,\n",
       "  0.8749678320649976,\n",
       "  0.935220345594814]}"
      ]
     },
     "execution_count": 79,
     "metadata": {},
     "output_type": "execute_result"
    }
   ],
   "source": [
    "metrics_dict"
   ]
  },
  {
   "cell_type": "markdown",
   "id": "14850e45",
   "metadata": {},
   "source": [
    "## With Logistic regression with RFE we get (on train dataset)\n",
    "\n",
    "- TBD\n",
    "\n",
    "### Let's check for test data set"
   ]
  },
  {
   "cell_type": "code",
   "execution_count": 80,
   "id": "c5f1118d",
   "metadata": {},
   "outputs": [
    {
     "data": {
      "text/plain": [
       "(30000, 133)"
      ]
     },
     "execution_count": 80,
     "metadata": {},
     "output_type": "execute_result"
    }
   ],
   "source": [
    "telecom_test_df.shape"
   ]
  },
  {
   "cell_type": "code",
   "execution_count": 81,
   "id": "53f42986",
   "metadata": {},
   "outputs": [
    {
     "data": {
      "text/plain": [
       "(30000, 2)"
      ]
     },
     "execution_count": 81,
     "metadata": {},
     "output_type": "execute_result"
    }
   ],
   "source": [
    "telecom_test_sol_df.shape"
   ]
  },
  {
   "cell_type": "code",
   "execution_count": 82,
   "id": "2f2703de",
   "metadata": {},
   "outputs": [],
   "source": [
    "# Lets do prediction on telecom_test_df dataset"
   ]
  },
  {
   "cell_type": "code",
   "execution_count": 83,
   "id": "c9c47355",
   "metadata": {},
   "outputs": [],
   "source": [
    "telecom_test_df = telecom_test_df[col]\n",
    "telecom_test_df = sm.add_constant(telecom_test_df)"
   ]
  },
  {
   "cell_type": "code",
   "execution_count": 84,
   "id": "e4ddd788",
   "metadata": {},
   "outputs": [],
   "source": [
    "y_pred_test = res.predict(telecom_test_df)"
   ]
  },
  {
   "cell_type": "code",
   "execution_count": 85,
   "id": "af2a87e2",
   "metadata": {},
   "outputs": [],
   "source": [
    "y_pred_test_final = pd.DataFrame({'Churn_Prob': y_pred_test})"
   ]
  },
  {
   "cell_type": "code",
   "execution_count": 86,
   "id": "0f2afa74",
   "metadata": {},
   "outputs": [
    {
     "data": {
      "text/html": [
       "<div>\n",
       "<style scoped>\n",
       "    .dataframe tbody tr th:only-of-type {\n",
       "        vertical-align: middle;\n",
       "    }\n",
       "\n",
       "    .dataframe tbody tr th {\n",
       "        vertical-align: top;\n",
       "    }\n",
       "\n",
       "    .dataframe thead th {\n",
       "        text-align: right;\n",
       "    }\n",
       "</style>\n",
       "<table border=\"1\" class=\"dataframe\">\n",
       "  <thead>\n",
       "    <tr style=\"text-align: right;\">\n",
       "      <th></th>\n",
       "      <th>Churn_Prob</th>\n",
       "    </tr>\n",
       "  </thead>\n",
       "  <tbody>\n",
       "    <tr>\n",
       "      <th>0</th>\n",
       "      <td>0.134691</td>\n",
       "    </tr>\n",
       "    <tr>\n",
       "      <th>1</th>\n",
       "      <td>0.283632</td>\n",
       "    </tr>\n",
       "    <tr>\n",
       "      <th>2</th>\n",
       "      <td>0.783825</td>\n",
       "    </tr>\n",
       "    <tr>\n",
       "      <th>3</th>\n",
       "      <td>0.129759</td>\n",
       "    </tr>\n",
       "    <tr>\n",
       "      <th>4</th>\n",
       "      <td>0.281589</td>\n",
       "    </tr>\n",
       "  </tbody>\n",
       "</table>\n",
       "</div>"
      ],
      "text/plain": [
       "   Churn_Prob\n",
       "0    0.134691\n",
       "1    0.283632\n",
       "2    0.783825\n",
       "3    0.129759\n",
       "4    0.281589"
      ]
     },
     "execution_count": 86,
     "metadata": {},
     "output_type": "execute_result"
    }
   ],
   "source": [
    "y_pred_test_final.head()"
   ]
  },
  {
   "cell_type": "code",
   "execution_count": 87,
   "id": "068826c3",
   "metadata": {},
   "outputs": [],
   "source": [
    "y_pred_test_final['Churn_Prob_2'] =  y_pred_test_final.Churn_Prob.map(lambda x: 1 if x > 0.5 else 0)"
   ]
  },
  {
   "cell_type": "code",
   "execution_count": 88,
   "id": "094be928",
   "metadata": {},
   "outputs": [
    {
     "data": {
      "image/png": "[encoded data removed]",
      "text/plain": [
       "<Figure size 360x360 with 1 Axes>"
      ]
     },
     "metadata": {
      "needs_background": "light"
     },
     "output_type": "display_data"
    },
    {
     "name": "stdout",
     "output_type": "stream",
     "text": [
      "confusion matrix: \n",
      "[[21243  5698]\n",
      " [  405  2654]]\n",
      "Accuracy:  0.7965666666666666\n",
      "Precision:  0.31776819923371646\n",
      "Recall:  0.8676037920889179\n",
      "F1_score:  0.4651651914819034\n",
      "AUC score:  0.9025490532573092\n"
     ]
    }
   ],
   "source": [
    "metrics_dict = get_accuracy_params(telecom_test_sol_df.churn_probability, y_pred_test_final.Churn_Prob_2, y_pred_test_final.Churn_Prob, 'Logistic_rfe_test')"
   ]
  },
  {
   "cell_type": "code",
   "execution_count": 90,
   "id": "deb9c0d0",
   "metadata": {},
   "outputs": [
    {
     "data": {
      "text/plain": [
       "{'Logistic_rfe_train': [0.8741302738712066,\n",
       "  0.8691841355635088,\n",
       "  0.8808290155440415,\n",
       "  0.8749678320649976,\n",
       "  0.935220345594814],\n",
       " 'Logistic_rfe_test': [0.7965666666666666,\n",
       "  0.31776819923371646,\n",
       "  0.8676037920889179,\n",
       "  0.4651651914819034,\n",
       "  0.9025490532573092]}"
      ]
     },
     "execution_count": 90,
     "metadata": {},
     "output_type": "execute_result"
    }
   ],
   "source": [
    "metrics_dict"
   ]
  },
  {
   "cell_type": "markdown",
   "id": "ec524c33",
   "metadata": {},
   "source": [
    "### This seems a good model but lets compare with other models."
   ]
  },
  {
   "cell_type": "markdown",
   "id": "bd93b4a0",
   "metadata": {},
   "source": [
    "## PCA and Logistic Regression to check if model improves or not."
   ]
  },
  {
   "cell_type": "markdown",
   "id": "0ecb5679",
   "metadata": {},
   "source": [
    "## PCA on the data\n",
    "\n",
    "- While computing the principal components, we must not include the entire dataset. Model building is all about doing well on the data we haven't seen yet!\n",
    "- So we'll calculate the PCs using the train data, and apply them later on the test data."
   ]
  },
  {
   "cell_type": "code",
   "execution_count": 91,
   "id": "e2a5cd74",
   "metadata": {},
   "outputs": [],
   "source": [
    "# Looking at the data again"
   ]
  },
  {
   "cell_type": "code",
   "execution_count": 92,
   "id": "228cc28f",
   "metadata": {},
   "outputs": [
    {
     "data": {
      "text/plain": [
       "(27020,)"
      ]
     },
     "execution_count": 92,
     "metadata": {},
     "output_type": "execute_result"
    }
   ],
   "source": [
    "y_resampled.shape"
   ]
  },
  {
   "cell_type": "code",
   "execution_count": 93,
   "id": "f357b520",
   "metadata": {},
   "outputs": [
    {
     "data": {
      "text/plain": [
       "(27020, 133)"
      ]
     },
     "execution_count": 93,
     "metadata": {},
     "output_type": "execute_result"
    }
   ],
   "source": [
    "X_resampled.shape"
   ]
  },
  {
   "cell_type": "code",
   "execution_count": 94,
   "id": "d5bfc9eb",
   "metadata": {},
   "outputs": [],
   "source": [
    "pca = PCA(random_state=42)"
   ]
  },
  {
   "cell_type": "code",
   "execution_count": 95,
   "id": "4879eab0",
   "metadata": {},
   "outputs": [
    {
     "data": {
      "text/html": [
       "<style>#sk-container-id-1 {color: black;background-color: white;}#sk-container-id-1 pre{padding: 0;}#sk-container-id-1 div.sk-toggleable {background-color: white;}#sk-container-id-1 label.sk-toggleable__label {cursor: pointer;display: block;width: 100%;margin-bottom: 0;padding: 0.3em;box-sizing: border-box;text-align: center;}#sk-container-id-1 label.sk-toggleable__label-arrow:before {content: \"▸\";float: left;margin-right: 0.25em;color: #696969;}#sk-container-id-1 label.sk-toggleable__label-arrow:hover:before {color: black;}#sk-container-id-1 div.sk-estimator:hover label.sk-toggleable__label-arrow:before {color: black;}#sk-container-id-1 div.sk-toggleable__content {max-height: 0;max-width: 0;overflow: hidden;text-align: left;background-color: #f0f8ff;}#sk-container-id-1 div.sk-toggleable__content pre {margin: 0.2em;color: black;border-radius: 0.25em;background-color: #f0f8ff;}#sk-container-id-1 input.sk-toggleable__control:checked~div.sk-toggleable__content {max-height: 200px;max-width: 100%;overflow: auto;}#sk-container-id-1 input.sk-toggleable__control:checked~label.sk-toggleable__label-arrow:before {content: \"▾\";}#sk-container-id-1 div.sk-estimator input.sk-toggleable__control:checked~label.sk-toggleable__label {background-color: #d4ebff;}#sk-container-id-1 div.sk-label input.sk-toggleable__control:checked~label.sk-toggleable__label {background-color: #d4ebff;}#sk-container-id-1 input.sk-hidden--visually {border: 0;clip: rect(1px 1px 1px 1px);clip: rect(1px, 1px, 1px, 1px);height: 1px;margin: -1px;overflow: hidden;padding: 0;position: absolute;width: 1px;}#sk-container-id-1 div.sk-estimator {font-family: monospace;background-color: #f0f8ff;border: 1px dotted black;border-radius: 0.25em;box-sizing: border-box;margin-bottom: 0.5em;}#sk-container-id-1 div.sk-estimator:hover {background-color: #d4ebff;}#sk-container-id-1 div.sk-parallel-item::after {content: \"\";width: 100%;border-bottom: 1px solid gray;flex-grow: 1;}#sk-container-id-1 div.sk-label:hover label.sk-toggleable__label {background-color: #d4ebff;}#sk-container-id-1 div.sk-serial::before {content: \"\";position: absolute;border-left: 1px solid gray;box-sizing: border-box;top: 0;bottom: 0;left: 50%;z-index: 0;}#sk-container-id-1 div.sk-serial {display: flex;flex-direction: column;align-items: center;background-color: white;padding-right: 0.2em;padding-left: 0.2em;position: relative;}#sk-container-id-1 div.sk-item {position: relative;z-index: 1;}#sk-container-id-1 div.sk-parallel {display: flex;align-items: stretch;justify-content: center;background-color: white;position: relative;}#sk-container-id-1 div.sk-item::before, #sk-container-id-1 div.sk-parallel-item::before {content: \"\";position: absolute;border-left: 1px solid gray;box-sizing: border-box;top: 0;bottom: 0;left: 50%;z-index: -1;}#sk-container-id-1 div.sk-parallel-item {display: flex;flex-direction: column;z-index: 1;position: relative;background-color: white;}#sk-container-id-1 div.sk-parallel-item:first-child::after {align-self: flex-end;width: 50%;}#sk-container-id-1 div.sk-parallel-item:last-child::after {align-self: flex-start;width: 50%;}#sk-container-id-1 div.sk-parallel-item:only-child::after {width: 0;}#sk-container-id-1 div.sk-dashed-wrapped {border: 1px dashed gray;margin: 0 0.4em 0.5em 0.4em;box-sizing: border-box;padding-bottom: 0.4em;background-color: white;}#sk-container-id-1 div.sk-label label {font-family: monospace;font-weight: bold;display: inline-block;line-height: 1.2em;}#sk-container-id-1 div.sk-label-container {text-align: center;}#sk-container-id-1 div.sk-container {/* jupyter's `normalize.less` sets `[hidden] { display: none; }` but bootstrap.min.css set `[hidden] { display: none !important; }` so we also need the `!important` here to be able to override the default hidden behavior on the sphinx rendered scikit-learn.org. See: https://github.com/scikit-learn/scikit-learn/issues/21755 */display: inline-block !important;position: relative;}#sk-container-id-1 div.sk-text-repr-fallback {display: none;}</style><div id=\"sk-container-id-1\" class=\"sk-top-container\"><div class=\"sk-text-repr-fallback\"><pre>PCA(random_state=42)</pre><b>In a Jupyter environment, please rerun this cell to show the HTML representation or trust the notebook. <br />On GitHub, the HTML representation is unable to render, please try loading this page with nbviewer.org.</b></div><div class=\"sk-container\" hidden><div class=\"sk-item\"><div class=\"sk-estimator sk-toggleable\"><input class=\"sk-toggleable__control sk-hidden--visually\" id=\"sk-estimator-id-1\" type=\"checkbox\" checked><label for=\"sk-estimator-id-1\" class=\"sk-toggleable__label sk-toggleable__label-arrow\">PCA</label><div class=\"sk-toggleable__content\"><pre>PCA(random_state=42)</pre></div></div></div></div></div>"
      ],
      "text/plain": [
       "PCA(random_state=42)"
      ]
     },
     "execution_count": 95,
     "metadata": {},
     "output_type": "execute_result"
    }
   ],
   "source": [
    "pca.fit(X_resampled)"
   ]
  },
  {
   "cell_type": "code",
   "execution_count": 96,
   "id": "6a324422",
   "metadata": {},
   "outputs": [
    {
     "data": {
      "text/plain": [
       "array([[ 1.53313862e-02,  1.10992270e-02, -6.97007488e-03, ...,\n",
       "        -2.28113934e-02, -3.73357535e-02, -4.30985978e-02],\n",
       "       [ 5.00877055e-02,  5.50249444e-02,  3.73963787e-02, ...,\n",
       "        -2.07969692e-02, -4.11226143e-02, -5.53860383e-02],\n",
       "       [ 4.82489775e-02,  7.31908792e-02,  6.84757748e-02, ...,\n",
       "         8.18700856e-02,  1.31398750e-01,  1.41482728e-01],\n",
       "       ...,\n",
       "       [ 0.00000000e+00, -1.96945791e-15, -6.09000047e-15, ...,\n",
       "        -1.54753140e-15,  9.78781834e-16, -6.70483881e-17],\n",
       "       [ 0.00000000e+00,  1.40078463e-16, -2.96175698e-16, ...,\n",
       "        -8.95753151e-18,  6.26343856e-17, -6.61573820e-17],\n",
       "       [-0.00000000e+00,  1.40030644e-17,  7.45022987e-18, ...,\n",
       "        -4.71491169e-17,  4.90775548e-17, -6.12469177e-17]])"
      ]
     },
     "execution_count": 96,
     "metadata": {},
     "output_type": "execute_result"
    }
   ],
   "source": [
    "pca.components_"
   ]
  },
  {
   "cell_type": "code",
   "execution_count": 97,
   "id": "462adf05",
   "metadata": {},
   "outputs": [
    {
     "data": {
      "text/plain": [
       "array([1.93532890e-01, 1.56022057e-01, 7.54588334e-02, 6.04125810e-02,\n",
       "       5.29116883e-02, 4.87331684e-02, 4.54258549e-02, 3.26025690e-02,\n",
       "       2.11815104e-02, 2.00973642e-02, 1.95261696e-02, 1.82498326e-02,\n",
       "       1.57143830e-02, 1.27472990e-02, 1.23173394e-02, 1.21749037e-02,\n",
       "       1.08736647e-02, 1.03987433e-02, 1.01319017e-02, 9.58077918e-03,\n",
       "       8.90667488e-03, 8.35002167e-03, 7.39999852e-03, 7.01667224e-03,\n",
       "       6.56135093e-03, 6.51606472e-03, 6.27260357e-03, 5.67304269e-03,\n",
       "       5.39442330e-03, 5.24926279e-03, 4.95051165e-03, 4.57674190e-03,\n",
       "       4.30705716e-03, 3.88509078e-03, 3.43681937e-03, 3.37312252e-03,\n",
       "       3.11148420e-03, 2.98760466e-03, 2.92684186e-03, 2.86737321e-03,\n",
       "       2.80310931e-03, 2.69292903e-03, 2.59815048e-03, 2.50476138e-03,\n",
       "       2.31891255e-03, 2.20302016e-03, 2.16408746e-03, 2.08020527e-03,\n",
       "       1.96062405e-03, 1.80632330e-03, 1.76405098e-03, 1.70158225e-03,\n",
       "       1.66856072e-03, 1.56615003e-03, 1.41719171e-03, 1.38240888e-03,\n",
       "       1.30535356e-03, 1.28668432e-03, 1.22979148e-03, 1.19601999e-03,\n",
       "       1.05577129e-03, 1.02393270e-03, 9.74613070e-04, 9.52791696e-04,\n",
       "       9.17719551e-04, 9.00236872e-04, 8.85968574e-04, 8.48568265e-04,\n",
       "       8.12258550e-04, 7.95555052e-04, 7.42651423e-04, 6.94795332e-04,\n",
       "       6.57990943e-04, 6.18493299e-04, 5.83101619e-04, 5.70534303e-04,\n",
       "       5.41579037e-04, 4.82444004e-04, 4.73882928e-04, 4.45186626e-04,\n",
       "       4.26276689e-04, 4.10140462e-04, 3.87202293e-04, 3.53160299e-04,\n",
       "       3.29325701e-04, 3.25252827e-04, 3.18037685e-04, 2.89146885e-04,\n",
       "       2.74422180e-04, 2.60140757e-04, 2.45350439e-04, 1.91174889e-04,\n",
       "       1.81600958e-04, 1.78736794e-04, 1.68943773e-04, 1.50107287e-04,\n",
       "       1.48039686e-04, 1.36221061e-04, 1.14326027e-04, 1.06314761e-04,\n",
       "       9.67673419e-05, 9.54623542e-05, 6.37131465e-05, 5.88303141e-05,\n",
       "       5.38293737e-05, 4.49848730e-05, 3.88606344e-05, 1.85384695e-05,\n",
       "       1.74429773e-05, 1.48923191e-05, 9.26910183e-06, 6.33582016e-06,\n",
       "       1.85766897e-06, 8.05653598e-07, 2.00884870e-07, 3.35836386e-12,\n",
       "       1.99406625e-12, 1.59655202e-12, 1.35437842e-12, 1.20267739e-12,\n",
       "       1.07639602e-12, 1.06717423e-12, 7.21141199e-13, 5.39425918e-13,\n",
       "       3.81335209e-13, 3.78113299e-13, 3.64875019e-13, 2.75470458e-13,\n",
       "       2.24232986e-13, 1.00910377e-13, 1.34597014e-33, 7.57432058e-34,\n",
       "       7.57432058e-34])"
      ]
     },
     "execution_count": 97,
     "metadata": {},
     "output_type": "execute_result"
    }
   ],
   "source": [
    "pca.explained_variance_ratio_"
   ]
  },
  {
   "cell_type": "code",
   "execution_count": 98,
   "id": "35ab804f",
   "metadata": {},
   "outputs": [],
   "source": [
    "var_cumu = np.cumsum(pca.explained_variance_ratio_)"
   ]
  },
  {
   "cell_type": "code",
   "execution_count": 99,
   "id": "5653298c",
   "metadata": {},
   "outputs": [
    {
     "data": {
      "text/plain": [
       "[<matplotlib.lines.Line2D at 0x7f99f1ff8af0>]"
      ]
     },
     "execution_count": 99,
     "metadata": {},
     "output_type": "execute_result"
    },
    {
     "data": {
      "image/png": "[encoded data removed]",
      "text/plain": [
       "<Figure size 864x576 with 1 Axes>"
      ]
     },
     "metadata": {
      "needs_background": "light"
     },
     "output_type": "display_data"
    }
   ],
   "source": [
    "fig = plt.figure(figsize=[12,8])\n",
    "plt.plot(range(1,len(var_cumu)+1), var_cumu)"
   ]
  },
  {
   "cell_type": "markdown",
   "id": "e6e46d15",
   "metadata": {},
   "source": [
    "## Looking at the scree plot with 50 PCs we have more than 95% of variance explained."
   ]
  },
  {
   "cell_type": "code",
   "execution_count": 100,
   "id": "6b98d260",
   "metadata": {},
   "outputs": [],
   "source": [
    "pca_final = IncrementalPCA(n_components=50)"
   ]
  },
  {
   "cell_type": "code",
   "execution_count": 101,
   "id": "ef462a28",
   "metadata": {},
   "outputs": [],
   "source": [
    "df_train_pca = pca_final.fit_transform(X_resampled)"
   ]
  },
  {
   "cell_type": "code",
   "execution_count": 102,
   "id": "4acf2f4b",
   "metadata": {},
   "outputs": [
    {
     "data": {
      "text/plain": [
       "(27020, 50)"
      ]
     },
     "execution_count": 102,
     "metadata": {},
     "output_type": "execute_result"
    }
   ],
   "source": [
    "df_train_pca.shape"
   ]
  },
  {
   "cell_type": "code",
   "execution_count": 103,
   "id": "51c3c638",
   "metadata": {},
   "outputs": [],
   "source": [
    "corrmat = np.corrcoef(df_train_pca.transpose())"
   ]
  },
  {
   "cell_type": "code",
   "execution_count": 104,
   "id": "469fc042",
   "metadata": {},
   "outputs": [
    {
     "data": {
      "text/plain": [
       "(50, 50)"
      ]
     },
     "execution_count": 104,
     "metadata": {},
     "output_type": "execute_result"
    }
   ],
   "source": [
    "corrmat.shape"
   ]
  },
  {
   "cell_type": "code",
   "execution_count": 105,
   "id": "e3fdc23f",
   "metadata": {},
   "outputs": [
    {
     "data": {
      "text/plain": [
       "array([[ 1.00000000e+00, -2.07850227e-07, -3.97878225e-08, ...,\n",
       "         3.69218602e-05, -4.48797750e-05,  2.91848880e-05],\n",
       "       [-2.07850227e-07,  1.00000000e+00,  4.72780534e-08, ...,\n",
       "         2.84252582e-05, -3.41679477e-05,  5.81730429e-05],\n",
       "       [-3.97878225e-08,  4.72780534e-08,  1.00000000e+00, ...,\n",
       "         9.65851238e-06,  1.97470649e-04,  9.44072612e-05],\n",
       "       ...,\n",
       "       [ 3.69218602e-05,  2.84252582e-05,  9.65851238e-06, ...,\n",
       "         1.00000000e+00, -6.30983094e-02,  7.71913685e-02],\n",
       "       [-4.48797750e-05, -3.41679477e-05,  1.97470649e-04, ...,\n",
       "        -6.30983094e-02,  1.00000000e+00, -7.21870014e-02],\n",
       "       [ 2.91848880e-05,  5.81730429e-05,  9.44072612e-05, ...,\n",
       "         7.71913685e-02, -7.21870014e-02,  1.00000000e+00]])"
      ]
     },
     "execution_count": 105,
     "metadata": {},
     "output_type": "execute_result"
    }
   ],
   "source": [
    "corrmat"
   ]
  },
  {
   "cell_type": "markdown",
   "id": "e5852693",
   "metadata": {},
   "source": [
    "### Applying the transformation on the test set"
   ]
  },
  {
   "cell_type": "code",
   "execution_count": 106,
   "id": "76137d7b",
   "metadata": {},
   "outputs": [
    {
     "data": {
      "text/plain": [
       "(6304, 70)"
      ]
     },
     "execution_count": 106,
     "metadata": {},
     "output_type": "execute_result"
    }
   ],
   "source": [
    "X_test.shape"
   ]
  },
  {
   "cell_type": "code",
   "execution_count": 107,
   "id": "2d03012a",
   "metadata": {},
   "outputs": [
    {
     "data": {
      "text/plain": [
       "(6304, 50)"
      ]
     },
     "execution_count": 107,
     "metadata": {},
     "output_type": "execute_result"
    }
   ],
   "source": [
    "df_test_pca = pca_final.transform(X_test_ori)\n",
    "df_test_pca.shape"
   ]
  },
  {
   "cell_type": "markdown",
   "id": "8128fc2c",
   "metadata": {},
   "source": [
    "## Applying logistic regression on the data on our Principal components"
   ]
  },
  {
   "cell_type": "code",
   "execution_count": 108,
   "id": "af703228",
   "metadata": {},
   "outputs": [],
   "source": [
    "learner_pca = LogisticRegression()"
   ]
  },
  {
   "cell_type": "code",
   "execution_count": 109,
   "id": "c9149f26",
   "metadata": {},
   "outputs": [],
   "source": [
    "model_pca = learner_pca.fit(df_train_pca, y_resampled)"
   ]
  },
  {
   "cell_type": "markdown",
   "id": "1fadaff5",
   "metadata": {},
   "source": [
    "### Making predictions on the test set"
   ]
  },
  {
   "cell_type": "code",
   "execution_count": 110,
   "id": "9da7cae5",
   "metadata": {},
   "outputs": [],
   "source": [
    "pred_probs_test = model_pca.predict_proba(df_test_pca)"
   ]
  },
  {
   "cell_type": "code",
   "execution_count": 111,
   "id": "98027341",
   "metadata": {},
   "outputs": [
    {
     "data": {
      "text/plain": [
       "'0.77'"
      ]
     },
     "execution_count": 111,
     "metadata": {},
     "output_type": "execute_result"
    }
   ],
   "source": [
    "\"{:2.2}\".format(metrics.roc_auc_score(y_test, pred_probs_test[:,1]))"
   ]
  },
  {
   "cell_type": "markdown",
   "id": "169fcb86-5c15-4af0-9f41-bf1337d8df35",
   "metadata": {},
   "source": [
    "##### So we could see the accuracy coming close to 77%.\n",
    "We got a rough idea with PCA and Logistic Regression.\n",
    "We now move to Lasso and Ridge Regression for further analysis and actual conclusion on right predictors and coefficients.\n",
    "Let's try other models to see how it performs."
   ]
  },
  {
   "cell_type": "code",
   "execution_count": 112,
   "id": "c461582b",
   "metadata": {},
   "outputs": [
    {
     "ename": "TypeError",
     "evalue": "get_accuracy_params() missing 1 required positional argument: 'model'",
     "output_type": "error",
     "traceback": [
      "\u001b[0;31m---------------------------------------------------------------------------\u001b[0m",
      "\u001b[0;31mTypeError\u001b[0m                                 Traceback (most recent call last)",
      "\u001b[0;32m/var/folders/zh/dtjt7c1928n9c2xwnxyc60wc0000gn/T/ipykernel_17734/3570983893.py\u001b[0m in \u001b[0;36m<module>\u001b[0;34m\u001b[0m\n\u001b[0;32m----> 1\u001b[0;31m \u001b[0mmetrics_dict\u001b[0m \u001b[0;34m=\u001b[0m \u001b[0mget_accuracy_params\u001b[0m\u001b[0;34m(\u001b[0m\u001b[0my_resampled\u001b[0m\u001b[0;34m,\u001b[0m \u001b[0my_pred_train_final\u001b[0m\u001b[0;34m,\u001b[0m \u001b[0;34m'Logistic_pca'\u001b[0m\u001b[0;34m)\u001b[0m\u001b[0;34m\u001b[0m\u001b[0;34m\u001b[0m\u001b[0m\n\u001b[0m",
      "\u001b[0;31mTypeError\u001b[0m: get_accuracy_params() missing 1 required positional argument: 'model'"
     ]
    }
   ],
   "source": [
    "metrics_dict = get_accuracy_params(y_resampled, y_pred_train_final, 'Logistic_pca')"
   ]
  },
  {
   "cell_type": "markdown",
   "id": "adbe4de2-2ddd-4477-bdf8-bec63bad5f83",
   "metadata": {},
   "source": [
    "### Ridge and Lasso Regression\n"
   ]
  },
  {
   "cell_type": "markdown",
   "id": "d9e41d1e-68ee-4f8f-ac7c-d1295a41a737",
   "metadata": {},
   "source": [
    "#### Ridge Regression"
   ]
  },
  {
   "cell_type": "code",
   "execution_count": null,
   "id": "7ac62178-e44d-44d4-a66a-7f01e6dcaa06",
   "metadata": {
    "scrolled": true
   },
   "outputs": [],
   "source": [
    "# list of alphas to tune - if value too high it will lead to underfitting, if it is too low, \n",
    "# it will not handle the overfitting\n",
    "params = {'alpha': [0.0001, 0.001, 0.01, 0.05, 0.1, \n",
    " 0.2, 0.3, 0.4, 0.5, 0.6, 0.7, 0.8, 0.9, 1.0, 2.0, 3.0, \n",
    " 4.0, 5.0, 6.0, 7.0, 8.0, 9.0, 10.0, 20, 50, 100, 500, 1000 ]}\n",
    "\n",
    "ridge = Ridge()\n",
    "\n",
    "# cross validation\n",
    "folds = 10\n",
    "model_cv = GridSearchCV(estimator = ridge, \n",
    "                        param_grid = params, \n",
    "                        scoring= 'neg_mean_absolute_error',  \n",
    "                        cv = folds, \n",
    "                        return_train_score=True,\n",
    "                        verbose = 1)  \n",
    "\n",
    "\n",
    "model_cv.fit(X_resampled, y_resampled)"
   ]
  },
  {
   "cell_type": "code",
   "execution_count": null,
   "id": "64ef3402-9e82-4f08-abf7-da8a954dcc15",
   "metadata": {},
   "outputs": [],
   "source": [
    "# Printing the best hyperparameter alpha\n",
    "print(model_cv.best_params_)"
   ]
  },
  {
   "cell_type": "code",
   "execution_count": null,
   "id": "2630e3d7-1bd8-4b0e-a28b-33a97c0c59e7",
   "metadata": {},
   "outputs": [],
   "source": [
    "#Fitting Ridge model for alpha = 0.0001 and printing coefficients which have been penalised\n",
    "alpha = 0.0001\n",
    "\n",
    "ridge = Ridge(alpha=alpha)\n",
    "        \n",
    "ridge.fit(X_resampled, y_resampled) "
   ]
  },
  {
   "cell_type": "code",
   "execution_count": null,
   "id": "d1458459-eb5b-4b64-8c53-496ae8ce9f5f",
   "metadata": {},
   "outputs": [],
   "source": [
    "cv_result_r = pd.DataFrame(model_cv.cv_results_)\n",
    "cv_result_r['param_alpha'] = cv_result_r['param_alpha'].astype('float32')\n",
    "cv_result_r.head()"
   ]
  },
  {
   "cell_type": "code",
   "execution_count": null,
   "id": "325a426e-73ce-43ec-a3e9-51bf96cf5546",
   "metadata": {},
   "outputs": [],
   "source": [
    "plt.figure(figsize=(16,8))\n",
    "plt.plot(cv_result_r['param_alpha'],cv_result_r['mean_train_score'])\n",
    "plt.plot(cv_result_r['param_alpha'],cv_result_r['mean_test_score'])\n",
    "plt.xscale('log')\n",
    "plt.ylabel('R2 Score')\n",
    "plt.xlabel('Alpha')\n",
    "plt.show()"
   ]
  },
  {
   "cell_type": "markdown",
   "id": "2d01dce2",
   "metadata": {},
   "source": [
    "## Looking at the curve, as they are not converging we will go ahead with Lasso."
   ]
  },
  {
   "cell_type": "code",
   "execution_count": null,
   "id": "3697a328",
   "metadata": {},
   "outputs": [],
   "source": [
    "# Lets do prediction for test data and train data\n",
    "# train data"
   ]
  },
  {
   "cell_type": "code",
   "execution_count": null,
   "id": "46857b32",
   "metadata": {},
   "outputs": [],
   "source": [
    "y_train_pred = ridge.predict(X_resampled)\n",
    "metrics.r2_score(y_true=y_resampled, y_pred=y_train_pred)"
   ]
  },
  {
   "cell_type": "code",
   "execution_count": null,
   "id": "c05505ed",
   "metadata": {},
   "outputs": [],
   "source": [
    "# Prediction for test data \n",
    "y_pred_test = ridge.predict(X_resampled)"
   ]
  },
  {
   "cell_type": "code",
   "execution_count": null,
   "id": "e68121ef",
   "metadata": {},
   "outputs": [],
   "source": [
    "y_pred_test"
   ]
  },
  {
   "cell_type": "code",
   "execution_count": null,
   "id": "d077aadf",
   "metadata": {},
   "outputs": [],
   "source": []
  }
 ],
 "metadata": {
  "kernelspec": {
   "display_name": "Python 3 (ipykernel)",
   "language": "python",
   "name": "python3"
  },
  "language_info": {
   "codemirror_mode": {
    "name": "ipython",
    "version": 3
   },
   "file_extension": ".py",
   "mimetype": "text/x-python",
   "name": "python",
   "nbconvert_exporter": "python",
   "pygments_lexer": "ipython3",
   "version": "3.9.7"
  }
 },
 "nbformat": 4,
 "nbformat_minor": 5
}
