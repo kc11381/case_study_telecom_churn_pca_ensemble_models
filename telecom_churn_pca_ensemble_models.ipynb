{
 "cells": [
  {
   "cell_type": "markdown",
   "id": "85815f8b",
   "metadata": {},
   "source": [
    "# Telecom Churn case study using PCA and Ensemble\n",
    "\n",
    "### Problem Statement\n",
    "In the telecom industry, customers are able to choose from multiple service providers and actively switch from one operator to another. In this highly competitive market, the telecommunications industry experiences an average of 15-25% annual churn rate. Given the fact that it costs 5-10 times more to acquire a new customer than to retain an existing one, customer retention has now become even more important than customer acquisition.\n",
    "\n",
    "For many incumbent operators, retaining high profitable customers is the number one business\n",
    "goal. To reduce customer churn, telecom companies need to predict which customers are at high risk of churn. In this project, you will analyze customer-level data of a leading telecom firm, build predictive models to identify customers at high risk of churn.\n",
    "\n",
    "In this competition, your goal is to build a machine learning model that is able to predict churning customers based on the features provided for their usage.\n",
    "\n",
    "### Goal\n",
    "It is your job to predict if a customer will churn, given the ~170 columns containing customer behavior, usage patterns, payment patterns, and other features that might be relevant. Your target variable is \"churn_probability\"\n",
    "Note: Make sure your accuracy is greater than the sample submission that is present in the leaderboard"
   ]
  },
  {
   "cell_type": "code",
   "execution_count": 1,
   "id": "a5dfb968",
   "metadata": {},
   "outputs": [],
   "source": [
    "import matplotlib.pyplot as plt\n",
    "import numpy as np\n",
    "import pandas as pd\n",
    "import seaborn as sns\n",
    "import statsmodels.api as sm\n",
    "import warnings\n",
    "import xgboost as xgb \n",
    "\n",
    "from imblearn.over_sampling import SMOTE\n",
    "from sklearn import metrics\n",
    "from sklearn.decomposition import IncrementalPCA\n",
    "from sklearn.decomposition import PCA\n",
    "from sklearn.ensemble import RandomForestClassifier\n",
    "from sklearn.feature_selection import RFE\n",
    "from sklearn.linear_model import LinearRegression\n",
    "from sklearn.linear_model import LogisticRegression\n",
    "from sklearn.linear_model import Lasso\n",
    "from sklearn.linear_model import Ridge\n",
    "from sklearn.model_selection import GridSearchCV\n",
    "from sklearn.model_selection import RandomizedSearchCV\n",
    "from sklearn.model_selection import train_test_split\n",
    "from sklearn.metrics import accuracy_score\n",
    "from sklearn.metrics import classification_report\n",
    "from sklearn.metrics import confusion_matrix\n",
    "from sklearn.metrics import mean_squared_error\n",
    "from sklearn.metrics import plot_roc_curve\n",
    "from sklearn.metrics import r2_score\n",
    "from sklearn.preprocessing import MinMaxScaler\n",
    "\n",
    "# to ignore the warnings\n",
    "warnings.filterwarnings('ignore')"
   ]
  },
  {
   "cell_type": "markdown",
   "id": "0db327e7",
   "metadata": {},
   "source": [
    "## Step 1. Reading, Understanding and Visualizing the data"
   ]
  },
  {
   "cell_type": "code",
   "execution_count": 2,
   "id": "75b4d852",
   "metadata": {},
   "outputs": [],
   "source": [
    "# train dataset\n",
    "telecom_train_df = pd.read_csv('train (1).csv')\n",
    "# test dataset\n",
    "telecom_test_df = pd.read_csv('test (1).csv')\n",
    "# test solution dataset\n",
    "telecom_test_sol_df = pd.read_csv('solution (1).csv')"
   ]
  },
  {
   "cell_type": "code",
   "execution_count": 3,
   "id": "aafd7bff",
   "metadata": {},
   "outputs": [
    {
     "data": {
      "text/html": [
       "<div>\n",
       "<style scoped>\n",
       "    .dataframe tbody tr th:only-of-type {\n",
       "        vertical-align: middle;\n",
       "    }\n",
       "\n",
       "    .dataframe tbody tr th {\n",
       "        vertical-align: top;\n",
       "    }\n",
       "\n",
       "    .dataframe thead th {\n",
       "        text-align: right;\n",
       "    }\n",
       "</style>\n",
       "<table border=\"1\" class=\"dataframe\">\n",
       "  <thead>\n",
       "    <tr style=\"text-align: right;\">\n",
       "      <th></th>\n",
       "      <th>id</th>\n",
       "      <th>circle_id</th>\n",
       "      <th>loc_og_t2o_mou</th>\n",
       "      <th>std_og_t2o_mou</th>\n",
       "      <th>loc_ic_t2o_mou</th>\n",
       "      <th>last_date_of_month_6</th>\n",
       "      <th>last_date_of_month_7</th>\n",
       "      <th>last_date_of_month_8</th>\n",
       "      <th>arpu_6</th>\n",
       "      <th>arpu_7</th>\n",
       "      <th>...</th>\n",
       "      <th>sachet_3g_7</th>\n",
       "      <th>sachet_3g_8</th>\n",
       "      <th>fb_user_6</th>\n",
       "      <th>fb_user_7</th>\n",
       "      <th>fb_user_8</th>\n",
       "      <th>aon</th>\n",
       "      <th>aug_vbc_3g</th>\n",
       "      <th>jul_vbc_3g</th>\n",
       "      <th>jun_vbc_3g</th>\n",
       "      <th>churn_probability</th>\n",
       "    </tr>\n",
       "  </thead>\n",
       "  <tbody>\n",
       "    <tr>\n",
       "      <th>0</th>\n",
       "      <td>0</td>\n",
       "      <td>109</td>\n",
       "      <td>0.0</td>\n",
       "      <td>0.0</td>\n",
       "      <td>0.0</td>\n",
       "      <td>6/30/2014</td>\n",
       "      <td>7/31/2014</td>\n",
       "      <td>8/31/2014</td>\n",
       "      <td>31.277</td>\n",
       "      <td>87.009</td>\n",
       "      <td>...</td>\n",
       "      <td>0</td>\n",
       "      <td>0</td>\n",
       "      <td>NaN</td>\n",
       "      <td>NaN</td>\n",
       "      <td>NaN</td>\n",
       "      <td>1958</td>\n",
       "      <td>0.0</td>\n",
       "      <td>0.0</td>\n",
       "      <td>0.0</td>\n",
       "      <td>0</td>\n",
       "    </tr>\n",
       "    <tr>\n",
       "      <th>1</th>\n",
       "      <td>1</td>\n",
       "      <td>109</td>\n",
       "      <td>0.0</td>\n",
       "      <td>0.0</td>\n",
       "      <td>0.0</td>\n",
       "      <td>6/30/2014</td>\n",
       "      <td>7/31/2014</td>\n",
       "      <td>8/31/2014</td>\n",
       "      <td>0.000</td>\n",
       "      <td>122.787</td>\n",
       "      <td>...</td>\n",
       "      <td>0</td>\n",
       "      <td>0</td>\n",
       "      <td>NaN</td>\n",
       "      <td>1.0</td>\n",
       "      <td>NaN</td>\n",
       "      <td>710</td>\n",
       "      <td>0.0</td>\n",
       "      <td>0.0</td>\n",
       "      <td>0.0</td>\n",
       "      <td>0</td>\n",
       "    </tr>\n",
       "    <tr>\n",
       "      <th>2</th>\n",
       "      <td>2</td>\n",
       "      <td>109</td>\n",
       "      <td>0.0</td>\n",
       "      <td>0.0</td>\n",
       "      <td>0.0</td>\n",
       "      <td>6/30/2014</td>\n",
       "      <td>7/31/2014</td>\n",
       "      <td>8/31/2014</td>\n",
       "      <td>60.806</td>\n",
       "      <td>103.176</td>\n",
       "      <td>...</td>\n",
       "      <td>0</td>\n",
       "      <td>0</td>\n",
       "      <td>NaN</td>\n",
       "      <td>NaN</td>\n",
       "      <td>NaN</td>\n",
       "      <td>882</td>\n",
       "      <td>0.0</td>\n",
       "      <td>0.0</td>\n",
       "      <td>0.0</td>\n",
       "      <td>0</td>\n",
       "    </tr>\n",
       "    <tr>\n",
       "      <th>3</th>\n",
       "      <td>3</td>\n",
       "      <td>109</td>\n",
       "      <td>0.0</td>\n",
       "      <td>0.0</td>\n",
       "      <td>0.0</td>\n",
       "      <td>6/30/2014</td>\n",
       "      <td>7/31/2014</td>\n",
       "      <td>8/31/2014</td>\n",
       "      <td>156.362</td>\n",
       "      <td>205.260</td>\n",
       "      <td>...</td>\n",
       "      <td>0</td>\n",
       "      <td>0</td>\n",
       "      <td>NaN</td>\n",
       "      <td>NaN</td>\n",
       "      <td>NaN</td>\n",
       "      <td>982</td>\n",
       "      <td>0.0</td>\n",
       "      <td>0.0</td>\n",
       "      <td>0.0</td>\n",
       "      <td>0</td>\n",
       "    </tr>\n",
       "    <tr>\n",
       "      <th>4</th>\n",
       "      <td>4</td>\n",
       "      <td>109</td>\n",
       "      <td>0.0</td>\n",
       "      <td>0.0</td>\n",
       "      <td>0.0</td>\n",
       "      <td>6/30/2014</td>\n",
       "      <td>7/31/2014</td>\n",
       "      <td>8/31/2014</td>\n",
       "      <td>240.708</td>\n",
       "      <td>128.191</td>\n",
       "      <td>...</td>\n",
       "      <td>1</td>\n",
       "      <td>0</td>\n",
       "      <td>1.0</td>\n",
       "      <td>1.0</td>\n",
       "      <td>1.0</td>\n",
       "      <td>647</td>\n",
       "      <td>0.0</td>\n",
       "      <td>0.0</td>\n",
       "      <td>0.0</td>\n",
       "      <td>0</td>\n",
       "    </tr>\n",
       "  </tbody>\n",
       "</table>\n",
       "<p>5 rows × 172 columns</p>\n",
       "</div>"
      ],
      "text/plain": [
       "   id  circle_id  loc_og_t2o_mou  std_og_t2o_mou  loc_ic_t2o_mou  \\\n",
       "0   0        109             0.0             0.0             0.0   \n",
       "1   1        109             0.0             0.0             0.0   \n",
       "2   2        109             0.0             0.0             0.0   \n",
       "3   3        109             0.0             0.0             0.0   \n",
       "4   4        109             0.0             0.0             0.0   \n",
       "\n",
       "  last_date_of_month_6 last_date_of_month_7 last_date_of_month_8   arpu_6  \\\n",
       "0            6/30/2014            7/31/2014            8/31/2014   31.277   \n",
       "1            6/30/2014            7/31/2014            8/31/2014    0.000   \n",
       "2            6/30/2014            7/31/2014            8/31/2014   60.806   \n",
       "3            6/30/2014            7/31/2014            8/31/2014  156.362   \n",
       "4            6/30/2014            7/31/2014            8/31/2014  240.708   \n",
       "\n",
       "    arpu_7  ...  sachet_3g_7  sachet_3g_8  fb_user_6  fb_user_7  fb_user_8  \\\n",
       "0   87.009  ...            0            0        NaN        NaN        NaN   \n",
       "1  122.787  ...            0            0        NaN        1.0        NaN   \n",
       "2  103.176  ...            0            0        NaN        NaN        NaN   \n",
       "3  205.260  ...            0            0        NaN        NaN        NaN   \n",
       "4  128.191  ...            1            0        1.0        1.0        1.0   \n",
       "\n",
       "    aon  aug_vbc_3g  jul_vbc_3g  jun_vbc_3g  churn_probability  \n",
       "0  1958         0.0         0.0         0.0                  0  \n",
       "1   710         0.0         0.0         0.0                  0  \n",
       "2   882         0.0         0.0         0.0                  0  \n",
       "3   982         0.0         0.0         0.0                  0  \n",
       "4   647         0.0         0.0         0.0                  0  \n",
       "\n",
       "[5 rows x 172 columns]"
      ]
     },
     "execution_count": 3,
     "metadata": {},
     "output_type": "execute_result"
    }
   ],
   "source": [
    "telecom_train_df.head()"
   ]
  },
  {
   "cell_type": "code",
   "execution_count": 4,
   "id": "08ff9072",
   "metadata": {},
   "outputs": [
    {
     "data": {
      "text/html": [
       "<div>\n",
       "<style scoped>\n",
       "    .dataframe tbody tr th:only-of-type {\n",
       "        vertical-align: middle;\n",
       "    }\n",
       "\n",
       "    .dataframe tbody tr th {\n",
       "        vertical-align: top;\n",
       "    }\n",
       "\n",
       "    .dataframe thead th {\n",
       "        text-align: right;\n",
       "    }\n",
       "</style>\n",
       "<table border=\"1\" class=\"dataframe\">\n",
       "  <thead>\n",
       "    <tr style=\"text-align: right;\">\n",
       "      <th></th>\n",
       "      <th>id</th>\n",
       "      <th>circle_id</th>\n",
       "      <th>loc_og_t2o_mou</th>\n",
       "      <th>std_og_t2o_mou</th>\n",
       "      <th>loc_ic_t2o_mou</th>\n",
       "      <th>last_date_of_month_6</th>\n",
       "      <th>last_date_of_month_7</th>\n",
       "      <th>last_date_of_month_8</th>\n",
       "      <th>arpu_6</th>\n",
       "      <th>arpu_7</th>\n",
       "      <th>...</th>\n",
       "      <th>sachet_3g_6</th>\n",
       "      <th>sachet_3g_7</th>\n",
       "      <th>sachet_3g_8</th>\n",
       "      <th>fb_user_6</th>\n",
       "      <th>fb_user_7</th>\n",
       "      <th>fb_user_8</th>\n",
       "      <th>aon</th>\n",
       "      <th>aug_vbc_3g</th>\n",
       "      <th>jul_vbc_3g</th>\n",
       "      <th>jun_vbc_3g</th>\n",
       "    </tr>\n",
       "  </thead>\n",
       "  <tbody>\n",
       "    <tr>\n",
       "      <th>0</th>\n",
       "      <td>69999</td>\n",
       "      <td>109</td>\n",
       "      <td>0.0</td>\n",
       "      <td>0.0</td>\n",
       "      <td>0.0</td>\n",
       "      <td>6/30/2014</td>\n",
       "      <td>7/31/2014</td>\n",
       "      <td>8/31/2014</td>\n",
       "      <td>91.882</td>\n",
       "      <td>65.330</td>\n",
       "      <td>...</td>\n",
       "      <td>0</td>\n",
       "      <td>0</td>\n",
       "      <td>0</td>\n",
       "      <td>NaN</td>\n",
       "      <td>NaN</td>\n",
       "      <td>NaN</td>\n",
       "      <td>1692</td>\n",
       "      <td>0.00</td>\n",
       "      <td>0.00</td>\n",
       "      <td>0.00</td>\n",
       "    </tr>\n",
       "    <tr>\n",
       "      <th>1</th>\n",
       "      <td>70000</td>\n",
       "      <td>109</td>\n",
       "      <td>0.0</td>\n",
       "      <td>0.0</td>\n",
       "      <td>0.0</td>\n",
       "      <td>6/30/2014</td>\n",
       "      <td>7/31/2014</td>\n",
       "      <td>8/31/2014</td>\n",
       "      <td>414.168</td>\n",
       "      <td>515.568</td>\n",
       "      <td>...</td>\n",
       "      <td>0</td>\n",
       "      <td>0</td>\n",
       "      <td>0</td>\n",
       "      <td>NaN</td>\n",
       "      <td>NaN</td>\n",
       "      <td>NaN</td>\n",
       "      <td>2533</td>\n",
       "      <td>0.00</td>\n",
       "      <td>0.00</td>\n",
       "      <td>0.00</td>\n",
       "    </tr>\n",
       "    <tr>\n",
       "      <th>2</th>\n",
       "      <td>70001</td>\n",
       "      <td>109</td>\n",
       "      <td>0.0</td>\n",
       "      <td>0.0</td>\n",
       "      <td>0.0</td>\n",
       "      <td>6/30/2014</td>\n",
       "      <td>7/31/2014</td>\n",
       "      <td>8/31/2014</td>\n",
       "      <td>329.844</td>\n",
       "      <td>434.884</td>\n",
       "      <td>...</td>\n",
       "      <td>0</td>\n",
       "      <td>0</td>\n",
       "      <td>0</td>\n",
       "      <td>NaN</td>\n",
       "      <td>NaN</td>\n",
       "      <td>NaN</td>\n",
       "      <td>277</td>\n",
       "      <td>525.61</td>\n",
       "      <td>758.41</td>\n",
       "      <td>241.84</td>\n",
       "    </tr>\n",
       "    <tr>\n",
       "      <th>3</th>\n",
       "      <td>70002</td>\n",
       "      <td>109</td>\n",
       "      <td>0.0</td>\n",
       "      <td>0.0</td>\n",
       "      <td>0.0</td>\n",
       "      <td>6/30/2014</td>\n",
       "      <td>7/31/2014</td>\n",
       "      <td>8/31/2014</td>\n",
       "      <td>43.550</td>\n",
       "      <td>171.390</td>\n",
       "      <td>...</td>\n",
       "      <td>0</td>\n",
       "      <td>0</td>\n",
       "      <td>0</td>\n",
       "      <td>NaN</td>\n",
       "      <td>NaN</td>\n",
       "      <td>NaN</td>\n",
       "      <td>1244</td>\n",
       "      <td>0.00</td>\n",
       "      <td>0.00</td>\n",
       "      <td>0.00</td>\n",
       "    </tr>\n",
       "    <tr>\n",
       "      <th>4</th>\n",
       "      <td>70003</td>\n",
       "      <td>109</td>\n",
       "      <td>0.0</td>\n",
       "      <td>0.0</td>\n",
       "      <td>0.0</td>\n",
       "      <td>6/30/2014</td>\n",
       "      <td>7/31/2014</td>\n",
       "      <td>8/31/2014</td>\n",
       "      <td>306.854</td>\n",
       "      <td>406.289</td>\n",
       "      <td>...</td>\n",
       "      <td>0</td>\n",
       "      <td>0</td>\n",
       "      <td>0</td>\n",
       "      <td>NaN</td>\n",
       "      <td>NaN</td>\n",
       "      <td>NaN</td>\n",
       "      <td>462</td>\n",
       "      <td>0.00</td>\n",
       "      <td>0.00</td>\n",
       "      <td>0.00</td>\n",
       "    </tr>\n",
       "  </tbody>\n",
       "</table>\n",
       "<p>5 rows × 171 columns</p>\n",
       "</div>"
      ],
      "text/plain": [
       "      id  circle_id  loc_og_t2o_mou  std_og_t2o_mou  loc_ic_t2o_mou  \\\n",
       "0  69999        109             0.0             0.0             0.0   \n",
       "1  70000        109             0.0             0.0             0.0   \n",
       "2  70001        109             0.0             0.0             0.0   \n",
       "3  70002        109             0.0             0.0             0.0   \n",
       "4  70003        109             0.0             0.0             0.0   \n",
       "\n",
       "  last_date_of_month_6 last_date_of_month_7 last_date_of_month_8   arpu_6  \\\n",
       "0            6/30/2014            7/31/2014            8/31/2014   91.882   \n",
       "1            6/30/2014            7/31/2014            8/31/2014  414.168   \n",
       "2            6/30/2014            7/31/2014            8/31/2014  329.844   \n",
       "3            6/30/2014            7/31/2014            8/31/2014   43.550   \n",
       "4            6/30/2014            7/31/2014            8/31/2014  306.854   \n",
       "\n",
       "    arpu_7  ...  sachet_3g_6  sachet_3g_7  sachet_3g_8  fb_user_6  fb_user_7  \\\n",
       "0   65.330  ...            0            0            0        NaN        NaN   \n",
       "1  515.568  ...            0            0            0        NaN        NaN   \n",
       "2  434.884  ...            0            0            0        NaN        NaN   \n",
       "3  171.390  ...            0            0            0        NaN        NaN   \n",
       "4  406.289  ...            0            0            0        NaN        NaN   \n",
       "\n",
       "   fb_user_8   aon  aug_vbc_3g  jul_vbc_3g  jun_vbc_3g  \n",
       "0        NaN  1692        0.00        0.00        0.00  \n",
       "1        NaN  2533        0.00        0.00        0.00  \n",
       "2        NaN   277      525.61      758.41      241.84  \n",
       "3        NaN  1244        0.00        0.00        0.00  \n",
       "4        NaN   462        0.00        0.00        0.00  \n",
       "\n",
       "[5 rows x 171 columns]"
      ]
     },
     "execution_count": 4,
     "metadata": {},
     "output_type": "execute_result"
    }
   ],
   "source": [
    "telecom_test_df.head()"
   ]
  },
  {
   "cell_type": "code",
   "execution_count": 5,
   "id": "c21a3f03",
   "metadata": {},
   "outputs": [
    {
     "data": {
      "text/html": [
       "<div>\n",
       "<style scoped>\n",
       "    .dataframe tbody tr th:only-of-type {\n",
       "        vertical-align: middle;\n",
       "    }\n",
       "\n",
       "    .dataframe tbody tr th {\n",
       "        vertical-align: top;\n",
       "    }\n",
       "\n",
       "    .dataframe thead th {\n",
       "        text-align: right;\n",
       "    }\n",
       "</style>\n",
       "<table border=\"1\" class=\"dataframe\">\n",
       "  <thead>\n",
       "    <tr style=\"text-align: right;\">\n",
       "      <th></th>\n",
       "      <th>id</th>\n",
       "      <th>churn_probability</th>\n",
       "    </tr>\n",
       "  </thead>\n",
       "  <tbody>\n",
       "    <tr>\n",
       "      <th>0</th>\n",
       "      <td>69999</td>\n",
       "      <td>0</td>\n",
       "    </tr>\n",
       "    <tr>\n",
       "      <th>1</th>\n",
       "      <td>70000</td>\n",
       "      <td>0</td>\n",
       "    </tr>\n",
       "    <tr>\n",
       "      <th>2</th>\n",
       "      <td>70001</td>\n",
       "      <td>1</td>\n",
       "    </tr>\n",
       "    <tr>\n",
       "      <th>3</th>\n",
       "      <td>70002</td>\n",
       "      <td>0</td>\n",
       "    </tr>\n",
       "    <tr>\n",
       "      <th>4</th>\n",
       "      <td>70003</td>\n",
       "      <td>0</td>\n",
       "    </tr>\n",
       "  </tbody>\n",
       "</table>\n",
       "</div>"
      ],
      "text/plain": [
       "      id  churn_probability\n",
       "0  69999                  0\n",
       "1  70000                  0\n",
       "2  70001                  1\n",
       "3  70002                  0\n",
       "4  70003                  0"
      ]
     },
     "execution_count": 5,
     "metadata": {},
     "output_type": "execute_result"
    }
   ],
   "source": [
    "telecom_test_sol_df.head()"
   ]
  },
  {
   "cell_type": "code",
   "execution_count": 6,
   "id": "9b3eee97",
   "metadata": {},
   "outputs": [
    {
     "data": {
      "text/plain": [
       "(69999, 172)"
      ]
     },
     "execution_count": 6,
     "metadata": {},
     "output_type": "execute_result"
    }
   ],
   "source": [
    "telecom_train_df.shape"
   ]
  },
  {
   "cell_type": "code",
   "execution_count": 7,
   "id": "ade9e8ac",
   "metadata": {},
   "outputs": [
    {
     "data": {
      "text/plain": [
       "(30000, 171)"
      ]
     },
     "execution_count": 7,
     "metadata": {},
     "output_type": "execute_result"
    }
   ],
   "source": [
    "telecom_test_df.shape"
   ]
  },
  {
   "cell_type": "code",
   "execution_count": 8,
   "id": "6d5176fa",
   "metadata": {},
   "outputs": [
    {
     "data": {
      "text/plain": [
       "Index(['id', 'circle_id', 'loc_og_t2o_mou', 'std_og_t2o_mou', 'loc_ic_t2o_mou',\n",
       "       'last_date_of_month_6', 'last_date_of_month_7', 'last_date_of_month_8',\n",
       "       'arpu_6', 'arpu_7',\n",
       "       ...\n",
       "       'sachet_3g_7', 'sachet_3g_8', 'fb_user_6', 'fb_user_7', 'fb_user_8',\n",
       "       'aon', 'aug_vbc_3g', 'jul_vbc_3g', 'jun_vbc_3g', 'churn_probability'],\n",
       "      dtype='object', length=172)"
      ]
     },
     "execution_count": 8,
     "metadata": {},
     "output_type": "execute_result"
    }
   ],
   "source": [
    "telecom_train_df.columns"
   ]
  },
  {
   "cell_type": "code",
   "execution_count": 9,
   "id": "8cd748c3",
   "metadata": {},
   "outputs": [
    {
     "name": "stdout",
     "output_type": "stream",
     "text": [
      "<class 'pandas.core.frame.DataFrame'>\n",
      "RangeIndex: 69999 entries, 0 to 69998\n",
      "Columns: 172 entries, id to churn_probability\n",
      "dtypes: float64(135), int64(28), object(9)\n",
      "memory usage: 91.9+ MB\n"
     ]
    }
   ],
   "source": [
    "telecom_train_df.info()"
   ]
  },
  {
   "cell_type": "code",
   "execution_count": 10,
   "id": "6803651e",
   "metadata": {},
   "outputs": [
    {
     "data": {
      "text/html": [
       "<div>\n",
       "<style scoped>\n",
       "    .dataframe tbody tr th:only-of-type {\n",
       "        vertical-align: middle;\n",
       "    }\n",
       "\n",
       "    .dataframe tbody tr th {\n",
       "        vertical-align: top;\n",
       "    }\n",
       "\n",
       "    .dataframe thead th {\n",
       "        text-align: right;\n",
       "    }\n",
       "</style>\n",
       "<table border=\"1\" class=\"dataframe\">\n",
       "  <thead>\n",
       "    <tr style=\"text-align: right;\">\n",
       "      <th></th>\n",
       "      <th>id</th>\n",
       "      <th>circle_id</th>\n",
       "      <th>loc_og_t2o_mou</th>\n",
       "      <th>std_og_t2o_mou</th>\n",
       "      <th>loc_ic_t2o_mou</th>\n",
       "      <th>arpu_6</th>\n",
       "      <th>arpu_7</th>\n",
       "      <th>arpu_8</th>\n",
       "      <th>onnet_mou_6</th>\n",
       "      <th>onnet_mou_7</th>\n",
       "      <th>...</th>\n",
       "      <th>sachet_3g_7</th>\n",
       "      <th>sachet_3g_8</th>\n",
       "      <th>fb_user_6</th>\n",
       "      <th>fb_user_7</th>\n",
       "      <th>fb_user_8</th>\n",
       "      <th>aon</th>\n",
       "      <th>aug_vbc_3g</th>\n",
       "      <th>jul_vbc_3g</th>\n",
       "      <th>jun_vbc_3g</th>\n",
       "      <th>churn_probability</th>\n",
       "    </tr>\n",
       "  </thead>\n",
       "  <tbody>\n",
       "    <tr>\n",
       "      <th>count</th>\n",
       "      <td>69999.000000</td>\n",
       "      <td>69999.0</td>\n",
       "      <td>69297.0</td>\n",
       "      <td>69297.0</td>\n",
       "      <td>69297.0</td>\n",
       "      <td>69999.000000</td>\n",
       "      <td>69999.000000</td>\n",
       "      <td>69999.000000</td>\n",
       "      <td>67231.000000</td>\n",
       "      <td>67312.000000</td>\n",
       "      <td>...</td>\n",
       "      <td>69999.000000</td>\n",
       "      <td>69999.000000</td>\n",
       "      <td>17568.000000</td>\n",
       "      <td>17865.000000</td>\n",
       "      <td>18417.000000</td>\n",
       "      <td>69999.000000</td>\n",
       "      <td>69999.000000</td>\n",
       "      <td>69999.000000</td>\n",
       "      <td>69999.00000</td>\n",
       "      <td>69999.000000</td>\n",
       "    </tr>\n",
       "    <tr>\n",
       "      <th>mean</th>\n",
       "      <td>34999.000000</td>\n",
       "      <td>109.0</td>\n",
       "      <td>0.0</td>\n",
       "      <td>0.0</td>\n",
       "      <td>0.0</td>\n",
       "      <td>283.134365</td>\n",
       "      <td>278.185912</td>\n",
       "      <td>278.858826</td>\n",
       "      <td>133.153275</td>\n",
       "      <td>133.894438</td>\n",
       "      <td>...</td>\n",
       "      <td>0.081444</td>\n",
       "      <td>0.085487</td>\n",
       "      <td>0.916325</td>\n",
       "      <td>0.909544</td>\n",
       "      <td>0.890319</td>\n",
       "      <td>1220.639709</td>\n",
       "      <td>68.108597</td>\n",
       "      <td>65.935830</td>\n",
       "      <td>60.07674</td>\n",
       "      <td>0.101887</td>\n",
       "    </tr>\n",
       "    <tr>\n",
       "      <th>std</th>\n",
       "      <td>20207.115084</td>\n",
       "      <td>0.0</td>\n",
       "      <td>0.0</td>\n",
       "      <td>0.0</td>\n",
       "      <td>0.0</td>\n",
       "      <td>334.213918</td>\n",
       "      <td>344.366927</td>\n",
       "      <td>351.924315</td>\n",
       "      <td>299.963093</td>\n",
       "      <td>311.277193</td>\n",
       "      <td>...</td>\n",
       "      <td>0.634547</td>\n",
       "      <td>0.680035</td>\n",
       "      <td>0.276907</td>\n",
       "      <td>0.286842</td>\n",
       "      <td>0.312501</td>\n",
       "      <td>952.426321</td>\n",
       "      <td>269.328659</td>\n",
       "      <td>267.899034</td>\n",
       "      <td>257.22681</td>\n",
       "      <td>0.302502</td>\n",
       "    </tr>\n",
       "    <tr>\n",
       "      <th>min</th>\n",
       "      <td>0.000000</td>\n",
       "      <td>109.0</td>\n",
       "      <td>0.0</td>\n",
       "      <td>0.0</td>\n",
       "      <td>0.0</td>\n",
       "      <td>-2258.709000</td>\n",
       "      <td>-1289.715000</td>\n",
       "      <td>-945.808000</td>\n",
       "      <td>0.000000</td>\n",
       "      <td>0.000000</td>\n",
       "      <td>...</td>\n",
       "      <td>0.000000</td>\n",
       "      <td>0.000000</td>\n",
       "      <td>0.000000</td>\n",
       "      <td>0.000000</td>\n",
       "      <td>0.000000</td>\n",
       "      <td>180.000000</td>\n",
       "      <td>0.000000</td>\n",
       "      <td>0.000000</td>\n",
       "      <td>0.00000</td>\n",
       "      <td>0.000000</td>\n",
       "    </tr>\n",
       "    <tr>\n",
       "      <th>25%</th>\n",
       "      <td>17499.500000</td>\n",
       "      <td>109.0</td>\n",
       "      <td>0.0</td>\n",
       "      <td>0.0</td>\n",
       "      <td>0.0</td>\n",
       "      <td>93.581000</td>\n",
       "      <td>86.714000</td>\n",
       "      <td>84.095000</td>\n",
       "      <td>7.410000</td>\n",
       "      <td>6.675000</td>\n",
       "      <td>...</td>\n",
       "      <td>0.000000</td>\n",
       "      <td>0.000000</td>\n",
       "      <td>1.000000</td>\n",
       "      <td>1.000000</td>\n",
       "      <td>1.000000</td>\n",
       "      <td>468.000000</td>\n",
       "      <td>0.000000</td>\n",
       "      <td>0.000000</td>\n",
       "      <td>0.00000</td>\n",
       "      <td>0.000000</td>\n",
       "    </tr>\n",
       "    <tr>\n",
       "      <th>50%</th>\n",
       "      <td>34999.000000</td>\n",
       "      <td>109.0</td>\n",
       "      <td>0.0</td>\n",
       "      <td>0.0</td>\n",
       "      <td>0.0</td>\n",
       "      <td>197.484000</td>\n",
       "      <td>191.588000</td>\n",
       "      <td>192.234000</td>\n",
       "      <td>34.110000</td>\n",
       "      <td>32.280000</td>\n",
       "      <td>...</td>\n",
       "      <td>0.000000</td>\n",
       "      <td>0.000000</td>\n",
       "      <td>1.000000</td>\n",
       "      <td>1.000000</td>\n",
       "      <td>1.000000</td>\n",
       "      <td>868.000000</td>\n",
       "      <td>0.000000</td>\n",
       "      <td>0.000000</td>\n",
       "      <td>0.00000</td>\n",
       "      <td>0.000000</td>\n",
       "    </tr>\n",
       "    <tr>\n",
       "      <th>75%</th>\n",
       "      <td>52498.500000</td>\n",
       "      <td>109.0</td>\n",
       "      <td>0.0</td>\n",
       "      <td>0.0</td>\n",
       "      <td>0.0</td>\n",
       "      <td>370.791000</td>\n",
       "      <td>365.369500</td>\n",
       "      <td>369.909000</td>\n",
       "      <td>119.390000</td>\n",
       "      <td>115.837500</td>\n",
       "      <td>...</td>\n",
       "      <td>0.000000</td>\n",
       "      <td>0.000000</td>\n",
       "      <td>1.000000</td>\n",
       "      <td>1.000000</td>\n",
       "      <td>1.000000</td>\n",
       "      <td>1813.000000</td>\n",
       "      <td>0.000000</td>\n",
       "      <td>0.000000</td>\n",
       "      <td>0.00000</td>\n",
       "      <td>0.000000</td>\n",
       "    </tr>\n",
       "    <tr>\n",
       "      <th>max</th>\n",
       "      <td>69998.000000</td>\n",
       "      <td>109.0</td>\n",
       "      <td>0.0</td>\n",
       "      <td>0.0</td>\n",
       "      <td>0.0</td>\n",
       "      <td>27731.088000</td>\n",
       "      <td>35145.834000</td>\n",
       "      <td>33543.624000</td>\n",
       "      <td>7376.710000</td>\n",
       "      <td>8157.780000</td>\n",
       "      <td>...</td>\n",
       "      <td>33.000000</td>\n",
       "      <td>41.000000</td>\n",
       "      <td>1.000000</td>\n",
       "      <td>1.000000</td>\n",
       "      <td>1.000000</td>\n",
       "      <td>4337.000000</td>\n",
       "      <td>12916.220000</td>\n",
       "      <td>9165.600000</td>\n",
       "      <td>11166.21000</td>\n",
       "      <td>1.000000</td>\n",
       "    </tr>\n",
       "  </tbody>\n",
       "</table>\n",
       "<p>8 rows × 163 columns</p>\n",
       "</div>"
      ],
      "text/plain": [
       "                 id  circle_id  loc_og_t2o_mou  std_og_t2o_mou  \\\n",
       "count  69999.000000    69999.0         69297.0         69297.0   \n",
       "mean   34999.000000      109.0             0.0             0.0   \n",
       "std    20207.115084        0.0             0.0             0.0   \n",
       "min        0.000000      109.0             0.0             0.0   \n",
       "25%    17499.500000      109.0             0.0             0.0   \n",
       "50%    34999.000000      109.0             0.0             0.0   \n",
       "75%    52498.500000      109.0             0.0             0.0   \n",
       "max    69998.000000      109.0             0.0             0.0   \n",
       "\n",
       "       loc_ic_t2o_mou        arpu_6        arpu_7        arpu_8   onnet_mou_6  \\\n",
       "count         69297.0  69999.000000  69999.000000  69999.000000  67231.000000   \n",
       "mean              0.0    283.134365    278.185912    278.858826    133.153275   \n",
       "std               0.0    334.213918    344.366927    351.924315    299.963093   \n",
       "min               0.0  -2258.709000  -1289.715000   -945.808000      0.000000   \n",
       "25%               0.0     93.581000     86.714000     84.095000      7.410000   \n",
       "50%               0.0    197.484000    191.588000    192.234000     34.110000   \n",
       "75%               0.0    370.791000    365.369500    369.909000    119.390000   \n",
       "max               0.0  27731.088000  35145.834000  33543.624000   7376.710000   \n",
       "\n",
       "        onnet_mou_7  ...   sachet_3g_7   sachet_3g_8     fb_user_6  \\\n",
       "count  67312.000000  ...  69999.000000  69999.000000  17568.000000   \n",
       "mean     133.894438  ...      0.081444      0.085487      0.916325   \n",
       "std      311.277193  ...      0.634547      0.680035      0.276907   \n",
       "min        0.000000  ...      0.000000      0.000000      0.000000   \n",
       "25%        6.675000  ...      0.000000      0.000000      1.000000   \n",
       "50%       32.280000  ...      0.000000      0.000000      1.000000   \n",
       "75%      115.837500  ...      0.000000      0.000000      1.000000   \n",
       "max     8157.780000  ...     33.000000     41.000000      1.000000   \n",
       "\n",
       "          fb_user_7     fb_user_8           aon    aug_vbc_3g    jul_vbc_3g  \\\n",
       "count  17865.000000  18417.000000  69999.000000  69999.000000  69999.000000   \n",
       "mean       0.909544      0.890319   1220.639709     68.108597     65.935830   \n",
       "std        0.286842      0.312501    952.426321    269.328659    267.899034   \n",
       "min        0.000000      0.000000    180.000000      0.000000      0.000000   \n",
       "25%        1.000000      1.000000    468.000000      0.000000      0.000000   \n",
       "50%        1.000000      1.000000    868.000000      0.000000      0.000000   \n",
       "75%        1.000000      1.000000   1813.000000      0.000000      0.000000   \n",
       "max        1.000000      1.000000   4337.000000  12916.220000   9165.600000   \n",
       "\n",
       "        jun_vbc_3g  churn_probability  \n",
       "count  69999.00000       69999.000000  \n",
       "mean      60.07674           0.101887  \n",
       "std      257.22681           0.302502  \n",
       "min        0.00000           0.000000  \n",
       "25%        0.00000           0.000000  \n",
       "50%        0.00000           0.000000  \n",
       "75%        0.00000           0.000000  \n",
       "max    11166.21000           1.000000  \n",
       "\n",
       "[8 rows x 163 columns]"
      ]
     },
     "execution_count": 10,
     "metadata": {},
     "output_type": "execute_result"
    }
   ],
   "source": [
    "telecom_train_df.describe()"
   ]
  },
  {
   "cell_type": "code",
   "execution_count": 11,
   "id": "4be15a7d",
   "metadata": {},
   "outputs": [
    {
     "data": {
      "text/plain": [
       "id                     0\n",
       "circle_id              0\n",
       "loc_og_t2o_mou       702\n",
       "std_og_t2o_mou       702\n",
       "loc_ic_t2o_mou       702\n",
       "                    ... \n",
       "aon                    0\n",
       "aug_vbc_3g             0\n",
       "jul_vbc_3g             0\n",
       "jun_vbc_3g             0\n",
       "churn_probability      0\n",
       "Length: 172, dtype: int64"
      ]
     },
     "execution_count": 11,
     "metadata": {},
     "output_type": "execute_result"
    }
   ],
   "source": [
    "telecom_train_df.isna().sum()"
   ]
  },
  {
   "cell_type": "code",
   "execution_count": 12,
   "id": "be40b9f2",
   "metadata": {},
   "outputs": [
    {
     "data": {
      "text/plain": [
       "id                     int64\n",
       "circle_id              int64\n",
       "loc_og_t2o_mou       float64\n",
       "std_og_t2o_mou       float64\n",
       "loc_ic_t2o_mou       float64\n",
       "                      ...   \n",
       "aon                    int64\n",
       "aug_vbc_3g           float64\n",
       "jul_vbc_3g           float64\n",
       "jun_vbc_3g           float64\n",
       "churn_probability      int64\n",
       "Length: 172, dtype: object"
      ]
     },
     "execution_count": 12,
     "metadata": {},
     "output_type": "execute_result"
    }
   ],
   "source": [
    "telecom_train_df.dtypes"
   ]
  },
  {
   "cell_type": "code",
   "execution_count": 13,
   "id": "a6b6c597",
   "metadata": {},
   "outputs": [],
   "source": [
    "# Columns which we have to impute as Zero as thy should not be dropped based on missing values becuase they are important.\n",
    "rech_cols_to_impute = [x for x in telecom_train_df.columns if 'rech' in x and \n",
    "                       'count' not in x and 'date' not in x and 'num' not in x]\n",
    "telecom_train_df[rech_cols_to_impute] = telecom_train_df[rech_cols_to_impute].apply(lambda x: x.fillna(0))\n",
    "telecom_test_df[rech_cols_to_impute] = telecom_test_df[rech_cols_to_impute].apply(lambda x: x.fillna(0))\n"
   ]
  },
  {
   "cell_type": "markdown",
   "id": "1c81836f",
   "metadata": {},
   "source": [
    "### Dropping rows for both train and test datasets\n",
    " - Rows which are empty"
   ]
  },
  {
   "cell_type": "code",
   "execution_count": 14,
   "id": "060c74b4",
   "metadata": {},
   "outputs": [],
   "source": [
    "telecom_train_df.dropna(axis=0, how='all', inplace=True)\n",
    "telecom_test_df.dropna(axis=0, how='all', inplace=True)"
   ]
  },
  {
   "cell_type": "code",
   "execution_count": 15,
   "id": "af10b97f",
   "metadata": {},
   "outputs": [
    {
     "name": "stdout",
     "output_type": "stream",
     "text": [
      "(69999, 172)\n",
      "(30000, 171)\n"
     ]
    }
   ],
   "source": [
    "print(telecom_train_df.shape)\n",
    "print(telecom_test_df.shape)"
   ]
  },
  {
   "cell_type": "markdown",
   "id": "8e06618c",
   "metadata": {},
   "source": [
    "### Dropping columns for both train and test datasets\n",
    "\n",
    "    - Not needed columns like Id, last_date_of_month_6 etc.\n",
    "    - Columns having more than 70% values as null"
   ]
  },
  {
   "cell_type": "code",
   "execution_count": 16,
   "id": "abd04209",
   "metadata": {},
   "outputs": [],
   "source": [
    "# For us dates doesn't matter as long as customer is doing a recharge.\n",
    "cols_to_delete = ['id', 'last_date_of_month_6', 'last_date_of_month_7', 'last_date_of_month_8',\n",
    "                  'date_of_last_rech_data_6', 'date_of_last_rech_data_7', 'date_of_last_rech_data_8',\n",
    "                  'date_of_last_rech_6', 'date_of_last_rech_7', 'date_of_last_rech_8'\n",
    "                 ]\n",
    "telecom_train_df.drop(cols_to_delete, axis=1, inplace=True)\n",
    "telecom_test_df.drop(cols_to_delete, axis=1, inplace=True)"
   ]
  },
  {
   "cell_type": "code",
   "execution_count": 17,
   "id": "4d5907c5",
   "metadata": {},
   "outputs": [
    {
     "data": {
      "text/plain": [
       "arpu_3g_8           0.74\n",
       "night_pck_user_8    0.74\n",
       "night_pck_user_7    0.74\n",
       "arpu_2g_8           0.74\n",
       "arpu_2g_7           0.74\n",
       "fb_user_7           0.74\n",
       "arpu_3g_7           0.74\n",
       "fb_user_8           0.74\n",
       "count_rech_3g_8     0.74\n",
       "count_rech_3g_7     0.74\n",
       "count_rech_2g_8     0.74\n",
       "count_rech_2g_7     0.74\n",
       "arpu_2g_6           0.75\n",
       "count_rech_3g_6     0.75\n",
       "night_pck_user_6    0.75\n",
       "fb_user_6           0.75\n",
       "arpu_3g_6           0.75\n",
       "count_rech_2g_6     0.75\n",
       "dtype: float64"
      ]
     },
     "execution_count": 17,
     "metadata": {},
     "output_type": "execute_result"
    }
   ],
   "source": [
    "# to check the % of null values\n",
    "round((pd.isnull(telecom_train_df).sum()/len(telecom_train_df.index)),2)[pd.isnull(telecom_train_df).sum()/ len(telecom_train_df.index) > 0.70].sort_values()"
   ]
  },
  {
   "cell_type": "code",
   "execution_count": 18,
   "id": "af4da69b",
   "metadata": {},
   "outputs": [
    {
     "data": {
      "text/plain": [
       "18"
      ]
     },
     "execution_count": 18,
     "metadata": {},
     "output_type": "execute_result"
    }
   ],
   "source": [
    "# count of missing data > 70% columns in train dataset\n",
    "len(round((pd.isnull(telecom_train_df).sum()/len(telecom_train_df.index)),2)[pd.isnull(telecom_train_df).sum()/ len(telecom_train_df.index) > 0.70].sort_values())"
   ]
  },
  {
   "cell_type": "code",
   "execution_count": 19,
   "id": "08b6ed61",
   "metadata": {},
   "outputs": [
    {
     "data": {
      "text/plain": [
       "18"
      ]
     },
     "execution_count": 19,
     "metadata": {},
     "output_type": "execute_result"
    }
   ],
   "source": [
    "# count of missing data > 70% columns in test dataset\n",
    "len(round((pd.isnull(telecom_test_df).sum()/len(telecom_test_df.index)),2)[pd.isnull(telecom_test_df).sum()/ len(telecom_test_df.index) > 0.70].sort_values())"
   ]
  },
  {
   "cell_type": "markdown",
   "id": "91b77121",
   "metadata": {},
   "source": [
    "### As we have more than 70% data as null for 18 columns in train and test, we are dropping these columns from dataset."
   ]
  },
  {
   "cell_type": "code",
   "execution_count": 20,
   "id": "176525b2",
   "metadata": {},
   "outputs": [],
   "source": [
    "cols_to_delete = ((pd.isnull(telecom_train_df).sum()/len(telecom_train_df.index))[pd.isnull(telecom_train_df).sum()/ len(telecom_train_df.index) > 0.70].sort_values()).keys()"
   ]
  },
  {
   "cell_type": "code",
   "execution_count": 21,
   "id": "decb3b20",
   "metadata": {},
   "outputs": [
    {
     "name": "stdout",
     "output_type": "stream",
     "text": [
      "['arpu_3g_8', 'night_pck_user_8', 'arpu_2g_8', 'count_rech_3g_8', 'fb_user_8', 'count_rech_2g_8', 'arpu_3g_7', 'fb_user_7', 'arpu_2g_7', 'night_pck_user_7', 'count_rech_2g_7', 'count_rech_3g_7', 'count_rech_3g_6', 'arpu_3g_6', 'arpu_2g_6', 'night_pck_user_6', 'fb_user_6', 'count_rech_2g_6']\n"
     ]
    }
   ],
   "source": [
    "cols_to_delete = cols_to_delete.to_list()\n",
    "print(cols_to_delete)"
   ]
  },
  {
   "cell_type": "code",
   "execution_count": 22,
   "id": "03312c5b",
   "metadata": {},
   "outputs": [],
   "source": [
    "telecom_train_df = telecom_train_df.drop(cols_to_delete, axis=1)"
   ]
  },
  {
   "cell_type": "code",
   "execution_count": 23,
   "id": "be9a60c3",
   "metadata": {},
   "outputs": [
    {
     "data": {
      "text/plain": [
       "(69999, 144)"
      ]
     },
     "execution_count": 23,
     "metadata": {},
     "output_type": "execute_result"
    }
   ],
   "source": [
    "telecom_train_df.shape"
   ]
  },
  {
   "cell_type": "code",
   "execution_count": 24,
   "id": "8ada9939",
   "metadata": {},
   "outputs": [],
   "source": [
    "telecom_test_df = telecom_test_df.drop(cols_to_delete, axis=1)"
   ]
  },
  {
   "cell_type": "code",
   "execution_count": 25,
   "id": "aa95c6a9",
   "metadata": {},
   "outputs": [
    {
     "data": {
      "text/plain": [
       "(30000, 143)"
      ]
     },
     "execution_count": 25,
     "metadata": {},
     "output_type": "execute_result"
    }
   ],
   "source": [
    "telecom_test_df.shape"
   ]
  },
  {
   "cell_type": "markdown",
   "id": "4e359e28",
   "metadata": {},
   "source": [
    "## Lets check the data types of columns now"
   ]
  },
  {
   "cell_type": "code",
   "execution_count": 26,
   "id": "51cfe2ea",
   "metadata": {},
   "outputs": [
    {
     "name": "stdout",
     "output_type": "stream",
     "text": [
      "<class 'pandas.core.frame.DataFrame'>\n",
      "Int64Index: 69999 entries, 0 to 69998\n",
      "Columns: 144 entries, circle_id to churn_probability\n",
      "dtypes: float64(117), int64(27)\n",
      "memory usage: 77.4 MB\n"
     ]
    }
   ],
   "source": [
    "telecom_train_df.info()"
   ]
  },
  {
   "cell_type": "code",
   "execution_count": 27,
   "id": "d47ca287",
   "metadata": {},
   "outputs": [
    {
     "name": "stdout",
     "output_type": "stream",
     "text": [
      "<class 'pandas.core.frame.DataFrame'>\n",
      "Int64Index: 30000 entries, 0 to 29999\n",
      "Columns: 143 entries, circle_id to jun_vbc_3g\n",
      "dtypes: float64(117), int64(26)\n",
      "memory usage: 33.0 MB\n"
     ]
    }
   ],
   "source": [
    "telecom_test_df.info()"
   ]
  },
  {
   "cell_type": "markdown",
   "id": "b0444c3e",
   "metadata": {},
   "source": [
    "### We can see now we don't have any categorical data, all are numerical data only."
   ]
  },
  {
   "cell_type": "markdown",
   "id": "da80afd3",
   "metadata": {},
   "source": [
    "### Imputing the na values with\n",
    " - Median for numerical variables\n",
    " - Mode for categorical variables - Not needed in out this case."
   ]
  },
  {
   "cell_type": "code",
   "execution_count": 28,
   "id": "3ce3ad7a",
   "metadata": {},
   "outputs": [],
   "source": [
    "# A generic method to impute na\n",
    "def replace_na(df, columns, data_type):\n",
    "    for col in columns:\n",
    "        if data_type == 'categorical':\n",
    "            value = pd.to_datetime(df[col]).mode()\n",
    "        else:\n",
    "            value = df[col].median()\n",
    "        df[col].fillna(value, inplace=True)\n",
    "    return df"
   ]
  },
  {
   "cell_type": "code",
   "execution_count": 29,
   "id": "b802153c",
   "metadata": {},
   "outputs": [],
   "source": [
    "telecom_train_df = replace_na(telecom_train_df, telecom_train_df.columns, 'numerical')\n",
    "telecom_test_df = replace_na(telecom_test_df, telecom_test_df.columns, 'numerical')"
   ]
  },
  {
   "cell_type": "markdown",
   "id": "8a21f588",
   "metadata": {},
   "source": [
    "### Lets check for unique entries in train and test dataset"
   ]
  },
  {
   "cell_type": "code",
   "execution_count": 30,
   "id": "4bafbc9c",
   "metadata": {},
   "outputs": [],
   "source": [
    "def cols_to_delete_unique(df, df_columns, threshold=4):\n",
    "    # threshold=4 means column has only 1 unique value\n",
    "    # eg. telecom_train_df['circle_id'].describe().unique() --> array([30000.,   109.,     0.])\n",
    "    # Here because there are all 109 in column, we have only 3 entries in array.\n",
    "    cols_to_delete = []\n",
    "    for column in df_columns:\n",
    "        if len(df[column].describe().unique()) < threshold:\n",
    "            cols_to_delete.append(column)\n",
    "    \n",
    "    return cols_to_delete"
   ]
  },
  {
   "cell_type": "code",
   "execution_count": 31,
   "id": "bf0895de",
   "metadata": {},
   "outputs": [
    {
     "name": "stdout",
     "output_type": "stream",
     "text": [
      "(69999, 144)\n",
      "(30000, 143)\n"
     ]
    }
   ],
   "source": [
    "print(telecom_train_df.shape)\n",
    "print(telecom_test_df.shape)"
   ]
  },
  {
   "cell_type": "code",
   "execution_count": 32,
   "id": "8c597e15",
   "metadata": {},
   "outputs": [
    {
     "name": "stdout",
     "output_type": "stream",
     "text": [
      "(69999, 134)\n",
      "(30000, 133)\n"
     ]
    }
   ],
   "source": [
    "# on train data\n",
    "telecom_train_df = telecom_train_df.drop(cols_to_delete_unique(telecom_train_df, telecom_train_df.columns), axis=1)\n",
    "print(telecom_train_df.shape)\n",
    "\n",
    "# on test data\n",
    "telecom_test_df = telecom_test_df.drop(cols_to_delete_unique(telecom_test_df, telecom_test_df.columns), axis=1)\n",
    "print(telecom_test_df.shape)"
   ]
  },
  {
   "cell_type": "markdown",
   "id": "20f6d3fb",
   "metadata": {},
   "source": [
    "### Lets find the high value customers based on recharge done in 6th and 7th month and update dataframe"
   ]
  },
  {
   "cell_type": "markdown",
   "id": "1e6656b1",
   "metadata": {},
   "source": [
    "### For train data"
   ]
  },
  {
   "cell_type": "code",
   "execution_count": 33,
   "id": "ea5fecfd",
   "metadata": {},
   "outputs": [
    {
     "data": {
      "text/plain": [
       "477.5"
      ]
     },
     "execution_count": 33,
     "metadata": {},
     "output_type": "execute_result"
    }
   ],
   "source": [
    "# total data recharge in 6th, 7th and 8th months\n",
    "telecom_train_df[\"total_data_recharge_amnt_6\"] = telecom_train_df.total_rech_data_6 * telecom_train_df.av_rech_amt_data_6\n",
    "telecom_train_df[\"total_data_recharge_amnt_7\"] = telecom_train_df.total_rech_data_7 * telecom_train_df.av_rech_amt_data_7\n",
    "telecom_train_df[\"total_data_recharge_amnt_8\"] = telecom_train_df.total_rech_data_8 * telecom_train_df.av_rech_amt_data_8\n",
    "\n",
    "# total amount spent on recharge in 6th, 7th and 8th months\n",
    "telecom_train_df[\"total_recharge_amnt_6\"] = telecom_train_df.total_rech_amt_6 + telecom_train_df.total_data_recharge_amnt_6\n",
    "telecom_train_df[\"total_recharge_amnt_7\"] = telecom_train_df.total_rech_amt_7 + telecom_train_df.total_data_recharge_amnt_7\n",
    "telecom_train_df[\"total_recharge_amnt_8\"] = telecom_train_df.total_rech_amt_8 + telecom_train_df.total_data_recharge_amnt_8\n",
    "\n",
    "# average recharge for 6th and 7th month\n",
    "telecom_train_df['average_amnt_6_7'] = (telecom_train_df[\"total_recharge_amnt_6\"] + telecom_train_df[\"total_recharge_amnt_7\"])/2\n",
    "\n",
    "# 70th percentile of average_amnt_6_7\n",
    "telecom_train_df['average_amnt_6_7'].quantile(.70)"
   ]
  },
  {
   "cell_type": "markdown",
   "id": "0768613e",
   "metadata": {},
   "source": [
    "## Filter dataset based on average_amnt_6_7 (70th percentile for train dataset is 477.5)"
   ]
  },
  {
   "cell_type": "code",
   "execution_count": 34,
   "id": "5af14b93",
   "metadata": {},
   "outputs": [],
   "source": [
    "telecom_train_df = telecom_train_df[telecom_train_df[\"average_amnt_6_7\"]>= telecom_train_df[\"average_amnt_6_7\"].quantile(.70)]"
   ]
  },
  {
   "cell_type": "code",
   "execution_count": 35,
   "id": "982270cb",
   "metadata": {},
   "outputs": [
    {
     "data": {
      "text/plain": [
       "(21013, 141)"
      ]
     },
     "execution_count": 35,
     "metadata": {},
     "output_type": "execute_result"
    }
   ],
   "source": [
    "telecom_train_df.shape"
   ]
  },
  {
   "cell_type": "code",
   "execution_count": 36,
   "id": "601472bc",
   "metadata": {},
   "outputs": [],
   "source": [
    "# Lets remove not needed newly added features\n",
    "telecom_train_df.drop(['total_data_recharge_amnt_6', 'total_data_recharge_amnt_7', 'total_data_recharge_amnt_8',\n",
    "                        'total_recharge_amnt_6', 'total_recharge_amnt_7', 'total_recharge_amnt_8',\n",
    "                        'average_amnt_6_7'], \n",
    "                      axis=1, inplace=True)"
   ]
  },
  {
   "cell_type": "markdown",
   "id": "40627e53",
   "metadata": {},
   "source": [
    "## Lets focus on Outliers now and treat them"
   ]
  },
  {
   "cell_type": "code",
   "execution_count": 37,
   "id": "d0b9f1cf",
   "metadata": {},
   "outputs": [],
   "source": [
    "# Generic method to remove outliers\n",
    "def remove_outliers(df, features):\n",
    "    for feature in features:\n",
    "        q1 = df[feature].quantile(0.25)\n",
    "        q3 = df[feature].quantile(0.99)\n",
    "        iqr = q3-q1\n",
    "        lower_value  = q1 - (1.5 * iqr)\n",
    "        higer_value = q3 + (1.5 * iqr)\n",
    "        df = df[(df[feature] <= higer_value) & (df[feature] >= lower_value)]\n",
    "    return df"
   ]
  },
  {
   "cell_type": "code",
   "execution_count": 38,
   "id": "537a1234",
   "metadata": {},
   "outputs": [],
   "source": [
    "telecom_train_df_wo_outlier = remove_outliers(telecom_train_df, telecom_train_df.columns)\n",
    "telecom_test_df_wo_outlier = remove_outliers(telecom_test_df, telecom_test_df.columns)"
   ]
  },
  {
   "cell_type": "code",
   "execution_count": 39,
   "id": "09c79cc2",
   "metadata": {},
   "outputs": [
    {
     "data": {
      "text/plain": [
       "(21013, 134)"
      ]
     },
     "execution_count": 39,
     "metadata": {},
     "output_type": "execute_result"
    }
   ],
   "source": [
    "telecom_train_df.shape"
   ]
  },
  {
   "cell_type": "code",
   "execution_count": 40,
   "id": "c7911de6",
   "metadata": {},
   "outputs": [
    {
     "data": {
      "text/plain": [
       "(30000, 133)"
      ]
     },
     "execution_count": 40,
     "metadata": {},
     "output_type": "execute_result"
    }
   ],
   "source": [
    "telecom_test_df.shape"
   ]
  },
  {
   "cell_type": "code",
   "execution_count": 41,
   "id": "e68e2378",
   "metadata": {},
   "outputs": [
    {
     "data": {
      "text/plain": [
       "(18805, 134)"
      ]
     },
     "execution_count": 41,
     "metadata": {},
     "output_type": "execute_result"
    }
   ],
   "source": [
    "telecom_train_df_wo_outlier.shape"
   ]
  },
  {
   "cell_type": "code",
   "execution_count": 42,
   "id": "2c18dfe9",
   "metadata": {},
   "outputs": [
    {
     "data": {
      "text/plain": [
       "(26190, 133)"
      ]
     },
     "execution_count": 42,
     "metadata": {},
     "output_type": "execute_result"
    }
   ],
   "source": [
    "telecom_test_df_wo_outlier.shape"
   ]
  },
  {
   "cell_type": "markdown",
   "id": "c5c319ff",
   "metadata": {},
   "source": [
    "### Even though there are outliers but in this assignmnet we are looking for higest paying customers only.\n",
    "### So better we decided not to remove outliers."
   ]
  },
  {
   "cell_type": "markdown",
   "id": "ad731d80",
   "metadata": {},
   "source": [
    "## Let's check for Data imbalance here"
   ]
  },
  {
   "cell_type": "code",
   "execution_count": 43,
   "id": "d7df398d",
   "metadata": {},
   "outputs": [],
   "source": [
    "churn_data_rows = telecom_train_df['churn_probability'].sum()"
   ]
  },
  {
   "cell_type": "code",
   "execution_count": 44,
   "id": "addc0c33",
   "metadata": {},
   "outputs": [
    {
     "data": {
      "text/plain": [
       "8.275829248560415"
      ]
     },
     "execution_count": 44,
     "metadata": {},
     "output_type": "execute_result"
    }
   ],
   "source": [
    "churn_data_rows/len(telecom_train_df) * 100"
   ]
  },
  {
   "cell_type": "markdown",
   "id": "8fa850d6",
   "metadata": {},
   "source": [
    "### We can see that there is a data imbalance. We have only about 8.28% of data as Churn and 91.72% as not churn.\n",
    "### So we need to apply data imbalance technique. We will use SMOTE."
   ]
  },
  {
   "cell_type": "markdown",
   "id": "0624b7f7",
   "metadata": {},
   "source": [
    "## Dividing the data from telecom_train_df to train the model"
   ]
  },
  {
   "cell_type": "code",
   "execution_count": 45,
   "id": "2c3467e0",
   "metadata": {},
   "outputs": [],
   "source": [
    "y = telecom_train_df['churn_probability']\n",
    "X = telecom_train_df.drop(['churn_probability'], axis=1)\n",
    "\n",
    "telecom_train_df.drop('churn_probability', axis=1, inplace=True)"
   ]
  },
  {
   "cell_type": "code",
   "execution_count": 46,
   "id": "b3edc2c2",
   "metadata": {},
   "outputs": [],
   "source": [
    "# Splitting the data into test and train\n",
    "X_train, X_test, y_train, y_test = train_test_split(X, y, train_size=0.7, test_size=0.3, random_state=100)"
   ]
  },
  {
   "cell_type": "markdown",
   "id": "93ad1282",
   "metadata": {},
   "source": [
    "## Taking a backup of variables"
   ]
  },
  {
   "cell_type": "code",
   "execution_count": 47,
   "id": "20dae04f",
   "metadata": {},
   "outputs": [],
   "source": [
    "X_train_ori, X_test_ori, y_train_ori, y_test_ori = X_train.copy(), X_test.copy(), y_train.copy(), y_test.copy()"
   ]
  },
  {
   "cell_type": "markdown",
   "id": "5496cd44",
   "metadata": {},
   "source": [
    "## Rescaling of the variables\n",
    "\n",
    "- We will use Min-Max scaling (Normalization) --> compresses all the data between 0 and 1"
   ]
  },
  {
   "cell_type": "code",
   "execution_count": 48,
   "id": "7ad21932",
   "metadata": {},
   "outputs": [
    {
     "data": {
      "text/html": [
       "<div>\n",
       "<style scoped>\n",
       "    .dataframe tbody tr th:only-of-type {\n",
       "        vertical-align: middle;\n",
       "    }\n",
       "\n",
       "    .dataframe tbody tr th {\n",
       "        vertical-align: top;\n",
       "    }\n",
       "\n",
       "    .dataframe thead th {\n",
       "        text-align: right;\n",
       "    }\n",
       "</style>\n",
       "<table border=\"1\" class=\"dataframe\">\n",
       "  <thead>\n",
       "    <tr style=\"text-align: right;\">\n",
       "      <th></th>\n",
       "      <th>arpu_6</th>\n",
       "      <th>arpu_7</th>\n",
       "      <th>arpu_8</th>\n",
       "      <th>onnet_mou_6</th>\n",
       "      <th>onnet_mou_7</th>\n",
       "      <th>onnet_mou_8</th>\n",
       "      <th>offnet_mou_6</th>\n",
       "      <th>offnet_mou_7</th>\n",
       "      <th>offnet_mou_8</th>\n",
       "      <th>roam_ic_mou_6</th>\n",
       "      <th>...</th>\n",
       "      <th>monthly_3g_6</th>\n",
       "      <th>monthly_3g_7</th>\n",
       "      <th>monthly_3g_8</th>\n",
       "      <th>sachet_3g_6</th>\n",
       "      <th>sachet_3g_7</th>\n",
       "      <th>sachet_3g_8</th>\n",
       "      <th>aon</th>\n",
       "      <th>aug_vbc_3g</th>\n",
       "      <th>jul_vbc_3g</th>\n",
       "      <th>jun_vbc_3g</th>\n",
       "    </tr>\n",
       "  </thead>\n",
       "  <tbody>\n",
       "    <tr>\n",
       "      <th>6968</th>\n",
       "      <td>0.127277</td>\n",
       "      <td>0.274576</td>\n",
       "      <td>0.081830</td>\n",
       "      <td>0.004624</td>\n",
       "      <td>0.004018</td>\n",
       "      <td>0.002985</td>\n",
       "      <td>0.011537</td>\n",
       "      <td>0.040985</td>\n",
       "      <td>0.006554</td>\n",
       "      <td>0.000000</td>\n",
       "      <td>...</td>\n",
       "      <td>0.0</td>\n",
       "      <td>0.0</td>\n",
       "      <td>0.0</td>\n",
       "      <td>0.000000</td>\n",
       "      <td>0.000000</td>\n",
       "      <td>0.00000</td>\n",
       "      <td>0.337600</td>\n",
       "      <td>0.000000</td>\n",
       "      <td>0.002051</td>\n",
       "      <td>0.000000</td>\n",
       "    </tr>\n",
       "    <tr>\n",
       "      <th>42203</th>\n",
       "      <td>0.156166</td>\n",
       "      <td>0.094305</td>\n",
       "      <td>0.083632</td>\n",
       "      <td>0.066057</td>\n",
       "      <td>0.041462</td>\n",
       "      <td>0.074009</td>\n",
       "      <td>0.065428</td>\n",
       "      <td>0.053213</td>\n",
       "      <td>0.049054</td>\n",
       "      <td>0.000000</td>\n",
       "      <td>...</td>\n",
       "      <td>0.0</td>\n",
       "      <td>0.0</td>\n",
       "      <td>0.0</td>\n",
       "      <td>0.000000</td>\n",
       "      <td>0.000000</td>\n",
       "      <td>0.00000</td>\n",
       "      <td>0.009660</td>\n",
       "      <td>0.000000</td>\n",
       "      <td>0.000000</td>\n",
       "      <td>0.000000</td>\n",
       "    </tr>\n",
       "    <tr>\n",
       "      <th>18406</th>\n",
       "      <td>0.151447</td>\n",
       "      <td>0.122733</td>\n",
       "      <td>0.087708</td>\n",
       "      <td>0.015153</td>\n",
       "      <td>0.016084</td>\n",
       "      <td>0.008306</td>\n",
       "      <td>0.056327</td>\n",
       "      <td>0.259820</td>\n",
       "      <td>0.136117</td>\n",
       "      <td>0.005055</td>\n",
       "      <td>...</td>\n",
       "      <td>0.0</td>\n",
       "      <td>0.0</td>\n",
       "      <td>0.0</td>\n",
       "      <td>0.000000</td>\n",
       "      <td>0.000000</td>\n",
       "      <td>0.00000</td>\n",
       "      <td>0.702487</td>\n",
       "      <td>0.000000</td>\n",
       "      <td>0.000000</td>\n",
       "      <td>0.000000</td>\n",
       "    </tr>\n",
       "    <tr>\n",
       "      <th>21455</th>\n",
       "      <td>0.171177</td>\n",
       "      <td>0.128305</td>\n",
       "      <td>0.077781</td>\n",
       "      <td>0.009636</td>\n",
       "      <td>0.010909</td>\n",
       "      <td>0.006579</td>\n",
       "      <td>0.081607</td>\n",
       "      <td>0.121132</td>\n",
       "      <td>0.038009</td>\n",
       "      <td>0.005166</td>\n",
       "      <td>...</td>\n",
       "      <td>0.0</td>\n",
       "      <td>0.0</td>\n",
       "      <td>0.0</td>\n",
       "      <td>0.000000</td>\n",
       "      <td>0.030303</td>\n",
       "      <td>0.02439</td>\n",
       "      <td>0.542381</td>\n",
       "      <td>0.029661</td>\n",
       "      <td>0.043865</td>\n",
       "      <td>0.039021</td>\n",
       "    </tr>\n",
       "    <tr>\n",
       "      <th>66143</th>\n",
       "      <td>0.138174</td>\n",
       "      <td>0.087866</td>\n",
       "      <td>0.074838</td>\n",
       "      <td>0.000000</td>\n",
       "      <td>0.006171</td>\n",
       "      <td>0.001633</td>\n",
       "      <td>0.000000</td>\n",
       "      <td>0.033354</td>\n",
       "      <td>0.020053</td>\n",
       "      <td>0.000000</td>\n",
       "      <td>...</td>\n",
       "      <td>0.0</td>\n",
       "      <td>0.0</td>\n",
       "      <td>0.0</td>\n",
       "      <td>0.034483</td>\n",
       "      <td>0.000000</td>\n",
       "      <td>0.00000</td>\n",
       "      <td>0.055301</td>\n",
       "      <td>0.098218</td>\n",
       "      <td>0.000000</td>\n",
       "      <td>0.000000</td>\n",
       "    </tr>\n",
       "  </tbody>\n",
       "</table>\n",
       "<p>5 rows × 133 columns</p>\n",
       "</div>"
      ],
      "text/plain": [
       "         arpu_6    arpu_7    arpu_8  onnet_mou_6  onnet_mou_7  onnet_mou_8  \\\n",
       "6968   0.127277  0.274576  0.081830     0.004624     0.004018     0.002985   \n",
       "42203  0.156166  0.094305  0.083632     0.066057     0.041462     0.074009   \n",
       "18406  0.151447  0.122733  0.087708     0.015153     0.016084     0.008306   \n",
       "21455  0.171177  0.128305  0.077781     0.009636     0.010909     0.006579   \n",
       "66143  0.138174  0.087866  0.074838     0.000000     0.006171     0.001633   \n",
       "\n",
       "       offnet_mou_6  offnet_mou_7  offnet_mou_8  roam_ic_mou_6  ...  \\\n",
       "6968       0.011537      0.040985      0.006554       0.000000  ...   \n",
       "42203      0.065428      0.053213      0.049054       0.000000  ...   \n",
       "18406      0.056327      0.259820      0.136117       0.005055  ...   \n",
       "21455      0.081607      0.121132      0.038009       0.005166  ...   \n",
       "66143      0.000000      0.033354      0.020053       0.000000  ...   \n",
       "\n",
       "       monthly_3g_6  monthly_3g_7  monthly_3g_8  sachet_3g_6  sachet_3g_7  \\\n",
       "6968            0.0           0.0           0.0     0.000000     0.000000   \n",
       "42203           0.0           0.0           0.0     0.000000     0.000000   \n",
       "18406           0.0           0.0           0.0     0.000000     0.000000   \n",
       "21455           0.0           0.0           0.0     0.000000     0.030303   \n",
       "66143           0.0           0.0           0.0     0.034483     0.000000   \n",
       "\n",
       "       sachet_3g_8       aon  aug_vbc_3g  jul_vbc_3g  jun_vbc_3g  \n",
       "6968       0.00000  0.337600    0.000000    0.002051    0.000000  \n",
       "42203      0.00000  0.009660    0.000000    0.000000    0.000000  \n",
       "18406      0.00000  0.702487    0.000000    0.000000    0.000000  \n",
       "21455      0.02439  0.542381    0.029661    0.043865    0.039021  \n",
       "66143      0.00000  0.055301    0.098218    0.000000    0.000000  \n",
       "\n",
       "[5 rows x 133 columns]"
      ]
     },
     "execution_count": 48,
     "metadata": {},
     "output_type": "execute_result"
    }
   ],
   "source": [
    "# Creating MinMaxScaler object\n",
    "scaler = MinMaxScaler()\n",
    "# fit on data\n",
    "# removed churn_probability becuase test data is not having it.\n",
    "# Also churn_probability is having 0 and 1 only. So it need not be scaled.\n",
    "train_numerical_columns = telecom_train_df.columns.to_list()\n",
    "X_train[train_numerical_columns] = scaler.fit_transform(X_train[train_numerical_columns])\n",
    "X_train.head()\n",
    "# So all numberic values are now between 0 and 1"
   ]
  },
  {
   "cell_type": "code",
   "execution_count": 51,
   "id": "37e1ef44",
   "metadata": {},
   "outputs": [],
   "source": [
    "X_resampled, y_resampled = SMOTE().fit_resample(X_train, y_train)"
   ]
  },
  {
   "cell_type": "code",
   "execution_count": 52,
   "id": "90982153",
   "metadata": {},
   "outputs": [
    {
     "data": {
      "text/plain": [
       "(27020, 133)"
      ]
     },
     "execution_count": 52,
     "metadata": {},
     "output_type": "execute_result"
    }
   ],
   "source": [
    "X_resampled.shape"
   ]
  },
  {
   "cell_type": "code",
   "execution_count": 53,
   "id": "5a229479",
   "metadata": {},
   "outputs": [
    {
     "data": {
      "text/plain": [
       "50.0"
      ]
     },
     "execution_count": 53,
     "metadata": {},
     "output_type": "execute_result"
    }
   ],
   "source": [
    "sum(y_resampled)/len(y_resampled) * 100"
   ]
  },
  {
   "cell_type": "code",
   "execution_count": 54,
   "id": "d61d30d4",
   "metadata": {},
   "outputs": [
    {
     "data": {
      "text/plain": [
       "(30000, 133)"
      ]
     },
     "execution_count": 54,
     "metadata": {},
     "output_type": "execute_result"
    }
   ],
   "source": [
    "telecom_test_df.shape"
   ]
  },
  {
   "cell_type": "markdown",
   "id": "c0f8f8db",
   "metadata": {},
   "source": [
    "## Now there is no data imbalance."
   ]
  },
  {
   "cell_type": "code",
   "execution_count": 55,
   "id": "b84d8439",
   "metadata": {},
   "outputs": [
    {
     "data": {
      "text/html": [
       "<div>\n",
       "<style scoped>\n",
       "    .dataframe tbody tr th:only-of-type {\n",
       "        vertical-align: middle;\n",
       "    }\n",
       "\n",
       "    .dataframe tbody tr th {\n",
       "        vertical-align: top;\n",
       "    }\n",
       "\n",
       "    .dataframe thead th {\n",
       "        text-align: right;\n",
       "    }\n",
       "</style>\n",
       "<table border=\"1\" class=\"dataframe\">\n",
       "  <thead>\n",
       "    <tr style=\"text-align: right;\">\n",
       "      <th></th>\n",
       "      <th>arpu_6</th>\n",
       "      <th>arpu_7</th>\n",
       "      <th>arpu_8</th>\n",
       "      <th>onnet_mou_6</th>\n",
       "      <th>onnet_mou_7</th>\n",
       "      <th>onnet_mou_8</th>\n",
       "      <th>offnet_mou_6</th>\n",
       "      <th>offnet_mou_7</th>\n",
       "      <th>offnet_mou_8</th>\n",
       "      <th>roam_ic_mou_6</th>\n",
       "      <th>...</th>\n",
       "      <th>monthly_3g_6</th>\n",
       "      <th>monthly_3g_7</th>\n",
       "      <th>monthly_3g_8</th>\n",
       "      <th>sachet_3g_6</th>\n",
       "      <th>sachet_3g_7</th>\n",
       "      <th>sachet_3g_8</th>\n",
       "      <th>aon</th>\n",
       "      <th>aug_vbc_3g</th>\n",
       "      <th>jul_vbc_3g</th>\n",
       "      <th>jun_vbc_3g</th>\n",
       "    </tr>\n",
       "  </thead>\n",
       "  <tbody>\n",
       "    <tr>\n",
       "      <th>0</th>\n",
       "      <td>0.132455</td>\n",
       "      <td>0.074824</td>\n",
       "      <td>0.049909</td>\n",
       "      <td>0.004308</td>\n",
       "      <td>0.002480</td>\n",
       "      <td>0.002149</td>\n",
       "      <td>0.007194</td>\n",
       "      <td>0.004771</td>\n",
       "      <td>0.002487</td>\n",
       "      <td>0.000000</td>\n",
       "      <td>...</td>\n",
       "      <td>0.0</td>\n",
       "      <td>0.0</td>\n",
       "      <td>0.0</td>\n",
       "      <td>0.0</td>\n",
       "      <td>0.0</td>\n",
       "      <td>0.0</td>\n",
       "      <td>0.365129</td>\n",
       "      <td>0.000000</td>\n",
       "      <td>0.000000</td>\n",
       "      <td>0.0000</td>\n",
       "    </tr>\n",
       "    <tr>\n",
       "      <th>1</th>\n",
       "      <td>0.150615</td>\n",
       "      <td>0.099685</td>\n",
       "      <td>0.064554</td>\n",
       "      <td>0.010236</td>\n",
       "      <td>0.005052</td>\n",
       "      <td>0.001845</td>\n",
       "      <td>0.056723</td>\n",
       "      <td>0.092260</td>\n",
       "      <td>0.028195</td>\n",
       "      <td>0.000000</td>\n",
       "      <td>...</td>\n",
       "      <td>0.0</td>\n",
       "      <td>0.0</td>\n",
       "      <td>0.0</td>\n",
       "      <td>0.0</td>\n",
       "      <td>0.0</td>\n",
       "      <td>0.0</td>\n",
       "      <td>0.568220</td>\n",
       "      <td>0.000000</td>\n",
       "      <td>0.000000</td>\n",
       "      <td>0.0000</td>\n",
       "    </tr>\n",
       "    <tr>\n",
       "      <th>2</th>\n",
       "      <td>0.145864</td>\n",
       "      <td>0.095230</td>\n",
       "      <td>0.083592</td>\n",
       "      <td>0.001022</td>\n",
       "      <td>0.000963</td>\n",
       "      <td>0.000781</td>\n",
       "      <td>0.002031</td>\n",
       "      <td>0.006797</td>\n",
       "      <td>0.003215</td>\n",
       "      <td>0.008728</td>\n",
       "      <td>...</td>\n",
       "      <td>0.0</td>\n",
       "      <td>0.0</td>\n",
       "      <td>0.0</td>\n",
       "      <td>0.0</td>\n",
       "      <td>0.0</td>\n",
       "      <td>0.0</td>\n",
       "      <td>0.023424</td>\n",
       "      <td>0.040694</td>\n",
       "      <td>0.082745</td>\n",
       "      <td>0.0319</td>\n",
       "    </tr>\n",
       "    <tr>\n",
       "      <th>3</th>\n",
       "      <td>0.129731</td>\n",
       "      <td>0.080680</td>\n",
       "      <td>0.047931</td>\n",
       "      <td>0.000720</td>\n",
       "      <td>0.000265</td>\n",
       "      <td>0.000000</td>\n",
       "      <td>0.004788</td>\n",
       "      <td>0.030417</td>\n",
       "      <td>0.001714</td>\n",
       "      <td>0.000000</td>\n",
       "      <td>...</td>\n",
       "      <td>0.0</td>\n",
       "      <td>0.0</td>\n",
       "      <td>0.0</td>\n",
       "      <td>0.0</td>\n",
       "      <td>0.0</td>\n",
       "      <td>0.0</td>\n",
       "      <td>0.256943</td>\n",
       "      <td>0.000000</td>\n",
       "      <td>0.000000</td>\n",
       "      <td>0.0000</td>\n",
       "    </tr>\n",
       "    <tr>\n",
       "      <th>4</th>\n",
       "      <td>0.144568</td>\n",
       "      <td>0.093651</td>\n",
       "      <td>0.067145</td>\n",
       "      <td>0.061129</td>\n",
       "      <td>0.074656</td>\n",
       "      <td>0.065164</td>\n",
       "      <td>0.007287</td>\n",
       "      <td>0.003537</td>\n",
       "      <td>0.005294</td>\n",
       "      <td>0.000000</td>\n",
       "      <td>...</td>\n",
       "      <td>0.0</td>\n",
       "      <td>0.0</td>\n",
       "      <td>0.0</td>\n",
       "      <td>0.0</td>\n",
       "      <td>0.0</td>\n",
       "      <td>0.0</td>\n",
       "      <td>0.068099</td>\n",
       "      <td>0.000000</td>\n",
       "      <td>0.000000</td>\n",
       "      <td>0.0000</td>\n",
       "    </tr>\n",
       "  </tbody>\n",
       "</table>\n",
       "<p>5 rows × 133 columns</p>\n",
       "</div>"
      ],
      "text/plain": [
       "     arpu_6    arpu_7    arpu_8  onnet_mou_6  onnet_mou_7  onnet_mou_8  \\\n",
       "0  0.132455  0.074824  0.049909     0.004308     0.002480     0.002149   \n",
       "1  0.150615  0.099685  0.064554     0.010236     0.005052     0.001845   \n",
       "2  0.145864  0.095230  0.083592     0.001022     0.000963     0.000781   \n",
       "3  0.129731  0.080680  0.047931     0.000720     0.000265     0.000000   \n",
       "4  0.144568  0.093651  0.067145     0.061129     0.074656     0.065164   \n",
       "\n",
       "   offnet_mou_6  offnet_mou_7  offnet_mou_8  roam_ic_mou_6  ...  monthly_3g_6  \\\n",
       "0      0.007194      0.004771      0.002487       0.000000  ...           0.0   \n",
       "1      0.056723      0.092260      0.028195       0.000000  ...           0.0   \n",
       "2      0.002031      0.006797      0.003215       0.008728  ...           0.0   \n",
       "3      0.004788      0.030417      0.001714       0.000000  ...           0.0   \n",
       "4      0.007287      0.003537      0.005294       0.000000  ...           0.0   \n",
       "\n",
       "   monthly_3g_7  monthly_3g_8  sachet_3g_6  sachet_3g_7  sachet_3g_8  \\\n",
       "0           0.0           0.0          0.0          0.0          0.0   \n",
       "1           0.0           0.0          0.0          0.0          0.0   \n",
       "2           0.0           0.0          0.0          0.0          0.0   \n",
       "3           0.0           0.0          0.0          0.0          0.0   \n",
       "4           0.0           0.0          0.0          0.0          0.0   \n",
       "\n",
       "        aon  aug_vbc_3g  jul_vbc_3g  jun_vbc_3g  \n",
       "0  0.365129    0.000000    0.000000      0.0000  \n",
       "1  0.568220    0.000000    0.000000      0.0000  \n",
       "2  0.023424    0.040694    0.082745      0.0319  \n",
       "3  0.256943    0.000000    0.000000      0.0000  \n",
       "4  0.068099    0.000000    0.000000      0.0000  \n",
       "\n",
       "[5 rows x 133 columns]"
      ]
     },
     "execution_count": 55,
     "metadata": {},
     "output_type": "execute_result"
    }
   ],
   "source": [
    "# Lets fit the scaler for train data as well\n",
    "test_numerical_columns = telecom_test_df.columns.to_list()\n",
    "telecom_test_df[test_numerical_columns] = scaler.transform(telecom_test_df[test_numerical_columns])\n",
    "telecom_test_df.head()"
   ]
  },
  {
   "cell_type": "markdown",
   "id": "5c9c47b1",
   "metadata": {},
   "source": [
    "## Modelling \n",
    "\n",
    "We will do modelling using below model.\n",
    "\n",
    "1. Logistic Regression using RFE - To get important predictors for Churn probability\n",
    "2. Logistic Regression - To know Churn probability + PCA\n",
    "3. Ridge Model\n",
    "4. Lasso Model\n",
    "5. Tree models - Random Forest\n",
    "6. Tree models - XGBoost"
   ]
  },
  {
   "cell_type": "markdown",
   "id": "e6bca16f",
   "metadata": {},
   "source": [
    "## 1. Logistic Regression using RFE - To get important predictors for Churn probability"
   ]
  },
  {
   "cell_type": "code",
   "execution_count": 56,
   "id": "cd4d9e79",
   "metadata": {},
   "outputs": [
    {
     "data": {
      "text/html": [
       "<table class=\"simpletable\">\n",
       "<caption>Generalized Linear Model Regression Results</caption>\n",
       "<tr>\n",
       "  <th>Dep. Variable:</th>   <td>churn_probability</td> <th>  No. Observations:  </th>  <td> 27020</td> \n",
       "</tr>\n",
       "<tr>\n",
       "  <th>Model:</th>                  <td>GLM</td>        <th>  Df Residuals:      </th>  <td> 26889</td> \n",
       "</tr>\n",
       "<tr>\n",
       "  <th>Model Family:</th>        <td>Binomial</td>      <th>  Df Model:          </th>  <td>   130</td> \n",
       "</tr>\n",
       "<tr>\n",
       "  <th>Link Function:</th>         <td>logit</td>       <th>  Scale:             </th> <td>  1.0000</td>\n",
       "</tr>\n",
       "<tr>\n",
       "  <th>Method:</th>                <td>IRLS</td>        <th>  Log-Likelihood:    </th> <td> -8721.4</td>\n",
       "</tr>\n",
       "<tr>\n",
       "  <th>Date:</th>            <td>Sun, 18 Sep 2022</td>  <th>  Deviance:          </th> <td>  17443.</td>\n",
       "</tr>\n",
       "<tr>\n",
       "  <th>Time:</th>                <td>18:22:58</td>      <th>  Pearson chi2:      </th> <td>7.15e+04</td>\n",
       "</tr>\n",
       "<tr>\n",
       "  <th>No. Iterations:</th>         <td>10</td>         <th>                     </th>     <td> </td>   \n",
       "</tr>\n",
       "<tr>\n",
       "  <th>Covariance Type:</th>     <td>nonrobust</td>     <th>                     </th>     <td> </td>   \n",
       "</tr>\n",
       "</table>\n",
       "<table class=\"simpletable\">\n",
       "<tr>\n",
       "           <td></td>             <th>coef</th>     <th>std err</th>      <th>z</th>      <th>P>|z|</th>  <th>[0.025</th>    <th>0.975]</th>  \n",
       "</tr>\n",
       "<tr>\n",
       "  <th>const</th>              <td>   -3.1320</td> <td>    0.665</td> <td>   -4.711</td> <td> 0.000</td> <td>   -4.435</td> <td>   -1.829</td>\n",
       "</tr>\n",
       "<tr>\n",
       "  <th>arpu_6</th>             <td>    5.7074</td> <td>    3.680</td> <td>    1.551</td> <td> 0.121</td> <td>   -1.506</td> <td>   12.921</td>\n",
       "</tr>\n",
       "<tr>\n",
       "  <th>arpu_7</th>             <td>   19.4753</td> <td>    4.358</td> <td>    4.469</td> <td> 0.000</td> <td>   10.934</td> <td>   28.016</td>\n",
       "</tr>\n",
       "<tr>\n",
       "  <th>arpu_8</th>             <td>   36.4708</td> <td>    4.850</td> <td>    7.520</td> <td> 0.000</td> <td>   26.966</td> <td>   45.976</td>\n",
       "</tr>\n",
       "<tr>\n",
       "  <th>onnet_mou_6</th>        <td>  -90.3887</td> <td>   34.587</td> <td>   -2.613</td> <td> 0.009</td> <td> -158.177</td> <td>  -22.600</td>\n",
       "</tr>\n",
       "<tr>\n",
       "  <th>onnet_mou_7</th>        <td>  -35.9718</td> <td>   32.005</td> <td>   -1.124</td> <td> 0.261</td> <td>  -98.700</td> <td>   26.756</td>\n",
       "</tr>\n",
       "<tr>\n",
       "  <th>onnet_mou_8</th>        <td>  -38.1342</td> <td>   46.970</td> <td>   -0.812</td> <td> 0.417</td> <td> -130.194</td> <td>   53.926</td>\n",
       "</tr>\n",
       "<tr>\n",
       "  <th>offnet_mou_6</th>       <td>  -90.0492</td> <td>   38.847</td> <td>   -2.318</td> <td> 0.020</td> <td> -166.187</td> <td>  -13.911</td>\n",
       "</tr>\n",
       "<tr>\n",
       "  <th>offnet_mou_7</th>       <td>  -37.3911</td> <td>   25.562</td> <td>   -1.463</td> <td> 0.144</td> <td>  -87.491</td> <td>   12.709</td>\n",
       "</tr>\n",
       "<tr>\n",
       "  <th>offnet_mou_8</th>       <td>  -89.9061</td> <td>   59.588</td> <td>   -1.509</td> <td> 0.131</td> <td> -206.697</td> <td>   26.885</td>\n",
       "</tr>\n",
       "<tr>\n",
       "  <th>roam_ic_mou_6</th>      <td>    1.8223</td> <td>    1.078</td> <td>    1.691</td> <td> 0.091</td> <td>   -0.290</td> <td>    3.935</td>\n",
       "</tr>\n",
       "<tr>\n",
       "  <th>roam_ic_mou_7</th>      <td>    1.4916</td> <td>    1.291</td> <td>    1.155</td> <td> 0.248</td> <td>   -1.039</td> <td>    4.023</td>\n",
       "</tr>\n",
       "<tr>\n",
       "  <th>roam_ic_mou_8</th>      <td>   -1.6091</td> <td>    1.385</td> <td>   -1.162</td> <td> 0.245</td> <td>   -4.323</td> <td>    1.105</td>\n",
       "</tr>\n",
       "<tr>\n",
       "  <th>roam_og_mou_6</th>      <td>   44.0734</td> <td>   17.673</td> <td>    2.494</td> <td> 0.013</td> <td>    9.435</td> <td>   78.712</td>\n",
       "</tr>\n",
       "<tr>\n",
       "  <th>roam_og_mou_7</th>      <td>   17.6697</td> <td>   10.797</td> <td>    1.636</td> <td> 0.102</td> <td>   -3.493</td> <td>   38.832</td>\n",
       "</tr>\n",
       "<tr>\n",
       "  <th>roam_og_mou_8</th>      <td>   33.4279</td> <td>   23.009</td> <td>    1.453</td> <td> 0.146</td> <td>  -11.669</td> <td>   78.525</td>\n",
       "</tr>\n",
       "<tr>\n",
       "  <th>loc_og_t2t_mou_6</th>   <td>-4941.2020</td> <td> 2.52e+04</td> <td>   -0.196</td> <td> 0.845</td> <td>-5.44e+04</td> <td> 4.45e+04</td>\n",
       "</tr>\n",
       "<tr>\n",
       "  <th>loc_og_t2t_mou_7</th>   <td>-9621.6508</td> <td> 2.85e+04</td> <td>   -0.337</td> <td> 0.736</td> <td>-6.55e+04</td> <td> 4.63e+04</td>\n",
       "</tr>\n",
       "<tr>\n",
       "  <th>loc_og_t2t_mou_8</th>   <td> 2.128e+05</td> <td>  4.4e+04</td> <td>    4.839</td> <td> 0.000</td> <td> 1.27e+05</td> <td> 2.99e+05</td>\n",
       "</tr>\n",
       "<tr>\n",
       "  <th>loc_og_t2m_mou_6</th>   <td>-3617.4086</td> <td> 1.84e+04</td> <td>   -0.196</td> <td> 0.844</td> <td>-3.97e+04</td> <td> 3.25e+04</td>\n",
       "</tr>\n",
       "<tr>\n",
       "  <th>loc_og_t2m_mou_7</th>   <td>-5926.0629</td> <td> 1.76e+04</td> <td>   -0.338</td> <td> 0.736</td> <td>-4.03e+04</td> <td> 2.85e+04</td>\n",
       "</tr>\n",
       "<tr>\n",
       "  <th>loc_og_t2m_mou_8</th>   <td> 9.819e+04</td> <td> 2.03e+04</td> <td>    4.841</td> <td> 0.000</td> <td> 5.84e+04</td> <td> 1.38e+05</td>\n",
       "</tr>\n",
       "<tr>\n",
       "  <th>loc_og_t2f_mou_6</th>   <td> -480.6568</td> <td> 2421.501</td> <td>   -0.198</td> <td> 0.843</td> <td>-5226.712</td> <td> 4265.398</td>\n",
       "</tr>\n",
       "<tr>\n",
       "  <th>loc_og_t2f_mou_7</th>   <td>-1059.2741</td> <td> 3141.434</td> <td>   -0.337</td> <td> 0.736</td> <td>-7216.372</td> <td> 5097.824</td>\n",
       "</tr>\n",
       "<tr>\n",
       "  <th>loc_og_t2f_mou_8</th>   <td> 1.165e+04</td> <td> 2405.402</td> <td>    4.842</td> <td> 0.000</td> <td> 6932.150</td> <td> 1.64e+04</td>\n",
       "</tr>\n",
       "<tr>\n",
       "  <th>loc_og_t2c_mou_6</th>   <td>   -9.1694</td> <td>    1.530</td> <td>   -5.994</td> <td> 0.000</td> <td>  -12.167</td> <td>   -6.171</td>\n",
       "</tr>\n",
       "<tr>\n",
       "  <th>loc_og_t2c_mou_7</th>   <td>   -4.7039</td> <td>    2.644</td> <td>   -1.779</td> <td> 0.075</td> <td>   -9.886</td> <td>    0.478</td>\n",
       "</tr>\n",
       "<tr>\n",
       "  <th>loc_og_t2c_mou_8</th>   <td>    7.7352</td> <td>    1.596</td> <td>    4.847</td> <td> 0.000</td> <td>    4.607</td> <td>   10.863</td>\n",
       "</tr>\n",
       "<tr>\n",
       "  <th>loc_og_mou_6</th>       <td>-3.313e+04</td> <td> 4.76e+04</td> <td>   -0.696</td> <td> 0.487</td> <td>-1.26e+05</td> <td> 6.02e+04</td>\n",
       "</tr>\n",
       "<tr>\n",
       "  <th>loc_og_mou_7</th>       <td>-1.357e+04</td> <td> 3.49e+04</td> <td>   -0.389</td> <td> 0.697</td> <td> -8.2e+04</td> <td> 5.48e+04</td>\n",
       "</tr>\n",
       "<tr>\n",
       "  <th>loc_og_mou_8</th>       <td>-2.723e+05</td> <td> 5.38e+04</td> <td>   -5.063</td> <td> 0.000</td> <td>-3.78e+05</td> <td>-1.67e+05</td>\n",
       "</tr>\n",
       "<tr>\n",
       "  <th>std_og_t2t_mou_6</th>   <td>-1.482e+05</td> <td> 3.47e+04</td> <td>   -4.275</td> <td> 0.000</td> <td>-2.16e+05</td> <td>-8.03e+04</td>\n",
       "</tr>\n",
       "<tr>\n",
       "  <th>std_og_t2t_mou_7</th>   <td>-2795.7482</td> <td> 4.02e+04</td> <td>   -0.070</td> <td> 0.944</td> <td>-8.15e+04</td> <td> 7.59e+04</td>\n",
       "</tr>\n",
       "<tr>\n",
       "  <th>std_og_t2t_mou_8</th>   <td> 1.892e+05</td> <td> 4.18e+04</td> <td>    4.523</td> <td> 0.000</td> <td> 1.07e+05</td> <td> 2.71e+05</td>\n",
       "</tr>\n",
       "<tr>\n",
       "  <th>std_og_t2m_mou_6</th>   <td>-1.673e+05</td> <td> 3.91e+04</td> <td>   -4.276</td> <td> 0.000</td> <td>-2.44e+05</td> <td>-9.06e+04</td>\n",
       "</tr>\n",
       "<tr>\n",
       "  <th>std_og_t2m_mou_7</th>   <td>-2267.1027</td> <td> 3.27e+04</td> <td>   -0.069</td> <td> 0.945</td> <td>-6.63e+04</td> <td> 6.18e+04</td>\n",
       "</tr>\n",
       "<tr>\n",
       "  <th>std_og_t2m_mou_8</th>   <td> 3.294e+05</td> <td> 7.28e+04</td> <td>    4.523</td> <td> 0.000</td> <td> 1.87e+05</td> <td> 4.72e+05</td>\n",
       "</tr>\n",
       "<tr>\n",
       "  <th>std_og_t2f_mou_6</th>   <td>-6802.4225</td> <td> 1590.888</td> <td>   -4.276</td> <td> 0.000</td> <td>-9920.505</td> <td>-3684.339</td>\n",
       "</tr>\n",
       "<tr>\n",
       "  <th>std_og_t2f_mou_7</th>   <td> -159.8812</td> <td> 2299.535</td> <td>   -0.070</td> <td> 0.945</td> <td>-4666.887</td> <td> 4347.125</td>\n",
       "</tr>\n",
       "<tr>\n",
       "  <th>std_og_t2f_mou_8</th>   <td> 8357.7184</td> <td> 1849.041</td> <td>    4.520</td> <td> 0.000</td> <td> 4733.665</td> <td>  1.2e+04</td>\n",
       "</tr>\n",
       "<tr>\n",
       "  <th>std_og_mou_6</th>       <td>  1.37e+05</td> <td> 4.31e+04</td> <td>    3.174</td> <td> 0.002</td> <td> 5.24e+04</td> <td> 2.22e+05</td>\n",
       "</tr>\n",
       "<tr>\n",
       "  <th>std_og_mou_7</th>       <td>-2.222e+04</td> <td> 4.49e+04</td> <td>   -0.495</td> <td> 0.621</td> <td> -1.1e+05</td> <td> 6.58e+04</td>\n",
       "</tr>\n",
       "<tr>\n",
       "  <th>std_og_mou_8</th>       <td>-3.983e+05</td> <td>  8.1e+04</td> <td>   -4.919</td> <td> 0.000</td> <td>-5.57e+05</td> <td> -2.4e+05</td>\n",
       "</tr>\n",
       "<tr>\n",
       "  <th>isd_og_mou_6</th>       <td>-2.292e+04</td> <td> 1.71e+04</td> <td>   -1.341</td> <td> 0.180</td> <td>-5.64e+04</td> <td> 1.06e+04</td>\n",
       "</tr>\n",
       "<tr>\n",
       "  <th>isd_og_mou_7</th>       <td>-1.689e+04</td> <td> 1.77e+04</td> <td>   -0.953</td> <td> 0.341</td> <td>-5.16e+04</td> <td> 1.79e+04</td>\n",
       "</tr>\n",
       "<tr>\n",
       "  <th>isd_og_mou_8</th>       <td>-2.772e+04</td> <td> 1.88e+04</td> <td>   -1.471</td> <td> 0.141</td> <td>-6.47e+04</td> <td> 9205.032</td>\n",
       "</tr>\n",
       "<tr>\n",
       "  <th>spl_og_mou_6</th>       <td>-3968.9477</td> <td> 2963.432</td> <td>   -1.339</td> <td> 0.180</td> <td>-9777.169</td> <td> 1839.273</td>\n",
       "</tr>\n",
       "<tr>\n",
       "  <th>spl_og_mou_7</th>       <td>-3890.3711</td> <td> 4087.280</td> <td>   -0.952</td> <td> 0.341</td> <td>-1.19e+04</td> <td> 4120.551</td>\n",
       "</tr>\n",
       "<tr>\n",
       "  <th>spl_og_mou_8</th>       <td>-3828.9882</td> <td> 2599.384</td> <td>   -1.473</td> <td> 0.141</td> <td>-8923.686</td> <td> 1265.710</td>\n",
       "</tr>\n",
       "<tr>\n",
       "  <th>og_others_6</th>        <td>-2403.4509</td> <td> 1767.869</td> <td>   -1.360</td> <td> 0.174</td> <td>-5868.410</td> <td> 1061.509</td>\n",
       "</tr>\n",
       "<tr>\n",
       "  <th>og_others_7</th>        <td> -230.2663</td> <td>  217.228</td> <td>   -1.060</td> <td> 0.289</td> <td> -656.025</td> <td>  195.492</td>\n",
       "</tr>\n",
       "<tr>\n",
       "  <th>og_others_8</th>        <td>-2174.6787</td> <td> 1322.177</td> <td>   -1.645</td> <td> 0.100</td> <td>-4766.098</td> <td>  416.741</td>\n",
       "</tr>\n",
       "<tr>\n",
       "  <th>total_og_mou_6</th>     <td> 4.155e+04</td> <td> 3.09e+04</td> <td>    1.344</td> <td> 0.179</td> <td> -1.9e+04</td> <td> 1.02e+05</td>\n",
       "</tr>\n",
       "<tr>\n",
       "  <th>total_og_mou_7</th>     <td> 2.547e+04</td> <td> 2.68e+04</td> <td>    0.952</td> <td> 0.341</td> <td> -2.7e+04</td> <td> 7.79e+04</td>\n",
       "</tr>\n",
       "<tr>\n",
       "  <th>total_og_mou_8</th>     <td> 6.856e+04</td> <td> 4.66e+04</td> <td>    1.472</td> <td> 0.141</td> <td>-2.27e+04</td> <td>  1.6e+05</td>\n",
       "</tr>\n",
       "<tr>\n",
       "  <th>loc_ic_t2t_mou_6</th>   <td>-1.156e+05</td> <td> 1.62e+04</td> <td>   -7.122</td> <td> 0.000</td> <td>-1.47e+05</td> <td>-8.38e+04</td>\n",
       "</tr>\n",
       "<tr>\n",
       "  <th>loc_ic_t2t_mou_7</th>   <td> 6.763e+04</td> <td> 2.13e+04</td> <td>    3.175</td> <td> 0.001</td> <td> 2.59e+04</td> <td> 1.09e+05</td>\n",
       "</tr>\n",
       "<tr>\n",
       "  <th>loc_ic_t2t_mou_8</th>   <td> 1.455e+05</td> <td> 1.51e+04</td> <td>    9.650</td> <td> 0.000</td> <td> 1.16e+05</td> <td> 1.75e+05</td>\n",
       "</tr>\n",
       "<tr>\n",
       "  <th>loc_ic_t2m_mou_6</th>   <td>-1.179e+05</td> <td> 1.66e+04</td> <td>   -7.122</td> <td> 0.000</td> <td> -1.5e+05</td> <td>-8.54e+04</td>\n",
       "</tr>\n",
       "<tr>\n",
       "  <th>loc_ic_t2m_mou_7</th>   <td>  4.77e+04</td> <td>  1.5e+04</td> <td>    3.175</td> <td> 0.001</td> <td> 1.83e+04</td> <td> 7.71e+04</td>\n",
       "</tr>\n",
       "<tr>\n",
       "  <th>loc_ic_t2m_mou_8</th>   <td> 1.701e+05</td> <td> 1.76e+04</td> <td>    9.650</td> <td> 0.000</td> <td> 1.36e+05</td> <td> 2.05e+05</td>\n",
       "</tr>\n",
       "<tr>\n",
       "  <th>loc_ic_t2f_mou_6</th>   <td>-3.637e+04</td> <td> 5106.331</td> <td>   -7.123</td> <td> 0.000</td> <td>-4.64e+04</td> <td>-2.64e+04</td>\n",
       "</tr>\n",
       "<tr>\n",
       "  <th>loc_ic_t2f_mou_7</th>   <td>  2.35e+04</td> <td> 7397.735</td> <td>    3.177</td> <td> 0.001</td> <td> 9000.093</td> <td>  3.8e+04</td>\n",
       "</tr>\n",
       "<tr>\n",
       "  <th>loc_ic_t2f_mou_8</th>   <td> 5.347e+04</td> <td> 5541.080</td> <td>    9.649</td> <td> 0.000</td> <td> 4.26e+04</td> <td> 6.43e+04</td>\n",
       "</tr>\n",
       "<tr>\n",
       "  <th>loc_ic_mou_6</th>       <td> 1.667e+05</td> <td> 2.81e+04</td> <td>    5.936</td> <td> 0.000</td> <td> 1.12e+05</td> <td> 2.22e+05</td>\n",
       "</tr>\n",
       "<tr>\n",
       "  <th>loc_ic_mou_7</th>       <td>-5.074e+04</td> <td> 2.49e+04</td> <td>   -2.037</td> <td> 0.042</td> <td>-9.96e+04</td> <td>-1907.470</td>\n",
       "</tr>\n",
       "<tr>\n",
       "  <th>loc_ic_mou_8</th>       <td>-1.152e+05</td> <td> 2.06e+04</td> <td>   -5.584</td> <td> 0.000</td> <td>-1.56e+05</td> <td>-7.47e+04</td>\n",
       "</tr>\n",
       "<tr>\n",
       "  <th>std_ic_t2t_mou_6</th>   <td>-2.246e+04</td> <td> 1.43e+04</td> <td>   -1.573</td> <td> 0.116</td> <td>-5.05e+04</td> <td> 5524.329</td>\n",
       "</tr>\n",
       "<tr>\n",
       "  <th>std_ic_t2t_mou_7</th>   <td>-4.405e+04</td> <td> 2.04e+04</td> <td>   -2.157</td> <td> 0.031</td> <td>-8.41e+04</td> <td>-4022.402</td>\n",
       "</tr>\n",
       "<tr>\n",
       "  <th>std_ic_t2t_mou_8</th>   <td> 3.703e+04</td> <td> 1.78e+04</td> <td>    2.078</td> <td> 0.038</td> <td> 2098.528</td> <td>  7.2e+04</td>\n",
       "</tr>\n",
       "<tr>\n",
       "  <th>std_ic_t2m_mou_6</th>   <td>-2.672e+04</td> <td>  1.7e+04</td> <td>   -1.573</td> <td> 0.116</td> <td>   -6e+04</td> <td> 6572.699</td>\n",
       "</tr>\n",
       "<tr>\n",
       "  <th>std_ic_t2m_mou_7</th>   <td>-2.735e+04</td> <td> 1.27e+04</td> <td>   -2.158</td> <td> 0.031</td> <td>-5.22e+04</td> <td>-2507.518</td>\n",
       "</tr>\n",
       "<tr>\n",
       "  <th>std_ic_t2m_mou_8</th>   <td> 3.116e+04</td> <td>  1.5e+04</td> <td>    2.079</td> <td> 0.038</td> <td> 1787.527</td> <td> 6.05e+04</td>\n",
       "</tr>\n",
       "<tr>\n",
       "  <th>std_ic_t2f_mou_6</th>   <td>-9996.2590</td> <td> 6350.523</td> <td>   -1.574</td> <td> 0.115</td> <td>-2.24e+04</td> <td> 2450.537</td>\n",
       "</tr>\n",
       "<tr>\n",
       "  <th>std_ic_t2f_mou_7</th>   <td>-1.181e+04</td> <td> 5478.302</td> <td>   -2.156</td> <td> 0.031</td> <td>-2.25e+04</td> <td>-1073.115</td>\n",
       "</tr>\n",
       "<tr>\n",
       "  <th>std_ic_t2f_mou_8</th>   <td> 1.508e+04</td> <td> 7261.454</td> <td>    2.077</td> <td> 0.038</td> <td>  851.989</td> <td> 2.93e+04</td>\n",
       "</tr>\n",
       "<tr>\n",
       "  <th>std_ic_mou_6</th>       <td> 1.182e+04</td> <td> 1.77e+04</td> <td>    0.666</td> <td> 0.505</td> <td>-2.29e+04</td> <td> 4.66e+04</td>\n",
       "</tr>\n",
       "<tr>\n",
       "  <th>std_ic_mou_7</th>       <td> 6.226e+04</td> <td> 2.22e+04</td> <td>    2.810</td> <td> 0.005</td> <td> 1.88e+04</td> <td> 1.06e+05</td>\n",
       "</tr>\n",
       "<tr>\n",
       "  <th>std_ic_mou_8</th>       <td> 1.551e+04</td> <td> 2.07e+04</td> <td>    0.749</td> <td> 0.454</td> <td>-2.51e+04</td> <td> 5.61e+04</td>\n",
       "</tr>\n",
       "<tr>\n",
       "  <th>total_ic_mou_6</th>     <td> 3.183e+04</td> <td>  1.8e+04</td> <td>    1.772</td> <td> 0.076</td> <td>-3379.041</td> <td>  6.7e+04</td>\n",
       "</tr>\n",
       "<tr>\n",
       "  <th>total_ic_mou_7</th>     <td>-2.975e+04</td> <td> 1.86e+04</td> <td>   -1.596</td> <td> 0.110</td> <td>-6.63e+04</td> <td> 6775.285</td>\n",
       "</tr>\n",
       "<tr>\n",
       "  <th>total_ic_mou_8</th>     <td>-9.058e+04</td> <td> 1.54e+04</td> <td>   -5.866</td> <td> 0.000</td> <td>-1.21e+05</td> <td>-6.03e+04</td>\n",
       "</tr>\n",
       "<tr>\n",
       "  <th>spl_ic_mou_6</th>       <td>  -75.1647</td> <td>   46.595</td> <td>   -1.613</td> <td> 0.107</td> <td> -166.489</td> <td>   16.160</td>\n",
       "</tr>\n",
       "<tr>\n",
       "  <th>spl_ic_mou_7</th>       <td>   47.8603</td> <td>   34.040</td> <td>    1.406</td> <td> 0.160</td> <td>  -18.857</td> <td>  114.578</td>\n",
       "</tr>\n",
       "<tr>\n",
       "  <th>spl_ic_mou_8</th>       <td>   11.3597</td> <td>    3.304</td> <td>    3.438</td> <td> 0.001</td> <td>    4.884</td> <td>   17.836</td>\n",
       "</tr>\n",
       "<tr>\n",
       "  <th>isd_ic_mou_6</th>       <td>-2.801e+04</td> <td> 1.58e+04</td> <td>   -1.772</td> <td> 0.076</td> <td> -5.9e+04</td> <td> 2973.333</td>\n",
       "</tr>\n",
       "<tr>\n",
       "  <th>isd_ic_mou_7</th>       <td> 1.803e+04</td> <td> 1.13e+04</td> <td>    1.596</td> <td> 0.110</td> <td>-4109.854</td> <td> 4.02e+04</td>\n",
       "</tr>\n",
       "<tr>\n",
       "  <th>isd_ic_mou_8</th>       <td> 3.579e+04</td> <td> 6100.653</td> <td>    5.866</td> <td> 0.000</td> <td> 2.38e+04</td> <td> 4.77e+04</td>\n",
       "</tr>\n",
       "<tr>\n",
       "  <th>ic_others_6</th>        <td>-5573.8201</td> <td> 3130.349</td> <td>   -1.781</td> <td> 0.075</td> <td>-1.17e+04</td> <td>  561.552</td>\n",
       "</tr>\n",
       "<tr>\n",
       "  <th>ic_others_7</th>        <td> 5985.9178</td> <td> 3745.460</td> <td>    1.598</td> <td> 0.110</td> <td>-1355.048</td> <td> 1.33e+04</td>\n",
       "</tr>\n",
       "<tr>\n",
       "  <th>ic_others_8</th>        <td> 1.807e+04</td> <td> 3079.805</td> <td>    5.867</td> <td> 0.000</td> <td>  1.2e+04</td> <td> 2.41e+04</td>\n",
       "</tr>\n",
       "<tr>\n",
       "  <th>total_rech_num_6</th>   <td>   -0.9337</td> <td>    0.751</td> <td>   -1.243</td> <td> 0.214</td> <td>   -2.406</td> <td>    0.539</td>\n",
       "</tr>\n",
       "<tr>\n",
       "  <th>total_rech_num_7</th>   <td>    4.3460</td> <td>    0.739</td> <td>    5.877</td> <td> 0.000</td> <td>    2.897</td> <td>    5.795</td>\n",
       "</tr>\n",
       "<tr>\n",
       "  <th>total_rech_num_8</th>   <td>   -7.7980</td> <td>    0.826</td> <td>   -9.438</td> <td> 0.000</td> <td>   -9.418</td> <td>   -6.179</td>\n",
       "</tr>\n",
       "<tr>\n",
       "  <th>total_rech_amt_6</th>   <td>    1.3178</td> <td>    3.265</td> <td>    0.404</td> <td> 0.687</td> <td>   -5.082</td> <td>    7.717</td>\n",
       "</tr>\n",
       "<tr>\n",
       "  <th>total_rech_amt_7</th>   <td>  -14.6300</td> <td>    3.838</td> <td>   -3.811</td> <td> 0.000</td> <td>  -22.153</td> <td>   -7.107</td>\n",
       "</tr>\n",
       "<tr>\n",
       "  <th>total_rech_amt_8</th>   <td>  -33.8564</td> <td>    4.429</td> <td>   -7.645</td> <td> 0.000</td> <td>  -42.537</td> <td>  -25.176</td>\n",
       "</tr>\n",
       "<tr>\n",
       "  <th>max_rech_amt_6</th>     <td>   -3.7863</td> <td>    0.993</td> <td>   -3.812</td> <td> 0.000</td> <td>   -5.733</td> <td>   -1.840</td>\n",
       "</tr>\n",
       "<tr>\n",
       "  <th>max_rech_amt_7</th>     <td>   -0.5951</td> <td>    0.825</td> <td>   -0.721</td> <td> 0.471</td> <td>   -2.212</td> <td>    1.021</td>\n",
       "</tr>\n",
       "<tr>\n",
       "  <th>max_rech_amt_8</th>     <td>   11.7526</td> <td>    1.263</td> <td>    9.309</td> <td> 0.000</td> <td>    9.278</td> <td>   14.227</td>\n",
       "</tr>\n",
       "<tr>\n",
       "  <th>last_day_rch_amt_6</th> <td>   -0.3097</td> <td>    0.904</td> <td>   -0.343</td> <td> 0.732</td> <td>   -2.081</td> <td>    1.461</td>\n",
       "</tr>\n",
       "<tr>\n",
       "  <th>last_day_rch_amt_7</th> <td>    1.8903</td> <td>    0.688</td> <td>    2.746</td> <td> 0.006</td> <td>    0.541</td> <td>    3.240</td>\n",
       "</tr>\n",
       "<tr>\n",
       "  <th>last_day_rch_amt_8</th> <td>  -16.7983</td> <td>    1.194</td> <td>  -14.070</td> <td> 0.000</td> <td>  -19.138</td> <td>  -14.458</td>\n",
       "</tr>\n",
       "<tr>\n",
       "  <th>total_rech_data_6</th>  <td>    2.2039</td> <td>    0.441</td> <td>    4.999</td> <td> 0.000</td> <td>    1.340</td> <td>    3.068</td>\n",
       "</tr>\n",
       "<tr>\n",
       "  <th>total_rech_data_7</th>  <td>    0.1292</td> <td>    0.550</td> <td>    0.235</td> <td> 0.814</td> <td>   -0.948</td> <td>    1.207</td>\n",
       "</tr>\n",
       "<tr>\n",
       "  <th>total_rech_data_8</th>  <td>   -7.2093</td> <td>    1.078</td> <td>   -6.690</td> <td> 0.000</td> <td>   -9.321</td> <td>   -5.097</td>\n",
       "</tr>\n",
       "<tr>\n",
       "  <th>max_rech_data_6</th>    <td>    5.2571</td> <td>    0.790</td> <td>    6.651</td> <td> 0.000</td> <td>    3.708</td> <td>    6.806</td>\n",
       "</tr>\n",
       "<tr>\n",
       "  <th>max_rech_data_7</th>    <td>   -0.4569</td> <td>    0.814</td> <td>   -0.561</td> <td> 0.575</td> <td>   -2.053</td> <td>    1.139</td>\n",
       "</tr>\n",
       "<tr>\n",
       "  <th>max_rech_data_8</th>    <td>   -8.4428</td> <td>    0.978</td> <td>   -8.631</td> <td> 0.000</td> <td>  -10.360</td> <td>   -6.526</td>\n",
       "</tr>\n",
       "<tr>\n",
       "  <th>av_rech_amt_data_6</th> <td>  -17.1610</td> <td>    2.532</td> <td>   -6.776</td> <td> 0.000</td> <td>  -22.125</td> <td>  -12.198</td>\n",
       "</tr>\n",
       "<tr>\n",
       "  <th>av_rech_amt_data_7</th> <td>    1.5967</td> <td>    1.731</td> <td>    0.922</td> <td> 0.356</td> <td>   -1.796</td> <td>    4.989</td>\n",
       "</tr>\n",
       "<tr>\n",
       "  <th>av_rech_amt_data_8</th> <td>    4.7331</td> <td>    2.361</td> <td>    2.005</td> <td> 0.045</td> <td>    0.106</td> <td>    9.360</td>\n",
       "</tr>\n",
       "<tr>\n",
       "  <th>vol_2g_mb_6</th>        <td>   -1.3017</td> <td>    0.816</td> <td>   -1.595</td> <td> 0.111</td> <td>   -2.901</td> <td>    0.298</td>\n",
       "</tr>\n",
       "<tr>\n",
       "  <th>vol_2g_mb_7</th>        <td>    3.1820</td> <td>    0.931</td> <td>    3.418</td> <td> 0.001</td> <td>    1.358</td> <td>    5.006</td>\n",
       "</tr>\n",
       "<tr>\n",
       "  <th>vol_2g_mb_8</th>        <td>   -4.4692</td> <td>    1.169</td> <td>   -3.823</td> <td> 0.000</td> <td>   -6.761</td> <td>   -2.178</td>\n",
       "</tr>\n",
       "<tr>\n",
       "  <th>vol_3g_mb_6</th>        <td>   -8.5701</td> <td>    3.141</td> <td>   -2.728</td> <td> 0.006</td> <td>  -14.727</td> <td>   -2.414</td>\n",
       "</tr>\n",
       "<tr>\n",
       "  <th>vol_3g_mb_7</th>        <td>    6.0622</td> <td>    1.868</td> <td>    3.245</td> <td> 0.001</td> <td>    2.401</td> <td>    9.723</td>\n",
       "</tr>\n",
       "<tr>\n",
       "  <th>vol_3g_mb_8</th>        <td>   -5.2744</td> <td>    2.441</td> <td>   -2.161</td> <td> 0.031</td> <td>  -10.059</td> <td>   -0.490</td>\n",
       "</tr>\n",
       "<tr>\n",
       "  <th>monthly_2g_6</th>       <td>   -0.4773</td> <td>    0.325</td> <td>   -1.467</td> <td> 0.142</td> <td>   -1.115</td> <td>    0.161</td>\n",
       "</tr>\n",
       "<tr>\n",
       "  <th>monthly_2g_7</th>       <td>   -0.7260</td> <td>    0.415</td> <td>   -1.751</td> <td> 0.080</td> <td>   -1.539</td> <td>    0.087</td>\n",
       "</tr>\n",
       "<tr>\n",
       "  <th>monthly_2g_8</th>       <td>   -4.1713</td> <td>    0.608</td> <td>   -6.861</td> <td> 0.000</td> <td>   -5.363</td> <td>   -2.980</td>\n",
       "</tr>\n",
       "<tr>\n",
       "  <th>sachet_2g_6</th>        <td>    0.5340</td> <td>    0.498</td> <td>    1.073</td> <td> 0.283</td> <td>   -0.441</td> <td>    1.509</td>\n",
       "</tr>\n",
       "<tr>\n",
       "  <th>sachet_2g_7</th>        <td>   -0.6717</td> <td>    0.562</td> <td>   -1.194</td> <td> 0.232</td> <td>   -1.774</td> <td>    0.431</td>\n",
       "</tr>\n",
       "<tr>\n",
       "  <th>sachet_2g_8</th>        <td>   -2.5158</td> <td>    0.716</td> <td>   -3.515</td> <td> 0.000</td> <td>   -3.919</td> <td>   -1.113</td>\n",
       "</tr>\n",
       "<tr>\n",
       "  <th>monthly_3g_6</th>       <td>    3.1309</td> <td>    0.777</td> <td>    4.031</td> <td> 0.000</td> <td>    1.609</td> <td>    4.653</td>\n",
       "</tr>\n",
       "<tr>\n",
       "  <th>monthly_3g_7</th>       <td>   -2.5729</td> <td>    1.176</td> <td>   -2.187</td> <td> 0.029</td> <td>   -4.879</td> <td>   -0.267</td>\n",
       "</tr>\n",
       "<tr>\n",
       "  <th>monthly_3g_8</th>       <td>   -5.5068</td> <td>    1.754</td> <td>   -3.139</td> <td> 0.002</td> <td>   -8.945</td> <td>   -2.069</td>\n",
       "</tr>\n",
       "<tr>\n",
       "  <th>sachet_3g_6</th>        <td>    2.9567</td> <td>    0.886</td> <td>    3.336</td> <td> 0.001</td> <td>    1.220</td> <td>    4.694</td>\n",
       "</tr>\n",
       "<tr>\n",
       "  <th>sachet_3g_7</th>        <td>    2.3900</td> <td>    0.972</td> <td>    2.458</td> <td> 0.014</td> <td>    0.484</td> <td>    4.296</td>\n",
       "</tr>\n",
       "<tr>\n",
       "  <th>sachet_3g_8</th>        <td>   -5.8062</td> <td>    1.664</td> <td>   -3.490</td> <td> 0.000</td> <td>   -9.067</td> <td>   -2.545</td>\n",
       "</tr>\n",
       "<tr>\n",
       "  <th>aon</th>                <td>   -0.4967</td> <td>    0.107</td> <td>   -4.653</td> <td> 0.000</td> <td>   -0.706</td> <td>   -0.288</td>\n",
       "</tr>\n",
       "<tr>\n",
       "  <th>aug_vbc_3g</th>         <td>   -3.0646</td> <td>    1.660</td> <td>   -1.846</td> <td> 0.065</td> <td>   -6.318</td> <td>    0.189</td>\n",
       "</tr>\n",
       "<tr>\n",
       "  <th>jul_vbc_3g</th>         <td>   -2.1465</td> <td>    0.988</td> <td>   -2.173</td> <td> 0.030</td> <td>   -4.083</td> <td>   -0.210</td>\n",
       "</tr>\n",
       "<tr>\n",
       "  <th>jun_vbc_3g</th>         <td>    3.0655</td> <td>    0.796</td> <td>    3.852</td> <td> 0.000</td> <td>    1.506</td> <td>    4.625</td>\n",
       "</tr>\n",
       "</table>"
      ],
      "text/plain": [
       "<class 'statsmodels.iolib.summary.Summary'>\n",
       "\"\"\"\n",
       "                 Generalized Linear Model Regression Results                  \n",
       "==============================================================================\n",
       "Dep. Variable:      churn_probability   No. Observations:                27020\n",
       "Model:                            GLM   Df Residuals:                    26889\n",
       "Model Family:                Binomial   Df Model:                          130\n",
       "Link Function:                  logit   Scale:                          1.0000\n",
       "Method:                          IRLS   Log-Likelihood:                -8721.4\n",
       "Date:                Sun, 18 Sep 2022   Deviance:                       17443.\n",
       "Time:                        18:22:58   Pearson chi2:                 7.15e+04\n",
       "No. Iterations:                    10                                         \n",
       "Covariance Type:            nonrobust                                         \n",
       "======================================================================================\n",
       "                         coef    std err          z      P>|z|      [0.025      0.975]\n",
       "--------------------------------------------------------------------------------------\n",
       "const                 -3.1320      0.665     -4.711      0.000      -4.435      -1.829\n",
       "arpu_6                 5.7074      3.680      1.551      0.121      -1.506      12.921\n",
       "arpu_7                19.4753      4.358      4.469      0.000      10.934      28.016\n",
       "arpu_8                36.4708      4.850      7.520      0.000      26.966      45.976\n",
       "onnet_mou_6          -90.3887     34.587     -2.613      0.009    -158.177     -22.600\n",
       "onnet_mou_7          -35.9718     32.005     -1.124      0.261     -98.700      26.756\n",
       "onnet_mou_8          -38.1342     46.970     -0.812      0.417    -130.194      53.926\n",
       "offnet_mou_6         -90.0492     38.847     -2.318      0.020    -166.187     -13.911\n",
       "offnet_mou_7         -37.3911     25.562     -1.463      0.144     -87.491      12.709\n",
       "offnet_mou_8         -89.9061     59.588     -1.509      0.131    -206.697      26.885\n",
       "roam_ic_mou_6          1.8223      1.078      1.691      0.091      -0.290       3.935\n",
       "roam_ic_mou_7          1.4916      1.291      1.155      0.248      -1.039       4.023\n",
       "roam_ic_mou_8         -1.6091      1.385     -1.162      0.245      -4.323       1.105\n",
       "roam_og_mou_6         44.0734     17.673      2.494      0.013       9.435      78.712\n",
       "roam_og_mou_7         17.6697     10.797      1.636      0.102      -3.493      38.832\n",
       "roam_og_mou_8         33.4279     23.009      1.453      0.146     -11.669      78.525\n",
       "loc_og_t2t_mou_6   -4941.2020   2.52e+04     -0.196      0.845   -5.44e+04    4.45e+04\n",
       "loc_og_t2t_mou_7   -9621.6508   2.85e+04     -0.337      0.736   -6.55e+04    4.63e+04\n",
       "loc_og_t2t_mou_8    2.128e+05    4.4e+04      4.839      0.000    1.27e+05    2.99e+05\n",
       "loc_og_t2m_mou_6   -3617.4086   1.84e+04     -0.196      0.844   -3.97e+04    3.25e+04\n",
       "loc_og_t2m_mou_7   -5926.0629   1.76e+04     -0.338      0.736   -4.03e+04    2.85e+04\n",
       "loc_og_t2m_mou_8    9.819e+04   2.03e+04      4.841      0.000    5.84e+04    1.38e+05\n",
       "loc_og_t2f_mou_6    -480.6568   2421.501     -0.198      0.843   -5226.712    4265.398\n",
       "loc_og_t2f_mou_7   -1059.2741   3141.434     -0.337      0.736   -7216.372    5097.824\n",
       "loc_og_t2f_mou_8    1.165e+04   2405.402      4.842      0.000    6932.150    1.64e+04\n",
       "loc_og_t2c_mou_6      -9.1694      1.530     -5.994      0.000     -12.167      -6.171\n",
       "loc_og_t2c_mou_7      -4.7039      2.644     -1.779      0.075      -9.886       0.478\n",
       "loc_og_t2c_mou_8       7.7352      1.596      4.847      0.000       4.607      10.863\n",
       "loc_og_mou_6       -3.313e+04   4.76e+04     -0.696      0.487   -1.26e+05    6.02e+04\n",
       "loc_og_mou_7       -1.357e+04   3.49e+04     -0.389      0.697    -8.2e+04    5.48e+04\n",
       "loc_og_mou_8       -2.723e+05   5.38e+04     -5.063      0.000   -3.78e+05   -1.67e+05\n",
       "std_og_t2t_mou_6   -1.482e+05   3.47e+04     -4.275      0.000   -2.16e+05   -8.03e+04\n",
       "std_og_t2t_mou_7   -2795.7482   4.02e+04     -0.070      0.944   -8.15e+04    7.59e+04\n",
       "std_og_t2t_mou_8    1.892e+05   4.18e+04      4.523      0.000    1.07e+05    2.71e+05\n",
       "std_og_t2m_mou_6   -1.673e+05   3.91e+04     -4.276      0.000   -2.44e+05   -9.06e+04\n",
       "std_og_t2m_mou_7   -2267.1027   3.27e+04     -0.069      0.945   -6.63e+04    6.18e+04\n",
       "std_og_t2m_mou_8    3.294e+05   7.28e+04      4.523      0.000    1.87e+05    4.72e+05\n",
       "std_og_t2f_mou_6   -6802.4225   1590.888     -4.276      0.000   -9920.505   -3684.339\n",
       "std_og_t2f_mou_7    -159.8812   2299.535     -0.070      0.945   -4666.887    4347.125\n",
       "std_og_t2f_mou_8    8357.7184   1849.041      4.520      0.000    4733.665     1.2e+04\n",
       "std_og_mou_6         1.37e+05   4.31e+04      3.174      0.002    5.24e+04    2.22e+05\n",
       "std_og_mou_7       -2.222e+04   4.49e+04     -0.495      0.621    -1.1e+05    6.58e+04\n",
       "std_og_mou_8       -3.983e+05    8.1e+04     -4.919      0.000   -5.57e+05    -2.4e+05\n",
       "isd_og_mou_6       -2.292e+04   1.71e+04     -1.341      0.180   -5.64e+04    1.06e+04\n",
       "isd_og_mou_7       -1.689e+04   1.77e+04     -0.953      0.341   -5.16e+04    1.79e+04\n",
       "isd_og_mou_8       -2.772e+04   1.88e+04     -1.471      0.141   -6.47e+04    9205.032\n",
       "spl_og_mou_6       -3968.9477   2963.432     -1.339      0.180   -9777.169    1839.273\n",
       "spl_og_mou_7       -3890.3711   4087.280     -0.952      0.341   -1.19e+04    4120.551\n",
       "spl_og_mou_8       -3828.9882   2599.384     -1.473      0.141   -8923.686    1265.710\n",
       "og_others_6        -2403.4509   1767.869     -1.360      0.174   -5868.410    1061.509\n",
       "og_others_7         -230.2663    217.228     -1.060      0.289    -656.025     195.492\n",
       "og_others_8        -2174.6787   1322.177     -1.645      0.100   -4766.098     416.741\n",
       "total_og_mou_6      4.155e+04   3.09e+04      1.344      0.179    -1.9e+04    1.02e+05\n",
       "total_og_mou_7      2.547e+04   2.68e+04      0.952      0.341    -2.7e+04    7.79e+04\n",
       "total_og_mou_8      6.856e+04   4.66e+04      1.472      0.141   -2.27e+04     1.6e+05\n",
       "loc_ic_t2t_mou_6   -1.156e+05   1.62e+04     -7.122      0.000   -1.47e+05   -8.38e+04\n",
       "loc_ic_t2t_mou_7    6.763e+04   2.13e+04      3.175      0.001    2.59e+04    1.09e+05\n",
       "loc_ic_t2t_mou_8    1.455e+05   1.51e+04      9.650      0.000    1.16e+05    1.75e+05\n",
       "loc_ic_t2m_mou_6   -1.179e+05   1.66e+04     -7.122      0.000    -1.5e+05   -8.54e+04\n",
       "loc_ic_t2m_mou_7     4.77e+04    1.5e+04      3.175      0.001    1.83e+04    7.71e+04\n",
       "loc_ic_t2m_mou_8    1.701e+05   1.76e+04      9.650      0.000    1.36e+05    2.05e+05\n",
       "loc_ic_t2f_mou_6   -3.637e+04   5106.331     -7.123      0.000   -4.64e+04   -2.64e+04\n",
       "loc_ic_t2f_mou_7     2.35e+04   7397.735      3.177      0.001    9000.093     3.8e+04\n",
       "loc_ic_t2f_mou_8    5.347e+04   5541.080      9.649      0.000    4.26e+04    6.43e+04\n",
       "loc_ic_mou_6        1.667e+05   2.81e+04      5.936      0.000    1.12e+05    2.22e+05\n",
       "loc_ic_mou_7       -5.074e+04   2.49e+04     -2.037      0.042   -9.96e+04   -1907.470\n",
       "loc_ic_mou_8       -1.152e+05   2.06e+04     -5.584      0.000   -1.56e+05   -7.47e+04\n",
       "std_ic_t2t_mou_6   -2.246e+04   1.43e+04     -1.573      0.116   -5.05e+04    5524.329\n",
       "std_ic_t2t_mou_7   -4.405e+04   2.04e+04     -2.157      0.031   -8.41e+04   -4022.402\n",
       "std_ic_t2t_mou_8    3.703e+04   1.78e+04      2.078      0.038    2098.528     7.2e+04\n",
       "std_ic_t2m_mou_6   -2.672e+04    1.7e+04     -1.573      0.116      -6e+04    6572.699\n",
       "std_ic_t2m_mou_7   -2.735e+04   1.27e+04     -2.158      0.031   -5.22e+04   -2507.518\n",
       "std_ic_t2m_mou_8    3.116e+04    1.5e+04      2.079      0.038    1787.527    6.05e+04\n",
       "std_ic_t2f_mou_6   -9996.2590   6350.523     -1.574      0.115   -2.24e+04    2450.537\n",
       "std_ic_t2f_mou_7   -1.181e+04   5478.302     -2.156      0.031   -2.25e+04   -1073.115\n",
       "std_ic_t2f_mou_8    1.508e+04   7261.454      2.077      0.038     851.989    2.93e+04\n",
       "std_ic_mou_6        1.182e+04   1.77e+04      0.666      0.505   -2.29e+04    4.66e+04\n",
       "std_ic_mou_7        6.226e+04   2.22e+04      2.810      0.005    1.88e+04    1.06e+05\n",
       "std_ic_mou_8        1.551e+04   2.07e+04      0.749      0.454   -2.51e+04    5.61e+04\n",
       "total_ic_mou_6      3.183e+04    1.8e+04      1.772      0.076   -3379.041     6.7e+04\n",
       "total_ic_mou_7     -2.975e+04   1.86e+04     -1.596      0.110   -6.63e+04    6775.285\n",
       "total_ic_mou_8     -9.058e+04   1.54e+04     -5.866      0.000   -1.21e+05   -6.03e+04\n",
       "spl_ic_mou_6         -75.1647     46.595     -1.613      0.107    -166.489      16.160\n",
       "spl_ic_mou_7          47.8603     34.040      1.406      0.160     -18.857     114.578\n",
       "spl_ic_mou_8          11.3597      3.304      3.438      0.001       4.884      17.836\n",
       "isd_ic_mou_6       -2.801e+04   1.58e+04     -1.772      0.076    -5.9e+04    2973.333\n",
       "isd_ic_mou_7        1.803e+04   1.13e+04      1.596      0.110   -4109.854    4.02e+04\n",
       "isd_ic_mou_8        3.579e+04   6100.653      5.866      0.000    2.38e+04    4.77e+04\n",
       "ic_others_6        -5573.8201   3130.349     -1.781      0.075   -1.17e+04     561.552\n",
       "ic_others_7         5985.9178   3745.460      1.598      0.110   -1355.048    1.33e+04\n",
       "ic_others_8         1.807e+04   3079.805      5.867      0.000     1.2e+04    2.41e+04\n",
       "total_rech_num_6      -0.9337      0.751     -1.243      0.214      -2.406       0.539\n",
       "total_rech_num_7       4.3460      0.739      5.877      0.000       2.897       5.795\n",
       "total_rech_num_8      -7.7980      0.826     -9.438      0.000      -9.418      -6.179\n",
       "total_rech_amt_6       1.3178      3.265      0.404      0.687      -5.082       7.717\n",
       "total_rech_amt_7     -14.6300      3.838     -3.811      0.000     -22.153      -7.107\n",
       "total_rech_amt_8     -33.8564      4.429     -7.645      0.000     -42.537     -25.176\n",
       "max_rech_amt_6        -3.7863      0.993     -3.812      0.000      -5.733      -1.840\n",
       "max_rech_amt_7        -0.5951      0.825     -0.721      0.471      -2.212       1.021\n",
       "max_rech_amt_8        11.7526      1.263      9.309      0.000       9.278      14.227\n",
       "last_day_rch_amt_6    -0.3097      0.904     -0.343      0.732      -2.081       1.461\n",
       "last_day_rch_amt_7     1.8903      0.688      2.746      0.006       0.541       3.240\n",
       "last_day_rch_amt_8   -16.7983      1.194    -14.070      0.000     -19.138     -14.458\n",
       "total_rech_data_6      2.2039      0.441      4.999      0.000       1.340       3.068\n",
       "total_rech_data_7      0.1292      0.550      0.235      0.814      -0.948       1.207\n",
       "total_rech_data_8     -7.2093      1.078     -6.690      0.000      -9.321      -5.097\n",
       "max_rech_data_6        5.2571      0.790      6.651      0.000       3.708       6.806\n",
       "max_rech_data_7       -0.4569      0.814     -0.561      0.575      -2.053       1.139\n",
       "max_rech_data_8       -8.4428      0.978     -8.631      0.000     -10.360      -6.526\n",
       "av_rech_amt_data_6   -17.1610      2.532     -6.776      0.000     -22.125     -12.198\n",
       "av_rech_amt_data_7     1.5967      1.731      0.922      0.356      -1.796       4.989\n",
       "av_rech_amt_data_8     4.7331      2.361      2.005      0.045       0.106       9.360\n",
       "vol_2g_mb_6           -1.3017      0.816     -1.595      0.111      -2.901       0.298\n",
       "vol_2g_mb_7            3.1820      0.931      3.418      0.001       1.358       5.006\n",
       "vol_2g_mb_8           -4.4692      1.169     -3.823      0.000      -6.761      -2.178\n",
       "vol_3g_mb_6           -8.5701      3.141     -2.728      0.006     -14.727      -2.414\n",
       "vol_3g_mb_7            6.0622      1.868      3.245      0.001       2.401       9.723\n",
       "vol_3g_mb_8           -5.2744      2.441     -2.161      0.031     -10.059      -0.490\n",
       "monthly_2g_6          -0.4773      0.325     -1.467      0.142      -1.115       0.161\n",
       "monthly_2g_7          -0.7260      0.415     -1.751      0.080      -1.539       0.087\n",
       "monthly_2g_8          -4.1713      0.608     -6.861      0.000      -5.363      -2.980\n",
       "sachet_2g_6            0.5340      0.498      1.073      0.283      -0.441       1.509\n",
       "sachet_2g_7           -0.6717      0.562     -1.194      0.232      -1.774       0.431\n",
       "sachet_2g_8           -2.5158      0.716     -3.515      0.000      -3.919      -1.113\n",
       "monthly_3g_6           3.1309      0.777      4.031      0.000       1.609       4.653\n",
       "monthly_3g_7          -2.5729      1.176     -2.187      0.029      -4.879      -0.267\n",
       "monthly_3g_8          -5.5068      1.754     -3.139      0.002      -8.945      -2.069\n",
       "sachet_3g_6            2.9567      0.886      3.336      0.001       1.220       4.694\n",
       "sachet_3g_7            2.3900      0.972      2.458      0.014       0.484       4.296\n",
       "sachet_3g_8           -5.8062      1.664     -3.490      0.000      -9.067      -2.545\n",
       "aon                   -0.4967      0.107     -4.653      0.000      -0.706      -0.288\n",
       "aug_vbc_3g            -3.0646      1.660     -1.846      0.065      -6.318       0.189\n",
       "jul_vbc_3g            -2.1465      0.988     -2.173      0.030      -4.083      -0.210\n",
       "jun_vbc_3g             3.0655      0.796      3.852      0.000       1.506       4.625\n",
       "======================================================================================\n",
       "\"\"\""
      ]
     },
     "execution_count": 56,
     "metadata": {},
     "output_type": "execute_result"
    }
   ],
   "source": [
    "# For RFE\n",
    "logml = sm.GLM(y_resampled, (sm.add_constant(X_resampled)), family=sm.families.Binomial())\n",
    "logml.fit().summary()"
   ]
  },
  {
   "cell_type": "markdown",
   "id": "157e7780",
   "metadata": {},
   "source": [
    "## Lower the p-value higher the significance"
   ]
  },
  {
   "cell_type": "code",
   "execution_count": 57,
   "id": "27a6fc4c",
   "metadata": {},
   "outputs": [],
   "source": [
    "logreg = LogisticRegression()"
   ]
  },
  {
   "cell_type": "code",
   "execution_count": 58,
   "id": "f373b0ef",
   "metadata": {},
   "outputs": [],
   "source": [
    "# Running rfe with 70 variables as output\n",
    "rfe = RFE(logreg, n_features_to_select=70)\n",
    "rfe = rfe.fit(X_resampled, y_resampled)"
   ]
  },
  {
   "cell_type": "code",
   "execution_count": 59,
   "id": "ac2cb82c",
   "metadata": {},
   "outputs": [
    {
     "data": {
      "text/plain": [
       "array([ True,  True,  True,  True,  True, False,  True,  True,  True,\n",
       "        True, False, False, False,  True,  True, False, False,  True,\n",
       "        True,  True,  True,  True, False,  True,  True,  True, False,\n",
       "       False, False,  True, False,  True, False, False, False,  True,\n",
       "       False, False,  True, False,  True,  True, False, False, False,\n",
       "       False, False,  True, False, False, False, False, False,  True,\n",
       "       False, False,  True,  True, False,  True, False, False,  True,\n",
       "        True,  True,  True,  True, False,  True, False, False, False,\n",
       "       False, False,  True,  True, False,  True, False, False,  True,\n",
       "       False, False,  True, False, False,  True, False, False, False,\n",
       "        True,  True,  True,  True, False,  True,  True,  True,  True,\n",
       "       False, False,  True,  True, False,  True,  True,  True,  True,\n",
       "        True, False,  True,  True,  True,  True, False, False, False,\n",
       "       False,  True,  True, False, False,  True, False,  True,  True,\n",
       "       False, False,  True,  True,  True,  True, False])"
      ]
     },
     "execution_count": 59,
     "metadata": {},
     "output_type": "execute_result"
    }
   ],
   "source": [
    "rfe.support_ # it givs whether or not the selected feature was in top 70. True means yes"
   ]
  },
  {
   "cell_type": "code",
   "execution_count": 60,
   "id": "b474206d",
   "metadata": {},
   "outputs": [
    {
     "data": {
      "text/plain": [
       "[('arpu_6', True, 1),\n",
       " ('arpu_7', True, 1),\n",
       " ('arpu_8', True, 1),\n",
       " ('onnet_mou_6', True, 1),\n",
       " ('onnet_mou_7', True, 1),\n",
       " ('onnet_mou_8', False, 57),\n",
       " ('offnet_mou_6', True, 1),\n",
       " ('offnet_mou_7', True, 1),\n",
       " ('offnet_mou_8', True, 1),\n",
       " ('roam_ic_mou_6', True, 1),\n",
       " ('roam_ic_mou_7', False, 41),\n",
       " ('roam_ic_mou_8', False, 53),\n",
       " ('roam_og_mou_6', False, 15),\n",
       " ('roam_og_mou_7', True, 1),\n",
       " ('roam_og_mou_8', True, 1),\n",
       " ('loc_og_t2t_mou_6', False, 42),\n",
       " ('loc_og_t2t_mou_7', False, 43),\n",
       " ('loc_og_t2t_mou_8', True, 1),\n",
       " ('loc_og_t2m_mou_6', True, 1),\n",
       " ('loc_og_t2m_mou_7', True, 1),\n",
       " ('loc_og_t2m_mou_8', True, 1),\n",
       " ('loc_og_t2f_mou_6', True, 1),\n",
       " ('loc_og_t2f_mou_7', False, 55),\n",
       " ('loc_og_t2f_mou_8', True, 1),\n",
       " ('loc_og_t2c_mou_6', True, 1),\n",
       " ('loc_og_t2c_mou_7', True, 1),\n",
       " ('loc_og_t2c_mou_8', False, 8),\n",
       " ('loc_og_mou_6', False, 63),\n",
       " ('loc_og_mou_7', False, 28),\n",
       " ('loc_og_mou_8', True, 1),\n",
       " ('std_og_t2t_mou_6', False, 38),\n",
       " ('std_og_t2t_mou_7', True, 1),\n",
       " ('std_og_t2t_mou_8', False, 58),\n",
       " ('std_og_t2m_mou_6', False, 46),\n",
       " ('std_og_t2m_mou_7', False, 17),\n",
       " ('std_og_t2m_mou_8', True, 1),\n",
       " ('std_og_t2f_mou_6', False, 48),\n",
       " ('std_og_t2f_mou_7', False, 37),\n",
       " ('std_og_t2f_mou_8', True, 1),\n",
       " ('std_og_mou_6', False, 14),\n",
       " ('std_og_mou_7', True, 1),\n",
       " ('std_og_mou_8', True, 1),\n",
       " ('isd_og_mou_6', False, 61),\n",
       " ('isd_og_mou_7', False, 59),\n",
       " ('isd_og_mou_8', False, 64),\n",
       " ('spl_og_mou_6', False, 56),\n",
       " ('spl_og_mou_7', False, 29),\n",
       " ('spl_og_mou_8', True, 1),\n",
       " ('og_others_6', False, 31),\n",
       " ('og_others_7', False, 34),\n",
       " ('og_others_8', False, 54),\n",
       " ('total_og_mou_6', False, 21),\n",
       " ('total_og_mou_7', False, 6),\n",
       " ('total_og_mou_8', True, 1),\n",
       " ('loc_ic_t2t_mou_6', False, 22),\n",
       " ('loc_ic_t2t_mou_7', False, 45),\n",
       " ('loc_ic_t2t_mou_8', True, 1),\n",
       " ('loc_ic_t2m_mou_6', True, 1),\n",
       " ('loc_ic_t2m_mou_7', False, 23),\n",
       " ('loc_ic_t2m_mou_8', True, 1),\n",
       " ('loc_ic_t2f_mou_6', False, 32),\n",
       " ('loc_ic_t2f_mou_7', False, 27),\n",
       " ('loc_ic_t2f_mou_8', True, 1),\n",
       " ('loc_ic_mou_6', True, 1),\n",
       " ('loc_ic_mou_7', True, 1),\n",
       " ('loc_ic_mou_8', True, 1),\n",
       " ('std_ic_t2t_mou_6', True, 1),\n",
       " ('std_ic_t2t_mou_7', False, 26),\n",
       " ('std_ic_t2t_mou_8', True, 1),\n",
       " ('std_ic_t2m_mou_6', False, 30),\n",
       " ('std_ic_t2m_mou_7', False, 4),\n",
       " ('std_ic_t2m_mou_8', False, 19),\n",
       " ('std_ic_t2f_mou_6', False, 49),\n",
       " ('std_ic_t2f_mou_7', False, 40),\n",
       " ('std_ic_t2f_mou_8', True, 1),\n",
       " ('std_ic_mou_6', True, 1),\n",
       " ('std_ic_mou_7', False, 52),\n",
       " ('std_ic_mou_8', True, 1),\n",
       " ('total_ic_mou_6', False, 12),\n",
       " ('total_ic_mou_7', False, 24),\n",
       " ('total_ic_mou_8', True, 1),\n",
       " ('spl_ic_mou_6', False, 60),\n",
       " ('spl_ic_mou_7', False, 20),\n",
       " ('spl_ic_mou_8', True, 1),\n",
       " ('isd_ic_mou_6', False, 25),\n",
       " ('isd_ic_mou_7', False, 5),\n",
       " ('isd_ic_mou_8', True, 1),\n",
       " ('ic_others_6', False, 33),\n",
       " ('ic_others_7', False, 50),\n",
       " ('ic_others_8', False, 62),\n",
       " ('total_rech_num_6', True, 1),\n",
       " ('total_rech_num_7', True, 1),\n",
       " ('total_rech_num_8', True, 1),\n",
       " ('total_rech_amt_6', True, 1),\n",
       " ('total_rech_amt_7', False, 3),\n",
       " ('total_rech_amt_8', True, 1),\n",
       " ('max_rech_amt_6', True, 1),\n",
       " ('max_rech_amt_7', True, 1),\n",
       " ('max_rech_amt_8', True, 1),\n",
       " ('last_day_rch_amt_6', False, 18),\n",
       " ('last_day_rch_amt_7', False, 35),\n",
       " ('last_day_rch_amt_8', True, 1),\n",
       " ('total_rech_data_6', True, 1),\n",
       " ('total_rech_data_7', False, 36),\n",
       " ('total_rech_data_8', True, 1),\n",
       " ('max_rech_data_6', True, 1),\n",
       " ('max_rech_data_7', True, 1),\n",
       " ('max_rech_data_8', True, 1),\n",
       " ('av_rech_amt_data_6', True, 1),\n",
       " ('av_rech_amt_data_7', False, 13),\n",
       " ('av_rech_amt_data_8', True, 1),\n",
       " ('vol_2g_mb_6', True, 1),\n",
       " ('vol_2g_mb_7', True, 1),\n",
       " ('vol_2g_mb_8', True, 1),\n",
       " ('vol_3g_mb_6', False, 47),\n",
       " ('vol_3g_mb_7', False, 9),\n",
       " ('vol_3g_mb_8', False, 7),\n",
       " ('monthly_2g_6', False, 2),\n",
       " ('monthly_2g_7', True, 1),\n",
       " ('monthly_2g_8', True, 1),\n",
       " ('sachet_2g_6', False, 11),\n",
       " ('sachet_2g_7', False, 51),\n",
       " ('sachet_2g_8', True, 1),\n",
       " ('monthly_3g_6', False, 10),\n",
       " ('monthly_3g_7', True, 1),\n",
       " ('monthly_3g_8', True, 1),\n",
       " ('sachet_3g_6', False, 39),\n",
       " ('sachet_3g_7', False, 16),\n",
       " ('sachet_3g_8', True, 1),\n",
       " ('aon', True, 1),\n",
       " ('aug_vbc_3g', True, 1),\n",
       " ('jul_vbc_3g', True, 1),\n",
       " ('jun_vbc_3g', False, 44)]"
      ]
     },
     "execution_count": 60,
     "metadata": {},
     "output_type": "execute_result"
    }
   ],
   "source": [
    "# to see the selected columns\n",
    "list(zip(X_resampled.columns, rfe.support_, rfe.ranking_))"
   ]
  },
  {
   "cell_type": "code",
   "execution_count": 61,
   "id": "bc628327",
   "metadata": {},
   "outputs": [],
   "source": [
    "col = X_resampled.columns[rfe.support_]"
   ]
  },
  {
   "cell_type": "code",
   "execution_count": 62,
   "id": "bbbd2363",
   "metadata": {},
   "outputs": [
    {
     "data": {
      "text/html": [
       "<table class=\"simpletable\">\n",
       "<caption>Generalized Linear Model Regression Results</caption>\n",
       "<tr>\n",
       "  <th>Dep. Variable:</th>   <td>churn_probability</td> <th>  No. Observations:  </th>  <td> 27020</td> \n",
       "</tr>\n",
       "<tr>\n",
       "  <th>Model:</th>                  <td>GLM</td>        <th>  Df Residuals:      </th>  <td> 26950</td> \n",
       "</tr>\n",
       "<tr>\n",
       "  <th>Model Family:</th>        <td>Binomial</td>      <th>  Df Model:          </th>  <td>    69</td> \n",
       "</tr>\n",
       "<tr>\n",
       "  <th>Link Function:</th>         <td>logit</td>       <th>  Scale:             </th> <td>  1.0000</td>\n",
       "</tr>\n",
       "<tr>\n",
       "  <th>Method:</th>                <td>IRLS</td>        <th>  Log-Likelihood:    </th> <td> -8990.7</td>\n",
       "</tr>\n",
       "<tr>\n",
       "  <th>Date:</th>            <td>Sun, 18 Sep 2022</td>  <th>  Deviance:          </th> <td>  17981.</td>\n",
       "</tr>\n",
       "<tr>\n",
       "  <th>Time:</th>                <td>18:23:24</td>      <th>  Pearson chi2:      </th> <td>1.04e+05</td>\n",
       "</tr>\n",
       "<tr>\n",
       "  <th>No. Iterations:</th>          <td>7</td>         <th>                     </th>     <td> </td>   \n",
       "</tr>\n",
       "<tr>\n",
       "  <th>Covariance Type:</th>     <td>nonrobust</td>     <th>                     </th>     <td> </td>   \n",
       "</tr>\n",
       "</table>\n",
       "<table class=\"simpletable\">\n",
       "<tr>\n",
       "           <td></td>             <th>coef</th>     <th>std err</th>      <th>z</th>      <th>P>|z|</th>  <th>[0.025</th>    <th>0.975]</th>  \n",
       "</tr>\n",
       "<tr>\n",
       "  <th>const</th>              <td>   -1.7791</td> <td>    0.506</td> <td>   -3.517</td> <td> 0.000</td> <td>   -2.771</td> <td>   -0.788</td>\n",
       "</tr>\n",
       "<tr>\n",
       "  <th>arpu_6</th>             <td>    3.2006</td> <td>    3.279</td> <td>    0.976</td> <td> 0.329</td> <td>   -3.225</td> <td>    9.626</td>\n",
       "</tr>\n",
       "<tr>\n",
       "  <th>arpu_7</th>             <td>    7.5921</td> <td>    2.391</td> <td>    3.175</td> <td> 0.001</td> <td>    2.906</td> <td>   12.279</td>\n",
       "</tr>\n",
       "<tr>\n",
       "  <th>arpu_8</th>             <td>   31.1896</td> <td>    4.331</td> <td>    7.202</td> <td> 0.000</td> <td>   22.701</td> <td>   39.678</td>\n",
       "</tr>\n",
       "<tr>\n",
       "  <th>onnet_mou_6</th>        <td>    1.7677</td> <td>    0.568</td> <td>    3.111</td> <td> 0.002</td> <td>    0.654</td> <td>    2.881</td>\n",
       "</tr>\n",
       "<tr>\n",
       "  <th>onnet_mou_7</th>        <td>    8.4330</td> <td>    2.265</td> <td>    3.724</td> <td> 0.000</td> <td>    3.994</td> <td>   12.872</td>\n",
       "</tr>\n",
       "<tr>\n",
       "  <th>offnet_mou_6</th>       <td>    1.7172</td> <td>    0.708</td> <td>    2.424</td> <td> 0.015</td> <td>    0.329</td> <td>    3.105</td>\n",
       "</tr>\n",
       "<tr>\n",
       "  <th>offnet_mou_7</th>       <td>   -1.6020</td> <td>    4.988</td> <td>   -0.321</td> <td> 0.748</td> <td>  -11.378</td> <td>    8.174</td>\n",
       "</tr>\n",
       "<tr>\n",
       "  <th>offnet_mou_8</th>       <td>  -38.9990</td> <td>   11.238</td> <td>   -3.470</td> <td> 0.001</td> <td>  -61.025</td> <td>  -16.973</td>\n",
       "</tr>\n",
       "<tr>\n",
       "  <th>roam_ic_mou_6</th>      <td>    2.0576</td> <td>    0.807</td> <td>    2.549</td> <td> 0.011</td> <td>    0.475</td> <td>    3.640</td>\n",
       "</tr>\n",
       "<tr>\n",
       "  <th>roam_og_mou_7</th>      <td>    3.6525</td> <td>    1.587</td> <td>    2.301</td> <td> 0.021</td> <td>    0.542</td> <td>    6.763</td>\n",
       "</tr>\n",
       "<tr>\n",
       "  <th>roam_og_mou_8</th>      <td>   15.2197</td> <td>    3.301</td> <td>    4.611</td> <td> 0.000</td> <td>    8.751</td> <td>   21.689</td>\n",
       "</tr>\n",
       "<tr>\n",
       "  <th>loc_og_t2t_mou_8</th>   <td> 9330.3986</td> <td> 3.79e+04</td> <td>    0.246</td> <td> 0.805</td> <td>-6.49e+04</td> <td> 8.36e+04</td>\n",
       "</tr>\n",
       "<tr>\n",
       "  <th>loc_og_t2m_mou_6</th>   <td>   -1.9655</td> <td>    0.935</td> <td>   -2.103</td> <td> 0.035</td> <td>   -3.797</td> <td>   -0.134</td>\n",
       "</tr>\n",
       "<tr>\n",
       "  <th>loc_og_t2m_mou_7</th>   <td>   -0.0032</td> <td>    3.570</td> <td>   -0.001</td> <td> 0.999</td> <td>   -7.000</td> <td>    6.993</td>\n",
       "</tr>\n",
       "<tr>\n",
       "  <th>loc_og_t2m_mou_8</th>   <td> 4328.6414</td> <td> 1.75e+04</td> <td>    0.248</td> <td> 0.804</td> <td>-2.99e+04</td> <td> 3.86e+04</td>\n",
       "</tr>\n",
       "<tr>\n",
       "  <th>loc_og_t2f_mou_6</th>   <td>   -4.1842</td> <td>    1.584</td> <td>   -2.642</td> <td> 0.008</td> <td>   -7.288</td> <td>   -1.080</td>\n",
       "</tr>\n",
       "<tr>\n",
       "  <th>loc_og_t2f_mou_8</th>   <td>  515.8681</td> <td> 2073.199</td> <td>    0.249</td> <td> 0.803</td> <td>-3547.527</td> <td> 4579.263</td>\n",
       "</tr>\n",
       "<tr>\n",
       "  <th>loc_og_t2c_mou_6</th>   <td>   -7.2065</td> <td>    1.295</td> <td>   -5.563</td> <td> 0.000</td> <td>   -9.745</td> <td>   -4.668</td>\n",
       "</tr>\n",
       "<tr>\n",
       "  <th>loc_og_t2c_mou_7</th>   <td>   -2.1490</td> <td>    2.169</td> <td>   -0.991</td> <td> 0.322</td> <td>   -6.400</td> <td>    2.102</td>\n",
       "</tr>\n",
       "<tr>\n",
       "  <th>loc_og_mou_8</th>       <td>-9578.1745</td> <td> 3.89e+04</td> <td>   -0.246</td> <td> 0.806</td> <td>-8.58e+04</td> <td> 6.67e+04</td>\n",
       "</tr>\n",
       "<tr>\n",
       "  <th>std_og_t2t_mou_7</th>   <td>  -10.7602</td> <td>    5.864</td> <td>   -1.835</td> <td> 0.067</td> <td>  -22.253</td> <td>    0.733</td>\n",
       "</tr>\n",
       "<tr>\n",
       "  <th>std_og_t2m_mou_8</th>   <td>   33.5886</td> <td>   11.327</td> <td>    2.965</td> <td> 0.003</td> <td>   11.388</td> <td>   55.789</td>\n",
       "</tr>\n",
       "<tr>\n",
       "  <th>std_og_t2f_mou_8</th>   <td>   -5.4670</td> <td>    1.693</td> <td>   -3.229</td> <td> 0.001</td> <td>   -8.785</td> <td>   -2.149</td>\n",
       "</tr>\n",
       "<tr>\n",
       "  <th>std_og_mou_7</th>       <td>    6.1193</td> <td>    6.073</td> <td>    1.008</td> <td> 0.314</td> <td>   -5.784</td> <td>   18.023</td>\n",
       "</tr>\n",
       "<tr>\n",
       "  <th>std_og_mou_8</th>       <td>   36.6981</td> <td>   30.273</td> <td>    1.212</td> <td> 0.225</td> <td>  -22.636</td> <td>   96.032</td>\n",
       "</tr>\n",
       "<tr>\n",
       "  <th>spl_og_mou_8</th>       <td>    1.7067</td> <td>    1.996</td> <td>    0.855</td> <td> 0.392</td> <td>   -2.205</td> <td>    5.618</td>\n",
       "</tr>\n",
       "<tr>\n",
       "  <th>total_og_mou_8</th>     <td>  -45.5652</td> <td>   30.520</td> <td>   -1.493</td> <td> 0.135</td> <td> -105.383</td> <td>   14.253</td>\n",
       "</tr>\n",
       "<tr>\n",
       "  <th>loc_ic_t2t_mou_8</th>   <td>-3026.2550</td> <td> 8551.882</td> <td>   -0.354</td> <td> 0.723</td> <td>-1.98e+04</td> <td> 1.37e+04</td>\n",
       "</tr>\n",
       "<tr>\n",
       "  <th>loc_ic_t2m_mou_6</th>   <td>    3.2986</td> <td>    1.860</td> <td>    1.774</td> <td> 0.076</td> <td>   -0.346</td> <td>    6.943</td>\n",
       "</tr>\n",
       "<tr>\n",
       "  <th>loc_ic_t2m_mou_8</th>   <td>-3529.3793</td> <td> 9997.760</td> <td>   -0.353</td> <td> 0.724</td> <td>-2.31e+04</td> <td> 1.61e+04</td>\n",
       "</tr>\n",
       "<tr>\n",
       "  <th>loc_ic_t2f_mou_8</th>   <td>-1113.6048</td> <td> 3142.901</td> <td>   -0.354</td> <td> 0.723</td> <td>-7273.578</td> <td> 5046.368</td>\n",
       "</tr>\n",
       "<tr>\n",
       "  <th>loc_ic_mou_6</th>       <td>    1.4671</td> <td>    2.478</td> <td>    0.592</td> <td> 0.554</td> <td>   -3.391</td> <td>    6.325</td>\n",
       "</tr>\n",
       "<tr>\n",
       "  <th>loc_ic_mou_7</th>       <td>   14.8138</td> <td>    1.636</td> <td>    9.057</td> <td> 0.000</td> <td>   11.608</td> <td>   18.019</td>\n",
       "</tr>\n",
       "<tr>\n",
       "  <th>loc_ic_mou_8</th>       <td> 3999.2528</td> <td> 1.14e+04</td> <td>    0.350</td> <td> 0.726</td> <td>-1.84e+04</td> <td> 2.64e+04</td>\n",
       "</tr>\n",
       "<tr>\n",
       "  <th>std_ic_t2t_mou_6</th>   <td>    5.4275</td> <td>    1.719</td> <td>    3.157</td> <td> 0.002</td> <td>    2.058</td> <td>    8.797</td>\n",
       "</tr>\n",
       "<tr>\n",
       "  <th>std_ic_t2t_mou_8</th>   <td>  -21.1241</td> <td>    4.490</td> <td>   -4.704</td> <td> 0.000</td> <td>  -29.925</td> <td>  -12.323</td>\n",
       "</tr>\n",
       "<tr>\n",
       "  <th>std_ic_t2f_mou_8</th>   <td>   -8.1347</td> <td>    5.013</td> <td>   -1.623</td> <td> 0.105</td> <td>  -17.960</td> <td>    1.691</td>\n",
       "</tr>\n",
       "<tr>\n",
       "  <th>std_ic_mou_6</th>       <td>   -0.1450</td> <td>    1.193</td> <td>   -0.121</td> <td> 0.903</td> <td>   -2.484</td> <td>    2.194</td>\n",
       "</tr>\n",
       "<tr>\n",
       "  <th>std_ic_mou_8</th>       <td>   -4.2816</td> <td>    9.283</td> <td>   -0.461</td> <td> 0.645</td> <td>  -22.476</td> <td>   13.913</td>\n",
       "</tr>\n",
       "<tr>\n",
       "  <th>total_ic_mou_8</th>     <td>   -5.5489</td> <td>   14.545</td> <td>   -0.382</td> <td> 0.703</td> <td>  -34.056</td> <td>   22.958</td>\n",
       "</tr>\n",
       "<tr>\n",
       "  <th>spl_ic_mou_8</th>       <td>   -7.7090</td> <td>    0.622</td> <td>  -12.393</td> <td> 0.000</td> <td>   -8.928</td> <td>   -6.490</td>\n",
       "</tr>\n",
       "<tr>\n",
       "  <th>isd_ic_mou_8</th>       <td>    3.0262</td> <td>    5.971</td> <td>    0.507</td> <td> 0.612</td> <td>   -8.677</td> <td>   14.729</td>\n",
       "</tr>\n",
       "<tr>\n",
       "  <th>total_rech_num_6</th>   <td>   -0.5125</td> <td>    0.687</td> <td>   -0.747</td> <td> 0.455</td> <td>   -1.858</td> <td>    0.833</td>\n",
       "</tr>\n",
       "<tr>\n",
       "  <th>total_rech_num_7</th>   <td>    3.8387</td> <td>    0.646</td> <td>    5.939</td> <td> 0.000</td> <td>    2.572</td> <td>    5.106</td>\n",
       "</tr>\n",
       "<tr>\n",
       "  <th>total_rech_num_8</th>   <td>   -8.3209</td> <td>    0.773</td> <td>  -10.759</td> <td> 0.000</td> <td>   -9.837</td> <td>   -6.805</td>\n",
       "</tr>\n",
       "<tr>\n",
       "  <th>total_rech_amt_6</th>   <td>    1.0630</td> <td>    3.017</td> <td>    0.352</td> <td> 0.725</td> <td>   -4.851</td> <td>    6.977</td>\n",
       "</tr>\n",
       "<tr>\n",
       "  <th>total_rech_amt_8</th>   <td>  -30.8171</td> <td>    4.171</td> <td>   -7.388</td> <td> 0.000</td> <td>  -38.992</td> <td>  -22.642</td>\n",
       "</tr>\n",
       "<tr>\n",
       "  <th>max_rech_amt_6</th>     <td>   -2.1289</td> <td>    0.868</td> <td>   -2.452</td> <td> 0.014</td> <td>   -3.831</td> <td>   -0.427</td>\n",
       "</tr>\n",
       "<tr>\n",
       "  <th>max_rech_amt_7</th>     <td>   -1.1476</td> <td>    0.644</td> <td>   -1.782</td> <td> 0.075</td> <td>   -2.410</td> <td>    0.114</td>\n",
       "</tr>\n",
       "<tr>\n",
       "  <th>max_rech_amt_8</th>     <td>   11.2180</td> <td>    1.224</td> <td>    9.166</td> <td> 0.000</td> <td>    8.819</td> <td>   13.617</td>\n",
       "</tr>\n",
       "<tr>\n",
       "  <th>last_day_rch_amt_8</th> <td>  -16.6469</td> <td>    1.162</td> <td>  -14.331</td> <td> 0.000</td> <td>  -18.924</td> <td>  -14.370</td>\n",
       "</tr>\n",
       "<tr>\n",
       "  <th>total_rech_data_6</th>  <td>    3.1729</td> <td>    0.762</td> <td>    4.162</td> <td> 0.000</td> <td>    1.679</td> <td>    4.667</td>\n",
       "</tr>\n",
       "<tr>\n",
       "  <th>total_rech_data_8</th>  <td>   -5.2259</td> <td>    0.834</td> <td>   -6.266</td> <td> 0.000</td> <td>   -6.861</td> <td>   -3.591</td>\n",
       "</tr>\n",
       "<tr>\n",
       "  <th>max_rech_data_6</th>    <td>    3.5425</td> <td>    0.742</td> <td>    4.775</td> <td> 0.000</td> <td>    2.089</td> <td>    4.996</td>\n",
       "</tr>\n",
       "<tr>\n",
       "  <th>max_rech_data_7</th>    <td>    0.9624</td> <td>    0.618</td> <td>    1.557</td> <td> 0.119</td> <td>   -0.249</td> <td>    2.174</td>\n",
       "</tr>\n",
       "<tr>\n",
       "  <th>max_rech_data_8</th>    <td>   -7.4645</td> <td>    0.966</td> <td>   -7.727</td> <td> 0.000</td> <td>   -9.358</td> <td>   -5.571</td>\n",
       "</tr>\n",
       "<tr>\n",
       "  <th>av_rech_amt_data_6</th> <td>  -10.9368</td> <td>    1.875</td> <td>   -5.832</td> <td> 0.000</td> <td>  -14.612</td> <td>   -7.261</td>\n",
       "</tr>\n",
       "<tr>\n",
       "  <th>av_rech_amt_data_8</th> <td>    1.7033</td> <td>    1.983</td> <td>    0.859</td> <td> 0.390</td> <td>   -2.183</td> <td>    5.590</td>\n",
       "</tr>\n",
       "<tr>\n",
       "  <th>vol_2g_mb_6</th>        <td>   -1.7616</td> <td>    0.763</td> <td>   -2.309</td> <td> 0.021</td> <td>   -3.257</td> <td>   -0.266</td>\n",
       "</tr>\n",
       "<tr>\n",
       "  <th>vol_2g_mb_7</th>        <td>    2.8193</td> <td>    0.833</td> <td>    3.384</td> <td> 0.001</td> <td>    1.187</td> <td>    4.452</td>\n",
       "</tr>\n",
       "<tr>\n",
       "  <th>vol_2g_mb_8</th>        <td>   -4.3027</td> <td>    1.118</td> <td>   -3.848</td> <td> 0.000</td> <td>   -6.494</td> <td>   -2.111</td>\n",
       "</tr>\n",
       "<tr>\n",
       "  <th>monthly_2g_7</th>       <td>   -0.9484</td> <td>    0.381</td> <td>   -2.487</td> <td> 0.013</td> <td>   -1.696</td> <td>   -0.201</td>\n",
       "</tr>\n",
       "<tr>\n",
       "  <th>monthly_2g_8</th>       <td>   -4.9159</td> <td>    0.587</td> <td>   -8.381</td> <td> 0.000</td> <td>   -6.065</td> <td>   -3.766</td>\n",
       "</tr>\n",
       "<tr>\n",
       "  <th>sachet_2g_8</th>        <td>   -4.2057</td> <td>    0.551</td> <td>   -7.629</td> <td> 0.000</td> <td>   -5.286</td> <td>   -3.125</td>\n",
       "</tr>\n",
       "<tr>\n",
       "  <th>monthly_3g_7</th>       <td>   -0.1530</td> <td>    0.962</td> <td>   -0.159</td> <td> 0.874</td> <td>   -2.038</td> <td>    1.732</td>\n",
       "</tr>\n",
       "<tr>\n",
       "  <th>monthly_3g_8</th>       <td>   -5.2139</td> <td>    1.631</td> <td>   -3.198</td> <td> 0.001</td> <td>   -8.410</td> <td>   -2.018</td>\n",
       "</tr>\n",
       "<tr>\n",
       "  <th>sachet_3g_8</th>        <td>   -1.5259</td> <td>    1.158</td> <td>   -1.317</td> <td> 0.188</td> <td>   -3.796</td> <td>    0.745</td>\n",
       "</tr>\n",
       "<tr>\n",
       "  <th>aon</th>                <td>   -0.6110</td> <td>    0.100</td> <td>   -6.085</td> <td> 0.000</td> <td>   -0.808</td> <td>   -0.414</td>\n",
       "</tr>\n",
       "<tr>\n",
       "  <th>aug_vbc_3g</th>         <td>   -4.5853</td> <td>    1.499</td> <td>   -3.060</td> <td> 0.002</td> <td>   -7.523</td> <td>   -1.648</td>\n",
       "</tr>\n",
       "<tr>\n",
       "  <th>jul_vbc_3g</th>         <td>    0.5087</td> <td>    0.772</td> <td>    0.659</td> <td> 0.510</td> <td>   -1.004</td> <td>    2.022</td>\n",
       "</tr>\n",
       "</table>"
      ],
      "text/plain": [
       "<class 'statsmodels.iolib.summary.Summary'>\n",
       "\"\"\"\n",
       "                 Generalized Linear Model Regression Results                  \n",
       "==============================================================================\n",
       "Dep. Variable:      churn_probability   No. Observations:                27020\n",
       "Model:                            GLM   Df Residuals:                    26950\n",
       "Model Family:                Binomial   Df Model:                           69\n",
       "Link Function:                  logit   Scale:                          1.0000\n",
       "Method:                          IRLS   Log-Likelihood:                -8990.7\n",
       "Date:                Sun, 18 Sep 2022   Deviance:                       17981.\n",
       "Time:                        18:23:24   Pearson chi2:                 1.04e+05\n",
       "No. Iterations:                     7                                         \n",
       "Covariance Type:            nonrobust                                         \n",
       "======================================================================================\n",
       "                         coef    std err          z      P>|z|      [0.025      0.975]\n",
       "--------------------------------------------------------------------------------------\n",
       "const                 -1.7791      0.506     -3.517      0.000      -2.771      -0.788\n",
       "arpu_6                 3.2006      3.279      0.976      0.329      -3.225       9.626\n",
       "arpu_7                 7.5921      2.391      3.175      0.001       2.906      12.279\n",
       "arpu_8                31.1896      4.331      7.202      0.000      22.701      39.678\n",
       "onnet_mou_6            1.7677      0.568      3.111      0.002       0.654       2.881\n",
       "onnet_mou_7            8.4330      2.265      3.724      0.000       3.994      12.872\n",
       "offnet_mou_6           1.7172      0.708      2.424      0.015       0.329       3.105\n",
       "offnet_mou_7          -1.6020      4.988     -0.321      0.748     -11.378       8.174\n",
       "offnet_mou_8         -38.9990     11.238     -3.470      0.001     -61.025     -16.973\n",
       "roam_ic_mou_6          2.0576      0.807      2.549      0.011       0.475       3.640\n",
       "roam_og_mou_7          3.6525      1.587      2.301      0.021       0.542       6.763\n",
       "roam_og_mou_8         15.2197      3.301      4.611      0.000       8.751      21.689\n",
       "loc_og_t2t_mou_8    9330.3986   3.79e+04      0.246      0.805   -6.49e+04    8.36e+04\n",
       "loc_og_t2m_mou_6      -1.9655      0.935     -2.103      0.035      -3.797      -0.134\n",
       "loc_og_t2m_mou_7      -0.0032      3.570     -0.001      0.999      -7.000       6.993\n",
       "loc_og_t2m_mou_8    4328.6414   1.75e+04      0.248      0.804   -2.99e+04    3.86e+04\n",
       "loc_og_t2f_mou_6      -4.1842      1.584     -2.642      0.008      -7.288      -1.080\n",
       "loc_og_t2f_mou_8     515.8681   2073.199      0.249      0.803   -3547.527    4579.263\n",
       "loc_og_t2c_mou_6      -7.2065      1.295     -5.563      0.000      -9.745      -4.668\n",
       "loc_og_t2c_mou_7      -2.1490      2.169     -0.991      0.322      -6.400       2.102\n",
       "loc_og_mou_8       -9578.1745   3.89e+04     -0.246      0.806   -8.58e+04    6.67e+04\n",
       "std_og_t2t_mou_7     -10.7602      5.864     -1.835      0.067     -22.253       0.733\n",
       "std_og_t2m_mou_8      33.5886     11.327      2.965      0.003      11.388      55.789\n",
       "std_og_t2f_mou_8      -5.4670      1.693     -3.229      0.001      -8.785      -2.149\n",
       "std_og_mou_7           6.1193      6.073      1.008      0.314      -5.784      18.023\n",
       "std_og_mou_8          36.6981     30.273      1.212      0.225     -22.636      96.032\n",
       "spl_og_mou_8           1.7067      1.996      0.855      0.392      -2.205       5.618\n",
       "total_og_mou_8       -45.5652     30.520     -1.493      0.135    -105.383      14.253\n",
       "loc_ic_t2t_mou_8   -3026.2550   8551.882     -0.354      0.723   -1.98e+04    1.37e+04\n",
       "loc_ic_t2m_mou_6       3.2986      1.860      1.774      0.076      -0.346       6.943\n",
       "loc_ic_t2m_mou_8   -3529.3793   9997.760     -0.353      0.724   -2.31e+04    1.61e+04\n",
       "loc_ic_t2f_mou_8   -1113.6048   3142.901     -0.354      0.723   -7273.578    5046.368\n",
       "loc_ic_mou_6           1.4671      2.478      0.592      0.554      -3.391       6.325\n",
       "loc_ic_mou_7          14.8138      1.636      9.057      0.000      11.608      18.019\n",
       "loc_ic_mou_8        3999.2528   1.14e+04      0.350      0.726   -1.84e+04    2.64e+04\n",
       "std_ic_t2t_mou_6       5.4275      1.719      3.157      0.002       2.058       8.797\n",
       "std_ic_t2t_mou_8     -21.1241      4.490     -4.704      0.000     -29.925     -12.323\n",
       "std_ic_t2f_mou_8      -8.1347      5.013     -1.623      0.105     -17.960       1.691\n",
       "std_ic_mou_6          -0.1450      1.193     -0.121      0.903      -2.484       2.194\n",
       "std_ic_mou_8          -4.2816      9.283     -0.461      0.645     -22.476      13.913\n",
       "total_ic_mou_8        -5.5489     14.545     -0.382      0.703     -34.056      22.958\n",
       "spl_ic_mou_8          -7.7090      0.622    -12.393      0.000      -8.928      -6.490\n",
       "isd_ic_mou_8           3.0262      5.971      0.507      0.612      -8.677      14.729\n",
       "total_rech_num_6      -0.5125      0.687     -0.747      0.455      -1.858       0.833\n",
       "total_rech_num_7       3.8387      0.646      5.939      0.000       2.572       5.106\n",
       "total_rech_num_8      -8.3209      0.773    -10.759      0.000      -9.837      -6.805\n",
       "total_rech_amt_6       1.0630      3.017      0.352      0.725      -4.851       6.977\n",
       "total_rech_amt_8     -30.8171      4.171     -7.388      0.000     -38.992     -22.642\n",
       "max_rech_amt_6        -2.1289      0.868     -2.452      0.014      -3.831      -0.427\n",
       "max_rech_amt_7        -1.1476      0.644     -1.782      0.075      -2.410       0.114\n",
       "max_rech_amt_8        11.2180      1.224      9.166      0.000       8.819      13.617\n",
       "last_day_rch_amt_8   -16.6469      1.162    -14.331      0.000     -18.924     -14.370\n",
       "total_rech_data_6      3.1729      0.762      4.162      0.000       1.679       4.667\n",
       "total_rech_data_8     -5.2259      0.834     -6.266      0.000      -6.861      -3.591\n",
       "max_rech_data_6        3.5425      0.742      4.775      0.000       2.089       4.996\n",
       "max_rech_data_7        0.9624      0.618      1.557      0.119      -0.249       2.174\n",
       "max_rech_data_8       -7.4645      0.966     -7.727      0.000      -9.358      -5.571\n",
       "av_rech_amt_data_6   -10.9368      1.875     -5.832      0.000     -14.612      -7.261\n",
       "av_rech_amt_data_8     1.7033      1.983      0.859      0.390      -2.183       5.590\n",
       "vol_2g_mb_6           -1.7616      0.763     -2.309      0.021      -3.257      -0.266\n",
       "vol_2g_mb_7            2.8193      0.833      3.384      0.001       1.187       4.452\n",
       "vol_2g_mb_8           -4.3027      1.118     -3.848      0.000      -6.494      -2.111\n",
       "monthly_2g_7          -0.9484      0.381     -2.487      0.013      -1.696      -0.201\n",
       "monthly_2g_8          -4.9159      0.587     -8.381      0.000      -6.065      -3.766\n",
       "sachet_2g_8           -4.2057      0.551     -7.629      0.000      -5.286      -3.125\n",
       "monthly_3g_7          -0.1530      0.962     -0.159      0.874      -2.038       1.732\n",
       "monthly_3g_8          -5.2139      1.631     -3.198      0.001      -8.410      -2.018\n",
       "sachet_3g_8           -1.5259      1.158     -1.317      0.188      -3.796       0.745\n",
       "aon                   -0.6110      0.100     -6.085      0.000      -0.808      -0.414\n",
       "aug_vbc_3g            -4.5853      1.499     -3.060      0.002      -7.523      -1.648\n",
       "jul_vbc_3g             0.5087      0.772      0.659      0.510      -1.004       2.022\n",
       "======================================================================================\n",
       "\"\"\""
      ]
     },
     "execution_count": 62,
     "metadata": {},
     "output_type": "execute_result"
    }
   ],
   "source": [
    "X_resampled_sm = sm.add_constant(X_resampled[col])\n",
    "logm2 = sm.GLM(y_resampled, X_resampled_sm, family=sm.families.Binomial())\n",
    "res = logm2.fit()\n",
    "res.summary()"
   ]
  },
  {
   "cell_type": "markdown",
   "id": "20393e85",
   "metadata": {},
   "source": [
    "## Getting the top 15 features for Logistic model with RFE."
   ]
  },
  {
   "cell_type": "code",
   "execution_count": 197,
   "id": "b5ed3ead",
   "metadata": {},
   "outputs": [],
   "source": [
    "top_feature_lg_rfe = res.params.sort_values(ascending=False).head(25)"
   ]
  },
  {
   "cell_type": "code",
   "execution_count": 198,
   "id": "f16cffc6",
   "metadata": {},
   "outputs": [],
   "source": [
    "top_feature_lg_rfe = list(top_feature_lg_rfe.keys())"
   ]
  },
  {
   "cell_type": "code",
   "execution_count": 200,
   "id": "c5d18410",
   "metadata": {},
   "outputs": [
    {
     "data": {
      "text/plain": [
       "['loc_og_t2t_mou_8',\n",
       " 'loc_og_t2m_mou_8',\n",
       " 'loc_ic_mou_8',\n",
       " 'loc_og_t2f_mou_8',\n",
       " 'std_og_mou_8',\n",
       " 'std_og_t2m_mou_8',\n",
       " 'arpu_8',\n",
       " 'roam_og_mou_8',\n",
       " 'loc_ic_mou_7',\n",
       " 'max_rech_amt_8',\n",
       " 'onnet_mou_7',\n",
       " 'arpu_7',\n",
       " 'std_og_mou_7',\n",
       " 'std_ic_t2t_mou_6',\n",
       " 'total_rech_num_7',\n",
       " 'roam_og_mou_7',\n",
       " 'max_rech_data_6',\n",
       " 'loc_ic_t2m_mou_6',\n",
       " 'arpu_6',\n",
       " 'total_rech_data_6',\n",
       " 'isd_ic_mou_8',\n",
       " 'vol_2g_mb_7',\n",
       " 'roam_ic_mou_6',\n",
       " 'onnet_mou_6',\n",
       " 'offnet_mou_6']"
      ]
     },
     "execution_count": 200,
     "metadata": {},
     "output_type": "execute_result"
    }
   ],
   "source": [
    "top_feature_lg_rfe"
   ]
  },
  {
   "cell_type": "markdown",
   "id": "3270c989",
   "metadata": {},
   "source": [
    "### Making predictions on the test set"
   ]
  },
  {
   "cell_type": "code",
   "execution_count": 63,
   "id": "de453884",
   "metadata": {},
   "outputs": [
    {
     "name": "stdout",
     "output_type": "stream",
     "text": [
      "<class 'pandas.core.frame.DataFrame'>\n",
      "Int64Index: 6304 entries, 5662 to 36425\n",
      "Data columns (total 70 columns):\n",
      " #   Column              Non-Null Count  Dtype  \n",
      "---  ------              --------------  -----  \n",
      " 0   arpu_6              6304 non-null   float64\n",
      " 1   arpu_7              6304 non-null   float64\n",
      " 2   arpu_8              6304 non-null   float64\n",
      " 3   onnet_mou_6         6304 non-null   float64\n",
      " 4   onnet_mou_7         6304 non-null   float64\n",
      " 5   offnet_mou_6        6304 non-null   float64\n",
      " 6   offnet_mou_7        6304 non-null   float64\n",
      " 7   offnet_mou_8        6304 non-null   float64\n",
      " 8   roam_ic_mou_6       6304 non-null   float64\n",
      " 9   roam_og_mou_7       6304 non-null   float64\n",
      " 10  roam_og_mou_8       6304 non-null   float64\n",
      " 11  loc_og_t2t_mou_8    6304 non-null   float64\n",
      " 12  loc_og_t2m_mou_6    6304 non-null   float64\n",
      " 13  loc_og_t2m_mou_7    6304 non-null   float64\n",
      " 14  loc_og_t2m_mou_8    6304 non-null   float64\n",
      " 15  loc_og_t2f_mou_6    6304 non-null   float64\n",
      " 16  loc_og_t2f_mou_8    6304 non-null   float64\n",
      " 17  loc_og_t2c_mou_6    6304 non-null   float64\n",
      " 18  loc_og_t2c_mou_7    6304 non-null   float64\n",
      " 19  loc_og_mou_8        6304 non-null   float64\n",
      " 20  std_og_t2t_mou_7    6304 non-null   float64\n",
      " 21  std_og_t2m_mou_8    6304 non-null   float64\n",
      " 22  std_og_t2f_mou_8    6304 non-null   float64\n",
      " 23  std_og_mou_7        6304 non-null   float64\n",
      " 24  std_og_mou_8        6304 non-null   float64\n",
      " 25  spl_og_mou_8        6304 non-null   float64\n",
      " 26  total_og_mou_8      6304 non-null   float64\n",
      " 27  loc_ic_t2t_mou_8    6304 non-null   float64\n",
      " 28  loc_ic_t2m_mou_6    6304 non-null   float64\n",
      " 29  loc_ic_t2m_mou_8    6304 non-null   float64\n",
      " 30  loc_ic_t2f_mou_8    6304 non-null   float64\n",
      " 31  loc_ic_mou_6        6304 non-null   float64\n",
      " 32  loc_ic_mou_7        6304 non-null   float64\n",
      " 33  loc_ic_mou_8        6304 non-null   float64\n",
      " 34  std_ic_t2t_mou_6    6304 non-null   float64\n",
      " 35  std_ic_t2t_mou_8    6304 non-null   float64\n",
      " 36  std_ic_t2f_mou_8    6304 non-null   float64\n",
      " 37  std_ic_mou_6        6304 non-null   float64\n",
      " 38  std_ic_mou_8        6304 non-null   float64\n",
      " 39  total_ic_mou_8      6304 non-null   float64\n",
      " 40  spl_ic_mou_8        6304 non-null   float64\n",
      " 41  isd_ic_mou_8        6304 non-null   float64\n",
      " 42  total_rech_num_6    6304 non-null   int64  \n",
      " 43  total_rech_num_7    6304 non-null   int64  \n",
      " 44  total_rech_num_8    6304 non-null   int64  \n",
      " 45  total_rech_amt_6    6304 non-null   int64  \n",
      " 46  total_rech_amt_8    6304 non-null   int64  \n",
      " 47  max_rech_amt_6      6304 non-null   int64  \n",
      " 48  max_rech_amt_7      6304 non-null   int64  \n",
      " 49  max_rech_amt_8      6304 non-null   int64  \n",
      " 50  last_day_rch_amt_8  6304 non-null   int64  \n",
      " 51  total_rech_data_6   6304 non-null   float64\n",
      " 52  total_rech_data_8   6304 non-null   float64\n",
      " 53  max_rech_data_6     6304 non-null   float64\n",
      " 54  max_rech_data_7     6304 non-null   float64\n",
      " 55  max_rech_data_8     6304 non-null   float64\n",
      " 56  av_rech_amt_data_6  6304 non-null   float64\n",
      " 57  av_rech_amt_data_8  6304 non-null   float64\n",
      " 58  vol_2g_mb_6         6304 non-null   float64\n",
      " 59  vol_2g_mb_7         6304 non-null   float64\n",
      " 60  vol_2g_mb_8         6304 non-null   float64\n",
      " 61  monthly_2g_7        6304 non-null   int64  \n",
      " 62  monthly_2g_8        6304 non-null   int64  \n",
      " 63  sachet_2g_8         6304 non-null   int64  \n",
      " 64  monthly_3g_7        6304 non-null   int64  \n",
      " 65  monthly_3g_8        6304 non-null   int64  \n",
      " 66  sachet_3g_8         6304 non-null   int64  \n",
      " 67  aon                 6304 non-null   int64  \n",
      " 68  aug_vbc_3g          6304 non-null   float64\n",
      " 69  jul_vbc_3g          6304 non-null   float64\n",
      "dtypes: float64(54), int64(16)\n",
      "memory usage: 3.4 MB\n"
     ]
    }
   ],
   "source": [
    "X_test = X_test[col]\n",
    "X_test.info()"
   ]
  },
  {
   "cell_type": "code",
   "execution_count": 64,
   "id": "dd20e6fb",
   "metadata": {},
   "outputs": [],
   "source": [
    "X_test_sm = sm.add_constant(X_test)"
   ]
  },
  {
   "cell_type": "code",
   "execution_count": 65,
   "id": "df6e96f4",
   "metadata": {},
   "outputs": [],
   "source": [
    "y_test_pred = res.predict(X_test_sm)"
   ]
  },
  {
   "cell_type": "code",
   "execution_count": 66,
   "id": "2c63d4ac",
   "metadata": {},
   "outputs": [
    {
     "data": {
      "text/plain": [
       "5662     0.0\n",
       "37574    0.0\n",
       "58341    0.0\n",
       "23282    0.0\n",
       "30561    0.0\n",
       "45844    0.0\n",
       "30159    0.0\n",
       "62778    0.0\n",
       "45559    0.0\n",
       "35274    0.0\n",
       "dtype: float64"
      ]
     },
     "execution_count": 66,
     "metadata": {},
     "output_type": "execute_result"
    }
   ],
   "source": [
    "y_test_pred[:10]"
   ]
  },
  {
   "cell_type": "code",
   "execution_count": 67,
   "id": "6dbfcf16",
   "metadata": {},
   "outputs": [
    {
     "data": {
      "text/html": [
       "<div>\n",
       "<style scoped>\n",
       "    .dataframe tbody tr th:only-of-type {\n",
       "        vertical-align: middle;\n",
       "    }\n",
       "\n",
       "    .dataframe tbody tr th {\n",
       "        vertical-align: top;\n",
       "    }\n",
       "\n",
       "    .dataframe thead th {\n",
       "        text-align: right;\n",
       "    }\n",
       "</style>\n",
       "<table border=\"1\" class=\"dataframe\">\n",
       "  <thead>\n",
       "    <tr style=\"text-align: right;\">\n",
       "      <th></th>\n",
       "      <th>const</th>\n",
       "      <th>arpu_6</th>\n",
       "      <th>arpu_7</th>\n",
       "      <th>arpu_8</th>\n",
       "      <th>onnet_mou_6</th>\n",
       "      <th>onnet_mou_7</th>\n",
       "      <th>offnet_mou_6</th>\n",
       "      <th>offnet_mou_7</th>\n",
       "      <th>offnet_mou_8</th>\n",
       "      <th>roam_ic_mou_6</th>\n",
       "      <th>...</th>\n",
       "      <th>vol_2g_mb_8</th>\n",
       "      <th>monthly_2g_7</th>\n",
       "      <th>monthly_2g_8</th>\n",
       "      <th>sachet_2g_8</th>\n",
       "      <th>monthly_3g_7</th>\n",
       "      <th>monthly_3g_8</th>\n",
       "      <th>sachet_3g_8</th>\n",
       "      <th>aon</th>\n",
       "      <th>aug_vbc_3g</th>\n",
       "      <th>jul_vbc_3g</th>\n",
       "    </tr>\n",
       "  </thead>\n",
       "  <tbody>\n",
       "    <tr>\n",
       "      <th>5662</th>\n",
       "      <td>1.0</td>\n",
       "      <td>554.740</td>\n",
       "      <td>782.352</td>\n",
       "      <td>673.692</td>\n",
       "      <td>36.86</td>\n",
       "      <td>38.63</td>\n",
       "      <td>649.01</td>\n",
       "      <td>845.83</td>\n",
       "      <td>661.89</td>\n",
       "      <td>0.0</td>\n",
       "      <td>...</td>\n",
       "      <td>0.0</td>\n",
       "      <td>0</td>\n",
       "      <td>0</td>\n",
       "      <td>0</td>\n",
       "      <td>0</td>\n",
       "      <td>0</td>\n",
       "      <td>0</td>\n",
       "      <td>1360</td>\n",
       "      <td>0.00</td>\n",
       "      <td>0.0</td>\n",
       "    </tr>\n",
       "    <tr>\n",
       "      <th>37574</th>\n",
       "      <td>1.0</td>\n",
       "      <td>1563.157</td>\n",
       "      <td>1579.675</td>\n",
       "      <td>1256.565</td>\n",
       "      <td>2761.74</td>\n",
       "      <td>3158.18</td>\n",
       "      <td>1358.03</td>\n",
       "      <td>1144.44</td>\n",
       "      <td>1327.03</td>\n",
       "      <td>0.0</td>\n",
       "      <td>...</td>\n",
       "      <td>0.0</td>\n",
       "      <td>0</td>\n",
       "      <td>0</td>\n",
       "      <td>0</td>\n",
       "      <td>0</td>\n",
       "      <td>0</td>\n",
       "      <td>0</td>\n",
       "      <td>834</td>\n",
       "      <td>0.00</td>\n",
       "      <td>0.0</td>\n",
       "    </tr>\n",
       "    <tr>\n",
       "      <th>58341</th>\n",
       "      <td>1.0</td>\n",
       "      <td>594.217</td>\n",
       "      <td>796.737</td>\n",
       "      <td>996.393</td>\n",
       "      <td>785.66</td>\n",
       "      <td>1200.53</td>\n",
       "      <td>149.53</td>\n",
       "      <td>186.48</td>\n",
       "      <td>585.36</td>\n",
       "      <td>0.0</td>\n",
       "      <td>...</td>\n",
       "      <td>0.0</td>\n",
       "      <td>0</td>\n",
       "      <td>0</td>\n",
       "      <td>0</td>\n",
       "      <td>0</td>\n",
       "      <td>0</td>\n",
       "      <td>0</td>\n",
       "      <td>594</td>\n",
       "      <td>0.00</td>\n",
       "      <td>0.0</td>\n",
       "    </tr>\n",
       "    <tr>\n",
       "      <th>23282</th>\n",
       "      <td>1.0</td>\n",
       "      <td>352.160</td>\n",
       "      <td>197.245</td>\n",
       "      <td>365.564</td>\n",
       "      <td>192.04</td>\n",
       "      <td>179.88</td>\n",
       "      <td>508.53</td>\n",
       "      <td>116.58</td>\n",
       "      <td>507.64</td>\n",
       "      <td>0.0</td>\n",
       "      <td>...</td>\n",
       "      <td>0.0</td>\n",
       "      <td>0</td>\n",
       "      <td>0</td>\n",
       "      <td>3</td>\n",
       "      <td>0</td>\n",
       "      <td>0</td>\n",
       "      <td>0</td>\n",
       "      <td>1164</td>\n",
       "      <td>0.00</td>\n",
       "      <td>0.0</td>\n",
       "    </tr>\n",
       "    <tr>\n",
       "      <th>30561</th>\n",
       "      <td>1.0</td>\n",
       "      <td>332.040</td>\n",
       "      <td>275.976</td>\n",
       "      <td>267.033</td>\n",
       "      <td>116.49</td>\n",
       "      <td>96.89</td>\n",
       "      <td>152.34</td>\n",
       "      <td>178.24</td>\n",
       "      <td>424.68</td>\n",
       "      <td>0.0</td>\n",
       "      <td>...</td>\n",
       "      <td>0.0</td>\n",
       "      <td>0</td>\n",
       "      <td>0</td>\n",
       "      <td>0</td>\n",
       "      <td>0</td>\n",
       "      <td>0</td>\n",
       "      <td>0</td>\n",
       "      <td>635</td>\n",
       "      <td>31.05</td>\n",
       "      <td>337.7</td>\n",
       "    </tr>\n",
       "  </tbody>\n",
       "</table>\n",
       "<p>5 rows × 71 columns</p>\n",
       "</div>"
      ],
      "text/plain": [
       "       const    arpu_6    arpu_7    arpu_8  onnet_mou_6  onnet_mou_7  \\\n",
       "5662     1.0   554.740   782.352   673.692        36.86        38.63   \n",
       "37574    1.0  1563.157  1579.675  1256.565      2761.74      3158.18   \n",
       "58341    1.0   594.217   796.737   996.393       785.66      1200.53   \n",
       "23282    1.0   352.160   197.245   365.564       192.04       179.88   \n",
       "30561    1.0   332.040   275.976   267.033       116.49        96.89   \n",
       "\n",
       "       offnet_mou_6  offnet_mou_7  offnet_mou_8  roam_ic_mou_6  ...  \\\n",
       "5662         649.01        845.83        661.89            0.0  ...   \n",
       "37574       1358.03       1144.44       1327.03            0.0  ...   \n",
       "58341        149.53        186.48        585.36            0.0  ...   \n",
       "23282        508.53        116.58        507.64            0.0  ...   \n",
       "30561        152.34        178.24        424.68            0.0  ...   \n",
       "\n",
       "       vol_2g_mb_8  monthly_2g_7  monthly_2g_8  sachet_2g_8  monthly_3g_7  \\\n",
       "5662           0.0             0             0            0             0   \n",
       "37574          0.0             0             0            0             0   \n",
       "58341          0.0             0             0            0             0   \n",
       "23282          0.0             0             0            3             0   \n",
       "30561          0.0             0             0            0             0   \n",
       "\n",
       "       monthly_3g_8  sachet_3g_8   aon  aug_vbc_3g  jul_vbc_3g  \n",
       "5662              0            0  1360        0.00         0.0  \n",
       "37574             0            0   834        0.00         0.0  \n",
       "58341             0            0   594        0.00         0.0  \n",
       "23282             0            0  1164        0.00         0.0  \n",
       "30561             0            0   635       31.05       337.7  \n",
       "\n",
       "[5 rows x 71 columns]"
      ]
     },
     "execution_count": 67,
     "metadata": {},
     "output_type": "execute_result"
    }
   ],
   "source": [
    "X_test_sm.head()"
   ]
  },
  {
   "cell_type": "code",
   "execution_count": 68,
   "id": "2fb4790c",
   "metadata": {},
   "outputs": [
    {
     "data": {
      "text/plain": [
       "(27020, 71)"
      ]
     },
     "execution_count": 68,
     "metadata": {},
     "output_type": "execute_result"
    }
   ],
   "source": [
    "X_resampled_sm.shape"
   ]
  },
  {
   "cell_type": "code",
   "execution_count": 69,
   "id": "fc21710b",
   "metadata": {},
   "outputs": [],
   "source": [
    "y_pred_train = res.predict(X_resampled_sm)"
   ]
  },
  {
   "cell_type": "code",
   "execution_count": 70,
   "id": "af642532",
   "metadata": {},
   "outputs": [
    {
     "data": {
      "text/plain": [
       "0    0.998140\n",
       "1    0.075434\n",
       "2    0.112273\n",
       "3    0.054453\n",
       "4    0.004868\n",
       "dtype: float64"
      ]
     },
     "execution_count": 70,
     "metadata": {},
     "output_type": "execute_result"
    }
   ],
   "source": [
    "y_pred_train.head()"
   ]
  },
  {
   "cell_type": "code",
   "execution_count": 71,
   "id": "4dd3c9be",
   "metadata": {},
   "outputs": [
    {
     "data": {
      "text/plain": [
       "(27020,)"
      ]
     },
     "execution_count": 71,
     "metadata": {},
     "output_type": "execute_result"
    }
   ],
   "source": [
    "y_pred_train.shape"
   ]
  },
  {
   "cell_type": "markdown",
   "id": "30f080c7",
   "metadata": {},
   "source": [
    "## Confusion matrix for Precision and Recall and Accuracy of the model"
   ]
  },
  {
   "cell_type": "code",
   "execution_count": 72,
   "id": "8d6dd0d6",
   "metadata": {},
   "outputs": [
    {
     "data": {
      "text/plain": [
       "0        0\n",
       "1        0\n",
       "2        0\n",
       "3        0\n",
       "4        0\n",
       "        ..\n",
       "27015    1\n",
       "27016    1\n",
       "27017    1\n",
       "27018    1\n",
       "27019    1\n",
       "Name: churn_probability, Length: 27020, dtype: int64"
      ]
     },
     "execution_count": 72,
     "metadata": {},
     "output_type": "execute_result"
    }
   ],
   "source": [
    "y_resampled"
   ]
  },
  {
   "cell_type": "code",
   "execution_count": 73,
   "id": "89406e11",
   "metadata": {},
   "outputs": [],
   "source": [
    "y_pred_train_final = pd.DataFrame({'Churn_Prob': y_pred_train})"
   ]
  },
  {
   "cell_type": "code",
   "execution_count": 74,
   "id": "b8368b7d",
   "metadata": {},
   "outputs": [
    {
     "data": {
      "text/html": [
       "<div>\n",
       "<style scoped>\n",
       "    .dataframe tbody tr th:only-of-type {\n",
       "        vertical-align: middle;\n",
       "    }\n",
       "\n",
       "    .dataframe tbody tr th {\n",
       "        vertical-align: top;\n",
       "    }\n",
       "\n",
       "    .dataframe thead th {\n",
       "        text-align: right;\n",
       "    }\n",
       "</style>\n",
       "<table border=\"1\" class=\"dataframe\">\n",
       "  <thead>\n",
       "    <tr style=\"text-align: right;\">\n",
       "      <th></th>\n",
       "      <th>Churn_Prob</th>\n",
       "    </tr>\n",
       "  </thead>\n",
       "  <tbody>\n",
       "    <tr>\n",
       "      <th>0</th>\n",
       "      <td>0.998140</td>\n",
       "    </tr>\n",
       "    <tr>\n",
       "      <th>1</th>\n",
       "      <td>0.075434</td>\n",
       "    </tr>\n",
       "    <tr>\n",
       "      <th>2</th>\n",
       "      <td>0.112273</td>\n",
       "    </tr>\n",
       "    <tr>\n",
       "      <th>3</th>\n",
       "      <td>0.054453</td>\n",
       "    </tr>\n",
       "    <tr>\n",
       "      <th>4</th>\n",
       "      <td>0.004868</td>\n",
       "    </tr>\n",
       "  </tbody>\n",
       "</table>\n",
       "</div>"
      ],
      "text/plain": [
       "   Churn_Prob\n",
       "0    0.998140\n",
       "1    0.075434\n",
       "2    0.112273\n",
       "3    0.054453\n",
       "4    0.004868"
      ]
     },
     "execution_count": 74,
     "metadata": {},
     "output_type": "execute_result"
    }
   ],
   "source": [
    "y_pred_train_final.head()"
   ]
  },
  {
   "cell_type": "code",
   "execution_count": 75,
   "id": "7c21640a",
   "metadata": {},
   "outputs": [],
   "source": [
    "y_pred_train_final['Churn_Prob_2'] =  y_pred_train_final.Churn_Prob.map(lambda x: 1 if x > 0.5 else 0)"
   ]
  },
  {
   "cell_type": "code",
   "execution_count": 76,
   "id": "6dc791d5",
   "metadata": {},
   "outputs": [
    {
     "data": {
      "text/plain": [
       "array([[11742,  1768],\n",
       "       [ 1645, 11865]])"
      ]
     },
     "execution_count": 76,
     "metadata": {},
     "output_type": "execute_result"
    }
   ],
   "source": [
    "confusion = metrics.confusion_matrix(y_resampled, y_pred_train_final.Churn_Prob_2)\n",
    "confusion"
   ]
  },
  {
   "cell_type": "code",
   "execution_count": 77,
   "id": "fc9fca61",
   "metadata": {},
   "outputs": [],
   "source": [
    "def draw_roc( actual, probs ):\n",
    "    fpr, tpr, thresholds = metrics.roc_curve( actual, probs,\n",
    "                                              drop_intermediate = False )\n",
    "    auc_score = metrics.roc_auc_score( actual, probs )\n",
    "    plt.figure(figsize=(5, 5))\n",
    "    plt.plot( fpr, tpr, label='ROC curve (area = %0.2f)' % auc_score )\n",
    "    plt.plot([0, 1], [0, 1], 'k--')\n",
    "    plt.xlim([0.0, 1.0])\n",
    "    plt.ylim([0.0, 1.05])\n",
    "    plt.xlabel('False Positive Rate or [1 - True Negative Rate]')\n",
    "    plt.ylabel('True Positive Rate')\n",
    "    plt.title('Receiver operating characteristic example')\n",
    "    plt.legend(loc=\"lower right\")\n",
    "    plt.show()\n",
    "\n",
    "    return auc_score"
   ]
  },
  {
   "cell_type": "code",
   "execution_count": 80,
   "id": "7c1b5af1",
   "metadata": {},
   "outputs": [],
   "source": [
    "# metrics_dict holds different metrics for all models on test data so that we can compare them at one place. \n",
    "metrics_dict = {}"
   ]
  },
  {
   "cell_type": "code",
   "execution_count": 155,
   "id": "00b6db5d",
   "metadata": {},
   "outputs": [],
   "source": [
    "def get_accuracy_params(y_actual, y_pred, y_proba, model):\n",
    "    # Print ROC curve\n",
    "    auc_score = draw_roc(y_actual, y_proba)\n",
    "    confusion = metrics.confusion_matrix(y_actual, y_pred)\n",
    "    print('confusion matrix: ')\n",
    "    print(confusion)\n",
    "    TP = confusion[1, 1]\n",
    "    TN = confusion[0, 0]\n",
    "    FP = confusion[0, 1]\n",
    "    FN = confusion[1, 0]\n",
    "    accuracy = (TN+TP)/(TN+TP+FN+FP)\n",
    "    print('Accuracy: ', accuracy)\n",
    "    precision = TP / (TP+FP)\n",
    "    print('Precision: ', precision)\n",
    "    recall = TP / (TP+FN)\n",
    "    print('Recall: ', recall)\n",
    "    f1_score = 2*precision*recall/(precision+recall)\n",
    "    print('F1_score: ', f1_score)\n",
    "    print('AUC score: ', auc_score)\n",
    "    metrics_dict[model] = {\n",
    "                           'Accuracy': accuracy, \n",
    "                           'Precision':precision, \n",
    "                           'Recall': recall, \n",
    "                           'F1 Score': f1_score, \n",
    "                          }\n",
    "    return metrics_dict"
   ]
  },
  {
   "cell_type": "code",
   "execution_count": 83,
   "id": "0c025a89",
   "metadata": {},
   "outputs": [
    {
     "data": {
      "image/png": "[encoded data removed]",
      "text/plain": [
       "<Figure size 360x360 with 1 Axes>"
      ]
     },
     "metadata": {
      "needs_background": "light"
     },
     "output_type": "display_data"
    },
    {
     "name": "stdout",
     "output_type": "stream",
     "text": [
      "confusion matrix: \n",
      "[[11742  1768]\n",
      " [ 1645 11865]]\n",
      "Accuracy:  0.8736861584011844\n",
      "Precision:  0.8703146776204798\n",
      "Recall:  0.8782383419689119\n",
      "F1_score:  0.8742585565339129\n",
      "AUC score:  0.9354094754495532\n"
     ]
    }
   ],
   "source": [
    "get_accuracy_params(y_resampled, y_pred_train_final.Churn_Prob_2, y_pred_train_final.Churn_Prob, 'Logistic_rfe_train')"
   ]
  },
  {
   "cell_type": "markdown",
   "id": "14850e45",
   "metadata": {},
   "source": [
    "### Let's check for test data set"
   ]
  },
  {
   "cell_type": "code",
   "execution_count": 86,
   "id": "c5f1118d",
   "metadata": {},
   "outputs": [
    {
     "data": {
      "text/plain": [
       "(30000, 133)"
      ]
     },
     "execution_count": 86,
     "metadata": {},
     "output_type": "execute_result"
    }
   ],
   "source": [
    "telecom_test_df.shape"
   ]
  },
  {
   "cell_type": "code",
   "execution_count": 87,
   "id": "53f42986",
   "metadata": {},
   "outputs": [
    {
     "data": {
      "text/plain": [
       "(30000, 2)"
      ]
     },
     "execution_count": 87,
     "metadata": {},
     "output_type": "execute_result"
    }
   ],
   "source": [
    "telecom_test_sol_df.shape"
   ]
  },
  {
   "cell_type": "code",
   "execution_count": 88,
   "id": "2f2703de",
   "metadata": {},
   "outputs": [],
   "source": [
    "# Lets do prediction on telecom_test_df dataset"
   ]
  },
  {
   "cell_type": "code",
   "execution_count": 89,
   "id": "2cc11d07",
   "metadata": {},
   "outputs": [],
   "source": [
    "telecom_test_df_ori = telecom_test_df"
   ]
  },
  {
   "cell_type": "code",
   "execution_count": 90,
   "id": "c9c47355",
   "metadata": {},
   "outputs": [],
   "source": [
    "telecom_test_df = telecom_test_df[col]\n",
    "telecom_test_df = sm.add_constant(telecom_test_df)"
   ]
  },
  {
   "cell_type": "code",
   "execution_count": 91,
   "id": "e4ddd788",
   "metadata": {},
   "outputs": [],
   "source": [
    "y_pred_test = res.predict(telecom_test_df)"
   ]
  },
  {
   "cell_type": "code",
   "execution_count": 92,
   "id": "af2a87e2",
   "metadata": {},
   "outputs": [],
   "source": [
    "y_pred_test_final = pd.DataFrame({'Churn_Prob': y_pred_test})"
   ]
  },
  {
   "cell_type": "code",
   "execution_count": 93,
   "id": "0f2afa74",
   "metadata": {},
   "outputs": [
    {
     "data": {
      "text/html": [
       "<div>\n",
       "<style scoped>\n",
       "    .dataframe tbody tr th:only-of-type {\n",
       "        vertical-align: middle;\n",
       "    }\n",
       "\n",
       "    .dataframe tbody tr th {\n",
       "        vertical-align: top;\n",
       "    }\n",
       "\n",
       "    .dataframe thead th {\n",
       "        text-align: right;\n",
       "    }\n",
       "</style>\n",
       "<table border=\"1\" class=\"dataframe\">\n",
       "  <thead>\n",
       "    <tr style=\"text-align: right;\">\n",
       "      <th></th>\n",
       "      <th>Churn_Prob</th>\n",
       "    </tr>\n",
       "  </thead>\n",
       "  <tbody>\n",
       "    <tr>\n",
       "      <th>0</th>\n",
       "      <td>0.095771</td>\n",
       "    </tr>\n",
       "    <tr>\n",
       "      <th>1</th>\n",
       "      <td>0.289180</td>\n",
       "    </tr>\n",
       "    <tr>\n",
       "      <th>2</th>\n",
       "      <td>0.795274</td>\n",
       "    </tr>\n",
       "    <tr>\n",
       "      <th>3</th>\n",
       "      <td>0.149572</td>\n",
       "    </tr>\n",
       "    <tr>\n",
       "      <th>4</th>\n",
       "      <td>0.251050</td>\n",
       "    </tr>\n",
       "  </tbody>\n",
       "</table>\n",
       "</div>"
      ],
      "text/plain": [
       "   Churn_Prob\n",
       "0    0.095771\n",
       "1    0.289180\n",
       "2    0.795274\n",
       "3    0.149572\n",
       "4    0.251050"
      ]
     },
     "execution_count": 93,
     "metadata": {},
     "output_type": "execute_result"
    }
   ],
   "source": [
    "y_pred_test_final.head()"
   ]
  },
  {
   "cell_type": "code",
   "execution_count": 94,
   "id": "068826c3",
   "metadata": {},
   "outputs": [],
   "source": [
    "y_pred_test_final['Churn_Prob_2'] =  y_pred_test_final.Churn_Prob.map(lambda x: 1 if x > 0.5 else 0)"
   ]
  },
  {
   "cell_type": "markdown",
   "id": "06430882",
   "metadata": {},
   "source": [
    "## Saving the y_pred_test_final['Churn_Prob_2'] for Kaggle submission.\n",
    "### This will be updated if we find better model than Logistic + RFE for current dataset."
   ]
  },
  {
   "cell_type": "code",
   "execution_count": 172,
   "id": "47a5cbab",
   "metadata": {},
   "outputs": [],
   "source": [
    "y_pred_test_final['Churn_Prob_2'].to_csv('Kaggle_solution.csv')"
   ]
  },
  {
   "cell_type": "code",
   "execution_count": 95,
   "id": "094be928",
   "metadata": {},
   "outputs": [
    {
     "data": {
      "image/png": "[encoded data removed]",
      "text/plain": [
       "<Figure size 360x360 with 1 Axes>"
      ]
     },
     "metadata": {
      "needs_background": "light"
     },
     "output_type": "display_data"
    },
    {
     "name": "stdout",
     "output_type": "stream",
     "text": [
      "confusion matrix: \n",
      "[[21757  5184]\n",
      " [  417  2642]]\n",
      "Accuracy:  0.8133\n",
      "Precision:  0.3375926399182213\n",
      "Recall:  0.8636809414841451\n",
      "F1_score:  0.48543867707854854\n",
      "AUC score:  0.9040531451295647\n"
     ]
    }
   ],
   "source": [
    "metrics_dict = get_accuracy_params(telecom_test_sol_df.churn_probability, y_pred_test_final.Churn_Prob_2, y_pred_test_final.Churn_Prob, 'Logistic_rfe_test')"
   ]
  },
  {
   "cell_type": "code",
   "execution_count": 97,
   "id": "deb9c0d0",
   "metadata": {},
   "outputs": [
    {
     "data": {
      "text/plain": [
       "{'Logistic_rfe_train': {'Accuracy': 0.8736861584011844,\n",
       "  'Precision': 0.8703146776204798,\n",
       "  'Recall': 0.8782383419689119,\n",
       "  'F1 Score': 0.8742585565339129,\n",
       "  'AUC Score': 0.9354094754495532},\n",
       " 'Logistic_rfe_test': {'Accuracy': 0.8133,\n",
       "  'Precision': 0.3375926399182213,\n",
       "  'Recall': 0.8636809414841451,\n",
       "  'F1 Score': 0.48543867707854854,\n",
       "  'AUC Score': 0.9040531451295647}}"
      ]
     },
     "execution_count": 97,
     "metadata": {},
     "output_type": "execute_result"
    }
   ],
   "source": [
    "metrics_dict"
   ]
  },
  {
   "cell_type": "markdown",
   "id": "ec524c33",
   "metadata": {},
   "source": [
    "### This seems a good model but lets compare with other models."
   ]
  },
  {
   "cell_type": "markdown",
   "id": "bd93b4a0",
   "metadata": {},
   "source": [
    "## Model 2: Logistic Regression - To know Churn probability + PCA\n",
    "\n",
    "PCA and Logistic Regression to check if model improves or not."
   ]
  },
  {
   "cell_type": "markdown",
   "id": "0ecb5679",
   "metadata": {},
   "source": [
    "## PCA on the data\n",
    "\n",
    "- While computing the principal components, we must not include the entire dataset. Model building is all about doing well on the data we haven't seen yet!\n",
    "- So we'll calculate the PCs using the train data, and apply them later on the test data."
   ]
  },
  {
   "cell_type": "code",
   "execution_count": 98,
   "id": "e2a5cd74",
   "metadata": {},
   "outputs": [],
   "source": [
    "# Looking at the data again"
   ]
  },
  {
   "cell_type": "code",
   "execution_count": 99,
   "id": "228cc28f",
   "metadata": {},
   "outputs": [
    {
     "data": {
      "text/plain": [
       "(27020,)"
      ]
     },
     "execution_count": 99,
     "metadata": {},
     "output_type": "execute_result"
    }
   ],
   "source": [
    "y_resampled.shape"
   ]
  },
  {
   "cell_type": "code",
   "execution_count": 100,
   "id": "f357b520",
   "metadata": {},
   "outputs": [
    {
     "data": {
      "text/plain": [
       "(27020, 133)"
      ]
     },
     "execution_count": 100,
     "metadata": {},
     "output_type": "execute_result"
    }
   ],
   "source": [
    "X_resampled.shape"
   ]
  },
  {
   "cell_type": "code",
   "execution_count": 101,
   "id": "d5bfc9eb",
   "metadata": {},
   "outputs": [],
   "source": [
    "pca = PCA(random_state=42)"
   ]
  },
  {
   "cell_type": "code",
   "execution_count": 102,
   "id": "4879eab0",
   "metadata": {},
   "outputs": [
    {
     "data": {
      "text/html": [
       "<style>#sk-container-id-1 {color: black;background-color: white;}#sk-container-id-1 pre{padding: 0;}#sk-container-id-1 div.sk-toggleable {background-color: white;}#sk-container-id-1 label.sk-toggleable__label {cursor: pointer;display: block;width: 100%;margin-bottom: 0;padding: 0.3em;box-sizing: border-box;text-align: center;}#sk-container-id-1 label.sk-toggleable__label-arrow:before {content: \"▸\";float: left;margin-right: 0.25em;color: #696969;}#sk-container-id-1 label.sk-toggleable__label-arrow:hover:before {color: black;}#sk-container-id-1 div.sk-estimator:hover label.sk-toggleable__label-arrow:before {color: black;}#sk-container-id-1 div.sk-toggleable__content {max-height: 0;max-width: 0;overflow: hidden;text-align: left;background-color: #f0f8ff;}#sk-container-id-1 div.sk-toggleable__content pre {margin: 0.2em;color: black;border-radius: 0.25em;background-color: #f0f8ff;}#sk-container-id-1 input.sk-toggleable__control:checked~div.sk-toggleable__content {max-height: 200px;max-width: 100%;overflow: auto;}#sk-container-id-1 input.sk-toggleable__control:checked~label.sk-toggleable__label-arrow:before {content: \"▾\";}#sk-container-id-1 div.sk-estimator input.sk-toggleable__control:checked~label.sk-toggleable__label {background-color: #d4ebff;}#sk-container-id-1 div.sk-label input.sk-toggleable__control:checked~label.sk-toggleable__label {background-color: #d4ebff;}#sk-container-id-1 input.sk-hidden--visually {border: 0;clip: rect(1px 1px 1px 1px);clip: rect(1px, 1px, 1px, 1px);height: 1px;margin: -1px;overflow: hidden;padding: 0;position: absolute;width: 1px;}#sk-container-id-1 div.sk-estimator {font-family: monospace;background-color: #f0f8ff;border: 1px dotted black;border-radius: 0.25em;box-sizing: border-box;margin-bottom: 0.5em;}#sk-container-id-1 div.sk-estimator:hover {background-color: #d4ebff;}#sk-container-id-1 div.sk-parallel-item::after {content: \"\";width: 100%;border-bottom: 1px solid gray;flex-grow: 1;}#sk-container-id-1 div.sk-label:hover label.sk-toggleable__label {background-color: #d4ebff;}#sk-container-id-1 div.sk-serial::before {content: \"\";position: absolute;border-left: 1px solid gray;box-sizing: border-box;top: 0;bottom: 0;left: 50%;z-index: 0;}#sk-container-id-1 div.sk-serial {display: flex;flex-direction: column;align-items: center;background-color: white;padding-right: 0.2em;padding-left: 0.2em;position: relative;}#sk-container-id-1 div.sk-item {position: relative;z-index: 1;}#sk-container-id-1 div.sk-parallel {display: flex;align-items: stretch;justify-content: center;background-color: white;position: relative;}#sk-container-id-1 div.sk-item::before, #sk-container-id-1 div.sk-parallel-item::before {content: \"\";position: absolute;border-left: 1px solid gray;box-sizing: border-box;top: 0;bottom: 0;left: 50%;z-index: -1;}#sk-container-id-1 div.sk-parallel-item {display: flex;flex-direction: column;z-index: 1;position: relative;background-color: white;}#sk-container-id-1 div.sk-parallel-item:first-child::after {align-self: flex-end;width: 50%;}#sk-container-id-1 div.sk-parallel-item:last-child::after {align-self: flex-start;width: 50%;}#sk-container-id-1 div.sk-parallel-item:only-child::after {width: 0;}#sk-container-id-1 div.sk-dashed-wrapped {border: 1px dashed gray;margin: 0 0.4em 0.5em 0.4em;box-sizing: border-box;padding-bottom: 0.4em;background-color: white;}#sk-container-id-1 div.sk-label label {font-family: monospace;font-weight: bold;display: inline-block;line-height: 1.2em;}#sk-container-id-1 div.sk-label-container {text-align: center;}#sk-container-id-1 div.sk-container {/* jupyter's `normalize.less` sets `[hidden] { display: none; }` but bootstrap.min.css set `[hidden] { display: none !important; }` so we also need the `!important` here to be able to override the default hidden behavior on the sphinx rendered scikit-learn.org. See: https://github.com/scikit-learn/scikit-learn/issues/21755 */display: inline-block !important;position: relative;}#sk-container-id-1 div.sk-text-repr-fallback {display: none;}</style><div id=\"sk-container-id-1\" class=\"sk-top-container\"><div class=\"sk-text-repr-fallback\"><pre>PCA(random_state=42)</pre><b>In a Jupyter environment, please rerun this cell to show the HTML representation or trust the notebook. <br />On GitHub, the HTML representation is unable to render, please try loading this page with nbviewer.org.</b></div><div class=\"sk-container\" hidden><div class=\"sk-item\"><div class=\"sk-estimator sk-toggleable\"><input class=\"sk-toggleable__control sk-hidden--visually\" id=\"sk-estimator-id-1\" type=\"checkbox\" checked><label for=\"sk-estimator-id-1\" class=\"sk-toggleable__label sk-toggleable__label-arrow\">PCA</label><div class=\"sk-toggleable__content\"><pre>PCA(random_state=42)</pre></div></div></div></div></div>"
      ],
      "text/plain": [
       "PCA(random_state=42)"
      ]
     },
     "execution_count": 102,
     "metadata": {},
     "output_type": "execute_result"
    }
   ],
   "source": [
    "pca.fit(X_resampled)"
   ]
  },
  {
   "cell_type": "code",
   "execution_count": 103,
   "id": "6a324422",
   "metadata": {},
   "outputs": [
    {
     "data": {
      "text/plain": [
       "array([[ 1.72272362e-02,  1.33477150e-02, -5.61687277e-03, ...,\n",
       "        -2.30237954e-02, -3.76580217e-02, -4.28337607e-02],\n",
       "       [ 4.92446853e-02,  5.45767397e-02,  3.79811688e-02, ...,\n",
       "        -1.95023066e-02, -3.67580723e-02, -5.07703972e-02],\n",
       "       [ 4.94138619e-02,  7.32064801e-02,  6.77928166e-02, ...,\n",
       "         8.35266686e-02,  1.31416750e-01,  1.40655073e-01],\n",
       "       ...,\n",
       "       [-0.00000000e+00, -5.68369853e-16, -4.19658483e-15, ...,\n",
       "        -1.79816437e-15, -2.49587780e-16,  8.88134197e-16],\n",
       "       [-0.00000000e+00,  4.07264584e-16,  1.04932839e-16, ...,\n",
       "         1.39386901e-16, -1.09412742e-16,  2.22448130e-17],\n",
       "       [-0.00000000e+00,  3.77062171e-16,  1.18409499e-17, ...,\n",
       "        -2.63353675e-17,  5.13026983e-17, -5.92364270e-17]])"
      ]
     },
     "execution_count": 103,
     "metadata": {},
     "output_type": "execute_result"
    }
   ],
   "source": [
    "pca.components_"
   ]
  },
  {
   "cell_type": "code",
   "execution_count": 104,
   "id": "462adf05",
   "metadata": {},
   "outputs": [
    {
     "data": {
      "text/plain": [
       "array([1.93965626e-01, 1.59002272e-01, 7.58684982e-02, 6.14233209e-02,\n",
       "       5.28879862e-02, 4.90104971e-02, 4.51334414e-02, 3.23230294e-02,\n",
       "       2.06485122e-02, 1.98748295e-02, 1.89824201e-02, 1.75633198e-02,\n",
       "       1.52390912e-02, 1.27193209e-02, 1.22547594e-02, 1.17245884e-02,\n",
       "       1.09537148e-02, 1.03610595e-02, 1.01395076e-02, 9.54905655e-03,\n",
       "       8.74196531e-03, 8.31000688e-03, 7.58586852e-03, 6.93090023e-03,\n",
       "       6.68989541e-03, 6.62319626e-03, 6.27285583e-03, 5.66203070e-03,\n",
       "       5.26361425e-03, 5.18694037e-03, 4.75497562e-03, 4.65492339e-03,\n",
       "       4.09776463e-03, 3.69594860e-03, 3.36222285e-03, 3.15729062e-03,\n",
       "       3.11719526e-03, 2.94309582e-03, 2.90976176e-03, 2.78510225e-03,\n",
       "       2.77140406e-03, 2.58862503e-03, 2.52871507e-03, 2.44709115e-03,\n",
       "       2.32253056e-03, 2.14189804e-03, 2.12319756e-03, 2.07030334e-03,\n",
       "       1.95704436e-03, 1.77240332e-03, 1.74217374e-03, 1.69423288e-03,\n",
       "       1.63946555e-03, 1.55922274e-03, 1.42715064e-03, 1.38813929e-03,\n",
       "       1.30297656e-03, 1.28208122e-03, 1.23795923e-03, 1.20116285e-03,\n",
       "       1.18625924e-03, 9.99317382e-04, 9.56588501e-04, 9.25010744e-04,\n",
       "       9.03655781e-04, 8.85622708e-04, 8.63141623e-04, 8.57712757e-04,\n",
       "       8.28001939e-04, 8.15287475e-04, 7.18627173e-04, 6.81601064e-04,\n",
       "       6.78661355e-04, 6.17632386e-04, 5.81704876e-04, 5.70952483e-04,\n",
       "       5.30250104e-04, 4.80957195e-04, 4.68746386e-04, 4.47111008e-04,\n",
       "       4.19831618e-04, 4.07521710e-04, 3.64141485e-04, 3.42752548e-04,\n",
       "       3.31604679e-04, 3.23002195e-04, 3.10830228e-04, 2.87241990e-04,\n",
       "       2.71812210e-04, 2.55749183e-04, 2.45427987e-04, 1.90581798e-04,\n",
       "       1.82767922e-04, 1.78445035e-04, 1.68717719e-04, 1.51316017e-04,\n",
       "       1.47666069e-04, 1.41080606e-04, 1.12104656e-04, 1.02949371e-04,\n",
       "       9.30000334e-05, 8.62969194e-05, 6.38978346e-05, 5.89103893e-05,\n",
       "       5.37577157e-05, 4.41262160e-05, 3.38629877e-05, 1.79419455e-05,\n",
       "       1.68905216e-05, 1.33892075e-05, 8.37196980e-06, 6.23351630e-06,\n",
       "       1.78275458e-06, 7.71060999e-07, 1.96452284e-07, 3.36121829e-12,\n",
       "       1.98328529e-12, 1.58114408e-12, 1.34630782e-12, 1.19469567e-12,\n",
       "       1.06760727e-12, 1.05439208e-12, 7.17300426e-13, 5.36453664e-13,\n",
       "       3.83209607e-13, 3.75367938e-13, 3.66966379e-13, 2.75368755e-13,\n",
       "       2.22157917e-13, 1.00712164e-13, 1.03852414e-33, 7.78872159e-34,\n",
       "       7.78872159e-34])"
      ]
     },
     "execution_count": 104,
     "metadata": {},
     "output_type": "execute_result"
    }
   ],
   "source": [
    "pca.explained_variance_ratio_"
   ]
  },
  {
   "cell_type": "code",
   "execution_count": 105,
   "id": "35ab804f",
   "metadata": {},
   "outputs": [],
   "source": [
    "var_cumu = np.cumsum(pca.explained_variance_ratio_)"
   ]
  },
  {
   "cell_type": "code",
   "execution_count": 106,
   "id": "5653298c",
   "metadata": {},
   "outputs": [
    {
     "data": {
      "text/plain": [
       "[<matplotlib.lines.Line2D at 0x7fb519e41a60>]"
      ]
     },
     "execution_count": 106,
     "metadata": {},
     "output_type": "execute_result"
    },
    {
     "data": {
      "image/png": "[encoded data removed]",
      "text/plain": [
       "<Figure size 864x576 with 1 Axes>"
      ]
     },
     "metadata": {
      "needs_background": "light"
     },
     "output_type": "display_data"
    }
   ],
   "source": [
    "fig = plt.figure(figsize=[12,8])\n",
    "plt.plot(range(1,len(var_cumu)+1), var_cumu)"
   ]
  },
  {
   "cell_type": "markdown",
   "id": "e6e46d15",
   "metadata": {},
   "source": [
    "## Looking at the scree plot with 50 PCs we have more than 95% of variance explained."
   ]
  },
  {
   "cell_type": "code",
   "execution_count": 107,
   "id": "6b98d260",
   "metadata": {},
   "outputs": [],
   "source": [
    "pca_final = IncrementalPCA(n_components=50)"
   ]
  },
  {
   "cell_type": "code",
   "execution_count": 108,
   "id": "ef462a28",
   "metadata": {},
   "outputs": [],
   "source": [
    "df_train_pca = pca_final.fit_transform(X_resampled)"
   ]
  },
  {
   "cell_type": "code",
   "execution_count": 109,
   "id": "4acf2f4b",
   "metadata": {},
   "outputs": [
    {
     "data": {
      "text/plain": [
       "(27020, 50)"
      ]
     },
     "execution_count": 109,
     "metadata": {},
     "output_type": "execute_result"
    }
   ],
   "source": [
    "df_train_pca.shape"
   ]
  },
  {
   "cell_type": "code",
   "execution_count": 110,
   "id": "51c3c638",
   "metadata": {},
   "outputs": [],
   "source": [
    "corrmat = np.corrcoef(df_train_pca.transpose())"
   ]
  },
  {
   "cell_type": "code",
   "execution_count": 111,
   "id": "469fc042",
   "metadata": {},
   "outputs": [
    {
     "data": {
      "text/plain": [
       "(50, 50)"
      ]
     },
     "execution_count": 111,
     "metadata": {},
     "output_type": "execute_result"
    }
   ],
   "source": [
    "corrmat.shape"
   ]
  },
  {
   "cell_type": "code",
   "execution_count": 112,
   "id": "e3fdc23f",
   "metadata": {},
   "outputs": [
    {
     "data": {
      "text/plain": [
       "array([[ 1.00000000e+00, -2.26497063e-07, -3.04135007e-08, ...,\n",
       "         3.75441714e-05, -3.87972451e-05, -3.14671977e-05],\n",
       "       [-2.26497063e-07,  1.00000000e+00, -2.04119736e-07, ...,\n",
       "         2.93285208e-05, -4.46860262e-05, -4.18584540e-05],\n",
       "       [-3.04135007e-08, -2.04119736e-07,  1.00000000e+00, ...,\n",
       "         2.79962499e-05,  1.63081375e-04, -9.15290148e-05],\n",
       "       ...,\n",
       "       [ 3.75441714e-05,  2.93285208e-05,  2.79962499e-05, ...,\n",
       "         1.00000000e+00, -7.13571080e-02, -8.20091116e-02],\n",
       "       [-3.87972451e-05, -4.46860262e-05,  1.63081375e-04, ...,\n",
       "        -7.13571080e-02,  1.00000000e+00,  7.09342725e-02],\n",
       "       [-3.14671977e-05, -4.18584540e-05, -9.15290148e-05, ...,\n",
       "        -8.20091116e-02,  7.09342725e-02,  1.00000000e+00]])"
      ]
     },
     "execution_count": 112,
     "metadata": {},
     "output_type": "execute_result"
    }
   ],
   "source": [
    "corrmat"
   ]
  },
  {
   "cell_type": "markdown",
   "id": "e5852693",
   "metadata": {},
   "source": [
    "### Applying the transformation on the test set"
   ]
  },
  {
   "cell_type": "code",
   "execution_count": 113,
   "id": "76137d7b",
   "metadata": {},
   "outputs": [
    {
     "data": {
      "text/plain": [
       "(30000, 133)"
      ]
     },
     "execution_count": 113,
     "metadata": {},
     "output_type": "execute_result"
    }
   ],
   "source": [
    "telecom_test_df_ori.shape"
   ]
  },
  {
   "cell_type": "code",
   "execution_count": 114,
   "id": "2d03012a",
   "metadata": {},
   "outputs": [
    {
     "data": {
      "text/plain": [
       "(30000, 50)"
      ]
     },
     "execution_count": 114,
     "metadata": {},
     "output_type": "execute_result"
    }
   ],
   "source": [
    "df_test_pca = pca_final.transform(telecom_test_df_ori)\n",
    "df_test_pca.shape"
   ]
  },
  {
   "cell_type": "markdown",
   "id": "8128fc2c",
   "metadata": {},
   "source": [
    "## Applying logistic regression on the data on our Principal components"
   ]
  },
  {
   "cell_type": "code",
   "execution_count": 115,
   "id": "af703228",
   "metadata": {},
   "outputs": [],
   "source": [
    "learner_pca = LogisticRegression()"
   ]
  },
  {
   "cell_type": "code",
   "execution_count": 116,
   "id": "c9149f26",
   "metadata": {},
   "outputs": [],
   "source": [
    "model_pca = learner_pca.fit(df_train_pca, y_resampled)"
   ]
  },
  {
   "cell_type": "code",
   "execution_count": 117,
   "id": "cf0665eb",
   "metadata": {},
   "outputs": [],
   "source": [
    "y_pred_proba = model_pca.predict_proba(df_train_pca)[::,1]"
   ]
  },
  {
   "cell_type": "code",
   "execution_count": 118,
   "id": "88a51eb1",
   "metadata": {},
   "outputs": [
    {
     "data": {
      "text/plain": [
       "array([0.94835413, 0.07173978, 0.08596745, ..., 0.8539864 , 0.78329563,\n",
       "       0.51422168])"
      ]
     },
     "execution_count": 118,
     "metadata": {},
     "output_type": "execute_result"
    }
   ],
   "source": [
    "y_pred_proba"
   ]
  },
  {
   "cell_type": "code",
   "execution_count": 119,
   "id": "08961fe1",
   "metadata": {},
   "outputs": [],
   "source": [
    "y_pred_train_final = pd.DataFrame({'Churn_Prob': y_pred_proba})"
   ]
  },
  {
   "cell_type": "code",
   "execution_count": 120,
   "id": "a3d734b5",
   "metadata": {},
   "outputs": [],
   "source": [
    "y_pred_train_final['Churn_Prob_2'] = y_pred_train_final.Churn_Prob.map(lambda x: 1 if x > 0.5 else 0)"
   ]
  },
  {
   "cell_type": "code",
   "execution_count": 121,
   "id": "7a23c96d",
   "metadata": {},
   "outputs": [
    {
     "data": {
      "image/png": "[encoded data removed]",
      "text/plain": [
       "<Figure size 360x360 with 1 Axes>"
      ]
     },
     "metadata": {
      "needs_background": "light"
     },
     "output_type": "display_data"
    },
    {
     "name": "stdout",
     "output_type": "stream",
     "text": [
      "confusion matrix: \n",
      "[[10981  2529]\n",
      " [ 1749 11761]]\n",
      "Accuracy:  0.8416728349370837\n",
      "Precision:  0.8230230930720783\n",
      "Recall:  0.870540340488527\n",
      "F1_score:  0.8461151079136691\n",
      "AUC score:  0.9110417701940774\n"
     ]
    }
   ],
   "source": [
    "get_accuracy_params(y_resampled, y_pred_train_final.Churn_Prob_2, y_pred_train_final.Churn_Prob, 'Logistic_pca_train')"
   ]
  },
  {
   "cell_type": "code",
   "execution_count": 122,
   "id": "6de11546",
   "metadata": {},
   "outputs": [
    {
     "data": {
      "text/plain": [
       "{'Logistic_rfe_train': {'Accuracy': 0.8736861584011844,\n",
       "  'Precision': 0.8703146776204798,\n",
       "  'Recall': 0.8782383419689119,\n",
       "  'F1 Score': 0.8742585565339129,\n",
       "  'AUC Score': 0.9354094754495532},\n",
       " 'Logistic_rfe_test': {'Accuracy': 0.8133,\n",
       "  'Precision': 0.3375926399182213,\n",
       "  'Recall': 0.8636809414841451,\n",
       "  'F1 Score': 0.48543867707854854,\n",
       "  'AUC Score': 0.9040531451295647},\n",
       " 'Logistic_pca_train': {'Accuracy': 0.8416728349370837,\n",
       "  'Precision': 0.8230230930720783,\n",
       "  'Recall': 0.870540340488527,\n",
       "  'F1 Score': 0.8461151079136691,\n",
       "  'AUC Score': 0.9110417701940774}}"
      ]
     },
     "execution_count": 122,
     "metadata": {},
     "output_type": "execute_result"
    }
   ],
   "source": [
    "metrics_dict"
   ]
  },
  {
   "cell_type": "markdown",
   "id": "1fadaff5",
   "metadata": {},
   "source": [
    "### Making predictions on the test set"
   ]
  },
  {
   "cell_type": "code",
   "execution_count": 123,
   "id": "f0b57b7c",
   "metadata": {},
   "outputs": [],
   "source": [
    "y_pred_proba = model_pca.predict_proba(df_test_pca)[::,1]"
   ]
  },
  {
   "cell_type": "code",
   "execution_count": 124,
   "id": "98027341",
   "metadata": {},
   "outputs": [
    {
     "data": {
      "text/plain": [
       "array([0.16384109, 0.26888822, 0.69824351, ..., 0.61861141, 0.85280927,\n",
       "       0.03730298])"
      ]
     },
     "execution_count": 124,
     "metadata": {},
     "output_type": "execute_result"
    }
   ],
   "source": [
    "y_pred_proba"
   ]
  },
  {
   "cell_type": "code",
   "execution_count": 125,
   "id": "08e2a862",
   "metadata": {},
   "outputs": [],
   "source": [
    "y_pred_test_final = pd.DataFrame({'Churn_Prob': y_pred_proba})"
   ]
  },
  {
   "cell_type": "code",
   "execution_count": 126,
   "id": "9f6f6c6e",
   "metadata": {},
   "outputs": [],
   "source": [
    "y_pred_test_final['Churn_Prob_2'] = y_pred_test_final.Churn_Prob.map(lambda x: 1 if x > 0.5 else 0)"
   ]
  },
  {
   "cell_type": "code",
   "execution_count": 127,
   "id": "df39938b",
   "metadata": {},
   "outputs": [
    {
     "data": {
      "image/png": "[encoded data removed]",
      "text/plain": [
       "<Figure size 360x360 with 1 Axes>"
      ]
     },
     "metadata": {
      "needs_background": "light"
     },
     "output_type": "display_data"
    },
    {
     "name": "stdout",
     "output_type": "stream",
     "text": [
      "confusion matrix: \n",
      "[[17954  8987]\n",
      " [  367  2692]]\n",
      "Accuracy:  0.6882\n",
      "Precision:  0.230499186574193\n",
      "Recall:  0.8800261523373651\n",
      "F1_score:  0.36531415388790883\n",
      "AUC score:  0.8685962019920784\n"
     ]
    }
   ],
   "source": [
    "metrics_dict = get_accuracy_params(telecom_test_sol_df.churn_probability, y_pred_test_final.Churn_Prob_2, y_pred_test_final.Churn_Prob, 'Logistic_pca_test')"
   ]
  },
  {
   "cell_type": "code",
   "execution_count": 129,
   "id": "2a21aee3",
   "metadata": {},
   "outputs": [
    {
     "data": {
      "text/plain": [
       "{'Logistic_rfe_train': {'Accuracy': 0.8736861584011844,\n",
       "  'Precision': 0.8703146776204798,\n",
       "  'Recall': 0.8782383419689119,\n",
       "  'F1 Score': 0.8742585565339129,\n",
       "  'AUC Score': 0.9354094754495532},\n",
       " 'Logistic_rfe_test': {'Accuracy': 0.8133,\n",
       "  'Precision': 0.3375926399182213,\n",
       "  'Recall': 0.8636809414841451,\n",
       "  'F1 Score': 0.48543867707854854,\n",
       "  'AUC Score': 0.9040531451295647},\n",
       " 'Logistic_pca_train': {'Accuracy': 0.8416728349370837,\n",
       "  'Precision': 0.8230230930720783,\n",
       "  'Recall': 0.870540340488527,\n",
       "  'F1 Score': 0.8461151079136691,\n",
       "  'AUC Score': 0.9110417701940774},\n",
       " 'Logistic_pca_test': {'Accuracy': 0.6882,\n",
       "  'Precision': 0.230499186574193,\n",
       "  'Recall': 0.8800261523373651,\n",
       "  'F1 Score': 0.36531415388790883,\n",
       "  'AUC Score': 0.8685962019920784}}"
      ]
     },
     "execution_count": 129,
     "metadata": {},
     "output_type": "execute_result"
    }
   ],
   "source": [
    "metrics_dict"
   ]
  },
  {
   "cell_type": "markdown",
   "id": "169fcb86-5c15-4af0-9f41-bf1337d8df35",
   "metadata": {},
   "source": [
    "### So we could see the Recall coming close to 88% but Accuracy went down close to 69%. This is because Precision has gone down to 23%.\n",
    "We got a rough idea with PCA and Logistic Regression.\n",
    "We now move to Lasso and Ridge Regression for further analysis and actual conclusion on right predictors and coefficients.\n",
    "Let's try other models to see how it performs."
   ]
  },
  {
   "cell_type": "markdown",
   "id": "d9e41d1e-68ee-4f8f-ac7c-d1295a41a737",
   "metadata": {},
   "source": [
    "### Model 3. Ridge Regression"
   ]
  },
  {
   "cell_type": "code",
   "execution_count": 130,
   "id": "7ac62178-e44d-44d4-a66a-7f01e6dcaa06",
   "metadata": {
    "scrolled": true
   },
   "outputs": [
    {
     "name": "stdout",
     "output_type": "stream",
     "text": [
      "Fitting 10 folds for each of 28 candidates, totalling 280 fits\n"
     ]
    },
    {
     "data": {
      "text/html": [
       "<style>#sk-container-id-2 {color: black;background-color: white;}#sk-container-id-2 pre{padding: 0;}#sk-container-id-2 div.sk-toggleable {background-color: white;}#sk-container-id-2 label.sk-toggleable__label {cursor: pointer;display: block;width: 100%;margin-bottom: 0;padding: 0.3em;box-sizing: border-box;text-align: center;}#sk-container-id-2 label.sk-toggleable__label-arrow:before {content: \"▸\";float: left;margin-right: 0.25em;color: #696969;}#sk-container-id-2 label.sk-toggleable__label-arrow:hover:before {color: black;}#sk-container-id-2 div.sk-estimator:hover label.sk-toggleable__label-arrow:before {color: black;}#sk-container-id-2 div.sk-toggleable__content {max-height: 0;max-width: 0;overflow: hidden;text-align: left;background-color: #f0f8ff;}#sk-container-id-2 div.sk-toggleable__content pre {margin: 0.2em;color: black;border-radius: 0.25em;background-color: #f0f8ff;}#sk-container-id-2 input.sk-toggleable__control:checked~div.sk-toggleable__content {max-height: 200px;max-width: 100%;overflow: auto;}#sk-container-id-2 input.sk-toggleable__control:checked~label.sk-toggleable__label-arrow:before {content: \"▾\";}#sk-container-id-2 div.sk-estimator input.sk-toggleable__control:checked~label.sk-toggleable__label {background-color: #d4ebff;}#sk-container-id-2 div.sk-label input.sk-toggleable__control:checked~label.sk-toggleable__label {background-color: #d4ebff;}#sk-container-id-2 input.sk-hidden--visually {border: 0;clip: rect(1px 1px 1px 1px);clip: rect(1px, 1px, 1px, 1px);height: 1px;margin: -1px;overflow: hidden;padding: 0;position: absolute;width: 1px;}#sk-container-id-2 div.sk-estimator {font-family: monospace;background-color: #f0f8ff;border: 1px dotted black;border-radius: 0.25em;box-sizing: border-box;margin-bottom: 0.5em;}#sk-container-id-2 div.sk-estimator:hover {background-color: #d4ebff;}#sk-container-id-2 div.sk-parallel-item::after {content: \"\";width: 100%;border-bottom: 1px solid gray;flex-grow: 1;}#sk-container-id-2 div.sk-label:hover label.sk-toggleable__label {background-color: #d4ebff;}#sk-container-id-2 div.sk-serial::before {content: \"\";position: absolute;border-left: 1px solid gray;box-sizing: border-box;top: 0;bottom: 0;left: 50%;z-index: 0;}#sk-container-id-2 div.sk-serial {display: flex;flex-direction: column;align-items: center;background-color: white;padding-right: 0.2em;padding-left: 0.2em;position: relative;}#sk-container-id-2 div.sk-item {position: relative;z-index: 1;}#sk-container-id-2 div.sk-parallel {display: flex;align-items: stretch;justify-content: center;background-color: white;position: relative;}#sk-container-id-2 div.sk-item::before, #sk-container-id-2 div.sk-parallel-item::before {content: \"\";position: absolute;border-left: 1px solid gray;box-sizing: border-box;top: 0;bottom: 0;left: 50%;z-index: -1;}#sk-container-id-2 div.sk-parallel-item {display: flex;flex-direction: column;z-index: 1;position: relative;background-color: white;}#sk-container-id-2 div.sk-parallel-item:first-child::after {align-self: flex-end;width: 50%;}#sk-container-id-2 div.sk-parallel-item:last-child::after {align-self: flex-start;width: 50%;}#sk-container-id-2 div.sk-parallel-item:only-child::after {width: 0;}#sk-container-id-2 div.sk-dashed-wrapped {border: 1px dashed gray;margin: 0 0.4em 0.5em 0.4em;box-sizing: border-box;padding-bottom: 0.4em;background-color: white;}#sk-container-id-2 div.sk-label label {font-family: monospace;font-weight: bold;display: inline-block;line-height: 1.2em;}#sk-container-id-2 div.sk-label-container {text-align: center;}#sk-container-id-2 div.sk-container {/* jupyter's `normalize.less` sets `[hidden] { display: none; }` but bootstrap.min.css set `[hidden] { display: none !important; }` so we also need the `!important` here to be able to override the default hidden behavior on the sphinx rendered scikit-learn.org. See: https://github.com/scikit-learn/scikit-learn/issues/21755 */display: inline-block !important;position: relative;}#sk-container-id-2 div.sk-text-repr-fallback {display: none;}</style><div id=\"sk-container-id-2\" class=\"sk-top-container\"><div class=\"sk-text-repr-fallback\"><pre>GridSearchCV(cv=10, estimator=Ridge(),\n",
       "             param_grid={&#x27;alpha&#x27;: [0.0001, 0.001, 0.01, 0.05, 0.1, 0.2, 0.3,\n",
       "                                   0.4, 0.5, 0.6, 0.7, 0.8, 0.9, 1.0, 2.0, 3.0,\n",
       "                                   4.0, 5.0, 6.0, 7.0, 8.0, 9.0, 10.0, 20, 50,\n",
       "                                   100, 500, 1000]},\n",
       "             return_train_score=True, scoring=&#x27;neg_mean_absolute_error&#x27;,\n",
       "             verbose=1)</pre><b>In a Jupyter environment, please rerun this cell to show the HTML representation or trust the notebook. <br />On GitHub, the HTML representation is unable to render, please try loading this page with nbviewer.org.</b></div><div class=\"sk-container\" hidden><div class=\"sk-item sk-dashed-wrapped\"><div class=\"sk-label-container\"><div class=\"sk-label sk-toggleable\"><input class=\"sk-toggleable__control sk-hidden--visually\" id=\"sk-estimator-id-2\" type=\"checkbox\" ><label for=\"sk-estimator-id-2\" class=\"sk-toggleable__label sk-toggleable__label-arrow\">GridSearchCV</label><div class=\"sk-toggleable__content\"><pre>GridSearchCV(cv=10, estimator=Ridge(),\n",
       "             param_grid={&#x27;alpha&#x27;: [0.0001, 0.001, 0.01, 0.05, 0.1, 0.2, 0.3,\n",
       "                                   0.4, 0.5, 0.6, 0.7, 0.8, 0.9, 1.0, 2.0, 3.0,\n",
       "                                   4.0, 5.0, 6.0, 7.0, 8.0, 9.0, 10.0, 20, 50,\n",
       "                                   100, 500, 1000]},\n",
       "             return_train_score=True, scoring=&#x27;neg_mean_absolute_error&#x27;,\n",
       "             verbose=1)</pre></div></div></div><div class=\"sk-parallel\"><div class=\"sk-parallel-item\"><div class=\"sk-item\"><div class=\"sk-label-container\"><div class=\"sk-label sk-toggleable\"><input class=\"sk-toggleable__control sk-hidden--visually\" id=\"sk-estimator-id-3\" type=\"checkbox\" ><label for=\"sk-estimator-id-3\" class=\"sk-toggleable__label sk-toggleable__label-arrow\">estimator: Ridge</label><div class=\"sk-toggleable__content\"><pre>Ridge()</pre></div></div></div><div class=\"sk-serial\"><div class=\"sk-item\"><div class=\"sk-estimator sk-toggleable\"><input class=\"sk-toggleable__control sk-hidden--visually\" id=\"sk-estimator-id-4\" type=\"checkbox\" ><label for=\"sk-estimator-id-4\" class=\"sk-toggleable__label sk-toggleable__label-arrow\">Ridge</label><div class=\"sk-toggleable__content\"><pre>Ridge()</pre></div></div></div></div></div></div></div></div></div></div>"
      ],
      "text/plain": [
       "GridSearchCV(cv=10, estimator=Ridge(),\n",
       "             param_grid={'alpha': [0.0001, 0.001, 0.01, 0.05, 0.1, 0.2, 0.3,\n",
       "                                   0.4, 0.5, 0.6, 0.7, 0.8, 0.9, 1.0, 2.0, 3.0,\n",
       "                                   4.0, 5.0, 6.0, 7.0, 8.0, 9.0, 10.0, 20, 50,\n",
       "                                   100, 500, 1000]},\n",
       "             return_train_score=True, scoring='neg_mean_absolute_error',\n",
       "             verbose=1)"
      ]
     },
     "execution_count": 130,
     "metadata": {},
     "output_type": "execute_result"
    }
   ],
   "source": [
    "# list of alphas to tune - if value too high it will lead to underfitting, if it is too low, \n",
    "# it will not handle the overfitting\n",
    "params = {'alpha': [0.0001, 0.001, 0.01, 0.05, 0.1, \n",
    " 0.2, 0.3, 0.4, 0.5, 0.6, 0.7, 0.8, 0.9, 1.0, 2.0, 3.0, \n",
    " 4.0, 5.0, 6.0, 7.0, 8.0, 9.0, 10.0, 20, 50, 100, 500, 1000 ]}\n",
    "\n",
    "ridge = Ridge()\n",
    "\n",
    "# cross validation\n",
    "folds = 10\n",
    "model_cv = GridSearchCV(estimator = ridge, \n",
    "                        param_grid = params, \n",
    "                        scoring= 'neg_mean_absolute_error',  \n",
    "                        cv = folds, \n",
    "                        return_train_score=True,\n",
    "                        verbose = 1)  \n",
    "\n",
    "\n",
    "model_cv.fit(X_resampled, y_resampled)"
   ]
  },
  {
   "cell_type": "code",
   "execution_count": 131,
   "id": "64ef3402-9e82-4f08-abf7-da8a954dcc15",
   "metadata": {},
   "outputs": [
    {
     "name": "stdout",
     "output_type": "stream",
     "text": [
      "{'alpha': 0.001}\n"
     ]
    }
   ],
   "source": [
    "# Printing the best hyperparameter alpha\n",
    "print(model_cv.best_params_)"
   ]
  },
  {
   "cell_type": "code",
   "execution_count": 132,
   "id": "2630e3d7-1bd8-4b0e-a28b-33a97c0c59e7",
   "metadata": {},
   "outputs": [
    {
     "data": {
      "text/html": [
       "<style>#sk-container-id-3 {color: black;background-color: white;}#sk-container-id-3 pre{padding: 0;}#sk-container-id-3 div.sk-toggleable {background-color: white;}#sk-container-id-3 label.sk-toggleable__label {cursor: pointer;display: block;width: 100%;margin-bottom: 0;padding: 0.3em;box-sizing: border-box;text-align: center;}#sk-container-id-3 label.sk-toggleable__label-arrow:before {content: \"▸\";float: left;margin-right: 0.25em;color: #696969;}#sk-container-id-3 label.sk-toggleable__label-arrow:hover:before {color: black;}#sk-container-id-3 div.sk-estimator:hover label.sk-toggleable__label-arrow:before {color: black;}#sk-container-id-3 div.sk-toggleable__content {max-height: 0;max-width: 0;overflow: hidden;text-align: left;background-color: #f0f8ff;}#sk-container-id-3 div.sk-toggleable__content pre {margin: 0.2em;color: black;border-radius: 0.25em;background-color: #f0f8ff;}#sk-container-id-3 input.sk-toggleable__control:checked~div.sk-toggleable__content {max-height: 200px;max-width: 100%;overflow: auto;}#sk-container-id-3 input.sk-toggleable__control:checked~label.sk-toggleable__label-arrow:before {content: \"▾\";}#sk-container-id-3 div.sk-estimator input.sk-toggleable__control:checked~label.sk-toggleable__label {background-color: #d4ebff;}#sk-container-id-3 div.sk-label input.sk-toggleable__control:checked~label.sk-toggleable__label {background-color: #d4ebff;}#sk-container-id-3 input.sk-hidden--visually {border: 0;clip: rect(1px 1px 1px 1px);clip: rect(1px, 1px, 1px, 1px);height: 1px;margin: -1px;overflow: hidden;padding: 0;position: absolute;width: 1px;}#sk-container-id-3 div.sk-estimator {font-family: monospace;background-color: #f0f8ff;border: 1px dotted black;border-radius: 0.25em;box-sizing: border-box;margin-bottom: 0.5em;}#sk-container-id-3 div.sk-estimator:hover {background-color: #d4ebff;}#sk-container-id-3 div.sk-parallel-item::after {content: \"\";width: 100%;border-bottom: 1px solid gray;flex-grow: 1;}#sk-container-id-3 div.sk-label:hover label.sk-toggleable__label {background-color: #d4ebff;}#sk-container-id-3 div.sk-serial::before {content: \"\";position: absolute;border-left: 1px solid gray;box-sizing: border-box;top: 0;bottom: 0;left: 50%;z-index: 0;}#sk-container-id-3 div.sk-serial {display: flex;flex-direction: column;align-items: center;background-color: white;padding-right: 0.2em;padding-left: 0.2em;position: relative;}#sk-container-id-3 div.sk-item {position: relative;z-index: 1;}#sk-container-id-3 div.sk-parallel {display: flex;align-items: stretch;justify-content: center;background-color: white;position: relative;}#sk-container-id-3 div.sk-item::before, #sk-container-id-3 div.sk-parallel-item::before {content: \"\";position: absolute;border-left: 1px solid gray;box-sizing: border-box;top: 0;bottom: 0;left: 50%;z-index: -1;}#sk-container-id-3 div.sk-parallel-item {display: flex;flex-direction: column;z-index: 1;position: relative;background-color: white;}#sk-container-id-3 div.sk-parallel-item:first-child::after {align-self: flex-end;width: 50%;}#sk-container-id-3 div.sk-parallel-item:last-child::after {align-self: flex-start;width: 50%;}#sk-container-id-3 div.sk-parallel-item:only-child::after {width: 0;}#sk-container-id-3 div.sk-dashed-wrapped {border: 1px dashed gray;margin: 0 0.4em 0.5em 0.4em;box-sizing: border-box;padding-bottom: 0.4em;background-color: white;}#sk-container-id-3 div.sk-label label {font-family: monospace;font-weight: bold;display: inline-block;line-height: 1.2em;}#sk-container-id-3 div.sk-label-container {text-align: center;}#sk-container-id-3 div.sk-container {/* jupyter's `normalize.less` sets `[hidden] { display: none; }` but bootstrap.min.css set `[hidden] { display: none !important; }` so we also need the `!important` here to be able to override the default hidden behavior on the sphinx rendered scikit-learn.org. See: https://github.com/scikit-learn/scikit-learn/issues/21755 */display: inline-block !important;position: relative;}#sk-container-id-3 div.sk-text-repr-fallback {display: none;}</style><div id=\"sk-container-id-3\" class=\"sk-top-container\"><div class=\"sk-text-repr-fallback\"><pre>Ridge(alpha=0.001)</pre><b>In a Jupyter environment, please rerun this cell to show the HTML representation or trust the notebook. <br />On GitHub, the HTML representation is unable to render, please try loading this page with nbviewer.org.</b></div><div class=\"sk-container\" hidden><div class=\"sk-item\"><div class=\"sk-estimator sk-toggleable\"><input class=\"sk-toggleable__control sk-hidden--visually\" id=\"sk-estimator-id-5\" type=\"checkbox\" checked><label for=\"sk-estimator-id-5\" class=\"sk-toggleable__label sk-toggleable__label-arrow\">Ridge</label><div class=\"sk-toggleable__content\"><pre>Ridge(alpha=0.001)</pre></div></div></div></div></div>"
      ],
      "text/plain": [
       "Ridge(alpha=0.001)"
      ]
     },
     "execution_count": 132,
     "metadata": {},
     "output_type": "execute_result"
    }
   ],
   "source": [
    "#Fitting Ridge model for alpha = 0.0001 and printing coefficients which have been penalised\n",
    "alpha = 0.001\n",
    "\n",
    "ridge = Ridge(alpha=alpha)\n",
    "        \n",
    "ridge.fit(X_resampled, y_resampled) "
   ]
  },
  {
   "cell_type": "code",
   "execution_count": 133,
   "id": "d1458459-eb5b-4b64-8c53-496ae8ce9f5f",
   "metadata": {},
   "outputs": [
    {
     "data": {
      "text/html": [
       "<div>\n",
       "<style scoped>\n",
       "    .dataframe tbody tr th:only-of-type {\n",
       "        vertical-align: middle;\n",
       "    }\n",
       "\n",
       "    .dataframe tbody tr th {\n",
       "        vertical-align: top;\n",
       "    }\n",
       "\n",
       "    .dataframe thead th {\n",
       "        text-align: right;\n",
       "    }\n",
       "</style>\n",
       "<table border=\"1\" class=\"dataframe\">\n",
       "  <thead>\n",
       "    <tr style=\"text-align: right;\">\n",
       "      <th></th>\n",
       "      <th>mean_fit_time</th>\n",
       "      <th>std_fit_time</th>\n",
       "      <th>mean_score_time</th>\n",
       "      <th>std_score_time</th>\n",
       "      <th>param_alpha</th>\n",
       "      <th>params</th>\n",
       "      <th>split0_test_score</th>\n",
       "      <th>split1_test_score</th>\n",
       "      <th>split2_test_score</th>\n",
       "      <th>split3_test_score</th>\n",
       "      <th>...</th>\n",
       "      <th>split2_train_score</th>\n",
       "      <th>split3_train_score</th>\n",
       "      <th>split4_train_score</th>\n",
       "      <th>split5_train_score</th>\n",
       "      <th>split6_train_score</th>\n",
       "      <th>split7_train_score</th>\n",
       "      <th>split8_train_score</th>\n",
       "      <th>split9_train_score</th>\n",
       "      <th>mean_train_score</th>\n",
       "      <th>std_train_score</th>\n",
       "    </tr>\n",
       "  </thead>\n",
       "  <tbody>\n",
       "    <tr>\n",
       "      <th>0</th>\n",
       "      <td>0.031917</td>\n",
       "      <td>0.013562</td>\n",
       "      <td>0.002588</td>\n",
       "      <td>0.000255</td>\n",
       "      <td>0.0001</td>\n",
       "      <td>{'alpha': 0.0001}</td>\n",
       "      <td>-0.320759</td>\n",
       "      <td>-0.324360</td>\n",
       "      <td>-0.320218</td>\n",
       "      <td>-0.311633</td>\n",
       "      <td>...</td>\n",
       "      <td>-0.283301</td>\n",
       "      <td>-0.284880</td>\n",
       "      <td>-0.284433</td>\n",
       "      <td>-0.287516</td>\n",
       "      <td>-0.286188</td>\n",
       "      <td>-0.285877</td>\n",
       "      <td>-0.284647</td>\n",
       "      <td>-0.286092</td>\n",
       "      <td>-0.284948</td>\n",
       "      <td>0.001391</td>\n",
       "    </tr>\n",
       "    <tr>\n",
       "      <th>1</th>\n",
       "      <td>0.028812</td>\n",
       "      <td>0.005022</td>\n",
       "      <td>0.003215</td>\n",
       "      <td>0.000826</td>\n",
       "      <td>0.0010</td>\n",
       "      <td>{'alpha': 0.001}</td>\n",
       "      <td>-0.320869</td>\n",
       "      <td>-0.324441</td>\n",
       "      <td>-0.320269</td>\n",
       "      <td>-0.311620</td>\n",
       "      <td>...</td>\n",
       "      <td>-0.283305</td>\n",
       "      <td>-0.284892</td>\n",
       "      <td>-0.284448</td>\n",
       "      <td>-0.287524</td>\n",
       "      <td>-0.286207</td>\n",
       "      <td>-0.285895</td>\n",
       "      <td>-0.284674</td>\n",
       "      <td>-0.286108</td>\n",
       "      <td>-0.284960</td>\n",
       "      <td>0.001395</td>\n",
       "    </tr>\n",
       "    <tr>\n",
       "      <th>2</th>\n",
       "      <td>0.040181</td>\n",
       "      <td>0.006247</td>\n",
       "      <td>0.003922</td>\n",
       "      <td>0.000524</td>\n",
       "      <td>0.0100</td>\n",
       "      <td>{'alpha': 0.01}</td>\n",
       "      <td>-0.321799</td>\n",
       "      <td>-0.325518</td>\n",
       "      <td>-0.320933</td>\n",
       "      <td>-0.312213</td>\n",
       "      <td>...</td>\n",
       "      <td>-0.283367</td>\n",
       "      <td>-0.284954</td>\n",
       "      <td>-0.284488</td>\n",
       "      <td>-0.287702</td>\n",
       "      <td>-0.286512</td>\n",
       "      <td>-0.286221</td>\n",
       "      <td>-0.285027</td>\n",
       "      <td>-0.286415</td>\n",
       "      <td>-0.285131</td>\n",
       "      <td>0.001482</td>\n",
       "    </tr>\n",
       "    <tr>\n",
       "      <th>3</th>\n",
       "      <td>0.028597</td>\n",
       "      <td>0.003975</td>\n",
       "      <td>0.003024</td>\n",
       "      <td>0.000371</td>\n",
       "      <td>0.0500</td>\n",
       "      <td>{'alpha': 0.05}</td>\n",
       "      <td>-0.325108</td>\n",
       "      <td>-0.328730</td>\n",
       "      <td>-0.324256</td>\n",
       "      <td>-0.314889</td>\n",
       "      <td>...</td>\n",
       "      <td>-0.283580</td>\n",
       "      <td>-0.285177</td>\n",
       "      <td>-0.284707</td>\n",
       "      <td>-0.288583</td>\n",
       "      <td>-0.288018</td>\n",
       "      <td>-0.287772</td>\n",
       "      <td>-0.286615</td>\n",
       "      <td>-0.287936</td>\n",
       "      <td>-0.285937</td>\n",
       "      <td>0.001981</td>\n",
       "    </tr>\n",
       "    <tr>\n",
       "      <th>4</th>\n",
       "      <td>0.030895</td>\n",
       "      <td>0.004526</td>\n",
       "      <td>0.003191</td>\n",
       "      <td>0.000827</td>\n",
       "      <td>0.1000</td>\n",
       "      <td>{'alpha': 0.1}</td>\n",
       "      <td>-0.328383</td>\n",
       "      <td>-0.331817</td>\n",
       "      <td>-0.327688</td>\n",
       "      <td>-0.317790</td>\n",
       "      <td>...</td>\n",
       "      <td>-0.284249</td>\n",
       "      <td>-0.285857</td>\n",
       "      <td>-0.285403</td>\n",
       "      <td>-0.290019</td>\n",
       "      <td>-0.290200</td>\n",
       "      <td>-0.289922</td>\n",
       "      <td>-0.288843</td>\n",
       "      <td>-0.290089</td>\n",
       "      <td>-0.287289</td>\n",
       "      <td>0.002611</td>\n",
       "    </tr>\n",
       "  </tbody>\n",
       "</table>\n",
       "<p>5 rows × 31 columns</p>\n",
       "</div>"
      ],
      "text/plain": [
       "   mean_fit_time  std_fit_time  mean_score_time  std_score_time  param_alpha  \\\n",
       "0       0.031917      0.013562         0.002588        0.000255       0.0001   \n",
       "1       0.028812      0.005022         0.003215        0.000826       0.0010   \n",
       "2       0.040181      0.006247         0.003922        0.000524       0.0100   \n",
       "3       0.028597      0.003975         0.003024        0.000371       0.0500   \n",
       "4       0.030895      0.004526         0.003191        0.000827       0.1000   \n",
       "\n",
       "              params  split0_test_score  split1_test_score  split2_test_score  \\\n",
       "0  {'alpha': 0.0001}          -0.320759          -0.324360          -0.320218   \n",
       "1   {'alpha': 0.001}          -0.320869          -0.324441          -0.320269   \n",
       "2    {'alpha': 0.01}          -0.321799          -0.325518          -0.320933   \n",
       "3    {'alpha': 0.05}          -0.325108          -0.328730          -0.324256   \n",
       "4     {'alpha': 0.1}          -0.328383          -0.331817          -0.327688   \n",
       "\n",
       "   split3_test_score  ...  split2_train_score  split3_train_score  \\\n",
       "0          -0.311633  ...           -0.283301           -0.284880   \n",
       "1          -0.311620  ...           -0.283305           -0.284892   \n",
       "2          -0.312213  ...           -0.283367           -0.284954   \n",
       "3          -0.314889  ...           -0.283580           -0.285177   \n",
       "4          -0.317790  ...           -0.284249           -0.285857   \n",
       "\n",
       "   split4_train_score  split5_train_score  split6_train_score  \\\n",
       "0           -0.284433           -0.287516           -0.286188   \n",
       "1           -0.284448           -0.287524           -0.286207   \n",
       "2           -0.284488           -0.287702           -0.286512   \n",
       "3           -0.284707           -0.288583           -0.288018   \n",
       "4           -0.285403           -0.290019           -0.290200   \n",
       "\n",
       "   split7_train_score  split8_train_score  split9_train_score  \\\n",
       "0           -0.285877           -0.284647           -0.286092   \n",
       "1           -0.285895           -0.284674           -0.286108   \n",
       "2           -0.286221           -0.285027           -0.286415   \n",
       "3           -0.287772           -0.286615           -0.287936   \n",
       "4           -0.289922           -0.288843           -0.290089   \n",
       "\n",
       "   mean_train_score  std_train_score  \n",
       "0         -0.284948         0.001391  \n",
       "1         -0.284960         0.001395  \n",
       "2         -0.285131         0.001482  \n",
       "3         -0.285937         0.001981  \n",
       "4         -0.287289         0.002611  \n",
       "\n",
       "[5 rows x 31 columns]"
      ]
     },
     "execution_count": 133,
     "metadata": {},
     "output_type": "execute_result"
    }
   ],
   "source": [
    "cv_result_r = pd.DataFrame(model_cv.cv_results_)\n",
    "cv_result_r['param_alpha'] = cv_result_r['param_alpha'].astype('float32')\n",
    "cv_result_r.head()"
   ]
  },
  {
   "cell_type": "code",
   "execution_count": 134,
   "id": "325a426e-73ce-43ec-a3e9-51bf96cf5546",
   "metadata": {},
   "outputs": [
    {
     "data": {
      "image/png": "[encoded data removed]",
      "text/plain": [
       "<Figure size 1152x576 with 1 Axes>"
      ]
     },
     "metadata": {
      "needs_background": "light"
     },
     "output_type": "display_data"
    }
   ],
   "source": [
    "plt.figure(figsize=(16,8))\n",
    "plt.plot(cv_result_r['param_alpha'],cv_result_r['mean_train_score'])\n",
    "plt.plot(cv_result_r['param_alpha'],cv_result_r['mean_test_score'])\n",
    "plt.xscale('log')\n",
    "plt.ylabel('R2 Score')\n",
    "plt.xlabel('Alpha')\n",
    "plt.show()"
   ]
  },
  {
   "cell_type": "markdown",
   "id": "2d01dce2",
   "metadata": {},
   "source": [
    "## Looking at the curve, as they are not converging we will go ahead and check Lasso model."
   ]
  },
  {
   "cell_type": "markdown",
   "id": "271bae7a",
   "metadata": {},
   "source": [
    "## Model 4. Lasso"
   ]
  },
  {
   "cell_type": "code",
   "execution_count": 135,
   "id": "d077aadf",
   "metadata": {},
   "outputs": [
    {
     "name": "stdout",
     "output_type": "stream",
     "text": [
      "Fitting 10 folds for each of 28 candidates, totalling 280 fits\n"
     ]
    },
    {
     "data": {
      "text/html": [
       "<style>#sk-container-id-4 {color: black;background-color: white;}#sk-container-id-4 pre{padding: 0;}#sk-container-id-4 div.sk-toggleable {background-color: white;}#sk-container-id-4 label.sk-toggleable__label {cursor: pointer;display: block;width: 100%;margin-bottom: 0;padding: 0.3em;box-sizing: border-box;text-align: center;}#sk-container-id-4 label.sk-toggleable__label-arrow:before {content: \"▸\";float: left;margin-right: 0.25em;color: #696969;}#sk-container-id-4 label.sk-toggleable__label-arrow:hover:before {color: black;}#sk-container-id-4 div.sk-estimator:hover label.sk-toggleable__label-arrow:before {color: black;}#sk-container-id-4 div.sk-toggleable__content {max-height: 0;max-width: 0;overflow: hidden;text-align: left;background-color: #f0f8ff;}#sk-container-id-4 div.sk-toggleable__content pre {margin: 0.2em;color: black;border-radius: 0.25em;background-color: #f0f8ff;}#sk-container-id-4 input.sk-toggleable__control:checked~div.sk-toggleable__content {max-height: 200px;max-width: 100%;overflow: auto;}#sk-container-id-4 input.sk-toggleable__control:checked~label.sk-toggleable__label-arrow:before {content: \"▾\";}#sk-container-id-4 div.sk-estimator input.sk-toggleable__control:checked~label.sk-toggleable__label {background-color: #d4ebff;}#sk-container-id-4 div.sk-label input.sk-toggleable__control:checked~label.sk-toggleable__label {background-color: #d4ebff;}#sk-container-id-4 input.sk-hidden--visually {border: 0;clip: rect(1px 1px 1px 1px);clip: rect(1px, 1px, 1px, 1px);height: 1px;margin: -1px;overflow: hidden;padding: 0;position: absolute;width: 1px;}#sk-container-id-4 div.sk-estimator {font-family: monospace;background-color: #f0f8ff;border: 1px dotted black;border-radius: 0.25em;box-sizing: border-box;margin-bottom: 0.5em;}#sk-container-id-4 div.sk-estimator:hover {background-color: #d4ebff;}#sk-container-id-4 div.sk-parallel-item::after {content: \"\";width: 100%;border-bottom: 1px solid gray;flex-grow: 1;}#sk-container-id-4 div.sk-label:hover label.sk-toggleable__label {background-color: #d4ebff;}#sk-container-id-4 div.sk-serial::before {content: \"\";position: absolute;border-left: 1px solid gray;box-sizing: border-box;top: 0;bottom: 0;left: 50%;z-index: 0;}#sk-container-id-4 div.sk-serial {display: flex;flex-direction: column;align-items: center;background-color: white;padding-right: 0.2em;padding-left: 0.2em;position: relative;}#sk-container-id-4 div.sk-item {position: relative;z-index: 1;}#sk-container-id-4 div.sk-parallel {display: flex;align-items: stretch;justify-content: center;background-color: white;position: relative;}#sk-container-id-4 div.sk-item::before, #sk-container-id-4 div.sk-parallel-item::before {content: \"\";position: absolute;border-left: 1px solid gray;box-sizing: border-box;top: 0;bottom: 0;left: 50%;z-index: -1;}#sk-container-id-4 div.sk-parallel-item {display: flex;flex-direction: column;z-index: 1;position: relative;background-color: white;}#sk-container-id-4 div.sk-parallel-item:first-child::after {align-self: flex-end;width: 50%;}#sk-container-id-4 div.sk-parallel-item:last-child::after {align-self: flex-start;width: 50%;}#sk-container-id-4 div.sk-parallel-item:only-child::after {width: 0;}#sk-container-id-4 div.sk-dashed-wrapped {border: 1px dashed gray;margin: 0 0.4em 0.5em 0.4em;box-sizing: border-box;padding-bottom: 0.4em;background-color: white;}#sk-container-id-4 div.sk-label label {font-family: monospace;font-weight: bold;display: inline-block;line-height: 1.2em;}#sk-container-id-4 div.sk-label-container {text-align: center;}#sk-container-id-4 div.sk-container {/* jupyter's `normalize.less` sets `[hidden] { display: none; }` but bootstrap.min.css set `[hidden] { display: none !important; }` so we also need the `!important` here to be able to override the default hidden behavior on the sphinx rendered scikit-learn.org. See: https://github.com/scikit-learn/scikit-learn/issues/21755 */display: inline-block !important;position: relative;}#sk-container-id-4 div.sk-text-repr-fallback {display: none;}</style><div id=\"sk-container-id-4\" class=\"sk-top-container\"><div class=\"sk-text-repr-fallback\"><pre>GridSearchCV(cv=10, estimator=Lasso(),\n",
       "             param_grid={&#x27;alpha&#x27;: [0.0001, 0.001, 0.01, 0.05, 0.1, 0.2, 0.3,\n",
       "                                   0.4, 0.5, 0.6, 0.7, 0.8, 0.9, 1.0, 2.0, 3.0,\n",
       "                                   4.0, 5.0, 6.0, 7.0, 8.0, 9.0, 10.0, 20, 50,\n",
       "                                   100, 500, 1000]},\n",
       "             return_train_score=True, scoring=&#x27;neg_mean_absolute_error&#x27;,\n",
       "             verbose=1)</pre><b>In a Jupyter environment, please rerun this cell to show the HTML representation or trust the notebook. <br />On GitHub, the HTML representation is unable to render, please try loading this page with nbviewer.org.</b></div><div class=\"sk-container\" hidden><div class=\"sk-item sk-dashed-wrapped\"><div class=\"sk-label-container\"><div class=\"sk-label sk-toggleable\"><input class=\"sk-toggleable__control sk-hidden--visually\" id=\"sk-estimator-id-6\" type=\"checkbox\" ><label for=\"sk-estimator-id-6\" class=\"sk-toggleable__label sk-toggleable__label-arrow\">GridSearchCV</label><div class=\"sk-toggleable__content\"><pre>GridSearchCV(cv=10, estimator=Lasso(),\n",
       "             param_grid={&#x27;alpha&#x27;: [0.0001, 0.001, 0.01, 0.05, 0.1, 0.2, 0.3,\n",
       "                                   0.4, 0.5, 0.6, 0.7, 0.8, 0.9, 1.0, 2.0, 3.0,\n",
       "                                   4.0, 5.0, 6.0, 7.0, 8.0, 9.0, 10.0, 20, 50,\n",
       "                                   100, 500, 1000]},\n",
       "             return_train_score=True, scoring=&#x27;neg_mean_absolute_error&#x27;,\n",
       "             verbose=1)</pre></div></div></div><div class=\"sk-parallel\"><div class=\"sk-parallel-item\"><div class=\"sk-item\"><div class=\"sk-label-container\"><div class=\"sk-label sk-toggleable\"><input class=\"sk-toggleable__control sk-hidden--visually\" id=\"sk-estimator-id-7\" type=\"checkbox\" ><label for=\"sk-estimator-id-7\" class=\"sk-toggleable__label sk-toggleable__label-arrow\">estimator: Lasso</label><div class=\"sk-toggleable__content\"><pre>Lasso()</pre></div></div></div><div class=\"sk-serial\"><div class=\"sk-item\"><div class=\"sk-estimator sk-toggleable\"><input class=\"sk-toggleable__control sk-hidden--visually\" id=\"sk-estimator-id-8\" type=\"checkbox\" ><label for=\"sk-estimator-id-8\" class=\"sk-toggleable__label sk-toggleable__label-arrow\">Lasso</label><div class=\"sk-toggleable__content\"><pre>Lasso()</pre></div></div></div></div></div></div></div></div></div></div>"
      ],
      "text/plain": [
       "GridSearchCV(cv=10, estimator=Lasso(),\n",
       "             param_grid={'alpha': [0.0001, 0.001, 0.01, 0.05, 0.1, 0.2, 0.3,\n",
       "                                   0.4, 0.5, 0.6, 0.7, 0.8, 0.9, 1.0, 2.0, 3.0,\n",
       "                                   4.0, 5.0, 6.0, 7.0, 8.0, 9.0, 10.0, 20, 50,\n",
       "                                   100, 500, 1000]},\n",
       "             return_train_score=True, scoring='neg_mean_absolute_error',\n",
       "             verbose=1)"
      ]
     },
     "execution_count": 135,
     "metadata": {},
     "output_type": "execute_result"
    }
   ],
   "source": [
    "# list of alphas to tune - if value too high it will lead to underfitting, if it is too low, \n",
    "# it will not handle the overfitting\n",
    "params = {'alpha': [0.0001, 0.001, 0.01, 0.05, 0.1, \n",
    " 0.2, 0.3, 0.4, 0.5, 0.6, 0.7, 0.8, 0.9, 1.0, 2.0, 3.0, \n",
    " 4.0, 5.0, 6.0, 7.0, 8.0, 9.0, 10.0, 20, 50, 100, 500, 1000 ]}\n",
    "\n",
    "lasso = Lasso()\n",
    "\n",
    "# cross validation\n",
    "folds = 10\n",
    "model_cv = GridSearchCV(estimator = lasso, \n",
    "                        param_grid = params, \n",
    "                        scoring= 'neg_mean_absolute_error',  \n",
    "                        cv = folds, \n",
    "                        return_train_score=True,\n",
    "                        verbose = 1)  \n",
    "\n",
    "\n",
    "model_cv.fit(X_resampled, y_resampled)"
   ]
  },
  {
   "cell_type": "code",
   "execution_count": 136,
   "id": "a296302a",
   "metadata": {},
   "outputs": [
    {
     "name": "stdout",
     "output_type": "stream",
     "text": [
      "{'alpha': 0.0001}\n"
     ]
    }
   ],
   "source": [
    "# Printing the best hyperparameter alpha\n",
    "print(model_cv.best_params_)"
   ]
  },
  {
   "cell_type": "code",
   "execution_count": 137,
   "id": "f46882d2",
   "metadata": {},
   "outputs": [
    {
     "data": {
      "text/html": [
       "<style>#sk-container-id-5 {color: black;background-color: white;}#sk-container-id-5 pre{padding: 0;}#sk-container-id-5 div.sk-toggleable {background-color: white;}#sk-container-id-5 label.sk-toggleable__label {cursor: pointer;display: block;width: 100%;margin-bottom: 0;padding: 0.3em;box-sizing: border-box;text-align: center;}#sk-container-id-5 label.sk-toggleable__label-arrow:before {content: \"▸\";float: left;margin-right: 0.25em;color: #696969;}#sk-container-id-5 label.sk-toggleable__label-arrow:hover:before {color: black;}#sk-container-id-5 div.sk-estimator:hover label.sk-toggleable__label-arrow:before {color: black;}#sk-container-id-5 div.sk-toggleable__content {max-height: 0;max-width: 0;overflow: hidden;text-align: left;background-color: #f0f8ff;}#sk-container-id-5 div.sk-toggleable__content pre {margin: 0.2em;color: black;border-radius: 0.25em;background-color: #f0f8ff;}#sk-container-id-5 input.sk-toggleable__control:checked~div.sk-toggleable__content {max-height: 200px;max-width: 100%;overflow: auto;}#sk-container-id-5 input.sk-toggleable__control:checked~label.sk-toggleable__label-arrow:before {content: \"▾\";}#sk-container-id-5 div.sk-estimator input.sk-toggleable__control:checked~label.sk-toggleable__label {background-color: #d4ebff;}#sk-container-id-5 div.sk-label input.sk-toggleable__control:checked~label.sk-toggleable__label {background-color: #d4ebff;}#sk-container-id-5 input.sk-hidden--visually {border: 0;clip: rect(1px 1px 1px 1px);clip: rect(1px, 1px, 1px, 1px);height: 1px;margin: -1px;overflow: hidden;padding: 0;position: absolute;width: 1px;}#sk-container-id-5 div.sk-estimator {font-family: monospace;background-color: #f0f8ff;border: 1px dotted black;border-radius: 0.25em;box-sizing: border-box;margin-bottom: 0.5em;}#sk-container-id-5 div.sk-estimator:hover {background-color: #d4ebff;}#sk-container-id-5 div.sk-parallel-item::after {content: \"\";width: 100%;border-bottom: 1px solid gray;flex-grow: 1;}#sk-container-id-5 div.sk-label:hover label.sk-toggleable__label {background-color: #d4ebff;}#sk-container-id-5 div.sk-serial::before {content: \"\";position: absolute;border-left: 1px solid gray;box-sizing: border-box;top: 0;bottom: 0;left: 50%;z-index: 0;}#sk-container-id-5 div.sk-serial {display: flex;flex-direction: column;align-items: center;background-color: white;padding-right: 0.2em;padding-left: 0.2em;position: relative;}#sk-container-id-5 div.sk-item {position: relative;z-index: 1;}#sk-container-id-5 div.sk-parallel {display: flex;align-items: stretch;justify-content: center;background-color: white;position: relative;}#sk-container-id-5 div.sk-item::before, #sk-container-id-5 div.sk-parallel-item::before {content: \"\";position: absolute;border-left: 1px solid gray;box-sizing: border-box;top: 0;bottom: 0;left: 50%;z-index: -1;}#sk-container-id-5 div.sk-parallel-item {display: flex;flex-direction: column;z-index: 1;position: relative;background-color: white;}#sk-container-id-5 div.sk-parallel-item:first-child::after {align-self: flex-end;width: 50%;}#sk-container-id-5 div.sk-parallel-item:last-child::after {align-self: flex-start;width: 50%;}#sk-container-id-5 div.sk-parallel-item:only-child::after {width: 0;}#sk-container-id-5 div.sk-dashed-wrapped {border: 1px dashed gray;margin: 0 0.4em 0.5em 0.4em;box-sizing: border-box;padding-bottom: 0.4em;background-color: white;}#sk-container-id-5 div.sk-label label {font-family: monospace;font-weight: bold;display: inline-block;line-height: 1.2em;}#sk-container-id-5 div.sk-label-container {text-align: center;}#sk-container-id-5 div.sk-container {/* jupyter's `normalize.less` sets `[hidden] { display: none; }` but bootstrap.min.css set `[hidden] { display: none !important; }` so we also need the `!important` here to be able to override the default hidden behavior on the sphinx rendered scikit-learn.org. See: https://github.com/scikit-learn/scikit-learn/issues/21755 */display: inline-block !important;position: relative;}#sk-container-id-5 div.sk-text-repr-fallback {display: none;}</style><div id=\"sk-container-id-5\" class=\"sk-top-container\"><div class=\"sk-text-repr-fallback\"><pre>Lasso(alpha=0.0001)</pre><b>In a Jupyter environment, please rerun this cell to show the HTML representation or trust the notebook. <br />On GitHub, the HTML representation is unable to render, please try loading this page with nbviewer.org.</b></div><div class=\"sk-container\" hidden><div class=\"sk-item\"><div class=\"sk-estimator sk-toggleable\"><input class=\"sk-toggleable__control sk-hidden--visually\" id=\"sk-estimator-id-9\" type=\"checkbox\" checked><label for=\"sk-estimator-id-9\" class=\"sk-toggleable__label sk-toggleable__label-arrow\">Lasso</label><div class=\"sk-toggleable__content\"><pre>Lasso(alpha=0.0001)</pre></div></div></div></div></div>"
      ],
      "text/plain": [
       "Lasso(alpha=0.0001)"
      ]
     },
     "execution_count": 137,
     "metadata": {},
     "output_type": "execute_result"
    }
   ],
   "source": [
    "#Fitting Ridge model for alpha = 0.0001 and printing coefficients which have been penalised\n",
    "alpha = 0.0001\n",
    "\n",
    "lasso = Lasso(alpha=alpha)\n",
    "        \n",
    "lasso.fit(X_resampled, y_resampled) "
   ]
  },
  {
   "cell_type": "code",
   "execution_count": 138,
   "id": "e8ee8f33",
   "metadata": {},
   "outputs": [
    {
     "data": {
      "text/html": [
       "<div>\n",
       "<style scoped>\n",
       "    .dataframe tbody tr th:only-of-type {\n",
       "        vertical-align: middle;\n",
       "    }\n",
       "\n",
       "    .dataframe tbody tr th {\n",
       "        vertical-align: top;\n",
       "    }\n",
       "\n",
       "    .dataframe thead th {\n",
       "        text-align: right;\n",
       "    }\n",
       "</style>\n",
       "<table border=\"1\" class=\"dataframe\">\n",
       "  <thead>\n",
       "    <tr style=\"text-align: right;\">\n",
       "      <th></th>\n",
       "      <th>mean_fit_time</th>\n",
       "      <th>std_fit_time</th>\n",
       "      <th>mean_score_time</th>\n",
       "      <th>std_score_time</th>\n",
       "      <th>param_alpha</th>\n",
       "      <th>params</th>\n",
       "      <th>split0_test_score</th>\n",
       "      <th>split1_test_score</th>\n",
       "      <th>split2_test_score</th>\n",
       "      <th>split3_test_score</th>\n",
       "      <th>...</th>\n",
       "      <th>split2_train_score</th>\n",
       "      <th>split3_train_score</th>\n",
       "      <th>split4_train_score</th>\n",
       "      <th>split5_train_score</th>\n",
       "      <th>split6_train_score</th>\n",
       "      <th>split7_train_score</th>\n",
       "      <th>split8_train_score</th>\n",
       "      <th>split9_train_score</th>\n",
       "      <th>mean_train_score</th>\n",
       "      <th>std_train_score</th>\n",
       "    </tr>\n",
       "  </thead>\n",
       "  <tbody>\n",
       "    <tr>\n",
       "      <th>0</th>\n",
       "      <td>1.033296</td>\n",
       "      <td>0.167405</td>\n",
       "      <td>0.003875</td>\n",
       "      <td>0.000413</td>\n",
       "      <td>0.0001</td>\n",
       "      <td>{'alpha': 0.0001}</td>\n",
       "      <td>-0.342758</td>\n",
       "      <td>-0.345149</td>\n",
       "      <td>-0.342245</td>\n",
       "      <td>-0.333077</td>\n",
       "      <td>...</td>\n",
       "      <td>-0.293868</td>\n",
       "      <td>-0.295504</td>\n",
       "      <td>-0.294786</td>\n",
       "      <td>-0.300797</td>\n",
       "      <td>-0.301860</td>\n",
       "      <td>-0.301542</td>\n",
       "      <td>-0.300442</td>\n",
       "      <td>-0.301755</td>\n",
       "      <td>-0.297816</td>\n",
       "      <td>0.003527</td>\n",
       "    </tr>\n",
       "    <tr>\n",
       "      <th>1</th>\n",
       "      <td>0.061320</td>\n",
       "      <td>0.005488</td>\n",
       "      <td>0.003181</td>\n",
       "      <td>0.000382</td>\n",
       "      <td>0.0010</td>\n",
       "      <td>{'alpha': 0.001}</td>\n",
       "      <td>-0.379843</td>\n",
       "      <td>-0.382797</td>\n",
       "      <td>-0.377481</td>\n",
       "      <td>-0.370381</td>\n",
       "      <td>...</td>\n",
       "      <td>-0.330493</td>\n",
       "      <td>-0.332345</td>\n",
       "      <td>-0.331081</td>\n",
       "      <td>-0.341130</td>\n",
       "      <td>-0.344662</td>\n",
       "      <td>-0.343850</td>\n",
       "      <td>-0.344249</td>\n",
       "      <td>-0.344160</td>\n",
       "      <td>-0.337225</td>\n",
       "      <td>0.006482</td>\n",
       "    </tr>\n",
       "    <tr>\n",
       "      <th>2</th>\n",
       "      <td>0.036674</td>\n",
       "      <td>0.003430</td>\n",
       "      <td>0.003046</td>\n",
       "      <td>0.000414</td>\n",
       "      <td>0.0100</td>\n",
       "      <td>{'alpha': 0.01}</td>\n",
       "      <td>-0.522700</td>\n",
       "      <td>-0.521839</td>\n",
       "      <td>-0.524863</td>\n",
       "      <td>-0.521166</td>\n",
       "      <td>...</td>\n",
       "      <td>-0.480786</td>\n",
       "      <td>-0.480388</td>\n",
       "      <td>-0.481116</td>\n",
       "      <td>-0.484637</td>\n",
       "      <td>-0.480199</td>\n",
       "      <td>-0.479363</td>\n",
       "      <td>-0.479927</td>\n",
       "      <td>-0.479747</td>\n",
       "      <td>-0.480681</td>\n",
       "      <td>0.001402</td>\n",
       "    </tr>\n",
       "    <tr>\n",
       "      <th>3</th>\n",
       "      <td>0.031760</td>\n",
       "      <td>0.001120</td>\n",
       "      <td>0.002726</td>\n",
       "      <td>0.000166</td>\n",
       "      <td>0.0500</td>\n",
       "      <td>{'alpha': 0.05}</td>\n",
       "      <td>-0.538660</td>\n",
       "      <td>-0.538455</td>\n",
       "      <td>-0.539627</td>\n",
       "      <td>-0.538866</td>\n",
       "      <td>...</td>\n",
       "      <td>-0.495597</td>\n",
       "      <td>-0.495682</td>\n",
       "      <td>-0.495643</td>\n",
       "      <td>-0.499784</td>\n",
       "      <td>-0.493827</td>\n",
       "      <td>-0.493827</td>\n",
       "      <td>-0.493827</td>\n",
       "      <td>-0.493827</td>\n",
       "      <td>-0.495345</td>\n",
       "      <td>0.001716</td>\n",
       "    </tr>\n",
       "    <tr>\n",
       "      <th>4</th>\n",
       "      <td>0.034461</td>\n",
       "      <td>0.003696</td>\n",
       "      <td>0.003018</td>\n",
       "      <td>0.000527</td>\n",
       "      <td>0.1000</td>\n",
       "      <td>{'alpha': 0.1}</td>\n",
       "      <td>-0.538660</td>\n",
       "      <td>-0.538455</td>\n",
       "      <td>-0.539627</td>\n",
       "      <td>-0.538866</td>\n",
       "      <td>...</td>\n",
       "      <td>-0.495597</td>\n",
       "      <td>-0.495682</td>\n",
       "      <td>-0.495643</td>\n",
       "      <td>-0.499784</td>\n",
       "      <td>-0.493827</td>\n",
       "      <td>-0.493827</td>\n",
       "      <td>-0.493827</td>\n",
       "      <td>-0.493827</td>\n",
       "      <td>-0.495345</td>\n",
       "      <td>0.001716</td>\n",
       "    </tr>\n",
       "  </tbody>\n",
       "</table>\n",
       "<p>5 rows × 31 columns</p>\n",
       "</div>"
      ],
      "text/plain": [
       "   mean_fit_time  std_fit_time  mean_score_time  std_score_time  param_alpha  \\\n",
       "0       1.033296      0.167405         0.003875        0.000413       0.0001   \n",
       "1       0.061320      0.005488         0.003181        0.000382       0.0010   \n",
       "2       0.036674      0.003430         0.003046        0.000414       0.0100   \n",
       "3       0.031760      0.001120         0.002726        0.000166       0.0500   \n",
       "4       0.034461      0.003696         0.003018        0.000527       0.1000   \n",
       "\n",
       "              params  split0_test_score  split1_test_score  split2_test_score  \\\n",
       "0  {'alpha': 0.0001}          -0.342758          -0.345149          -0.342245   \n",
       "1   {'alpha': 0.001}          -0.379843          -0.382797          -0.377481   \n",
       "2    {'alpha': 0.01}          -0.522700          -0.521839          -0.524863   \n",
       "3    {'alpha': 0.05}          -0.538660          -0.538455          -0.539627   \n",
       "4     {'alpha': 0.1}          -0.538660          -0.538455          -0.539627   \n",
       "\n",
       "   split3_test_score  ...  split2_train_score  split3_train_score  \\\n",
       "0          -0.333077  ...           -0.293868           -0.295504   \n",
       "1          -0.370381  ...           -0.330493           -0.332345   \n",
       "2          -0.521166  ...           -0.480786           -0.480388   \n",
       "3          -0.538866  ...           -0.495597           -0.495682   \n",
       "4          -0.538866  ...           -0.495597           -0.495682   \n",
       "\n",
       "   split4_train_score  split5_train_score  split6_train_score  \\\n",
       "0           -0.294786           -0.300797           -0.301860   \n",
       "1           -0.331081           -0.341130           -0.344662   \n",
       "2           -0.481116           -0.484637           -0.480199   \n",
       "3           -0.495643           -0.499784           -0.493827   \n",
       "4           -0.495643           -0.499784           -0.493827   \n",
       "\n",
       "   split7_train_score  split8_train_score  split9_train_score  \\\n",
       "0           -0.301542           -0.300442           -0.301755   \n",
       "1           -0.343850           -0.344249           -0.344160   \n",
       "2           -0.479363           -0.479927           -0.479747   \n",
       "3           -0.493827           -0.493827           -0.493827   \n",
       "4           -0.493827           -0.493827           -0.493827   \n",
       "\n",
       "   mean_train_score  std_train_score  \n",
       "0         -0.297816         0.003527  \n",
       "1         -0.337225         0.006482  \n",
       "2         -0.480681         0.001402  \n",
       "3         -0.495345         0.001716  \n",
       "4         -0.495345         0.001716  \n",
       "\n",
       "[5 rows x 31 columns]"
      ]
     },
     "execution_count": 138,
     "metadata": {},
     "output_type": "execute_result"
    }
   ],
   "source": [
    "cv_result_r = pd.DataFrame(model_cv.cv_results_)\n",
    "cv_result_r['param_alpha'] = cv_result_r['param_alpha'].astype('float32')\n",
    "cv_result_r.head()"
   ]
  },
  {
   "cell_type": "code",
   "execution_count": 139,
   "id": "f88d9479",
   "metadata": {},
   "outputs": [
    {
     "data": {
      "image/png": "[encoded data removed]",
      "text/plain": [
       "<Figure size 1152x576 with 1 Axes>"
      ]
     },
     "metadata": {
      "needs_background": "light"
     },
     "output_type": "display_data"
    }
   ],
   "source": [
    "plt.figure(figsize=(16,8))\n",
    "plt.plot(cv_result_r['param_alpha'],cv_result_r['mean_train_score'])\n",
    "plt.plot(cv_result_r['param_alpha'],cv_result_r['mean_test_score'])\n",
    "plt.xscale('log')\n",
    "plt.ylabel('R2 Score')\n",
    "plt.xlabel('Alpha')\n",
    "plt.show()"
   ]
  },
  {
   "cell_type": "markdown",
   "id": "480ccee1",
   "metadata": {},
   "source": [
    "### Looking at the curve, as they are not converging it seems even Lasso model is not working well here."
   ]
  },
  {
   "cell_type": "markdown",
   "id": "5c3cda99",
   "metadata": {},
   "source": [
    "## Model 5. Tree models - Random Forest"
   ]
  },
  {
   "cell_type": "code",
   "execution_count": 140,
   "id": "830d72c3",
   "metadata": {},
   "outputs": [],
   "source": [
    "rf = RandomForestClassifier(random_state=42, n_jobs=-1)"
   ]
  },
  {
   "cell_type": "code",
   "execution_count": 141,
   "id": "54318c33",
   "metadata": {},
   "outputs": [],
   "source": [
    "params = {\n",
    "    'max_depth': [2,3,5,10,20],\n",
    "    'min_samples_leaf': [5,10,20,50,100,200],\n",
    "    'n_estimators': [10, 25, 50, 100]\n",
    "}"
   ]
  },
  {
   "cell_type": "code",
   "execution_count": 142,
   "id": "a9da6e3e",
   "metadata": {},
   "outputs": [],
   "source": [
    "grid_search = GridSearchCV(estimator=rf,\n",
    "                           param_grid=params,\n",
    "                           cv = 4,\n",
    "                           n_jobs=-1, verbose=1, scoring=\"accuracy\")"
   ]
  },
  {
   "cell_type": "code",
   "execution_count": 143,
   "id": "9315c81c",
   "metadata": {},
   "outputs": [
    {
     "name": "stdout",
     "output_type": "stream",
     "text": [
      "Fitting 4 folds for each of 120 candidates, totalling 480 fits\n",
      "CPU times: user 15 s, sys: 652 ms, total: 15.6 s\n",
      "Wall time: 2min 59s\n"
     ]
    },
    {
     "data": {
      "text/html": [
       "<style>#sk-container-id-6 {color: black;background-color: white;}#sk-container-id-6 pre{padding: 0;}#sk-container-id-6 div.sk-toggleable {background-color: white;}#sk-container-id-6 label.sk-toggleable__label {cursor: pointer;display: block;width: 100%;margin-bottom: 0;padding: 0.3em;box-sizing: border-box;text-align: center;}#sk-container-id-6 label.sk-toggleable__label-arrow:before {content: \"▸\";float: left;margin-right: 0.25em;color: #696969;}#sk-container-id-6 label.sk-toggleable__label-arrow:hover:before {color: black;}#sk-container-id-6 div.sk-estimator:hover label.sk-toggleable__label-arrow:before {color: black;}#sk-container-id-6 div.sk-toggleable__content {max-height: 0;max-width: 0;overflow: hidden;text-align: left;background-color: #f0f8ff;}#sk-container-id-6 div.sk-toggleable__content pre {margin: 0.2em;color: black;border-radius: 0.25em;background-color: #f0f8ff;}#sk-container-id-6 input.sk-toggleable__control:checked~div.sk-toggleable__content {max-height: 200px;max-width: 100%;overflow: auto;}#sk-container-id-6 input.sk-toggleable__control:checked~label.sk-toggleable__label-arrow:before {content: \"▾\";}#sk-container-id-6 div.sk-estimator input.sk-toggleable__control:checked~label.sk-toggleable__label {background-color: #d4ebff;}#sk-container-id-6 div.sk-label input.sk-toggleable__control:checked~label.sk-toggleable__label {background-color: #d4ebff;}#sk-container-id-6 input.sk-hidden--visually {border: 0;clip: rect(1px 1px 1px 1px);clip: rect(1px, 1px, 1px, 1px);height: 1px;margin: -1px;overflow: hidden;padding: 0;position: absolute;width: 1px;}#sk-container-id-6 div.sk-estimator {font-family: monospace;background-color: #f0f8ff;border: 1px dotted black;border-radius: 0.25em;box-sizing: border-box;margin-bottom: 0.5em;}#sk-container-id-6 div.sk-estimator:hover {background-color: #d4ebff;}#sk-container-id-6 div.sk-parallel-item::after {content: \"\";width: 100%;border-bottom: 1px solid gray;flex-grow: 1;}#sk-container-id-6 div.sk-label:hover label.sk-toggleable__label {background-color: #d4ebff;}#sk-container-id-6 div.sk-serial::before {content: \"\";position: absolute;border-left: 1px solid gray;box-sizing: border-box;top: 0;bottom: 0;left: 50%;z-index: 0;}#sk-container-id-6 div.sk-serial {display: flex;flex-direction: column;align-items: center;background-color: white;padding-right: 0.2em;padding-left: 0.2em;position: relative;}#sk-container-id-6 div.sk-item {position: relative;z-index: 1;}#sk-container-id-6 div.sk-parallel {display: flex;align-items: stretch;justify-content: center;background-color: white;position: relative;}#sk-container-id-6 div.sk-item::before, #sk-container-id-6 div.sk-parallel-item::before {content: \"\";position: absolute;border-left: 1px solid gray;box-sizing: border-box;top: 0;bottom: 0;left: 50%;z-index: -1;}#sk-container-id-6 div.sk-parallel-item {display: flex;flex-direction: column;z-index: 1;position: relative;background-color: white;}#sk-container-id-6 div.sk-parallel-item:first-child::after {align-self: flex-end;width: 50%;}#sk-container-id-6 div.sk-parallel-item:last-child::after {align-self: flex-start;width: 50%;}#sk-container-id-6 div.sk-parallel-item:only-child::after {width: 0;}#sk-container-id-6 div.sk-dashed-wrapped {border: 1px dashed gray;margin: 0 0.4em 0.5em 0.4em;box-sizing: border-box;padding-bottom: 0.4em;background-color: white;}#sk-container-id-6 div.sk-label label {font-family: monospace;font-weight: bold;display: inline-block;line-height: 1.2em;}#sk-container-id-6 div.sk-label-container {text-align: center;}#sk-container-id-6 div.sk-container {/* jupyter's `normalize.less` sets `[hidden] { display: none; }` but bootstrap.min.css set `[hidden] { display: none !important; }` so we also need the `!important` here to be able to override the default hidden behavior on the sphinx rendered scikit-learn.org. See: https://github.com/scikit-learn/scikit-learn/issues/21755 */display: inline-block !important;position: relative;}#sk-container-id-6 div.sk-text-repr-fallback {display: none;}</style><div id=\"sk-container-id-6\" class=\"sk-top-container\"><div class=\"sk-text-repr-fallback\"><pre>GridSearchCV(cv=4, estimator=RandomForestClassifier(n_jobs=-1, random_state=42),\n",
       "             n_jobs=-1,\n",
       "             param_grid={&#x27;max_depth&#x27;: [2, 3, 5, 10, 20],\n",
       "                         &#x27;min_samples_leaf&#x27;: [5, 10, 20, 50, 100, 200],\n",
       "                         &#x27;n_estimators&#x27;: [10, 25, 50, 100]},\n",
       "             scoring=&#x27;accuracy&#x27;, verbose=1)</pre><b>In a Jupyter environment, please rerun this cell to show the HTML representation or trust the notebook. <br />On GitHub, the HTML representation is unable to render, please try loading this page with nbviewer.org.</b></div><div class=\"sk-container\" hidden><div class=\"sk-item sk-dashed-wrapped\"><div class=\"sk-label-container\"><div class=\"sk-label sk-toggleable\"><input class=\"sk-toggleable__control sk-hidden--visually\" id=\"sk-estimator-id-10\" type=\"checkbox\" ><label for=\"sk-estimator-id-10\" class=\"sk-toggleable__label sk-toggleable__label-arrow\">GridSearchCV</label><div class=\"sk-toggleable__content\"><pre>GridSearchCV(cv=4, estimator=RandomForestClassifier(n_jobs=-1, random_state=42),\n",
       "             n_jobs=-1,\n",
       "             param_grid={&#x27;max_depth&#x27;: [2, 3, 5, 10, 20],\n",
       "                         &#x27;min_samples_leaf&#x27;: [5, 10, 20, 50, 100, 200],\n",
       "                         &#x27;n_estimators&#x27;: [10, 25, 50, 100]},\n",
       "             scoring=&#x27;accuracy&#x27;, verbose=1)</pre></div></div></div><div class=\"sk-parallel\"><div class=\"sk-parallel-item\"><div class=\"sk-item\"><div class=\"sk-label-container\"><div class=\"sk-label sk-toggleable\"><input class=\"sk-toggleable__control sk-hidden--visually\" id=\"sk-estimator-id-11\" type=\"checkbox\" ><label for=\"sk-estimator-id-11\" class=\"sk-toggleable__label sk-toggleable__label-arrow\">estimator: RandomForestClassifier</label><div class=\"sk-toggleable__content\"><pre>RandomForestClassifier(n_jobs=-1, random_state=42)</pre></div></div></div><div class=\"sk-serial\"><div class=\"sk-item\"><div class=\"sk-estimator sk-toggleable\"><input class=\"sk-toggleable__control sk-hidden--visually\" id=\"sk-estimator-id-12\" type=\"checkbox\" ><label for=\"sk-estimator-id-12\" class=\"sk-toggleable__label sk-toggleable__label-arrow\">RandomForestClassifier</label><div class=\"sk-toggleable__content\"><pre>RandomForestClassifier(n_jobs=-1, random_state=42)</pre></div></div></div></div></div></div></div></div></div></div>"
      ],
      "text/plain": [
       "GridSearchCV(cv=4, estimator=RandomForestClassifier(n_jobs=-1, random_state=42),\n",
       "             n_jobs=-1,\n",
       "             param_grid={'max_depth': [2, 3, 5, 10, 20],\n",
       "                         'min_samples_leaf': [5, 10, 20, 50, 100, 200],\n",
       "                         'n_estimators': [10, 25, 50, 100]},\n",
       "             scoring='accuracy', verbose=1)"
      ]
     },
     "execution_count": 143,
     "metadata": {},
     "output_type": "execute_result"
    }
   ],
   "source": [
    "%%time\n",
    "grid_search.fit(X_resampled, y_resampled)"
   ]
  },
  {
   "cell_type": "code",
   "execution_count": 144,
   "id": "1f06008f",
   "metadata": {},
   "outputs": [
    {
     "data": {
      "text/plain": [
       "0.9521465581051073"
      ]
     },
     "execution_count": 144,
     "metadata": {},
     "output_type": "execute_result"
    }
   ],
   "source": [
    "grid_search.best_score_"
   ]
  },
  {
   "cell_type": "code",
   "execution_count": 145,
   "id": "47596d79",
   "metadata": {},
   "outputs": [
    {
     "data": {
      "text/html": [
       "<style>#sk-container-id-7 {color: black;background-color: white;}#sk-container-id-7 pre{padding: 0;}#sk-container-id-7 div.sk-toggleable {background-color: white;}#sk-container-id-7 label.sk-toggleable__label {cursor: pointer;display: block;width: 100%;margin-bottom: 0;padding: 0.3em;box-sizing: border-box;text-align: center;}#sk-container-id-7 label.sk-toggleable__label-arrow:before {content: \"▸\";float: left;margin-right: 0.25em;color: #696969;}#sk-container-id-7 label.sk-toggleable__label-arrow:hover:before {color: black;}#sk-container-id-7 div.sk-estimator:hover label.sk-toggleable__label-arrow:before {color: black;}#sk-container-id-7 div.sk-toggleable__content {max-height: 0;max-width: 0;overflow: hidden;text-align: left;background-color: #f0f8ff;}#sk-container-id-7 div.sk-toggleable__content pre {margin: 0.2em;color: black;border-radius: 0.25em;background-color: #f0f8ff;}#sk-container-id-7 input.sk-toggleable__control:checked~div.sk-toggleable__content {max-height: 200px;max-width: 100%;overflow: auto;}#sk-container-id-7 input.sk-toggleable__control:checked~label.sk-toggleable__label-arrow:before {content: \"▾\";}#sk-container-id-7 div.sk-estimator input.sk-toggleable__control:checked~label.sk-toggleable__label {background-color: #d4ebff;}#sk-container-id-7 div.sk-label input.sk-toggleable__control:checked~label.sk-toggleable__label {background-color: #d4ebff;}#sk-container-id-7 input.sk-hidden--visually {border: 0;clip: rect(1px 1px 1px 1px);clip: rect(1px, 1px, 1px, 1px);height: 1px;margin: -1px;overflow: hidden;padding: 0;position: absolute;width: 1px;}#sk-container-id-7 div.sk-estimator {font-family: monospace;background-color: #f0f8ff;border: 1px dotted black;border-radius: 0.25em;box-sizing: border-box;margin-bottom: 0.5em;}#sk-container-id-7 div.sk-estimator:hover {background-color: #d4ebff;}#sk-container-id-7 div.sk-parallel-item::after {content: \"\";width: 100%;border-bottom: 1px solid gray;flex-grow: 1;}#sk-container-id-7 div.sk-label:hover label.sk-toggleable__label {background-color: #d4ebff;}#sk-container-id-7 div.sk-serial::before {content: \"\";position: absolute;border-left: 1px solid gray;box-sizing: border-box;top: 0;bottom: 0;left: 50%;z-index: 0;}#sk-container-id-7 div.sk-serial {display: flex;flex-direction: column;align-items: center;background-color: white;padding-right: 0.2em;padding-left: 0.2em;position: relative;}#sk-container-id-7 div.sk-item {position: relative;z-index: 1;}#sk-container-id-7 div.sk-parallel {display: flex;align-items: stretch;justify-content: center;background-color: white;position: relative;}#sk-container-id-7 div.sk-item::before, #sk-container-id-7 div.sk-parallel-item::before {content: \"\";position: absolute;border-left: 1px solid gray;box-sizing: border-box;top: 0;bottom: 0;left: 50%;z-index: -1;}#sk-container-id-7 div.sk-parallel-item {display: flex;flex-direction: column;z-index: 1;position: relative;background-color: white;}#sk-container-id-7 div.sk-parallel-item:first-child::after {align-self: flex-end;width: 50%;}#sk-container-id-7 div.sk-parallel-item:last-child::after {align-self: flex-start;width: 50%;}#sk-container-id-7 div.sk-parallel-item:only-child::after {width: 0;}#sk-container-id-7 div.sk-dashed-wrapped {border: 1px dashed gray;margin: 0 0.4em 0.5em 0.4em;box-sizing: border-box;padding-bottom: 0.4em;background-color: white;}#sk-container-id-7 div.sk-label label {font-family: monospace;font-weight: bold;display: inline-block;line-height: 1.2em;}#sk-container-id-7 div.sk-label-container {text-align: center;}#sk-container-id-7 div.sk-container {/* jupyter's `normalize.less` sets `[hidden] { display: none; }` but bootstrap.min.css set `[hidden] { display: none !important; }` so we also need the `!important` here to be able to override the default hidden behavior on the sphinx rendered scikit-learn.org. See: https://github.com/scikit-learn/scikit-learn/issues/21755 */display: inline-block !important;position: relative;}#sk-container-id-7 div.sk-text-repr-fallback {display: none;}</style><div id=\"sk-container-id-7\" class=\"sk-top-container\"><div class=\"sk-text-repr-fallback\"><pre>RandomForestClassifier(max_depth=20, min_samples_leaf=5, n_estimators=50,\n",
       "                       n_jobs=-1, random_state=42)</pre><b>In a Jupyter environment, please rerun this cell to show the HTML representation or trust the notebook. <br />On GitHub, the HTML representation is unable to render, please try loading this page with nbviewer.org.</b></div><div class=\"sk-container\" hidden><div class=\"sk-item\"><div class=\"sk-estimator sk-toggleable\"><input class=\"sk-toggleable__control sk-hidden--visually\" id=\"sk-estimator-id-13\" type=\"checkbox\" checked><label for=\"sk-estimator-id-13\" class=\"sk-toggleable__label sk-toggleable__label-arrow\">RandomForestClassifier</label><div class=\"sk-toggleable__content\"><pre>RandomForestClassifier(max_depth=20, min_samples_leaf=5, n_estimators=50,\n",
       "                       n_jobs=-1, random_state=42)</pre></div></div></div></div></div>"
      ],
      "text/plain": [
       "RandomForestClassifier(max_depth=20, min_samples_leaf=5, n_estimators=50,\n",
       "                       n_jobs=-1, random_state=42)"
      ]
     },
     "execution_count": 145,
     "metadata": {},
     "output_type": "execute_result"
    }
   ],
   "source": [
    "rf_best = grid_search.best_estimator_\n",
    "rf_best"
   ]
  },
  {
   "cell_type": "code",
   "execution_count": 146,
   "id": "194ce475",
   "metadata": {},
   "outputs": [
    {
     "data": {
      "image/png": "[encoded data removed]",
      "text/plain": [
       "<Figure size 432x288 with 1 Axes>"
      ]
     },
     "metadata": {
      "needs_background": "light"
     },
     "output_type": "display_data"
    }
   ],
   "source": [
    "plot_roc_curve(rf_best, X_resampled, y_resampled)\n",
    "plt.show()"
   ]
  },
  {
   "cell_type": "code",
   "execution_count": 147,
   "id": "528c80dc",
   "metadata": {},
   "outputs": [
    {
     "data": {
      "text/plain": [
       "array([2.84975372e-03, 4.23263050e-03, 1.86801513e-02, 3.90238606e-03,\n",
       "       4.72762150e-03, 6.57080452e-03, 2.27511783e-03, 3.20679651e-03,\n",
       "       4.89555694e-03, 2.08101837e-03, 4.34559730e-03, 4.29011415e-02,\n",
       "       2.52587490e-03, 9.67434130e-03, 5.55297902e-02, 2.43331146e-03,\n",
       "       2.94447506e-03, 9.64069425e-03, 2.60599016e-03, 3.32497203e-03,\n",
       "       1.73220176e-02, 1.30074250e-03, 2.11863743e-03, 1.46050756e-03,\n",
       "       9.48893149e-04, 2.25189764e-03, 1.33020323e-03, 3.69948660e-03,\n",
       "       4.93473682e-03, 3.24052470e-02, 4.23284820e-03, 4.56160044e-03,\n",
       "       4.37891536e-03, 5.51274559e-03, 5.14144863e-03, 9.04192746e-03,\n",
       "       9.37740529e-04, 5.44722158e-04, 5.02659461e-04, 4.78660752e-03,\n",
       "       6.41141187e-03, 7.56529576e-03, 9.96027244e-04, 1.12496872e-03,\n",
       "       1.24007097e-03, 2.56503546e-03, 4.65140398e-03, 2.54444750e-03,\n",
       "       1.57969628e-03, 0.00000000e+00, 1.62322535e-06, 3.24595743e-03,\n",
       "       4.46672973e-03, 2.52734908e-02, 3.11340507e-03, 2.93749087e-03,\n",
       "       1.72735245e-02, 2.72890545e-03, 3.08646715e-03, 4.47274589e-02,\n",
       "       3.42557119e-03, 2.44847081e-03, 1.61867177e-02, 3.04073166e-03,\n",
       "       3.33095261e-03, 3.58986685e-02, 5.73888887e-03, 4.82458858e-03,\n",
       "       1.81370148e-03, 5.06176458e-03, 4.74223480e-03, 7.84538286e-03,\n",
       "       9.24220801e-04, 1.19374579e-03, 1.42106317e-03, 3.42776994e-03,\n",
       "       3.37643838e-03, 1.40501432e-02, 3.25502421e-03, 6.61771499e-03,\n",
       "       9.41483067e-02, 1.72518441e-03, 5.43502935e-04, 2.97417457e-03,\n",
       "       1.57089810e-03, 1.96436508e-03, 9.36243745e-04, 1.55787512e-03,\n",
       "       1.22207599e-03, 9.87350899e-04, 4.09557827e-03, 3.91771194e-03,\n",
       "       1.96723498e-02, 3.11202520e-03, 3.83571656e-03, 3.56164379e-02,\n",
       "       3.11108636e-03, 3.67685590e-03, 2.16681417e-02, 3.66657591e-03,\n",
       "       4.50076821e-03, 3.81656212e-02, 2.16288646e-03, 3.29963090e-03,\n",
       "       5.35756505e-02, 2.71082863e-03, 2.81221712e-03, 3.53801258e-02,\n",
       "       2.19750411e-03, 2.75493686e-03, 1.95395972e-02, 2.05031550e-03,\n",
       "       2.20236250e-03, 1.33717871e-02, 2.56421779e-03, 2.74428249e-03,\n",
       "       5.58104414e-03, 3.41109833e-04, 7.19644602e-04, 3.13680689e-03,\n",
       "       1.56850585e-03, 1.33689317e-03, 1.03213119e-02, 1.33127301e-03,\n",
       "       1.52899744e-03, 9.15559420e-04, 9.60232636e-04, 1.29857464e-03,\n",
       "       8.76422653e-04, 3.67260974e-03, 1.73480669e-03, 1.72652714e-03,\n",
       "       1.99567560e-03])"
      ]
     },
     "execution_count": 147,
     "metadata": {},
     "output_type": "execute_result"
    }
   ],
   "source": [
    "rf_best.feature_importances_"
   ]
  },
  {
   "cell_type": "code",
   "execution_count": 148,
   "id": "0aa8140c",
   "metadata": {},
   "outputs": [],
   "source": [
    "imp_df = pd.DataFrame({\n",
    "    \"Varname\": X_train.columns,\n",
    "    \"Imp\": rf_best.feature_importances_\n",
    "})"
   ]
  },
  {
   "cell_type": "code",
   "execution_count": 149,
   "id": "45aadc5d",
   "metadata": {},
   "outputs": [
    {
     "data": {
      "text/html": [
       "<div>\n",
       "<style scoped>\n",
       "    .dataframe tbody tr th:only-of-type {\n",
       "        vertical-align: middle;\n",
       "    }\n",
       "\n",
       "    .dataframe tbody tr th {\n",
       "        vertical-align: top;\n",
       "    }\n",
       "\n",
       "    .dataframe thead th {\n",
       "        text-align: right;\n",
       "    }\n",
       "</style>\n",
       "<table border=\"1\" class=\"dataframe\">\n",
       "  <thead>\n",
       "    <tr style=\"text-align: right;\">\n",
       "      <th></th>\n",
       "      <th>Varname</th>\n",
       "      <th>Imp</th>\n",
       "    </tr>\n",
       "  </thead>\n",
       "  <tbody>\n",
       "    <tr>\n",
       "      <th>80</th>\n",
       "      <td>total_ic_mou_8</td>\n",
       "      <td>0.094148</td>\n",
       "    </tr>\n",
       "    <tr>\n",
       "      <th>14</th>\n",
       "      <td>roam_og_mou_8</td>\n",
       "      <td>0.055530</td>\n",
       "    </tr>\n",
       "    <tr>\n",
       "      <th>104</th>\n",
       "      <td>total_rech_data_8</td>\n",
       "      <td>0.053576</td>\n",
       "    </tr>\n",
       "    <tr>\n",
       "      <th>59</th>\n",
       "      <td>loc_ic_t2m_mou_8</td>\n",
       "      <td>0.044727</td>\n",
       "    </tr>\n",
       "    <tr>\n",
       "      <th>11</th>\n",
       "      <td>roam_ic_mou_8</td>\n",
       "      <td>0.042901</td>\n",
       "    </tr>\n",
       "    <tr>\n",
       "      <th>101</th>\n",
       "      <td>last_day_rch_amt_8</td>\n",
       "      <td>0.038166</td>\n",
       "    </tr>\n",
       "    <tr>\n",
       "      <th>65</th>\n",
       "      <td>loc_ic_mou_8</td>\n",
       "      <td>0.035899</td>\n",
       "    </tr>\n",
       "    <tr>\n",
       "      <th>95</th>\n",
       "      <td>total_rech_amt_8</td>\n",
       "      <td>0.035616</td>\n",
       "    </tr>\n",
       "    <tr>\n",
       "      <th>107</th>\n",
       "      <td>max_rech_data_8</td>\n",
       "      <td>0.035380</td>\n",
       "    </tr>\n",
       "    <tr>\n",
       "      <th>29</th>\n",
       "      <td>loc_og_mou_8</td>\n",
       "      <td>0.032405</td>\n",
       "    </tr>\n",
       "  </tbody>\n",
       "</table>\n",
       "</div>"
      ],
      "text/plain": [
       "                Varname       Imp\n",
       "80       total_ic_mou_8  0.094148\n",
       "14        roam_og_mou_8  0.055530\n",
       "104   total_rech_data_8  0.053576\n",
       "59     loc_ic_t2m_mou_8  0.044727\n",
       "11        roam_ic_mou_8  0.042901\n",
       "101  last_day_rch_amt_8  0.038166\n",
       "65         loc_ic_mou_8  0.035899\n",
       "95     total_rech_amt_8  0.035616\n",
       "107     max_rech_data_8  0.035380\n",
       "29         loc_og_mou_8  0.032405"
      ]
     },
     "execution_count": 149,
     "metadata": {},
     "output_type": "execute_result"
    }
   ],
   "source": [
    "imp_df.sort_values(by=\"Imp\", ascending=False).head(10)"
   ]
  },
  {
   "cell_type": "markdown",
   "id": "4065b020",
   "metadata": {},
   "source": [
    "### Let's apply Random Forest on test data"
   ]
  },
  {
   "cell_type": "code",
   "execution_count": 150,
   "id": "435a503a",
   "metadata": {},
   "outputs": [],
   "source": [
    "y_pred_rf = rf_best.predict(telecom_test_df_ori)"
   ]
  },
  {
   "cell_type": "code",
   "execution_count": 151,
   "id": "25d0c6a6",
   "metadata": {},
   "outputs": [
    {
     "data": {
      "text/html": [
       "<div>\n",
       "<style scoped>\n",
       "    .dataframe tbody tr th:only-of-type {\n",
       "        vertical-align: middle;\n",
       "    }\n",
       "\n",
       "    .dataframe tbody tr th {\n",
       "        vertical-align: top;\n",
       "    }\n",
       "\n",
       "    .dataframe thead th {\n",
       "        text-align: right;\n",
       "    }\n",
       "</style>\n",
       "<table border=\"1\" class=\"dataframe\">\n",
       "  <thead>\n",
       "    <tr style=\"text-align: right;\">\n",
       "      <th></th>\n",
       "      <th>id</th>\n",
       "      <th>churn_probability</th>\n",
       "    </tr>\n",
       "  </thead>\n",
       "  <tbody>\n",
       "    <tr>\n",
       "      <th>0</th>\n",
       "      <td>69999</td>\n",
       "      <td>0</td>\n",
       "    </tr>\n",
       "    <tr>\n",
       "      <th>1</th>\n",
       "      <td>70000</td>\n",
       "      <td>0</td>\n",
       "    </tr>\n",
       "    <tr>\n",
       "      <th>2</th>\n",
       "      <td>70001</td>\n",
       "      <td>1</td>\n",
       "    </tr>\n",
       "    <tr>\n",
       "      <th>3</th>\n",
       "      <td>70002</td>\n",
       "      <td>0</td>\n",
       "    </tr>\n",
       "    <tr>\n",
       "      <th>4</th>\n",
       "      <td>70003</td>\n",
       "      <td>0</td>\n",
       "    </tr>\n",
       "  </tbody>\n",
       "</table>\n",
       "</div>"
      ],
      "text/plain": [
       "      id  churn_probability\n",
       "0  69999                  0\n",
       "1  70000                  0\n",
       "2  70001                  1\n",
       "3  70002                  0\n",
       "4  70003                  0"
      ]
     },
     "execution_count": 151,
     "metadata": {},
     "output_type": "execute_result"
    }
   ],
   "source": [
    "telecom_test_sol_df.head()"
   ]
  },
  {
   "cell_type": "code",
   "execution_count": 152,
   "id": "d37bcc5c",
   "metadata": {},
   "outputs": [],
   "source": [
    "confusion = metrics.confusion_matrix(telecom_test_sol_df.churn_probability, y_pred_rf)"
   ]
  },
  {
   "cell_type": "code",
   "execution_count": 153,
   "id": "e07be81d",
   "metadata": {},
   "outputs": [
    {
     "data": {
      "text/plain": [
       "<sklearn.metrics._plot.roc_curve.RocCurveDisplay at 0x7fb51aae16d0>"
      ]
     },
     "execution_count": 153,
     "metadata": {},
     "output_type": "execute_result"
    },
    {
     "data": {
      "image/png": "[encoded data removed]",
      "text/plain": [
       "<Figure size 432x288 with 1 Axes>"
      ]
     },
     "metadata": {
      "needs_background": "light"
     },
     "output_type": "display_data"
    }
   ],
   "source": [
    "plot_roc_curve(rf_best, telecom_test_df_ori, y_pred_rf)"
   ]
  },
  {
   "cell_type": "code",
   "execution_count": 154,
   "id": "99b54701",
   "metadata": {},
   "outputs": [
    {
     "name": "stdout",
     "output_type": "stream",
     "text": [
      "confusion matrix: \n",
      "[[25225  1716]\n",
      " [  784  2275]]\n",
      "Accuracy:  0.9166666666666666\n",
      "Precision:  0.5700325732899023\n",
      "Recall:  0.7437070938215103\n",
      "F1_score:  0.6453900709219857\n"
     ]
    }
   ],
   "source": [
    "print('confusion matrix: ')\n",
    "print(confusion)\n",
    "TP = confusion[1, 1]\n",
    "TN = confusion[0, 0]\n",
    "FP = confusion[0, 1]\n",
    "FN = confusion[1, 0]\n",
    "accuracy = (TN+TP)/(TN+TP+FN+FP)\n",
    "print('Accuracy: ', accuracy)\n",
    "precision = TP / (TP+FP)\n",
    "print('Precision: ', precision)\n",
    "recall = TP / (TP+FN)\n",
    "print('Recall: ', recall)\n",
    "f1_score = 2*precision*recall/(precision+recall)\n",
    "print('F1_score: ', f1_score)"
   ]
  },
  {
   "cell_type": "code",
   "execution_count": 156,
   "id": "ba7a343c",
   "metadata": {},
   "outputs": [],
   "source": [
    "metrics_dict['RandomForest_test'] = {\n",
    "                           'Accuracy': accuracy, \n",
    "                           'Precision':precision, \n",
    "                           'Recall': recall, \n",
    "                           'F1 Score': f1_score, \n",
    "                          }"
   ]
  },
  {
   "cell_type": "code",
   "execution_count": 158,
   "id": "3d90535b",
   "metadata": {},
   "outputs": [
    {
     "data": {
      "text/plain": [
       "{'Logistic_rfe_train': {'Accuracy': 0.8736861584011844,\n",
       "  'Precision': 0.8703146776204798,\n",
       "  'Recall': 0.8782383419689119,\n",
       "  'F1 Score': 0.8742585565339129,\n",
       "  'AUC Score': 0.9354094754495532},\n",
       " 'Logistic_rfe_test': {'Accuracy': 0.8133,\n",
       "  'Precision': 0.3375926399182213,\n",
       "  'Recall': 0.8636809414841451,\n",
       "  'F1 Score': 0.48543867707854854,\n",
       "  'AUC Score': 0.9040531451295647},\n",
       " 'Logistic_pca_train': {'Accuracy': 0.8416728349370837,\n",
       "  'Precision': 0.8230230930720783,\n",
       "  'Recall': 0.870540340488527,\n",
       "  'F1 Score': 0.8461151079136691,\n",
       "  'AUC Score': 0.9110417701940774},\n",
       " 'Logistic_pca_test': {'Accuracy': 0.6882,\n",
       "  'Precision': 0.230499186574193,\n",
       "  'Recall': 0.8800261523373651,\n",
       "  'F1 Score': 0.36531415388790883,\n",
       "  'AUC Score': 0.8685962019920784},\n",
       " 'RandomForest_test': {'Accuracy': 0.9166666666666666,\n",
       "  'Precision': 0.5700325732899023,\n",
       "  'Recall': 0.7437070938215103,\n",
       "  'F1 Score': 0.6453900709219857}}"
      ]
     },
     "execution_count": 158,
     "metadata": {},
     "output_type": "execute_result"
    }
   ],
   "source": [
    "metrics_dict"
   ]
  },
  {
   "cell_type": "markdown",
   "id": "374b84b1",
   "metadata": {},
   "source": [
    "## Lets check XGBoost model as well"
   ]
  },
  {
   "cell_type": "code",
   "execution_count": 159,
   "id": "8d525727",
   "metadata": {},
   "outputs": [],
   "source": [
    "xgb_cfl = xgb.XGBClassifier(n_jobs=-1, objective='binary:logistic')"
   ]
  },
  {
   "cell_type": "code",
   "execution_count": 160,
   "id": "d24d568e",
   "metadata": {},
   "outputs": [
    {
     "data": {
      "text/plain": [
       "{'objective': 'binary:logistic',\n",
       " 'use_label_encoder': False,\n",
       " 'base_score': None,\n",
       " 'booster': None,\n",
       " 'callbacks': None,\n",
       " 'colsample_bylevel': None,\n",
       " 'colsample_bynode': None,\n",
       " 'colsample_bytree': None,\n",
       " 'early_stopping_rounds': None,\n",
       " 'enable_categorical': False,\n",
       " 'eval_metric': None,\n",
       " 'gamma': None,\n",
       " 'gpu_id': None,\n",
       " 'grow_policy': None,\n",
       " 'importance_type': None,\n",
       " 'interaction_constraints': None,\n",
       " 'learning_rate': None,\n",
       " 'max_bin': None,\n",
       " 'max_cat_to_onehot': None,\n",
       " 'max_delta_step': None,\n",
       " 'max_depth': None,\n",
       " 'max_leaves': None,\n",
       " 'min_child_weight': None,\n",
       " 'missing': nan,\n",
       " 'monotone_constraints': None,\n",
       " 'n_estimators': 100,\n",
       " 'n_jobs': -1,\n",
       " 'num_parallel_tree': None,\n",
       " 'predictor': None,\n",
       " 'random_state': None,\n",
       " 'reg_alpha': None,\n",
       " 'reg_lambda': None,\n",
       " 'sampling_method': None,\n",
       " 'scale_pos_weight': None,\n",
       " 'subsample': None,\n",
       " 'tree_method': None,\n",
       " 'validate_parameters': None,\n",
       " 'verbosity': None}"
      ]
     },
     "execution_count": 160,
     "metadata": {},
     "output_type": "execute_result"
    }
   ],
   "source": [
    "xgb_cfl.get_params()"
   ]
  },
  {
   "cell_type": "code",
   "execution_count": 161,
   "id": "1612a219",
   "metadata": {},
   "outputs": [],
   "source": [
    "# Fit the model to our train and target\n",
    "xgb_cfl.fit(X_resampled, y_resampled)  # default \n",
    "# Get our predictions\n",
    "xgb_predictions = xgb_cfl.predict(telecom_test_df_ori)"
   ]
  },
  {
   "cell_type": "code",
   "execution_count": 162,
   "id": "58ac27e4",
   "metadata": {},
   "outputs": [
    {
     "data": {
      "text/plain": [
       "array([[0.98011273, 0.01988727],\n",
       "       [0.9845246 , 0.01547542],\n",
       "       [0.1221928 , 0.8778072 ],\n",
       "       ...,\n",
       "       [0.81729877, 0.18270122],\n",
       "       [0.8774729 , 0.12252714],\n",
       "       [0.9986315 , 0.00136855]], dtype=float32)"
      ]
     },
     "execution_count": 162,
     "metadata": {},
     "output_type": "execute_result"
    }
   ],
   "source": [
    "xgb_predictions_prob = xgb_cfl.predict_proba(telecom_test_df_ori)\n",
    "xgb_predictions_prob"
   ]
  },
  {
   "cell_type": "code",
   "execution_count": 163,
   "id": "c99a9f48",
   "metadata": {},
   "outputs": [
    {
     "data": {
      "text/plain": [
       "(30000, 2)"
      ]
     },
     "execution_count": 163,
     "metadata": {},
     "output_type": "execute_result"
    }
   ],
   "source": [
    "xgb_predictions_prob.shape"
   ]
  },
  {
   "cell_type": "code",
   "execution_count": 164,
   "id": "18f20ce7",
   "metadata": {},
   "outputs": [
    {
     "data": {
      "text/plain": [
       "array([0.98011273, 0.01988727, 0.9845246 , ..., 0.12252714, 0.9986315 ,\n",
       "       0.00136855], dtype=float32)"
      ]
     },
     "execution_count": 164,
     "metadata": {},
     "output_type": "execute_result"
    }
   ],
   "source": [
    "xgb_predictions_prob.reshape(-1, )"
   ]
  },
  {
   "cell_type": "code",
   "execution_count": 165,
   "id": "2c8e40e1",
   "metadata": {},
   "outputs": [
    {
     "data": {
      "text/plain": [
       "30000"
      ]
     },
     "execution_count": 165,
     "metadata": {},
     "output_type": "execute_result"
    }
   ],
   "source": [
    "len(xgb_predictions)"
   ]
  },
  {
   "cell_type": "code",
   "execution_count": 166,
   "id": "222e7064",
   "metadata": {},
   "outputs": [
    {
     "data": {
      "text/plain": [
       "0.9324666666666667"
      ]
     },
     "execution_count": 166,
     "metadata": {},
     "output_type": "execute_result"
    }
   ],
   "source": [
    "accuracy_score(telecom_test_sol_df.churn_probability, xgb_predictions)"
   ]
  },
  {
   "cell_type": "markdown",
   "id": "8aa41816",
   "metadata": {},
   "source": [
    "### we see 93.48% accuracy score with default values of XGBoost."
   ]
  },
  {
   "cell_type": "code",
   "execution_count": 167,
   "id": "857a211e",
   "metadata": {},
   "outputs": [],
   "source": [
    "confusion = metrics.confusion_matrix(telecom_test_sol_df.churn_probability, xgb_predictions)"
   ]
  },
  {
   "cell_type": "code",
   "execution_count": null,
   "id": "63083bad",
   "metadata": {},
   "outputs": [],
   "source": [
    "print('confusion matrix: ')\n",
    "print(confusion)\n",
    "TP = confusion[1, 1]\n",
    "TN = confusion[0, 0]\n",
    "FP = confusion[0, 1]\n",
    "FN = confusion[1, 0]\n",
    "accuracy = (TN+TP)/(TN+TP+FN+FP)\n",
    "print('Accuracy: ', accuracy)\n",
    "precision = TP / (TP+FP)\n",
    "print('Precision: ', precision)\n",
    "recall = TP / (TP+FN)\n",
    "print('Recall: ', recall)\n",
    "f1_score = 2*precision*recall/(precision+recall)\n",
    "print('F1_score: ', f1_score)"
   ]
  },
  {
   "cell_type": "code",
   "execution_count": 168,
   "id": "1d0b7151",
   "metadata": {},
   "outputs": [],
   "source": [
    "metrics_dict['XGBoost_test'] = {\n",
    "                           'Accuracy': accuracy, \n",
    "                           'Precision':precision, \n",
    "                           'Recall': recall, \n",
    "                           'F1 Score': f1_score, \n",
    "                          }"
   ]
  },
  {
   "cell_type": "code",
   "execution_count": 169,
   "id": "9a971602",
   "metadata": {},
   "outputs": [
    {
     "data": {
      "text/plain": [
       "{'Logistic_rfe_train': {'Accuracy': 0.8736861584011844,\n",
       "  'Precision': 0.8703146776204798,\n",
       "  'Recall': 0.8782383419689119,\n",
       "  'F1 Score': 0.8742585565339129,\n",
       "  'AUC Score': 0.9354094754495532},\n",
       " 'Logistic_rfe_test': {'Accuracy': 0.8133,\n",
       "  'Precision': 0.3375926399182213,\n",
       "  'Recall': 0.8636809414841451,\n",
       "  'F1 Score': 0.48543867707854854,\n",
       "  'AUC Score': 0.9040531451295647},\n",
       " 'Logistic_pca_train': {'Accuracy': 0.8416728349370837,\n",
       "  'Precision': 0.8230230930720783,\n",
       "  'Recall': 0.870540340488527,\n",
       "  'F1 Score': 0.8461151079136691,\n",
       "  'AUC Score': 0.9110417701940774},\n",
       " 'Logistic_pca_test': {'Accuracy': 0.6882,\n",
       "  'Precision': 0.230499186574193,\n",
       "  'Recall': 0.8800261523373651,\n",
       "  'F1 Score': 0.36531415388790883,\n",
       "  'AUC Score': 0.8685962019920784},\n",
       " 'RandomForest_test': {'Accuracy': 0.9166666666666666,\n",
       "  'Precision': 0.5700325732899023,\n",
       "  'Recall': 0.7437070938215103,\n",
       "  'F1 Score': 0.6453900709219857},\n",
       " 'XGBoost_test': {'Accuracy': 0.9166666666666666,\n",
       "  'Precision': 0.5700325732899023,\n",
       "  'Recall': 0.7437070938215103,\n",
       "  'F1 Score': 0.6453900709219857}}"
      ]
     },
     "execution_count": 169,
     "metadata": {},
     "output_type": "execute_result"
    }
   ],
   "source": [
    "metrics_dict"
   ]
  },
  {
   "cell_type": "markdown",
   "id": "82077c89",
   "metadata": {},
   "source": [
    "### HPT - Random Search for XGBoost"
   ]
  },
  {
   "cell_type": "code",
   "execution_count": null,
   "id": "a807fbab",
   "metadata": {},
   "outputs": [],
   "source": [
    "# A parameter grid for XGBoost\n",
    "params = {\n",
    "        'n_estimators' : [100, 200, 500, 750], # no of trees \n",
    "        'learning_rate' : [0.01, 0.02, 0.05, 0.1, 0.25],  # eta\n",
    "        'min_child_weight': [1, 5, 7, 10],\n",
    "        'gamma': [0.1, 0.5, 1, 1.5, 5],\n",
    "        'subsample': [0.6, 0.8, 1.0],\n",
    "        'colsample_bytree': [0.6, 0.8, 1.0],\n",
    "        'max_depth': [3, 4, 5, 10, 12]\n",
    "        }\n",
    "\n",
    "folds = 5\n",
    "param_comb = 10\n",
    "random_search = RandomizedSearchCV(xgb_cfl, param_distributions=params, n_iter=param_comb, scoring='accuracy', n_jobs=-1, cv=folds, verbose=3, random_state=42)"
   ]
  },
  {
   "cell_type": "code",
   "execution_count": null,
   "id": "4e290a3d",
   "metadata": {},
   "outputs": [],
   "source": [
    "random_search.fit(X_resampled, y_resampled)"
   ]
  },
  {
   "cell_type": "code",
   "execution_count": null,
   "id": "7a10551a",
   "metadata": {},
   "outputs": [],
   "source": [
    "print('\\n Best estimator:')\n",
    "print(random_search.best_estimator_)\n",
    "print('\\n Best accuracy for %d-fold search with %d parameter combinations:' % (folds, param_comb))\n",
    "print(random_search.best_score_ )\n",
    "print('\\n Best hyperparameters:')\n",
    "print(random_search.best_params_)"
   ]
  },
  {
   "cell_type": "code",
   "execution_count": null,
   "id": "e162e587",
   "metadata": {},
   "outputs": [],
   "source": [
    "# Get our predictions\n",
    "xgb_predictions = random_search.predict(telecom_test_df_ori)"
   ]
  },
  {
   "cell_type": "code",
   "execution_count": null,
   "id": "ca2ca1d5",
   "metadata": {},
   "outputs": [],
   "source": [
    "xgb_predictions_prob = random_search.predict_proba(telecom_test_df_ori)\n",
    "xgb_predictions_prob"
   ]
  },
  {
   "cell_type": "code",
   "execution_count": null,
   "id": "f317ad02",
   "metadata": {},
   "outputs": [],
   "source": [
    "xgb_predictions_prob.shape"
   ]
  },
  {
   "cell_type": "code",
   "execution_count": null,
   "id": "eb06cfe2",
   "metadata": {},
   "outputs": [],
   "source": [
    "accuracy_score(telecom_test_sol_df.churn_probability, xgb_predictions)"
   ]
  },
  {
   "cell_type": "code",
   "execution_count": null,
   "id": "9eecd52d",
   "metadata": {},
   "outputs": [],
   "source": [
    "confusion = metrics.confusion_matrix(telecom_test_sol_df.churn_probability, xgb_predictions)"
   ]
  },
  {
   "cell_type": "code",
   "execution_count": null,
   "id": "078503ef",
   "metadata": {},
   "outputs": [],
   "source": [
    "print('confusion matrix: ')\n",
    "print(confusion)\n",
    "TP = confusion[1, 1]\n",
    "TN = confusion[0, 0]\n",
    "FP = confusion[0, 1]\n",
    "FN = confusion[1, 0]\n",
    "accuracy = (TN+TP)/(TN+TP+FN+FP)\n",
    "print('Accuracy: ', accuracy)\n",
    "precision = TP / (TP+FP)\n",
    "print('Precision: ', precision)\n",
    "recall = TP / (TP+FN)\n",
    "print('Recall: ', recall)\n",
    "f1_score = 2*precision*recall/(precision+recall)\n",
    "print('F1_score: ', f1_score)"
   ]
  },
  {
   "cell_type": "markdown",
   "id": "683b3ed0",
   "metadata": {},
   "source": [
    "### We can see both accuracy and recall are better for XGBoost model without any hyper paramter tuning."
   ]
  },
  {
   "cell_type": "markdown",
   "id": "77427b18",
   "metadata": {},
   "source": [
    "### Let's see the metrics_dict now to tell which model is performing best on the given test dataset."
   ]
  },
  {
   "cell_type": "code",
   "execution_count": 170,
   "id": "38bfe8b5",
   "metadata": {},
   "outputs": [
    {
     "data": {
      "text/plain": [
       "{'Logistic_rfe_train': {'Accuracy': 0.8736861584011844,\n",
       "  'Precision': 0.8703146776204798,\n",
       "  'Recall': 0.8782383419689119,\n",
       "  'F1 Score': 0.8742585565339129,\n",
       "  'AUC Score': 0.9354094754495532},\n",
       " 'Logistic_rfe_test': {'Accuracy': 0.8133,\n",
       "  'Precision': 0.3375926399182213,\n",
       "  'Recall': 0.8636809414841451,\n",
       "  'F1 Score': 0.48543867707854854,\n",
       "  'AUC Score': 0.9040531451295647},\n",
       " 'Logistic_pca_train': {'Accuracy': 0.8416728349370837,\n",
       "  'Precision': 0.8230230930720783,\n",
       "  'Recall': 0.870540340488527,\n",
       "  'F1 Score': 0.8461151079136691,\n",
       "  'AUC Score': 0.9110417701940774},\n",
       " 'Logistic_pca_test': {'Accuracy': 0.6882,\n",
       "  'Precision': 0.230499186574193,\n",
       "  'Recall': 0.8800261523373651,\n",
       "  'F1 Score': 0.36531415388790883,\n",
       "  'AUC Score': 0.8685962019920784},\n",
       " 'RandomForest_test': {'Accuracy': 0.9166666666666666,\n",
       "  'Precision': 0.5700325732899023,\n",
       "  'Recall': 0.7437070938215103,\n",
       "  'F1 Score': 0.6453900709219857},\n",
       " 'XGBoost_test': {'Accuracy': 0.9166666666666666,\n",
       "  'Precision': 0.5700325732899023,\n",
       "  'Recall': 0.7437070938215103,\n",
       "  'F1 Score': 0.6453900709219857}}"
      ]
     },
     "execution_count": 170,
     "metadata": {},
     "output_type": "execute_result"
    }
   ],
   "source": [
    "metrics_dict"
   ]
  },
  {
   "cell_type": "markdown",
   "id": "316fa0cd",
   "metadata": {},
   "source": [
    "## Looking at all the models we think Logistic Regression with RFE is best here as it gives better Acccuracy and Recall."
   ]
  },
  {
   "cell_type": "markdown",
   "id": "6d37620b",
   "metadata": {},
   "source": [
    "## Top 15 features for Logistic Regression with RFE is"
   ]
  },
  {
   "cell_type": "code",
   "execution_count": 201,
   "id": "79675383",
   "metadata": {},
   "outputs": [
    {
     "data": {
      "text/plain": [
       "['loc_og_t2t_mou_8',\n",
       " 'loc_og_t2m_mou_8',\n",
       " 'loc_ic_mou_8',\n",
       " 'loc_og_t2f_mou_8',\n",
       " 'std_og_mou_8',\n",
       " 'std_og_t2m_mou_8',\n",
       " 'arpu_8',\n",
       " 'roam_og_mou_8',\n",
       " 'loc_ic_mou_7',\n",
       " 'max_rech_amt_8',\n",
       " 'onnet_mou_7',\n",
       " 'arpu_7',\n",
       " 'std_og_mou_7',\n",
       " 'std_ic_t2t_mou_6',\n",
       " 'total_rech_num_7',\n",
       " 'roam_og_mou_7',\n",
       " 'max_rech_data_6',\n",
       " 'loc_ic_t2m_mou_6',\n",
       " 'arpu_6',\n",
       " 'total_rech_data_6',\n",
       " 'isd_ic_mou_8',\n",
       " 'vol_2g_mb_7',\n",
       " 'roam_ic_mou_6',\n",
       " 'onnet_mou_6',\n",
       " 'offnet_mou_6']"
      ]
     },
     "execution_count": 201,
     "metadata": {},
     "output_type": "execute_result"
    }
   ],
   "source": [
    "top_feature_lg_rfe"
   ]
  }
 ],
 "metadata": {
  "kernelspec": {
   "display_name": "Python 3 (ipykernel)",
   "language": "python",
   "name": "python3"
  },
  "language_info": {
   "codemirror_mode": {
    "name": "ipython",
    "version": 3
   },
   "file_extension": ".py",
   "mimetype": "text/x-python",
   "name": "python",
   "nbconvert_exporter": "python",
   "pygments_lexer": "ipython3",
   "version": "3.9.7"
  }
 },
 "nbformat": 4,
 "nbformat_minor": 5
}
