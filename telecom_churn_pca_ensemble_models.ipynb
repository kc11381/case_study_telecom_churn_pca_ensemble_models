{
 "cells": [
  {
   "cell_type": "markdown",
   "id": "85815f8b",
   "metadata": {},
   "source": [
    "# Telecom Churn case study using PCA and Ensemble\n",
    "\n",
    "### Problem Statement\n",
    "In the telecom industry, customers are able to choose from multiple service providers and actively switch from one operator to another. In this highly competitive market, the telecommunications industry experiences an average of 15-25% annual churn rate. Given the fact that it costs 5-10 times more to acquire a new customer than to retain an existing one, customer retention has now become even more important than customer acquisition.\n",
    "\n",
    "For many incumbent operators, retaining high profitable customers is the number one business\n",
    "goal. To reduce customer churn, telecom companies need to predict which customers are at high risk of churn. In this project, you will analyze customer-level data of a leading telecom firm, build predictive models to identify customers at high risk of churn.\n",
    "\n",
    "In this competition, your goal is to build a machine learning model that is able to predict churning customers based on the features provided for their usage.\n",
    "\n",
    "### Goal\n",
    "It is your job to predict if a customer will churn, given the ~170 columns containing customer behavior, usage patterns, payment patterns, and other features that might be relevant. Your target variable is \"churn_probability\"\n",
    "Note: Make sure your accuracy is greater than the sample submission that is present in the leaderboard"
   ]
  },
  {
   "cell_type": "code",
   "execution_count": 1,
   "id": "a5dfb968",
   "metadata": {},
   "outputs": [],
   "source": [
    "import matplotlib.pyplot as plt\n",
    "import numpy as np\n",
    "import pandas as pd\n",
    "import seaborn as sns\n",
    "import statsmodels.api as sm\n",
    "import warnings\n",
    "\n",
    "from sklearn import metrics\n",
    "from sklearn.decomposition import IncrementalPCA\n",
    "from sklearn.decomposition import PCA\n",
    "from sklearn.ensemble import RandomForestClassifier\n",
    "from sklearn.feature_selection import RFE\n",
    "from sklearn.linear_model import LinearRegression\n",
    "from sklearn.linear_model import LogisticRegression\n",
    "from sklearn.linear_model import Lasso\n",
    "from sklearn.linear_model import Ridge\n",
    "from sklearn.model_selection import GridSearchCV\n",
    "from sklearn.model_selection import RandomizedSearchCV\n",
    "from sklearn.model_selection import train_test_split\n",
    "from sklearn.metrics import accuracy_score\n",
    "from sklearn.metrics import classification_report\n",
    "from sklearn.metrics import confusion_matrix\n",
    "from sklearn.metrics import mean_squared_error\n",
    "from sklearn.metrics import r2_score\n",
    "from sklearn.preprocessing import MinMaxScaler\n",
    "\n",
    "# to ignore the warnings\n",
    "warnings.filterwarnings('ignore')"
   ]
  },
  {
   "cell_type": "markdown",
   "id": "0db327e7",
   "metadata": {},
   "source": [
    "## Step 1. Reading, Understanding and Visualizing the data"
   ]
  },
  {
   "cell_type": "code",
   "execution_count": 2,
   "id": "75b4d852",
   "metadata": {},
   "outputs": [],
   "source": [
    "telecom_train_df = pd.read_csv('train (1).csv')\n",
    "telecom_test_df = pd.read_csv('test (1).csv')\n",
    "telecom_test_sol_df = pd.read_csv('solution (1).csv')"
   ]
  },
  {
   "cell_type": "code",
   "execution_count": 3,
   "id": "aafd7bff",
   "metadata": {},
   "outputs": [
    {
     "data": {
      "text/html": [
       "<div>\n",
       "<style scoped>\n",
       "    .dataframe tbody tr th:only-of-type {\n",
       "        vertical-align: middle;\n",
       "    }\n",
       "\n",
       "    .dataframe tbody tr th {\n",
       "        vertical-align: top;\n",
       "    }\n",
       "\n",
       "    .dataframe thead th {\n",
       "        text-align: right;\n",
       "    }\n",
       "</style>\n",
       "<table border=\"1\" class=\"dataframe\">\n",
       "  <thead>\n",
       "    <tr style=\"text-align: right;\">\n",
       "      <th></th>\n",
       "      <th>id</th>\n",
       "      <th>circle_id</th>\n",
       "      <th>loc_og_t2o_mou</th>\n",
       "      <th>std_og_t2o_mou</th>\n",
       "      <th>loc_ic_t2o_mou</th>\n",
       "      <th>last_date_of_month_6</th>\n",
       "      <th>last_date_of_month_7</th>\n",
       "      <th>last_date_of_month_8</th>\n",
       "      <th>arpu_6</th>\n",
       "      <th>arpu_7</th>\n",
       "      <th>...</th>\n",
       "      <th>sachet_3g_7</th>\n",
       "      <th>sachet_3g_8</th>\n",
       "      <th>fb_user_6</th>\n",
       "      <th>fb_user_7</th>\n",
       "      <th>fb_user_8</th>\n",
       "      <th>aon</th>\n",
       "      <th>aug_vbc_3g</th>\n",
       "      <th>jul_vbc_3g</th>\n",
       "      <th>jun_vbc_3g</th>\n",
       "      <th>churn_probability</th>\n",
       "    </tr>\n",
       "  </thead>\n",
       "  <tbody>\n",
       "    <tr>\n",
       "      <th>0</th>\n",
       "      <td>0</td>\n",
       "      <td>109</td>\n",
       "      <td>0.0</td>\n",
       "      <td>0.0</td>\n",
       "      <td>0.0</td>\n",
       "      <td>6/30/2014</td>\n",
       "      <td>7/31/2014</td>\n",
       "      <td>8/31/2014</td>\n",
       "      <td>31.277</td>\n",
       "      <td>87.009</td>\n",
       "      <td>...</td>\n",
       "      <td>0</td>\n",
       "      <td>0</td>\n",
       "      <td>NaN</td>\n",
       "      <td>NaN</td>\n",
       "      <td>NaN</td>\n",
       "      <td>1958</td>\n",
       "      <td>0.0</td>\n",
       "      <td>0.0</td>\n",
       "      <td>0.0</td>\n",
       "      <td>0</td>\n",
       "    </tr>\n",
       "    <tr>\n",
       "      <th>1</th>\n",
       "      <td>1</td>\n",
       "      <td>109</td>\n",
       "      <td>0.0</td>\n",
       "      <td>0.0</td>\n",
       "      <td>0.0</td>\n",
       "      <td>6/30/2014</td>\n",
       "      <td>7/31/2014</td>\n",
       "      <td>8/31/2014</td>\n",
       "      <td>0.000</td>\n",
       "      <td>122.787</td>\n",
       "      <td>...</td>\n",
       "      <td>0</td>\n",
       "      <td>0</td>\n",
       "      <td>NaN</td>\n",
       "      <td>1.0</td>\n",
       "      <td>NaN</td>\n",
       "      <td>710</td>\n",
       "      <td>0.0</td>\n",
       "      <td>0.0</td>\n",
       "      <td>0.0</td>\n",
       "      <td>0</td>\n",
       "    </tr>\n",
       "    <tr>\n",
       "      <th>2</th>\n",
       "      <td>2</td>\n",
       "      <td>109</td>\n",
       "      <td>0.0</td>\n",
       "      <td>0.0</td>\n",
       "      <td>0.0</td>\n",
       "      <td>6/30/2014</td>\n",
       "      <td>7/31/2014</td>\n",
       "      <td>8/31/2014</td>\n",
       "      <td>60.806</td>\n",
       "      <td>103.176</td>\n",
       "      <td>...</td>\n",
       "      <td>0</td>\n",
       "      <td>0</td>\n",
       "      <td>NaN</td>\n",
       "      <td>NaN</td>\n",
       "      <td>NaN</td>\n",
       "      <td>882</td>\n",
       "      <td>0.0</td>\n",
       "      <td>0.0</td>\n",
       "      <td>0.0</td>\n",
       "      <td>0</td>\n",
       "    </tr>\n",
       "    <tr>\n",
       "      <th>3</th>\n",
       "      <td>3</td>\n",
       "      <td>109</td>\n",
       "      <td>0.0</td>\n",
       "      <td>0.0</td>\n",
       "      <td>0.0</td>\n",
       "      <td>6/30/2014</td>\n",
       "      <td>7/31/2014</td>\n",
       "      <td>8/31/2014</td>\n",
       "      <td>156.362</td>\n",
       "      <td>205.260</td>\n",
       "      <td>...</td>\n",
       "      <td>0</td>\n",
       "      <td>0</td>\n",
       "      <td>NaN</td>\n",
       "      <td>NaN</td>\n",
       "      <td>NaN</td>\n",
       "      <td>982</td>\n",
       "      <td>0.0</td>\n",
       "      <td>0.0</td>\n",
       "      <td>0.0</td>\n",
       "      <td>0</td>\n",
       "    </tr>\n",
       "    <tr>\n",
       "      <th>4</th>\n",
       "      <td>4</td>\n",
       "      <td>109</td>\n",
       "      <td>0.0</td>\n",
       "      <td>0.0</td>\n",
       "      <td>0.0</td>\n",
       "      <td>6/30/2014</td>\n",
       "      <td>7/31/2014</td>\n",
       "      <td>8/31/2014</td>\n",
       "      <td>240.708</td>\n",
       "      <td>128.191</td>\n",
       "      <td>...</td>\n",
       "      <td>1</td>\n",
       "      <td>0</td>\n",
       "      <td>1.0</td>\n",
       "      <td>1.0</td>\n",
       "      <td>1.0</td>\n",
       "      <td>647</td>\n",
       "      <td>0.0</td>\n",
       "      <td>0.0</td>\n",
       "      <td>0.0</td>\n",
       "      <td>0</td>\n",
       "    </tr>\n",
       "  </tbody>\n",
       "</table>\n",
       "<p>5 rows × 172 columns</p>\n",
       "</div>"
      ],
      "text/plain": [
       "   id  circle_id  loc_og_t2o_mou  std_og_t2o_mou  loc_ic_t2o_mou  \\\n",
       "0   0        109             0.0             0.0             0.0   \n",
       "1   1        109             0.0             0.0             0.0   \n",
       "2   2        109             0.0             0.0             0.0   \n",
       "3   3        109             0.0             0.0             0.0   \n",
       "4   4        109             0.0             0.0             0.0   \n",
       "\n",
       "  last_date_of_month_6 last_date_of_month_7 last_date_of_month_8   arpu_6  \\\n",
       "0            6/30/2014            7/31/2014            8/31/2014   31.277   \n",
       "1            6/30/2014            7/31/2014            8/31/2014    0.000   \n",
       "2            6/30/2014            7/31/2014            8/31/2014   60.806   \n",
       "3            6/30/2014            7/31/2014            8/31/2014  156.362   \n",
       "4            6/30/2014            7/31/2014            8/31/2014  240.708   \n",
       "\n",
       "    arpu_7  ...  sachet_3g_7  sachet_3g_8  fb_user_6  fb_user_7  fb_user_8  \\\n",
       "0   87.009  ...            0            0        NaN        NaN        NaN   \n",
       "1  122.787  ...            0            0        NaN        1.0        NaN   \n",
       "2  103.176  ...            0            0        NaN        NaN        NaN   \n",
       "3  205.260  ...            0            0        NaN        NaN        NaN   \n",
       "4  128.191  ...            1            0        1.0        1.0        1.0   \n",
       "\n",
       "    aon  aug_vbc_3g  jul_vbc_3g  jun_vbc_3g  churn_probability  \n",
       "0  1958         0.0         0.0         0.0                  0  \n",
       "1   710         0.0         0.0         0.0                  0  \n",
       "2   882         0.0         0.0         0.0                  0  \n",
       "3   982         0.0         0.0         0.0                  0  \n",
       "4   647         0.0         0.0         0.0                  0  \n",
       "\n",
       "[5 rows x 172 columns]"
      ]
     },
     "execution_count": 3,
     "metadata": {},
     "output_type": "execute_result"
    }
   ],
   "source": [
    "telecom_train_df.head()"
   ]
  },
  {
   "cell_type": "code",
   "execution_count": 4,
   "id": "08ff9072",
   "metadata": {},
   "outputs": [
    {
     "data": {
      "text/html": [
       "<div>\n",
       "<style scoped>\n",
       "    .dataframe tbody tr th:only-of-type {\n",
       "        vertical-align: middle;\n",
       "    }\n",
       "\n",
       "    .dataframe tbody tr th {\n",
       "        vertical-align: top;\n",
       "    }\n",
       "\n",
       "    .dataframe thead th {\n",
       "        text-align: right;\n",
       "    }\n",
       "</style>\n",
       "<table border=\"1\" class=\"dataframe\">\n",
       "  <thead>\n",
       "    <tr style=\"text-align: right;\">\n",
       "      <th></th>\n",
       "      <th>id</th>\n",
       "      <th>circle_id</th>\n",
       "      <th>loc_og_t2o_mou</th>\n",
       "      <th>std_og_t2o_mou</th>\n",
       "      <th>loc_ic_t2o_mou</th>\n",
       "      <th>last_date_of_month_6</th>\n",
       "      <th>last_date_of_month_7</th>\n",
       "      <th>last_date_of_month_8</th>\n",
       "      <th>arpu_6</th>\n",
       "      <th>arpu_7</th>\n",
       "      <th>...</th>\n",
       "      <th>sachet_3g_6</th>\n",
       "      <th>sachet_3g_7</th>\n",
       "      <th>sachet_3g_8</th>\n",
       "      <th>fb_user_6</th>\n",
       "      <th>fb_user_7</th>\n",
       "      <th>fb_user_8</th>\n",
       "      <th>aon</th>\n",
       "      <th>aug_vbc_3g</th>\n",
       "      <th>jul_vbc_3g</th>\n",
       "      <th>jun_vbc_3g</th>\n",
       "    </tr>\n",
       "  </thead>\n",
       "  <tbody>\n",
       "    <tr>\n",
       "      <th>0</th>\n",
       "      <td>69999</td>\n",
       "      <td>109</td>\n",
       "      <td>0.0</td>\n",
       "      <td>0.0</td>\n",
       "      <td>0.0</td>\n",
       "      <td>6/30/2014</td>\n",
       "      <td>7/31/2014</td>\n",
       "      <td>8/31/2014</td>\n",
       "      <td>91.882</td>\n",
       "      <td>65.330</td>\n",
       "      <td>...</td>\n",
       "      <td>0</td>\n",
       "      <td>0</td>\n",
       "      <td>0</td>\n",
       "      <td>NaN</td>\n",
       "      <td>NaN</td>\n",
       "      <td>NaN</td>\n",
       "      <td>1692</td>\n",
       "      <td>0.00</td>\n",
       "      <td>0.00</td>\n",
       "      <td>0.00</td>\n",
       "    </tr>\n",
       "    <tr>\n",
       "      <th>1</th>\n",
       "      <td>70000</td>\n",
       "      <td>109</td>\n",
       "      <td>0.0</td>\n",
       "      <td>0.0</td>\n",
       "      <td>0.0</td>\n",
       "      <td>6/30/2014</td>\n",
       "      <td>7/31/2014</td>\n",
       "      <td>8/31/2014</td>\n",
       "      <td>414.168</td>\n",
       "      <td>515.568</td>\n",
       "      <td>...</td>\n",
       "      <td>0</td>\n",
       "      <td>0</td>\n",
       "      <td>0</td>\n",
       "      <td>NaN</td>\n",
       "      <td>NaN</td>\n",
       "      <td>NaN</td>\n",
       "      <td>2533</td>\n",
       "      <td>0.00</td>\n",
       "      <td>0.00</td>\n",
       "      <td>0.00</td>\n",
       "    </tr>\n",
       "    <tr>\n",
       "      <th>2</th>\n",
       "      <td>70001</td>\n",
       "      <td>109</td>\n",
       "      <td>0.0</td>\n",
       "      <td>0.0</td>\n",
       "      <td>0.0</td>\n",
       "      <td>6/30/2014</td>\n",
       "      <td>7/31/2014</td>\n",
       "      <td>8/31/2014</td>\n",
       "      <td>329.844</td>\n",
       "      <td>434.884</td>\n",
       "      <td>...</td>\n",
       "      <td>0</td>\n",
       "      <td>0</td>\n",
       "      <td>0</td>\n",
       "      <td>NaN</td>\n",
       "      <td>NaN</td>\n",
       "      <td>NaN</td>\n",
       "      <td>277</td>\n",
       "      <td>525.61</td>\n",
       "      <td>758.41</td>\n",
       "      <td>241.84</td>\n",
       "    </tr>\n",
       "    <tr>\n",
       "      <th>3</th>\n",
       "      <td>70002</td>\n",
       "      <td>109</td>\n",
       "      <td>0.0</td>\n",
       "      <td>0.0</td>\n",
       "      <td>0.0</td>\n",
       "      <td>6/30/2014</td>\n",
       "      <td>7/31/2014</td>\n",
       "      <td>8/31/2014</td>\n",
       "      <td>43.550</td>\n",
       "      <td>171.390</td>\n",
       "      <td>...</td>\n",
       "      <td>0</td>\n",
       "      <td>0</td>\n",
       "      <td>0</td>\n",
       "      <td>NaN</td>\n",
       "      <td>NaN</td>\n",
       "      <td>NaN</td>\n",
       "      <td>1244</td>\n",
       "      <td>0.00</td>\n",
       "      <td>0.00</td>\n",
       "      <td>0.00</td>\n",
       "    </tr>\n",
       "    <tr>\n",
       "      <th>4</th>\n",
       "      <td>70003</td>\n",
       "      <td>109</td>\n",
       "      <td>0.0</td>\n",
       "      <td>0.0</td>\n",
       "      <td>0.0</td>\n",
       "      <td>6/30/2014</td>\n",
       "      <td>7/31/2014</td>\n",
       "      <td>8/31/2014</td>\n",
       "      <td>306.854</td>\n",
       "      <td>406.289</td>\n",
       "      <td>...</td>\n",
       "      <td>0</td>\n",
       "      <td>0</td>\n",
       "      <td>0</td>\n",
       "      <td>NaN</td>\n",
       "      <td>NaN</td>\n",
       "      <td>NaN</td>\n",
       "      <td>462</td>\n",
       "      <td>0.00</td>\n",
       "      <td>0.00</td>\n",
       "      <td>0.00</td>\n",
       "    </tr>\n",
       "  </tbody>\n",
       "</table>\n",
       "<p>5 rows × 171 columns</p>\n",
       "</div>"
      ],
      "text/plain": [
       "      id  circle_id  loc_og_t2o_mou  std_og_t2o_mou  loc_ic_t2o_mou  \\\n",
       "0  69999        109             0.0             0.0             0.0   \n",
       "1  70000        109             0.0             0.0             0.0   \n",
       "2  70001        109             0.0             0.0             0.0   \n",
       "3  70002        109             0.0             0.0             0.0   \n",
       "4  70003        109             0.0             0.0             0.0   \n",
       "\n",
       "  last_date_of_month_6 last_date_of_month_7 last_date_of_month_8   arpu_6  \\\n",
       "0            6/30/2014            7/31/2014            8/31/2014   91.882   \n",
       "1            6/30/2014            7/31/2014            8/31/2014  414.168   \n",
       "2            6/30/2014            7/31/2014            8/31/2014  329.844   \n",
       "3            6/30/2014            7/31/2014            8/31/2014   43.550   \n",
       "4            6/30/2014            7/31/2014            8/31/2014  306.854   \n",
       "\n",
       "    arpu_7  ...  sachet_3g_6  sachet_3g_7  sachet_3g_8  fb_user_6  fb_user_7  \\\n",
       "0   65.330  ...            0            0            0        NaN        NaN   \n",
       "1  515.568  ...            0            0            0        NaN        NaN   \n",
       "2  434.884  ...            0            0            0        NaN        NaN   \n",
       "3  171.390  ...            0            0            0        NaN        NaN   \n",
       "4  406.289  ...            0            0            0        NaN        NaN   \n",
       "\n",
       "   fb_user_8   aon  aug_vbc_3g  jul_vbc_3g  jun_vbc_3g  \n",
       "0        NaN  1692        0.00        0.00        0.00  \n",
       "1        NaN  2533        0.00        0.00        0.00  \n",
       "2        NaN   277      525.61      758.41      241.84  \n",
       "3        NaN  1244        0.00        0.00        0.00  \n",
       "4        NaN   462        0.00        0.00        0.00  \n",
       "\n",
       "[5 rows x 171 columns]"
      ]
     },
     "execution_count": 4,
     "metadata": {},
     "output_type": "execute_result"
    }
   ],
   "source": [
    "telecom_test_df.head()"
   ]
  },
  {
   "cell_type": "code",
   "execution_count": 5,
   "id": "c21a3f03",
   "metadata": {},
   "outputs": [
    {
     "data": {
      "text/html": [
       "<div>\n",
       "<style scoped>\n",
       "    .dataframe tbody tr th:only-of-type {\n",
       "        vertical-align: middle;\n",
       "    }\n",
       "\n",
       "    .dataframe tbody tr th {\n",
       "        vertical-align: top;\n",
       "    }\n",
       "\n",
       "    .dataframe thead th {\n",
       "        text-align: right;\n",
       "    }\n",
       "</style>\n",
       "<table border=\"1\" class=\"dataframe\">\n",
       "  <thead>\n",
       "    <tr style=\"text-align: right;\">\n",
       "      <th></th>\n",
       "      <th>id</th>\n",
       "      <th>churn_probability</th>\n",
       "    </tr>\n",
       "  </thead>\n",
       "  <tbody>\n",
       "    <tr>\n",
       "      <th>0</th>\n",
       "      <td>69999</td>\n",
       "      <td>0</td>\n",
       "    </tr>\n",
       "    <tr>\n",
       "      <th>1</th>\n",
       "      <td>70000</td>\n",
       "      <td>0</td>\n",
       "    </tr>\n",
       "    <tr>\n",
       "      <th>2</th>\n",
       "      <td>70001</td>\n",
       "      <td>1</td>\n",
       "    </tr>\n",
       "    <tr>\n",
       "      <th>3</th>\n",
       "      <td>70002</td>\n",
       "      <td>0</td>\n",
       "    </tr>\n",
       "    <tr>\n",
       "      <th>4</th>\n",
       "      <td>70003</td>\n",
       "      <td>0</td>\n",
       "    </tr>\n",
       "  </tbody>\n",
       "</table>\n",
       "</div>"
      ],
      "text/plain": [
       "      id  churn_probability\n",
       "0  69999                  0\n",
       "1  70000                  0\n",
       "2  70001                  1\n",
       "3  70002                  0\n",
       "4  70003                  0"
      ]
     },
     "execution_count": 5,
     "metadata": {},
     "output_type": "execute_result"
    }
   ],
   "source": [
    "telecom_test_sol_df.head()"
   ]
  },
  {
   "cell_type": "code",
   "execution_count": 6,
   "id": "9b3eee97",
   "metadata": {},
   "outputs": [
    {
     "data": {
      "text/plain": [
       "(69999, 172)"
      ]
     },
     "execution_count": 6,
     "metadata": {},
     "output_type": "execute_result"
    }
   ],
   "source": [
    "telecom_train_df.shape"
   ]
  },
  {
   "cell_type": "code",
   "execution_count": 7,
   "id": "ade9e8ac",
   "metadata": {},
   "outputs": [
    {
     "data": {
      "text/plain": [
       "(30000, 171)"
      ]
     },
     "execution_count": 7,
     "metadata": {},
     "output_type": "execute_result"
    }
   ],
   "source": [
    "telecom_test_df.shape"
   ]
  },
  {
   "cell_type": "code",
   "execution_count": 8,
   "id": "6d5176fa",
   "metadata": {},
   "outputs": [
    {
     "data": {
      "text/plain": [
       "Index(['id', 'circle_id', 'loc_og_t2o_mou', 'std_og_t2o_mou', 'loc_ic_t2o_mou',\n",
       "       'last_date_of_month_6', 'last_date_of_month_7', 'last_date_of_month_8',\n",
       "       'arpu_6', 'arpu_7',\n",
       "       ...\n",
       "       'sachet_3g_7', 'sachet_3g_8', 'fb_user_6', 'fb_user_7', 'fb_user_8',\n",
       "       'aon', 'aug_vbc_3g', 'jul_vbc_3g', 'jun_vbc_3g', 'churn_probability'],\n",
       "      dtype='object', length=172)"
      ]
     },
     "execution_count": 8,
     "metadata": {},
     "output_type": "execute_result"
    }
   ],
   "source": [
    "telecom_train_df.columns"
   ]
  },
  {
   "cell_type": "code",
   "execution_count": 9,
   "id": "8cd748c3",
   "metadata": {},
   "outputs": [
    {
     "name": "stdout",
     "output_type": "stream",
     "text": [
      "<class 'pandas.core.frame.DataFrame'>\n",
      "RangeIndex: 69999 entries, 0 to 69998\n",
      "Columns: 172 entries, id to churn_probability\n",
      "dtypes: float64(135), int64(28), object(9)\n",
      "memory usage: 91.9+ MB\n"
     ]
    }
   ],
   "source": [
    "telecom_train_df.info()"
   ]
  },
  {
   "cell_type": "code",
   "execution_count": 10,
   "id": "6803651e",
   "metadata": {},
   "outputs": [
    {
     "data": {
      "text/html": [
       "<div>\n",
       "<style scoped>\n",
       "    .dataframe tbody tr th:only-of-type {\n",
       "        vertical-align: middle;\n",
       "    }\n",
       "\n",
       "    .dataframe tbody tr th {\n",
       "        vertical-align: top;\n",
       "    }\n",
       "\n",
       "    .dataframe thead th {\n",
       "        text-align: right;\n",
       "    }\n",
       "</style>\n",
       "<table border=\"1\" class=\"dataframe\">\n",
       "  <thead>\n",
       "    <tr style=\"text-align: right;\">\n",
       "      <th></th>\n",
       "      <th>id</th>\n",
       "      <th>circle_id</th>\n",
       "      <th>loc_og_t2o_mou</th>\n",
       "      <th>std_og_t2o_mou</th>\n",
       "      <th>loc_ic_t2o_mou</th>\n",
       "      <th>arpu_6</th>\n",
       "      <th>arpu_7</th>\n",
       "      <th>arpu_8</th>\n",
       "      <th>onnet_mou_6</th>\n",
       "      <th>onnet_mou_7</th>\n",
       "      <th>...</th>\n",
       "      <th>sachet_3g_7</th>\n",
       "      <th>sachet_3g_8</th>\n",
       "      <th>fb_user_6</th>\n",
       "      <th>fb_user_7</th>\n",
       "      <th>fb_user_8</th>\n",
       "      <th>aon</th>\n",
       "      <th>aug_vbc_3g</th>\n",
       "      <th>jul_vbc_3g</th>\n",
       "      <th>jun_vbc_3g</th>\n",
       "      <th>churn_probability</th>\n",
       "    </tr>\n",
       "  </thead>\n",
       "  <tbody>\n",
       "    <tr>\n",
       "      <th>count</th>\n",
       "      <td>69999.000000</td>\n",
       "      <td>69999.0</td>\n",
       "      <td>69297.0</td>\n",
       "      <td>69297.0</td>\n",
       "      <td>69297.0</td>\n",
       "      <td>69999.000000</td>\n",
       "      <td>69999.000000</td>\n",
       "      <td>69999.000000</td>\n",
       "      <td>67231.000000</td>\n",
       "      <td>67312.000000</td>\n",
       "      <td>...</td>\n",
       "      <td>69999.000000</td>\n",
       "      <td>69999.000000</td>\n",
       "      <td>17568.000000</td>\n",
       "      <td>17865.000000</td>\n",
       "      <td>18417.000000</td>\n",
       "      <td>69999.000000</td>\n",
       "      <td>69999.000000</td>\n",
       "      <td>69999.000000</td>\n",
       "      <td>69999.00000</td>\n",
       "      <td>69999.000000</td>\n",
       "    </tr>\n",
       "    <tr>\n",
       "      <th>mean</th>\n",
       "      <td>34999.000000</td>\n",
       "      <td>109.0</td>\n",
       "      <td>0.0</td>\n",
       "      <td>0.0</td>\n",
       "      <td>0.0</td>\n",
       "      <td>283.134365</td>\n",
       "      <td>278.185912</td>\n",
       "      <td>278.858826</td>\n",
       "      <td>133.153275</td>\n",
       "      <td>133.894438</td>\n",
       "      <td>...</td>\n",
       "      <td>0.081444</td>\n",
       "      <td>0.085487</td>\n",
       "      <td>0.916325</td>\n",
       "      <td>0.909544</td>\n",
       "      <td>0.890319</td>\n",
       "      <td>1220.639709</td>\n",
       "      <td>68.108597</td>\n",
       "      <td>65.935830</td>\n",
       "      <td>60.07674</td>\n",
       "      <td>0.101887</td>\n",
       "    </tr>\n",
       "    <tr>\n",
       "      <th>std</th>\n",
       "      <td>20207.115084</td>\n",
       "      <td>0.0</td>\n",
       "      <td>0.0</td>\n",
       "      <td>0.0</td>\n",
       "      <td>0.0</td>\n",
       "      <td>334.213918</td>\n",
       "      <td>344.366927</td>\n",
       "      <td>351.924315</td>\n",
       "      <td>299.963093</td>\n",
       "      <td>311.277193</td>\n",
       "      <td>...</td>\n",
       "      <td>0.634547</td>\n",
       "      <td>0.680035</td>\n",
       "      <td>0.276907</td>\n",
       "      <td>0.286842</td>\n",
       "      <td>0.312501</td>\n",
       "      <td>952.426321</td>\n",
       "      <td>269.328659</td>\n",
       "      <td>267.899034</td>\n",
       "      <td>257.22681</td>\n",
       "      <td>0.302502</td>\n",
       "    </tr>\n",
       "    <tr>\n",
       "      <th>min</th>\n",
       "      <td>0.000000</td>\n",
       "      <td>109.0</td>\n",
       "      <td>0.0</td>\n",
       "      <td>0.0</td>\n",
       "      <td>0.0</td>\n",
       "      <td>-2258.709000</td>\n",
       "      <td>-1289.715000</td>\n",
       "      <td>-945.808000</td>\n",
       "      <td>0.000000</td>\n",
       "      <td>0.000000</td>\n",
       "      <td>...</td>\n",
       "      <td>0.000000</td>\n",
       "      <td>0.000000</td>\n",
       "      <td>0.000000</td>\n",
       "      <td>0.000000</td>\n",
       "      <td>0.000000</td>\n",
       "      <td>180.000000</td>\n",
       "      <td>0.000000</td>\n",
       "      <td>0.000000</td>\n",
       "      <td>0.00000</td>\n",
       "      <td>0.000000</td>\n",
       "    </tr>\n",
       "    <tr>\n",
       "      <th>25%</th>\n",
       "      <td>17499.500000</td>\n",
       "      <td>109.0</td>\n",
       "      <td>0.0</td>\n",
       "      <td>0.0</td>\n",
       "      <td>0.0</td>\n",
       "      <td>93.581000</td>\n",
       "      <td>86.714000</td>\n",
       "      <td>84.095000</td>\n",
       "      <td>7.410000</td>\n",
       "      <td>6.675000</td>\n",
       "      <td>...</td>\n",
       "      <td>0.000000</td>\n",
       "      <td>0.000000</td>\n",
       "      <td>1.000000</td>\n",
       "      <td>1.000000</td>\n",
       "      <td>1.000000</td>\n",
       "      <td>468.000000</td>\n",
       "      <td>0.000000</td>\n",
       "      <td>0.000000</td>\n",
       "      <td>0.00000</td>\n",
       "      <td>0.000000</td>\n",
       "    </tr>\n",
       "    <tr>\n",
       "      <th>50%</th>\n",
       "      <td>34999.000000</td>\n",
       "      <td>109.0</td>\n",
       "      <td>0.0</td>\n",
       "      <td>0.0</td>\n",
       "      <td>0.0</td>\n",
       "      <td>197.484000</td>\n",
       "      <td>191.588000</td>\n",
       "      <td>192.234000</td>\n",
       "      <td>34.110000</td>\n",
       "      <td>32.280000</td>\n",
       "      <td>...</td>\n",
       "      <td>0.000000</td>\n",
       "      <td>0.000000</td>\n",
       "      <td>1.000000</td>\n",
       "      <td>1.000000</td>\n",
       "      <td>1.000000</td>\n",
       "      <td>868.000000</td>\n",
       "      <td>0.000000</td>\n",
       "      <td>0.000000</td>\n",
       "      <td>0.00000</td>\n",
       "      <td>0.000000</td>\n",
       "    </tr>\n",
       "    <tr>\n",
       "      <th>75%</th>\n",
       "      <td>52498.500000</td>\n",
       "      <td>109.0</td>\n",
       "      <td>0.0</td>\n",
       "      <td>0.0</td>\n",
       "      <td>0.0</td>\n",
       "      <td>370.791000</td>\n",
       "      <td>365.369500</td>\n",
       "      <td>369.909000</td>\n",
       "      <td>119.390000</td>\n",
       "      <td>115.837500</td>\n",
       "      <td>...</td>\n",
       "      <td>0.000000</td>\n",
       "      <td>0.000000</td>\n",
       "      <td>1.000000</td>\n",
       "      <td>1.000000</td>\n",
       "      <td>1.000000</td>\n",
       "      <td>1813.000000</td>\n",
       "      <td>0.000000</td>\n",
       "      <td>0.000000</td>\n",
       "      <td>0.00000</td>\n",
       "      <td>0.000000</td>\n",
       "    </tr>\n",
       "    <tr>\n",
       "      <th>max</th>\n",
       "      <td>69998.000000</td>\n",
       "      <td>109.0</td>\n",
       "      <td>0.0</td>\n",
       "      <td>0.0</td>\n",
       "      <td>0.0</td>\n",
       "      <td>27731.088000</td>\n",
       "      <td>35145.834000</td>\n",
       "      <td>33543.624000</td>\n",
       "      <td>7376.710000</td>\n",
       "      <td>8157.780000</td>\n",
       "      <td>...</td>\n",
       "      <td>33.000000</td>\n",
       "      <td>41.000000</td>\n",
       "      <td>1.000000</td>\n",
       "      <td>1.000000</td>\n",
       "      <td>1.000000</td>\n",
       "      <td>4337.000000</td>\n",
       "      <td>12916.220000</td>\n",
       "      <td>9165.600000</td>\n",
       "      <td>11166.21000</td>\n",
       "      <td>1.000000</td>\n",
       "    </tr>\n",
       "  </tbody>\n",
       "</table>\n",
       "<p>8 rows × 163 columns</p>\n",
       "</div>"
      ],
      "text/plain": [
       "                 id  circle_id  loc_og_t2o_mou  std_og_t2o_mou  \\\n",
       "count  69999.000000    69999.0         69297.0         69297.0   \n",
       "mean   34999.000000      109.0             0.0             0.0   \n",
       "std    20207.115084        0.0             0.0             0.0   \n",
       "min        0.000000      109.0             0.0             0.0   \n",
       "25%    17499.500000      109.0             0.0             0.0   \n",
       "50%    34999.000000      109.0             0.0             0.0   \n",
       "75%    52498.500000      109.0             0.0             0.0   \n",
       "max    69998.000000      109.0             0.0             0.0   \n",
       "\n",
       "       loc_ic_t2o_mou        arpu_6        arpu_7        arpu_8   onnet_mou_6  \\\n",
       "count         69297.0  69999.000000  69999.000000  69999.000000  67231.000000   \n",
       "mean              0.0    283.134365    278.185912    278.858826    133.153275   \n",
       "std               0.0    334.213918    344.366927    351.924315    299.963093   \n",
       "min               0.0  -2258.709000  -1289.715000   -945.808000      0.000000   \n",
       "25%               0.0     93.581000     86.714000     84.095000      7.410000   \n",
       "50%               0.0    197.484000    191.588000    192.234000     34.110000   \n",
       "75%               0.0    370.791000    365.369500    369.909000    119.390000   \n",
       "max               0.0  27731.088000  35145.834000  33543.624000   7376.710000   \n",
       "\n",
       "        onnet_mou_7  ...   sachet_3g_7   sachet_3g_8     fb_user_6  \\\n",
       "count  67312.000000  ...  69999.000000  69999.000000  17568.000000   \n",
       "mean     133.894438  ...      0.081444      0.085487      0.916325   \n",
       "std      311.277193  ...      0.634547      0.680035      0.276907   \n",
       "min        0.000000  ...      0.000000      0.000000      0.000000   \n",
       "25%        6.675000  ...      0.000000      0.000000      1.000000   \n",
       "50%       32.280000  ...      0.000000      0.000000      1.000000   \n",
       "75%      115.837500  ...      0.000000      0.000000      1.000000   \n",
       "max     8157.780000  ...     33.000000     41.000000      1.000000   \n",
       "\n",
       "          fb_user_7     fb_user_8           aon    aug_vbc_3g    jul_vbc_3g  \\\n",
       "count  17865.000000  18417.000000  69999.000000  69999.000000  69999.000000   \n",
       "mean       0.909544      0.890319   1220.639709     68.108597     65.935830   \n",
       "std        0.286842      0.312501    952.426321    269.328659    267.899034   \n",
       "min        0.000000      0.000000    180.000000      0.000000      0.000000   \n",
       "25%        1.000000      1.000000    468.000000      0.000000      0.000000   \n",
       "50%        1.000000      1.000000    868.000000      0.000000      0.000000   \n",
       "75%        1.000000      1.000000   1813.000000      0.000000      0.000000   \n",
       "max        1.000000      1.000000   4337.000000  12916.220000   9165.600000   \n",
       "\n",
       "        jun_vbc_3g  churn_probability  \n",
       "count  69999.00000       69999.000000  \n",
       "mean      60.07674           0.101887  \n",
       "std      257.22681           0.302502  \n",
       "min        0.00000           0.000000  \n",
       "25%        0.00000           0.000000  \n",
       "50%        0.00000           0.000000  \n",
       "75%        0.00000           0.000000  \n",
       "max    11166.21000           1.000000  \n",
       "\n",
       "[8 rows x 163 columns]"
      ]
     },
     "execution_count": 10,
     "metadata": {},
     "output_type": "execute_result"
    }
   ],
   "source": [
    "telecom_train_df.describe()"
   ]
  },
  {
   "cell_type": "code",
   "execution_count": 11,
   "id": "4be15a7d",
   "metadata": {},
   "outputs": [
    {
     "data": {
      "text/plain": [
       "id                     0\n",
       "circle_id              0\n",
       "loc_og_t2o_mou       702\n",
       "std_og_t2o_mou       702\n",
       "loc_ic_t2o_mou       702\n",
       "                    ... \n",
       "aon                    0\n",
       "aug_vbc_3g             0\n",
       "jul_vbc_3g             0\n",
       "jun_vbc_3g             0\n",
       "churn_probability      0\n",
       "Length: 172, dtype: int64"
      ]
     },
     "execution_count": 11,
     "metadata": {},
     "output_type": "execute_result"
    }
   ],
   "source": [
    "telecom_train_df.isna().sum()"
   ]
  },
  {
   "cell_type": "code",
   "execution_count": 12,
   "id": "be40b9f2",
   "metadata": {},
   "outputs": [
    {
     "data": {
      "text/plain": [
       "id                     int64\n",
       "circle_id              int64\n",
       "loc_og_t2o_mou       float64\n",
       "std_og_t2o_mou       float64\n",
       "loc_ic_t2o_mou       float64\n",
       "                      ...   \n",
       "aon                    int64\n",
       "aug_vbc_3g           float64\n",
       "jul_vbc_3g           float64\n",
       "jun_vbc_3g           float64\n",
       "churn_probability      int64\n",
       "Length: 172, dtype: object"
      ]
     },
     "execution_count": 12,
     "metadata": {},
     "output_type": "execute_result"
    }
   ],
   "source": [
    "telecom_train_df.dtypes"
   ]
  },
  {
   "cell_type": "code",
   "execution_count": 13,
   "id": "a6b6c597",
   "metadata": {},
   "outputs": [],
   "source": [
    "# Columns which we have to impute as Zero as thy should not be dropped based on missing values becuase they are important.\n",
    "rech_cols_to_impute = [x for x in telecom_train_df.columns if 'rech' in x and \n",
    "                       'count' not in x and 'date' not in x and 'num' not in x]\n",
    "telecom_train_df[rech_cols_to_impute] = telecom_train_df[rech_cols_to_impute].apply(lambda x: x.fillna(0))\n",
    "telecom_test_df[rech_cols_to_impute] = telecom_test_df[rech_cols_to_impute].apply(lambda x: x.fillna(0))\n"
   ]
  },
  {
   "cell_type": "markdown",
   "id": "1c81836f",
   "metadata": {},
   "source": [
    "### Dropping rows for both train and test datasets\n",
    " - Rows which are empty"
   ]
  },
  {
   "cell_type": "code",
   "execution_count": 14,
   "id": "060c74b4",
   "metadata": {},
   "outputs": [],
   "source": [
    "telecom_train_df.dropna(axis=0, how='all', inplace=True)\n",
    "telecom_test_df.dropna(axis=0, how='all', inplace=True)"
   ]
  },
  {
   "cell_type": "code",
   "execution_count": 15,
   "id": "af10b97f",
   "metadata": {},
   "outputs": [
    {
     "name": "stdout",
     "output_type": "stream",
     "text": [
      "(69999, 172)\n",
      "(30000, 171)\n"
     ]
    }
   ],
   "source": [
    "print(telecom_train_df.shape)\n",
    "print(telecom_test_df.shape)"
   ]
  },
  {
   "cell_type": "markdown",
   "id": "8e06618c",
   "metadata": {},
   "source": [
    "### Dropping columns for both train and test datasets\n",
    "\n",
    "    - Not needed columns like Id, last_date_of_month_6 etc.\n",
    "    - Columns having more than 70% values as null"
   ]
  },
  {
   "cell_type": "code",
   "execution_count": 16,
   "id": "abd04209",
   "metadata": {},
   "outputs": [],
   "source": [
    "# For us dates doesn't matter as long as customer is doing a recharge.\n",
    "cols_to_delete = ['id', 'last_date_of_month_6', 'last_date_of_month_7', 'last_date_of_month_8',\n",
    "                  'date_of_last_rech_data_6', 'date_of_last_rech_data_7', 'date_of_last_rech_data_8',\n",
    "                  'date_of_last_rech_6', 'date_of_last_rech_7', 'date_of_last_rech_8'\n",
    "                 ]\n",
    "telecom_train_df.drop(cols_to_delete, axis=1, inplace=True)\n",
    "telecom_test_df.drop(cols_to_delete, axis=1, inplace=True)"
   ]
  },
  {
   "cell_type": "code",
   "execution_count": 17,
   "id": "4d5907c5",
   "metadata": {},
   "outputs": [
    {
     "data": {
      "text/plain": [
       "arpu_3g_8           0.74\n",
       "night_pck_user_8    0.74\n",
       "night_pck_user_7    0.74\n",
       "arpu_2g_8           0.74\n",
       "arpu_2g_7           0.74\n",
       "fb_user_7           0.74\n",
       "arpu_3g_7           0.74\n",
       "fb_user_8           0.74\n",
       "count_rech_3g_8     0.74\n",
       "count_rech_3g_7     0.74\n",
       "count_rech_2g_8     0.74\n",
       "count_rech_2g_7     0.74\n",
       "arpu_2g_6           0.75\n",
       "count_rech_3g_6     0.75\n",
       "night_pck_user_6    0.75\n",
       "fb_user_6           0.75\n",
       "arpu_3g_6           0.75\n",
       "count_rech_2g_6     0.75\n",
       "dtype: float64"
      ]
     },
     "execution_count": 17,
     "metadata": {},
     "output_type": "execute_result"
    }
   ],
   "source": [
    "# to check the % of null values\n",
    "round((pd.isnull(telecom_train_df).sum()/len(telecom_train_df.index)),2)[pd.isnull(telecom_train_df).sum()/ len(telecom_train_df.index) > 0.70].sort_values()"
   ]
  },
  {
   "cell_type": "code",
   "execution_count": 18,
   "id": "af4da69b",
   "metadata": {},
   "outputs": [
    {
     "data": {
      "text/plain": [
       "18"
      ]
     },
     "execution_count": 18,
     "metadata": {},
     "output_type": "execute_result"
    }
   ],
   "source": [
    "# count of missing data > 70% columns in train dataset\n",
    "len(round((pd.isnull(telecom_train_df).sum()/len(telecom_train_df.index)),2)[pd.isnull(telecom_train_df).sum()/ len(telecom_train_df.index) > 0.70].sort_values())"
   ]
  },
  {
   "cell_type": "code",
   "execution_count": 19,
   "id": "08b6ed61",
   "metadata": {},
   "outputs": [
    {
     "data": {
      "text/plain": [
       "18"
      ]
     },
     "execution_count": 19,
     "metadata": {},
     "output_type": "execute_result"
    }
   ],
   "source": [
    "# count of missing data > 70% columns in test dataset\n",
    "len(round((pd.isnull(telecom_test_df).sum()/len(telecom_test_df.index)),2)[pd.isnull(telecom_test_df).sum()/ len(telecom_test_df.index) > 0.70].sort_values())"
   ]
  },
  {
   "cell_type": "markdown",
   "id": "91b77121",
   "metadata": {},
   "source": [
    "### As we have more than 70% data as null for 18 columns in train and test, we are dropping these columns from dataset."
   ]
  },
  {
   "cell_type": "code",
   "execution_count": 20,
   "id": "176525b2",
   "metadata": {},
   "outputs": [],
   "source": [
    "cols_to_delete = ((pd.isnull(telecom_train_df).sum()/len(telecom_train_df.index))[pd.isnull(telecom_train_df).sum()/ len(telecom_train_df.index) > 0.70].sort_values()).keys()"
   ]
  },
  {
   "cell_type": "code",
   "execution_count": 21,
   "id": "decb3b20",
   "metadata": {},
   "outputs": [
    {
     "name": "stdout",
     "output_type": "stream",
     "text": [
      "['arpu_3g_8', 'night_pck_user_8', 'arpu_2g_8', 'count_rech_3g_8', 'fb_user_8', 'count_rech_2g_8', 'arpu_3g_7', 'fb_user_7', 'arpu_2g_7', 'night_pck_user_7', 'count_rech_2g_7', 'count_rech_3g_7', 'count_rech_3g_6', 'arpu_3g_6', 'arpu_2g_6', 'night_pck_user_6', 'fb_user_6', 'count_rech_2g_6']\n"
     ]
    }
   ],
   "source": [
    "cols_to_delete = cols_to_delete.to_list()\n",
    "print(cols_to_delete)"
   ]
  },
  {
   "cell_type": "code",
   "execution_count": 22,
   "id": "03312c5b",
   "metadata": {},
   "outputs": [],
   "source": [
    "telecom_train_df = telecom_train_df.drop(cols_to_delete, axis=1)"
   ]
  },
  {
   "cell_type": "code",
   "execution_count": 23,
   "id": "be9a60c3",
   "metadata": {},
   "outputs": [
    {
     "data": {
      "text/plain": [
       "(69999, 144)"
      ]
     },
     "execution_count": 23,
     "metadata": {},
     "output_type": "execute_result"
    }
   ],
   "source": [
    "telecom_train_df.shape"
   ]
  },
  {
   "cell_type": "code",
   "execution_count": 24,
   "id": "8ada9939",
   "metadata": {},
   "outputs": [],
   "source": [
    "telecom_test_df = telecom_test_df.drop(cols_to_delete, axis=1)"
   ]
  },
  {
   "cell_type": "code",
   "execution_count": 25,
   "id": "aa95c6a9",
   "metadata": {},
   "outputs": [
    {
     "data": {
      "text/plain": [
       "(30000, 143)"
      ]
     },
     "execution_count": 25,
     "metadata": {},
     "output_type": "execute_result"
    }
   ],
   "source": [
    "telecom_test_df.shape"
   ]
  },
  {
   "cell_type": "markdown",
   "id": "4e359e28",
   "metadata": {},
   "source": [
    "## Lets check the data types of columns now"
   ]
  },
  {
   "cell_type": "code",
   "execution_count": 26,
   "id": "51cfe2ea",
   "metadata": {},
   "outputs": [
    {
     "name": "stdout",
     "output_type": "stream",
     "text": [
      "<class 'pandas.core.frame.DataFrame'>\n",
      "Int64Index: 69999 entries, 0 to 69998\n",
      "Columns: 144 entries, circle_id to churn_probability\n",
      "dtypes: float64(117), int64(27)\n",
      "memory usage: 77.4 MB\n"
     ]
    }
   ],
   "source": [
    "telecom_train_df.info()"
   ]
  },
  {
   "cell_type": "code",
   "execution_count": 27,
   "id": "d47ca287",
   "metadata": {},
   "outputs": [
    {
     "name": "stdout",
     "output_type": "stream",
     "text": [
      "<class 'pandas.core.frame.DataFrame'>\n",
      "Int64Index: 30000 entries, 0 to 29999\n",
      "Columns: 143 entries, circle_id to jun_vbc_3g\n",
      "dtypes: float64(117), int64(26)\n",
      "memory usage: 33.0 MB\n"
     ]
    }
   ],
   "source": [
    "telecom_test_df.info()"
   ]
  },
  {
   "cell_type": "markdown",
   "id": "b0444c3e",
   "metadata": {},
   "source": [
    "### We can see now we don't have any categorical data, all are numerical data only."
   ]
  },
  {
   "cell_type": "markdown",
   "id": "da80afd3",
   "metadata": {},
   "source": [
    "### Imputing the na values with\n",
    " - Median for numerical variables\n",
    " - Mode for categorical variables - Not needed in out this case."
   ]
  },
  {
   "cell_type": "code",
   "execution_count": 28,
   "id": "3ce3ad7a",
   "metadata": {},
   "outputs": [],
   "source": [
    "# A generic method to impute na\n",
    "def replace_na(df, columns, data_type):\n",
    "    for col in columns:\n",
    "        if data_type == 'categorical':\n",
    "            value = pd.to_datetime(df[col]).mode()\n",
    "        else:\n",
    "            value = df[col].median()\n",
    "        df[col].fillna(value, inplace=True)\n",
    "    return df"
   ]
  },
  {
   "cell_type": "code",
   "execution_count": 29,
   "id": "b802153c",
   "metadata": {},
   "outputs": [],
   "source": [
    "telecom_train_df = replace_na(telecom_train_df, telecom_train_df.columns, 'numerical')\n",
    "telecom_test_df = replace_na(telecom_test_df, telecom_test_df.columns, 'numerical')"
   ]
  },
  {
   "cell_type": "markdown",
   "id": "8a21f588",
   "metadata": {},
   "source": [
    "### Lets check for unique entries in train and test dataset"
   ]
  },
  {
   "cell_type": "code",
   "execution_count": 30,
   "id": "4bafbc9c",
   "metadata": {},
   "outputs": [],
   "source": [
    "def cols_to_delete_unique(df, df_columns, threshold=4):\n",
    "    # threshold=4 means column has only 1 unique value\n",
    "    # eg. telecom_train_df['circle_id'].describe().unique() --> array([30000.,   109.,     0.])\n",
    "    # Here because there are all 109 in column, we have only 3 entries in array.\n",
    "    cols_to_delete = []\n",
    "    for column in df_columns:\n",
    "        if len(df[column].describe().unique()) < threshold:\n",
    "            cols_to_delete.append(column)\n",
    "    \n",
    "    return cols_to_delete"
   ]
  },
  {
   "cell_type": "code",
   "execution_count": 31,
   "id": "bf0895de",
   "metadata": {},
   "outputs": [
    {
     "name": "stdout",
     "output_type": "stream",
     "text": [
      "(69999, 144)\n",
      "(30000, 143)\n"
     ]
    }
   ],
   "source": [
    "print(telecom_train_df.shape)\n",
    "print(telecom_test_df.shape)"
   ]
  },
  {
   "cell_type": "code",
   "execution_count": 32,
   "id": "8c597e15",
   "metadata": {},
   "outputs": [
    {
     "name": "stdout",
     "output_type": "stream",
     "text": [
      "(69999, 134)\n",
      "(30000, 133)\n"
     ]
    }
   ],
   "source": [
    "# on train data\n",
    "telecom_train_df = telecom_train_df.drop(cols_to_delete_unique(telecom_train_df, telecom_train_df.columns), axis=1)\n",
    "print(telecom_train_df.shape)\n",
    "\n",
    "# on test data\n",
    "telecom_test_df = telecom_test_df.drop(cols_to_delete_unique(telecom_test_df, telecom_test_df.columns), axis=1)\n",
    "print(telecom_test_df.shape)"
   ]
  },
  {
   "cell_type": "markdown",
   "id": "20f6d3fb",
   "metadata": {},
   "source": [
    "### Lets find the high value customers based on recharge done in 6th and 7th month and update dataframe"
   ]
  },
  {
   "cell_type": "markdown",
   "id": "1e6656b1",
   "metadata": {},
   "source": [
    "### For train data"
   ]
  },
  {
   "cell_type": "code",
   "execution_count": 33,
   "id": "ea5fecfd",
   "metadata": {},
   "outputs": [
    {
     "data": {
      "text/plain": [
       "477.5"
      ]
     },
     "execution_count": 33,
     "metadata": {},
     "output_type": "execute_result"
    }
   ],
   "source": [
    "# total data recharge in 6th, 7th and 8th months\n",
    "telecom_train_df[\"total_data_recharge_amnt_6\"] = telecom_train_df.total_rech_data_6 * telecom_train_df.av_rech_amt_data_6\n",
    "telecom_train_df[\"total_data_recharge_amnt_7\"] = telecom_train_df.total_rech_data_7 * telecom_train_df.av_rech_amt_data_7\n",
    "telecom_train_df[\"total_data_recharge_amnt_8\"] = telecom_train_df.total_rech_data_8 * telecom_train_df.av_rech_amt_data_8\n",
    "\n",
    "# total amount spent on recharge in 6th, 7th and 8th months\n",
    "telecom_train_df[\"total_recharge_amnt_6\"] = telecom_train_df.total_rech_amt_6 + telecom_train_df.total_data_recharge_amnt_6\n",
    "telecom_train_df[\"total_recharge_amnt_7\"] = telecom_train_df.total_rech_amt_7 + telecom_train_df.total_data_recharge_amnt_7\n",
    "telecom_train_df[\"total_recharge_amnt_8\"] = telecom_train_df.total_rech_amt_8 + telecom_train_df.total_data_recharge_amnt_8\n",
    "\n",
    "# average recharge for 6th and 7th month\n",
    "telecom_train_df['average_amnt_6_7'] = (telecom_train_df[\"total_recharge_amnt_6\"] + telecom_train_df[\"total_recharge_amnt_7\"])/2\n",
    "\n",
    "# 70th percentile of average_amnt_6_7\n",
    "telecom_train_df['average_amnt_6_7'].quantile(.70)"
   ]
  },
  {
   "cell_type": "markdown",
   "id": "0768613e",
   "metadata": {},
   "source": [
    "## Filter dataset based on average_amnt_6_7 (70th percentile for train dataset is 477.5)"
   ]
  },
  {
   "cell_type": "code",
   "execution_count": 34,
   "id": "5af14b93",
   "metadata": {},
   "outputs": [],
   "source": [
    "telecom_train_df = telecom_train_df[telecom_train_df[\"average_amnt_6_7\"]>= telecom_train_df[\"average_amnt_6_7\"].quantile(.70)]"
   ]
  },
  {
   "cell_type": "code",
   "execution_count": 35,
   "id": "982270cb",
   "metadata": {},
   "outputs": [
    {
     "data": {
      "text/plain": [
       "(21013, 141)"
      ]
     },
     "execution_count": 35,
     "metadata": {},
     "output_type": "execute_result"
    }
   ],
   "source": [
    "telecom_train_df.shape"
   ]
  },
  {
   "cell_type": "markdown",
   "id": "e4db1002",
   "metadata": {},
   "source": [
    "## Lets visualize the 8th month and average_amnt_6_7 months data to check behavior pattern of customers"
   ]
  },
  {
   "cell_type": "code",
   "execution_count": 36,
   "id": "34e0ab59",
   "metadata": {},
   "outputs": [],
   "source": [
    "# Look it later\n",
    "#plt.scatter(telecom_train_df[['average_amnt_6_7', 'total_recharge_amnt_8']])\n",
    "#plt.show()\n",
    "#sns.\n",
    "#telecom_train_df.plot.scatter(x='average_amnt_6_7', y='total_recharge_amnt_8')\n",
    "#telecom_train_df.DataFrame(np.random.rand(10, 3), columns =['average_amnt_6_7', 'total_recharge_amnt_8'])\n",
    "\n",
    "#telecom_train_df.plot.bar(x=\"average_amnt_6_7\", y=\"total_recharge_amnt_8\", rot=70);\n",
    "\n",
    "#ig, ax = plt.subplots()\n",
    "\n",
    "#ax.plot(telecom_train_df['average_amnt_6_7'], telecom_train_df['total_recharge_amnt_8'])\n",
    "#plt.show()"
   ]
  },
  {
   "cell_type": "markdown",
   "id": "40627e53",
   "metadata": {},
   "source": [
    "## Lets focus on Outliers now and treat them"
   ]
  },
  {
   "cell_type": "code",
   "execution_count": 39,
   "id": "d0b9f1cf",
   "metadata": {},
   "outputs": [],
   "source": [
    "# Generic method to remove outliers\n",
    "def remove_outliers(df, features):\n",
    "    for feature in features:\n",
    "        q1 = df[feature].quantile(0.25)\n",
    "        q3 = df[feature].quantile(0.99)\n",
    "        iqr = q3-q1\n",
    "        lower_value  = q1 - (1.5 * iqr)\n",
    "        higer_value = q3 + (1.5 * iqr)\n",
    "        df = df[(df[feature] <= higer_value) & (df[feature] >= lower_value)]\n",
    "    return df"
   ]
  },
  {
   "cell_type": "code",
   "execution_count": 40,
   "id": "537a1234",
   "metadata": {},
   "outputs": [],
   "source": [
    "#telecom_train_df = remove_outliers(telecom_train_df, telecom_train_df.columns)\n",
    "#telecom_test_df = remove_outliers(telecom_test_df, telecom_test_df.columns)"
   ]
  },
  {
   "cell_type": "code",
   "execution_count": 41,
   "id": "09c79cc2",
   "metadata": {},
   "outputs": [
    {
     "data": {
      "text/plain": [
       "(21013, 141)"
      ]
     },
     "execution_count": 41,
     "metadata": {},
     "output_type": "execute_result"
    }
   ],
   "source": [
    "telecom_train_df.shape"
   ]
  },
  {
   "cell_type": "code",
   "execution_count": 42,
   "id": "c7911de6",
   "metadata": {},
   "outputs": [
    {
     "data": {
      "text/plain": [
       "(30000, 140)"
      ]
     },
     "execution_count": 42,
     "metadata": {},
     "output_type": "execute_result"
    }
   ],
   "source": [
    "telecom_test_df.shape"
   ]
  },
  {
   "cell_type": "markdown",
   "id": "ad731d80",
   "metadata": {},
   "source": [
    "## Let's check for Data imbalance here"
   ]
  },
  {
   "cell_type": "code",
   "execution_count": 43,
   "id": "d7df398d",
   "metadata": {},
   "outputs": [],
   "source": [
    "churn_data_rows = telecom_train_df['churn_probability'].sum()"
   ]
  },
  {
   "cell_type": "code",
   "execution_count": 44,
   "id": "addc0c33",
   "metadata": {},
   "outputs": [
    {
     "data": {
      "text/plain": [
       "8.275829248560415"
      ]
     },
     "execution_count": 44,
     "metadata": {},
     "output_type": "execute_result"
    }
   ],
   "source": [
    "churn_data_rows/len(telecom_train_df) * 100"
   ]
  },
  {
   "cell_type": "markdown",
   "id": "8fa850d6",
   "metadata": {},
   "source": [
    "### We can see that there is a data imbalance. We have only about 8.28% of data as Churn and 91.72% as not churn.\n",
    "### So we need to apply data imbalance technique. We will use SMOTE."
   ]
  },
  {
   "cell_type": "markdown",
   "id": "0624b7f7",
   "metadata": {},
   "source": [
    "## Dividing the data from telecom_train_df to train the model"
   ]
  },
  {
   "cell_type": "code",
   "execution_count": 45,
   "id": "2c3467e0",
   "metadata": {},
   "outputs": [],
   "source": [
    "y = telecom_train_df['churn_probability']\n",
    "X = telecom_train_df.drop(['churn_probability'], axis=1)\n",
    "\n",
    "telecom_train_df.drop('churn_probability', axis=1, inplace=True)"
   ]
  },
  {
   "cell_type": "code",
   "execution_count": 46,
   "id": "b3edc2c2",
   "metadata": {},
   "outputs": [],
   "source": [
    "# Splitting the data into test and train\n",
    "X_train, X_test, y_train, y_test = train_test_split(X, y, train_size=0.7, test_size=0.3, random_state=100)"
   ]
  },
  {
   "cell_type": "markdown",
   "id": "93ad1282",
   "metadata": {},
   "source": [
    "## Taking a backup of variables"
   ]
  },
  {
   "cell_type": "code",
   "execution_count": 47,
   "id": "20dae04f",
   "metadata": {},
   "outputs": [],
   "source": [
    "X_train_ori, X_test_ori, y_train_ori, y_test_ori = X_train.copy(), X_test.copy(), y_train.copy(), y_test.copy()"
   ]
  },
  {
   "cell_type": "markdown",
   "id": "5496cd44",
   "metadata": {},
   "source": [
    "## Rescaling of the variables\n",
    "\n",
    "- We will use Min-Max scaling (Normalization) --> compresses all the data between 0 and 1"
   ]
  },
  {
   "cell_type": "code",
   "execution_count": 48,
   "id": "7ad21932",
   "metadata": {},
   "outputs": [
    {
     "data": {
      "text/html": [
       "<div>\n",
       "<style scoped>\n",
       "    .dataframe tbody tr th:only-of-type {\n",
       "        vertical-align: middle;\n",
       "    }\n",
       "\n",
       "    .dataframe tbody tr th {\n",
       "        vertical-align: top;\n",
       "    }\n",
       "\n",
       "    .dataframe thead th {\n",
       "        text-align: right;\n",
       "    }\n",
       "</style>\n",
       "<table border=\"1\" class=\"dataframe\">\n",
       "  <thead>\n",
       "    <tr style=\"text-align: right;\">\n",
       "      <th></th>\n",
       "      <th>arpu_6</th>\n",
       "      <th>arpu_7</th>\n",
       "      <th>arpu_8</th>\n",
       "      <th>onnet_mou_6</th>\n",
       "      <th>onnet_mou_7</th>\n",
       "      <th>onnet_mou_8</th>\n",
       "      <th>offnet_mou_6</th>\n",
       "      <th>offnet_mou_7</th>\n",
       "      <th>offnet_mou_8</th>\n",
       "      <th>roam_ic_mou_6</th>\n",
       "      <th>...</th>\n",
       "      <th>aug_vbc_3g</th>\n",
       "      <th>jul_vbc_3g</th>\n",
       "      <th>jun_vbc_3g</th>\n",
       "      <th>total_data_recharge_amnt_6</th>\n",
       "      <th>total_data_recharge_amnt_7</th>\n",
       "      <th>total_data_recharge_amnt_8</th>\n",
       "      <th>total_recharge_amnt_6</th>\n",
       "      <th>total_recharge_amnt_7</th>\n",
       "      <th>total_recharge_amnt_8</th>\n",
       "      <th>average_amnt_6_7</th>\n",
       "    </tr>\n",
       "  </thead>\n",
       "  <tbody>\n",
       "    <tr>\n",
       "      <th>6968</th>\n",
       "      <td>0.127277</td>\n",
       "      <td>0.274576</td>\n",
       "      <td>0.081830</td>\n",
       "      <td>0.004624</td>\n",
       "      <td>0.004018</td>\n",
       "      <td>0.002985</td>\n",
       "      <td>0.011537</td>\n",
       "      <td>0.040985</td>\n",
       "      <td>0.006554</td>\n",
       "      <td>0.000000</td>\n",
       "      <td>...</td>\n",
       "      <td>0.000000</td>\n",
       "      <td>0.002051</td>\n",
       "      <td>0.000000</td>\n",
       "      <td>0.000000</td>\n",
       "      <td>0.000000</td>\n",
       "      <td>0.000000</td>\n",
       "      <td>0.000000</td>\n",
       "      <td>0.096264</td>\n",
       "      <td>0.000000</td>\n",
       "      <td>0.069171</td>\n",
       "    </tr>\n",
       "    <tr>\n",
       "      <th>42203</th>\n",
       "      <td>0.156166</td>\n",
       "      <td>0.094305</td>\n",
       "      <td>0.083632</td>\n",
       "      <td>0.066057</td>\n",
       "      <td>0.041462</td>\n",
       "      <td>0.074009</td>\n",
       "      <td>0.065428</td>\n",
       "      <td>0.053213</td>\n",
       "      <td>0.049054</td>\n",
       "      <td>0.000000</td>\n",
       "      <td>...</td>\n",
       "      <td>0.000000</td>\n",
       "      <td>0.000000</td>\n",
       "      <td>0.000000</td>\n",
       "      <td>0.000000</td>\n",
       "      <td>0.000000</td>\n",
       "      <td>0.003787</td>\n",
       "      <td>0.009557</td>\n",
       "      <td>0.009933</td>\n",
       "      <td>0.016496</td>\n",
       "      <td>0.002008</td>\n",
       "    </tr>\n",
       "    <tr>\n",
       "      <th>18406</th>\n",
       "      <td>0.151447</td>\n",
       "      <td>0.122733</td>\n",
       "      <td>0.087708</td>\n",
       "      <td>0.015153</td>\n",
       "      <td>0.016084</td>\n",
       "      <td>0.008306</td>\n",
       "      <td>0.056327</td>\n",
       "      <td>0.259820</td>\n",
       "      <td>0.136117</td>\n",
       "      <td>0.005055</td>\n",
       "      <td>...</td>\n",
       "      <td>0.000000</td>\n",
       "      <td>0.000000</td>\n",
       "      <td>0.000000</td>\n",
       "      <td>0.000000</td>\n",
       "      <td>0.000000</td>\n",
       "      <td>0.000000</td>\n",
       "      <td>0.008632</td>\n",
       "      <td>0.019367</td>\n",
       "      <td>0.017273</td>\n",
       "      <td>0.009450</td>\n",
       "    </tr>\n",
       "    <tr>\n",
       "      <th>21455</th>\n",
       "      <td>0.171177</td>\n",
       "      <td>0.128305</td>\n",
       "      <td>0.077781</td>\n",
       "      <td>0.009636</td>\n",
       "      <td>0.010909</td>\n",
       "      <td>0.006579</td>\n",
       "      <td>0.081607</td>\n",
       "      <td>0.121132</td>\n",
       "      <td>0.038009</td>\n",
       "      <td>0.005166</td>\n",
       "      <td>...</td>\n",
       "      <td>0.029661</td>\n",
       "      <td>0.043865</td>\n",
       "      <td>0.039021</td>\n",
       "      <td>0.000000</td>\n",
       "      <td>0.011038</td>\n",
       "      <td>0.011124</td>\n",
       "      <td>0.015034</td>\n",
       "      <td>0.032992</td>\n",
       "      <td>0.023503</td>\n",
       "      <td>0.026840</td>\n",
       "    </tr>\n",
       "    <tr>\n",
       "      <th>66143</th>\n",
       "      <td>0.138174</td>\n",
       "      <td>0.087866</td>\n",
       "      <td>0.074838</td>\n",
       "      <td>0.000000</td>\n",
       "      <td>0.006171</td>\n",
       "      <td>0.001633</td>\n",
       "      <td>0.000000</td>\n",
       "      <td>0.033354</td>\n",
       "      <td>0.020053</td>\n",
       "      <td>0.000000</td>\n",
       "      <td>...</td>\n",
       "      <td>0.098218</td>\n",
       "      <td>0.000000</td>\n",
       "      <td>0.000000</td>\n",
       "      <td>0.043938</td>\n",
       "      <td>0.000000</td>\n",
       "      <td>0.016759</td>\n",
       "      <td>0.045971</td>\n",
       "      <td>0.006063</td>\n",
       "      <td>0.026593</td>\n",
       "      <td>0.029892</td>\n",
       "    </tr>\n",
       "  </tbody>\n",
       "</table>\n",
       "<p>5 rows × 140 columns</p>\n",
       "</div>"
      ],
      "text/plain": [
       "         arpu_6    arpu_7    arpu_8  onnet_mou_6  onnet_mou_7  onnet_mou_8  \\\n",
       "6968   0.127277  0.274576  0.081830     0.004624     0.004018     0.002985   \n",
       "42203  0.156166  0.094305  0.083632     0.066057     0.041462     0.074009   \n",
       "18406  0.151447  0.122733  0.087708     0.015153     0.016084     0.008306   \n",
       "21455  0.171177  0.128305  0.077781     0.009636     0.010909     0.006579   \n",
       "66143  0.138174  0.087866  0.074838     0.000000     0.006171     0.001633   \n",
       "\n",
       "       offnet_mou_6  offnet_mou_7  offnet_mou_8  roam_ic_mou_6  ...  \\\n",
       "6968       0.011537      0.040985      0.006554       0.000000  ...   \n",
       "42203      0.065428      0.053213      0.049054       0.000000  ...   \n",
       "18406      0.056327      0.259820      0.136117       0.005055  ...   \n",
       "21455      0.081607      0.121132      0.038009       0.005166  ...   \n",
       "66143      0.000000      0.033354      0.020053       0.000000  ...   \n",
       "\n",
       "       aug_vbc_3g  jul_vbc_3g  jun_vbc_3g  total_data_recharge_amnt_6  \\\n",
       "6968     0.000000    0.002051    0.000000                    0.000000   \n",
       "42203    0.000000    0.000000    0.000000                    0.000000   \n",
       "18406    0.000000    0.000000    0.000000                    0.000000   \n",
       "21455    0.029661    0.043865    0.039021                    0.000000   \n",
       "66143    0.098218    0.000000    0.000000                    0.043938   \n",
       "\n",
       "       total_data_recharge_amnt_7  total_data_recharge_amnt_8  \\\n",
       "6968                     0.000000                    0.000000   \n",
       "42203                    0.000000                    0.003787   \n",
       "18406                    0.000000                    0.000000   \n",
       "21455                    0.011038                    0.011124   \n",
       "66143                    0.000000                    0.016759   \n",
       "\n",
       "       total_recharge_amnt_6  total_recharge_amnt_7  total_recharge_amnt_8  \\\n",
       "6968                0.000000               0.096264               0.000000   \n",
       "42203               0.009557               0.009933               0.016496   \n",
       "18406               0.008632               0.019367               0.017273   \n",
       "21455               0.015034               0.032992               0.023503   \n",
       "66143               0.045971               0.006063               0.026593   \n",
       "\n",
       "       average_amnt_6_7  \n",
       "6968           0.069171  \n",
       "42203          0.002008  \n",
       "18406          0.009450  \n",
       "21455          0.026840  \n",
       "66143          0.029892  \n",
       "\n",
       "[5 rows x 140 columns]"
      ]
     },
     "execution_count": 48,
     "metadata": {},
     "output_type": "execute_result"
    }
   ],
   "source": [
    "# Creating MinMaxScaler object\n",
    "scaler = MinMaxScaler()\n",
    "# fit on data\n",
    "# removed churn_probability becuase test data is not having it.\n",
    "# Also churn_probability is having 0 and 1 only. So it need not be scaled.\n",
    "train_numerical_columns = telecom_train_df.columns.to_list()\n",
    "X_train[train_numerical_columns] = scaler.fit_transform(X_train[train_numerical_columns])\n",
    "X_train.head()\n",
    "# So all numberic values are now between 0 and 1"
   ]
  },
  {
   "cell_type": "code",
   "execution_count": 49,
   "id": "e87381ac",
   "metadata": {},
   "outputs": [],
   "source": [
    "from imblearn.over_sampling import SMOTE ## Comments to be fixed "
   ]
  },
  {
   "cell_type": "code",
   "execution_count": 50,
   "id": "37e1ef44",
   "metadata": {},
   "outputs": [],
   "source": [
    "X_resampled, y_resampled = SMOTE().fit_resample(X_train, y_train)"
   ]
  },
  {
   "cell_type": "code",
   "execution_count": 51,
   "id": "90982153",
   "metadata": {},
   "outputs": [
    {
     "data": {
      "text/plain": [
       "(27020, 140)"
      ]
     },
     "execution_count": 51,
     "metadata": {},
     "output_type": "execute_result"
    }
   ],
   "source": [
    "X_resampled.shape"
   ]
  },
  {
   "cell_type": "code",
   "execution_count": 52,
   "id": "5a229479",
   "metadata": {},
   "outputs": [
    {
     "data": {
      "text/plain": [
       "50.0"
      ]
     },
     "execution_count": 52,
     "metadata": {},
     "output_type": "execute_result"
    }
   ],
   "source": [
    "sum(y_resampled)/len(y_resampled) * 100"
   ]
  },
  {
   "cell_type": "markdown",
   "id": "c0f8f8db",
   "metadata": {},
   "source": [
    "## Now there is no data imbalance."
   ]
  },
  {
   "cell_type": "code",
   "execution_count": 53,
   "id": "b84d8439",
   "metadata": {},
   "outputs": [
    {
     "data": {
      "text/html": [
       "<div>\n",
       "<style scoped>\n",
       "    .dataframe tbody tr th:only-of-type {\n",
       "        vertical-align: middle;\n",
       "    }\n",
       "\n",
       "    .dataframe tbody tr th {\n",
       "        vertical-align: top;\n",
       "    }\n",
       "\n",
       "    .dataframe thead th {\n",
       "        text-align: right;\n",
       "    }\n",
       "</style>\n",
       "<table border=\"1\" class=\"dataframe\">\n",
       "  <thead>\n",
       "    <tr style=\"text-align: right;\">\n",
       "      <th></th>\n",
       "      <th>arpu_6</th>\n",
       "      <th>arpu_7</th>\n",
       "      <th>arpu_8</th>\n",
       "      <th>onnet_mou_6</th>\n",
       "      <th>onnet_mou_7</th>\n",
       "      <th>onnet_mou_8</th>\n",
       "      <th>offnet_mou_6</th>\n",
       "      <th>offnet_mou_7</th>\n",
       "      <th>offnet_mou_8</th>\n",
       "      <th>roam_ic_mou_6</th>\n",
       "      <th>...</th>\n",
       "      <th>aug_vbc_3g</th>\n",
       "      <th>jul_vbc_3g</th>\n",
       "      <th>jun_vbc_3g</th>\n",
       "      <th>total_data_recharge_amnt_6</th>\n",
       "      <th>total_data_recharge_amnt_7</th>\n",
       "      <th>total_data_recharge_amnt_8</th>\n",
       "      <th>total_recharge_amnt_6</th>\n",
       "      <th>total_recharge_amnt_7</th>\n",
       "      <th>total_recharge_amnt_8</th>\n",
       "      <th>average_amnt_6_7</th>\n",
       "    </tr>\n",
       "  </thead>\n",
       "  <tbody>\n",
       "    <tr>\n",
       "      <th>0</th>\n",
       "      <td>0.132455</td>\n",
       "      <td>0.074824</td>\n",
       "      <td>0.049909</td>\n",
       "      <td>0.004308</td>\n",
       "      <td>0.002480</td>\n",
       "      <td>0.002149</td>\n",
       "      <td>0.007194</td>\n",
       "      <td>0.004771</td>\n",
       "      <td>0.002487</td>\n",
       "      <td>0.000000</td>\n",
       "      <td>...</td>\n",
       "      <td>0.000000</td>\n",
       "      <td>0.000000</td>\n",
       "      <td>0.0000</td>\n",
       "      <td>0.0</td>\n",
       "      <td>0.0</td>\n",
       "      <td>0.0</td>\n",
       "      <td>0.001868</td>\n",
       "      <td>0.001605</td>\n",
       "      <td>0.001013</td>\n",
       "      <td>-0.011863</td>\n",
       "    </tr>\n",
       "    <tr>\n",
       "      <th>1</th>\n",
       "      <td>0.150615</td>\n",
       "      <td>0.099685</td>\n",
       "      <td>0.064554</td>\n",
       "      <td>0.010236</td>\n",
       "      <td>0.005052</td>\n",
       "      <td>0.001845</td>\n",
       "      <td>0.056723</td>\n",
       "      <td>0.092260</td>\n",
       "      <td>0.028195</td>\n",
       "      <td>0.000000</td>\n",
       "      <td>...</td>\n",
       "      <td>0.000000</td>\n",
       "      <td>0.000000</td>\n",
       "      <td>0.0000</td>\n",
       "      <td>0.0</td>\n",
       "      <td>0.0</td>\n",
       "      <td>0.0</td>\n",
       "      <td>0.009067</td>\n",
       "      <td>0.008917</td>\n",
       "      <td>0.008442</td>\n",
       "      <td>0.000701</td>\n",
       "    </tr>\n",
       "    <tr>\n",
       "      <th>2</th>\n",
       "      <td>0.145864</td>\n",
       "      <td>0.095230</td>\n",
       "      <td>0.083592</td>\n",
       "      <td>0.001022</td>\n",
       "      <td>0.000963</td>\n",
       "      <td>0.000781</td>\n",
       "      <td>0.002031</td>\n",
       "      <td>0.006797</td>\n",
       "      <td>0.003215</td>\n",
       "      <td>0.008728</td>\n",
       "      <td>...</td>\n",
       "      <td>0.040694</td>\n",
       "      <td>0.082745</td>\n",
       "      <td>0.0319</td>\n",
       "      <td>0.0</td>\n",
       "      <td>0.0</td>\n",
       "      <td>0.0</td>\n",
       "      <td>0.009067</td>\n",
       "      <td>0.017833</td>\n",
       "      <td>0.016884</td>\n",
       "      <td>0.008485</td>\n",
       "    </tr>\n",
       "    <tr>\n",
       "      <th>3</th>\n",
       "      <td>0.129731</td>\n",
       "      <td>0.080680</td>\n",
       "      <td>0.047931</td>\n",
       "      <td>0.000720</td>\n",
       "      <td>0.000265</td>\n",
       "      <td>0.000000</td>\n",
       "      <td>0.004788</td>\n",
       "      <td>0.030417</td>\n",
       "      <td>0.001714</td>\n",
       "      <td>0.000000</td>\n",
       "      <td>...</td>\n",
       "      <td>0.000000</td>\n",
       "      <td>0.000000</td>\n",
       "      <td>0.0000</td>\n",
       "      <td>0.0</td>\n",
       "      <td>0.0</td>\n",
       "      <td>0.0</td>\n",
       "      <td>0.001995</td>\n",
       "      <td>0.004637</td>\n",
       "      <td>0.000000</td>\n",
       "      <td>-0.009108</td>\n",
       "    </tr>\n",
       "    <tr>\n",
       "      <th>4</th>\n",
       "      <td>0.144568</td>\n",
       "      <td>0.093651</td>\n",
       "      <td>0.067145</td>\n",
       "      <td>0.061129</td>\n",
       "      <td>0.074656</td>\n",
       "      <td>0.065164</td>\n",
       "      <td>0.007287</td>\n",
       "      <td>0.003537</td>\n",
       "      <td>0.005294</td>\n",
       "      <td>0.000000</td>\n",
       "      <td>...</td>\n",
       "      <td>0.000000</td>\n",
       "      <td>0.000000</td>\n",
       "      <td>0.0000</td>\n",
       "      <td>0.0</td>\n",
       "      <td>0.0</td>\n",
       "      <td>0.0</td>\n",
       "      <td>0.006456</td>\n",
       "      <td>0.008738</td>\n",
       "      <td>0.009219</td>\n",
       "      <td>-0.001697</td>\n",
       "    </tr>\n",
       "  </tbody>\n",
       "</table>\n",
       "<p>5 rows × 140 columns</p>\n",
       "</div>"
      ],
      "text/plain": [
       "     arpu_6    arpu_7    arpu_8  onnet_mou_6  onnet_mou_7  onnet_mou_8  \\\n",
       "0  0.132455  0.074824  0.049909     0.004308     0.002480     0.002149   \n",
       "1  0.150615  0.099685  0.064554     0.010236     0.005052     0.001845   \n",
       "2  0.145864  0.095230  0.083592     0.001022     0.000963     0.000781   \n",
       "3  0.129731  0.080680  0.047931     0.000720     0.000265     0.000000   \n",
       "4  0.144568  0.093651  0.067145     0.061129     0.074656     0.065164   \n",
       "\n",
       "   offnet_mou_6  offnet_mou_7  offnet_mou_8  roam_ic_mou_6  ...  aug_vbc_3g  \\\n",
       "0      0.007194      0.004771      0.002487       0.000000  ...    0.000000   \n",
       "1      0.056723      0.092260      0.028195       0.000000  ...    0.000000   \n",
       "2      0.002031      0.006797      0.003215       0.008728  ...    0.040694   \n",
       "3      0.004788      0.030417      0.001714       0.000000  ...    0.000000   \n",
       "4      0.007287      0.003537      0.005294       0.000000  ...    0.000000   \n",
       "\n",
       "   jul_vbc_3g  jun_vbc_3g  total_data_recharge_amnt_6  \\\n",
       "0    0.000000      0.0000                         0.0   \n",
       "1    0.000000      0.0000                         0.0   \n",
       "2    0.082745      0.0319                         0.0   \n",
       "3    0.000000      0.0000                         0.0   \n",
       "4    0.000000      0.0000                         0.0   \n",
       "\n",
       "   total_data_recharge_amnt_7  total_data_recharge_amnt_8  \\\n",
       "0                         0.0                         0.0   \n",
       "1                         0.0                         0.0   \n",
       "2                         0.0                         0.0   \n",
       "3                         0.0                         0.0   \n",
       "4                         0.0                         0.0   \n",
       "\n",
       "   total_recharge_amnt_6  total_recharge_amnt_7  total_recharge_amnt_8  \\\n",
       "0               0.001868               0.001605               0.001013   \n",
       "1               0.009067               0.008917               0.008442   \n",
       "2               0.009067               0.017833               0.016884   \n",
       "3               0.001995               0.004637               0.000000   \n",
       "4               0.006456               0.008738               0.009219   \n",
       "\n",
       "   average_amnt_6_7  \n",
       "0         -0.011863  \n",
       "1          0.000701  \n",
       "2          0.008485  \n",
       "3         -0.009108  \n",
       "4         -0.001697  \n",
       "\n",
       "[5 rows x 140 columns]"
      ]
     },
     "execution_count": 53,
     "metadata": {},
     "output_type": "execute_result"
    }
   ],
   "source": [
    "# Lets fit the scaler for train data as well\n",
    "test_numerical_columns = telecom_test_df.columns.to_list()\n",
    "telecom_test_df[test_numerical_columns] = scaler.transform(telecom_test_df[test_numerical_columns])\n",
    "telecom_test_df.head()"
   ]
  },
  {
   "cell_type": "markdown",
   "id": "5c9c47b1",
   "metadata": {},
   "source": [
    "## Modelling \n",
    "\n",
    "1. Logistic Regression using RFE - To get important predictors for Churn probability\n",
    "2. Logistic Regression - To know Churn probability + PCA\n",
    "    - Lasso\n",
    "    - Ridge\n",
    "3. Tree models\n",
    "    - XGBoost\n",
    "    - Random Forest"
   ]
  },
  {
   "cell_type": "markdown",
   "id": "e6bca16f",
   "metadata": {},
   "source": [
    "## 1. Logistic Regression using RFE - To get importnat predictors for Churn probability"
   ]
  },
  {
   "cell_type": "code",
   "execution_count": 54,
   "id": "cd4d9e79",
   "metadata": {},
   "outputs": [
    {
     "data": {
      "text/html": [
       "<table class=\"simpletable\">\n",
       "<caption>Generalized Linear Model Regression Results</caption>\n",
       "<tr>\n",
       "  <th>Dep. Variable:</th>   <td>churn_probability</td> <th>  No. Observations:  </th>  <td> 27020</td> \n",
       "</tr>\n",
       "<tr>\n",
       "  <th>Model:</th>                  <td>GLM</td>        <th>  Df Residuals:      </th>  <td> 26886</td> \n",
       "</tr>\n",
       "<tr>\n",
       "  <th>Model Family:</th>        <td>Binomial</td>      <th>  Df Model:          </th>  <td>   133</td> \n",
       "</tr>\n",
       "<tr>\n",
       "  <th>Link Function:</th>         <td>logit</td>       <th>  Scale:             </th> <td>  1.0000</td>\n",
       "</tr>\n",
       "<tr>\n",
       "  <th>Method:</th>                <td>IRLS</td>        <th>  Log-Likelihood:    </th> <td> -8666.9</td>\n",
       "</tr>\n",
       "<tr>\n",
       "  <th>Date:</th>            <td>Fri, 16 Sep 2022</td>  <th>  Deviance:          </th> <td>  17334.</td>\n",
       "</tr>\n",
       "<tr>\n",
       "  <th>Time:</th>                <td>16:53:05</td>      <th>  Pearson chi2:      </th> <td>1.67e+05</td>\n",
       "</tr>\n",
       "<tr>\n",
       "  <th>No. Iterations:</th>         <td>100</td>        <th>                     </th>     <td> </td>   \n",
       "</tr>\n",
       "<tr>\n",
       "  <th>Covariance Type:</th>     <td>nonrobust</td>     <th>                     </th>     <td> </td>   \n",
       "</tr>\n",
       "</table>\n",
       "<table class=\"simpletable\">\n",
       "<tr>\n",
       "               <td></td>                 <th>coef</th>     <th>std err</th>      <th>z</th>      <th>P>|z|</th>  <th>[0.025</th>    <th>0.975]</th>  \n",
       "</tr>\n",
       "<tr>\n",
       "  <th>const</th>                      <td>   -4.1563</td> <td>    0.671</td> <td>   -6.195</td> <td> 0.000</td> <td>   -5.471</td> <td>   -2.841</td>\n",
       "</tr>\n",
       "<tr>\n",
       "  <th>arpu_6</th>                     <td>    9.3046</td> <td>    3.643</td> <td>    2.554</td> <td> 0.011</td> <td>    2.164</td> <td>   16.445</td>\n",
       "</tr>\n",
       "<tr>\n",
       "  <th>arpu_7</th>                     <td>   22.2671</td> <td>    4.322</td> <td>    5.152</td> <td> 0.000</td> <td>   13.797</td> <td>   30.738</td>\n",
       "</tr>\n",
       "<tr>\n",
       "  <th>arpu_8</th>                     <td>   41.4633</td> <td>    4.894</td> <td>    8.473</td> <td> 0.000</td> <td>   31.872</td> <td>   51.055</td>\n",
       "</tr>\n",
       "<tr>\n",
       "  <th>onnet_mou_6</th>                <td>  -94.9922</td> <td>   36.354</td> <td>   -2.613</td> <td> 0.009</td> <td> -166.245</td> <td>  -23.739</td>\n",
       "</tr>\n",
       "<tr>\n",
       "  <th>onnet_mou_7</th>                <td>  -30.1004</td> <td>   31.630</td> <td>   -0.952</td> <td> 0.341</td> <td>  -92.094</td> <td>   31.893</td>\n",
       "</tr>\n",
       "<tr>\n",
       "  <th>onnet_mou_8</th>                <td>  -29.4465</td> <td>   48.746</td> <td>   -0.604</td> <td> 0.546</td> <td> -124.986</td> <td>   66.093</td>\n",
       "</tr>\n",
       "<tr>\n",
       "  <th>offnet_mou_6</th>               <td>  -93.2778</td> <td>   40.890</td> <td>   -2.281</td> <td> 0.023</td> <td> -173.421</td> <td>  -13.135</td>\n",
       "</tr>\n",
       "<tr>\n",
       "  <th>offnet_mou_7</th>               <td>  -32.1587</td> <td>   25.287</td> <td>   -1.272</td> <td> 0.203</td> <td>  -81.721</td> <td>   17.403</td>\n",
       "</tr>\n",
       "<tr>\n",
       "  <th>offnet_mou_8</th>               <td>  -83.8900</td> <td>   62.079</td> <td>   -1.351</td> <td> 0.177</td> <td> -205.563</td> <td>   37.783</td>\n",
       "</tr>\n",
       "<tr>\n",
       "  <th>roam_ic_mou_6</th>              <td>    1.8720</td> <td>    1.126</td> <td>    1.662</td> <td> 0.096</td> <td>   -0.335</td> <td>    4.079</td>\n",
       "</tr>\n",
       "<tr>\n",
       "  <th>roam_ic_mou_7</th>              <td>    1.2856</td> <td>    1.315</td> <td>    0.978</td> <td> 0.328</td> <td>   -1.292</td> <td>    3.863</td>\n",
       "</tr>\n",
       "<tr>\n",
       "  <th>roam_ic_mou_8</th>              <td>   -2.3561</td> <td>    1.368</td> <td>   -1.722</td> <td> 0.085</td> <td>   -5.038</td> <td>    0.326</td>\n",
       "</tr>\n",
       "<tr>\n",
       "  <th>roam_og_mou_6</th>              <td>   46.4365</td> <td>   18.592</td> <td>    2.498</td> <td> 0.013</td> <td>    9.996</td> <td>   82.877</td>\n",
       "</tr>\n",
       "<tr>\n",
       "  <th>roam_og_mou_7</th>              <td>   16.3342</td> <td>   10.683</td> <td>    1.529</td> <td> 0.126</td> <td>   -4.604</td> <td>   37.273</td>\n",
       "</tr>\n",
       "<tr>\n",
       "  <th>roam_og_mou_8</th>              <td>   30.2828</td> <td>   23.925</td> <td>    1.266</td> <td> 0.206</td> <td>  -16.609</td> <td>   77.174</td>\n",
       "</tr>\n",
       "<tr>\n",
       "  <th>loc_og_t2t_mou_6</th>           <td>-4.165e+04</td> <td> 2.54e+04</td> <td>   -1.643</td> <td> 0.100</td> <td>-9.13e+04</td> <td> 8036.676</td>\n",
       "</tr>\n",
       "<tr>\n",
       "  <th>loc_og_t2t_mou_7</th>           <td> 2.794e+04</td> <td> 2.86e+04</td> <td>    0.976</td> <td> 0.329</td> <td>-2.82e+04</td> <td> 8.41e+04</td>\n",
       "</tr>\n",
       "<tr>\n",
       "  <th>loc_og_t2t_mou_8</th>           <td> 1.633e+05</td> <td> 4.39e+04</td> <td>    3.718</td> <td> 0.000</td> <td> 7.72e+04</td> <td> 2.49e+05</td>\n",
       "</tr>\n",
       "<tr>\n",
       "  <th>loc_og_t2m_mou_6</th>           <td>-3.043e+04</td> <td> 1.85e+04</td> <td>   -1.644</td> <td> 0.100</td> <td>-6.67e+04</td> <td> 5858.066</td>\n",
       "</tr>\n",
       "<tr>\n",
       "  <th>loc_og_t2m_mou_7</th>           <td> 1.721e+04</td> <td> 1.76e+04</td> <td>    0.976</td> <td> 0.329</td> <td>-1.74e+04</td> <td> 5.18e+04</td>\n",
       "</tr>\n",
       "<tr>\n",
       "  <th>loc_og_t2m_mou_8</th>           <td> 7.539e+04</td> <td> 2.03e+04</td> <td>    3.719</td> <td> 0.000</td> <td> 3.57e+04</td> <td> 1.15e+05</td>\n",
       "</tr>\n",
       "<tr>\n",
       "  <th>loc_og_t2f_mou_6</th>           <td>-4005.8635</td> <td> 2434.652</td> <td>   -1.645</td> <td> 0.100</td> <td>-8777.693</td> <td>  765.966</td>\n",
       "</tr>\n",
       "<tr>\n",
       "  <th>loc_og_t2f_mou_7</th>           <td> 3077.8287</td> <td> 3155.241</td> <td>    0.975</td> <td> 0.329</td> <td>-3106.330</td> <td> 9261.987</td>\n",
       "</tr>\n",
       "<tr>\n",
       "  <th>loc_og_t2f_mou_8</th>           <td> 8942.3650</td> <td> 2403.938</td> <td>    3.720</td> <td> 0.000</td> <td> 4230.734</td> <td> 1.37e+04</td>\n",
       "</tr>\n",
       "<tr>\n",
       "  <th>loc_og_t2c_mou_6</th>           <td>   -9.0443</td> <td>    1.563</td> <td>   -5.788</td> <td> 0.000</td> <td>  -12.107</td> <td>   -5.982</td>\n",
       "</tr>\n",
       "<tr>\n",
       "  <th>loc_og_t2c_mou_7</th>           <td>   -3.7948</td> <td>    2.560</td> <td>   -1.482</td> <td> 0.138</td> <td>   -8.813</td> <td>    1.223</td>\n",
       "</tr>\n",
       "<tr>\n",
       "  <th>loc_og_t2c_mou_8</th>           <td>    8.2316</td> <td>    1.571</td> <td>    5.239</td> <td> 0.000</td> <td>    5.152</td> <td>   11.311</td>\n",
       "</tr>\n",
       "<tr>\n",
       "  <th>loc_og_mou_6</th>               <td> 4.797e+04</td> <td> 4.75e+04</td> <td>    1.010</td> <td> 0.313</td> <td>-4.51e+04</td> <td> 1.41e+05</td>\n",
       "</tr>\n",
       "<tr>\n",
       "  <th>loc_og_mou_7</th>               <td>-3.222e+04</td> <td> 3.51e+04</td> <td>   -0.919</td> <td> 0.358</td> <td>-1.01e+05</td> <td> 3.65e+04</td>\n",
       "</tr>\n",
       "<tr>\n",
       "  <th>loc_og_mou_8</th>               <td>-2.204e+05</td> <td> 5.36e+04</td> <td>   -4.110</td> <td> 0.000</td> <td>-3.25e+05</td> <td>-1.15e+05</td>\n",
       "</tr>\n",
       "<tr>\n",
       "  <th>std_og_t2t_mou_6</th>           <td> -1.26e+05</td> <td> 3.53e+04</td> <td>   -3.575</td> <td> 0.000</td> <td>-1.95e+05</td> <td>-5.69e+04</td>\n",
       "</tr>\n",
       "<tr>\n",
       "  <th>std_og_t2t_mou_7</th>           <td>-5.058e+04</td> <td> 4.01e+04</td> <td>   -1.260</td> <td> 0.208</td> <td>-1.29e+05</td> <td> 2.81e+04</td>\n",
       "</tr>\n",
       "<tr>\n",
       "  <th>std_og_t2t_mou_8</th>           <td> 1.582e+05</td> <td> 4.21e+04</td> <td>    3.760</td> <td> 0.000</td> <td> 7.58e+04</td> <td> 2.41e+05</td>\n",
       "</tr>\n",
       "<tr>\n",
       "  <th>std_og_t2m_mou_6</th>           <td>-1.423e+05</td> <td> 3.98e+04</td> <td>   -3.575</td> <td> 0.000</td> <td> -2.2e+05</td> <td>-6.43e+04</td>\n",
       "</tr>\n",
       "<tr>\n",
       "  <th>std_og_t2m_mou_7</th>           <td>-4.117e+04</td> <td> 3.27e+04</td> <td>   -1.260</td> <td> 0.208</td> <td>-1.05e+05</td> <td> 2.29e+04</td>\n",
       "</tr>\n",
       "<tr>\n",
       "  <th>std_og_t2m_mou_8</th>           <td> 2.755e+05</td> <td> 7.33e+04</td> <td>    3.761</td> <td> 0.000</td> <td> 1.32e+05</td> <td> 4.19e+05</td>\n",
       "</tr>\n",
       "<tr>\n",
       "  <th>std_og_t2f_mou_6</th>           <td>-5784.5497</td> <td> 1617.847</td> <td>   -3.575</td> <td> 0.000</td> <td>-8955.472</td> <td>-2613.627</td>\n",
       "</tr>\n",
       "<tr>\n",
       "  <th>std_og_t2f_mou_7</th>           <td>-2895.1987</td> <td> 2298.129</td> <td>   -1.260</td> <td> 0.208</td> <td>-7399.448</td> <td> 1609.051</td>\n",
       "</tr>\n",
       "<tr>\n",
       "  <th>std_og_t2f_mou_8</th>           <td> 6986.8665</td> <td> 1859.906</td> <td>    3.757</td> <td> 0.000</td> <td> 3341.518</td> <td> 1.06e+04</td>\n",
       "</tr>\n",
       "<tr>\n",
       "  <th>std_og_mou_6</th>               <td> 1.277e+05</td> <td> 4.35e+04</td> <td>    2.936</td> <td> 0.003</td> <td> 4.25e+04</td> <td> 2.13e+05</td>\n",
       "</tr>\n",
       "<tr>\n",
       "  <th>std_og_mou_7</th>               <td> 4.727e+04</td> <td> 4.48e+04</td> <td>    1.056</td> <td> 0.291</td> <td>-4.04e+04</td> <td> 1.35e+05</td>\n",
       "</tr>\n",
       "<tr>\n",
       "  <th>std_og_mou_8</th>               <td>-3.427e+05</td> <td> 8.14e+04</td> <td>   -4.212</td> <td> 0.000</td> <td>-5.02e+05</td> <td>-1.83e+05</td>\n",
       "</tr>\n",
       "<tr>\n",
       "  <th>isd_og_mou_6</th>               <td>-1.165e+04</td> <td>  1.7e+04</td> <td>   -0.687</td> <td> 0.492</td> <td>-4.49e+04</td> <td> 2.16e+04</td>\n",
       "</tr>\n",
       "<tr>\n",
       "  <th>isd_og_mou_7</th>               <td>-2330.3110</td> <td> 1.77e+04</td> <td>   -0.132</td> <td> 0.895</td> <td> -3.7e+04</td> <td> 3.23e+04</td>\n",
       "</tr>\n",
       "<tr>\n",
       "  <th>isd_og_mou_8</th>               <td>-2.712e+04</td> <td> 1.89e+04</td> <td>   -1.436</td> <td> 0.151</td> <td>-6.41e+04</td> <td> 9903.517</td>\n",
       "</tr>\n",
       "<tr>\n",
       "  <th>spl_og_mou_6</th>               <td>-2014.1377</td> <td> 2940.473</td> <td>   -0.685</td> <td> 0.493</td> <td>-7777.358</td> <td> 3749.083</td>\n",
       "</tr>\n",
       "<tr>\n",
       "  <th>spl_og_mou_7</th>               <td> -541.6011</td> <td> 4075.959</td> <td>   -0.133</td> <td> 0.894</td> <td>-8530.333</td> <td> 7447.131</td>\n",
       "</tr>\n",
       "<tr>\n",
       "  <th>spl_og_mou_8</th>               <td>-3742.0066</td> <td> 2606.051</td> <td>   -1.436</td> <td> 0.151</td> <td>-8849.774</td> <td> 1365.760</td>\n",
       "</tr>\n",
       "<tr>\n",
       "  <th>og_others_6</th>                <td>-1236.9061</td> <td> 1754.094</td> <td>   -0.705</td> <td> 0.481</td> <td>-4674.867</td> <td> 2201.055</td>\n",
       "</tr>\n",
       "<tr>\n",
       "  <th>og_others_7</th>                <td>  -55.3285</td> <td>  216.864</td> <td>   -0.255</td> <td> 0.799</td> <td> -480.374</td> <td>  369.716</td>\n",
       "</tr>\n",
       "<tr>\n",
       "  <th>og_others_8</th>                <td>-2226.1637</td> <td> 1333.370</td> <td>   -1.670</td> <td> 0.095</td> <td>-4839.521</td> <td>  387.194</td>\n",
       "</tr>\n",
       "<tr>\n",
       "  <th>total_og_mou_6</th>             <td> 2.116e+04</td> <td> 3.07e+04</td> <td>    0.690</td> <td> 0.490</td> <td> -3.9e+04</td> <td> 8.13e+04</td>\n",
       "</tr>\n",
       "<tr>\n",
       "  <th>total_og_mou_7</th>             <td> 3537.7312</td> <td> 2.67e+04</td> <td>    0.133</td> <td> 0.895</td> <td>-4.88e+04</td> <td> 5.58e+04</td>\n",
       "</tr>\n",
       "<tr>\n",
       "  <th>total_og_mou_8</th>             <td> 6.702e+04</td> <td> 4.67e+04</td> <td>    1.435</td> <td> 0.151</td> <td>-2.45e+04</td> <td> 1.59e+05</td>\n",
       "</tr>\n",
       "<tr>\n",
       "  <th>loc_ic_t2t_mou_6</th>           <td>-1.105e+05</td> <td> 1.61e+04</td> <td>   -6.862</td> <td> 0.000</td> <td>-1.42e+05</td> <td> -7.9e+04</td>\n",
       "</tr>\n",
       "<tr>\n",
       "  <th>loc_ic_t2t_mou_7</th>           <td> 7.598e+04</td> <td> 2.13e+04</td> <td>    3.567</td> <td> 0.000</td> <td> 3.42e+04</td> <td> 1.18e+05</td>\n",
       "</tr>\n",
       "<tr>\n",
       "  <th>loc_ic_t2t_mou_8</th>           <td> 1.295e+05</td> <td> 1.51e+04</td> <td>    8.562</td> <td> 0.000</td> <td> 9.98e+04</td> <td> 1.59e+05</td>\n",
       "</tr>\n",
       "<tr>\n",
       "  <th>loc_ic_t2m_mou_6</th>           <td>-1.127e+05</td> <td> 1.64e+04</td> <td>   -6.862</td> <td> 0.000</td> <td>-1.45e+05</td> <td>-8.05e+04</td>\n",
       "</tr>\n",
       "<tr>\n",
       "  <th>loc_ic_t2m_mou_7</th>           <td> 5.359e+04</td> <td>  1.5e+04</td> <td>    3.567</td> <td> 0.000</td> <td> 2.41e+04</td> <td>  8.3e+04</td>\n",
       "</tr>\n",
       "<tr>\n",
       "  <th>loc_ic_t2m_mou_8</th>           <td> 1.513e+05</td> <td> 1.77e+04</td> <td>    8.562</td> <td> 0.000</td> <td> 1.17e+05</td> <td> 1.86e+05</td>\n",
       "</tr>\n",
       "<tr>\n",
       "  <th>loc_ic_t2f_mou_6</th>           <td>-3.478e+04</td> <td> 5068.333</td> <td>   -6.863</td> <td> 0.000</td> <td>-4.47e+04</td> <td>-2.49e+04</td>\n",
       "</tr>\n",
       "<tr>\n",
       "  <th>loc_ic_t2f_mou_7</th>           <td>  2.64e+04</td> <td> 7398.955</td> <td>    3.568</td> <td> 0.000</td> <td> 1.19e+04</td> <td> 4.09e+04</td>\n",
       "</tr>\n",
       "<tr>\n",
       "  <th>loc_ic_t2f_mou_8</th>           <td> 4.757e+04</td> <td> 5556.534</td> <td>    8.561</td> <td> 0.000</td> <td> 3.67e+04</td> <td> 5.85e+04</td>\n",
       "</tr>\n",
       "<tr>\n",
       "  <th>loc_ic_mou_6</th>               <td> 1.461e+05</td> <td> 2.78e+04</td> <td>    5.262</td> <td> 0.000</td> <td> 9.17e+04</td> <td> 2.01e+05</td>\n",
       "</tr>\n",
       "<tr>\n",
       "  <th>loc_ic_mou_7</th>               <td>-7.033e+04</td> <td> 2.49e+04</td> <td>   -2.820</td> <td> 0.005</td> <td>-1.19e+05</td> <td>-2.14e+04</td>\n",
       "</tr>\n",
       "<tr>\n",
       "  <th>loc_ic_mou_8</th>               <td> -1.03e+05</td> <td> 2.07e+04</td> <td>   -4.986</td> <td> 0.000</td> <td>-1.43e+05</td> <td>-6.25e+04</td>\n",
       "</tr>\n",
       "<tr>\n",
       "  <th>std_ic_t2t_mou_6</th>           <td>-1.193e+04</td> <td> 1.44e+04</td> <td>   -0.829</td> <td> 0.407</td> <td>-4.01e+04</td> <td> 1.63e+04</td>\n",
       "</tr>\n",
       "<tr>\n",
       "  <th>std_ic_t2t_mou_7</th>           <td>-4.284e+04</td> <td> 2.05e+04</td> <td>   -2.094</td> <td> 0.036</td> <td>-8.29e+04</td> <td>-2742.812</td>\n",
       "</tr>\n",
       "<tr>\n",
       "  <th>std_ic_t2t_mou_8</th>           <td> 2.835e+04</td> <td> 1.79e+04</td> <td>    1.587</td> <td> 0.113</td> <td>-6673.403</td> <td> 6.34e+04</td>\n",
       "</tr>\n",
       "<tr>\n",
       "  <th>std_ic_t2m_mou_6</th>           <td>-1.419e+04</td> <td> 1.71e+04</td> <td>   -0.829</td> <td> 0.407</td> <td>-4.77e+04</td> <td> 1.94e+04</td>\n",
       "</tr>\n",
       "<tr>\n",
       "  <th>std_ic_t2m_mou_7</th>           <td> -2.66e+04</td> <td> 1.27e+04</td> <td>   -2.095</td> <td> 0.036</td> <td>-5.15e+04</td> <td>-1711.539</td>\n",
       "</tr>\n",
       "<tr>\n",
       "  <th>std_ic_t2m_mou_8</th>           <td> 2.386e+04</td> <td>  1.5e+04</td> <td>    1.588</td> <td> 0.112</td> <td>-5595.121</td> <td> 5.33e+04</td>\n",
       "</tr>\n",
       "<tr>\n",
       "  <th>std_ic_t2f_mou_6</th>           <td>-5312.6501</td> <td> 6399.103</td> <td>   -0.830</td> <td> 0.406</td> <td>-1.79e+04</td> <td> 7229.361</td>\n",
       "</tr>\n",
       "<tr>\n",
       "  <th>std_ic_t2f_mou_7</th>           <td>-1.148e+04</td> <td> 5487.856</td> <td>   -2.093</td> <td> 0.036</td> <td>-2.22e+04</td> <td> -728.198</td>\n",
       "</tr>\n",
       "<tr>\n",
       "  <th>std_ic_t2f_mou_8</th>           <td> 1.155e+04</td> <td> 7281.585</td> <td>    1.586</td> <td> 0.113</td> <td>-2723.755</td> <td> 2.58e+04</td>\n",
       "</tr>\n",
       "<tr>\n",
       "  <th>std_ic_mou_6</th>               <td>-6518.9564</td> <td> 1.78e+04</td> <td>   -0.367</td> <td> 0.714</td> <td>-4.13e+04</td> <td> 2.83e+04</td>\n",
       "</tr>\n",
       "<tr>\n",
       "  <th>std_ic_mou_7</th>               <td> 5.425e+04</td> <td> 2.22e+04</td> <td>    2.446</td> <td> 0.014</td> <td> 1.08e+04</td> <td> 9.77e+04</td>\n",
       "</tr>\n",
       "<tr>\n",
       "  <th>std_ic_mou_8</th>               <td> 1.851e+04</td> <td> 2.08e+04</td> <td>    0.890</td> <td> 0.373</td> <td>-2.23e+04</td> <td> 5.93e+04</td>\n",
       "</tr>\n",
       "<tr>\n",
       "  <th>total_ic_mou_6</th>             <td>  4.42e+04</td> <td> 1.78e+04</td> <td>    2.479</td> <td> 0.013</td> <td> 9253.043</td> <td> 7.92e+04</td>\n",
       "</tr>\n",
       "<tr>\n",
       "  <th>total_ic_mou_7</th>             <td>-1.809e+04</td> <td> 1.86e+04</td> <td>   -0.974</td> <td> 0.330</td> <td>-5.45e+04</td> <td> 1.83e+04</td>\n",
       "</tr>\n",
       "<tr>\n",
       "  <th>total_ic_mou_8</th>             <td>-8.002e+04</td> <td> 1.55e+04</td> <td>   -5.175</td> <td> 0.000</td> <td> -1.1e+05</td> <td>-4.97e+04</td>\n",
       "</tr>\n",
       "<tr>\n",
       "  <th>spl_ic_mou_6</th>               <td> -105.1431</td> <td>   46.170</td> <td>   -2.277</td> <td> 0.023</td> <td> -195.634</td> <td>  -14.652</td>\n",
       "</tr>\n",
       "<tr>\n",
       "  <th>spl_ic_mou_7</th>               <td>   27.5894</td> <td>   33.836</td> <td>    0.815</td> <td> 0.415</td> <td>  -38.727</td> <td>   93.906</td>\n",
       "</tr>\n",
       "<tr>\n",
       "  <th>spl_ic_mou_8</th>               <td>    8.1692</td> <td>    3.318</td> <td>    2.462</td> <td> 0.014</td> <td>    1.666</td> <td>   14.672</td>\n",
       "</tr>\n",
       "<tr>\n",
       "  <th>isd_ic_mou_6</th>               <td>-3.889e+04</td> <td> 1.57e+04</td> <td>   -2.479</td> <td> 0.013</td> <td>-6.96e+04</td> <td>-8137.070</td>\n",
       "</tr>\n",
       "<tr>\n",
       "  <th>isd_ic_mou_7</th>               <td> 1.096e+04</td> <td> 1.13e+04</td> <td>    0.974</td> <td> 0.330</td> <td>-1.11e+04</td> <td>  3.3e+04</td>\n",
       "</tr>\n",
       "<tr>\n",
       "  <th>isd_ic_mou_8</th>               <td> 3.161e+04</td> <td> 6108.544</td> <td>    5.175</td> <td> 0.000</td> <td> 1.96e+04</td> <td> 4.36e+04</td>\n",
       "</tr>\n",
       "<tr>\n",
       "  <th>ic_others_6</th>                <td>-7723.8275</td> <td> 3107.116</td> <td>   -2.486</td> <td> 0.013</td> <td>-1.38e+04</td> <td>-1633.992</td>\n",
       "</tr>\n",
       "<tr>\n",
       "  <th>ic_others_7</th>                <td> 3641.5012</td> <td> 3732.345</td> <td>    0.976</td> <td> 0.329</td> <td>-3673.761</td> <td>  1.1e+04</td>\n",
       "</tr>\n",
       "<tr>\n",
       "  <th>ic_others_8</th>                <td> 1.596e+04</td> <td> 3083.825</td> <td>    5.176</td> <td> 0.000</td> <td> 9918.271</td> <td>  2.2e+04</td>\n",
       "</tr>\n",
       "<tr>\n",
       "  <th>total_rech_num_6</th>           <td>   -0.8682</td> <td>    0.738</td> <td>   -1.177</td> <td> 0.239</td> <td>   -2.314</td> <td>    0.577</td>\n",
       "</tr>\n",
       "<tr>\n",
       "  <th>total_rech_num_7</th>           <td>    4.6625</td> <td>    0.739</td> <td>    6.306</td> <td> 0.000</td> <td>    3.213</td> <td>    6.112</td>\n",
       "</tr>\n",
       "<tr>\n",
       "  <th>total_rech_num_8</th>           <td>   -7.0326</td> <td>    0.816</td> <td>   -8.617</td> <td> 0.000</td> <td>   -8.632</td> <td>   -5.433</td>\n",
       "</tr>\n",
       "<tr>\n",
       "  <th>total_rech_amt_6</th>           <td>    0.0372</td> <td>    3.077</td> <td>    0.012</td> <td> 0.990</td> <td>   -5.994</td> <td>    6.068</td>\n",
       "</tr>\n",
       "<tr>\n",
       "  <th>total_rech_amt_7</th>           <td>  -18.8657</td> <td>    3.662</td> <td>   -5.152</td> <td> 0.000</td> <td>  -26.042</td> <td>  -11.689</td>\n",
       "</tr>\n",
       "<tr>\n",
       "  <th>total_rech_amt_8</th>           <td>  -38.9042</td> <td>    4.208</td> <td>   -9.246</td> <td> 0.000</td> <td>  -47.151</td> <td>  -30.657</td>\n",
       "</tr>\n",
       "<tr>\n",
       "  <th>max_rech_amt_6</th>             <td>   -4.0950</td> <td>    0.989</td> <td>   -4.141</td> <td> 0.000</td> <td>   -6.033</td> <td>   -2.157</td>\n",
       "</tr>\n",
       "<tr>\n",
       "  <th>max_rech_amt_7</th>             <td>    0.2416</td> <td>    0.824</td> <td>    0.293</td> <td> 0.770</td> <td>   -1.374</td> <td>    1.857</td>\n",
       "</tr>\n",
       "<tr>\n",
       "  <th>max_rech_amt_8</th>             <td>   13.0706</td> <td>    1.251</td> <td>   10.446</td> <td> 0.000</td> <td>   10.618</td> <td>   15.523</td>\n",
       "</tr>\n",
       "<tr>\n",
       "  <th>last_day_rch_amt_6</th>         <td>   -0.2513</td> <td>    0.886</td> <td>   -0.284</td> <td> 0.777</td> <td>   -1.987</td> <td>    1.485</td>\n",
       "</tr>\n",
       "<tr>\n",
       "  <th>last_day_rch_amt_7</th>         <td>    2.1910</td> <td>    0.686</td> <td>    3.193</td> <td> 0.001</td> <td>    0.846</td> <td>    3.536</td>\n",
       "</tr>\n",
       "<tr>\n",
       "  <th>last_day_rch_amt_8</th>         <td>  -15.7235</td> <td>    1.165</td> <td>  -13.496</td> <td> 0.000</td> <td>  -18.007</td> <td>  -13.440</td>\n",
       "</tr>\n",
       "<tr>\n",
       "  <th>total_rech_data_6</th>          <td>    2.0055</td> <td>    0.524</td> <td>    3.830</td> <td> 0.000</td> <td>    0.979</td> <td>    3.032</td>\n",
       "</tr>\n",
       "<tr>\n",
       "  <th>total_rech_data_7</th>          <td>    1.5902</td> <td>    0.719</td> <td>    2.213</td> <td> 0.027</td> <td>    0.182</td> <td>    2.998</td>\n",
       "</tr>\n",
       "<tr>\n",
       "  <th>total_rech_data_8</th>          <td>   -8.4808</td> <td>    1.103</td> <td>   -7.689</td> <td> 0.000</td> <td>  -10.643</td> <td>   -6.319</td>\n",
       "</tr>\n",
       "<tr>\n",
       "  <th>max_rech_data_6</th>            <td>    5.9039</td> <td>    0.881</td> <td>    6.705</td> <td> 0.000</td> <td>    4.178</td> <td>    7.630</td>\n",
       "</tr>\n",
       "<tr>\n",
       "  <th>max_rech_data_7</th>            <td>   -1.9661</td> <td>    0.922</td> <td>   -2.133</td> <td> 0.033</td> <td>   -3.772</td> <td>   -0.160</td>\n",
       "</tr>\n",
       "<tr>\n",
       "  <th>max_rech_data_8</th>            <td>   -5.7378</td> <td>    1.063</td> <td>   -5.399</td> <td> 0.000</td> <td>   -7.821</td> <td>   -3.655</td>\n",
       "</tr>\n",
       "<tr>\n",
       "  <th>av_rech_amt_data_6</th>         <td>  -16.4787</td> <td>    2.939</td> <td>   -5.606</td> <td> 0.000</td> <td>  -22.240</td> <td>  -10.717</td>\n",
       "</tr>\n",
       "<tr>\n",
       "  <th>av_rech_amt_data_7</th>         <td>    5.6007</td> <td>    2.090</td> <td>    2.680</td> <td> 0.007</td> <td>    1.505</td> <td>    9.697</td>\n",
       "</tr>\n",
       "<tr>\n",
       "  <th>av_rech_amt_data_8</th>         <td>   -3.3026</td> <td>    2.546</td> <td>   -1.297</td> <td> 0.195</td> <td>   -8.292</td> <td>    1.687</td>\n",
       "</tr>\n",
       "<tr>\n",
       "  <th>vol_2g_mb_6</th>                <td>   -1.5255</td> <td>    0.827</td> <td>   -1.844</td> <td> 0.065</td> <td>   -3.147</td> <td>    0.096</td>\n",
       "</tr>\n",
       "<tr>\n",
       "  <th>vol_2g_mb_7</th>                <td>    3.6952</td> <td>    0.952</td> <td>    3.883</td> <td> 0.000</td> <td>    1.830</td> <td>    5.560</td>\n",
       "</tr>\n",
       "<tr>\n",
       "  <th>vol_2g_mb_8</th>                <td>   -6.0772</td> <td>    1.221</td> <td>   -4.979</td> <td> 0.000</td> <td>   -8.470</td> <td>   -3.685</td>\n",
       "</tr>\n",
       "<tr>\n",
       "  <th>vol_3g_mb_6</th>                <td>   -7.0305</td> <td>    3.175</td> <td>   -2.214</td> <td> 0.027</td> <td>  -13.254</td> <td>   -0.807</td>\n",
       "</tr>\n",
       "<tr>\n",
       "  <th>vol_3g_mb_7</th>                <td>    6.4706</td> <td>    1.926</td> <td>    3.359</td> <td> 0.001</td> <td>    2.695</td> <td>   10.246</td>\n",
       "</tr>\n",
       "<tr>\n",
       "  <th>vol_3g_mb_8</th>                <td>   -7.0245</td> <td>    2.234</td> <td>   -3.144</td> <td> 0.002</td> <td>  -11.404</td> <td>   -2.645</td>\n",
       "</tr>\n",
       "<tr>\n",
       "  <th>monthly_2g_6</th>               <td>   -0.4154</td> <td>    0.326</td> <td>   -1.273</td> <td> 0.203</td> <td>   -1.055</td> <td>    0.224</td>\n",
       "</tr>\n",
       "<tr>\n",
       "  <th>monthly_2g_7</th>               <td>   -0.8794</td> <td>    0.428</td> <td>   -2.053</td> <td> 0.040</td> <td>   -1.719</td> <td>   -0.040</td>\n",
       "</tr>\n",
       "<tr>\n",
       "  <th>monthly_2g_8</th>               <td>   -4.3486</td> <td>    0.615</td> <td>   -7.074</td> <td> 0.000</td> <td>   -5.553</td> <td>   -3.144</td>\n",
       "</tr>\n",
       "<tr>\n",
       "  <th>sachet_2g_6</th>                <td>    0.6171</td> <td>    0.512</td> <td>    1.206</td> <td> 0.228</td> <td>   -0.386</td> <td>    1.620</td>\n",
       "</tr>\n",
       "<tr>\n",
       "  <th>sachet_2g_7</th>                <td>   -0.3136</td> <td>    0.566</td> <td>   -0.554</td> <td> 0.580</td> <td>   -1.423</td> <td>    0.796</td>\n",
       "</tr>\n",
       "<tr>\n",
       "  <th>sachet_2g_8</th>                <td>   -2.1782</td> <td>    0.676</td> <td>   -3.220</td> <td> 0.001</td> <td>   -3.504</td> <td>   -0.852</td>\n",
       "</tr>\n",
       "<tr>\n",
       "  <th>monthly_3g_6</th>               <td>    2.1734</td> <td>    0.790</td> <td>    2.752</td> <td> 0.006</td> <td>    0.626</td> <td>    3.721</td>\n",
       "</tr>\n",
       "<tr>\n",
       "  <th>monthly_3g_7</th>               <td>   -2.9572</td> <td>    1.255</td> <td>   -2.356</td> <td> 0.018</td> <td>   -5.417</td> <td>   -0.497</td>\n",
       "</tr>\n",
       "<tr>\n",
       "  <th>monthly_3g_8</th>               <td>   -5.0557</td> <td>    1.760</td> <td>   -2.873</td> <td> 0.004</td> <td>   -8.504</td> <td>   -1.607</td>\n",
       "</tr>\n",
       "<tr>\n",
       "  <th>sachet_3g_6</th>                <td>    2.7074</td> <td>    0.927</td> <td>    2.922</td> <td> 0.003</td> <td>    0.891</td> <td>    4.524</td>\n",
       "</tr>\n",
       "<tr>\n",
       "  <th>sachet_3g_7</th>                <td>    4.4460</td> <td>    1.111</td> <td>    4.003</td> <td> 0.000</td> <td>    2.269</td> <td>    6.623</td>\n",
       "</tr>\n",
       "<tr>\n",
       "  <th>sachet_3g_8</th>                <td>   -8.1014</td> <td>    1.633</td> <td>   -4.960</td> <td> 0.000</td> <td>  -11.303</td> <td>   -4.900</td>\n",
       "</tr>\n",
       "<tr>\n",
       "  <th>aon</th>                        <td>   -0.4343</td> <td>    0.106</td> <td>   -4.098</td> <td> 0.000</td> <td>   -0.642</td> <td>   -0.227</td>\n",
       "</tr>\n",
       "<tr>\n",
       "  <th>aug_vbc_3g</th>                 <td>   -7.4144</td> <td>    1.826</td> <td>   -4.060</td> <td> 0.000</td> <td>  -10.994</td> <td>   -3.835</td>\n",
       "</tr>\n",
       "<tr>\n",
       "  <th>jul_vbc_3g</th>                 <td>   -1.3895</td> <td>    1.039</td> <td>   -1.337</td> <td> 0.181</td> <td>   -3.426</td> <td>    0.647</td>\n",
       "</tr>\n",
       "<tr>\n",
       "  <th>jun_vbc_3g</th>                 <td>    3.0702</td> <td>    0.802</td> <td>    3.828</td> <td> 0.000</td> <td>    1.498</td> <td>    4.642</td>\n",
       "</tr>\n",
       "<tr>\n",
       "  <th>total_data_recharge_amnt_6</th> <td>    1.3424</td> <td>    1.580</td> <td>    0.850</td> <td> 0.395</td> <td>   -1.754</td> <td>    4.439</td>\n",
       "</tr>\n",
       "<tr>\n",
       "  <th>total_data_recharge_amnt_7</th> <td>   -0.4489</td> <td>    1.784</td> <td>   -0.252</td> <td> 0.801</td> <td>   -3.946</td> <td>    3.048</td>\n",
       "</tr>\n",
       "<tr>\n",
       "  <th>total_data_recharge_amnt_8</th> <td>   16.6768</td> <td>    1.484</td> <td>   11.234</td> <td> 0.000</td> <td>   13.767</td> <td>   19.586</td>\n",
       "</tr>\n",
       "<tr>\n",
       "  <th>total_recharge_amnt_6</th>      <td>    1.2886</td> <td>    1.313</td> <td>    0.981</td> <td> 0.327</td> <td>   -1.286</td> <td>    3.863</td>\n",
       "</tr>\n",
       "<tr>\n",
       "  <th>total_recharge_amnt_7</th>      <td>   -6.9018</td> <td>    1.453</td> <td>   -4.751</td> <td> 0.000</td> <td>   -9.749</td> <td>   -4.055</td>\n",
       "</tr>\n",
       "<tr>\n",
       "  <th>total_recharge_amnt_8</th>      <td>    1.9864</td> <td>    1.335</td> <td>    1.488</td> <td> 0.137</td> <td>   -0.630</td> <td>    4.602</td>\n",
       "</tr>\n",
       "<tr>\n",
       "  <th>average_amnt_6_7</th>           <td>   -4.8573</td> <td>    1.022</td> <td>   -4.754</td> <td> 0.000</td> <td>   -6.860</td> <td>   -2.855</td>\n",
       "</tr>\n",
       "</table>"
      ],
      "text/plain": [
       "<class 'statsmodels.iolib.summary.Summary'>\n",
       "\"\"\"\n",
       "                 Generalized Linear Model Regression Results                  \n",
       "==============================================================================\n",
       "Dep. Variable:      churn_probability   No. Observations:                27020\n",
       "Model:                            GLM   Df Residuals:                    26886\n",
       "Model Family:                Binomial   Df Model:                          133\n",
       "Link Function:                  logit   Scale:                          1.0000\n",
       "Method:                          IRLS   Log-Likelihood:                -8666.9\n",
       "Date:                Fri, 16 Sep 2022   Deviance:                       17334.\n",
       "Time:                        16:53:05   Pearson chi2:                 1.67e+05\n",
       "No. Iterations:                   100                                         \n",
       "Covariance Type:            nonrobust                                         \n",
       "==============================================================================================\n",
       "                                 coef    std err          z      P>|z|      [0.025      0.975]\n",
       "----------------------------------------------------------------------------------------------\n",
       "const                         -4.1563      0.671     -6.195      0.000      -5.471      -2.841\n",
       "arpu_6                         9.3046      3.643      2.554      0.011       2.164      16.445\n",
       "arpu_7                        22.2671      4.322      5.152      0.000      13.797      30.738\n",
       "arpu_8                        41.4633      4.894      8.473      0.000      31.872      51.055\n",
       "onnet_mou_6                  -94.9922     36.354     -2.613      0.009    -166.245     -23.739\n",
       "onnet_mou_7                  -30.1004     31.630     -0.952      0.341     -92.094      31.893\n",
       "onnet_mou_8                  -29.4465     48.746     -0.604      0.546    -124.986      66.093\n",
       "offnet_mou_6                 -93.2778     40.890     -2.281      0.023    -173.421     -13.135\n",
       "offnet_mou_7                 -32.1587     25.287     -1.272      0.203     -81.721      17.403\n",
       "offnet_mou_8                 -83.8900     62.079     -1.351      0.177    -205.563      37.783\n",
       "roam_ic_mou_6                  1.8720      1.126      1.662      0.096      -0.335       4.079\n",
       "roam_ic_mou_7                  1.2856      1.315      0.978      0.328      -1.292       3.863\n",
       "roam_ic_mou_8                 -2.3561      1.368     -1.722      0.085      -5.038       0.326\n",
       "roam_og_mou_6                 46.4365     18.592      2.498      0.013       9.996      82.877\n",
       "roam_og_mou_7                 16.3342     10.683      1.529      0.126      -4.604      37.273\n",
       "roam_og_mou_8                 30.2828     23.925      1.266      0.206     -16.609      77.174\n",
       "loc_og_t2t_mou_6           -4.165e+04   2.54e+04     -1.643      0.100   -9.13e+04    8036.676\n",
       "loc_og_t2t_mou_7            2.794e+04   2.86e+04      0.976      0.329   -2.82e+04    8.41e+04\n",
       "loc_og_t2t_mou_8            1.633e+05   4.39e+04      3.718      0.000    7.72e+04    2.49e+05\n",
       "loc_og_t2m_mou_6           -3.043e+04   1.85e+04     -1.644      0.100   -6.67e+04    5858.066\n",
       "loc_og_t2m_mou_7            1.721e+04   1.76e+04      0.976      0.329   -1.74e+04    5.18e+04\n",
       "loc_og_t2m_mou_8            7.539e+04   2.03e+04      3.719      0.000    3.57e+04    1.15e+05\n",
       "loc_og_t2f_mou_6           -4005.8635   2434.652     -1.645      0.100   -8777.693     765.966\n",
       "loc_og_t2f_mou_7            3077.8287   3155.241      0.975      0.329   -3106.330    9261.987\n",
       "loc_og_t2f_mou_8            8942.3650   2403.938      3.720      0.000    4230.734    1.37e+04\n",
       "loc_og_t2c_mou_6              -9.0443      1.563     -5.788      0.000     -12.107      -5.982\n",
       "loc_og_t2c_mou_7              -3.7948      2.560     -1.482      0.138      -8.813       1.223\n",
       "loc_og_t2c_mou_8               8.2316      1.571      5.239      0.000       5.152      11.311\n",
       "loc_og_mou_6                4.797e+04   4.75e+04      1.010      0.313   -4.51e+04    1.41e+05\n",
       "loc_og_mou_7               -3.222e+04   3.51e+04     -0.919      0.358   -1.01e+05    3.65e+04\n",
       "loc_og_mou_8               -2.204e+05   5.36e+04     -4.110      0.000   -3.25e+05   -1.15e+05\n",
       "std_og_t2t_mou_6            -1.26e+05   3.53e+04     -3.575      0.000   -1.95e+05   -5.69e+04\n",
       "std_og_t2t_mou_7           -5.058e+04   4.01e+04     -1.260      0.208   -1.29e+05    2.81e+04\n",
       "std_og_t2t_mou_8            1.582e+05   4.21e+04      3.760      0.000    7.58e+04    2.41e+05\n",
       "std_og_t2m_mou_6           -1.423e+05   3.98e+04     -3.575      0.000    -2.2e+05   -6.43e+04\n",
       "std_og_t2m_mou_7           -4.117e+04   3.27e+04     -1.260      0.208   -1.05e+05    2.29e+04\n",
       "std_og_t2m_mou_8            2.755e+05   7.33e+04      3.761      0.000    1.32e+05    4.19e+05\n",
       "std_og_t2f_mou_6           -5784.5497   1617.847     -3.575      0.000   -8955.472   -2613.627\n",
       "std_og_t2f_mou_7           -2895.1987   2298.129     -1.260      0.208   -7399.448    1609.051\n",
       "std_og_t2f_mou_8            6986.8665   1859.906      3.757      0.000    3341.518    1.06e+04\n",
       "std_og_mou_6                1.277e+05   4.35e+04      2.936      0.003    4.25e+04    2.13e+05\n",
       "std_og_mou_7                4.727e+04   4.48e+04      1.056      0.291   -4.04e+04    1.35e+05\n",
       "std_og_mou_8               -3.427e+05   8.14e+04     -4.212      0.000   -5.02e+05   -1.83e+05\n",
       "isd_og_mou_6               -1.165e+04    1.7e+04     -0.687      0.492   -4.49e+04    2.16e+04\n",
       "isd_og_mou_7               -2330.3110   1.77e+04     -0.132      0.895    -3.7e+04    3.23e+04\n",
       "isd_og_mou_8               -2.712e+04   1.89e+04     -1.436      0.151   -6.41e+04    9903.517\n",
       "spl_og_mou_6               -2014.1377   2940.473     -0.685      0.493   -7777.358    3749.083\n",
       "spl_og_mou_7                -541.6011   4075.959     -0.133      0.894   -8530.333    7447.131\n",
       "spl_og_mou_8               -3742.0066   2606.051     -1.436      0.151   -8849.774    1365.760\n",
       "og_others_6                -1236.9061   1754.094     -0.705      0.481   -4674.867    2201.055\n",
       "og_others_7                  -55.3285    216.864     -0.255      0.799    -480.374     369.716\n",
       "og_others_8                -2226.1637   1333.370     -1.670      0.095   -4839.521     387.194\n",
       "total_og_mou_6              2.116e+04   3.07e+04      0.690      0.490    -3.9e+04    8.13e+04\n",
       "total_og_mou_7              3537.7312   2.67e+04      0.133      0.895   -4.88e+04    5.58e+04\n",
       "total_og_mou_8              6.702e+04   4.67e+04      1.435      0.151   -2.45e+04    1.59e+05\n",
       "loc_ic_t2t_mou_6           -1.105e+05   1.61e+04     -6.862      0.000   -1.42e+05    -7.9e+04\n",
       "loc_ic_t2t_mou_7            7.598e+04   2.13e+04      3.567      0.000    3.42e+04    1.18e+05\n",
       "loc_ic_t2t_mou_8            1.295e+05   1.51e+04      8.562      0.000    9.98e+04    1.59e+05\n",
       "loc_ic_t2m_mou_6           -1.127e+05   1.64e+04     -6.862      0.000   -1.45e+05   -8.05e+04\n",
       "loc_ic_t2m_mou_7            5.359e+04    1.5e+04      3.567      0.000    2.41e+04     8.3e+04\n",
       "loc_ic_t2m_mou_8            1.513e+05   1.77e+04      8.562      0.000    1.17e+05    1.86e+05\n",
       "loc_ic_t2f_mou_6           -3.478e+04   5068.333     -6.863      0.000   -4.47e+04   -2.49e+04\n",
       "loc_ic_t2f_mou_7             2.64e+04   7398.955      3.568      0.000    1.19e+04    4.09e+04\n",
       "loc_ic_t2f_mou_8            4.757e+04   5556.534      8.561      0.000    3.67e+04    5.85e+04\n",
       "loc_ic_mou_6                1.461e+05   2.78e+04      5.262      0.000    9.17e+04    2.01e+05\n",
       "loc_ic_mou_7               -7.033e+04   2.49e+04     -2.820      0.005   -1.19e+05   -2.14e+04\n",
       "loc_ic_mou_8                -1.03e+05   2.07e+04     -4.986      0.000   -1.43e+05   -6.25e+04\n",
       "std_ic_t2t_mou_6           -1.193e+04   1.44e+04     -0.829      0.407   -4.01e+04    1.63e+04\n",
       "std_ic_t2t_mou_7           -4.284e+04   2.05e+04     -2.094      0.036   -8.29e+04   -2742.812\n",
       "std_ic_t2t_mou_8            2.835e+04   1.79e+04      1.587      0.113   -6673.403    6.34e+04\n",
       "std_ic_t2m_mou_6           -1.419e+04   1.71e+04     -0.829      0.407   -4.77e+04    1.94e+04\n",
       "std_ic_t2m_mou_7            -2.66e+04   1.27e+04     -2.095      0.036   -5.15e+04   -1711.539\n",
       "std_ic_t2m_mou_8            2.386e+04    1.5e+04      1.588      0.112   -5595.121    5.33e+04\n",
       "std_ic_t2f_mou_6           -5312.6501   6399.103     -0.830      0.406   -1.79e+04    7229.361\n",
       "std_ic_t2f_mou_7           -1.148e+04   5487.856     -2.093      0.036   -2.22e+04    -728.198\n",
       "std_ic_t2f_mou_8            1.155e+04   7281.585      1.586      0.113   -2723.755    2.58e+04\n",
       "std_ic_mou_6               -6518.9564   1.78e+04     -0.367      0.714   -4.13e+04    2.83e+04\n",
       "std_ic_mou_7                5.425e+04   2.22e+04      2.446      0.014    1.08e+04    9.77e+04\n",
       "std_ic_mou_8                1.851e+04   2.08e+04      0.890      0.373   -2.23e+04    5.93e+04\n",
       "total_ic_mou_6               4.42e+04   1.78e+04      2.479      0.013    9253.043    7.92e+04\n",
       "total_ic_mou_7             -1.809e+04   1.86e+04     -0.974      0.330   -5.45e+04    1.83e+04\n",
       "total_ic_mou_8             -8.002e+04   1.55e+04     -5.175      0.000    -1.1e+05   -4.97e+04\n",
       "spl_ic_mou_6                -105.1431     46.170     -2.277      0.023    -195.634     -14.652\n",
       "spl_ic_mou_7                  27.5894     33.836      0.815      0.415     -38.727      93.906\n",
       "spl_ic_mou_8                   8.1692      3.318      2.462      0.014       1.666      14.672\n",
       "isd_ic_mou_6               -3.889e+04   1.57e+04     -2.479      0.013   -6.96e+04   -8137.070\n",
       "isd_ic_mou_7                1.096e+04   1.13e+04      0.974      0.330   -1.11e+04     3.3e+04\n",
       "isd_ic_mou_8                3.161e+04   6108.544      5.175      0.000    1.96e+04    4.36e+04\n",
       "ic_others_6                -7723.8275   3107.116     -2.486      0.013   -1.38e+04   -1633.992\n",
       "ic_others_7                 3641.5012   3732.345      0.976      0.329   -3673.761     1.1e+04\n",
       "ic_others_8                 1.596e+04   3083.825      5.176      0.000    9918.271     2.2e+04\n",
       "total_rech_num_6              -0.8682      0.738     -1.177      0.239      -2.314       0.577\n",
       "total_rech_num_7               4.6625      0.739      6.306      0.000       3.213       6.112\n",
       "total_rech_num_8              -7.0326      0.816     -8.617      0.000      -8.632      -5.433\n",
       "total_rech_amt_6               0.0372      3.077      0.012      0.990      -5.994       6.068\n",
       "total_rech_amt_7             -18.8657      3.662     -5.152      0.000     -26.042     -11.689\n",
       "total_rech_amt_8             -38.9042      4.208     -9.246      0.000     -47.151     -30.657\n",
       "max_rech_amt_6                -4.0950      0.989     -4.141      0.000      -6.033      -2.157\n",
       "max_rech_amt_7                 0.2416      0.824      0.293      0.770      -1.374       1.857\n",
       "max_rech_amt_8                13.0706      1.251     10.446      0.000      10.618      15.523\n",
       "last_day_rch_amt_6            -0.2513      0.886     -0.284      0.777      -1.987       1.485\n",
       "last_day_rch_amt_7             2.1910      0.686      3.193      0.001       0.846       3.536\n",
       "last_day_rch_amt_8           -15.7235      1.165    -13.496      0.000     -18.007     -13.440\n",
       "total_rech_data_6              2.0055      0.524      3.830      0.000       0.979       3.032\n",
       "total_rech_data_7              1.5902      0.719      2.213      0.027       0.182       2.998\n",
       "total_rech_data_8             -8.4808      1.103     -7.689      0.000     -10.643      -6.319\n",
       "max_rech_data_6                5.9039      0.881      6.705      0.000       4.178       7.630\n",
       "max_rech_data_7               -1.9661      0.922     -2.133      0.033      -3.772      -0.160\n",
       "max_rech_data_8               -5.7378      1.063     -5.399      0.000      -7.821      -3.655\n",
       "av_rech_amt_data_6           -16.4787      2.939     -5.606      0.000     -22.240     -10.717\n",
       "av_rech_amt_data_7             5.6007      2.090      2.680      0.007       1.505       9.697\n",
       "av_rech_amt_data_8            -3.3026      2.546     -1.297      0.195      -8.292       1.687\n",
       "vol_2g_mb_6                   -1.5255      0.827     -1.844      0.065      -3.147       0.096\n",
       "vol_2g_mb_7                    3.6952      0.952      3.883      0.000       1.830       5.560\n",
       "vol_2g_mb_8                   -6.0772      1.221     -4.979      0.000      -8.470      -3.685\n",
       "vol_3g_mb_6                   -7.0305      3.175     -2.214      0.027     -13.254      -0.807\n",
       "vol_3g_mb_7                    6.4706      1.926      3.359      0.001       2.695      10.246\n",
       "vol_3g_mb_8                   -7.0245      2.234     -3.144      0.002     -11.404      -2.645\n",
       "monthly_2g_6                  -0.4154      0.326     -1.273      0.203      -1.055       0.224\n",
       "monthly_2g_7                  -0.8794      0.428     -2.053      0.040      -1.719      -0.040\n",
       "monthly_2g_8                  -4.3486      0.615     -7.074      0.000      -5.553      -3.144\n",
       "sachet_2g_6                    0.6171      0.512      1.206      0.228      -0.386       1.620\n",
       "sachet_2g_7                   -0.3136      0.566     -0.554      0.580      -1.423       0.796\n",
       "sachet_2g_8                   -2.1782      0.676     -3.220      0.001      -3.504      -0.852\n",
       "monthly_3g_6                   2.1734      0.790      2.752      0.006       0.626       3.721\n",
       "monthly_3g_7                  -2.9572      1.255     -2.356      0.018      -5.417      -0.497\n",
       "monthly_3g_8                  -5.0557      1.760     -2.873      0.004      -8.504      -1.607\n",
       "sachet_3g_6                    2.7074      0.927      2.922      0.003       0.891       4.524\n",
       "sachet_3g_7                    4.4460      1.111      4.003      0.000       2.269       6.623\n",
       "sachet_3g_8                   -8.1014      1.633     -4.960      0.000     -11.303      -4.900\n",
       "aon                           -0.4343      0.106     -4.098      0.000      -0.642      -0.227\n",
       "aug_vbc_3g                    -7.4144      1.826     -4.060      0.000     -10.994      -3.835\n",
       "jul_vbc_3g                    -1.3895      1.039     -1.337      0.181      -3.426       0.647\n",
       "jun_vbc_3g                     3.0702      0.802      3.828      0.000       1.498       4.642\n",
       "total_data_recharge_amnt_6     1.3424      1.580      0.850      0.395      -1.754       4.439\n",
       "total_data_recharge_amnt_7    -0.4489      1.784     -0.252      0.801      -3.946       3.048\n",
       "total_data_recharge_amnt_8    16.6768      1.484     11.234      0.000      13.767      19.586\n",
       "total_recharge_amnt_6          1.2886      1.313      0.981      0.327      -1.286       3.863\n",
       "total_recharge_amnt_7         -6.9018      1.453     -4.751      0.000      -9.749      -4.055\n",
       "total_recharge_amnt_8          1.9864      1.335      1.488      0.137      -0.630       4.602\n",
       "average_amnt_6_7              -4.8573      1.022     -4.754      0.000      -6.860      -2.855\n",
       "==============================================================================================\n",
       "\"\"\""
      ]
     },
     "execution_count": 54,
     "metadata": {},
     "output_type": "execute_result"
    }
   ],
   "source": [
    "# For RFE\n",
    "logml = sm.GLM(y_resampled, (sm.add_constant(X_resampled)), family=sm.families.Binomial())\n",
    "logml.fit().summary()"
   ]
  },
  {
   "cell_type": "markdown",
   "id": "157e7780",
   "metadata": {},
   "source": [
    "## Lower the p-value higher the significance"
   ]
  },
  {
   "cell_type": "code",
   "execution_count": 55,
   "id": "27a6fc4c",
   "metadata": {},
   "outputs": [],
   "source": [
    "logreg = LogisticRegression()"
   ]
  },
  {
   "cell_type": "code",
   "execution_count": 56,
   "id": "f373b0ef",
   "metadata": {},
   "outputs": [],
   "source": [
    "# Running rfe with 70 variables as output\n",
    "rfe = RFE(logreg, n_features_to_select=70)\n",
    "rfe = rfe.fit(X_resampled, y_resampled)"
   ]
  },
  {
   "cell_type": "code",
   "execution_count": 57,
   "id": "ac2cb82c",
   "metadata": {},
   "outputs": [
    {
     "data": {
      "text/plain": [
       "array([ True,  True,  True, False,  True, False, False,  True,  True,\n",
       "        True, False, False,  True,  True,  True, False, False,  True,\n",
       "        True, False,  True,  True, False,  True,  True, False,  True,\n",
       "       False, False,  True, False, False, False, False, False,  True,\n",
       "       False, False,  True,  True,  True,  True, False, False, False,\n",
       "       False, False,  True, False, False, False, False, False,  True,\n",
       "        True, False,  True,  True, False,  True, False, False,  True,\n",
       "        True, False,  True, False, False,  True, False, False,  True,\n",
       "       False, False,  True,  True, False,  True,  True, False,  True,\n",
       "       False, False,  True, False, False,  True, False, False, False,\n",
       "        True,  True,  True,  True, False,  True,  True,  True,  True,\n",
       "       False, False,  True,  True, False,  True,  True,  True,  True,\n",
       "        True, False,  True,  True,  True,  True, False, False,  True,\n",
       "       False,  True,  True, False, False,  True, False,  True,  True,\n",
       "       False, False,  True, False,  True,  True, False, False, False,\n",
       "        True, False, False, False, False])"
      ]
     },
     "execution_count": 57,
     "metadata": {},
     "output_type": "execute_result"
    }
   ],
   "source": [
    "rfe.support_ # it givs whether or not the selected feature was in top 70. True means yes"
   ]
  },
  {
   "cell_type": "code",
   "execution_count": 58,
   "id": "b474206d",
   "metadata": {},
   "outputs": [
    {
     "data": {
      "text/plain": [
       "[('arpu_6', True, 1),\n",
       " ('arpu_7', True, 1),\n",
       " ('arpu_8', True, 1),\n",
       " ('onnet_mou_6', False, 16),\n",
       " ('onnet_mou_7', True, 1),\n",
       " ('onnet_mou_8', False, 48),\n",
       " ('offnet_mou_6', False, 5),\n",
       " ('offnet_mou_7', True, 1),\n",
       " ('offnet_mou_8', True, 1),\n",
       " ('roam_ic_mou_6', True, 1),\n",
       " ('roam_ic_mou_7', False, 52),\n",
       " ('roam_ic_mou_8', False, 60),\n",
       " ('roam_og_mou_6', True, 1),\n",
       " ('roam_og_mou_7', True, 1),\n",
       " ('roam_og_mou_8', True, 1),\n",
       " ('loc_og_t2t_mou_6', False, 39),\n",
       " ('loc_og_t2t_mou_7', False, 40),\n",
       " ('loc_og_t2t_mou_8', True, 1),\n",
       " ('loc_og_t2m_mou_6', True, 1),\n",
       " ('loc_og_t2m_mou_7', False, 8),\n",
       " ('loc_og_t2m_mou_8', True, 1),\n",
       " ('loc_og_t2f_mou_6', True, 1),\n",
       " ('loc_og_t2f_mou_7', False, 45),\n",
       " ('loc_og_t2f_mou_8', True, 1),\n",
       " ('loc_og_t2c_mou_6', True, 1),\n",
       " ('loc_og_t2c_mou_7', False, 2),\n",
       " ('loc_og_t2c_mou_8', True, 1),\n",
       " ('loc_og_mou_6', False, 69),\n",
       " ('loc_og_mou_7', False, 32),\n",
       " ('loc_og_mou_8', True, 1),\n",
       " ('std_og_t2t_mou_6', False, 46),\n",
       " ('std_og_t2t_mou_7', False, 7),\n",
       " ('std_og_t2t_mou_8', False, 61),\n",
       " ('std_og_t2m_mou_6', False, 51),\n",
       " ('std_og_t2m_mou_7', False, 26),\n",
       " ('std_og_t2m_mou_8', True, 1),\n",
       " ('std_og_t2f_mou_6', False, 58),\n",
       " ('std_og_t2f_mou_7', False, 34),\n",
       " ('std_og_t2f_mou_8', True, 1),\n",
       " ('std_og_mou_6', True, 1),\n",
       " ('std_og_mou_7', True, 1),\n",
       " ('std_og_mou_8', True, 1),\n",
       " ('isd_og_mou_6', False, 68),\n",
       " ('isd_og_mou_7', False, 70),\n",
       " ('isd_og_mou_8', False, 64),\n",
       " ('spl_og_mou_6', False, 66),\n",
       " ('spl_og_mou_7', False, 23),\n",
       " ('spl_og_mou_8', True, 1),\n",
       " ('og_others_6', False, 31),\n",
       " ('og_others_7', False, 38),\n",
       " ('og_others_8', False, 62),\n",
       " ('total_og_mou_6', False, 20),\n",
       " ('total_og_mou_7', False, 14),\n",
       " ('total_og_mou_8', True, 1),\n",
       " ('loc_ic_t2t_mou_6', True, 1),\n",
       " ('loc_ic_t2t_mou_7', False, 50),\n",
       " ('loc_ic_t2t_mou_8', True, 1),\n",
       " ('loc_ic_t2m_mou_6', True, 1),\n",
       " ('loc_ic_t2m_mou_7', False, 25),\n",
       " ('loc_ic_t2m_mou_8', True, 1),\n",
       " ('loc_ic_t2f_mou_6', False, 30),\n",
       " ('loc_ic_t2f_mou_7', False, 24),\n",
       " ('loc_ic_t2f_mou_8', True, 1),\n",
       " ('loc_ic_mou_6', True, 1),\n",
       " ('loc_ic_mou_7', False, 3),\n",
       " ('loc_ic_mou_8', True, 1),\n",
       " ('std_ic_t2t_mou_6', False, 6),\n",
       " ('std_ic_t2t_mou_7', False, 17),\n",
       " ('std_ic_t2t_mou_8', True, 1),\n",
       " ('std_ic_t2m_mou_6', False, 15),\n",
       " ('std_ic_t2m_mou_7', False, 33),\n",
       " ('std_ic_t2m_mou_8', True, 1),\n",
       " ('std_ic_t2f_mou_6', False, 54),\n",
       " ('std_ic_t2f_mou_7', False, 47),\n",
       " ('std_ic_t2f_mou_8', True, 1),\n",
       " ('std_ic_mou_6', True, 1),\n",
       " ('std_ic_mou_7', False, 36),\n",
       " ('std_ic_mou_8', True, 1),\n",
       " ('total_ic_mou_6', True, 1),\n",
       " ('total_ic_mou_7', False, 18),\n",
       " ('total_ic_mou_8', True, 1),\n",
       " ('spl_ic_mou_6', False, 53),\n",
       " ('spl_ic_mou_7', False, 44),\n",
       " ('spl_ic_mou_8', True, 1),\n",
       " ('isd_ic_mou_6', False, 13),\n",
       " ('isd_ic_mou_7', False, 19),\n",
       " ('isd_ic_mou_8', True, 1),\n",
       " ('ic_others_6', False, 35),\n",
       " ('ic_others_7', False, 63),\n",
       " ('ic_others_8', False, 71),\n",
       " ('total_rech_num_6', True, 1),\n",
       " ('total_rech_num_7', True, 1),\n",
       " ('total_rech_num_8', True, 1),\n",
       " ('total_rech_amt_6', True, 1),\n",
       " ('total_rech_amt_7', False, 42),\n",
       " ('total_rech_amt_8', True, 1),\n",
       " ('max_rech_amt_6', True, 1),\n",
       " ('max_rech_amt_7', True, 1),\n",
       " ('max_rech_amt_8', True, 1),\n",
       " ('last_day_rch_amt_6', False, 12),\n",
       " ('last_day_rch_amt_7', False, 49),\n",
       " ('last_day_rch_amt_8', True, 1),\n",
       " ('total_rech_data_6', True, 1),\n",
       " ('total_rech_data_7', False, 59),\n",
       " ('total_rech_data_8', True, 1),\n",
       " ('max_rech_data_6', True, 1),\n",
       " ('max_rech_data_7', True, 1),\n",
       " ('max_rech_data_8', True, 1),\n",
       " ('av_rech_amt_data_6', True, 1),\n",
       " ('av_rech_amt_data_7', False, 11),\n",
       " ('av_rech_amt_data_8', True, 1),\n",
       " ('vol_2g_mb_6', True, 1),\n",
       " ('vol_2g_mb_7', True, 1),\n",
       " ('vol_2g_mb_8', True, 1),\n",
       " ('vol_3g_mb_6', False, 57),\n",
       " ('vol_3g_mb_7', False, 10),\n",
       " ('vol_3g_mb_8', True, 1),\n",
       " ('monthly_2g_6', False, 9),\n",
       " ('monthly_2g_7', True, 1),\n",
       " ('monthly_2g_8', True, 1),\n",
       " ('sachet_2g_6', False, 22),\n",
       " ('sachet_2g_7', False, 65),\n",
       " ('sachet_2g_8', True, 1),\n",
       " ('monthly_3g_6', False, 29),\n",
       " ('monthly_3g_7', True, 1),\n",
       " ('monthly_3g_8', True, 1),\n",
       " ('sachet_3g_6', False, 28),\n",
       " ('sachet_3g_7', False, 21),\n",
       " ('sachet_3g_8', True, 1),\n",
       " ('aon', False, 4),\n",
       " ('aug_vbc_3g', True, 1),\n",
       " ('jul_vbc_3g', True, 1),\n",
       " ('jun_vbc_3g', False, 41),\n",
       " ('total_data_recharge_amnt_6', False, 27),\n",
       " ('total_data_recharge_amnt_7', False, 55),\n",
       " ('total_data_recharge_amnt_8', True, 1),\n",
       " ('total_recharge_amnt_6', False, 56),\n",
       " ('total_recharge_amnt_7', False, 67),\n",
       " ('total_recharge_amnt_8', False, 37),\n",
       " ('average_amnt_6_7', False, 43)]"
      ]
     },
     "execution_count": 58,
     "metadata": {},
     "output_type": "execute_result"
    }
   ],
   "source": [
    "# to see the selected columns\n",
    "list(zip(X_resampled.columns, rfe.support_, rfe.ranking_))"
   ]
  },
  {
   "cell_type": "code",
   "execution_count": 59,
   "id": "bc628327",
   "metadata": {},
   "outputs": [],
   "source": [
    "col = X_resampled.columns[rfe.support_]"
   ]
  },
  {
   "cell_type": "code",
   "execution_count": 60,
   "id": "bbbd2363",
   "metadata": {},
   "outputs": [
    {
     "data": {
      "text/html": [
       "<table class=\"simpletable\">\n",
       "<caption>Generalized Linear Model Regression Results</caption>\n",
       "<tr>\n",
       "  <th>Dep. Variable:</th>   <td>churn_probability</td> <th>  No. Observations:  </th>  <td> 27020</td> \n",
       "</tr>\n",
       "<tr>\n",
       "  <th>Model:</th>                  <td>GLM</td>        <th>  Df Residuals:      </th>  <td> 26950</td> \n",
       "</tr>\n",
       "<tr>\n",
       "  <th>Model Family:</th>        <td>Binomial</td>      <th>  Df Model:          </th>  <td>    69</td> \n",
       "</tr>\n",
       "<tr>\n",
       "  <th>Link Function:</th>         <td>logit</td>       <th>  Scale:             </th> <td>  1.0000</td>\n",
       "</tr>\n",
       "<tr>\n",
       "  <th>Method:</th>                <td>IRLS</td>        <th>  Log-Likelihood:    </th> <td> -8968.7</td>\n",
       "</tr>\n",
       "<tr>\n",
       "  <th>Date:</th>            <td>Fri, 16 Sep 2022</td>  <th>  Deviance:          </th> <td>  17937.</td>\n",
       "</tr>\n",
       "<tr>\n",
       "  <th>Time:</th>                <td>16:53:36</td>      <th>  Pearson chi2:      </th> <td>4.20e+05</td>\n",
       "</tr>\n",
       "<tr>\n",
       "  <th>No. Iterations:</th>          <td>7</td>         <th>                     </th>     <td> </td>   \n",
       "</tr>\n",
       "<tr>\n",
       "  <th>Covariance Type:</th>     <td>nonrobust</td>     <th>                     </th>     <td> </td>   \n",
       "</tr>\n",
       "</table>\n",
       "<table class=\"simpletable\">\n",
       "<tr>\n",
       "               <td></td>                 <th>coef</th>     <th>std err</th>      <th>z</th>      <th>P>|z|</th>  <th>[0.025</th>    <th>0.975]</th>  \n",
       "</tr>\n",
       "<tr>\n",
       "  <th>const</th>                      <td>   -2.1695</td> <td>    0.510</td> <td>   -4.252</td> <td> 0.000</td> <td>   -3.170</td> <td>   -1.170</td>\n",
       "</tr>\n",
       "<tr>\n",
       "  <th>arpu_6</th>                     <td>    4.4275</td> <td>    3.271</td> <td>    1.354</td> <td> 0.176</td> <td>   -1.983</td> <td>   10.839</td>\n",
       "</tr>\n",
       "<tr>\n",
       "  <th>arpu_7</th>                     <td>    6.5234</td> <td>    2.381</td> <td>    2.739</td> <td> 0.006</td> <td>    1.856</td> <td>   11.191</td>\n",
       "</tr>\n",
       "<tr>\n",
       "  <th>arpu_8</th>                     <td>   35.8779</td> <td>    4.483</td> <td>    8.004</td> <td> 0.000</td> <td>   27.092</td> <td>   44.664</td>\n",
       "</tr>\n",
       "<tr>\n",
       "  <th>onnet_mou_7</th>                <td>    7.0257</td> <td>    1.435</td> <td>    4.895</td> <td> 0.000</td> <td>    4.213</td> <td>    9.839</td>\n",
       "</tr>\n",
       "<tr>\n",
       "  <th>offnet_mou_7</th>               <td>    5.9937</td> <td>    1.149</td> <td>    5.215</td> <td> 0.000</td> <td>    3.741</td> <td>    8.246</td>\n",
       "</tr>\n",
       "<tr>\n",
       "  <th>offnet_mou_8</th>               <td>  -48.0938</td> <td>   10.161</td> <td>   -4.733</td> <td> 0.000</td> <td>  -68.008</td> <td>  -28.180</td>\n",
       "</tr>\n",
       "<tr>\n",
       "  <th>roam_ic_mou_6</th>              <td>    2.0810</td> <td>    0.969</td> <td>    2.149</td> <td> 0.032</td> <td>    0.183</td> <td>    3.979</td>\n",
       "</tr>\n",
       "<tr>\n",
       "  <th>roam_og_mou_6</th>              <td>    0.9129</td> <td>    0.934</td> <td>    0.978</td> <td> 0.328</td> <td>   -0.917</td> <td>    2.743</td>\n",
       "</tr>\n",
       "<tr>\n",
       "  <th>roam_og_mou_7</th>              <td>    1.6967</td> <td>    0.832</td> <td>    2.038</td> <td> 0.042</td> <td>    0.065</td> <td>    3.328</td>\n",
       "</tr>\n",
       "<tr>\n",
       "  <th>roam_og_mou_8</th>              <td>   17.4105</td> <td>    3.041</td> <td>    5.724</td> <td> 0.000</td> <td>   11.449</td> <td>   23.371</td>\n",
       "</tr>\n",
       "<tr>\n",
       "  <th>loc_og_t2t_mou_8</th>           <td> 6335.0785</td> <td> 3.81e+04</td> <td>    0.166</td> <td> 0.868</td> <td>-6.83e+04</td> <td>  8.1e+04</td>\n",
       "</tr>\n",
       "<tr>\n",
       "  <th>loc_og_t2m_mou_6</th>           <td>   -3.4334</td> <td>    0.897</td> <td>   -3.828</td> <td> 0.000</td> <td>   -5.191</td> <td>   -1.676</td>\n",
       "</tr>\n",
       "<tr>\n",
       "  <th>loc_og_t2m_mou_8</th>           <td> 2941.4514</td> <td> 1.76e+04</td> <td>    0.167</td> <td> 0.867</td> <td>-3.15e+04</td> <td> 3.74e+04</td>\n",
       "</tr>\n",
       "<tr>\n",
       "  <th>loc_og_t2f_mou_6</th>           <td>   -3.7701</td> <td>    1.571</td> <td>   -2.400</td> <td> 0.016</td> <td>   -6.849</td> <td>   -0.691</td>\n",
       "</tr>\n",
       "<tr>\n",
       "  <th>loc_og_t2f_mou_8</th>           <td>  350.6618</td> <td> 2084.690</td> <td>    0.168</td> <td> 0.866</td> <td>-3735.255</td> <td> 4436.579</td>\n",
       "</tr>\n",
       "<tr>\n",
       "  <th>loc_og_t2c_mou_6</th>           <td>   -8.0190</td> <td>    1.292</td> <td>   -6.205</td> <td> 0.000</td> <td>  -10.552</td> <td>   -5.486</td>\n",
       "</tr>\n",
       "<tr>\n",
       "  <th>loc_og_t2c_mou_8</th>           <td>    6.0369</td> <td>    1.360</td> <td>    4.440</td> <td> 0.000</td> <td>    3.372</td> <td>    8.702</td>\n",
       "</tr>\n",
       "<tr>\n",
       "  <th>loc_og_mou_8</th>               <td>-6485.8845</td> <td> 3.91e+04</td> <td>   -0.166</td> <td> 0.868</td> <td>-8.32e+04</td> <td> 7.02e+04</td>\n",
       "</tr>\n",
       "<tr>\n",
       "  <th>std_og_t2m_mou_8</th>           <td>   41.8002</td> <td>   10.181</td> <td>    4.106</td> <td> 0.000</td> <td>   21.846</td> <td>   61.754</td>\n",
       "</tr>\n",
       "<tr>\n",
       "  <th>std_og_t2f_mou_8</th>           <td>   -6.9396</td> <td>    1.890</td> <td>   -3.672</td> <td> 0.000</td> <td>  -10.644</td> <td>   -3.235</td>\n",
       "</tr>\n",
       "<tr>\n",
       "  <th>std_og_mou_6</th>               <td>    1.5788</td> <td>    0.564</td> <td>    2.801</td> <td> 0.005</td> <td>    0.474</td> <td>    2.683</td>\n",
       "</tr>\n",
       "<tr>\n",
       "  <th>std_og_mou_7</th>               <td>   -3.2248</td> <td>    1.416</td> <td>   -2.277</td> <td> 0.023</td> <td>   -6.001</td> <td>   -0.449</td>\n",
       "</tr>\n",
       "<tr>\n",
       "  <th>std_og_mou_8</th>               <td>   44.8158</td> <td>   33.523</td> <td>    1.337</td> <td> 0.181</td> <td>  -20.888</td> <td>  110.520</td>\n",
       "</tr>\n",
       "<tr>\n",
       "  <th>spl_og_mou_8</th>               <td>   -0.5277</td> <td>    2.422</td> <td>   -0.218</td> <td> 0.828</td> <td>   -5.275</td> <td>    4.219</td>\n",
       "</tr>\n",
       "<tr>\n",
       "  <th>total_og_mou_8</th>             <td>  -54.0984</td> <td>   33.871</td> <td>   -1.597</td> <td> 0.110</td> <td> -120.485</td> <td>   12.288</td>\n",
       "</tr>\n",
       "<tr>\n",
       "  <th>loc_ic_t2t_mou_6</th>           <td>   11.4081</td> <td>    5.312</td> <td>    2.148</td> <td> 0.032</td> <td>    0.997</td> <td>   21.819</td>\n",
       "</tr>\n",
       "<tr>\n",
       "  <th>loc_ic_t2t_mou_8</th>           <td> 1516.7155</td> <td> 8905.301</td> <td>    0.170</td> <td> 0.865</td> <td>-1.59e+04</td> <td>  1.9e+04</td>\n",
       "</tr>\n",
       "<tr>\n",
       "  <th>loc_ic_t2m_mou_6</th>           <td>   12.9114</td> <td>    5.300</td> <td>    2.436</td> <td> 0.015</td> <td>    2.523</td> <td>   23.300</td>\n",
       "</tr>\n",
       "<tr>\n",
       "  <th>loc_ic_t2m_mou_8</th>           <td> 1777.9811</td> <td> 1.04e+04</td> <td>    0.171</td> <td> 0.864</td> <td>-1.86e+04</td> <td> 2.22e+04</td>\n",
       "</tr>\n",
       "<tr>\n",
       "  <th>loc_ic_t2f_mou_8</th>           <td>  557.2926</td> <td> 3272.792</td> <td>    0.170</td> <td> 0.865</td> <td>-5857.262</td> <td> 6971.848</td>\n",
       "</tr>\n",
       "<tr>\n",
       "  <th>loc_ic_mou_6</th>               <td>   -3.0819</td> <td>    9.261</td> <td>   -0.333</td> <td> 0.739</td> <td>  -21.234</td> <td>   15.070</td>\n",
       "</tr>\n",
       "<tr>\n",
       "  <th>loc_ic_mou_8</th>               <td>-2065.3201</td> <td> 1.19e+04</td> <td>   -0.174</td> <td> 0.862</td> <td>-2.54e+04</td> <td> 2.12e+04</td>\n",
       "</tr>\n",
       "<tr>\n",
       "  <th>std_ic_t2t_mou_8</th>           <td>-1.642e+04</td> <td> 1.64e+04</td> <td>   -1.003</td> <td> 0.316</td> <td>-4.85e+04</td> <td> 1.57e+04</td>\n",
       "</tr>\n",
       "<tr>\n",
       "  <th>std_ic_t2m_mou_8</th>           <td> -1.38e+04</td> <td> 1.38e+04</td> <td>   -1.002</td> <td> 0.316</td> <td>-4.08e+04</td> <td> 1.32e+04</td>\n",
       "</tr>\n",
       "<tr>\n",
       "  <th>std_ic_t2f_mou_8</th>           <td>-6691.8049</td> <td> 6669.748</td> <td>   -1.003</td> <td> 0.316</td> <td>-1.98e+04</td> <td> 6380.660</td>\n",
       "</tr>\n",
       "<tr>\n",
       "  <th>std_ic_mou_6</th>               <td>    5.5275</td> <td>    2.056</td> <td>    2.688</td> <td> 0.007</td> <td>    1.497</td> <td>    9.558</td>\n",
       "</tr>\n",
       "<tr>\n",
       "  <th>std_ic_mou_8</th>               <td> 1.809e+04</td> <td> 1.81e+04</td> <td>    1.002</td> <td> 0.317</td> <td>-1.73e+04</td> <td> 5.35e+04</td>\n",
       "</tr>\n",
       "<tr>\n",
       "  <th>total_ic_mou_6</th>             <td>   -3.1568</td> <td>    3.819</td> <td>   -0.827</td> <td> 0.408</td> <td>  -10.642</td> <td>    4.328</td>\n",
       "</tr>\n",
       "<tr>\n",
       "  <th>total_ic_mou_8</th>             <td>   -1.7050</td> <td>   14.819</td> <td>   -0.115</td> <td> 0.908</td> <td>  -30.750</td> <td>   27.340</td>\n",
       "</tr>\n",
       "<tr>\n",
       "  <th>spl_ic_mou_8</th>               <td>   -8.3599</td> <td>    0.667</td> <td>  -12.529</td> <td> 0.000</td> <td>   -9.668</td> <td>   -7.052</td>\n",
       "</tr>\n",
       "<tr>\n",
       "  <th>isd_ic_mou_8</th>               <td>    1.5195</td> <td>    5.972</td> <td>    0.254</td> <td> 0.799</td> <td>  -10.186</td> <td>   13.225</td>\n",
       "</tr>\n",
       "<tr>\n",
       "  <th>total_rech_num_6</th>           <td>   -0.3021</td> <td>    0.674</td> <td>   -0.449</td> <td> 0.654</td> <td>   -1.622</td> <td>    1.018</td>\n",
       "</tr>\n",
       "<tr>\n",
       "  <th>total_rech_num_7</th>           <td>    4.0726</td> <td>    0.640</td> <td>    6.368</td> <td> 0.000</td> <td>    2.819</td> <td>    5.326</td>\n",
       "</tr>\n",
       "<tr>\n",
       "  <th>total_rech_num_8</th>           <td>   -7.3739</td> <td>    0.770</td> <td>   -9.581</td> <td> 0.000</td> <td>   -8.882</td> <td>   -5.865</td>\n",
       "</tr>\n",
       "<tr>\n",
       "  <th>total_rech_amt_6</th>           <td>    0.3925</td> <td>    3.039</td> <td>    0.129</td> <td> 0.897</td> <td>   -5.564</td> <td>    6.349</td>\n",
       "</tr>\n",
       "<tr>\n",
       "  <th>total_rech_amt_8</th>           <td>  -38.0300</td> <td>    4.261</td> <td>   -8.925</td> <td> 0.000</td> <td>  -46.382</td> <td>  -29.678</td>\n",
       "</tr>\n",
       "<tr>\n",
       "  <th>max_rech_amt_6</th>             <td>   -2.3516</td> <td>    0.867</td> <td>   -2.711</td> <td> 0.007</td> <td>   -4.052</td> <td>   -0.652</td>\n",
       "</tr>\n",
       "<tr>\n",
       "  <th>max_rech_amt_7</th>             <td>   -1.4955</td> <td>    0.638</td> <td>   -2.345</td> <td> 0.019</td> <td>   -2.745</td> <td>   -0.246</td>\n",
       "</tr>\n",
       "<tr>\n",
       "  <th>max_rech_amt_8</th>             <td>   13.3716</td> <td>    1.221</td> <td>   10.949</td> <td> 0.000</td> <td>   10.978</td> <td>   15.765</td>\n",
       "</tr>\n",
       "<tr>\n",
       "  <th>last_day_rch_amt_8</th>         <td>  -15.3418</td> <td>    1.140</td> <td>  -13.457</td> <td> 0.000</td> <td>  -17.576</td> <td>  -13.107</td>\n",
       "</tr>\n",
       "<tr>\n",
       "  <th>total_rech_data_6</th>          <td>    3.1307</td> <td>    0.738</td> <td>    4.242</td> <td> 0.000</td> <td>    1.684</td> <td>    4.577</td>\n",
       "</tr>\n",
       "<tr>\n",
       "  <th>total_rech_data_8</th>          <td>   -6.1320</td> <td>    0.884</td> <td>   -6.936</td> <td> 0.000</td> <td>   -7.865</td> <td>   -4.399</td>\n",
       "</tr>\n",
       "<tr>\n",
       "  <th>max_rech_data_6</th>            <td>    4.2374</td> <td>    0.741</td> <td>    5.716</td> <td> 0.000</td> <td>    2.784</td> <td>    5.690</td>\n",
       "</tr>\n",
       "<tr>\n",
       "  <th>max_rech_data_7</th>            <td>    1.4430</td> <td>    0.635</td> <td>    2.271</td> <td> 0.023</td> <td>    0.198</td> <td>    2.688</td>\n",
       "</tr>\n",
       "<tr>\n",
       "  <th>max_rech_data_8</th>            <td>   -5.7472</td> <td>    1.014</td> <td>   -5.670</td> <td> 0.000</td> <td>   -7.734</td> <td>   -3.761</td>\n",
       "</tr>\n",
       "<tr>\n",
       "  <th>av_rech_amt_data_6</th>         <td>  -11.3691</td> <td>    1.852</td> <td>   -6.138</td> <td> 0.000</td> <td>  -15.000</td> <td>   -7.739</td>\n",
       "</tr>\n",
       "<tr>\n",
       "  <th>av_rech_amt_data_8</th>         <td>   -3.3384</td> <td>    2.245</td> <td>   -1.487</td> <td> 0.137</td> <td>   -7.739</td> <td>    1.062</td>\n",
       "</tr>\n",
       "<tr>\n",
       "  <th>vol_2g_mb_6</th>                <td>   -1.9226</td> <td>    0.767</td> <td>   -2.508</td> <td> 0.012</td> <td>   -3.425</td> <td>   -0.420</td>\n",
       "</tr>\n",
       "<tr>\n",
       "  <th>vol_2g_mb_7</th>                <td>    3.2414</td> <td>    0.855</td> <td>    3.792</td> <td> 0.000</td> <td>    1.566</td> <td>    4.917</td>\n",
       "</tr>\n",
       "<tr>\n",
       "  <th>vol_2g_mb_8</th>                <td>   -6.3184</td> <td>    1.194</td> <td>   -5.293</td> <td> 0.000</td> <td>   -8.658</td> <td>   -3.979</td>\n",
       "</tr>\n",
       "<tr>\n",
       "  <th>vol_3g_mb_8</th>                <td>   -4.5098</td> <td>    1.801</td> <td>   -2.505</td> <td> 0.012</td> <td>   -8.039</td> <td>   -0.981</td>\n",
       "</tr>\n",
       "<tr>\n",
       "  <th>monthly_2g_7</th>               <td>   -1.2404</td> <td>    0.389</td> <td>   -3.188</td> <td> 0.001</td> <td>   -2.003</td> <td>   -0.478</td>\n",
       "</tr>\n",
       "<tr>\n",
       "  <th>monthly_2g_8</th>               <td>   -4.7112</td> <td>    0.589</td> <td>   -7.997</td> <td> 0.000</td> <td>   -5.866</td> <td>   -3.556</td>\n",
       "</tr>\n",
       "<tr>\n",
       "  <th>sachet_2g_8</th>                <td>   -3.7752</td> <td>    0.540</td> <td>   -6.988</td> <td> 0.000</td> <td>   -4.834</td> <td>   -2.716</td>\n",
       "</tr>\n",
       "<tr>\n",
       "  <th>monthly_3g_7</th>               <td>   -1.6971</td> <td>    1.010</td> <td>   -1.680</td> <td> 0.093</td> <td>   -3.677</td> <td>    0.283</td>\n",
       "</tr>\n",
       "<tr>\n",
       "  <th>monthly_3g_8</th>               <td>   -4.6531</td> <td>    1.655</td> <td>   -2.811</td> <td> 0.005</td> <td>   -7.898</td> <td>   -1.408</td>\n",
       "</tr>\n",
       "<tr>\n",
       "  <th>sachet_3g_8</th>                <td>   -3.4526</td> <td>    1.196</td> <td>   -2.888</td> <td> 0.004</td> <td>   -5.796</td> <td>   -1.109</td>\n",
       "</tr>\n",
       "<tr>\n",
       "  <th>aug_vbc_3g</th>                 <td>   -8.3785</td> <td>    1.697</td> <td>   -4.937</td> <td> 0.000</td> <td>  -11.705</td> <td>   -5.052</td>\n",
       "</tr>\n",
       "<tr>\n",
       "  <th>jul_vbc_3g</th>                 <td>    1.4677</td> <td>    0.807</td> <td>    1.819</td> <td> 0.069</td> <td>   -0.113</td> <td>    3.049</td>\n",
       "</tr>\n",
       "<tr>\n",
       "  <th>total_data_recharge_amnt_8</th> <td>   14.5614</td> <td>    1.967</td> <td>    7.404</td> <td> 0.000</td> <td>   10.707</td> <td>   18.416</td>\n",
       "</tr>\n",
       "</table>"
      ],
      "text/plain": [
       "<class 'statsmodels.iolib.summary.Summary'>\n",
       "\"\"\"\n",
       "                 Generalized Linear Model Regression Results                  \n",
       "==============================================================================\n",
       "Dep. Variable:      churn_probability   No. Observations:                27020\n",
       "Model:                            GLM   Df Residuals:                    26950\n",
       "Model Family:                Binomial   Df Model:                           69\n",
       "Link Function:                  logit   Scale:                          1.0000\n",
       "Method:                          IRLS   Log-Likelihood:                -8968.7\n",
       "Date:                Fri, 16 Sep 2022   Deviance:                       17937.\n",
       "Time:                        16:53:36   Pearson chi2:                 4.20e+05\n",
       "No. Iterations:                     7                                         \n",
       "Covariance Type:            nonrobust                                         \n",
       "==============================================================================================\n",
       "                                 coef    std err          z      P>|z|      [0.025      0.975]\n",
       "----------------------------------------------------------------------------------------------\n",
       "const                         -2.1695      0.510     -4.252      0.000      -3.170      -1.170\n",
       "arpu_6                         4.4275      3.271      1.354      0.176      -1.983      10.839\n",
       "arpu_7                         6.5234      2.381      2.739      0.006       1.856      11.191\n",
       "arpu_8                        35.8779      4.483      8.004      0.000      27.092      44.664\n",
       "onnet_mou_7                    7.0257      1.435      4.895      0.000       4.213       9.839\n",
       "offnet_mou_7                   5.9937      1.149      5.215      0.000       3.741       8.246\n",
       "offnet_mou_8                 -48.0938     10.161     -4.733      0.000     -68.008     -28.180\n",
       "roam_ic_mou_6                  2.0810      0.969      2.149      0.032       0.183       3.979\n",
       "roam_og_mou_6                  0.9129      0.934      0.978      0.328      -0.917       2.743\n",
       "roam_og_mou_7                  1.6967      0.832      2.038      0.042       0.065       3.328\n",
       "roam_og_mou_8                 17.4105      3.041      5.724      0.000      11.449      23.371\n",
       "loc_og_t2t_mou_8            6335.0785   3.81e+04      0.166      0.868   -6.83e+04     8.1e+04\n",
       "loc_og_t2m_mou_6              -3.4334      0.897     -3.828      0.000      -5.191      -1.676\n",
       "loc_og_t2m_mou_8            2941.4514   1.76e+04      0.167      0.867   -3.15e+04    3.74e+04\n",
       "loc_og_t2f_mou_6              -3.7701      1.571     -2.400      0.016      -6.849      -0.691\n",
       "loc_og_t2f_mou_8             350.6618   2084.690      0.168      0.866   -3735.255    4436.579\n",
       "loc_og_t2c_mou_6              -8.0190      1.292     -6.205      0.000     -10.552      -5.486\n",
       "loc_og_t2c_mou_8               6.0369      1.360      4.440      0.000       3.372       8.702\n",
       "loc_og_mou_8               -6485.8845   3.91e+04     -0.166      0.868   -8.32e+04    7.02e+04\n",
       "std_og_t2m_mou_8              41.8002     10.181      4.106      0.000      21.846      61.754\n",
       "std_og_t2f_mou_8              -6.9396      1.890     -3.672      0.000     -10.644      -3.235\n",
       "std_og_mou_6                   1.5788      0.564      2.801      0.005       0.474       2.683\n",
       "std_og_mou_7                  -3.2248      1.416     -2.277      0.023      -6.001      -0.449\n",
       "std_og_mou_8                  44.8158     33.523      1.337      0.181     -20.888     110.520\n",
       "spl_og_mou_8                  -0.5277      2.422     -0.218      0.828      -5.275       4.219\n",
       "total_og_mou_8               -54.0984     33.871     -1.597      0.110    -120.485      12.288\n",
       "loc_ic_t2t_mou_6              11.4081      5.312      2.148      0.032       0.997      21.819\n",
       "loc_ic_t2t_mou_8            1516.7155   8905.301      0.170      0.865   -1.59e+04     1.9e+04\n",
       "loc_ic_t2m_mou_6              12.9114      5.300      2.436      0.015       2.523      23.300\n",
       "loc_ic_t2m_mou_8            1777.9811   1.04e+04      0.171      0.864   -1.86e+04    2.22e+04\n",
       "loc_ic_t2f_mou_8             557.2926   3272.792      0.170      0.865   -5857.262    6971.848\n",
       "loc_ic_mou_6                  -3.0819      9.261     -0.333      0.739     -21.234      15.070\n",
       "loc_ic_mou_8               -2065.3201   1.19e+04     -0.174      0.862   -2.54e+04    2.12e+04\n",
       "std_ic_t2t_mou_8           -1.642e+04   1.64e+04     -1.003      0.316   -4.85e+04    1.57e+04\n",
       "std_ic_t2m_mou_8            -1.38e+04   1.38e+04     -1.002      0.316   -4.08e+04    1.32e+04\n",
       "std_ic_t2f_mou_8           -6691.8049   6669.748     -1.003      0.316   -1.98e+04    6380.660\n",
       "std_ic_mou_6                   5.5275      2.056      2.688      0.007       1.497       9.558\n",
       "std_ic_mou_8                1.809e+04   1.81e+04      1.002      0.317   -1.73e+04    5.35e+04\n",
       "total_ic_mou_6                -3.1568      3.819     -0.827      0.408     -10.642       4.328\n",
       "total_ic_mou_8                -1.7050     14.819     -0.115      0.908     -30.750      27.340\n",
       "spl_ic_mou_8                  -8.3599      0.667    -12.529      0.000      -9.668      -7.052\n",
       "isd_ic_mou_8                   1.5195      5.972      0.254      0.799     -10.186      13.225\n",
       "total_rech_num_6              -0.3021      0.674     -0.449      0.654      -1.622       1.018\n",
       "total_rech_num_7               4.0726      0.640      6.368      0.000       2.819       5.326\n",
       "total_rech_num_8              -7.3739      0.770     -9.581      0.000      -8.882      -5.865\n",
       "total_rech_amt_6               0.3925      3.039      0.129      0.897      -5.564       6.349\n",
       "total_rech_amt_8             -38.0300      4.261     -8.925      0.000     -46.382     -29.678\n",
       "max_rech_amt_6                -2.3516      0.867     -2.711      0.007      -4.052      -0.652\n",
       "max_rech_amt_7                -1.4955      0.638     -2.345      0.019      -2.745      -0.246\n",
       "max_rech_amt_8                13.3716      1.221     10.949      0.000      10.978      15.765\n",
       "last_day_rch_amt_8           -15.3418      1.140    -13.457      0.000     -17.576     -13.107\n",
       "total_rech_data_6              3.1307      0.738      4.242      0.000       1.684       4.577\n",
       "total_rech_data_8             -6.1320      0.884     -6.936      0.000      -7.865      -4.399\n",
       "max_rech_data_6                4.2374      0.741      5.716      0.000       2.784       5.690\n",
       "max_rech_data_7                1.4430      0.635      2.271      0.023       0.198       2.688\n",
       "max_rech_data_8               -5.7472      1.014     -5.670      0.000      -7.734      -3.761\n",
       "av_rech_amt_data_6           -11.3691      1.852     -6.138      0.000     -15.000      -7.739\n",
       "av_rech_amt_data_8            -3.3384      2.245     -1.487      0.137      -7.739       1.062\n",
       "vol_2g_mb_6                   -1.9226      0.767     -2.508      0.012      -3.425      -0.420\n",
       "vol_2g_mb_7                    3.2414      0.855      3.792      0.000       1.566       4.917\n",
       "vol_2g_mb_8                   -6.3184      1.194     -5.293      0.000      -8.658      -3.979\n",
       "vol_3g_mb_8                   -4.5098      1.801     -2.505      0.012      -8.039      -0.981\n",
       "monthly_2g_7                  -1.2404      0.389     -3.188      0.001      -2.003      -0.478\n",
       "monthly_2g_8                  -4.7112      0.589     -7.997      0.000      -5.866      -3.556\n",
       "sachet_2g_8                   -3.7752      0.540     -6.988      0.000      -4.834      -2.716\n",
       "monthly_3g_7                  -1.6971      1.010     -1.680      0.093      -3.677       0.283\n",
       "monthly_3g_8                  -4.6531      1.655     -2.811      0.005      -7.898      -1.408\n",
       "sachet_3g_8                   -3.4526      1.196     -2.888      0.004      -5.796      -1.109\n",
       "aug_vbc_3g                    -8.3785      1.697     -4.937      0.000     -11.705      -5.052\n",
       "jul_vbc_3g                     1.4677      0.807      1.819      0.069      -0.113       3.049\n",
       "total_data_recharge_amnt_8    14.5614      1.967      7.404      0.000      10.707      18.416\n",
       "==============================================================================================\n",
       "\"\"\""
      ]
     },
     "execution_count": 60,
     "metadata": {},
     "output_type": "execute_result"
    }
   ],
   "source": [
    "X_resampled_sm = sm.add_constant(X_resampled[col])\n",
    "logm2 = sm.GLM(y_resampled, X_resampled_sm, family=sm.families.Binomial())\n",
    "res = logm2.fit()\n",
    "res.summary()"
   ]
  },
  {
   "cell_type": "markdown",
   "id": "3270c989",
   "metadata": {},
   "source": [
    "### Making predictions on the test set"
   ]
  },
  {
   "cell_type": "code",
   "execution_count": 61,
   "id": "de453884",
   "metadata": {},
   "outputs": [
    {
     "name": "stdout",
     "output_type": "stream",
     "text": [
      "<class 'pandas.core.frame.DataFrame'>\n",
      "Int64Index: 6304 entries, 5662 to 36425\n",
      "Data columns (total 70 columns):\n",
      " #   Column                      Non-Null Count  Dtype  \n",
      "---  ------                      --------------  -----  \n",
      " 0   arpu_6                      6304 non-null   float64\n",
      " 1   arpu_7                      6304 non-null   float64\n",
      " 2   arpu_8                      6304 non-null   float64\n",
      " 3   onnet_mou_7                 6304 non-null   float64\n",
      " 4   offnet_mou_7                6304 non-null   float64\n",
      " 5   offnet_mou_8                6304 non-null   float64\n",
      " 6   roam_ic_mou_6               6304 non-null   float64\n",
      " 7   roam_og_mou_6               6304 non-null   float64\n",
      " 8   roam_og_mou_7               6304 non-null   float64\n",
      " 9   roam_og_mou_8               6304 non-null   float64\n",
      " 10  loc_og_t2t_mou_8            6304 non-null   float64\n",
      " 11  loc_og_t2m_mou_6            6304 non-null   float64\n",
      " 12  loc_og_t2m_mou_8            6304 non-null   float64\n",
      " 13  loc_og_t2f_mou_6            6304 non-null   float64\n",
      " 14  loc_og_t2f_mou_8            6304 non-null   float64\n",
      " 15  loc_og_t2c_mou_6            6304 non-null   float64\n",
      " 16  loc_og_t2c_mou_8            6304 non-null   float64\n",
      " 17  loc_og_mou_8                6304 non-null   float64\n",
      " 18  std_og_t2m_mou_8            6304 non-null   float64\n",
      " 19  std_og_t2f_mou_8            6304 non-null   float64\n",
      " 20  std_og_mou_6                6304 non-null   float64\n",
      " 21  std_og_mou_7                6304 non-null   float64\n",
      " 22  std_og_mou_8                6304 non-null   float64\n",
      " 23  spl_og_mou_8                6304 non-null   float64\n",
      " 24  total_og_mou_8              6304 non-null   float64\n",
      " 25  loc_ic_t2t_mou_6            6304 non-null   float64\n",
      " 26  loc_ic_t2t_mou_8            6304 non-null   float64\n",
      " 27  loc_ic_t2m_mou_6            6304 non-null   float64\n",
      " 28  loc_ic_t2m_mou_8            6304 non-null   float64\n",
      " 29  loc_ic_t2f_mou_8            6304 non-null   float64\n",
      " 30  loc_ic_mou_6                6304 non-null   float64\n",
      " 31  loc_ic_mou_8                6304 non-null   float64\n",
      " 32  std_ic_t2t_mou_8            6304 non-null   float64\n",
      " 33  std_ic_t2m_mou_8            6304 non-null   float64\n",
      " 34  std_ic_t2f_mou_8            6304 non-null   float64\n",
      " 35  std_ic_mou_6                6304 non-null   float64\n",
      " 36  std_ic_mou_8                6304 non-null   float64\n",
      " 37  total_ic_mou_6              6304 non-null   float64\n",
      " 38  total_ic_mou_8              6304 non-null   float64\n",
      " 39  spl_ic_mou_8                6304 non-null   float64\n",
      " 40  isd_ic_mou_8                6304 non-null   float64\n",
      " 41  total_rech_num_6            6304 non-null   int64  \n",
      " 42  total_rech_num_7            6304 non-null   int64  \n",
      " 43  total_rech_num_8            6304 non-null   int64  \n",
      " 44  total_rech_amt_6            6304 non-null   int64  \n",
      " 45  total_rech_amt_8            6304 non-null   int64  \n",
      " 46  max_rech_amt_6              6304 non-null   int64  \n",
      " 47  max_rech_amt_7              6304 non-null   int64  \n",
      " 48  max_rech_amt_8              6304 non-null   int64  \n",
      " 49  last_day_rch_amt_8          6304 non-null   int64  \n",
      " 50  total_rech_data_6           6304 non-null   float64\n",
      " 51  total_rech_data_8           6304 non-null   float64\n",
      " 52  max_rech_data_6             6304 non-null   float64\n",
      " 53  max_rech_data_7             6304 non-null   float64\n",
      " 54  max_rech_data_8             6304 non-null   float64\n",
      " 55  av_rech_amt_data_6          6304 non-null   float64\n",
      " 56  av_rech_amt_data_8          6304 non-null   float64\n",
      " 57  vol_2g_mb_6                 6304 non-null   float64\n",
      " 58  vol_2g_mb_7                 6304 non-null   float64\n",
      " 59  vol_2g_mb_8                 6304 non-null   float64\n",
      " 60  vol_3g_mb_8                 6304 non-null   float64\n",
      " 61  monthly_2g_7                6304 non-null   int64  \n",
      " 62  monthly_2g_8                6304 non-null   int64  \n",
      " 63  sachet_2g_8                 6304 non-null   int64  \n",
      " 64  monthly_3g_7                6304 non-null   int64  \n",
      " 65  monthly_3g_8                6304 non-null   int64  \n",
      " 66  sachet_3g_8                 6304 non-null   int64  \n",
      " 67  aug_vbc_3g                  6304 non-null   float64\n",
      " 68  jul_vbc_3g                  6304 non-null   float64\n",
      " 69  total_data_recharge_amnt_8  6304 non-null   float64\n",
      "dtypes: float64(55), int64(15)\n",
      "memory usage: 3.4 MB\n"
     ]
    }
   ],
   "source": [
    "X_test = X_test[col]\n",
    "X_test.info()"
   ]
  },
  {
   "cell_type": "code",
   "execution_count": 62,
   "id": "dd20e6fb",
   "metadata": {},
   "outputs": [],
   "source": [
    "X_test_sm = sm.add_constant(X_test)"
   ]
  },
  {
   "cell_type": "code",
   "execution_count": 63,
   "id": "df6e96f4",
   "metadata": {},
   "outputs": [],
   "source": [
    "y_test_pred = res.predict(X_test_sm)"
   ]
  },
  {
   "cell_type": "code",
   "execution_count": 64,
   "id": "2c63d4ac",
   "metadata": {},
   "outputs": [
    {
     "data": {
      "text/plain": [
       "5662     0.0\n",
       "37574    1.0\n",
       "58341    0.0\n",
       "23282    0.0\n",
       "30561    1.0\n",
       "45844    0.0\n",
       "30159    0.0\n",
       "62778    0.0\n",
       "45559    0.0\n",
       "35274    0.0\n",
       "dtype: float64"
      ]
     },
     "execution_count": 64,
     "metadata": {},
     "output_type": "execute_result"
    }
   ],
   "source": [
    "y_test_pred[:10]"
   ]
  },
  {
   "cell_type": "code",
   "execution_count": 65,
   "id": "6dbfcf16",
   "metadata": {},
   "outputs": [
    {
     "data": {
      "text/html": [
       "<div>\n",
       "<style scoped>\n",
       "    .dataframe tbody tr th:only-of-type {\n",
       "        vertical-align: middle;\n",
       "    }\n",
       "\n",
       "    .dataframe tbody tr th {\n",
       "        vertical-align: top;\n",
       "    }\n",
       "\n",
       "    .dataframe thead th {\n",
       "        text-align: right;\n",
       "    }\n",
       "</style>\n",
       "<table border=\"1\" class=\"dataframe\">\n",
       "  <thead>\n",
       "    <tr style=\"text-align: right;\">\n",
       "      <th></th>\n",
       "      <th>const</th>\n",
       "      <th>arpu_6</th>\n",
       "      <th>arpu_7</th>\n",
       "      <th>arpu_8</th>\n",
       "      <th>onnet_mou_7</th>\n",
       "      <th>offnet_mou_7</th>\n",
       "      <th>offnet_mou_8</th>\n",
       "      <th>roam_ic_mou_6</th>\n",
       "      <th>roam_og_mou_6</th>\n",
       "      <th>roam_og_mou_7</th>\n",
       "      <th>...</th>\n",
       "      <th>vol_3g_mb_8</th>\n",
       "      <th>monthly_2g_7</th>\n",
       "      <th>monthly_2g_8</th>\n",
       "      <th>sachet_2g_8</th>\n",
       "      <th>monthly_3g_7</th>\n",
       "      <th>monthly_3g_8</th>\n",
       "      <th>sachet_3g_8</th>\n",
       "      <th>aug_vbc_3g</th>\n",
       "      <th>jul_vbc_3g</th>\n",
       "      <th>total_data_recharge_amnt_8</th>\n",
       "    </tr>\n",
       "  </thead>\n",
       "  <tbody>\n",
       "    <tr>\n",
       "      <th>5662</th>\n",
       "      <td>1.0</td>\n",
       "      <td>554.740</td>\n",
       "      <td>782.352</td>\n",
       "      <td>673.692</td>\n",
       "      <td>38.63</td>\n",
       "      <td>845.83</td>\n",
       "      <td>661.89</td>\n",
       "      <td>0.0</td>\n",
       "      <td>0.0</td>\n",
       "      <td>0.00</td>\n",
       "      <td>...</td>\n",
       "      <td>0.0</td>\n",
       "      <td>0</td>\n",
       "      <td>0</td>\n",
       "      <td>0</td>\n",
       "      <td>0</td>\n",
       "      <td>0</td>\n",
       "      <td>0</td>\n",
       "      <td>0.00</td>\n",
       "      <td>0.0</td>\n",
       "      <td>0.0</td>\n",
       "    </tr>\n",
       "    <tr>\n",
       "      <th>37574</th>\n",
       "      <td>1.0</td>\n",
       "      <td>1563.157</td>\n",
       "      <td>1579.675</td>\n",
       "      <td>1256.565</td>\n",
       "      <td>3158.18</td>\n",
       "      <td>1144.44</td>\n",
       "      <td>1327.03</td>\n",
       "      <td>0.0</td>\n",
       "      <td>0.0</td>\n",
       "      <td>0.00</td>\n",
       "      <td>...</td>\n",
       "      <td>0.0</td>\n",
       "      <td>0</td>\n",
       "      <td>0</td>\n",
       "      <td>0</td>\n",
       "      <td>0</td>\n",
       "      <td>0</td>\n",
       "      <td>0</td>\n",
       "      <td>0.00</td>\n",
       "      <td>0.0</td>\n",
       "      <td>0.0</td>\n",
       "    </tr>\n",
       "    <tr>\n",
       "      <th>58341</th>\n",
       "      <td>1.0</td>\n",
       "      <td>594.217</td>\n",
       "      <td>796.737</td>\n",
       "      <td>996.393</td>\n",
       "      <td>1200.53</td>\n",
       "      <td>186.48</td>\n",
       "      <td>585.36</td>\n",
       "      <td>0.0</td>\n",
       "      <td>0.0</td>\n",
       "      <td>0.00</td>\n",
       "      <td>...</td>\n",
       "      <td>0.0</td>\n",
       "      <td>0</td>\n",
       "      <td>0</td>\n",
       "      <td>0</td>\n",
       "      <td>0</td>\n",
       "      <td>0</td>\n",
       "      <td>0</td>\n",
       "      <td>0.00</td>\n",
       "      <td>0.0</td>\n",
       "      <td>0.0</td>\n",
       "    </tr>\n",
       "    <tr>\n",
       "      <th>23282</th>\n",
       "      <td>1.0</td>\n",
       "      <td>352.160</td>\n",
       "      <td>197.245</td>\n",
       "      <td>365.564</td>\n",
       "      <td>179.88</td>\n",
       "      <td>116.58</td>\n",
       "      <td>507.64</td>\n",
       "      <td>0.0</td>\n",
       "      <td>0.0</td>\n",
       "      <td>34.96</td>\n",
       "      <td>...</td>\n",
       "      <td>0.0</td>\n",
       "      <td>0</td>\n",
       "      <td>0</td>\n",
       "      <td>3</td>\n",
       "      <td>0</td>\n",
       "      <td>0</td>\n",
       "      <td>0</td>\n",
       "      <td>0.00</td>\n",
       "      <td>0.0</td>\n",
       "      <td>207.0</td>\n",
       "    </tr>\n",
       "    <tr>\n",
       "      <th>30561</th>\n",
       "      <td>1.0</td>\n",
       "      <td>332.040</td>\n",
       "      <td>275.976</td>\n",
       "      <td>267.033</td>\n",
       "      <td>96.89</td>\n",
       "      <td>178.24</td>\n",
       "      <td>424.68</td>\n",
       "      <td>0.0</td>\n",
       "      <td>0.0</td>\n",
       "      <td>0.00</td>\n",
       "      <td>...</td>\n",
       "      <td>0.0</td>\n",
       "      <td>0</td>\n",
       "      <td>0</td>\n",
       "      <td>0</td>\n",
       "      <td>0</td>\n",
       "      <td>0</td>\n",
       "      <td>0</td>\n",
       "      <td>31.05</td>\n",
       "      <td>337.7</td>\n",
       "      <td>0.0</td>\n",
       "    </tr>\n",
       "  </tbody>\n",
       "</table>\n",
       "<p>5 rows × 71 columns</p>\n",
       "</div>"
      ],
      "text/plain": [
       "       const    arpu_6    arpu_7    arpu_8  onnet_mou_7  offnet_mou_7  \\\n",
       "5662     1.0   554.740   782.352   673.692        38.63        845.83   \n",
       "37574    1.0  1563.157  1579.675  1256.565      3158.18       1144.44   \n",
       "58341    1.0   594.217   796.737   996.393      1200.53        186.48   \n",
       "23282    1.0   352.160   197.245   365.564       179.88        116.58   \n",
       "30561    1.0   332.040   275.976   267.033        96.89        178.24   \n",
       "\n",
       "       offnet_mou_8  roam_ic_mou_6  roam_og_mou_6  roam_og_mou_7  ...  \\\n",
       "5662         661.89            0.0            0.0           0.00  ...   \n",
       "37574       1327.03            0.0            0.0           0.00  ...   \n",
       "58341        585.36            0.0            0.0           0.00  ...   \n",
       "23282        507.64            0.0            0.0          34.96  ...   \n",
       "30561        424.68            0.0            0.0           0.00  ...   \n",
       "\n",
       "       vol_3g_mb_8  monthly_2g_7  monthly_2g_8  sachet_2g_8  monthly_3g_7  \\\n",
       "5662           0.0             0             0            0             0   \n",
       "37574          0.0             0             0            0             0   \n",
       "58341          0.0             0             0            0             0   \n",
       "23282          0.0             0             0            3             0   \n",
       "30561          0.0             0             0            0             0   \n",
       "\n",
       "       monthly_3g_8  sachet_3g_8  aug_vbc_3g  jul_vbc_3g  \\\n",
       "5662              0            0        0.00         0.0   \n",
       "37574             0            0        0.00         0.0   \n",
       "58341             0            0        0.00         0.0   \n",
       "23282             0            0        0.00         0.0   \n",
       "30561             0            0       31.05       337.7   \n",
       "\n",
       "       total_data_recharge_amnt_8  \n",
       "5662                          0.0  \n",
       "37574                         0.0  \n",
       "58341                         0.0  \n",
       "23282                       207.0  \n",
       "30561                         0.0  \n",
       "\n",
       "[5 rows x 71 columns]"
      ]
     },
     "execution_count": 65,
     "metadata": {},
     "output_type": "execute_result"
    }
   ],
   "source": [
    "X_test_sm.head()"
   ]
  },
  {
   "cell_type": "code",
   "execution_count": 66,
   "id": "2fb4790c",
   "metadata": {},
   "outputs": [
    {
     "data": {
      "text/plain": [
       "(27020, 71)"
      ]
     },
     "execution_count": 66,
     "metadata": {},
     "output_type": "execute_result"
    }
   ],
   "source": [
    "X_resampled_sm.shape"
   ]
  },
  {
   "cell_type": "code",
   "execution_count": 67,
   "id": "fc21710b",
   "metadata": {},
   "outputs": [],
   "source": [
    "y_pred_train = res.predict(X_resampled_sm)"
   ]
  },
  {
   "cell_type": "code",
   "execution_count": 68,
   "id": "af642532",
   "metadata": {},
   "outputs": [
    {
     "data": {
      "text/plain": [
       "0    0.998070\n",
       "1    0.069801\n",
       "2    0.102982\n",
       "3    0.041977\n",
       "4    0.002893\n",
       "dtype: float64"
      ]
     },
     "execution_count": 68,
     "metadata": {},
     "output_type": "execute_result"
    }
   ],
   "source": [
    "y_pred_train.head()"
   ]
  },
  {
   "cell_type": "code",
   "execution_count": 69,
   "id": "4dd3c9be",
   "metadata": {},
   "outputs": [
    {
     "data": {
      "text/plain": [
       "(27020,)"
      ]
     },
     "execution_count": 69,
     "metadata": {},
     "output_type": "execute_result"
    }
   ],
   "source": [
    "y_pred_train.shape"
   ]
  },
  {
   "cell_type": "markdown",
   "id": "30f080c7",
   "metadata": {},
   "source": [
    "## Confusion matrix for Precision and Recall and Accuracy of the model"
   ]
  },
  {
   "cell_type": "code",
   "execution_count": 70,
   "id": "8d6dd0d6",
   "metadata": {},
   "outputs": [
    {
     "data": {
      "text/plain": [
       "0        0\n",
       "1        0\n",
       "2        0\n",
       "3        0\n",
       "4        0\n",
       "        ..\n",
       "27015    1\n",
       "27016    1\n",
       "27017    1\n",
       "27018    1\n",
       "27019    1\n",
       "Name: churn_probability, Length: 27020, dtype: int64"
      ]
     },
     "execution_count": 70,
     "metadata": {},
     "output_type": "execute_result"
    }
   ],
   "source": [
    "y_resampled"
   ]
  },
  {
   "cell_type": "code",
   "execution_count": 71,
   "id": "89406e11",
   "metadata": {},
   "outputs": [],
   "source": [
    "y_pred_train_final = pd.DataFrame({'Churn_Prob': y_pred_train})"
   ]
  },
  {
   "cell_type": "code",
   "execution_count": 72,
   "id": "b8368b7d",
   "metadata": {},
   "outputs": [
    {
     "data": {
      "text/html": [
       "<div>\n",
       "<style scoped>\n",
       "    .dataframe tbody tr th:only-of-type {\n",
       "        vertical-align: middle;\n",
       "    }\n",
       "\n",
       "    .dataframe tbody tr th {\n",
       "        vertical-align: top;\n",
       "    }\n",
       "\n",
       "    .dataframe thead th {\n",
       "        text-align: right;\n",
       "    }\n",
       "</style>\n",
       "<table border=\"1\" class=\"dataframe\">\n",
       "  <thead>\n",
       "    <tr style=\"text-align: right;\">\n",
       "      <th></th>\n",
       "      <th>Churn_Prob</th>\n",
       "    </tr>\n",
       "  </thead>\n",
       "  <tbody>\n",
       "    <tr>\n",
       "      <th>0</th>\n",
       "      <td>0.998070</td>\n",
       "    </tr>\n",
       "    <tr>\n",
       "      <th>1</th>\n",
       "      <td>0.069801</td>\n",
       "    </tr>\n",
       "    <tr>\n",
       "      <th>2</th>\n",
       "      <td>0.102982</td>\n",
       "    </tr>\n",
       "    <tr>\n",
       "      <th>3</th>\n",
       "      <td>0.041977</td>\n",
       "    </tr>\n",
       "    <tr>\n",
       "      <th>4</th>\n",
       "      <td>0.002893</td>\n",
       "    </tr>\n",
       "  </tbody>\n",
       "</table>\n",
       "</div>"
      ],
      "text/plain": [
       "   Churn_Prob\n",
       "0    0.998070\n",
       "1    0.069801\n",
       "2    0.102982\n",
       "3    0.041977\n",
       "4    0.002893"
      ]
     },
     "execution_count": 72,
     "metadata": {},
     "output_type": "execute_result"
    }
   ],
   "source": [
    "y_pred_train_final.head()"
   ]
  },
  {
   "cell_type": "code",
   "execution_count": 73,
   "id": "7c21640a",
   "metadata": {},
   "outputs": [],
   "source": [
    "y_pred_train_final['Churn_Prob_2'] =  y_pred_train_final.Churn_Prob.map(lambda x: 1 if x > 0.5 else 0)"
   ]
  },
  {
   "cell_type": "code",
   "execution_count": 74,
   "id": "6dc791d5",
   "metadata": {},
   "outputs": [
    {
     "data": {
      "text/plain": [
       "array([[11695,  1815],\n",
       "       [ 1657, 11853]])"
      ]
     },
     "execution_count": 74,
     "metadata": {},
     "output_type": "execute_result"
    }
   ],
   "source": [
    "confusion = metrics.confusion_matrix(y_resampled, y_pred_train_final.Churn_Prob_2)\n",
    "confusion"
   ]
  },
  {
   "cell_type": "code",
   "execution_count": 75,
   "id": "fc9fca61",
   "metadata": {},
   "outputs": [],
   "source": [
    "def draw_roc( actual, probs ):\n",
    "    fpr, tpr, thresholds = metrics.roc_curve( actual, probs,\n",
    "                                              drop_intermediate = False )\n",
    "    auc_score = metrics.roc_auc_score( actual, probs )\n",
    "    plt.figure(figsize=(5, 5))\n",
    "    plt.plot( fpr, tpr, label='ROC curve (area = %0.2f)' % auc_score )\n",
    "    plt.plot([0, 1], [0, 1], 'k--')\n",
    "    plt.xlim([0.0, 1.0])\n",
    "    plt.ylim([0.0, 1.05])\n",
    "    plt.xlabel('False Positive Rate or [1 - True Negative Rate]')\n",
    "    plt.ylabel('True Positive Rate')\n",
    "    plt.title('Receiver operating characteristic example')\n",
    "    plt.legend(loc=\"lower right\")\n",
    "    plt.show()\n",
    "\n",
    "    return auc_score"
   ]
  },
  {
   "cell_type": "code",
   "execution_count": 76,
   "id": "7c1b5af1",
   "metadata": {},
   "outputs": [],
   "source": [
    "# Metrics dict\n",
    "metrics_dict = {}"
   ]
  },
  {
   "cell_type": "code",
   "execution_count": 111,
   "id": "00b6db5d",
   "metadata": {},
   "outputs": [],
   "source": [
    "def get_accuracy_params(y_actual, y_pred, y_proba, model):\n",
    "    # Print ROC curve\n",
    "    auc_score = draw_roc(y_actual, y_proba)\n",
    "    confusion = metrics.confusion_matrix(y_actual, y_pred)\n",
    "    print('confusion matrix: ')\n",
    "    print(confusion)\n",
    "    TP = confusion[1, 1]\n",
    "    TN = confusion[0, 0]\n",
    "    FP = confusion[0, 1]\n",
    "    FN = confusion[1, 0]\n",
    "    accuracy = (TN+TP)/(TN+TP+FN+FP)\n",
    "    print('Accuracy: ', accuracy)\n",
    "    precision = TP / (TP+FP)\n",
    "    print('Precision: ', precision)\n",
    "    recall = TP / (TP+FN)\n",
    "    print('Recall: ', recall)\n",
    "    f1_score = 2*precision*recall/(precision+recall)\n",
    "    print('F1_score: ', f1_score)\n",
    "    print('AUC score: ', auc_score)\n",
    "    metrics_dict[model] = [accuracy, precision, recall, f1_score, auc_score]\n",
    "    return metrics_dict"
   ]
  },
  {
   "cell_type": "code",
   "execution_count": 112,
   "id": "0c025a89",
   "metadata": {},
   "outputs": [
    {
     "data": {
      "image/png": "[encoded data removed]",
      "text/plain": [
       "<Figure size 360x360 with 1 Axes>"
      ]
     },
     "metadata": {
      "needs_background": "light"
     },
     "output_type": "display_data"
    },
    {
     "name": "stdout",
     "output_type": "stream",
     "text": [
      "confusion matrix: \n",
      "[[11695  1815]\n",
      " [ 1657 11853]]\n",
      "Accuracy:  0.8715025906735752\n",
      "Precision:  0.867208077260755\n",
      "Recall:  0.8773501110288675\n",
      "F1_score:  0.8722496136581057\n",
      "AUC score:  0.9355562702409214\n"
     ]
    }
   ],
   "source": [
    "metrics_dict = get_accuracy_params(y_resampled, y_pred_train_final.Churn_Prob_2, y_pred_train_final.Churn_Prob, 'Logistic_rfe_train')"
   ]
  },
  {
   "cell_type": "code",
   "execution_count": 113,
   "id": "d185ee00",
   "metadata": {},
   "outputs": [
    {
     "data": {
      "text/plain": [
       "{'Logistic_rfe_train': [0.8715025906735752,\n",
       "  0.867208077260755,\n",
       "  0.8773501110288675,\n",
       "  0.8722496136581057,\n",
       "  0.9355562702409214],\n",
       " 'Logistic_rfe_test': [2.071447219563136,\n",
       "  0.3139231499051233,\n",
       "  0.8653154625694671,\n",
       "  0.46070838047167345,\n",
       "  0.9019305549925005]}"
      ]
     },
     "execution_count": 113,
     "metadata": {},
     "output_type": "execute_result"
    }
   ],
   "source": [
    "metrics_dict"
   ]
  },
  {
   "cell_type": "markdown",
   "id": "14850e45",
   "metadata": {},
   "source": [
    "## With Logistic regression with RFE we get (on train dataset)\n",
    "\n",
    "- TBD\n",
    "\n",
    "### Let's check for test data set"
   ]
  },
  {
   "cell_type": "code",
   "execution_count": 114,
   "id": "c5f1118d",
   "metadata": {},
   "outputs": [
    {
     "data": {
      "text/plain": [
       "(30000, 71)"
      ]
     },
     "execution_count": 114,
     "metadata": {},
     "output_type": "execute_result"
    }
   ],
   "source": [
    "telecom_test_df.shape"
   ]
  },
  {
   "cell_type": "code",
   "execution_count": 115,
   "id": "53f42986",
   "metadata": {},
   "outputs": [
    {
     "data": {
      "text/plain": [
       "(30000, 2)"
      ]
     },
     "execution_count": 115,
     "metadata": {},
     "output_type": "execute_result"
    }
   ],
   "source": [
    "telecom_test_sol_df.shape"
   ]
  },
  {
   "cell_type": "code",
   "execution_count": 116,
   "id": "2f2703de",
   "metadata": {},
   "outputs": [],
   "source": [
    "# Lets do prediction on telecom_test_df dataset"
   ]
  },
  {
   "cell_type": "code",
   "execution_count": 117,
   "id": "c9c47355",
   "metadata": {},
   "outputs": [],
   "source": [
    "telecom_test_df = telecom_test_df[col]\n",
    "telecom_test_df = sm.add_constant(telecom_test_df)"
   ]
  },
  {
   "cell_type": "code",
   "execution_count": 118,
   "id": "e4ddd788",
   "metadata": {},
   "outputs": [],
   "source": [
    "y_pred_test = res.predict(telecom_test_df)"
   ]
  },
  {
   "cell_type": "code",
   "execution_count": 119,
   "id": "af2a87e2",
   "metadata": {},
   "outputs": [],
   "source": [
    "y_pred_test_final = pd.DataFrame({'Churn_Prob': y_pred_test})"
   ]
  },
  {
   "cell_type": "code",
   "execution_count": 120,
   "id": "0f2afa74",
   "metadata": {},
   "outputs": [
    {
     "data": {
      "text/html": [
       "<div>\n",
       "<style scoped>\n",
       "    .dataframe tbody tr th:only-of-type {\n",
       "        vertical-align: middle;\n",
       "    }\n",
       "\n",
       "    .dataframe tbody tr th {\n",
       "        vertical-align: top;\n",
       "    }\n",
       "\n",
       "    .dataframe thead th {\n",
       "        text-align: right;\n",
       "    }\n",
       "</style>\n",
       "<table border=\"1\" class=\"dataframe\">\n",
       "  <thead>\n",
       "    <tr style=\"text-align: right;\">\n",
       "      <th></th>\n",
       "      <th>Churn_Prob</th>\n",
       "    </tr>\n",
       "  </thead>\n",
       "  <tbody>\n",
       "    <tr>\n",
       "      <th>0</th>\n",
       "      <td>0.094367</td>\n",
       "    </tr>\n",
       "    <tr>\n",
       "      <th>1</th>\n",
       "      <td>0.356265</td>\n",
       "    </tr>\n",
       "    <tr>\n",
       "      <th>2</th>\n",
       "      <td>0.775432</td>\n",
       "    </tr>\n",
       "    <tr>\n",
       "      <th>3</th>\n",
       "      <td>0.138565</td>\n",
       "    </tr>\n",
       "    <tr>\n",
       "      <th>4</th>\n",
       "      <td>0.278149</td>\n",
       "    </tr>\n",
       "  </tbody>\n",
       "</table>\n",
       "</div>"
      ],
      "text/plain": [
       "   Churn_Prob\n",
       "0    0.094367\n",
       "1    0.356265\n",
       "2    0.775432\n",
       "3    0.138565\n",
       "4    0.278149"
      ]
     },
     "execution_count": 120,
     "metadata": {},
     "output_type": "execute_result"
    }
   ],
   "source": [
    "y_pred_test_final.head()"
   ]
  },
  {
   "cell_type": "code",
   "execution_count": 121,
   "id": "068826c3",
   "metadata": {},
   "outputs": [],
   "source": [
    "y_pred_test_final['Churn_Prob_2'] =  y_pred_test_final.Churn_Prob.map(lambda x: 1 if x > 0.5 else 0)"
   ]
  },
  {
   "cell_type": "code",
   "execution_count": 123,
   "id": "094be928",
   "metadata": {},
   "outputs": [
    {
     "data": {
      "image/png": "[encoded data removed]",
      "text/plain": [
       "<Figure size 360x360 with 1 Axes>"
      ]
     },
     "metadata": {
      "needs_background": "light"
     },
     "output_type": "display_data"
    },
    {
     "name": "stdout",
     "output_type": "stream",
     "text": [
      "confusion matrix: \n",
      "[[21156  5785]\n",
      " [  412  2647]]\n",
      "Accuracy:  0.7934333333333333\n",
      "Precision:  0.3139231499051233\n",
      "Recall:  0.8653154625694671\n",
      "F1_score:  0.46070838047167345\n",
      "AUC score:  0.9019305549925005\n"
     ]
    }
   ],
   "source": [
    "metrics_dict = get_accuracy_params(telecom_test_sol_df.churn_probability, y_pred_test_final.Churn_Prob_2, y_pred_test_final.Churn_Prob, 'Logistic_rfe_test')"
   ]
  },
  {
   "cell_type": "code",
   "execution_count": 124,
   "id": "deb9c0d0",
   "metadata": {},
   "outputs": [
    {
     "data": {
      "text/plain": [
       "{'Logistic_rfe_train': [0.8715025906735752,\n",
       "  0.867208077260755,\n",
       "  0.8773501110288675,\n",
       "  0.8722496136581057,\n",
       "  0.9355562702409214],\n",
       " 'Logistic_rfe_test': [0.7934333333333333,\n",
       "  0.3139231499051233,\n",
       "  0.8653154625694671,\n",
       "  0.46070838047167345,\n",
       "  0.9019305549925005]}"
      ]
     },
     "execution_count": 124,
     "metadata": {},
     "output_type": "execute_result"
    }
   ],
   "source": [
    "metrics_dict"
   ]
  },
  {
   "cell_type": "markdown",
   "id": "ec524c33",
   "metadata": {},
   "source": [
    "### This seems a good model but lets compare with other models."
   ]
  },
  {
   "cell_type": "markdown",
   "id": "bd93b4a0",
   "metadata": {},
   "source": [
    "## PCA and Logistic Regression to check if model improves or not."
   ]
  },
  {
   "cell_type": "markdown",
   "id": "0ecb5679",
   "metadata": {},
   "source": [
    "## PCA on the data\n",
    "\n",
    "- While computing the principal components, we must not include the entire dataset. Model building is all about doing well on the data we haven't seen yet!\n",
    "- So we'll calculate the PCs using the train data, and apply them later on the test data."
   ]
  },
  {
   "cell_type": "code",
   "execution_count": 89,
   "id": "e2a5cd74",
   "metadata": {},
   "outputs": [],
   "source": [
    "# Looking at the data again"
   ]
  },
  {
   "cell_type": "code",
   "execution_count": 90,
   "id": "228cc28f",
   "metadata": {},
   "outputs": [
    {
     "data": {
      "text/plain": [
       "(27020,)"
      ]
     },
     "execution_count": 90,
     "metadata": {},
     "output_type": "execute_result"
    }
   ],
   "source": [
    "y_resampled.shape"
   ]
  },
  {
   "cell_type": "code",
   "execution_count": 91,
   "id": "f357b520",
   "metadata": {},
   "outputs": [
    {
     "data": {
      "text/plain": [
       "(27020, 140)"
      ]
     },
     "execution_count": 91,
     "metadata": {},
     "output_type": "execute_result"
    }
   ],
   "source": [
    "X_resampled.shape"
   ]
  },
  {
   "cell_type": "code",
   "execution_count": 92,
   "id": "d5bfc9eb",
   "metadata": {},
   "outputs": [],
   "source": [
    "pca = PCA(random_state=42)"
   ]
  },
  {
   "cell_type": "code",
   "execution_count": 93,
   "id": "4879eab0",
   "metadata": {},
   "outputs": [
    {
     "data": {
      "text/html": [
       "<style>#sk-container-id-1 {color: black;background-color: white;}#sk-container-id-1 pre{padding: 0;}#sk-container-id-1 div.sk-toggleable {background-color: white;}#sk-container-id-1 label.sk-toggleable__label {cursor: pointer;display: block;width: 100%;margin-bottom: 0;padding: 0.3em;box-sizing: border-box;text-align: center;}#sk-container-id-1 label.sk-toggleable__label-arrow:before {content: \"▸\";float: left;margin-right: 0.25em;color: #696969;}#sk-container-id-1 label.sk-toggleable__label-arrow:hover:before {color: black;}#sk-container-id-1 div.sk-estimator:hover label.sk-toggleable__label-arrow:before {color: black;}#sk-container-id-1 div.sk-toggleable__content {max-height: 0;max-width: 0;overflow: hidden;text-align: left;background-color: #f0f8ff;}#sk-container-id-1 div.sk-toggleable__content pre {margin: 0.2em;color: black;border-radius: 0.25em;background-color: #f0f8ff;}#sk-container-id-1 input.sk-toggleable__control:checked~div.sk-toggleable__content {max-height: 200px;max-width: 100%;overflow: auto;}#sk-container-id-1 input.sk-toggleable__control:checked~label.sk-toggleable__label-arrow:before {content: \"▾\";}#sk-container-id-1 div.sk-estimator input.sk-toggleable__control:checked~label.sk-toggleable__label {background-color: #d4ebff;}#sk-container-id-1 div.sk-label input.sk-toggleable__control:checked~label.sk-toggleable__label {background-color: #d4ebff;}#sk-container-id-1 input.sk-hidden--visually {border: 0;clip: rect(1px 1px 1px 1px);clip: rect(1px, 1px, 1px, 1px);height: 1px;margin: -1px;overflow: hidden;padding: 0;position: absolute;width: 1px;}#sk-container-id-1 div.sk-estimator {font-family: monospace;background-color: #f0f8ff;border: 1px dotted black;border-radius: 0.25em;box-sizing: border-box;margin-bottom: 0.5em;}#sk-container-id-1 div.sk-estimator:hover {background-color: #d4ebff;}#sk-container-id-1 div.sk-parallel-item::after {content: \"\";width: 100%;border-bottom: 1px solid gray;flex-grow: 1;}#sk-container-id-1 div.sk-label:hover label.sk-toggleable__label {background-color: #d4ebff;}#sk-container-id-1 div.sk-serial::before {content: \"\";position: absolute;border-left: 1px solid gray;box-sizing: border-box;top: 0;bottom: 0;left: 50%;z-index: 0;}#sk-container-id-1 div.sk-serial {display: flex;flex-direction: column;align-items: center;background-color: white;padding-right: 0.2em;padding-left: 0.2em;position: relative;}#sk-container-id-1 div.sk-item {position: relative;z-index: 1;}#sk-container-id-1 div.sk-parallel {display: flex;align-items: stretch;justify-content: center;background-color: white;position: relative;}#sk-container-id-1 div.sk-item::before, #sk-container-id-1 div.sk-parallel-item::before {content: \"\";position: absolute;border-left: 1px solid gray;box-sizing: border-box;top: 0;bottom: 0;left: 50%;z-index: -1;}#sk-container-id-1 div.sk-parallel-item {display: flex;flex-direction: column;z-index: 1;position: relative;background-color: white;}#sk-container-id-1 div.sk-parallel-item:first-child::after {align-self: flex-end;width: 50%;}#sk-container-id-1 div.sk-parallel-item:last-child::after {align-self: flex-start;width: 50%;}#sk-container-id-1 div.sk-parallel-item:only-child::after {width: 0;}#sk-container-id-1 div.sk-dashed-wrapped {border: 1px dashed gray;margin: 0 0.4em 0.5em 0.4em;box-sizing: border-box;padding-bottom: 0.4em;background-color: white;}#sk-container-id-1 div.sk-label label {font-family: monospace;font-weight: bold;display: inline-block;line-height: 1.2em;}#sk-container-id-1 div.sk-label-container {text-align: center;}#sk-container-id-1 div.sk-container {/* jupyter's `normalize.less` sets `[hidden] { display: none; }` but bootstrap.min.css set `[hidden] { display: none !important; }` so we also need the `!important` here to be able to override the default hidden behavior on the sphinx rendered scikit-learn.org. See: https://github.com/scikit-learn/scikit-learn/issues/21755 */display: inline-block !important;position: relative;}#sk-container-id-1 div.sk-text-repr-fallback {display: none;}</style><div id=\"sk-container-id-1\" class=\"sk-top-container\"><div class=\"sk-text-repr-fallback\"><pre>PCA(random_state=42)</pre><b>In a Jupyter environment, please rerun this cell to show the HTML representation or trust the notebook. <br />On GitHub, the HTML representation is unable to render, please try loading this page with nbviewer.org.</b></div><div class=\"sk-container\" hidden><div class=\"sk-item\"><div class=\"sk-estimator sk-toggleable\"><input class=\"sk-toggleable__control sk-hidden--visually\" id=\"sk-estimator-id-1\" type=\"checkbox\" checked><label for=\"sk-estimator-id-1\" class=\"sk-toggleable__label sk-toggleable__label-arrow\">PCA</label><div class=\"sk-toggleable__content\"><pre>PCA(random_state=42)</pre></div></div></div></div></div>"
      ],
      "text/plain": [
       "PCA(random_state=42)"
      ]
     },
     "execution_count": 93,
     "metadata": {},
     "output_type": "execute_result"
    }
   ],
   "source": [
    "pca.fit(X_resampled)"
   ]
  },
  {
   "cell_type": "code",
   "execution_count": 94,
   "id": "6a324422",
   "metadata": {},
   "outputs": [
    {
     "data": {
      "text/plain": [
       "array([[ 1.63445615e-02,  1.21445913e-02, -6.45977539e-03, ...,\n",
       "        -2.99320846e-03, -9.49161344e-03, -3.43282963e-03],\n",
       "       [ 5.01240264e-02,  5.50685934e-02,  3.70930243e-02, ...,\n",
       "        -4.12763987e-03, -2.58412771e-03, -1.17683039e-02],\n",
       "       [ 5.08915824e-02,  7.50298961e-02,  7.00117568e-02, ...,\n",
       "         6.11154020e-02,  5.89548967e-02,  9.08199234e-02],\n",
       "       ...,\n",
       "       [-0.00000000e+00,  6.32102469e-17, -9.36256115e-18, ...,\n",
       "        -1.25696599e-02, -2.21738962e-03,  1.64973250e-01],\n",
       "       [-0.00000000e+00,  1.50210072e-16, -2.68909494e-16, ...,\n",
       "         3.91019007e-01, -5.58786857e-01,  3.37852169e-02],\n",
       "       [ 0.00000000e+00,  2.04338269e-16, -1.22904430e-16, ...,\n",
       "        -6.57414532e-01, -3.64471770e-01,  3.42370364e-01]])"
      ]
     },
     "execution_count": 94,
     "metadata": {},
     "output_type": "execute_result"
    }
   ],
   "source": [
    "pca.components_"
   ]
  },
  {
   "cell_type": "code",
   "execution_count": 95,
   "id": "462adf05",
   "metadata": {},
   "outputs": [
    {
     "data": {
      "text/plain": [
       "array([1.90312958e-01, 1.54832442e-01, 7.45684670e-02, 5.94630858e-02,\n",
       "       5.51443461e-02, 5.02698063e-02, 4.47075525e-02, 3.29385129e-02,\n",
       "       2.13523236e-02, 2.01400908e-02, 1.92663981e-02, 1.82048117e-02,\n",
       "       1.54345151e-02, 1.30397595e-02, 1.22207357e-02, 1.19102896e-02,\n",
       "       1.08083037e-02, 1.04122790e-02, 1.02585920e-02, 9.99690359e-03,\n",
       "       8.97993317e-03, 8.21838698e-03, 7.88611067e-03, 7.21618626e-03,\n",
       "       6.92845693e-03, 6.60826736e-03, 6.25375195e-03, 5.66728006e-03,\n",
       "       5.36219900e-03, 5.14102844e-03, 4.93110461e-03, 4.61920278e-03,\n",
       "       4.20047514e-03, 3.55144947e-03, 3.48613118e-03, 3.27940152e-03,\n",
       "       3.16876382e-03, 2.95803830e-03, 2.92878311e-03, 2.88778214e-03,\n",
       "       2.71567206e-03, 2.62781590e-03, 2.55748332e-03, 2.48589397e-03,\n",
       "       2.35763653e-03, 2.27368600e-03, 2.16118043e-03, 2.09292254e-03,\n",
       "       2.00043053e-03, 1.85408655e-03, 1.81895297e-03, 1.75857954e-03,\n",
       "       1.72932315e-03, 1.65409695e-03, 1.57201361e-03, 1.48149124e-03,\n",
       "       1.31416101e-03, 1.28884134e-03, 1.26223751e-03, 1.23956638e-03,\n",
       "       1.21591143e-03, 1.08711275e-03, 1.02988617e-03, 9.86965573e-04,\n",
       "       9.40482072e-04, 9.22769044e-04, 8.88048100e-04, 8.66236212e-04,\n",
       "       8.47614438e-04, 8.24531562e-04, 8.07731257e-04, 7.28471962e-04,\n",
       "       6.79623677e-04, 6.56395842e-04, 5.84434177e-04, 5.75554677e-04,\n",
       "       5.44170842e-04, 5.21330363e-04, 4.93038121e-04, 4.76700572e-04,\n",
       "       4.58892873e-04, 4.45414836e-04, 4.24092345e-04, 4.07892124e-04,\n",
       "       3.93546439e-04, 3.72588568e-04, 3.19018076e-04, 3.07673933e-04,\n",
       "       2.91634304e-04, 2.81690903e-04, 2.70704113e-04, 2.43896771e-04,\n",
       "       2.37994580e-04, 2.20646646e-04, 1.86688544e-04, 1.74856303e-04,\n",
       "       1.66026587e-04, 1.62652277e-04, 1.46994604e-04, 1.44203659e-04,\n",
       "       1.35330904e-04, 1.13667607e-04, 1.06332300e-04, 9.55170528e-05,\n",
       "       9.24562658e-05, 6.41724384e-05, 5.74620544e-05, 5.37353592e-05,\n",
       "       4.38147032e-05, 3.79530925e-05, 1.70743741e-05, 1.57946012e-05,\n",
       "       1.42605090e-05, 8.60090699e-06, 6.26099896e-06, 1.57914200e-06,\n",
       "       7.04813445e-07, 1.88503881e-07, 3.26382383e-12, 1.93425196e-12,\n",
       "       1.53555590e-12, 1.31478163e-12, 1.17305288e-12, 1.04997893e-12,\n",
       "       1.03859478e-12, 7.00987912e-13, 5.24456456e-13, 3.71975438e-13,\n",
       "       3.68174903e-13, 3.60376644e-13, 2.67715310e-13, 2.18464128e-13,\n",
       "       9.78825478e-14, 3.75326131e-32, 7.25750814e-34, 7.25750814e-34,\n",
       "       7.25750814e-34, 7.25750814e-34, 7.25750814e-34, 7.25750814e-34])"
      ]
     },
     "execution_count": 95,
     "metadata": {},
     "output_type": "execute_result"
    }
   ],
   "source": [
    "pca.explained_variance_ratio_"
   ]
  },
  {
   "cell_type": "code",
   "execution_count": 96,
   "id": "35ab804f",
   "metadata": {},
   "outputs": [],
   "source": [
    "var_cumu = np.cumsum(pca.explained_variance_ratio_)"
   ]
  },
  {
   "cell_type": "code",
   "execution_count": 97,
   "id": "5653298c",
   "metadata": {},
   "outputs": [
    {
     "data": {
      "text/plain": [
       "[<matplotlib.lines.Line2D at 0x7ff525f17400>]"
      ]
     },
     "execution_count": 97,
     "metadata": {},
     "output_type": "execute_result"
    },
    {
     "data": {
      "image/png": "[encoded data removed]",
      "text/plain": [
       "<Figure size 864x576 with 1 Axes>"
      ]
     },
     "metadata": {
      "needs_background": "light"
     },
     "output_type": "display_data"
    }
   ],
   "source": [
    "fig = plt.figure(figsize=[12,8])\n",
    "plt.plot(range(1,len(var_cumu)+1), var_cumu)"
   ]
  },
  {
   "cell_type": "markdown",
   "id": "e6e46d15",
   "metadata": {},
   "source": [
    "## Looking at the scree plot with 50 PCs we have more than 95% of variance explained."
   ]
  },
  {
   "cell_type": "code",
   "execution_count": 98,
   "id": "6b98d260",
   "metadata": {},
   "outputs": [],
   "source": [
    "pca_final = IncrementalPCA(n_components=50)"
   ]
  },
  {
   "cell_type": "code",
   "execution_count": 99,
   "id": "ef462a28",
   "metadata": {},
   "outputs": [],
   "source": [
    "df_train_pca = pca_final.fit_transform(X_resampled)"
   ]
  },
  {
   "cell_type": "code",
   "execution_count": 100,
   "id": "4acf2f4b",
   "metadata": {},
   "outputs": [
    {
     "data": {
      "text/plain": [
       "(27020, 50)"
      ]
     },
     "execution_count": 100,
     "metadata": {},
     "output_type": "execute_result"
    }
   ],
   "source": [
    "df_train_pca.shape"
   ]
  },
  {
   "cell_type": "code",
   "execution_count": 101,
   "id": "51c3c638",
   "metadata": {},
   "outputs": [],
   "source": [
    "corrmat = np.corrcoef(df_train_pca.transpose())"
   ]
  },
  {
   "cell_type": "code",
   "execution_count": 102,
   "id": "469fc042",
   "metadata": {},
   "outputs": [
    {
     "data": {
      "text/plain": [
       "(50, 50)"
      ]
     },
     "execution_count": 102,
     "metadata": {},
     "output_type": "execute_result"
    }
   ],
   "source": [
    "corrmat.shape"
   ]
  },
  {
   "cell_type": "code",
   "execution_count": 103,
   "id": "e3fdc23f",
   "metadata": {},
   "outputs": [
    {
     "data": {
      "text/plain": [
       "array([[ 1.00000000e+00, -2.64701613e-07,  2.89977454e-07, ...,\n",
       "        -1.73287055e-05,  7.03413141e-06,  6.97310631e-06],\n",
       "       [-2.64701613e-07,  1.00000000e+00, -2.80697098e-07, ...,\n",
       "        -7.72381254e-05,  2.32277203e-05,  1.15500604e-05],\n",
       "       [ 2.89977454e-07, -2.80697098e-07,  1.00000000e+00, ...,\n",
       "         3.12575640e-05,  4.54244005e-05,  8.75861396e-05],\n",
       "       ...,\n",
       "       [-1.73287055e-05, -7.72381254e-05,  3.12575640e-05, ...,\n",
       "         1.00000000e+00, -4.93114743e-02, -3.64587185e-02],\n",
       "       [ 7.03413141e-06,  2.32277203e-05,  4.54244005e-05, ...,\n",
       "        -4.93114743e-02,  1.00000000e+00,  3.61322680e-02],\n",
       "       [ 6.97310631e-06,  1.15500604e-05,  8.75861396e-05, ...,\n",
       "        -3.64587185e-02,  3.61322680e-02,  1.00000000e+00]])"
      ]
     },
     "execution_count": 103,
     "metadata": {},
     "output_type": "execute_result"
    }
   ],
   "source": [
    "corrmat"
   ]
  },
  {
   "cell_type": "markdown",
   "id": "e5852693",
   "metadata": {},
   "source": [
    "### Applying the transformation on the test set"
   ]
  },
  {
   "cell_type": "code",
   "execution_count": 104,
   "id": "76137d7b",
   "metadata": {},
   "outputs": [
    {
     "data": {
      "text/plain": [
       "(6304, 70)"
      ]
     },
     "execution_count": 104,
     "metadata": {},
     "output_type": "execute_result"
    }
   ],
   "source": [
    "X_test.shape"
   ]
  },
  {
   "cell_type": "code",
   "execution_count": 105,
   "id": "2d03012a",
   "metadata": {},
   "outputs": [
    {
     "data": {
      "text/plain": [
       "(6304, 50)"
      ]
     },
     "execution_count": 105,
     "metadata": {},
     "output_type": "execute_result"
    }
   ],
   "source": [
    "df_test_pca = pca_final.transform(X_test_ori)\n",
    "df_test_pca.shape"
   ]
  },
  {
   "cell_type": "markdown",
   "id": "8128fc2c",
   "metadata": {},
   "source": [
    "## Applying logistic regression on the data on our Principal components"
   ]
  },
  {
   "cell_type": "code",
   "execution_count": 106,
   "id": "af703228",
   "metadata": {},
   "outputs": [],
   "source": [
    "learner_pca = LogisticRegression()"
   ]
  },
  {
   "cell_type": "code",
   "execution_count": 107,
   "id": "c9149f26",
   "metadata": {},
   "outputs": [],
   "source": [
    "model_pca = learner_pca.fit(df_train_pca, y_resampled)"
   ]
  },
  {
   "cell_type": "markdown",
   "id": "1fadaff5",
   "metadata": {},
   "source": [
    "### Making predictions on the test set"
   ]
  },
  {
   "cell_type": "code",
   "execution_count": 108,
   "id": "9da7cae5",
   "metadata": {},
   "outputs": [],
   "source": [
    "pred_probs_test = model_pca.predict_proba(df_test_pca)"
   ]
  },
  {
   "cell_type": "code",
   "execution_count": 109,
   "id": "98027341",
   "metadata": {},
   "outputs": [
    {
     "data": {
      "text/plain": [
       "'0.79'"
      ]
     },
     "execution_count": 109,
     "metadata": {},
     "output_type": "execute_result"
    }
   ],
   "source": [
    "\"{:2.2}\".format(metrics.roc_auc_score(y_test, pred_probs_test[:,1]))"
   ]
  },
  {
   "cell_type": "markdown",
   "id": "169fcb86-5c15-4af0-9f41-bf1337d8df35",
   "metadata": {},
   "source": [
    "##### So we could see the accuracy coming close to 80%.\n",
    "We got a rough idea with PCA and Logistic Regression.\n",
    "We now move to Lasso and Ridge Regression for further analysis and actual conclusion on right predictors and coefficients.\n",
    "Let's try other models to see how it performs."
   ]
  },
  {
   "cell_type": "code",
   "execution_count": 110,
   "id": "c461582b",
   "metadata": {},
   "outputs": [
    {
     "ename": "TypeError",
     "evalue": "get_accuracy_params() missing 1 required positional argument: 'model'",
     "output_type": "error",
     "traceback": [
      "\u001b[0;31m---------------------------------------------------------------------------\u001b[0m",
      "\u001b[0;31mTypeError\u001b[0m                                 Traceback (most recent call last)",
      "\u001b[0;32m/var/folders/zh/dtjt7c1928n9c2xwnxyc60wc0000gn/T/ipykernel_64018/3570983893.py\u001b[0m in \u001b[0;36m<module>\u001b[0;34m\u001b[0m\n\u001b[0;32m----> 1\u001b[0;31m \u001b[0mmetrics_dict\u001b[0m \u001b[0;34m=\u001b[0m \u001b[0mget_accuracy_params\u001b[0m\u001b[0;34m(\u001b[0m\u001b[0my_resampled\u001b[0m\u001b[0;34m,\u001b[0m \u001b[0my_pred_train_final\u001b[0m\u001b[0;34m,\u001b[0m \u001b[0;34m'Logistic_pca'\u001b[0m\u001b[0;34m)\u001b[0m\u001b[0;34m\u001b[0m\u001b[0;34m\u001b[0m\u001b[0m\n\u001b[0m",
      "\u001b[0;31mTypeError\u001b[0m: get_accuracy_params() missing 1 required positional argument: 'model'"
     ]
    }
   ],
   "source": [
    "metrics_dict = get_accuracy_params(y_resampled, y_pred_train_final, 'Logistic_pca')"
   ]
  },
  {
   "cell_type": "markdown",
   "id": "adbe4de2-2ddd-4477-bdf8-bec63bad5f83",
   "metadata": {},
   "source": [
    "### Ridge and Lasso Regression\n"
   ]
  },
  {
   "cell_type": "markdown",
   "id": "d9e41d1e-68ee-4f8f-ac7c-d1295a41a737",
   "metadata": {},
   "source": [
    "#### Ridge Regression"
   ]
  },
  {
   "cell_type": "code",
   "execution_count": null,
   "id": "7ac62178-e44d-44d4-a66a-7f01e6dcaa06",
   "metadata": {
    "scrolled": true
   },
   "outputs": [],
   "source": [
    "# list of alphas to tune - if value too high it will lead to underfitting, if it is too low, \n",
    "# it will not handle the overfitting\n",
    "params = {'alpha': [0.0001, 0.001, 0.01, 0.05, 0.1, \n",
    " 0.2, 0.3, 0.4, 0.5, 0.6, 0.7, 0.8, 0.9, 1.0, 2.0, 3.0, \n",
    " 4.0, 5.0, 6.0, 7.0, 8.0, 9.0, 10.0, 20, 50, 100, 500, 1000 ]}\n",
    "\n",
    "ridge = Ridge()\n",
    "\n",
    "# cross validation\n",
    "folds = 10\n",
    "model_cv = GridSearchCV(estimator = ridge, \n",
    "                        param_grid = params, \n",
    "                        scoring= 'neg_mean_absolute_error',  \n",
    "                        cv = folds, \n",
    "                        return_train_score=True,\n",
    "                        verbose = 1)  \n",
    "\n",
    "\n",
    "model_cv.fit(X_resampled, y_resampled)"
   ]
  },
  {
   "cell_type": "code",
   "execution_count": null,
   "id": "64ef3402-9e82-4f08-abf7-da8a954dcc15",
   "metadata": {},
   "outputs": [],
   "source": [
    "# Printing the best hyperparameter alpha\n",
    "print(model_cv.best_params_)"
   ]
  },
  {
   "cell_type": "code",
   "execution_count": null,
   "id": "2630e3d7-1bd8-4b0e-a28b-33a97c0c59e7",
   "metadata": {},
   "outputs": [],
   "source": [
    "#Fitting Ridge model for alpha = 0.0001 and printing coefficients which have been penalised\n",
    "alpha = 0.0001\n",
    "\n",
    "ridge = Ridge(alpha=alpha)\n",
    "        \n",
    "ridge.fit(X_resampled, y_resampled) "
   ]
  },
  {
   "cell_type": "code",
   "execution_count": null,
   "id": "d1458459-eb5b-4b64-8c53-496ae8ce9f5f",
   "metadata": {},
   "outputs": [],
   "source": [
    "cv_result_r = pd.DataFrame(model_cv.cv_results_)\n",
    "cv_result_r['param_alpha'] = cv_result_r['param_alpha'].astype('float32')\n",
    "cv_result_r.head()"
   ]
  },
  {
   "cell_type": "code",
   "execution_count": null,
   "id": "325a426e-73ce-43ec-a3e9-51bf96cf5546",
   "metadata": {},
   "outputs": [],
   "source": [
    "plt.figure(figsize=(16,8))\n",
    "plt.plot(cv_result_r['param_alpha'],cv_result_r['mean_train_score'])\n",
    "plt.plot(cv_result_r['param_alpha'],cv_result_r['mean_test_score'])\n",
    "plt.xscale('log')\n",
    "plt.ylabel('R2 Score')\n",
    "plt.xlabel('Alpha')\n",
    "plt.show()"
   ]
  },
  {
   "cell_type": "markdown",
   "id": "2d01dce2",
   "metadata": {},
   "source": [
    "## Looking at the curve, as they are not converging we will go ahead with Lasso."
   ]
  },
  {
   "cell_type": "code",
   "execution_count": null,
   "id": "3697a328",
   "metadata": {},
   "outputs": [],
   "source": [
    "# Lets do prediction for test data and train data\n",
    "# train data"
   ]
  },
  {
   "cell_type": "code",
   "execution_count": null,
   "id": "46857b32",
   "metadata": {},
   "outputs": [],
   "source": [
    "y_train_pred = ridge.predict(X_resampled)\n",
    "metrics.r2_score(y_true=y_resampled, y_pred=y_train_pred)"
   ]
  },
  {
   "cell_type": "code",
   "execution_count": null,
   "id": "c05505ed",
   "metadata": {},
   "outputs": [],
   "source": [
    "# Prediction for test data \n",
    "y_pred_test = ridge.predict(X_resampled)"
   ]
  },
  {
   "cell_type": "code",
   "execution_count": null,
   "id": "e68121ef",
   "metadata": {},
   "outputs": [],
   "source": [
    "y_pred_test"
   ]
  },
  {
   "cell_type": "code",
   "execution_count": null,
   "id": "d077aadf",
   "metadata": {},
   "outputs": [],
   "source": []
  }
 ],
 "metadata": {
  "kernelspec": {
   "display_name": "Python 3 (ipykernel)",
   "language": "python",
   "name": "python3"
  },
  "language_info": {
   "codemirror_mode": {
    "name": "ipython",
    "version": 3
   },
   "file_extension": ".py",
   "mimetype": "text/x-python",
   "name": "python",
   "nbconvert_exporter": "python",
   "pygments_lexer": "ipython3",
   "version": "3.9.7"
  }
 },
 "nbformat": 4,
 "nbformat_minor": 5
}
