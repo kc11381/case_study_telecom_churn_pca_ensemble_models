{
 "cells": [
  {
   "cell_type": "markdown",
   "id": "85815f8b",
   "metadata": {},
   "source": [
    "# Telecom Churn case study using PCA and Ensemble\n",
    "\n",
    "### Problem Statement\n",
    "In the telecom industry, customers are able to choose from multiple service providers and actively switch from one operator to another. In this highly competitive market, the telecommunications industry experiences an average of 15-25% annual churn rate. Given the fact that it costs 5-10 times more to acquire a new customer than to retain an existing one, customer retention has now become even more important than customer acquisition.\n",
    "\n",
    "For many incumbent operators, retaining high profitable customers is the number one business\n",
    "goal. To reduce customer churn, telecom companies need to predict which customers are at high risk of churn. In this project, you will analyze customer-level data of a leading telecom firm, build predictive models to identify customers at high risk of churn.\n",
    "\n",
    "In this competition, your goal is to build a machine learning model that is able to predict churning customers based on the features provided for their usage.\n",
    "\n",
    "### Goal\n",
    "It is your job to predict if a customer will churn, given the ~170 columns containing customer behavior, usage patterns, payment patterns, and other features that might be relevant. Your target variable is \"churn_probability\"\n",
    "Note: Make sure your accuracy is greater than the sample submission that is present in the leaderboard"
   ]
  },
  {
   "cell_type": "code",
   "execution_count": 1,
   "id": "a5dfb968",
   "metadata": {},
   "outputs": [],
   "source": [
    "import matplotlib.pyplot as plt\n",
    "import numpy as np\n",
    "import pandas as pd\n",
    "import seaborn as sns\n",
    "import statsmodels.api as sm\n",
    "import warnings\n",
    "\n",
    "from sklearn import metrics\n",
    "from sklearn.decomposition import IncrementalPCA\n",
    "from sklearn.decomposition import PCA\n",
    "from sklearn.ensemble import RandomForestClassifier\n",
    "from sklearn.feature_selection import RFE\n",
    "from sklearn.linear_model import LinearRegression\n",
    "from sklearn.linear_model import LogisticRegression\n",
    "from sklearn.linear_model import Lasso\n",
    "from sklearn.linear_model import Ridge\n",
    "from sklearn.model_selection import GridSearchCV\n",
    "from sklearn.model_selection import RandomizedSearchCV\n",
    "from sklearn.model_selection import train_test_split\n",
    "from sklearn.metrics import accuracy_score\n",
    "from sklearn.metrics import classification_report\n",
    "from sklearn.metrics import confusion_matrix\n",
    "from sklearn.metrics import mean_squared_error\n",
    "from sklearn.metrics import r2_score\n",
    "from sklearn.preprocessing import MinMaxScaler\n",
    "\n",
    "# to ignore the warnings\n",
    "warnings.filterwarnings('ignore')"
   ]
  },
  {
   "cell_type": "markdown",
   "id": "0db327e7",
   "metadata": {},
   "source": [
    "## Step 1. Reading, Understanding and Visualizing the data"
   ]
  },
  {
   "cell_type": "code",
   "execution_count": 2,
   "id": "75b4d852",
   "metadata": {},
   "outputs": [],
   "source": [
    "telecom_train_df = pd.read_csv('train (1).csv')\n",
    "telecom_test_df = pd.read_csv('test (1).csv')"
   ]
  },
  {
   "cell_type": "code",
   "execution_count": 3,
   "id": "aafd7bff",
   "metadata": {},
   "outputs": [
    {
     "data": {
      "text/html": [
       "<div>\n",
       "<style scoped>\n",
       "    .dataframe tbody tr th:only-of-type {\n",
       "        vertical-align: middle;\n",
       "    }\n",
       "\n",
       "    .dataframe tbody tr th {\n",
       "        vertical-align: top;\n",
       "    }\n",
       "\n",
       "    .dataframe thead th {\n",
       "        text-align: right;\n",
       "    }\n",
       "</style>\n",
       "<table border=\"1\" class=\"dataframe\">\n",
       "  <thead>\n",
       "    <tr style=\"text-align: right;\">\n",
       "      <th></th>\n",
       "      <th>id</th>\n",
       "      <th>circle_id</th>\n",
       "      <th>loc_og_t2o_mou</th>\n",
       "      <th>std_og_t2o_mou</th>\n",
       "      <th>loc_ic_t2o_mou</th>\n",
       "      <th>last_date_of_month_6</th>\n",
       "      <th>last_date_of_month_7</th>\n",
       "      <th>last_date_of_month_8</th>\n",
       "      <th>arpu_6</th>\n",
       "      <th>arpu_7</th>\n",
       "      <th>...</th>\n",
       "      <th>sachet_3g_7</th>\n",
       "      <th>sachet_3g_8</th>\n",
       "      <th>fb_user_6</th>\n",
       "      <th>fb_user_7</th>\n",
       "      <th>fb_user_8</th>\n",
       "      <th>aon</th>\n",
       "      <th>aug_vbc_3g</th>\n",
       "      <th>jul_vbc_3g</th>\n",
       "      <th>jun_vbc_3g</th>\n",
       "      <th>churn_probability</th>\n",
       "    </tr>\n",
       "  </thead>\n",
       "  <tbody>\n",
       "    <tr>\n",
       "      <th>0</th>\n",
       "      <td>0</td>\n",
       "      <td>109</td>\n",
       "      <td>0.0</td>\n",
       "      <td>0.0</td>\n",
       "      <td>0.0</td>\n",
       "      <td>6/30/2014</td>\n",
       "      <td>7/31/2014</td>\n",
       "      <td>8/31/2014</td>\n",
       "      <td>31.277</td>\n",
       "      <td>87.009</td>\n",
       "      <td>...</td>\n",
       "      <td>0</td>\n",
       "      <td>0</td>\n",
       "      <td>NaN</td>\n",
       "      <td>NaN</td>\n",
       "      <td>NaN</td>\n",
       "      <td>1958</td>\n",
       "      <td>0.0</td>\n",
       "      <td>0.0</td>\n",
       "      <td>0.0</td>\n",
       "      <td>0</td>\n",
       "    </tr>\n",
       "    <tr>\n",
       "      <th>1</th>\n",
       "      <td>1</td>\n",
       "      <td>109</td>\n",
       "      <td>0.0</td>\n",
       "      <td>0.0</td>\n",
       "      <td>0.0</td>\n",
       "      <td>6/30/2014</td>\n",
       "      <td>7/31/2014</td>\n",
       "      <td>8/31/2014</td>\n",
       "      <td>0.000</td>\n",
       "      <td>122.787</td>\n",
       "      <td>...</td>\n",
       "      <td>0</td>\n",
       "      <td>0</td>\n",
       "      <td>NaN</td>\n",
       "      <td>1.0</td>\n",
       "      <td>NaN</td>\n",
       "      <td>710</td>\n",
       "      <td>0.0</td>\n",
       "      <td>0.0</td>\n",
       "      <td>0.0</td>\n",
       "      <td>0</td>\n",
       "    </tr>\n",
       "    <tr>\n",
       "      <th>2</th>\n",
       "      <td>2</td>\n",
       "      <td>109</td>\n",
       "      <td>0.0</td>\n",
       "      <td>0.0</td>\n",
       "      <td>0.0</td>\n",
       "      <td>6/30/2014</td>\n",
       "      <td>7/31/2014</td>\n",
       "      <td>8/31/2014</td>\n",
       "      <td>60.806</td>\n",
       "      <td>103.176</td>\n",
       "      <td>...</td>\n",
       "      <td>0</td>\n",
       "      <td>0</td>\n",
       "      <td>NaN</td>\n",
       "      <td>NaN</td>\n",
       "      <td>NaN</td>\n",
       "      <td>882</td>\n",
       "      <td>0.0</td>\n",
       "      <td>0.0</td>\n",
       "      <td>0.0</td>\n",
       "      <td>0</td>\n",
       "    </tr>\n",
       "    <tr>\n",
       "      <th>3</th>\n",
       "      <td>3</td>\n",
       "      <td>109</td>\n",
       "      <td>0.0</td>\n",
       "      <td>0.0</td>\n",
       "      <td>0.0</td>\n",
       "      <td>6/30/2014</td>\n",
       "      <td>7/31/2014</td>\n",
       "      <td>8/31/2014</td>\n",
       "      <td>156.362</td>\n",
       "      <td>205.260</td>\n",
       "      <td>...</td>\n",
       "      <td>0</td>\n",
       "      <td>0</td>\n",
       "      <td>NaN</td>\n",
       "      <td>NaN</td>\n",
       "      <td>NaN</td>\n",
       "      <td>982</td>\n",
       "      <td>0.0</td>\n",
       "      <td>0.0</td>\n",
       "      <td>0.0</td>\n",
       "      <td>0</td>\n",
       "    </tr>\n",
       "    <tr>\n",
       "      <th>4</th>\n",
       "      <td>4</td>\n",
       "      <td>109</td>\n",
       "      <td>0.0</td>\n",
       "      <td>0.0</td>\n",
       "      <td>0.0</td>\n",
       "      <td>6/30/2014</td>\n",
       "      <td>7/31/2014</td>\n",
       "      <td>8/31/2014</td>\n",
       "      <td>240.708</td>\n",
       "      <td>128.191</td>\n",
       "      <td>...</td>\n",
       "      <td>1</td>\n",
       "      <td>0</td>\n",
       "      <td>1.0</td>\n",
       "      <td>1.0</td>\n",
       "      <td>1.0</td>\n",
       "      <td>647</td>\n",
       "      <td>0.0</td>\n",
       "      <td>0.0</td>\n",
       "      <td>0.0</td>\n",
       "      <td>0</td>\n",
       "    </tr>\n",
       "  </tbody>\n",
       "</table>\n",
       "<p>5 rows × 172 columns</p>\n",
       "</div>"
      ],
      "text/plain": [
       "   id  circle_id  loc_og_t2o_mou  std_og_t2o_mou  loc_ic_t2o_mou  \\\n",
       "0   0        109             0.0             0.0             0.0   \n",
       "1   1        109             0.0             0.0             0.0   \n",
       "2   2        109             0.0             0.0             0.0   \n",
       "3   3        109             0.0             0.0             0.0   \n",
       "4   4        109             0.0             0.0             0.0   \n",
       "\n",
       "  last_date_of_month_6 last_date_of_month_7 last_date_of_month_8   arpu_6  \\\n",
       "0            6/30/2014            7/31/2014            8/31/2014   31.277   \n",
       "1            6/30/2014            7/31/2014            8/31/2014    0.000   \n",
       "2            6/30/2014            7/31/2014            8/31/2014   60.806   \n",
       "3            6/30/2014            7/31/2014            8/31/2014  156.362   \n",
       "4            6/30/2014            7/31/2014            8/31/2014  240.708   \n",
       "\n",
       "    arpu_7  ...  sachet_3g_7  sachet_3g_8  fb_user_6  fb_user_7  fb_user_8  \\\n",
       "0   87.009  ...            0            0        NaN        NaN        NaN   \n",
       "1  122.787  ...            0            0        NaN        1.0        NaN   \n",
       "2  103.176  ...            0            0        NaN        NaN        NaN   \n",
       "3  205.260  ...            0            0        NaN        NaN        NaN   \n",
       "4  128.191  ...            1            0        1.0        1.0        1.0   \n",
       "\n",
       "    aon  aug_vbc_3g  jul_vbc_3g  jun_vbc_3g  churn_probability  \n",
       "0  1958         0.0         0.0         0.0                  0  \n",
       "1   710         0.0         0.0         0.0                  0  \n",
       "2   882         0.0         0.0         0.0                  0  \n",
       "3   982         0.0         0.0         0.0                  0  \n",
       "4   647         0.0         0.0         0.0                  0  \n",
       "\n",
       "[5 rows x 172 columns]"
      ]
     },
     "execution_count": 3,
     "metadata": {},
     "output_type": "execute_result"
    }
   ],
   "source": [
    "telecom_train_df.head()"
   ]
  },
  {
   "cell_type": "code",
   "execution_count": 4,
   "id": "08ff9072",
   "metadata": {},
   "outputs": [
    {
     "data": {
      "text/html": [
       "<div>\n",
       "<style scoped>\n",
       "    .dataframe tbody tr th:only-of-type {\n",
       "        vertical-align: middle;\n",
       "    }\n",
       "\n",
       "    .dataframe tbody tr th {\n",
       "        vertical-align: top;\n",
       "    }\n",
       "\n",
       "    .dataframe thead th {\n",
       "        text-align: right;\n",
       "    }\n",
       "</style>\n",
       "<table border=\"1\" class=\"dataframe\">\n",
       "  <thead>\n",
       "    <tr style=\"text-align: right;\">\n",
       "      <th></th>\n",
       "      <th>id</th>\n",
       "      <th>circle_id</th>\n",
       "      <th>loc_og_t2o_mou</th>\n",
       "      <th>std_og_t2o_mou</th>\n",
       "      <th>loc_ic_t2o_mou</th>\n",
       "      <th>last_date_of_month_6</th>\n",
       "      <th>last_date_of_month_7</th>\n",
       "      <th>last_date_of_month_8</th>\n",
       "      <th>arpu_6</th>\n",
       "      <th>arpu_7</th>\n",
       "      <th>...</th>\n",
       "      <th>sachet_3g_6</th>\n",
       "      <th>sachet_3g_7</th>\n",
       "      <th>sachet_3g_8</th>\n",
       "      <th>fb_user_6</th>\n",
       "      <th>fb_user_7</th>\n",
       "      <th>fb_user_8</th>\n",
       "      <th>aon</th>\n",
       "      <th>aug_vbc_3g</th>\n",
       "      <th>jul_vbc_3g</th>\n",
       "      <th>jun_vbc_3g</th>\n",
       "    </tr>\n",
       "  </thead>\n",
       "  <tbody>\n",
       "    <tr>\n",
       "      <th>0</th>\n",
       "      <td>69999</td>\n",
       "      <td>109</td>\n",
       "      <td>0.0</td>\n",
       "      <td>0.0</td>\n",
       "      <td>0.0</td>\n",
       "      <td>6/30/2014</td>\n",
       "      <td>7/31/2014</td>\n",
       "      <td>8/31/2014</td>\n",
       "      <td>91.882</td>\n",
       "      <td>65.330</td>\n",
       "      <td>...</td>\n",
       "      <td>0</td>\n",
       "      <td>0</td>\n",
       "      <td>0</td>\n",
       "      <td>NaN</td>\n",
       "      <td>NaN</td>\n",
       "      <td>NaN</td>\n",
       "      <td>1692</td>\n",
       "      <td>0.00</td>\n",
       "      <td>0.00</td>\n",
       "      <td>0.00</td>\n",
       "    </tr>\n",
       "    <tr>\n",
       "      <th>1</th>\n",
       "      <td>70000</td>\n",
       "      <td>109</td>\n",
       "      <td>0.0</td>\n",
       "      <td>0.0</td>\n",
       "      <td>0.0</td>\n",
       "      <td>6/30/2014</td>\n",
       "      <td>7/31/2014</td>\n",
       "      <td>8/31/2014</td>\n",
       "      <td>414.168</td>\n",
       "      <td>515.568</td>\n",
       "      <td>...</td>\n",
       "      <td>0</td>\n",
       "      <td>0</td>\n",
       "      <td>0</td>\n",
       "      <td>NaN</td>\n",
       "      <td>NaN</td>\n",
       "      <td>NaN</td>\n",
       "      <td>2533</td>\n",
       "      <td>0.00</td>\n",
       "      <td>0.00</td>\n",
       "      <td>0.00</td>\n",
       "    </tr>\n",
       "    <tr>\n",
       "      <th>2</th>\n",
       "      <td>70001</td>\n",
       "      <td>109</td>\n",
       "      <td>0.0</td>\n",
       "      <td>0.0</td>\n",
       "      <td>0.0</td>\n",
       "      <td>6/30/2014</td>\n",
       "      <td>7/31/2014</td>\n",
       "      <td>8/31/2014</td>\n",
       "      <td>329.844</td>\n",
       "      <td>434.884</td>\n",
       "      <td>...</td>\n",
       "      <td>0</td>\n",
       "      <td>0</td>\n",
       "      <td>0</td>\n",
       "      <td>NaN</td>\n",
       "      <td>NaN</td>\n",
       "      <td>NaN</td>\n",
       "      <td>277</td>\n",
       "      <td>525.61</td>\n",
       "      <td>758.41</td>\n",
       "      <td>241.84</td>\n",
       "    </tr>\n",
       "    <tr>\n",
       "      <th>3</th>\n",
       "      <td>70002</td>\n",
       "      <td>109</td>\n",
       "      <td>0.0</td>\n",
       "      <td>0.0</td>\n",
       "      <td>0.0</td>\n",
       "      <td>6/30/2014</td>\n",
       "      <td>7/31/2014</td>\n",
       "      <td>8/31/2014</td>\n",
       "      <td>43.550</td>\n",
       "      <td>171.390</td>\n",
       "      <td>...</td>\n",
       "      <td>0</td>\n",
       "      <td>0</td>\n",
       "      <td>0</td>\n",
       "      <td>NaN</td>\n",
       "      <td>NaN</td>\n",
       "      <td>NaN</td>\n",
       "      <td>1244</td>\n",
       "      <td>0.00</td>\n",
       "      <td>0.00</td>\n",
       "      <td>0.00</td>\n",
       "    </tr>\n",
       "    <tr>\n",
       "      <th>4</th>\n",
       "      <td>70003</td>\n",
       "      <td>109</td>\n",
       "      <td>0.0</td>\n",
       "      <td>0.0</td>\n",
       "      <td>0.0</td>\n",
       "      <td>6/30/2014</td>\n",
       "      <td>7/31/2014</td>\n",
       "      <td>8/31/2014</td>\n",
       "      <td>306.854</td>\n",
       "      <td>406.289</td>\n",
       "      <td>...</td>\n",
       "      <td>0</td>\n",
       "      <td>0</td>\n",
       "      <td>0</td>\n",
       "      <td>NaN</td>\n",
       "      <td>NaN</td>\n",
       "      <td>NaN</td>\n",
       "      <td>462</td>\n",
       "      <td>0.00</td>\n",
       "      <td>0.00</td>\n",
       "      <td>0.00</td>\n",
       "    </tr>\n",
       "  </tbody>\n",
       "</table>\n",
       "<p>5 rows × 171 columns</p>\n",
       "</div>"
      ],
      "text/plain": [
       "      id  circle_id  loc_og_t2o_mou  std_og_t2o_mou  loc_ic_t2o_mou  \\\n",
       "0  69999        109             0.0             0.0             0.0   \n",
       "1  70000        109             0.0             0.0             0.0   \n",
       "2  70001        109             0.0             0.0             0.0   \n",
       "3  70002        109             0.0             0.0             0.0   \n",
       "4  70003        109             0.0             0.0             0.0   \n",
       "\n",
       "  last_date_of_month_6 last_date_of_month_7 last_date_of_month_8   arpu_6  \\\n",
       "0            6/30/2014            7/31/2014            8/31/2014   91.882   \n",
       "1            6/30/2014            7/31/2014            8/31/2014  414.168   \n",
       "2            6/30/2014            7/31/2014            8/31/2014  329.844   \n",
       "3            6/30/2014            7/31/2014            8/31/2014   43.550   \n",
       "4            6/30/2014            7/31/2014            8/31/2014  306.854   \n",
       "\n",
       "    arpu_7  ...  sachet_3g_6  sachet_3g_7  sachet_3g_8  fb_user_6  fb_user_7  \\\n",
       "0   65.330  ...            0            0            0        NaN        NaN   \n",
       "1  515.568  ...            0            0            0        NaN        NaN   \n",
       "2  434.884  ...            0            0            0        NaN        NaN   \n",
       "3  171.390  ...            0            0            0        NaN        NaN   \n",
       "4  406.289  ...            0            0            0        NaN        NaN   \n",
       "\n",
       "   fb_user_8   aon  aug_vbc_3g  jul_vbc_3g  jun_vbc_3g  \n",
       "0        NaN  1692        0.00        0.00        0.00  \n",
       "1        NaN  2533        0.00        0.00        0.00  \n",
       "2        NaN   277      525.61      758.41      241.84  \n",
       "3        NaN  1244        0.00        0.00        0.00  \n",
       "4        NaN   462        0.00        0.00        0.00  \n",
       "\n",
       "[5 rows x 171 columns]"
      ]
     },
     "execution_count": 4,
     "metadata": {},
     "output_type": "execute_result"
    }
   ],
   "source": [
    "telecom_test_df.head()"
   ]
  },
  {
   "cell_type": "code",
   "execution_count": 5,
   "id": "9b3eee97",
   "metadata": {},
   "outputs": [
    {
     "data": {
      "text/plain": [
       "(69999, 172)"
      ]
     },
     "execution_count": 5,
     "metadata": {},
     "output_type": "execute_result"
    }
   ],
   "source": [
    "telecom_train_df.shape"
   ]
  },
  {
   "cell_type": "code",
   "execution_count": 6,
   "id": "ade9e8ac",
   "metadata": {},
   "outputs": [
    {
     "data": {
      "text/plain": [
       "(30000, 171)"
      ]
     },
     "execution_count": 6,
     "metadata": {},
     "output_type": "execute_result"
    }
   ],
   "source": [
    "telecom_test_df.shape"
   ]
  },
  {
   "cell_type": "code",
   "execution_count": 7,
   "id": "6d5176fa",
   "metadata": {},
   "outputs": [
    {
     "data": {
      "text/plain": [
       "Index(['id', 'circle_id', 'loc_og_t2o_mou', 'std_og_t2o_mou', 'loc_ic_t2o_mou',\n",
       "       'last_date_of_month_6', 'last_date_of_month_7', 'last_date_of_month_8',\n",
       "       'arpu_6', 'arpu_7',\n",
       "       ...\n",
       "       'sachet_3g_7', 'sachet_3g_8', 'fb_user_6', 'fb_user_7', 'fb_user_8',\n",
       "       'aon', 'aug_vbc_3g', 'jul_vbc_3g', 'jun_vbc_3g', 'churn_probability'],\n",
       "      dtype='object', length=172)"
      ]
     },
     "execution_count": 7,
     "metadata": {},
     "output_type": "execute_result"
    }
   ],
   "source": [
    "telecom_train_df.columns"
   ]
  },
  {
   "cell_type": "code",
   "execution_count": 8,
   "id": "8cd748c3",
   "metadata": {},
   "outputs": [
    {
     "name": "stdout",
     "output_type": "stream",
     "text": [
      "<class 'pandas.core.frame.DataFrame'>\n",
      "RangeIndex: 69999 entries, 0 to 69998\n",
      "Columns: 172 entries, id to churn_probability\n",
      "dtypes: float64(135), int64(28), object(9)\n",
      "memory usage: 91.9+ MB\n"
     ]
    }
   ],
   "source": [
    "telecom_train_df.info()"
   ]
  },
  {
   "cell_type": "code",
   "execution_count": 9,
   "id": "6803651e",
   "metadata": {},
   "outputs": [
    {
     "data": {
      "text/html": [
       "<div>\n",
       "<style scoped>\n",
       "    .dataframe tbody tr th:only-of-type {\n",
       "        vertical-align: middle;\n",
       "    }\n",
       "\n",
       "    .dataframe tbody tr th {\n",
       "        vertical-align: top;\n",
       "    }\n",
       "\n",
       "    .dataframe thead th {\n",
       "        text-align: right;\n",
       "    }\n",
       "</style>\n",
       "<table border=\"1\" class=\"dataframe\">\n",
       "  <thead>\n",
       "    <tr style=\"text-align: right;\">\n",
       "      <th></th>\n",
       "      <th>id</th>\n",
       "      <th>circle_id</th>\n",
       "      <th>loc_og_t2o_mou</th>\n",
       "      <th>std_og_t2o_mou</th>\n",
       "      <th>loc_ic_t2o_mou</th>\n",
       "      <th>arpu_6</th>\n",
       "      <th>arpu_7</th>\n",
       "      <th>arpu_8</th>\n",
       "      <th>onnet_mou_6</th>\n",
       "      <th>onnet_mou_7</th>\n",
       "      <th>...</th>\n",
       "      <th>sachet_3g_7</th>\n",
       "      <th>sachet_3g_8</th>\n",
       "      <th>fb_user_6</th>\n",
       "      <th>fb_user_7</th>\n",
       "      <th>fb_user_8</th>\n",
       "      <th>aon</th>\n",
       "      <th>aug_vbc_3g</th>\n",
       "      <th>jul_vbc_3g</th>\n",
       "      <th>jun_vbc_3g</th>\n",
       "      <th>churn_probability</th>\n",
       "    </tr>\n",
       "  </thead>\n",
       "  <tbody>\n",
       "    <tr>\n",
       "      <th>count</th>\n",
       "      <td>69999.000000</td>\n",
       "      <td>69999.0</td>\n",
       "      <td>69297.0</td>\n",
       "      <td>69297.0</td>\n",
       "      <td>69297.0</td>\n",
       "      <td>69999.000000</td>\n",
       "      <td>69999.000000</td>\n",
       "      <td>69999.000000</td>\n",
       "      <td>67231.000000</td>\n",
       "      <td>67312.000000</td>\n",
       "      <td>...</td>\n",
       "      <td>69999.000000</td>\n",
       "      <td>69999.000000</td>\n",
       "      <td>17568.000000</td>\n",
       "      <td>17865.000000</td>\n",
       "      <td>18417.000000</td>\n",
       "      <td>69999.000000</td>\n",
       "      <td>69999.000000</td>\n",
       "      <td>69999.000000</td>\n",
       "      <td>69999.00000</td>\n",
       "      <td>69999.000000</td>\n",
       "    </tr>\n",
       "    <tr>\n",
       "      <th>mean</th>\n",
       "      <td>34999.000000</td>\n",
       "      <td>109.0</td>\n",
       "      <td>0.0</td>\n",
       "      <td>0.0</td>\n",
       "      <td>0.0</td>\n",
       "      <td>283.134365</td>\n",
       "      <td>278.185912</td>\n",
       "      <td>278.858826</td>\n",
       "      <td>133.153275</td>\n",
       "      <td>133.894438</td>\n",
       "      <td>...</td>\n",
       "      <td>0.081444</td>\n",
       "      <td>0.085487</td>\n",
       "      <td>0.916325</td>\n",
       "      <td>0.909544</td>\n",
       "      <td>0.890319</td>\n",
       "      <td>1220.639709</td>\n",
       "      <td>68.108597</td>\n",
       "      <td>65.935830</td>\n",
       "      <td>60.07674</td>\n",
       "      <td>0.101887</td>\n",
       "    </tr>\n",
       "    <tr>\n",
       "      <th>std</th>\n",
       "      <td>20207.115084</td>\n",
       "      <td>0.0</td>\n",
       "      <td>0.0</td>\n",
       "      <td>0.0</td>\n",
       "      <td>0.0</td>\n",
       "      <td>334.213918</td>\n",
       "      <td>344.366927</td>\n",
       "      <td>351.924315</td>\n",
       "      <td>299.963093</td>\n",
       "      <td>311.277193</td>\n",
       "      <td>...</td>\n",
       "      <td>0.634547</td>\n",
       "      <td>0.680035</td>\n",
       "      <td>0.276907</td>\n",
       "      <td>0.286842</td>\n",
       "      <td>0.312501</td>\n",
       "      <td>952.426321</td>\n",
       "      <td>269.328659</td>\n",
       "      <td>267.899034</td>\n",
       "      <td>257.22681</td>\n",
       "      <td>0.302502</td>\n",
       "    </tr>\n",
       "    <tr>\n",
       "      <th>min</th>\n",
       "      <td>0.000000</td>\n",
       "      <td>109.0</td>\n",
       "      <td>0.0</td>\n",
       "      <td>0.0</td>\n",
       "      <td>0.0</td>\n",
       "      <td>-2258.709000</td>\n",
       "      <td>-1289.715000</td>\n",
       "      <td>-945.808000</td>\n",
       "      <td>0.000000</td>\n",
       "      <td>0.000000</td>\n",
       "      <td>...</td>\n",
       "      <td>0.000000</td>\n",
       "      <td>0.000000</td>\n",
       "      <td>0.000000</td>\n",
       "      <td>0.000000</td>\n",
       "      <td>0.000000</td>\n",
       "      <td>180.000000</td>\n",
       "      <td>0.000000</td>\n",
       "      <td>0.000000</td>\n",
       "      <td>0.00000</td>\n",
       "      <td>0.000000</td>\n",
       "    </tr>\n",
       "    <tr>\n",
       "      <th>25%</th>\n",
       "      <td>17499.500000</td>\n",
       "      <td>109.0</td>\n",
       "      <td>0.0</td>\n",
       "      <td>0.0</td>\n",
       "      <td>0.0</td>\n",
       "      <td>93.581000</td>\n",
       "      <td>86.714000</td>\n",
       "      <td>84.095000</td>\n",
       "      <td>7.410000</td>\n",
       "      <td>6.675000</td>\n",
       "      <td>...</td>\n",
       "      <td>0.000000</td>\n",
       "      <td>0.000000</td>\n",
       "      <td>1.000000</td>\n",
       "      <td>1.000000</td>\n",
       "      <td>1.000000</td>\n",
       "      <td>468.000000</td>\n",
       "      <td>0.000000</td>\n",
       "      <td>0.000000</td>\n",
       "      <td>0.00000</td>\n",
       "      <td>0.000000</td>\n",
       "    </tr>\n",
       "    <tr>\n",
       "      <th>50%</th>\n",
       "      <td>34999.000000</td>\n",
       "      <td>109.0</td>\n",
       "      <td>0.0</td>\n",
       "      <td>0.0</td>\n",
       "      <td>0.0</td>\n",
       "      <td>197.484000</td>\n",
       "      <td>191.588000</td>\n",
       "      <td>192.234000</td>\n",
       "      <td>34.110000</td>\n",
       "      <td>32.280000</td>\n",
       "      <td>...</td>\n",
       "      <td>0.000000</td>\n",
       "      <td>0.000000</td>\n",
       "      <td>1.000000</td>\n",
       "      <td>1.000000</td>\n",
       "      <td>1.000000</td>\n",
       "      <td>868.000000</td>\n",
       "      <td>0.000000</td>\n",
       "      <td>0.000000</td>\n",
       "      <td>0.00000</td>\n",
       "      <td>0.000000</td>\n",
       "    </tr>\n",
       "    <tr>\n",
       "      <th>75%</th>\n",
       "      <td>52498.500000</td>\n",
       "      <td>109.0</td>\n",
       "      <td>0.0</td>\n",
       "      <td>0.0</td>\n",
       "      <td>0.0</td>\n",
       "      <td>370.791000</td>\n",
       "      <td>365.369500</td>\n",
       "      <td>369.909000</td>\n",
       "      <td>119.390000</td>\n",
       "      <td>115.837500</td>\n",
       "      <td>...</td>\n",
       "      <td>0.000000</td>\n",
       "      <td>0.000000</td>\n",
       "      <td>1.000000</td>\n",
       "      <td>1.000000</td>\n",
       "      <td>1.000000</td>\n",
       "      <td>1813.000000</td>\n",
       "      <td>0.000000</td>\n",
       "      <td>0.000000</td>\n",
       "      <td>0.00000</td>\n",
       "      <td>0.000000</td>\n",
       "    </tr>\n",
       "    <tr>\n",
       "      <th>max</th>\n",
       "      <td>69998.000000</td>\n",
       "      <td>109.0</td>\n",
       "      <td>0.0</td>\n",
       "      <td>0.0</td>\n",
       "      <td>0.0</td>\n",
       "      <td>27731.088000</td>\n",
       "      <td>35145.834000</td>\n",
       "      <td>33543.624000</td>\n",
       "      <td>7376.710000</td>\n",
       "      <td>8157.780000</td>\n",
       "      <td>...</td>\n",
       "      <td>33.000000</td>\n",
       "      <td>41.000000</td>\n",
       "      <td>1.000000</td>\n",
       "      <td>1.000000</td>\n",
       "      <td>1.000000</td>\n",
       "      <td>4337.000000</td>\n",
       "      <td>12916.220000</td>\n",
       "      <td>9165.600000</td>\n",
       "      <td>11166.21000</td>\n",
       "      <td>1.000000</td>\n",
       "    </tr>\n",
       "  </tbody>\n",
       "</table>\n",
       "<p>8 rows × 163 columns</p>\n",
       "</div>"
      ],
      "text/plain": [
       "                 id  circle_id  loc_og_t2o_mou  std_og_t2o_mou  \\\n",
       "count  69999.000000    69999.0         69297.0         69297.0   \n",
       "mean   34999.000000      109.0             0.0             0.0   \n",
       "std    20207.115084        0.0             0.0             0.0   \n",
       "min        0.000000      109.0             0.0             0.0   \n",
       "25%    17499.500000      109.0             0.0             0.0   \n",
       "50%    34999.000000      109.0             0.0             0.0   \n",
       "75%    52498.500000      109.0             0.0             0.0   \n",
       "max    69998.000000      109.0             0.0             0.0   \n",
       "\n",
       "       loc_ic_t2o_mou        arpu_6        arpu_7        arpu_8   onnet_mou_6  \\\n",
       "count         69297.0  69999.000000  69999.000000  69999.000000  67231.000000   \n",
       "mean              0.0    283.134365    278.185912    278.858826    133.153275   \n",
       "std               0.0    334.213918    344.366927    351.924315    299.963093   \n",
       "min               0.0  -2258.709000  -1289.715000   -945.808000      0.000000   \n",
       "25%               0.0     93.581000     86.714000     84.095000      7.410000   \n",
       "50%               0.0    197.484000    191.588000    192.234000     34.110000   \n",
       "75%               0.0    370.791000    365.369500    369.909000    119.390000   \n",
       "max               0.0  27731.088000  35145.834000  33543.624000   7376.710000   \n",
       "\n",
       "        onnet_mou_7  ...   sachet_3g_7   sachet_3g_8     fb_user_6  \\\n",
       "count  67312.000000  ...  69999.000000  69999.000000  17568.000000   \n",
       "mean     133.894438  ...      0.081444      0.085487      0.916325   \n",
       "std      311.277193  ...      0.634547      0.680035      0.276907   \n",
       "min        0.000000  ...      0.000000      0.000000      0.000000   \n",
       "25%        6.675000  ...      0.000000      0.000000      1.000000   \n",
       "50%       32.280000  ...      0.000000      0.000000      1.000000   \n",
       "75%      115.837500  ...      0.000000      0.000000      1.000000   \n",
       "max     8157.780000  ...     33.000000     41.000000      1.000000   \n",
       "\n",
       "          fb_user_7     fb_user_8           aon    aug_vbc_3g    jul_vbc_3g  \\\n",
       "count  17865.000000  18417.000000  69999.000000  69999.000000  69999.000000   \n",
       "mean       0.909544      0.890319   1220.639709     68.108597     65.935830   \n",
       "std        0.286842      0.312501    952.426321    269.328659    267.899034   \n",
       "min        0.000000      0.000000    180.000000      0.000000      0.000000   \n",
       "25%        1.000000      1.000000    468.000000      0.000000      0.000000   \n",
       "50%        1.000000      1.000000    868.000000      0.000000      0.000000   \n",
       "75%        1.000000      1.000000   1813.000000      0.000000      0.000000   \n",
       "max        1.000000      1.000000   4337.000000  12916.220000   9165.600000   \n",
       "\n",
       "        jun_vbc_3g  churn_probability  \n",
       "count  69999.00000       69999.000000  \n",
       "mean      60.07674           0.101887  \n",
       "std      257.22681           0.302502  \n",
       "min        0.00000           0.000000  \n",
       "25%        0.00000           0.000000  \n",
       "50%        0.00000           0.000000  \n",
       "75%        0.00000           0.000000  \n",
       "max    11166.21000           1.000000  \n",
       "\n",
       "[8 rows x 163 columns]"
      ]
     },
     "execution_count": 9,
     "metadata": {},
     "output_type": "execute_result"
    }
   ],
   "source": [
    "telecom_train_df.describe()"
   ]
  },
  {
   "cell_type": "code",
   "execution_count": 10,
   "id": "4be15a7d",
   "metadata": {},
   "outputs": [
    {
     "data": {
      "text/plain": [
       "id                     0\n",
       "circle_id              0\n",
       "loc_og_t2o_mou       702\n",
       "std_og_t2o_mou       702\n",
       "loc_ic_t2o_mou       702\n",
       "                    ... \n",
       "aon                    0\n",
       "aug_vbc_3g             0\n",
       "jul_vbc_3g             0\n",
       "jun_vbc_3g             0\n",
       "churn_probability      0\n",
       "Length: 172, dtype: int64"
      ]
     },
     "execution_count": 10,
     "metadata": {},
     "output_type": "execute_result"
    }
   ],
   "source": [
    "telecom_train_df.isna().sum()"
   ]
  },
  {
   "cell_type": "code",
   "execution_count": 11,
   "id": "be40b9f2",
   "metadata": {},
   "outputs": [
    {
     "data": {
      "text/plain": [
       "id                     int64\n",
       "circle_id              int64\n",
       "loc_og_t2o_mou       float64\n",
       "std_og_t2o_mou       float64\n",
       "loc_ic_t2o_mou       float64\n",
       "                      ...   \n",
       "aon                    int64\n",
       "aug_vbc_3g           float64\n",
       "jul_vbc_3g           float64\n",
       "jun_vbc_3g           float64\n",
       "churn_probability      int64\n",
       "Length: 172, dtype: object"
      ]
     },
     "execution_count": 11,
     "metadata": {},
     "output_type": "execute_result"
    }
   ],
   "source": [
    "telecom_train_df.dtypes"
   ]
  },
  {
   "cell_type": "code",
   "execution_count": 12,
   "id": "a6b6c597",
   "metadata": {},
   "outputs": [],
   "source": [
    "# Columns which we have to impute as Zero as thy should not be dropped based on missing values becuase they are important.\n",
    "rech_cols_to_impute = [x for x in telecom_train_df.columns if 'rech' in x and \n",
    "                       'count' not in x and 'date' not in x and 'num' not in x]\n",
    "telecom_train_df[rech_cols_to_impute] = telecom_train_df[rech_cols_to_impute].apply(lambda x: x.fillna(0))\n",
    "telecom_test_df[rech_cols_to_impute] = telecom_test_df[rech_cols_to_impute].apply(lambda x: x.fillna(0))\n"
   ]
  },
  {
   "cell_type": "markdown",
   "id": "1c81836f",
   "metadata": {},
   "source": [
    "### Dropping rows for both train and test datasets\n",
    " - Rows which are empty"
   ]
  },
  {
   "cell_type": "code",
   "execution_count": 13,
   "id": "060c74b4",
   "metadata": {},
   "outputs": [],
   "source": [
    "telecom_train_df.dropna(axis=0, how='all', inplace=True)\n",
    "telecom_test_df.dropna(axis=0, how='all', inplace=True)"
   ]
  },
  {
   "cell_type": "code",
   "execution_count": 14,
   "id": "af10b97f",
   "metadata": {},
   "outputs": [
    {
     "name": "stdout",
     "output_type": "stream",
     "text": [
      "(69999, 172)\n",
      "(30000, 171)\n"
     ]
    }
   ],
   "source": [
    "print(telecom_train_df.shape)\n",
    "print(telecom_test_df.shape)"
   ]
  },
  {
   "cell_type": "markdown",
   "id": "8e06618c",
   "metadata": {},
   "source": [
    "### Dropping columns for both train and test datasets\n",
    "\n",
    "    - Not needed columns like Id, last_date_of_month_6 etc.\n",
    "    - Columns having more than 70% values as null"
   ]
  },
  {
   "cell_type": "code",
   "execution_count": 15,
   "id": "abd04209",
   "metadata": {},
   "outputs": [],
   "source": [
    "# For us dates doesn't matter as long as customer is doing a recharge.\n",
    "cols_to_delete = ['id', 'last_date_of_month_6', 'last_date_of_month_7', 'last_date_of_month_8',\n",
    "                  'date_of_last_rech_data_6', 'date_of_last_rech_data_7', 'date_of_last_rech_data_8',\n",
    "                  'date_of_last_rech_6', 'date_of_last_rech_7', 'date_of_last_rech_8'\n",
    "                 ]\n",
    "telecom_train_df.drop(cols_to_delete, axis=1, inplace=True)\n",
    "telecom_test_df.drop(cols_to_delete, axis=1, inplace=True)"
   ]
  },
  {
   "cell_type": "code",
   "execution_count": 16,
   "id": "4d5907c5",
   "metadata": {},
   "outputs": [
    {
     "data": {
      "text/plain": [
       "arpu_3g_8           0.74\n",
       "night_pck_user_8    0.74\n",
       "night_pck_user_7    0.74\n",
       "arpu_2g_8           0.74\n",
       "arpu_2g_7           0.74\n",
       "fb_user_7           0.74\n",
       "arpu_3g_7           0.74\n",
       "fb_user_8           0.74\n",
       "count_rech_3g_8     0.74\n",
       "count_rech_3g_7     0.74\n",
       "count_rech_2g_8     0.74\n",
       "count_rech_2g_7     0.74\n",
       "arpu_2g_6           0.75\n",
       "count_rech_3g_6     0.75\n",
       "night_pck_user_6    0.75\n",
       "fb_user_6           0.75\n",
       "arpu_3g_6           0.75\n",
       "count_rech_2g_6     0.75\n",
       "dtype: float64"
      ]
     },
     "execution_count": 16,
     "metadata": {},
     "output_type": "execute_result"
    }
   ],
   "source": [
    "# to check the % of null values\n",
    "round((pd.isnull(telecom_train_df).sum()/len(telecom_train_df.index)),2)[pd.isnull(telecom_train_df).sum()/ len(telecom_train_df.index) > 0.70].sort_values()"
   ]
  },
  {
   "cell_type": "code",
   "execution_count": 17,
   "id": "af4da69b",
   "metadata": {},
   "outputs": [
    {
     "data": {
      "text/plain": [
       "18"
      ]
     },
     "execution_count": 17,
     "metadata": {},
     "output_type": "execute_result"
    }
   ],
   "source": [
    "# count of missing data > 70% columns in train dataset\n",
    "len(round((pd.isnull(telecom_train_df).sum()/len(telecom_train_df.index)),2)[pd.isnull(telecom_train_df).sum()/ len(telecom_train_df.index) > 0.70].sort_values())"
   ]
  },
  {
   "cell_type": "code",
   "execution_count": 18,
   "id": "08b6ed61",
   "metadata": {},
   "outputs": [
    {
     "data": {
      "text/plain": [
       "18"
      ]
     },
     "execution_count": 18,
     "metadata": {},
     "output_type": "execute_result"
    }
   ],
   "source": [
    "# count of missing data > 70% columns in test dataset\n",
    "len(round((pd.isnull(telecom_test_df).sum()/len(telecom_test_df.index)),2)[pd.isnull(telecom_test_df).sum()/ len(telecom_test_df.index) > 0.70].sort_values())"
   ]
  },
  {
   "cell_type": "markdown",
   "id": "91b77121",
   "metadata": {},
   "source": [
    "### As we have more than 70% data as null for 18 columns in train and test, we are dropping these columns from dataset."
   ]
  },
  {
   "cell_type": "code",
   "execution_count": 19,
   "id": "176525b2",
   "metadata": {},
   "outputs": [],
   "source": [
    "cols_to_delete = ((pd.isnull(telecom_train_df).sum()/len(telecom_train_df.index))[pd.isnull(telecom_train_df).sum()/ len(telecom_train_df.index) > 0.70].sort_values()).keys()"
   ]
  },
  {
   "cell_type": "code",
   "execution_count": 20,
   "id": "decb3b20",
   "metadata": {},
   "outputs": [
    {
     "name": "stdout",
     "output_type": "stream",
     "text": [
      "['arpu_3g_8', 'night_pck_user_8', 'arpu_2g_8', 'count_rech_3g_8', 'fb_user_8', 'count_rech_2g_8', 'arpu_3g_7', 'fb_user_7', 'arpu_2g_7', 'night_pck_user_7', 'count_rech_2g_7', 'count_rech_3g_7', 'count_rech_3g_6', 'arpu_3g_6', 'arpu_2g_6', 'night_pck_user_6', 'fb_user_6', 'count_rech_2g_6']\n"
     ]
    }
   ],
   "source": [
    "cols_to_delete = cols_to_delete.to_list()\n",
    "print(cols_to_delete)"
   ]
  },
  {
   "cell_type": "code",
   "execution_count": 21,
   "id": "03312c5b",
   "metadata": {},
   "outputs": [],
   "source": [
    "telecom_train_df = telecom_train_df.drop(cols_to_delete, axis=1)"
   ]
  },
  {
   "cell_type": "code",
   "execution_count": 22,
   "id": "be9a60c3",
   "metadata": {},
   "outputs": [
    {
     "data": {
      "text/plain": [
       "(69999, 144)"
      ]
     },
     "execution_count": 22,
     "metadata": {},
     "output_type": "execute_result"
    }
   ],
   "source": [
    "telecom_train_df.shape"
   ]
  },
  {
   "cell_type": "code",
   "execution_count": 23,
   "id": "8ada9939",
   "metadata": {},
   "outputs": [],
   "source": [
    "telecom_test_df = telecom_test_df.drop(cols_to_delete, axis=1)"
   ]
  },
  {
   "cell_type": "code",
   "execution_count": 24,
   "id": "aa95c6a9",
   "metadata": {},
   "outputs": [
    {
     "data": {
      "text/plain": [
       "(30000, 143)"
      ]
     },
     "execution_count": 24,
     "metadata": {},
     "output_type": "execute_result"
    }
   ],
   "source": [
    "telecom_test_df.shape"
   ]
  },
  {
   "cell_type": "markdown",
   "id": "4e359e28",
   "metadata": {},
   "source": [
    "## Lets check the data types of columns now"
   ]
  },
  {
   "cell_type": "code",
   "execution_count": 25,
   "id": "51cfe2ea",
   "metadata": {},
   "outputs": [
    {
     "name": "stdout",
     "output_type": "stream",
     "text": [
      "<class 'pandas.core.frame.DataFrame'>\n",
      "Int64Index: 69999 entries, 0 to 69998\n",
      "Columns: 144 entries, circle_id to churn_probability\n",
      "dtypes: float64(117), int64(27)\n",
      "memory usage: 77.4 MB\n"
     ]
    }
   ],
   "source": [
    "telecom_train_df.info()"
   ]
  },
  {
   "cell_type": "code",
   "execution_count": 26,
   "id": "d47ca287",
   "metadata": {},
   "outputs": [
    {
     "name": "stdout",
     "output_type": "stream",
     "text": [
      "<class 'pandas.core.frame.DataFrame'>\n",
      "Int64Index: 30000 entries, 0 to 29999\n",
      "Columns: 143 entries, circle_id to jun_vbc_3g\n",
      "dtypes: float64(117), int64(26)\n",
      "memory usage: 33.0 MB\n"
     ]
    }
   ],
   "source": [
    "telecom_test_df.info()"
   ]
  },
  {
   "cell_type": "markdown",
   "id": "b0444c3e",
   "metadata": {},
   "source": [
    "### We can see now we don't have any categorical data, all are numerical data only."
   ]
  },
  {
   "cell_type": "markdown",
   "id": "da80afd3",
   "metadata": {},
   "source": [
    "### Imputing the na values with\n",
    " - Median for numerical variables\n",
    " - Mode for categorical variables - Not needed in out this case."
   ]
  },
  {
   "cell_type": "code",
   "execution_count": 27,
   "id": "3ce3ad7a",
   "metadata": {},
   "outputs": [],
   "source": [
    "# A generic method to impute na\n",
    "def replace_na(df, columns, data_type):\n",
    "    for col in columns:\n",
    "        if data_type == 'categorical':\n",
    "            value = pd.to_datetime(df[col]).mode()\n",
    "        else:\n",
    "            value = df[col].median()\n",
    "        df[col].fillna(value, inplace=True)\n",
    "    return df"
   ]
  },
  {
   "cell_type": "code",
   "execution_count": 28,
   "id": "b802153c",
   "metadata": {},
   "outputs": [],
   "source": [
    "telecom_train_df = replace_na(telecom_train_df, telecom_train_df.columns, 'numerical')\n",
    "telecom_test_df = replace_na(telecom_test_df, telecom_test_df.columns, 'numerical')"
   ]
  },
  {
   "cell_type": "markdown",
   "id": "8a21f588",
   "metadata": {},
   "source": [
    "### Lets check for unique entries in train and test dataset"
   ]
  },
  {
   "cell_type": "code",
   "execution_count": 29,
   "id": "4bafbc9c",
   "metadata": {},
   "outputs": [],
   "source": [
    "def cols_to_delete_unique(df, df_columns, threshold=4):\n",
    "    # threshold=4 means column has only 1 unique value\n",
    "    # eg. telecom_train_df['circle_id'].describe().unique() --> array([30000.,   109.,     0.])\n",
    "    # Here because there are all 109 in column, we have only 3 entries in array.\n",
    "    cols_to_delete = []\n",
    "    for column in df_columns:\n",
    "        if len(df[column].describe().unique()) < threshold:\n",
    "            cols_to_delete.append(column)\n",
    "    \n",
    "    return cols_to_delete"
   ]
  },
  {
   "cell_type": "code",
   "execution_count": 30,
   "id": "bf0895de",
   "metadata": {},
   "outputs": [
    {
     "name": "stdout",
     "output_type": "stream",
     "text": [
      "(69999, 144)\n",
      "(30000, 143)\n"
     ]
    }
   ],
   "source": [
    "print(telecom_train_df.shape)\n",
    "print(telecom_test_df.shape)"
   ]
  },
  {
   "cell_type": "code",
   "execution_count": 31,
   "id": "8c597e15",
   "metadata": {},
   "outputs": [
    {
     "name": "stdout",
     "output_type": "stream",
     "text": [
      "(69999, 134)\n",
      "(30000, 133)\n"
     ]
    }
   ],
   "source": [
    "# on train data\n",
    "telecom_train_df = telecom_train_df.drop(cols_to_delete_unique(telecom_train_df, telecom_train_df.columns), axis=1)\n",
    "print(telecom_train_df.shape)\n",
    "\n",
    "# on test data\n",
    "telecom_test_df = telecom_test_df.drop(cols_to_delete_unique(telecom_test_df, telecom_test_df.columns), axis=1)\n",
    "print(telecom_test_df.shape)"
   ]
  },
  {
   "cell_type": "markdown",
   "id": "20f6d3fb",
   "metadata": {},
   "source": [
    "### Lets find the high value customers based on recharge done in 6th and 7th month and update dataframe"
   ]
  },
  {
   "cell_type": "markdown",
   "id": "1e6656b1",
   "metadata": {},
   "source": [
    "### For train data"
   ]
  },
  {
   "cell_type": "code",
   "execution_count": 32,
   "id": "ea5fecfd",
   "metadata": {},
   "outputs": [
    {
     "data": {
      "text/plain": [
       "477.5"
      ]
     },
     "execution_count": 32,
     "metadata": {},
     "output_type": "execute_result"
    }
   ],
   "source": [
    "# total data recharge in 6th, 7th and 8th months\n",
    "telecom_train_df[\"total_data_recharge_amnt_6\"] = telecom_train_df.total_rech_data_6 * telecom_train_df.av_rech_amt_data_6\n",
    "telecom_train_df[\"total_data_recharge_amnt_7\"] = telecom_train_df.total_rech_data_7 * telecom_train_df.av_rech_amt_data_7\n",
    "telecom_train_df[\"total_data_recharge_amnt_8\"] = telecom_train_df.total_rech_data_8 * telecom_train_df.av_rech_amt_data_8\n",
    "\n",
    "# total amount spent on recharge in 6th, 7th and 8th months\n",
    "telecom_train_df[\"total_recharge_amnt_6\"] = telecom_train_df.total_rech_amt_6 + telecom_train_df.total_data_recharge_amnt_6\n",
    "telecom_train_df[\"total_recharge_amnt_7\"] = telecom_train_df.total_rech_amt_7 + telecom_train_df.total_data_recharge_amnt_7\n",
    "telecom_train_df[\"total_recharge_amnt_8\"] = telecom_train_df.total_rech_amt_8 + telecom_train_df.total_data_recharge_amnt_8\n",
    "\n",
    "# average recharge for 6th and 7th month\n",
    "telecom_train_df['average_amnt_6_7'] = (telecom_train_df[\"total_recharge_amnt_6\"] + telecom_train_df[\"total_recharge_amnt_7\"])/2\n",
    "\n",
    "# 70th percentile of average_amnt_6_7\n",
    "telecom_train_df['average_amnt_6_7'].quantile(.70)"
   ]
  },
  {
   "cell_type": "markdown",
   "id": "0768613e",
   "metadata": {},
   "source": [
    "## Filter dataset based on average_amnt_6_7 (70th percentile for train dataset is 477.5)"
   ]
  },
  {
   "cell_type": "code",
   "execution_count": 33,
   "id": "5af14b93",
   "metadata": {},
   "outputs": [],
   "source": [
    "telecom_train_df = telecom_train_df[telecom_train_df[\"average_amnt_6_7\"]>= telecom_train_df[\"average_amnt_6_7\"].quantile(.70)]"
   ]
  },
  {
   "cell_type": "code",
   "execution_count": 34,
   "id": "982270cb",
   "metadata": {},
   "outputs": [
    {
     "data": {
      "text/plain": [
       "(21013, 141)"
      ]
     },
     "execution_count": 34,
     "metadata": {},
     "output_type": "execute_result"
    }
   ],
   "source": [
    "telecom_train_df.shape"
   ]
  },
  {
   "cell_type": "markdown",
   "id": "e4db1002",
   "metadata": {},
   "source": [
    "## Lets visualize the 8th month and average_amnt_6_7 months data to check behavior pattern of customers"
   ]
  },
  {
   "cell_type": "code",
   "execution_count": 35,
   "id": "34e0ab59",
   "metadata": {},
   "outputs": [],
   "source": [
    "# Look it later\n",
    "#plt.scatter(telecom_train_df[['average_amnt_6_7', 'total_recharge_amnt_8']])\n",
    "#plt.show()\n",
    "#sns.\n",
    "#telecom_train_df.plot.scatter(x='average_amnt_6_7', y='total_recharge_amnt_8')\n",
    "#telecom_train_df.DataFrame(np.random.rand(10, 3), columns =['average_amnt_6_7', 'total_recharge_amnt_8'])\n",
    "\n",
    "#telecom_train_df.plot.bar(x=\"average_amnt_6_7\", y=\"total_recharge_amnt_8\", rot=70);\n",
    "\n",
    "#ig, ax = plt.subplots()\n",
    "\n",
    "#ax.plot(telecom_train_df['average_amnt_6_7'], telecom_train_df['total_recharge_amnt_8'])\n",
    "#plt.show()"
   ]
  },
  {
   "cell_type": "markdown",
   "id": "d3127d8b",
   "metadata": {},
   "source": [
    "### For test data"
   ]
  },
  {
   "cell_type": "code",
   "execution_count": 36,
   "id": "f97c52c2",
   "metadata": {},
   "outputs": [
    {
     "data": {
      "text/plain": [
       "478.0"
      ]
     },
     "execution_count": 36,
     "metadata": {},
     "output_type": "execute_result"
    }
   ],
   "source": [
    "# total data recharge in 6th, 7th and 8th months\n",
    "telecom_test_df[\"total_data_recharge_amnt_6\"] = telecom_test_df.total_rech_data_6 * telecom_test_df.av_rech_amt_data_6\n",
    "telecom_test_df[\"total_data_recharge_amnt_7\"] = telecom_test_df.total_rech_data_7 * telecom_test_df.av_rech_amt_data_7\n",
    "telecom_test_df[\"total_data_recharge_amnt_8\"] = telecom_test_df.total_rech_data_8 * telecom_test_df.av_rech_amt_data_8\n",
    "\n",
    "# total amount spent on recharge in 6th, 7th and 8th months\n",
    "telecom_test_df[\"total_recharge_amnt_6\"] = telecom_test_df.total_rech_amt_6 + telecom_test_df.total_data_recharge_amnt_6\n",
    "telecom_test_df[\"total_recharge_amnt_7\"] = telecom_test_df.total_rech_amt_7 + telecom_test_df.total_data_recharge_amnt_7\n",
    "telecom_test_df[\"total_recharge_amnt_8\"] = telecom_test_df.total_rech_amt_8 + telecom_test_df.total_data_recharge_amnt_8\n",
    "\n",
    "# average recharge\n",
    "telecom_test_df['average_amnt_6_7'] = (telecom_test_df[\"total_recharge_amnt_6\"] + telecom_test_df[\"total_recharge_amnt_7\"])/2\n",
    "\n",
    "# 70th percentile of average_amnt_6_7\n",
    "telecom_test_df['average_amnt_6_7'].quantile(.70)"
   ]
  },
  {
   "cell_type": "markdown",
   "id": "10222eb0",
   "metadata": {},
   "source": [
    "### Filter dataset based on average_amnt_6_7 (70th percentile for test dataset is 478.0)"
   ]
  },
  {
   "cell_type": "code",
   "execution_count": 37,
   "id": "7cf6d5ab",
   "metadata": {},
   "outputs": [
    {
     "data": {
      "text/plain": [
       "(9003, 140)"
      ]
     },
     "execution_count": 37,
     "metadata": {},
     "output_type": "execute_result"
    }
   ],
   "source": [
    "telecom_test_df = telecom_test_df[telecom_test_df[\"average_amnt_6_7\"]>= telecom_test_df[\"average_amnt_6_7\"].quantile(.70)]\n",
    "telecom_test_df.shape"
   ]
  },
  {
   "cell_type": "markdown",
   "id": "40627e53",
   "metadata": {},
   "source": [
    "## Lets focus on Outliers now and treat them"
   ]
  },
  {
   "cell_type": "code",
   "execution_count": 38,
   "id": "d0b9f1cf",
   "metadata": {},
   "outputs": [],
   "source": [
    "# Generic method to remove outliers\n",
    "def remove_outliers(df, features):\n",
    "    for feature in features:\n",
    "        q1 = df[feature].quantile(0.25)\n",
    "        q3 = df[feature].quantile(0.99)\n",
    "        iqr = q3-q1\n",
    "        lower_value  = q1 - (1.5 * iqr)\n",
    "        higer_value = q3 + (1.5 * iqr)\n",
    "        df = df[(df[feature] <= higer_value) & (df[feature] >= lower_value)]\n",
    "    return df"
   ]
  },
  {
   "cell_type": "code",
   "execution_count": 39,
   "id": "537a1234",
   "metadata": {},
   "outputs": [],
   "source": [
    "#telecom_train_df = remove_outliers(telecom_train_df, telecom_train_df.columns)\n",
    "#telecom_test_df = remove_outliers(telecom_test_df, telecom_test_df.columns)"
   ]
  },
  {
   "cell_type": "code",
   "execution_count": 40,
   "id": "09c79cc2",
   "metadata": {},
   "outputs": [
    {
     "data": {
      "text/plain": [
       "(21013, 141)"
      ]
     },
     "execution_count": 40,
     "metadata": {},
     "output_type": "execute_result"
    }
   ],
   "source": [
    "telecom_train_df.shape"
   ]
  },
  {
   "cell_type": "code",
   "execution_count": 41,
   "id": "c7911de6",
   "metadata": {},
   "outputs": [
    {
     "data": {
      "text/plain": [
       "(9003, 140)"
      ]
     },
     "execution_count": 41,
     "metadata": {},
     "output_type": "execute_result"
    }
   ],
   "source": [
    "telecom_test_df.shape"
   ]
  },
  {
   "cell_type": "markdown",
   "id": "ad731d80",
   "metadata": {},
   "source": [
    "## Let's check for Data imbalance here"
   ]
  },
  {
   "cell_type": "code",
   "execution_count": 42,
   "id": "d7df398d",
   "metadata": {},
   "outputs": [],
   "source": [
    "churn_data_rows = telecom_train_df['churn_probability'].sum()"
   ]
  },
  {
   "cell_type": "code",
   "execution_count": 43,
   "id": "addc0c33",
   "metadata": {},
   "outputs": [
    {
     "data": {
      "text/plain": [
       "8.275829248560415"
      ]
     },
     "execution_count": 43,
     "metadata": {},
     "output_type": "execute_result"
    }
   ],
   "source": [
    "churn_data_rows/len(telecom_train_df) * 100"
   ]
  },
  {
   "cell_type": "markdown",
   "id": "8fa850d6",
   "metadata": {},
   "source": [
    "### We can see that there is a data imbalance. We have only about 8.28% of data as Churn and 91.72% as not churn.\n",
    "### So we need to apply data imbalance technique. We will use SMOTE."
   ]
  },
  {
   "cell_type": "markdown",
   "id": "0624b7f7",
   "metadata": {},
   "source": [
    "## Dividing the data from telecom_train_df to train the model"
   ]
  },
  {
   "cell_type": "code",
   "execution_count": 44,
   "id": "2c3467e0",
   "metadata": {},
   "outputs": [],
   "source": [
    "y = telecom_train_df['churn_probability']\n",
    "X = telecom_train_df.drop(['churn_probability'], axis=1)\n",
    "\n",
    "telecom_train_df.drop('churn_probability', axis=1, inplace=True)"
   ]
  },
  {
   "cell_type": "code",
   "execution_count": 45,
   "id": "b3edc2c2",
   "metadata": {},
   "outputs": [],
   "source": [
    "# Splitting the data into test and train\n",
    "X_train, X_test, y_train, y_test = train_test_split(X, y, train_size=0.7, test_size=0.3, random_state=100)"
   ]
  },
  {
   "cell_type": "markdown",
   "id": "93ad1282",
   "metadata": {},
   "source": [
    "## Taking a backup of variables"
   ]
  },
  {
   "cell_type": "code",
   "execution_count": 46,
   "id": "20dae04f",
   "metadata": {},
   "outputs": [],
   "source": [
    "X_train_ori, X_test_ori, y_train_ori, y_test_ori = X_train.copy(), X_test.copy(), y_train.copy(), y_test.copy()"
   ]
  },
  {
   "cell_type": "markdown",
   "id": "5496cd44",
   "metadata": {},
   "source": [
    "## Rescaling of the variables\n",
    "\n",
    "- We will use Min-Max scaling (Normalization) --> compresses all the data between 0 and 1"
   ]
  },
  {
   "cell_type": "code",
   "execution_count": 47,
   "id": "7ad21932",
   "metadata": {},
   "outputs": [
    {
     "data": {
      "text/html": [
       "<div>\n",
       "<style scoped>\n",
       "    .dataframe tbody tr th:only-of-type {\n",
       "        vertical-align: middle;\n",
       "    }\n",
       "\n",
       "    .dataframe tbody tr th {\n",
       "        vertical-align: top;\n",
       "    }\n",
       "\n",
       "    .dataframe thead th {\n",
       "        text-align: right;\n",
       "    }\n",
       "</style>\n",
       "<table border=\"1\" class=\"dataframe\">\n",
       "  <thead>\n",
       "    <tr style=\"text-align: right;\">\n",
       "      <th></th>\n",
       "      <th>arpu_6</th>\n",
       "      <th>arpu_7</th>\n",
       "      <th>arpu_8</th>\n",
       "      <th>onnet_mou_6</th>\n",
       "      <th>onnet_mou_7</th>\n",
       "      <th>onnet_mou_8</th>\n",
       "      <th>offnet_mou_6</th>\n",
       "      <th>offnet_mou_7</th>\n",
       "      <th>offnet_mou_8</th>\n",
       "      <th>roam_ic_mou_6</th>\n",
       "      <th>...</th>\n",
       "      <th>aug_vbc_3g</th>\n",
       "      <th>jul_vbc_3g</th>\n",
       "      <th>jun_vbc_3g</th>\n",
       "      <th>total_data_recharge_amnt_6</th>\n",
       "      <th>total_data_recharge_amnt_7</th>\n",
       "      <th>total_data_recharge_amnt_8</th>\n",
       "      <th>total_recharge_amnt_6</th>\n",
       "      <th>total_recharge_amnt_7</th>\n",
       "      <th>total_recharge_amnt_8</th>\n",
       "      <th>average_amnt_6_7</th>\n",
       "    </tr>\n",
       "  </thead>\n",
       "  <tbody>\n",
       "    <tr>\n",
       "      <th>6968</th>\n",
       "      <td>0.127277</td>\n",
       "      <td>0.274576</td>\n",
       "      <td>0.081830</td>\n",
       "      <td>0.004624</td>\n",
       "      <td>0.004018</td>\n",
       "      <td>0.002985</td>\n",
       "      <td>0.011537</td>\n",
       "      <td>0.040985</td>\n",
       "      <td>0.006554</td>\n",
       "      <td>0.000000</td>\n",
       "      <td>...</td>\n",
       "      <td>0.000000</td>\n",
       "      <td>0.002051</td>\n",
       "      <td>0.000000</td>\n",
       "      <td>0.000000</td>\n",
       "      <td>0.000000</td>\n",
       "      <td>0.000000</td>\n",
       "      <td>0.000000</td>\n",
       "      <td>0.096264</td>\n",
       "      <td>0.000000</td>\n",
       "      <td>0.069171</td>\n",
       "    </tr>\n",
       "    <tr>\n",
       "      <th>42203</th>\n",
       "      <td>0.156166</td>\n",
       "      <td>0.094305</td>\n",
       "      <td>0.083632</td>\n",
       "      <td>0.066057</td>\n",
       "      <td>0.041462</td>\n",
       "      <td>0.074009</td>\n",
       "      <td>0.065428</td>\n",
       "      <td>0.053213</td>\n",
       "      <td>0.049054</td>\n",
       "      <td>0.000000</td>\n",
       "      <td>...</td>\n",
       "      <td>0.000000</td>\n",
       "      <td>0.000000</td>\n",
       "      <td>0.000000</td>\n",
       "      <td>0.000000</td>\n",
       "      <td>0.000000</td>\n",
       "      <td>0.003787</td>\n",
       "      <td>0.009557</td>\n",
       "      <td>0.009933</td>\n",
       "      <td>0.016496</td>\n",
       "      <td>0.002008</td>\n",
       "    </tr>\n",
       "    <tr>\n",
       "      <th>18406</th>\n",
       "      <td>0.151447</td>\n",
       "      <td>0.122733</td>\n",
       "      <td>0.087708</td>\n",
       "      <td>0.015153</td>\n",
       "      <td>0.016084</td>\n",
       "      <td>0.008306</td>\n",
       "      <td>0.056327</td>\n",
       "      <td>0.259820</td>\n",
       "      <td>0.136117</td>\n",
       "      <td>0.005055</td>\n",
       "      <td>...</td>\n",
       "      <td>0.000000</td>\n",
       "      <td>0.000000</td>\n",
       "      <td>0.000000</td>\n",
       "      <td>0.000000</td>\n",
       "      <td>0.000000</td>\n",
       "      <td>0.000000</td>\n",
       "      <td>0.008632</td>\n",
       "      <td>0.019367</td>\n",
       "      <td>0.017273</td>\n",
       "      <td>0.009450</td>\n",
       "    </tr>\n",
       "    <tr>\n",
       "      <th>21455</th>\n",
       "      <td>0.171177</td>\n",
       "      <td>0.128305</td>\n",
       "      <td>0.077781</td>\n",
       "      <td>0.009636</td>\n",
       "      <td>0.010909</td>\n",
       "      <td>0.006579</td>\n",
       "      <td>0.081607</td>\n",
       "      <td>0.121132</td>\n",
       "      <td>0.038009</td>\n",
       "      <td>0.005166</td>\n",
       "      <td>...</td>\n",
       "      <td>0.029661</td>\n",
       "      <td>0.043865</td>\n",
       "      <td>0.039021</td>\n",
       "      <td>0.000000</td>\n",
       "      <td>0.011038</td>\n",
       "      <td>0.011124</td>\n",
       "      <td>0.015034</td>\n",
       "      <td>0.032992</td>\n",
       "      <td>0.023503</td>\n",
       "      <td>0.026840</td>\n",
       "    </tr>\n",
       "    <tr>\n",
       "      <th>66143</th>\n",
       "      <td>0.138174</td>\n",
       "      <td>0.087866</td>\n",
       "      <td>0.074838</td>\n",
       "      <td>0.000000</td>\n",
       "      <td>0.006171</td>\n",
       "      <td>0.001633</td>\n",
       "      <td>0.000000</td>\n",
       "      <td>0.033354</td>\n",
       "      <td>0.020053</td>\n",
       "      <td>0.000000</td>\n",
       "      <td>...</td>\n",
       "      <td>0.098218</td>\n",
       "      <td>0.000000</td>\n",
       "      <td>0.000000</td>\n",
       "      <td>0.043938</td>\n",
       "      <td>0.000000</td>\n",
       "      <td>0.016759</td>\n",
       "      <td>0.045971</td>\n",
       "      <td>0.006063</td>\n",
       "      <td>0.026593</td>\n",
       "      <td>0.029892</td>\n",
       "    </tr>\n",
       "  </tbody>\n",
       "</table>\n",
       "<p>5 rows × 140 columns</p>\n",
       "</div>"
      ],
      "text/plain": [
       "         arpu_6    arpu_7    arpu_8  onnet_mou_6  onnet_mou_7  onnet_mou_8  \\\n",
       "6968   0.127277  0.274576  0.081830     0.004624     0.004018     0.002985   \n",
       "42203  0.156166  0.094305  0.083632     0.066057     0.041462     0.074009   \n",
       "18406  0.151447  0.122733  0.087708     0.015153     0.016084     0.008306   \n",
       "21455  0.171177  0.128305  0.077781     0.009636     0.010909     0.006579   \n",
       "66143  0.138174  0.087866  0.074838     0.000000     0.006171     0.001633   \n",
       "\n",
       "       offnet_mou_6  offnet_mou_7  offnet_mou_8  roam_ic_mou_6  ...  \\\n",
       "6968       0.011537      0.040985      0.006554       0.000000  ...   \n",
       "42203      0.065428      0.053213      0.049054       0.000000  ...   \n",
       "18406      0.056327      0.259820      0.136117       0.005055  ...   \n",
       "21455      0.081607      0.121132      0.038009       0.005166  ...   \n",
       "66143      0.000000      0.033354      0.020053       0.000000  ...   \n",
       "\n",
       "       aug_vbc_3g  jul_vbc_3g  jun_vbc_3g  total_data_recharge_amnt_6  \\\n",
       "6968     0.000000    0.002051    0.000000                    0.000000   \n",
       "42203    0.000000    0.000000    0.000000                    0.000000   \n",
       "18406    0.000000    0.000000    0.000000                    0.000000   \n",
       "21455    0.029661    0.043865    0.039021                    0.000000   \n",
       "66143    0.098218    0.000000    0.000000                    0.043938   \n",
       "\n",
       "       total_data_recharge_amnt_7  total_data_recharge_amnt_8  \\\n",
       "6968                     0.000000                    0.000000   \n",
       "42203                    0.000000                    0.003787   \n",
       "18406                    0.000000                    0.000000   \n",
       "21455                    0.011038                    0.011124   \n",
       "66143                    0.000000                    0.016759   \n",
       "\n",
       "       total_recharge_amnt_6  total_recharge_amnt_7  total_recharge_amnt_8  \\\n",
       "6968                0.000000               0.096264               0.000000   \n",
       "42203               0.009557               0.009933               0.016496   \n",
       "18406               0.008632               0.019367               0.017273   \n",
       "21455               0.015034               0.032992               0.023503   \n",
       "66143               0.045971               0.006063               0.026593   \n",
       "\n",
       "       average_amnt_6_7  \n",
       "6968           0.069171  \n",
       "42203          0.002008  \n",
       "18406          0.009450  \n",
       "21455          0.026840  \n",
       "66143          0.029892  \n",
       "\n",
       "[5 rows x 140 columns]"
      ]
     },
     "execution_count": 47,
     "metadata": {},
     "output_type": "execute_result"
    }
   ],
   "source": [
    "# Creating MinMaxScaler object\n",
    "scaler = MinMaxScaler()\n",
    "# fit on data\n",
    "# removed churn_probability becuase test data is not having it.\n",
    "# Also churn_probability is having 0 and 1 only. So it need not be scaled.\n",
    "train_numerical_columns = telecom_train_df.columns.to_list()\n",
    "X_train[train_numerical_columns] = scaler.fit_transform(X_train[train_numerical_columns])\n",
    "X_train.head()\n",
    "# So all numberic values are now between 0 and 1"
   ]
  },
  {
   "cell_type": "code",
   "execution_count": 48,
   "id": "e87381ac",
   "metadata": {},
   "outputs": [],
   "source": [
    "from imblearn.over_sampling import SMOTE ## Comments to be fixed "
   ]
  },
  {
   "cell_type": "code",
   "execution_count": 49,
   "id": "37e1ef44",
   "metadata": {},
   "outputs": [],
   "source": [
    "X_resampled, y_resampled = SMOTE().fit_resample(X_train, y_train)"
   ]
  },
  {
   "cell_type": "code",
   "execution_count": 50,
   "id": "90982153",
   "metadata": {},
   "outputs": [
    {
     "data": {
      "text/plain": [
       "(27020, 140)"
      ]
     },
     "execution_count": 50,
     "metadata": {},
     "output_type": "execute_result"
    }
   ],
   "source": [
    "X_resampled.shape"
   ]
  },
  {
   "cell_type": "code",
   "execution_count": 51,
   "id": "5a229479",
   "metadata": {},
   "outputs": [
    {
     "data": {
      "text/plain": [
       "50.0"
      ]
     },
     "execution_count": 51,
     "metadata": {},
     "output_type": "execute_result"
    }
   ],
   "source": [
    "sum(y_resampled)/len(y_resampled) * 100"
   ]
  },
  {
   "cell_type": "markdown",
   "id": "c0f8f8db",
   "metadata": {},
   "source": [
    "## Now there is no data imbalance."
   ]
  },
  {
   "cell_type": "code",
   "execution_count": 52,
   "id": "b84d8439",
   "metadata": {},
   "outputs": [
    {
     "data": {
      "text/html": [
       "<div>\n",
       "<style scoped>\n",
       "    .dataframe tbody tr th:only-of-type {\n",
       "        vertical-align: middle;\n",
       "    }\n",
       "\n",
       "    .dataframe tbody tr th {\n",
       "        vertical-align: top;\n",
       "    }\n",
       "\n",
       "    .dataframe thead th {\n",
       "        text-align: right;\n",
       "    }\n",
       "</style>\n",
       "<table border=\"1\" class=\"dataframe\">\n",
       "  <thead>\n",
       "    <tr style=\"text-align: right;\">\n",
       "      <th></th>\n",
       "      <th>arpu_6</th>\n",
       "      <th>arpu_7</th>\n",
       "      <th>arpu_8</th>\n",
       "      <th>onnet_mou_6</th>\n",
       "      <th>onnet_mou_7</th>\n",
       "      <th>onnet_mou_8</th>\n",
       "      <th>offnet_mou_6</th>\n",
       "      <th>offnet_mou_7</th>\n",
       "      <th>offnet_mou_8</th>\n",
       "      <th>roam_ic_mou_6</th>\n",
       "      <th>...</th>\n",
       "      <th>aug_vbc_3g</th>\n",
       "      <th>jul_vbc_3g</th>\n",
       "      <th>jun_vbc_3g</th>\n",
       "      <th>total_data_recharge_amnt_6</th>\n",
       "      <th>total_data_recharge_amnt_7</th>\n",
       "      <th>total_data_recharge_amnt_8</th>\n",
       "      <th>total_recharge_amnt_6</th>\n",
       "      <th>total_recharge_amnt_7</th>\n",
       "      <th>total_recharge_amnt_8</th>\n",
       "      <th>average_amnt_6_7</th>\n",
       "    </tr>\n",
       "  </thead>\n",
       "  <tbody>\n",
       "    <tr>\n",
       "      <th>1</th>\n",
       "      <td>0.150615</td>\n",
       "      <td>0.099685</td>\n",
       "      <td>0.064554</td>\n",
       "      <td>0.010236</td>\n",
       "      <td>0.005052</td>\n",
       "      <td>0.001845</td>\n",
       "      <td>0.056723</td>\n",
       "      <td>0.092260</td>\n",
       "      <td>0.028195</td>\n",
       "      <td>0.000000</td>\n",
       "      <td>...</td>\n",
       "      <td>0.000000</td>\n",
       "      <td>0.000000</td>\n",
       "      <td>0.0000</td>\n",
       "      <td>0.0</td>\n",
       "      <td>0.000000</td>\n",
       "      <td>0.000000</td>\n",
       "      <td>0.009067</td>\n",
       "      <td>0.008917</td>\n",
       "      <td>0.008442</td>\n",
       "      <td>0.000701</td>\n",
       "    </tr>\n",
       "    <tr>\n",
       "      <th>2</th>\n",
       "      <td>0.145864</td>\n",
       "      <td>0.095230</td>\n",
       "      <td>0.083592</td>\n",
       "      <td>0.001022</td>\n",
       "      <td>0.000963</td>\n",
       "      <td>0.000781</td>\n",
       "      <td>0.002031</td>\n",
       "      <td>0.006797</td>\n",
       "      <td>0.003215</td>\n",
       "      <td>0.008728</td>\n",
       "      <td>...</td>\n",
       "      <td>0.040694</td>\n",
       "      <td>0.082745</td>\n",
       "      <td>0.0319</td>\n",
       "      <td>0.0</td>\n",
       "      <td>0.000000</td>\n",
       "      <td>0.000000</td>\n",
       "      <td>0.009067</td>\n",
       "      <td>0.017833</td>\n",
       "      <td>0.016884</td>\n",
       "      <td>0.008485</td>\n",
       "    </tr>\n",
       "    <tr>\n",
       "      <th>21</th>\n",
       "      <td>0.152781</td>\n",
       "      <td>0.091615</td>\n",
       "      <td>0.065131</td>\n",
       "      <td>0.151258</td>\n",
       "      <td>0.103391</td>\n",
       "      <td>0.064113</td>\n",
       "      <td>0.001799</td>\n",
       "      <td>0.004487</td>\n",
       "      <td>0.001984</td>\n",
       "      <td>0.000000</td>\n",
       "      <td>...</td>\n",
       "      <td>0.000000</td>\n",
       "      <td>0.000000</td>\n",
       "      <td>0.0000</td>\n",
       "      <td>0.0</td>\n",
       "      <td>0.000000</td>\n",
       "      <td>0.000000</td>\n",
       "      <td>0.011352</td>\n",
       "      <td>0.008845</td>\n",
       "      <td>0.007362</td>\n",
       "      <td>0.002600</td>\n",
       "    </tr>\n",
       "    <tr>\n",
       "      <th>23</th>\n",
       "      <td>0.190866</td>\n",
       "      <td>0.119009</td>\n",
       "      <td>0.094514</td>\n",
       "      <td>0.053212</td>\n",
       "      <td>0.032421</td>\n",
       "      <td>0.040272</td>\n",
       "      <td>0.024393</td>\n",
       "      <td>0.048810</td>\n",
       "      <td>0.029353</td>\n",
       "      <td>0.012276</td>\n",
       "      <td>...</td>\n",
       "      <td>0.000000</td>\n",
       "      <td>0.000000</td>\n",
       "      <td>0.0000</td>\n",
       "      <td>0.0</td>\n",
       "      <td>0.001816</td>\n",
       "      <td>0.000000</td>\n",
       "      <td>0.022596</td>\n",
       "      <td>0.019973</td>\n",
       "      <td>0.019417</td>\n",
       "      <td>0.021967</td>\n",
       "    </tr>\n",
       "    <tr>\n",
       "      <th>26</th>\n",
       "      <td>0.135918</td>\n",
       "      <td>0.117934</td>\n",
       "      <td>0.085279</td>\n",
       "      <td>0.017062</td>\n",
       "      <td>0.231259</td>\n",
       "      <td>0.138588</td>\n",
       "      <td>0.002456</td>\n",
       "      <td>0.017742</td>\n",
       "      <td>0.004589</td>\n",
       "      <td>0.007378</td>\n",
       "      <td>...</td>\n",
       "      <td>0.014353</td>\n",
       "      <td>0.000000</td>\n",
       "      <td>0.0000</td>\n",
       "      <td>0.0</td>\n",
       "      <td>0.000000</td>\n",
       "      <td>0.018315</td>\n",
       "      <td>0.004715</td>\n",
       "      <td>0.014516</td>\n",
       "      <td>0.032468</td>\n",
       "      <td>0.001853</td>\n",
       "    </tr>\n",
       "  </tbody>\n",
       "</table>\n",
       "<p>5 rows × 140 columns</p>\n",
       "</div>"
      ],
      "text/plain": [
       "      arpu_6    arpu_7    arpu_8  onnet_mou_6  onnet_mou_7  onnet_mou_8  \\\n",
       "1   0.150615  0.099685  0.064554     0.010236     0.005052     0.001845   \n",
       "2   0.145864  0.095230  0.083592     0.001022     0.000963     0.000781   \n",
       "21  0.152781  0.091615  0.065131     0.151258     0.103391     0.064113   \n",
       "23  0.190866  0.119009  0.094514     0.053212     0.032421     0.040272   \n",
       "26  0.135918  0.117934  0.085279     0.017062     0.231259     0.138588   \n",
       "\n",
       "    offnet_mou_6  offnet_mou_7  offnet_mou_8  roam_ic_mou_6  ...  aug_vbc_3g  \\\n",
       "1       0.056723      0.092260      0.028195       0.000000  ...    0.000000   \n",
       "2       0.002031      0.006797      0.003215       0.008728  ...    0.040694   \n",
       "21      0.001799      0.004487      0.001984       0.000000  ...    0.000000   \n",
       "23      0.024393      0.048810      0.029353       0.012276  ...    0.000000   \n",
       "26      0.002456      0.017742      0.004589       0.007378  ...    0.014353   \n",
       "\n",
       "    jul_vbc_3g  jun_vbc_3g  total_data_recharge_amnt_6  \\\n",
       "1     0.000000      0.0000                         0.0   \n",
       "2     0.082745      0.0319                         0.0   \n",
       "21    0.000000      0.0000                         0.0   \n",
       "23    0.000000      0.0000                         0.0   \n",
       "26    0.000000      0.0000                         0.0   \n",
       "\n",
       "    total_data_recharge_amnt_7  total_data_recharge_amnt_8  \\\n",
       "1                     0.000000                    0.000000   \n",
       "2                     0.000000                    0.000000   \n",
       "21                    0.000000                    0.000000   \n",
       "23                    0.001816                    0.000000   \n",
       "26                    0.000000                    0.018315   \n",
       "\n",
       "    total_recharge_amnt_6  total_recharge_amnt_7  total_recharge_amnt_8  \\\n",
       "1                0.009067               0.008917               0.008442   \n",
       "2                0.009067               0.017833               0.016884   \n",
       "21               0.011352               0.008845               0.007362   \n",
       "23               0.022596               0.019973               0.019417   \n",
       "26               0.004715               0.014516               0.032468   \n",
       "\n",
       "    average_amnt_6_7  \n",
       "1           0.000701  \n",
       "2           0.008485  \n",
       "21          0.002600  \n",
       "23          0.021967  \n",
       "26          0.001853  \n",
       "\n",
       "[5 rows x 140 columns]"
      ]
     },
     "execution_count": 52,
     "metadata": {},
     "output_type": "execute_result"
    }
   ],
   "source": [
    "# Lets fit the scaler for train data as well\n",
    "test_numerical_columns = telecom_test_df.columns.to_list()\n",
    "telecom_test_df[test_numerical_columns] = scaler.transform(telecom_test_df[test_numerical_columns])\n",
    "telecom_test_df.head()"
   ]
  },
  {
   "cell_type": "markdown",
   "id": "5c9c47b1",
   "metadata": {},
   "source": [
    "## Modelling \n",
    "\n",
    "1. Logistic Regression using RFE - To get important predictors for Churn probability\n",
    "2. Logistic Regression - To know Churn probability + PCA\n",
    "    - Lasso\n",
    "    - Ridge\n",
    "3. Tree models\n",
    "    - XGBoost\n",
    "    - Random Forest"
   ]
  },
  {
   "cell_type": "markdown",
   "id": "e6bca16f",
   "metadata": {},
   "source": [
    "## 1. Logistic Regression using RFE - To get importnat predictors for Churn probability"
   ]
  },
  {
   "cell_type": "code",
   "execution_count": 53,
   "id": "cd4d9e79",
   "metadata": {},
   "outputs": [
    {
     "data": {
      "text/html": [
       "<table class=\"simpletable\">\n",
       "<caption>Generalized Linear Model Regression Results</caption>\n",
       "<tr>\n",
       "  <th>Dep. Variable:</th>   <td>churn_probability</td> <th>  No. Observations:  </th>  <td> 27020</td> \n",
       "</tr>\n",
       "<tr>\n",
       "  <th>Model:</th>                  <td>GLM</td>        <th>  Df Residuals:      </th>  <td> 26886</td> \n",
       "</tr>\n",
       "<tr>\n",
       "  <th>Model Family:</th>        <td>Binomial</td>      <th>  Df Model:          </th>  <td>   133</td> \n",
       "</tr>\n",
       "<tr>\n",
       "  <th>Link Function:</th>         <td>logit</td>       <th>  Scale:             </th> <td>  1.0000</td>\n",
       "</tr>\n",
       "<tr>\n",
       "  <th>Method:</th>                <td>IRLS</td>        <th>  Log-Likelihood:    </th> <td> -8557.5</td>\n",
       "</tr>\n",
       "<tr>\n",
       "  <th>Date:</th>            <td>Fri, 16 Sep 2022</td>  <th>  Deviance:          </th> <td>  17115.</td>\n",
       "</tr>\n",
       "<tr>\n",
       "  <th>Time:</th>                <td>16:18:05</td>      <th>  Pearson chi2:      </th> <td>1.05e+05</td>\n",
       "</tr>\n",
       "<tr>\n",
       "  <th>No. Iterations:</th>         <td>100</td>        <th>                     </th>     <td> </td>   \n",
       "</tr>\n",
       "<tr>\n",
       "  <th>Covariance Type:</th>     <td>nonrobust</td>     <th>                     </th>     <td> </td>   \n",
       "</tr>\n",
       "</table>\n",
       "<table class=\"simpletable\">\n",
       "<tr>\n",
       "               <td></td>                 <th>coef</th>     <th>std err</th>      <th>z</th>      <th>P>|z|</th>  <th>[0.025</th>    <th>0.975]</th>  \n",
       "</tr>\n",
       "<tr>\n",
       "  <th>const</th>                      <td>   -3.4484</td> <td>    0.693</td> <td>   -4.979</td> <td> 0.000</td> <td>   -4.806</td> <td>   -2.091</td>\n",
       "</tr>\n",
       "<tr>\n",
       "  <th>arpu_6</th>                     <td>    4.8556</td> <td>    3.785</td> <td>    1.283</td> <td> 0.200</td> <td>   -2.564</td> <td>   12.275</td>\n",
       "</tr>\n",
       "<tr>\n",
       "  <th>arpu_7</th>                     <td>   23.1372</td> <td>    4.367</td> <td>    5.298</td> <td> 0.000</td> <td>   14.578</td> <td>   31.696</td>\n",
       "</tr>\n",
       "<tr>\n",
       "  <th>arpu_8</th>                     <td>   39.6767</td> <td>    4.913</td> <td>    8.075</td> <td> 0.000</td> <td>   30.047</td> <td>   49.307</td>\n",
       "</tr>\n",
       "<tr>\n",
       "  <th>onnet_mou_6</th>                <td>  -96.6183</td> <td>   34.404</td> <td>   -2.808</td> <td> 0.005</td> <td> -164.049</td> <td>  -29.188</td>\n",
       "</tr>\n",
       "<tr>\n",
       "  <th>onnet_mou_7</th>                <td>  -37.3341</td> <td>   31.282</td> <td>   -1.193</td> <td> 0.233</td> <td>  -98.645</td> <td>   23.977</td>\n",
       "</tr>\n",
       "<tr>\n",
       "  <th>onnet_mou_8</th>                <td>  -30.3489</td> <td>   46.969</td> <td>   -0.646</td> <td> 0.518</td> <td> -122.406</td> <td>   61.708</td>\n",
       "</tr>\n",
       "<tr>\n",
       "  <th>offnet_mou_6</th>               <td> -103.3483</td> <td>   38.632</td> <td>   -2.675</td> <td> 0.007</td> <td> -179.066</td> <td>  -27.631</td>\n",
       "</tr>\n",
       "<tr>\n",
       "  <th>offnet_mou_7</th>               <td>  -32.7199</td> <td>   24.978</td> <td>   -1.310</td> <td> 0.190</td> <td>  -81.675</td> <td>   16.235</td>\n",
       "</tr>\n",
       "<tr>\n",
       "  <th>offnet_mou_8</th>               <td>  -78.2712</td> <td>   59.640</td> <td>   -1.312</td> <td> 0.189</td> <td> -195.164</td> <td>   38.621</td>\n",
       "</tr>\n",
       "<tr>\n",
       "  <th>roam_ic_mou_6</th>              <td>    2.0261</td> <td>    1.194</td> <td>    1.698</td> <td> 0.090</td> <td>   -0.313</td> <td>    4.365</td>\n",
       "</tr>\n",
       "<tr>\n",
       "  <th>roam_ic_mou_7</th>              <td>    0.7795</td> <td>    1.364</td> <td>    0.571</td> <td> 0.568</td> <td>   -1.895</td> <td>    3.454</td>\n",
       "</tr>\n",
       "<tr>\n",
       "  <th>roam_ic_mou_8</th>              <td>   -2.6093</td> <td>    1.476</td> <td>   -1.767</td> <td> 0.077</td> <td>   -5.503</td> <td>    0.284</td>\n",
       "</tr>\n",
       "<tr>\n",
       "  <th>roam_og_mou_6</th>              <td>   48.9735</td> <td>   17.582</td> <td>    2.785</td> <td> 0.005</td> <td>   14.513</td> <td>   83.434</td>\n",
       "</tr>\n",
       "<tr>\n",
       "  <th>roam_og_mou_7</th>              <td>   16.1681</td> <td>   10.557</td> <td>    1.531</td> <td> 0.126</td> <td>   -4.524</td> <td>   36.860</td>\n",
       "</tr>\n",
       "<tr>\n",
       "  <th>roam_og_mou_8</th>              <td>   31.4971</td> <td>   23.037</td> <td>    1.367</td> <td> 0.172</td> <td>  -13.655</td> <td>   76.649</td>\n",
       "</tr>\n",
       "<tr>\n",
       "  <th>loc_og_t2t_mou_6</th>           <td>-3.391e+04</td> <td> 2.56e+04</td> <td>   -1.327</td> <td> 0.185</td> <td> -8.4e+04</td> <td> 1.62e+04</td>\n",
       "</tr>\n",
       "<tr>\n",
       "  <th>loc_og_t2t_mou_7</th>           <td> 4.405e+04</td> <td>  2.9e+04</td> <td>    1.521</td> <td> 0.128</td> <td>-1.27e+04</td> <td> 1.01e+05</td>\n",
       "</tr>\n",
       "<tr>\n",
       "  <th>loc_og_t2t_mou_8</th>           <td> 2.267e+05</td> <td> 4.45e+04</td> <td>    5.089</td> <td> 0.000</td> <td> 1.39e+05</td> <td> 3.14e+05</td>\n",
       "</tr>\n",
       "<tr>\n",
       "  <th>loc_og_t2m_mou_6</th>           <td>-2.477e+04</td> <td> 1.87e+04</td> <td>   -1.327</td> <td> 0.184</td> <td>-6.14e+04</td> <td> 1.18e+04</td>\n",
       "</tr>\n",
       "<tr>\n",
       "  <th>loc_og_t2m_mou_7</th>           <td> 2.712e+04</td> <td> 1.78e+04</td> <td>    1.521</td> <td> 0.128</td> <td>-7831.742</td> <td> 6.21e+04</td>\n",
       "</tr>\n",
       "<tr>\n",
       "  <th>loc_og_t2m_mou_8</th>           <td> 1.046e+05</td> <td> 2.06e+04</td> <td>    5.090</td> <td> 0.000</td> <td> 6.43e+04</td> <td> 1.45e+05</td>\n",
       "</tr>\n",
       "<tr>\n",
       "  <th>loc_og_t2f_mou_6</th>           <td>-3263.0113</td> <td> 2454.594</td> <td>   -1.329</td> <td> 0.184</td> <td>-8073.926</td> <td> 1547.904</td>\n",
       "</tr>\n",
       "<tr>\n",
       "  <th>loc_og_t2f_mou_7</th>           <td> 4851.6641</td> <td> 3190.637</td> <td>    1.521</td> <td> 0.128</td> <td>-1401.870</td> <td> 1.11e+04</td>\n",
       "</tr>\n",
       "<tr>\n",
       "  <th>loc_og_t2f_mou_8</th>           <td> 1.241e+04</td> <td> 2437.173</td> <td>    5.091</td> <td> 0.000</td> <td> 7630.139</td> <td> 1.72e+04</td>\n",
       "</tr>\n",
       "<tr>\n",
       "  <th>loc_og_t2c_mou_6</th>           <td>  -10.6111</td> <td>    1.605</td> <td>   -6.610</td> <td> 0.000</td> <td>  -13.758</td> <td>   -7.465</td>\n",
       "</tr>\n",
       "<tr>\n",
       "  <th>loc_og_t2c_mou_7</th>           <td>   -4.3141</td> <td>    2.631</td> <td>   -1.640</td> <td> 0.101</td> <td>   -9.471</td> <td>    0.843</td>\n",
       "</tr>\n",
       "<tr>\n",
       "  <th>loc_og_t2c_mou_8</th>           <td>    7.6567</td> <td>    1.622</td> <td>    4.720</td> <td> 0.000</td> <td>    4.477</td> <td>   10.836</td>\n",
       "</tr>\n",
       "<tr>\n",
       "  <th>loc_og_mou_6</th>               <td> 2.288e+04</td> <td> 4.81e+04</td> <td>    0.476</td> <td> 0.634</td> <td>-7.14e+04</td> <td> 1.17e+05</td>\n",
       "</tr>\n",
       "<tr>\n",
       "  <th>loc_og_mou_7</th>               <td>-4.454e+04</td> <td> 3.54e+04</td> <td>   -1.258</td> <td> 0.208</td> <td>-1.14e+05</td> <td> 2.48e+04</td>\n",
       "</tr>\n",
       "<tr>\n",
       "  <th>loc_og_mou_8</th>               <td>-2.776e+05</td> <td> 5.45e+04</td> <td>   -5.098</td> <td> 0.000</td> <td>-3.84e+05</td> <td>-1.71e+05</td>\n",
       "</tr>\n",
       "<tr>\n",
       "  <th>std_og_t2t_mou_6</th>           <td>-1.317e+05</td> <td> 3.53e+04</td> <td>   -3.728</td> <td> 0.000</td> <td>-2.01e+05</td> <td>-6.25e+04</td>\n",
       "</tr>\n",
       "<tr>\n",
       "  <th>std_og_t2t_mou_7</th>           <td> -5.91e+04</td> <td> 4.05e+04</td> <td>   -1.458</td> <td> 0.145</td> <td>-1.39e+05</td> <td> 2.03e+04</td>\n",
       "</tr>\n",
       "<tr>\n",
       "  <th>std_og_t2t_mou_8</th>           <td> 1.689e+05</td> <td> 4.24e+04</td> <td>    3.982</td> <td> 0.000</td> <td> 8.57e+04</td> <td> 2.52e+05</td>\n",
       "</tr>\n",
       "<tr>\n",
       "  <th>std_og_t2m_mou_6</th>           <td>-1.487e+05</td> <td> 3.99e+04</td> <td>   -3.729</td> <td> 0.000</td> <td>-2.27e+05</td> <td>-7.05e+04</td>\n",
       "</tr>\n",
       "<tr>\n",
       "  <th>std_og_t2m_mou_7</th>           <td>-4.812e+04</td> <td>  3.3e+04</td> <td>   -1.458</td> <td> 0.145</td> <td>-1.13e+05</td> <td> 1.66e+04</td>\n",
       "</tr>\n",
       "<tr>\n",
       "  <th>std_og_t2m_mou_8</th>           <td>  2.94e+05</td> <td> 7.38e+04</td> <td>    3.982</td> <td> 0.000</td> <td> 1.49e+05</td> <td> 4.39e+05</td>\n",
       "</tr>\n",
       "<tr>\n",
       "  <th>std_og_t2f_mou_6</th>           <td>-6044.2211</td> <td> 1620.972</td> <td>   -3.729</td> <td> 0.000</td> <td>-9221.268</td> <td>-2867.174</td>\n",
       "</tr>\n",
       "<tr>\n",
       "  <th>std_og_t2f_mou_7</th>           <td>-3384.4148</td> <td> 2321.468</td> <td>   -1.458</td> <td> 0.145</td> <td>-7934.408</td> <td> 1165.578</td>\n",
       "</tr>\n",
       "<tr>\n",
       "  <th>std_og_t2f_mou_8</th>           <td> 7458.8628</td> <td> 1874.637</td> <td>    3.979</td> <td> 0.000</td> <td> 3784.642</td> <td> 1.11e+04</td>\n",
       "</tr>\n",
       "<tr>\n",
       "  <th>std_og_mou_6</th>               <td> 1.244e+05</td> <td> 4.39e+04</td> <td>    2.838</td> <td> 0.005</td> <td> 3.85e+04</td> <td>  2.1e+05</td>\n",
       "</tr>\n",
       "<tr>\n",
       "  <th>std_og_mou_7</th>               <td> 6.047e+04</td> <td> 4.52e+04</td> <td>    1.337</td> <td> 0.181</td> <td>-2.82e+04</td> <td> 1.49e+05</td>\n",
       "</tr>\n",
       "<tr>\n",
       "  <th>std_og_mou_8</th>               <td>-3.514e+05</td> <td> 8.25e+04</td> <td>   -4.257</td> <td> 0.000</td> <td>-5.13e+05</td> <td> -1.9e+05</td>\n",
       "</tr>\n",
       "<tr>\n",
       "  <th>isd_og_mou_6</th>               <td>-1.845e+04</td> <td> 1.73e+04</td> <td>   -1.069</td> <td> 0.285</td> <td>-5.23e+04</td> <td> 1.54e+04</td>\n",
       "</tr>\n",
       "<tr>\n",
       "  <th>isd_og_mou_7</th>               <td>  776.9331</td> <td> 1.78e+04</td> <td>    0.044</td> <td> 0.965</td> <td>-3.42e+04</td> <td> 3.57e+04</td>\n",
       "</tr>\n",
       "<tr>\n",
       "  <th>isd_og_mou_8</th>               <td>-2.307e+04</td> <td>  1.9e+04</td> <td>   -1.213</td> <td> 0.225</td> <td>-6.03e+04</td> <td> 1.42e+04</td>\n",
       "</tr>\n",
       "<tr>\n",
       "  <th>spl_og_mou_6</th>               <td>-3192.1446</td> <td> 2992.505</td> <td>   -1.067</td> <td> 0.286</td> <td>-9057.346</td> <td> 2673.057</td>\n",
       "</tr>\n",
       "<tr>\n",
       "  <th>spl_og_mou_7</th>               <td>  181.1503</td> <td> 4110.466</td> <td>    0.044</td> <td> 0.965</td> <td>-7875.214</td> <td> 8237.515</td>\n",
       "</tr>\n",
       "<tr>\n",
       "  <th>spl_og_mou_8</th>               <td>-3186.8210</td> <td> 2623.052</td> <td>   -1.215</td> <td> 0.224</td> <td>-8327.909</td> <td> 1954.267</td>\n",
       "</tr>\n",
       "<tr>\n",
       "  <th>og_others_6</th>                <td>-1944.8781</td> <td> 1785.242</td> <td>   -1.089</td> <td> 0.276</td> <td>-5443.887</td> <td> 1554.131</td>\n",
       "</tr>\n",
       "<tr>\n",
       "  <th>og_others_7</th>                <td>  -25.0119</td> <td>  218.877</td> <td>   -0.114</td> <td> 0.909</td> <td> -454.003</td> <td>  403.979</td>\n",
       "</tr>\n",
       "<tr>\n",
       "  <th>og_others_8</th>                <td>-2047.9693</td> <td> 1355.981</td> <td>   -1.510</td> <td> 0.131</td> <td>-4705.644</td> <td>  609.706</td>\n",
       "</tr>\n",
       "<tr>\n",
       "  <th>total_og_mou_6</th>             <td> 3.348e+04</td> <td> 3.12e+04</td> <td>    1.072</td> <td> 0.284</td> <td>-2.77e+04</td> <td> 9.47e+04</td>\n",
       "</tr>\n",
       "<tr>\n",
       "  <th>total_og_mou_7</th>             <td>-1184.9501</td> <td> 2.69e+04</td> <td>   -0.044</td> <td> 0.965</td> <td>-5.39e+04</td> <td> 5.15e+04</td>\n",
       "</tr>\n",
       "<tr>\n",
       "  <th>total_og_mou_8</th>             <td> 5.705e+04</td> <td>  4.7e+04</td> <td>    1.214</td> <td> 0.225</td> <td>-3.51e+04</td> <td> 1.49e+05</td>\n",
       "</tr>\n",
       "<tr>\n",
       "  <th>loc_ic_t2t_mou_6</th>           <td>-1.067e+05</td> <td> 1.64e+04</td> <td>   -6.494</td> <td> 0.000</td> <td>-1.39e+05</td> <td>-7.45e+04</td>\n",
       "</tr>\n",
       "<tr>\n",
       "  <th>loc_ic_t2t_mou_7</th>           <td> 5.151e+04</td> <td> 2.15e+04</td> <td>    2.399</td> <td> 0.016</td> <td> 9428.467</td> <td> 9.36e+04</td>\n",
       "</tr>\n",
       "<tr>\n",
       "  <th>loc_ic_t2t_mou_8</th>           <td> 1.514e+05</td> <td> 1.54e+04</td> <td>    9.827</td> <td> 0.000</td> <td> 1.21e+05</td> <td> 1.82e+05</td>\n",
       "</tr>\n",
       "<tr>\n",
       "  <th>loc_ic_t2m_mou_6</th>           <td>-1.088e+05</td> <td> 1.68e+04</td> <td>   -6.494</td> <td> 0.000</td> <td>-1.42e+05</td> <td> -7.6e+04</td>\n",
       "</tr>\n",
       "<tr>\n",
       "  <th>loc_ic_t2m_mou_7</th>           <td> 3.633e+04</td> <td> 1.51e+04</td> <td>    2.399</td> <td> 0.016</td> <td> 6647.926</td> <td>  6.6e+04</td>\n",
       "</tr>\n",
       "<tr>\n",
       "  <th>loc_ic_t2m_mou_8</th>           <td>  1.77e+05</td> <td>  1.8e+04</td> <td>    9.827</td> <td> 0.000</td> <td> 1.42e+05</td> <td> 2.12e+05</td>\n",
       "</tr>\n",
       "<tr>\n",
       "  <th>loc_ic_t2f_mou_6</th>           <td>-3.359e+04</td> <td> 5171.274</td> <td>   -6.496</td> <td> 0.000</td> <td>-4.37e+04</td> <td>-2.35e+04</td>\n",
       "</tr>\n",
       "<tr>\n",
       "  <th>loc_ic_t2f_mou_7</th>           <td>  1.79e+04</td> <td> 7457.640</td> <td>    2.400</td> <td> 0.016</td> <td> 3283.721</td> <td> 3.25e+04</td>\n",
       "</tr>\n",
       "<tr>\n",
       "  <th>loc_ic_t2f_mou_8</th>           <td> 5.563e+04</td> <td> 5660.958</td> <td>    9.826</td> <td> 0.000</td> <td> 4.45e+04</td> <td> 6.67e+04</td>\n",
       "</tr>\n",
       "<tr>\n",
       "  <th>loc_ic_mou_6</th>               <td> 1.476e+05</td> <td> 2.83e+04</td> <td>    5.216</td> <td> 0.000</td> <td> 9.22e+04</td> <td> 2.03e+05</td>\n",
       "</tr>\n",
       "<tr>\n",
       "  <th>loc_ic_mou_7</th>               <td>-5.047e+04</td> <td> 2.51e+04</td> <td>   -2.008</td> <td> 0.045</td> <td>-9.97e+04</td> <td>-1207.679</td>\n",
       "</tr>\n",
       "<tr>\n",
       "  <th>loc_ic_mou_8</th>               <td>-1.238e+05</td> <td> 2.09e+04</td> <td>   -5.917</td> <td> 0.000</td> <td>-1.65e+05</td> <td>-8.28e+04</td>\n",
       "</tr>\n",
       "<tr>\n",
       "  <th>std_ic_t2t_mou_6</th>           <td>-1.872e+04</td> <td> 1.45e+04</td> <td>   -1.294</td> <td> 0.196</td> <td>-4.71e+04</td> <td> 9638.833</td>\n",
       "</tr>\n",
       "<tr>\n",
       "  <th>std_ic_t2t_mou_7</th>           <td>-5.832e+04</td> <td> 2.07e+04</td> <td>   -2.818</td> <td> 0.005</td> <td>-9.89e+04</td> <td>-1.78e+04</td>\n",
       "</tr>\n",
       "<tr>\n",
       "  <th>std_ic_t2t_mou_8</th>           <td> 5.593e+04</td> <td> 1.82e+04</td> <td>    3.066</td> <td> 0.002</td> <td> 2.02e+04</td> <td> 9.17e+04</td>\n",
       "</tr>\n",
       "<tr>\n",
       "  <th>std_ic_t2m_mou_6</th>           <td>-2.226e+04</td> <td> 1.72e+04</td> <td>   -1.294</td> <td> 0.196</td> <td> -5.6e+04</td> <td> 1.15e+04</td>\n",
       "</tr>\n",
       "<tr>\n",
       "  <th>std_ic_t2m_mou_7</th>           <td>-3.621e+04</td> <td> 1.28e+04</td> <td>   -2.819</td> <td> 0.005</td> <td>-6.14e+04</td> <td> -1.1e+04</td>\n",
       "</tr>\n",
       "<tr>\n",
       "  <th>std_ic_t2m_mou_8</th>           <td> 4.705e+04</td> <td> 1.53e+04</td> <td>    3.067</td> <td> 0.002</td> <td>  1.7e+04</td> <td> 7.71e+04</td>\n",
       "</tr>\n",
       "<tr>\n",
       "  <th>std_ic_t2f_mou_6</th>           <td>-8330.7357</td> <td> 6433.945</td> <td>   -1.295</td> <td> 0.195</td> <td>-2.09e+04</td> <td> 4279.566</td>\n",
       "</tr>\n",
       "<tr>\n",
       "  <th>std_ic_t2f_mou_7</th>           <td>-1.564e+04</td> <td> 5551.148</td> <td>   -2.817</td> <td> 0.005</td> <td>-2.65e+04</td> <td>-4756.765</td>\n",
       "</tr>\n",
       "<tr>\n",
       "  <th>std_ic_t2f_mou_8</th>           <td> 2.278e+04</td> <td> 7432.670</td> <td>    3.064</td> <td> 0.002</td> <td> 8209.527</td> <td> 3.73e+04</td>\n",
       "</tr>\n",
       "<tr>\n",
       "  <th>std_ic_mou_6</th>               <td> 5447.4293</td> <td>  1.8e+04</td> <td>    0.303</td> <td> 0.762</td> <td>-2.98e+04</td> <td> 4.07e+04</td>\n",
       "</tr>\n",
       "<tr>\n",
       "  <th>std_ic_mou_7</th>               <td>  6.48e+04</td> <td> 2.23e+04</td> <td>    2.903</td> <td> 0.004</td> <td>  2.1e+04</td> <td> 1.09e+05</td>\n",
       "</tr>\n",
       "<tr>\n",
       "  <th>std_ic_mou_8</th>               <td>-5933.0254</td> <td> 2.13e+04</td> <td>   -0.279</td> <td> 0.780</td> <td>-4.76e+04</td> <td> 3.57e+04</td>\n",
       "</tr>\n",
       "<tr>\n",
       "  <th>total_ic_mou_6</th>             <td> 3.592e+04</td> <td> 1.82e+04</td> <td>    1.978</td> <td> 0.048</td> <td>  326.361</td> <td> 7.15e+04</td>\n",
       "</tr>\n",
       "<tr>\n",
       "  <th>total_ic_mou_7</th>             <td>-9044.9989</td> <td> 1.88e+04</td> <td>   -0.482</td> <td> 0.630</td> <td>-4.58e+04</td> <td> 2.77e+04</td>\n",
       "</tr>\n",
       "<tr>\n",
       "  <th>total_ic_mou_8</th>             <td>-8.963e+04</td> <td> 1.56e+04</td> <td>   -5.727</td> <td> 0.000</td> <td> -1.2e+05</td> <td> -5.9e+04</td>\n",
       "</tr>\n",
       "<tr>\n",
       "  <th>spl_ic_mou_6</th>               <td>  -82.7888</td> <td>   46.961</td> <td>   -1.763</td> <td> 0.078</td> <td> -174.831</td> <td>    9.254</td>\n",
       "</tr>\n",
       "<tr>\n",
       "  <th>spl_ic_mou_7</th>               <td>   10.0355</td> <td>   34.161</td> <td>    0.294</td> <td> 0.769</td> <td>  -56.919</td> <td>   76.990</td>\n",
       "</tr>\n",
       "<tr>\n",
       "  <th>spl_ic_mou_8</th>               <td>   10.8925</td> <td>    3.354</td> <td>    3.248</td> <td> 0.001</td> <td>    4.319</td> <td>   17.466</td>\n",
       "</tr>\n",
       "<tr>\n",
       "  <th>isd_ic_mou_6</th>               <td> -3.16e+04</td> <td>  1.6e+04</td> <td>   -1.978</td> <td> 0.048</td> <td>-6.29e+04</td> <td> -284.864</td>\n",
       "</tr>\n",
       "<tr>\n",
       "  <th>isd_ic_mou_7</th>               <td> 5477.6497</td> <td> 1.14e+04</td> <td>    0.482</td> <td> 0.630</td> <td>-1.68e+04</td> <td> 2.78e+04</td>\n",
       "</tr>\n",
       "<tr>\n",
       "  <th>isd_ic_mou_8</th>               <td> 3.541e+04</td> <td> 6182.157</td> <td>    5.728</td> <td> 0.000</td> <td> 2.33e+04</td> <td> 4.75e+04</td>\n",
       "</tr>\n",
       "<tr>\n",
       "  <th>ic_others_6</th>                <td>-6277.8252</td> <td> 3163.716</td> <td>   -1.984</td> <td> 0.047</td> <td>-1.25e+04</td> <td>  -77.055</td>\n",
       "</tr>\n",
       "<tr>\n",
       "  <th>ic_others_7</th>                <td> 1819.6007</td> <td> 3769.228</td> <td>    0.483</td> <td> 0.629</td> <td>-5567.950</td> <td> 9207.151</td>\n",
       "</tr>\n",
       "<tr>\n",
       "  <th>ic_others_8</th>                <td> 1.788e+04</td> <td> 3121.056</td> <td>    5.728</td> <td> 0.000</td> <td> 1.18e+04</td> <td>  2.4e+04</td>\n",
       "</tr>\n",
       "<tr>\n",
       "  <th>total_rech_num_6</th>           <td>   -0.7815</td> <td>    0.736</td> <td>   -1.062</td> <td> 0.288</td> <td>   -2.224</td> <td>    0.661</td>\n",
       "</tr>\n",
       "<tr>\n",
       "  <th>total_rech_num_7</th>           <td>    4.2971</td> <td>    0.754</td> <td>    5.703</td> <td> 0.000</td> <td>    2.820</td> <td>    5.774</td>\n",
       "</tr>\n",
       "<tr>\n",
       "  <th>total_rech_num_8</th>           <td>   -7.6384</td> <td>    0.840</td> <td>   -9.091</td> <td> 0.000</td> <td>   -9.285</td> <td>   -5.992</td>\n",
       "</tr>\n",
       "<tr>\n",
       "  <th>total_rech_amt_6</th>           <td>    0.9828</td> <td>    3.160</td> <td>    0.311</td> <td> 0.756</td> <td>   -5.210</td> <td>    7.176</td>\n",
       "</tr>\n",
       "<tr>\n",
       "  <th>total_rech_amt_7</th>           <td>  -13.0369</td> <td>    3.698</td> <td>   -3.525</td> <td> 0.000</td> <td>  -20.286</td> <td>   -5.788</td>\n",
       "</tr>\n",
       "<tr>\n",
       "  <th>total_rech_amt_8</th>           <td>  -39.0942</td> <td>    4.239</td> <td>   -9.223</td> <td> 0.000</td> <td>  -47.402</td> <td>  -30.787</td>\n",
       "</tr>\n",
       "<tr>\n",
       "  <th>max_rech_amt_6</th>             <td>   -4.2300</td> <td>    1.011</td> <td>   -4.185</td> <td> 0.000</td> <td>   -6.211</td> <td>   -2.249</td>\n",
       "</tr>\n",
       "<tr>\n",
       "  <th>max_rech_amt_7</th>             <td>   -0.5613</td> <td>    0.820</td> <td>   -0.685</td> <td> 0.493</td> <td>   -2.168</td> <td>    1.045</td>\n",
       "</tr>\n",
       "<tr>\n",
       "  <th>max_rech_amt_8</th>             <td>   13.3873</td> <td>    1.260</td> <td>   10.626</td> <td> 0.000</td> <td>   10.918</td> <td>   15.856</td>\n",
       "</tr>\n",
       "<tr>\n",
       "  <th>last_day_rch_amt_6</th>         <td>   -0.6429</td> <td>    0.910</td> <td>   -0.707</td> <td> 0.480</td> <td>   -2.426</td> <td>    1.140</td>\n",
       "</tr>\n",
       "<tr>\n",
       "  <th>last_day_rch_amt_7</th>         <td>    1.5290</td> <td>    0.692</td> <td>    2.210</td> <td> 0.027</td> <td>    0.173</td> <td>    2.885</td>\n",
       "</tr>\n",
       "<tr>\n",
       "  <th>last_day_rch_amt_8</th>         <td>  -16.2033</td> <td>    1.190</td> <td>  -13.612</td> <td> 0.000</td> <td>  -18.536</td> <td>  -13.870</td>\n",
       "</tr>\n",
       "<tr>\n",
       "  <th>total_rech_data_6</th>          <td>    1.9258</td> <td>    0.540</td> <td>    3.565</td> <td> 0.000</td> <td>    0.867</td> <td>    2.985</td>\n",
       "</tr>\n",
       "<tr>\n",
       "  <th>total_rech_data_7</th>          <td>    1.2864</td> <td>    0.722</td> <td>    1.783</td> <td> 0.075</td> <td>   -0.128</td> <td>    2.701</td>\n",
       "</tr>\n",
       "<tr>\n",
       "  <th>total_rech_data_8</th>          <td>   -8.2785</td> <td>    1.133</td> <td>   -7.308</td> <td> 0.000</td> <td>  -10.499</td> <td>   -6.058</td>\n",
       "</tr>\n",
       "<tr>\n",
       "  <th>max_rech_data_6</th>            <td>    5.1209</td> <td>    0.885</td> <td>    5.786</td> <td> 0.000</td> <td>    3.386</td> <td>    6.856</td>\n",
       "</tr>\n",
       "<tr>\n",
       "  <th>max_rech_data_7</th>            <td>   -1.7078</td> <td>    0.932</td> <td>   -1.833</td> <td> 0.067</td> <td>   -3.534</td> <td>    0.118</td>\n",
       "</tr>\n",
       "<tr>\n",
       "  <th>max_rech_data_8</th>            <td>   -6.6117</td> <td>    1.100</td> <td>   -6.012</td> <td> 0.000</td> <td>   -8.767</td> <td>   -4.456</td>\n",
       "</tr>\n",
       "<tr>\n",
       "  <th>av_rech_amt_data_6</th>         <td>  -14.9250</td> <td>    2.928</td> <td>   -5.098</td> <td> 0.000</td> <td>  -20.663</td> <td>   -9.187</td>\n",
       "</tr>\n",
       "<tr>\n",
       "  <th>av_rech_amt_data_7</th>         <td>    4.6886</td> <td>    2.085</td> <td>    2.249</td> <td> 0.025</td> <td>    0.602</td> <td>    8.775</td>\n",
       "</tr>\n",
       "<tr>\n",
       "  <th>av_rech_amt_data_8</th>         <td>   -0.2901</td> <td>    2.642</td> <td>   -0.110</td> <td> 0.913</td> <td>   -5.468</td> <td>    4.888</td>\n",
       "</tr>\n",
       "<tr>\n",
       "  <th>vol_2g_mb_6</th>                <td>   -0.7558</td> <td>    0.815</td> <td>   -0.927</td> <td> 0.354</td> <td>   -2.353</td> <td>    0.842</td>\n",
       "</tr>\n",
       "<tr>\n",
       "  <th>vol_2g_mb_7</th>                <td>    3.4633</td> <td>    0.957</td> <td>    3.620</td> <td> 0.000</td> <td>    1.588</td> <td>    5.339</td>\n",
       "</tr>\n",
       "<tr>\n",
       "  <th>vol_2g_mb_8</th>                <td>   -7.5878</td> <td>    1.299</td> <td>   -5.843</td> <td> 0.000</td> <td>  -10.133</td> <td>   -5.042</td>\n",
       "</tr>\n",
       "<tr>\n",
       "  <th>vol_3g_mb_6</th>                <td>   -7.6604</td> <td>    3.104</td> <td>   -2.468</td> <td> 0.014</td> <td>  -13.744</td> <td>   -1.577</td>\n",
       "</tr>\n",
       "<tr>\n",
       "  <th>vol_3g_mb_7</th>                <td>    4.5567</td> <td>    1.939</td> <td>    2.350</td> <td> 0.019</td> <td>    0.756</td> <td>    8.358</td>\n",
       "</tr>\n",
       "<tr>\n",
       "  <th>vol_3g_mb_8</th>                <td>   -5.9141</td> <td>    2.357</td> <td>   -2.509</td> <td> 0.012</td> <td>  -10.535</td> <td>   -1.294</td>\n",
       "</tr>\n",
       "<tr>\n",
       "  <th>monthly_2g_6</th>               <td>   -0.3499</td> <td>    0.325</td> <td>   -1.077</td> <td> 0.282</td> <td>   -0.987</td> <td>    0.287</td>\n",
       "</tr>\n",
       "<tr>\n",
       "  <th>monthly_2g_7</th>               <td>   -1.2155</td> <td>    0.437</td> <td>   -2.781</td> <td> 0.005</td> <td>   -2.072</td> <td>   -0.359</td>\n",
       "</tr>\n",
       "<tr>\n",
       "  <th>monthly_2g_8</th>               <td>   -3.9919</td> <td>    0.622</td> <td>   -6.420</td> <td> 0.000</td> <td>   -5.211</td> <td>   -2.773</td>\n",
       "</tr>\n",
       "<tr>\n",
       "  <th>sachet_2g_6</th>                <td>    0.5065</td> <td>    0.523</td> <td>    0.969</td> <td> 0.333</td> <td>   -0.518</td> <td>    1.531</td>\n",
       "</tr>\n",
       "<tr>\n",
       "  <th>sachet_2g_7</th>                <td>   -0.6076</td> <td>    0.576</td> <td>   -1.055</td> <td> 0.292</td> <td>   -1.737</td> <td>    0.522</td>\n",
       "</tr>\n",
       "<tr>\n",
       "  <th>sachet_2g_8</th>                <td>   -2.0400</td> <td>    0.697</td> <td>   -2.927</td> <td> 0.003</td> <td>   -3.406</td> <td>   -0.674</td>\n",
       "</tr>\n",
       "<tr>\n",
       "  <th>monthly_3g_6</th>               <td>    2.4552</td> <td>    0.784</td> <td>    3.131</td> <td> 0.002</td> <td>    0.918</td> <td>    3.992</td>\n",
       "</tr>\n",
       "<tr>\n",
       "  <th>monthly_3g_7</th>               <td>   -1.9885</td> <td>    1.233</td> <td>   -1.613</td> <td> 0.107</td> <td>   -4.405</td> <td>    0.428</td>\n",
       "</tr>\n",
       "<tr>\n",
       "  <th>monthly_3g_8</th>               <td>   -5.8636</td> <td>    1.784</td> <td>   -3.287</td> <td> 0.001</td> <td>   -9.360</td> <td>   -2.368</td>\n",
       "</tr>\n",
       "<tr>\n",
       "  <th>sachet_3g_6</th>                <td>    2.6037</td> <td>    0.979</td> <td>    2.659</td> <td> 0.008</td> <td>    0.685</td> <td>    4.523</td>\n",
       "</tr>\n",
       "<tr>\n",
       "  <th>sachet_3g_7</th>                <td>    4.0165</td> <td>    1.128</td> <td>    3.560</td> <td> 0.000</td> <td>    1.805</td> <td>    6.228</td>\n",
       "</tr>\n",
       "<tr>\n",
       "  <th>sachet_3g_8</th>                <td>   -7.6481</td> <td>    1.704</td> <td>   -4.489</td> <td> 0.000</td> <td>  -10.988</td> <td>   -4.309</td>\n",
       "</tr>\n",
       "<tr>\n",
       "  <th>aon</th>                        <td>   -0.4309</td> <td>    0.107</td> <td>   -4.025</td> <td> 0.000</td> <td>   -0.641</td> <td>   -0.221</td>\n",
       "</tr>\n",
       "<tr>\n",
       "  <th>aug_vbc_3g</th>                 <td>   -5.9790</td> <td>    1.773</td> <td>   -3.372</td> <td> 0.001</td> <td>   -9.455</td> <td>   -2.503</td>\n",
       "</tr>\n",
       "<tr>\n",
       "  <th>jul_vbc_3g</th>                 <td>   -0.8816</td> <td>    1.022</td> <td>   -0.863</td> <td> 0.388</td> <td>   -2.885</td> <td>    1.122</td>\n",
       "</tr>\n",
       "<tr>\n",
       "  <th>jun_vbc_3g</th>                 <td>    3.0638</td> <td>    0.805</td> <td>    3.808</td> <td> 0.000</td> <td>    1.487</td> <td>    4.641</td>\n",
       "</tr>\n",
       "<tr>\n",
       "  <th>total_data_recharge_amnt_6</th> <td>    1.3162</td> <td>    1.571</td> <td>    0.838</td> <td> 0.402</td> <td>   -1.763</td> <td>    4.396</td>\n",
       "</tr>\n",
       "<tr>\n",
       "  <th>total_data_recharge_amnt_7</th> <td>   -1.4121</td> <td>    1.801</td> <td>   -0.784</td> <td> 0.433</td> <td>   -4.943</td> <td>    2.119</td>\n",
       "</tr>\n",
       "<tr>\n",
       "  <th>total_data_recharge_amnt_8</th> <td>   14.6493</td> <td>    1.798</td> <td>    8.147</td> <td> 0.000</td> <td>   11.125</td> <td>   18.174</td>\n",
       "</tr>\n",
       "<tr>\n",
       "  <th>total_recharge_amnt_6</th>      <td>    1.5696</td> <td>    1.302</td> <td>    1.205</td> <td> 0.228</td> <td>   -0.983</td> <td>    4.122</td>\n",
       "</tr>\n",
       "<tr>\n",
       "  <th>total_recharge_amnt_7</th>      <td>   -5.8518</td> <td>    1.457</td> <td>   -4.017</td> <td> 0.000</td> <td>   -8.707</td> <td>   -2.997</td>\n",
       "</tr>\n",
       "<tr>\n",
       "  <th>total_recharge_amnt_8</th>      <td>    0.0499</td> <td>    1.582</td> <td>    0.032</td> <td> 0.975</td> <td>   -3.051</td> <td>    3.151</td>\n",
       "</tr>\n",
       "<tr>\n",
       "  <th>average_amnt_6_7</th>           <td>   -3.7099</td> <td>    1.048</td> <td>   -3.539</td> <td> 0.000</td> <td>   -5.764</td> <td>   -1.655</td>\n",
       "</tr>\n",
       "</table>"
      ],
      "text/plain": [
       "<class 'statsmodels.iolib.summary.Summary'>\n",
       "\"\"\"\n",
       "                 Generalized Linear Model Regression Results                  \n",
       "==============================================================================\n",
       "Dep. Variable:      churn_probability   No. Observations:                27020\n",
       "Model:                            GLM   Df Residuals:                    26886\n",
       "Model Family:                Binomial   Df Model:                          133\n",
       "Link Function:                  logit   Scale:                          1.0000\n",
       "Method:                          IRLS   Log-Likelihood:                -8557.5\n",
       "Date:                Fri, 16 Sep 2022   Deviance:                       17115.\n",
       "Time:                        16:18:05   Pearson chi2:                 1.05e+05\n",
       "No. Iterations:                   100                                         \n",
       "Covariance Type:            nonrobust                                         \n",
       "==============================================================================================\n",
       "                                 coef    std err          z      P>|z|      [0.025      0.975]\n",
       "----------------------------------------------------------------------------------------------\n",
       "const                         -3.4484      0.693     -4.979      0.000      -4.806      -2.091\n",
       "arpu_6                         4.8556      3.785      1.283      0.200      -2.564      12.275\n",
       "arpu_7                        23.1372      4.367      5.298      0.000      14.578      31.696\n",
       "arpu_8                        39.6767      4.913      8.075      0.000      30.047      49.307\n",
       "onnet_mou_6                  -96.6183     34.404     -2.808      0.005    -164.049     -29.188\n",
       "onnet_mou_7                  -37.3341     31.282     -1.193      0.233     -98.645      23.977\n",
       "onnet_mou_8                  -30.3489     46.969     -0.646      0.518    -122.406      61.708\n",
       "offnet_mou_6                -103.3483     38.632     -2.675      0.007    -179.066     -27.631\n",
       "offnet_mou_7                 -32.7199     24.978     -1.310      0.190     -81.675      16.235\n",
       "offnet_mou_8                 -78.2712     59.640     -1.312      0.189    -195.164      38.621\n",
       "roam_ic_mou_6                  2.0261      1.194      1.698      0.090      -0.313       4.365\n",
       "roam_ic_mou_7                  0.7795      1.364      0.571      0.568      -1.895       3.454\n",
       "roam_ic_mou_8                 -2.6093      1.476     -1.767      0.077      -5.503       0.284\n",
       "roam_og_mou_6                 48.9735     17.582      2.785      0.005      14.513      83.434\n",
       "roam_og_mou_7                 16.1681     10.557      1.531      0.126      -4.524      36.860\n",
       "roam_og_mou_8                 31.4971     23.037      1.367      0.172     -13.655      76.649\n",
       "loc_og_t2t_mou_6           -3.391e+04   2.56e+04     -1.327      0.185    -8.4e+04    1.62e+04\n",
       "loc_og_t2t_mou_7            4.405e+04    2.9e+04      1.521      0.128   -1.27e+04    1.01e+05\n",
       "loc_og_t2t_mou_8            2.267e+05   4.45e+04      5.089      0.000    1.39e+05    3.14e+05\n",
       "loc_og_t2m_mou_6           -2.477e+04   1.87e+04     -1.327      0.184   -6.14e+04    1.18e+04\n",
       "loc_og_t2m_mou_7            2.712e+04   1.78e+04      1.521      0.128   -7831.742    6.21e+04\n",
       "loc_og_t2m_mou_8            1.046e+05   2.06e+04      5.090      0.000    6.43e+04    1.45e+05\n",
       "loc_og_t2f_mou_6           -3263.0113   2454.594     -1.329      0.184   -8073.926    1547.904\n",
       "loc_og_t2f_mou_7            4851.6641   3190.637      1.521      0.128   -1401.870    1.11e+04\n",
       "loc_og_t2f_mou_8            1.241e+04   2437.173      5.091      0.000    7630.139    1.72e+04\n",
       "loc_og_t2c_mou_6             -10.6111      1.605     -6.610      0.000     -13.758      -7.465\n",
       "loc_og_t2c_mou_7              -4.3141      2.631     -1.640      0.101      -9.471       0.843\n",
       "loc_og_t2c_mou_8               7.6567      1.622      4.720      0.000       4.477      10.836\n",
       "loc_og_mou_6                2.288e+04   4.81e+04      0.476      0.634   -7.14e+04    1.17e+05\n",
       "loc_og_mou_7               -4.454e+04   3.54e+04     -1.258      0.208   -1.14e+05    2.48e+04\n",
       "loc_og_mou_8               -2.776e+05   5.45e+04     -5.098      0.000   -3.84e+05   -1.71e+05\n",
       "std_og_t2t_mou_6           -1.317e+05   3.53e+04     -3.728      0.000   -2.01e+05   -6.25e+04\n",
       "std_og_t2t_mou_7            -5.91e+04   4.05e+04     -1.458      0.145   -1.39e+05    2.03e+04\n",
       "std_og_t2t_mou_8            1.689e+05   4.24e+04      3.982      0.000    8.57e+04    2.52e+05\n",
       "std_og_t2m_mou_6           -1.487e+05   3.99e+04     -3.729      0.000   -2.27e+05   -7.05e+04\n",
       "std_og_t2m_mou_7           -4.812e+04    3.3e+04     -1.458      0.145   -1.13e+05    1.66e+04\n",
       "std_og_t2m_mou_8             2.94e+05   7.38e+04      3.982      0.000    1.49e+05    4.39e+05\n",
       "std_og_t2f_mou_6           -6044.2211   1620.972     -3.729      0.000   -9221.268   -2867.174\n",
       "std_og_t2f_mou_7           -3384.4148   2321.468     -1.458      0.145   -7934.408    1165.578\n",
       "std_og_t2f_mou_8            7458.8628   1874.637      3.979      0.000    3784.642    1.11e+04\n",
       "std_og_mou_6                1.244e+05   4.39e+04      2.838      0.005    3.85e+04     2.1e+05\n",
       "std_og_mou_7                6.047e+04   4.52e+04      1.337      0.181   -2.82e+04    1.49e+05\n",
       "std_og_mou_8               -3.514e+05   8.25e+04     -4.257      0.000   -5.13e+05    -1.9e+05\n",
       "isd_og_mou_6               -1.845e+04   1.73e+04     -1.069      0.285   -5.23e+04    1.54e+04\n",
       "isd_og_mou_7                 776.9331   1.78e+04      0.044      0.965   -3.42e+04    3.57e+04\n",
       "isd_og_mou_8               -2.307e+04    1.9e+04     -1.213      0.225   -6.03e+04    1.42e+04\n",
       "spl_og_mou_6               -3192.1446   2992.505     -1.067      0.286   -9057.346    2673.057\n",
       "spl_og_mou_7                 181.1503   4110.466      0.044      0.965   -7875.214    8237.515\n",
       "spl_og_mou_8               -3186.8210   2623.052     -1.215      0.224   -8327.909    1954.267\n",
       "og_others_6                -1944.8781   1785.242     -1.089      0.276   -5443.887    1554.131\n",
       "og_others_7                  -25.0119    218.877     -0.114      0.909    -454.003     403.979\n",
       "og_others_8                -2047.9693   1355.981     -1.510      0.131   -4705.644     609.706\n",
       "total_og_mou_6              3.348e+04   3.12e+04      1.072      0.284   -2.77e+04    9.47e+04\n",
       "total_og_mou_7             -1184.9501   2.69e+04     -0.044      0.965   -5.39e+04    5.15e+04\n",
       "total_og_mou_8              5.705e+04    4.7e+04      1.214      0.225   -3.51e+04    1.49e+05\n",
       "loc_ic_t2t_mou_6           -1.067e+05   1.64e+04     -6.494      0.000   -1.39e+05   -7.45e+04\n",
       "loc_ic_t2t_mou_7            5.151e+04   2.15e+04      2.399      0.016    9428.467    9.36e+04\n",
       "loc_ic_t2t_mou_8            1.514e+05   1.54e+04      9.827      0.000    1.21e+05    1.82e+05\n",
       "loc_ic_t2m_mou_6           -1.088e+05   1.68e+04     -6.494      0.000   -1.42e+05    -7.6e+04\n",
       "loc_ic_t2m_mou_7            3.633e+04   1.51e+04      2.399      0.016    6647.926     6.6e+04\n",
       "loc_ic_t2m_mou_8             1.77e+05    1.8e+04      9.827      0.000    1.42e+05    2.12e+05\n",
       "loc_ic_t2f_mou_6           -3.359e+04   5171.274     -6.496      0.000   -4.37e+04   -2.35e+04\n",
       "loc_ic_t2f_mou_7             1.79e+04   7457.640      2.400      0.016    3283.721    3.25e+04\n",
       "loc_ic_t2f_mou_8            5.563e+04   5660.958      9.826      0.000    4.45e+04    6.67e+04\n",
       "loc_ic_mou_6                1.476e+05   2.83e+04      5.216      0.000    9.22e+04    2.03e+05\n",
       "loc_ic_mou_7               -5.047e+04   2.51e+04     -2.008      0.045   -9.97e+04   -1207.679\n",
       "loc_ic_mou_8               -1.238e+05   2.09e+04     -5.917      0.000   -1.65e+05   -8.28e+04\n",
       "std_ic_t2t_mou_6           -1.872e+04   1.45e+04     -1.294      0.196   -4.71e+04    9638.833\n",
       "std_ic_t2t_mou_7           -5.832e+04   2.07e+04     -2.818      0.005   -9.89e+04   -1.78e+04\n",
       "std_ic_t2t_mou_8            5.593e+04   1.82e+04      3.066      0.002    2.02e+04    9.17e+04\n",
       "std_ic_t2m_mou_6           -2.226e+04   1.72e+04     -1.294      0.196    -5.6e+04    1.15e+04\n",
       "std_ic_t2m_mou_7           -3.621e+04   1.28e+04     -2.819      0.005   -6.14e+04    -1.1e+04\n",
       "std_ic_t2m_mou_8            4.705e+04   1.53e+04      3.067      0.002     1.7e+04    7.71e+04\n",
       "std_ic_t2f_mou_6           -8330.7357   6433.945     -1.295      0.195   -2.09e+04    4279.566\n",
       "std_ic_t2f_mou_7           -1.564e+04   5551.148     -2.817      0.005   -2.65e+04   -4756.765\n",
       "std_ic_t2f_mou_8            2.278e+04   7432.670      3.064      0.002    8209.527    3.73e+04\n",
       "std_ic_mou_6                5447.4293    1.8e+04      0.303      0.762   -2.98e+04    4.07e+04\n",
       "std_ic_mou_7                 6.48e+04   2.23e+04      2.903      0.004     2.1e+04    1.09e+05\n",
       "std_ic_mou_8               -5933.0254   2.13e+04     -0.279      0.780   -4.76e+04    3.57e+04\n",
       "total_ic_mou_6              3.592e+04   1.82e+04      1.978      0.048     326.361    7.15e+04\n",
       "total_ic_mou_7             -9044.9989   1.88e+04     -0.482      0.630   -4.58e+04    2.77e+04\n",
       "total_ic_mou_8             -8.963e+04   1.56e+04     -5.727      0.000    -1.2e+05    -5.9e+04\n",
       "spl_ic_mou_6                 -82.7888     46.961     -1.763      0.078    -174.831       9.254\n",
       "spl_ic_mou_7                  10.0355     34.161      0.294      0.769     -56.919      76.990\n",
       "spl_ic_mou_8                  10.8925      3.354      3.248      0.001       4.319      17.466\n",
       "isd_ic_mou_6                -3.16e+04    1.6e+04     -1.978      0.048   -6.29e+04    -284.864\n",
       "isd_ic_mou_7                5477.6497   1.14e+04      0.482      0.630   -1.68e+04    2.78e+04\n",
       "isd_ic_mou_8                3.541e+04   6182.157      5.728      0.000    2.33e+04    4.75e+04\n",
       "ic_others_6                -6277.8252   3163.716     -1.984      0.047   -1.25e+04     -77.055\n",
       "ic_others_7                 1819.6007   3769.228      0.483      0.629   -5567.950    9207.151\n",
       "ic_others_8                 1.788e+04   3121.056      5.728      0.000    1.18e+04     2.4e+04\n",
       "total_rech_num_6              -0.7815      0.736     -1.062      0.288      -2.224       0.661\n",
       "total_rech_num_7               4.2971      0.754      5.703      0.000       2.820       5.774\n",
       "total_rech_num_8              -7.6384      0.840     -9.091      0.000      -9.285      -5.992\n",
       "total_rech_amt_6               0.9828      3.160      0.311      0.756      -5.210       7.176\n",
       "total_rech_amt_7             -13.0369      3.698     -3.525      0.000     -20.286      -5.788\n",
       "total_rech_amt_8             -39.0942      4.239     -9.223      0.000     -47.402     -30.787\n",
       "max_rech_amt_6                -4.2300      1.011     -4.185      0.000      -6.211      -2.249\n",
       "max_rech_amt_7                -0.5613      0.820     -0.685      0.493      -2.168       1.045\n",
       "max_rech_amt_8                13.3873      1.260     10.626      0.000      10.918      15.856\n",
       "last_day_rch_amt_6            -0.6429      0.910     -0.707      0.480      -2.426       1.140\n",
       "last_day_rch_amt_7             1.5290      0.692      2.210      0.027       0.173       2.885\n",
       "last_day_rch_amt_8           -16.2033      1.190    -13.612      0.000     -18.536     -13.870\n",
       "total_rech_data_6              1.9258      0.540      3.565      0.000       0.867       2.985\n",
       "total_rech_data_7              1.2864      0.722      1.783      0.075      -0.128       2.701\n",
       "total_rech_data_8             -8.2785      1.133     -7.308      0.000     -10.499      -6.058\n",
       "max_rech_data_6                5.1209      0.885      5.786      0.000       3.386       6.856\n",
       "max_rech_data_7               -1.7078      0.932     -1.833      0.067      -3.534       0.118\n",
       "max_rech_data_8               -6.6117      1.100     -6.012      0.000      -8.767      -4.456\n",
       "av_rech_amt_data_6           -14.9250      2.928     -5.098      0.000     -20.663      -9.187\n",
       "av_rech_amt_data_7             4.6886      2.085      2.249      0.025       0.602       8.775\n",
       "av_rech_amt_data_8            -0.2901      2.642     -0.110      0.913      -5.468       4.888\n",
       "vol_2g_mb_6                   -0.7558      0.815     -0.927      0.354      -2.353       0.842\n",
       "vol_2g_mb_7                    3.4633      0.957      3.620      0.000       1.588       5.339\n",
       "vol_2g_mb_8                   -7.5878      1.299     -5.843      0.000     -10.133      -5.042\n",
       "vol_3g_mb_6                   -7.6604      3.104     -2.468      0.014     -13.744      -1.577\n",
       "vol_3g_mb_7                    4.5567      1.939      2.350      0.019       0.756       8.358\n",
       "vol_3g_mb_8                   -5.9141      2.357     -2.509      0.012     -10.535      -1.294\n",
       "monthly_2g_6                  -0.3499      0.325     -1.077      0.282      -0.987       0.287\n",
       "monthly_2g_7                  -1.2155      0.437     -2.781      0.005      -2.072      -0.359\n",
       "monthly_2g_8                  -3.9919      0.622     -6.420      0.000      -5.211      -2.773\n",
       "sachet_2g_6                    0.5065      0.523      0.969      0.333      -0.518       1.531\n",
       "sachet_2g_7                   -0.6076      0.576     -1.055      0.292      -1.737       0.522\n",
       "sachet_2g_8                   -2.0400      0.697     -2.927      0.003      -3.406      -0.674\n",
       "monthly_3g_6                   2.4552      0.784      3.131      0.002       0.918       3.992\n",
       "monthly_3g_7                  -1.9885      1.233     -1.613      0.107      -4.405       0.428\n",
       "monthly_3g_8                  -5.8636      1.784     -3.287      0.001      -9.360      -2.368\n",
       "sachet_3g_6                    2.6037      0.979      2.659      0.008       0.685       4.523\n",
       "sachet_3g_7                    4.0165      1.128      3.560      0.000       1.805       6.228\n",
       "sachet_3g_8                   -7.6481      1.704     -4.489      0.000     -10.988      -4.309\n",
       "aon                           -0.4309      0.107     -4.025      0.000      -0.641      -0.221\n",
       "aug_vbc_3g                    -5.9790      1.773     -3.372      0.001      -9.455      -2.503\n",
       "jul_vbc_3g                    -0.8816      1.022     -0.863      0.388      -2.885       1.122\n",
       "jun_vbc_3g                     3.0638      0.805      3.808      0.000       1.487       4.641\n",
       "total_data_recharge_amnt_6     1.3162      1.571      0.838      0.402      -1.763       4.396\n",
       "total_data_recharge_amnt_7    -1.4121      1.801     -0.784      0.433      -4.943       2.119\n",
       "total_data_recharge_amnt_8    14.6493      1.798      8.147      0.000      11.125      18.174\n",
       "total_recharge_amnt_6          1.5696      1.302      1.205      0.228      -0.983       4.122\n",
       "total_recharge_amnt_7         -5.8518      1.457     -4.017      0.000      -8.707      -2.997\n",
       "total_recharge_amnt_8          0.0499      1.582      0.032      0.975      -3.051       3.151\n",
       "average_amnt_6_7              -3.7099      1.048     -3.539      0.000      -5.764      -1.655\n",
       "==============================================================================================\n",
       "\"\"\""
      ]
     },
     "execution_count": 53,
     "metadata": {},
     "output_type": "execute_result"
    }
   ],
   "source": [
    "# For RFE\n",
    "logml = sm.GLM(y_resampled, (sm.add_constant(X_resampled)), family=sm.families.Binomial())\n",
    "logml.fit().summary()"
   ]
  },
  {
   "cell_type": "markdown",
   "id": "157e7780",
   "metadata": {},
   "source": [
    "## Lower the p-value higher the significance"
   ]
  },
  {
   "cell_type": "code",
   "execution_count": 54,
   "id": "27a6fc4c",
   "metadata": {},
   "outputs": [],
   "source": [
    "logreg = LogisticRegression()"
   ]
  },
  {
   "cell_type": "code",
   "execution_count": 55,
   "id": "f373b0ef",
   "metadata": {},
   "outputs": [],
   "source": [
    "# Running rfe with 70 variables as output\n",
    "rfe = RFE(logreg, n_features_to_select=70)\n",
    "rfe = rfe.fit(X_resampled, y_resampled)"
   ]
  },
  {
   "cell_type": "code",
   "execution_count": 56,
   "id": "ac2cb82c",
   "metadata": {},
   "outputs": [
    {
     "data": {
      "text/plain": [
       "array([ True,  True,  True, False,  True, False, False,  True,  True,\n",
       "       False, False, False,  True,  True,  True, False, False,  True,\n",
       "       False,  True,  True,  True, False,  True,  True, False, False,\n",
       "       False, False,  True, False, False, False, False, False,  True,\n",
       "       False, False,  True,  True,  True,  True, False, False, False,\n",
       "       False, False,  True, False, False, False, False, False,  True,\n",
       "       False, False,  True,  True, False,  True, False, False,  True,\n",
       "        True,  True,  True,  True, False,  True, False, False,  True,\n",
       "       False, False,  True,  True, False,  True,  True, False,  True,\n",
       "       False, False,  True, False, False,  True, False, False, False,\n",
       "        True,  True,  True,  True,  True,  True,  True,  True,  True,\n",
       "       False, False,  True,  True, False,  True,  True,  True,  True,\n",
       "        True, False,  True,  True,  True,  True, False, False,  True,\n",
       "       False,  True,  True, False, False,  True, False,  True,  True,\n",
       "       False, False,  True,  True,  True,  True, False, False, False,\n",
       "       False, False, False, False, False])"
      ]
     },
     "execution_count": 56,
     "metadata": {},
     "output_type": "execute_result"
    }
   ],
   "source": [
    "rfe.support_ # it givs whether or not the selected feature was in top 70. True means yes"
   ]
  },
  {
   "cell_type": "code",
   "execution_count": 57,
   "id": "b474206d",
   "metadata": {},
   "outputs": [
    {
     "data": {
      "text/plain": [
       "[('arpu_6', True, 1),\n",
       " ('arpu_7', True, 1),\n",
       " ('arpu_8', True, 1),\n",
       " ('onnet_mou_6', False, 20),\n",
       " ('onnet_mou_7', True, 1),\n",
       " ('onnet_mou_8', False, 48),\n",
       " ('offnet_mou_6', False, 3),\n",
       " ('offnet_mou_7', True, 1),\n",
       " ('offnet_mou_8', True, 1),\n",
       " ('roam_ic_mou_6', False, 9),\n",
       " ('roam_ic_mou_7', False, 62),\n",
       " ('roam_ic_mou_8', False, 66),\n",
       " ('roam_og_mou_6', True, 1),\n",
       " ('roam_og_mou_7', True, 1),\n",
       " ('roam_og_mou_8', True, 1),\n",
       " ('loc_og_t2t_mou_6', False, 54),\n",
       " ('loc_og_t2t_mou_7', False, 58),\n",
       " ('loc_og_t2t_mou_8', True, 1),\n",
       " ('loc_og_t2m_mou_6', False, 2),\n",
       " ('loc_og_t2m_mou_7', True, 1),\n",
       " ('loc_og_t2m_mou_8', True, 1),\n",
       " ('loc_og_t2f_mou_6', True, 1),\n",
       " ('loc_og_t2f_mou_7', False, 18),\n",
       " ('loc_og_t2f_mou_8', True, 1),\n",
       " ('loc_og_t2c_mou_6', True, 1),\n",
       " ('loc_og_t2c_mou_7', False, 7),\n",
       " ('loc_og_t2c_mou_8', False, 10),\n",
       " ('loc_og_mou_6', False, 57),\n",
       " ('loc_og_mou_7', False, 39),\n",
       " ('loc_og_mou_8', True, 1),\n",
       " ('std_og_t2t_mou_6', False, 45),\n",
       " ('std_og_t2t_mou_7', False, 4),\n",
       " ('std_og_t2t_mou_8', False, 69),\n",
       " ('std_og_t2m_mou_6', False, 44),\n",
       " ('std_og_t2m_mou_7', False, 28),\n",
       " ('std_og_t2m_mou_8', True, 1),\n",
       " ('std_og_t2f_mou_6', False, 50),\n",
       " ('std_og_t2f_mou_7', False, 47),\n",
       " ('std_og_t2f_mou_8', True, 1),\n",
       " ('std_og_mou_6', True, 1),\n",
       " ('std_og_mou_7', True, 1),\n",
       " ('std_og_mou_8', True, 1),\n",
       " ('isd_og_mou_6', False, 68),\n",
       " ('isd_og_mou_7', False, 71),\n",
       " ('isd_og_mou_8', False, 70),\n",
       " ('spl_og_mou_6', False, 59),\n",
       " ('spl_og_mou_7', False, 40),\n",
       " ('spl_og_mou_8', True, 1),\n",
       " ('og_others_6', False, 27),\n",
       " ('og_others_7', False, 42),\n",
       " ('og_others_8', False, 60),\n",
       " ('total_og_mou_6', False, 19),\n",
       " ('total_og_mou_7', False, 12),\n",
       " ('total_og_mou_8', True, 1),\n",
       " ('loc_ic_t2t_mou_6', False, 6),\n",
       " ('loc_ic_t2t_mou_7', False, 31),\n",
       " ('loc_ic_t2t_mou_8', True, 1),\n",
       " ('loc_ic_t2m_mou_6', True, 1),\n",
       " ('loc_ic_t2m_mou_7', False, 41),\n",
       " ('loc_ic_t2m_mou_8', True, 1),\n",
       " ('loc_ic_t2f_mou_6', False, 14),\n",
       " ('loc_ic_t2f_mou_7', False, 49),\n",
       " ('loc_ic_t2f_mou_8', True, 1),\n",
       " ('loc_ic_mou_6', True, 1),\n",
       " ('loc_ic_mou_7', True, 1),\n",
       " ('loc_ic_mou_8', True, 1),\n",
       " ('std_ic_t2t_mou_6', True, 1),\n",
       " ('std_ic_t2t_mou_7', False, 13),\n",
       " ('std_ic_t2t_mou_8', True, 1),\n",
       " ('std_ic_t2m_mou_6', False, 15),\n",
       " ('std_ic_t2m_mou_7', False, 16),\n",
       " ('std_ic_t2m_mou_8', True, 1),\n",
       " ('std_ic_t2f_mou_6', False, 43),\n",
       " ('std_ic_t2f_mou_7', False, 38),\n",
       " ('std_ic_t2f_mou_8', True, 1),\n",
       " ('std_ic_mou_6', True, 1),\n",
       " ('std_ic_mou_7', False, 46),\n",
       " ('std_ic_mou_8', True, 1),\n",
       " ('total_ic_mou_6', True, 1),\n",
       " ('total_ic_mou_7', False, 5),\n",
       " ('total_ic_mou_8', True, 1),\n",
       " ('spl_ic_mou_6', False, 51),\n",
       " ('spl_ic_mou_7', False, 32),\n",
       " ('spl_ic_mou_8', True, 1),\n",
       " ('isd_ic_mou_6', False, 26),\n",
       " ('isd_ic_mou_7', False, 17),\n",
       " ('isd_ic_mou_8', True, 1),\n",
       " ('ic_others_6', False, 37),\n",
       " ('ic_others_7', False, 65),\n",
       " ('ic_others_8', False, 61),\n",
       " ('total_rech_num_6', True, 1),\n",
       " ('total_rech_num_7', True, 1),\n",
       " ('total_rech_num_8', True, 1),\n",
       " ('total_rech_amt_6', True, 1),\n",
       " ('total_rech_amt_7', True, 1),\n",
       " ('total_rech_amt_8', True, 1),\n",
       " ('max_rech_amt_6', True, 1),\n",
       " ('max_rech_amt_7', True, 1),\n",
       " ('max_rech_amt_8', True, 1),\n",
       " ('last_day_rch_amt_6', False, 29),\n",
       " ('last_day_rch_amt_7', False, 36),\n",
       " ('last_day_rch_amt_8', True, 1),\n",
       " ('total_rech_data_6', True, 1),\n",
       " ('total_rech_data_7', False, 35),\n",
       " ('total_rech_data_8', True, 1),\n",
       " ('max_rech_data_6', True, 1),\n",
       " ('max_rech_data_7', True, 1),\n",
       " ('max_rech_data_8', True, 1),\n",
       " ('av_rech_amt_data_6', True, 1),\n",
       " ('av_rech_amt_data_7', False, 21),\n",
       " ('av_rech_amt_data_8', True, 1),\n",
       " ('vol_2g_mb_6', True, 1),\n",
       " ('vol_2g_mb_7', True, 1),\n",
       " ('vol_2g_mb_8', True, 1),\n",
       " ('vol_3g_mb_6', False, 55),\n",
       " ('vol_3g_mb_7', False, 22),\n",
       " ('vol_3g_mb_8', True, 1),\n",
       " ('monthly_2g_6', False, 8),\n",
       " ('monthly_2g_7', True, 1),\n",
       " ('monthly_2g_8', True, 1),\n",
       " ('sachet_2g_6', False, 23),\n",
       " ('sachet_2g_7', False, 63),\n",
       " ('sachet_2g_8', True, 1),\n",
       " ('monthly_3g_6', False, 24),\n",
       " ('monthly_3g_7', True, 1),\n",
       " ('monthly_3g_8', True, 1),\n",
       " ('sachet_3g_6', False, 25),\n",
       " ('sachet_3g_7', False, 34),\n",
       " ('sachet_3g_8', True, 1),\n",
       " ('aon', True, 1),\n",
       " ('aug_vbc_3g', True, 1),\n",
       " ('jul_vbc_3g', True, 1),\n",
       " ('jun_vbc_3g', False, 53),\n",
       " ('total_data_recharge_amnt_6', False, 30),\n",
       " ('total_data_recharge_amnt_7', False, 52),\n",
       " ('total_data_recharge_amnt_8', False, 33),\n",
       " ('total_recharge_amnt_6', False, 64),\n",
       " ('total_recharge_amnt_7', False, 56),\n",
       " ('total_recharge_amnt_8', False, 11),\n",
       " ('average_amnt_6_7', False, 67)]"
      ]
     },
     "execution_count": 57,
     "metadata": {},
     "output_type": "execute_result"
    }
   ],
   "source": [
    "# to see the selected columns\n",
    "list(zip(X_resampled.columns, rfe.support_, rfe.ranking_))"
   ]
  },
  {
   "cell_type": "code",
   "execution_count": 58,
   "id": "bc628327",
   "metadata": {},
   "outputs": [],
   "source": [
    "col = X_resampled.columns[rfe.support_]"
   ]
  },
  {
   "cell_type": "code",
   "execution_count": 59,
   "id": "bbbd2363",
   "metadata": {},
   "outputs": [
    {
     "data": {
      "text/html": [
       "<table class=\"simpletable\">\n",
       "<caption>Generalized Linear Model Regression Results</caption>\n",
       "<tr>\n",
       "  <th>Dep. Variable:</th>   <td>churn_probability</td> <th>  No. Observations:  </th>  <td> 27020</td> \n",
       "</tr>\n",
       "<tr>\n",
       "  <th>Model:</th>                  <td>GLM</td>        <th>  Df Residuals:      </th>  <td> 26950</td> \n",
       "</tr>\n",
       "<tr>\n",
       "  <th>Model Family:</th>        <td>Binomial</td>      <th>  Df Model:          </th>  <td>    69</td> \n",
       "</tr>\n",
       "<tr>\n",
       "  <th>Link Function:</th>         <td>logit</td>       <th>  Scale:             </th> <td>  1.0000</td>\n",
       "</tr>\n",
       "<tr>\n",
       "  <th>Method:</th>                <td>IRLS</td>        <th>  Log-Likelihood:    </th> <td> -8819.5</td>\n",
       "</tr>\n",
       "<tr>\n",
       "  <th>Date:</th>            <td>Fri, 16 Sep 2022</td>  <th>  Deviance:          </th> <td>  17639.</td>\n",
       "</tr>\n",
       "<tr>\n",
       "  <th>Time:</th>                <td>16:18:36</td>      <th>  Pearson chi2:      </th> <td>1.89e+05</td>\n",
       "</tr>\n",
       "<tr>\n",
       "  <th>No. Iterations:</th>          <td>7</td>         <th>                     </th>     <td> </td>   \n",
       "</tr>\n",
       "<tr>\n",
       "  <th>Covariance Type:</th>     <td>nonrobust</td>     <th>                     </th>     <td> </td>   \n",
       "</tr>\n",
       "</table>\n",
       "<table class=\"simpletable\">\n",
       "<tr>\n",
       "           <td></td>             <th>coef</th>     <th>std err</th>      <th>z</th>      <th>P>|z|</th>  <th>[0.025</th>    <th>0.975]</th>  \n",
       "</tr>\n",
       "<tr>\n",
       "  <th>const</th>              <td>   -3.2092</td> <td>    0.632</td> <td>   -5.077</td> <td> 0.000</td> <td>   -4.448</td> <td>   -1.970</td>\n",
       "</tr>\n",
       "<tr>\n",
       "  <th>arpu_6</th>             <td>    5.4729</td> <td>    3.417</td> <td>    1.601</td> <td> 0.109</td> <td>   -1.225</td> <td>   12.171</td>\n",
       "</tr>\n",
       "<tr>\n",
       "  <th>arpu_7</th>             <td>   20.4471</td> <td>    3.900</td> <td>    5.242</td> <td> 0.000</td> <td>   12.802</td> <td>   28.092</td>\n",
       "</tr>\n",
       "<tr>\n",
       "  <th>arpu_8</th>             <td>   36.9682</td> <td>    4.486</td> <td>    8.240</td> <td> 0.000</td> <td>   28.175</td> <td>   45.761</td>\n",
       "</tr>\n",
       "<tr>\n",
       "  <th>onnet_mou_7</th>        <td>    8.7831</td> <td>    2.161</td> <td>    4.064</td> <td> 0.000</td> <td>    4.547</td> <td>   13.019</td>\n",
       "</tr>\n",
       "<tr>\n",
       "  <th>offnet_mou_7</th>       <td>    7.5061</td> <td>    1.908</td> <td>    3.935</td> <td> 0.000</td> <td>    3.767</td> <td>   11.245</td>\n",
       "</tr>\n",
       "<tr>\n",
       "  <th>offnet_mou_8</th>       <td>  -45.4055</td> <td>    9.928</td> <td>   -4.573</td> <td> 0.000</td> <td>  -64.864</td> <td>  -25.947</td>\n",
       "</tr>\n",
       "<tr>\n",
       "  <th>roam_og_mou_6</th>      <td>    1.3731</td> <td>    0.830</td> <td>    1.654</td> <td> 0.098</td> <td>   -0.254</td> <td>    3.000</td>\n",
       "</tr>\n",
       "<tr>\n",
       "  <th>roam_og_mou_7</th>      <td>    1.2647</td> <td>    1.105</td> <td>    1.145</td> <td> 0.252</td> <td>   -0.900</td> <td>    3.430</td>\n",
       "</tr>\n",
       "<tr>\n",
       "  <th>roam_og_mou_8</th>      <td>   18.0930</td> <td>    3.002</td> <td>    6.027</td> <td> 0.000</td> <td>   12.209</td> <td>   23.977</td>\n",
       "</tr>\n",
       "<tr>\n",
       "  <th>loc_og_t2t_mou_8</th>   <td> 1.903e+04</td> <td> 3.89e+04</td> <td>    0.490</td> <td> 0.624</td> <td>-5.71e+04</td> <td> 9.52e+04</td>\n",
       "</tr>\n",
       "<tr>\n",
       "  <th>loc_og_t2m_mou_7</th>   <td>   -7.0585</td> <td>    1.655</td> <td>   -4.265</td> <td> 0.000</td> <td>  -10.302</td> <td>   -3.815</td>\n",
       "</tr>\n",
       "<tr>\n",
       "  <th>loc_og_t2m_mou_8</th>   <td> 8804.9074</td> <td> 1.79e+04</td> <td>    0.491</td> <td> 0.623</td> <td>-2.63e+04</td> <td> 4.39e+04</td>\n",
       "</tr>\n",
       "<tr>\n",
       "  <th>loc_og_t2f_mou_6</th>   <td>   -6.1586</td> <td>    1.712</td> <td>   -3.597</td> <td> 0.000</td> <td>   -9.514</td> <td>   -2.803</td>\n",
       "</tr>\n",
       "<tr>\n",
       "  <th>loc_og_t2f_mou_8</th>   <td> 1045.2719</td> <td> 2125.707</td> <td>    0.492</td> <td> 0.623</td> <td>-3121.037</td> <td> 5211.580</td>\n",
       "</tr>\n",
       "<tr>\n",
       "  <th>loc_og_t2c_mou_6</th>   <td>   -8.7202</td> <td>    1.324</td> <td>   -6.584</td> <td> 0.000</td> <td>  -11.316</td> <td>   -6.124</td>\n",
       "</tr>\n",
       "<tr>\n",
       "  <th>loc_og_mou_8</th>       <td>-1.954e+04</td> <td> 3.99e+04</td> <td>   -0.490</td> <td> 0.624</td> <td>-9.77e+04</td> <td> 5.86e+04</td>\n",
       "</tr>\n",
       "<tr>\n",
       "  <th>std_og_t2m_mou_8</th>   <td>   38.5106</td> <td>    9.953</td> <td>    3.869</td> <td> 0.000</td> <td>   19.004</td> <td>   58.018</td>\n",
       "</tr>\n",
       "<tr>\n",
       "  <th>std_og_t2f_mou_8</th>   <td>   -5.0067</td> <td>    1.783</td> <td>   -2.808</td> <td> 0.005</td> <td>   -8.501</td> <td>   -1.512</td>\n",
       "</tr>\n",
       "<tr>\n",
       "  <th>std_og_mou_6</th>       <td>    1.8536</td> <td>    0.545</td> <td>    3.398</td> <td> 0.001</td> <td>    0.784</td> <td>    2.923</td>\n",
       "</tr>\n",
       "<tr>\n",
       "  <th>std_og_mou_7</th>       <td>   -5.1736</td> <td>    2.246</td> <td>   -2.304</td> <td> 0.021</td> <td>   -9.575</td> <td>   -0.772</td>\n",
       "</tr>\n",
       "<tr>\n",
       "  <th>std_og_mou_8</th>       <td>   27.2578</td> <td>   28.378</td> <td>    0.961</td> <td> 0.337</td> <td>  -28.361</td> <td>   82.877</td>\n",
       "</tr>\n",
       "<tr>\n",
       "  <th>spl_og_mou_8</th>       <td>    0.8690</td> <td>    1.882</td> <td>    0.462</td> <td> 0.644</td> <td>   -2.820</td> <td>    4.558</td>\n",
       "</tr>\n",
       "<tr>\n",
       "  <th>total_og_mou_8</th>     <td>  -35.1888</td> <td>   28.587</td> <td>   -1.231</td> <td> 0.218</td> <td>  -91.218</td> <td>   20.840</td>\n",
       "</tr>\n",
       "<tr>\n",
       "  <th>loc_ic_t2t_mou_8</th>   <td>-5032.1442</td> <td> 9063.888</td> <td>   -0.555</td> <td> 0.579</td> <td>-2.28e+04</td> <td> 1.27e+04</td>\n",
       "</tr>\n",
       "<tr>\n",
       "  <th>loc_ic_t2m_mou_6</th>   <td>    2.5336</td> <td>    1.868</td> <td>    1.356</td> <td> 0.175</td> <td>   -1.128</td> <td>    6.195</td>\n",
       "</tr>\n",
       "<tr>\n",
       "  <th>loc_ic_t2m_mou_8</th>   <td>-5880.5036</td> <td> 1.06e+04</td> <td>   -0.555</td> <td> 0.579</td> <td>-2.66e+04</td> <td> 1.49e+04</td>\n",
       "</tr>\n",
       "<tr>\n",
       "  <th>loc_ic_t2f_mou_8</th>   <td>-1852.7869</td> <td> 3331.092</td> <td>   -0.556</td> <td> 0.578</td> <td>-8381.608</td> <td> 4676.034</td>\n",
       "</tr>\n",
       "<tr>\n",
       "  <th>loc_ic_mou_6</th>       <td>    8.8112</td> <td>    4.392</td> <td>    2.006</td> <td> 0.045</td> <td>    0.203</td> <td>   17.419</td>\n",
       "</tr>\n",
       "<tr>\n",
       "  <th>loc_ic_mou_7</th>       <td>   14.1384</td> <td>    1.650</td> <td>    8.567</td> <td> 0.000</td> <td>   10.904</td> <td>   17.373</td>\n",
       "</tr>\n",
       "<tr>\n",
       "  <th>loc_ic_mou_8</th>       <td> 6684.9783</td> <td> 1.21e+04</td> <td>    0.552</td> <td> 0.581</td> <td> -1.7e+04</td> <td> 3.04e+04</td>\n",
       "</tr>\n",
       "<tr>\n",
       "  <th>std_ic_t2t_mou_6</th>   <td>    5.3598</td> <td>    1.729</td> <td>    3.100</td> <td> 0.002</td> <td>    1.971</td> <td>    8.748</td>\n",
       "</tr>\n",
       "<tr>\n",
       "  <th>std_ic_t2t_mou_8</th>   <td> -733.0116</td> <td> 1.68e+04</td> <td>   -0.044</td> <td> 0.965</td> <td>-3.37e+04</td> <td> 3.23e+04</td>\n",
       "</tr>\n",
       "<tr>\n",
       "  <th>std_ic_t2m_mou_8</th>   <td> -603.7172</td> <td> 1.42e+04</td> <td>   -0.043</td> <td> 0.966</td> <td>-2.84e+04</td> <td> 2.72e+04</td>\n",
       "</tr>\n",
       "<tr>\n",
       "  <th>std_ic_t2f_mou_8</th>   <td> -307.1470</td> <td> 6863.300</td> <td>   -0.045</td> <td> 0.964</td> <td>-1.38e+04</td> <td> 1.31e+04</td>\n",
       "</tr>\n",
       "<tr>\n",
       "  <th>std_ic_mou_6</th>       <td>    4.2915</td> <td>    2.239</td> <td>    1.917</td> <td> 0.055</td> <td>   -0.096</td> <td>    8.679</td>\n",
       "</tr>\n",
       "<tr>\n",
       "  <th>std_ic_mou_8</th>       <td>  786.6750</td> <td> 1.86e+04</td> <td>    0.042</td> <td> 0.966</td> <td>-3.56e+04</td> <td> 3.72e+04</td>\n",
       "</tr>\n",
       "<tr>\n",
       "  <th>total_ic_mou_6</th>     <td>   -5.5084</td> <td>    3.879</td> <td>   -1.420</td> <td> 0.156</td> <td>  -13.111</td> <td>    2.094</td>\n",
       "</tr>\n",
       "<tr>\n",
       "  <th>total_ic_mou_8</th>     <td>  -10.5515</td> <td>   18.215</td> <td>   -0.579</td> <td> 0.562</td> <td>  -46.253</td> <td>   25.150</td>\n",
       "</tr>\n",
       "<tr>\n",
       "  <th>spl_ic_mou_8</th>       <td>   -7.8903</td> <td>    0.636</td> <td>  -12.398</td> <td> 0.000</td> <td>   -9.138</td> <td>   -6.643</td>\n",
       "</tr>\n",
       "<tr>\n",
       "  <th>isd_ic_mou_8</th>       <td>    6.3158</td> <td>    7.336</td> <td>    0.861</td> <td> 0.389</td> <td>   -8.062</td> <td>   20.693</td>\n",
       "</tr>\n",
       "<tr>\n",
       "  <th>total_rech_num_6</th>   <td>   -0.4673</td> <td>    0.679</td> <td>   -0.688</td> <td> 0.491</td> <td>   -1.798</td> <td>    0.863</td>\n",
       "</tr>\n",
       "<tr>\n",
       "  <th>total_rech_num_7</th>   <td>    4.0019</td> <td>    0.665</td> <td>    6.017</td> <td> 0.000</td> <td>    2.698</td> <td>    5.305</td>\n",
       "</tr>\n",
       "<tr>\n",
       "  <th>total_rech_num_8</th>   <td>   -8.2119</td> <td>    0.784</td> <td>  -10.470</td> <td> 0.000</td> <td>   -9.749</td> <td>   -6.675</td>\n",
       "</tr>\n",
       "<tr>\n",
       "  <th>total_rech_amt_6</th>   <td>   -0.9983</td> <td>    3.074</td> <td>   -0.325</td> <td> 0.745</td> <td>   -7.024</td> <td>    5.027</td>\n",
       "</tr>\n",
       "<tr>\n",
       "  <th>total_rech_amt_7</th>   <td>  -13.4863</td> <td>    3.599</td> <td>   -3.747</td> <td> 0.000</td> <td>  -20.541</td> <td>   -6.432</td>\n",
       "</tr>\n",
       "<tr>\n",
       "  <th>total_rech_amt_8</th>   <td>  -38.0224</td> <td>    4.327</td> <td>   -8.787</td> <td> 0.000</td> <td>  -46.503</td> <td>  -29.542</td>\n",
       "</tr>\n",
       "<tr>\n",
       "  <th>max_rech_amt_6</th>     <td>   -3.0762</td> <td>    0.923</td> <td>   -3.331</td> <td> 0.001</td> <td>   -4.886</td> <td>   -1.266</td>\n",
       "</tr>\n",
       "<tr>\n",
       "  <th>max_rech_amt_7</th>     <td>    0.2478</td> <td>    0.772</td> <td>    0.321</td> <td> 0.748</td> <td>   -1.265</td> <td>    1.761</td>\n",
       "</tr>\n",
       "<tr>\n",
       "  <th>max_rech_amt_8</th>     <td>   12.1690</td> <td>    1.227</td> <td>    9.919</td> <td> 0.000</td> <td>    9.765</td> <td>   14.574</td>\n",
       "</tr>\n",
       "<tr>\n",
       "  <th>last_day_rch_amt_8</th> <td>  -16.0715</td> <td>    1.162</td> <td>  -13.834</td> <td> 0.000</td> <td>  -18.348</td> <td>  -13.795</td>\n",
       "</tr>\n",
       "<tr>\n",
       "  <th>total_rech_data_6</th>  <td>    2.9401</td> <td>    0.767</td> <td>    3.831</td> <td> 0.000</td> <td>    1.436</td> <td>    4.444</td>\n",
       "</tr>\n",
       "<tr>\n",
       "  <th>total_rech_data_8</th>  <td>   -4.9664</td> <td>    0.882</td> <td>   -5.628</td> <td> 0.000</td> <td>   -6.696</td> <td>   -3.237</td>\n",
       "</tr>\n",
       "<tr>\n",
       "  <th>max_rech_data_6</th>    <td>    3.9180</td> <td>    0.763</td> <td>    5.135</td> <td> 0.000</td> <td>    2.423</td> <td>    5.413</td>\n",
       "</tr>\n",
       "<tr>\n",
       "  <th>max_rech_data_7</th>    <td>    0.3538</td> <td>    0.644</td> <td>    0.550</td> <td> 0.582</td> <td>   -0.907</td> <td>    1.615</td>\n",
       "</tr>\n",
       "<tr>\n",
       "  <th>max_rech_data_8</th>    <td>   -7.5739</td> <td>    1.026</td> <td>   -7.379</td> <td> 0.000</td> <td>   -9.586</td> <td>   -5.562</td>\n",
       "</tr>\n",
       "<tr>\n",
       "  <th>av_rech_amt_data_6</th> <td>  -11.1079</td> <td>    1.940</td> <td>   -5.726</td> <td> 0.000</td> <td>  -14.910</td> <td>   -7.306</td>\n",
       "</tr>\n",
       "<tr>\n",
       "  <th>av_rech_amt_data_8</th> <td>    3.5214</td> <td>    2.315</td> <td>    1.521</td> <td> 0.128</td> <td>   -1.015</td> <td>    8.058</td>\n",
       "</tr>\n",
       "<tr>\n",
       "  <th>vol_2g_mb_6</th>        <td>   -1.0934</td> <td>    0.754</td> <td>   -1.449</td> <td> 0.147</td> <td>   -2.572</td> <td>    0.385</td>\n",
       "</tr>\n",
       "<tr>\n",
       "  <th>vol_2g_mb_7</th>        <td>    2.9941</td> <td>    0.856</td> <td>    3.497</td> <td> 0.000</td> <td>    1.316</td> <td>    4.672</td>\n",
       "</tr>\n",
       "<tr>\n",
       "  <th>vol_2g_mb_8</th>        <td>   -7.8954</td> <td>    1.291</td> <td>   -6.115</td> <td> 0.000</td> <td>  -10.426</td> <td>   -5.365</td>\n",
       "</tr>\n",
       "<tr>\n",
       "  <th>vol_3g_mb_8</th>        <td>   -5.0658</td> <td>    2.157</td> <td>   -2.349</td> <td> 0.019</td> <td>   -9.293</td> <td>   -0.839</td>\n",
       "</tr>\n",
       "<tr>\n",
       "  <th>monthly_2g_7</th>       <td>   -1.4096</td> <td>    0.404</td> <td>   -3.490</td> <td> 0.000</td> <td>   -2.201</td> <td>   -0.618</td>\n",
       "</tr>\n",
       "<tr>\n",
       "  <th>monthly_2g_8</th>       <td>   -4.3083</td> <td>    0.601</td> <td>   -7.171</td> <td> 0.000</td> <td>   -5.486</td> <td>   -3.131</td>\n",
       "</tr>\n",
       "<tr>\n",
       "  <th>sachet_2g_8</th>        <td>   -3.6283</td> <td>    0.571</td> <td>   -6.354</td> <td> 0.000</td> <td>   -4.747</td> <td>   -2.509</td>\n",
       "</tr>\n",
       "<tr>\n",
       "  <th>monthly_3g_7</th>       <td>   -0.0088</td> <td>    1.015</td> <td>   -0.009</td> <td> 0.993</td> <td>   -1.997</td> <td>    1.980</td>\n",
       "</tr>\n",
       "<tr>\n",
       "  <th>monthly_3g_8</th>       <td>   -5.2662</td> <td>    1.693</td> <td>   -3.110</td> <td> 0.002</td> <td>   -8.585</td> <td>   -1.948</td>\n",
       "</tr>\n",
       "<tr>\n",
       "  <th>sachet_3g_8</th>        <td>   -1.6786</td> <td>    1.242</td> <td>   -1.351</td> <td> 0.177</td> <td>   -4.114</td> <td>    0.757</td>\n",
       "</tr>\n",
       "<tr>\n",
       "  <th>aon</th>                <td>   -0.5812</td> <td>    0.101</td> <td>   -5.752</td> <td> 0.000</td> <td>   -0.779</td> <td>   -0.383</td>\n",
       "</tr>\n",
       "<tr>\n",
       "  <th>aug_vbc_3g</th>         <td>   -6.1136</td> <td>    1.656</td> <td>   -3.691</td> <td> 0.000</td> <td>   -9.360</td> <td>   -2.867</td>\n",
       "</tr>\n",
       "<tr>\n",
       "  <th>jul_vbc_3g</th>         <td>    1.2803</td> <td>    0.804</td> <td>    1.593</td> <td> 0.111</td> <td>   -0.295</td> <td>    2.856</td>\n",
       "</tr>\n",
       "</table>"
      ],
      "text/plain": [
       "<class 'statsmodels.iolib.summary.Summary'>\n",
       "\"\"\"\n",
       "                 Generalized Linear Model Regression Results                  \n",
       "==============================================================================\n",
       "Dep. Variable:      churn_probability   No. Observations:                27020\n",
       "Model:                            GLM   Df Residuals:                    26950\n",
       "Model Family:                Binomial   Df Model:                           69\n",
       "Link Function:                  logit   Scale:                          1.0000\n",
       "Method:                          IRLS   Log-Likelihood:                -8819.5\n",
       "Date:                Fri, 16 Sep 2022   Deviance:                       17639.\n",
       "Time:                        16:18:36   Pearson chi2:                 1.89e+05\n",
       "No. Iterations:                     7                                         \n",
       "Covariance Type:            nonrobust                                         \n",
       "======================================================================================\n",
       "                         coef    std err          z      P>|z|      [0.025      0.975]\n",
       "--------------------------------------------------------------------------------------\n",
       "const                 -3.2092      0.632     -5.077      0.000      -4.448      -1.970\n",
       "arpu_6                 5.4729      3.417      1.601      0.109      -1.225      12.171\n",
       "arpu_7                20.4471      3.900      5.242      0.000      12.802      28.092\n",
       "arpu_8                36.9682      4.486      8.240      0.000      28.175      45.761\n",
       "onnet_mou_7            8.7831      2.161      4.064      0.000       4.547      13.019\n",
       "offnet_mou_7           7.5061      1.908      3.935      0.000       3.767      11.245\n",
       "offnet_mou_8         -45.4055      9.928     -4.573      0.000     -64.864     -25.947\n",
       "roam_og_mou_6          1.3731      0.830      1.654      0.098      -0.254       3.000\n",
       "roam_og_mou_7          1.2647      1.105      1.145      0.252      -0.900       3.430\n",
       "roam_og_mou_8         18.0930      3.002      6.027      0.000      12.209      23.977\n",
       "loc_og_t2t_mou_8    1.903e+04   3.89e+04      0.490      0.624   -5.71e+04    9.52e+04\n",
       "loc_og_t2m_mou_7      -7.0585      1.655     -4.265      0.000     -10.302      -3.815\n",
       "loc_og_t2m_mou_8    8804.9074   1.79e+04      0.491      0.623   -2.63e+04    4.39e+04\n",
       "loc_og_t2f_mou_6      -6.1586      1.712     -3.597      0.000      -9.514      -2.803\n",
       "loc_og_t2f_mou_8    1045.2719   2125.707      0.492      0.623   -3121.037    5211.580\n",
       "loc_og_t2c_mou_6      -8.7202      1.324     -6.584      0.000     -11.316      -6.124\n",
       "loc_og_mou_8       -1.954e+04   3.99e+04     -0.490      0.624   -9.77e+04    5.86e+04\n",
       "std_og_t2m_mou_8      38.5106      9.953      3.869      0.000      19.004      58.018\n",
       "std_og_t2f_mou_8      -5.0067      1.783     -2.808      0.005      -8.501      -1.512\n",
       "std_og_mou_6           1.8536      0.545      3.398      0.001       0.784       2.923\n",
       "std_og_mou_7          -5.1736      2.246     -2.304      0.021      -9.575      -0.772\n",
       "std_og_mou_8          27.2578     28.378      0.961      0.337     -28.361      82.877\n",
       "spl_og_mou_8           0.8690      1.882      0.462      0.644      -2.820       4.558\n",
       "total_og_mou_8       -35.1888     28.587     -1.231      0.218     -91.218      20.840\n",
       "loc_ic_t2t_mou_8   -5032.1442   9063.888     -0.555      0.579   -2.28e+04    1.27e+04\n",
       "loc_ic_t2m_mou_6       2.5336      1.868      1.356      0.175      -1.128       6.195\n",
       "loc_ic_t2m_mou_8   -5880.5036   1.06e+04     -0.555      0.579   -2.66e+04    1.49e+04\n",
       "loc_ic_t2f_mou_8   -1852.7869   3331.092     -0.556      0.578   -8381.608    4676.034\n",
       "loc_ic_mou_6           8.8112      4.392      2.006      0.045       0.203      17.419\n",
       "loc_ic_mou_7          14.1384      1.650      8.567      0.000      10.904      17.373\n",
       "loc_ic_mou_8        6684.9783   1.21e+04      0.552      0.581    -1.7e+04    3.04e+04\n",
       "std_ic_t2t_mou_6       5.3598      1.729      3.100      0.002       1.971       8.748\n",
       "std_ic_t2t_mou_8    -733.0116   1.68e+04     -0.044      0.965   -3.37e+04    3.23e+04\n",
       "std_ic_t2m_mou_8    -603.7172   1.42e+04     -0.043      0.966   -2.84e+04    2.72e+04\n",
       "std_ic_t2f_mou_8    -307.1470   6863.300     -0.045      0.964   -1.38e+04    1.31e+04\n",
       "std_ic_mou_6           4.2915      2.239      1.917      0.055      -0.096       8.679\n",
       "std_ic_mou_8         786.6750   1.86e+04      0.042      0.966   -3.56e+04    3.72e+04\n",
       "total_ic_mou_6        -5.5084      3.879     -1.420      0.156     -13.111       2.094\n",
       "total_ic_mou_8       -10.5515     18.215     -0.579      0.562     -46.253      25.150\n",
       "spl_ic_mou_8          -7.8903      0.636    -12.398      0.000      -9.138      -6.643\n",
       "isd_ic_mou_8           6.3158      7.336      0.861      0.389      -8.062      20.693\n",
       "total_rech_num_6      -0.4673      0.679     -0.688      0.491      -1.798       0.863\n",
       "total_rech_num_7       4.0019      0.665      6.017      0.000       2.698       5.305\n",
       "total_rech_num_8      -8.2119      0.784    -10.470      0.000      -9.749      -6.675\n",
       "total_rech_amt_6      -0.9983      3.074     -0.325      0.745      -7.024       5.027\n",
       "total_rech_amt_7     -13.4863      3.599     -3.747      0.000     -20.541      -6.432\n",
       "total_rech_amt_8     -38.0224      4.327     -8.787      0.000     -46.503     -29.542\n",
       "max_rech_amt_6        -3.0762      0.923     -3.331      0.001      -4.886      -1.266\n",
       "max_rech_amt_7         0.2478      0.772      0.321      0.748      -1.265       1.761\n",
       "max_rech_amt_8        12.1690      1.227      9.919      0.000       9.765      14.574\n",
       "last_day_rch_amt_8   -16.0715      1.162    -13.834      0.000     -18.348     -13.795\n",
       "total_rech_data_6      2.9401      0.767      3.831      0.000       1.436       4.444\n",
       "total_rech_data_8     -4.9664      0.882     -5.628      0.000      -6.696      -3.237\n",
       "max_rech_data_6        3.9180      0.763      5.135      0.000       2.423       5.413\n",
       "max_rech_data_7        0.3538      0.644      0.550      0.582      -0.907       1.615\n",
       "max_rech_data_8       -7.5739      1.026     -7.379      0.000      -9.586      -5.562\n",
       "av_rech_amt_data_6   -11.1079      1.940     -5.726      0.000     -14.910      -7.306\n",
       "av_rech_amt_data_8     3.5214      2.315      1.521      0.128      -1.015       8.058\n",
       "vol_2g_mb_6           -1.0934      0.754     -1.449      0.147      -2.572       0.385\n",
       "vol_2g_mb_7            2.9941      0.856      3.497      0.000       1.316       4.672\n",
       "vol_2g_mb_8           -7.8954      1.291     -6.115      0.000     -10.426      -5.365\n",
       "vol_3g_mb_8           -5.0658      2.157     -2.349      0.019      -9.293      -0.839\n",
       "monthly_2g_7          -1.4096      0.404     -3.490      0.000      -2.201      -0.618\n",
       "monthly_2g_8          -4.3083      0.601     -7.171      0.000      -5.486      -3.131\n",
       "sachet_2g_8           -3.6283      0.571     -6.354      0.000      -4.747      -2.509\n",
       "monthly_3g_7          -0.0088      1.015     -0.009      0.993      -1.997       1.980\n",
       "monthly_3g_8          -5.2662      1.693     -3.110      0.002      -8.585      -1.948\n",
       "sachet_3g_8           -1.6786      1.242     -1.351      0.177      -4.114       0.757\n",
       "aon                   -0.5812      0.101     -5.752      0.000      -0.779      -0.383\n",
       "aug_vbc_3g            -6.1136      1.656     -3.691      0.000      -9.360      -2.867\n",
       "jul_vbc_3g             1.2803      0.804      1.593      0.111      -0.295       2.856\n",
       "======================================================================================\n",
       "\"\"\""
      ]
     },
     "execution_count": 59,
     "metadata": {},
     "output_type": "execute_result"
    }
   ],
   "source": [
    "X_resampled_sm = sm.add_constant(X_resampled[col])\n",
    "logm2 = sm.GLM(y_resampled, X_resampled_sm, family=sm.families.Binomial())\n",
    "res = logm2.fit()\n",
    "res.summary()"
   ]
  },
  {
   "cell_type": "markdown",
   "id": "3270c989",
   "metadata": {},
   "source": [
    "### Making predictions on the test set"
   ]
  },
  {
   "cell_type": "code",
   "execution_count": 60,
   "id": "de453884",
   "metadata": {},
   "outputs": [
    {
     "name": "stdout",
     "output_type": "stream",
     "text": [
      "<class 'pandas.core.frame.DataFrame'>\n",
      "Int64Index: 6304 entries, 5662 to 36425\n",
      "Data columns (total 70 columns):\n",
      " #   Column              Non-Null Count  Dtype  \n",
      "---  ------              --------------  -----  \n",
      " 0   arpu_6              6304 non-null   float64\n",
      " 1   arpu_7              6304 non-null   float64\n",
      " 2   arpu_8              6304 non-null   float64\n",
      " 3   onnet_mou_7         6304 non-null   float64\n",
      " 4   offnet_mou_7        6304 non-null   float64\n",
      " 5   offnet_mou_8        6304 non-null   float64\n",
      " 6   roam_og_mou_6       6304 non-null   float64\n",
      " 7   roam_og_mou_7       6304 non-null   float64\n",
      " 8   roam_og_mou_8       6304 non-null   float64\n",
      " 9   loc_og_t2t_mou_8    6304 non-null   float64\n",
      " 10  loc_og_t2m_mou_7    6304 non-null   float64\n",
      " 11  loc_og_t2m_mou_8    6304 non-null   float64\n",
      " 12  loc_og_t2f_mou_6    6304 non-null   float64\n",
      " 13  loc_og_t2f_mou_8    6304 non-null   float64\n",
      " 14  loc_og_t2c_mou_6    6304 non-null   float64\n",
      " 15  loc_og_mou_8        6304 non-null   float64\n",
      " 16  std_og_t2m_mou_8    6304 non-null   float64\n",
      " 17  std_og_t2f_mou_8    6304 non-null   float64\n",
      " 18  std_og_mou_6        6304 non-null   float64\n",
      " 19  std_og_mou_7        6304 non-null   float64\n",
      " 20  std_og_mou_8        6304 non-null   float64\n",
      " 21  spl_og_mou_8        6304 non-null   float64\n",
      " 22  total_og_mou_8      6304 non-null   float64\n",
      " 23  loc_ic_t2t_mou_8    6304 non-null   float64\n",
      " 24  loc_ic_t2m_mou_6    6304 non-null   float64\n",
      " 25  loc_ic_t2m_mou_8    6304 non-null   float64\n",
      " 26  loc_ic_t2f_mou_8    6304 non-null   float64\n",
      " 27  loc_ic_mou_6        6304 non-null   float64\n",
      " 28  loc_ic_mou_7        6304 non-null   float64\n",
      " 29  loc_ic_mou_8        6304 non-null   float64\n",
      " 30  std_ic_t2t_mou_6    6304 non-null   float64\n",
      " 31  std_ic_t2t_mou_8    6304 non-null   float64\n",
      " 32  std_ic_t2m_mou_8    6304 non-null   float64\n",
      " 33  std_ic_t2f_mou_8    6304 non-null   float64\n",
      " 34  std_ic_mou_6        6304 non-null   float64\n",
      " 35  std_ic_mou_8        6304 non-null   float64\n",
      " 36  total_ic_mou_6      6304 non-null   float64\n",
      " 37  total_ic_mou_8      6304 non-null   float64\n",
      " 38  spl_ic_mou_8        6304 non-null   float64\n",
      " 39  isd_ic_mou_8        6304 non-null   float64\n",
      " 40  total_rech_num_6    6304 non-null   int64  \n",
      " 41  total_rech_num_7    6304 non-null   int64  \n",
      " 42  total_rech_num_8    6304 non-null   int64  \n",
      " 43  total_rech_amt_6    6304 non-null   int64  \n",
      " 44  total_rech_amt_7    6304 non-null   int64  \n",
      " 45  total_rech_amt_8    6304 non-null   int64  \n",
      " 46  max_rech_amt_6      6304 non-null   int64  \n",
      " 47  max_rech_amt_7      6304 non-null   int64  \n",
      " 48  max_rech_amt_8      6304 non-null   int64  \n",
      " 49  last_day_rch_amt_8  6304 non-null   int64  \n",
      " 50  total_rech_data_6   6304 non-null   float64\n",
      " 51  total_rech_data_8   6304 non-null   float64\n",
      " 52  max_rech_data_6     6304 non-null   float64\n",
      " 53  max_rech_data_7     6304 non-null   float64\n",
      " 54  max_rech_data_8     6304 non-null   float64\n",
      " 55  av_rech_amt_data_6  6304 non-null   float64\n",
      " 56  av_rech_amt_data_8  6304 non-null   float64\n",
      " 57  vol_2g_mb_6         6304 non-null   float64\n",
      " 58  vol_2g_mb_7         6304 non-null   float64\n",
      " 59  vol_2g_mb_8         6304 non-null   float64\n",
      " 60  vol_3g_mb_8         6304 non-null   float64\n",
      " 61  monthly_2g_7        6304 non-null   int64  \n",
      " 62  monthly_2g_8        6304 non-null   int64  \n",
      " 63  sachet_2g_8         6304 non-null   int64  \n",
      " 64  monthly_3g_7        6304 non-null   int64  \n",
      " 65  monthly_3g_8        6304 non-null   int64  \n",
      " 66  sachet_3g_8         6304 non-null   int64  \n",
      " 67  aon                 6304 non-null   int64  \n",
      " 68  aug_vbc_3g          6304 non-null   float64\n",
      " 69  jul_vbc_3g          6304 non-null   float64\n",
      "dtypes: float64(53), int64(17)\n",
      "memory usage: 3.4 MB\n"
     ]
    }
   ],
   "source": [
    "X_test = X_test[col]\n",
    "X_test.info()"
   ]
  },
  {
   "cell_type": "code",
   "execution_count": 61,
   "id": "dd20e6fb",
   "metadata": {},
   "outputs": [],
   "source": [
    "X_test_sm = sm.add_constant(X_test)"
   ]
  },
  {
   "cell_type": "code",
   "execution_count": 62,
   "id": "df6e96f4",
   "metadata": {},
   "outputs": [],
   "source": [
    "y_test_pred = res.predict(X_test_sm)"
   ]
  },
  {
   "cell_type": "code",
   "execution_count": 63,
   "id": "2c63d4ac",
   "metadata": {},
   "outputs": [
    {
     "data": {
      "text/plain": [
       "5662     0.0\n",
       "37574    0.0\n",
       "58341    0.0\n",
       "23282    0.0\n",
       "30561    0.0\n",
       "45844    0.0\n",
       "30159    0.0\n",
       "62778    0.0\n",
       "45559    0.0\n",
       "35274    0.0\n",
       "dtype: float64"
      ]
     },
     "execution_count": 63,
     "metadata": {},
     "output_type": "execute_result"
    }
   ],
   "source": [
    "y_test_pred[:10]"
   ]
  },
  {
   "cell_type": "code",
   "execution_count": 64,
   "id": "6dbfcf16",
   "metadata": {},
   "outputs": [
    {
     "data": {
      "text/html": [
       "<div>\n",
       "<style scoped>\n",
       "    .dataframe tbody tr th:only-of-type {\n",
       "        vertical-align: middle;\n",
       "    }\n",
       "\n",
       "    .dataframe tbody tr th {\n",
       "        vertical-align: top;\n",
       "    }\n",
       "\n",
       "    .dataframe thead th {\n",
       "        text-align: right;\n",
       "    }\n",
       "</style>\n",
       "<table border=\"1\" class=\"dataframe\">\n",
       "  <thead>\n",
       "    <tr style=\"text-align: right;\">\n",
       "      <th></th>\n",
       "      <th>const</th>\n",
       "      <th>arpu_6</th>\n",
       "      <th>arpu_7</th>\n",
       "      <th>arpu_8</th>\n",
       "      <th>onnet_mou_7</th>\n",
       "      <th>offnet_mou_7</th>\n",
       "      <th>offnet_mou_8</th>\n",
       "      <th>roam_og_mou_6</th>\n",
       "      <th>roam_og_mou_7</th>\n",
       "      <th>roam_og_mou_8</th>\n",
       "      <th>...</th>\n",
       "      <th>vol_3g_mb_8</th>\n",
       "      <th>monthly_2g_7</th>\n",
       "      <th>monthly_2g_8</th>\n",
       "      <th>sachet_2g_8</th>\n",
       "      <th>monthly_3g_7</th>\n",
       "      <th>monthly_3g_8</th>\n",
       "      <th>sachet_3g_8</th>\n",
       "      <th>aon</th>\n",
       "      <th>aug_vbc_3g</th>\n",
       "      <th>jul_vbc_3g</th>\n",
       "    </tr>\n",
       "  </thead>\n",
       "  <tbody>\n",
       "    <tr>\n",
       "      <th>5662</th>\n",
       "      <td>1.0</td>\n",
       "      <td>554.740</td>\n",
       "      <td>782.352</td>\n",
       "      <td>673.692</td>\n",
       "      <td>38.63</td>\n",
       "      <td>845.83</td>\n",
       "      <td>661.89</td>\n",
       "      <td>0.0</td>\n",
       "      <td>0.00</td>\n",
       "      <td>0.0</td>\n",
       "      <td>...</td>\n",
       "      <td>0.0</td>\n",
       "      <td>0</td>\n",
       "      <td>0</td>\n",
       "      <td>0</td>\n",
       "      <td>0</td>\n",
       "      <td>0</td>\n",
       "      <td>0</td>\n",
       "      <td>1360</td>\n",
       "      <td>0.00</td>\n",
       "      <td>0.0</td>\n",
       "    </tr>\n",
       "    <tr>\n",
       "      <th>37574</th>\n",
       "      <td>1.0</td>\n",
       "      <td>1563.157</td>\n",
       "      <td>1579.675</td>\n",
       "      <td>1256.565</td>\n",
       "      <td>3158.18</td>\n",
       "      <td>1144.44</td>\n",
       "      <td>1327.03</td>\n",
       "      <td>0.0</td>\n",
       "      <td>0.00</td>\n",
       "      <td>0.0</td>\n",
       "      <td>...</td>\n",
       "      <td>0.0</td>\n",
       "      <td>0</td>\n",
       "      <td>0</td>\n",
       "      <td>0</td>\n",
       "      <td>0</td>\n",
       "      <td>0</td>\n",
       "      <td>0</td>\n",
       "      <td>834</td>\n",
       "      <td>0.00</td>\n",
       "      <td>0.0</td>\n",
       "    </tr>\n",
       "    <tr>\n",
       "      <th>58341</th>\n",
       "      <td>1.0</td>\n",
       "      <td>594.217</td>\n",
       "      <td>796.737</td>\n",
       "      <td>996.393</td>\n",
       "      <td>1200.53</td>\n",
       "      <td>186.48</td>\n",
       "      <td>585.36</td>\n",
       "      <td>0.0</td>\n",
       "      <td>0.00</td>\n",
       "      <td>0.0</td>\n",
       "      <td>...</td>\n",
       "      <td>0.0</td>\n",
       "      <td>0</td>\n",
       "      <td>0</td>\n",
       "      <td>0</td>\n",
       "      <td>0</td>\n",
       "      <td>0</td>\n",
       "      <td>0</td>\n",
       "      <td>594</td>\n",
       "      <td>0.00</td>\n",
       "      <td>0.0</td>\n",
       "    </tr>\n",
       "    <tr>\n",
       "      <th>23282</th>\n",
       "      <td>1.0</td>\n",
       "      <td>352.160</td>\n",
       "      <td>197.245</td>\n",
       "      <td>365.564</td>\n",
       "      <td>179.88</td>\n",
       "      <td>116.58</td>\n",
       "      <td>507.64</td>\n",
       "      <td>0.0</td>\n",
       "      <td>34.96</td>\n",
       "      <td>0.0</td>\n",
       "      <td>...</td>\n",
       "      <td>0.0</td>\n",
       "      <td>0</td>\n",
       "      <td>0</td>\n",
       "      <td>3</td>\n",
       "      <td>0</td>\n",
       "      <td>0</td>\n",
       "      <td>0</td>\n",
       "      <td>1164</td>\n",
       "      <td>0.00</td>\n",
       "      <td>0.0</td>\n",
       "    </tr>\n",
       "    <tr>\n",
       "      <th>30561</th>\n",
       "      <td>1.0</td>\n",
       "      <td>332.040</td>\n",
       "      <td>275.976</td>\n",
       "      <td>267.033</td>\n",
       "      <td>96.89</td>\n",
       "      <td>178.24</td>\n",
       "      <td>424.68</td>\n",
       "      <td>0.0</td>\n",
       "      <td>0.00</td>\n",
       "      <td>0.0</td>\n",
       "      <td>...</td>\n",
       "      <td>0.0</td>\n",
       "      <td>0</td>\n",
       "      <td>0</td>\n",
       "      <td>0</td>\n",
       "      <td>0</td>\n",
       "      <td>0</td>\n",
       "      <td>0</td>\n",
       "      <td>635</td>\n",
       "      <td>31.05</td>\n",
       "      <td>337.7</td>\n",
       "    </tr>\n",
       "  </tbody>\n",
       "</table>\n",
       "<p>5 rows × 71 columns</p>\n",
       "</div>"
      ],
      "text/plain": [
       "       const    arpu_6    arpu_7    arpu_8  onnet_mou_7  offnet_mou_7  \\\n",
       "5662     1.0   554.740   782.352   673.692        38.63        845.83   \n",
       "37574    1.0  1563.157  1579.675  1256.565      3158.18       1144.44   \n",
       "58341    1.0   594.217   796.737   996.393      1200.53        186.48   \n",
       "23282    1.0   352.160   197.245   365.564       179.88        116.58   \n",
       "30561    1.0   332.040   275.976   267.033        96.89        178.24   \n",
       "\n",
       "       offnet_mou_8  roam_og_mou_6  roam_og_mou_7  roam_og_mou_8  ...  \\\n",
       "5662         661.89            0.0           0.00            0.0  ...   \n",
       "37574       1327.03            0.0           0.00            0.0  ...   \n",
       "58341        585.36            0.0           0.00            0.0  ...   \n",
       "23282        507.64            0.0          34.96            0.0  ...   \n",
       "30561        424.68            0.0           0.00            0.0  ...   \n",
       "\n",
       "       vol_3g_mb_8  monthly_2g_7  monthly_2g_8  sachet_2g_8  monthly_3g_7  \\\n",
       "5662           0.0             0             0            0             0   \n",
       "37574          0.0             0             0            0             0   \n",
       "58341          0.0             0             0            0             0   \n",
       "23282          0.0             0             0            3             0   \n",
       "30561          0.0             0             0            0             0   \n",
       "\n",
       "       monthly_3g_8  sachet_3g_8   aon  aug_vbc_3g  jul_vbc_3g  \n",
       "5662              0            0  1360        0.00         0.0  \n",
       "37574             0            0   834        0.00         0.0  \n",
       "58341             0            0   594        0.00         0.0  \n",
       "23282             0            0  1164        0.00         0.0  \n",
       "30561             0            0   635       31.05       337.7  \n",
       "\n",
       "[5 rows x 71 columns]"
      ]
     },
     "execution_count": 64,
     "metadata": {},
     "output_type": "execute_result"
    }
   ],
   "source": [
    "X_test_sm.head()"
   ]
  },
  {
   "cell_type": "code",
   "execution_count": 65,
   "id": "2fb4790c",
   "metadata": {},
   "outputs": [
    {
     "data": {
      "text/plain": [
       "(27020, 71)"
      ]
     },
     "execution_count": 65,
     "metadata": {},
     "output_type": "execute_result"
    }
   ],
   "source": [
    "X_resampled_sm.shape"
   ]
  },
  {
   "cell_type": "code",
   "execution_count": 66,
   "id": "fc21710b",
   "metadata": {},
   "outputs": [],
   "source": [
    "y_pred_train = res.predict(X_resampled_sm)"
   ]
  },
  {
   "cell_type": "code",
   "execution_count": 67,
   "id": "2ef71f63",
   "metadata": {},
   "outputs": [
    {
     "data": {
      "text/plain": [
       "0    0.998298\n",
       "1    0.080075\n",
       "2    0.094492\n",
       "3    0.036949\n",
       "4    0.003562\n",
       "dtype: float64"
      ]
     },
     "execution_count": 67,
     "metadata": {},
     "output_type": "execute_result"
    }
   ],
   "source": [
    "y_pred_train.head()"
   ]
  },
  {
   "cell_type": "code",
   "execution_count": 68,
   "id": "c66c688a",
   "metadata": {},
   "outputs": [
    {
     "data": {
      "text/plain": [
       "(27020,)"
      ]
     },
     "execution_count": 68,
     "metadata": {},
     "output_type": "execute_result"
    }
   ],
   "source": [
    "y_pred_train.shape"
   ]
  },
  {
   "cell_type": "markdown",
   "id": "f69f4877",
   "metadata": {},
   "source": [
    "## Confusion matrix for Precision and Recall and Accuracy of the model"
   ]
  },
  {
   "cell_type": "code",
   "execution_count": 69,
   "id": "8addb259",
   "metadata": {},
   "outputs": [
    {
     "data": {
      "text/plain": [
       "0        0\n",
       "1        0\n",
       "2        0\n",
       "3        0\n",
       "4        0\n",
       "        ..\n",
       "27015    1\n",
       "27016    1\n",
       "27017    1\n",
       "27018    1\n",
       "27019    1\n",
       "Name: churn_probability, Length: 27020, dtype: int64"
      ]
     },
     "execution_count": 69,
     "metadata": {},
     "output_type": "execute_result"
    }
   ],
   "source": [
    "y_resampled"
   ]
  },
  {
   "cell_type": "code",
   "execution_count": 70,
   "id": "5d9a92ad",
   "metadata": {},
   "outputs": [],
   "source": [
    "y_pred_train_final = pd.DataFrame({'Churn_Prob': y_pred_train})"
   ]
  },
  {
   "cell_type": "code",
   "execution_count": 71,
   "id": "29971616",
   "metadata": {},
   "outputs": [
    {
     "data": {
      "text/html": [
       "<div>\n",
       "<style scoped>\n",
       "    .dataframe tbody tr th:only-of-type {\n",
       "        vertical-align: middle;\n",
       "    }\n",
       "\n",
       "    .dataframe tbody tr th {\n",
       "        vertical-align: top;\n",
       "    }\n",
       "\n",
       "    .dataframe thead th {\n",
       "        text-align: right;\n",
       "    }\n",
       "</style>\n",
       "<table border=\"1\" class=\"dataframe\">\n",
       "  <thead>\n",
       "    <tr style=\"text-align: right;\">\n",
       "      <th></th>\n",
       "      <th>Churn_Prob</th>\n",
       "    </tr>\n",
       "  </thead>\n",
       "  <tbody>\n",
       "    <tr>\n",
       "      <th>0</th>\n",
       "      <td>0.998298</td>\n",
       "    </tr>\n",
       "    <tr>\n",
       "      <th>1</th>\n",
       "      <td>0.080075</td>\n",
       "    </tr>\n",
       "    <tr>\n",
       "      <th>2</th>\n",
       "      <td>0.094492</td>\n",
       "    </tr>\n",
       "    <tr>\n",
       "      <th>3</th>\n",
       "      <td>0.036949</td>\n",
       "    </tr>\n",
       "    <tr>\n",
       "      <th>4</th>\n",
       "      <td>0.003562</td>\n",
       "    </tr>\n",
       "  </tbody>\n",
       "</table>\n",
       "</div>"
      ],
      "text/plain": [
       "   Churn_Prob\n",
       "0    0.998298\n",
       "1    0.080075\n",
       "2    0.094492\n",
       "3    0.036949\n",
       "4    0.003562"
      ]
     },
     "execution_count": 71,
     "metadata": {},
     "output_type": "execute_result"
    }
   ],
   "source": [
    "y_pred_train_final.head()"
   ]
  },
  {
   "cell_type": "code",
   "execution_count": 72,
   "id": "da7a8aa9",
   "metadata": {},
   "outputs": [],
   "source": [
    "y_pred_train_final['Churn_Prob_2'] =  y_pred_train_final.Churn_Prob.map(lambda x: 1 if x > 0.5 else 0)"
   ]
  },
  {
   "cell_type": "code",
   "execution_count": 74,
   "id": "08b00fe0",
   "metadata": {},
   "outputs": [
    {
     "data": {
      "text/plain": [
       "array([[11754,  1756],\n",
       "       [ 1586, 11924]])"
      ]
     },
     "execution_count": 74,
     "metadata": {},
     "output_type": "execute_result"
    }
   ],
   "source": [
    "confusion = metrics.confusion_matrix(y_resampled, y_pred_train_final.Churn_Prob_2)\n",
    "confusion"
   ]
  },
  {
   "cell_type": "code",
   "execution_count": 77,
   "id": "4d2e1994",
   "metadata": {},
   "outputs": [],
   "source": [
    "def draw_roc( actual, probs ):\n",
    "    fpr, tpr, thresholds = metrics.roc_curve( actual, probs,\n",
    "                                              drop_intermediate = False )\n",
    "    auc_score = metrics.roc_auc_score( actual, probs )\n",
    "    plt.figure(figsize=(5, 5))\n",
    "    plt.plot( fpr, tpr, label='ROC curve (area = %0.2f)' % auc_score )\n",
    "    plt.plot([0, 1], [0, 1], 'k--')\n",
    "    plt.xlim([0.0, 1.0])\n",
    "    plt.ylim([0.0, 1.05])\n",
    "    plt.xlabel('False Positive Rate or [1 - True Negative Rate]')\n",
    "    plt.ylabel('True Positive Rate')\n",
    "    plt.title('Receiver operating characteristic example')\n",
    "    plt.legend(loc=\"lower right\")\n",
    "    plt.show()\n",
    "\n",
    "    return None"
   ]
  },
  {
   "cell_type": "code",
   "execution_count": 78,
   "id": "be9977f4",
   "metadata": {},
   "outputs": [],
   "source": [
    "# Metrics dict\n",
    "metrics_dict = {}"
   ]
  },
  {
   "cell_type": "code",
   "execution_count": 79,
   "id": "1e762ae7",
   "metadata": {},
   "outputs": [],
   "source": [
    "def get_accuracy_params(y_actual, y_pred, y_proba, model):\n",
    "    confusion = metrics.confusion_matrix(y_actual, y_pred)\n",
    "    print('confusion matrix: ')\n",
    "    print(confusion)\n",
    "    TP = confusion[1, 1]\n",
    "    TN = confusion[0, 0]\n",
    "    FP = confusion[0, 1]\n",
    "    FN = confusion[1, 0]\n",
    "    accuracy = (TN+TP)/(TP+TP+FN+FP)\n",
    "    print('Accuracy: ', accuracy)\n",
    "    precision = TP / (TP+FP)\n",
    "    print('Precision: ', precision)\n",
    "    recall = TP / (TP+FN)\n",
    "    print('Recall: ', recall)\n",
    "    f1_score = 2*precision*recall/(precision+recall)\n",
    "    print('F1_score: ', f1_score)\n",
    "    metrics_dict[model] = [accuracy, precision, recall, f1_score]\n",
    "    # Print ROC curve\n",
    "    draw_roc(y_actual, y_proba)\n",
    "    return metrics_dict"
   ]
  },
  {
   "cell_type": "code",
   "execution_count": 81,
   "id": "19aa1994",
   "metadata": {},
   "outputs": [
    {
     "name": "stdout",
     "output_type": "stream",
     "text": [
      "confusion matrix: \n",
      "[[11754  1756]\n",
      " [ 1586 11924]]\n",
      "Accuracy:  0.8708348657594704\n",
      "Precision:  0.8716374269005848\n",
      "Recall:  0.8826054774241303\n",
      "F1_score:  0.877087164398676\n"
     ]
    },
    {
     "data": {
      "image/png": "[encoded data removed]",
      "text/plain": [
       "<Figure size 360x360 with 1 Axes>"
      ]
     },
     "metadata": {
      "needs_background": "light"
     },
     "output_type": "display_data"
    }
   ],
   "source": [
    "metrics_dict = get_accuracy_params(y_resampled, y_pred_train_final.Churn_Prob_2, y_pred_train_final.Churn_Prob, 'Logistic_rfe')"
   ]
  },
  {
   "cell_type": "code",
   "execution_count": 82,
   "id": "93878c70",
   "metadata": {},
   "outputs": [
    {
     "data": {
      "text/plain": [
       "{'Logistic_rfe': [0.8708348657594704,\n",
       "  0.8716374269005848,\n",
       "  0.8826054774241303,\n",
       "  0.877087164398676]}"
      ]
     },
     "execution_count": 82,
     "metadata": {},
     "output_type": "execute_result"
    }
   ],
   "source": [
    "metrics_dict"
   ]
  },
  {
   "cell_type": "markdown",
   "id": "dd4aed00",
   "metadata": {},
   "source": [
    "## With Logistic regression with RFE we get (on train dataset)\n",
    "\n",
    "- Accuracy: 0.8673\n",
    "- Precision: 0.8684\n",
    "- Recall: 0.8825\n",
    "- F1 Score: 0.8754\n",
    "\n",
    "### It seems a good model but lets compare with other models"
   ]
  },
  {
   "cell_type": "markdown",
   "id": "bd93b4a0",
   "metadata": {},
   "source": [
    "## PCA and Logistic Regression to check if model improves or not."
   ]
  },
  {
   "cell_type": "markdown",
   "id": "0ecb5679",
   "metadata": {},
   "source": [
    "## PCA on the data\n",
    "\n",
    "- While computing the principal components, we must not include the entire dataset. Model building is all about doing well on the data we haven't seen yet!\n",
    "- So we'll calculate the PCs using the train data, and apply them later on the test data."
   ]
  },
  {
   "cell_type": "code",
   "execution_count": null,
   "id": "e2a5cd74",
   "metadata": {},
   "outputs": [],
   "source": [
    "# Looking at the data again"
   ]
  },
  {
   "cell_type": "code",
   "execution_count": null,
   "id": "228cc28f",
   "metadata": {},
   "outputs": [],
   "source": [
    "y_resampled.shape"
   ]
  },
  {
   "cell_type": "code",
   "execution_count": null,
   "id": "f357b520",
   "metadata": {},
   "outputs": [],
   "source": [
    "X_resampled.shape"
   ]
  },
  {
   "cell_type": "code",
   "execution_count": null,
   "id": "d5bfc9eb",
   "metadata": {},
   "outputs": [],
   "source": [
    "pca = PCA(random_state=42)"
   ]
  },
  {
   "cell_type": "code",
   "execution_count": null,
   "id": "4879eab0",
   "metadata": {},
   "outputs": [],
   "source": [
    "pca.fit(X_resampled)"
   ]
  },
  {
   "cell_type": "code",
   "execution_count": null,
   "id": "6a324422",
   "metadata": {},
   "outputs": [],
   "source": [
    "pca.components_"
   ]
  },
  {
   "cell_type": "code",
   "execution_count": null,
   "id": "462adf05",
   "metadata": {},
   "outputs": [],
   "source": [
    "pca.explained_variance_ratio_"
   ]
  },
  {
   "cell_type": "code",
   "execution_count": null,
   "id": "35ab804f",
   "metadata": {},
   "outputs": [],
   "source": [
    "var_cumu = np.cumsum(pca.explained_variance_ratio_)"
   ]
  },
  {
   "cell_type": "code",
   "execution_count": null,
   "id": "5653298c",
   "metadata": {},
   "outputs": [],
   "source": [
    "fig = plt.figure(figsize=[12,8])\n",
    "plt.plot(range(1,len(var_cumu)+1), var_cumu)"
   ]
  },
  {
   "cell_type": "markdown",
   "id": "e6e46d15",
   "metadata": {},
   "source": [
    "## Looking at the scree plot with 50 PCs we have more than 95% of variance explained."
   ]
  },
  {
   "cell_type": "code",
   "execution_count": null,
   "id": "6b98d260",
   "metadata": {},
   "outputs": [],
   "source": [
    "pca_final = IncrementalPCA(n_components=50)"
   ]
  },
  {
   "cell_type": "code",
   "execution_count": null,
   "id": "ef462a28",
   "metadata": {},
   "outputs": [],
   "source": [
    "df_train_pca = pca_final.fit_transform(X_resampled)"
   ]
  },
  {
   "cell_type": "code",
   "execution_count": null,
   "id": "4acf2f4b",
   "metadata": {},
   "outputs": [],
   "source": [
    "df_train_pca.shape"
   ]
  },
  {
   "cell_type": "code",
   "execution_count": null,
   "id": "51c3c638",
   "metadata": {},
   "outputs": [],
   "source": [
    "corrmat = np.corrcoef(df_train_pca.transpose())"
   ]
  },
  {
   "cell_type": "code",
   "execution_count": null,
   "id": "469fc042",
   "metadata": {},
   "outputs": [],
   "source": [
    "corrmat.shape"
   ]
  },
  {
   "cell_type": "code",
   "execution_count": null,
   "id": "e3fdc23f",
   "metadata": {},
   "outputs": [],
   "source": [
    "corrmat"
   ]
  },
  {
   "cell_type": "markdown",
   "id": "e5852693",
   "metadata": {},
   "source": [
    "### Applying the transformation on the test set"
   ]
  },
  {
   "cell_type": "code",
   "execution_count": null,
   "id": "76137d7b",
   "metadata": {},
   "outputs": [],
   "source": [
    "X_test.shape"
   ]
  },
  {
   "cell_type": "code",
   "execution_count": null,
   "id": "2d03012a",
   "metadata": {},
   "outputs": [],
   "source": [
    "df_test_pca = pca_final.transform(X_test_ori)\n",
    "df_test_pca.shape"
   ]
  },
  {
   "cell_type": "markdown",
   "id": "8128fc2c",
   "metadata": {},
   "source": [
    "## Applying logistic regression on the data on our Principal components"
   ]
  },
  {
   "cell_type": "code",
   "execution_count": null,
   "id": "af703228",
   "metadata": {},
   "outputs": [],
   "source": [
    "learner_pca = LogisticRegression()"
   ]
  },
  {
   "cell_type": "code",
   "execution_count": null,
   "id": "c9149f26",
   "metadata": {},
   "outputs": [],
   "source": [
    "model_pca = learner_pca.fit(df_train_pca, y_resampled)"
   ]
  },
  {
   "cell_type": "markdown",
   "id": "1fadaff5",
   "metadata": {},
   "source": [
    "### Making predictions on the test set"
   ]
  },
  {
   "cell_type": "code",
   "execution_count": null,
   "id": "9da7cae5",
   "metadata": {},
   "outputs": [],
   "source": [
    "pred_probs_test = model_pca.predict_proba(df_test_pca)"
   ]
  },
  {
   "cell_type": "code",
   "execution_count": null,
   "id": "98027341",
   "metadata": {},
   "outputs": [],
   "source": [
    "\"{:2.2}\".format(metrics.roc_auc_score(y_test, pred_probs_test[:,1]))"
   ]
  },
  {
   "cell_type": "markdown",
   "id": "169fcb86-5c15-4af0-9f41-bf1337d8df35",
   "metadata": {},
   "source": [
    "##### So we could see the accuracy coming close to 80%.\n",
    "We got a rough idea with PCA and Logistic Regression.\n",
    "We now move to Lasso and Ridge Regression for further analysis and actual conclusion on right predictors and coefficients.\n",
    "Let's try other models to see how it performs."
   ]
  },
  {
   "cell_type": "code",
   "execution_count": null,
   "id": "deb4de1e",
   "metadata": {},
   "outputs": [],
   "source": [
    "metrics_dict = get_accuracy_params(y_resampled, y_pred_train_final, 'Logistic_pca')"
   ]
  },
  {
   "cell_type": "markdown",
   "id": "adbe4de2-2ddd-4477-bdf8-bec63bad5f83",
   "metadata": {},
   "source": [
    "### Ridge and Lasso Regression\n"
   ]
  },
  {
   "cell_type": "markdown",
   "id": "d9e41d1e-68ee-4f8f-ac7c-d1295a41a737",
   "metadata": {},
   "source": [
    "#### Ridge Regression"
   ]
  },
  {
   "cell_type": "code",
   "execution_count": null,
   "id": "7ac62178-e44d-44d4-a66a-7f01e6dcaa06",
   "metadata": {
    "scrolled": true
   },
   "outputs": [],
   "source": [
    "# list of alphas to tune - if value too high it will lead to underfitting, if it is too low, \n",
    "# it will not handle the overfitting\n",
    "params = {'alpha': [0.0001, 0.001, 0.01, 0.05, 0.1, \n",
    " 0.2, 0.3, 0.4, 0.5, 0.6, 0.7, 0.8, 0.9, 1.0, 2.0, 3.0, \n",
    " 4.0, 5.0, 6.0, 7.0, 8.0, 9.0, 10.0, 20, 50, 100, 500, 1000 ]}\n",
    "\n",
    "ridge = Ridge()\n",
    "\n",
    "# cross validation\n",
    "folds = 10\n",
    "model_cv = GridSearchCV(estimator = ridge, \n",
    "                        param_grid = params, \n",
    "                        scoring= 'neg_mean_absolute_error',  \n",
    "                        cv = folds, \n",
    "                        return_train_score=True,\n",
    "                        verbose = 1)  \n",
    "\n",
    "\n",
    "model_cv.fit(X_resampled, y_resampled)"
   ]
  },
  {
   "cell_type": "code",
   "execution_count": null,
   "id": "64ef3402-9e82-4f08-abf7-da8a954dcc15",
   "metadata": {},
   "outputs": [],
   "source": [
    "# Printing the best hyperparameter alpha\n",
    "print(model_cv.best_params_)"
   ]
  },
  {
   "cell_type": "code",
   "execution_count": null,
   "id": "2630e3d7-1bd8-4b0e-a28b-33a97c0c59e7",
   "metadata": {},
   "outputs": [],
   "source": [
    "#Fitting Ridge model for alpha = 0.0001 and printing coefficients which have been penalised\n",
    "alpha = 0.0001\n",
    "\n",
    "ridge = Ridge(alpha=alpha)\n",
    "        \n",
    "ridge.fit(X_resampled, y_resampled) "
   ]
  },
  {
   "cell_type": "code",
   "execution_count": null,
   "id": "d1458459-eb5b-4b64-8c53-496ae8ce9f5f",
   "metadata": {},
   "outputs": [],
   "source": [
    "cv_result_r = pd.DataFrame(model_cv.cv_results_)\n",
    "cv_result_r['param_alpha'] = cv_result_r['param_alpha'].astype('float32')\n",
    "cv_result_r.head()"
   ]
  },
  {
   "cell_type": "code",
   "execution_count": null,
   "id": "325a426e-73ce-43ec-a3e9-51bf96cf5546",
   "metadata": {},
   "outputs": [],
   "source": [
    "plt.figure(figsize=(16,8))\n",
    "plt.plot(cv_result_r['param_alpha'],cv_result_r['mean_train_score'])\n",
    "plt.plot(cv_result_r['param_alpha'],cv_result_r['mean_test_score'])\n",
    "plt.xscale('log')\n",
    "plt.ylabel('R2 Score')\n",
    "plt.xlabel('Alpha')\n",
    "plt.show()"
   ]
  },
  {
   "cell_type": "markdown",
   "id": "f855045d",
   "metadata": {},
   "source": [
    "## Looking at the curve, as they are not converging we will go ahead with Lasso."
   ]
  },
  {
   "cell_type": "code",
   "execution_count": null,
   "id": "7b38f039",
   "metadata": {},
   "outputs": [],
   "source": [
    "# Lets do prediction for test data and train data\n",
    "# train data"
   ]
  },
  {
   "cell_type": "code",
   "execution_count": null,
   "id": "00e75c20",
   "metadata": {},
   "outputs": [],
   "source": [
    "y_train_pred = ridge.predict(X_resampled)\n",
    "metrics.r2_score(y_true=y_resampled, y_pred=y_train_pred)"
   ]
  },
  {
   "cell_type": "code",
   "execution_count": null,
   "id": "04765bfb",
   "metadata": {},
   "outputs": [],
   "source": [
    "# Prediction for test data \n",
    "y_pred_test = ridge.predict(X_resampled)"
   ]
  },
  {
   "cell_type": "code",
   "execution_count": null,
   "id": "8615c00b",
   "metadata": {},
   "outputs": [],
   "source": [
    "y_pred_test"
   ]
  },
  {
   "cell_type": "code",
   "execution_count": null,
   "id": "ef5492bf",
   "metadata": {},
   "outputs": [],
   "source": []
  }
 ],
 "metadata": {
  "kernelspec": {
   "display_name": "Python 3 (ipykernel)",
   "language": "python",
   "name": "python3"
  },
  "language_info": {
   "codemirror_mode": {
    "name": "ipython",
    "version": 3
   },
   "file_extension": ".py",
   "mimetype": "text/x-python",
   "name": "python",
   "nbconvert_exporter": "python",
   "pygments_lexer": "ipython3",
   "version": "3.9.7"
  }
 },
 "nbformat": 4,
 "nbformat_minor": 5
}
