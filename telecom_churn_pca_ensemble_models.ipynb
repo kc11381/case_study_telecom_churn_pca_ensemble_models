{
 "cells": [
  {
   "cell_type": "markdown",
   "id": "85815f8b",
   "metadata": {},
   "source": [
    "# Telecom Churn case study using PCA and Ensemble\n",
    "\n",
    "### Problem Statement\n",
    "In the telecom industry, customers are able to choose from multiple service providers and actively switch from one operator to another. In this highly competitive market, the telecommunications industry experiences an average of 15-25% annual churn rate. Given the fact that it costs 5-10 times more to acquire a new customer than to retain an existing one, customer retention has now become even more important than customer acquisition.\n",
    "\n",
    "For many incumbent operators, retaining high profitable customers is the number one business\n",
    "goal. To reduce customer churn, telecom companies need to predict which customers are at high risk of churn. In this project, you will analyze customer-level data of a leading telecom firm, build predictive models to identify customers at high risk of churn.\n",
    "\n",
    "In this competition, your goal is to build a machine learning model that is able to predict churning customers based on the features provided for their usage.\n",
    "\n",
    "### Goal\n",
    "It is your job to predict if a customer will churn, given the ~170 columns containing customer behavior, usage patterns, payment patterns, and other features that might be relevant. Your target variable is \"churn_probability\"\n",
    "Note: Make sure your accuracy is greater than the sample submission that is present in the leaderboard"
   ]
  },
  {
   "cell_type": "code",
   "execution_count": 1,
   "id": "a5dfb968",
   "metadata": {},
   "outputs": [],
   "source": [
    "import matplotlib.pyplot as plt\n",
    "import numpy as np\n",
    "import pandas as pd\n",
    "import seaborn as sns\n",
    "import statsmodels.api as sm\n",
    "import warnings\n",
    "import xgboost as xgb \n",
    "\n",
    "from imblearn.over_sampling import SMOTE\n",
    "from sklearn import metrics\n",
    "from sklearn.decomposition import IncrementalPCA\n",
    "from sklearn.decomposition import PCA\n",
    "from sklearn.ensemble import RandomForestClassifier\n",
    "from sklearn.feature_selection import RFE\n",
    "from sklearn.linear_model import LinearRegression\n",
    "from sklearn.linear_model import LogisticRegression\n",
    "from sklearn.linear_model import Lasso\n",
    "from sklearn.linear_model import Ridge\n",
    "from sklearn.model_selection import GridSearchCV\n",
    "from sklearn.model_selection import RandomizedSearchCV\n",
    "from sklearn.model_selection import train_test_split\n",
    "from sklearn.metrics import accuracy_score\n",
    "from sklearn.metrics import classification_report\n",
    "from sklearn.metrics import confusion_matrix\n",
    "from sklearn.metrics import mean_squared_error\n",
    "from sklearn.metrics import plot_roc_curve\n",
    "from sklearn.metrics import r2_score\n",
    "from sklearn.preprocessing import MinMaxScaler\n",
    "\n",
    "# to ignore the warnings\n",
    "warnings.filterwarnings('ignore')"
   ]
  },
  {
   "cell_type": "markdown",
   "id": "0db327e7",
   "metadata": {},
   "source": [
    "## Step 1. Reading, Understanding and Visualizing the data"
   ]
  },
  {
   "cell_type": "code",
   "execution_count": 2,
   "id": "75b4d852",
   "metadata": {},
   "outputs": [],
   "source": [
    "# train dataset\n",
    "telecom_train_df = pd.read_csv('train (1).csv')\n",
    "# test dataset\n",
    "telecom_test_df = pd.read_csv('test (1).csv')\n",
    "# test solution dataset\n",
    "telecom_test_sol_df = pd.read_csv('solution (1).csv')"
   ]
  },
  {
   "cell_type": "code",
   "execution_count": 3,
   "id": "aafd7bff",
   "metadata": {},
   "outputs": [
    {
     "data": {
      "text/html": [
       "<div>\n",
       "<style scoped>\n",
       "    .dataframe tbody tr th:only-of-type {\n",
       "        vertical-align: middle;\n",
       "    }\n",
       "\n",
       "    .dataframe tbody tr th {\n",
       "        vertical-align: top;\n",
       "    }\n",
       "\n",
       "    .dataframe thead th {\n",
       "        text-align: right;\n",
       "    }\n",
       "</style>\n",
       "<table border=\"1\" class=\"dataframe\">\n",
       "  <thead>\n",
       "    <tr style=\"text-align: right;\">\n",
       "      <th></th>\n",
       "      <th>id</th>\n",
       "      <th>circle_id</th>\n",
       "      <th>loc_og_t2o_mou</th>\n",
       "      <th>std_og_t2o_mou</th>\n",
       "      <th>loc_ic_t2o_mou</th>\n",
       "      <th>last_date_of_month_6</th>\n",
       "      <th>last_date_of_month_7</th>\n",
       "      <th>last_date_of_month_8</th>\n",
       "      <th>arpu_6</th>\n",
       "      <th>arpu_7</th>\n",
       "      <th>...</th>\n",
       "      <th>sachet_3g_7</th>\n",
       "      <th>sachet_3g_8</th>\n",
       "      <th>fb_user_6</th>\n",
       "      <th>fb_user_7</th>\n",
       "      <th>fb_user_8</th>\n",
       "      <th>aon</th>\n",
       "      <th>aug_vbc_3g</th>\n",
       "      <th>jul_vbc_3g</th>\n",
       "      <th>jun_vbc_3g</th>\n",
       "      <th>churn_probability</th>\n",
       "    </tr>\n",
       "  </thead>\n",
       "  <tbody>\n",
       "    <tr>\n",
       "      <th>0</th>\n",
       "      <td>0</td>\n",
       "      <td>109</td>\n",
       "      <td>0.0</td>\n",
       "      <td>0.0</td>\n",
       "      <td>0.0</td>\n",
       "      <td>6/30/2014</td>\n",
       "      <td>7/31/2014</td>\n",
       "      <td>8/31/2014</td>\n",
       "      <td>31.277</td>\n",
       "      <td>87.009</td>\n",
       "      <td>...</td>\n",
       "      <td>0</td>\n",
       "      <td>0</td>\n",
       "      <td>NaN</td>\n",
       "      <td>NaN</td>\n",
       "      <td>NaN</td>\n",
       "      <td>1958</td>\n",
       "      <td>0.0</td>\n",
       "      <td>0.0</td>\n",
       "      <td>0.0</td>\n",
       "      <td>0</td>\n",
       "    </tr>\n",
       "    <tr>\n",
       "      <th>1</th>\n",
       "      <td>1</td>\n",
       "      <td>109</td>\n",
       "      <td>0.0</td>\n",
       "      <td>0.0</td>\n",
       "      <td>0.0</td>\n",
       "      <td>6/30/2014</td>\n",
       "      <td>7/31/2014</td>\n",
       "      <td>8/31/2014</td>\n",
       "      <td>0.000</td>\n",
       "      <td>122.787</td>\n",
       "      <td>...</td>\n",
       "      <td>0</td>\n",
       "      <td>0</td>\n",
       "      <td>NaN</td>\n",
       "      <td>1.0</td>\n",
       "      <td>NaN</td>\n",
       "      <td>710</td>\n",
       "      <td>0.0</td>\n",
       "      <td>0.0</td>\n",
       "      <td>0.0</td>\n",
       "      <td>0</td>\n",
       "    </tr>\n",
       "    <tr>\n",
       "      <th>2</th>\n",
       "      <td>2</td>\n",
       "      <td>109</td>\n",
       "      <td>0.0</td>\n",
       "      <td>0.0</td>\n",
       "      <td>0.0</td>\n",
       "      <td>6/30/2014</td>\n",
       "      <td>7/31/2014</td>\n",
       "      <td>8/31/2014</td>\n",
       "      <td>60.806</td>\n",
       "      <td>103.176</td>\n",
       "      <td>...</td>\n",
       "      <td>0</td>\n",
       "      <td>0</td>\n",
       "      <td>NaN</td>\n",
       "      <td>NaN</td>\n",
       "      <td>NaN</td>\n",
       "      <td>882</td>\n",
       "      <td>0.0</td>\n",
       "      <td>0.0</td>\n",
       "      <td>0.0</td>\n",
       "      <td>0</td>\n",
       "    </tr>\n",
       "    <tr>\n",
       "      <th>3</th>\n",
       "      <td>3</td>\n",
       "      <td>109</td>\n",
       "      <td>0.0</td>\n",
       "      <td>0.0</td>\n",
       "      <td>0.0</td>\n",
       "      <td>6/30/2014</td>\n",
       "      <td>7/31/2014</td>\n",
       "      <td>8/31/2014</td>\n",
       "      <td>156.362</td>\n",
       "      <td>205.260</td>\n",
       "      <td>...</td>\n",
       "      <td>0</td>\n",
       "      <td>0</td>\n",
       "      <td>NaN</td>\n",
       "      <td>NaN</td>\n",
       "      <td>NaN</td>\n",
       "      <td>982</td>\n",
       "      <td>0.0</td>\n",
       "      <td>0.0</td>\n",
       "      <td>0.0</td>\n",
       "      <td>0</td>\n",
       "    </tr>\n",
       "    <tr>\n",
       "      <th>4</th>\n",
       "      <td>4</td>\n",
       "      <td>109</td>\n",
       "      <td>0.0</td>\n",
       "      <td>0.0</td>\n",
       "      <td>0.0</td>\n",
       "      <td>6/30/2014</td>\n",
       "      <td>7/31/2014</td>\n",
       "      <td>8/31/2014</td>\n",
       "      <td>240.708</td>\n",
       "      <td>128.191</td>\n",
       "      <td>...</td>\n",
       "      <td>1</td>\n",
       "      <td>0</td>\n",
       "      <td>1.0</td>\n",
       "      <td>1.0</td>\n",
       "      <td>1.0</td>\n",
       "      <td>647</td>\n",
       "      <td>0.0</td>\n",
       "      <td>0.0</td>\n",
       "      <td>0.0</td>\n",
       "      <td>0</td>\n",
       "    </tr>\n",
       "  </tbody>\n",
       "</table>\n",
       "<p>5 rows × 172 columns</p>\n",
       "</div>"
      ],
      "text/plain": [
       "   id  circle_id  loc_og_t2o_mou  std_og_t2o_mou  loc_ic_t2o_mou  \\\n",
       "0   0        109             0.0             0.0             0.0   \n",
       "1   1        109             0.0             0.0             0.0   \n",
       "2   2        109             0.0             0.0             0.0   \n",
       "3   3        109             0.0             0.0             0.0   \n",
       "4   4        109             0.0             0.0             0.0   \n",
       "\n",
       "  last_date_of_month_6 last_date_of_month_7 last_date_of_month_8   arpu_6  \\\n",
       "0            6/30/2014            7/31/2014            8/31/2014   31.277   \n",
       "1            6/30/2014            7/31/2014            8/31/2014    0.000   \n",
       "2            6/30/2014            7/31/2014            8/31/2014   60.806   \n",
       "3            6/30/2014            7/31/2014            8/31/2014  156.362   \n",
       "4            6/30/2014            7/31/2014            8/31/2014  240.708   \n",
       "\n",
       "    arpu_7  ...  sachet_3g_7  sachet_3g_8  fb_user_6  fb_user_7  fb_user_8  \\\n",
       "0   87.009  ...            0            0        NaN        NaN        NaN   \n",
       "1  122.787  ...            0            0        NaN        1.0        NaN   \n",
       "2  103.176  ...            0            0        NaN        NaN        NaN   \n",
       "3  205.260  ...            0            0        NaN        NaN        NaN   \n",
       "4  128.191  ...            1            0        1.0        1.0        1.0   \n",
       "\n",
       "    aon  aug_vbc_3g  jul_vbc_3g  jun_vbc_3g  churn_probability  \n",
       "0  1958         0.0         0.0         0.0                  0  \n",
       "1   710         0.0         0.0         0.0                  0  \n",
       "2   882         0.0         0.0         0.0                  0  \n",
       "3   982         0.0         0.0         0.0                  0  \n",
       "4   647         0.0         0.0         0.0                  0  \n",
       "\n",
       "[5 rows x 172 columns]"
      ]
     },
     "execution_count": 3,
     "metadata": {},
     "output_type": "execute_result"
    }
   ],
   "source": [
    "telecom_train_df.head()"
   ]
  },
  {
   "cell_type": "code",
   "execution_count": 4,
   "id": "08ff9072",
   "metadata": {},
   "outputs": [
    {
     "data": {
      "text/html": [
       "<div>\n",
       "<style scoped>\n",
       "    .dataframe tbody tr th:only-of-type {\n",
       "        vertical-align: middle;\n",
       "    }\n",
       "\n",
       "    .dataframe tbody tr th {\n",
       "        vertical-align: top;\n",
       "    }\n",
       "\n",
       "    .dataframe thead th {\n",
       "        text-align: right;\n",
       "    }\n",
       "</style>\n",
       "<table border=\"1\" class=\"dataframe\">\n",
       "  <thead>\n",
       "    <tr style=\"text-align: right;\">\n",
       "      <th></th>\n",
       "      <th>id</th>\n",
       "      <th>circle_id</th>\n",
       "      <th>loc_og_t2o_mou</th>\n",
       "      <th>std_og_t2o_mou</th>\n",
       "      <th>loc_ic_t2o_mou</th>\n",
       "      <th>last_date_of_month_6</th>\n",
       "      <th>last_date_of_month_7</th>\n",
       "      <th>last_date_of_month_8</th>\n",
       "      <th>arpu_6</th>\n",
       "      <th>arpu_7</th>\n",
       "      <th>...</th>\n",
       "      <th>sachet_3g_6</th>\n",
       "      <th>sachet_3g_7</th>\n",
       "      <th>sachet_3g_8</th>\n",
       "      <th>fb_user_6</th>\n",
       "      <th>fb_user_7</th>\n",
       "      <th>fb_user_8</th>\n",
       "      <th>aon</th>\n",
       "      <th>aug_vbc_3g</th>\n",
       "      <th>jul_vbc_3g</th>\n",
       "      <th>jun_vbc_3g</th>\n",
       "    </tr>\n",
       "  </thead>\n",
       "  <tbody>\n",
       "    <tr>\n",
       "      <th>0</th>\n",
       "      <td>69999</td>\n",
       "      <td>109</td>\n",
       "      <td>0.0</td>\n",
       "      <td>0.0</td>\n",
       "      <td>0.0</td>\n",
       "      <td>6/30/2014</td>\n",
       "      <td>7/31/2014</td>\n",
       "      <td>8/31/2014</td>\n",
       "      <td>91.882</td>\n",
       "      <td>65.330</td>\n",
       "      <td>...</td>\n",
       "      <td>0</td>\n",
       "      <td>0</td>\n",
       "      <td>0</td>\n",
       "      <td>NaN</td>\n",
       "      <td>NaN</td>\n",
       "      <td>NaN</td>\n",
       "      <td>1692</td>\n",
       "      <td>0.00</td>\n",
       "      <td>0.00</td>\n",
       "      <td>0.00</td>\n",
       "    </tr>\n",
       "    <tr>\n",
       "      <th>1</th>\n",
       "      <td>70000</td>\n",
       "      <td>109</td>\n",
       "      <td>0.0</td>\n",
       "      <td>0.0</td>\n",
       "      <td>0.0</td>\n",
       "      <td>6/30/2014</td>\n",
       "      <td>7/31/2014</td>\n",
       "      <td>8/31/2014</td>\n",
       "      <td>414.168</td>\n",
       "      <td>515.568</td>\n",
       "      <td>...</td>\n",
       "      <td>0</td>\n",
       "      <td>0</td>\n",
       "      <td>0</td>\n",
       "      <td>NaN</td>\n",
       "      <td>NaN</td>\n",
       "      <td>NaN</td>\n",
       "      <td>2533</td>\n",
       "      <td>0.00</td>\n",
       "      <td>0.00</td>\n",
       "      <td>0.00</td>\n",
       "    </tr>\n",
       "    <tr>\n",
       "      <th>2</th>\n",
       "      <td>70001</td>\n",
       "      <td>109</td>\n",
       "      <td>0.0</td>\n",
       "      <td>0.0</td>\n",
       "      <td>0.0</td>\n",
       "      <td>6/30/2014</td>\n",
       "      <td>7/31/2014</td>\n",
       "      <td>8/31/2014</td>\n",
       "      <td>329.844</td>\n",
       "      <td>434.884</td>\n",
       "      <td>...</td>\n",
       "      <td>0</td>\n",
       "      <td>0</td>\n",
       "      <td>0</td>\n",
       "      <td>NaN</td>\n",
       "      <td>NaN</td>\n",
       "      <td>NaN</td>\n",
       "      <td>277</td>\n",
       "      <td>525.61</td>\n",
       "      <td>758.41</td>\n",
       "      <td>241.84</td>\n",
       "    </tr>\n",
       "    <tr>\n",
       "      <th>3</th>\n",
       "      <td>70002</td>\n",
       "      <td>109</td>\n",
       "      <td>0.0</td>\n",
       "      <td>0.0</td>\n",
       "      <td>0.0</td>\n",
       "      <td>6/30/2014</td>\n",
       "      <td>7/31/2014</td>\n",
       "      <td>8/31/2014</td>\n",
       "      <td>43.550</td>\n",
       "      <td>171.390</td>\n",
       "      <td>...</td>\n",
       "      <td>0</td>\n",
       "      <td>0</td>\n",
       "      <td>0</td>\n",
       "      <td>NaN</td>\n",
       "      <td>NaN</td>\n",
       "      <td>NaN</td>\n",
       "      <td>1244</td>\n",
       "      <td>0.00</td>\n",
       "      <td>0.00</td>\n",
       "      <td>0.00</td>\n",
       "    </tr>\n",
       "    <tr>\n",
       "      <th>4</th>\n",
       "      <td>70003</td>\n",
       "      <td>109</td>\n",
       "      <td>0.0</td>\n",
       "      <td>0.0</td>\n",
       "      <td>0.0</td>\n",
       "      <td>6/30/2014</td>\n",
       "      <td>7/31/2014</td>\n",
       "      <td>8/31/2014</td>\n",
       "      <td>306.854</td>\n",
       "      <td>406.289</td>\n",
       "      <td>...</td>\n",
       "      <td>0</td>\n",
       "      <td>0</td>\n",
       "      <td>0</td>\n",
       "      <td>NaN</td>\n",
       "      <td>NaN</td>\n",
       "      <td>NaN</td>\n",
       "      <td>462</td>\n",
       "      <td>0.00</td>\n",
       "      <td>0.00</td>\n",
       "      <td>0.00</td>\n",
       "    </tr>\n",
       "  </tbody>\n",
       "</table>\n",
       "<p>5 rows × 171 columns</p>\n",
       "</div>"
      ],
      "text/plain": [
       "      id  circle_id  loc_og_t2o_mou  std_og_t2o_mou  loc_ic_t2o_mou  \\\n",
       "0  69999        109             0.0             0.0             0.0   \n",
       "1  70000        109             0.0             0.0             0.0   \n",
       "2  70001        109             0.0             0.0             0.0   \n",
       "3  70002        109             0.0             0.0             0.0   \n",
       "4  70003        109             0.0             0.0             0.0   \n",
       "\n",
       "  last_date_of_month_6 last_date_of_month_7 last_date_of_month_8   arpu_6  \\\n",
       "0            6/30/2014            7/31/2014            8/31/2014   91.882   \n",
       "1            6/30/2014            7/31/2014            8/31/2014  414.168   \n",
       "2            6/30/2014            7/31/2014            8/31/2014  329.844   \n",
       "3            6/30/2014            7/31/2014            8/31/2014   43.550   \n",
       "4            6/30/2014            7/31/2014            8/31/2014  306.854   \n",
       "\n",
       "    arpu_7  ...  sachet_3g_6  sachet_3g_7  sachet_3g_8  fb_user_6  fb_user_7  \\\n",
       "0   65.330  ...            0            0            0        NaN        NaN   \n",
       "1  515.568  ...            0            0            0        NaN        NaN   \n",
       "2  434.884  ...            0            0            0        NaN        NaN   \n",
       "3  171.390  ...            0            0            0        NaN        NaN   \n",
       "4  406.289  ...            0            0            0        NaN        NaN   \n",
       "\n",
       "   fb_user_8   aon  aug_vbc_3g  jul_vbc_3g  jun_vbc_3g  \n",
       "0        NaN  1692        0.00        0.00        0.00  \n",
       "1        NaN  2533        0.00        0.00        0.00  \n",
       "2        NaN   277      525.61      758.41      241.84  \n",
       "3        NaN  1244        0.00        0.00        0.00  \n",
       "4        NaN   462        0.00        0.00        0.00  \n",
       "\n",
       "[5 rows x 171 columns]"
      ]
     },
     "execution_count": 4,
     "metadata": {},
     "output_type": "execute_result"
    }
   ],
   "source": [
    "telecom_test_df.head()"
   ]
  },
  {
   "cell_type": "code",
   "execution_count": 5,
   "id": "c21a3f03",
   "metadata": {},
   "outputs": [
    {
     "data": {
      "text/html": [
       "<div>\n",
       "<style scoped>\n",
       "    .dataframe tbody tr th:only-of-type {\n",
       "        vertical-align: middle;\n",
       "    }\n",
       "\n",
       "    .dataframe tbody tr th {\n",
       "        vertical-align: top;\n",
       "    }\n",
       "\n",
       "    .dataframe thead th {\n",
       "        text-align: right;\n",
       "    }\n",
       "</style>\n",
       "<table border=\"1\" class=\"dataframe\">\n",
       "  <thead>\n",
       "    <tr style=\"text-align: right;\">\n",
       "      <th></th>\n",
       "      <th>id</th>\n",
       "      <th>churn_probability</th>\n",
       "    </tr>\n",
       "  </thead>\n",
       "  <tbody>\n",
       "    <tr>\n",
       "      <th>0</th>\n",
       "      <td>69999</td>\n",
       "      <td>0</td>\n",
       "    </tr>\n",
       "    <tr>\n",
       "      <th>1</th>\n",
       "      <td>70000</td>\n",
       "      <td>0</td>\n",
       "    </tr>\n",
       "    <tr>\n",
       "      <th>2</th>\n",
       "      <td>70001</td>\n",
       "      <td>1</td>\n",
       "    </tr>\n",
       "    <tr>\n",
       "      <th>3</th>\n",
       "      <td>70002</td>\n",
       "      <td>0</td>\n",
       "    </tr>\n",
       "    <tr>\n",
       "      <th>4</th>\n",
       "      <td>70003</td>\n",
       "      <td>0</td>\n",
       "    </tr>\n",
       "  </tbody>\n",
       "</table>\n",
       "</div>"
      ],
      "text/plain": [
       "      id  churn_probability\n",
       "0  69999                  0\n",
       "1  70000                  0\n",
       "2  70001                  1\n",
       "3  70002                  0\n",
       "4  70003                  0"
      ]
     },
     "execution_count": 5,
     "metadata": {},
     "output_type": "execute_result"
    }
   ],
   "source": [
    "telecom_test_sol_df.head()"
   ]
  },
  {
   "cell_type": "code",
   "execution_count": 6,
   "id": "9b3eee97",
   "metadata": {},
   "outputs": [
    {
     "data": {
      "text/plain": [
       "(69999, 172)"
      ]
     },
     "execution_count": 6,
     "metadata": {},
     "output_type": "execute_result"
    }
   ],
   "source": [
    "telecom_train_df.shape"
   ]
  },
  {
   "cell_type": "code",
   "execution_count": 7,
   "id": "ade9e8ac",
   "metadata": {},
   "outputs": [
    {
     "data": {
      "text/plain": [
       "(30000, 171)"
      ]
     },
     "execution_count": 7,
     "metadata": {},
     "output_type": "execute_result"
    }
   ],
   "source": [
    "telecom_test_df.shape"
   ]
  },
  {
   "cell_type": "code",
   "execution_count": 8,
   "id": "6d5176fa",
   "metadata": {},
   "outputs": [
    {
     "data": {
      "text/plain": [
       "Index(['id', 'circle_id', 'loc_og_t2o_mou', 'std_og_t2o_mou', 'loc_ic_t2o_mou',\n",
       "       'last_date_of_month_6', 'last_date_of_month_7', 'last_date_of_month_8',\n",
       "       'arpu_6', 'arpu_7',\n",
       "       ...\n",
       "       'sachet_3g_7', 'sachet_3g_8', 'fb_user_6', 'fb_user_7', 'fb_user_8',\n",
       "       'aon', 'aug_vbc_3g', 'jul_vbc_3g', 'jun_vbc_3g', 'churn_probability'],\n",
       "      dtype='object', length=172)"
      ]
     },
     "execution_count": 8,
     "metadata": {},
     "output_type": "execute_result"
    }
   ],
   "source": [
    "telecom_train_df.columns"
   ]
  },
  {
   "cell_type": "code",
   "execution_count": 9,
   "id": "8cd748c3",
   "metadata": {},
   "outputs": [
    {
     "name": "stdout",
     "output_type": "stream",
     "text": [
      "<class 'pandas.core.frame.DataFrame'>\n",
      "RangeIndex: 69999 entries, 0 to 69998\n",
      "Columns: 172 entries, id to churn_probability\n",
      "dtypes: float64(135), int64(28), object(9)\n",
      "memory usage: 91.9+ MB\n"
     ]
    }
   ],
   "source": [
    "telecom_train_df.info()"
   ]
  },
  {
   "cell_type": "code",
   "execution_count": 10,
   "id": "6803651e",
   "metadata": {},
   "outputs": [
    {
     "data": {
      "text/html": [
       "<div>\n",
       "<style scoped>\n",
       "    .dataframe tbody tr th:only-of-type {\n",
       "        vertical-align: middle;\n",
       "    }\n",
       "\n",
       "    .dataframe tbody tr th {\n",
       "        vertical-align: top;\n",
       "    }\n",
       "\n",
       "    .dataframe thead th {\n",
       "        text-align: right;\n",
       "    }\n",
       "</style>\n",
       "<table border=\"1\" class=\"dataframe\">\n",
       "  <thead>\n",
       "    <tr style=\"text-align: right;\">\n",
       "      <th></th>\n",
       "      <th>id</th>\n",
       "      <th>circle_id</th>\n",
       "      <th>loc_og_t2o_mou</th>\n",
       "      <th>std_og_t2o_mou</th>\n",
       "      <th>loc_ic_t2o_mou</th>\n",
       "      <th>arpu_6</th>\n",
       "      <th>arpu_7</th>\n",
       "      <th>arpu_8</th>\n",
       "      <th>onnet_mou_6</th>\n",
       "      <th>onnet_mou_7</th>\n",
       "      <th>...</th>\n",
       "      <th>sachet_3g_7</th>\n",
       "      <th>sachet_3g_8</th>\n",
       "      <th>fb_user_6</th>\n",
       "      <th>fb_user_7</th>\n",
       "      <th>fb_user_8</th>\n",
       "      <th>aon</th>\n",
       "      <th>aug_vbc_3g</th>\n",
       "      <th>jul_vbc_3g</th>\n",
       "      <th>jun_vbc_3g</th>\n",
       "      <th>churn_probability</th>\n",
       "    </tr>\n",
       "  </thead>\n",
       "  <tbody>\n",
       "    <tr>\n",
       "      <th>count</th>\n",
       "      <td>69999.000000</td>\n",
       "      <td>69999.0</td>\n",
       "      <td>69297.0</td>\n",
       "      <td>69297.0</td>\n",
       "      <td>69297.0</td>\n",
       "      <td>69999.000000</td>\n",
       "      <td>69999.000000</td>\n",
       "      <td>69999.000000</td>\n",
       "      <td>67231.000000</td>\n",
       "      <td>67312.000000</td>\n",
       "      <td>...</td>\n",
       "      <td>69999.000000</td>\n",
       "      <td>69999.000000</td>\n",
       "      <td>17568.000000</td>\n",
       "      <td>17865.000000</td>\n",
       "      <td>18417.000000</td>\n",
       "      <td>69999.000000</td>\n",
       "      <td>69999.000000</td>\n",
       "      <td>69999.000000</td>\n",
       "      <td>69999.00000</td>\n",
       "      <td>69999.000000</td>\n",
       "    </tr>\n",
       "    <tr>\n",
       "      <th>mean</th>\n",
       "      <td>34999.000000</td>\n",
       "      <td>109.0</td>\n",
       "      <td>0.0</td>\n",
       "      <td>0.0</td>\n",
       "      <td>0.0</td>\n",
       "      <td>283.134365</td>\n",
       "      <td>278.185912</td>\n",
       "      <td>278.858826</td>\n",
       "      <td>133.153275</td>\n",
       "      <td>133.894438</td>\n",
       "      <td>...</td>\n",
       "      <td>0.081444</td>\n",
       "      <td>0.085487</td>\n",
       "      <td>0.916325</td>\n",
       "      <td>0.909544</td>\n",
       "      <td>0.890319</td>\n",
       "      <td>1220.639709</td>\n",
       "      <td>68.108597</td>\n",
       "      <td>65.935830</td>\n",
       "      <td>60.07674</td>\n",
       "      <td>0.101887</td>\n",
       "    </tr>\n",
       "    <tr>\n",
       "      <th>std</th>\n",
       "      <td>20207.115084</td>\n",
       "      <td>0.0</td>\n",
       "      <td>0.0</td>\n",
       "      <td>0.0</td>\n",
       "      <td>0.0</td>\n",
       "      <td>334.213918</td>\n",
       "      <td>344.366927</td>\n",
       "      <td>351.924315</td>\n",
       "      <td>299.963093</td>\n",
       "      <td>311.277193</td>\n",
       "      <td>...</td>\n",
       "      <td>0.634547</td>\n",
       "      <td>0.680035</td>\n",
       "      <td>0.276907</td>\n",
       "      <td>0.286842</td>\n",
       "      <td>0.312501</td>\n",
       "      <td>952.426321</td>\n",
       "      <td>269.328659</td>\n",
       "      <td>267.899034</td>\n",
       "      <td>257.22681</td>\n",
       "      <td>0.302502</td>\n",
       "    </tr>\n",
       "    <tr>\n",
       "      <th>min</th>\n",
       "      <td>0.000000</td>\n",
       "      <td>109.0</td>\n",
       "      <td>0.0</td>\n",
       "      <td>0.0</td>\n",
       "      <td>0.0</td>\n",
       "      <td>-2258.709000</td>\n",
       "      <td>-1289.715000</td>\n",
       "      <td>-945.808000</td>\n",
       "      <td>0.000000</td>\n",
       "      <td>0.000000</td>\n",
       "      <td>...</td>\n",
       "      <td>0.000000</td>\n",
       "      <td>0.000000</td>\n",
       "      <td>0.000000</td>\n",
       "      <td>0.000000</td>\n",
       "      <td>0.000000</td>\n",
       "      <td>180.000000</td>\n",
       "      <td>0.000000</td>\n",
       "      <td>0.000000</td>\n",
       "      <td>0.00000</td>\n",
       "      <td>0.000000</td>\n",
       "    </tr>\n",
       "    <tr>\n",
       "      <th>25%</th>\n",
       "      <td>17499.500000</td>\n",
       "      <td>109.0</td>\n",
       "      <td>0.0</td>\n",
       "      <td>0.0</td>\n",
       "      <td>0.0</td>\n",
       "      <td>93.581000</td>\n",
       "      <td>86.714000</td>\n",
       "      <td>84.095000</td>\n",
       "      <td>7.410000</td>\n",
       "      <td>6.675000</td>\n",
       "      <td>...</td>\n",
       "      <td>0.000000</td>\n",
       "      <td>0.000000</td>\n",
       "      <td>1.000000</td>\n",
       "      <td>1.000000</td>\n",
       "      <td>1.000000</td>\n",
       "      <td>468.000000</td>\n",
       "      <td>0.000000</td>\n",
       "      <td>0.000000</td>\n",
       "      <td>0.00000</td>\n",
       "      <td>0.000000</td>\n",
       "    </tr>\n",
       "    <tr>\n",
       "      <th>50%</th>\n",
       "      <td>34999.000000</td>\n",
       "      <td>109.0</td>\n",
       "      <td>0.0</td>\n",
       "      <td>0.0</td>\n",
       "      <td>0.0</td>\n",
       "      <td>197.484000</td>\n",
       "      <td>191.588000</td>\n",
       "      <td>192.234000</td>\n",
       "      <td>34.110000</td>\n",
       "      <td>32.280000</td>\n",
       "      <td>...</td>\n",
       "      <td>0.000000</td>\n",
       "      <td>0.000000</td>\n",
       "      <td>1.000000</td>\n",
       "      <td>1.000000</td>\n",
       "      <td>1.000000</td>\n",
       "      <td>868.000000</td>\n",
       "      <td>0.000000</td>\n",
       "      <td>0.000000</td>\n",
       "      <td>0.00000</td>\n",
       "      <td>0.000000</td>\n",
       "    </tr>\n",
       "    <tr>\n",
       "      <th>75%</th>\n",
       "      <td>52498.500000</td>\n",
       "      <td>109.0</td>\n",
       "      <td>0.0</td>\n",
       "      <td>0.0</td>\n",
       "      <td>0.0</td>\n",
       "      <td>370.791000</td>\n",
       "      <td>365.369500</td>\n",
       "      <td>369.909000</td>\n",
       "      <td>119.390000</td>\n",
       "      <td>115.837500</td>\n",
       "      <td>...</td>\n",
       "      <td>0.000000</td>\n",
       "      <td>0.000000</td>\n",
       "      <td>1.000000</td>\n",
       "      <td>1.000000</td>\n",
       "      <td>1.000000</td>\n",
       "      <td>1813.000000</td>\n",
       "      <td>0.000000</td>\n",
       "      <td>0.000000</td>\n",
       "      <td>0.00000</td>\n",
       "      <td>0.000000</td>\n",
       "    </tr>\n",
       "    <tr>\n",
       "      <th>max</th>\n",
       "      <td>69998.000000</td>\n",
       "      <td>109.0</td>\n",
       "      <td>0.0</td>\n",
       "      <td>0.0</td>\n",
       "      <td>0.0</td>\n",
       "      <td>27731.088000</td>\n",
       "      <td>35145.834000</td>\n",
       "      <td>33543.624000</td>\n",
       "      <td>7376.710000</td>\n",
       "      <td>8157.780000</td>\n",
       "      <td>...</td>\n",
       "      <td>33.000000</td>\n",
       "      <td>41.000000</td>\n",
       "      <td>1.000000</td>\n",
       "      <td>1.000000</td>\n",
       "      <td>1.000000</td>\n",
       "      <td>4337.000000</td>\n",
       "      <td>12916.220000</td>\n",
       "      <td>9165.600000</td>\n",
       "      <td>11166.21000</td>\n",
       "      <td>1.000000</td>\n",
       "    </tr>\n",
       "  </tbody>\n",
       "</table>\n",
       "<p>8 rows × 163 columns</p>\n",
       "</div>"
      ],
      "text/plain": [
       "                 id  circle_id  loc_og_t2o_mou  std_og_t2o_mou  \\\n",
       "count  69999.000000    69999.0         69297.0         69297.0   \n",
       "mean   34999.000000      109.0             0.0             0.0   \n",
       "std    20207.115084        0.0             0.0             0.0   \n",
       "min        0.000000      109.0             0.0             0.0   \n",
       "25%    17499.500000      109.0             0.0             0.0   \n",
       "50%    34999.000000      109.0             0.0             0.0   \n",
       "75%    52498.500000      109.0             0.0             0.0   \n",
       "max    69998.000000      109.0             0.0             0.0   \n",
       "\n",
       "       loc_ic_t2o_mou        arpu_6        arpu_7        arpu_8   onnet_mou_6  \\\n",
       "count         69297.0  69999.000000  69999.000000  69999.000000  67231.000000   \n",
       "mean              0.0    283.134365    278.185912    278.858826    133.153275   \n",
       "std               0.0    334.213918    344.366927    351.924315    299.963093   \n",
       "min               0.0  -2258.709000  -1289.715000   -945.808000      0.000000   \n",
       "25%               0.0     93.581000     86.714000     84.095000      7.410000   \n",
       "50%               0.0    197.484000    191.588000    192.234000     34.110000   \n",
       "75%               0.0    370.791000    365.369500    369.909000    119.390000   \n",
       "max               0.0  27731.088000  35145.834000  33543.624000   7376.710000   \n",
       "\n",
       "        onnet_mou_7  ...   sachet_3g_7   sachet_3g_8     fb_user_6  \\\n",
       "count  67312.000000  ...  69999.000000  69999.000000  17568.000000   \n",
       "mean     133.894438  ...      0.081444      0.085487      0.916325   \n",
       "std      311.277193  ...      0.634547      0.680035      0.276907   \n",
       "min        0.000000  ...      0.000000      0.000000      0.000000   \n",
       "25%        6.675000  ...      0.000000      0.000000      1.000000   \n",
       "50%       32.280000  ...      0.000000      0.000000      1.000000   \n",
       "75%      115.837500  ...      0.000000      0.000000      1.000000   \n",
       "max     8157.780000  ...     33.000000     41.000000      1.000000   \n",
       "\n",
       "          fb_user_7     fb_user_8           aon    aug_vbc_3g    jul_vbc_3g  \\\n",
       "count  17865.000000  18417.000000  69999.000000  69999.000000  69999.000000   \n",
       "mean       0.909544      0.890319   1220.639709     68.108597     65.935830   \n",
       "std        0.286842      0.312501    952.426321    269.328659    267.899034   \n",
       "min        0.000000      0.000000    180.000000      0.000000      0.000000   \n",
       "25%        1.000000      1.000000    468.000000      0.000000      0.000000   \n",
       "50%        1.000000      1.000000    868.000000      0.000000      0.000000   \n",
       "75%        1.000000      1.000000   1813.000000      0.000000      0.000000   \n",
       "max        1.000000      1.000000   4337.000000  12916.220000   9165.600000   \n",
       "\n",
       "        jun_vbc_3g  churn_probability  \n",
       "count  69999.00000       69999.000000  \n",
       "mean      60.07674           0.101887  \n",
       "std      257.22681           0.302502  \n",
       "min        0.00000           0.000000  \n",
       "25%        0.00000           0.000000  \n",
       "50%        0.00000           0.000000  \n",
       "75%        0.00000           0.000000  \n",
       "max    11166.21000           1.000000  \n",
       "\n",
       "[8 rows x 163 columns]"
      ]
     },
     "execution_count": 10,
     "metadata": {},
     "output_type": "execute_result"
    }
   ],
   "source": [
    "telecom_train_df.describe()"
   ]
  },
  {
   "cell_type": "code",
   "execution_count": 11,
   "id": "4be15a7d",
   "metadata": {},
   "outputs": [
    {
     "data": {
      "text/plain": [
       "id                     0\n",
       "circle_id              0\n",
       "loc_og_t2o_mou       702\n",
       "std_og_t2o_mou       702\n",
       "loc_ic_t2o_mou       702\n",
       "                    ... \n",
       "aon                    0\n",
       "aug_vbc_3g             0\n",
       "jul_vbc_3g             0\n",
       "jun_vbc_3g             0\n",
       "churn_probability      0\n",
       "Length: 172, dtype: int64"
      ]
     },
     "execution_count": 11,
     "metadata": {},
     "output_type": "execute_result"
    }
   ],
   "source": [
    "telecom_train_df.isna().sum()"
   ]
  },
  {
   "cell_type": "code",
   "execution_count": 12,
   "id": "be40b9f2",
   "metadata": {},
   "outputs": [
    {
     "data": {
      "text/plain": [
       "id                     int64\n",
       "circle_id              int64\n",
       "loc_og_t2o_mou       float64\n",
       "std_og_t2o_mou       float64\n",
       "loc_ic_t2o_mou       float64\n",
       "                      ...   \n",
       "aon                    int64\n",
       "aug_vbc_3g           float64\n",
       "jul_vbc_3g           float64\n",
       "jun_vbc_3g           float64\n",
       "churn_probability      int64\n",
       "Length: 172, dtype: object"
      ]
     },
     "execution_count": 12,
     "metadata": {},
     "output_type": "execute_result"
    }
   ],
   "source": [
    "telecom_train_df.dtypes"
   ]
  },
  {
   "cell_type": "code",
   "execution_count": 13,
   "id": "a6b6c597",
   "metadata": {},
   "outputs": [],
   "source": [
    "# Columns which we have to impute as Zero as thy should not be dropped based on missing values becuase they are important.\n",
    "rech_cols_to_impute = [x for x in telecom_train_df.columns if 'rech' in x and \n",
    "                       'count' not in x and 'date' not in x and 'num' not in x]\n",
    "telecom_train_df[rech_cols_to_impute] = telecom_train_df[rech_cols_to_impute].apply(lambda x: x.fillna(0))\n",
    "telecom_test_df[rech_cols_to_impute] = telecom_test_df[rech_cols_to_impute].apply(lambda x: x.fillna(0))\n"
   ]
  },
  {
   "cell_type": "markdown",
   "id": "1c81836f",
   "metadata": {},
   "source": [
    "### Dropping rows for both train and test datasets\n",
    " - Rows which are empty"
   ]
  },
  {
   "cell_type": "code",
   "execution_count": 14,
   "id": "060c74b4",
   "metadata": {},
   "outputs": [],
   "source": [
    "telecom_train_df.dropna(axis=0, how='all', inplace=True)\n",
    "telecom_test_df.dropna(axis=0, how='all', inplace=True)"
   ]
  },
  {
   "cell_type": "code",
   "execution_count": 15,
   "id": "af10b97f",
   "metadata": {},
   "outputs": [
    {
     "name": "stdout",
     "output_type": "stream",
     "text": [
      "(69999, 172)\n",
      "(30000, 171)\n"
     ]
    }
   ],
   "source": [
    "print(telecom_train_df.shape)\n",
    "print(telecom_test_df.shape)"
   ]
  },
  {
   "cell_type": "markdown",
   "id": "8e06618c",
   "metadata": {},
   "source": [
    "### Dropping columns for both train and test datasets\n",
    "\n",
    "    - Not needed columns like Id, last_date_of_month_6 etc.\n",
    "    - Columns having more than 70% values as null"
   ]
  },
  {
   "cell_type": "code",
   "execution_count": 16,
   "id": "abd04209",
   "metadata": {},
   "outputs": [],
   "source": [
    "# For us dates doesn't matter as long as customer is doing a recharge.\n",
    "cols_to_delete = ['id', 'last_date_of_month_6', 'last_date_of_month_7', 'last_date_of_month_8',\n",
    "                  'date_of_last_rech_data_6', 'date_of_last_rech_data_7', 'date_of_last_rech_data_8',\n",
    "                  'date_of_last_rech_6', 'date_of_last_rech_7', 'date_of_last_rech_8'\n",
    "                 ]\n",
    "telecom_train_df.drop(cols_to_delete, axis=1, inplace=True)\n",
    "telecom_test_df.drop(cols_to_delete, axis=1, inplace=True)"
   ]
  },
  {
   "cell_type": "code",
   "execution_count": 17,
   "id": "4d5907c5",
   "metadata": {},
   "outputs": [
    {
     "data": {
      "text/plain": [
       "arpu_3g_8           0.74\n",
       "night_pck_user_8    0.74\n",
       "night_pck_user_7    0.74\n",
       "arpu_2g_8           0.74\n",
       "arpu_2g_7           0.74\n",
       "fb_user_7           0.74\n",
       "arpu_3g_7           0.74\n",
       "fb_user_8           0.74\n",
       "count_rech_3g_8     0.74\n",
       "count_rech_3g_7     0.74\n",
       "count_rech_2g_8     0.74\n",
       "count_rech_2g_7     0.74\n",
       "arpu_2g_6           0.75\n",
       "count_rech_3g_6     0.75\n",
       "night_pck_user_6    0.75\n",
       "fb_user_6           0.75\n",
       "arpu_3g_6           0.75\n",
       "count_rech_2g_6     0.75\n",
       "dtype: float64"
      ]
     },
     "execution_count": 17,
     "metadata": {},
     "output_type": "execute_result"
    }
   ],
   "source": [
    "# to check the % of null values\n",
    "round((pd.isnull(telecom_train_df).sum()/len(telecom_train_df.index)),2)[pd.isnull(telecom_train_df).sum()/ len(telecom_train_df.index) > 0.70].sort_values()"
   ]
  },
  {
   "cell_type": "code",
   "execution_count": 18,
   "id": "af4da69b",
   "metadata": {},
   "outputs": [
    {
     "data": {
      "text/plain": [
       "18"
      ]
     },
     "execution_count": 18,
     "metadata": {},
     "output_type": "execute_result"
    }
   ],
   "source": [
    "# count of missing data > 70% columns in train dataset\n",
    "len(round((pd.isnull(telecom_train_df).sum()/len(telecom_train_df.index)),2)[pd.isnull(telecom_train_df).sum()/ len(telecom_train_df.index) > 0.70].sort_values())"
   ]
  },
  {
   "cell_type": "code",
   "execution_count": 19,
   "id": "08b6ed61",
   "metadata": {},
   "outputs": [
    {
     "data": {
      "text/plain": [
       "18"
      ]
     },
     "execution_count": 19,
     "metadata": {},
     "output_type": "execute_result"
    }
   ],
   "source": [
    "# count of missing data > 70% columns in test dataset\n",
    "len(round((pd.isnull(telecom_test_df).sum()/len(telecom_test_df.index)),2)[pd.isnull(telecom_test_df).sum()/ len(telecom_test_df.index) > 0.70].sort_values())"
   ]
  },
  {
   "cell_type": "markdown",
   "id": "91b77121",
   "metadata": {},
   "source": [
    "### As we have more than 70% data as null for 18 columns in train and test, we are dropping these columns from dataset."
   ]
  },
  {
   "cell_type": "code",
   "execution_count": 20,
   "id": "176525b2",
   "metadata": {},
   "outputs": [],
   "source": [
    "cols_to_delete = ((pd.isnull(telecom_train_df).sum()/len(telecom_train_df.index))[pd.isnull(telecom_train_df).sum()/ len(telecom_train_df.index) > 0.70].sort_values()).keys()"
   ]
  },
  {
   "cell_type": "code",
   "execution_count": 21,
   "id": "decb3b20",
   "metadata": {},
   "outputs": [
    {
     "name": "stdout",
     "output_type": "stream",
     "text": [
      "['arpu_3g_8', 'night_pck_user_8', 'arpu_2g_8', 'count_rech_3g_8', 'fb_user_8', 'count_rech_2g_8', 'arpu_3g_7', 'fb_user_7', 'arpu_2g_7', 'night_pck_user_7', 'count_rech_2g_7', 'count_rech_3g_7', 'count_rech_3g_6', 'arpu_3g_6', 'arpu_2g_6', 'night_pck_user_6', 'fb_user_6', 'count_rech_2g_6']\n"
     ]
    }
   ],
   "source": [
    "cols_to_delete = cols_to_delete.to_list()\n",
    "print(cols_to_delete)"
   ]
  },
  {
   "cell_type": "code",
   "execution_count": 22,
   "id": "03312c5b",
   "metadata": {},
   "outputs": [],
   "source": [
    "telecom_train_df = telecom_train_df.drop(cols_to_delete, axis=1)"
   ]
  },
  {
   "cell_type": "code",
   "execution_count": 23,
   "id": "be9a60c3",
   "metadata": {},
   "outputs": [
    {
     "data": {
      "text/plain": [
       "(69999, 144)"
      ]
     },
     "execution_count": 23,
     "metadata": {},
     "output_type": "execute_result"
    }
   ],
   "source": [
    "telecom_train_df.shape"
   ]
  },
  {
   "cell_type": "code",
   "execution_count": 24,
   "id": "8ada9939",
   "metadata": {},
   "outputs": [],
   "source": [
    "telecom_test_df = telecom_test_df.drop(cols_to_delete, axis=1)"
   ]
  },
  {
   "cell_type": "code",
   "execution_count": 25,
   "id": "aa95c6a9",
   "metadata": {},
   "outputs": [
    {
     "data": {
      "text/plain": [
       "(30000, 143)"
      ]
     },
     "execution_count": 25,
     "metadata": {},
     "output_type": "execute_result"
    }
   ],
   "source": [
    "telecom_test_df.shape"
   ]
  },
  {
   "cell_type": "markdown",
   "id": "4e359e28",
   "metadata": {},
   "source": [
    "## Lets check the data types of columns now"
   ]
  },
  {
   "cell_type": "code",
   "execution_count": 26,
   "id": "51cfe2ea",
   "metadata": {},
   "outputs": [
    {
     "name": "stdout",
     "output_type": "stream",
     "text": [
      "<class 'pandas.core.frame.DataFrame'>\n",
      "Int64Index: 69999 entries, 0 to 69998\n",
      "Columns: 144 entries, circle_id to churn_probability\n",
      "dtypes: float64(117), int64(27)\n",
      "memory usage: 77.4 MB\n"
     ]
    }
   ],
   "source": [
    "telecom_train_df.info()"
   ]
  },
  {
   "cell_type": "code",
   "execution_count": 27,
   "id": "d47ca287",
   "metadata": {},
   "outputs": [
    {
     "name": "stdout",
     "output_type": "stream",
     "text": [
      "<class 'pandas.core.frame.DataFrame'>\n",
      "Int64Index: 30000 entries, 0 to 29999\n",
      "Columns: 143 entries, circle_id to jun_vbc_3g\n",
      "dtypes: float64(117), int64(26)\n",
      "memory usage: 33.0 MB\n"
     ]
    }
   ],
   "source": [
    "telecom_test_df.info()"
   ]
  },
  {
   "cell_type": "markdown",
   "id": "b0444c3e",
   "metadata": {},
   "source": [
    "### We can see now we don't have any categorical data, all are numerical data only."
   ]
  },
  {
   "cell_type": "markdown",
   "id": "da80afd3",
   "metadata": {},
   "source": [
    "### Imputing the na values with\n",
    " - Median for numerical variables\n",
    " - Mode for categorical variables - Not needed in out this case."
   ]
  },
  {
   "cell_type": "code",
   "execution_count": 28,
   "id": "3ce3ad7a",
   "metadata": {},
   "outputs": [],
   "source": [
    "# A generic method to impute na\n",
    "def replace_na(df, columns, data_type):\n",
    "    for col in columns:\n",
    "        if data_type == 'categorical':\n",
    "            value = pd.to_datetime(df[col]).mode()\n",
    "        else:\n",
    "            value = df[col].median()\n",
    "        df[col].fillna(value, inplace=True)\n",
    "    return df"
   ]
  },
  {
   "cell_type": "code",
   "execution_count": 29,
   "id": "b802153c",
   "metadata": {},
   "outputs": [],
   "source": [
    "telecom_train_df = replace_na(telecom_train_df, telecom_train_df.columns, 'numerical')\n",
    "telecom_test_df = replace_na(telecom_test_df, telecom_test_df.columns, 'numerical')"
   ]
  },
  {
   "cell_type": "markdown",
   "id": "8a21f588",
   "metadata": {},
   "source": [
    "### Lets check for unique entries in train and test dataset"
   ]
  },
  {
   "cell_type": "code",
   "execution_count": 30,
   "id": "4bafbc9c",
   "metadata": {},
   "outputs": [],
   "source": [
    "def cols_to_delete_unique(df, df_columns, threshold=4):\n",
    "    # threshold=4 means column has only 1 unique value\n",
    "    # eg. telecom_train_df['circle_id'].describe().unique() --> array([30000.,   109.,     0.])\n",
    "    # Here because there are all 109 in column, we have only 3 entries in array.\n",
    "    cols_to_delete = []\n",
    "    for column in df_columns:\n",
    "        if len(df[column].describe().unique()) < threshold:\n",
    "            cols_to_delete.append(column)\n",
    "    \n",
    "    return cols_to_delete"
   ]
  },
  {
   "cell_type": "code",
   "execution_count": 31,
   "id": "bf0895de",
   "metadata": {},
   "outputs": [
    {
     "name": "stdout",
     "output_type": "stream",
     "text": [
      "(69999, 144)\n",
      "(30000, 143)\n"
     ]
    }
   ],
   "source": [
    "print(telecom_train_df.shape)\n",
    "print(telecom_test_df.shape)"
   ]
  },
  {
   "cell_type": "code",
   "execution_count": 32,
   "id": "8c597e15",
   "metadata": {},
   "outputs": [
    {
     "name": "stdout",
     "output_type": "stream",
     "text": [
      "(69999, 134)\n",
      "(30000, 133)\n"
     ]
    }
   ],
   "source": [
    "# on train data\n",
    "telecom_train_df = telecom_train_df.drop(cols_to_delete_unique(telecom_train_df, telecom_train_df.columns), axis=1)\n",
    "print(telecom_train_df.shape)\n",
    "\n",
    "# on test data\n",
    "telecom_test_df = telecom_test_df.drop(cols_to_delete_unique(telecom_test_df, telecom_test_df.columns), axis=1)\n",
    "print(telecom_test_df.shape)"
   ]
  },
  {
   "cell_type": "markdown",
   "id": "20f6d3fb",
   "metadata": {},
   "source": [
    "### Lets find the high value customers based on recharge done in 6th and 7th month and update dataframe"
   ]
  },
  {
   "cell_type": "markdown",
   "id": "1e6656b1",
   "metadata": {},
   "source": [
    "### For train data"
   ]
  },
  {
   "cell_type": "code",
   "execution_count": 33,
   "id": "ea5fecfd",
   "metadata": {},
   "outputs": [
    {
     "data": {
      "text/plain": [
       "477.5"
      ]
     },
     "execution_count": 33,
     "metadata": {},
     "output_type": "execute_result"
    }
   ],
   "source": [
    "# total data recharge in 6th, 7th and 8th months\n",
    "telecom_train_df[\"total_data_recharge_amnt_6\"] = telecom_train_df.total_rech_data_6 * telecom_train_df.av_rech_amt_data_6\n",
    "telecom_train_df[\"total_data_recharge_amnt_7\"] = telecom_train_df.total_rech_data_7 * telecom_train_df.av_rech_amt_data_7\n",
    "telecom_train_df[\"total_data_recharge_amnt_8\"] = telecom_train_df.total_rech_data_8 * telecom_train_df.av_rech_amt_data_8\n",
    "\n",
    "# total amount spent on recharge in 6th, 7th and 8th months\n",
    "telecom_train_df[\"total_recharge_amnt_6\"] = telecom_train_df.total_rech_amt_6 + telecom_train_df.total_data_recharge_amnt_6\n",
    "telecom_train_df[\"total_recharge_amnt_7\"] = telecom_train_df.total_rech_amt_7 + telecom_train_df.total_data_recharge_amnt_7\n",
    "telecom_train_df[\"total_recharge_amnt_8\"] = telecom_train_df.total_rech_amt_8 + telecom_train_df.total_data_recharge_amnt_8\n",
    "\n",
    "# average recharge for 6th and 7th month\n",
    "telecom_train_df['average_amnt_6_7'] = (telecom_train_df[\"total_recharge_amnt_6\"] + telecom_train_df[\"total_recharge_amnt_7\"])/2\n",
    "\n",
    "# 70th percentile of average_amnt_6_7\n",
    "telecom_train_df['average_amnt_6_7'].quantile(.70)"
   ]
  },
  {
   "cell_type": "markdown",
   "id": "0768613e",
   "metadata": {},
   "source": [
    "## Filter dataset based on average_amnt_6_7 (70th percentile for train dataset is 477.5)"
   ]
  },
  {
   "cell_type": "code",
   "execution_count": 34,
   "id": "5af14b93",
   "metadata": {},
   "outputs": [],
   "source": [
    "telecom_train_df = telecom_train_df[telecom_train_df[\"average_amnt_6_7\"]>= telecom_train_df[\"average_amnt_6_7\"].quantile(.70)]"
   ]
  },
  {
   "cell_type": "code",
   "execution_count": 35,
   "id": "982270cb",
   "metadata": {},
   "outputs": [
    {
     "data": {
      "text/plain": [
       "(21013, 141)"
      ]
     },
     "execution_count": 35,
     "metadata": {},
     "output_type": "execute_result"
    }
   ],
   "source": [
    "telecom_train_df.shape"
   ]
  },
  {
   "cell_type": "code",
   "execution_count": 36,
   "id": "601472bc",
   "metadata": {},
   "outputs": [],
   "source": [
    "# Lets remove not needed newly added features\n",
    "telecom_train_df.drop(['total_data_recharge_amnt_6', 'total_data_recharge_amnt_7', 'total_data_recharge_amnt_8',\n",
    "                        'total_recharge_amnt_6', 'total_recharge_amnt_7', 'total_recharge_amnt_8',\n",
    "                        'average_amnt_6_7'], \n",
    "                      axis=1, inplace=True)"
   ]
  },
  {
   "cell_type": "markdown",
   "id": "40627e53",
   "metadata": {},
   "source": [
    "## Lets focus on Outliers now and treat them"
   ]
  },
  {
   "cell_type": "code",
   "execution_count": 37,
   "id": "d0b9f1cf",
   "metadata": {},
   "outputs": [],
   "source": [
    "# Generic method to remove outliers\n",
    "def remove_outliers(df, features):\n",
    "    for feature in features:\n",
    "        q1 = df[feature].quantile(0.25)\n",
    "        q3 = df[feature].quantile(0.99)\n",
    "        iqr = q3-q1\n",
    "        lower_value  = q1 - (1.5 * iqr)\n",
    "        higer_value = q3 + (1.5 * iqr)\n",
    "        df = df[(df[feature] <= higer_value) & (df[feature] >= lower_value)]\n",
    "    return df"
   ]
  },
  {
   "cell_type": "code",
   "execution_count": 38,
   "id": "537a1234",
   "metadata": {},
   "outputs": [],
   "source": [
    "telecom_train_df_wo_outlier = remove_outliers(telecom_train_df, telecom_train_df.columns)\n",
    "telecom_test_df_wo_outlier = remove_outliers(telecom_test_df, telecom_test_df.columns)"
   ]
  },
  {
   "cell_type": "code",
   "execution_count": 39,
   "id": "09c79cc2",
   "metadata": {},
   "outputs": [
    {
     "data": {
      "text/plain": [
       "(21013, 134)"
      ]
     },
     "execution_count": 39,
     "metadata": {},
     "output_type": "execute_result"
    }
   ],
   "source": [
    "telecom_train_df.shape"
   ]
  },
  {
   "cell_type": "code",
   "execution_count": 40,
   "id": "c7911de6",
   "metadata": {},
   "outputs": [
    {
     "data": {
      "text/plain": [
       "(30000, 133)"
      ]
     },
     "execution_count": 40,
     "metadata": {},
     "output_type": "execute_result"
    }
   ],
   "source": [
    "telecom_test_df.shape"
   ]
  },
  {
   "cell_type": "code",
   "execution_count": 41,
   "id": "3326e386",
   "metadata": {},
   "outputs": [
    {
     "data": {
      "text/plain": [
       "(18805, 134)"
      ]
     },
     "execution_count": 41,
     "metadata": {},
     "output_type": "execute_result"
    }
   ],
   "source": [
    "telecom_train_df_wo_outlier.shape"
   ]
  },
  {
   "cell_type": "code",
   "execution_count": 42,
   "id": "2348477c",
   "metadata": {},
   "outputs": [
    {
     "data": {
      "text/plain": [
       "(26190, 133)"
      ]
     },
     "execution_count": 42,
     "metadata": {},
     "output_type": "execute_result"
    }
   ],
   "source": [
    "telecom_test_df_wo_outlier.shape"
   ]
  },
  {
   "cell_type": "markdown",
   "id": "d97d804d",
   "metadata": {},
   "source": [
    "### Even though there are outliers but in this assignmnet we are looking for higest paying customers only.\n",
    "### So better we decided not to remove outliers."
   ]
  },
  {
   "cell_type": "markdown",
   "id": "ad731d80",
   "metadata": {},
   "source": [
    "## Let's check for Data imbalance here"
   ]
  },
  {
   "cell_type": "code",
   "execution_count": 43,
   "id": "d7df398d",
   "metadata": {},
   "outputs": [],
   "source": [
    "churn_data_rows = telecom_train_df['churn_probability'].sum()"
   ]
  },
  {
   "cell_type": "code",
   "execution_count": 44,
   "id": "addc0c33",
   "metadata": {},
   "outputs": [
    {
     "data": {
      "text/plain": [
       "8.275829248560415"
      ]
     },
     "execution_count": 44,
     "metadata": {},
     "output_type": "execute_result"
    }
   ],
   "source": [
    "churn_data_rows/len(telecom_train_df) * 100"
   ]
  },
  {
   "cell_type": "markdown",
   "id": "8fa850d6",
   "metadata": {},
   "source": [
    "### We can see that there is a data imbalance. We have only about 8.28% of data as Churn and 91.72% as not churn.\n",
    "### So we need to apply data imbalance technique. We will use SMOTE."
   ]
  },
  {
   "cell_type": "markdown",
   "id": "0624b7f7",
   "metadata": {},
   "source": [
    "## Dividing the data from telecom_train_df to train the model"
   ]
  },
  {
   "cell_type": "code",
   "execution_count": 45,
   "id": "2c3467e0",
   "metadata": {},
   "outputs": [],
   "source": [
    "y = telecom_train_df['churn_probability']\n",
    "X = telecom_train_df.drop(['churn_probability'], axis=1)\n",
    "\n",
    "telecom_train_df.drop('churn_probability', axis=1, inplace=True)"
   ]
  },
  {
   "cell_type": "code",
   "execution_count": 46,
   "id": "b3edc2c2",
   "metadata": {},
   "outputs": [],
   "source": [
    "# Splitting the data into test and train\n",
    "X_train, X_test, y_train, y_test = train_test_split(X, y, train_size=0.7, test_size=0.3, random_state=100)"
   ]
  },
  {
   "cell_type": "markdown",
   "id": "93ad1282",
   "metadata": {},
   "source": [
    "## Taking a backup of variables"
   ]
  },
  {
   "cell_type": "code",
   "execution_count": 47,
   "id": "20dae04f",
   "metadata": {},
   "outputs": [],
   "source": [
    "X_train_ori, X_test_ori, y_train_ori, y_test_ori = X_train.copy(), X_test.copy(), y_train.copy(), y_test.copy()"
   ]
  },
  {
   "cell_type": "markdown",
   "id": "5496cd44",
   "metadata": {},
   "source": [
    "## Rescaling of the variables\n",
    "\n",
    "- We will use Min-Max scaling (Normalization) --> compresses all the data between 0 and 1"
   ]
  },
  {
   "cell_type": "code",
   "execution_count": 48,
   "id": "7ad21932",
   "metadata": {},
   "outputs": [
    {
     "data": {
      "text/html": [
       "<div>\n",
       "<style scoped>\n",
       "    .dataframe tbody tr th:only-of-type {\n",
       "        vertical-align: middle;\n",
       "    }\n",
       "\n",
       "    .dataframe tbody tr th {\n",
       "        vertical-align: top;\n",
       "    }\n",
       "\n",
       "    .dataframe thead th {\n",
       "        text-align: right;\n",
       "    }\n",
       "</style>\n",
       "<table border=\"1\" class=\"dataframe\">\n",
       "  <thead>\n",
       "    <tr style=\"text-align: right;\">\n",
       "      <th></th>\n",
       "      <th>arpu_6</th>\n",
       "      <th>arpu_7</th>\n",
       "      <th>arpu_8</th>\n",
       "      <th>onnet_mou_6</th>\n",
       "      <th>onnet_mou_7</th>\n",
       "      <th>onnet_mou_8</th>\n",
       "      <th>offnet_mou_6</th>\n",
       "      <th>offnet_mou_7</th>\n",
       "      <th>offnet_mou_8</th>\n",
       "      <th>roam_ic_mou_6</th>\n",
       "      <th>...</th>\n",
       "      <th>monthly_3g_6</th>\n",
       "      <th>monthly_3g_7</th>\n",
       "      <th>monthly_3g_8</th>\n",
       "      <th>sachet_3g_6</th>\n",
       "      <th>sachet_3g_7</th>\n",
       "      <th>sachet_3g_8</th>\n",
       "      <th>aon</th>\n",
       "      <th>aug_vbc_3g</th>\n",
       "      <th>jul_vbc_3g</th>\n",
       "      <th>jun_vbc_3g</th>\n",
       "    </tr>\n",
       "  </thead>\n",
       "  <tbody>\n",
       "    <tr>\n",
       "      <th>6968</th>\n",
       "      <td>0.127277</td>\n",
       "      <td>0.274576</td>\n",
       "      <td>0.081830</td>\n",
       "      <td>0.004624</td>\n",
       "      <td>0.004018</td>\n",
       "      <td>0.002985</td>\n",
       "      <td>0.011537</td>\n",
       "      <td>0.040985</td>\n",
       "      <td>0.006554</td>\n",
       "      <td>0.000000</td>\n",
       "      <td>...</td>\n",
       "      <td>0.0</td>\n",
       "      <td>0.0</td>\n",
       "      <td>0.0</td>\n",
       "      <td>0.000000</td>\n",
       "      <td>0.000000</td>\n",
       "      <td>0.00000</td>\n",
       "      <td>0.337600</td>\n",
       "      <td>0.000000</td>\n",
       "      <td>0.002051</td>\n",
       "      <td>0.000000</td>\n",
       "    </tr>\n",
       "    <tr>\n",
       "      <th>42203</th>\n",
       "      <td>0.156166</td>\n",
       "      <td>0.094305</td>\n",
       "      <td>0.083632</td>\n",
       "      <td>0.066057</td>\n",
       "      <td>0.041462</td>\n",
       "      <td>0.074009</td>\n",
       "      <td>0.065428</td>\n",
       "      <td>0.053213</td>\n",
       "      <td>0.049054</td>\n",
       "      <td>0.000000</td>\n",
       "      <td>...</td>\n",
       "      <td>0.0</td>\n",
       "      <td>0.0</td>\n",
       "      <td>0.0</td>\n",
       "      <td>0.000000</td>\n",
       "      <td>0.000000</td>\n",
       "      <td>0.00000</td>\n",
       "      <td>0.009660</td>\n",
       "      <td>0.000000</td>\n",
       "      <td>0.000000</td>\n",
       "      <td>0.000000</td>\n",
       "    </tr>\n",
       "    <tr>\n",
       "      <th>18406</th>\n",
       "      <td>0.151447</td>\n",
       "      <td>0.122733</td>\n",
       "      <td>0.087708</td>\n",
       "      <td>0.015153</td>\n",
       "      <td>0.016084</td>\n",
       "      <td>0.008306</td>\n",
       "      <td>0.056327</td>\n",
       "      <td>0.259820</td>\n",
       "      <td>0.136117</td>\n",
       "      <td>0.005055</td>\n",
       "      <td>...</td>\n",
       "      <td>0.0</td>\n",
       "      <td>0.0</td>\n",
       "      <td>0.0</td>\n",
       "      <td>0.000000</td>\n",
       "      <td>0.000000</td>\n",
       "      <td>0.00000</td>\n",
       "      <td>0.702487</td>\n",
       "      <td>0.000000</td>\n",
       "      <td>0.000000</td>\n",
       "      <td>0.000000</td>\n",
       "    </tr>\n",
       "    <tr>\n",
       "      <th>21455</th>\n",
       "      <td>0.171177</td>\n",
       "      <td>0.128305</td>\n",
       "      <td>0.077781</td>\n",
       "      <td>0.009636</td>\n",
       "      <td>0.010909</td>\n",
       "      <td>0.006579</td>\n",
       "      <td>0.081607</td>\n",
       "      <td>0.121132</td>\n",
       "      <td>0.038009</td>\n",
       "      <td>0.005166</td>\n",
       "      <td>...</td>\n",
       "      <td>0.0</td>\n",
       "      <td>0.0</td>\n",
       "      <td>0.0</td>\n",
       "      <td>0.000000</td>\n",
       "      <td>0.030303</td>\n",
       "      <td>0.02439</td>\n",
       "      <td>0.542381</td>\n",
       "      <td>0.029661</td>\n",
       "      <td>0.043865</td>\n",
       "      <td>0.039021</td>\n",
       "    </tr>\n",
       "    <tr>\n",
       "      <th>66143</th>\n",
       "      <td>0.138174</td>\n",
       "      <td>0.087866</td>\n",
       "      <td>0.074838</td>\n",
       "      <td>0.000000</td>\n",
       "      <td>0.006171</td>\n",
       "      <td>0.001633</td>\n",
       "      <td>0.000000</td>\n",
       "      <td>0.033354</td>\n",
       "      <td>0.020053</td>\n",
       "      <td>0.000000</td>\n",
       "      <td>...</td>\n",
       "      <td>0.0</td>\n",
       "      <td>0.0</td>\n",
       "      <td>0.0</td>\n",
       "      <td>0.034483</td>\n",
       "      <td>0.000000</td>\n",
       "      <td>0.00000</td>\n",
       "      <td>0.055301</td>\n",
       "      <td>0.098218</td>\n",
       "      <td>0.000000</td>\n",
       "      <td>0.000000</td>\n",
       "    </tr>\n",
       "  </tbody>\n",
       "</table>\n",
       "<p>5 rows × 133 columns</p>\n",
       "</div>"
      ],
      "text/plain": [
       "         arpu_6    arpu_7    arpu_8  onnet_mou_6  onnet_mou_7  onnet_mou_8  \\\n",
       "6968   0.127277  0.274576  0.081830     0.004624     0.004018     0.002985   \n",
       "42203  0.156166  0.094305  0.083632     0.066057     0.041462     0.074009   \n",
       "18406  0.151447  0.122733  0.087708     0.015153     0.016084     0.008306   \n",
       "21455  0.171177  0.128305  0.077781     0.009636     0.010909     0.006579   \n",
       "66143  0.138174  0.087866  0.074838     0.000000     0.006171     0.001633   \n",
       "\n",
       "       offnet_mou_6  offnet_mou_7  offnet_mou_8  roam_ic_mou_6  ...  \\\n",
       "6968       0.011537      0.040985      0.006554       0.000000  ...   \n",
       "42203      0.065428      0.053213      0.049054       0.000000  ...   \n",
       "18406      0.056327      0.259820      0.136117       0.005055  ...   \n",
       "21455      0.081607      0.121132      0.038009       0.005166  ...   \n",
       "66143      0.000000      0.033354      0.020053       0.000000  ...   \n",
       "\n",
       "       monthly_3g_6  monthly_3g_7  monthly_3g_8  sachet_3g_6  sachet_3g_7  \\\n",
       "6968            0.0           0.0           0.0     0.000000     0.000000   \n",
       "42203           0.0           0.0           0.0     0.000000     0.000000   \n",
       "18406           0.0           0.0           0.0     0.000000     0.000000   \n",
       "21455           0.0           0.0           0.0     0.000000     0.030303   \n",
       "66143           0.0           0.0           0.0     0.034483     0.000000   \n",
       "\n",
       "       sachet_3g_8       aon  aug_vbc_3g  jul_vbc_3g  jun_vbc_3g  \n",
       "6968       0.00000  0.337600    0.000000    0.002051    0.000000  \n",
       "42203      0.00000  0.009660    0.000000    0.000000    0.000000  \n",
       "18406      0.00000  0.702487    0.000000    0.000000    0.000000  \n",
       "21455      0.02439  0.542381    0.029661    0.043865    0.039021  \n",
       "66143      0.00000  0.055301    0.098218    0.000000    0.000000  \n",
       "\n",
       "[5 rows x 133 columns]"
      ]
     },
     "execution_count": 48,
     "metadata": {},
     "output_type": "execute_result"
    }
   ],
   "source": [
    "# Creating MinMaxScaler object\n",
    "scaler = MinMaxScaler()\n",
    "# fit on data\n",
    "# removed churn_probability becuase test data is not having it.\n",
    "# Also churn_probability is having 0 and 1 only. So it need not be scaled.\n",
    "train_numerical_columns = telecom_train_df.columns.to_list()\n",
    "X_train[train_numerical_columns] = scaler.fit_transform(X_train[train_numerical_columns])\n",
    "X_train.head()\n",
    "# So all numberic values are now between 0 and 1"
   ]
  },
  {
   "cell_type": "code",
   "execution_count": 49,
   "id": "37e1ef44",
   "metadata": {},
   "outputs": [],
   "source": [
    "X_resampled, y_resampled = SMOTE().fit_resample(X_train, y_train)"
   ]
  },
  {
   "cell_type": "code",
   "execution_count": 50,
   "id": "90982153",
   "metadata": {},
   "outputs": [
    {
     "data": {
      "text/plain": [
       "(27020, 133)"
      ]
     },
     "execution_count": 50,
     "metadata": {},
     "output_type": "execute_result"
    }
   ],
   "source": [
    "X_resampled.shape"
   ]
  },
  {
   "cell_type": "code",
   "execution_count": 51,
   "id": "5a229479",
   "metadata": {},
   "outputs": [
    {
     "data": {
      "text/plain": [
       "50.0"
      ]
     },
     "execution_count": 51,
     "metadata": {},
     "output_type": "execute_result"
    }
   ],
   "source": [
    "sum(y_resampled)/len(y_resampled) * 100"
   ]
  },
  {
   "cell_type": "code",
   "execution_count": 52,
   "id": "d61d30d4",
   "metadata": {},
   "outputs": [
    {
     "data": {
      "text/plain": [
       "(30000, 133)"
      ]
     },
     "execution_count": 52,
     "metadata": {},
     "output_type": "execute_result"
    }
   ],
   "source": [
    "telecom_test_df.shape"
   ]
  },
  {
   "cell_type": "markdown",
   "id": "c0f8f8db",
   "metadata": {},
   "source": [
    "## Now there is no data imbalance."
   ]
  },
  {
   "cell_type": "code",
   "execution_count": 53,
   "id": "b84d8439",
   "metadata": {},
   "outputs": [
    {
     "data": {
      "text/html": [
       "<div>\n",
       "<style scoped>\n",
       "    .dataframe tbody tr th:only-of-type {\n",
       "        vertical-align: middle;\n",
       "    }\n",
       "\n",
       "    .dataframe tbody tr th {\n",
       "        vertical-align: top;\n",
       "    }\n",
       "\n",
       "    .dataframe thead th {\n",
       "        text-align: right;\n",
       "    }\n",
       "</style>\n",
       "<table border=\"1\" class=\"dataframe\">\n",
       "  <thead>\n",
       "    <tr style=\"text-align: right;\">\n",
       "      <th></th>\n",
       "      <th>arpu_6</th>\n",
       "      <th>arpu_7</th>\n",
       "      <th>arpu_8</th>\n",
       "      <th>onnet_mou_6</th>\n",
       "      <th>onnet_mou_7</th>\n",
       "      <th>onnet_mou_8</th>\n",
       "      <th>offnet_mou_6</th>\n",
       "      <th>offnet_mou_7</th>\n",
       "      <th>offnet_mou_8</th>\n",
       "      <th>roam_ic_mou_6</th>\n",
       "      <th>...</th>\n",
       "      <th>monthly_3g_6</th>\n",
       "      <th>monthly_3g_7</th>\n",
       "      <th>monthly_3g_8</th>\n",
       "      <th>sachet_3g_6</th>\n",
       "      <th>sachet_3g_7</th>\n",
       "      <th>sachet_3g_8</th>\n",
       "      <th>aon</th>\n",
       "      <th>aug_vbc_3g</th>\n",
       "      <th>jul_vbc_3g</th>\n",
       "      <th>jun_vbc_3g</th>\n",
       "    </tr>\n",
       "  </thead>\n",
       "  <tbody>\n",
       "    <tr>\n",
       "      <th>0</th>\n",
       "      <td>0.132455</td>\n",
       "      <td>0.074824</td>\n",
       "      <td>0.049909</td>\n",
       "      <td>0.004308</td>\n",
       "      <td>0.002480</td>\n",
       "      <td>0.002149</td>\n",
       "      <td>0.007194</td>\n",
       "      <td>0.004771</td>\n",
       "      <td>0.002487</td>\n",
       "      <td>0.000000</td>\n",
       "      <td>...</td>\n",
       "      <td>0.0</td>\n",
       "      <td>0.0</td>\n",
       "      <td>0.0</td>\n",
       "      <td>0.0</td>\n",
       "      <td>0.0</td>\n",
       "      <td>0.0</td>\n",
       "      <td>0.365129</td>\n",
       "      <td>0.000000</td>\n",
       "      <td>0.000000</td>\n",
       "      <td>0.0000</td>\n",
       "    </tr>\n",
       "    <tr>\n",
       "      <th>1</th>\n",
       "      <td>0.150615</td>\n",
       "      <td>0.099685</td>\n",
       "      <td>0.064554</td>\n",
       "      <td>0.010236</td>\n",
       "      <td>0.005052</td>\n",
       "      <td>0.001845</td>\n",
       "      <td>0.056723</td>\n",
       "      <td>0.092260</td>\n",
       "      <td>0.028195</td>\n",
       "      <td>0.000000</td>\n",
       "      <td>...</td>\n",
       "      <td>0.0</td>\n",
       "      <td>0.0</td>\n",
       "      <td>0.0</td>\n",
       "      <td>0.0</td>\n",
       "      <td>0.0</td>\n",
       "      <td>0.0</td>\n",
       "      <td>0.568220</td>\n",
       "      <td>0.000000</td>\n",
       "      <td>0.000000</td>\n",
       "      <td>0.0000</td>\n",
       "    </tr>\n",
       "    <tr>\n",
       "      <th>2</th>\n",
       "      <td>0.145864</td>\n",
       "      <td>0.095230</td>\n",
       "      <td>0.083592</td>\n",
       "      <td>0.001022</td>\n",
       "      <td>0.000963</td>\n",
       "      <td>0.000781</td>\n",
       "      <td>0.002031</td>\n",
       "      <td>0.006797</td>\n",
       "      <td>0.003215</td>\n",
       "      <td>0.008728</td>\n",
       "      <td>...</td>\n",
       "      <td>0.0</td>\n",
       "      <td>0.0</td>\n",
       "      <td>0.0</td>\n",
       "      <td>0.0</td>\n",
       "      <td>0.0</td>\n",
       "      <td>0.0</td>\n",
       "      <td>0.023424</td>\n",
       "      <td>0.040694</td>\n",
       "      <td>0.082745</td>\n",
       "      <td>0.0319</td>\n",
       "    </tr>\n",
       "    <tr>\n",
       "      <th>3</th>\n",
       "      <td>0.129731</td>\n",
       "      <td>0.080680</td>\n",
       "      <td>0.047931</td>\n",
       "      <td>0.000720</td>\n",
       "      <td>0.000265</td>\n",
       "      <td>0.000000</td>\n",
       "      <td>0.004788</td>\n",
       "      <td>0.030417</td>\n",
       "      <td>0.001714</td>\n",
       "      <td>0.000000</td>\n",
       "      <td>...</td>\n",
       "      <td>0.0</td>\n",
       "      <td>0.0</td>\n",
       "      <td>0.0</td>\n",
       "      <td>0.0</td>\n",
       "      <td>0.0</td>\n",
       "      <td>0.0</td>\n",
       "      <td>0.256943</td>\n",
       "      <td>0.000000</td>\n",
       "      <td>0.000000</td>\n",
       "      <td>0.0000</td>\n",
       "    </tr>\n",
       "    <tr>\n",
       "      <th>4</th>\n",
       "      <td>0.144568</td>\n",
       "      <td>0.093651</td>\n",
       "      <td>0.067145</td>\n",
       "      <td>0.061129</td>\n",
       "      <td>0.074656</td>\n",
       "      <td>0.065164</td>\n",
       "      <td>0.007287</td>\n",
       "      <td>0.003537</td>\n",
       "      <td>0.005294</td>\n",
       "      <td>0.000000</td>\n",
       "      <td>...</td>\n",
       "      <td>0.0</td>\n",
       "      <td>0.0</td>\n",
       "      <td>0.0</td>\n",
       "      <td>0.0</td>\n",
       "      <td>0.0</td>\n",
       "      <td>0.0</td>\n",
       "      <td>0.068099</td>\n",
       "      <td>0.000000</td>\n",
       "      <td>0.000000</td>\n",
       "      <td>0.0000</td>\n",
       "    </tr>\n",
       "  </tbody>\n",
       "</table>\n",
       "<p>5 rows × 133 columns</p>\n",
       "</div>"
      ],
      "text/plain": [
       "     arpu_6    arpu_7    arpu_8  onnet_mou_6  onnet_mou_7  onnet_mou_8  \\\n",
       "0  0.132455  0.074824  0.049909     0.004308     0.002480     0.002149   \n",
       "1  0.150615  0.099685  0.064554     0.010236     0.005052     0.001845   \n",
       "2  0.145864  0.095230  0.083592     0.001022     0.000963     0.000781   \n",
       "3  0.129731  0.080680  0.047931     0.000720     0.000265     0.000000   \n",
       "4  0.144568  0.093651  0.067145     0.061129     0.074656     0.065164   \n",
       "\n",
       "   offnet_mou_6  offnet_mou_7  offnet_mou_8  roam_ic_mou_6  ...  monthly_3g_6  \\\n",
       "0      0.007194      0.004771      0.002487       0.000000  ...           0.0   \n",
       "1      0.056723      0.092260      0.028195       0.000000  ...           0.0   \n",
       "2      0.002031      0.006797      0.003215       0.008728  ...           0.0   \n",
       "3      0.004788      0.030417      0.001714       0.000000  ...           0.0   \n",
       "4      0.007287      0.003537      0.005294       0.000000  ...           0.0   \n",
       "\n",
       "   monthly_3g_7  monthly_3g_8  sachet_3g_6  sachet_3g_7  sachet_3g_8  \\\n",
       "0           0.0           0.0          0.0          0.0          0.0   \n",
       "1           0.0           0.0          0.0          0.0          0.0   \n",
       "2           0.0           0.0          0.0          0.0          0.0   \n",
       "3           0.0           0.0          0.0          0.0          0.0   \n",
       "4           0.0           0.0          0.0          0.0          0.0   \n",
       "\n",
       "        aon  aug_vbc_3g  jul_vbc_3g  jun_vbc_3g  \n",
       "0  0.365129    0.000000    0.000000      0.0000  \n",
       "1  0.568220    0.000000    0.000000      0.0000  \n",
       "2  0.023424    0.040694    0.082745      0.0319  \n",
       "3  0.256943    0.000000    0.000000      0.0000  \n",
       "4  0.068099    0.000000    0.000000      0.0000  \n",
       "\n",
       "[5 rows x 133 columns]"
      ]
     },
     "execution_count": 53,
     "metadata": {},
     "output_type": "execute_result"
    }
   ],
   "source": [
    "# Lets fit the scaler for train data as well\n",
    "test_numerical_columns = telecom_test_df.columns.to_list()\n",
    "telecom_test_df[test_numerical_columns] = scaler.transform(telecom_test_df[test_numerical_columns])\n",
    "telecom_test_df.head()"
   ]
  },
  {
   "cell_type": "markdown",
   "id": "5c9c47b1",
   "metadata": {},
   "source": [
    "## Modelling \n",
    "\n",
    "We will do modelling using below model.\n",
    "\n",
    "1. Logistic Regression using RFE - To get important predictors for Churn probability\n",
    "2. Logistic Regression - To know Churn probability + PCA\n",
    "3. Ridge Model\n",
    "4. Lasso Model\n",
    "5. Tree models - Random Forest\n",
    "6. Tree models - XGBoost"
   ]
  },
  {
   "cell_type": "markdown",
   "id": "e6bca16f",
   "metadata": {},
   "source": [
    "## 1. Logistic Regression using RFE - To get important predictors for Churn probability"
   ]
  },
  {
   "cell_type": "code",
   "execution_count": 54,
   "id": "cd4d9e79",
   "metadata": {},
   "outputs": [
    {
     "data": {
      "text/html": [
       "<table class=\"simpletable\">\n",
       "<caption>Generalized Linear Model Regression Results</caption>\n",
       "<tr>\n",
       "  <th>Dep. Variable:</th>   <td>churn_probability</td> <th>  No. Observations:  </th>  <td> 27020</td> \n",
       "</tr>\n",
       "<tr>\n",
       "  <th>Model:</th>                  <td>GLM</td>        <th>  Df Residuals:      </th>  <td> 26889</td> \n",
       "</tr>\n",
       "<tr>\n",
       "  <th>Model Family:</th>        <td>Binomial</td>      <th>  Df Model:          </th>  <td>   130</td> \n",
       "</tr>\n",
       "<tr>\n",
       "  <th>Link Function:</th>         <td>logit</td>       <th>  Scale:             </th> <td>  1.0000</td>\n",
       "</tr>\n",
       "<tr>\n",
       "  <th>Method:</th>                <td>IRLS</td>        <th>  Log-Likelihood:    </th> <td> -8658.8</td>\n",
       "</tr>\n",
       "<tr>\n",
       "  <th>Date:</th>            <td>Sun, 18 Sep 2022</td>  <th>  Deviance:          </th> <td>  17318.</td>\n",
       "</tr>\n",
       "<tr>\n",
       "  <th>Time:</th>                <td>19:47:19</td>      <th>  Pearson chi2:      </th> <td>1.04e+05</td>\n",
       "</tr>\n",
       "<tr>\n",
       "  <th>No. Iterations:</th>         <td>10</td>         <th>                     </th>     <td> </td>   \n",
       "</tr>\n",
       "<tr>\n",
       "  <th>Covariance Type:</th>     <td>nonrobust</td>     <th>                     </th>     <td> </td>   \n",
       "</tr>\n",
       "</table>\n",
       "<table class=\"simpletable\">\n",
       "<tr>\n",
       "           <td></td>             <th>coef</th>     <th>std err</th>      <th>z</th>      <th>P>|z|</th>  <th>[0.025</th>    <th>0.975]</th>  \n",
       "</tr>\n",
       "<tr>\n",
       "  <th>const</th>              <td>   -3.9124</td> <td>    0.691</td> <td>   -5.664</td> <td> 0.000</td> <td>   -5.266</td> <td>   -2.558</td>\n",
       "</tr>\n",
       "<tr>\n",
       "  <th>arpu_6</th>             <td>    9.2332</td> <td>    3.771</td> <td>    2.448</td> <td> 0.014</td> <td>    1.842</td> <td>   16.625</td>\n",
       "</tr>\n",
       "<tr>\n",
       "  <th>arpu_7</th>             <td>   19.2173</td> <td>    4.427</td> <td>    4.341</td> <td> 0.000</td> <td>   10.541</td> <td>   27.893</td>\n",
       "</tr>\n",
       "<tr>\n",
       "  <th>arpu_8</th>             <td>   42.8007</td> <td>    5.081</td> <td>    8.423</td> <td> 0.000</td> <td>   32.841</td> <td>   52.760</td>\n",
       "</tr>\n",
       "<tr>\n",
       "  <th>onnet_mou_6</th>        <td>  -48.3625</td> <td>   36.177</td> <td>   -1.337</td> <td> 0.181</td> <td> -119.269</td> <td>   22.544</td>\n",
       "</tr>\n",
       "<tr>\n",
       "  <th>onnet_mou_7</th>        <td>  -28.6282</td> <td>   31.379</td> <td>   -0.912</td> <td> 0.362</td> <td>  -90.130</td> <td>   32.874</td>\n",
       "</tr>\n",
       "<tr>\n",
       "  <th>onnet_mou_8</th>        <td>  -26.8302</td> <td>   45.383</td> <td>   -0.591</td> <td> 0.554</td> <td> -115.779</td> <td>   62.119</td>\n",
       "</tr>\n",
       "<tr>\n",
       "  <th>offnet_mou_6</th>       <td>  -41.9867</td> <td>   40.681</td> <td>   -1.032</td> <td> 0.302</td> <td> -121.719</td> <td>   37.746</td>\n",
       "</tr>\n",
       "<tr>\n",
       "  <th>offnet_mou_7</th>       <td>  -32.2045</td> <td>   25.060</td> <td>   -1.285</td> <td> 0.199</td> <td>  -81.322</td> <td>   16.913</td>\n",
       "</tr>\n",
       "<tr>\n",
       "  <th>offnet_mou_8</th>       <td>  -76.3922</td> <td>   57.559</td> <td>   -1.327</td> <td> 0.184</td> <td> -189.205</td> <td>   36.421</td>\n",
       "</tr>\n",
       "<tr>\n",
       "  <th>roam_ic_mou_6</th>      <td>    1.6146</td> <td>    1.136</td> <td>    1.422</td> <td> 0.155</td> <td>   -0.612</td> <td>    3.841</td>\n",
       "</tr>\n",
       "<tr>\n",
       "  <th>roam_ic_mou_7</th>      <td>    1.5134</td> <td>    1.335</td> <td>    1.133</td> <td> 0.257</td> <td>   -1.104</td> <td>    4.131</td>\n",
       "</tr>\n",
       "<tr>\n",
       "  <th>roam_ic_mou_8</th>      <td>   -2.9353</td> <td>    1.490</td> <td>   -1.970</td> <td> 0.049</td> <td>   -5.856</td> <td>   -0.015</td>\n",
       "</tr>\n",
       "<tr>\n",
       "  <th>roam_og_mou_6</th>      <td>   22.4030</td> <td>   18.506</td> <td>    1.211</td> <td> 0.226</td> <td>  -13.868</td> <td>   58.674</td>\n",
       "</tr>\n",
       "<tr>\n",
       "  <th>roam_og_mou_7</th>      <td>   15.9387</td> <td>   10.583</td> <td>    1.506</td> <td> 0.132</td> <td>   -4.804</td> <td>   36.682</td>\n",
       "</tr>\n",
       "<tr>\n",
       "  <th>roam_og_mou_8</th>      <td>   28.4536</td> <td>   22.233</td> <td>    1.280</td> <td> 0.201</td> <td>  -15.122</td> <td>   72.029</td>\n",
       "</tr>\n",
       "<tr>\n",
       "  <th>loc_og_t2t_mou_6</th>   <td>-3.977e+04</td> <td> 2.52e+04</td> <td>   -1.579</td> <td> 0.114</td> <td>-8.91e+04</td> <td> 9581.943</td>\n",
       "</tr>\n",
       "<tr>\n",
       "  <th>loc_og_t2t_mou_7</th>   <td> -2.41e+04</td> <td> 2.86e+04</td> <td>   -0.844</td> <td> 0.399</td> <td>-8.01e+04</td> <td> 3.19e+04</td>\n",
       "</tr>\n",
       "<tr>\n",
       "  <th>loc_og_t2t_mou_8</th>   <td> 2.115e+05</td> <td> 4.42e+04</td> <td>    4.791</td> <td> 0.000</td> <td> 1.25e+05</td> <td> 2.98e+05</td>\n",
       "</tr>\n",
       "<tr>\n",
       "  <th>loc_og_t2m_mou_6</th>   <td>-2.905e+04</td> <td> 1.84e+04</td> <td>   -1.580</td> <td> 0.114</td> <td>-6.51e+04</td> <td> 6988.553</td>\n",
       "</tr>\n",
       "<tr>\n",
       "  <th>loc_og_t2m_mou_7</th>   <td>-1.484e+04</td> <td> 1.76e+04</td> <td>   -0.844</td> <td> 0.399</td> <td>-4.93e+04</td> <td> 1.96e+04</td>\n",
       "</tr>\n",
       "<tr>\n",
       "  <th>loc_og_t2m_mou_8</th>   <td> 9.763e+04</td> <td> 2.04e+04</td> <td>    4.792</td> <td> 0.000</td> <td> 5.77e+04</td> <td> 1.38e+05</td>\n",
       "</tr>\n",
       "<tr>\n",
       "  <th>loc_og_t2f_mou_6</th>   <td>-3824.5614</td> <td> 2418.151</td> <td>   -1.582</td> <td> 0.114</td> <td>-8564.050</td> <td>  914.927</td>\n",
       "</tr>\n",
       "<tr>\n",
       "  <th>loc_og_t2f_mou_7</th>   <td>-2653.9529</td> <td> 3147.147</td> <td>   -0.843</td> <td> 0.399</td> <td>-8822.247</td> <td> 3514.341</td>\n",
       "</tr>\n",
       "<tr>\n",
       "  <th>loc_og_t2f_mou_8</th>   <td> 1.158e+04</td> <td> 2415.969</td> <td>    4.793</td> <td> 0.000</td> <td> 6844.343</td> <td> 1.63e+04</td>\n",
       "</tr>\n",
       "<tr>\n",
       "  <th>loc_og_t2c_mou_6</th>   <td>   -8.7731</td> <td>    1.528</td> <td>   -5.743</td> <td> 0.000</td> <td>  -11.767</td> <td>   -5.779</td>\n",
       "</tr>\n",
       "<tr>\n",
       "  <th>loc_og_t2c_mou_7</th>   <td>   -2.6621</td> <td>    2.625</td> <td>   -1.014</td> <td> 0.311</td> <td>   -7.808</td> <td>    2.484</td>\n",
       "</tr>\n",
       "<tr>\n",
       "  <th>loc_og_t2c_mou_8</th>   <td>    6.2039</td> <td>    1.584</td> <td>    3.915</td> <td> 0.000</td> <td>    3.098</td> <td>    9.309</td>\n",
       "</tr>\n",
       "<tr>\n",
       "  <th>loc_og_mou_6</th>       <td> 2.793e+04</td> <td> 4.74e+04</td> <td>    0.589</td> <td> 0.556</td> <td> -6.5e+04</td> <td> 1.21e+05</td>\n",
       "</tr>\n",
       "<tr>\n",
       "  <th>loc_og_mou_7</th>       <td>-9910.9888</td> <td> 3.49e+04</td> <td>   -0.284</td> <td> 0.777</td> <td>-7.84e+04</td> <td> 5.86e+04</td>\n",
       "</tr>\n",
       "<tr>\n",
       "  <th>loc_og_mou_8</th>       <td>-2.535e+05</td> <td> 5.38e+04</td> <td>   -4.712</td> <td> 0.000</td> <td>-3.59e+05</td> <td>-1.48e+05</td>\n",
       "</tr>\n",
       "<tr>\n",
       "  <th>std_og_t2t_mou_6</th>   <td>-1.248e+05</td> <td>  3.5e+04</td> <td>   -3.570</td> <td> 0.000</td> <td>-1.93e+05</td> <td>-5.63e+04</td>\n",
       "</tr>\n",
       "<tr>\n",
       "  <th>std_og_t2t_mou_7</th>   <td>-8.263e+04</td> <td> 3.98e+04</td> <td>   -2.078</td> <td> 0.038</td> <td>-1.61e+05</td> <td>-4711.715</td>\n",
       "</tr>\n",
       "<tr>\n",
       "  <th>std_og_t2t_mou_8</th>   <td> 1.193e+05</td> <td> 4.16e+04</td> <td>    2.864</td> <td> 0.004</td> <td> 3.77e+04</td> <td> 2.01e+05</td>\n",
       "</tr>\n",
       "<tr>\n",
       "  <th>std_og_t2m_mou_6</th>   <td>-1.409e+05</td> <td> 3.95e+04</td> <td>   -3.570</td> <td> 0.000</td> <td>-2.18e+05</td> <td>-6.35e+04</td>\n",
       "</tr>\n",
       "<tr>\n",
       "  <th>std_og_t2m_mou_7</th>   <td>-6.727e+04</td> <td> 3.24e+04</td> <td>   -2.078</td> <td> 0.038</td> <td>-1.31e+05</td> <td>-3826.264</td>\n",
       "</tr>\n",
       "<tr>\n",
       "  <th>std_og_t2m_mou_8</th>   <td> 2.076e+05</td> <td> 7.25e+04</td> <td>    2.865</td> <td> 0.004</td> <td> 6.56e+04</td> <td>  3.5e+05</td>\n",
       "</tr>\n",
       "<tr>\n",
       "  <th>std_og_t2f_mou_6</th>   <td>-5728.5877</td> <td> 1604.033</td> <td>   -3.571</td> <td> 0.000</td> <td>-8872.434</td> <td>-2584.741</td>\n",
       "</tr>\n",
       "<tr>\n",
       "  <th>std_og_t2f_mou_7</th>   <td>-4731.3979</td> <td> 2276.809</td> <td>   -2.078</td> <td> 0.038</td> <td>-9193.862</td> <td> -268.934</td>\n",
       "</tr>\n",
       "<tr>\n",
       "  <th>std_og_t2f_mou_8</th>   <td> 5266.3048</td> <td> 1840.411</td> <td>    2.861</td> <td> 0.004</td> <td> 1659.166</td> <td> 8873.444</td>\n",
       "</tr>\n",
       "<tr>\n",
       "  <th>std_og_mou_6</th>       <td> 1.128e+05</td> <td> 4.34e+04</td> <td>    2.602</td> <td> 0.009</td> <td> 2.78e+04</td> <td> 1.98e+05</td>\n",
       "</tr>\n",
       "<tr>\n",
       "  <th>std_og_mou_7</th>       <td> 4.575e+04</td> <td> 4.44e+04</td> <td>    1.031</td> <td> 0.302</td> <td>-4.12e+04</td> <td> 1.33e+05</td>\n",
       "</tr>\n",
       "<tr>\n",
       "  <th>std_og_mou_8</th>       <td>-2.539e+05</td> <td> 8.07e+04</td> <td>   -3.145</td> <td> 0.002</td> <td>-4.12e+05</td> <td>-9.57e+04</td>\n",
       "</tr>\n",
       "<tr>\n",
       "  <th>isd_og_mou_6</th>       <td>-2.103e+04</td> <td>  1.7e+04</td> <td>   -1.238</td> <td> 0.216</td> <td>-5.43e+04</td> <td> 1.23e+04</td>\n",
       "</tr>\n",
       "<tr>\n",
       "  <th>isd_og_mou_7</th>       <td>-2.499e+04</td> <td> 1.76e+04</td> <td>   -1.416</td> <td> 0.157</td> <td>-5.96e+04</td> <td> 9597.240</td>\n",
       "</tr>\n",
       "<tr>\n",
       "  <th>isd_og_mou_8</th>       <td>-1.865e+04</td> <td> 1.88e+04</td> <td>   -0.991</td> <td> 0.322</td> <td>-5.55e+04</td> <td> 1.82e+04</td>\n",
       "</tr>\n",
       "<tr>\n",
       "  <th>spl_og_mou_6</th>       <td>-3639.7838</td> <td> 2947.242</td> <td>   -1.235</td> <td> 0.217</td> <td>-9416.272</td> <td> 2136.705</td>\n",
       "</tr>\n",
       "<tr>\n",
       "  <th>spl_og_mou_7</th>       <td>-5764.9406</td> <td> 4068.887</td> <td>   -1.417</td> <td> 0.157</td> <td>-1.37e+04</td> <td> 2209.931</td>\n",
       "</tr>\n",
       "<tr>\n",
       "  <th>spl_og_mou_8</th>       <td>-2576.1594</td> <td> 2595.211</td> <td>   -0.993</td> <td> 0.321</td> <td>-7662.679</td> <td> 2510.360</td>\n",
       "</tr>\n",
       "<tr>\n",
       "  <th>og_others_6</th>        <td>-2208.8267</td> <td> 1758.238</td> <td>   -1.256</td> <td> 0.209</td> <td>-5654.910</td> <td> 1237.257</td>\n",
       "</tr>\n",
       "<tr>\n",
       "  <th>og_others_7</th>        <td> -328.1352</td> <td>  216.384</td> <td>   -1.516</td> <td> 0.129</td> <td> -752.239</td> <td>   95.969</td>\n",
       "</tr>\n",
       "<tr>\n",
       "  <th>og_others_8</th>        <td>-1543.6340</td> <td> 1319.068</td> <td>   -1.170</td> <td> 0.242</td> <td>-4128.960</td> <td> 1041.692</td>\n",
       "</tr>\n",
       "<tr>\n",
       "  <th>total_og_mou_6</th>     <td> 3.807e+04</td> <td> 3.07e+04</td> <td>    1.238</td> <td> 0.216</td> <td>-2.22e+04</td> <td> 9.83e+04</td>\n",
       "</tr>\n",
       "<tr>\n",
       "  <th>total_og_mou_7</th>     <td> 3.772e+04</td> <td> 2.66e+04</td> <td>    1.416</td> <td> 0.157</td> <td>-1.45e+04</td> <td> 8.99e+04</td>\n",
       "</tr>\n",
       "<tr>\n",
       "  <th>total_og_mou_8</th>     <td> 4.613e+04</td> <td> 4.65e+04</td> <td>    0.992</td> <td> 0.321</td> <td> -4.5e+04</td> <td> 1.37e+05</td>\n",
       "</tr>\n",
       "<tr>\n",
       "  <th>loc_ic_t2t_mou_6</th>   <td> -1.11e+05</td> <td> 1.62e+04</td> <td>   -6.838</td> <td> 0.000</td> <td>-1.43e+05</td> <td>-7.92e+04</td>\n",
       "</tr>\n",
       "<tr>\n",
       "  <th>loc_ic_t2t_mou_7</th>   <td> 7.362e+04</td> <td> 2.13e+04</td> <td>    3.455</td> <td> 0.001</td> <td> 3.19e+04</td> <td> 1.15e+05</td>\n",
       "</tr>\n",
       "<tr>\n",
       "  <th>loc_ic_t2t_mou_8</th>   <td> 1.379e+05</td> <td> 1.51e+04</td> <td>    9.128</td> <td> 0.000</td> <td> 1.08e+05</td> <td> 1.68e+05</td>\n",
       "</tr>\n",
       "<tr>\n",
       "  <th>loc_ic_t2m_mou_6</th>   <td>-1.132e+05</td> <td> 1.66e+04</td> <td>   -6.838</td> <td> 0.000</td> <td>-1.46e+05</td> <td>-8.07e+04</td>\n",
       "</tr>\n",
       "<tr>\n",
       "  <th>loc_ic_t2m_mou_7</th>   <td> 5.192e+04</td> <td>  1.5e+04</td> <td>    3.455</td> <td> 0.001</td> <td> 2.25e+04</td> <td> 8.14e+04</td>\n",
       "</tr>\n",
       "<tr>\n",
       "  <th>loc_ic_t2m_mou_8</th>   <td> 1.612e+05</td> <td> 1.77e+04</td> <td>    9.128</td> <td> 0.000</td> <td> 1.27e+05</td> <td> 1.96e+05</td>\n",
       "</tr>\n",
       "<tr>\n",
       "  <th>loc_ic_t2f_mou_6</th>   <td>-3.492e+04</td> <td> 5106.505</td> <td>   -6.839</td> <td> 0.000</td> <td>-4.49e+04</td> <td>-2.49e+04</td>\n",
       "</tr>\n",
       "<tr>\n",
       "  <th>loc_ic_t2f_mou_7</th>   <td> 2.558e+04</td> <td> 7401.106</td> <td>    3.456</td> <td> 0.001</td> <td> 1.11e+04</td> <td> 4.01e+04</td>\n",
       "</tr>\n",
       "<tr>\n",
       "  <th>loc_ic_t2f_mou_8</th>   <td> 5.067e+04</td> <td> 5552.057</td> <td>    9.126</td> <td> 0.000</td> <td> 3.98e+04</td> <td> 6.16e+04</td>\n",
       "</tr>\n",
       "<tr>\n",
       "  <th>loc_ic_mou_6</th>       <td> 1.559e+05</td> <td> 2.81e+04</td> <td>    5.555</td> <td> 0.000</td> <td> 1.01e+05</td> <td> 2.11e+05</td>\n",
       "</tr>\n",
       "<tr>\n",
       "  <th>loc_ic_mou_7</th>       <td>-5.605e+04</td> <td> 2.48e+04</td> <td>   -2.257</td> <td> 0.024</td> <td>-1.05e+05</td> <td>-7369.907</td>\n",
       "</tr>\n",
       "<tr>\n",
       "  <th>loc_ic_mou_8</th>       <td>-1.168e+05</td> <td> 2.06e+04</td> <td>   -5.660</td> <td> 0.000</td> <td>-1.57e+05</td> <td>-7.64e+04</td>\n",
       "</tr>\n",
       "<tr>\n",
       "  <th>std_ic_t2t_mou_6</th>   <td>-1.614e+04</td> <td> 1.43e+04</td> <td>   -1.127</td> <td> 0.260</td> <td>-4.42e+04</td> <td> 1.19e+04</td>\n",
       "</tr>\n",
       "<tr>\n",
       "  <th>std_ic_t2t_mou_7</th>   <td>-5.591e+04</td> <td> 2.04e+04</td> <td>   -2.741</td> <td> 0.006</td> <td>-9.59e+04</td> <td>-1.59e+04</td>\n",
       "</tr>\n",
       "<tr>\n",
       "  <th>std_ic_t2t_mou_8</th>   <td> 3.315e+04</td> <td> 1.78e+04</td> <td>    1.857</td> <td> 0.063</td> <td>-1831.686</td> <td> 6.81e+04</td>\n",
       "</tr>\n",
       "<tr>\n",
       "  <th>std_ic_t2m_mou_6</th>   <td> -1.92e+04</td> <td>  1.7e+04</td> <td>   -1.127</td> <td> 0.260</td> <td>-5.26e+04</td> <td> 1.42e+04</td>\n",
       "</tr>\n",
       "<tr>\n",
       "  <th>std_ic_t2m_mou_7</th>   <td>-3.471e+04</td> <td> 1.27e+04</td> <td>   -2.742</td> <td> 0.006</td> <td>-5.95e+04</td> <td>-9899.766</td>\n",
       "</tr>\n",
       "<tr>\n",
       "  <th>std_ic_t2m_mou_8</th>   <td> 2.789e+04</td> <td>  1.5e+04</td> <td>    1.858</td> <td> 0.063</td> <td>-1526.890</td> <td> 5.73e+04</td>\n",
       "</tr>\n",
       "<tr>\n",
       "  <th>std_ic_t2f_mou_6</th>   <td>-7184.3654</td> <td> 6368.662</td> <td>   -1.128</td> <td> 0.259</td> <td>-1.97e+04</td> <td> 5297.983</td>\n",
       "</tr>\n",
       "<tr>\n",
       "  <th>std_ic_t2f_mou_7</th>   <td>-1.499e+04</td> <td> 5471.058</td> <td>   -2.740</td> <td> 0.006</td> <td>-2.57e+04</td> <td>-4268.095</td>\n",
       "</tr>\n",
       "<tr>\n",
       "  <th>std_ic_t2f_mou_8</th>   <td>  1.35e+04</td> <td> 7272.471</td> <td>    1.856</td> <td> 0.063</td> <td> -753.618</td> <td> 2.78e+04</td>\n",
       "</tr>\n",
       "<tr>\n",
       "  <th>std_ic_mou_6</th>       <td> 2872.6980</td> <td> 1.78e+04</td> <td>    0.162</td> <td> 0.872</td> <td>-3.19e+04</td> <td> 3.77e+04</td>\n",
       "</tr>\n",
       "<tr>\n",
       "  <th>std_ic_mou_7</th>       <td> 7.535e+04</td> <td> 2.21e+04</td> <td>    3.414</td> <td> 0.001</td> <td> 3.21e+04</td> <td> 1.19e+05</td>\n",
       "</tr>\n",
       "<tr>\n",
       "  <th>std_ic_mou_8</th>       <td> 1.137e+04</td> <td> 2.08e+04</td> <td>    0.547</td> <td> 0.584</td> <td>-2.94e+04</td> <td> 5.21e+04</td>\n",
       "</tr>\n",
       "<tr>\n",
       "  <th>total_ic_mou_6</th>     <td> 3.487e+04</td> <td> 1.79e+04</td> <td>    1.953</td> <td> 0.051</td> <td> -128.088</td> <td> 6.99e+04</td>\n",
       "</tr>\n",
       "<tr>\n",
       "  <th>total_ic_mou_7</th>     <td>-3.144e+04</td> <td> 1.86e+04</td> <td>   -1.693</td> <td> 0.090</td> <td>-6.78e+04</td> <td> 4949.244</td>\n",
       "</tr>\n",
       "<tr>\n",
       "  <th>total_ic_mou_8</th>     <td>-7.704e+04</td> <td> 1.54e+04</td> <td>   -5.000</td> <td> 0.000</td> <td>-1.07e+05</td> <td>-4.68e+04</td>\n",
       "</tr>\n",
       "<tr>\n",
       "  <th>spl_ic_mou_6</th>       <td>  -80.3179</td> <td>   46.249</td> <td>   -1.737</td> <td> 0.082</td> <td> -170.964</td> <td>   10.328</td>\n",
       "</tr>\n",
       "<tr>\n",
       "  <th>spl_ic_mou_7</th>       <td>   49.7706</td> <td>   33.829</td> <td>    1.471</td> <td> 0.141</td> <td>  -16.534</td> <td>  116.075</td>\n",
       "</tr>\n",
       "<tr>\n",
       "  <th>spl_ic_mou_8</th>       <td>    8.5233</td> <td>    3.296</td> <td>    2.586</td> <td> 0.010</td> <td>    2.062</td> <td>   14.984</td>\n",
       "</tr>\n",
       "<tr>\n",
       "  <th>isd_ic_mou_6</th>       <td>-3.068e+04</td> <td> 1.57e+04</td> <td>   -1.953</td> <td> 0.051</td> <td>-6.15e+04</td> <td>  114.529</td>\n",
       "</tr>\n",
       "<tr>\n",
       "  <th>isd_ic_mou_7</th>       <td> 1.906e+04</td> <td> 1.13e+04</td> <td>    1.693</td> <td> 0.090</td> <td>-3000.515</td> <td> 4.11e+04</td>\n",
       "</tr>\n",
       "<tr>\n",
       "  <th>isd_ic_mou_8</th>       <td> 3.044e+04</td> <td> 6086.842</td> <td>    5.000</td> <td> 0.000</td> <td> 1.85e+04</td> <td> 4.24e+04</td>\n",
       "</tr>\n",
       "<tr>\n",
       "  <th>ic_others_6</th>        <td>-6105.4758</td> <td> 3111.148</td> <td>   -1.962</td> <td> 0.050</td> <td>-1.22e+04</td> <td>   -7.738</td>\n",
       "</tr>\n",
       "<tr>\n",
       "  <th>ic_others_7</th>        <td> 6322.0004</td> <td> 3731.929</td> <td>    1.694</td> <td> 0.090</td> <td> -992.446</td> <td> 1.36e+04</td>\n",
       "</tr>\n",
       "<tr>\n",
       "  <th>ic_others_8</th>        <td> 1.538e+04</td> <td> 3072.811</td> <td>    5.004</td> <td> 0.000</td> <td> 9352.650</td> <td> 2.14e+04</td>\n",
       "</tr>\n",
       "<tr>\n",
       "  <th>total_rech_num_6</th>   <td>   -0.5674</td> <td>    0.729</td> <td>   -0.778</td> <td> 0.437</td> <td>   -1.997</td> <td>    0.862</td>\n",
       "</tr>\n",
       "<tr>\n",
       "  <th>total_rech_num_7</th>   <td>    3.9044</td> <td>    0.744</td> <td>    5.249</td> <td> 0.000</td> <td>    2.447</td> <td>    5.362</td>\n",
       "</tr>\n",
       "<tr>\n",
       "  <th>total_rech_num_8</th>   <td>   -7.1126</td> <td>    0.824</td> <td>   -8.633</td> <td> 0.000</td> <td>   -8.727</td> <td>   -5.498</td>\n",
       "</tr>\n",
       "<tr>\n",
       "  <th>total_rech_amt_6</th>   <td>   -0.4091</td> <td>    3.352</td> <td>   -0.122</td> <td> 0.903</td> <td>   -6.978</td> <td>    6.160</td>\n",
       "</tr>\n",
       "<tr>\n",
       "  <th>total_rech_amt_7</th>   <td>  -16.3950</td> <td>    3.915</td> <td>   -4.188</td> <td> 0.000</td> <td>  -24.068</td> <td>   -8.722</td>\n",
       "</tr>\n",
       "<tr>\n",
       "  <th>total_rech_amt_8</th>   <td>  -38.1722</td> <td>    4.597</td> <td>   -8.304</td> <td> 0.000</td> <td>  -47.182</td> <td>  -29.162</td>\n",
       "</tr>\n",
       "<tr>\n",
       "  <th>max_rech_amt_6</th>     <td>   -4.3849</td> <td>    1.010</td> <td>   -4.342</td> <td> 0.000</td> <td>   -6.364</td> <td>   -2.406</td>\n",
       "</tr>\n",
       "<tr>\n",
       "  <th>max_rech_amt_7</th>     <td>   -0.9748</td> <td>    0.825</td> <td>   -1.182</td> <td> 0.237</td> <td>   -2.591</td> <td>    0.642</td>\n",
       "</tr>\n",
       "<tr>\n",
       "  <th>max_rech_amt_8</th>     <td>   11.3436</td> <td>    1.294</td> <td>    8.765</td> <td> 0.000</td> <td>    8.807</td> <td>   13.880</td>\n",
       "</tr>\n",
       "<tr>\n",
       "  <th>last_day_rch_amt_6</th> <td>   -0.0977</td> <td>    0.917</td> <td>   -0.107</td> <td> 0.915</td> <td>   -1.894</td> <td>    1.699</td>\n",
       "</tr>\n",
       "<tr>\n",
       "  <th>last_day_rch_amt_7</th> <td>    1.5036</td> <td>    0.710</td> <td>    2.119</td> <td> 0.034</td> <td>    0.113</td> <td>    2.894</td>\n",
       "</tr>\n",
       "<tr>\n",
       "  <th>last_day_rch_amt_8</th> <td>  -19.1068</td> <td>    1.305</td> <td>  -14.639</td> <td> 0.000</td> <td>  -21.665</td> <td>  -16.549</td>\n",
       "</tr>\n",
       "<tr>\n",
       "  <th>total_rech_data_6</th>  <td>    2.0519</td> <td>    0.448</td> <td>    4.579</td> <td> 0.000</td> <td>    1.174</td> <td>    2.930</td>\n",
       "</tr>\n",
       "<tr>\n",
       "  <th>total_rech_data_7</th>  <td>    0.1359</td> <td>    0.560</td> <td>    0.243</td> <td> 0.808</td> <td>   -0.962</td> <td>    1.234</td>\n",
       "</tr>\n",
       "<tr>\n",
       "  <th>total_rech_data_8</th>  <td>   -6.2763</td> <td>    1.084</td> <td>   -5.788</td> <td> 0.000</td> <td>   -8.401</td> <td>   -4.151</td>\n",
       "</tr>\n",
       "<tr>\n",
       "  <th>max_rech_data_6</th>    <td>    6.7666</td> <td>    0.798</td> <td>    8.483</td> <td> 0.000</td> <td>    5.203</td> <td>    8.330</td>\n",
       "</tr>\n",
       "<tr>\n",
       "  <th>max_rech_data_7</th>    <td>   -1.5165</td> <td>    0.827</td> <td>   -1.834</td> <td> 0.067</td> <td>   -3.137</td> <td>    0.104</td>\n",
       "</tr>\n",
       "<tr>\n",
       "  <th>max_rech_data_8</th>    <td>   -7.4274</td> <td>    1.022</td> <td>   -7.270</td> <td> 0.000</td> <td>   -9.430</td> <td>   -5.425</td>\n",
       "</tr>\n",
       "<tr>\n",
       "  <th>av_rech_amt_data_6</th> <td>  -17.3948</td> <td>    2.536</td> <td>   -6.859</td> <td> 0.000</td> <td>  -22.365</td> <td>  -12.424</td>\n",
       "</tr>\n",
       "<tr>\n",
       "  <th>av_rech_amt_data_7</th> <td>    2.8777</td> <td>    1.792</td> <td>    1.606</td> <td> 0.108</td> <td>   -0.635</td> <td>    6.390</td>\n",
       "</tr>\n",
       "<tr>\n",
       "  <th>av_rech_amt_data_8</th> <td>    2.8711</td> <td>    2.466</td> <td>    1.165</td> <td> 0.244</td> <td>   -1.961</td> <td>    7.703</td>\n",
       "</tr>\n",
       "<tr>\n",
       "  <th>vol_2g_mb_6</th>        <td>   -0.6280</td> <td>    0.808</td> <td>   -0.777</td> <td> 0.437</td> <td>   -2.212</td> <td>    0.956</td>\n",
       "</tr>\n",
       "<tr>\n",
       "  <th>vol_2g_mb_7</th>        <td>    2.8485</td> <td>    0.935</td> <td>    3.045</td> <td> 0.002</td> <td>    1.015</td> <td>    4.682</td>\n",
       "</tr>\n",
       "<tr>\n",
       "  <th>vol_2g_mb_8</th>        <td>   -6.0427</td> <td>    1.239</td> <td>   -4.875</td> <td> 0.000</td> <td>   -8.472</td> <td>   -3.613</td>\n",
       "</tr>\n",
       "<tr>\n",
       "  <th>vol_3g_mb_6</th>        <td>   -9.3773</td> <td>    3.102</td> <td>   -3.023</td> <td> 0.003</td> <td>  -15.457</td> <td>   -3.298</td>\n",
       "</tr>\n",
       "<tr>\n",
       "  <th>vol_3g_mb_7</th>        <td>    5.2648</td> <td>    1.933</td> <td>    2.724</td> <td> 0.006</td> <td>    1.476</td> <td>    9.053</td>\n",
       "</tr>\n",
       "<tr>\n",
       "  <th>vol_3g_mb_8</th>        <td>   -6.0582</td> <td>    2.517</td> <td>   -2.407</td> <td> 0.016</td> <td>  -10.991</td> <td>   -1.126</td>\n",
       "</tr>\n",
       "<tr>\n",
       "  <th>monthly_2g_6</th>       <td>   -0.6486</td> <td>    0.324</td> <td>   -2.000</td> <td> 0.045</td> <td>   -1.284</td> <td>   -0.013</td>\n",
       "</tr>\n",
       "<tr>\n",
       "  <th>monthly_2g_7</th>       <td>   -0.9124</td> <td>    0.424</td> <td>   -2.154</td> <td> 0.031</td> <td>   -1.743</td> <td>   -0.082</td>\n",
       "</tr>\n",
       "<tr>\n",
       "  <th>monthly_2g_8</th>       <td>   -3.9370</td> <td>    0.617</td> <td>   -6.386</td> <td> 0.000</td> <td>   -5.145</td> <td>   -2.729</td>\n",
       "</tr>\n",
       "<tr>\n",
       "  <th>sachet_2g_6</th>        <td>    0.7203</td> <td>    0.494</td> <td>    1.458</td> <td> 0.145</td> <td>   -0.248</td> <td>    1.689</td>\n",
       "</tr>\n",
       "<tr>\n",
       "  <th>sachet_2g_7</th>        <td>   -0.3588</td> <td>    0.557</td> <td>   -0.644</td> <td> 0.519</td> <td>   -1.450</td> <td>    0.733</td>\n",
       "</tr>\n",
       "<tr>\n",
       "  <th>sachet_2g_8</th>        <td>   -3.0001</td> <td>    0.715</td> <td>   -4.194</td> <td> 0.000</td> <td>   -4.402</td> <td>   -1.598</td>\n",
       "</tr>\n",
       "<tr>\n",
       "  <th>monthly_3g_6</th>       <td>    1.9327</td> <td>    0.783</td> <td>    2.469</td> <td> 0.014</td> <td>    0.398</td> <td>    3.467</td>\n",
       "</tr>\n",
       "<tr>\n",
       "  <th>monthly_3g_7</th>       <td>   -1.9907</td> <td>    1.207</td> <td>   -1.649</td> <td> 0.099</td> <td>   -4.357</td> <td>    0.375</td>\n",
       "</tr>\n",
       "<tr>\n",
       "  <th>monthly_3g_8</th>       <td>   -4.7289</td> <td>    1.807</td> <td>   -2.618</td> <td> 0.009</td> <td>   -8.270</td> <td>   -1.188</td>\n",
       "</tr>\n",
       "<tr>\n",
       "  <th>sachet_3g_6</th>        <td>    2.7626</td> <td>    0.916</td> <td>    3.015</td> <td> 0.003</td> <td>    0.967</td> <td>    4.558</td>\n",
       "</tr>\n",
       "<tr>\n",
       "  <th>sachet_3g_7</th>        <td>    1.7271</td> <td>    0.983</td> <td>    1.757</td> <td> 0.079</td> <td>   -0.200</td> <td>    3.654</td>\n",
       "</tr>\n",
       "<tr>\n",
       "  <th>sachet_3g_8</th>        <td>   -4.3714</td> <td>    1.648</td> <td>   -2.653</td> <td> 0.008</td> <td>   -7.601</td> <td>   -1.141</td>\n",
       "</tr>\n",
       "<tr>\n",
       "  <th>aon</th>                <td>   -0.4791</td> <td>    0.107</td> <td>   -4.465</td> <td> 0.000</td> <td>   -0.689</td> <td>   -0.269</td>\n",
       "</tr>\n",
       "<tr>\n",
       "  <th>aug_vbc_3g</th>         <td>   -3.4677</td> <td>    1.707</td> <td>   -2.032</td> <td> 0.042</td> <td>   -6.813</td> <td>   -0.123</td>\n",
       "</tr>\n",
       "<tr>\n",
       "  <th>jul_vbc_3g</th>         <td>   -0.7246</td> <td>    0.989</td> <td>   -0.733</td> <td> 0.464</td> <td>   -2.662</td> <td>    1.213</td>\n",
       "</tr>\n",
       "<tr>\n",
       "  <th>jun_vbc_3g</th>         <td>    3.1121</td> <td>    0.790</td> <td>    3.937</td> <td> 0.000</td> <td>    1.563</td> <td>    4.661</td>\n",
       "</tr>\n",
       "</table>"
      ],
      "text/plain": [
       "<class 'statsmodels.iolib.summary.Summary'>\n",
       "\"\"\"\n",
       "                 Generalized Linear Model Regression Results                  \n",
       "==============================================================================\n",
       "Dep. Variable:      churn_probability   No. Observations:                27020\n",
       "Model:                            GLM   Df Residuals:                    26889\n",
       "Model Family:                Binomial   Df Model:                          130\n",
       "Link Function:                  logit   Scale:                          1.0000\n",
       "Method:                          IRLS   Log-Likelihood:                -8658.8\n",
       "Date:                Sun, 18 Sep 2022   Deviance:                       17318.\n",
       "Time:                        19:47:19   Pearson chi2:                 1.04e+05\n",
       "No. Iterations:                    10                                         \n",
       "Covariance Type:            nonrobust                                         \n",
       "======================================================================================\n",
       "                         coef    std err          z      P>|z|      [0.025      0.975]\n",
       "--------------------------------------------------------------------------------------\n",
       "const                 -3.9124      0.691     -5.664      0.000      -5.266      -2.558\n",
       "arpu_6                 9.2332      3.771      2.448      0.014       1.842      16.625\n",
       "arpu_7                19.2173      4.427      4.341      0.000      10.541      27.893\n",
       "arpu_8                42.8007      5.081      8.423      0.000      32.841      52.760\n",
       "onnet_mou_6          -48.3625     36.177     -1.337      0.181    -119.269      22.544\n",
       "onnet_mou_7          -28.6282     31.379     -0.912      0.362     -90.130      32.874\n",
       "onnet_mou_8          -26.8302     45.383     -0.591      0.554    -115.779      62.119\n",
       "offnet_mou_6         -41.9867     40.681     -1.032      0.302    -121.719      37.746\n",
       "offnet_mou_7         -32.2045     25.060     -1.285      0.199     -81.322      16.913\n",
       "offnet_mou_8         -76.3922     57.559     -1.327      0.184    -189.205      36.421\n",
       "roam_ic_mou_6          1.6146      1.136      1.422      0.155      -0.612       3.841\n",
       "roam_ic_mou_7          1.5134      1.335      1.133      0.257      -1.104       4.131\n",
       "roam_ic_mou_8         -2.9353      1.490     -1.970      0.049      -5.856      -0.015\n",
       "roam_og_mou_6         22.4030     18.506      1.211      0.226     -13.868      58.674\n",
       "roam_og_mou_7         15.9387     10.583      1.506      0.132      -4.804      36.682\n",
       "roam_og_mou_8         28.4536     22.233      1.280      0.201     -15.122      72.029\n",
       "loc_og_t2t_mou_6   -3.977e+04   2.52e+04     -1.579      0.114   -8.91e+04    9581.943\n",
       "loc_og_t2t_mou_7    -2.41e+04   2.86e+04     -0.844      0.399   -8.01e+04    3.19e+04\n",
       "loc_og_t2t_mou_8    2.115e+05   4.42e+04      4.791      0.000    1.25e+05    2.98e+05\n",
       "loc_og_t2m_mou_6   -2.905e+04   1.84e+04     -1.580      0.114   -6.51e+04    6988.553\n",
       "loc_og_t2m_mou_7   -1.484e+04   1.76e+04     -0.844      0.399   -4.93e+04    1.96e+04\n",
       "loc_og_t2m_mou_8    9.763e+04   2.04e+04      4.792      0.000    5.77e+04    1.38e+05\n",
       "loc_og_t2f_mou_6   -3824.5614   2418.151     -1.582      0.114   -8564.050     914.927\n",
       "loc_og_t2f_mou_7   -2653.9529   3147.147     -0.843      0.399   -8822.247    3514.341\n",
       "loc_og_t2f_mou_8    1.158e+04   2415.969      4.793      0.000    6844.343    1.63e+04\n",
       "loc_og_t2c_mou_6      -8.7731      1.528     -5.743      0.000     -11.767      -5.779\n",
       "loc_og_t2c_mou_7      -2.6621      2.625     -1.014      0.311      -7.808       2.484\n",
       "loc_og_t2c_mou_8       6.2039      1.584      3.915      0.000       3.098       9.309\n",
       "loc_og_mou_6        2.793e+04   4.74e+04      0.589      0.556    -6.5e+04    1.21e+05\n",
       "loc_og_mou_7       -9910.9888   3.49e+04     -0.284      0.777   -7.84e+04    5.86e+04\n",
       "loc_og_mou_8       -2.535e+05   5.38e+04     -4.712      0.000   -3.59e+05   -1.48e+05\n",
       "std_og_t2t_mou_6   -1.248e+05    3.5e+04     -3.570      0.000   -1.93e+05   -5.63e+04\n",
       "std_og_t2t_mou_7   -8.263e+04   3.98e+04     -2.078      0.038   -1.61e+05   -4711.715\n",
       "std_og_t2t_mou_8    1.193e+05   4.16e+04      2.864      0.004    3.77e+04    2.01e+05\n",
       "std_og_t2m_mou_6   -1.409e+05   3.95e+04     -3.570      0.000   -2.18e+05   -6.35e+04\n",
       "std_og_t2m_mou_7   -6.727e+04   3.24e+04     -2.078      0.038   -1.31e+05   -3826.264\n",
       "std_og_t2m_mou_8    2.076e+05   7.25e+04      2.865      0.004    6.56e+04     3.5e+05\n",
       "std_og_t2f_mou_6   -5728.5877   1604.033     -3.571      0.000   -8872.434   -2584.741\n",
       "std_og_t2f_mou_7   -4731.3979   2276.809     -2.078      0.038   -9193.862    -268.934\n",
       "std_og_t2f_mou_8    5266.3048   1840.411      2.861      0.004    1659.166    8873.444\n",
       "std_og_mou_6        1.128e+05   4.34e+04      2.602      0.009    2.78e+04    1.98e+05\n",
       "std_og_mou_7        4.575e+04   4.44e+04      1.031      0.302   -4.12e+04    1.33e+05\n",
       "std_og_mou_8       -2.539e+05   8.07e+04     -3.145      0.002   -4.12e+05   -9.57e+04\n",
       "isd_og_mou_6       -2.103e+04    1.7e+04     -1.238      0.216   -5.43e+04    1.23e+04\n",
       "isd_og_mou_7       -2.499e+04   1.76e+04     -1.416      0.157   -5.96e+04    9597.240\n",
       "isd_og_mou_8       -1.865e+04   1.88e+04     -0.991      0.322   -5.55e+04    1.82e+04\n",
       "spl_og_mou_6       -3639.7838   2947.242     -1.235      0.217   -9416.272    2136.705\n",
       "spl_og_mou_7       -5764.9406   4068.887     -1.417      0.157   -1.37e+04    2209.931\n",
       "spl_og_mou_8       -2576.1594   2595.211     -0.993      0.321   -7662.679    2510.360\n",
       "og_others_6        -2208.8267   1758.238     -1.256      0.209   -5654.910    1237.257\n",
       "og_others_7         -328.1352    216.384     -1.516      0.129    -752.239      95.969\n",
       "og_others_8        -1543.6340   1319.068     -1.170      0.242   -4128.960    1041.692\n",
       "total_og_mou_6      3.807e+04   3.07e+04      1.238      0.216   -2.22e+04    9.83e+04\n",
       "total_og_mou_7      3.772e+04   2.66e+04      1.416      0.157   -1.45e+04    8.99e+04\n",
       "total_og_mou_8      4.613e+04   4.65e+04      0.992      0.321    -4.5e+04    1.37e+05\n",
       "loc_ic_t2t_mou_6    -1.11e+05   1.62e+04     -6.838      0.000   -1.43e+05   -7.92e+04\n",
       "loc_ic_t2t_mou_7    7.362e+04   2.13e+04      3.455      0.001    3.19e+04    1.15e+05\n",
       "loc_ic_t2t_mou_8    1.379e+05   1.51e+04      9.128      0.000    1.08e+05    1.68e+05\n",
       "loc_ic_t2m_mou_6   -1.132e+05   1.66e+04     -6.838      0.000   -1.46e+05   -8.07e+04\n",
       "loc_ic_t2m_mou_7    5.192e+04    1.5e+04      3.455      0.001    2.25e+04    8.14e+04\n",
       "loc_ic_t2m_mou_8    1.612e+05   1.77e+04      9.128      0.000    1.27e+05    1.96e+05\n",
       "loc_ic_t2f_mou_6   -3.492e+04   5106.505     -6.839      0.000   -4.49e+04   -2.49e+04\n",
       "loc_ic_t2f_mou_7    2.558e+04   7401.106      3.456      0.001    1.11e+04    4.01e+04\n",
       "loc_ic_t2f_mou_8    5.067e+04   5552.057      9.126      0.000    3.98e+04    6.16e+04\n",
       "loc_ic_mou_6        1.559e+05   2.81e+04      5.555      0.000    1.01e+05    2.11e+05\n",
       "loc_ic_mou_7       -5.605e+04   2.48e+04     -2.257      0.024   -1.05e+05   -7369.907\n",
       "loc_ic_mou_8       -1.168e+05   2.06e+04     -5.660      0.000   -1.57e+05   -7.64e+04\n",
       "std_ic_t2t_mou_6   -1.614e+04   1.43e+04     -1.127      0.260   -4.42e+04    1.19e+04\n",
       "std_ic_t2t_mou_7   -5.591e+04   2.04e+04     -2.741      0.006   -9.59e+04   -1.59e+04\n",
       "std_ic_t2t_mou_8    3.315e+04   1.78e+04      1.857      0.063   -1831.686    6.81e+04\n",
       "std_ic_t2m_mou_6    -1.92e+04    1.7e+04     -1.127      0.260   -5.26e+04    1.42e+04\n",
       "std_ic_t2m_mou_7   -3.471e+04   1.27e+04     -2.742      0.006   -5.95e+04   -9899.766\n",
       "std_ic_t2m_mou_8    2.789e+04    1.5e+04      1.858      0.063   -1526.890    5.73e+04\n",
       "std_ic_t2f_mou_6   -7184.3654   6368.662     -1.128      0.259   -1.97e+04    5297.983\n",
       "std_ic_t2f_mou_7   -1.499e+04   5471.058     -2.740      0.006   -2.57e+04   -4268.095\n",
       "std_ic_t2f_mou_8     1.35e+04   7272.471      1.856      0.063    -753.618    2.78e+04\n",
       "std_ic_mou_6        2872.6980   1.78e+04      0.162      0.872   -3.19e+04    3.77e+04\n",
       "std_ic_mou_7        7.535e+04   2.21e+04      3.414      0.001    3.21e+04    1.19e+05\n",
       "std_ic_mou_8        1.137e+04   2.08e+04      0.547      0.584   -2.94e+04    5.21e+04\n",
       "total_ic_mou_6      3.487e+04   1.79e+04      1.953      0.051    -128.088    6.99e+04\n",
       "total_ic_mou_7     -3.144e+04   1.86e+04     -1.693      0.090   -6.78e+04    4949.244\n",
       "total_ic_mou_8     -7.704e+04   1.54e+04     -5.000      0.000   -1.07e+05   -4.68e+04\n",
       "spl_ic_mou_6         -80.3179     46.249     -1.737      0.082    -170.964      10.328\n",
       "spl_ic_mou_7          49.7706     33.829      1.471      0.141     -16.534     116.075\n",
       "spl_ic_mou_8           8.5233      3.296      2.586      0.010       2.062      14.984\n",
       "isd_ic_mou_6       -3.068e+04   1.57e+04     -1.953      0.051   -6.15e+04     114.529\n",
       "isd_ic_mou_7        1.906e+04   1.13e+04      1.693      0.090   -3000.515    4.11e+04\n",
       "isd_ic_mou_8        3.044e+04   6086.842      5.000      0.000    1.85e+04    4.24e+04\n",
       "ic_others_6        -6105.4758   3111.148     -1.962      0.050   -1.22e+04      -7.738\n",
       "ic_others_7         6322.0004   3731.929      1.694      0.090    -992.446    1.36e+04\n",
       "ic_others_8         1.538e+04   3072.811      5.004      0.000    9352.650    2.14e+04\n",
       "total_rech_num_6      -0.5674      0.729     -0.778      0.437      -1.997       0.862\n",
       "total_rech_num_7       3.9044      0.744      5.249      0.000       2.447       5.362\n",
       "total_rech_num_8      -7.1126      0.824     -8.633      0.000      -8.727      -5.498\n",
       "total_rech_amt_6      -0.4091      3.352     -0.122      0.903      -6.978       6.160\n",
       "total_rech_amt_7     -16.3950      3.915     -4.188      0.000     -24.068      -8.722\n",
       "total_rech_amt_8     -38.1722      4.597     -8.304      0.000     -47.182     -29.162\n",
       "max_rech_amt_6        -4.3849      1.010     -4.342      0.000      -6.364      -2.406\n",
       "max_rech_amt_7        -0.9748      0.825     -1.182      0.237      -2.591       0.642\n",
       "max_rech_amt_8        11.3436      1.294      8.765      0.000       8.807      13.880\n",
       "last_day_rch_amt_6    -0.0977      0.917     -0.107      0.915      -1.894       1.699\n",
       "last_day_rch_amt_7     1.5036      0.710      2.119      0.034       0.113       2.894\n",
       "last_day_rch_amt_8   -19.1068      1.305    -14.639      0.000     -21.665     -16.549\n",
       "total_rech_data_6      2.0519      0.448      4.579      0.000       1.174       2.930\n",
       "total_rech_data_7      0.1359      0.560      0.243      0.808      -0.962       1.234\n",
       "total_rech_data_8     -6.2763      1.084     -5.788      0.000      -8.401      -4.151\n",
       "max_rech_data_6        6.7666      0.798      8.483      0.000       5.203       8.330\n",
       "max_rech_data_7       -1.5165      0.827     -1.834      0.067      -3.137       0.104\n",
       "max_rech_data_8       -7.4274      1.022     -7.270      0.000      -9.430      -5.425\n",
       "av_rech_amt_data_6   -17.3948      2.536     -6.859      0.000     -22.365     -12.424\n",
       "av_rech_amt_data_7     2.8777      1.792      1.606      0.108      -0.635       6.390\n",
       "av_rech_amt_data_8     2.8711      2.466      1.165      0.244      -1.961       7.703\n",
       "vol_2g_mb_6           -0.6280      0.808     -0.777      0.437      -2.212       0.956\n",
       "vol_2g_mb_7            2.8485      0.935      3.045      0.002       1.015       4.682\n",
       "vol_2g_mb_8           -6.0427      1.239     -4.875      0.000      -8.472      -3.613\n",
       "vol_3g_mb_6           -9.3773      3.102     -3.023      0.003     -15.457      -3.298\n",
       "vol_3g_mb_7            5.2648      1.933      2.724      0.006       1.476       9.053\n",
       "vol_3g_mb_8           -6.0582      2.517     -2.407      0.016     -10.991      -1.126\n",
       "monthly_2g_6          -0.6486      0.324     -2.000      0.045      -1.284      -0.013\n",
       "monthly_2g_7          -0.9124      0.424     -2.154      0.031      -1.743      -0.082\n",
       "monthly_2g_8          -3.9370      0.617     -6.386      0.000      -5.145      -2.729\n",
       "sachet_2g_6            0.7203      0.494      1.458      0.145      -0.248       1.689\n",
       "sachet_2g_7           -0.3588      0.557     -0.644      0.519      -1.450       0.733\n",
       "sachet_2g_8           -3.0001      0.715     -4.194      0.000      -4.402      -1.598\n",
       "monthly_3g_6           1.9327      0.783      2.469      0.014       0.398       3.467\n",
       "monthly_3g_7          -1.9907      1.207     -1.649      0.099      -4.357       0.375\n",
       "monthly_3g_8          -4.7289      1.807     -2.618      0.009      -8.270      -1.188\n",
       "sachet_3g_6            2.7626      0.916      3.015      0.003       0.967       4.558\n",
       "sachet_3g_7            1.7271      0.983      1.757      0.079      -0.200       3.654\n",
       "sachet_3g_8           -4.3714      1.648     -2.653      0.008      -7.601      -1.141\n",
       "aon                   -0.4791      0.107     -4.465      0.000      -0.689      -0.269\n",
       "aug_vbc_3g            -3.4677      1.707     -2.032      0.042      -6.813      -0.123\n",
       "jul_vbc_3g            -0.7246      0.989     -0.733      0.464      -2.662       1.213\n",
       "jun_vbc_3g             3.1121      0.790      3.937      0.000       1.563       4.661\n",
       "======================================================================================\n",
       "\"\"\""
      ]
     },
     "execution_count": 54,
     "metadata": {},
     "output_type": "execute_result"
    }
   ],
   "source": [
    "# For RFE\n",
    "logml = sm.GLM(y_resampled, (sm.add_constant(X_resampled)), family=sm.families.Binomial())\n",
    "logml.fit().summary()"
   ]
  },
  {
   "cell_type": "markdown",
   "id": "157e7780",
   "metadata": {},
   "source": [
    "## Lower the p-value higher the significance"
   ]
  },
  {
   "cell_type": "code",
   "execution_count": 55,
   "id": "27a6fc4c",
   "metadata": {},
   "outputs": [],
   "source": [
    "logreg = LogisticRegression()"
   ]
  },
  {
   "cell_type": "code",
   "execution_count": 56,
   "id": "f373b0ef",
   "metadata": {},
   "outputs": [],
   "source": [
    "# Running rfe with 70 variables as output\n",
    "rfe = RFE(logreg, n_features_to_select=70)\n",
    "rfe = rfe.fit(X_resampled, y_resampled)"
   ]
  },
  {
   "cell_type": "code",
   "execution_count": 57,
   "id": "ac2cb82c",
   "metadata": {},
   "outputs": [
    {
     "data": {
      "text/plain": [
       "array([ True,  True,  True, False,  True, False,  True,  True,  True,\n",
       "        True, False, False, False,  True,  True, False, False,  True,\n",
       "        True, False,  True, False, False,  True,  True,  True, False,\n",
       "       False, False,  True,  True,  True, False, False,  True,  True,\n",
       "       False, False,  True, False,  True,  True, False, False, False,\n",
       "       False, False,  True, False, False, False, False,  True,  True,\n",
       "       False, False,  True,  True, False,  True, False, False,  True,\n",
       "        True,  True,  True,  True, False,  True, False,  True,  True,\n",
       "       False, False,  True,  True, False,  True, False, False,  True,\n",
       "       False, False,  True, False,  True,  True, False, False, False,\n",
       "        True,  True,  True,  True, False,  True,  True,  True,  True,\n",
       "       False, False,  True,  True, False,  True,  True,  True,  True,\n",
       "        True, False,  True, False, False,  True, False, False,  True,\n",
       "       False,  True,  True, False, False,  True, False, False,  True,\n",
       "       False, False,  True,  True,  True, False, False])"
      ]
     },
     "execution_count": 57,
     "metadata": {},
     "output_type": "execute_result"
    }
   ],
   "source": [
    "rfe.support_ # it givs whether or not the selected feature was in top 70. True means yes"
   ]
  },
  {
   "cell_type": "code",
   "execution_count": 58,
   "id": "b474206d",
   "metadata": {},
   "outputs": [
    {
     "data": {
      "text/plain": [
       "[('arpu_6', True, 1),\n",
       " ('arpu_7', True, 1),\n",
       " ('arpu_8', True, 1),\n",
       " ('onnet_mou_6', False, 16),\n",
       " ('onnet_mou_7', True, 1),\n",
       " ('onnet_mou_8', False, 40),\n",
       " ('offnet_mou_6', True, 1),\n",
       " ('offnet_mou_7', True, 1),\n",
       " ('offnet_mou_8', True, 1),\n",
       " ('roam_ic_mou_6', True, 1),\n",
       " ('roam_ic_mou_7', False, 47),\n",
       " ('roam_ic_mou_8', False, 46),\n",
       " ('roam_og_mou_6', False, 6),\n",
       " ('roam_og_mou_7', True, 1),\n",
       " ('roam_og_mou_8', True, 1),\n",
       " ('loc_og_t2t_mou_6', False, 58),\n",
       " ('loc_og_t2t_mou_7', False, 37),\n",
       " ('loc_og_t2t_mou_8', True, 1),\n",
       " ('loc_og_t2m_mou_6', True, 1),\n",
       " ('loc_og_t2m_mou_7', False, 13),\n",
       " ('loc_og_t2m_mou_8', True, 1),\n",
       " ('loc_og_t2f_mou_6', False, 9),\n",
       " ('loc_og_t2f_mou_7', False, 59),\n",
       " ('loc_og_t2f_mou_8', True, 1),\n",
       " ('loc_og_t2c_mou_6', True, 1),\n",
       " ('loc_og_t2c_mou_7', True, 1),\n",
       " ('loc_og_t2c_mou_8', False, 18),\n",
       " ('loc_og_mou_6', False, 55),\n",
       " ('loc_og_mou_7', False, 28),\n",
       " ('loc_og_mou_8', True, 1),\n",
       " ('std_og_t2t_mou_6', True, 1),\n",
       " ('std_og_t2t_mou_7', True, 1),\n",
       " ('std_og_t2t_mou_8', False, 43),\n",
       " ('std_og_t2m_mou_6', False, 53),\n",
       " ('std_og_t2m_mou_7', True, 1),\n",
       " ('std_og_t2m_mou_8', True, 1),\n",
       " ('std_og_t2f_mou_6', False, 54),\n",
       " ('std_og_t2f_mou_7', False, 31),\n",
       " ('std_og_t2f_mou_8', True, 1),\n",
       " ('std_og_mou_6', False, 7),\n",
       " ('std_og_mou_7', True, 1),\n",
       " ('std_og_mou_8', True, 1),\n",
       " ('isd_og_mou_6', False, 62),\n",
       " ('isd_og_mou_7', False, 61),\n",
       " ('isd_og_mou_8', False, 64),\n",
       " ('spl_og_mou_6', False, 60),\n",
       " ('spl_og_mou_7', False, 14),\n",
       " ('spl_og_mou_8', True, 1),\n",
       " ('og_others_6', False, 17),\n",
       " ('og_others_7', False, 35),\n",
       " ('og_others_8', False, 51),\n",
       " ('total_og_mou_6', False, 15),\n",
       " ('total_og_mou_7', True, 1),\n",
       " ('total_og_mou_8', True, 1),\n",
       " ('loc_ic_t2t_mou_6', False, 8),\n",
       " ('loc_ic_t2t_mou_7', False, 34),\n",
       " ('loc_ic_t2t_mou_8', True, 1),\n",
       " ('loc_ic_t2m_mou_6', True, 1),\n",
       " ('loc_ic_t2m_mou_7', False, 25),\n",
       " ('loc_ic_t2m_mou_8', True, 1),\n",
       " ('loc_ic_t2f_mou_6', False, 38),\n",
       " ('loc_ic_t2f_mou_7', False, 41),\n",
       " ('loc_ic_t2f_mou_8', True, 1),\n",
       " ('loc_ic_mou_6', True, 1),\n",
       " ('loc_ic_mou_7', True, 1),\n",
       " ('loc_ic_mou_8', True, 1),\n",
       " ('std_ic_t2t_mou_6', True, 1),\n",
       " ('std_ic_t2t_mou_7', False, 30),\n",
       " ('std_ic_t2t_mou_8', True, 1),\n",
       " ('std_ic_t2m_mou_6', False, 33),\n",
       " ('std_ic_t2m_mou_7', True, 1),\n",
       " ('std_ic_t2m_mou_8', True, 1),\n",
       " ('std_ic_t2f_mou_6', False, 52),\n",
       " ('std_ic_t2f_mou_7', False, 42),\n",
       " ('std_ic_t2f_mou_8', True, 1),\n",
       " ('std_ic_mou_6', True, 1),\n",
       " ('std_ic_mou_7', False, 63),\n",
       " ('std_ic_mou_8', True, 1),\n",
       " ('total_ic_mou_6', False, 4),\n",
       " ('total_ic_mou_7', False, 19),\n",
       " ('total_ic_mou_8', True, 1),\n",
       " ('spl_ic_mou_6', False, 44),\n",
       " ('spl_ic_mou_7', False, 22),\n",
       " ('spl_ic_mou_8', True, 1),\n",
       " ('isd_ic_mou_6', False, 21),\n",
       " ('isd_ic_mou_7', True, 1),\n",
       " ('isd_ic_mou_8', True, 1),\n",
       " ('ic_others_6', False, 32),\n",
       " ('ic_others_7', False, 50),\n",
       " ('ic_others_8', False, 36),\n",
       " ('total_rech_num_6', True, 1),\n",
       " ('total_rech_num_7', True, 1),\n",
       " ('total_rech_num_8', True, 1),\n",
       " ('total_rech_amt_6', True, 1),\n",
       " ('total_rech_amt_7', False, 5),\n",
       " ('total_rech_amt_8', True, 1),\n",
       " ('max_rech_amt_6', True, 1),\n",
       " ('max_rech_amt_7', True, 1),\n",
       " ('max_rech_amt_8', True, 1),\n",
       " ('last_day_rch_amt_6', False, 10),\n",
       " ('last_day_rch_amt_7', False, 11),\n",
       " ('last_day_rch_amt_8', True, 1),\n",
       " ('total_rech_data_6', True, 1),\n",
       " ('total_rech_data_7', False, 49),\n",
       " ('total_rech_data_8', True, 1),\n",
       " ('max_rech_data_6', True, 1),\n",
       " ('max_rech_data_7', True, 1),\n",
       " ('max_rech_data_8', True, 1),\n",
       " ('av_rech_amt_data_6', True, 1),\n",
       " ('av_rech_amt_data_7', False, 27),\n",
       " ('av_rech_amt_data_8', True, 1),\n",
       " ('vol_2g_mb_6', False, 23),\n",
       " ('vol_2g_mb_7', False, 20),\n",
       " ('vol_2g_mb_8', True, 1),\n",
       " ('vol_3g_mb_6', False, 57),\n",
       " ('vol_3g_mb_7', False, 26),\n",
       " ('vol_3g_mb_8', True, 1),\n",
       " ('monthly_2g_6', False, 3),\n",
       " ('monthly_2g_7', True, 1),\n",
       " ('monthly_2g_8', True, 1),\n",
       " ('sachet_2g_6', False, 12),\n",
       " ('sachet_2g_7', False, 56),\n",
       " ('sachet_2g_8', True, 1),\n",
       " ('monthly_3g_6', False, 29),\n",
       " ('monthly_3g_7', False, 2),\n",
       " ('monthly_3g_8', True, 1),\n",
       " ('sachet_3g_6', False, 39),\n",
       " ('sachet_3g_7', False, 48),\n",
       " ('sachet_3g_8', True, 1),\n",
       " ('aon', True, 1),\n",
       " ('aug_vbc_3g', True, 1),\n",
       " ('jul_vbc_3g', False, 24),\n",
       " ('jun_vbc_3g', False, 45)]"
      ]
     },
     "execution_count": 58,
     "metadata": {},
     "output_type": "execute_result"
    }
   ],
   "source": [
    "# to see the selected columns\n",
    "list(zip(X_resampled.columns, rfe.support_, rfe.ranking_))"
   ]
  },
  {
   "cell_type": "code",
   "execution_count": 59,
   "id": "bc628327",
   "metadata": {},
   "outputs": [],
   "source": [
    "col = X_resampled.columns[rfe.support_]"
   ]
  },
  {
   "cell_type": "code",
   "execution_count": 60,
   "id": "bbbd2363",
   "metadata": {},
   "outputs": [
    {
     "data": {
      "text/html": [
       "<table class=\"simpletable\">\n",
       "<caption>Generalized Linear Model Regression Results</caption>\n",
       "<tr>\n",
       "  <th>Dep. Variable:</th>   <td>churn_probability</td> <th>  No. Observations:  </th>  <td> 27020</td> \n",
       "</tr>\n",
       "<tr>\n",
       "  <th>Model:</th>                  <td>GLM</td>        <th>  Df Residuals:      </th>  <td> 26950</td> \n",
       "</tr>\n",
       "<tr>\n",
       "  <th>Model Family:</th>        <td>Binomial</td>      <th>  Df Model:          </th>  <td>    69</td> \n",
       "</tr>\n",
       "<tr>\n",
       "  <th>Link Function:</th>         <td>logit</td>       <th>  Scale:             </th> <td>  1.0000</td>\n",
       "</tr>\n",
       "<tr>\n",
       "  <th>Method:</th>                <td>IRLS</td>        <th>  Log-Likelihood:    </th> <td> -8895.1</td>\n",
       "</tr>\n",
       "<tr>\n",
       "  <th>Date:</th>            <td>Sun, 18 Sep 2022</td>  <th>  Deviance:          </th> <td>  17790.</td>\n",
       "</tr>\n",
       "<tr>\n",
       "  <th>Time:</th>                <td>19:47:39</td>      <th>  Pearson chi2:      </th> <td>1.56e+05</td>\n",
       "</tr>\n",
       "<tr>\n",
       "  <th>No. Iterations:</th>          <td>7</td>         <th>                     </th>     <td> </td>   \n",
       "</tr>\n",
       "<tr>\n",
       "  <th>Covariance Type:</th>     <td>nonrobust</td>     <th>                     </th>     <td> </td>   \n",
       "</tr>\n",
       "</table>\n",
       "<table class=\"simpletable\">\n",
       "<tr>\n",
       "           <td></td>             <th>coef</th>     <th>std err</th>      <th>z</th>      <th>P>|z|</th>  <th>[0.025</th>    <th>0.975]</th>  \n",
       "</tr>\n",
       "<tr>\n",
       "  <th>const</th>              <td>   -2.2411</td> <td>    0.525</td> <td>   -4.268</td> <td> 0.000</td> <td>   -3.270</td> <td>   -1.212</td>\n",
       "</tr>\n",
       "<tr>\n",
       "  <th>arpu_6</th>             <td>    5.2194</td> <td>    3.386</td> <td>    1.542</td> <td> 0.123</td> <td>   -1.417</td> <td>   11.855</td>\n",
       "</tr>\n",
       "<tr>\n",
       "  <th>arpu_7</th>             <td>    7.5787</td> <td>    2.432</td> <td>    3.116</td> <td> 0.002</td> <td>    2.811</td> <td>   12.346</td>\n",
       "</tr>\n",
       "<tr>\n",
       "  <th>arpu_8</th>             <td>   36.4583</td> <td>    4.542</td> <td>    8.028</td> <td> 0.000</td> <td>   27.557</td> <td>   45.360</td>\n",
       "</tr>\n",
       "<tr>\n",
       "  <th>onnet_mou_7</th>        <td>   -6.6635</td> <td>   10.123</td> <td>   -0.658</td> <td> 0.510</td> <td>  -26.503</td> <td>   13.176</td>\n",
       "</tr>\n",
       "<tr>\n",
       "  <th>offnet_mou_6</th>       <td>    1.5466</td> <td>    0.701</td> <td>    2.207</td> <td> 0.027</td> <td>    0.173</td> <td>    2.920</td>\n",
       "</tr>\n",
       "<tr>\n",
       "  <th>offnet_mou_7</th>       <td>  -11.7517</td> <td>    8.289</td> <td>   -1.418</td> <td> 0.156</td> <td>  -27.997</td> <td>    4.494</td>\n",
       "</tr>\n",
       "<tr>\n",
       "  <th>offnet_mou_8</th>       <td>  -40.3550</td> <td>   10.354</td> <td>   -3.898</td> <td> 0.000</td> <td>  -60.648</td> <td>  -20.062</td>\n",
       "</tr>\n",
       "<tr>\n",
       "  <th>roam_ic_mou_6</th>      <td>    1.9701</td> <td>    0.848</td> <td>    2.323</td> <td> 0.020</td> <td>    0.308</td> <td>    3.633</td>\n",
       "</tr>\n",
       "<tr>\n",
       "  <th>roam_og_mou_7</th>      <td>    8.5338</td> <td>    3.555</td> <td>    2.400</td> <td> 0.016</td> <td>    1.566</td> <td>   15.502</td>\n",
       "</tr>\n",
       "<tr>\n",
       "  <th>roam_og_mou_8</th>      <td>   15.4020</td> <td>    3.054</td> <td>    5.043</td> <td> 0.000</td> <td>    9.416</td> <td>   21.388</td>\n",
       "</tr>\n",
       "<tr>\n",
       "  <th>loc_og_t2t_mou_8</th>   <td>  1.79e+04</td> <td> 3.83e+04</td> <td>    0.467</td> <td> 0.641</td> <td>-5.73e+04</td> <td> 9.31e+04</td>\n",
       "</tr>\n",
       "<tr>\n",
       "  <th>loc_og_t2m_mou_6</th>   <td>   -2.0136</td> <td>    0.913</td> <td>   -2.207</td> <td> 0.027</td> <td>   -3.802</td> <td>   -0.225</td>\n",
       "</tr>\n",
       "<tr>\n",
       "  <th>loc_og_t2m_mou_8</th>   <td> 8278.7427</td> <td> 1.77e+04</td> <td>    0.468</td> <td> 0.640</td> <td>-2.64e+04</td> <td>  4.3e+04</td>\n",
       "</tr>\n",
       "<tr>\n",
       "  <th>loc_og_t2f_mou_8</th>   <td>  982.5764</td> <td> 2098.084</td> <td>    0.468</td> <td> 0.640</td> <td>-3129.592</td> <td> 5094.745</td>\n",
       "</tr>\n",
       "<tr>\n",
       "  <th>loc_og_t2c_mou_6</th>   <td>   -6.7205</td> <td>    1.289</td> <td>   -5.214</td> <td> 0.000</td> <td>   -9.247</td> <td>   -4.194</td>\n",
       "</tr>\n",
       "<tr>\n",
       "  <th>loc_og_t2c_mou_7</th>   <td>   -1.5980</td> <td>    2.061</td> <td>   -0.775</td> <td> 0.438</td> <td>   -5.638</td> <td>    2.442</td>\n",
       "</tr>\n",
       "<tr>\n",
       "  <th>loc_og_mou_8</th>       <td>-1.837e+04</td> <td> 3.94e+04</td> <td>   -0.467</td> <td> 0.641</td> <td>-9.55e+04</td> <td> 5.88e+04</td>\n",
       "</tr>\n",
       "<tr>\n",
       "  <th>std_og_t2t_mou_6</th>   <td>    2.1886</td> <td>    0.576</td> <td>    3.801</td> <td> 0.000</td> <td>    1.060</td> <td>    3.317</td>\n",
       "</tr>\n",
       "<tr>\n",
       "  <th>std_og_t2t_mou_7</th>   <td>  -15.6511</td> <td>   31.003</td> <td>   -0.505</td> <td> 0.614</td> <td>  -76.415</td> <td>   45.113</td>\n",
       "</tr>\n",
       "<tr>\n",
       "  <th>std_og_t2m_mou_7</th>   <td>   -5.5303</td> <td>   25.133</td> <td>   -0.220</td> <td> 0.826</td> <td>  -54.791</td> <td>   43.730</td>\n",
       "</tr>\n",
       "<tr>\n",
       "  <th>std_og_t2m_mou_8</th>   <td>   34.5127</td> <td>   10.488</td> <td>    3.291</td> <td> 0.001</td> <td>   13.957</td> <td>   55.069</td>\n",
       "</tr>\n",
       "<tr>\n",
       "  <th>std_og_t2f_mou_8</th>   <td>   -6.0781</td> <td>    2.336</td> <td>   -2.602</td> <td> 0.009</td> <td>  -10.656</td> <td>   -1.500</td>\n",
       "</tr>\n",
       "<tr>\n",
       "  <th>std_og_mou_7</th>       <td>   11.8329</td> <td>   31.038</td> <td>    0.381</td> <td> 0.703</td> <td>  -49.001</td> <td>   72.667</td>\n",
       "</tr>\n",
       "<tr>\n",
       "  <th>std_og_mou_8</th>       <td>   35.1469</td> <td>   31.576</td> <td>    1.113</td> <td> 0.266</td> <td>  -26.741</td> <td>   97.035</td>\n",
       "</tr>\n",
       "<tr>\n",
       "  <th>spl_og_mou_8</th>       <td>    1.2120</td> <td>    2.091</td> <td>    0.580</td> <td> 0.562</td> <td>   -2.886</td> <td>    5.310</td>\n",
       "</tr>\n",
       "<tr>\n",
       "  <th>total_og_mou_7</th>     <td>   13.8754</td> <td>   10.182</td> <td>    1.363</td> <td> 0.173</td> <td>   -6.081</td> <td>   33.832</td>\n",
       "</tr>\n",
       "<tr>\n",
       "  <th>total_og_mou_8</th>     <td>  -43.9535</td> <td>   31.888</td> <td>   -1.378</td> <td> 0.168</td> <td> -106.453</td> <td>   18.546</td>\n",
       "</tr>\n",
       "<tr>\n",
       "  <th>loc_ic_t2t_mou_8</th>   <td>  747.4810</td> <td> 8948.754</td> <td>    0.084</td> <td> 0.933</td> <td>-1.68e+04</td> <td> 1.83e+04</td>\n",
       "</tr>\n",
       "<tr>\n",
       "  <th>loc_ic_t2m_mou_6</th>   <td>    2.7473</td> <td>    1.864</td> <td>    1.474</td> <td> 0.140</td> <td>   -0.906</td> <td>    6.400</td>\n",
       "</tr>\n",
       "<tr>\n",
       "  <th>loc_ic_t2m_mou_8</th>   <td>  878.0102</td> <td> 1.05e+04</td> <td>    0.084</td> <td> 0.933</td> <td>-1.96e+04</td> <td> 2.14e+04</td>\n",
       "</tr>\n",
       "<tr>\n",
       "  <th>loc_ic_t2f_mou_8</th>   <td>  268.7874</td> <td> 3288.744</td> <td>    0.082</td> <td> 0.935</td> <td>-6177.033</td> <td> 6714.608</td>\n",
       "</tr>\n",
       "<tr>\n",
       "  <th>loc_ic_mou_6</th>       <td>    2.7067</td> <td>    2.455</td> <td>    1.103</td> <td> 0.270</td> <td>   -2.105</td> <td>    7.518</td>\n",
       "</tr>\n",
       "<tr>\n",
       "  <th>loc_ic_mou_7</th>       <td>   14.2174</td> <td>    1.660</td> <td>    8.562</td> <td> 0.000</td> <td>   10.963</td> <td>   17.472</td>\n",
       "</tr>\n",
       "<tr>\n",
       "  <th>loc_ic_mou_8</th>       <td>-1047.4375</td> <td>  1.2e+04</td> <td>   -0.088</td> <td> 0.930</td> <td>-2.45e+04</td> <td> 2.24e+04</td>\n",
       "</tr>\n",
       "<tr>\n",
       "  <th>std_ic_t2t_mou_6</th>   <td>    4.4312</td> <td>    1.852</td> <td>    2.392</td> <td> 0.017</td> <td>    0.800</td> <td>    8.062</td>\n",
       "</tr>\n",
       "<tr>\n",
       "  <th>std_ic_t2t_mou_8</th>   <td>-2.448e+04</td> <td> 1.65e+04</td> <td>   -1.485</td> <td> 0.137</td> <td>-5.68e+04</td> <td> 7824.229</td>\n",
       "</tr>\n",
       "<tr>\n",
       "  <th>std_ic_t2m_mou_7</th>   <td>   -2.7357</td> <td>    1.035</td> <td>   -2.644</td> <td> 0.008</td> <td>   -4.764</td> <td>   -0.707</td>\n",
       "</tr>\n",
       "<tr>\n",
       "  <th>std_ic_t2m_mou_8</th>   <td>-2.058e+04</td> <td> 1.39e+04</td> <td>   -1.484</td> <td> 0.138</td> <td>-4.77e+04</td> <td> 6592.688</td>\n",
       "</tr>\n",
       "<tr>\n",
       "  <th>std_ic_t2f_mou_8</th>   <td>-9977.6718</td> <td> 6716.152</td> <td>   -1.486</td> <td> 0.137</td> <td>-2.31e+04</td> <td> 3185.743</td>\n",
       "</tr>\n",
       "<tr>\n",
       "  <th>std_ic_mou_6</th>       <td>    1.0281</td> <td>    1.401</td> <td>    0.734</td> <td> 0.463</td> <td>   -1.717</td> <td>    3.773</td>\n",
       "</tr>\n",
       "<tr>\n",
       "  <th>std_ic_mou_8</th>       <td> 2.698e+04</td> <td> 1.82e+04</td> <td>    1.484</td> <td> 0.138</td> <td>-8664.032</td> <td> 6.26e+04</td>\n",
       "</tr>\n",
       "<tr>\n",
       "  <th>total_ic_mou_8</th>     <td>    4.8959</td> <td>   11.476</td> <td>    0.427</td> <td> 0.670</td> <td>  -17.597</td> <td>   27.389</td>\n",
       "</tr>\n",
       "<tr>\n",
       "  <th>spl_ic_mou_8</th>       <td>   -7.4891</td> <td>    0.603</td> <td>  -12.419</td> <td> 0.000</td> <td>   -8.671</td> <td>   -6.307</td>\n",
       "</tr>\n",
       "<tr>\n",
       "  <th>isd_ic_mou_7</th>       <td>   -0.1446</td> <td>    2.778</td> <td>   -0.052</td> <td> 0.958</td> <td>   -5.590</td> <td>    5.301</td>\n",
       "</tr>\n",
       "<tr>\n",
       "  <th>isd_ic_mou_8</th>       <td>   -1.7801</td> <td>    4.905</td> <td>   -0.363</td> <td> 0.717</td> <td>  -11.393</td> <td>    7.833</td>\n",
       "</tr>\n",
       "<tr>\n",
       "  <th>total_rech_num_6</th>   <td>   -0.3338</td> <td>    0.670</td> <td>   -0.498</td> <td> 0.618</td> <td>   -1.647</td> <td>    0.980</td>\n",
       "</tr>\n",
       "<tr>\n",
       "  <th>total_rech_num_7</th>   <td>    3.4794</td> <td>    0.649</td> <td>    5.361</td> <td> 0.000</td> <td>    2.207</td> <td>    4.751</td>\n",
       "</tr>\n",
       "<tr>\n",
       "  <th>total_rech_num_8</th>   <td>   -7.4460</td> <td>    0.772</td> <td>   -9.649</td> <td> 0.000</td> <td>   -8.958</td> <td>   -5.934</td>\n",
       "</tr>\n",
       "<tr>\n",
       "  <th>total_rech_amt_6</th>   <td>   -0.6308</td> <td>    3.101</td> <td>   -0.203</td> <td> 0.839</td> <td>   -6.708</td> <td>    5.446</td>\n",
       "</tr>\n",
       "<tr>\n",
       "  <th>total_rech_amt_8</th>   <td>  -35.8413</td> <td>    4.321</td> <td>   -8.294</td> <td> 0.000</td> <td>  -44.311</td> <td>  -27.371</td>\n",
       "</tr>\n",
       "<tr>\n",
       "  <th>max_rech_amt_6</th>     <td>   -2.7402</td> <td>    0.881</td> <td>   -3.110</td> <td> 0.002</td> <td>   -4.467</td> <td>   -1.013</td>\n",
       "</tr>\n",
       "<tr>\n",
       "  <th>max_rech_amt_7</th>     <td>   -1.8514</td> <td>    0.648</td> <td>   -2.855</td> <td> 0.004</td> <td>   -3.122</td> <td>   -0.580</td>\n",
       "</tr>\n",
       "<tr>\n",
       "  <th>max_rech_amt_8</th>     <td>   11.1238</td> <td>    1.258</td> <td>    8.842</td> <td> 0.000</td> <td>    8.658</td> <td>   13.590</td>\n",
       "</tr>\n",
       "<tr>\n",
       "  <th>last_day_rch_amt_8</th> <td>  -18.8114</td> <td>    1.267</td> <td>  -14.852</td> <td> 0.000</td> <td>  -21.294</td> <td>  -16.329</td>\n",
       "</tr>\n",
       "<tr>\n",
       "  <th>total_rech_data_6</th>  <td>    3.4275</td> <td>    0.749</td> <td>    4.578</td> <td> 0.000</td> <td>    1.960</td> <td>    4.895</td>\n",
       "</tr>\n",
       "<tr>\n",
       "  <th>total_rech_data_8</th>  <td>   -5.0289</td> <td>    0.868</td> <td>   -5.793</td> <td> 0.000</td> <td>   -6.730</td> <td>   -3.327</td>\n",
       "</tr>\n",
       "<tr>\n",
       "  <th>max_rech_data_6</th>    <td>    5.2610</td> <td>    0.740</td> <td>    7.113</td> <td> 0.000</td> <td>    3.811</td> <td>    6.711</td>\n",
       "</tr>\n",
       "<tr>\n",
       "  <th>max_rech_data_7</th>    <td>    0.8144</td> <td>    0.531</td> <td>    1.533</td> <td> 0.125</td> <td>   -0.227</td> <td>    1.855</td>\n",
       "</tr>\n",
       "<tr>\n",
       "  <th>max_rech_data_8</th>    <td>   -7.0517</td> <td>    1.000</td> <td>   -7.048</td> <td> 0.000</td> <td>   -9.013</td> <td>   -5.091</td>\n",
       "</tr>\n",
       "<tr>\n",
       "  <th>av_rech_amt_data_6</th> <td>  -13.3269</td> <td>    1.887</td> <td>   -7.061</td> <td> 0.000</td> <td>  -17.026</td> <td>   -9.628</td>\n",
       "</tr>\n",
       "<tr>\n",
       "  <th>av_rech_amt_data_8</th> <td>    2.5646</td> <td>    2.275</td> <td>    1.127</td> <td> 0.260</td> <td>   -1.895</td> <td>    7.024</td>\n",
       "</tr>\n",
       "<tr>\n",
       "  <th>vol_2g_mb_8</th>        <td>   -5.0744</td> <td>    1.081</td> <td>   -4.692</td> <td> 0.000</td> <td>   -7.194</td> <td>   -2.955</td>\n",
       "</tr>\n",
       "<tr>\n",
       "  <th>vol_3g_mb_8</th>        <td>   -5.3149</td> <td>    2.164</td> <td>   -2.456</td> <td> 0.014</td> <td>   -9.557</td> <td>   -1.073</td>\n",
       "</tr>\n",
       "<tr>\n",
       "  <th>monthly_2g_7</th>       <td>   -0.9258</td> <td>    0.343</td> <td>   -2.697</td> <td> 0.007</td> <td>   -1.599</td> <td>   -0.253</td>\n",
       "</tr>\n",
       "<tr>\n",
       "  <th>monthly_2g_8</th>       <td>   -4.7591</td> <td>    0.586</td> <td>   -8.124</td> <td> 0.000</td> <td>   -5.907</td> <td>   -3.611</td>\n",
       "</tr>\n",
       "<tr>\n",
       "  <th>sachet_2g_8</th>        <td>   -4.1968</td> <td>    0.574</td> <td>   -7.311</td> <td> 0.000</td> <td>   -5.322</td> <td>   -3.072</td>\n",
       "</tr>\n",
       "<tr>\n",
       "  <th>monthly_3g_8</th>       <td>   -4.8228</td> <td>    1.521</td> <td>   -3.172</td> <td> 0.002</td> <td>   -7.803</td> <td>   -1.842</td>\n",
       "</tr>\n",
       "<tr>\n",
       "  <th>sachet_3g_8</th>        <td>   -1.4167</td> <td>    1.237</td> <td>   -1.145</td> <td> 0.252</td> <td>   -3.842</td> <td>    1.009</td>\n",
       "</tr>\n",
       "<tr>\n",
       "  <th>aon</th>                <td>   -0.5907</td> <td>    0.101</td> <td>   -5.824</td> <td> 0.000</td> <td>   -0.789</td> <td>   -0.392</td>\n",
       "</tr>\n",
       "<tr>\n",
       "  <th>aug_vbc_3g</th>         <td>   -2.4627</td> <td>    1.387</td> <td>   -1.775</td> <td> 0.076</td> <td>   -5.182</td> <td>    0.256</td>\n",
       "</tr>\n",
       "</table>"
      ],
      "text/plain": [
       "<class 'statsmodels.iolib.summary.Summary'>\n",
       "\"\"\"\n",
       "                 Generalized Linear Model Regression Results                  \n",
       "==============================================================================\n",
       "Dep. Variable:      churn_probability   No. Observations:                27020\n",
       "Model:                            GLM   Df Residuals:                    26950\n",
       "Model Family:                Binomial   Df Model:                           69\n",
       "Link Function:                  logit   Scale:                          1.0000\n",
       "Method:                          IRLS   Log-Likelihood:                -8895.1\n",
       "Date:                Sun, 18 Sep 2022   Deviance:                       17790.\n",
       "Time:                        19:47:39   Pearson chi2:                 1.56e+05\n",
       "No. Iterations:                     7                                         \n",
       "Covariance Type:            nonrobust                                         \n",
       "======================================================================================\n",
       "                         coef    std err          z      P>|z|      [0.025      0.975]\n",
       "--------------------------------------------------------------------------------------\n",
       "const                 -2.2411      0.525     -4.268      0.000      -3.270      -1.212\n",
       "arpu_6                 5.2194      3.386      1.542      0.123      -1.417      11.855\n",
       "arpu_7                 7.5787      2.432      3.116      0.002       2.811      12.346\n",
       "arpu_8                36.4583      4.542      8.028      0.000      27.557      45.360\n",
       "onnet_mou_7           -6.6635     10.123     -0.658      0.510     -26.503      13.176\n",
       "offnet_mou_6           1.5466      0.701      2.207      0.027       0.173       2.920\n",
       "offnet_mou_7         -11.7517      8.289     -1.418      0.156     -27.997       4.494\n",
       "offnet_mou_8         -40.3550     10.354     -3.898      0.000     -60.648     -20.062\n",
       "roam_ic_mou_6          1.9701      0.848      2.323      0.020       0.308       3.633\n",
       "roam_og_mou_7          8.5338      3.555      2.400      0.016       1.566      15.502\n",
       "roam_og_mou_8         15.4020      3.054      5.043      0.000       9.416      21.388\n",
       "loc_og_t2t_mou_8     1.79e+04   3.83e+04      0.467      0.641   -5.73e+04    9.31e+04\n",
       "loc_og_t2m_mou_6      -2.0136      0.913     -2.207      0.027      -3.802      -0.225\n",
       "loc_og_t2m_mou_8    8278.7427   1.77e+04      0.468      0.640   -2.64e+04     4.3e+04\n",
       "loc_og_t2f_mou_8     982.5764   2098.084      0.468      0.640   -3129.592    5094.745\n",
       "loc_og_t2c_mou_6      -6.7205      1.289     -5.214      0.000      -9.247      -4.194\n",
       "loc_og_t2c_mou_7      -1.5980      2.061     -0.775      0.438      -5.638       2.442\n",
       "loc_og_mou_8       -1.837e+04   3.94e+04     -0.467      0.641   -9.55e+04    5.88e+04\n",
       "std_og_t2t_mou_6       2.1886      0.576      3.801      0.000       1.060       3.317\n",
       "std_og_t2t_mou_7     -15.6511     31.003     -0.505      0.614     -76.415      45.113\n",
       "std_og_t2m_mou_7      -5.5303     25.133     -0.220      0.826     -54.791      43.730\n",
       "std_og_t2m_mou_8      34.5127     10.488      3.291      0.001      13.957      55.069\n",
       "std_og_t2f_mou_8      -6.0781      2.336     -2.602      0.009     -10.656      -1.500\n",
       "std_og_mou_7          11.8329     31.038      0.381      0.703     -49.001      72.667\n",
       "std_og_mou_8          35.1469     31.576      1.113      0.266     -26.741      97.035\n",
       "spl_og_mou_8           1.2120      2.091      0.580      0.562      -2.886       5.310\n",
       "total_og_mou_7        13.8754     10.182      1.363      0.173      -6.081      33.832\n",
       "total_og_mou_8       -43.9535     31.888     -1.378      0.168    -106.453      18.546\n",
       "loc_ic_t2t_mou_8     747.4810   8948.754      0.084      0.933   -1.68e+04    1.83e+04\n",
       "loc_ic_t2m_mou_6       2.7473      1.864      1.474      0.140      -0.906       6.400\n",
       "loc_ic_t2m_mou_8     878.0102   1.05e+04      0.084      0.933   -1.96e+04    2.14e+04\n",
       "loc_ic_t2f_mou_8     268.7874   3288.744      0.082      0.935   -6177.033    6714.608\n",
       "loc_ic_mou_6           2.7067      2.455      1.103      0.270      -2.105       7.518\n",
       "loc_ic_mou_7          14.2174      1.660      8.562      0.000      10.963      17.472\n",
       "loc_ic_mou_8       -1047.4375    1.2e+04     -0.088      0.930   -2.45e+04    2.24e+04\n",
       "std_ic_t2t_mou_6       4.4312      1.852      2.392      0.017       0.800       8.062\n",
       "std_ic_t2t_mou_8   -2.448e+04   1.65e+04     -1.485      0.137   -5.68e+04    7824.229\n",
       "std_ic_t2m_mou_7      -2.7357      1.035     -2.644      0.008      -4.764      -0.707\n",
       "std_ic_t2m_mou_8   -2.058e+04   1.39e+04     -1.484      0.138   -4.77e+04    6592.688\n",
       "std_ic_t2f_mou_8   -9977.6718   6716.152     -1.486      0.137   -2.31e+04    3185.743\n",
       "std_ic_mou_6           1.0281      1.401      0.734      0.463      -1.717       3.773\n",
       "std_ic_mou_8        2.698e+04   1.82e+04      1.484      0.138   -8664.032    6.26e+04\n",
       "total_ic_mou_8         4.8959     11.476      0.427      0.670     -17.597      27.389\n",
       "spl_ic_mou_8          -7.4891      0.603    -12.419      0.000      -8.671      -6.307\n",
       "isd_ic_mou_7          -0.1446      2.778     -0.052      0.958      -5.590       5.301\n",
       "isd_ic_mou_8          -1.7801      4.905     -0.363      0.717     -11.393       7.833\n",
       "total_rech_num_6      -0.3338      0.670     -0.498      0.618      -1.647       0.980\n",
       "total_rech_num_7       3.4794      0.649      5.361      0.000       2.207       4.751\n",
       "total_rech_num_8      -7.4460      0.772     -9.649      0.000      -8.958      -5.934\n",
       "total_rech_amt_6      -0.6308      3.101     -0.203      0.839      -6.708       5.446\n",
       "total_rech_amt_8     -35.8413      4.321     -8.294      0.000     -44.311     -27.371\n",
       "max_rech_amt_6        -2.7402      0.881     -3.110      0.002      -4.467      -1.013\n",
       "max_rech_amt_7        -1.8514      0.648     -2.855      0.004      -3.122      -0.580\n",
       "max_rech_amt_8        11.1238      1.258      8.842      0.000       8.658      13.590\n",
       "last_day_rch_amt_8   -18.8114      1.267    -14.852      0.000     -21.294     -16.329\n",
       "total_rech_data_6      3.4275      0.749      4.578      0.000       1.960       4.895\n",
       "total_rech_data_8     -5.0289      0.868     -5.793      0.000      -6.730      -3.327\n",
       "max_rech_data_6        5.2610      0.740      7.113      0.000       3.811       6.711\n",
       "max_rech_data_7        0.8144      0.531      1.533      0.125      -0.227       1.855\n",
       "max_rech_data_8       -7.0517      1.000     -7.048      0.000      -9.013      -5.091\n",
       "av_rech_amt_data_6   -13.3269      1.887     -7.061      0.000     -17.026      -9.628\n",
       "av_rech_amt_data_8     2.5646      2.275      1.127      0.260      -1.895       7.024\n",
       "vol_2g_mb_8           -5.0744      1.081     -4.692      0.000      -7.194      -2.955\n",
       "vol_3g_mb_8           -5.3149      2.164     -2.456      0.014      -9.557      -1.073\n",
       "monthly_2g_7          -0.9258      0.343     -2.697      0.007      -1.599      -0.253\n",
       "monthly_2g_8          -4.7591      0.586     -8.124      0.000      -5.907      -3.611\n",
       "sachet_2g_8           -4.1968      0.574     -7.311      0.000      -5.322      -3.072\n",
       "monthly_3g_8          -4.8228      1.521     -3.172      0.002      -7.803      -1.842\n",
       "sachet_3g_8           -1.4167      1.237     -1.145      0.252      -3.842       1.009\n",
       "aon                   -0.5907      0.101     -5.824      0.000      -0.789      -0.392\n",
       "aug_vbc_3g            -2.4627      1.387     -1.775      0.076      -5.182       0.256\n",
       "======================================================================================\n",
       "\"\"\""
      ]
     },
     "execution_count": 60,
     "metadata": {},
     "output_type": "execute_result"
    }
   ],
   "source": [
    "X_resampled_sm = sm.add_constant(X_resampled[col])\n",
    "logm2 = sm.GLM(y_resampled, X_resampled_sm, family=sm.families.Binomial())\n",
    "res = logm2.fit()\n",
    "res.summary()"
   ]
  },
  {
   "cell_type": "markdown",
   "id": "abd9145a",
   "metadata": {},
   "source": [
    "## Getting the top 15 features for Logistic model with RFE."
   ]
  },
  {
   "cell_type": "code",
   "execution_count": 61,
   "id": "bff9df43",
   "metadata": {},
   "outputs": [],
   "source": [
    "top_feature_lg_rfe = res.params.sort_values(ascending=False).head(25)"
   ]
  },
  {
   "cell_type": "code",
   "execution_count": 62,
   "id": "694db6ec",
   "metadata": {},
   "outputs": [],
   "source": [
    "top_feature_lg_rfe = list(top_feature_lg_rfe.keys())"
   ]
  },
  {
   "cell_type": "code",
   "execution_count": 63,
   "id": "01bb9e4e",
   "metadata": {},
   "outputs": [
    {
     "data": {
      "text/plain": [
       "['std_ic_mou_8',\n",
       " 'loc_og_t2t_mou_8',\n",
       " 'loc_og_t2m_mou_8',\n",
       " 'loc_og_t2f_mou_8',\n",
       " 'loc_ic_t2m_mou_8',\n",
       " 'loc_ic_t2t_mou_8',\n",
       " 'loc_ic_t2f_mou_8',\n",
       " 'arpu_8',\n",
       " 'std_og_mou_8',\n",
       " 'std_og_t2m_mou_8',\n",
       " 'roam_og_mou_8',\n",
       " 'loc_ic_mou_7',\n",
       " 'total_og_mou_7',\n",
       " 'std_og_mou_7',\n",
       " 'max_rech_amt_8',\n",
       " 'roam_og_mou_7',\n",
       " 'arpu_7',\n",
       " 'max_rech_data_6',\n",
       " 'arpu_6',\n",
       " 'total_ic_mou_8',\n",
       " 'std_ic_t2t_mou_6',\n",
       " 'total_rech_num_7',\n",
       " 'total_rech_data_6',\n",
       " 'loc_ic_t2m_mou_6',\n",
       " 'loc_ic_mou_6']"
      ]
     },
     "execution_count": 63,
     "metadata": {},
     "output_type": "execute_result"
    }
   ],
   "source": [
    "top_feature_lg_rfe"
   ]
  },
  {
   "cell_type": "markdown",
   "id": "3270c989",
   "metadata": {},
   "source": [
    "### Making predictions on the test set"
   ]
  },
  {
   "cell_type": "code",
   "execution_count": 64,
   "id": "de453884",
   "metadata": {},
   "outputs": [
    {
     "name": "stdout",
     "output_type": "stream",
     "text": [
      "<class 'pandas.core.frame.DataFrame'>\n",
      "Int64Index: 6304 entries, 5662 to 36425\n",
      "Data columns (total 70 columns):\n",
      " #   Column              Non-Null Count  Dtype  \n",
      "---  ------              --------------  -----  \n",
      " 0   arpu_6              6304 non-null   float64\n",
      " 1   arpu_7              6304 non-null   float64\n",
      " 2   arpu_8              6304 non-null   float64\n",
      " 3   onnet_mou_7         6304 non-null   float64\n",
      " 4   offnet_mou_6        6304 non-null   float64\n",
      " 5   offnet_mou_7        6304 non-null   float64\n",
      " 6   offnet_mou_8        6304 non-null   float64\n",
      " 7   roam_ic_mou_6       6304 non-null   float64\n",
      " 8   roam_og_mou_7       6304 non-null   float64\n",
      " 9   roam_og_mou_8       6304 non-null   float64\n",
      " 10  loc_og_t2t_mou_8    6304 non-null   float64\n",
      " 11  loc_og_t2m_mou_6    6304 non-null   float64\n",
      " 12  loc_og_t2m_mou_8    6304 non-null   float64\n",
      " 13  loc_og_t2f_mou_8    6304 non-null   float64\n",
      " 14  loc_og_t2c_mou_6    6304 non-null   float64\n",
      " 15  loc_og_t2c_mou_7    6304 non-null   float64\n",
      " 16  loc_og_mou_8        6304 non-null   float64\n",
      " 17  std_og_t2t_mou_6    6304 non-null   float64\n",
      " 18  std_og_t2t_mou_7    6304 non-null   float64\n",
      " 19  std_og_t2m_mou_7    6304 non-null   float64\n",
      " 20  std_og_t2m_mou_8    6304 non-null   float64\n",
      " 21  std_og_t2f_mou_8    6304 non-null   float64\n",
      " 22  std_og_mou_7        6304 non-null   float64\n",
      " 23  std_og_mou_8        6304 non-null   float64\n",
      " 24  spl_og_mou_8        6304 non-null   float64\n",
      " 25  total_og_mou_7      6304 non-null   float64\n",
      " 26  total_og_mou_8      6304 non-null   float64\n",
      " 27  loc_ic_t2t_mou_8    6304 non-null   float64\n",
      " 28  loc_ic_t2m_mou_6    6304 non-null   float64\n",
      " 29  loc_ic_t2m_mou_8    6304 non-null   float64\n",
      " 30  loc_ic_t2f_mou_8    6304 non-null   float64\n",
      " 31  loc_ic_mou_6        6304 non-null   float64\n",
      " 32  loc_ic_mou_7        6304 non-null   float64\n",
      " 33  loc_ic_mou_8        6304 non-null   float64\n",
      " 34  std_ic_t2t_mou_6    6304 non-null   float64\n",
      " 35  std_ic_t2t_mou_8    6304 non-null   float64\n",
      " 36  std_ic_t2m_mou_7    6304 non-null   float64\n",
      " 37  std_ic_t2m_mou_8    6304 non-null   float64\n",
      " 38  std_ic_t2f_mou_8    6304 non-null   float64\n",
      " 39  std_ic_mou_6        6304 non-null   float64\n",
      " 40  std_ic_mou_8        6304 non-null   float64\n",
      " 41  total_ic_mou_8      6304 non-null   float64\n",
      " 42  spl_ic_mou_8        6304 non-null   float64\n",
      " 43  isd_ic_mou_7        6304 non-null   float64\n",
      " 44  isd_ic_mou_8        6304 non-null   float64\n",
      " 45  total_rech_num_6    6304 non-null   int64  \n",
      " 46  total_rech_num_7    6304 non-null   int64  \n",
      " 47  total_rech_num_8    6304 non-null   int64  \n",
      " 48  total_rech_amt_6    6304 non-null   int64  \n",
      " 49  total_rech_amt_8    6304 non-null   int64  \n",
      " 50  max_rech_amt_6      6304 non-null   int64  \n",
      " 51  max_rech_amt_7      6304 non-null   int64  \n",
      " 52  max_rech_amt_8      6304 non-null   int64  \n",
      " 53  last_day_rch_amt_8  6304 non-null   int64  \n",
      " 54  total_rech_data_6   6304 non-null   float64\n",
      " 55  total_rech_data_8   6304 non-null   float64\n",
      " 56  max_rech_data_6     6304 non-null   float64\n",
      " 57  max_rech_data_7     6304 non-null   float64\n",
      " 58  max_rech_data_8     6304 non-null   float64\n",
      " 59  av_rech_amt_data_6  6304 non-null   float64\n",
      " 60  av_rech_amt_data_8  6304 non-null   float64\n",
      " 61  vol_2g_mb_8         6304 non-null   float64\n",
      " 62  vol_3g_mb_8         6304 non-null   float64\n",
      " 63  monthly_2g_7        6304 non-null   int64  \n",
      " 64  monthly_2g_8        6304 non-null   int64  \n",
      " 65  sachet_2g_8         6304 non-null   int64  \n",
      " 66  monthly_3g_8        6304 non-null   int64  \n",
      " 67  sachet_3g_8         6304 non-null   int64  \n",
      " 68  aon                 6304 non-null   int64  \n",
      " 69  aug_vbc_3g          6304 non-null   float64\n",
      "dtypes: float64(55), int64(15)\n",
      "memory usage: 3.4 MB\n"
     ]
    }
   ],
   "source": [
    "X_test = X_test[col]\n",
    "X_test.info()"
   ]
  },
  {
   "cell_type": "code",
   "execution_count": 65,
   "id": "dd20e6fb",
   "metadata": {},
   "outputs": [],
   "source": [
    "X_test_sm = sm.add_constant(X_test)"
   ]
  },
  {
   "cell_type": "code",
   "execution_count": 66,
   "id": "df6e96f4",
   "metadata": {},
   "outputs": [],
   "source": [
    "y_test_pred = res.predict(X_test_sm)"
   ]
  },
  {
   "cell_type": "code",
   "execution_count": 67,
   "id": "2c63d4ac",
   "metadata": {},
   "outputs": [
    {
     "data": {
      "text/plain": [
       "5662     0.0\n",
       "37574    1.0\n",
       "58341    0.0\n",
       "23282    0.0\n",
       "30561    1.0\n",
       "45844    0.0\n",
       "30159    0.0\n",
       "62778    0.0\n",
       "45559    0.0\n",
       "35274    0.0\n",
       "dtype: float64"
      ]
     },
     "execution_count": 67,
     "metadata": {},
     "output_type": "execute_result"
    }
   ],
   "source": [
    "y_test_pred[:10]"
   ]
  },
  {
   "cell_type": "code",
   "execution_count": 68,
   "id": "6dbfcf16",
   "metadata": {},
   "outputs": [
    {
     "data": {
      "text/html": [
       "<div>\n",
       "<style scoped>\n",
       "    .dataframe tbody tr th:only-of-type {\n",
       "        vertical-align: middle;\n",
       "    }\n",
       "\n",
       "    .dataframe tbody tr th {\n",
       "        vertical-align: top;\n",
       "    }\n",
       "\n",
       "    .dataframe thead th {\n",
       "        text-align: right;\n",
       "    }\n",
       "</style>\n",
       "<table border=\"1\" class=\"dataframe\">\n",
       "  <thead>\n",
       "    <tr style=\"text-align: right;\">\n",
       "      <th></th>\n",
       "      <th>const</th>\n",
       "      <th>arpu_6</th>\n",
       "      <th>arpu_7</th>\n",
       "      <th>arpu_8</th>\n",
       "      <th>onnet_mou_7</th>\n",
       "      <th>offnet_mou_6</th>\n",
       "      <th>offnet_mou_7</th>\n",
       "      <th>offnet_mou_8</th>\n",
       "      <th>roam_ic_mou_6</th>\n",
       "      <th>roam_og_mou_7</th>\n",
       "      <th>...</th>\n",
       "      <th>av_rech_amt_data_8</th>\n",
       "      <th>vol_2g_mb_8</th>\n",
       "      <th>vol_3g_mb_8</th>\n",
       "      <th>monthly_2g_7</th>\n",
       "      <th>monthly_2g_8</th>\n",
       "      <th>sachet_2g_8</th>\n",
       "      <th>monthly_3g_8</th>\n",
       "      <th>sachet_3g_8</th>\n",
       "      <th>aon</th>\n",
       "      <th>aug_vbc_3g</th>\n",
       "    </tr>\n",
       "  </thead>\n",
       "  <tbody>\n",
       "    <tr>\n",
       "      <th>5662</th>\n",
       "      <td>1.0</td>\n",
       "      <td>554.740</td>\n",
       "      <td>782.352</td>\n",
       "      <td>673.692</td>\n",
       "      <td>38.63</td>\n",
       "      <td>649.01</td>\n",
       "      <td>845.83</td>\n",
       "      <td>661.89</td>\n",
       "      <td>0.0</td>\n",
       "      <td>0.00</td>\n",
       "      <td>...</td>\n",
       "      <td>0.0</td>\n",
       "      <td>0.0</td>\n",
       "      <td>0.0</td>\n",
       "      <td>0</td>\n",
       "      <td>0</td>\n",
       "      <td>0</td>\n",
       "      <td>0</td>\n",
       "      <td>0</td>\n",
       "      <td>1360</td>\n",
       "      <td>0.00</td>\n",
       "    </tr>\n",
       "    <tr>\n",
       "      <th>37574</th>\n",
       "      <td>1.0</td>\n",
       "      <td>1563.157</td>\n",
       "      <td>1579.675</td>\n",
       "      <td>1256.565</td>\n",
       "      <td>3158.18</td>\n",
       "      <td>1358.03</td>\n",
       "      <td>1144.44</td>\n",
       "      <td>1327.03</td>\n",
       "      <td>0.0</td>\n",
       "      <td>0.00</td>\n",
       "      <td>...</td>\n",
       "      <td>0.0</td>\n",
       "      <td>0.0</td>\n",
       "      <td>0.0</td>\n",
       "      <td>0</td>\n",
       "      <td>0</td>\n",
       "      <td>0</td>\n",
       "      <td>0</td>\n",
       "      <td>0</td>\n",
       "      <td>834</td>\n",
       "      <td>0.00</td>\n",
       "    </tr>\n",
       "    <tr>\n",
       "      <th>58341</th>\n",
       "      <td>1.0</td>\n",
       "      <td>594.217</td>\n",
       "      <td>796.737</td>\n",
       "      <td>996.393</td>\n",
       "      <td>1200.53</td>\n",
       "      <td>149.53</td>\n",
       "      <td>186.48</td>\n",
       "      <td>585.36</td>\n",
       "      <td>0.0</td>\n",
       "      <td>0.00</td>\n",
       "      <td>...</td>\n",
       "      <td>0.0</td>\n",
       "      <td>0.0</td>\n",
       "      <td>0.0</td>\n",
       "      <td>0</td>\n",
       "      <td>0</td>\n",
       "      <td>0</td>\n",
       "      <td>0</td>\n",
       "      <td>0</td>\n",
       "      <td>594</td>\n",
       "      <td>0.00</td>\n",
       "    </tr>\n",
       "    <tr>\n",
       "      <th>23282</th>\n",
       "      <td>1.0</td>\n",
       "      <td>352.160</td>\n",
       "      <td>197.245</td>\n",
       "      <td>365.564</td>\n",
       "      <td>179.88</td>\n",
       "      <td>508.53</td>\n",
       "      <td>116.58</td>\n",
       "      <td>507.64</td>\n",
       "      <td>0.0</td>\n",
       "      <td>34.96</td>\n",
       "      <td>...</td>\n",
       "      <td>69.0</td>\n",
       "      <td>0.0</td>\n",
       "      <td>0.0</td>\n",
       "      <td>0</td>\n",
       "      <td>0</td>\n",
       "      <td>3</td>\n",
       "      <td>0</td>\n",
       "      <td>0</td>\n",
       "      <td>1164</td>\n",
       "      <td>0.00</td>\n",
       "    </tr>\n",
       "    <tr>\n",
       "      <th>30561</th>\n",
       "      <td>1.0</td>\n",
       "      <td>332.040</td>\n",
       "      <td>275.976</td>\n",
       "      <td>267.033</td>\n",
       "      <td>96.89</td>\n",
       "      <td>152.34</td>\n",
       "      <td>178.24</td>\n",
       "      <td>424.68</td>\n",
       "      <td>0.0</td>\n",
       "      <td>0.00</td>\n",
       "      <td>...</td>\n",
       "      <td>0.0</td>\n",
       "      <td>0.0</td>\n",
       "      <td>0.0</td>\n",
       "      <td>0</td>\n",
       "      <td>0</td>\n",
       "      <td>0</td>\n",
       "      <td>0</td>\n",
       "      <td>0</td>\n",
       "      <td>635</td>\n",
       "      <td>31.05</td>\n",
       "    </tr>\n",
       "  </tbody>\n",
       "</table>\n",
       "<p>5 rows × 71 columns</p>\n",
       "</div>"
      ],
      "text/plain": [
       "       const    arpu_6    arpu_7    arpu_8  onnet_mou_7  offnet_mou_6  \\\n",
       "5662     1.0   554.740   782.352   673.692        38.63        649.01   \n",
       "37574    1.0  1563.157  1579.675  1256.565      3158.18       1358.03   \n",
       "58341    1.0   594.217   796.737   996.393      1200.53        149.53   \n",
       "23282    1.0   352.160   197.245   365.564       179.88        508.53   \n",
       "30561    1.0   332.040   275.976   267.033        96.89        152.34   \n",
       "\n",
       "       offnet_mou_7  offnet_mou_8  roam_ic_mou_6  roam_og_mou_7  ...  \\\n",
       "5662         845.83        661.89            0.0           0.00  ...   \n",
       "37574       1144.44       1327.03            0.0           0.00  ...   \n",
       "58341        186.48        585.36            0.0           0.00  ...   \n",
       "23282        116.58        507.64            0.0          34.96  ...   \n",
       "30561        178.24        424.68            0.0           0.00  ...   \n",
       "\n",
       "       av_rech_amt_data_8  vol_2g_mb_8  vol_3g_mb_8  monthly_2g_7  \\\n",
       "5662                  0.0          0.0          0.0             0   \n",
       "37574                 0.0          0.0          0.0             0   \n",
       "58341                 0.0          0.0          0.0             0   \n",
       "23282                69.0          0.0          0.0             0   \n",
       "30561                 0.0          0.0          0.0             0   \n",
       "\n",
       "       monthly_2g_8  sachet_2g_8  monthly_3g_8  sachet_3g_8   aon  aug_vbc_3g  \n",
       "5662              0            0             0            0  1360        0.00  \n",
       "37574             0            0             0            0   834        0.00  \n",
       "58341             0            0             0            0   594        0.00  \n",
       "23282             0            3             0            0  1164        0.00  \n",
       "30561             0            0             0            0   635       31.05  \n",
       "\n",
       "[5 rows x 71 columns]"
      ]
     },
     "execution_count": 68,
     "metadata": {},
     "output_type": "execute_result"
    }
   ],
   "source": [
    "X_test_sm.head()"
   ]
  },
  {
   "cell_type": "code",
   "execution_count": 69,
   "id": "2fb4790c",
   "metadata": {},
   "outputs": [
    {
     "data": {
      "text/plain": [
       "(27020, 71)"
      ]
     },
     "execution_count": 69,
     "metadata": {},
     "output_type": "execute_result"
    }
   ],
   "source": [
    "X_resampled_sm.shape"
   ]
  },
  {
   "cell_type": "code",
   "execution_count": 70,
   "id": "fc21710b",
   "metadata": {},
   "outputs": [],
   "source": [
    "y_pred_train = res.predict(X_resampled_sm)"
   ]
  },
  {
   "cell_type": "code",
   "execution_count": 71,
   "id": "af642532",
   "metadata": {},
   "outputs": [
    {
     "data": {
      "text/plain": [
       "0    0.998521\n",
       "1    0.084339\n",
       "2    0.103102\n",
       "3    0.046302\n",
       "4    0.006346\n",
       "dtype: float64"
      ]
     },
     "execution_count": 71,
     "metadata": {},
     "output_type": "execute_result"
    }
   ],
   "source": [
    "y_pred_train.head()"
   ]
  },
  {
   "cell_type": "code",
   "execution_count": 72,
   "id": "4dd3c9be",
   "metadata": {},
   "outputs": [
    {
     "data": {
      "text/plain": [
       "(27020,)"
      ]
     },
     "execution_count": 72,
     "metadata": {},
     "output_type": "execute_result"
    }
   ],
   "source": [
    "y_pred_train.shape"
   ]
  },
  {
   "cell_type": "markdown",
   "id": "30f080c7",
   "metadata": {},
   "source": [
    "## Confusion matrix for Precision and Recall and Accuracy of the model"
   ]
  },
  {
   "cell_type": "code",
   "execution_count": 73,
   "id": "8d6dd0d6",
   "metadata": {},
   "outputs": [
    {
     "data": {
      "text/plain": [
       "0        0\n",
       "1        0\n",
       "2        0\n",
       "3        0\n",
       "4        0\n",
       "        ..\n",
       "27015    1\n",
       "27016    1\n",
       "27017    1\n",
       "27018    1\n",
       "27019    1\n",
       "Name: churn_probability, Length: 27020, dtype: int64"
      ]
     },
     "execution_count": 73,
     "metadata": {},
     "output_type": "execute_result"
    }
   ],
   "source": [
    "y_resampled"
   ]
  },
  {
   "cell_type": "code",
   "execution_count": 74,
   "id": "89406e11",
   "metadata": {},
   "outputs": [],
   "source": [
    "y_pred_train_final = pd.DataFrame({'Churn_Prob': y_pred_train})"
   ]
  },
  {
   "cell_type": "code",
   "execution_count": 75,
   "id": "b8368b7d",
   "metadata": {},
   "outputs": [
    {
     "data": {
      "text/html": [
       "<div>\n",
       "<style scoped>\n",
       "    .dataframe tbody tr th:only-of-type {\n",
       "        vertical-align: middle;\n",
       "    }\n",
       "\n",
       "    .dataframe tbody tr th {\n",
       "        vertical-align: top;\n",
       "    }\n",
       "\n",
       "    .dataframe thead th {\n",
       "        text-align: right;\n",
       "    }\n",
       "</style>\n",
       "<table border=\"1\" class=\"dataframe\">\n",
       "  <thead>\n",
       "    <tr style=\"text-align: right;\">\n",
       "      <th></th>\n",
       "      <th>Churn_Prob</th>\n",
       "    </tr>\n",
       "  </thead>\n",
       "  <tbody>\n",
       "    <tr>\n",
       "      <th>0</th>\n",
       "      <td>0.998521</td>\n",
       "    </tr>\n",
       "    <tr>\n",
       "      <th>1</th>\n",
       "      <td>0.084339</td>\n",
       "    </tr>\n",
       "    <tr>\n",
       "      <th>2</th>\n",
       "      <td>0.103102</td>\n",
       "    </tr>\n",
       "    <tr>\n",
       "      <th>3</th>\n",
       "      <td>0.046302</td>\n",
       "    </tr>\n",
       "    <tr>\n",
       "      <th>4</th>\n",
       "      <td>0.006346</td>\n",
       "    </tr>\n",
       "  </tbody>\n",
       "</table>\n",
       "</div>"
      ],
      "text/plain": [
       "   Churn_Prob\n",
       "0    0.998521\n",
       "1    0.084339\n",
       "2    0.103102\n",
       "3    0.046302\n",
       "4    0.006346"
      ]
     },
     "execution_count": 75,
     "metadata": {},
     "output_type": "execute_result"
    }
   ],
   "source": [
    "y_pred_train_final.head()"
   ]
  },
  {
   "cell_type": "code",
   "execution_count": 76,
   "id": "7c21640a",
   "metadata": {},
   "outputs": [],
   "source": [
    "y_pred_train_final['Churn_Prob_2'] =  y_pred_train_final.Churn_Prob.map(lambda x: 1 if x > 0.5 else 0)"
   ]
  },
  {
   "cell_type": "code",
   "execution_count": 77,
   "id": "6dc791d5",
   "metadata": {},
   "outputs": [
    {
     "data": {
      "text/plain": [
       "array([[11758,  1752],\n",
       "       [ 1599, 11911]])"
      ]
     },
     "execution_count": 77,
     "metadata": {},
     "output_type": "execute_result"
    }
   ],
   "source": [
    "confusion = metrics.confusion_matrix(y_resampled, y_pred_train_final.Churn_Prob_2)\n",
    "confusion"
   ]
  },
  {
   "cell_type": "code",
   "execution_count": 78,
   "id": "fc9fca61",
   "metadata": {},
   "outputs": [],
   "source": [
    "def draw_roc( actual, probs ):\n",
    "    fpr, tpr, thresholds = metrics.roc_curve( actual, probs,\n",
    "                                              drop_intermediate = False )\n",
    "    auc_score = metrics.roc_auc_score( actual, probs )\n",
    "    plt.figure(figsize=(5, 5))\n",
    "    plt.plot( fpr, tpr, label='ROC curve (area = %0.2f)' % auc_score )\n",
    "    plt.plot([0, 1], [0, 1], 'k--')\n",
    "    plt.xlim([0.0, 1.0])\n",
    "    plt.ylim([0.0, 1.05])\n",
    "    plt.xlabel('False Positive Rate or [1 - True Negative Rate]')\n",
    "    plt.ylabel('True Positive Rate')\n",
    "    plt.title('Receiver operating characteristic example')\n",
    "    plt.legend(loc=\"lower right\")\n",
    "    plt.show()\n",
    "\n",
    "    return auc_score"
   ]
  },
  {
   "cell_type": "code",
   "execution_count": 79,
   "id": "7c1b5af1",
   "metadata": {},
   "outputs": [],
   "source": [
    "# metrics_dict holds different metrics for all models on test data so that we can compare them at one place. \n",
    "metrics_dict = {}"
   ]
  },
  {
   "cell_type": "code",
   "execution_count": 80,
   "id": "00b6db5d",
   "metadata": {},
   "outputs": [],
   "source": [
    "def get_accuracy_params(y_actual, y_pred, y_proba, model):\n",
    "    # Print ROC curve\n",
    "    auc_score = draw_roc(y_actual, y_proba)\n",
    "    confusion = metrics.confusion_matrix(y_actual, y_pred)\n",
    "    print('confusion matrix: ')\n",
    "    print(confusion)\n",
    "    TP = confusion[1, 1]\n",
    "    TN = confusion[0, 0]\n",
    "    FP = confusion[0, 1]\n",
    "    FN = confusion[1, 0]\n",
    "    accuracy = (TN+TP)/(TN+TP+FN+FP)\n",
    "    print('Accuracy: ', accuracy)\n",
    "    precision = TP / (TP+FP)\n",
    "    print('Precision: ', precision)\n",
    "    recall = TP / (TP+FN)\n",
    "    print('Recall: ', recall)\n",
    "    f1_score = 2*precision*recall/(precision+recall)\n",
    "    print('F1_score: ', f1_score)\n",
    "    print('AUC score: ', auc_score)\n",
    "    if 'train' not in model:\n",
    "        metrics_dict[model] = {\n",
    "                           'Accuracy': accuracy, \n",
    "                           'Precision':precision, \n",
    "                           'Recall': recall, \n",
    "                           'F1 Score': f1_score, \n",
    "                          }\n",
    "    return metrics_dict"
   ]
  },
  {
   "cell_type": "code",
   "execution_count": 81,
   "id": "0c025a89",
   "metadata": {},
   "outputs": [
    {
     "data": {
      "image/png": "[encoded data removed]",
      "text/plain": [
       "<Figure size 360x360 with 1 Axes>"
      ]
     },
     "metadata": {
      "needs_background": "light"
     },
     "output_type": "display_data"
    },
    {
     "name": "stdout",
     "output_type": "stream",
     "text": [
      "confusion matrix: \n",
      "[[11758  1752]\n",
      " [ 1599 11911]]\n",
      "Accuracy:  0.875980754996299\n",
      "Precision:  0.8717704750054893\n",
      "Recall:  0.8816432272390822\n",
      "F1_score:  0.8766790564162956\n",
      "AUC score:  0.9367527850357301\n"
     ]
    },
    {
     "data": {
      "text/plain": [
       "{}"
      ]
     },
     "execution_count": 81,
     "metadata": {},
     "output_type": "execute_result"
    }
   ],
   "source": [
    "get_accuracy_params(y_resampled, y_pred_train_final.Churn_Prob_2, y_pred_train_final.Churn_Prob, 'Logistic_rfe_train')"
   ]
  },
  {
   "cell_type": "markdown",
   "id": "14850e45",
   "metadata": {},
   "source": [
    "### Let's check for test data set"
   ]
  },
  {
   "cell_type": "code",
   "execution_count": 82,
   "id": "c5f1118d",
   "metadata": {},
   "outputs": [
    {
     "data": {
      "text/plain": [
       "(30000, 133)"
      ]
     },
     "execution_count": 82,
     "metadata": {},
     "output_type": "execute_result"
    }
   ],
   "source": [
    "telecom_test_df.shape"
   ]
  },
  {
   "cell_type": "code",
   "execution_count": 83,
   "id": "53f42986",
   "metadata": {},
   "outputs": [
    {
     "data": {
      "text/plain": [
       "(30000, 2)"
      ]
     },
     "execution_count": 83,
     "metadata": {},
     "output_type": "execute_result"
    }
   ],
   "source": [
    "telecom_test_sol_df.shape"
   ]
  },
  {
   "cell_type": "code",
   "execution_count": 84,
   "id": "2f2703de",
   "metadata": {},
   "outputs": [],
   "source": [
    "# Lets do prediction on telecom_test_df dataset"
   ]
  },
  {
   "cell_type": "code",
   "execution_count": 85,
   "id": "2cc11d07",
   "metadata": {},
   "outputs": [],
   "source": [
    "telecom_test_df_ori = telecom_test_df"
   ]
  },
  {
   "cell_type": "code",
   "execution_count": 86,
   "id": "c9c47355",
   "metadata": {},
   "outputs": [],
   "source": [
    "telecom_test_df = telecom_test_df[col]\n",
    "telecom_test_df = sm.add_constant(telecom_test_df)"
   ]
  },
  {
   "cell_type": "code",
   "execution_count": 87,
   "id": "e4ddd788",
   "metadata": {},
   "outputs": [],
   "source": [
    "y_pred_test = res.predict(telecom_test_df)"
   ]
  },
  {
   "cell_type": "code",
   "execution_count": 88,
   "id": "af2a87e2",
   "metadata": {},
   "outputs": [],
   "source": [
    "y_pred_test_final = pd.DataFrame({'Churn_Prob': y_pred_test})"
   ]
  },
  {
   "cell_type": "code",
   "execution_count": 89,
   "id": "0f2afa74",
   "metadata": {},
   "outputs": [
    {
     "data": {
      "text/html": [
       "<div>\n",
       "<style scoped>\n",
       "    .dataframe tbody tr th:only-of-type {\n",
       "        vertical-align: middle;\n",
       "    }\n",
       "\n",
       "    .dataframe tbody tr th {\n",
       "        vertical-align: top;\n",
       "    }\n",
       "\n",
       "    .dataframe thead th {\n",
       "        text-align: right;\n",
       "    }\n",
       "</style>\n",
       "<table border=\"1\" class=\"dataframe\">\n",
       "  <thead>\n",
       "    <tr style=\"text-align: right;\">\n",
       "      <th></th>\n",
       "      <th>Churn_Prob</th>\n",
       "    </tr>\n",
       "  </thead>\n",
       "  <tbody>\n",
       "    <tr>\n",
       "      <th>0</th>\n",
       "      <td>0.107372</td>\n",
       "    </tr>\n",
       "    <tr>\n",
       "      <th>1</th>\n",
       "      <td>0.258495</td>\n",
       "    </tr>\n",
       "    <tr>\n",
       "      <th>2</th>\n",
       "      <td>0.774778</td>\n",
       "    </tr>\n",
       "    <tr>\n",
       "      <th>3</th>\n",
       "      <td>0.121758</td>\n",
       "    </tr>\n",
       "    <tr>\n",
       "      <th>4</th>\n",
       "      <td>0.275396</td>\n",
       "    </tr>\n",
       "  </tbody>\n",
       "</table>\n",
       "</div>"
      ],
      "text/plain": [
       "   Churn_Prob\n",
       "0    0.107372\n",
       "1    0.258495\n",
       "2    0.774778\n",
       "3    0.121758\n",
       "4    0.275396"
      ]
     },
     "execution_count": 89,
     "metadata": {},
     "output_type": "execute_result"
    }
   ],
   "source": [
    "y_pred_test_final.head()"
   ]
  },
  {
   "cell_type": "code",
   "execution_count": 90,
   "id": "068826c3",
   "metadata": {},
   "outputs": [],
   "source": [
    "y_pred_test_final['Churn_Prob_2'] =  y_pred_test_final.Churn_Prob.map(lambda x: 1 if x > 0.5 else 0)"
   ]
  },
  {
   "cell_type": "markdown",
   "id": "3f104911",
   "metadata": {},
   "source": [
    "## Saving the y_pred_test_final['Churn_Prob_2'] for Kaggle submission.\n",
    "### This will be updated if we find better model than Logistic + RFE for current dataset."
   ]
  },
  {
   "cell_type": "code",
   "execution_count": 91,
   "id": "d2be8608",
   "metadata": {},
   "outputs": [],
   "source": [
    "y_pred_test_final['Churn_Prob_2'].to_csv('Kaggle_solution.csv')"
   ]
  },
  {
   "cell_type": "code",
   "execution_count": 92,
   "id": "094be928",
   "metadata": {},
   "outputs": [
    {
     "data": {
      "image/png": "[encoded data removed]",
      "text/plain": [
       "<Figure size 360x360 with 1 Axes>"
      ]
     },
     "metadata": {
      "needs_background": "light"
     },
     "output_type": "display_data"
    },
    {
     "name": "stdout",
     "output_type": "stream",
     "text": [
      "confusion matrix: \n",
      "[[21722  5219]\n",
      " [  423  2636]]\n",
      "Accuracy:  0.8119333333333333\n",
      "Precision:  0.335582431572247\n",
      "Recall:  0.8617195161817588\n",
      "F1_score:  0.4830492944841488\n",
      "AUC score:  0.9040288527037985\n"
     ]
    }
   ],
   "source": [
    "metrics_dict = get_accuracy_params(telecom_test_sol_df.churn_probability, y_pred_test_final.Churn_Prob_2, y_pred_test_final.Churn_Prob, 'Logistic_rfe_test')"
   ]
  },
  {
   "cell_type": "code",
   "execution_count": 93,
   "id": "deb9c0d0",
   "metadata": {},
   "outputs": [
    {
     "data": {
      "text/plain": [
       "{'Logistic_rfe_test': {'Accuracy': 0.8119333333333333,\n",
       "  'Precision': 0.335582431572247,\n",
       "  'Recall': 0.8617195161817588,\n",
       "  'F1 Score': 0.4830492944841488}}"
      ]
     },
     "execution_count": 93,
     "metadata": {},
     "output_type": "execute_result"
    }
   ],
   "source": [
    "metrics_dict"
   ]
  },
  {
   "cell_type": "markdown",
   "id": "ec524c33",
   "metadata": {},
   "source": [
    "### This seems a good model but lets compare with other models."
   ]
  },
  {
   "cell_type": "markdown",
   "id": "bd93b4a0",
   "metadata": {},
   "source": [
    "## Model 2: Logistic Regression - To know Churn probability + PCA\n",
    "\n",
    "PCA and Logistic Regression to check if model improves or not."
   ]
  },
  {
   "cell_type": "markdown",
   "id": "0ecb5679",
   "metadata": {},
   "source": [
    "## PCA on the data\n",
    "\n",
    "- While computing the principal components, we must not include the entire dataset. Model building is all about doing well on the data we haven't seen yet!\n",
    "- So we'll calculate the PCs using the train data, and apply them later on the test data."
   ]
  },
  {
   "cell_type": "code",
   "execution_count": 94,
   "id": "e2a5cd74",
   "metadata": {},
   "outputs": [],
   "source": [
    "# Looking at the data again"
   ]
  },
  {
   "cell_type": "code",
   "execution_count": 95,
   "id": "228cc28f",
   "metadata": {},
   "outputs": [
    {
     "data": {
      "text/plain": [
       "(27020,)"
      ]
     },
     "execution_count": 95,
     "metadata": {},
     "output_type": "execute_result"
    }
   ],
   "source": [
    "y_resampled.shape"
   ]
  },
  {
   "cell_type": "code",
   "execution_count": 96,
   "id": "f357b520",
   "metadata": {},
   "outputs": [
    {
     "data": {
      "text/plain": [
       "(27020, 133)"
      ]
     },
     "execution_count": 96,
     "metadata": {},
     "output_type": "execute_result"
    }
   ],
   "source": [
    "X_resampled.shape"
   ]
  },
  {
   "cell_type": "code",
   "execution_count": 97,
   "id": "d5bfc9eb",
   "metadata": {},
   "outputs": [],
   "source": [
    "pca = PCA(random_state=42)"
   ]
  },
  {
   "cell_type": "code",
   "execution_count": 98,
   "id": "4879eab0",
   "metadata": {},
   "outputs": [
    {
     "data": {
      "text/html": [
       "<style>#sk-container-id-1 {color: black;background-color: white;}#sk-container-id-1 pre{padding: 0;}#sk-container-id-1 div.sk-toggleable {background-color: white;}#sk-container-id-1 label.sk-toggleable__label {cursor: pointer;display: block;width: 100%;margin-bottom: 0;padding: 0.3em;box-sizing: border-box;text-align: center;}#sk-container-id-1 label.sk-toggleable__label-arrow:before {content: \"▸\";float: left;margin-right: 0.25em;color: #696969;}#sk-container-id-1 label.sk-toggleable__label-arrow:hover:before {color: black;}#sk-container-id-1 div.sk-estimator:hover label.sk-toggleable__label-arrow:before {color: black;}#sk-container-id-1 div.sk-toggleable__content {max-height: 0;max-width: 0;overflow: hidden;text-align: left;background-color: #f0f8ff;}#sk-container-id-1 div.sk-toggleable__content pre {margin: 0.2em;color: black;border-radius: 0.25em;background-color: #f0f8ff;}#sk-container-id-1 input.sk-toggleable__control:checked~div.sk-toggleable__content {max-height: 200px;max-width: 100%;overflow: auto;}#sk-container-id-1 input.sk-toggleable__control:checked~label.sk-toggleable__label-arrow:before {content: \"▾\";}#sk-container-id-1 div.sk-estimator input.sk-toggleable__control:checked~label.sk-toggleable__label {background-color: #d4ebff;}#sk-container-id-1 div.sk-label input.sk-toggleable__control:checked~label.sk-toggleable__label {background-color: #d4ebff;}#sk-container-id-1 input.sk-hidden--visually {border: 0;clip: rect(1px 1px 1px 1px);clip: rect(1px, 1px, 1px, 1px);height: 1px;margin: -1px;overflow: hidden;padding: 0;position: absolute;width: 1px;}#sk-container-id-1 div.sk-estimator {font-family: monospace;background-color: #f0f8ff;border: 1px dotted black;border-radius: 0.25em;box-sizing: border-box;margin-bottom: 0.5em;}#sk-container-id-1 div.sk-estimator:hover {background-color: #d4ebff;}#sk-container-id-1 div.sk-parallel-item::after {content: \"\";width: 100%;border-bottom: 1px solid gray;flex-grow: 1;}#sk-container-id-1 div.sk-label:hover label.sk-toggleable__label {background-color: #d4ebff;}#sk-container-id-1 div.sk-serial::before {content: \"\";position: absolute;border-left: 1px solid gray;box-sizing: border-box;top: 0;bottom: 0;left: 50%;z-index: 0;}#sk-container-id-1 div.sk-serial {display: flex;flex-direction: column;align-items: center;background-color: white;padding-right: 0.2em;padding-left: 0.2em;position: relative;}#sk-container-id-1 div.sk-item {position: relative;z-index: 1;}#sk-container-id-1 div.sk-parallel {display: flex;align-items: stretch;justify-content: center;background-color: white;position: relative;}#sk-container-id-1 div.sk-item::before, #sk-container-id-1 div.sk-parallel-item::before {content: \"\";position: absolute;border-left: 1px solid gray;box-sizing: border-box;top: 0;bottom: 0;left: 50%;z-index: -1;}#sk-container-id-1 div.sk-parallel-item {display: flex;flex-direction: column;z-index: 1;position: relative;background-color: white;}#sk-container-id-1 div.sk-parallel-item:first-child::after {align-self: flex-end;width: 50%;}#sk-container-id-1 div.sk-parallel-item:last-child::after {align-self: flex-start;width: 50%;}#sk-container-id-1 div.sk-parallel-item:only-child::after {width: 0;}#sk-container-id-1 div.sk-dashed-wrapped {border: 1px dashed gray;margin: 0 0.4em 0.5em 0.4em;box-sizing: border-box;padding-bottom: 0.4em;background-color: white;}#sk-container-id-1 div.sk-label label {font-family: monospace;font-weight: bold;display: inline-block;line-height: 1.2em;}#sk-container-id-1 div.sk-label-container {text-align: center;}#sk-container-id-1 div.sk-container {/* jupyter's `normalize.less` sets `[hidden] { display: none; }` but bootstrap.min.css set `[hidden] { display: none !important; }` so we also need the `!important` here to be able to override the default hidden behavior on the sphinx rendered scikit-learn.org. See: https://github.com/scikit-learn/scikit-learn/issues/21755 */display: inline-block !important;position: relative;}#sk-container-id-1 div.sk-text-repr-fallback {display: none;}</style><div id=\"sk-container-id-1\" class=\"sk-top-container\"><div class=\"sk-text-repr-fallback\"><pre>PCA(random_state=42)</pre><b>In a Jupyter environment, please rerun this cell to show the HTML representation or trust the notebook. <br />On GitHub, the HTML representation is unable to render, please try loading this page with nbviewer.org.</b></div><div class=\"sk-container\" hidden><div class=\"sk-item\"><div class=\"sk-estimator sk-toggleable\"><input class=\"sk-toggleable__control sk-hidden--visually\" id=\"sk-estimator-id-1\" type=\"checkbox\" checked><label for=\"sk-estimator-id-1\" class=\"sk-toggleable__label sk-toggleable__label-arrow\">PCA</label><div class=\"sk-toggleable__content\"><pre>PCA(random_state=42)</pre></div></div></div></div></div>"
      ],
      "text/plain": [
       "PCA(random_state=42)"
      ]
     },
     "execution_count": 98,
     "metadata": {},
     "output_type": "execute_result"
    }
   ],
   "source": [
    "pca.fit(X_resampled)"
   ]
  },
  {
   "cell_type": "code",
   "execution_count": 99,
   "id": "6a324422",
   "metadata": {},
   "outputs": [
    {
     "data": {
      "text/plain": [
       "array([[ 1.82524787e-02,  1.41652959e-02, -5.68082240e-03, ...,\n",
       "        -2.40309980e-02, -3.96477813e-02, -4.51932644e-02],\n",
       "       [ 4.89833499e-02,  5.49580709e-02,  3.78624239e-02, ...,\n",
       "        -1.84102663e-02, -3.65208610e-02, -5.26182866e-02],\n",
       "       [ 4.85228830e-02,  7.30524691e-02,  6.73488795e-02, ...,\n",
       "         8.32115408e-02,  1.32599653e-01,  1.46337226e-01],\n",
       "       ...,\n",
       "       [-4.35765955e-16, -4.00655889e-17,  3.00269973e-16, ...,\n",
       "        -6.49483910e-18, -6.88378020e-17,  1.10150881e-17],\n",
       "       [ 0.00000000e+00,  5.79064397e-16, -3.39441967e-16, ...,\n",
       "        -1.88710356e-17, -6.38601213e-17,  3.41876911e-17],\n",
       "       [ 0.00000000e+00,  4.60936334e-17, -1.61579593e-16, ...,\n",
       "         2.53203984e-17,  1.37793994e-17, -2.80750789e-17]])"
      ]
     },
     "execution_count": 99,
     "metadata": {},
     "output_type": "execute_result"
    }
   ],
   "source": [
    "pca.components_"
   ]
  },
  {
   "cell_type": "code",
   "execution_count": 100,
   "id": "462adf05",
   "metadata": {},
   "outputs": [
    {
     "data": {
      "text/plain": [
       "array([1.93142347e-01, 1.58068129e-01, 7.46788537e-02, 6.12549325e-02,\n",
       "       5.33340121e-02, 4.92266704e-02, 4.52862352e-02, 3.24389528e-02,\n",
       "       2.09515698e-02, 1.98494785e-02, 1.94535881e-02, 1.79592882e-02,\n",
       "       1.54670558e-02, 1.26572149e-02, 1.21890778e-02, 1.18389029e-02,\n",
       "       1.08819297e-02, 1.02603656e-02, 9.97371045e-03, 9.55582306e-03,\n",
       "       8.81812239e-03, 8.47355848e-03, 7.28921023e-03, 6.97424985e-03,\n",
       "       6.66865928e-03, 6.57123287e-03, 6.27247999e-03, 5.73937638e-03,\n",
       "       5.35405761e-03, 5.19826824e-03, 4.98004594e-03, 4.69935061e-03,\n",
       "       4.17359618e-03, 3.76101497e-03, 3.43768753e-03, 3.31947048e-03,\n",
       "       3.07980081e-03, 3.00507183e-03, 2.92153142e-03, 2.83744777e-03,\n",
       "       2.76953582e-03, 2.64056104e-03, 2.57778753e-03, 2.50194221e-03,\n",
       "       2.28718032e-03, 2.13421428e-03, 2.09944635e-03, 2.05682479e-03,\n",
       "       1.97857188e-03, 1.78511207e-03, 1.75129058e-03, 1.65800577e-03,\n",
       "       1.63706559e-03, 1.52396415e-03, 1.41762170e-03, 1.40689410e-03,\n",
       "       1.34800659e-03, 1.31232808e-03, 1.26724253e-03, 1.21629724e-03,\n",
       "       1.18783396e-03, 9.93061149e-04, 9.59605917e-04, 9.47758121e-04,\n",
       "       9.07642168e-04, 8.87509561e-04, 8.53837670e-04, 8.38154787e-04,\n",
       "       8.26831091e-04, 8.07180821e-04, 7.70264168e-04, 7.00696263e-04,\n",
       "       6.89323495e-04, 6.14564015e-04, 5.88619916e-04, 5.83211185e-04,\n",
       "       5.39289460e-04, 4.91997512e-04, 4.68685497e-04, 4.40955921e-04,\n",
       "       4.19430599e-04, 4.08032027e-04, 3.59012610e-04, 3.51215938e-04,\n",
       "       3.27525019e-04, 3.24533941e-04, 3.17503832e-04, 2.87962095e-04,\n",
       "       2.75985632e-04, 2.54561105e-04, 2.48105275e-04, 2.04226348e-04,\n",
       "       1.88042132e-04, 1.79380610e-04, 1.69402872e-04, 1.49974101e-04,\n",
       "       1.48004868e-04, 1.38721025e-04, 1.15519318e-04, 1.05210091e-04,\n",
       "       9.69805838e-05, 9.45004289e-05, 6.33610216e-05, 5.89661648e-05,\n",
       "       5.32182028e-05, 4.40095203e-05, 3.76650642e-05, 1.84155033e-05,\n",
       "       1.76841486e-05, 1.45807026e-05, 9.36189292e-06, 6.67765003e-06,\n",
       "       1.90432993e-06, 8.38009126e-07, 2.01994591e-07, 3.34599462e-12,\n",
       "       1.98648039e-12, 1.58277958e-12, 1.34272469e-12, 1.20544426e-12,\n",
       "       1.07778000e-12, 1.06370066e-12, 7.23089955e-13, 5.39084294e-13,\n",
       "       3.82432062e-13, 3.77665585e-13, 3.67309803e-13, 2.77155698e-13,\n",
       "       2.22818875e-13, 1.00923174e-13, 3.80906116e-32, 7.89216359e-34,\n",
       "       7.89216359e-34])"
      ]
     },
     "execution_count": 100,
     "metadata": {},
     "output_type": "execute_result"
    }
   ],
   "source": [
    "pca.explained_variance_ratio_"
   ]
  },
  {
   "cell_type": "code",
   "execution_count": 101,
   "id": "35ab804f",
   "metadata": {},
   "outputs": [],
   "source": [
    "var_cumu = np.cumsum(pca.explained_variance_ratio_)"
   ]
  },
  {
   "cell_type": "code",
   "execution_count": 102,
   "id": "5653298c",
   "metadata": {},
   "outputs": [
    {
     "data": {
      "text/plain": [
       "[<matplotlib.lines.Line2D at 0x7fa8dc2d7610>]"
      ]
     },
     "execution_count": 102,
     "metadata": {},
     "output_type": "execute_result"
    },
    {
     "data": {
      "image/png": "[encoded data removed]",
      "text/plain": [
       "<Figure size 864x576 with 1 Axes>"
      ]
     },
     "metadata": {
      "needs_background": "light"
     },
     "output_type": "display_data"
    }
   ],
   "source": [
    "fig = plt.figure(figsize=[12,8])\n",
    "plt.plot(range(1,len(var_cumu)+1), var_cumu)"
   ]
  },
  {
   "cell_type": "markdown",
   "id": "e6e46d15",
   "metadata": {},
   "source": [
    "## Looking at the scree plot with 50 PCs we have more than 95% of variance explained."
   ]
  },
  {
   "cell_type": "code",
   "execution_count": 103,
   "id": "6b98d260",
   "metadata": {},
   "outputs": [],
   "source": [
    "pca_final = IncrementalPCA(n_components=50)"
   ]
  },
  {
   "cell_type": "code",
   "execution_count": 104,
   "id": "ef462a28",
   "metadata": {},
   "outputs": [],
   "source": [
    "df_train_pca = pca_final.fit_transform(X_resampled)"
   ]
  },
  {
   "cell_type": "code",
   "execution_count": 105,
   "id": "4acf2f4b",
   "metadata": {},
   "outputs": [
    {
     "data": {
      "text/plain": [
       "(27020, 50)"
      ]
     },
     "execution_count": 105,
     "metadata": {},
     "output_type": "execute_result"
    }
   ],
   "source": [
    "df_train_pca.shape"
   ]
  },
  {
   "cell_type": "code",
   "execution_count": 106,
   "id": "51c3c638",
   "metadata": {},
   "outputs": [],
   "source": [
    "corrmat = np.corrcoef(df_train_pca.transpose())"
   ]
  },
  {
   "cell_type": "code",
   "execution_count": 107,
   "id": "469fc042",
   "metadata": {},
   "outputs": [
    {
     "data": {
      "text/plain": [
       "(50, 50)"
      ]
     },
     "execution_count": 107,
     "metadata": {},
     "output_type": "execute_result"
    }
   ],
   "source": [
    "corrmat.shape"
   ]
  },
  {
   "cell_type": "code",
   "execution_count": 108,
   "id": "e3fdc23f",
   "metadata": {},
   "outputs": [
    {
     "data": {
      "text/plain": [
       "array([[ 1.00000000e+00, -2.91193035e-07, -8.35389892e-08, ...,\n",
       "         2.91554914e-05,  2.99931042e-05, -1.84337261e-05],\n",
       "       [-2.91193035e-07,  1.00000000e+00, -8.12093130e-09, ...,\n",
       "         1.68719995e-05,  6.95417147e-05, -9.61221124e-06],\n",
       "       [-8.35389892e-08, -8.12093130e-09,  1.00000000e+00, ...,\n",
       "         3.83402740e-05,  3.99476377e-06,  1.78494664e-04],\n",
       "       ...,\n",
       "       [ 2.91554914e-05,  1.68719995e-05,  3.83402740e-05, ...,\n",
       "         1.00000000e+00,  9.05721045e-02, -1.89044963e-02],\n",
       "       [ 2.99931042e-05,  6.95417147e-05,  3.99476377e-06, ...,\n",
       "         9.05721045e-02,  1.00000000e+00, -3.97962434e-02],\n",
       "       [-1.84337261e-05, -9.61221124e-06,  1.78494664e-04, ...,\n",
       "        -1.89044963e-02, -3.97962434e-02,  1.00000000e+00]])"
      ]
     },
     "execution_count": 108,
     "metadata": {},
     "output_type": "execute_result"
    }
   ],
   "source": [
    "corrmat"
   ]
  },
  {
   "cell_type": "markdown",
   "id": "e5852693",
   "metadata": {},
   "source": [
    "### Applying the transformation on the test set"
   ]
  },
  {
   "cell_type": "code",
   "execution_count": 109,
   "id": "76137d7b",
   "metadata": {},
   "outputs": [
    {
     "data": {
      "text/plain": [
       "(30000, 133)"
      ]
     },
     "execution_count": 109,
     "metadata": {},
     "output_type": "execute_result"
    }
   ],
   "source": [
    "telecom_test_df_ori.shape"
   ]
  },
  {
   "cell_type": "code",
   "execution_count": 110,
   "id": "2d03012a",
   "metadata": {},
   "outputs": [
    {
     "data": {
      "text/plain": [
       "(30000, 50)"
      ]
     },
     "execution_count": 110,
     "metadata": {},
     "output_type": "execute_result"
    }
   ],
   "source": [
    "df_test_pca = pca_final.transform(telecom_test_df_ori)\n",
    "df_test_pca.shape"
   ]
  },
  {
   "cell_type": "markdown",
   "id": "8128fc2c",
   "metadata": {},
   "source": [
    "## Applying logistic regression on the data on our Principal components"
   ]
  },
  {
   "cell_type": "code",
   "execution_count": 111,
   "id": "af703228",
   "metadata": {},
   "outputs": [],
   "source": [
    "learner_pca = LogisticRegression()"
   ]
  },
  {
   "cell_type": "code",
   "execution_count": 112,
   "id": "c9149f26",
   "metadata": {},
   "outputs": [],
   "source": [
    "model_pca = learner_pca.fit(df_train_pca, y_resampled)"
   ]
  },
  {
   "cell_type": "code",
   "execution_count": 113,
   "id": "cf0665eb",
   "metadata": {},
   "outputs": [],
   "source": [
    "y_pred_proba = model_pca.predict_proba(df_train_pca)[::,1]"
   ]
  },
  {
   "cell_type": "code",
   "execution_count": 114,
   "id": "88a51eb1",
   "metadata": {},
   "outputs": [
    {
     "data": {
      "text/plain": [
       "array([0.94098727, 0.07202613, 0.08279394, ..., 0.88796669, 0.73935151,\n",
       "       0.38871255])"
      ]
     },
     "execution_count": 114,
     "metadata": {},
     "output_type": "execute_result"
    }
   ],
   "source": [
    "y_pred_proba"
   ]
  },
  {
   "cell_type": "code",
   "execution_count": 115,
   "id": "08961fe1",
   "metadata": {},
   "outputs": [],
   "source": [
    "y_pred_train_final = pd.DataFrame({'Churn_Prob': y_pred_proba})"
   ]
  },
  {
   "cell_type": "code",
   "execution_count": 116,
   "id": "a3d734b5",
   "metadata": {},
   "outputs": [],
   "source": [
    "y_pred_train_final['Churn_Prob_2'] = y_pred_train_final.Churn_Prob.map(lambda x: 1 if x > 0.5 else 0)"
   ]
  },
  {
   "cell_type": "code",
   "execution_count": 117,
   "id": "7a23c96d",
   "metadata": {},
   "outputs": [
    {
     "data": {
      "image/png": "[encoded data removed]",
      "text/plain": [
       "<Figure size 360x360 with 1 Axes>"
      ]
     },
     "metadata": {
      "needs_background": "light"
     },
     "output_type": "display_data"
    },
    {
     "name": "stdout",
     "output_type": "stream",
     "text": [
      "confusion matrix: \n",
      "[[11034  2476]\n",
      " [ 1708 11802]]\n",
      "Accuracy:  0.8451517394522576\n",
      "Precision:  0.8265863566325816\n",
      "Recall:  0.8735751295336788\n",
      "F1_score:  0.8494314092413991\n",
      "AUC score:  0.9128040637716066\n"
     ]
    },
    {
     "data": {
      "text/plain": [
       "{'Logistic_rfe_test': {'Accuracy': 0.8119333333333333,\n",
       "  'Precision': 0.335582431572247,\n",
       "  'Recall': 0.8617195161817588,\n",
       "  'F1 Score': 0.4830492944841488}}"
      ]
     },
     "execution_count": 117,
     "metadata": {},
     "output_type": "execute_result"
    }
   ],
   "source": [
    "get_accuracy_params(y_resampled, y_pred_train_final.Churn_Prob_2, y_pred_train_final.Churn_Prob, 'Logistic_pca_train')"
   ]
  },
  {
   "cell_type": "code",
   "execution_count": 118,
   "id": "6de11546",
   "metadata": {},
   "outputs": [
    {
     "data": {
      "text/plain": [
       "{'Logistic_rfe_test': {'Accuracy': 0.8119333333333333,\n",
       "  'Precision': 0.335582431572247,\n",
       "  'Recall': 0.8617195161817588,\n",
       "  'F1 Score': 0.4830492944841488}}"
      ]
     },
     "execution_count": 118,
     "metadata": {},
     "output_type": "execute_result"
    }
   ],
   "source": [
    "metrics_dict"
   ]
  },
  {
   "cell_type": "markdown",
   "id": "1fadaff5",
   "metadata": {},
   "source": [
    "### Making predictions on the test set"
   ]
  },
  {
   "cell_type": "code",
   "execution_count": 119,
   "id": "f0b57b7c",
   "metadata": {},
   "outputs": [],
   "source": [
    "y_pred_proba = model_pca.predict_proba(df_test_pca)[::,1]"
   ]
  },
  {
   "cell_type": "code",
   "execution_count": 120,
   "id": "98027341",
   "metadata": {},
   "outputs": [
    {
     "data": {
      "text/plain": [
       "array([0.17097494, 0.26557261, 0.69407795, ..., 0.62291673, 0.86107221,\n",
       "       0.03219955])"
      ]
     },
     "execution_count": 120,
     "metadata": {},
     "output_type": "execute_result"
    }
   ],
   "source": [
    "y_pred_proba"
   ]
  },
  {
   "cell_type": "code",
   "execution_count": 121,
   "id": "08e2a862",
   "metadata": {},
   "outputs": [],
   "source": [
    "y_pred_test_final = pd.DataFrame({'Churn_Prob': y_pred_proba})"
   ]
  },
  {
   "cell_type": "code",
   "execution_count": 122,
   "id": "9f6f6c6e",
   "metadata": {},
   "outputs": [],
   "source": [
    "y_pred_test_final['Churn_Prob_2'] = y_pred_test_final.Churn_Prob.map(lambda x: 1 if x > 0.5 else 0)"
   ]
  },
  {
   "cell_type": "code",
   "execution_count": 123,
   "id": "df39938b",
   "metadata": {},
   "outputs": [
    {
     "data": {
      "image/png": "[encoded data removed]",
      "text/plain": [
       "<Figure size 360x360 with 1 Axes>"
      ]
     },
     "metadata": {
      "needs_background": "light"
     },
     "output_type": "display_data"
    },
    {
     "name": "stdout",
     "output_type": "stream",
     "text": [
      "confusion matrix: \n",
      "[[18046  8895]\n",
      " [  369  2690]]\n",
      "Accuracy:  0.6912\n",
      "Precision:  0.2321968062149331\n",
      "Recall:  0.8793723439032364\n",
      "F1_score:  0.36738596012018576\n",
      "AUC score:  0.8691609826900206\n"
     ]
    }
   ],
   "source": [
    "metrics_dict = get_accuracy_params(telecom_test_sol_df.churn_probability, y_pred_test_final.Churn_Prob_2, y_pred_test_final.Churn_Prob, 'Logistic_pca_test')"
   ]
  },
  {
   "cell_type": "code",
   "execution_count": 124,
   "id": "2a21aee3",
   "metadata": {},
   "outputs": [
    {
     "data": {
      "text/plain": [
       "{'Logistic_rfe_test': {'Accuracy': 0.8119333333333333,\n",
       "  'Precision': 0.335582431572247,\n",
       "  'Recall': 0.8617195161817588,\n",
       "  'F1 Score': 0.4830492944841488},\n",
       " 'Logistic_pca_test': {'Accuracy': 0.6912,\n",
       "  'Precision': 0.2321968062149331,\n",
       "  'Recall': 0.8793723439032364,\n",
       "  'F1 Score': 0.36738596012018576}}"
      ]
     },
     "execution_count": 124,
     "metadata": {},
     "output_type": "execute_result"
    }
   ],
   "source": [
    "metrics_dict"
   ]
  },
  {
   "cell_type": "markdown",
   "id": "169fcb86-5c15-4af0-9f41-bf1337d8df35",
   "metadata": {},
   "source": [
    "### So we could see the Recall coming close to 88% but Accuracy went down close to 69%. This is because Precision has gone down to 23%.\n",
    "We got a rough idea with PCA and Logistic Regression.\n",
    "We now move to Lasso and Ridge Regression for further analysis and actual conclusion on right predictors and coefficients.\n",
    "Let's try other models to see how it performs."
   ]
  },
  {
   "cell_type": "markdown",
   "id": "d9e41d1e-68ee-4f8f-ac7c-d1295a41a737",
   "metadata": {},
   "source": [
    "### Model 3. Ridge Regression"
   ]
  },
  {
   "cell_type": "code",
   "execution_count": 125,
   "id": "7ac62178-e44d-44d4-a66a-7f01e6dcaa06",
   "metadata": {
    "scrolled": true
   },
   "outputs": [
    {
     "name": "stdout",
     "output_type": "stream",
     "text": [
      "Fitting 10 folds for each of 28 candidates, totalling 280 fits\n"
     ]
    },
    {
     "data": {
      "text/html": [
       "<style>#sk-container-id-2 {color: black;background-color: white;}#sk-container-id-2 pre{padding: 0;}#sk-container-id-2 div.sk-toggleable {background-color: white;}#sk-container-id-2 label.sk-toggleable__label {cursor: pointer;display: block;width: 100%;margin-bottom: 0;padding: 0.3em;box-sizing: border-box;text-align: center;}#sk-container-id-2 label.sk-toggleable__label-arrow:before {content: \"▸\";float: left;margin-right: 0.25em;color: #696969;}#sk-container-id-2 label.sk-toggleable__label-arrow:hover:before {color: black;}#sk-container-id-2 div.sk-estimator:hover label.sk-toggleable__label-arrow:before {color: black;}#sk-container-id-2 div.sk-toggleable__content {max-height: 0;max-width: 0;overflow: hidden;text-align: left;background-color: #f0f8ff;}#sk-container-id-2 div.sk-toggleable__content pre {margin: 0.2em;color: black;border-radius: 0.25em;background-color: #f0f8ff;}#sk-container-id-2 input.sk-toggleable__control:checked~div.sk-toggleable__content {max-height: 200px;max-width: 100%;overflow: auto;}#sk-container-id-2 input.sk-toggleable__control:checked~label.sk-toggleable__label-arrow:before {content: \"▾\";}#sk-container-id-2 div.sk-estimator input.sk-toggleable__control:checked~label.sk-toggleable__label {background-color: #d4ebff;}#sk-container-id-2 div.sk-label input.sk-toggleable__control:checked~label.sk-toggleable__label {background-color: #d4ebff;}#sk-container-id-2 input.sk-hidden--visually {border: 0;clip: rect(1px 1px 1px 1px);clip: rect(1px, 1px, 1px, 1px);height: 1px;margin: -1px;overflow: hidden;padding: 0;position: absolute;width: 1px;}#sk-container-id-2 div.sk-estimator {font-family: monospace;background-color: #f0f8ff;border: 1px dotted black;border-radius: 0.25em;box-sizing: border-box;margin-bottom: 0.5em;}#sk-container-id-2 div.sk-estimator:hover {background-color: #d4ebff;}#sk-container-id-2 div.sk-parallel-item::after {content: \"\";width: 100%;border-bottom: 1px solid gray;flex-grow: 1;}#sk-container-id-2 div.sk-label:hover label.sk-toggleable__label {background-color: #d4ebff;}#sk-container-id-2 div.sk-serial::before {content: \"\";position: absolute;border-left: 1px solid gray;box-sizing: border-box;top: 0;bottom: 0;left: 50%;z-index: 0;}#sk-container-id-2 div.sk-serial {display: flex;flex-direction: column;align-items: center;background-color: white;padding-right: 0.2em;padding-left: 0.2em;position: relative;}#sk-container-id-2 div.sk-item {position: relative;z-index: 1;}#sk-container-id-2 div.sk-parallel {display: flex;align-items: stretch;justify-content: center;background-color: white;position: relative;}#sk-container-id-2 div.sk-item::before, #sk-container-id-2 div.sk-parallel-item::before {content: \"\";position: absolute;border-left: 1px solid gray;box-sizing: border-box;top: 0;bottom: 0;left: 50%;z-index: -1;}#sk-container-id-2 div.sk-parallel-item {display: flex;flex-direction: column;z-index: 1;position: relative;background-color: white;}#sk-container-id-2 div.sk-parallel-item:first-child::after {align-self: flex-end;width: 50%;}#sk-container-id-2 div.sk-parallel-item:last-child::after {align-self: flex-start;width: 50%;}#sk-container-id-2 div.sk-parallel-item:only-child::after {width: 0;}#sk-container-id-2 div.sk-dashed-wrapped {border: 1px dashed gray;margin: 0 0.4em 0.5em 0.4em;box-sizing: border-box;padding-bottom: 0.4em;background-color: white;}#sk-container-id-2 div.sk-label label {font-family: monospace;font-weight: bold;display: inline-block;line-height: 1.2em;}#sk-container-id-2 div.sk-label-container {text-align: center;}#sk-container-id-2 div.sk-container {/* jupyter's `normalize.less` sets `[hidden] { display: none; }` but bootstrap.min.css set `[hidden] { display: none !important; }` so we also need the `!important` here to be able to override the default hidden behavior on the sphinx rendered scikit-learn.org. See: https://github.com/scikit-learn/scikit-learn/issues/21755 */display: inline-block !important;position: relative;}#sk-container-id-2 div.sk-text-repr-fallback {display: none;}</style><div id=\"sk-container-id-2\" class=\"sk-top-container\"><div class=\"sk-text-repr-fallback\"><pre>GridSearchCV(cv=10, estimator=Ridge(),\n",
       "             param_grid={&#x27;alpha&#x27;: [0.0001, 0.001, 0.01, 0.05, 0.1, 0.2, 0.3,\n",
       "                                   0.4, 0.5, 0.6, 0.7, 0.8, 0.9, 1.0, 2.0, 3.0,\n",
       "                                   4.0, 5.0, 6.0, 7.0, 8.0, 9.0, 10.0, 20, 50,\n",
       "                                   100, 500, 1000]},\n",
       "             return_train_score=True, scoring=&#x27;neg_mean_absolute_error&#x27;,\n",
       "             verbose=1)</pre><b>In a Jupyter environment, please rerun this cell to show the HTML representation or trust the notebook. <br />On GitHub, the HTML representation is unable to render, please try loading this page with nbviewer.org.</b></div><div class=\"sk-container\" hidden><div class=\"sk-item sk-dashed-wrapped\"><div class=\"sk-label-container\"><div class=\"sk-label sk-toggleable\"><input class=\"sk-toggleable__control sk-hidden--visually\" id=\"sk-estimator-id-2\" type=\"checkbox\" ><label for=\"sk-estimator-id-2\" class=\"sk-toggleable__label sk-toggleable__label-arrow\">GridSearchCV</label><div class=\"sk-toggleable__content\"><pre>GridSearchCV(cv=10, estimator=Ridge(),\n",
       "             param_grid={&#x27;alpha&#x27;: [0.0001, 0.001, 0.01, 0.05, 0.1, 0.2, 0.3,\n",
       "                                   0.4, 0.5, 0.6, 0.7, 0.8, 0.9, 1.0, 2.0, 3.0,\n",
       "                                   4.0, 5.0, 6.0, 7.0, 8.0, 9.0, 10.0, 20, 50,\n",
       "                                   100, 500, 1000]},\n",
       "             return_train_score=True, scoring=&#x27;neg_mean_absolute_error&#x27;,\n",
       "             verbose=1)</pre></div></div></div><div class=\"sk-parallel\"><div class=\"sk-parallel-item\"><div class=\"sk-item\"><div class=\"sk-label-container\"><div class=\"sk-label sk-toggleable\"><input class=\"sk-toggleable__control sk-hidden--visually\" id=\"sk-estimator-id-3\" type=\"checkbox\" ><label for=\"sk-estimator-id-3\" class=\"sk-toggleable__label sk-toggleable__label-arrow\">estimator: Ridge</label><div class=\"sk-toggleable__content\"><pre>Ridge()</pre></div></div></div><div class=\"sk-serial\"><div class=\"sk-item\"><div class=\"sk-estimator sk-toggleable\"><input class=\"sk-toggleable__control sk-hidden--visually\" id=\"sk-estimator-id-4\" type=\"checkbox\" ><label for=\"sk-estimator-id-4\" class=\"sk-toggleable__label sk-toggleable__label-arrow\">Ridge</label><div class=\"sk-toggleable__content\"><pre>Ridge()</pre></div></div></div></div></div></div></div></div></div></div>"
      ],
      "text/plain": [
       "GridSearchCV(cv=10, estimator=Ridge(),\n",
       "             param_grid={'alpha': [0.0001, 0.001, 0.01, 0.05, 0.1, 0.2, 0.3,\n",
       "                                   0.4, 0.5, 0.6, 0.7, 0.8, 0.9, 1.0, 2.0, 3.0,\n",
       "                                   4.0, 5.0, 6.0, 7.0, 8.0, 9.0, 10.0, 20, 50,\n",
       "                                   100, 500, 1000]},\n",
       "             return_train_score=True, scoring='neg_mean_absolute_error',\n",
       "             verbose=1)"
      ]
     },
     "execution_count": 125,
     "metadata": {},
     "output_type": "execute_result"
    }
   ],
   "source": [
    "# list of alphas to tune - if value too high it will lead to underfitting, if it is too low, \n",
    "# it will not handle the overfitting\n",
    "params = {'alpha': [0.0001, 0.001, 0.01, 0.05, 0.1, \n",
    " 0.2, 0.3, 0.4, 0.5, 0.6, 0.7, 0.8, 0.9, 1.0, 2.0, 3.0, \n",
    " 4.0, 5.0, 6.0, 7.0, 8.0, 9.0, 10.0, 20, 50, 100, 500, 1000 ]}\n",
    "\n",
    "ridge = Ridge()\n",
    "\n",
    "# cross validation\n",
    "folds = 10\n",
    "model_cv = GridSearchCV(estimator = ridge, \n",
    "                        param_grid = params, \n",
    "                        scoring= 'neg_mean_absolute_error',  \n",
    "                        cv = folds, \n",
    "                        return_train_score=True,\n",
    "                        verbose = 1)  \n",
    "\n",
    "\n",
    "model_cv.fit(X_resampled, y_resampled)"
   ]
  },
  {
   "cell_type": "code",
   "execution_count": 126,
   "id": "64ef3402-9e82-4f08-abf7-da8a954dcc15",
   "metadata": {},
   "outputs": [
    {
     "name": "stdout",
     "output_type": "stream",
     "text": [
      "{'alpha': 0.0001}\n"
     ]
    }
   ],
   "source": [
    "# Printing the best hyperparameter alpha\n",
    "print(model_cv.best_params_)"
   ]
  },
  {
   "cell_type": "code",
   "execution_count": 127,
   "id": "2630e3d7-1bd8-4b0e-a28b-33a97c0c59e7",
   "metadata": {},
   "outputs": [
    {
     "data": {
      "text/html": [
       "<style>#sk-container-id-3 {color: black;background-color: white;}#sk-container-id-3 pre{padding: 0;}#sk-container-id-3 div.sk-toggleable {background-color: white;}#sk-container-id-3 label.sk-toggleable__label {cursor: pointer;display: block;width: 100%;margin-bottom: 0;padding: 0.3em;box-sizing: border-box;text-align: center;}#sk-container-id-3 label.sk-toggleable__label-arrow:before {content: \"▸\";float: left;margin-right: 0.25em;color: #696969;}#sk-container-id-3 label.sk-toggleable__label-arrow:hover:before {color: black;}#sk-container-id-3 div.sk-estimator:hover label.sk-toggleable__label-arrow:before {color: black;}#sk-container-id-3 div.sk-toggleable__content {max-height: 0;max-width: 0;overflow: hidden;text-align: left;background-color: #f0f8ff;}#sk-container-id-3 div.sk-toggleable__content pre {margin: 0.2em;color: black;border-radius: 0.25em;background-color: #f0f8ff;}#sk-container-id-3 input.sk-toggleable__control:checked~div.sk-toggleable__content {max-height: 200px;max-width: 100%;overflow: auto;}#sk-container-id-3 input.sk-toggleable__control:checked~label.sk-toggleable__label-arrow:before {content: \"▾\";}#sk-container-id-3 div.sk-estimator input.sk-toggleable__control:checked~label.sk-toggleable__label {background-color: #d4ebff;}#sk-container-id-3 div.sk-label input.sk-toggleable__control:checked~label.sk-toggleable__label {background-color: #d4ebff;}#sk-container-id-3 input.sk-hidden--visually {border: 0;clip: rect(1px 1px 1px 1px);clip: rect(1px, 1px, 1px, 1px);height: 1px;margin: -1px;overflow: hidden;padding: 0;position: absolute;width: 1px;}#sk-container-id-3 div.sk-estimator {font-family: monospace;background-color: #f0f8ff;border: 1px dotted black;border-radius: 0.25em;box-sizing: border-box;margin-bottom: 0.5em;}#sk-container-id-3 div.sk-estimator:hover {background-color: #d4ebff;}#sk-container-id-3 div.sk-parallel-item::after {content: \"\";width: 100%;border-bottom: 1px solid gray;flex-grow: 1;}#sk-container-id-3 div.sk-label:hover label.sk-toggleable__label {background-color: #d4ebff;}#sk-container-id-3 div.sk-serial::before {content: \"\";position: absolute;border-left: 1px solid gray;box-sizing: border-box;top: 0;bottom: 0;left: 50%;z-index: 0;}#sk-container-id-3 div.sk-serial {display: flex;flex-direction: column;align-items: center;background-color: white;padding-right: 0.2em;padding-left: 0.2em;position: relative;}#sk-container-id-3 div.sk-item {position: relative;z-index: 1;}#sk-container-id-3 div.sk-parallel {display: flex;align-items: stretch;justify-content: center;background-color: white;position: relative;}#sk-container-id-3 div.sk-item::before, #sk-container-id-3 div.sk-parallel-item::before {content: \"\";position: absolute;border-left: 1px solid gray;box-sizing: border-box;top: 0;bottom: 0;left: 50%;z-index: -1;}#sk-container-id-3 div.sk-parallel-item {display: flex;flex-direction: column;z-index: 1;position: relative;background-color: white;}#sk-container-id-3 div.sk-parallel-item:first-child::after {align-self: flex-end;width: 50%;}#sk-container-id-3 div.sk-parallel-item:last-child::after {align-self: flex-start;width: 50%;}#sk-container-id-3 div.sk-parallel-item:only-child::after {width: 0;}#sk-container-id-3 div.sk-dashed-wrapped {border: 1px dashed gray;margin: 0 0.4em 0.5em 0.4em;box-sizing: border-box;padding-bottom: 0.4em;background-color: white;}#sk-container-id-3 div.sk-label label {font-family: monospace;font-weight: bold;display: inline-block;line-height: 1.2em;}#sk-container-id-3 div.sk-label-container {text-align: center;}#sk-container-id-3 div.sk-container {/* jupyter's `normalize.less` sets `[hidden] { display: none; }` but bootstrap.min.css set `[hidden] { display: none !important; }` so we also need the `!important` here to be able to override the default hidden behavior on the sphinx rendered scikit-learn.org. See: https://github.com/scikit-learn/scikit-learn/issues/21755 */display: inline-block !important;position: relative;}#sk-container-id-3 div.sk-text-repr-fallback {display: none;}</style><div id=\"sk-container-id-3\" class=\"sk-top-container\"><div class=\"sk-text-repr-fallback\"><pre>Ridge(alpha=0.001)</pre><b>In a Jupyter environment, please rerun this cell to show the HTML representation or trust the notebook. <br />On GitHub, the HTML representation is unable to render, please try loading this page with nbviewer.org.</b></div><div class=\"sk-container\" hidden><div class=\"sk-item\"><div class=\"sk-estimator sk-toggleable\"><input class=\"sk-toggleable__control sk-hidden--visually\" id=\"sk-estimator-id-5\" type=\"checkbox\" checked><label for=\"sk-estimator-id-5\" class=\"sk-toggleable__label sk-toggleable__label-arrow\">Ridge</label><div class=\"sk-toggleable__content\"><pre>Ridge(alpha=0.001)</pre></div></div></div></div></div>"
      ],
      "text/plain": [
       "Ridge(alpha=0.001)"
      ]
     },
     "execution_count": 127,
     "metadata": {},
     "output_type": "execute_result"
    }
   ],
   "source": [
    "#Fitting Ridge model for alpha = 0.0001 and printing coefficients which have been penalised\n",
    "alpha = 0.001\n",
    "\n",
    "ridge = Ridge(alpha=alpha)\n",
    "        \n",
    "ridge.fit(X_resampled, y_resampled) "
   ]
  },
  {
   "cell_type": "code",
   "execution_count": 128,
   "id": "d1458459-eb5b-4b64-8c53-496ae8ce9f5f",
   "metadata": {},
   "outputs": [
    {
     "data": {
      "text/html": [
       "<div>\n",
       "<style scoped>\n",
       "    .dataframe tbody tr th:only-of-type {\n",
       "        vertical-align: middle;\n",
       "    }\n",
       "\n",
       "    .dataframe tbody tr th {\n",
       "        vertical-align: top;\n",
       "    }\n",
       "\n",
       "    .dataframe thead th {\n",
       "        text-align: right;\n",
       "    }\n",
       "</style>\n",
       "<table border=\"1\" class=\"dataframe\">\n",
       "  <thead>\n",
       "    <tr style=\"text-align: right;\">\n",
       "      <th></th>\n",
       "      <th>mean_fit_time</th>\n",
       "      <th>std_fit_time</th>\n",
       "      <th>mean_score_time</th>\n",
       "      <th>std_score_time</th>\n",
       "      <th>param_alpha</th>\n",
       "      <th>params</th>\n",
       "      <th>split0_test_score</th>\n",
       "      <th>split1_test_score</th>\n",
       "      <th>split2_test_score</th>\n",
       "      <th>split3_test_score</th>\n",
       "      <th>...</th>\n",
       "      <th>split2_train_score</th>\n",
       "      <th>split3_train_score</th>\n",
       "      <th>split4_train_score</th>\n",
       "      <th>split5_train_score</th>\n",
       "      <th>split6_train_score</th>\n",
       "      <th>split7_train_score</th>\n",
       "      <th>split8_train_score</th>\n",
       "      <th>split9_train_score</th>\n",
       "      <th>mean_train_score</th>\n",
       "      <th>std_train_score</th>\n",
       "    </tr>\n",
       "  </thead>\n",
       "  <tbody>\n",
       "    <tr>\n",
       "      <th>0</th>\n",
       "      <td>0.029094</td>\n",
       "      <td>0.009278</td>\n",
       "      <td>0.002761</td>\n",
       "      <td>0.000385</td>\n",
       "      <td>0.0001</td>\n",
       "      <td>{'alpha': 0.0001}</td>\n",
       "      <td>-0.319381</td>\n",
       "      <td>-0.323931</td>\n",
       "      <td>-0.319607</td>\n",
       "      <td>-0.310282</td>\n",
       "      <td>...</td>\n",
       "      <td>-0.282553</td>\n",
       "      <td>-0.284203</td>\n",
       "      <td>-0.283607</td>\n",
       "      <td>-0.286608</td>\n",
       "      <td>-0.284964</td>\n",
       "      <td>-0.284927</td>\n",
       "      <td>-0.285272</td>\n",
       "      <td>-0.284412</td>\n",
       "      <td>-0.284165</td>\n",
       "      <td>0.001312</td>\n",
       "    </tr>\n",
       "    <tr>\n",
       "      <th>1</th>\n",
       "      <td>0.025505</td>\n",
       "      <td>0.002902</td>\n",
       "      <td>0.002540</td>\n",
       "      <td>0.000415</td>\n",
       "      <td>0.0010</td>\n",
       "      <td>{'alpha': 0.001}</td>\n",
       "      <td>-0.319476</td>\n",
       "      <td>-0.324110</td>\n",
       "      <td>-0.319661</td>\n",
       "      <td>-0.310301</td>\n",
       "      <td>...</td>\n",
       "      <td>-0.282565</td>\n",
       "      <td>-0.284220</td>\n",
       "      <td>-0.283616</td>\n",
       "      <td>-0.286624</td>\n",
       "      <td>-0.284994</td>\n",
       "      <td>-0.284959</td>\n",
       "      <td>-0.285304</td>\n",
       "      <td>-0.284448</td>\n",
       "      <td>-0.284185</td>\n",
       "      <td>0.001320</td>\n",
       "    </tr>\n",
       "    <tr>\n",
       "      <th>2</th>\n",
       "      <td>0.023381</td>\n",
       "      <td>0.000886</td>\n",
       "      <td>0.002399</td>\n",
       "      <td>0.000224</td>\n",
       "      <td>0.0100</td>\n",
       "      <td>{'alpha': 0.01}</td>\n",
       "      <td>-0.320360</td>\n",
       "      <td>-0.325103</td>\n",
       "      <td>-0.320346</td>\n",
       "      <td>-0.310885</td>\n",
       "      <td>...</td>\n",
       "      <td>-0.282618</td>\n",
       "      <td>-0.284308</td>\n",
       "      <td>-0.283659</td>\n",
       "      <td>-0.286811</td>\n",
       "      <td>-0.285322</td>\n",
       "      <td>-0.285295</td>\n",
       "      <td>-0.285610</td>\n",
       "      <td>-0.284776</td>\n",
       "      <td>-0.284359</td>\n",
       "      <td>0.001414</td>\n",
       "    </tr>\n",
       "    <tr>\n",
       "      <th>3</th>\n",
       "      <td>0.024032</td>\n",
       "      <td>0.001462</td>\n",
       "      <td>0.002502</td>\n",
       "      <td>0.000267</td>\n",
       "      <td>0.0500</td>\n",
       "      <td>{'alpha': 0.05}</td>\n",
       "      <td>-0.323536</td>\n",
       "      <td>-0.328145</td>\n",
       "      <td>-0.323484</td>\n",
       "      <td>-0.313563</td>\n",
       "      <td>...</td>\n",
       "      <td>-0.282793</td>\n",
       "      <td>-0.284510</td>\n",
       "      <td>-0.283862</td>\n",
       "      <td>-0.287686</td>\n",
       "      <td>-0.286818</td>\n",
       "      <td>-0.286759</td>\n",
       "      <td>-0.287090</td>\n",
       "      <td>-0.286283</td>\n",
       "      <td>-0.285130</td>\n",
       "      <td>0.001919</td>\n",
       "    </tr>\n",
       "    <tr>\n",
       "      <th>4</th>\n",
       "      <td>0.027087</td>\n",
       "      <td>0.002696</td>\n",
       "      <td>0.002775</td>\n",
       "      <td>0.000477</td>\n",
       "      <td>0.1000</td>\n",
       "      <td>{'alpha': 0.1}</td>\n",
       "      <td>-0.326750</td>\n",
       "      <td>-0.331097</td>\n",
       "      <td>-0.326746</td>\n",
       "      <td>-0.316474</td>\n",
       "      <td>...</td>\n",
       "      <td>-0.283425</td>\n",
       "      <td>-0.285167</td>\n",
       "      <td>-0.284528</td>\n",
       "      <td>-0.289146</td>\n",
       "      <td>-0.288948</td>\n",
       "      <td>-0.288882</td>\n",
       "      <td>-0.289231</td>\n",
       "      <td>-0.288450</td>\n",
       "      <td>-0.286456</td>\n",
       "      <td>0.002554</td>\n",
       "    </tr>\n",
       "  </tbody>\n",
       "</table>\n",
       "<p>5 rows × 31 columns</p>\n",
       "</div>"
      ],
      "text/plain": [
       "   mean_fit_time  std_fit_time  mean_score_time  std_score_time  param_alpha  \\\n",
       "0       0.029094      0.009278         0.002761        0.000385       0.0001   \n",
       "1       0.025505      0.002902         0.002540        0.000415       0.0010   \n",
       "2       0.023381      0.000886         0.002399        0.000224       0.0100   \n",
       "3       0.024032      0.001462         0.002502        0.000267       0.0500   \n",
       "4       0.027087      0.002696         0.002775        0.000477       0.1000   \n",
       "\n",
       "              params  split0_test_score  split1_test_score  split2_test_score  \\\n",
       "0  {'alpha': 0.0001}          -0.319381          -0.323931          -0.319607   \n",
       "1   {'alpha': 0.001}          -0.319476          -0.324110          -0.319661   \n",
       "2    {'alpha': 0.01}          -0.320360          -0.325103          -0.320346   \n",
       "3    {'alpha': 0.05}          -0.323536          -0.328145          -0.323484   \n",
       "4     {'alpha': 0.1}          -0.326750          -0.331097          -0.326746   \n",
       "\n",
       "   split3_test_score  ...  split2_train_score  split3_train_score  \\\n",
       "0          -0.310282  ...           -0.282553           -0.284203   \n",
       "1          -0.310301  ...           -0.282565           -0.284220   \n",
       "2          -0.310885  ...           -0.282618           -0.284308   \n",
       "3          -0.313563  ...           -0.282793           -0.284510   \n",
       "4          -0.316474  ...           -0.283425           -0.285167   \n",
       "\n",
       "   split4_train_score  split5_train_score  split6_train_score  \\\n",
       "0           -0.283607           -0.286608           -0.284964   \n",
       "1           -0.283616           -0.286624           -0.284994   \n",
       "2           -0.283659           -0.286811           -0.285322   \n",
       "3           -0.283862           -0.287686           -0.286818   \n",
       "4           -0.284528           -0.289146           -0.288948   \n",
       "\n",
       "   split7_train_score  split8_train_score  split9_train_score  \\\n",
       "0           -0.284927           -0.285272           -0.284412   \n",
       "1           -0.284959           -0.285304           -0.284448   \n",
       "2           -0.285295           -0.285610           -0.284776   \n",
       "3           -0.286759           -0.287090           -0.286283   \n",
       "4           -0.288882           -0.289231           -0.288450   \n",
       "\n",
       "   mean_train_score  std_train_score  \n",
       "0         -0.284165         0.001312  \n",
       "1         -0.284185         0.001320  \n",
       "2         -0.284359         0.001414  \n",
       "3         -0.285130         0.001919  \n",
       "4         -0.286456         0.002554  \n",
       "\n",
       "[5 rows x 31 columns]"
      ]
     },
     "execution_count": 128,
     "metadata": {},
     "output_type": "execute_result"
    }
   ],
   "source": [
    "cv_result_r = pd.DataFrame(model_cv.cv_results_)\n",
    "cv_result_r['param_alpha'] = cv_result_r['param_alpha'].astype('float32')\n",
    "cv_result_r.head()"
   ]
  },
  {
   "cell_type": "code",
   "execution_count": 129,
   "id": "325a426e-73ce-43ec-a3e9-51bf96cf5546",
   "metadata": {},
   "outputs": [
    {
     "data": {
      "image/png": "[encoded data removed]",
      "text/plain": [
       "<Figure size 1152x576 with 1 Axes>"
      ]
     },
     "metadata": {
      "needs_background": "light"
     },
     "output_type": "display_data"
    }
   ],
   "source": [
    "plt.figure(figsize=(16,8))\n",
    "plt.plot(cv_result_r['param_alpha'],cv_result_r['mean_train_score'])\n",
    "plt.plot(cv_result_r['param_alpha'],cv_result_r['mean_test_score'])\n",
    "plt.xscale('log')\n",
    "plt.ylabel('R2 Score')\n",
    "plt.xlabel('Alpha')\n",
    "plt.show()"
   ]
  },
  {
   "cell_type": "markdown",
   "id": "2d01dce2",
   "metadata": {},
   "source": [
    "## Looking at the curve, as they are not converging we will go ahead and check Lasso model."
   ]
  },
  {
   "cell_type": "markdown",
   "id": "d1042ff8",
   "metadata": {},
   "source": [
    "## Model 4. Lasso"
   ]
  },
  {
   "cell_type": "code",
   "execution_count": 130,
   "id": "d077aadf",
   "metadata": {},
   "outputs": [
    {
     "name": "stdout",
     "output_type": "stream",
     "text": [
      "Fitting 10 folds for each of 28 candidates, totalling 280 fits\n"
     ]
    },
    {
     "data": {
      "text/html": [
       "<style>#sk-container-id-4 {color: black;background-color: white;}#sk-container-id-4 pre{padding: 0;}#sk-container-id-4 div.sk-toggleable {background-color: white;}#sk-container-id-4 label.sk-toggleable__label {cursor: pointer;display: block;width: 100%;margin-bottom: 0;padding: 0.3em;box-sizing: border-box;text-align: center;}#sk-container-id-4 label.sk-toggleable__label-arrow:before {content: \"▸\";float: left;margin-right: 0.25em;color: #696969;}#sk-container-id-4 label.sk-toggleable__label-arrow:hover:before {color: black;}#sk-container-id-4 div.sk-estimator:hover label.sk-toggleable__label-arrow:before {color: black;}#sk-container-id-4 div.sk-toggleable__content {max-height: 0;max-width: 0;overflow: hidden;text-align: left;background-color: #f0f8ff;}#sk-container-id-4 div.sk-toggleable__content pre {margin: 0.2em;color: black;border-radius: 0.25em;background-color: #f0f8ff;}#sk-container-id-4 input.sk-toggleable__control:checked~div.sk-toggleable__content {max-height: 200px;max-width: 100%;overflow: auto;}#sk-container-id-4 input.sk-toggleable__control:checked~label.sk-toggleable__label-arrow:before {content: \"▾\";}#sk-container-id-4 div.sk-estimator input.sk-toggleable__control:checked~label.sk-toggleable__label {background-color: #d4ebff;}#sk-container-id-4 div.sk-label input.sk-toggleable__control:checked~label.sk-toggleable__label {background-color: #d4ebff;}#sk-container-id-4 input.sk-hidden--visually {border: 0;clip: rect(1px 1px 1px 1px);clip: rect(1px, 1px, 1px, 1px);height: 1px;margin: -1px;overflow: hidden;padding: 0;position: absolute;width: 1px;}#sk-container-id-4 div.sk-estimator {font-family: monospace;background-color: #f0f8ff;border: 1px dotted black;border-radius: 0.25em;box-sizing: border-box;margin-bottom: 0.5em;}#sk-container-id-4 div.sk-estimator:hover {background-color: #d4ebff;}#sk-container-id-4 div.sk-parallel-item::after {content: \"\";width: 100%;border-bottom: 1px solid gray;flex-grow: 1;}#sk-container-id-4 div.sk-label:hover label.sk-toggleable__label {background-color: #d4ebff;}#sk-container-id-4 div.sk-serial::before {content: \"\";position: absolute;border-left: 1px solid gray;box-sizing: border-box;top: 0;bottom: 0;left: 50%;z-index: 0;}#sk-container-id-4 div.sk-serial {display: flex;flex-direction: column;align-items: center;background-color: white;padding-right: 0.2em;padding-left: 0.2em;position: relative;}#sk-container-id-4 div.sk-item {position: relative;z-index: 1;}#sk-container-id-4 div.sk-parallel {display: flex;align-items: stretch;justify-content: center;background-color: white;position: relative;}#sk-container-id-4 div.sk-item::before, #sk-container-id-4 div.sk-parallel-item::before {content: \"\";position: absolute;border-left: 1px solid gray;box-sizing: border-box;top: 0;bottom: 0;left: 50%;z-index: -1;}#sk-container-id-4 div.sk-parallel-item {display: flex;flex-direction: column;z-index: 1;position: relative;background-color: white;}#sk-container-id-4 div.sk-parallel-item:first-child::after {align-self: flex-end;width: 50%;}#sk-container-id-4 div.sk-parallel-item:last-child::after {align-self: flex-start;width: 50%;}#sk-container-id-4 div.sk-parallel-item:only-child::after {width: 0;}#sk-container-id-4 div.sk-dashed-wrapped {border: 1px dashed gray;margin: 0 0.4em 0.5em 0.4em;box-sizing: border-box;padding-bottom: 0.4em;background-color: white;}#sk-container-id-4 div.sk-label label {font-family: monospace;font-weight: bold;display: inline-block;line-height: 1.2em;}#sk-container-id-4 div.sk-label-container {text-align: center;}#sk-container-id-4 div.sk-container {/* jupyter's `normalize.less` sets `[hidden] { display: none; }` but bootstrap.min.css set `[hidden] { display: none !important; }` so we also need the `!important` here to be able to override the default hidden behavior on the sphinx rendered scikit-learn.org. See: https://github.com/scikit-learn/scikit-learn/issues/21755 */display: inline-block !important;position: relative;}#sk-container-id-4 div.sk-text-repr-fallback {display: none;}</style><div id=\"sk-container-id-4\" class=\"sk-top-container\"><div class=\"sk-text-repr-fallback\"><pre>GridSearchCV(cv=10, estimator=Lasso(),\n",
       "             param_grid={&#x27;alpha&#x27;: [0.0001, 0.001, 0.01, 0.05, 0.1, 0.2, 0.3,\n",
       "                                   0.4, 0.5, 0.6, 0.7, 0.8, 0.9, 1.0, 2.0, 3.0,\n",
       "                                   4.0, 5.0, 6.0, 7.0, 8.0, 9.0, 10.0, 20, 50,\n",
       "                                   100, 500, 1000]},\n",
       "             return_train_score=True, scoring=&#x27;neg_mean_absolute_error&#x27;,\n",
       "             verbose=1)</pre><b>In a Jupyter environment, please rerun this cell to show the HTML representation or trust the notebook. <br />On GitHub, the HTML representation is unable to render, please try loading this page with nbviewer.org.</b></div><div class=\"sk-container\" hidden><div class=\"sk-item sk-dashed-wrapped\"><div class=\"sk-label-container\"><div class=\"sk-label sk-toggleable\"><input class=\"sk-toggleable__control sk-hidden--visually\" id=\"sk-estimator-id-6\" type=\"checkbox\" ><label for=\"sk-estimator-id-6\" class=\"sk-toggleable__label sk-toggleable__label-arrow\">GridSearchCV</label><div class=\"sk-toggleable__content\"><pre>GridSearchCV(cv=10, estimator=Lasso(),\n",
       "             param_grid={&#x27;alpha&#x27;: [0.0001, 0.001, 0.01, 0.05, 0.1, 0.2, 0.3,\n",
       "                                   0.4, 0.5, 0.6, 0.7, 0.8, 0.9, 1.0, 2.0, 3.0,\n",
       "                                   4.0, 5.0, 6.0, 7.0, 8.0, 9.0, 10.0, 20, 50,\n",
       "                                   100, 500, 1000]},\n",
       "             return_train_score=True, scoring=&#x27;neg_mean_absolute_error&#x27;,\n",
       "             verbose=1)</pre></div></div></div><div class=\"sk-parallel\"><div class=\"sk-parallel-item\"><div class=\"sk-item\"><div class=\"sk-label-container\"><div class=\"sk-label sk-toggleable\"><input class=\"sk-toggleable__control sk-hidden--visually\" id=\"sk-estimator-id-7\" type=\"checkbox\" ><label for=\"sk-estimator-id-7\" class=\"sk-toggleable__label sk-toggleable__label-arrow\">estimator: Lasso</label><div class=\"sk-toggleable__content\"><pre>Lasso()</pre></div></div></div><div class=\"sk-serial\"><div class=\"sk-item\"><div class=\"sk-estimator sk-toggleable\"><input class=\"sk-toggleable__control sk-hidden--visually\" id=\"sk-estimator-id-8\" type=\"checkbox\" ><label for=\"sk-estimator-id-8\" class=\"sk-toggleable__label sk-toggleable__label-arrow\">Lasso</label><div class=\"sk-toggleable__content\"><pre>Lasso()</pre></div></div></div></div></div></div></div></div></div></div>"
      ],
      "text/plain": [
       "GridSearchCV(cv=10, estimator=Lasso(),\n",
       "             param_grid={'alpha': [0.0001, 0.001, 0.01, 0.05, 0.1, 0.2, 0.3,\n",
       "                                   0.4, 0.5, 0.6, 0.7, 0.8, 0.9, 1.0, 2.0, 3.0,\n",
       "                                   4.0, 5.0, 6.0, 7.0, 8.0, 9.0, 10.0, 20, 50,\n",
       "                                   100, 500, 1000]},\n",
       "             return_train_score=True, scoring='neg_mean_absolute_error',\n",
       "             verbose=1)"
      ]
     },
     "execution_count": 130,
     "metadata": {},
     "output_type": "execute_result"
    }
   ],
   "source": [
    "# list of alphas to tune - if value too high it will lead to underfitting, if it is too low, \n",
    "# it will not handle the overfitting\n",
    "params = {'alpha': [0.0001, 0.001, 0.01, 0.05, 0.1, \n",
    " 0.2, 0.3, 0.4, 0.5, 0.6, 0.7, 0.8, 0.9, 1.0, 2.0, 3.0, \n",
    " 4.0, 5.0, 6.0, 7.0, 8.0, 9.0, 10.0, 20, 50, 100, 500, 1000 ]}\n",
    "\n",
    "lasso = Lasso()\n",
    "\n",
    "# cross validation\n",
    "folds = 10\n",
    "model_cv = GridSearchCV(estimator = lasso, \n",
    "                        param_grid = params, \n",
    "                        scoring= 'neg_mean_absolute_error',  \n",
    "                        cv = folds, \n",
    "                        return_train_score=True,\n",
    "                        verbose = 1)  \n",
    "\n",
    "\n",
    "model_cv.fit(X_resampled, y_resampled)"
   ]
  },
  {
   "cell_type": "code",
   "execution_count": 131,
   "id": "a296302a",
   "metadata": {},
   "outputs": [
    {
     "name": "stdout",
     "output_type": "stream",
     "text": [
      "{'alpha': 0.0001}\n"
     ]
    }
   ],
   "source": [
    "# Printing the best hyperparameter alpha\n",
    "print(model_cv.best_params_)"
   ]
  },
  {
   "cell_type": "code",
   "execution_count": 132,
   "id": "f46882d2",
   "metadata": {},
   "outputs": [
    {
     "data": {
      "text/html": [
       "<style>#sk-container-id-5 {color: black;background-color: white;}#sk-container-id-5 pre{padding: 0;}#sk-container-id-5 div.sk-toggleable {background-color: white;}#sk-container-id-5 label.sk-toggleable__label {cursor: pointer;display: block;width: 100%;margin-bottom: 0;padding: 0.3em;box-sizing: border-box;text-align: center;}#sk-container-id-5 label.sk-toggleable__label-arrow:before {content: \"▸\";float: left;margin-right: 0.25em;color: #696969;}#sk-container-id-5 label.sk-toggleable__label-arrow:hover:before {color: black;}#sk-container-id-5 div.sk-estimator:hover label.sk-toggleable__label-arrow:before {color: black;}#sk-container-id-5 div.sk-toggleable__content {max-height: 0;max-width: 0;overflow: hidden;text-align: left;background-color: #f0f8ff;}#sk-container-id-5 div.sk-toggleable__content pre {margin: 0.2em;color: black;border-radius: 0.25em;background-color: #f0f8ff;}#sk-container-id-5 input.sk-toggleable__control:checked~div.sk-toggleable__content {max-height: 200px;max-width: 100%;overflow: auto;}#sk-container-id-5 input.sk-toggleable__control:checked~label.sk-toggleable__label-arrow:before {content: \"▾\";}#sk-container-id-5 div.sk-estimator input.sk-toggleable__control:checked~label.sk-toggleable__label {background-color: #d4ebff;}#sk-container-id-5 div.sk-label input.sk-toggleable__control:checked~label.sk-toggleable__label {background-color: #d4ebff;}#sk-container-id-5 input.sk-hidden--visually {border: 0;clip: rect(1px 1px 1px 1px);clip: rect(1px, 1px, 1px, 1px);height: 1px;margin: -1px;overflow: hidden;padding: 0;position: absolute;width: 1px;}#sk-container-id-5 div.sk-estimator {font-family: monospace;background-color: #f0f8ff;border: 1px dotted black;border-radius: 0.25em;box-sizing: border-box;margin-bottom: 0.5em;}#sk-container-id-5 div.sk-estimator:hover {background-color: #d4ebff;}#sk-container-id-5 div.sk-parallel-item::after {content: \"\";width: 100%;border-bottom: 1px solid gray;flex-grow: 1;}#sk-container-id-5 div.sk-label:hover label.sk-toggleable__label {background-color: #d4ebff;}#sk-container-id-5 div.sk-serial::before {content: \"\";position: absolute;border-left: 1px solid gray;box-sizing: border-box;top: 0;bottom: 0;left: 50%;z-index: 0;}#sk-container-id-5 div.sk-serial {display: flex;flex-direction: column;align-items: center;background-color: white;padding-right: 0.2em;padding-left: 0.2em;position: relative;}#sk-container-id-5 div.sk-item {position: relative;z-index: 1;}#sk-container-id-5 div.sk-parallel {display: flex;align-items: stretch;justify-content: center;background-color: white;position: relative;}#sk-container-id-5 div.sk-item::before, #sk-container-id-5 div.sk-parallel-item::before {content: \"\";position: absolute;border-left: 1px solid gray;box-sizing: border-box;top: 0;bottom: 0;left: 50%;z-index: -1;}#sk-container-id-5 div.sk-parallel-item {display: flex;flex-direction: column;z-index: 1;position: relative;background-color: white;}#sk-container-id-5 div.sk-parallel-item:first-child::after {align-self: flex-end;width: 50%;}#sk-container-id-5 div.sk-parallel-item:last-child::after {align-self: flex-start;width: 50%;}#sk-container-id-5 div.sk-parallel-item:only-child::after {width: 0;}#sk-container-id-5 div.sk-dashed-wrapped {border: 1px dashed gray;margin: 0 0.4em 0.5em 0.4em;box-sizing: border-box;padding-bottom: 0.4em;background-color: white;}#sk-container-id-5 div.sk-label label {font-family: monospace;font-weight: bold;display: inline-block;line-height: 1.2em;}#sk-container-id-5 div.sk-label-container {text-align: center;}#sk-container-id-5 div.sk-container {/* jupyter's `normalize.less` sets `[hidden] { display: none; }` but bootstrap.min.css set `[hidden] { display: none !important; }` so we also need the `!important` here to be able to override the default hidden behavior on the sphinx rendered scikit-learn.org. See: https://github.com/scikit-learn/scikit-learn/issues/21755 */display: inline-block !important;position: relative;}#sk-container-id-5 div.sk-text-repr-fallback {display: none;}</style><div id=\"sk-container-id-5\" class=\"sk-top-container\"><div class=\"sk-text-repr-fallback\"><pre>Lasso(alpha=0.0001)</pre><b>In a Jupyter environment, please rerun this cell to show the HTML representation or trust the notebook. <br />On GitHub, the HTML representation is unable to render, please try loading this page with nbviewer.org.</b></div><div class=\"sk-container\" hidden><div class=\"sk-item\"><div class=\"sk-estimator sk-toggleable\"><input class=\"sk-toggleable__control sk-hidden--visually\" id=\"sk-estimator-id-9\" type=\"checkbox\" checked><label for=\"sk-estimator-id-9\" class=\"sk-toggleable__label sk-toggleable__label-arrow\">Lasso</label><div class=\"sk-toggleable__content\"><pre>Lasso(alpha=0.0001)</pre></div></div></div></div></div>"
      ],
      "text/plain": [
       "Lasso(alpha=0.0001)"
      ]
     },
     "execution_count": 132,
     "metadata": {},
     "output_type": "execute_result"
    }
   ],
   "source": [
    "#Fitting Ridge model for alpha = 0.0001 and printing coefficients which have been penalised\n",
    "alpha = 0.0001\n",
    "\n",
    "lasso = Lasso(alpha=alpha)\n",
    "        \n",
    "lasso.fit(X_resampled, y_resampled) "
   ]
  },
  {
   "cell_type": "code",
   "execution_count": 133,
   "id": "e8ee8f33",
   "metadata": {},
   "outputs": [
    {
     "data": {
      "text/html": [
       "<div>\n",
       "<style scoped>\n",
       "    .dataframe tbody tr th:only-of-type {\n",
       "        vertical-align: middle;\n",
       "    }\n",
       "\n",
       "    .dataframe tbody tr th {\n",
       "        vertical-align: top;\n",
       "    }\n",
       "\n",
       "    .dataframe thead th {\n",
       "        text-align: right;\n",
       "    }\n",
       "</style>\n",
       "<table border=\"1\" class=\"dataframe\">\n",
       "  <thead>\n",
       "    <tr style=\"text-align: right;\">\n",
       "      <th></th>\n",
       "      <th>mean_fit_time</th>\n",
       "      <th>std_fit_time</th>\n",
       "      <th>mean_score_time</th>\n",
       "      <th>std_score_time</th>\n",
       "      <th>param_alpha</th>\n",
       "      <th>params</th>\n",
       "      <th>split0_test_score</th>\n",
       "      <th>split1_test_score</th>\n",
       "      <th>split2_test_score</th>\n",
       "      <th>split3_test_score</th>\n",
       "      <th>...</th>\n",
       "      <th>split2_train_score</th>\n",
       "      <th>split3_train_score</th>\n",
       "      <th>split4_train_score</th>\n",
       "      <th>split5_train_score</th>\n",
       "      <th>split6_train_score</th>\n",
       "      <th>split7_train_score</th>\n",
       "      <th>split8_train_score</th>\n",
       "      <th>split9_train_score</th>\n",
       "      <th>mean_train_score</th>\n",
       "      <th>std_train_score</th>\n",
       "    </tr>\n",
       "  </thead>\n",
       "  <tbody>\n",
       "    <tr>\n",
       "      <th>0</th>\n",
       "      <td>0.835331</td>\n",
       "      <td>0.160103</td>\n",
       "      <td>0.003733</td>\n",
       "      <td>0.000540</td>\n",
       "      <td>0.0001</td>\n",
       "      <td>{'alpha': 0.0001}</td>\n",
       "      <td>-0.341535</td>\n",
       "      <td>-0.344187</td>\n",
       "      <td>-0.341546</td>\n",
       "      <td>-0.331730</td>\n",
       "      <td>...</td>\n",
       "      <td>-0.292739</td>\n",
       "      <td>-0.294463</td>\n",
       "      <td>-0.293746</td>\n",
       "      <td>-0.299694</td>\n",
       "      <td>-0.300283</td>\n",
       "      <td>-0.300205</td>\n",
       "      <td>-0.300574</td>\n",
       "      <td>-0.299869</td>\n",
       "      <td>-0.296705</td>\n",
       "      <td>0.003470</td>\n",
       "    </tr>\n",
       "    <tr>\n",
       "      <th>1</th>\n",
       "      <td>0.057071</td>\n",
       "      <td>0.004028</td>\n",
       "      <td>0.003114</td>\n",
       "      <td>0.000308</td>\n",
       "      <td>0.0010</td>\n",
       "      <td>{'alpha': 0.001}</td>\n",
       "      <td>-0.377002</td>\n",
       "      <td>-0.380565</td>\n",
       "      <td>-0.374985</td>\n",
       "      <td>-0.367880</td>\n",
       "      <td>...</td>\n",
       "      <td>-0.327975</td>\n",
       "      <td>-0.329771</td>\n",
       "      <td>-0.328502</td>\n",
       "      <td>-0.338257</td>\n",
       "      <td>-0.341858</td>\n",
       "      <td>-0.342025</td>\n",
       "      <td>-0.342180</td>\n",
       "      <td>-0.341615</td>\n",
       "      <td>-0.334757</td>\n",
       "      <td>0.006544</td>\n",
       "    </tr>\n",
       "    <tr>\n",
       "      <th>2</th>\n",
       "      <td>0.033536</td>\n",
       "      <td>0.001318</td>\n",
       "      <td>0.002863</td>\n",
       "      <td>0.000287</td>\n",
       "      <td>0.0100</td>\n",
       "      <td>{'alpha': 0.01}</td>\n",
       "      <td>-0.521734</td>\n",
       "      <td>-0.520823</td>\n",
       "      <td>-0.523952</td>\n",
       "      <td>-0.520073</td>\n",
       "      <td>...</td>\n",
       "      <td>-0.479788</td>\n",
       "      <td>-0.479434</td>\n",
       "      <td>-0.480125</td>\n",
       "      <td>-0.483507</td>\n",
       "      <td>-0.478888</td>\n",
       "      <td>-0.478857</td>\n",
       "      <td>-0.479268</td>\n",
       "      <td>-0.478949</td>\n",
       "      <td>-0.479749</td>\n",
       "      <td>0.001310</td>\n",
       "    </tr>\n",
       "    <tr>\n",
       "      <th>3</th>\n",
       "      <td>0.030231</td>\n",
       "      <td>0.001730</td>\n",
       "      <td>0.002743</td>\n",
       "      <td>0.000281</td>\n",
       "      <td>0.0500</td>\n",
       "      <td>{'alpha': 0.05}</td>\n",
       "      <td>-0.538660</td>\n",
       "      <td>-0.538455</td>\n",
       "      <td>-0.539627</td>\n",
       "      <td>-0.538866</td>\n",
       "      <td>...</td>\n",
       "      <td>-0.495597</td>\n",
       "      <td>-0.495682</td>\n",
       "      <td>-0.495643</td>\n",
       "      <td>-0.499784</td>\n",
       "      <td>-0.493827</td>\n",
       "      <td>-0.493827</td>\n",
       "      <td>-0.493827</td>\n",
       "      <td>-0.493827</td>\n",
       "      <td>-0.495345</td>\n",
       "      <td>0.001716</td>\n",
       "    </tr>\n",
       "    <tr>\n",
       "      <th>4</th>\n",
       "      <td>0.030755</td>\n",
       "      <td>0.003257</td>\n",
       "      <td>0.002710</td>\n",
       "      <td>0.000253</td>\n",
       "      <td>0.1000</td>\n",
       "      <td>{'alpha': 0.1}</td>\n",
       "      <td>-0.538660</td>\n",
       "      <td>-0.538455</td>\n",
       "      <td>-0.539627</td>\n",
       "      <td>-0.538866</td>\n",
       "      <td>...</td>\n",
       "      <td>-0.495597</td>\n",
       "      <td>-0.495682</td>\n",
       "      <td>-0.495643</td>\n",
       "      <td>-0.499784</td>\n",
       "      <td>-0.493827</td>\n",
       "      <td>-0.493827</td>\n",
       "      <td>-0.493827</td>\n",
       "      <td>-0.493827</td>\n",
       "      <td>-0.495345</td>\n",
       "      <td>0.001716</td>\n",
       "    </tr>\n",
       "  </tbody>\n",
       "</table>\n",
       "<p>5 rows × 31 columns</p>\n",
       "</div>"
      ],
      "text/plain": [
       "   mean_fit_time  std_fit_time  mean_score_time  std_score_time  param_alpha  \\\n",
       "0       0.835331      0.160103         0.003733        0.000540       0.0001   \n",
       "1       0.057071      0.004028         0.003114        0.000308       0.0010   \n",
       "2       0.033536      0.001318         0.002863        0.000287       0.0100   \n",
       "3       0.030231      0.001730         0.002743        0.000281       0.0500   \n",
       "4       0.030755      0.003257         0.002710        0.000253       0.1000   \n",
       "\n",
       "              params  split0_test_score  split1_test_score  split2_test_score  \\\n",
       "0  {'alpha': 0.0001}          -0.341535          -0.344187          -0.341546   \n",
       "1   {'alpha': 0.001}          -0.377002          -0.380565          -0.374985   \n",
       "2    {'alpha': 0.01}          -0.521734          -0.520823          -0.523952   \n",
       "3    {'alpha': 0.05}          -0.538660          -0.538455          -0.539627   \n",
       "4     {'alpha': 0.1}          -0.538660          -0.538455          -0.539627   \n",
       "\n",
       "   split3_test_score  ...  split2_train_score  split3_train_score  \\\n",
       "0          -0.331730  ...           -0.292739           -0.294463   \n",
       "1          -0.367880  ...           -0.327975           -0.329771   \n",
       "2          -0.520073  ...           -0.479788           -0.479434   \n",
       "3          -0.538866  ...           -0.495597           -0.495682   \n",
       "4          -0.538866  ...           -0.495597           -0.495682   \n",
       "\n",
       "   split4_train_score  split5_train_score  split6_train_score  \\\n",
       "0           -0.293746           -0.299694           -0.300283   \n",
       "1           -0.328502           -0.338257           -0.341858   \n",
       "2           -0.480125           -0.483507           -0.478888   \n",
       "3           -0.495643           -0.499784           -0.493827   \n",
       "4           -0.495643           -0.499784           -0.493827   \n",
       "\n",
       "   split7_train_score  split8_train_score  split9_train_score  \\\n",
       "0           -0.300205           -0.300574           -0.299869   \n",
       "1           -0.342025           -0.342180           -0.341615   \n",
       "2           -0.478857           -0.479268           -0.478949   \n",
       "3           -0.493827           -0.493827           -0.493827   \n",
       "4           -0.493827           -0.493827           -0.493827   \n",
       "\n",
       "   mean_train_score  std_train_score  \n",
       "0         -0.296705         0.003470  \n",
       "1         -0.334757         0.006544  \n",
       "2         -0.479749         0.001310  \n",
       "3         -0.495345         0.001716  \n",
       "4         -0.495345         0.001716  \n",
       "\n",
       "[5 rows x 31 columns]"
      ]
     },
     "execution_count": 133,
     "metadata": {},
     "output_type": "execute_result"
    }
   ],
   "source": [
    "cv_result_r = pd.DataFrame(model_cv.cv_results_)\n",
    "cv_result_r['param_alpha'] = cv_result_r['param_alpha'].astype('float32')\n",
    "cv_result_r.head()"
   ]
  },
  {
   "cell_type": "code",
   "execution_count": 134,
   "id": "f88d9479",
   "metadata": {},
   "outputs": [
    {
     "data": {
      "image/png": "[encoded data removed]",
      "text/plain": [
       "<Figure size 1152x576 with 1 Axes>"
      ]
     },
     "metadata": {
      "needs_background": "light"
     },
     "output_type": "display_data"
    }
   ],
   "source": [
    "plt.figure(figsize=(16,8))\n",
    "plt.plot(cv_result_r['param_alpha'],cv_result_r['mean_train_score'])\n",
    "plt.plot(cv_result_r['param_alpha'],cv_result_r['mean_test_score'])\n",
    "plt.xscale('log')\n",
    "plt.ylabel('R2 Score')\n",
    "plt.xlabel('Alpha')\n",
    "plt.show()"
   ]
  },
  {
   "cell_type": "markdown",
   "id": "480ccee1",
   "metadata": {},
   "source": [
    "### Looking at the curve, as they are not converging it seems even Lasso model is not working well here."
   ]
  },
  {
   "cell_type": "markdown",
   "id": "5c3cda99",
   "metadata": {},
   "source": [
    "## Model 5. Tree models - Random Forest"
   ]
  },
  {
   "cell_type": "code",
   "execution_count": 135,
   "id": "830d72c3",
   "metadata": {},
   "outputs": [],
   "source": [
    "rf = RandomForestClassifier(random_state=42, n_jobs=-1)"
   ]
  },
  {
   "cell_type": "code",
   "execution_count": 136,
   "id": "54318c33",
   "metadata": {},
   "outputs": [],
   "source": [
    "params = {\n",
    "    'max_depth': [2,3,5,10,20],\n",
    "    'min_samples_leaf': [5,10,20,50,100,200],\n",
    "    'n_estimators': [10, 25, 50, 100]\n",
    "}"
   ]
  },
  {
   "cell_type": "code",
   "execution_count": 137,
   "id": "a9da6e3e",
   "metadata": {},
   "outputs": [],
   "source": [
    "grid_search = GridSearchCV(estimator=rf,\n",
    "                           param_grid=params,\n",
    "                           cv = 4,\n",
    "                           n_jobs=-1, verbose=1, scoring=\"accuracy\")"
   ]
  },
  {
   "cell_type": "code",
   "execution_count": 138,
   "id": "9315c81c",
   "metadata": {},
   "outputs": [
    {
     "name": "stdout",
     "output_type": "stream",
     "text": [
      "Fitting 4 folds for each of 120 candidates, totalling 480 fits\n",
      "CPU times: user 19 s, sys: 538 ms, total: 19.5 s\n",
      "Wall time: 4min 11s\n"
     ]
    },
    {
     "data": {
      "text/html": [
       "<style>#sk-container-id-6 {color: black;background-color: white;}#sk-container-id-6 pre{padding: 0;}#sk-container-id-6 div.sk-toggleable {background-color: white;}#sk-container-id-6 label.sk-toggleable__label {cursor: pointer;display: block;width: 100%;margin-bottom: 0;padding: 0.3em;box-sizing: border-box;text-align: center;}#sk-container-id-6 label.sk-toggleable__label-arrow:before {content: \"▸\";float: left;margin-right: 0.25em;color: #696969;}#sk-container-id-6 label.sk-toggleable__label-arrow:hover:before {color: black;}#sk-container-id-6 div.sk-estimator:hover label.sk-toggleable__label-arrow:before {color: black;}#sk-container-id-6 div.sk-toggleable__content {max-height: 0;max-width: 0;overflow: hidden;text-align: left;background-color: #f0f8ff;}#sk-container-id-6 div.sk-toggleable__content pre {margin: 0.2em;color: black;border-radius: 0.25em;background-color: #f0f8ff;}#sk-container-id-6 input.sk-toggleable__control:checked~div.sk-toggleable__content {max-height: 200px;max-width: 100%;overflow: auto;}#sk-container-id-6 input.sk-toggleable__control:checked~label.sk-toggleable__label-arrow:before {content: \"▾\";}#sk-container-id-6 div.sk-estimator input.sk-toggleable__control:checked~label.sk-toggleable__label {background-color: #d4ebff;}#sk-container-id-6 div.sk-label input.sk-toggleable__control:checked~label.sk-toggleable__label {background-color: #d4ebff;}#sk-container-id-6 input.sk-hidden--visually {border: 0;clip: rect(1px 1px 1px 1px);clip: rect(1px, 1px, 1px, 1px);height: 1px;margin: -1px;overflow: hidden;padding: 0;position: absolute;width: 1px;}#sk-container-id-6 div.sk-estimator {font-family: monospace;background-color: #f0f8ff;border: 1px dotted black;border-radius: 0.25em;box-sizing: border-box;margin-bottom: 0.5em;}#sk-container-id-6 div.sk-estimator:hover {background-color: #d4ebff;}#sk-container-id-6 div.sk-parallel-item::after {content: \"\";width: 100%;border-bottom: 1px solid gray;flex-grow: 1;}#sk-container-id-6 div.sk-label:hover label.sk-toggleable__label {background-color: #d4ebff;}#sk-container-id-6 div.sk-serial::before {content: \"\";position: absolute;border-left: 1px solid gray;box-sizing: border-box;top: 0;bottom: 0;left: 50%;z-index: 0;}#sk-container-id-6 div.sk-serial {display: flex;flex-direction: column;align-items: center;background-color: white;padding-right: 0.2em;padding-left: 0.2em;position: relative;}#sk-container-id-6 div.sk-item {position: relative;z-index: 1;}#sk-container-id-6 div.sk-parallel {display: flex;align-items: stretch;justify-content: center;background-color: white;position: relative;}#sk-container-id-6 div.sk-item::before, #sk-container-id-6 div.sk-parallel-item::before {content: \"\";position: absolute;border-left: 1px solid gray;box-sizing: border-box;top: 0;bottom: 0;left: 50%;z-index: -1;}#sk-container-id-6 div.sk-parallel-item {display: flex;flex-direction: column;z-index: 1;position: relative;background-color: white;}#sk-container-id-6 div.sk-parallel-item:first-child::after {align-self: flex-end;width: 50%;}#sk-container-id-6 div.sk-parallel-item:last-child::after {align-self: flex-start;width: 50%;}#sk-container-id-6 div.sk-parallel-item:only-child::after {width: 0;}#sk-container-id-6 div.sk-dashed-wrapped {border: 1px dashed gray;margin: 0 0.4em 0.5em 0.4em;box-sizing: border-box;padding-bottom: 0.4em;background-color: white;}#sk-container-id-6 div.sk-label label {font-family: monospace;font-weight: bold;display: inline-block;line-height: 1.2em;}#sk-container-id-6 div.sk-label-container {text-align: center;}#sk-container-id-6 div.sk-container {/* jupyter's `normalize.less` sets `[hidden] { display: none; }` but bootstrap.min.css set `[hidden] { display: none !important; }` so we also need the `!important` here to be able to override the default hidden behavior on the sphinx rendered scikit-learn.org. See: https://github.com/scikit-learn/scikit-learn/issues/21755 */display: inline-block !important;position: relative;}#sk-container-id-6 div.sk-text-repr-fallback {display: none;}</style><div id=\"sk-container-id-6\" class=\"sk-top-container\"><div class=\"sk-text-repr-fallback\"><pre>GridSearchCV(cv=4, estimator=RandomForestClassifier(n_jobs=-1, random_state=42),\n",
       "             n_jobs=-1,\n",
       "             param_grid={&#x27;max_depth&#x27;: [2, 3, 5, 10, 20],\n",
       "                         &#x27;min_samples_leaf&#x27;: [5, 10, 20, 50, 100, 200],\n",
       "                         &#x27;n_estimators&#x27;: [10, 25, 50, 100]},\n",
       "             scoring=&#x27;accuracy&#x27;, verbose=1)</pre><b>In a Jupyter environment, please rerun this cell to show the HTML representation or trust the notebook. <br />On GitHub, the HTML representation is unable to render, please try loading this page with nbviewer.org.</b></div><div class=\"sk-container\" hidden><div class=\"sk-item sk-dashed-wrapped\"><div class=\"sk-label-container\"><div class=\"sk-label sk-toggleable\"><input class=\"sk-toggleable__control sk-hidden--visually\" id=\"sk-estimator-id-10\" type=\"checkbox\" ><label for=\"sk-estimator-id-10\" class=\"sk-toggleable__label sk-toggleable__label-arrow\">GridSearchCV</label><div class=\"sk-toggleable__content\"><pre>GridSearchCV(cv=4, estimator=RandomForestClassifier(n_jobs=-1, random_state=42),\n",
       "             n_jobs=-1,\n",
       "             param_grid={&#x27;max_depth&#x27;: [2, 3, 5, 10, 20],\n",
       "                         &#x27;min_samples_leaf&#x27;: [5, 10, 20, 50, 100, 200],\n",
       "                         &#x27;n_estimators&#x27;: [10, 25, 50, 100]},\n",
       "             scoring=&#x27;accuracy&#x27;, verbose=1)</pre></div></div></div><div class=\"sk-parallel\"><div class=\"sk-parallel-item\"><div class=\"sk-item\"><div class=\"sk-label-container\"><div class=\"sk-label sk-toggleable\"><input class=\"sk-toggleable__control sk-hidden--visually\" id=\"sk-estimator-id-11\" type=\"checkbox\" ><label for=\"sk-estimator-id-11\" class=\"sk-toggleable__label sk-toggleable__label-arrow\">estimator: RandomForestClassifier</label><div class=\"sk-toggleable__content\"><pre>RandomForestClassifier(n_jobs=-1, random_state=42)</pre></div></div></div><div class=\"sk-serial\"><div class=\"sk-item\"><div class=\"sk-estimator sk-toggleable\"><input class=\"sk-toggleable__control sk-hidden--visually\" id=\"sk-estimator-id-12\" type=\"checkbox\" ><label for=\"sk-estimator-id-12\" class=\"sk-toggleable__label sk-toggleable__label-arrow\">RandomForestClassifier</label><div class=\"sk-toggleable__content\"><pre>RandomForestClassifier(n_jobs=-1, random_state=42)</pre></div></div></div></div></div></div></div></div></div></div>"
      ],
      "text/plain": [
       "GridSearchCV(cv=4, estimator=RandomForestClassifier(n_jobs=-1, random_state=42),\n",
       "             n_jobs=-1,\n",
       "             param_grid={'max_depth': [2, 3, 5, 10, 20],\n",
       "                         'min_samples_leaf': [5, 10, 20, 50, 100, 200],\n",
       "                         'n_estimators': [10, 25, 50, 100]},\n",
       "             scoring='accuracy', verbose=1)"
      ]
     },
     "execution_count": 138,
     "metadata": {},
     "output_type": "execute_result"
    }
   ],
   "source": [
    "%%time\n",
    "grid_search.fit(X_resampled, y_resampled)"
   ]
  },
  {
   "cell_type": "code",
   "execution_count": 139,
   "id": "1f06008f",
   "metadata": {},
   "outputs": [
    {
     "data": {
      "text/plain": [
       "0.9522205773501111"
      ]
     },
     "execution_count": 139,
     "metadata": {},
     "output_type": "execute_result"
    }
   ],
   "source": [
    "grid_search.best_score_"
   ]
  },
  {
   "cell_type": "code",
   "execution_count": 140,
   "id": "47596d79",
   "metadata": {},
   "outputs": [
    {
     "data": {
      "text/html": [
       "<style>#sk-container-id-7 {color: black;background-color: white;}#sk-container-id-7 pre{padding: 0;}#sk-container-id-7 div.sk-toggleable {background-color: white;}#sk-container-id-7 label.sk-toggleable__label {cursor: pointer;display: block;width: 100%;margin-bottom: 0;padding: 0.3em;box-sizing: border-box;text-align: center;}#sk-container-id-7 label.sk-toggleable__label-arrow:before {content: \"▸\";float: left;margin-right: 0.25em;color: #696969;}#sk-container-id-7 label.sk-toggleable__label-arrow:hover:before {color: black;}#sk-container-id-7 div.sk-estimator:hover label.sk-toggleable__label-arrow:before {color: black;}#sk-container-id-7 div.sk-toggleable__content {max-height: 0;max-width: 0;overflow: hidden;text-align: left;background-color: #f0f8ff;}#sk-container-id-7 div.sk-toggleable__content pre {margin: 0.2em;color: black;border-radius: 0.25em;background-color: #f0f8ff;}#sk-container-id-7 input.sk-toggleable__control:checked~div.sk-toggleable__content {max-height: 200px;max-width: 100%;overflow: auto;}#sk-container-id-7 input.sk-toggleable__control:checked~label.sk-toggleable__label-arrow:before {content: \"▾\";}#sk-container-id-7 div.sk-estimator input.sk-toggleable__control:checked~label.sk-toggleable__label {background-color: #d4ebff;}#sk-container-id-7 div.sk-label input.sk-toggleable__control:checked~label.sk-toggleable__label {background-color: #d4ebff;}#sk-container-id-7 input.sk-hidden--visually {border: 0;clip: rect(1px 1px 1px 1px);clip: rect(1px, 1px, 1px, 1px);height: 1px;margin: -1px;overflow: hidden;padding: 0;position: absolute;width: 1px;}#sk-container-id-7 div.sk-estimator {font-family: monospace;background-color: #f0f8ff;border: 1px dotted black;border-radius: 0.25em;box-sizing: border-box;margin-bottom: 0.5em;}#sk-container-id-7 div.sk-estimator:hover {background-color: #d4ebff;}#sk-container-id-7 div.sk-parallel-item::after {content: \"\";width: 100%;border-bottom: 1px solid gray;flex-grow: 1;}#sk-container-id-7 div.sk-label:hover label.sk-toggleable__label {background-color: #d4ebff;}#sk-container-id-7 div.sk-serial::before {content: \"\";position: absolute;border-left: 1px solid gray;box-sizing: border-box;top: 0;bottom: 0;left: 50%;z-index: 0;}#sk-container-id-7 div.sk-serial {display: flex;flex-direction: column;align-items: center;background-color: white;padding-right: 0.2em;padding-left: 0.2em;position: relative;}#sk-container-id-7 div.sk-item {position: relative;z-index: 1;}#sk-container-id-7 div.sk-parallel {display: flex;align-items: stretch;justify-content: center;background-color: white;position: relative;}#sk-container-id-7 div.sk-item::before, #sk-container-id-7 div.sk-parallel-item::before {content: \"\";position: absolute;border-left: 1px solid gray;box-sizing: border-box;top: 0;bottom: 0;left: 50%;z-index: -1;}#sk-container-id-7 div.sk-parallel-item {display: flex;flex-direction: column;z-index: 1;position: relative;background-color: white;}#sk-container-id-7 div.sk-parallel-item:first-child::after {align-self: flex-end;width: 50%;}#sk-container-id-7 div.sk-parallel-item:last-child::after {align-self: flex-start;width: 50%;}#sk-container-id-7 div.sk-parallel-item:only-child::after {width: 0;}#sk-container-id-7 div.sk-dashed-wrapped {border: 1px dashed gray;margin: 0 0.4em 0.5em 0.4em;box-sizing: border-box;padding-bottom: 0.4em;background-color: white;}#sk-container-id-7 div.sk-label label {font-family: monospace;font-weight: bold;display: inline-block;line-height: 1.2em;}#sk-container-id-7 div.sk-label-container {text-align: center;}#sk-container-id-7 div.sk-container {/* jupyter's `normalize.less` sets `[hidden] { display: none; }` but bootstrap.min.css set `[hidden] { display: none !important; }` so we also need the `!important` here to be able to override the default hidden behavior on the sphinx rendered scikit-learn.org. See: https://github.com/scikit-learn/scikit-learn/issues/21755 */display: inline-block !important;position: relative;}#sk-container-id-7 div.sk-text-repr-fallback {display: none;}</style><div id=\"sk-container-id-7\" class=\"sk-top-container\"><div class=\"sk-text-repr-fallback\"><pre>RandomForestClassifier(max_depth=20, min_samples_leaf=5, n_estimators=50,\n",
       "                       n_jobs=-1, random_state=42)</pre><b>In a Jupyter environment, please rerun this cell to show the HTML representation or trust the notebook. <br />On GitHub, the HTML representation is unable to render, please try loading this page with nbviewer.org.</b></div><div class=\"sk-container\" hidden><div class=\"sk-item\"><div class=\"sk-estimator sk-toggleable\"><input class=\"sk-toggleable__control sk-hidden--visually\" id=\"sk-estimator-id-13\" type=\"checkbox\" checked><label for=\"sk-estimator-id-13\" class=\"sk-toggleable__label sk-toggleable__label-arrow\">RandomForestClassifier</label><div class=\"sk-toggleable__content\"><pre>RandomForestClassifier(max_depth=20, min_samples_leaf=5, n_estimators=50,\n",
       "                       n_jobs=-1, random_state=42)</pre></div></div></div></div></div>"
      ],
      "text/plain": [
       "RandomForestClassifier(max_depth=20, min_samples_leaf=5, n_estimators=50,\n",
       "                       n_jobs=-1, random_state=42)"
      ]
     },
     "execution_count": 140,
     "metadata": {},
     "output_type": "execute_result"
    }
   ],
   "source": [
    "rf_best = grid_search.best_estimator_\n",
    "rf_best"
   ]
  },
  {
   "cell_type": "code",
   "execution_count": 141,
   "id": "194ce475",
   "metadata": {},
   "outputs": [
    {
     "data": {
      "image/png": "[encoded data removed]",
      "text/plain": [
       "<Figure size 432x288 with 1 Axes>"
      ]
     },
     "metadata": {
      "needs_background": "light"
     },
     "output_type": "display_data"
    }
   ],
   "source": [
    "plot_roc_curve(rf_best, X_resampled, y_resampled)\n",
    "plt.show()"
   ]
  },
  {
   "cell_type": "code",
   "execution_count": 142,
   "id": "528c80dc",
   "metadata": {},
   "outputs": [
    {
     "data": {
      "text/plain": [
       "array([2.63175033e-03, 4.02326175e-03, 2.04397787e-02, 4.23598338e-03,\n",
       "       4.39347934e-03, 8.01575404e-03, 2.32320304e-03, 3.26528740e-03,\n",
       "       5.33360342e-03, 1.80171516e-03, 5.83221515e-03, 4.90951970e-02,\n",
       "       2.24446022e-03, 7.57307184e-03, 4.94738094e-02, 2.70705402e-03,\n",
       "       2.95874741e-03, 7.47429105e-03, 2.34827677e-03, 2.95096351e-03,\n",
       "       1.42901082e-02, 1.42694701e-03, 2.04258083e-03, 1.44586756e-03,\n",
       "       9.67870878e-04, 1.67288830e-03, 1.53322671e-03, 2.61594174e-03,\n",
       "       5.68472955e-03, 3.42436120e-02, 4.48757917e-03, 6.20121607e-03,\n",
       "       4.33933181e-03, 4.81308236e-03, 4.03679236e-03, 9.72722115e-03,\n",
       "       8.33438294e-04, 4.31931406e-04, 6.34938425e-04, 5.85594537e-03,\n",
       "       6.19603345e-03, 6.65330281e-03, 8.24159030e-04, 9.65039377e-04,\n",
       "       9.15594121e-04, 2.79570099e-03, 4.51340265e-03, 2.63933806e-03,\n",
       "       1.65379902e-03, 2.07366131e-05, 5.73246438e-05, 3.01988565e-03,\n",
       "       3.94605156e-03, 2.26119244e-02, 2.72199257e-03, 3.00718075e-03,\n",
       "       2.04496974e-02, 3.09431301e-03, 3.34426812e-03, 4.85209938e-02,\n",
       "       2.61822125e-03, 1.96508208e-03, 1.53498560e-02, 2.88599531e-03,\n",
       "       2.90333692e-03, 4.07302175e-02, 4.84771427e-03, 5.50824556e-03,\n",
       "       2.61906807e-03, 3.96047815e-03, 6.31329485e-03, 9.52468073e-03,\n",
       "       1.00568808e-03, 1.06231557e-03, 1.37886113e-03, 3.47689369e-03,\n",
       "       3.09625483e-03, 1.33155020e-02, 3.67500045e-03, 7.03508199e-03,\n",
       "       8.86568063e-02, 1.78339843e-03, 5.45437390e-04, 2.16935544e-03,\n",
       "       2.05988636e-03, 1.38301926e-03, 1.00045656e-03, 1.62891309e-03,\n",
       "       1.36430189e-03, 1.30775200e-03, 3.94006270e-03, 4.40106791e-03,\n",
       "       2.00149971e-02, 2.76967496e-03, 4.29971781e-03, 3.94013374e-02,\n",
       "       2.71110788e-03, 3.94255688e-03, 1.88418604e-02, 4.30332012e-03,\n",
       "       3.96528549e-03, 3.93916039e-02, 2.21796631e-03, 3.00151932e-03,\n",
       "       4.90889238e-02, 2.89340825e-03, 2.09436368e-03, 3.84134928e-02,\n",
       "       2.51073896e-03, 2.88485899e-03, 2.19852040e-02, 2.22121786e-03,\n",
       "       2.95720365e-03, 1.25002717e-02, 1.74248456e-03, 2.14951289e-03,\n",
       "       3.63123579e-03, 2.65479199e-04, 6.44485913e-04, 3.00904176e-03,\n",
       "       1.35715825e-03, 1.25790704e-03, 6.81861840e-03, 1.17604128e-03,\n",
       "       1.63350201e-03, 2.37633422e-03, 1.19954400e-03, 8.09128346e-04,\n",
       "       5.20645273e-04, 4.30716528e-03, 3.51768953e-03, 1.48314959e-03,\n",
       "       1.82010937e-03])"
      ]
     },
     "execution_count": 142,
     "metadata": {},
     "output_type": "execute_result"
    }
   ],
   "source": [
    "rf_best.feature_importances_"
   ]
  },
  {
   "cell_type": "code",
   "execution_count": 143,
   "id": "0aa8140c",
   "metadata": {},
   "outputs": [],
   "source": [
    "imp_df = pd.DataFrame({\n",
    "    \"Varname\": X_train.columns,\n",
    "    \"Imp\": rf_best.feature_importances_\n",
    "})"
   ]
  },
  {
   "cell_type": "code",
   "execution_count": 144,
   "id": "45aadc5d",
   "metadata": {},
   "outputs": [
    {
     "data": {
      "text/html": [
       "<div>\n",
       "<style scoped>\n",
       "    .dataframe tbody tr th:only-of-type {\n",
       "        vertical-align: middle;\n",
       "    }\n",
       "\n",
       "    .dataframe tbody tr th {\n",
       "        vertical-align: top;\n",
       "    }\n",
       "\n",
       "    .dataframe thead th {\n",
       "        text-align: right;\n",
       "    }\n",
       "</style>\n",
       "<table border=\"1\" class=\"dataframe\">\n",
       "  <thead>\n",
       "    <tr style=\"text-align: right;\">\n",
       "      <th></th>\n",
       "      <th>Varname</th>\n",
       "      <th>Imp</th>\n",
       "    </tr>\n",
       "  </thead>\n",
       "  <tbody>\n",
       "    <tr>\n",
       "      <th>80</th>\n",
       "      <td>total_ic_mou_8</td>\n",
       "      <td>0.088657</td>\n",
       "    </tr>\n",
       "    <tr>\n",
       "      <th>14</th>\n",
       "      <td>roam_og_mou_8</td>\n",
       "      <td>0.049474</td>\n",
       "    </tr>\n",
       "    <tr>\n",
       "      <th>11</th>\n",
       "      <td>roam_ic_mou_8</td>\n",
       "      <td>0.049095</td>\n",
       "    </tr>\n",
       "    <tr>\n",
       "      <th>104</th>\n",
       "      <td>total_rech_data_8</td>\n",
       "      <td>0.049089</td>\n",
       "    </tr>\n",
       "    <tr>\n",
       "      <th>59</th>\n",
       "      <td>loc_ic_t2m_mou_8</td>\n",
       "      <td>0.048521</td>\n",
       "    </tr>\n",
       "    <tr>\n",
       "      <th>65</th>\n",
       "      <td>loc_ic_mou_8</td>\n",
       "      <td>0.040730</td>\n",
       "    </tr>\n",
       "    <tr>\n",
       "      <th>95</th>\n",
       "      <td>total_rech_amt_8</td>\n",
       "      <td>0.039401</td>\n",
       "    </tr>\n",
       "    <tr>\n",
       "      <th>101</th>\n",
       "      <td>last_day_rch_amt_8</td>\n",
       "      <td>0.039392</td>\n",
       "    </tr>\n",
       "    <tr>\n",
       "      <th>107</th>\n",
       "      <td>max_rech_data_8</td>\n",
       "      <td>0.038413</td>\n",
       "    </tr>\n",
       "    <tr>\n",
       "      <th>29</th>\n",
       "      <td>loc_og_mou_8</td>\n",
       "      <td>0.034244</td>\n",
       "    </tr>\n",
       "  </tbody>\n",
       "</table>\n",
       "</div>"
      ],
      "text/plain": [
       "                Varname       Imp\n",
       "80       total_ic_mou_8  0.088657\n",
       "14        roam_og_mou_8  0.049474\n",
       "11        roam_ic_mou_8  0.049095\n",
       "104   total_rech_data_8  0.049089\n",
       "59     loc_ic_t2m_mou_8  0.048521\n",
       "65         loc_ic_mou_8  0.040730\n",
       "95     total_rech_amt_8  0.039401\n",
       "101  last_day_rch_amt_8  0.039392\n",
       "107     max_rech_data_8  0.038413\n",
       "29         loc_og_mou_8  0.034244"
      ]
     },
     "execution_count": 144,
     "metadata": {},
     "output_type": "execute_result"
    }
   ],
   "source": [
    "imp_df.sort_values(by=\"Imp\", ascending=False).head(10)"
   ]
  },
  {
   "cell_type": "markdown",
   "id": "4065b020",
   "metadata": {},
   "source": [
    "### Let's apply Random Forest on test data"
   ]
  },
  {
   "cell_type": "code",
   "execution_count": 145,
   "id": "435a503a",
   "metadata": {},
   "outputs": [],
   "source": [
    "y_pred_rf = rf_best.predict(telecom_test_df_ori)"
   ]
  },
  {
   "cell_type": "code",
   "execution_count": 146,
   "id": "25d0c6a6",
   "metadata": {},
   "outputs": [
    {
     "data": {
      "text/html": [
       "<div>\n",
       "<style scoped>\n",
       "    .dataframe tbody tr th:only-of-type {\n",
       "        vertical-align: middle;\n",
       "    }\n",
       "\n",
       "    .dataframe tbody tr th {\n",
       "        vertical-align: top;\n",
       "    }\n",
       "\n",
       "    .dataframe thead th {\n",
       "        text-align: right;\n",
       "    }\n",
       "</style>\n",
       "<table border=\"1\" class=\"dataframe\">\n",
       "  <thead>\n",
       "    <tr style=\"text-align: right;\">\n",
       "      <th></th>\n",
       "      <th>id</th>\n",
       "      <th>churn_probability</th>\n",
       "    </tr>\n",
       "  </thead>\n",
       "  <tbody>\n",
       "    <tr>\n",
       "      <th>0</th>\n",
       "      <td>69999</td>\n",
       "      <td>0</td>\n",
       "    </tr>\n",
       "    <tr>\n",
       "      <th>1</th>\n",
       "      <td>70000</td>\n",
       "      <td>0</td>\n",
       "    </tr>\n",
       "    <tr>\n",
       "      <th>2</th>\n",
       "      <td>70001</td>\n",
       "      <td>1</td>\n",
       "    </tr>\n",
       "    <tr>\n",
       "      <th>3</th>\n",
       "      <td>70002</td>\n",
       "      <td>0</td>\n",
       "    </tr>\n",
       "    <tr>\n",
       "      <th>4</th>\n",
       "      <td>70003</td>\n",
       "      <td>0</td>\n",
       "    </tr>\n",
       "  </tbody>\n",
       "</table>\n",
       "</div>"
      ],
      "text/plain": [
       "      id  churn_probability\n",
       "0  69999                  0\n",
       "1  70000                  0\n",
       "2  70001                  1\n",
       "3  70002                  0\n",
       "4  70003                  0"
      ]
     },
     "execution_count": 146,
     "metadata": {},
     "output_type": "execute_result"
    }
   ],
   "source": [
    "telecom_test_sol_df.head()"
   ]
  },
  {
   "cell_type": "code",
   "execution_count": 147,
   "id": "d37bcc5c",
   "metadata": {},
   "outputs": [],
   "source": [
    "confusion = metrics.confusion_matrix(telecom_test_sol_df.churn_probability, y_pred_rf)"
   ]
  },
  {
   "cell_type": "code",
   "execution_count": 148,
   "id": "e07be81d",
   "metadata": {},
   "outputs": [
    {
     "data": {
      "text/plain": [
       "<sklearn.metrics._plot.roc_curve.RocCurveDisplay at 0x7fa8dc24b2e0>"
      ]
     },
     "execution_count": 148,
     "metadata": {},
     "output_type": "execute_result"
    },
    {
     "data": {
      "image/png": "[encoded data removed]",
      "text/plain": [
       "<Figure size 432x288 with 1 Axes>"
      ]
     },
     "metadata": {
      "needs_background": "light"
     },
     "output_type": "display_data"
    }
   ],
   "source": [
    "plot_roc_curve(rf_best, telecom_test_df_ori, y_pred_rf)"
   ]
  },
  {
   "cell_type": "code",
   "execution_count": 149,
   "id": "99b54701",
   "metadata": {},
   "outputs": [
    {
     "name": "stdout",
     "output_type": "stream",
     "text": [
      "confusion matrix: \n",
      "[[25135  1806]\n",
      " [  782  2277]]\n",
      "Accuracy:  0.9137333333333333\n",
      "Precision:  0.5576781778104335\n",
      "Recall:  0.7443609022556391\n",
      "F1_score:  0.6376365163819658\n"
     ]
    }
   ],
   "source": [
    "print('confusion matrix: ')\n",
    "print(confusion)\n",
    "TP = confusion[1, 1]\n",
    "TN = confusion[0, 0]\n",
    "FP = confusion[0, 1]\n",
    "FN = confusion[1, 0]\n",
    "accuracy = (TN+TP)/(TN+TP+FN+FP)\n",
    "print('Accuracy: ', accuracy)\n",
    "precision = TP / (TP+FP)\n",
    "print('Precision: ', precision)\n",
    "recall = TP / (TP+FN)\n",
    "print('Recall: ', recall)\n",
    "f1_score = 2*precision*recall/(precision+recall)\n",
    "print('F1_score: ', f1_score)"
   ]
  },
  {
   "cell_type": "code",
   "execution_count": 150,
   "id": "ba7a343c",
   "metadata": {},
   "outputs": [],
   "source": [
    "metrics_dict['RandomForest_test'] = {\n",
    "                           'Accuracy': accuracy, \n",
    "                           'Precision':precision, \n",
    "                           'Recall': recall, \n",
    "                           'F1 Score': f1_score, \n",
    "                          }"
   ]
  },
  {
   "cell_type": "code",
   "execution_count": 151,
   "id": "3d90535b",
   "metadata": {},
   "outputs": [
    {
     "data": {
      "text/plain": [
       "{'Logistic_rfe_test': {'Accuracy': 0.8119333333333333,\n",
       "  'Precision': 0.335582431572247,\n",
       "  'Recall': 0.8617195161817588,\n",
       "  'F1 Score': 0.4830492944841488},\n",
       " 'Logistic_pca_test': {'Accuracy': 0.6912,\n",
       "  'Precision': 0.2321968062149331,\n",
       "  'Recall': 0.8793723439032364,\n",
       "  'F1 Score': 0.36738596012018576},\n",
       " 'RandomForest_test': {'Accuracy': 0.9137333333333333,\n",
       "  'Precision': 0.5576781778104335,\n",
       "  'Recall': 0.7443609022556391,\n",
       "  'F1 Score': 0.6376365163819658}}"
      ]
     },
     "execution_count": 151,
     "metadata": {},
     "output_type": "execute_result"
    }
   ],
   "source": [
    "metrics_dict"
   ]
  },
  {
   "cell_type": "markdown",
   "id": "374b84b1",
   "metadata": {},
   "source": [
    "## Lets check XGBoost model as well"
   ]
  },
  {
   "cell_type": "code",
   "execution_count": 152,
   "id": "8d525727",
   "metadata": {},
   "outputs": [],
   "source": [
    "xgb_cfl = xgb.XGBClassifier(n_jobs=-1, objective='binary:logistic')"
   ]
  },
  {
   "cell_type": "code",
   "execution_count": 153,
   "id": "d24d568e",
   "metadata": {},
   "outputs": [
    {
     "data": {
      "text/plain": [
       "{'objective': 'binary:logistic',\n",
       " 'use_label_encoder': False,\n",
       " 'base_score': None,\n",
       " 'booster': None,\n",
       " 'callbacks': None,\n",
       " 'colsample_bylevel': None,\n",
       " 'colsample_bynode': None,\n",
       " 'colsample_bytree': None,\n",
       " 'early_stopping_rounds': None,\n",
       " 'enable_categorical': False,\n",
       " 'eval_metric': None,\n",
       " 'gamma': None,\n",
       " 'gpu_id': None,\n",
       " 'grow_policy': None,\n",
       " 'importance_type': None,\n",
       " 'interaction_constraints': None,\n",
       " 'learning_rate': None,\n",
       " 'max_bin': None,\n",
       " 'max_cat_to_onehot': None,\n",
       " 'max_delta_step': None,\n",
       " 'max_depth': None,\n",
       " 'max_leaves': None,\n",
       " 'min_child_weight': None,\n",
       " 'missing': nan,\n",
       " 'monotone_constraints': None,\n",
       " 'n_estimators': 100,\n",
       " 'n_jobs': -1,\n",
       " 'num_parallel_tree': None,\n",
       " 'predictor': None,\n",
       " 'random_state': None,\n",
       " 'reg_alpha': None,\n",
       " 'reg_lambda': None,\n",
       " 'sampling_method': None,\n",
       " 'scale_pos_weight': None,\n",
       " 'subsample': None,\n",
       " 'tree_method': None,\n",
       " 'validate_parameters': None,\n",
       " 'verbosity': None}"
      ]
     },
     "execution_count": 153,
     "metadata": {},
     "output_type": "execute_result"
    }
   ],
   "source": [
    "xgb_cfl.get_params()"
   ]
  },
  {
   "cell_type": "code",
   "execution_count": 154,
   "id": "1612a219",
   "metadata": {},
   "outputs": [],
   "source": [
    "# Fit the model to our train and target\n",
    "xgb_cfl.fit(X_resampled, y_resampled)  # default \n",
    "# Get our predictions\n",
    "xgb_predictions = xgb_cfl.predict(telecom_test_df_ori)"
   ]
  },
  {
   "cell_type": "code",
   "execution_count": 182,
   "id": "114fdc4c",
   "metadata": {},
   "outputs": [
    {
     "data": {
      "text/plain": [
       "array([0, 0, 1, ..., 0, 0, 0])"
      ]
     },
     "execution_count": 182,
     "metadata": {},
     "output_type": "execute_result"
    }
   ],
   "source": [
    "xgb_predictions # this the value for Kaggle"
   ]
  },
  {
   "cell_type": "code",
   "execution_count": 155,
   "id": "58ac27e4",
   "metadata": {},
   "outputs": [
    {
     "data": {
      "text/plain": [
       "array([[0.9964586 , 0.00354138],\n",
       "       [0.9965225 , 0.00347751],\n",
       "       [0.6521503 , 0.34784973],\n",
       "       ...,\n",
       "       [0.98667556, 0.01332443],\n",
       "       [0.9499757 , 0.05002425],\n",
       "       [0.99456793, 0.00543207]], dtype=float32)"
      ]
     },
     "execution_count": 155,
     "metadata": {},
     "output_type": "execute_result"
    }
   ],
   "source": [
    "xgb_predictions_prob = xgb_cfl.predict_proba(telecom_test_df_ori)\n",
    "xgb_predictions_prob"
   ]
  },
  {
   "cell_type": "code",
   "execution_count": 156,
   "id": "c99a9f48",
   "metadata": {},
   "outputs": [
    {
     "data": {
      "text/plain": [
       "(30000, 2)"
      ]
     },
     "execution_count": 156,
     "metadata": {},
     "output_type": "execute_result"
    }
   ],
   "source": [
    "xgb_predictions_prob.shape"
   ]
  },
  {
   "cell_type": "code",
   "execution_count": 157,
   "id": "18f20ce7",
   "metadata": {},
   "outputs": [
    {
     "data": {
      "text/plain": [
       "array([0.9964586 , 0.00354138, 0.9965225 , ..., 0.05002425, 0.99456793,\n",
       "       0.00543207], dtype=float32)"
      ]
     },
     "execution_count": 157,
     "metadata": {},
     "output_type": "execute_result"
    }
   ],
   "source": [
    "xgb_predictions_prob.reshape(-1, )"
   ]
  },
  {
   "cell_type": "code",
   "execution_count": 158,
   "id": "2c8e40e1",
   "metadata": {},
   "outputs": [
    {
     "data": {
      "text/plain": [
       "30000"
      ]
     },
     "execution_count": 158,
     "metadata": {},
     "output_type": "execute_result"
    }
   ],
   "source": [
    "len(xgb_predictions)"
   ]
  },
  {
   "cell_type": "code",
   "execution_count": 159,
   "id": "222e7064",
   "metadata": {},
   "outputs": [
    {
     "data": {
      "text/plain": [
       "0.9326666666666666"
      ]
     },
     "execution_count": 159,
     "metadata": {},
     "output_type": "execute_result"
    }
   ],
   "source": [
    "accuracy_score(telecom_test_sol_df.churn_probability, xgb_predictions)"
   ]
  },
  {
   "cell_type": "markdown",
   "id": "8aa41816",
   "metadata": {},
   "source": [
    "### we see 93.26% accuracy score with default values of XGBoost."
   ]
  },
  {
   "cell_type": "code",
   "execution_count": 160,
   "id": "857a211e",
   "metadata": {},
   "outputs": [],
   "source": [
    "confusion = metrics.confusion_matrix(telecom_test_sol_df.churn_probability, xgb_predictions)"
   ]
  },
  {
   "cell_type": "code",
   "execution_count": 161,
   "id": "63083bad",
   "metadata": {},
   "outputs": [
    {
     "name": "stdout",
     "output_type": "stream",
     "text": [
      "confusion matrix: \n",
      "[[26040   901]\n",
      " [ 1119  1940]]\n",
      "Accuracy:  0.9326666666666666\n",
      "Precision:  0.6828581485392468\n",
      "Recall:  0.6341941811049363\n",
      "F1_score:  0.6576271186440679\n"
     ]
    }
   ],
   "source": [
    "print('confusion matrix: ')\n",
    "print(confusion)\n",
    "TP = confusion[1, 1]\n",
    "TN = confusion[0, 0]\n",
    "FP = confusion[0, 1]\n",
    "FN = confusion[1, 0]\n",
    "accuracy = (TN+TP)/(TN+TP+FN+FP)\n",
    "print('Accuracy: ', accuracy)\n",
    "precision = TP / (TP+FP)\n",
    "print('Precision: ', precision)\n",
    "recall = TP / (TP+FN)\n",
    "print('Recall: ', recall)\n",
    "f1_score = 2*precision*recall/(precision+recall)\n",
    "print('F1_score: ', f1_score)"
   ]
  },
  {
   "cell_type": "markdown",
   "id": "82077c89",
   "metadata": {},
   "source": [
    "### HPT - Random Search for XGBoost"
   ]
  },
  {
   "cell_type": "code",
   "execution_count": 162,
   "id": "a807fbab",
   "metadata": {},
   "outputs": [],
   "source": [
    "# A parameter grid for XGBoost\n",
    "params = {\n",
    "        'n_estimators' : [100, 200, 500, 750], # no of trees \n",
    "        'learning_rate' : [0.01, 0.02, 0.05, 0.1, 0.25],  # eta\n",
    "        'min_child_weight': [1, 5, 7, 10],\n",
    "        'gamma': [0.1, 0.5, 1, 1.5, 5],\n",
    "        'subsample': [0.6, 0.8, 1.0],\n",
    "        'colsample_bytree': [0.6, 0.8, 1.0],\n",
    "        'max_depth': [3, 4, 5, 10]\n",
    "        }\n",
    "\n",
    "folds = 5\n",
    "param_comb = 10\n",
    "random_search = RandomizedSearchCV(xgb_cfl, param_distributions=params, n_iter=param_comb, scoring='accuracy', n_jobs=-1, cv=folds, verbose=3, random_state=42)"
   ]
  },
  {
   "cell_type": "code",
   "execution_count": 163,
   "id": "4e290a3d",
   "metadata": {},
   "outputs": [
    {
     "name": "stdout",
     "output_type": "stream",
     "text": [
      "Fitting 5 folds for each of 10 candidates, totalling 50 fits\n",
      "[CV 3/5] END colsample_bytree=0.8, gamma=1, learning_rate=0.05, max_depth=10, min_child_weight=5, n_estimators=750, subsample=0.8;, score=0.980 total time=18.9min\n",
      "[CV 3/5] END colsample_bytree=0.8, gamma=0.5, learning_rate=0.05, max_depth=5, min_child_weight=7, n_estimators=100, subsample=0.8;, score=0.949 total time= 1.9min\n",
      "[CV 2/5] END colsample_bytree=0.8, gamma=1, learning_rate=0.05, max_depth=10, min_child_weight=5, n_estimators=750, subsample=0.8;, score=0.981 total time=18.9min\n",
      "[CV 4/5] END colsample_bytree=0.8, gamma=0.5, learning_rate=0.05, max_depth=5, min_child_weight=7, n_estimators=100, subsample=0.8;, score=0.958 total time= 1.9min\n",
      "[CV 5/5] END colsample_bytree=0.8, gamma=1, learning_rate=0.05, max_depth=10, min_child_weight=5, n_estimators=750, subsample=0.8;, score=0.983 total time=19.0min\n",
      "[CV 5/5] END colsample_bytree=0.8, gamma=0.5, learning_rate=0.05, max_depth=5, min_child_weight=7, n_estimators=100, subsample=0.8;, score=0.951 total time= 1.9min\n"
     ]
    },
    {
     "data": {
      "text/html": [
       "<style>#sk-container-id-8 {color: black;background-color: white;}#sk-container-id-8 pre{padding: 0;}#sk-container-id-8 div.sk-toggleable {background-color: white;}#sk-container-id-8 label.sk-toggleable__label {cursor: pointer;display: block;width: 100%;margin-bottom: 0;padding: 0.3em;box-sizing: border-box;text-align: center;}#sk-container-id-8 label.sk-toggleable__label-arrow:before {content: \"▸\";float: left;margin-right: 0.25em;color: #696969;}#sk-container-id-8 label.sk-toggleable__label-arrow:hover:before {color: black;}#sk-container-id-8 div.sk-estimator:hover label.sk-toggleable__label-arrow:before {color: black;}#sk-container-id-8 div.sk-toggleable__content {max-height: 0;max-width: 0;overflow: hidden;text-align: left;background-color: #f0f8ff;}#sk-container-id-8 div.sk-toggleable__content pre {margin: 0.2em;color: black;border-radius: 0.25em;background-color: #f0f8ff;}#sk-container-id-8 input.sk-toggleable__control:checked~div.sk-toggleable__content {max-height: 200px;max-width: 100%;overflow: auto;}#sk-container-id-8 input.sk-toggleable__control:checked~label.sk-toggleable__label-arrow:before {content: \"▾\";}#sk-container-id-8 div.sk-estimator input.sk-toggleable__control:checked~label.sk-toggleable__label {background-color: #d4ebff;}#sk-container-id-8 div.sk-label input.sk-toggleable__control:checked~label.sk-toggleable__label {background-color: #d4ebff;}#sk-container-id-8 input.sk-hidden--visually {border: 0;clip: rect(1px 1px 1px 1px);clip: rect(1px, 1px, 1px, 1px);height: 1px;margin: -1px;overflow: hidden;padding: 0;position: absolute;width: 1px;}#sk-container-id-8 div.sk-estimator {font-family: monospace;background-color: #f0f8ff;border: 1px dotted black;border-radius: 0.25em;box-sizing: border-box;margin-bottom: 0.5em;}#sk-container-id-8 div.sk-estimator:hover {background-color: #d4ebff;}#sk-container-id-8 div.sk-parallel-item::after {content: \"\";width: 100%;border-bottom: 1px solid gray;flex-grow: 1;}#sk-container-id-8 div.sk-label:hover label.sk-toggleable__label {background-color: #d4ebff;}#sk-container-id-8 div.sk-serial::before {content: \"\";position: absolute;border-left: 1px solid gray;box-sizing: border-box;top: 0;bottom: 0;left: 50%;z-index: 0;}#sk-container-id-8 div.sk-serial {display: flex;flex-direction: column;align-items: center;background-color: white;padding-right: 0.2em;padding-left: 0.2em;position: relative;}#sk-container-id-8 div.sk-item {position: relative;z-index: 1;}#sk-container-id-8 div.sk-parallel {display: flex;align-items: stretch;justify-content: center;background-color: white;position: relative;}#sk-container-id-8 div.sk-item::before, #sk-container-id-8 div.sk-parallel-item::before {content: \"\";position: absolute;border-left: 1px solid gray;box-sizing: border-box;top: 0;bottom: 0;left: 50%;z-index: -1;}#sk-container-id-8 div.sk-parallel-item {display: flex;flex-direction: column;z-index: 1;position: relative;background-color: white;}#sk-container-id-8 div.sk-parallel-item:first-child::after {align-self: flex-end;width: 50%;}#sk-container-id-8 div.sk-parallel-item:last-child::after {align-self: flex-start;width: 50%;}#sk-container-id-8 div.sk-parallel-item:only-child::after {width: 0;}#sk-container-id-8 div.sk-dashed-wrapped {border: 1px dashed gray;margin: 0 0.4em 0.5em 0.4em;box-sizing: border-box;padding-bottom: 0.4em;background-color: white;}#sk-container-id-8 div.sk-label label {font-family: monospace;font-weight: bold;display: inline-block;line-height: 1.2em;}#sk-container-id-8 div.sk-label-container {text-align: center;}#sk-container-id-8 div.sk-container {/* jupyter's `normalize.less` sets `[hidden] { display: none; }` but bootstrap.min.css set `[hidden] { display: none !important; }` so we also need the `!important` here to be able to override the default hidden behavior on the sphinx rendered scikit-learn.org. See: https://github.com/scikit-learn/scikit-learn/issues/21755 */display: inline-block !important;position: relative;}#sk-container-id-8 div.sk-text-repr-fallback {display: none;}</style><div id=\"sk-container-id-8\" class=\"sk-top-container\"><div class=\"sk-text-repr-fallback\"><pre>RandomizedSearchCV(cv=5,\n",
       "                   estimator=XGBClassifier(base_score=0.5, booster=&#x27;gbtree&#x27;,\n",
       "                                           callbacks=None, colsample_bylevel=1,\n",
       "                                           colsample_bynode=1,\n",
       "                                           colsample_bytree=1,\n",
       "                                           early_stopping_rounds=None,\n",
       "                                           enable_categorical=False,\n",
       "                                           eval_metric=None, gamma=0, gpu_id=-1,\n",
       "                                           grow_policy=&#x27;depthwise&#x27;,\n",
       "                                           importance_type=None,\n",
       "                                           interaction_constraints=&#x27;&#x27;,\n",
       "                                           learning_rate=0.300000012,\n",
       "                                           max_bin=256,...\n",
       "                                           predictor=&#x27;auto&#x27;, random_state=0,\n",
       "                                           reg_alpha=0, reg_lambda=1, ...),\n",
       "                   n_jobs=-1,\n",
       "                   param_distributions={&#x27;colsample_bytree&#x27;: [0.6, 0.8, 1.0],\n",
       "                                        &#x27;gamma&#x27;: [0.1, 0.5, 1, 1.5, 5],\n",
       "                                        &#x27;learning_rate&#x27;: [0.01, 0.02, 0.05, 0.1,\n",
       "                                                          0.25],\n",
       "                                        &#x27;max_depth&#x27;: [3, 4, 5, 10],\n",
       "                                        &#x27;min_child_weight&#x27;: [1, 5, 7, 10],\n",
       "                                        &#x27;n_estimators&#x27;: [100, 200, 500, 750],\n",
       "                                        &#x27;subsample&#x27;: [0.6, 0.8, 1.0]},\n",
       "                   random_state=42, scoring=&#x27;accuracy&#x27;, verbose=3)</pre><b>In a Jupyter environment, please rerun this cell to show the HTML representation or trust the notebook. <br />On GitHub, the HTML representation is unable to render, please try loading this page with nbviewer.org.</b></div><div class=\"sk-container\" hidden><div class=\"sk-item sk-dashed-wrapped\"><div class=\"sk-label-container\"><div class=\"sk-label sk-toggleable\"><input class=\"sk-toggleable__control sk-hidden--visually\" id=\"sk-estimator-id-14\" type=\"checkbox\" ><label for=\"sk-estimator-id-14\" class=\"sk-toggleable__label sk-toggleable__label-arrow\">RandomizedSearchCV</label><div class=\"sk-toggleable__content\"><pre>RandomizedSearchCV(cv=5,\n",
       "                   estimator=XGBClassifier(base_score=0.5, booster=&#x27;gbtree&#x27;,\n",
       "                                           callbacks=None, colsample_bylevel=1,\n",
       "                                           colsample_bynode=1,\n",
       "                                           colsample_bytree=1,\n",
       "                                           early_stopping_rounds=None,\n",
       "                                           enable_categorical=False,\n",
       "                                           eval_metric=None, gamma=0, gpu_id=-1,\n",
       "                                           grow_policy=&#x27;depthwise&#x27;,\n",
       "                                           importance_type=None,\n",
       "                                           interaction_constraints=&#x27;&#x27;,\n",
       "                                           learning_rate=0.300000012,\n",
       "                                           max_bin=256,...\n",
       "                                           predictor=&#x27;auto&#x27;, random_state=0,\n",
       "                                           reg_alpha=0, reg_lambda=1, ...),\n",
       "                   n_jobs=-1,\n",
       "                   param_distributions={&#x27;colsample_bytree&#x27;: [0.6, 0.8, 1.0],\n",
       "                                        &#x27;gamma&#x27;: [0.1, 0.5, 1, 1.5, 5],\n",
       "                                        &#x27;learning_rate&#x27;: [0.01, 0.02, 0.05, 0.1,\n",
       "                                                          0.25],\n",
       "                                        &#x27;max_depth&#x27;: [3, 4, 5, 10],\n",
       "                                        &#x27;min_child_weight&#x27;: [1, 5, 7, 10],\n",
       "                                        &#x27;n_estimators&#x27;: [100, 200, 500, 750],\n",
       "                                        &#x27;subsample&#x27;: [0.6, 0.8, 1.0]},\n",
       "                   random_state=42, scoring=&#x27;accuracy&#x27;, verbose=3)</pre></div></div></div><div class=\"sk-parallel\"><div class=\"sk-parallel-item\"><div class=\"sk-item\"><div class=\"sk-label-container\"><div class=\"sk-label sk-toggleable\"><input class=\"sk-toggleable__control sk-hidden--visually\" id=\"sk-estimator-id-15\" type=\"checkbox\" ><label for=\"sk-estimator-id-15\" class=\"sk-toggleable__label sk-toggleable__label-arrow\">estimator: XGBClassifier</label><div class=\"sk-toggleable__content\"><pre>XGBClassifier(base_score=0.5, booster=&#x27;gbtree&#x27;, callbacks=None,\n",
       "              colsample_bylevel=1, colsample_bynode=1, colsample_bytree=1,\n",
       "              early_stopping_rounds=None, enable_categorical=False,\n",
       "              eval_metric=None, gamma=0, gpu_id=-1, grow_policy=&#x27;depthwise&#x27;,\n",
       "              importance_type=None, interaction_constraints=&#x27;&#x27;,\n",
       "              learning_rate=0.300000012, max_bin=256, max_cat_to_onehot=4,\n",
       "              max_delta_step=0, max_depth=6, max_leaves=0, min_child_weight=1,\n",
       "              missing=nan, monotone_constraints=&#x27;()&#x27;, n_estimators=100,\n",
       "              n_jobs=-1, num_parallel_tree=1, predictor=&#x27;auto&#x27;, random_state=0,\n",
       "              reg_alpha=0, reg_lambda=1, ...)</pre></div></div></div><div class=\"sk-serial\"><div class=\"sk-item\"><div class=\"sk-estimator sk-toggleable\"><input class=\"sk-toggleable__control sk-hidden--visually\" id=\"sk-estimator-id-16\" type=\"checkbox\" ><label for=\"sk-estimator-id-16\" class=\"sk-toggleable__label sk-toggleable__label-arrow\">XGBClassifier</label><div class=\"sk-toggleable__content\"><pre>XGBClassifier(base_score=0.5, booster=&#x27;gbtree&#x27;, callbacks=None,\n",
       "              colsample_bylevel=1, colsample_bynode=1, colsample_bytree=1,\n",
       "              early_stopping_rounds=None, enable_categorical=False,\n",
       "              eval_metric=None, gamma=0, gpu_id=-1, grow_policy=&#x27;depthwise&#x27;,\n",
       "              importance_type=None, interaction_constraints=&#x27;&#x27;,\n",
       "              learning_rate=0.300000012, max_bin=256, max_cat_to_onehot=4,\n",
       "              max_delta_step=0, max_depth=6, max_leaves=0, min_child_weight=1,\n",
       "              missing=nan, monotone_constraints=&#x27;()&#x27;, n_estimators=100,\n",
       "              n_jobs=-1, num_parallel_tree=1, predictor=&#x27;auto&#x27;, random_state=0,\n",
       "              reg_alpha=0, reg_lambda=1, ...)</pre></div></div></div></div></div></div></div></div></div></div>"
      ],
      "text/plain": [
       "RandomizedSearchCV(cv=5,\n",
       "                   estimator=XGBClassifier(base_score=0.5, booster='gbtree',\n",
       "                                           callbacks=None, colsample_bylevel=1,\n",
       "                                           colsample_bynode=1,\n",
       "                                           colsample_bytree=1,\n",
       "                                           early_stopping_rounds=None,\n",
       "                                           enable_categorical=False,\n",
       "                                           eval_metric=None, gamma=0, gpu_id=-1,\n",
       "                                           grow_policy='depthwise',\n",
       "                                           importance_type=None,\n",
       "                                           interaction_constraints='',\n",
       "                                           learning_rate=0.300000012,\n",
       "                                           max_bin=256,...\n",
       "                                           predictor='auto', random_state=0,\n",
       "                                           reg_alpha=0, reg_lambda=1, ...),\n",
       "                   n_jobs=-1,\n",
       "                   param_distributions={'colsample_bytree': [0.6, 0.8, 1.0],\n",
       "                                        'gamma': [0.1, 0.5, 1, 1.5, 5],\n",
       "                                        'learning_rate': [0.01, 0.02, 0.05, 0.1,\n",
       "                                                          0.25],\n",
       "                                        'max_depth': [3, 4, 5, 10],\n",
       "                                        'min_child_weight': [1, 5, 7, 10],\n",
       "                                        'n_estimators': [100, 200, 500, 750],\n",
       "                                        'subsample': [0.6, 0.8, 1.0]},\n",
       "                   random_state=42, scoring='accuracy', verbose=3)"
      ]
     },
     "execution_count": 163,
     "metadata": {},
     "output_type": "execute_result"
    }
   ],
   "source": [
    "random_search.fit(X_resampled, y_resampled)"
   ]
  },
  {
   "cell_type": "code",
   "execution_count": 164,
   "id": "7a10551a",
   "metadata": {},
   "outputs": [
    {
     "name": "stdout",
     "output_type": "stream",
     "text": [
      "\n",
      " Best estimator:\n",
      "XGBClassifier(base_score=0.5, booster='gbtree', callbacks=None,\n",
      "              colsample_bylevel=1, colsample_bynode=1, colsample_bytree=1.0,\n",
      "              early_stopping_rounds=None, enable_categorical=False,\n",
      "              eval_metric=None, gamma=0.5, gpu_id=-1, grow_policy='depthwise',\n",
      "              importance_type=None, interaction_constraints='',\n",
      "              learning_rate=0.1, max_bin=256, max_cat_to_onehot=4,\n",
      "              max_delta_step=0, max_depth=10, max_leaves=0, min_child_weight=1,\n",
      "              missing=nan, monotone_constraints='()', n_estimators=200,\n",
      "              n_jobs=-1, num_parallel_tree=1, predictor='auto', random_state=0,\n",
      "              reg_alpha=0, reg_lambda=1, ...)\n",
      "\n",
      " Best accuracy for 5-fold search with 10 parameter combinations:\n",
      "0.9623982235381199\n",
      "\n",
      " Best hyperparameters:\n",
      "{'subsample': 0.8, 'n_estimators': 200, 'min_child_weight': 1, 'max_depth': 10, 'learning_rate': 0.1, 'gamma': 0.5, 'colsample_bytree': 1.0}\n"
     ]
    }
   ],
   "source": [
    "print('\\n Best estimator:')\n",
    "print(random_search.best_estimator_)\n",
    "print('\\n Best accuracy for %d-fold search with %d parameter combinations:' % (folds, param_comb))\n",
    "print(random_search.best_score_ )\n",
    "print('\\n Best hyperparameters:')\n",
    "print(random_search.best_params_)"
   ]
  },
  {
   "cell_type": "code",
   "execution_count": 165,
   "id": "e162e587",
   "metadata": {},
   "outputs": [],
   "source": [
    "# Get our predictions\n",
    "xgb_predictions = random_search.predict(telecom_test_df_ori)"
   ]
  },
  {
   "cell_type": "code",
   "execution_count": 176,
   "id": "a41c589f",
   "metadata": {},
   "outputs": [
    {
     "data": {
      "text/plain": [
       "array([0.00220766, 0.00410148, 0.00262001, 0.00186586, 0.0044044 ,\n",
       "       0.00612055, 0.0018012 , 0.00173628, 0.00257267, 0.00442289,\n",
       "       0.00334501, 0.01695367, 0.00701632, 0.00855192, 0.07223155,\n",
       "       0.00378822, 0.00218879, 0.00595031, 0.00178333, 0.00175488,\n",
       "       0.0044186 , 0.00180771, 0.0028032 , 0.00453647, 0.00289235,\n",
       "       0.00497128, 0.00284835, 0.00148039, 0.00211889, 0.00494812,\n",
       "       0.00403132, 0.00428444, 0.00254736, 0.00252392, 0.00505378,\n",
       "       0.03109365, 0.00237628, 0.00495705, 0.003997  , 0.00230191,\n",
       "       0.00792306, 0.00350832, 0.0062364 , 0.00407462, 0.00997682,\n",
       "       0.00436903, 0.00786756, 0.00322456, 0.006385  , 0.        ,\n",
       "       0.00408892, 0.00283077, 0.00208943, 0.01532251, 0.00226766,\n",
       "       0.00362973, 0.00269362, 0.00141068, 0.00186222, 0.00201475,\n",
       "       0.00636779, 0.00186676, 0.01237054, 0.0042385 , 0.00493973,\n",
       "       0.00416887, 0.00453378, 0.00601589, 0.00173229, 0.00599949,\n",
       "       0.01208422, 0.00510818, 0.00688577, 0.00187078, 0.00652652,\n",
       "       0.00128236, 0.00224045, 0.00334324, 0.00154601, 0.00566903,\n",
       "       0.15337057, 0.00676375, 0.00981653, 0.01141299, 0.00660212,\n",
       "       0.00485562, 0.00647551, 0.00598063, 0.00299288, 0.00377188,\n",
       "       0.00367985, 0.00301327, 0.01468176, 0.0012214 , 0.00215619,\n",
       "       0.01365257, 0.00274802, 0.00420969, 0.0157303 , 0.00836771,\n",
       "       0.00629099, 0.02128854, 0.00807953, 0.00830839, 0.09100623,\n",
       "       0.00297834, 0.00360842, 0.01073273, 0.00196796, 0.00303513,\n",
       "       0.02108243, 0.00293674, 0.0062916 , 0.00389289, 0.00282144,\n",
       "       0.00167406, 0.00575692, 0.00128385, 0.00143913, 0.00419284,\n",
       "       0.00523789, 0.00705363, 0.00588602, 0.00602371, 0.00974256,\n",
       "       0.00190642, 0.00784979, 0.00551797, 0.00591927, 0.00244406,\n",
       "       0.0030825 , 0.00277001, 0.0044198 ], dtype=float32)"
      ]
     },
     "execution_count": 176,
     "metadata": {},
     "output_type": "execute_result"
    },
    {
     "name": "stdout",
     "output_type": "stream",
     "text": [
      "[CV 2/5] END colsample_bytree=0.8, gamma=0.1, learning_rate=0.1, max_depth=3, min_child_weight=5, n_estimators=100, subsample=1.0;, score=0.945 total time=  58.7s\n",
      "[CV 3/5] END colsample_bytree=0.8, gamma=0.1, learning_rate=0.1, max_depth=3, min_child_weight=5, n_estimators=100, subsample=1.0;, score=0.942 total time=  56.0s\n",
      "[CV 5/5] END colsample_bytree=0.8, gamma=0.1, learning_rate=0.1, max_depth=3, min_child_weight=5, n_estimators=100, subsample=1.0;, score=0.948 total time=  57.5s\n",
      "[CV 2/5] END colsample_bytree=1.0, gamma=1.5, learning_rate=0.25, max_depth=10, min_child_weight=7, n_estimators=100, subsample=1.0;, score=0.979 total time= 4.1min\n",
      "[CV 4/5] END colsample_bytree=0.8, gamma=0.1, learning_rate=0.05, max_depth=3, min_child_weight=1, n_estimators=500, subsample=0.8;, score=0.975 total time= 5.3min\n",
      "[CV 1/5] END colsample_bytree=0.8, gamma=0.1, learning_rate=0.25, max_depth=10, min_child_weight=5, n_estimators=750, subsample=0.8;, score=0.851 total time= 7.6min\n",
      "[CV 3/5] END colsample_bytree=0.6, gamma=0.1, learning_rate=0.05, max_depth=4, min_child_weight=7, n_estimators=750, subsample=0.8;, score=0.977 total time= 6.2min\n"
     ]
    }
   ],
   "source": [
    "xgb_cfl.feature_importances_"
   ]
  },
  {
   "cell_type": "code",
   "execution_count": 177,
   "id": "a909c66a",
   "metadata": {},
   "outputs": [
    {
     "name": "stdout",
     "output_type": "stream",
     "text": [
      "[CV 4/5] END colsample_bytree=0.6, gamma=0.1, learning_rate=0.25, max_depth=4, min_child_weight=10, n_estimators=500, subsample=1.0;, score=0.985 total time= 5.0min\n",
      "[CV 2/5] END colsample_bytree=0.8, gamma=0.1, learning_rate=0.05, max_depth=3, min_child_weight=1, n_estimators=500, subsample=0.8;, score=0.971 total time= 5.1min\n",
      "[CV 3/5] END colsample_bytree=1.0, gamma=1, learning_rate=0.05, max_depth=4, min_child_weight=5, n_estimators=100, subsample=0.6;, score=0.937 total time= 1.5min\n",
      "[CV 3/5] END colsample_bytree=1.0, gamma=0.5, learning_rate=0.1, max_depth=10, min_child_weight=1, n_estimators=200, subsample=0.8;, score=0.978 total time= 7.0min\n",
      "[CV 1/5] END colsample_bytree=0.8, gamma=0.5, learning_rate=0.05, max_depth=5, min_child_weight=7, n_estimators=100, subsample=0.8;, score=0.893 total time= 1.9min\n",
      "[CV 4/5] END colsample_bytree=0.6, gamma=0.1, learning_rate=0.05, max_depth=4, min_child_weight=7, n_estimators=750, subsample=0.8;, score=0.983 total time= 5.8min\n",
      "[CV 2/5] END colsample_bytree=0.6, gamma=0.1, learning_rate=0.25, max_depth=4, min_child_weight=10, n_estimators=500, subsample=1.0;, score=0.980 total time= 5.0min\n",
      "[CV 1/5] END colsample_bytree=0.8, gamma=0.1, learning_rate=0.05, max_depth=3, min_child_weight=1, n_estimators=500, subsample=0.8;, score=0.863 total time= 5.2min\n",
      "[CV 4/5] END colsample_bytree=1.0, gamma=1, learning_rate=0.05, max_depth=4, min_child_weight=5, n_estimators=100, subsample=0.6;, score=0.947 total time= 1.5min\n",
      "[CV 4/5] END colsample_bytree=1.0, gamma=0.5, learning_rate=0.1, max_depth=10, min_child_weight=1, n_estimators=200, subsample=0.8;, score=0.985 total time= 7.0min\n",
      "[CV 2/5] END colsample_bytree=0.8, gamma=0.5, learning_rate=0.05, max_depth=5, min_child_weight=7, n_estimators=100, subsample=0.8;, score=0.953 total time= 1.9min\n",
      "[CV 5/5] END colsample_bytree=0.6, gamma=0.1, learning_rate=0.05, max_depth=4, min_child_weight=7, n_estimators=750, subsample=0.8;, score=0.983 total time= 5.8min\n",
      "[CV 1/5] END colsample_bytree=0.8, gamma=1, learning_rate=0.05, max_depth=10, min_child_weight=5, n_estimators=750, subsample=0.8;, score=0.863 total time=16.6min\n",
      "[CV 3/5] END colsample_bytree=0.8, gamma=0.1, learning_rate=0.25, max_depth=10, min_child_weight=5, n_estimators=750, subsample=0.8;, score=0.982 total time= 9.9min\n"
     ]
    }
   ],
   "source": [
    "imp_df = pd.DataFrame({\n",
    "    \"Varname\": X_train.columns,\n",
    "    \"Imp\": rf_best.feature_importances_\n",
    "})"
   ]
  },
  {
   "cell_type": "code",
   "execution_count": 179,
   "id": "f6685cc3",
   "metadata": {},
   "outputs": [
    {
     "data": {
      "text/html": [
       "<div>\n",
       "<style scoped>\n",
       "    .dataframe tbody tr th:only-of-type {\n",
       "        vertical-align: middle;\n",
       "    }\n",
       "\n",
       "    .dataframe tbody tr th {\n",
       "        vertical-align: top;\n",
       "    }\n",
       "\n",
       "    .dataframe thead th {\n",
       "        text-align: right;\n",
       "    }\n",
       "</style>\n",
       "<table border=\"1\" class=\"dataframe\">\n",
       "  <thead>\n",
       "    <tr style=\"text-align: right;\">\n",
       "      <th></th>\n",
       "      <th>Varname</th>\n",
       "      <th>Imp</th>\n",
       "    </tr>\n",
       "  </thead>\n",
       "  <tbody>\n",
       "    <tr>\n",
       "      <th>80</th>\n",
       "      <td>total_ic_mou_8</td>\n",
       "      <td>0.088657</td>\n",
       "    </tr>\n",
       "    <tr>\n",
       "      <th>14</th>\n",
       "      <td>roam_og_mou_8</td>\n",
       "      <td>0.049474</td>\n",
       "    </tr>\n",
       "    <tr>\n",
       "      <th>11</th>\n",
       "      <td>roam_ic_mou_8</td>\n",
       "      <td>0.049095</td>\n",
       "    </tr>\n",
       "    <tr>\n",
       "      <th>104</th>\n",
       "      <td>total_rech_data_8</td>\n",
       "      <td>0.049089</td>\n",
       "    </tr>\n",
       "    <tr>\n",
       "      <th>59</th>\n",
       "      <td>loc_ic_t2m_mou_8</td>\n",
       "      <td>0.048521</td>\n",
       "    </tr>\n",
       "    <tr>\n",
       "      <th>65</th>\n",
       "      <td>loc_ic_mou_8</td>\n",
       "      <td>0.040730</td>\n",
       "    </tr>\n",
       "    <tr>\n",
       "      <th>95</th>\n",
       "      <td>total_rech_amt_8</td>\n",
       "      <td>0.039401</td>\n",
       "    </tr>\n",
       "    <tr>\n",
       "      <th>101</th>\n",
       "      <td>last_day_rch_amt_8</td>\n",
       "      <td>0.039392</td>\n",
       "    </tr>\n",
       "    <tr>\n",
       "      <th>107</th>\n",
       "      <td>max_rech_data_8</td>\n",
       "      <td>0.038413</td>\n",
       "    </tr>\n",
       "    <tr>\n",
       "      <th>29</th>\n",
       "      <td>loc_og_mou_8</td>\n",
       "      <td>0.034244</td>\n",
       "    </tr>\n",
       "    <tr>\n",
       "      <th>53</th>\n",
       "      <td>total_og_mou_8</td>\n",
       "      <td>0.022612</td>\n",
       "    </tr>\n",
       "    <tr>\n",
       "      <th>110</th>\n",
       "      <td>av_rech_amt_data_8</td>\n",
       "      <td>0.021985</td>\n",
       "    </tr>\n",
       "    <tr>\n",
       "      <th>56</th>\n",
       "      <td>loc_ic_t2t_mou_8</td>\n",
       "      <td>0.020450</td>\n",
       "    </tr>\n",
       "    <tr>\n",
       "      <th>2</th>\n",
       "      <td>arpu_8</td>\n",
       "      <td>0.020440</td>\n",
       "    </tr>\n",
       "    <tr>\n",
       "      <th>92</th>\n",
       "      <td>total_rech_num_8</td>\n",
       "      <td>0.020015</td>\n",
       "    </tr>\n",
       "  </tbody>\n",
       "</table>\n",
       "</div>"
      ],
      "text/plain": [
       "                Varname       Imp\n",
       "80       total_ic_mou_8  0.088657\n",
       "14        roam_og_mou_8  0.049474\n",
       "11        roam_ic_mou_8  0.049095\n",
       "104   total_rech_data_8  0.049089\n",
       "59     loc_ic_t2m_mou_8  0.048521\n",
       "65         loc_ic_mou_8  0.040730\n",
       "95     total_rech_amt_8  0.039401\n",
       "101  last_day_rch_amt_8  0.039392\n",
       "107     max_rech_data_8  0.038413\n",
       "29         loc_og_mou_8  0.034244\n",
       "53       total_og_mou_8  0.022612\n",
       "110  av_rech_amt_data_8  0.021985\n",
       "56     loc_ic_t2t_mou_8  0.020450\n",
       "2                arpu_8  0.020440\n",
       "92     total_rech_num_8  0.020015"
      ]
     },
     "execution_count": 179,
     "metadata": {},
     "output_type": "execute_result"
    },
    {
     "name": "stdout",
     "output_type": "stream",
     "text": [
      "[CV 3/5] END colsample_bytree=0.6, gamma=0.1, learning_rate=0.25, max_depth=4, min_child_weight=10, n_estimators=500, subsample=1.0;, score=0.979 total time= 5.0min\n",
      "[CV 4/5] END colsample_bytree=1.0, gamma=1.5, learning_rate=0.25, max_depth=10, min_child_weight=7, n_estimators=100, subsample=1.0;, score=0.984 total time= 4.0min\n",
      "[CV 2/5] END colsample_bytree=1.0, gamma=1, learning_rate=0.05, max_depth=4, min_child_weight=5, n_estimators=100, subsample=0.6;, score=0.942 total time= 1.5min\n",
      "[CV 1/5] END colsample_bytree=1.0, gamma=0.5, learning_rate=0.1, max_depth=10, min_child_weight=1, n_estimators=200, subsample=0.8;, score=0.886 total time= 6.8min\n",
      "[CV 4/5] END colsample_bytree=0.8, gamma=0.1, learning_rate=0.25, max_depth=10, min_child_weight=5, n_estimators=750, subsample=0.8;, score=0.985 total time= 9.5min\n",
      "[CV 1/5] END colsample_bytree=0.8, gamma=0.1, learning_rate=0.1, max_depth=3, min_child_weight=5, n_estimators=100, subsample=1.0;, score=0.885 total time=  59.4s\n",
      "[CV 4/5] END colsample_bytree=0.8, gamma=0.1, learning_rate=0.1, max_depth=3, min_child_weight=5, n_estimators=100, subsample=1.0;, score=0.952 total time=  56.2s\n",
      "[CV 1/5] END colsample_bytree=1.0, gamma=1.5, learning_rate=0.25, max_depth=10, min_child_weight=7, n_estimators=100, subsample=1.0;, score=0.866 total time= 3.7min\n",
      "[CV 3/5] END colsample_bytree=0.8, gamma=0.1, learning_rate=0.05, max_depth=3, min_child_weight=1, n_estimators=500, subsample=0.8;, score=0.968 total time= 5.2min\n",
      "[CV 2/5] END colsample_bytree=1.0, gamma=0.5, learning_rate=0.1, max_depth=10, min_child_weight=1, n_estimators=200, subsample=0.8;, score=0.981 total time= 7.1min\n",
      "[CV 5/5] END colsample_bytree=0.8, gamma=0.1, learning_rate=0.25, max_depth=10, min_child_weight=5, n_estimators=750, subsample=0.8;, score=0.984 total time= 9.2min\n"
     ]
    }
   ],
   "source": [
    "imp_df.sort_values(by=\"Imp\", ascending=False).head(15)"
   ]
  },
  {
   "cell_type": "code",
   "execution_count": 166,
   "id": "ca2ca1d5",
   "metadata": {},
   "outputs": [
    {
     "data": {
      "text/plain": [
       "array([[0.99843574, 0.00156429],\n",
       "       [0.99668586, 0.00331413],\n",
       "       [0.14033014, 0.85966986],\n",
       "       ...,\n",
       "       [0.91672385, 0.08327617],\n",
       "       [0.96475315, 0.03524682],\n",
       "       [0.9887054 , 0.01129462]], dtype=float32)"
      ]
     },
     "execution_count": 166,
     "metadata": {},
     "output_type": "execute_result"
    }
   ],
   "source": [
    "xgb_predictions_prob = random_search.predict_proba(telecom_test_df_ori)\n",
    "xgb_predictions_prob"
   ]
  },
  {
   "cell_type": "code",
   "execution_count": 167,
   "id": "f317ad02",
   "metadata": {},
   "outputs": [
    {
     "data": {
      "text/plain": [
       "(30000, 2)"
      ]
     },
     "execution_count": 167,
     "metadata": {},
     "output_type": "execute_result"
    }
   ],
   "source": [
    "xgb_predictions_prob.shape"
   ]
  },
  {
   "cell_type": "code",
   "execution_count": 168,
   "id": "eb06cfe2",
   "metadata": {},
   "outputs": [
    {
     "data": {
      "text/plain": [
       "0.9335333333333333"
      ]
     },
     "execution_count": 168,
     "metadata": {},
     "output_type": "execute_result"
    }
   ],
   "source": [
    "accuracy_score(telecom_test_sol_df.churn_probability, xgb_predictions)"
   ]
  },
  {
   "cell_type": "code",
   "execution_count": 169,
   "id": "9eecd52d",
   "metadata": {},
   "outputs": [],
   "source": [
    "confusion = metrics.confusion_matrix(telecom_test_sol_df.churn_probability, xgb_predictions)"
   ]
  },
  {
   "cell_type": "code",
   "execution_count": 170,
   "id": "078503ef",
   "metadata": {},
   "outputs": [
    {
     "name": "stdout",
     "output_type": "stream",
     "text": [
      "confusion matrix: \n",
      "[[25991   950]\n",
      " [ 1044  2015]]\n",
      "Accuracy:  0.9335333333333333\n",
      "Precision:  0.6795952782462057\n",
      "Recall:  0.6587119973847663\n",
      "F1_score:  0.6689907038512616\n"
     ]
    }
   ],
   "source": [
    "print('confusion matrix: ')\n",
    "print(confusion)\n",
    "TP = confusion[1, 1]\n",
    "TN = confusion[0, 0]\n",
    "FP = confusion[0, 1]\n",
    "FN = confusion[1, 0]\n",
    "accuracy = (TN+TP)/(TN+TP+FN+FP)\n",
    "print('Accuracy: ', accuracy)\n",
    "precision = TP / (TP+FP)\n",
    "print('Precision: ', precision)\n",
    "recall = TP / (TP+FN)\n",
    "print('Recall: ', recall)\n",
    "f1_score = 2*precision*recall/(precision+recall)\n",
    "print('F1_score: ', f1_score)"
   ]
  },
  {
   "cell_type": "code",
   "execution_count": 171,
   "id": "63dd49d5",
   "metadata": {},
   "outputs": [],
   "source": [
    "metrics_dict['XGBoost_test'] = {\n",
    "                           'Accuracy': accuracy, \n",
    "                           'Precision':precision, \n",
    "                           'Recall': recall, \n",
    "                           'F1 Score': f1_score, \n",
    "                          }"
   ]
  },
  {
   "cell_type": "markdown",
   "id": "683b3ed0",
   "metadata": {},
   "source": [
    "### We can see both accuracy and recall are better for XGBoost model without any hyper paramter tuning."
   ]
  },
  {
   "cell_type": "markdown",
   "id": "f75ad45a",
   "metadata": {},
   "source": [
    "### Let's see the metrics_dict now to tell which model is performing best on the given test dataset."
   ]
  },
  {
   "cell_type": "code",
   "execution_count": 172,
   "id": "945de36a",
   "metadata": {},
   "outputs": [
    {
     "data": {
      "text/plain": [
       "{'Logistic_rfe_test': {'Accuracy': 0.8119333333333333,\n",
       "  'Precision': 0.335582431572247,\n",
       "  'Recall': 0.8617195161817588,\n",
       "  'F1 Score': 0.4830492944841488},\n",
       " 'Logistic_pca_test': {'Accuracy': 0.6912,\n",
       "  'Precision': 0.2321968062149331,\n",
       "  'Recall': 0.8793723439032364,\n",
       "  'F1 Score': 0.36738596012018576},\n",
       " 'RandomForest_test': {'Accuracy': 0.9137333333333333,\n",
       "  'Precision': 0.5576781778104335,\n",
       "  'Recall': 0.7443609022556391,\n",
       "  'F1 Score': 0.6376365163819658},\n",
       " 'XGBoost_test': {'Accuracy': 0.9335333333333333,\n",
       "  'Precision': 0.6795952782462057,\n",
       "  'Recall': 0.6587119973847663,\n",
       "  'F1 Score': 0.6689907038512616}}"
      ]
     },
     "execution_count": 172,
     "metadata": {},
     "output_type": "execute_result"
    }
   ],
   "source": [
    "metrics_dict"
   ]
  },
  {
   "cell_type": "markdown",
   "id": "7140f67b",
   "metadata": {},
   "source": [
    "## Looking at all the models we think Logistic Regression with RFE is best here as it gives better Acccuracy and Recall."
   ]
  },
  {
   "cell_type": "markdown",
   "id": "aa6117fa",
   "metadata": {},
   "source": [
    "## Top 15 features for Logistic Regression with RFE is"
   ]
  },
  {
   "cell_type": "code",
   "execution_count": 173,
   "id": "01756c21",
   "metadata": {},
   "outputs": [
    {
     "data": {
      "text/plain": [
       "['std_ic_mou_8',\n",
       " 'loc_og_t2t_mou_8',\n",
       " 'loc_og_t2m_mou_8',\n",
       " 'loc_og_t2f_mou_8',\n",
       " 'loc_ic_t2m_mou_8',\n",
       " 'loc_ic_t2t_mou_8',\n",
       " 'loc_ic_t2f_mou_8',\n",
       " 'arpu_8',\n",
       " 'std_og_mou_8',\n",
       " 'std_og_t2m_mou_8',\n",
       " 'roam_og_mou_8',\n",
       " 'loc_ic_mou_7',\n",
       " 'total_og_mou_7',\n",
       " 'std_og_mou_7',\n",
       " 'max_rech_amt_8',\n",
       " 'roam_og_mou_7',\n",
       " 'arpu_7',\n",
       " 'max_rech_data_6',\n",
       " 'arpu_6',\n",
       " 'total_ic_mou_8',\n",
       " 'std_ic_t2t_mou_6',\n",
       " 'total_rech_num_7',\n",
       " 'total_rech_data_6',\n",
       " 'loc_ic_t2m_mou_6',\n",
       " 'loc_ic_mou_6']"
      ]
     },
     "execution_count": 173,
     "metadata": {},
     "output_type": "execute_result"
    },
    {
     "name": "stdout",
     "output_type": "stream",
     "text": [
      "[CV 1/5] END colsample_bytree=0.6, gamma=0.1, learning_rate=0.25, max_depth=4, min_child_weight=10, n_estimators=500, subsample=1.0;, score=0.827 total time= 4.4min\n",
      "[CV 3/5] END colsample_bytree=1.0, gamma=1.5, learning_rate=0.25, max_depth=10, min_child_weight=7, n_estimators=100, subsample=1.0;, score=0.979 total time= 3.9min\n",
      "[CV 5/5] END colsample_bytree=0.8, gamma=0.1, learning_rate=0.05, max_depth=3, min_child_weight=1, n_estimators=500, subsample=0.8;, score=0.972 total time= 5.2min\n",
      "[CV 2/5] END colsample_bytree=0.8, gamma=0.1, learning_rate=0.25, max_depth=10, min_child_weight=5, n_estimators=750, subsample=0.8;, score=0.979 total time=10.6min\n"
     ]
    }
   ],
   "source": [
    "top_feature_lg_rfe"
   ]
  },
  {
   "cell_type": "code",
   "execution_count": null,
   "id": "61818030",
   "metadata": {},
   "outputs": [],
   "source": []
  }
 ],
 "metadata": {
  "kernelspec": {
   "display_name": "Python 3 (ipykernel)",
   "language": "python",
   "name": "python3"
  },
  "language_info": {
   "codemirror_mode": {
    "name": "ipython",
    "version": 3
   },
   "file_extension": ".py",
   "mimetype": "text/x-python",
   "name": "python",
   "nbconvert_exporter": "python",
   "pygments_lexer": "ipython3",
   "version": "3.9.7"
  }
 },
 "nbformat": 4,
 "nbformat_minor": 5
}
